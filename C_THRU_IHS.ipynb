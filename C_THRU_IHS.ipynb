{
  "nbformat": 4,
  "nbformat_minor": 0,
  "metadata": {
    "colab": {
      "name": "C-THRU-IHS.ipynb",
      "provenance": [],
      "authorship_tag": "ABX9TyMco2qPrYWMQcLtr0GfIWi7",
      "include_colab_link": true
    },
    "kernelspec": {
      "name": "python3",
      "display_name": "Python 3"
    },
    "language_info": {
      "name": "python"
    }
  },
  "cells": [
    {
      "cell_type": "markdown",
      "metadata": {
        "id": "view-in-github",
        "colab_type": "text"
      },
      "source": [
        "<a href=\"https://colab.research.google.com/github/luke-scot/emissions-tracking/blob/main/C_THRU_IHS.ipynb\" target=\"_parent\"><img src=\"https://colab.research.google.com/assets/colab-badge.svg\" alt=\"Open In Colab\"/></a>"
      ]
    },
    {
      "cell_type": "code",
      "execution_count": 2,
      "metadata": {
        "id": "Pd6rX_5ee1D8"
      },
      "outputs": [],
      "source": [
        "import pandas\n",
        "import gdown\n",
        "import pyarrow"
      ]
    },
    {
      "cell_type": "code",
      "source": [
        "%%capture\n",
        "\"\"\"Import example data\"\"\"\n",
        "# Import packages\n",
        "import gdown, os\n",
        "from google.colab import files\n",
        "\n",
        "# Import and unzip files -> You can then view them in the left files panel\n",
        "folder, zip_path = 'example_data', 'example_data.zip'\n",
        "if not os.path.exists(folder): \n",
        "  gdown.download('https://drive.google.com/uc?id=1qriY29v7eKJIs07UxAw5RlJirfwuLnyP', zip_path ,quiet=True)\n",
        "  ! unzip $zip_path -d 'example_data'\n",
        "  ! rm $zip_path"
      ],
      "metadata": {
        "id": "-hlk9Ch5e9ey"
      },
      "execution_count": null,
      "outputs": []
    }
  ]
}