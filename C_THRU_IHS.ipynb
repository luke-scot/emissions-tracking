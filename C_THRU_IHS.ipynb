{
  "nbformat": 4,
  "nbformat_minor": 0,
  "metadata": {
    "colab": {
      "name": "C-THRU-IHS.ipynb",
      "provenance": [],
      "authorship_tag": "ABX9TyPRgSThrkp8900r6w/8ZDqy",
      "include_colab_link": true
    },
    "kernelspec": {
      "name": "python3",
      "display_name": "Python 3"
    },
    "language_info": {
      "name": "python"
    }
  },
  "cells": [
    {
      "cell_type": "markdown",
      "metadata": {
        "id": "view-in-github",
        "colab_type": "text"
      },
      "source": [
        "<a href=\"https://colab.research.google.com/github/luke-scot/emissions-tracking/blob/main/C_THRU_IHS.ipynb\" target=\"_parent\"><img src=\"https://colab.research.google.com/assets/colab-badge.svg\" alt=\"Open In Colab\"/></a>"
      ]
    },
    {
      "cell_type": "markdown",
      "source": [
        "# C-THRU IHS data\n",
        "Notebook for interacting with IHS Markit data. Please modify and save your own copies depending on what you wish to do with the data but you must keep it within the C-THRU project. If you have any issues please contact Luke at lshc3@cam.ac.uk.\n",
        "\n",
        "Currently access to first 1,000 products of a total of 8,790 due to download restrictions."
      ],
      "metadata": {
        "id": "wbtLPYA4nadA"
      }
    },
    {
      "cell_type": "code",
      "source": [
        "#@title Run this cell to set up notebook\n",
        "\n",
        "%%capture\n",
        "import gdown, os\n",
        "import pyarrow\n",
        "import pandas as pd\n",
        "import ipywidgets as ipw\n",
        "from google.colab import files\n",
        "from ipywidgets.widgets.widget_layout import Layout\n",
        "\n",
        "class IHS_data(object):\n",
        "  def __init__(self) -> None:\n",
        "      self.folder, self.zip = 'data', 'data.zip'\n",
        "      if not os.path.exists(self.folder): \n",
        "        gdown.download('https://drive.google.com/uc?id=1jrJGRls3YfDNjp6V4ovJtoeX0W0IgmMu', self.zip ,quiet=True)\n",
        "        ! unzip $self.zip -d $self.folder\n",
        "        ! rm $self.zip\n",
        "      self.products = pd.read_feather('data/products.feather')\n",
        "      self.materials = pd.read_feather('data/materials.feather')\n",
        "      self.properties = ['Name','Geography','Process']\n",
        "      self.matProperties = ['Code', 'Type']\n",
        "\n",
        "def filter_display(data, properties):\n",
        "  sel = ipw.HBox([ipw.SelectMultiple(options=['Any']+list(data[prop].unique()), value=('Any',), rows=10,description=prop, disabled=False, layout=Layout(width='500px')) for prop in properties])\n",
        "  display(sel)\n",
        "  return sel\n",
        "\n",
        "def display_data(data,selections,show=True):\n",
        "  if type(selections) is not list: selections = [selections]\n",
        "  for selects in selections:\n",
        "    for num, sels in enumerate(selects.children):\n",
        "      if sels.value != ('Any',):\n",
        "        data = data[[i in list(sels.value) for i in data[sels.description].values]]\n",
        "  if show: display(data)\n",
        "  return data\n",
        "\n",
        "IHS = IHS_data()"
      ],
      "metadata": {
        "id": "-hlk9Ch5e9ey",
        "cellView": "form"
      },
      "execution_count": 1,
      "outputs": []
    },
    {
      "cell_type": "code",
      "source": [
        "# Product selection\n",
        "selections = filter_display(IHS.products,IHS.properties)"
      ],
      "metadata": {
        "id": "YNk2aWED6zWP"
      },
      "execution_count": null,
      "outputs": []
    },
    {
      "cell_type": "code",
      "source": [
        "# Show products\n",
        "products = display_data(IHS.products,selections)"
      ],
      "metadata": {
        "id": "KCDAnYZ7kngd"
      },
      "execution_count": null,
      "outputs": []
    },
    {
      "cell_type": "code",
      "source": [
        "# Material selection\n",
        "components = filter_display(IHS.materials,IHS.matProperties)"
      ],
      "metadata": {
        "id": "of7qvvcip2nO"
      },
      "execution_count": null,
      "outputs": []
    },
    {
      "cell_type": "code",
      "source": [
        "# Show materials\n",
        "materials = display_data(IHS.materials,[selections,components])"
      ],
      "metadata": {
        "id": "s2vLuFotkp7l"
      },
      "execution_count": null,
      "outputs": []
    },
    {
      "cell_type": "code",
      "source": [
        "# Save results to csv files\n",
        "productFile, materialsFile = 'products.csv', 'materials.csv'\n",
        "products.to_csv(productFile), materials.to_csv(materialsFile)\n",
        "download = [files.download(f) for f in [productFile, materialsFile]]"
      ],
      "metadata": {
        "id": "0ul5i6wah37O"
      },
      "execution_count": null,
      "outputs": []
    }
  ]
}