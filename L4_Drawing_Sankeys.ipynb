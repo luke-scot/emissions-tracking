{
  "cells": [
    {
      "cell_type": "markdown",
      "metadata": {
        "id": "view-in-github",
        "colab_type": "text"
      },
      "source": [
        "<a href=\"https://colab.research.google.com/github/luke-scot/emissions-tracking/blob/main/L4_Drawing_Sankeys.ipynb\" target=\"_parent\"><img src=\"https://colab.research.google.com/assets/colab-badge.svg\" alt=\"Open In Colab\"/></a>"
      ]
    },
    {
      "cell_type": "markdown",
      "metadata": {
        "id": "H7SRgDxZVrwr"
      },
      "source": [
        "# L4 Drawing Sankey Diagrams - Workshop\n",
        "\n",
        "This workshop is broken down into 3 parts to get you familiar with building Sankey diagrams:\n",
        "- Part 1 - SankeyMATIC online Sankey tool\n",
        "- Part 2 - `floweaver` tutorial for Sankeys in Python\n",
        "- Part 3 - Putting into practice exercises\n",
        "\n"
      ]
    },
    {
      "cell_type": "markdown",
      "source": [
        "## 1 - SankeyMATIC\n",
        "\n",
        "SankeyMATICis an online Sankey drawing software, which  builds on the open source tool D3.js and its Sankey library. SankeyMATIC unlocks the capabilities of the D3 Sankey tool for anyone to use."
      ],
      "metadata": {
        "id": "e--1ITMWIHdm"
      }
    },
    {
      "cell_type": "markdown",
      "source": [
        "\n",
        "\n",
        "1.   Open SankeyMATIC in a web browser: http://sankeymatic.com \n",
        "  -  Read the home page, and spend some time playing with the example in the \"Build a Sankey Diagram\" tab, including understanding what each of the functionally options does.\n",
        "2.   Run the following cells to first import the example data used throughout this notebook and second download a file called `us-energy-consumption.csv`. This will appear in your Downloads folder, please then open this file.\n",
        "\n"
      ],
      "metadata": {
        "id": "ihROOmrNIvF_"
      }
    },
    {
      "cell_type": "code",
      "source": [
        "%%capture\n",
        "\"\"\"Import example data and download us-energy consumption\"\"\"\n",
        "# Import packages\n",
        "import gdown, os\n",
        "from google.colab import files\n",
        "\n",
        "# Import and unzip files -> You can then view them in the left files panel\n",
        "folder, zip_path = 'example_data', 'example_data.zip'\n",
        "if not os.path.exists(folder): \n",
        "  gdown.download('https://drive.google.com/uc?id=1qriY29v7eKJIs07UxAw5RlJirfwuLnyP', zip_path ,quiet=True)\n",
        "  ! unzip $zip_path -d 'example_data'\n",
        "  ! rm $zip_path"
      ],
      "metadata": {
        "id": "Wm6N6vusKBht"
      },
      "execution_count": null,
      "outputs": []
    },
    {
      "cell_type": "code",
      "source": [
        "\"\"\"Download us-energy-consumption file\"\"\"\n",
        "files.download('example_data/us-energy-consumption.csv')"
      ],
      "metadata": {
        "id": "Cui6IGKgPPfV"
      },
      "execution_count": null,
      "outputs": []
    },
    {
      "cell_type": "markdown",
      "source": [
        "3.   In the `us-energy-consumption.csv` convert the data into the form \"source [value] target\" required for SankeyMATIC. (Hint: use the CONCATENATE function in Excel.)  \n",
        "4.   Paste the data into SankeyMATIC and \"Preview\". This example is based on the [Sankey diagrams of US energy consumption from the Lawrence Livermore National Laboratory](https://flowcharts.llnl.gov/content/assets/images/energy/us/Energy_US_2019.png).  Play with the functions in SankeyMATIC, including dragging the flows, to get it to look like the LLNL example.  Take a screen shot.  \n",
        "5. Make a note of some of the frustrations you have using this online tool.  \n",
        "\n",
        "\n",
        "\n",
        "---\n",
        "\n"
      ],
      "metadata": {
        "id": "B7QC2CTgPYg9"
      }
    },
    {
      "cell_type": "markdown",
      "source": [
        "##2 - Using `floweaver`\n",
        "\n",
        "floWeaver was developed by Dr Richard Lupton, while he was a Research Associate at Cambridge. The software is designed for researchers who need much more flexibility and control when drawing Sankey diagrams.  \n"
      ],
      "metadata": {
        "id": "IfoX4AdwhfCN"
      }
    },
    {
      "cell_type": "markdown",
      "source": [
        "###A - Floweaver basics\n",
        "Let's get you up and running with some basic Sankeys."
      ],
      "metadata": {
        "id": "lfKZ0f_DIeM0"
      }
    },
    {
      "cell_type": "markdown",
      "source": [
        "Run these first two cells to install the package and set up the notebook to display Sankeys."
      ],
      "metadata": {
        "id": "6AR0uUn6L95R"
      }
    },
    {
      "cell_type": "code",
      "source": [
        "%%capture\n",
        "\"\"\"Installation and downloads\"\"\"\n",
        "# Install floweaver and display widget packages\n",
        "%pip install floweaver ipysankeywidget\n",
        "\n",
        "# Import necessary packages\n",
        "import pandas as pd\n",
        "from floweaver import *\n",
        "from ipysankeywidget import SankeyWidget"
      ],
      "metadata": {
        "id": "jud182GVV3Qz"
      },
      "execution_count": null,
      "outputs": []
    },
    {
      "cell_type": "code",
      "source": [
        "\"\"\"Display setup\"\"\"\n",
        "# Enable widget display for Sankeys in Colab\n",
        "from google.colab import output\n",
        "output.enable_custom_widget_manager()"
      ],
      "metadata": {
        "id": "6l4vjtQA2Q_1"
      },
      "execution_count": null,
      "outputs": []
    },
    {
      "cell_type": "markdown",
      "source": [
        "Let's start by considering a simple dataset. Imagine we have some farms, which grow apples and bananas to sell to a few different customers. We can describe the *flow* of fruit from the farms (the *source* of the flow) to the customers (the *target* of the flow)."
      ],
      "metadata": {
        "id": "81zN2cO6Q7Fy"
      }
    },
    {
      "cell_type": "code",
      "execution_count": null,
      "metadata": {
        "colab": {
          "base_uri": "https://localhost:8080/",
          "height": 332
        },
        "id": "yXh4cRS2Vrwu",
        "outputId": "144f4288-d3cd-46c9-a86f-f6646347095e"
      },
      "outputs": [
        {
          "output_type": "display_data",
          "data": {
            "text/html": [
              "\n",
              "  <div id=\"df-a760dfcd-a961-4e16-a005-d107f564a545\">\n",
              "    <div class=\"colab-df-container\">\n",
              "      <div>\n",
              "<style scoped>\n",
              "    .dataframe tbody tr th:only-of-type {\n",
              "        vertical-align: middle;\n",
              "    }\n",
              "\n",
              "    .dataframe tbody tr th {\n",
              "        vertical-align: top;\n",
              "    }\n",
              "\n",
              "    .dataframe thead th {\n",
              "        text-align: right;\n",
              "    }\n",
              "</style>\n",
              "<table border=\"1\" class=\"dataframe\">\n",
              "  <thead>\n",
              "    <tr style=\"text-align: right;\">\n",
              "      <th></th>\n",
              "      <th>source</th>\n",
              "      <th>target</th>\n",
              "      <th>type</th>\n",
              "      <th>value</th>\n",
              "    </tr>\n",
              "  </thead>\n",
              "  <tbody>\n",
              "    <tr>\n",
              "      <th>0</th>\n",
              "      <td>farm1</td>\n",
              "      <td>Mary</td>\n",
              "      <td>apples</td>\n",
              "      <td>5</td>\n",
              "    </tr>\n",
              "    <tr>\n",
              "      <th>1</th>\n",
              "      <td>farm1</td>\n",
              "      <td>James</td>\n",
              "      <td>apples</td>\n",
              "      <td>3</td>\n",
              "    </tr>\n",
              "    <tr>\n",
              "      <th>2</th>\n",
              "      <td>farm2</td>\n",
              "      <td>Fred</td>\n",
              "      <td>apples</td>\n",
              "      <td>10</td>\n",
              "    </tr>\n",
              "    <tr>\n",
              "      <th>3</th>\n",
              "      <td>farm2</td>\n",
              "      <td>Fred</td>\n",
              "      <td>bananas</td>\n",
              "      <td>10</td>\n",
              "    </tr>\n",
              "    <tr>\n",
              "      <th>4</th>\n",
              "      <td>farm2</td>\n",
              "      <td>Susan</td>\n",
              "      <td>bananas</td>\n",
              "      <td>5</td>\n",
              "    </tr>\n",
              "    <tr>\n",
              "      <th>5</th>\n",
              "      <td>farm3</td>\n",
              "      <td>Susan</td>\n",
              "      <td>apples</td>\n",
              "      <td>10</td>\n",
              "    </tr>\n",
              "    <tr>\n",
              "      <th>6</th>\n",
              "      <td>farm4</td>\n",
              "      <td>Susan</td>\n",
              "      <td>bananas</td>\n",
              "      <td>1</td>\n",
              "    </tr>\n",
              "    <tr>\n",
              "      <th>7</th>\n",
              "      <td>farm5</td>\n",
              "      <td>Susan</td>\n",
              "      <td>bananas</td>\n",
              "      <td>1</td>\n",
              "    </tr>\n",
              "    <tr>\n",
              "      <th>8</th>\n",
              "      <td>farm6</td>\n",
              "      <td>Susan</td>\n",
              "      <td>bananas</td>\n",
              "      <td>1</td>\n",
              "    </tr>\n",
              "  </tbody>\n",
              "</table>\n",
              "</div>\n",
              "      <button class=\"colab-df-convert\" onclick=\"convertToInteractive('df-a760dfcd-a961-4e16-a005-d107f564a545')\"\n",
              "              title=\"Convert this dataframe to an interactive table.\"\n",
              "              style=\"display:none;\">\n",
              "        \n",
              "  <svg xmlns=\"http://www.w3.org/2000/svg\" height=\"24px\"viewBox=\"0 0 24 24\"\n",
              "       width=\"24px\">\n",
              "    <path d=\"M0 0h24v24H0V0z\" fill=\"none\"/>\n",
              "    <path d=\"M18.56 5.44l.94 2.06.94-2.06 2.06-.94-2.06-.94-.94-2.06-.94 2.06-2.06.94zm-11 1L8.5 8.5l.94-2.06 2.06-.94-2.06-.94L8.5 2.5l-.94 2.06-2.06.94zm10 10l.94 2.06.94-2.06 2.06-.94-2.06-.94-.94-2.06-.94 2.06-2.06.94z\"/><path d=\"M17.41 7.96l-1.37-1.37c-.4-.4-.92-.59-1.43-.59-.52 0-1.04.2-1.43.59L10.3 9.45l-7.72 7.72c-.78.78-.78 2.05 0 2.83L4 21.41c.39.39.9.59 1.41.59.51 0 1.02-.2 1.41-.59l7.78-7.78 2.81-2.81c.8-.78.8-2.07 0-2.86zM5.41 20L4 18.59l7.72-7.72 1.47 1.35L5.41 20z\"/>\n",
              "  </svg>\n",
              "      </button>\n",
              "      \n",
              "  <style>\n",
              "    .colab-df-container {\n",
              "      display:flex;\n",
              "      flex-wrap:wrap;\n",
              "      gap: 12px;\n",
              "    }\n",
              "\n",
              "    .colab-df-convert {\n",
              "      background-color: #E8F0FE;\n",
              "      border: none;\n",
              "      border-radius: 50%;\n",
              "      cursor: pointer;\n",
              "      display: none;\n",
              "      fill: #1967D2;\n",
              "      height: 32px;\n",
              "      padding: 0 0 0 0;\n",
              "      width: 32px;\n",
              "    }\n",
              "\n",
              "    .colab-df-convert:hover {\n",
              "      background-color: #E2EBFA;\n",
              "      box-shadow: 0px 1px 2px rgba(60, 64, 67, 0.3), 0px 1px 3px 1px rgba(60, 64, 67, 0.15);\n",
              "      fill: #174EA6;\n",
              "    }\n",
              "\n",
              "    [theme=dark] .colab-df-convert {\n",
              "      background-color: #3B4455;\n",
              "      fill: #D2E3FC;\n",
              "    }\n",
              "\n",
              "    [theme=dark] .colab-df-convert:hover {\n",
              "      background-color: #434B5C;\n",
              "      box-shadow: 0px 1px 3px 1px rgba(0, 0, 0, 0.15);\n",
              "      filter: drop-shadow(0px 1px 2px rgba(0, 0, 0, 0.3));\n",
              "      fill: #FFFFFF;\n",
              "    }\n",
              "  </style>\n",
              "\n",
              "      <script>\n",
              "        const buttonEl =\n",
              "          document.querySelector('#df-a760dfcd-a961-4e16-a005-d107f564a545 button.colab-df-convert');\n",
              "        buttonEl.style.display =\n",
              "          google.colab.kernel.accessAllowed ? 'block' : 'none';\n",
              "\n",
              "        async function convertToInteractive(key) {\n",
              "          const element = document.querySelector('#df-a760dfcd-a961-4e16-a005-d107f564a545');\n",
              "          const dataTable =\n",
              "            await google.colab.kernel.invokeFunction('convertToInteractive',\n",
              "                                                     [key], {});\n",
              "          if (!dataTable) return;\n",
              "\n",
              "          const docLinkHtml = 'Like what you see? Visit the ' +\n",
              "            '<a target=\"_blank\" href=https://colab.research.google.com/notebooks/data_table.ipynb>data table notebook</a>'\n",
              "            + ' to learn more about interactive tables.';\n",
              "          element.innerHTML = '';\n",
              "          dataTable['output_type'] = 'display_data';\n",
              "          await google.colab.output.renderOutput(dataTable, element);\n",
              "          const docLink = document.createElement('div');\n",
              "          docLink.innerHTML = docLinkHtml;\n",
              "          element.appendChild(docLink);\n",
              "        }\n",
              "      </script>\n",
              "    </div>\n",
              "  </div>\n",
              "  "
            ],
            "text/plain": [
              "  source target     type  value\n",
              "0  farm1   Mary   apples      5\n",
              "1  farm1  James   apples      3\n",
              "2  farm2   Fred   apples     10\n",
              "3  farm2   Fred  bananas     10\n",
              "4  farm2  Susan  bananas      5\n",
              "5  farm3  Susan   apples     10\n",
              "6  farm4  Susan  bananas      1\n",
              "7  farm5  Susan  bananas      1\n",
              "8  farm6  Susan  bananas      1"
            ]
          },
          "metadata": {}
        }
      ],
      "source": [
        "\"\"\"Import data using pandas\"\"\"\n",
        "flows = pd.read_csv('example_data/simple_fruit_sales.csv')\n",
        "display(flows)"
      ]
    },
    {
      "cell_type": "markdown",
      "metadata": {
        "id": "0cjAeWScVrwv"
      },
      "source": [
        "Drawn directly as a Sankey diagram, this data would look something like this:"
      ]
    },
    {
      "cell_type": "code",
      "execution_count": null,
      "metadata": {
        "colab": {
          "base_uri": "https://localhost:8080/",
          "height": 421,
          "referenced_widgets": [
            "5df402317ba849e798a2aae6361727aa",
            "6320d0e66c3147e6ab5914866bbf07e1"
          ]
        },
        "id": "xUeVeea9Vrww",
        "outputId": "993bb567-8863-42ee-c929-51103842b75e"
      },
      "outputs": [
        {
          "output_type": "display_data",
          "data": {
            "application/vnd.jupyter.widget-view+json": {
              "model_id": "5df402317ba849e798a2aae6361727aa",
              "version_minor": 0,
              "version_major": 2
            },
            "text/plain": [
              "SankeyWidget(links=[{'source': 'farm1', 'target': 'Mary', 'type': 'apples', 'value': 5}, {'source': 'farm1', '…"
            ]
          },
          "metadata": {
            "application/vnd.jupyter.widget-view+json": {
              "colab": {
                "custom_widget_manager": {
                  "url": "https://ssl.gstatic.com/colaboratory-static/widgets/colab-cdn-widget-manager/a8874ba6619b6106/manager.min.js"
                }
              }
            }
          }
        }
      ],
      "source": [
        "\"\"\"Let's draw our first Sankey!\"\"\"\n",
        "SankeyWidget(links=flows.to_dict('records'))"
      ]
    },
    {
      "cell_type": "markdown",
      "metadata": {
        "id": "jGmycN8rVrww"
      },
      "source": [
        "But you don't always want a direct correspondence between the flows in your data and the links that you see in the Sankey diagram. For example:\n",
        "\n",
        "* Farms 4, 5 and 6 are all pretty small, and to make the diagram clearer we might want to group them in an \"other\" category.\n",
        "* The flows of apples are mixed in with the flows of bananas -- we might want to group the kinds of fruit together to make them easier to compare\n",
        "* We might want to group farms or customers based on some other attributes -- to see difference between genders, locations, or organic/non-organic farms, say.\n",
        "\n",
        "This first part shows how to use `floweaver` to do some of these for this simple example, in the simplest possible way. Later tutorials will show how to use it on real data, and more efficient ways to do the same things.\n",
        "\n",
        "#### Basic diagram\n",
        "\n",
        "Let's start with the first example: grouping farms 4, 5 and 6 into an \"other\" category. `floweaver` works by setting up a \"Sankey diagram definition\" which describes the structure of the diagram we want to see. In this case, we need to set up some groups:"
      ]
    },
    {
      "cell_type": "code",
      "execution_count": null,
      "metadata": {
        "collapsed": true,
        "id": "dtSw7mNrVrww"
      },
      "outputs": [],
      "source": [
        "\"\"\"Define diagram processes\"\"\"\n",
        "# Set the default size to fit the documentation better.\n",
        "size = dict(width=570, height=300)\n",
        "\n",
        "# Defining our sources and targets as nodes\n",
        "nodes = {\n",
        "    'farms': ProcessGroup(['farm1', 'farm2', 'farm3', \n",
        "                           'farm4', 'farm5', 'farm6']),\n",
        "    'customers': ProcessGroup(['James', 'Mary', 'Fred', 'Susan']),\n",
        "}"
      ]
    },
    {
      "cell_type": "markdown",
      "metadata": {
        "id": "F8nq4ZNeVrwx"
      },
      "source": [
        "We need to describe roughly how these groups should be placed in the final diagram by defining an \"ordering\" -- a list of vertical slices, each containing a list of node ids:"
      ]
    },
    {
      "cell_type": "code",
      "execution_count": null,
      "metadata": {
        "collapsed": true,
        "id": "KENGAWZbVrwy"
      },
      "outputs": [],
      "source": [
        "\"\"\"Define order of processes in diagram\"\"\"\n",
        "ordering = [\n",
        "    ['farms'],       # put \"farms\" on the left...\n",
        "    ['customers'],   # ... and \"customers\" on the right.\n",
        "]"
      ]
    },
    {
      "cell_type": "markdown",
      "metadata": {
        "id": "yjR2XgvWVrwy"
      },
      "source": [
        "And we also need to say which connections should appear in the diagram (sometimes you don't want to actually see all the connections). This is called a \"bundle\" because it bundles up multiple flows -- in this case all of them."
      ]
    },
    {
      "cell_type": "code",
      "execution_count": null,
      "metadata": {
        "collapsed": true,
        "id": "ayHoCxDPVrwz"
      },
      "outputs": [],
      "source": [
        "\"\"\"Define links between processes\"\"\"\n",
        "bundles = [\n",
        "    Bundle('farms', 'customers'),\n",
        "]"
      ]
    },
    {
      "cell_type": "markdown",
      "metadata": {
        "id": "ncltAARpVrw0"
      },
      "source": [
        "Putting that together into a Sankey diagram definition (SDD) and applying it to the data gives this result:"
      ]
    },
    {
      "cell_type": "code",
      "execution_count": null,
      "metadata": {
        "colab": {
          "base_uri": "https://localhost:8080/",
          "height": 321,
          "referenced_widgets": [
            "f208646af6fb40b49dac5edb3b1ad543",
            "4c97f084e7944c5787f4f7ed324de278"
          ]
        },
        "id": "awi8gTt4Vrw0",
        "outputId": "5e64a935-86b6-4e88-95a3-cf3d4d454b4b"
      },
      "outputs": [
        {
          "output_type": "display_data",
          "data": {
            "application/vnd.jupyter.widget-view+json": {
              "model_id": "f208646af6fb40b49dac5edb3b1ad543",
              "version_minor": 0,
              "version_major": 2
            },
            "text/plain": [
              "SankeyWidget(layout=Layout(height='300', width='570'), links=[{'source': 'farms^*', 'target': 'customers^*', '…"
            ]
          },
          "metadata": {
            "application/vnd.jupyter.widget-view+json": {
              "colab": {
                "custom_widget_manager": {
                  "url": "https://ssl.gstatic.com/colaboratory-static/widgets/colab-cdn-widget-manager/a8874ba6619b6106/manager.min.js"
                }
              }
            }
          }
        }
      ],
      "source": [
        "\"\"\"Let's see our grouped Sankey\"\"\"\n",
        "sdd = SankeyDefinition(nodes, bundles, ordering)\n",
        "weave(sdd, flows).to_widget(**size)"
      ]
    },
    {
      "cell_type": "markdown",
      "metadata": {
        "id": "RWCkT-p9Vrw0"
      },
      "source": [
        "That's not very useful. What's happened? Every farm and every customer has been lumped together into one group. To get the picture we want -- like the first one, but with an \"other\" group containing farms 4, 5 and 6 -- we need to *partition* the groups:"
      ]
    },
    {
      "cell_type": "code",
      "execution_count": null,
      "metadata": {
        "colab": {
          "base_uri": "https://localhost:8080/",
          "height": 321,
          "referenced_widgets": [
            "8319fccb0bb74265b6afad0872b68652",
            "6d42a639f9e74ac7bb3affd36b883d1f"
          ]
        },
        "id": "j0f3yD_8Vrw1",
        "outputId": "f6cffa2a-2b6f-4b29-b429-a7236a8a817d"
      },
      "outputs": [
        {
          "output_type": "display_data",
          "data": {
            "application/vnd.jupyter.widget-view+json": {
              "model_id": "8319fccb0bb74265b6afad0872b68652",
              "version_minor": 0,
              "version_major": 2
            },
            "text/plain": [
              "SankeyWidget(groups=[{'id': 'farms', 'type': 'process', 'title': '', 'nodes': ['farms^farm1', 'farms^farm2', '…"
            ]
          },
          "metadata": {
            "application/vnd.jupyter.widget-view+json": {
              "colab": {
                "custom_widget_manager": {
                  "url": "https://ssl.gstatic.com/colaboratory-static/widgets/colab-cdn-widget-manager/a8874ba6619b6106/manager.min.js"
                }
              }
            }
          }
        }
      ],
      "source": [
        "\"\"\"Let's partition the groups we've made\"\"\"\n",
        "# The first argument is the dimension name and the second argument is a list of groups.\n",
        "farms_with_other = Partition.Simple('process', [\n",
        "    'farm1',  # the groups within the partition can be a single id...\n",
        "    'farm2',\n",
        "    'farm3',\n",
        "    ('other', ['farm4', 'farm5', 'farm6']),   # ... or a group\n",
        "])\n",
        "\n",
        "# This is another partition.\n",
        "customers_by_name = Partition.Simple('process', [\n",
        "    'James', 'Mary', 'Fred', 'Susan'\n",
        "])\n",
        "\n",
        "# Update the ProcessGroup nodes to use the partitions\n",
        "nodes['farms'].partition = farms_with_other\n",
        "nodes['customers'].partition = customers_by_name\n",
        "\n",
        "# New Sankey!\n",
        "weave(sdd, flows).to_widget(**size)"
      ]
    },
    {
      "cell_type": "markdown",
      "metadata": {
        "id": "ubVt3jX_Vrw1"
      },
      "source": [
        "That's better: now the farms are split up appropriately with an \"other\" category, and the customers are shown separately as well. We don't have to stop there -- what about showing sales to men and women?"
      ]
    },
    {
      "cell_type": "code",
      "execution_count": null,
      "metadata": {
        "colab": {
          "base_uri": "https://localhost:8080/",
          "height": 321,
          "referenced_widgets": [
            "6cc84e557b8b42bb8c2d3e989c033551",
            "6ea89f7c0de043e38ca118effef5ee43"
          ]
        },
        "id": "IRvv0rKqVrw1",
        "outputId": "423cc065-4a12-4f5a-b1f6-c3e4ab6d85a7"
      },
      "outputs": [
        {
          "output_type": "display_data",
          "data": {
            "application/vnd.jupyter.widget-view+json": {
              "model_id": "6cc84e557b8b42bb8c2d3e989c033551",
              "version_minor": 0,
              "version_major": 2
            },
            "text/plain": [
              "SankeyWidget(groups=[{'id': 'farms', 'type': 'process', 'title': '', 'nodes': ['farms^farm1', 'farms^farm2', '…"
            ]
          },
          "metadata": {
            "application/vnd.jupyter.widget-view+json": {
              "colab": {
                "custom_widget_manager": {
                  "url": "https://ssl.gstatic.com/colaboratory-static/widgets/colab-cdn-widget-manager/a8874ba6619b6106/manager.min.js"
                }
              }
            }
          }
        }
      ],
      "source": [
        "\"\"\"Different partitioning\"\"\"\n",
        "# Group customers by gender\n",
        "customers_by_gender = Partition.Simple('process', [\n",
        "    ('Men', ['Fred', 'James']),\n",
        "    ('Women', ['Susan', 'Mary']),\n",
        "])\n",
        "\n",
        "nodes['customers'].partition = customers_by_gender\n",
        "\n",
        "weave(sdd, flows).to_widget(**size).auto_save_png('quickstart_example1.png')"
      ]
    },
    {
      "cell_type": "markdown",
      "metadata": {
        "id": "eApK_lvZVrw1"
      },
      "source": [
        "> There is a better way of specifying this type of partition that doesn't involve hard-coding who's a man and who's a woman into the code -- see the later tutorial on using *dimension tables*.\n",
        "\n",
        "#### Distinguishing flow types\n",
        "\n",
        "These diagrams have lost sight of the kind of fruit that is actually being sold -- are the men buying apples, bananas or both from farm1? To show this we need to split up the flows in the diagram based on their *type*. Just like we split up the `ProcessGroups` by defining a partition of processes, we split up flows by defining a partition of flows.\n",
        "\n",
        "(While we're at it let's choose some colours that look vaguely like apples and bananas)"
      ]
    },
    {
      "cell_type": "code",
      "execution_count": null,
      "metadata": {
        "colab": {
          "base_uri": "https://localhost:8080/",
          "height": 321,
          "referenced_widgets": [
            "1e7a59d11cb647628de875f2a3fa3c36",
            "b89211849d6d474697b76c1c7f5f6f48"
          ]
        },
        "id": "f3TdR5heVrw2",
        "outputId": "2acbf150-2a23-4a15-aa97-f5dfa119cc46"
      },
      "outputs": [
        {
          "output_type": "display_data",
          "data": {
            "application/vnd.jupyter.widget-view+json": {
              "model_id": "1e7a59d11cb647628de875f2a3fa3c36",
              "version_minor": 0,
              "version_major": 2
            },
            "text/plain": [
              "SankeyWidget(groups=[{'id': 'farms', 'type': 'process', 'title': '', 'nodes': ['farms^farm1', 'farms^farm2', '…"
            ]
          },
          "metadata": {
            "application/vnd.jupyter.widget-view+json": {
              "colab": {
                "custom_widget_manager": {
                  "url": "https://ssl.gstatic.com/colaboratory-static/widgets/colab-cdn-widget-manager/a8874ba6619b6106/manager.min.js"
                }
              }
            }
          }
        }
      ],
      "source": [
        "\"\"\"Partitioning the types column\"\"\"\n",
        "fruits_by_type = Partition.Simple('type', ['apples', 'bananas'])\n",
        "\n",
        "# Set the colours for the labels in the partition.\n",
        "palette = {'apples': 'yellowgreen', 'bananas': 'gold'}\n",
        "\n",
        "# New SDD with the flow_partition set\n",
        "sdd = SankeyDefinition(nodes, bundles, ordering, flow_partition=fruits_by_type)\n",
        "weave(sdd, flows, palette=palette).to_widget(**size)"
      ]
    },
    {
      "cell_type": "markdown",
      "metadata": {
        "id": "ajbE9VjrVrw2"
      },
      "source": [
        "As a last step, it would be nice to label which flows are apples and which are bananas. One way to do this would be to use a legend next to the diagram, or to put labels on every flow. Here, we'll add a new layer in the middle of the diagram which temporarily groups together the different fruit types on their way from the farms to the customers. This temporary/additional grouping point is called a *waypoint*.\n",
        "\n",
        "To add a waypoint, we need to do three things:\n",
        "\n",
        "1. Define it as a node\n",
        "2. Position it in the ordering (between `farms` and `customers`)\n",
        "3. Add it to the bundle"
      ]
    },
    {
      "cell_type": "code",
      "execution_count": null,
      "metadata": {
        "colab": {
          "base_uri": "https://localhost:8080/",
          "height": 321,
          "referenced_widgets": [
            "8353ae0c3cee4e689a64a36275e8dc4d",
            "6aa7cac0b8e84f83b0d05e563b0f56b0"
          ]
        },
        "id": "BItNEq8oVrw2",
        "outputId": "1dc9890c-77c8-4167-beeb-208e0f314970"
      },
      "outputs": [
        {
          "output_type": "display_data",
          "data": {
            "application/vnd.jupyter.widget-view+json": {
              "model_id": "8353ae0c3cee4e689a64a36275e8dc4d",
              "version_minor": 0,
              "version_major": 2
            },
            "text/plain": [
              "SankeyWidget(groups=[{'id': 'farms', 'type': 'process', 'title': '', 'nodes': ['farms^farm1', 'farms^farm2', '…"
            ]
          },
          "metadata": {
            "application/vnd.jupyter.widget-view+json": {
              "colab": {
                "custom_widget_manager": {
                  "url": "https://ssl.gstatic.com/colaboratory-static/widgets/colab-cdn-widget-manager/a8874ba6619b6106/manager.min.js"
                }
              }
            }
          }
        }
      ],
      "source": [
        "\"\"\"Set up a midpoint to visualise types\"\"\"\n",
        "# 1. Define a new waypoint node\n",
        "nodes['waypoint'] = Waypoint()\n",
        "\n",
        "# 2. Update the ordering to show where the waypoint goes: in the middle\n",
        "ordering = [\n",
        "    ['farms'],\n",
        "    ['waypoint'],\n",
        "    ['customers'],\n",
        "]\n",
        "\n",
        "# 3. Update the bundle definition to send the flows via the waypoint\n",
        "bundles = [\n",
        "    Bundle('farms', 'customers', waypoints=['waypoint']),\n",
        "]\n",
        "\n",
        "# Update the SDD with the new nodes, ordering & bundles.\n",
        "sdd = SankeyDefinition(nodes, bundles, ordering, flow_partition=fruits_by_type)\n",
        "weave(sdd, flows, palette=palette).to_widget(**size)"
      ]
    },
    {
      "cell_type": "markdown",
      "metadata": {
        "id": "NZMDbO3mVrw2"
      },
      "source": [
        "That's not yet very useful. Just like above, the default for Waypoints is to group everything togeter. We need to set a partition on the waypoint to split apart apples and bananas:"
      ]
    },
    {
      "cell_type": "code",
      "execution_count": null,
      "metadata": {
        "colab": {
          "base_uri": "https://localhost:8080/",
          "height": 321,
          "referenced_widgets": [
            "93777efd7f254ceda2bb6a7805596349",
            "191bd98a3a174b82a75491d2a03a4337"
          ]
        },
        "id": "9beXFzdIVrw2",
        "outputId": "02f1c0a7-398a-47ac-a952-c16a0d5948c3"
      },
      "outputs": [
        {
          "output_type": "display_data",
          "data": {
            "application/vnd.jupyter.widget-view+json": {
              "model_id": "93777efd7f254ceda2bb6a7805596349",
              "version_minor": 0,
              "version_major": 2
            },
            "text/plain": [
              "SankeyWidget(groups=[{'id': 'farms', 'type': 'process', 'title': '', 'nodes': ['farms^farm1', 'farms^farm2', '…"
            ]
          },
          "metadata": {
            "application/vnd.jupyter.widget-view+json": {
              "colab": {
                "custom_widget_manager": {
                  "url": "https://ssl.gstatic.com/colaboratory-static/widgets/colab-cdn-widget-manager/a8874ba6619b6106/manager.min.js"
                }
              }
            }
          }
        }
      ],
      "source": [
        "# Redefine the waypoint with a partition (same one defined above)\n",
        "nodes['waypoint'] = Waypoint(fruits_by_type)\n",
        "\n",
        "weave(sdd, flows, palette=palette).to_widget(**size)"
      ]
    },
    {
      "cell_type": "markdown",
      "source": [
        "#### Summary\n",
        "\n",
        "This has demonstrated the basic usage of `floweaver`: defining `ProcessGroup`s, `Waypoint`s, `Partition`s, and `Bundle`s. If you like, why not go back and try out some different ways to present the data? Here are some suggestions:\n",
        "\n",
        "1. Farms 1, 3 and 5 are organic. Can you change the farm Partition to show two groups, organic and non-organic?\n",
        "2. What happens if you remove `\"farm1\"` from the original definition of the `farms` `ProcessGroup`? (Hint: those apples that James and Mary are eating have to come from somewhere -- so they are shown as coming from \"elsewhere\". See part C on system-boundaries."
      ],
      "metadata": {
        "id": "fy9KZUq7R4Gb"
      }
    },
    {
      "cell_type": "markdown",
      "source": [
        "###B - Floweaver tutorials\n",
        "You've now learnt the basics of Floweaver. Follow through the floweaver_turoials notebook to learn about dimension tables, system boundaries and colour scales for our Sankeys."
      ],
      "metadata": {
        "id": "CHTEAuHcK2YN"
      }
    },
    {
      "cell_type": "markdown",
      "source": [
        "### C - Some recipes for common flows"
      ],
      "metadata": {
        "id": "g5IOS6KJLpz4"
      }
    },
    {
      "cell_type": "markdown",
      "source": [
        "##3 - Sankey exercises\n",
        "\n",
        "Let's put some of our learning in to practice!\n"
      ],
      "metadata": {
        "id": "d093z-t-yItP"
      }
    },
    {
      "cell_type": "markdown",
      "source": [
        "###A - IEA Sankey\n",
        "In this final section, we want to create a Sankey diagram (like the US energy consumption one in part 2.E) but for another country.  You might want to choose a country that you are analysing for Assignment 1. "
      ],
      "metadata": {
        "id": "ZCbG8NdVRBdZ"
      }
    },
    {
      "cell_type": "markdown",
      "source": [
        "1. Download the IEA World Energy Balances Highlights spreadsheet, from the webpage: https://www.iea.org/reports/world-energy-balances-overview\n",
        "\n",
        "2. Filter your country data in the Timeseries_1971-2019 tab, and choose the 2018 year.\n",
        "\n",
        "3. Check out the IEA Sankey as a guide from: https://www.iea.org/sankey/\n",
        "\n",
        "4. Organise data into the correct form for the csv files (using the two files: us-energy-consumption.csv and us-energy-consumption-processes.csv as your base). This will involve allocating the IEA balance categories to the labels used in the US example. Flows into and out of each slice need to be balanced.  And the IEA has no allocation to 'energy services' and 'rejected energy' so you will need to guess, or use the ratios from the US example.  You can also check your numbers using SankeyMATIC (as above). \n",
        "\n",
        "5. Adapt the us-energy-consumption.ipynb file to create a Sankey for your country.\n",
        "\n",
        "6. You can save a copy of the Sankey using: \n",
        "- To save as a png: `weave(sdd, flows).to_widget().auto_save_png('filename.png')`\n",
        "- To save as svg: `weave(sdd, flows).to_widget().auto_save_svg('filename.svg')`\n",
        "\n"
      ],
      "metadata": {
        "id": "AtnmK-RuO8O5"
      }
    },
    {
      "cell_type": "markdown",
      "source": [
        "###B - US Steel imports\n",
        "If you've finished with the IEA data, have a go at this exercise."
      ],
      "metadata": {
        "id": "EcrH-TvVRNs8"
      }
    },
    {
      "cell_type": "markdown",
      "source": [
        "Let's consider US Steel imports [available here](https://www.trade.gov/media/4964) and consider how we might best display these in a Sankey diagram. Export the data and upload it to Colab by using the left panel.\n"
      ],
      "metadata": {
        "id": "8bNMI43bOgTT"
      }
    },
    {
      "cell_type": "code",
      "source": [
        "\"\"\"Import and visualise the data in a table\"\"\"\n",
        "steel_imports = pd.read_csv('US_Steel.csv')\n",
        "display(steel_imports)"
      ],
      "metadata": {
        "id": "NukDBRemyGHa",
        "outputId": "1caec2ef-7062-461f-f514-f4a881ec9d43",
        "colab": {
          "base_uri": "https://localhost:8080/",
          "height": 424
        }
      },
      "execution_count": null,
      "outputs": [
        {
          "output_type": "display_data",
          "data": {
            "text/html": [
              "\n",
              "  <div id=\"df-1262f25b-897e-4fa6-b5aa-d7d46a4ecffe\">\n",
              "    <div class=\"colab-df-container\">\n",
              "      <div>\n",
              "<style scoped>\n",
              "    .dataframe tbody tr th:only-of-type {\n",
              "        vertical-align: middle;\n",
              "    }\n",
              "\n",
              "    .dataframe tbody tr th {\n",
              "        vertical-align: top;\n",
              "    }\n",
              "\n",
              "    .dataframe thead th {\n",
              "        text-align: right;\n",
              "    }\n",
              "</style>\n",
              "<table border=\"1\" class=\"dataframe\">\n",
              "  <thead>\n",
              "    <tr style=\"text-align: right;\">\n",
              "      <th></th>\n",
              "      <th>Date Label</th>\n",
              "      <th>Direction</th>\n",
              "      <th>Volume</th>\n",
              "      <th>Reporting Country</th>\n",
              "      <th>Partner Country</th>\n",
              "      <th>Product Category</th>\n",
              "      <th>Unit of Measure</th>\n",
              "      <th>direction_reporter_key</th>\n",
              "    </tr>\n",
              "  </thead>\n",
              "  <tbody>\n",
              "    <tr>\n",
              "      <th>0</th>\n",
              "      <td>2015</td>\n",
              "      <td>Export</td>\n",
              "      <td>0.00</td>\n",
              "      <td>United States (Consumption/Domestic)</td>\n",
              "      <td>Australia</td>\n",
              "      <td>Semi-finished</td>\n",
              "      <td>Quantity</td>\n",
              "      <td>export-united states (consumption/domestic)</td>\n",
              "    </tr>\n",
              "    <tr>\n",
              "      <th>1</th>\n",
              "      <td>2015</td>\n",
              "      <td>Export</td>\n",
              "      <td>0.00</td>\n",
              "      <td>United States (Consumption/Domestic)</td>\n",
              "      <td>Bulgaria</td>\n",
              "      <td>Stainless</td>\n",
              "      <td>Quantity</td>\n",
              "      <td>export-united states (consumption/domestic)</td>\n",
              "    </tr>\n",
              "    <tr>\n",
              "      <th>2</th>\n",
              "      <td>2015</td>\n",
              "      <td>Export</td>\n",
              "      <td>0.00</td>\n",
              "      <td>United States (Consumption/Domestic)</td>\n",
              "      <td>Croatia</td>\n",
              "      <td>Stainless</td>\n",
              "      <td>Quantity</td>\n",
              "      <td>export-united states (consumption/domestic)</td>\n",
              "    </tr>\n",
              "    <tr>\n",
              "      <th>3</th>\n",
              "      <td>2015</td>\n",
              "      <td>Export</td>\n",
              "      <td>0.00</td>\n",
              "      <td>United States (Consumption/Domestic)</td>\n",
              "      <td>Dominica</td>\n",
              "      <td>Stainless</td>\n",
              "      <td>Quantity</td>\n",
              "      <td>export-united states (consumption/domestic)</td>\n",
              "    </tr>\n",
              "    <tr>\n",
              "      <th>4</th>\n",
              "      <td>2015</td>\n",
              "      <td>Export</td>\n",
              "      <td>0.00</td>\n",
              "      <td>United States (Consumption/Domestic)</td>\n",
              "      <td>Greece</td>\n",
              "      <td>Stainless</td>\n",
              "      <td>Quantity</td>\n",
              "      <td>export-united states (consumption/domestic)</td>\n",
              "    </tr>\n",
              "    <tr>\n",
              "      <th>...</th>\n",
              "      <td>...</td>\n",
              "      <td>...</td>\n",
              "      <td>...</td>\n",
              "      <td>...</td>\n",
              "      <td>...</td>\n",
              "      <td>...</td>\n",
              "      <td>...</td>\n",
              "      <td>...</td>\n",
              "    </tr>\n",
              "    <tr>\n",
              "      <th>29995</th>\n",
              "      <td>2019</td>\n",
              "      <td>Export</td>\n",
              "      <td>2.06</td>\n",
              "      <td>United States (Consumption/Domestic)</td>\n",
              "      <td>St. Vincent &amp; the Grenadines</td>\n",
              "      <td>Pipe and Tube</td>\n",
              "      <td>Quantity</td>\n",
              "      <td>export-united states (consumption/domestic)</td>\n",
              "    </tr>\n",
              "    <tr>\n",
              "      <th>29996</th>\n",
              "      <td>2019</td>\n",
              "      <td>Export</td>\n",
              "      <td>2.07</td>\n",
              "      <td>United States (Consumption/Domestic)</td>\n",
              "      <td>Portugal</td>\n",
              "      <td>Long Products</td>\n",
              "      <td>Quantity</td>\n",
              "      <td>export-united states (consumption/domestic)</td>\n",
              "    </tr>\n",
              "    <tr>\n",
              "      <th>29997</th>\n",
              "      <td>2019</td>\n",
              "      <td>Export</td>\n",
              "      <td>2.08</td>\n",
              "      <td>United States (Consumption/Domestic)</td>\n",
              "      <td>Bangladesh</td>\n",
              "      <td>Pipe and Tube</td>\n",
              "      <td>Quantity</td>\n",
              "      <td>export-united states (consumption/domestic)</td>\n",
              "    </tr>\n",
              "    <tr>\n",
              "      <th>29998</th>\n",
              "      <td>2019</td>\n",
              "      <td>Export</td>\n",
              "      <td>2.08</td>\n",
              "      <td>United States (Consumption/Domestic)</td>\n",
              "      <td>Guyana</td>\n",
              "      <td>Long Products</td>\n",
              "      <td>Quantity</td>\n",
              "      <td>export-united states (consumption/domestic)</td>\n",
              "    </tr>\n",
              "    <tr>\n",
              "      <th>29999</th>\n",
              "      <td>2019</td>\n",
              "      <td>Export</td>\n",
              "      <td>2.08</td>\n",
              "      <td>United States (Consumption/Domestic)</td>\n",
              "      <td>Iraq</td>\n",
              "      <td>Stainless</td>\n",
              "      <td>Quantity</td>\n",
              "      <td>export-united states (consumption/domestic)</td>\n",
              "    </tr>\n",
              "  </tbody>\n",
              "</table>\n",
              "<p>30000 rows × 8 columns</p>\n",
              "</div>\n",
              "      <button class=\"colab-df-convert\" onclick=\"convertToInteractive('df-1262f25b-897e-4fa6-b5aa-d7d46a4ecffe')\"\n",
              "              title=\"Convert this dataframe to an interactive table.\"\n",
              "              style=\"display:none;\">\n",
              "        \n",
              "  <svg xmlns=\"http://www.w3.org/2000/svg\" height=\"24px\"viewBox=\"0 0 24 24\"\n",
              "       width=\"24px\">\n",
              "    <path d=\"M0 0h24v24H0V0z\" fill=\"none\"/>\n",
              "    <path d=\"M18.56 5.44l.94 2.06.94-2.06 2.06-.94-2.06-.94-.94-2.06-.94 2.06-2.06.94zm-11 1L8.5 8.5l.94-2.06 2.06-.94-2.06-.94L8.5 2.5l-.94 2.06-2.06.94zm10 10l.94 2.06.94-2.06 2.06-.94-2.06-.94-.94-2.06-.94 2.06-2.06.94z\"/><path d=\"M17.41 7.96l-1.37-1.37c-.4-.4-.92-.59-1.43-.59-.52 0-1.04.2-1.43.59L10.3 9.45l-7.72 7.72c-.78.78-.78 2.05 0 2.83L4 21.41c.39.39.9.59 1.41.59.51 0 1.02-.2 1.41-.59l7.78-7.78 2.81-2.81c.8-.78.8-2.07 0-2.86zM5.41 20L4 18.59l7.72-7.72 1.47 1.35L5.41 20z\"/>\n",
              "  </svg>\n",
              "      </button>\n",
              "      \n",
              "  <style>\n",
              "    .colab-df-container {\n",
              "      display:flex;\n",
              "      flex-wrap:wrap;\n",
              "      gap: 12px;\n",
              "    }\n",
              "\n",
              "    .colab-df-convert {\n",
              "      background-color: #E8F0FE;\n",
              "      border: none;\n",
              "      border-radius: 50%;\n",
              "      cursor: pointer;\n",
              "      display: none;\n",
              "      fill: #1967D2;\n",
              "      height: 32px;\n",
              "      padding: 0 0 0 0;\n",
              "      width: 32px;\n",
              "    }\n",
              "\n",
              "    .colab-df-convert:hover {\n",
              "      background-color: #E2EBFA;\n",
              "      box-shadow: 0px 1px 2px rgba(60, 64, 67, 0.3), 0px 1px 3px 1px rgba(60, 64, 67, 0.15);\n",
              "      fill: #174EA6;\n",
              "    }\n",
              "\n",
              "    [theme=dark] .colab-df-convert {\n",
              "      background-color: #3B4455;\n",
              "      fill: #D2E3FC;\n",
              "    }\n",
              "\n",
              "    [theme=dark] .colab-df-convert:hover {\n",
              "      background-color: #434B5C;\n",
              "      box-shadow: 0px 1px 3px 1px rgba(0, 0, 0, 0.15);\n",
              "      filter: drop-shadow(0px 1px 2px rgba(0, 0, 0, 0.3));\n",
              "      fill: #FFFFFF;\n",
              "    }\n",
              "  </style>\n",
              "\n",
              "      <script>\n",
              "        const buttonEl =\n",
              "          document.querySelector('#df-1262f25b-897e-4fa6-b5aa-d7d46a4ecffe button.colab-df-convert');\n",
              "        buttonEl.style.display =\n",
              "          google.colab.kernel.accessAllowed ? 'block' : 'none';\n",
              "\n",
              "        async function convertToInteractive(key) {\n",
              "          const element = document.querySelector('#df-1262f25b-897e-4fa6-b5aa-d7d46a4ecffe');\n",
              "          const dataTable =\n",
              "            await google.colab.kernel.invokeFunction('convertToInteractive',\n",
              "                                                     [key], {});\n",
              "          if (!dataTable) return;\n",
              "\n",
              "          const docLinkHtml = 'Like what you see? Visit the ' +\n",
              "            '<a target=\"_blank\" href=https://colab.research.google.com/notebooks/data_table.ipynb>data table notebook</a>'\n",
              "            + ' to learn more about interactive tables.';\n",
              "          element.innerHTML = '';\n",
              "          dataTable['output_type'] = 'display_data';\n",
              "          await google.colab.output.renderOutput(dataTable, element);\n",
              "          const docLink = document.createElement('div');\n",
              "          docLink.innerHTML = docLinkHtml;\n",
              "          element.appendChild(docLink);\n",
              "        }\n",
              "      </script>\n",
              "    </div>\n",
              "  </div>\n",
              "  "
            ],
            "text/plain": [
              "       Date Label  ...                       direction_reporter_key\n",
              "0            2015  ...  export-united states (consumption/domestic)\n",
              "1            2015  ...  export-united states (consumption/domestic)\n",
              "2            2015  ...  export-united states (consumption/domestic)\n",
              "3            2015  ...  export-united states (consumption/domestic)\n",
              "4            2015  ...  export-united states (consumption/domestic)\n",
              "...           ...  ...                                          ...\n",
              "29995        2019  ...  export-united states (consumption/domestic)\n",
              "29996        2019  ...  export-united states (consumption/domestic)\n",
              "29997        2019  ...  export-united states (consumption/domestic)\n",
              "29998        2019  ...  export-united states (consumption/domestic)\n",
              "29999        2019  ...  export-united states (consumption/domestic)\n",
              "\n",
              "[30000 rows x 8 columns]"
            ]
          },
          "metadata": {}
        }
      ]
    },
    {
      "cell_type": "markdown",
      "source": [
        "We are only intersted in the most recent data so filter the database to only contain numbers from the latest year. To find an appropriate function either have a look at the [pandas documentation](https://pandas.pydata.org/docs/reference/index.html), or remember [your best friend](https://www.google.com/) when writing code."
      ],
      "metadata": {
        "id": "2KzCfO2OC24H"
      }
    },
    {
      "cell_type": "code",
      "source": [
        "\"\"\"Filter dataframe to only give us final year\"\"\"\n",
        "# Find years covered\n",
        "years = steel_imports['Date Label'].unique()\n",
        "\n",
        "# Select only rows for latest year\n",
        "steel_latest = steel_imports.loc[steel_imports['Date Label']==max(years)]\n",
        "display(steel_latest)"
      ],
      "metadata": {
        "id": "mL4vk4nh7uaa"
      },
      "execution_count": null,
      "outputs": []
    },
    {
      "cell_type": "markdown",
      "source": [
        "Now what will be the most appropriate way of mapping US Steel imports into a Sankey diagram. Based on your previous work please have a go and see what you can come up with."
      ],
      "metadata": {
        "id": "rJnjFiEzFIf_"
      }
    },
    {
      "cell_type": "code",
      "source": [
        "\"\"\"Sankey diagram time\"\"\""
      ],
      "metadata": {
        "id": "6zN6-ujcEc4-"
      },
      "execution_count": null,
      "outputs": []
    },
    {
      "cell_type": "markdown",
      "source": [
        "I'm sure you've all come up with extremely professional and clear diagram ready to present to Mr Biden himself. Just in case you've had some trouble here's the link to our solution."
      ],
      "metadata": {
        "id": "shHHxn9QFYU3"
      }
    },
    {
      "cell_type": "markdown",
      "source": [
        "OK, you should now have an idea of how to use FlowWeaver and feel free to play around with the sample data you've used so far. However, in real life data is not often as neat or simple as presented here so part 2 shows the process from online data through to a final Sankey diagram."
      ],
      "metadata": {
        "id": "vkcmhc5l2djb"
      }
    }
  ],
  "metadata": {
    "kernelspec": {
      "display_name": "Python 3",
      "language": "python",
      "name": "python3"
    },
    "language_info": {
      "codemirror_mode": {
        "name": "ipython",
        "version": 3
      },
      "file_extension": ".py",
      "mimetype": "text/x-python",
      "name": "python",
      "nbconvert_exporter": "python",
      "pygments_lexer": "ipython3",
      "version": "3.6.3"
    },
    "colab": {
      "name": "L4_Drawing_Sankeys.ipynb",
      "provenance": [],
      "include_colab_link": true
    },
    "widgets": {
      "application/vnd.jupyter.widget-state+json": {
        "5df402317ba849e798a2aae6361727aa": {
          "model_module": "jupyter-sankey-widget",
          "model_name": "SankeyModel",
          "model_module_version": "^0.4.1",
          "state": {
            "_view_name": "SankeyView",
            "links": [
              {
                "source": "farm1",
                "type": "apples",
                "target": "Mary",
                "value": 5
              },
              {
                "source": "farm1",
                "type": "apples",
                "target": "James",
                "value": 3
              },
              {
                "source": "farm2",
                "type": "apples",
                "target": "Fred",
                "value": 10
              },
              {
                "source": "farm2",
                "type": "bananas",
                "target": "Fred",
                "value": 10
              },
              {
                "source": "farm2",
                "type": "bananas",
                "target": "Susan",
                "value": 5
              },
              {
                "source": "farm3",
                "type": "apples",
                "target": "Susan",
                "value": 10
              },
              {
                "source": "farm4",
                "type": "bananas",
                "target": "Susan",
                "value": 1
              },
              {
                "source": "farm5",
                "type": "bananas",
                "target": "Susan",
                "value": 1
              },
              {
                "source": "farm6",
                "type": "bananas",
                "target": "Susan",
                "value": 1
              }
            ],
            "_view_module": "jupyter-sankey-widget",
            "_model_module_version": "^0.4.1",
            "_view_count": null,
            "linkLabelFormat": "",
            "margins": {},
            "_model_module": "jupyter-sankey-widget",
            "scale": 4.130434782608695,
            "layout": "IPY_MODEL_6320d0e66c3147e6ab5914866bbf07e1",
            "linkLabelMinWidth": 5,
            "nodes": [
              {
                "id": "Susan"
              },
              {
                "id": "farm3"
              },
              {
                "id": "farm2"
              },
              {
                "id": "farm4"
              },
              {
                "id": "Mary"
              },
              {
                "id": "farm5"
              },
              {
                "id": "farm6"
              },
              {
                "id": "Fred"
              },
              {
                "id": "James"
              },
              {
                "id": "farm1"
              }
            ],
            "rank_sets": [],
            "_dom_classes": [],
            "_model_name": "SankeyModel",
            "groups": [],
            "png": "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",
            "show_link_info_html": false,
            "align_link_types": false,
            "svg": "<?xml version=\"1.0\" standalone=\"no\"?><!DOCTYPE svg PUBLIC \"-//W3C//DTD SVG 1.1//EN\" \"http://www.w3.org/Graphics/SVG/1.1/DTD/svg11.dtd\"><svg xmlns=\"http://www.w3.org/2000/svg\" width=\"0.3036144179022193\" height=\"0.2024096119348129\" viewBox=\"0 0 600 400\" style=\"font-family: &quot;Helvetica Neue&quot;, Helvetica, Arial, sans-serif;\"><g class=\"sankey\" transform=\"translate(100,10)\"><g class=\"groups\"/><g class=\"links\"><g class=\"link\" style=\"opacity: 0.999899;\"><path d=\"M1,102.10434782608695 A997.9347826086956 997.9347826086956 0.06924816443985882 0 0 70.04993508257648,99.71260135664161 L329.66426843194944,81.70599369274815 A1002.0652173913044 1002.0652173913044 0.06924816443985882 0 1 399,79.30434782608695 L399,83.43478260869564 A997.9347826086956 997.9347826086956 0.06924816443985882 0 0 329.9500649174235,85.82652907814098 L70.3357315680506,103.83313674203444 A1002.0652173913044 1002.0652173913044 0.06924816443985882 0 1 1,106.23478260869564 Z\" style=\"fill: rgb(255, 255, 255);\"/><title>farm4 → Susan\nbananas\n1.00</title><text class=\"label\" dy=\"0.35em\" x=\"5\" y=\"104.1695652173913\"/></g><g class=\"link\" style=\"opacity: 0.999899;\"><path d=\"M1,129.03478260869565 A525.8405720823798 525.8405720823798 0.1397858025475469 0 0 74.26589784995475,123.90566177370725 L325.1586045012805,88.60419226928217 A529.9710068649886 529.9710068649886 0.1397858025475469 0 1 399,83.43478260869566 L399,87.56521739130434 A525.8405720823798 525.8405720823798 0.1397858025475469 0 0 325.73410215004526,92.69433822629274 L74.84139549871948,127.99580773071783 A529.9710068649886 529.9710068649886 0.1397858025475469 0 1 1,133.16521739130434 Z\" style=\"fill: rgb(255, 255, 255);\"/><title>farm5 → Susan\nbananas\n1.00</title><text class=\"label\" dy=\"0.35em\" x=\"5\" y=\"131.1\"/></g><g class=\"link\" style=\"opacity: 0.999899;\"><path d=\"M1,155.96521739130435 A355.57197559115167 355.57197559115167 0.20860419765243954 0 0 74.63702161120806,148.25674789704846 L324.5075878174597,95.36323086738506 A359.7024103737604 359.7024103737604 0.20860419765243954 0 1 399,87.56521739130434 L399,91.69565217391303 A355.57197559115167 355.57197559115167 0.20860419765243954 0 0 325.36297838879193,99.40412166816893 L75.49241218254026,152.29763869783233 A359.7024103737604 359.7024103737604 0.20860419765243954 0 1 1,160.09565217391304 Z\" style=\"fill: rgb(255, 255, 255);\"/><title>farm6 → Susan\nbananas\n1.00</title><text class=\"label\" dy=\"0.35em\" x=\"5\" y=\"158.0304347826087\"/></g><g class=\"link\" style=\"opacity: 0.999899;\"><path d=\"M1,308.95652173913044 A624.7832951945071 624.7832951945071 0.11663581569440606 0 0 73.70699730384588,304.7115883701959 L324.851007465587,275.28564471703066 A637.1745995423331 637.1745995423331 0.11663581569440606 0 1 399,270.9565217391304 L399,283.3478260869565 A624.7832951945071 624.7832951945071 0.11663581569440606 0 0 326.29300269615413,287.59275945589104 L75.14899253441307,317.0187031090563 A637.1745995423331 637.1745995423331 0.11663581569440606 0 1 1,321.34782608695656 Z\" style=\"fill: rgb(255, 255, 255);\"/><title>farm1 → James\napples\n3.00</title><text class=\"label\" dy=\"0.35em\" x=\"5\" y=\"315.1521739130435\"/></g><g class=\"link\" style=\"opacity: 0.999899;\"><path d=\"M1,321.3478260869565 A0 0 0 0 0 1,321.3478260869565 L399,321.34782608695645 A0 0 0 0 1 399,321.34782608695645 L399,341.99999999999994 A0 0 0 0 0 399,341.99999999999994 L1,342 A0 0 0 0 1 1,342 Z\" style=\"fill: rgb(255, 255, 255);\"/><title>farm1 → Mary\napples\n5.00</title><text class=\"label\" dy=\"0.35em\" x=\"5\" y=\"331.67391304347825\"/></g><g class=\"link\" style=\"opacity: 0.999899;\"><path d=\"M1,182.89565217391305 A263.8868077803203 263.8868077803203 0.2761776100711504 0 0 72.95668377669664,172.89559666780696 L321.411879168673,102.47832689160217 A284.5389816933638 284.5389816933638 0.2761776100711504 0 1 399,91.69565217391303 L399,112.3478260869565 A263.8868077803203 263.8868077803203 0.2761776100711504 0 0 327.0433162233034,122.34788159306262 L78.58812083132698,192.76515136926741 A284.5389816933638 284.5389816933638 0.2761776100711504 0 1 1,203.54782608695655 Z\" style=\"fill: rgb(255, 255, 255);\"/><title>farm2 → Susan\nbananas\n5.00</title><text class=\"label\" dy=\"0.35em\" x=\"5\" y=\"193.2217391304348\"/></g><g class=\"link\" style=\"opacity: 0.999899;\"><path d=\"M1,203.54782608695652 A433.9556456358285 433.9556456358285 0.1650597663615374 0 0 72.3038099119967,197.64973390771942 L314.1226491257003,157.36869131146454 A516.5643412880021 516.5643412880021 0.1650597663615374 0 1 399,150.3478260869565 L399,191.65217391304344 A475.25999346191514 475.25999346191514 0.1650597663615374 0 0 320.9094196068518,198.111652614916 L79.09058039314823,238.3926952111709 A475.2599934619155 475.2599934619155 0.1650597663615374 0 1 1,244.85217391304346 Z\" style=\"fill: rgb(255, 255, 255);\"/><title>farm2 → Fred\napples\n10.0</title><text class=\"label\" dy=\"0.35em\" x=\"5\" y=\"224.2\"/></g><g class=\"link\" style=\"opacity: 0.999899;\"><path d=\"M1,244.85217391304352 A475.2599934619155 475.2599934619155 0.1650597663615374 0 0 79.09058039314823,238.39269521117092 L320.9094196068518,198.111652614916 A475.25999346191514 475.25999346191514 0.1650597663615374 0 1 399,191.65217391304344 L399,232.95652173913038 A433.95564563582815 433.95564563582815 0.1650597663615374 0 0 327.69619008800333,238.85461391836748 L85.87735087429976,279.1356565146224 A516.5643412880024 516.5643412880024 0.1650597663615374 0 1 1,286.1565217391305 Z\" style=\"fill: rgb(255, 255, 255);\"/><title>farm2 → Fred\nbananas\n10.0</title><text class=\"label\" dy=\"0.35em\" x=\"5\" y=\"265.504347826087\"/></g><g class=\"link\" style=\"opacity: 0.999899;\"><path d=\"M1,38 A0 0 0 0 0 1,38 L399,38 A0 0 0 0 0 399,38 L399,79.30434782608695 A0 0 0 0 0 399,79.30434782608695 L1,79.30434782608695 A0 0 0 0 0 1,79.30434782608695 Z\" style=\"fill: rgb(255, 255, 255);\"/><title>farm3 → Susan\napples\n10.0</title><text class=\"label\" dy=\"0.35em\" x=\"5\" y=\"58.65217391304348\"/></g></g><g class=\"nodes\"><g class=\"node\" transform=\"translate(399,38)\"><title>Susan</title><line x1=\"0\" x2=\"0\" y1=\"0\" y2=\"74.34782608695652\" style=\"display: inline; stroke: rgb(0, 0, 0);\"/><rect class=\"node-body\" width=\"1\" height=\"74.34782608695652\" style=\"fill: none;\"/><text class=\"node-value\" dy=\".35em\" text-anchor=\"middle\" transform=\"translate(0.5,37.17391304347826) rotate(-90)\" style=\"display: none;\"/><text class=\"node-title\" dy=\".35em\" text-anchor=\"start\" transform=\"translate(5,37.17391304347826)\" style=\"display: inline;\">Susan</text><rect class=\"node-click-target\" x=\"-5\" y=\"-5\" width=\"10\" height=\"79.34782608695652\" style=\"fill: none; visibility: hidden; pointer-events: all;\"/></g><g class=\"node\" transform=\"translate(0,38)\"><title>farm3</title><line x1=\"0\" x2=\"0\" y1=\"0\" y2=\"41.30434782608695\" style=\"display: inline; stroke: rgb(0, 0, 0);\"/><rect class=\"node-body\" width=\"1\" height=\"41.30434782608695\" style=\"fill: none;\"/><text class=\"node-value\" dy=\".35em\" text-anchor=\"middle\" transform=\"translate(0.5,20.652173913043477) rotate(-90)\" style=\"display: none;\"/><text class=\"node-title\" dy=\".35em\" text-anchor=\"end\" transform=\"translate(-4,20.652173913043477)\" style=\"display: inline;\">farm3</text><rect class=\"node-click-target\" x=\"-5\" y=\"-5\" width=\"10\" height=\"46.30434782608695\" style=\"fill: none; visibility: hidden; pointer-events: all;\"/></g><g class=\"node\" transform=\"translate(0,182.89565217391305)\"><title>farm2</title><line x1=\"0\" x2=\"0\" y1=\"0\" y2=\"103.26086956521738\" style=\"display: inline; stroke: rgb(0, 0, 0);\"/><rect class=\"node-body\" width=\"1\" height=\"103.26086956521738\" style=\"fill: none;\"/><text class=\"node-value\" dy=\".35em\" text-anchor=\"middle\" transform=\"translate(0.5,51.63043478260869) rotate(-90)\" style=\"display: none;\"/><text class=\"node-title\" dy=\".35em\" text-anchor=\"end\" transform=\"translate(-4,51.63043478260869)\" style=\"display: inline;\">farm2</text><rect class=\"node-click-target\" x=\"-5\" y=\"-5\" width=\"10\" height=\"108.26086956521738\" style=\"fill: none; visibility: hidden; pointer-events: all;\"/></g><g class=\"node\" transform=\"translate(0,102.10434782608695)\"><title>farm4</title><line x1=\"0\" x2=\"0\" y1=\"0\" y2=\"4.130434782608688\" style=\"display: inline; stroke: rgb(0, 0, 0);\"/><rect class=\"node-body\" width=\"1\" height=\"4.130434782608688\" style=\"fill: none;\"/><text class=\"node-value\" dy=\".35em\" text-anchor=\"middle\" transform=\"translate(0.5,2.065217391304344) rotate(-90)\" style=\"display: none;\"/><text class=\"node-title\" dy=\".35em\" text-anchor=\"end\" transform=\"translate(-4,2.065217391304344)\" style=\"display: inline;\">farm4</text><rect class=\"node-click-target\" x=\"-5\" y=\"-5\" width=\"10\" height=\"9.130434782608688\" style=\"fill: none; visibility: hidden; pointer-events: all;\"/></g><g class=\"node\" transform=\"translate(399,321.34782608695645)\"><title>Mary</title><line x1=\"0\" x2=\"0\" y1=\"0\" y2=\"20.652173913043498\" style=\"display: inline; stroke: rgb(0, 0, 0);\"/><rect class=\"node-body\" width=\"1\" height=\"20.652173913043498\" style=\"fill: none;\"/><text class=\"node-value\" dy=\".35em\" text-anchor=\"middle\" transform=\"translate(0.5,10.326086956521749) rotate(-90)\" style=\"display: none;\"/><text class=\"node-title\" dy=\".35em\" text-anchor=\"start\" transform=\"translate(5,10.326086956521749)\" style=\"display: inline;\">Mary</text><rect class=\"node-click-target\" x=\"-5\" y=\"-5\" width=\"10\" height=\"25.652173913043498\" style=\"fill: none; visibility: hidden; pointer-events: all;\"/></g><g class=\"node\" transform=\"translate(0,129.03478260869565)\"><title>farm5</title><line x1=\"0\" x2=\"0\" y1=\"0\" y2=\"4.130434782608688\" style=\"display: inline; stroke: rgb(0, 0, 0);\"/><rect class=\"node-body\" width=\"1\" height=\"4.130434782608688\" style=\"fill: none;\"/><text class=\"node-value\" dy=\".35em\" text-anchor=\"middle\" transform=\"translate(0.5,2.065217391304344) rotate(-90)\" style=\"display: none;\"/><text class=\"node-title\" dy=\".35em\" text-anchor=\"end\" transform=\"translate(-4,2.065217391304344)\" style=\"display: inline;\">farm5</text><rect class=\"node-click-target\" x=\"-5\" y=\"-5\" width=\"10\" height=\"9.130434782608688\" style=\"fill: none; visibility: hidden; pointer-events: all;\"/></g><g class=\"node\" transform=\"translate(0,155.96521739130435)\"><title>farm6</title><line x1=\"0\" x2=\"0\" y1=\"0\" y2=\"4.130434782608688\" style=\"display: inline; stroke: rgb(0, 0, 0);\"/><rect class=\"node-body\" width=\"1\" height=\"4.130434782608688\" style=\"fill: none;\"/><text class=\"node-value\" dy=\".35em\" text-anchor=\"middle\" transform=\"translate(0.5,2.065217391304344) rotate(-90)\" style=\"display: none;\"/><text class=\"node-title\" dy=\".35em\" text-anchor=\"end\" transform=\"translate(-4,2.065217391304344)\" style=\"display: inline;\">farm6</text><rect class=\"node-click-target\" x=\"-5\" y=\"-5\" width=\"10\" height=\"9.130434782608688\" style=\"fill: none; visibility: hidden; pointer-events: all;\"/></g><g class=\"node\" transform=\"translate(399,150.3478260869565)\"><title>Fred</title><line x1=\"0\" x2=\"0\" y1=\"0\" y2=\"82.6086956521739\" style=\"display: inline; stroke: rgb(0, 0, 0);\"/><rect class=\"node-body\" width=\"1\" height=\"82.6086956521739\" style=\"fill: none;\"/><text class=\"node-value\" dy=\".35em\" text-anchor=\"middle\" transform=\"translate(0.5,41.30434782608695) rotate(-90)\" style=\"display: none;\"/><text class=\"node-title\" dy=\".35em\" text-anchor=\"start\" transform=\"translate(5,41.30434782608695)\" style=\"display: inline;\">Fred</text><rect class=\"node-click-target\" x=\"-5\" y=\"-5\" width=\"10\" height=\"87.6086956521739\" style=\"fill: none; visibility: hidden; pointer-events: all;\"/></g><g class=\"node\" transform=\"translate(399,270.9565217391304)\"><title>James</title><line x1=\"0\" x2=\"0\" y1=\"0\" y2=\"12.391304347826065\" style=\"display: inline; stroke: rgb(0, 0, 0);\"/><rect class=\"node-body\" width=\"1\" height=\"12.391304347826065\" style=\"fill: none;\"/><text class=\"node-value\" dy=\".35em\" text-anchor=\"middle\" transform=\"translate(0.5,6.195652173913032) rotate(-90)\" style=\"display: none;\"/><text class=\"node-title\" dy=\".35em\" text-anchor=\"start\" transform=\"translate(5,6.195652173913032)\" style=\"display: inline;\">James</text><rect class=\"node-click-target\" x=\"-5\" y=\"-5\" width=\"10\" height=\"17.391304347826065\" style=\"fill: none; visibility: hidden; pointer-events: all;\"/></g><g class=\"node\" transform=\"translate(0,308.95652173913044)\"><title>farm1</title><line x1=\"0\" x2=\"0\" y1=\"0\" y2=\"33.04347826086956\" style=\"display: inline; stroke: rgb(0, 0, 0);\"/><rect class=\"node-body\" width=\"1\" height=\"33.04347826086956\" style=\"fill: none;\"/><text class=\"node-value\" dy=\".35em\" text-anchor=\"middle\" transform=\"translate(0.5,16.52173913043478) rotate(-90)\" style=\"display: none;\"/><text class=\"node-title\" dy=\".35em\" text-anchor=\"end\" transform=\"translate(-4,16.52173913043478)\" style=\"display: inline;\">farm1</text><rect class=\"node-click-target\" x=\"-5\" y=\"-5\" width=\"10\" height=\"38.04347826086956\" style=\"fill: none; visibility: hidden; pointer-events: all;\"/></g></g><g class=\"slice-titles\"/></g></svg>",
            "_view_module_version": "^0.4.1",
            "order": []
          }
        },
        "6320d0e66c3147e6ab5914866bbf07e1": {
          "model_module": "@jupyter-widgets/base",
          "model_name": "LayoutModel",
          "model_module_version": "1.2.0",
          "state": {
            "_view_name": "LayoutView",
            "grid_template_rows": null,
            "right": null,
            "justify_content": null,
            "_view_module": "@jupyter-widgets/base",
            "overflow": null,
            "_model_module_version": "1.2.0",
            "_view_count": null,
            "flex_flow": null,
            "width": null,
            "min_width": null,
            "border": null,
            "align_items": null,
            "bottom": null,
            "_model_module": "@jupyter-widgets/base",
            "top": null,
            "grid_column": null,
            "overflow_y": null,
            "overflow_x": null,
            "grid_auto_flow": null,
            "grid_area": null,
            "grid_template_columns": null,
            "flex": null,
            "_model_name": "LayoutModel",
            "justify_items": null,
            "grid_row": null,
            "max_height": null,
            "align_content": null,
            "visibility": null,
            "align_self": null,
            "height": null,
            "min_height": null,
            "padding": null,
            "grid_auto_rows": null,
            "grid_gap": null,
            "max_width": null,
            "order": null,
            "_view_module_version": "1.2.0",
            "grid_template_areas": null,
            "object_position": null,
            "object_fit": null,
            "grid_auto_columns": null,
            "margin": null,
            "display": null,
            "left": null
          }
        },
        "f208646af6fb40b49dac5edb3b1ad543": {
          "model_module": "jupyter-sankey-widget",
          "model_name": "SankeyModel",
          "model_module_version": "^0.4.1",
          "state": {
            "_view_name": "SankeyView",
            "links": [
              {
                "opacity": 1,
                "target": "customers^*",
                "title": "*",
                "color": "#FBB4AE",
                "value": 46,
                "source": "farms^*",
                "time": "*",
                "type": "*"
              }
            ],
            "_view_module": "jupyter-sankey-widget",
            "_model_module_version": "^0.4.1",
            "_view_count": null,
            "linkLabelFormat": "",
            "margins": {
              "top": 25,
              "left": 130,
              "right": 130,
              "bottom": 10
            },
            "_model_module": "jupyter-sankey-widget",
            "scale": 2.880434782608696,
            "layout": "IPY_MODEL_4c97f084e7944c5787f4f7ed324de278",
            "linkLabelMinWidth": 5,
            "nodes": [
              {
                "direction": "r",
                "hidden": false,
                "type": "process",
                "id": "farms^*",
                "title": "farms"
              },
              {
                "direction": "r",
                "hidden": false,
                "type": "process",
                "id": "customers^*",
                "title": "customers"
              }
            ],
            "rank_sets": [],
            "_dom_classes": [],
            "_model_name": "SankeyModel",
            "groups": [],
            "png": "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",
            "show_link_info_html": false,
            "align_link_types": false,
            "svg": "<?xml version=\"1.0\" standalone=\"no\"?><!DOCTYPE svg PUBLIC \"-//W3C//DTD SVG 1.1//EN\" \"http://www.w3.org/Graphics/SVG/1.1/DTD/svg11.dtd\"><svg xmlns=\"http://www.w3.org/2000/svg\" width=\"570\" height=\"300\" viewBox=\"0 0 570 300\" style=\"font-family: &quot;Helvetica Neue&quot;, Helvetica, Arial, sans-serif;\"><g class=\"sankey\" transform=\"translate(130,25)\"><g class=\"groups\"/><g class=\"links\"><g class=\"link\" style=\"opacity: 0.8;\"><path d=\"M1,66.25 A0 0 0 0 0 1,66.25 L309,66.25 A0 0 0 0 0 309,66.25 L309,198.75 A0 0 0 0 0 309,198.75 L1,198.75 A0 0 0 0 0 1,198.75 Z\" style=\"fill: rgb(251, 180, 174);\"/><title>farms → customers\n*\n46.0</title><text class=\"label\" dy=\"0.35em\" x=\"5\" y=\"132.5\"/></g></g><g class=\"nodes\"><g class=\"node\" transform=\"translate(0,66.25)\"><title>farms</title><line x1=\"0\" x2=\"0\" y1=\"0\" y2=\"132.5\" style=\"display: inline; stroke: rgb(0, 0, 0);\"/><rect class=\"node-body\" width=\"1\" height=\"132.5\" style=\"fill: none;\"/><text class=\"node-value\" dy=\".35em\" text-anchor=\"middle\" transform=\"translate(0.5,66.25) rotate(-90)\" style=\"display: none;\"/><text class=\"node-title\" dy=\".35em\" text-anchor=\"end\" transform=\"translate(-4,66.25)\" style=\"display: inline;\">farms</text><rect class=\"node-click-target\" x=\"-5\" y=\"-5\" width=\"10\" height=\"137.5\" style=\"fill: none; visibility: hidden; pointer-events: all;\"/></g><g class=\"node\" transform=\"translate(309,66.25)\"><title>customers</title><line x1=\"0\" x2=\"0\" y1=\"0\" y2=\"132.5\" style=\"display: inline; stroke: rgb(0, 0, 0);\"/><rect class=\"node-body\" width=\"1\" height=\"132.5\" style=\"fill: none;\"/><text class=\"node-value\" dy=\".35em\" text-anchor=\"middle\" transform=\"translate(0.5,66.25) rotate(-90)\" style=\"display: none;\"/><text class=\"node-title\" dy=\".35em\" text-anchor=\"start\" transform=\"translate(5,66.25)\" style=\"display: inline;\">customers</text><rect class=\"node-click-target\" x=\"-5\" y=\"-5\" width=\"10\" height=\"137.5\" style=\"fill: none; visibility: hidden; pointer-events: all;\"/></g></g><g class=\"slice-titles\"/></g></svg>",
            "_view_module_version": "^0.4.1",
            "order": [
              [
                [
                  "farms^*"
                ]
              ],
              [
                [
                  "customers^*"
                ]
              ]
            ]
          }
        },
        "4c97f084e7944c5787f4f7ed324de278": {
          "model_module": "@jupyter-widgets/base",
          "model_name": "LayoutModel",
          "model_module_version": "1.2.0",
          "state": {
            "_view_name": "LayoutView",
            "grid_template_rows": null,
            "right": null,
            "justify_content": null,
            "_view_module": "@jupyter-widgets/base",
            "overflow": null,
            "_model_module_version": "1.2.0",
            "_view_count": null,
            "flex_flow": null,
            "width": "570",
            "min_width": null,
            "border": null,
            "align_items": null,
            "bottom": null,
            "_model_module": "@jupyter-widgets/base",
            "top": null,
            "grid_column": null,
            "overflow_y": null,
            "overflow_x": null,
            "grid_auto_flow": null,
            "grid_area": null,
            "grid_template_columns": null,
            "flex": null,
            "_model_name": "LayoutModel",
            "justify_items": null,
            "grid_row": null,
            "max_height": null,
            "align_content": null,
            "visibility": null,
            "align_self": null,
            "height": "300",
            "min_height": null,
            "padding": null,
            "grid_auto_rows": null,
            "grid_gap": null,
            "max_width": null,
            "order": null,
            "_view_module_version": "1.2.0",
            "grid_template_areas": null,
            "object_position": null,
            "object_fit": null,
            "grid_auto_columns": null,
            "margin": null,
            "display": null,
            "left": null
          }
        },
        "8319fccb0bb74265b6afad0872b68652": {
          "model_module": "jupyter-sankey-widget",
          "model_name": "SankeyModel",
          "model_module_version": "^0.4.1",
          "state": {
            "_view_name": "SankeyView",
            "links": [
              {
                "opacity": 1,
                "target": "customers^James",
                "title": "*",
                "color": "#FBB4AE",
                "value": 3,
                "source": "farms^farm1",
                "time": "*",
                "type": "*"
              },
              {
                "opacity": 1,
                "target": "customers^Mary",
                "title": "*",
                "color": "#FBB4AE",
                "value": 5,
                "source": "farms^farm1",
                "time": "*",
                "type": "*"
              },
              {
                "opacity": 1,
                "target": "customers^Fred",
                "title": "*",
                "color": "#FBB4AE",
                "value": 20,
                "source": "farms^farm2",
                "time": "*",
                "type": "*"
              },
              {
                "opacity": 1,
                "target": "customers^Susan",
                "title": "*",
                "color": "#FBB4AE",
                "value": 5,
                "source": "farms^farm2",
                "time": "*",
                "type": "*"
              },
              {
                "opacity": 1,
                "target": "customers^Susan",
                "title": "*",
                "color": "#FBB4AE",
                "value": 10,
                "source": "farms^farm3",
                "time": "*",
                "type": "*"
              },
              {
                "opacity": 1,
                "target": "customers^Susan",
                "title": "*",
                "color": "#FBB4AE",
                "value": 3,
                "source": "farms^other",
                "time": "*",
                "type": "*"
              }
            ],
            "_view_module": "jupyter-sankey-widget",
            "_model_module_version": "^0.4.1",
            "_view_count": null,
            "linkLabelFormat": "",
            "margins": {
              "top": 25,
              "left": 130,
              "right": 130,
              "bottom": 10
            },
            "_model_module": "jupyter-sankey-widget",
            "scale": 2.880434782608696,
            "layout": "IPY_MODEL_6d42a639f9e74ac7bb3affd36b883d1f",
            "linkLabelMinWidth": 5,
            "nodes": [
              {
                "direction": "r",
                "hidden": false,
                "type": "process",
                "id": "farms^farm1",
                "title": "farm1"
              },
              {
                "direction": "r",
                "hidden": false,
                "type": "process",
                "id": "farms^farm2",
                "title": "farm2"
              },
              {
                "direction": "r",
                "hidden": false,
                "type": "process",
                "id": "farms^farm3",
                "title": "farm3"
              },
              {
                "direction": "r",
                "hidden": false,
                "type": "process",
                "id": "farms^other",
                "title": "other"
              },
              {
                "direction": "r",
                "hidden": false,
                "type": "process",
                "id": "customers^James",
                "title": "James"
              },
              {
                "direction": "r",
                "hidden": false,
                "type": "process",
                "id": "customers^Mary",
                "title": "Mary"
              },
              {
                "direction": "r",
                "hidden": false,
                "type": "process",
                "id": "customers^Fred",
                "title": "Fred"
              },
              {
                "direction": "r",
                "hidden": false,
                "type": "process",
                "id": "customers^Susan",
                "title": "Susan"
              }
            ],
            "rank_sets": [],
            "_dom_classes": [],
            "_model_name": "SankeyModel",
            "groups": [
              {
                "nodes": [
                  "farms^farm1",
                  "farms^farm2",
                  "farms^farm3",
                  "farms^other"
                ],
                "type": "process",
                "id": "farms",
                "title": ""
              },
              {
                "nodes": [
                  "customers^James",
                  "customers^Mary",
                  "customers^Fred",
                  "customers^Susan"
                ],
                "type": "process",
                "id": "customers",
                "title": ""
              }
            ],
            "png": "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",
            "show_link_info_html": false,
            "align_link_types": false,
            "svg": "<?xml version=\"1.0\" standalone=\"no\"?><!DOCTYPE svg PUBLIC \"-//W3C//DTD SVG 1.1//EN\" \"http://www.w3.org/Graphics/SVG/1.1/DTD/svg11.dtd\"><svg xmlns=\"http://www.w3.org/2000/svg\" width=\"570\" height=\"300\" viewBox=\"0 0 570 300\" style=\"font-family: &quot;Helvetica Neue&quot;, Helvetica, Arial, sans-serif;\"><g class=\"sankey\" transform=\"translate(130,25)\"><g class=\"groups\"><g class=\"group\" transform=\"translate(0,26.5)\" style=\"display: none;\"><rect x=\"-10\" y=\"-20\" width=\"21\" height=\"241.99999999999997\" style=\"fill: rgb(238, 238, 238); stroke: rgb(187, 187, 187); stroke-width: 0.5;\"/><text x=\"-10\" y=\"-25\" style=\"fill: rgb(153, 153, 153);\"/></g><g class=\"group\" transform=\"translate(309,26.5)\" style=\"display: none;\"><rect x=\"-10\" y=\"-20\" width=\"21\" height=\"242\" style=\"fill: rgb(238, 238, 238); stroke: rgb(187, 187, 187); stroke-width: 0.5;\"/><text x=\"-10\" y=\"-25\" style=\"fill: rgb(153, 153, 153);\"/></g></g><g class=\"links\"><g class=\"link\" style=\"opacity: 0.8;\"><path d=\"M1,26.5 A0 0 0 0 0 1,26.5 L309,26.5 A0 0 0 0 0 309,26.5 L309,35.141304347826086 A0 0 0 0 0 309,35.141304347826086 L1,35.141304347826086 A0 0 0 0 0 1,35.141304347826086 Z\" style=\"fill: rgb(251, 180, 174);\"/><title>farm1 → James\n*\n3.00</title><text class=\"label\" dy=\"0.35em\" x=\"5\" y=\"30.820652173913043\"/></g><g class=\"link\" style=\"opacity: 0.8;\"><path d=\"M1,229.85869565217388 A0 0 0 0 1 1,229.85869565217388 L309,229.8586956521739 A0 0 0 0 0 309,229.8586956521739 L309,238.49999999999997 A0 0 0 0 1 309,238.49999999999997 L1,238.49999999999994 A0 0 0 0 0 1,238.49999999999994 Z\" style=\"fill: rgb(251, 180, 174);\"/><title>other → Susan\n*\n3.00</title><text class=\"label\" dy=\"0.35em\" x=\"5\" y=\"234.1793478260869\"/></g><g class=\"link\" style=\"opacity: 0.8;\"><path d=\"M1,35.141304347826086 A548.1421246923708 548.1421246923708 0.10516279089720904 0 1 58.53796454885263,38.16952213830768 L252.9738181343341,58.692651541133266 A533.7399507793273 533.7399507793273 0.10516279089720904 0 0 309,61.641304347826086 L309,76.04347826086956 A548.1421246923708 548.1421246923708 0.10516279089720904 0 1 251.4620354511474,73.01526047038797 L57.026181865665905,52.49213106756239 A533.7399507793273 533.7399507793273 0.10516279089720904 0 0 1,49.54347826086957 Z\" style=\"fill: rgb(251, 180, 174);\"/><title>farm1 → Mary\n*\n5.00</title><text class=\"label\" dy=\"0.35em\" x=\"5\" y=\"42.34239130434783\"/></g><g class=\"link\" style=\"opacity: 0.8;\"><path d=\"M1,133.65217391304347 A283.63410582444624 283.63410582444624 0.20886468334819597 0 1 59.811359096658734,139.8164074485563 L253.17492289263342,180.80094350936847 A269.23193191140274 269.23193191140274 0.20886468334819597 0 0 309,186.65217391304347 L309,201.05434782608697 A283.63410582444624 283.63410582444624 0.20886468334819597 0 1 250.18864090334128,194.89011429057413 L56.82507710736657,153.90557822976197 A269.23193191140274 269.23193191140274 0.20886468334819597 0 0 1,148.05434782608697 Z\" style=\"fill: rgb(251, 180, 174);\"/><title>farm2 → Susan\n*\n5.00</title><text class=\"label\" dy=\"0.35em\" x=\"5\" y=\"140.85326086956522\"/></g><g class=\"link\" style=\"opacity: 0.8;\"><path d=\"M1,174.55434782608694 A555.3432116488925 555.3432116488925 0.10516279089720904 0 1 59.293855890446,177.62234810846292 L253.72970947592748,198.1454775112885 A526.5388638228055 526.5388638228055 0.10516279089720904 0 0 309,201.05434782608694 L309,229.85869565217388 A555.3432116488925 555.3432116488925 0.10516279089720904 0 1 250.706144109554,226.7906953697979 L56.270290524072536,206.2675659669723 A526.5388638228055 526.5388638228055 0.10516279089720904 0 0 1,203.35869565217388 Z\" style=\"fill: rgb(251, 180, 174);\"/><title>farm3 → Susan\n*\n10.0</title><text class=\"label\" dy=\"0.35em\" x=\"5\" y=\"188.9565217391304\"/></g><g class=\"link\" style=\"opacity: 0.8;\"><path d=\"M1,76.04347826086956 A569.7453855619358 569.7453855619358 0.10516279089720904 0 1 60.8056385736327,79.1910435270343 L255.2414921591142,99.7141729298599 A512.1366899097618 512.1366899097618 0.10516279089720904 0 0 309,102.54347826086958 L309,160.1521739130435 A569.7453855619358 569.7453855619358 0.10516279089720904 0 1 249.1943614263673,157.00460864687875 L54.75850784088579,136.48147924405316 A512.1366899097618 512.1366899097618 0.10516279089720904 0 0 1,133.65217391304347 Z\" style=\"fill: rgb(251, 180, 174);\"/><title>farm2 → Fred\n*\n20.0</title><text class=\"label\" dy=\"0.35em\" x=\"5\" y=\"104.84782608695652\"/></g></g><g class=\"nodes\"><g class=\"node\" transform=\"translate(0,26.5)\"><title>farm1</title><line x1=\"0\" x2=\"0\" y1=\"0\" y2=\"23.043478260869563\" style=\"display: inline; stroke: rgb(0, 0, 0);\"/><rect class=\"node-body\" width=\"1\" height=\"23.043478260869563\" style=\"fill: none;\"/><text class=\"node-value\" dy=\".35em\" text-anchor=\"middle\" transform=\"translate(0.5,11.521739130434781) rotate(-90)\" style=\"display: none;\"/><text class=\"node-title\" dy=\".35em\" text-anchor=\"end\" transform=\"translate(-4,11.521739130434781)\" style=\"display: inline;\">farm1</text><rect class=\"node-click-target\" x=\"-5\" y=\"-5\" width=\"10\" height=\"28.043478260869563\" style=\"fill: none; visibility: hidden; pointer-events: all;\"/></g><g class=\"node\" transform=\"translate(0,76.04347826086956)\"><title>farm2</title><line x1=\"0\" x2=\"0\" y1=\"0\" y2=\"72.01086956521738\" style=\"display: inline; stroke: rgb(0, 0, 0);\"/><rect class=\"node-body\" width=\"1\" height=\"72.01086956521738\" style=\"fill: none;\"/><text class=\"node-value\" dy=\".35em\" text-anchor=\"middle\" transform=\"translate(0.5,36.00543478260869) rotate(-90)\" style=\"display: none;\"/><text class=\"node-title\" dy=\".35em\" text-anchor=\"end\" transform=\"translate(-4,36.00543478260869)\" style=\"display: inline;\">farm2</text><rect class=\"node-click-target\" x=\"-5\" y=\"-5\" width=\"10\" height=\"77.01086956521738\" style=\"fill: none; visibility: hidden; pointer-events: all;\"/></g><g class=\"node\" transform=\"translate(0,174.55434782608694)\"><title>farm3</title><line x1=\"0\" x2=\"0\" y1=\"0\" y2=\"28.804347826086968\" style=\"display: inline; stroke: rgb(0, 0, 0);\"/><rect class=\"node-body\" width=\"1\" height=\"28.804347826086968\" style=\"fill: none;\"/><text class=\"node-value\" dy=\".35em\" text-anchor=\"middle\" transform=\"translate(0.5,14.402173913043484) rotate(-90)\" style=\"display: none;\"/><text class=\"node-title\" dy=\".35em\" text-anchor=\"end\" transform=\"translate(-4,14.402173913043484)\" style=\"display: inline;\">farm3</text><rect class=\"node-click-target\" x=\"-5\" y=\"-5\" width=\"10\" height=\"33.80434782608697\" style=\"fill: none; visibility: hidden; pointer-events: all;\"/></g><g class=\"node\" transform=\"translate(0,229.85869565217388)\"><title>other</title><line x1=\"0\" x2=\"0\" y1=\"0\" y2=\"8.641304347826093\" style=\"display: inline; stroke: rgb(0, 0, 0);\"/><rect class=\"node-body\" width=\"1\" height=\"8.641304347826093\" style=\"fill: none;\"/><text class=\"node-value\" dy=\".35em\" text-anchor=\"middle\" transform=\"translate(0.5,4.320652173913047) rotate(-90)\" style=\"display: none;\"/><text class=\"node-title\" dy=\".35em\" text-anchor=\"end\" transform=\"translate(-4,4.320652173913047)\" style=\"display: inline;\">other</text><rect class=\"node-click-target\" x=\"-5\" y=\"-5\" width=\"10\" height=\"13.641304347826093\" style=\"fill: none; visibility: hidden; pointer-events: all;\"/></g><g class=\"node\" transform=\"translate(309,26.5)\"><title>James</title><line x1=\"0\" x2=\"0\" y1=\"0\" y2=\"8.641304347826086\" style=\"display: inline; stroke: rgb(0, 0, 0);\"/><rect class=\"node-body\" width=\"1\" height=\"8.641304347826086\" style=\"fill: none;\"/><text class=\"node-value\" dy=\".35em\" text-anchor=\"middle\" transform=\"translate(0.5,4.320652173913043) rotate(-90)\" style=\"display: none;\"/><text class=\"node-title\" dy=\".35em\" text-anchor=\"start\" transform=\"translate(5,4.320652173913043)\" style=\"display: inline;\">James</text><rect class=\"node-click-target\" x=\"-5\" y=\"-5\" width=\"10\" height=\"13.641304347826086\" style=\"fill: none; visibility: hidden; pointer-events: all;\"/></g><g class=\"node\" transform=\"translate(309,61.641304347826086)\"><title>Mary</title><line x1=\"0\" x2=\"0\" y1=\"0\" y2=\"14.402173913043477\" style=\"display: inline; stroke: rgb(0, 0, 0);\"/><rect class=\"node-body\" width=\"1\" height=\"14.402173913043477\" style=\"fill: none;\"/><text class=\"node-value\" dy=\".35em\" text-anchor=\"middle\" transform=\"translate(0.5,7.201086956521738) rotate(-90)\" style=\"display: none;\"/><text class=\"node-title\" dy=\".35em\" text-anchor=\"start\" transform=\"translate(5,7.201086956521738)\" style=\"display: inline;\">Mary</text><rect class=\"node-click-target\" x=\"-5\" y=\"-5\" width=\"10\" height=\"19.402173913043477\" style=\"fill: none; visibility: hidden; pointer-events: all;\"/></g><g class=\"node\" transform=\"translate(309,102.54347826086956)\"><title>Fred</title><line x1=\"0\" x2=\"0\" y1=\"0\" y2=\"57.60869565217391\" style=\"display: inline; stroke: rgb(0, 0, 0);\"/><rect class=\"node-body\" width=\"1\" height=\"57.60869565217391\" style=\"fill: none;\"/><text class=\"node-value\" dy=\".35em\" text-anchor=\"middle\" transform=\"translate(0.5,28.804347826086953) rotate(-90)\" style=\"display: none;\"/><text class=\"node-title\" dy=\".35em\" text-anchor=\"start\" transform=\"translate(5,28.804347826086953)\" style=\"display: inline;\">Fred</text><rect class=\"node-click-target\" x=\"-5\" y=\"-5\" width=\"10\" height=\"62.60869565217391\" style=\"fill: none; visibility: hidden; pointer-events: all;\"/></g><g class=\"node\" transform=\"translate(309,186.65217391304347)\"><title>Susan</title><line x1=\"0\" x2=\"0\" y1=\"0\" y2=\"51.84782608695653\" style=\"display: inline; stroke: rgb(0, 0, 0);\"/><rect class=\"node-body\" width=\"1\" height=\"51.84782608695653\" style=\"fill: none;\"/><text class=\"node-value\" dy=\".35em\" text-anchor=\"middle\" transform=\"translate(0.5,25.923913043478265) rotate(-90)\" style=\"display: none;\"/><text class=\"node-title\" dy=\".35em\" text-anchor=\"start\" transform=\"translate(5,25.923913043478265)\" style=\"display: inline;\">Susan</text><rect class=\"node-click-target\" x=\"-5\" y=\"-5\" width=\"10\" height=\"56.84782608695653\" style=\"fill: none; visibility: hidden; pointer-events: all;\"/></g></g><g class=\"slice-titles\"/></g></svg>",
            "_view_module_version": "^0.4.1",
            "order": [
              [
                [
                  "farms^farm1",
                  "farms^farm2",
                  "farms^farm3",
                  "farms^other"
                ]
              ],
              [
                [
                  "customers^James",
                  "customers^Mary",
                  "customers^Fred",
                  "customers^Susan"
                ]
              ]
            ]
          }
        },
        "6d42a639f9e74ac7bb3affd36b883d1f": {
          "model_module": "@jupyter-widgets/base",
          "model_name": "LayoutModel",
          "model_module_version": "1.2.0",
          "state": {
            "_view_name": "LayoutView",
            "grid_template_rows": null,
            "right": null,
            "justify_content": null,
            "_view_module": "@jupyter-widgets/base",
            "overflow": null,
            "_model_module_version": "1.2.0",
            "_view_count": null,
            "flex_flow": null,
            "width": "570",
            "min_width": null,
            "border": null,
            "align_items": null,
            "bottom": null,
            "_model_module": "@jupyter-widgets/base",
            "top": null,
            "grid_column": null,
            "overflow_y": null,
            "overflow_x": null,
            "grid_auto_flow": null,
            "grid_area": null,
            "grid_template_columns": null,
            "flex": null,
            "_model_name": "LayoutModel",
            "justify_items": null,
            "grid_row": null,
            "max_height": null,
            "align_content": null,
            "visibility": null,
            "align_self": null,
            "height": "300",
            "min_height": null,
            "padding": null,
            "grid_auto_rows": null,
            "grid_gap": null,
            "max_width": null,
            "order": null,
            "_view_module_version": "1.2.0",
            "grid_template_areas": null,
            "object_position": null,
            "object_fit": null,
            "grid_auto_columns": null,
            "margin": null,
            "display": null,
            "left": null
          }
        },
        "6cc84e557b8b42bb8c2d3e989c033551": {
          "model_module": "jupyter-sankey-widget",
          "model_name": "SankeyModel",
          "model_module_version": "^0.4.1",
          "state": {
            "_view_name": "SankeyView",
            "links": [
              {
                "opacity": 1,
                "target": "customers^Men",
                "title": "*",
                "color": "#FBB4AE",
                "value": 3,
                "source": "farms^farm1",
                "time": "*",
                "type": "*"
              },
              {
                "opacity": 1,
                "target": "customers^Women",
                "title": "*",
                "color": "#FBB4AE",
                "value": 5,
                "source": "farms^farm1",
                "time": "*",
                "type": "*"
              },
              {
                "opacity": 1,
                "target": "customers^Men",
                "title": "*",
                "color": "#FBB4AE",
                "value": 20,
                "source": "farms^farm2",
                "time": "*",
                "type": "*"
              },
              {
                "opacity": 1,
                "target": "customers^Women",
                "title": "*",
                "color": "#FBB4AE",
                "value": 5,
                "source": "farms^farm2",
                "time": "*",
                "type": "*"
              },
              {
                "opacity": 1,
                "target": "customers^Women",
                "title": "*",
                "color": "#FBB4AE",
                "value": 10,
                "source": "farms^farm3",
                "time": "*",
                "type": "*"
              },
              {
                "opacity": 1,
                "target": "customers^Women",
                "title": "*",
                "color": "#FBB4AE",
                "value": 3,
                "source": "farms^other",
                "time": "*",
                "type": "*"
              }
            ],
            "_view_module": "jupyter-sankey-widget",
            "_model_module_version": "^0.4.1",
            "_view_count": null,
            "linkLabelFormat": "",
            "margins": {
              "top": 25,
              "left": 130,
              "right": 130,
              "bottom": 10
            },
            "_model_module": "jupyter-sankey-widget",
            "scale": 2.880434782608696,
            "layout": "IPY_MODEL_6ea89f7c0de043e38ca118effef5ee43",
            "linkLabelMinWidth": 5,
            "nodes": [
              {
                "direction": "r",
                "hidden": false,
                "type": "process",
                "id": "farms^farm1",
                "title": "farm1"
              },
              {
                "direction": "r",
                "hidden": false,
                "type": "process",
                "id": "farms^farm2",
                "title": "farm2"
              },
              {
                "direction": "r",
                "hidden": false,
                "type": "process",
                "id": "farms^farm3",
                "title": "farm3"
              },
              {
                "direction": "r",
                "hidden": false,
                "type": "process",
                "id": "farms^other",
                "title": "other"
              },
              {
                "direction": "r",
                "hidden": false,
                "type": "process",
                "id": "customers^Men",
                "title": "Men"
              },
              {
                "direction": "r",
                "hidden": false,
                "type": "process",
                "id": "customers^Women",
                "title": "Women"
              }
            ],
            "rank_sets": [],
            "_dom_classes": [],
            "_model_name": "SankeyModel",
            "groups": [
              {
                "nodes": [
                  "farms^farm1",
                  "farms^farm2",
                  "farms^farm3",
                  "farms^other"
                ],
                "type": "process",
                "id": "farms",
                "title": ""
              },
              {
                "nodes": [
                  "customers^Men",
                  "customers^Women"
                ],
                "type": "process",
                "id": "customers",
                "title": ""
              }
            ],
            "png": "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",
            "show_link_info_html": false,
            "align_link_types": false,
            "svg": "<?xml version=\"1.0\" standalone=\"no\"?><!DOCTYPE svg PUBLIC \"-//W3C//DTD SVG 1.1//EN\" \"http://www.w3.org/Graphics/SVG/1.1/DTD/svg11.dtd\"><svg xmlns=\"http://www.w3.org/2000/svg\" width=\"570\" height=\"300\" viewBox=\"0 0 570 300\" style=\"font-family: &quot;Helvetica Neue&quot;, Helvetica, Arial, sans-serif;\"><g class=\"sankey\" transform=\"translate(130,25)\"><g class=\"groups\"><g class=\"group\" transform=\"translate(0,26.5)\" style=\"display: none;\"><rect x=\"-10\" y=\"-20\" width=\"21\" height=\"241.99999999999997\" style=\"fill: rgb(238, 238, 238); stroke: rgb(187, 187, 187); stroke-width: 0.5;\"/><text x=\"-10\" y=\"-25\" style=\"fill: rgb(153, 153, 153);\"/></g><g class=\"group\" transform=\"translate(309,26.5)\" style=\"display: none;\"><rect x=\"-10\" y=\"-20\" width=\"21\" height=\"242\" style=\"fill: rgb(238, 238, 238); stroke: rgb(187, 187, 187); stroke-width: 0.5;\"/><text x=\"-10\" y=\"-25\" style=\"fill: rgb(153, 153, 153);\"/></g></g><g class=\"links\"><g class=\"link\" style=\"opacity: 0.8;\"><path d=\"M1,26.5 A0 0 0 0 0 1,26.5 L309,26.5 A0 0 0 0 0 309,26.5 L309,35.141304347826086 A0 0 0 0 0 309,35.141304347826086 L1,35.141304347826086 A0 0 0 0 0 1,35.141304347826086 Z\" style=\"fill: rgb(251, 180, 174);\"/><title>farm1 → Men\n*\n3.00</title><text class=\"label\" dy=\"0.35em\" x=\"5\" y=\"30.820652173913043\"/></g><g class=\"link\" style=\"opacity: 0.8;\"><path d=\"M1,229.85869565217388 A0 0 0 0 1 1,229.85869565217388 L309,229.8586956521739 A0 0 0 0 0 309,229.8586956521739 L309,238.49999999999997 A0 0 0 0 1 309,238.49999999999997 L1,238.49999999999994 A0 0 0 0 0 1,238.49999999999994 Z\" style=\"fill: rgb(251, 180, 174);\"/><title>other → Women\n*\n3.00</title><text class=\"label\" dy=\"0.35em\" x=\"5\" y=\"234.1793478260869\"/></g><g class=\"link\" style=\"opacity: 0.8;\"><path d=\"M1,35.141304347826086 A131.55074313564637 131.55074313564637 0.5144467791165561 0 1 65.72997853773688,52.168565620384946 L251.35665880133752,157.08688310446956 A117.14856922260289 117.14856922260289 0.5144467791165561 0 0 309,172.25 L309,186.6521739130435 A131.55074313564637 131.55074313564637 0.5144467791165561 0 1 244.27002146226312,169.62491264048464 L58.64334119866247,64.70659515640003 A117.14856922260289 117.14856922260289 0.5144467791165561 0 0 1,49.54347826086957 Z\" style=\"fill: rgb(251, 180, 174);\"/><title>farm1 → Women\n*\n5.00</title><text class=\"label\" dy=\"0.35em\" x=\"5\" y=\"42.34239130434783\"/></g><g class=\"link\" style=\"opacity: 0.8;\"><path d=\"M1,133.65217391304347 A283.63410582444624 283.63410582444624 0.20886468334819597 0 1 59.811359096658734,139.8164074485563 L253.17492289263342,180.80094350936847 A269.23193191140274 269.23193191140274 0.20886468334819597 0 0 309,186.65217391304347 L309,201.05434782608697 A283.63410582444624 283.63410582444624 0.20886468334819597 0 1 250.18864090334128,194.89011429057413 L56.82507710736657,153.90557822976197 A269.23193191140274 269.23193191140274 0.20886468334819597 0 0 1,148.05434782608697 Z\" style=\"fill: rgb(251, 180, 174);\"/><title>farm2 → Women\n*\n5.00</title><text class=\"label\" dy=\"0.35em\" x=\"5\" y=\"140.85326086956522\"/></g><g class=\"link\" style=\"opacity: 0.8;\"><path d=\"M1,174.55434782608694 A555.3432116488925 555.3432116488925 0.10516279089720904 0 1 59.293855890446,177.62234810846292 L253.72970947592748,198.1454775112885 A526.5388638228055 526.5388638228055 0.10516279089720904 0 0 309,201.05434782608694 L309,229.85869565217388 A555.3432116488925 555.3432116488925 0.10516279089720904 0 1 250.706144109554,226.7906953697979 L56.270290524072536,206.2675659669723 A526.5388638228055 526.5388638228055 0.10516279089720904 0 0 1,203.35869565217388 Z\" style=\"fill: rgb(251, 180, 174);\"/><title>farm3 → Women\n*\n10.0</title><text class=\"label\" dy=\"0.35em\" x=\"5\" y=\"188.9565217391304\"/></g><g class=\"link\" style=\"opacity: 0.8;\"><path d=\"M1,76.04347826086956 A325.22446749818033 325.22446749818033 0.16179340347433158 0 0 53.389904167358324,71.79603829084422 L247.3300005567818,40.141115375344015 A382.8331631503542 382.8331631503542 0.16179340347433158 0 1 309,35.14130434782609 L309,92.75 A325.22446749818033 325.22446749818033 0.16179340347433158 0 0 256.61009583264166,96.99743997002534 L62.66999944321819,128.65236288552555 A382.8331631503542 382.8331631503542 0.16179340347433158 0 1 1,133.65217391304347 Z\" style=\"fill: rgb(251, 180, 174);\"/><title>farm2 → Men\n*\n20.0</title><text class=\"label\" dy=\"0.35em\" x=\"5\" y=\"104.84782608695652\"/></g></g><g class=\"nodes\"><g class=\"node\" transform=\"translate(0,26.5)\"><title>farm1</title><line x1=\"0\" x2=\"0\" y1=\"0\" y2=\"23.043478260869563\" style=\"display: inline; stroke: rgb(0, 0, 0);\"/><rect class=\"node-body\" width=\"1\" height=\"23.043478260869563\" style=\"fill: none;\"/><text class=\"node-value\" dy=\".35em\" text-anchor=\"middle\" transform=\"translate(0.5,11.521739130434781) rotate(-90)\" style=\"display: none;\"/><text class=\"node-title\" dy=\".35em\" text-anchor=\"end\" transform=\"translate(-4,11.521739130434781)\" style=\"display: inline;\">farm1</text><rect class=\"node-click-target\" x=\"-5\" y=\"-5\" width=\"10\" height=\"28.043478260869563\" style=\"fill: none; visibility: hidden; pointer-events: all;\"/></g><g class=\"node\" transform=\"translate(0,76.04347826086956)\"><title>farm2</title><line x1=\"0\" x2=\"0\" y1=\"0\" y2=\"72.01086956521738\" style=\"display: inline; stroke: rgb(0, 0, 0);\"/><rect class=\"node-body\" width=\"1\" height=\"72.01086956521738\" style=\"fill: none;\"/><text class=\"node-value\" dy=\".35em\" text-anchor=\"middle\" transform=\"translate(0.5,36.00543478260869) rotate(-90)\" style=\"display: none;\"/><text class=\"node-title\" dy=\".35em\" text-anchor=\"end\" transform=\"translate(-4,36.00543478260869)\" style=\"display: inline;\">farm2</text><rect class=\"node-click-target\" x=\"-5\" y=\"-5\" width=\"10\" height=\"77.01086956521738\" style=\"fill: none; visibility: hidden; pointer-events: all;\"/></g><g class=\"node\" transform=\"translate(0,174.55434782608694)\"><title>farm3</title><line x1=\"0\" x2=\"0\" y1=\"0\" y2=\"28.804347826086968\" style=\"display: inline; stroke: rgb(0, 0, 0);\"/><rect class=\"node-body\" width=\"1\" height=\"28.804347826086968\" style=\"fill: none;\"/><text class=\"node-value\" dy=\".35em\" text-anchor=\"middle\" transform=\"translate(0.5,14.402173913043484) rotate(-90)\" style=\"display: none;\"/><text class=\"node-title\" dy=\".35em\" text-anchor=\"end\" transform=\"translate(-4,14.402173913043484)\" style=\"display: inline;\">farm3</text><rect class=\"node-click-target\" x=\"-5\" y=\"-5\" width=\"10\" height=\"33.80434782608697\" style=\"fill: none; visibility: hidden; pointer-events: all;\"/></g><g class=\"node\" transform=\"translate(0,229.85869565217388)\"><title>other</title><line x1=\"0\" x2=\"0\" y1=\"0\" y2=\"8.641304347826093\" style=\"display: inline; stroke: rgb(0, 0, 0);\"/><rect class=\"node-body\" width=\"1\" height=\"8.641304347826093\" style=\"fill: none;\"/><text class=\"node-value\" dy=\".35em\" text-anchor=\"middle\" transform=\"translate(0.5,4.320652173913047) rotate(-90)\" style=\"display: none;\"/><text class=\"node-title\" dy=\".35em\" text-anchor=\"end\" transform=\"translate(-4,4.320652173913047)\" style=\"display: inline;\">other</text><rect class=\"node-click-target\" x=\"-5\" y=\"-5\" width=\"10\" height=\"13.641304347826093\" style=\"fill: none; visibility: hidden; pointer-events: all;\"/></g><g class=\"node\" transform=\"translate(309,26.5)\"><title>Men</title><line x1=\"0\" x2=\"0\" y1=\"0\" y2=\"66.25\" style=\"display: inline; stroke: rgb(0, 0, 0);\"/><rect class=\"node-body\" width=\"1\" height=\"66.25\" style=\"fill: none;\"/><text class=\"node-value\" dy=\".35em\" text-anchor=\"middle\" transform=\"translate(0.5,33.125) rotate(-90)\" style=\"display: none;\"/><text class=\"node-title\" dy=\".35em\" text-anchor=\"start\" transform=\"translate(5,33.125)\" style=\"display: inline;\">Men</text><rect class=\"node-click-target\" x=\"-5\" y=\"-5\" width=\"10\" height=\"71.25\" style=\"fill: none; visibility: hidden; pointer-events: all;\"/></g><g class=\"node\" transform=\"translate(309,172.25)\"><title>Women</title><line x1=\"0\" x2=\"0\" y1=\"0\" y2=\"66.25\" style=\"display: inline; stroke: rgb(0, 0, 0);\"/><rect class=\"node-body\" width=\"1\" height=\"66.25\" style=\"fill: none;\"/><text class=\"node-value\" dy=\".35em\" text-anchor=\"middle\" transform=\"translate(0.5,33.125) rotate(-90)\" style=\"display: none;\"/><text class=\"node-title\" dy=\".35em\" text-anchor=\"start\" transform=\"translate(5,33.125)\" style=\"display: inline;\">Women</text><rect class=\"node-click-target\" x=\"-5\" y=\"-5\" width=\"10\" height=\"71.25\" style=\"fill: none; visibility: hidden; pointer-events: all;\"/></g></g><g class=\"slice-titles\"/></g></svg>",
            "_view_module_version": "^0.4.1",
            "order": [
              [
                [
                  "farms^farm1",
                  "farms^farm2",
                  "farms^farm3",
                  "farms^other"
                ]
              ],
              [
                [
                  "customers^Men",
                  "customers^Women"
                ]
              ]
            ]
          }
        },
        "6ea89f7c0de043e38ca118effef5ee43": {
          "model_module": "@jupyter-widgets/base",
          "model_name": "LayoutModel",
          "model_module_version": "1.2.0",
          "state": {
            "_view_name": "LayoutView",
            "grid_template_rows": null,
            "right": null,
            "justify_content": null,
            "_view_module": "@jupyter-widgets/base",
            "overflow": null,
            "_model_module_version": "1.2.0",
            "_view_count": null,
            "flex_flow": null,
            "width": "570",
            "min_width": null,
            "border": null,
            "align_items": null,
            "bottom": null,
            "_model_module": "@jupyter-widgets/base",
            "top": null,
            "grid_column": null,
            "overflow_y": null,
            "overflow_x": null,
            "grid_auto_flow": null,
            "grid_area": null,
            "grid_template_columns": null,
            "flex": null,
            "_model_name": "LayoutModel",
            "justify_items": null,
            "grid_row": null,
            "max_height": null,
            "align_content": null,
            "visibility": null,
            "align_self": null,
            "height": "300",
            "min_height": null,
            "padding": null,
            "grid_auto_rows": null,
            "grid_gap": null,
            "max_width": null,
            "order": null,
            "_view_module_version": "1.2.0",
            "grid_template_areas": null,
            "object_position": null,
            "object_fit": null,
            "grid_auto_columns": null,
            "margin": null,
            "display": null,
            "left": null
          }
        },
        "1e7a59d11cb647628de875f2a3fa3c36": {
          "model_module": "jupyter-sankey-widget",
          "model_name": "SankeyModel",
          "model_module_version": "^0.4.1",
          "state": {
            "_view_name": "SankeyView",
            "links": [
              {
                "opacity": 1,
                "target": "customers^Men",
                "title": "apples",
                "color": "yellowgreen",
                "value": 3,
                "source": "farms^farm1",
                "time": "*",
                "type": "apples"
              },
              {
                "opacity": 1,
                "target": "customers^Women",
                "title": "apples",
                "color": "yellowgreen",
                "value": 5,
                "source": "farms^farm1",
                "time": "*",
                "type": "apples"
              },
              {
                "opacity": 1,
                "target": "customers^Men",
                "title": "apples",
                "color": "yellowgreen",
                "value": 10,
                "source": "farms^farm2",
                "time": "*",
                "type": "apples"
              },
              {
                "opacity": 1,
                "target": "customers^Men",
                "title": "bananas",
                "color": "gold",
                "value": 10,
                "source": "farms^farm2",
                "time": "*",
                "type": "bananas"
              },
              {
                "opacity": 1,
                "target": "customers^Women",
                "title": "bananas",
                "color": "gold",
                "value": 5,
                "source": "farms^farm2",
                "time": "*",
                "type": "bananas"
              },
              {
                "opacity": 1,
                "target": "customers^Women",
                "title": "apples",
                "color": "yellowgreen",
                "value": 10,
                "source": "farms^farm3",
                "time": "*",
                "type": "apples"
              },
              {
                "opacity": 1,
                "target": "customers^Women",
                "title": "bananas",
                "color": "gold",
                "value": 3,
                "source": "farms^other",
                "time": "*",
                "type": "bananas"
              }
            ],
            "_view_module": "jupyter-sankey-widget",
            "_model_module_version": "^0.4.1",
            "_view_count": null,
            "linkLabelFormat": "",
            "margins": {
              "top": 25,
              "left": 130,
              "right": 130,
              "bottom": 10
            },
            "_model_module": "jupyter-sankey-widget",
            "scale": 2.880434782608696,
            "layout": "IPY_MODEL_b89211849d6d474697b76c1c7f5f6f48",
            "linkLabelMinWidth": 5,
            "nodes": [
              {
                "direction": "r",
                "hidden": false,
                "type": "process",
                "id": "farms^farm1",
                "title": "farm1"
              },
              {
                "direction": "r",
                "hidden": false,
                "type": "process",
                "id": "farms^farm2",
                "title": "farm2"
              },
              {
                "direction": "r",
                "hidden": false,
                "type": "process",
                "id": "farms^farm3",
                "title": "farm3"
              },
              {
                "direction": "r",
                "hidden": false,
                "type": "process",
                "id": "farms^other",
                "title": "other"
              },
              {
                "direction": "r",
                "hidden": false,
                "type": "process",
                "id": "customers^Men",
                "title": "Men"
              },
              {
                "direction": "r",
                "hidden": false,
                "type": "process",
                "id": "customers^Women",
                "title": "Women"
              }
            ],
            "rank_sets": [],
            "_dom_classes": [],
            "_model_name": "SankeyModel",
            "groups": [
              {
                "nodes": [
                  "farms^farm1",
                  "farms^farm2",
                  "farms^farm3",
                  "farms^other"
                ],
                "type": "process",
                "id": "farms",
                "title": ""
              },
              {
                "nodes": [
                  "customers^Men",
                  "customers^Women"
                ],
                "type": "process",
                "id": "customers",
                "title": ""
              }
            ],
            "png": "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",
            "show_link_info_html": false,
            "align_link_types": false,
            "svg": "<?xml version=\"1.0\" standalone=\"no\"?><!DOCTYPE svg PUBLIC \"-//W3C//DTD SVG 1.1//EN\" \"http://www.w3.org/Graphics/SVG/1.1/DTD/svg11.dtd\"><svg xmlns=\"http://www.w3.org/2000/svg\" width=\"570\" height=\"300\" viewBox=\"0 0 570 300\" style=\"font-family: &quot;Helvetica Neue&quot;, Helvetica, Arial, sans-serif;\"><g class=\"sankey\" transform=\"translate(130,25)\"><g class=\"groups\"><g class=\"group\" transform=\"translate(0,26.5)\" style=\"display: none;\"><rect x=\"-10\" y=\"-20\" width=\"21\" height=\"241.99999999999997\" style=\"fill: rgb(238, 238, 238); stroke: rgb(187, 187, 187); stroke-width: 0.5;\"/><text x=\"-10\" y=\"-25\" style=\"fill: rgb(153, 153, 153);\"/></g><g class=\"group\" transform=\"translate(309,26.5)\" style=\"display: none;\"><rect x=\"-10\" y=\"-20\" width=\"21\" height=\"242\" style=\"fill: rgb(238, 238, 238); stroke: rgb(187, 187, 187); stroke-width: 0.5;\"/><text x=\"-10\" y=\"-25\" style=\"fill: rgb(153, 153, 153);\"/></g></g><g class=\"links\"><g class=\"link\" style=\"opacity: 0.8;\"><path d=\"M1,26.5 A0 0 0 0 0 1,26.5 L309,26.5 A0 0 0 0 0 309,26.5 L309,35.141304347826086 A0 0 0 0 0 309,35.141304347826086 L1,35.141304347826086 A0 0 0 0 0 1,35.141304347826086 Z\" style=\"fill: rgb(154, 205, 50);\"/><title>farm1 → Men\napples\n3.00</title><text class=\"label\" dy=\"0.35em\" x=\"5\" y=\"30.820652173913043\"/></g><g class=\"link\" style=\"opacity: 0.8;\"><path d=\"M1,229.85869565217388 A0 0 0 0 1 1,229.85869565217388 L309,229.8586956521739 A0 0 0 0 0 309,229.8586956521739 L309,238.49999999999997 A0 0 0 0 1 309,238.49999999999997 L1,238.49999999999994 A0 0 0 0 0 1,238.49999999999994 Z\" style=\"fill: rgb(255, 215, 0);\"/><title>other → Women\nbananas\n3.00</title><text class=\"label\" dy=\"0.35em\" x=\"5\" y=\"234.1793478260869\"/></g><g class=\"link\" style=\"opacity: 0.8;\"><path d=\"M1,35.141304347826086 A131.55074313564637 131.55074313564637 0.5144467791165561 0 1 65.72997853773688,52.168565620384946 L251.35665880133752,157.08688310446956 A117.14856922260289 117.14856922260289 0.5144467791165561 0 0 309,172.25 L309,186.6521739130435 A131.55074313564637 131.55074313564637 0.5144467791165561 0 1 244.27002146226312,169.62491264048464 L58.64334119866247,64.70659515640003 A117.14856922260289 117.14856922260289 0.5144467791165561 0 0 1,49.54347826086957 Z\" style=\"fill: rgb(154, 205, 50);\"/><title>farm1 → Women\napples\n5.00</title><text class=\"label\" dy=\"0.35em\" x=\"5\" y=\"42.34239130434783\"/></g><g class=\"link\" style=\"opacity: 0.8;\"><path d=\"M1,133.65217391304347 A283.63410582444624 283.63410582444624 0.20886468334819597 0 1 59.811359096658734,139.8164074485563 L253.17492289263342,180.80094350936847 A269.23193191140274 269.23193191140274 0.20886468334819597 0 0 309,186.65217391304347 L309,201.05434782608697 A283.63410582444624 283.63410582444624 0.20886468334819597 0 1 250.18864090334128,194.89011429057413 L56.82507710736657,153.90557822976197 A269.23193191140274 269.23193191140274 0.20886468334819597 0 0 1,148.05434782608697 Z\" style=\"fill: rgb(255, 215, 0);\"/><title>farm2 → Women\nbananas\n5.00</title><text class=\"label\" dy=\"0.35em\" x=\"5\" y=\"140.85326086956522\"/></g><g class=\"link\" style=\"opacity: 0.8;\"><path d=\"M1,76.04347826086956 A339.6266414112236 339.6266414112236 0.16376150249127308 0 0 56.369510894863616,71.49962187378213 L244.23851299779167,40.45590604100381 A397.23533706339776 397.23533706339776 0.16376150249127308 0 1 309,35.141304347826086 L309,63.94565217391304 A368.43098923731077 368.43098923731077 0.16376150249127308 0 0 248.93450105146403,68.87488121404563 L61.065498948535954,99.91859704682395 A368.4309892373106 368.4309892373106 0.16376150249127308 0 1 1,104.84782608695653 Z\" style=\"fill: rgb(154, 205, 50);\"/><title>farm2 → Men\napples\n10.0</title><text class=\"label\" dy=\"0.35em\" x=\"5\" y=\"90.44565217391305\"/></g><g class=\"link\" style=\"opacity: 0.8;\"><path d=\"M1,104.84782608695652 A368.4309892373106 368.4309892373106 0.16376150249127308 0 0 61.065498948535954,99.91859704682395 L248.93450105146403,68.87488121404563 A368.43098923731077 368.43098923731077 0.16376150249127308 0 1 309,63.945652173913054 L309,92.75000000000001 A339.6266414112238 339.6266414112238 0.16376150249127308 0 0 253.63048910513638,97.29385638708744 L65.76148700220828,128.33757221986576 A397.2353370633976 397.2353370633976 0.16376150249127308 0 1 1,133.65217391304347 Z\" style=\"fill: rgb(255, 215, 0);\"/><title>farm2 → Men\nbananas\n10.0</title><text class=\"label\" dy=\"0.35em\" x=\"5\" y=\"119.25\"/></g><g class=\"link\" style=\"opacity: 0.8;\"><path d=\"M1,174.55434782608694 A555.3432116488925 555.3432116488925 0.10516279089720904 0 1 59.293855890446,177.62234810846292 L253.72970947592748,198.1454775112885 A526.5388638228055 526.5388638228055 0.10516279089720904 0 0 309,201.05434782608694 L309,229.85869565217388 A555.3432116488925 555.3432116488925 0.10516279089720904 0 1 250.706144109554,226.7906953697979 L56.270290524072536,206.2675659669723 A526.5388638228055 526.5388638228055 0.10516279089720904 0 0 1,203.35869565217388 Z\" style=\"fill: rgb(154, 205, 50);\"/><title>farm3 → Women\napples\n10.0</title><text class=\"label\" dy=\"0.35em\" x=\"5\" y=\"188.9565217391304\"/></g></g><g class=\"nodes\"><g class=\"node\" transform=\"translate(0,26.5)\"><title>farm1</title><line x1=\"0\" x2=\"0\" y1=\"0\" y2=\"23.043478260869563\" style=\"display: inline; stroke: rgb(0, 0, 0);\"/><rect class=\"node-body\" width=\"1\" height=\"23.043478260869563\" style=\"fill: none;\"/><text class=\"node-value\" dy=\".35em\" text-anchor=\"middle\" transform=\"translate(0.5,11.521739130434781) rotate(-90)\" style=\"display: none;\"/><text class=\"node-title\" dy=\".35em\" text-anchor=\"end\" transform=\"translate(-4,11.521739130434781)\" style=\"display: inline;\">farm1</text><rect class=\"node-click-target\" x=\"-5\" y=\"-5\" width=\"10\" height=\"28.043478260869563\" style=\"fill: none; visibility: hidden; pointer-events: all;\"/></g><g class=\"node\" transform=\"translate(0,76.04347826086956)\"><title>farm2</title><line x1=\"0\" x2=\"0\" y1=\"0\" y2=\"72.01086956521738\" style=\"display: inline; stroke: rgb(0, 0, 0);\"/><rect class=\"node-body\" width=\"1\" height=\"72.01086956521738\" style=\"fill: none;\"/><text class=\"node-value\" dy=\".35em\" text-anchor=\"middle\" transform=\"translate(0.5,36.00543478260869) rotate(-90)\" style=\"display: none;\"/><text class=\"node-title\" dy=\".35em\" text-anchor=\"end\" transform=\"translate(-4,36.00543478260869)\" style=\"display: inline;\">farm2</text><rect class=\"node-click-target\" x=\"-5\" y=\"-5\" width=\"10\" height=\"77.01086956521738\" style=\"fill: none; visibility: hidden; pointer-events: all;\"/></g><g class=\"node\" transform=\"translate(0,174.55434782608694)\"><title>farm3</title><line x1=\"0\" x2=\"0\" y1=\"0\" y2=\"28.804347826086968\" style=\"display: inline; stroke: rgb(0, 0, 0);\"/><rect class=\"node-body\" width=\"1\" height=\"28.804347826086968\" style=\"fill: none;\"/><text class=\"node-value\" dy=\".35em\" text-anchor=\"middle\" transform=\"translate(0.5,14.402173913043484) rotate(-90)\" style=\"display: none;\"/><text class=\"node-title\" dy=\".35em\" text-anchor=\"end\" transform=\"translate(-4,14.402173913043484)\" style=\"display: inline;\">farm3</text><rect class=\"node-click-target\" x=\"-5\" y=\"-5\" width=\"10\" height=\"33.80434782608697\" style=\"fill: none; visibility: hidden; pointer-events: all;\"/></g><g class=\"node\" transform=\"translate(0,229.85869565217388)\"><title>other</title><line x1=\"0\" x2=\"0\" y1=\"0\" y2=\"8.641304347826093\" style=\"display: inline; stroke: rgb(0, 0, 0);\"/><rect class=\"node-body\" width=\"1\" height=\"8.641304347826093\" style=\"fill: none;\"/><text class=\"node-value\" dy=\".35em\" text-anchor=\"middle\" transform=\"translate(0.5,4.320652173913047) rotate(-90)\" style=\"display: none;\"/><text class=\"node-title\" dy=\".35em\" text-anchor=\"end\" transform=\"translate(-4,4.320652173913047)\" style=\"display: inline;\">other</text><rect class=\"node-click-target\" x=\"-5\" y=\"-5\" width=\"10\" height=\"13.641304347826093\" style=\"fill: none; visibility: hidden; pointer-events: all;\"/></g><g class=\"node\" transform=\"translate(309,26.5)\"><title>Men</title><line x1=\"0\" x2=\"0\" y1=\"0\" y2=\"66.25\" style=\"display: inline; stroke: rgb(0, 0, 0);\"/><rect class=\"node-body\" width=\"1\" height=\"66.25\" style=\"fill: none;\"/><text class=\"node-value\" dy=\".35em\" text-anchor=\"middle\" transform=\"translate(0.5,33.125) rotate(-90)\" style=\"display: none;\"/><text class=\"node-title\" dy=\".35em\" text-anchor=\"start\" transform=\"translate(5,33.125)\" style=\"display: inline;\">Men</text><rect class=\"node-click-target\" x=\"-5\" y=\"-5\" width=\"10\" height=\"71.25\" style=\"fill: none; visibility: hidden; pointer-events: all;\"/></g><g class=\"node\" transform=\"translate(309,172.25)\"><title>Women</title><line x1=\"0\" x2=\"0\" y1=\"0\" y2=\"66.25\" style=\"display: inline; stroke: rgb(0, 0, 0);\"/><rect class=\"node-body\" width=\"1\" height=\"66.25\" style=\"fill: none;\"/><text class=\"node-value\" dy=\".35em\" text-anchor=\"middle\" transform=\"translate(0.5,33.125) rotate(-90)\" style=\"display: none;\"/><text class=\"node-title\" dy=\".35em\" text-anchor=\"start\" transform=\"translate(5,33.125)\" style=\"display: inline;\">Women</text><rect class=\"node-click-target\" x=\"-5\" y=\"-5\" width=\"10\" height=\"71.25\" style=\"fill: none; visibility: hidden; pointer-events: all;\"/></g></g><g class=\"slice-titles\"/></g></svg>",
            "_view_module_version": "^0.4.1",
            "order": [
              [
                [
                  "farms^farm1",
                  "farms^farm2",
                  "farms^farm3",
                  "farms^other"
                ]
              ],
              [
                [
                  "customers^Men",
                  "customers^Women"
                ]
              ]
            ]
          }
        },
        "b89211849d6d474697b76c1c7f5f6f48": {
          "model_module": "@jupyter-widgets/base",
          "model_name": "LayoutModel",
          "model_module_version": "1.2.0",
          "state": {
            "_view_name": "LayoutView",
            "grid_template_rows": null,
            "right": null,
            "justify_content": null,
            "_view_module": "@jupyter-widgets/base",
            "overflow": null,
            "_model_module_version": "1.2.0",
            "_view_count": null,
            "flex_flow": null,
            "width": "570",
            "min_width": null,
            "border": null,
            "align_items": null,
            "bottom": null,
            "_model_module": "@jupyter-widgets/base",
            "top": null,
            "grid_column": null,
            "overflow_y": null,
            "overflow_x": null,
            "grid_auto_flow": null,
            "grid_area": null,
            "grid_template_columns": null,
            "flex": null,
            "_model_name": "LayoutModel",
            "justify_items": null,
            "grid_row": null,
            "max_height": null,
            "align_content": null,
            "visibility": null,
            "align_self": null,
            "height": "300",
            "min_height": null,
            "padding": null,
            "grid_auto_rows": null,
            "grid_gap": null,
            "max_width": null,
            "order": null,
            "_view_module_version": "1.2.0",
            "grid_template_areas": null,
            "object_position": null,
            "object_fit": null,
            "grid_auto_columns": null,
            "margin": null,
            "display": null,
            "left": null
          }
        },
        "8353ae0c3cee4e689a64a36275e8dc4d": {
          "model_module": "jupyter-sankey-widget",
          "model_name": "SankeyModel",
          "model_module_version": "^0.4.1",
          "state": {
            "_view_name": "SankeyView",
            "links": [
              {
                "opacity": 1,
                "target": "waypoint^*",
                "title": "apples",
                "color": "yellowgreen",
                "value": 8,
                "source": "farms^farm1",
                "time": "*",
                "type": "apples"
              },
              {
                "opacity": 1,
                "target": "waypoint^*",
                "title": "apples",
                "color": "yellowgreen",
                "value": 10,
                "source": "farms^farm2",
                "time": "*",
                "type": "apples"
              },
              {
                "opacity": 1,
                "target": "waypoint^*",
                "title": "bananas",
                "color": "gold",
                "value": 15,
                "source": "farms^farm2",
                "time": "*",
                "type": "bananas"
              },
              {
                "opacity": 1,
                "target": "waypoint^*",
                "title": "apples",
                "color": "yellowgreen",
                "value": 10,
                "source": "farms^farm3",
                "time": "*",
                "type": "apples"
              },
              {
                "opacity": 1,
                "target": "waypoint^*",
                "title": "bananas",
                "color": "gold",
                "value": 3,
                "source": "farms^other",
                "time": "*",
                "type": "bananas"
              },
              {
                "opacity": 1,
                "target": "customers^Men",
                "title": "apples",
                "color": "yellowgreen",
                "value": 13,
                "source": "waypoint^*",
                "time": "*",
                "type": "apples"
              },
              {
                "opacity": 1,
                "target": "customers^Men",
                "title": "bananas",
                "color": "gold",
                "value": 10,
                "source": "waypoint^*",
                "time": "*",
                "type": "bananas"
              },
              {
                "opacity": 1,
                "target": "customers^Women",
                "title": "apples",
                "color": "yellowgreen",
                "value": 15,
                "source": "waypoint^*",
                "time": "*",
                "type": "apples"
              },
              {
                "opacity": 1,
                "target": "customers^Women",
                "title": "bananas",
                "color": "gold",
                "value": 8,
                "source": "waypoint^*",
                "time": "*",
                "type": "bananas"
              }
            ],
            "_view_module": "jupyter-sankey-widget",
            "_model_module_version": "^0.4.1",
            "_view_count": null,
            "linkLabelFormat": "",
            "margins": {
              "top": 25,
              "left": 130,
              "right": 130,
              "bottom": 10
            },
            "_model_module": "jupyter-sankey-widget",
            "scale": 2.880434782608696,
            "layout": "IPY_MODEL_6aa7cac0b8e84f83b0d05e563b0f56b0",
            "linkLabelMinWidth": 5,
            "nodes": [
              {
                "direction": "r",
                "hidden": false,
                "type": "process",
                "id": "farms^farm1",
                "title": "farm1"
              },
              {
                "direction": "r",
                "hidden": false,
                "type": "process",
                "id": "farms^farm2",
                "title": "farm2"
              },
              {
                "direction": "r",
                "hidden": false,
                "type": "process",
                "id": "farms^farm3",
                "title": "farm3"
              },
              {
                "direction": "r",
                "hidden": false,
                "type": "process",
                "id": "farms^other",
                "title": "other"
              },
              {
                "direction": "r",
                "hidden": false,
                "type": "group",
                "id": "waypoint^*",
                "title": "waypoint"
              },
              {
                "direction": "r",
                "hidden": false,
                "type": "process",
                "id": "customers^Men",
                "title": "Men"
              },
              {
                "direction": "r",
                "hidden": false,
                "type": "process",
                "id": "customers^Women",
                "title": "Women"
              }
            ],
            "rank_sets": [],
            "_dom_classes": [],
            "_model_name": "SankeyModel",
            "groups": [
              {
                "nodes": [
                  "farms^farm1",
                  "farms^farm2",
                  "farms^farm3",
                  "farms^other"
                ],
                "type": "process",
                "id": "farms",
                "title": ""
              },
              {
                "nodes": [
                  "customers^Men",
                  "customers^Women"
                ],
                "type": "process",
                "id": "customers",
                "title": ""
              }
            ],
            "png": "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",
            "show_link_info_html": false,
            "align_link_types": false,
            "svg": "<?xml version=\"1.0\" standalone=\"no\"?><!DOCTYPE svg PUBLIC \"-//W3C//DTD SVG 1.1//EN\" \"http://www.w3.org/Graphics/SVG/1.1/DTD/svg11.dtd\"><svg xmlns=\"http://www.w3.org/2000/svg\" width=\"570\" height=\"300\" viewBox=\"0 0 570 300\" style=\"font-family: &quot;Helvetica Neue&quot;, Helvetica, Arial, sans-serif;\"><g class=\"sankey\" transform=\"translate(130,25)\"><g class=\"groups\"><g class=\"group\" transform=\"translate(0,26.5)\" style=\"display: none;\"><rect x=\"-10\" y=\"-20\" width=\"21\" height=\"241.99999999999997\" style=\"fill: rgb(238, 238, 238); stroke: rgb(187, 187, 187); stroke-width: 0.5;\"/><text x=\"-10\" y=\"-25\" style=\"fill: rgb(153, 153, 153);\"/></g><g class=\"group\" transform=\"translate(309,26.5)\" style=\"display: none;\"><rect x=\"-10\" y=\"-20\" width=\"21\" height=\"242\" style=\"fill: rgb(238, 238, 238); stroke: rgb(187, 187, 187); stroke-width: 0.5;\"/><text x=\"-10\" y=\"-25\" style=\"fill: rgb(153, 153, 153);\"/></g></g><g class=\"links\"><g class=\"link\" style=\"opacity: 0.8;\"><path d=\"M1,229.85869565217388 A90.55599876948322 90.55599876948322 0.3107336164759398 0 0 28.688148797930932,225.52192518637173 L124.1697101640151,194.85930235180805 A99.19730311730932 99.19730311730932 0.3107336164759398 0 1 154.5,190.1086956521739 L154.5,198.74999999999997 A90.55599876948322 90.55599876948322 0.3107336164759398 0 0 126.81185120206908,203.08677046580212 L31.330289835984896,233.7493933003658 A99.19730311730932 99.19730311730932 0.3107336164759398 0 1 1,238.49999999999994 Z\" style=\"fill: rgb(255, 215, 0);\"/><title>other → waypoint\nbananas\n3.00</title><text class=\"label\" dy=\"0.35em\" x=\"5\" y=\"234.1793478260869\"/></g><g class=\"link\" style=\"opacity: 0.8;\"><path d=\"M1,26.5 A106.39839007383101 106.39839007383101 0.31073361647594 0 1 33.53207403436321,31.595470227827487 L129.01363540044738,62.258093062391225 A83.35491181296145 83.35491181296145 0.31073361647594 0 0 154.5,66.25 L154.5,89.29347826086956 A106.39839007383101 106.39839007383101 0.31073361647594 0 1 121.9679259656368,84.19800803304207 L26.486364599552626,53.53538519847834 A83.35491181296145 83.35491181296145 0.31073361647594 0 0 1,49.54347826086956 Z\" style=\"fill: rgb(154, 205, 50);\"/><title>farm1 → waypoint\napples\n8.00</title><text class=\"label\" dy=\"0.35em\" x=\"5\" y=\"38.02173913043478\"/></g><g class=\"link\" style=\"opacity: 0.8;\"><path d=\"M155.5,175.70652173913044 A106.398390073831 106.398390073831 0.32872781251657024 0 1 189.8495736081693,181.40374894360795 L271.39571574423235,209.21946757040234 A116.47991181296146 116.47991181296146 0.32872781251657024 0 0 309,215.45652173913044 L309,238.5 A139.52339007383102 139.52339007383102 0.32872781251657024 0 1 263.95637712115047,231.02905562727057 L182.41023498508736,203.21333700047617 A83.35491181296143 83.35491181296143 0.32872781251657024 0 0 155.5,198.75 Z\" style=\"fill: rgb(255, 215, 0);\"/><title>waypoint → Women\nbananas\n8.00</title><text class=\"label\" dy=\"0.35em\" x=\"159.5\" y=\"187.22826086956522\"/></g><g class=\"link\" style=\"opacity: 0.8;\"><path d=\"M1,76.04347826086956 A319.1375615258406 319.1375615258406 0.10765565203673644 0 1 35.29063601570423,77.89105340469686 L127.17303399250866,87.82110477883407 A254.32777891714514 254.32777891714514 0.10765565203673644 0 0 154.5,89.29347826086956 L154.5,118.09782608695653 A283.1321267432321 283.1321267432321 0.10765565203673644 0 1 124.07806954441403,116.45869631079134 L32.1956715676096,106.52864493665413 A290.3332136997536 290.3332136997536 0.10765565203673644 0 0 1,104.84782608695653 Z\" style=\"fill: rgb(154, 205, 50);\"/><title>farm2 → waypoint\napples\n10.0</title><text class=\"label\" dy=\"0.35em\" x=\"5\" y=\"90.44565217391305\"/></g><g class=\"link\" style=\"opacity: 0.8;\"><path d=\"M1,174.55434782608694 A254.3277789171452 254.3277789171452 0.10550372623542836 0 0 27.78277708386732,173.1401944426487 L124.68389155863441,162.87866368217925 A283.13212674323216 283.13212674323216 0.10550372623542836 0 1 154.5,161.30434782608694 L154.5,190.10869565217388 A254.3277789171452 254.3277789171452 0.10550372623542836 0 0 127.71722291613268,191.52284903561213 L30.816108441365596,201.78437979608157 A283.13212674323216 283.13212674323216 0.10550372623542836 0 1 1,203.35869565217388 Z\" style=\"fill: rgb(154, 205, 50);\"/><title>farm3 → waypoint\napples\n10.0</title><text class=\"label\" dy=\"0.35em\" x=\"5\" y=\"188.9565217391304\"/></g><g class=\"link\" style=\"opacity: 0.8;\"><path d=\"M155.5,103.69565217391305 A113.5994770303527 113.5994770303527 0.32872781251657024 0 0 192.17436692788237,97.61283428068514 L273.7205090639455,69.79711565389073 A109.27882485643971 109.27882485643971 0.32872781251657024 0 1 309,63.945652173913054 L309,92.75000000000001 A80.47447703035274 80.47447703035274 0.32872781251657024 0 0 283.0196823427979,97.05910072497602 L201.4735402067348,124.87481935177043 A142.40382485643966 142.40382485643966 0.32872781251657024 0 1 155.5,132.5 Z\" style=\"fill: rgb(255, 215, 0);\"/><title>waypoint → Men\nbananas\n10.0</title><text class=\"label\" dy=\"0.35em\" x=\"159.5\" y=\"118.09782608695653\"/></g><g class=\"link\" style=\"opacity: 0.8;\"><path d=\"M155.5,66.25 A76.15382485643966 76.15382485643966 0.32872781251657024 0 0 180.08544166537422,62.17225368827424 L261.63158380143733,34.35653506147983 A146.72447703035277 146.72447703035277 0.32872781251657024 0 1 309,26.5 L309,63.94565217391305 A109.27882485643971 109.27882485643971 0.32872781251657024 0 0 273.7205090639455,69.79711565389071 L192.17436692788237,97.61283428068514 A113.59947703035272 113.59947703035272 0.32872781251657024 0 1 155.5,103.69565217391306 Z\" style=\"fill: rgb(154, 205, 50);\"/><title>waypoint → Men\napples\n13.0</title><text class=\"label\" dy=\"0.35em\" x=\"159.5\" y=\"84.97282608695653\"/></g><g class=\"link\" style=\"opacity: 0.8;\"><path d=\"M1,104.84782608695652 A290.3332136997536 290.3332136997536 0.10765565203673644 0 1 32.195671567609594,106.5286449366541 L124.07806954441403,116.45869631079134 A283.1321267432321 283.1321267432321 0.10765565203673644 0 0 154.5,118.09782608695653 L154.5,161.30434782608697 A326.3386484823626 326.3386484823626 0.10765565203673644 0 1 119.43562287227209,159.41508360872726 L27.55322489546765,149.48503223459002 A247.12669196062316 247.12669196062316 0.10765565203673644 0 0 1,148.05434782608694 Z\" style=\"fill: rgb(255, 215, 0);\"/><title>farm2 → waypoint\nbananas\n15.0</title><text class=\"label\" dy=\"0.35em\" x=\"5\" y=\"126.45108695652173\"/></g><g class=\"link\" style=\"opacity: 0.8;\"><path d=\"M155.5,132.5 A149.60491181296143 149.60491181296143 0.32872781251657024 0 1 203.7983335264479,140.51077133697999 L285.344475662511,168.3264899637744 A73.27339007383101 73.27339007383101 0.32872781251657024 0 0 309,172.25 L309,215.45652173913044 A116.47991181296145 116.47991181296145 0.32872781251657024 0 1 271.3957157442324,209.21946757040234 L189.8495736081693,181.40374894360792 A106.398390073831 106.398390073831 0.32872781251657024 0 0 155.5,175.70652173913044 Z\" style=\"fill: rgb(154, 205, 50);\"/><title>waypoint → Women\napples\n15.0</title><text class=\"label\" dy=\"0.35em\" x=\"159.5\" y=\"154.10326086956522\"/></g></g><g class=\"nodes\"><g class=\"node\" transform=\"translate(0,26.5)\"><title>farm1</title><line x1=\"0\" x2=\"0\" y1=\"0\" y2=\"23.043478260869563\" style=\"display: inline; stroke: rgb(0, 0, 0);\"/><rect class=\"node-body\" width=\"1\" height=\"23.043478260869563\" style=\"fill: none;\"/><text class=\"node-value\" dy=\".35em\" text-anchor=\"middle\" transform=\"translate(0.5,11.521739130434781) rotate(-90)\" style=\"display: none;\"/><text class=\"node-title\" dy=\".35em\" text-anchor=\"end\" transform=\"translate(-4,11.521739130434781)\" style=\"display: inline;\">farm1</text><rect class=\"node-click-target\" x=\"-5\" y=\"-5\" width=\"10\" height=\"28.043478260869563\" style=\"fill: none; visibility: hidden; pointer-events: all;\"/></g><g class=\"node\" transform=\"translate(0,76.04347826086956)\"><title>farm2</title><line x1=\"0\" x2=\"0\" y1=\"0\" y2=\"72.01086956521738\" style=\"display: inline; stroke: rgb(0, 0, 0);\"/><rect class=\"node-body\" width=\"1\" height=\"72.01086956521738\" style=\"fill: none;\"/><text class=\"node-value\" dy=\".35em\" text-anchor=\"middle\" transform=\"translate(0.5,36.00543478260869) rotate(-90)\" style=\"display: none;\"/><text class=\"node-title\" dy=\".35em\" text-anchor=\"end\" transform=\"translate(-4,36.00543478260869)\" style=\"display: inline;\">farm2</text><rect class=\"node-click-target\" x=\"-5\" y=\"-5\" width=\"10\" height=\"77.01086956521738\" style=\"fill: none; visibility: hidden; pointer-events: all;\"/></g><g class=\"node\" transform=\"translate(0,174.55434782608694)\"><title>farm3</title><line x1=\"0\" x2=\"0\" y1=\"0\" y2=\"28.804347826086968\" style=\"display: inline; stroke: rgb(0, 0, 0);\"/><rect class=\"node-body\" width=\"1\" height=\"28.804347826086968\" style=\"fill: none;\"/><text class=\"node-value\" dy=\".35em\" text-anchor=\"middle\" transform=\"translate(0.5,14.402173913043484) rotate(-90)\" style=\"display: none;\"/><text class=\"node-title\" dy=\".35em\" text-anchor=\"end\" transform=\"translate(-4,14.402173913043484)\" style=\"display: inline;\">farm3</text><rect class=\"node-click-target\" x=\"-5\" y=\"-5\" width=\"10\" height=\"33.80434782608697\" style=\"fill: none; visibility: hidden; pointer-events: all;\"/></g><g class=\"node\" transform=\"translate(0,229.85869565217388)\"><title>other</title><line x1=\"0\" x2=\"0\" y1=\"0\" y2=\"8.641304347826093\" style=\"display: inline; stroke: rgb(0, 0, 0);\"/><rect class=\"node-body\" width=\"1\" height=\"8.641304347826093\" style=\"fill: none;\"/><text class=\"node-value\" dy=\".35em\" text-anchor=\"middle\" transform=\"translate(0.5,4.320652173913047) rotate(-90)\" style=\"display: none;\"/><text class=\"node-title\" dy=\".35em\" text-anchor=\"end\" transform=\"translate(-4,4.320652173913047)\" style=\"display: inline;\">other</text><rect class=\"node-click-target\" x=\"-5\" y=\"-5\" width=\"10\" height=\"13.641304347826093\" style=\"fill: none; visibility: hidden; pointer-events: all;\"/></g><g class=\"node\" transform=\"translate(154.5,66.25)\"><title>waypoint</title><line x1=\"0\" x2=\"0\" y1=\"-5\" y2=\"132.5\" style=\"display: inline; stroke: rgb(0, 0, 0);\"/><rect class=\"node-body\" width=\"1\" height=\"132.5\" style=\"fill: none;\"/><text class=\"node-value\" dy=\".35em\" text-anchor=\"middle\" transform=\"translate(0.5,66.25) rotate(-90)\" style=\"display: none;\"/><text class=\"node-title\" dy=\".35em\" text-anchor=\"start\" transform=\"translate(-4,-10)\" style=\"display: inline;\">waypoint</text><rect class=\"node-click-target\" x=\"-5\" y=\"-5\" width=\"10\" height=\"137.5\" style=\"fill: none; visibility: hidden; pointer-events: all;\"/></g><g class=\"node\" transform=\"translate(309,26.5)\"><title>Men</title><line x1=\"0\" x2=\"0\" y1=\"0\" y2=\"66.25\" style=\"display: inline; stroke: rgb(0, 0, 0);\"/><rect class=\"node-body\" width=\"1\" height=\"66.25\" style=\"fill: none;\"/><text class=\"node-value\" dy=\".35em\" text-anchor=\"middle\" transform=\"translate(0.5,33.125) rotate(-90)\" style=\"display: none;\"/><text class=\"node-title\" dy=\".35em\" text-anchor=\"start\" transform=\"translate(5,33.125)\" style=\"display: inline;\">Men</text><rect class=\"node-click-target\" x=\"-5\" y=\"-5\" width=\"10\" height=\"71.25\" style=\"fill: none; visibility: hidden; pointer-events: all;\"/></g><g class=\"node\" transform=\"translate(309,172.25)\"><title>Women</title><line x1=\"0\" x2=\"0\" y1=\"0\" y2=\"66.25\" style=\"display: inline; stroke: rgb(0, 0, 0);\"/><rect class=\"node-body\" width=\"1\" height=\"66.25\" style=\"fill: none;\"/><text class=\"node-value\" dy=\".35em\" text-anchor=\"middle\" transform=\"translate(0.5,33.125) rotate(-90)\" style=\"display: none;\"/><text class=\"node-title\" dy=\".35em\" text-anchor=\"start\" transform=\"translate(5,33.125)\" style=\"display: inline;\">Women</text><rect class=\"node-click-target\" x=\"-5\" y=\"-5\" width=\"10\" height=\"71.25\" style=\"fill: none; visibility: hidden; pointer-events: all;\"/></g></g><g class=\"slice-titles\"/></g></svg>",
            "_view_module_version": "^0.4.1",
            "order": [
              [
                [
                  "farms^farm1",
                  "farms^farm2",
                  "farms^farm3",
                  "farms^other"
                ]
              ],
              [
                [
                  "waypoint^*"
                ]
              ],
              [
                [
                  "customers^Men",
                  "customers^Women"
                ]
              ]
            ]
          }
        },
        "6aa7cac0b8e84f83b0d05e563b0f56b0": {
          "model_module": "@jupyter-widgets/base",
          "model_name": "LayoutModel",
          "model_module_version": "1.2.0",
          "state": {
            "_view_name": "LayoutView",
            "grid_template_rows": null,
            "right": null,
            "justify_content": null,
            "_view_module": "@jupyter-widgets/base",
            "overflow": null,
            "_model_module_version": "1.2.0",
            "_view_count": null,
            "flex_flow": null,
            "width": "570",
            "min_width": null,
            "border": null,
            "align_items": null,
            "bottom": null,
            "_model_module": "@jupyter-widgets/base",
            "top": null,
            "grid_column": null,
            "overflow_y": null,
            "overflow_x": null,
            "grid_auto_flow": null,
            "grid_area": null,
            "grid_template_columns": null,
            "flex": null,
            "_model_name": "LayoutModel",
            "justify_items": null,
            "grid_row": null,
            "max_height": null,
            "align_content": null,
            "visibility": null,
            "align_self": null,
            "height": "300",
            "min_height": null,
            "padding": null,
            "grid_auto_rows": null,
            "grid_gap": null,
            "max_width": null,
            "order": null,
            "_view_module_version": "1.2.0",
            "grid_template_areas": null,
            "object_position": null,
            "object_fit": null,
            "grid_auto_columns": null,
            "margin": null,
            "display": null,
            "left": null
          }
        },
        "93777efd7f254ceda2bb6a7805596349": {
          "model_module": "jupyter-sankey-widget",
          "model_name": "SankeyModel",
          "model_module_version": "^0.4.1",
          "state": {
            "_view_name": "SankeyView",
            "links": [
              {
                "opacity": 1,
                "target": "waypoint^apples",
                "title": "apples",
                "color": "yellowgreen",
                "value": 8,
                "source": "farms^farm1",
                "time": "*",
                "type": "apples"
              },
              {
                "opacity": 1,
                "target": "waypoint^apples",
                "title": "apples",
                "color": "yellowgreen",
                "value": 10,
                "source": "farms^farm2",
                "time": "*",
                "type": "apples"
              },
              {
                "opacity": 1,
                "target": "waypoint^bananas",
                "title": "bananas",
                "color": "gold",
                "value": 15,
                "source": "farms^farm2",
                "time": "*",
                "type": "bananas"
              },
              {
                "opacity": 1,
                "target": "waypoint^apples",
                "title": "apples",
                "color": "yellowgreen",
                "value": 10,
                "source": "farms^farm3",
                "time": "*",
                "type": "apples"
              },
              {
                "opacity": 1,
                "target": "waypoint^bananas",
                "title": "bananas",
                "color": "gold",
                "value": 3,
                "source": "farms^other",
                "time": "*",
                "type": "bananas"
              },
              {
                "opacity": 1,
                "target": "customers^Men",
                "title": "apples",
                "color": "yellowgreen",
                "value": 13,
                "source": "waypoint^apples",
                "time": "*",
                "type": "apples"
              },
              {
                "opacity": 1,
                "target": "customers^Women",
                "title": "apples",
                "color": "yellowgreen",
                "value": 15,
                "source": "waypoint^apples",
                "time": "*",
                "type": "apples"
              },
              {
                "opacity": 1,
                "target": "customers^Men",
                "title": "bananas",
                "color": "gold",
                "value": 10,
                "source": "waypoint^bananas",
                "time": "*",
                "type": "bananas"
              },
              {
                "opacity": 1,
                "target": "customers^Women",
                "title": "bananas",
                "color": "gold",
                "value": 8,
                "source": "waypoint^bananas",
                "time": "*",
                "type": "bananas"
              }
            ],
            "_view_module": "jupyter-sankey-widget",
            "_model_module_version": "^0.4.1",
            "_view_count": null,
            "linkLabelFormat": "",
            "margins": {
              "top": 25,
              "left": 130,
              "right": 130,
              "bottom": 10
            },
            "_model_module": "jupyter-sankey-widget",
            "scale": 2.880434782608696,
            "layout": "IPY_MODEL_191bd98a3a174b82a75491d2a03a4337",
            "linkLabelMinWidth": 5,
            "nodes": [
              {
                "direction": "r",
                "hidden": false,
                "type": "process",
                "id": "farms^farm1",
                "title": "farm1"
              },
              {
                "direction": "r",
                "hidden": false,
                "type": "process",
                "id": "farms^farm2",
                "title": "farm2"
              },
              {
                "direction": "r",
                "hidden": false,
                "type": "process",
                "id": "farms^farm3",
                "title": "farm3"
              },
              {
                "direction": "r",
                "hidden": false,
                "type": "process",
                "id": "farms^other",
                "title": "other"
              },
              {
                "direction": "r",
                "hidden": false,
                "type": "group",
                "id": "waypoint^apples",
                "title": "apples"
              },
              {
                "direction": "r",
                "hidden": false,
                "type": "group",
                "id": "waypoint^bananas",
                "title": "bananas"
              },
              {
                "direction": "r",
                "hidden": false,
                "type": "process",
                "id": "customers^Men",
                "title": "Men"
              },
              {
                "direction": "r",
                "hidden": false,
                "type": "process",
                "id": "customers^Women",
                "title": "Women"
              }
            ],
            "rank_sets": [],
            "_dom_classes": [],
            "_model_name": "SankeyModel",
            "groups": [
              {
                "nodes": [
                  "farms^farm1",
                  "farms^farm2",
                  "farms^farm3",
                  "farms^other"
                ],
                "type": "process",
                "id": "farms",
                "title": ""
              },
              {
                "nodes": [
                  "waypoint^apples",
                  "waypoint^bananas"
                ],
                "type": "group",
                "id": "waypoint",
                "title": ""
              },
              {
                "nodes": [
                  "customers^Men",
                  "customers^Women"
                ],
                "type": "process",
                "id": "customers",
                "title": ""
              }
            ],
            "png": "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",
            "show_link_info_html": false,
            "align_link_types": false,
            "svg": "<?xml version=\"1.0\" standalone=\"no\"?><!DOCTYPE svg PUBLIC \"-//W3C//DTD SVG 1.1//EN\" \"http://www.w3.org/Graphics/SVG/1.1/DTD/svg11.dtd\"><svg xmlns=\"http://www.w3.org/2000/svg\" width=\"570\" height=\"300\" viewBox=\"0 0 570 300\" style=\"font-family: &quot;Helvetica Neue&quot;, Helvetica, Arial, sans-serif;\"><g class=\"sankey\" transform=\"translate(130,25)\"><g class=\"groups\"><g class=\"group\" transform=\"translate(0,26.5)\" style=\"display: none;\"><rect x=\"-10\" y=\"-20\" width=\"21\" height=\"241.99999999999997\" style=\"fill: rgb(238, 238, 238); stroke: rgb(187, 187, 187); stroke-width: 0.5;\"/><text x=\"-10\" y=\"-25\" style=\"fill: rgb(153, 153, 153);\"/></g><g class=\"group\" transform=\"translate(154.5,26.5)\" style=\"display: none;\"><rect x=\"-10\" y=\"-20\" width=\"21\" height=\"242.00000000000003\" style=\"fill: rgb(238, 238, 238); stroke: rgb(187, 187, 187); stroke-width: 0.5;\"/><text x=\"-10\" y=\"-25\" style=\"fill: rgb(153, 153, 153);\"/></g><g class=\"group\" transform=\"translate(309,26.5)\" style=\"display: none;\"><rect x=\"-10\" y=\"-20\" width=\"21\" height=\"242\" style=\"fill: rgb(238, 238, 238); stroke: rgb(187, 187, 187); stroke-width: 0.5;\"/><text x=\"-10\" y=\"-25\" style=\"fill: rgb(153, 153, 153);\"/></g></g><g class=\"links\"><g class=\"link\" style=\"opacity: 0.8;\"><path d=\"M1,229.85869565217388 A0 0 0 0 1 1,229.85869565217388 L154.5,229.85869565217394 A0 0 0 0 0 154.5,229.85869565217394 L154.5,238.5 A0 0 0 0 1 154.5,238.5 L1,238.49999999999994 A0 0 0 0 0 1,238.49999999999994 Z\" style=\"fill: rgb(255, 215, 0);\"/><title>other → bananas\nbananas\n3.00</title><text class=\"label\" dy=\"0.35em\" x=\"5\" y=\"234.1793478260869\"/></g><g class=\"link\" style=\"opacity: 0.8;\"><path d=\"M1,26.5 A0 0 0 0 0 1,26.5 L154.5,26.5 A0 0 0 0 0 154.5,26.5 L154.5,49.54347826086956 A0 0 0 0 0 154.5,49.54347826086956 L1,49.54347826086956 A0 0 0 0 0 1,49.54347826086956 Z\" style=\"fill: rgb(154, 205, 50);\"/><title>farm1 → apples\napples\n8.00</title><text class=\"label\" dy=\"0.35em\" x=\"5\" y=\"38.02173913043478\"/></g><g class=\"link\" style=\"opacity: 0.8;\"><path d=\"M155.5,215.45652173913047 A0 0 0 0 0 155.5,215.45652173913047 L309,215.45652173913044 A0 0 0 0 1 309,215.45652173913044 L309,238.5 A0 0 0 0 0 309,238.5 L155.5,238.50000000000003 A0 0 0 0 1 155.5,238.50000000000003 Z\" style=\"fill: rgb(255, 215, 0);\"/><title>bananas → Women\nbananas\n8.00</title><text class=\"label\" dy=\"0.35em\" x=\"159.5\" y=\"226.97826086956525\"/></g><g class=\"link\" style=\"opacity: 0.8;\"><path d=\"M1,76.04347826086956 A122.94405250205081 122.94405250205081 0.2095324358554187 0 0 26.572680717080036,73.35447990029469 L122.9359404790697,52.86247736166311 A151.74840032813776 151.74840032813776 0.2095324358554187 0 1 154.5,49.54347826086956 L154.5,78.34782608695652 A122.94405250205081 122.94405250205081 0.2095324358554187 0 0 128.92731928291997,81.03682444753139 L32.56405952093029,101.52882698616297 A151.74840032813776 151.74840032813776 0.2095324358554187 0 1 1,104.84782608695653 Z\" style=\"fill: rgb(154, 205, 50);\"/><title>farm2 → apples\napples\n10.0</title><text class=\"label\" dy=\"0.35em\" x=\"5\" y=\"90.44565217391305\"/></g><g class=\"link\" style=\"opacity: 0.8;\"><path d=\"M1,174.55434782608694 A36.76578886934909 36.76578886934909 0.6891285182992767 0 0 24.37807149360012,166.16441144482488 L112.80625723934926,93.31090160643755 A65.57013669543605 65.57013669543605 0.6891285182992767 0 1 154.5,78.34782608695652 L154.5,107.15217391304348 A36.76578886934909 36.76578886934909 0.6891285182992767 0 0 131.12192850639988,115.54211029430554 L42.693742760650736,188.39562013269287 A65.57013669543605 65.57013669543605 0.6891285182992767 0 1 1,203.35869565217388 Z\" style=\"fill: rgb(154, 205, 50);\"/><title>farm3 → apples\napples\n10.0</title><text class=\"label\" dy=\"0.35em\" x=\"5\" y=\"188.9565217391304\"/></g><g class=\"link\" style=\"opacity: 0.8;\"><path d=\"M155.5,186.6521739130435 A32.80698000554599 32.80698000554599 0.8319044477804922 0 0 179.75142149364535,175.9396840039412 L263.455963951101,84.06364924560894 A61.61132783163294 61.61132783163294 0.8319044477804922 0 1 309,63.945652173913054 L309,92.75000000000001 A32.80698000554599 32.80698000554599 0.8319044477804922 0 0 284.74857850635465,103.46248990910227 L201.044036048899,195.33852466743454 A61.61132783163294 61.61132783163294 0.8319044477804922 0 1 155.5,215.45652173913044 Z\" style=\"fill: rgb(255, 215, 0);\"/><title>bananas → Men\nbananas\n10.0</title><text class=\"label\" dy=\"0.35em\" x=\"159.5\" y=\"201.05434782608697\"/></g><g class=\"link\" style=\"opacity: 0.8;\"><path d=\"M155.5,26.5 A0 0 0 0 0 155.5,26.5 L309,26.5 A0 0 0 0 0 309,26.5 L309,63.94565217391305 A0 0 0 0 0 309,63.94565217391305 L155.5,63.94565217391305 A0 0 0 0 0 155.5,63.94565217391305 Z\" style=\"fill: rgb(154, 205, 50);\"/><title>apples → Men\napples\n13.0</title><text class=\"label\" dy=\"0.35em\" x=\"159.5\" y=\"45.22282608695652\"/></g><g class=\"link\" style=\"opacity: 0.8;\"><path d=\"M1,104.84782608695652 A77.07867653005812 77.07867653005812 0.6020212622211646 0 1 44.6503897365504,118.39882477914159 L135.31787565119677,180.69719977574945 A33.872154790927674 33.872154790927674 0.6020212622211646 0 0 154.5,186.6521739130435 L154.5,229.85869565217394 A77.07867653005812 77.07867653005812 0.6020212622211646 0 1 110.84961026344959,216.30769695998887 L20.182124348803235,154.009321963381 A33.872154790927674 33.872154790927674 0.6020212622211646 0 0 1,148.05434782608694 Z\" style=\"fill: rgb(255, 215, 0);\"/><title>farm2 → bananas\nbananas\n15.0</title><text class=\"label\" dy=\"0.35em\" x=\"5\" y=\"126.45108695652173\"/></g><g class=\"link\" style=\"opacity: 0.8;\"><path d=\"M155.5,63.94565217391305 A70.48229823015028 70.48229823015028 0.7570755441758941 0 1 203.9071544104528,83.19805907403585 L290.2670307663011,164.7995569709263 A27.27577649101984 27.27577649101984 0.7570755441758941 0 0 309,172.25 L309,215.45652173913044 A70.48229823015028 70.48229823015028 0.7570755441758941 0 1 260.5928455895472,196.20411483900762 L174.2329692336989,114.60261694211721 A27.27577649101984 27.27577649101984 0.7570755441758941 0 0 155.5,107.15217391304348 Z\" style=\"fill: rgb(154, 205, 50);\"/><title>apples → Women\napples\n15.0</title><text class=\"label\" dy=\"0.35em\" x=\"159.5\" y=\"85.54891304347827\"/></g></g><g class=\"nodes\"><g class=\"node\" transform=\"translate(0,26.5)\"><title>farm1</title><line x1=\"0\" x2=\"0\" y1=\"0\" y2=\"23.043478260869563\" style=\"display: inline; stroke: rgb(0, 0, 0);\"/><rect class=\"node-body\" width=\"1\" height=\"23.043478260869563\" style=\"fill: none;\"/><text class=\"node-value\" dy=\".35em\" text-anchor=\"middle\" transform=\"translate(0.5,11.521739130434781) rotate(-90)\" style=\"display: none;\"/><text class=\"node-title\" dy=\".35em\" text-anchor=\"end\" transform=\"translate(-4,11.521739130434781)\" style=\"display: inline;\">farm1</text><rect class=\"node-click-target\" x=\"-5\" y=\"-5\" width=\"10\" height=\"28.043478260869563\" style=\"fill: none; visibility: hidden; pointer-events: all;\"/></g><g class=\"node\" transform=\"translate(0,76.04347826086956)\"><title>farm2</title><line x1=\"0\" x2=\"0\" y1=\"0\" y2=\"72.01086956521738\" style=\"display: inline; stroke: rgb(0, 0, 0);\"/><rect class=\"node-body\" width=\"1\" height=\"72.01086956521738\" style=\"fill: none;\"/><text class=\"node-value\" dy=\".35em\" text-anchor=\"middle\" transform=\"translate(0.5,36.00543478260869) rotate(-90)\" style=\"display: none;\"/><text class=\"node-title\" dy=\".35em\" text-anchor=\"end\" transform=\"translate(-4,36.00543478260869)\" style=\"display: inline;\">farm2</text><rect class=\"node-click-target\" x=\"-5\" y=\"-5\" width=\"10\" height=\"77.01086956521738\" style=\"fill: none; visibility: hidden; pointer-events: all;\"/></g><g class=\"node\" transform=\"translate(0,174.55434782608694)\"><title>farm3</title><line x1=\"0\" x2=\"0\" y1=\"0\" y2=\"28.804347826086968\" style=\"display: inline; stroke: rgb(0, 0, 0);\"/><rect class=\"node-body\" width=\"1\" height=\"28.804347826086968\" style=\"fill: none;\"/><text class=\"node-value\" dy=\".35em\" text-anchor=\"middle\" transform=\"translate(0.5,14.402173913043484) rotate(-90)\" style=\"display: none;\"/><text class=\"node-title\" dy=\".35em\" text-anchor=\"end\" transform=\"translate(-4,14.402173913043484)\" style=\"display: inline;\">farm3</text><rect class=\"node-click-target\" x=\"-5\" y=\"-5\" width=\"10\" height=\"33.80434782608697\" style=\"fill: none; visibility: hidden; pointer-events: all;\"/></g><g class=\"node\" transform=\"translate(0,229.85869565217388)\"><title>other</title><line x1=\"0\" x2=\"0\" y1=\"0\" y2=\"8.641304347826093\" style=\"display: inline; stroke: rgb(0, 0, 0);\"/><rect class=\"node-body\" width=\"1\" height=\"8.641304347826093\" style=\"fill: none;\"/><text class=\"node-value\" dy=\".35em\" text-anchor=\"middle\" transform=\"translate(0.5,4.320652173913047) rotate(-90)\" style=\"display: none;\"/><text class=\"node-title\" dy=\".35em\" text-anchor=\"end\" transform=\"translate(-4,4.320652173913047)\" style=\"display: inline;\">other</text><rect class=\"node-click-target\" x=\"-5\" y=\"-5\" width=\"10\" height=\"13.641304347826093\" style=\"fill: none; visibility: hidden; pointer-events: all;\"/></g><g class=\"node\" transform=\"translate(154.5,26.5)\"><title>apples</title><line x1=\"0\" x2=\"0\" y1=\"-5\" y2=\"80.65217391304348\" style=\"display: inline; stroke: rgb(0, 0, 0);\"/><rect class=\"node-body\" width=\"1\" height=\"80.65217391304348\" style=\"fill: none;\"/><text class=\"node-value\" dy=\".35em\" text-anchor=\"middle\" transform=\"translate(0.5,40.32608695652174) rotate(-90)\" style=\"display: none;\"/><text class=\"node-title\" dy=\".35em\" text-anchor=\"start\" transform=\"translate(-4,-10)\" style=\"display: inline;\">apples</text><rect class=\"node-click-target\" x=\"-5\" y=\"-5\" width=\"10\" height=\"85.65217391304348\" style=\"fill: none; visibility: hidden; pointer-events: all;\"/></g><g class=\"node\" transform=\"translate(154.5,186.6521739130435)\"><title>bananas</title><line x1=\"0\" x2=\"0\" y1=\"-5\" y2=\"51.84782608695653\" style=\"display: inline; stroke: rgb(0, 0, 0);\"/><rect class=\"node-body\" width=\"1\" height=\"51.84782608695653\" style=\"fill: none;\"/><text class=\"node-value\" dy=\".35em\" text-anchor=\"middle\" transform=\"translate(0.5,25.923913043478265) rotate(-90)\" style=\"display: none;\"/><text class=\"node-title\" dy=\".35em\" text-anchor=\"start\" transform=\"translate(-4,-10)\" style=\"display: inline;\">bananas</text><rect class=\"node-click-target\" x=\"-5\" y=\"-5\" width=\"10\" height=\"56.84782608695653\" style=\"fill: none; visibility: hidden; pointer-events: all;\"/></g><g class=\"node\" transform=\"translate(309,26.5)\"><title>Men</title><line x1=\"0\" x2=\"0\" y1=\"0\" y2=\"66.25\" style=\"display: inline; stroke: rgb(0, 0, 0);\"/><rect class=\"node-body\" width=\"1\" height=\"66.25\" style=\"fill: none;\"/><text class=\"node-value\" dy=\".35em\" text-anchor=\"middle\" transform=\"translate(0.5,33.125) rotate(-90)\" style=\"display: none;\"/><text class=\"node-title\" dy=\".35em\" text-anchor=\"start\" transform=\"translate(5,33.125)\" style=\"display: inline;\">Men</text><rect class=\"node-click-target\" x=\"-5\" y=\"-5\" width=\"10\" height=\"71.25\" style=\"fill: none; visibility: hidden; pointer-events: all;\"/></g><g class=\"node\" transform=\"translate(309,172.25)\"><title>Women</title><line x1=\"0\" x2=\"0\" y1=\"0\" y2=\"66.25\" style=\"display: inline; stroke: rgb(0, 0, 0);\"/><rect class=\"node-body\" width=\"1\" height=\"66.25\" style=\"fill: none;\"/><text class=\"node-value\" dy=\".35em\" text-anchor=\"middle\" transform=\"translate(0.5,33.125) rotate(-90)\" style=\"display: none;\"/><text class=\"node-title\" dy=\".35em\" text-anchor=\"start\" transform=\"translate(5,33.125)\" style=\"display: inline;\">Women</text><rect class=\"node-click-target\" x=\"-5\" y=\"-5\" width=\"10\" height=\"71.25\" style=\"fill: none; visibility: hidden; pointer-events: all;\"/></g></g><g class=\"slice-titles\"/></g></svg>",
            "_view_module_version": "^0.4.1",
            "order": [
              [
                [
                  "farms^farm1",
                  "farms^farm2",
                  "farms^farm3",
                  "farms^other"
                ]
              ],
              [
                [
                  "waypoint^apples",
                  "waypoint^bananas"
                ]
              ],
              [
                [
                  "customers^Men",
                  "customers^Women"
                ]
              ]
            ]
          }
        },
        "191bd98a3a174b82a75491d2a03a4337": {
          "model_module": "@jupyter-widgets/base",
          "model_name": "LayoutModel",
          "model_module_version": "1.2.0",
          "state": {
            "_view_name": "LayoutView",
            "grid_template_rows": null,
            "right": null,
            "justify_content": null,
            "_view_module": "@jupyter-widgets/base",
            "overflow": null,
            "_model_module_version": "1.2.0",
            "_view_count": null,
            "flex_flow": null,
            "width": "570",
            "min_width": null,
            "border": null,
            "align_items": null,
            "bottom": null,
            "_model_module": "@jupyter-widgets/base",
            "top": null,
            "grid_column": null,
            "overflow_y": null,
            "overflow_x": null,
            "grid_auto_flow": null,
            "grid_area": null,
            "grid_template_columns": null,
            "flex": null,
            "_model_name": "LayoutModel",
            "justify_items": null,
            "grid_row": null,
            "max_height": null,
            "align_content": null,
            "visibility": null,
            "align_self": null,
            "height": "300",
            "min_height": null,
            "padding": null,
            "grid_auto_rows": null,
            "grid_gap": null,
            "max_width": null,
            "order": null,
            "_view_module_version": "1.2.0",
            "grid_template_areas": null,
            "object_position": null,
            "object_fit": null,
            "grid_auto_columns": null,
            "margin": null,
            "display": null,
            "left": null
          }
        }
      }
    }
  },
  "nbformat": 4,
  "nbformat_minor": 0
}