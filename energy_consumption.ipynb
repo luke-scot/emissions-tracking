{
  "cells": [
    {
      "cell_type": "markdown",
      "metadata": {
        "id": "view-in-github",
        "colab_type": "text"
      },
      "source": [
        "<a href=\"https://colab.research.google.com/github/luke-scot/emissions-tracking/blob/main/energy_consumption.ipynb\" target=\"_parent\"><img src=\"https://colab.research.google.com/assets/colab-badge.svg\" alt=\"Open In Colab\"/></a>"
      ]
    },
    {
      "cell_type": "markdown",
      "metadata": {
        "id": "4d4Ip_8p3bCF"
      },
      "source": [
        "# Energy consumption\n",
        "\n",
        "\n",
        "Run the first two cells setup the notebook.\n",
        "\n",
        "\n",
        "\n"
      ]
    },
    {
      "cell_type": "code",
      "execution_count": 1,
      "metadata": {
        "id": "bY7nXRLo3bCJ"
      },
      "outputs": [],
      "source": [
        "%%capture\n",
        "\"\"\"Installation and downloads\"\"\"\n",
        "# Install floweaver and display widget packages\n",
        "%pip install floweaver ipysankeywidget openpyxl --upgrade\n",
        "\n",
        "# Import necessary packages\n",
        "from floweaver import *\n",
        "import gdown, os\n",
        "from google.colab import files\n",
        "\n",
        "# Import and unzip files -> You can then view them in the left files panel\n",
        "folder, zip_path = 'example_data', 'example_data.zip'\n",
        "if not os.path.exists(folder): \n",
        "  gdown.download('https://drive.google.com/uc?id=1qriY29v7eKJIs07UxAw5RlJirfwuLnyP', zip_path ,quiet=True)\n",
        "  ! unzip $zip_path -d 'example_data'\n",
        "  ! rm $zip_path"
      ]
    },
    {
      "cell_type": "code",
      "source": [
        "\"\"\"Display setup\"\"\"\n",
        "# Enable widget display for Sankeys in Colab\n",
        "from google.colab import output\n",
        "output.enable_custom_widget_manager()"
      ],
      "metadata": {
        "id": "IV4oVXv37Dxn"
      },
      "execution_count": 2,
      "outputs": []
    },
    {
      "cell_type": "markdown",
      "source": [
        "## Task 1 - US example \n",
        "\n",
        "Step through this section to see an example for the US based on the [Sankey diagrams of US energy consumption from the Lawrence Livermore National Laboratory](https://flowcharts.llnl.gov/) (thanks to John Muth for the suggestion and transcribing the data)."
      ],
      "metadata": {
        "id": "POjd-O7vCEbE"
      }
    },
    {
      "cell_type": "code",
      "execution_count": 3,
      "metadata": {
        "id": "1rgEr88P3bCL"
      },
      "outputs": [],
      "source": [
        "\"\"\"Load the dataset\"\"\"\n",
        "dataset = Dataset.from_csv('example_data/us-energy-consumption.csv',\n",
        "                           dim_process_filename='example_data/us-energy-consumption-processes.csv')"
      ]
    },
    {
      "cell_type": "code",
      "execution_count": 4,
      "metadata": {
        "id": "QYvMGV2k3bCM"
      },
      "outputs": [],
      "source": [
        "\"\"\"Define the order the nodes appear in\"\"\"\n",
        "sources = ['Solar', 'Nuclear', 'Hydro', 'Wind', 'Geothermal',\n",
        "           'Natural_Gas', 'Coal', 'Biomass', 'Petroleum']\n",
        "\n",
        "uses = ['Residential', 'Commercial', 'Industrial', 'Transportation']"
      ]
    },
    {
      "cell_type": "code",
      "execution_count": 5,
      "metadata": {
        "id": "XdOB57Yf3bCN"
      },
      "outputs": [],
      "source": [
        "\"\"\"define the Sankey diagram definition\"\"\"\n",
        "nodes = {\n",
        "    'sources': ProcessGroup('type == \"source\"', Partition.Simple('process', sources), title='Sources'),\n",
        "    #'imports': ProcessGroup(['Net_Electricity_Import'], title='Net electricity imports'),\n",
        "    'electricity': ProcessGroup(['Electricity_Generation'], title='Electricity Generation'),\n",
        "    'uses': ProcessGroup('type == \"use\"', partition=Partition.Simple('process', uses)),\n",
        "    \n",
        "    'energy_services': ProcessGroup(['Energy_Services'], title='Energy services'),\n",
        "    'rejected': ProcessGroup(['Rejected_Energy'], title='Rejected energy'),\n",
        "    \n",
        "    'direct_use': Waypoint(Partition.Simple('source', [\n",
        "        # This is a hack to hide the labels of the partition, there should be a better way...\n",
        "        (' '*i, [k]) for i, k in enumerate(sources)\n",
        "    ])),\n",
        "}\n",
        "\n",
        "ordering = [\n",
        "    [[], ['sources'], []],\n",
        "    [['imports'], ['electricity', 'direct_use'], []],\n",
        "    [[], ['uses'], []],\n",
        "    [[], ['rejected', 'energy_services'], []]\n",
        "]\n",
        "\n",
        "bundles = [\n",
        "    Bundle('sources', 'electricity'),\n",
        "    Bundle('sources', 'uses', waypoints=['direct_use']),\n",
        "    Bundle('electricity', 'uses'),\n",
        "    Bundle('imports', 'uses'),\n",
        "    Bundle('uses', 'energy_services'),\n",
        "    Bundle('uses', 'rejected'),\n",
        "    Bundle('electricity', 'rejected'),\n",
        "]"
      ]
    },
    {
      "cell_type": "code",
      "execution_count": 6,
      "metadata": {
        "id": "GM6VX1-b3bCP"
      },
      "outputs": [],
      "source": [
        "\"\"\"Define the colours to roughly imitate the original Sankey diagram\"\"\"\n",
        "palette = {\n",
        "    'Solar': 'gold',\n",
        "    'Nuclear': 'red',\n",
        "    'Hydro': 'blue',\n",
        "    'Wind': 'purple',\n",
        "    'Geothermal': 'brown',\n",
        "    'Natural_Gas': 'steelblue',\n",
        "    'Coal': 'black',\n",
        "    'Biomass': 'lightgreen',\n",
        "    'Petroleum': 'green',\n",
        "    'Electricity': 'orange',\n",
        "    'Rejected energy': 'lightgrey',\n",
        "    'Energy services': 'dimgrey',\n",
        "}"
      ]
    },
    {
      "cell_type": "markdown",
      "metadata": {
        "id": "UysJD6jp3bCP"
      },
      "source": [
        "And here's the result!"
      ]
    },
    {
      "cell_type": "code",
      "execution_count": 7,
      "metadata": {
        "colab": {
          "base_uri": "https://localhost:8080/",
          "height": 471,
          "referenced_widgets": [
            "a27accef54694de4883c6d10c2bbf6ab",
            "a53ba6066f8b40da800872ba9a94f4e6",
            "f9d97ebb5013455e9cae9342a9451b7e",
            "ef40299383de4f3595e0e81e0b40b3ab",
            "c88167cb77f74793aa19813880323fe8",
            "6593c27a1f11450e88111bf91f0b57da"
          ]
        },
        "id": "lCgMwYvP3bCQ",
        "outputId": "1fd1eea9-ed40-4322-dafe-e5e05f91f6f5"
      },
      "outputs": [
        {
          "output_type": "display_data",
          "data": {
            "application/vnd.jupyter.widget-view+json": {
              "model_id": "a27accef54694de4883c6d10c2bbf6ab",
              "version_minor": 0,
              "version_major": 2
            },
            "text/plain": [
              "VBox(children=(SankeyWidget(groups=[{'id': 'sources', 'type': 'process', 'title': 'Sources', 'nodes': ['source…"
            ]
          },
          "metadata": {
            "application/vnd.jupyter.widget-view+json": {
              "colab": {
                "custom_widget_manager": {
                  "url": "https://ssl.gstatic.com/colaboratory-static/widgets/colab-cdn-widget-manager/a8874ba6619b6106/manager.min.js"
                }
              }
            }
          }
        }
      ],
      "source": [
        "sdd = SankeyDefinition(nodes, bundles, ordering,\n",
        "                       flow_partition=dataset.partition('type'))\n",
        "weave(sdd, dataset, palette=palette) \\\n",
        "    .to_widget(width=700, height=450, margins=dict(left=100, right=120), debugging=True)"
      ]
    },
    {
      "cell_type": "markdown",
      "source": [
        "You can save a copy of the Sankey by adding `.auto_save_png('filename.png')` or `.auto_save_svg('filename.svg')` to the end of the `weave` call in the previous box."
      ],
      "metadata": {
        "id": "Jasbl9Li5l6H"
      }
    },
    {
      "cell_type": "markdown",
      "source": [
        "## Task 2 - Create your own\n",
        "\n",
        "Follow the steps below to create an equivalent Sankey for your own country.\n",
        "\n",
        "  1. Find and download the IEA World Energy Balances Highlights spreadsheet, from the webpage: https://www.iea.org/reports/world-energy-balances-overview. Then upload it to Colab using the `upload` button in the left panel.\n",
        "\n",
        "  2. In the next cell import the Excel sheet to a pandas DataFrame. To find appropriate functions for the next steps either have a look at the [pandas documentation](https://pandas.pydata.org/docs/reference/index.html), or remember [your best friend](https://www.google.com/) when writing code.\n",
        "\n"
      ],
      "metadata": {
        "id": "rmsJKiUlCK94"
      }
    },
    {
      "cell_type": "code",
      "source": [
        "\"\"\"Read in an Excel file\"\"\"\n",
        "import pandas as pd\n",
        "fileName = 'WorldEnergyBalancesHighlights2021.xlsx'\n",
        "sheetName = 'TimeSeries_1971-2020'\n",
        "data = pd.read_excel(fileName,sheet_name=sheetName,header=1)"
      ],
      "metadata": {
        "id": "Bx6dXau0CKmX"
      },
      "execution_count": 545,
      "outputs": []
    },
    {
      "cell_type": "markdown",
      "source": [
        "3. Filter the DataFrame to contain only the desired country data."
      ],
      "metadata": {
        "id": "ZZFYds1VccfR"
      }
    },
    {
      "cell_type": "code",
      "source": [
        "\"\"\"Get desired country\"\"\"\n",
        "country = 'United Kingdom'\n",
        "countryData = data.loc[data['Country']==country]"
      ],
      "metadata": {
        "id": "oMSN66Gocb4h",
        "outputId": "decdfcdb-4554-4b05-f617-fdd5223585b3",
        "colab": {
          "base_uri": "https://localhost:8080/",
          "height": 321
        }
      },
      "execution_count": 733,
      "outputs": [
        {
          "output_type": "error",
          "ename": "ValueError",
          "evalue": "ignored",
          "traceback": [
            "\u001b[0;31m---------------------------------------------------------------------------\u001b[0m",
            "\u001b[0;31mValueError\u001b[0m                                Traceback (most recent call last)",
            "\u001b[0;32m<ipython-input-733-ae02347ddf95>\u001b[0m in \u001b[0;36m<module>\u001b[0;34m()\u001b[0m\n\u001b[1;32m      1\u001b[0m \u001b[0;34m\"\"\"Get desired country\"\"\"\u001b[0m\u001b[0;34m\u001b[0m\u001b[0;34m\u001b[0m\u001b[0m\n\u001b[1;32m      2\u001b[0m \u001b[0mcountry\u001b[0m \u001b[0;34m=\u001b[0m \u001b[0;34m'United Kingdom'\u001b[0m\u001b[0;34m\u001b[0m\u001b[0;34m\u001b[0m\u001b[0m\n\u001b[0;32m----> 3\u001b[0;31m \u001b[0mcountryData\u001b[0m \u001b[0;34m=\u001b[0m \u001b[0mdata\u001b[0m\u001b[0;34m.\u001b[0m\u001b[0mloc\u001b[0m\u001b[0;34m[\u001b[0m\u001b[0mdata\u001b[0m\u001b[0;34m[\u001b[0m\u001b[0;34m'Country'\u001b[0m\u001b[0;34m]\u001b[0m \u001b[0;32min\u001b[0m \u001b[0;34m[\u001b[0m\u001b[0mcountry\u001b[0m\u001b[0;34m]\u001b[0m\u001b[0;34m]\u001b[0m\u001b[0;34m\u001b[0m\u001b[0;34m\u001b[0m\u001b[0m\n\u001b[0m",
            "\u001b[0;32m/usr/local/lib/python3.7/dist-packages/pandas/core/generic.py\u001b[0m in \u001b[0;36m__nonzero__\u001b[0;34m(self)\u001b[0m\n\u001b[1;32m   1536\u001b[0m     \u001b[0;32mdef\u001b[0m \u001b[0m__nonzero__\u001b[0m\u001b[0;34m(\u001b[0m\u001b[0mself\u001b[0m\u001b[0;34m)\u001b[0m\u001b[0;34m:\u001b[0m\u001b[0;34m\u001b[0m\u001b[0;34m\u001b[0m\u001b[0m\n\u001b[1;32m   1537\u001b[0m         raise ValueError(\n\u001b[0;32m-> 1538\u001b[0;31m             \u001b[0;34mf\"The truth value of a {type(self).__name__} is ambiguous. \"\u001b[0m\u001b[0;34m\u001b[0m\u001b[0;34m\u001b[0m\u001b[0m\n\u001b[0m\u001b[1;32m   1539\u001b[0m             \u001b[0;34m\"Use a.empty, a.bool(), a.item(), a.any() or a.all().\"\u001b[0m\u001b[0;34m\u001b[0m\u001b[0;34m\u001b[0m\u001b[0m\n\u001b[1;32m   1540\u001b[0m         )\n",
            "\u001b[0;31mValueError\u001b[0m: The truth value of a Series is ambiguous. Use a.empty, a.bool(), a.item(), a.any() or a.all()."
          ]
        }
      ]
    },
    {
      "cell_type": "markdown",
      "source": [
        "4. Filter the DataFrame to only contain 'Product', 'Flow' and value for the latest full year."
      ],
      "metadata": {
        "id": "tbAZ9lu2dmmV"
      }
    },
    {
      "cell_type": "code",
      "source": [
        "\"\"\"Get values for latest year\"\"\"\n",
        "lastYear = max([colName for colName in data.columns if isinstance(colName, int)])\n",
        "filterData = countryData[['Product','Flow',lastYear]]\n",
        "\n",
        "# Display data\n",
        "display(filterData)"
      ],
      "metadata": {
        "id": "mvTXPkZJdGVI",
        "outputId": "62900119-e1d7-4e59-ac59-e2fa879ca82b",
        "colab": {
          "base_uri": "https://localhost:8080/",
          "height": 424
        }
      },
      "execution_count": 723,
      "outputs": [
        {
          "output_type": "display_data",
          "data": {
            "text/html": [
              "\n",
              "  <div id=\"df-c5b71172-8090-4bc9-8e3a-91fd2b52c791\">\n",
              "    <div class=\"colab-df-container\">\n",
              "      <div>\n",
              "<style scoped>\n",
              "    .dataframe tbody tr th:only-of-type {\n",
              "        vertical-align: middle;\n",
              "    }\n",
              "\n",
              "    .dataframe tbody tr th {\n",
              "        vertical-align: top;\n",
              "    }\n",
              "\n",
              "    .dataframe thead th {\n",
              "        text-align: right;\n",
              "    }\n",
              "</style>\n",
              "<table border=\"1\" class=\"dataframe\">\n",
              "  <thead>\n",
              "    <tr style=\"text-align: right;\">\n",
              "      <th></th>\n",
              "      <th>Product</th>\n",
              "      <th>Flow</th>\n",
              "      <th>2019</th>\n",
              "    </tr>\n",
              "  </thead>\n",
              "  <tbody>\n",
              "    <tr>\n",
              "      <th>3780</th>\n",
              "      <td>Coal, peat and oil shale</td>\n",
              "      <td>Production (PJ)</td>\n",
              "      <td>58.094726</td>\n",
              "    </tr>\n",
              "    <tr>\n",
              "      <th>3781</th>\n",
              "      <td>Coal, peat and oil shale</td>\n",
              "      <td>Imports (PJ)</td>\n",
              "      <td>201.938391</td>\n",
              "    </tr>\n",
              "    <tr>\n",
              "      <th>3782</th>\n",
              "      <td>Coal, peat and oil shale</td>\n",
              "      <td>Exports (PJ)</td>\n",
              "      <td>-22.416345</td>\n",
              "    </tr>\n",
              "    <tr>\n",
              "      <th>3783</th>\n",
              "      <td>Coal, peat and oil shale</td>\n",
              "      <td>Total energy supply (PJ)</td>\n",
              "      <td>242.756119</td>\n",
              "    </tr>\n",
              "    <tr>\n",
              "      <th>3784</th>\n",
              "      <td>Coal, peat and oil shale</td>\n",
              "      <td>Electricity, CHP and heat plants (PJ)</td>\n",
              "      <td>-90.851513</td>\n",
              "    </tr>\n",
              "    <tr>\n",
              "      <th>...</th>\n",
              "      <td>...</td>\n",
              "      <td>...</td>\n",
              "      <td>...</td>\n",
              "    </tr>\n",
              "    <tr>\n",
              "      <th>3887</th>\n",
              "      <td>Total</td>\n",
              "      <td>Other final consumption (PJ)</td>\n",
              "      <td>407.099906</td>\n",
              "    </tr>\n",
              "    <tr>\n",
              "      <th>6080</th>\n",
              "      <td>Fossil fuels</td>\n",
              "      <td>Electricity output (GWh)</td>\n",
              "      <td>139728.651</td>\n",
              "    </tr>\n",
              "    <tr>\n",
              "      <th>6081</th>\n",
              "      <td>Nuclear</td>\n",
              "      <td>Electricity output (GWh)</td>\n",
              "      <td>56183.934</td>\n",
              "    </tr>\n",
              "    <tr>\n",
              "      <th>6082</th>\n",
              "      <td>Renewable sources</td>\n",
              "      <td>Electricity output (GWh)</td>\n",
              "      <td>120505.012</td>\n",
              "    </tr>\n",
              "    <tr>\n",
              "      <th>6083</th>\n",
              "      <td>Total</td>\n",
              "      <td>Electricity output (GWh)</td>\n",
              "      <td>321087.511</td>\n",
              "    </tr>\n",
              "  </tbody>\n",
              "</table>\n",
              "<p>112 rows × 3 columns</p>\n",
              "</div>\n",
              "      <button class=\"colab-df-convert\" onclick=\"convertToInteractive('df-c5b71172-8090-4bc9-8e3a-91fd2b52c791')\"\n",
              "              title=\"Convert this dataframe to an interactive table.\"\n",
              "              style=\"display:none;\">\n",
              "        \n",
              "  <svg xmlns=\"http://www.w3.org/2000/svg\" height=\"24px\"viewBox=\"0 0 24 24\"\n",
              "       width=\"24px\">\n",
              "    <path d=\"M0 0h24v24H0V0z\" fill=\"none\"/>\n",
              "    <path d=\"M18.56 5.44l.94 2.06.94-2.06 2.06-.94-2.06-.94-.94-2.06-.94 2.06-2.06.94zm-11 1L8.5 8.5l.94-2.06 2.06-.94-2.06-.94L8.5 2.5l-.94 2.06-2.06.94zm10 10l.94 2.06.94-2.06 2.06-.94-2.06-.94-.94-2.06-.94 2.06-2.06.94z\"/><path d=\"M17.41 7.96l-1.37-1.37c-.4-.4-.92-.59-1.43-.59-.52 0-1.04.2-1.43.59L10.3 9.45l-7.72 7.72c-.78.78-.78 2.05 0 2.83L4 21.41c.39.39.9.59 1.41.59.51 0 1.02-.2 1.41-.59l7.78-7.78 2.81-2.81c.8-.78.8-2.07 0-2.86zM5.41 20L4 18.59l7.72-7.72 1.47 1.35L5.41 20z\"/>\n",
              "  </svg>\n",
              "      </button>\n",
              "      \n",
              "  <style>\n",
              "    .colab-df-container {\n",
              "      display:flex;\n",
              "      flex-wrap:wrap;\n",
              "      gap: 12px;\n",
              "    }\n",
              "\n",
              "    .colab-df-convert {\n",
              "      background-color: #E8F0FE;\n",
              "      border: none;\n",
              "      border-radius: 50%;\n",
              "      cursor: pointer;\n",
              "      display: none;\n",
              "      fill: #1967D2;\n",
              "      height: 32px;\n",
              "      padding: 0 0 0 0;\n",
              "      width: 32px;\n",
              "    }\n",
              "\n",
              "    .colab-df-convert:hover {\n",
              "      background-color: #E2EBFA;\n",
              "      box-shadow: 0px 1px 2px rgba(60, 64, 67, 0.3), 0px 1px 3px 1px rgba(60, 64, 67, 0.15);\n",
              "      fill: #174EA6;\n",
              "    }\n",
              "\n",
              "    [theme=dark] .colab-df-convert {\n",
              "      background-color: #3B4455;\n",
              "      fill: #D2E3FC;\n",
              "    }\n",
              "\n",
              "    [theme=dark] .colab-df-convert:hover {\n",
              "      background-color: #434B5C;\n",
              "      box-shadow: 0px 1px 3px 1px rgba(0, 0, 0, 0.15);\n",
              "      filter: drop-shadow(0px 1px 2px rgba(0, 0, 0, 0.3));\n",
              "      fill: #FFFFFF;\n",
              "    }\n",
              "  </style>\n",
              "\n",
              "      <script>\n",
              "        const buttonEl =\n",
              "          document.querySelector('#df-c5b71172-8090-4bc9-8e3a-91fd2b52c791 button.colab-df-convert');\n",
              "        buttonEl.style.display =\n",
              "          google.colab.kernel.accessAllowed ? 'block' : 'none';\n",
              "\n",
              "        async function convertToInteractive(key) {\n",
              "          const element = document.querySelector('#df-c5b71172-8090-4bc9-8e3a-91fd2b52c791');\n",
              "          const dataTable =\n",
              "            await google.colab.kernel.invokeFunction('convertToInteractive',\n",
              "                                                     [key], {});\n",
              "          if (!dataTable) return;\n",
              "\n",
              "          const docLinkHtml = 'Like what you see? Visit the ' +\n",
              "            '<a target=\"_blank\" href=https://colab.research.google.com/notebooks/data_table.ipynb>data table notebook</a>'\n",
              "            + ' to learn more about interactive tables.';\n",
              "          element.innerHTML = '';\n",
              "          dataTable['output_type'] = 'display_data';\n",
              "          await google.colab.output.renderOutput(dataTable, element);\n",
              "          const docLink = document.createElement('div');\n",
              "          docLink.innerHTML = docLinkHtml;\n",
              "          element.appendChild(docLink);\n",
              "        }\n",
              "      </script>\n",
              "    </div>\n",
              "  </div>\n",
              "  "
            ],
            "text/plain": [
              "                       Product  ...        2019\n",
              "3780  Coal, peat and oil shale  ...   58.094726\n",
              "3781  Coal, peat and oil shale  ...  201.938391\n",
              "3782  Coal, peat and oil shale  ...  -22.416345\n",
              "3783  Coal, peat and oil shale  ...  242.756119\n",
              "3784  Coal, peat and oil shale  ...  -90.851513\n",
              "...                        ...  ...         ...\n",
              "3887                     Total  ...  407.099906\n",
              "6080              Fossil fuels  ...  139728.651\n",
              "6081                   Nuclear  ...   56183.934\n",
              "6082         Renewable sources  ...  120505.012\n",
              "6083                     Total  ...  321087.511\n",
              "\n",
              "[112 rows x 3 columns]"
            ]
          },
          "metadata": {}
        }
      ]
    },
    {
      "cell_type": "markdown",
      "source": [
        "5. Filter out rows containing summaries (i.e. Total, Production), different units (GWh) or non-numeric values."
      ],
      "metadata": {
        "id": "zm7v17cIAHkE"
      }
    },
    {
      "cell_type": "code",
      "source": [
        "\"\"\"Filter out Totals and bad characters\"\"\"\n",
        "remove = '|'.join(['Production','Total','GWh'])\n",
        "filterData = filterData[~filterData['Product'].str.contains(remove)]\n",
        "filterData = filterData[~filterData['Flow'].str.contains(remove)]\n",
        "filterData = filterData[[type(i) is not str for i in filterData[lastYear]]]"
      ],
      "metadata": {
        "id": "QclZtJU2MvMh"
      },
      "execution_count": 724,
      "outputs": []
    },
    {
      "cell_type": "markdown",
      "source": [
        "6. Let's match the format in the files for the US example that you can find in the 'example_data' folder."
      ],
      "metadata": {
        "id": "Y-DLC_02Asy6"
      }
    },
    {
      "cell_type": "code",
      "source": [
        "\"\"\"Create dataset table\"\"\"\n",
        "# Rename the columns to define source, target and value\n",
        "filterData.rename(columns={'Product':'source', 'Flow':'target', lastYear:'value'}, inplace=True)\n",
        "\n",
        "# Create type column\n",
        "filterData['type'] = filterData['source']\n",
        "\n",
        "# Get absolute values to display exports\n",
        "filterData['value'] = abs(filterData['value'])\n",
        "\n",
        "# Create groupings\n",
        "groups = [['Electricity','Electricity'],['Oil products','Oil refineries']]\n",
        "for g in groups:\n",
        "  filterData['target'] = [g[0] if g[1] in i['target'] else i['target'] for i in filterData.iloc]\n",
        "\n",
        "# Order data so that imports are considered a source and not a target\n",
        "orderData = filterData.copy()\n",
        "importRows = np.where(['Imports' in i for i in filterData['target']])[0]\n",
        "orderData['source'].iloc[importRows] = filterData['target'].iloc[importRows]\n",
        "orderData['target'].iloc[importRows] = filterData['source'].iloc[importRows]\n",
        "\n",
        "display(orderData)"
      ],
      "metadata": {
        "id": "a9yqcjKRAedh",
        "outputId": "74a00714-c0c5-41c1-bbcd-4faa19347c87",
        "colab": {
          "base_uri": "https://localhost:8080/",
          "height": 424
        }
      },
      "execution_count": 725,
      "outputs": [
        {
          "output_type": "display_data",
          "data": {
            "text/html": [
              "\n",
              "  <div id=\"df-0f58b42e-b0e1-4481-9f4f-77999176d085\">\n",
              "    <div class=\"colab-df-container\">\n",
              "      <div>\n",
              "<style scoped>\n",
              "    .dataframe tbody tr th:only-of-type {\n",
              "        vertical-align: middle;\n",
              "    }\n",
              "\n",
              "    .dataframe tbody tr th {\n",
              "        vertical-align: top;\n",
              "    }\n",
              "\n",
              "    .dataframe thead th {\n",
              "        text-align: right;\n",
              "    }\n",
              "</style>\n",
              "<table border=\"1\" class=\"dataframe\">\n",
              "  <thead>\n",
              "    <tr style=\"text-align: right;\">\n",
              "      <th></th>\n",
              "      <th>source</th>\n",
              "      <th>target</th>\n",
              "      <th>value</th>\n",
              "      <th>type</th>\n",
              "    </tr>\n",
              "  </thead>\n",
              "  <tbody>\n",
              "    <tr>\n",
              "      <th>3781</th>\n",
              "      <td>Imports (PJ)</td>\n",
              "      <td>Coal, peat and oil shale</td>\n",
              "      <td>201.938391</td>\n",
              "      <td>Coal, peat and oil shale</td>\n",
              "    </tr>\n",
              "    <tr>\n",
              "      <th>3782</th>\n",
              "      <td>Coal, peat and oil shale</td>\n",
              "      <td>Exports (PJ)</td>\n",
              "      <td>22.416345</td>\n",
              "      <td>Coal, peat and oil shale</td>\n",
              "    </tr>\n",
              "    <tr>\n",
              "      <th>3784</th>\n",
              "      <td>Coal, peat and oil shale</td>\n",
              "      <td>Electricity</td>\n",
              "      <td>90.851513</td>\n",
              "      <td>Coal, peat and oil shale</td>\n",
              "    </tr>\n",
              "    <tr>\n",
              "      <th>3785</th>\n",
              "      <td>Coal, peat and oil shale</td>\n",
              "      <td>Oil products</td>\n",
              "      <td>0</td>\n",
              "      <td>Coal, peat and oil shale</td>\n",
              "    </tr>\n",
              "    <tr>\n",
              "      <th>3787</th>\n",
              "      <td>Coal, peat and oil shale</td>\n",
              "      <td>Industry (PJ)</td>\n",
              "      <td>61.131224</td>\n",
              "      <td>Coal, peat and oil shale</td>\n",
              "    </tr>\n",
              "    <tr>\n",
              "      <th>...</th>\n",
              "      <td>...</td>\n",
              "      <td>...</td>\n",
              "      <td>...</td>\n",
              "      <td>...</td>\n",
              "    </tr>\n",
              "    <tr>\n",
              "      <th>3871</th>\n",
              "      <td>Heat</td>\n",
              "      <td>Industry (PJ)</td>\n",
              "      <td>28.167735</td>\n",
              "      <td>Heat</td>\n",
              "    </tr>\n",
              "    <tr>\n",
              "      <th>3872</th>\n",
              "      <td>Heat</td>\n",
              "      <td>Transport (PJ)</td>\n",
              "      <td>0</td>\n",
              "      <td>Heat</td>\n",
              "    </tr>\n",
              "    <tr>\n",
              "      <th>3873</th>\n",
              "      <td>Heat</td>\n",
              "      <td>Residential (PJ)</td>\n",
              "      <td>11.269748</td>\n",
              "      <td>Heat</td>\n",
              "    </tr>\n",
              "    <tr>\n",
              "      <th>3874</th>\n",
              "      <td>Heat</td>\n",
              "      <td>Commercial and public services (PJ)</td>\n",
              "      <td>12.490803</td>\n",
              "      <td>Heat</td>\n",
              "    </tr>\n",
              "    <tr>\n",
              "      <th>3875</th>\n",
              "      <td>Heat</td>\n",
              "      <td>Other final consumption (PJ)</td>\n",
              "      <td>0.165048</td>\n",
              "      <td>Heat</td>\n",
              "    </tr>\n",
              "  </tbody>\n",
              "</table>\n",
              "<p>72 rows × 4 columns</p>\n",
              "</div>\n",
              "      <button class=\"colab-df-convert\" onclick=\"convertToInteractive('df-0f58b42e-b0e1-4481-9f4f-77999176d085')\"\n",
              "              title=\"Convert this dataframe to an interactive table.\"\n",
              "              style=\"display:none;\">\n",
              "        \n",
              "  <svg xmlns=\"http://www.w3.org/2000/svg\" height=\"24px\"viewBox=\"0 0 24 24\"\n",
              "       width=\"24px\">\n",
              "    <path d=\"M0 0h24v24H0V0z\" fill=\"none\"/>\n",
              "    <path d=\"M18.56 5.44l.94 2.06.94-2.06 2.06-.94-2.06-.94-.94-2.06-.94 2.06-2.06.94zm-11 1L8.5 8.5l.94-2.06 2.06-.94-2.06-.94L8.5 2.5l-.94 2.06-2.06.94zm10 10l.94 2.06.94-2.06 2.06-.94-2.06-.94-.94-2.06-.94 2.06-2.06.94z\"/><path d=\"M17.41 7.96l-1.37-1.37c-.4-.4-.92-.59-1.43-.59-.52 0-1.04.2-1.43.59L10.3 9.45l-7.72 7.72c-.78.78-.78 2.05 0 2.83L4 21.41c.39.39.9.59 1.41.59.51 0 1.02-.2 1.41-.59l7.78-7.78 2.81-2.81c.8-.78.8-2.07 0-2.86zM5.41 20L4 18.59l7.72-7.72 1.47 1.35L5.41 20z\"/>\n",
              "  </svg>\n",
              "      </button>\n",
              "      \n",
              "  <style>\n",
              "    .colab-df-container {\n",
              "      display:flex;\n",
              "      flex-wrap:wrap;\n",
              "      gap: 12px;\n",
              "    }\n",
              "\n",
              "    .colab-df-convert {\n",
              "      background-color: #E8F0FE;\n",
              "      border: none;\n",
              "      border-radius: 50%;\n",
              "      cursor: pointer;\n",
              "      display: none;\n",
              "      fill: #1967D2;\n",
              "      height: 32px;\n",
              "      padding: 0 0 0 0;\n",
              "      width: 32px;\n",
              "    }\n",
              "\n",
              "    .colab-df-convert:hover {\n",
              "      background-color: #E2EBFA;\n",
              "      box-shadow: 0px 1px 2px rgba(60, 64, 67, 0.3), 0px 1px 3px 1px rgba(60, 64, 67, 0.15);\n",
              "      fill: #174EA6;\n",
              "    }\n",
              "\n",
              "    [theme=dark] .colab-df-convert {\n",
              "      background-color: #3B4455;\n",
              "      fill: #D2E3FC;\n",
              "    }\n",
              "\n",
              "    [theme=dark] .colab-df-convert:hover {\n",
              "      background-color: #434B5C;\n",
              "      box-shadow: 0px 1px 3px 1px rgba(0, 0, 0, 0.15);\n",
              "      filter: drop-shadow(0px 1px 2px rgba(0, 0, 0, 0.3));\n",
              "      fill: #FFFFFF;\n",
              "    }\n",
              "  </style>\n",
              "\n",
              "      <script>\n",
              "        const buttonEl =\n",
              "          document.querySelector('#df-0f58b42e-b0e1-4481-9f4f-77999176d085 button.colab-df-convert');\n",
              "        buttonEl.style.display =\n",
              "          google.colab.kernel.accessAllowed ? 'block' : 'none';\n",
              "\n",
              "        async function convertToInteractive(key) {\n",
              "          const element = document.querySelector('#df-0f58b42e-b0e1-4481-9f4f-77999176d085');\n",
              "          const dataTable =\n",
              "            await google.colab.kernel.invokeFunction('convertToInteractive',\n",
              "                                                     [key], {});\n",
              "          if (!dataTable) return;\n",
              "\n",
              "          const docLinkHtml = 'Like what you see? Visit the ' +\n",
              "            '<a target=\"_blank\" href=https://colab.research.google.com/notebooks/data_table.ipynb>data table notebook</a>'\n",
              "            + ' to learn more about interactive tables.';\n",
              "          element.innerHTML = '';\n",
              "          dataTable['output_type'] = 'display_data';\n",
              "          await google.colab.output.renderOutput(dataTable, element);\n",
              "          const docLink = document.createElement('div');\n",
              "          docLink.innerHTML = docLinkHtml;\n",
              "          element.appendChild(docLink);\n",
              "        }\n",
              "      </script>\n",
              "    </div>\n",
              "  </div>\n",
              "  "
            ],
            "text/plain": [
              "                        source  ...                      type\n",
              "3781              Imports (PJ)  ...  Coal, peat and oil shale\n",
              "3782  Coal, peat and oil shale  ...  Coal, peat and oil shale\n",
              "3784  Coal, peat and oil shale  ...  Coal, peat and oil shale\n",
              "3785  Coal, peat and oil shale  ...  Coal, peat and oil shale\n",
              "3787  Coal, peat and oil shale  ...  Coal, peat and oil shale\n",
              "...                        ...  ...                       ...\n",
              "3871                      Heat  ...                      Heat\n",
              "3872                      Heat  ...                      Heat\n",
              "3873                      Heat  ...                      Heat\n",
              "3874                      Heat  ...                      Heat\n",
              "3875                      Heat  ...                      Heat\n",
              "\n",
              "[72 rows x 4 columns]"
            ]
          },
          "metadata": {}
        }
      ]
    },
    {
      "cell_type": "markdown",
      "source": [
        "6. Let's display all the individual sources and targets and attribute them to process groups for our Sankey diagram."
      ],
      "metadata": {
        "id": "U5sWPIkTitba"
      }
    },
    {
      "cell_type": "code",
      "source": [
        "\"\"\"Display individual sources and targets\"\"\"\n",
        "display(orderData['source'].unique(), orderData['target'].unique())"
      ],
      "metadata": {
        "id": "rNyz6PN5zMSn",
        "outputId": "64238009-47de-4aa7-fb85-2aede0aa0dcb",
        "colab": {
          "base_uri": "https://localhost:8080/",
          "height": 191
        }
      },
      "execution_count": 726,
      "outputs": [
        {
          "output_type": "display_data",
          "data": {
            "text/plain": [
              "array(['Imports (PJ)', 'Coal, peat and oil shale',\n",
              "       'Crude, NGL and feedstocks', 'Oil products', 'Natural gas',\n",
              "       'Nuclear', 'Renewables and waste', 'Electricity', 'Heat'],\n",
              "      dtype=object)"
            ]
          },
          "metadata": {}
        },
        {
          "output_type": "display_data",
          "data": {
            "text/plain": [
              "array(['Coal, peat and oil shale', 'Exports (PJ)', 'Electricity',\n",
              "       'Oil products', 'Industry (PJ)', 'Transport (PJ)',\n",
              "       'Residential (PJ)', 'Commercial and public services (PJ)',\n",
              "       'Other final consumption (PJ)', 'Crude, NGL and feedstocks',\n",
              "       'Natural gas', 'Nuclear', 'Renewables and waste', 'Heat'],\n",
              "      dtype=object)"
            ]
          },
          "metadata": {}
        }
      ]
    },
    {
      "cell_type": "code",
      "source": [
        "\"\"\"Attribute to process groups\"\"\"\n",
        "sources = ['Coal, peat and oil shale', 'Crude, NGL and feedstocks', 'Natural gas', 'Nuclear', 'Renewables and waste','Heat']\n",
        "uses = ['Industry (PJ)', 'Transport (PJ)', 'Residential (PJ)', 'Commercial and public services (PJ)',\n",
        "       'Other final consumption (PJ)']\n",
        "imports = ['Imports (PJ)']\n",
        "exports = ['Exports (PJ)']\n",
        "electricity = ['Electricity']\n",
        "refining = ['Oil products']"
      ],
      "metadata": {
        "id": "QCYGtF-uzQY2"
      },
      "execution_count": 727,
      "outputs": []
    },
    {
      "cell_type": "markdown",
      "source": [
        "7. Create process table as in us-energy-consumption-processes.csv"
      ],
      "metadata": {
        "id": "5oUsLPrKDXFa"
      }
    },
    {
      "cell_type": "code",
      "source": [
        "\"\"\"Get all unique types of sources and targets listed in products and flows respectively\"\"\"\n",
        "import numpy as np\n",
        "idColumn = np.concatenate((sources,uses))\n",
        "typeColumn = ['source']*len(sources)+['use']*len(uses)\n",
        "processes = pd.DataFrame(np.array([idColumn,typeColumn]).transpose(), columns=['id','type'])"
      ],
      "metadata": {
        "id": "l0_lBNM0DYMr"
      },
      "execution_count": 728,
      "outputs": []
    },
    {
      "cell_type": "markdown",
      "source": [
        "We now have the same tables as used in the US example. So now copy the Sankey building boxes and see what you can do."
      ],
      "metadata": {
        "id": "KTEMYlKiTOFQ"
      }
    },
    {
      "cell_type": "code",
      "source": [
        "\"\"\"Load the dataset\"\"\"\n",
        "dataset = Dataset(orderData, dim_process=processes.set_index('id'))"
      ],
      "metadata": {
        "id": "CwieA1CPTMFB"
      },
      "execution_count": 729,
      "outputs": []
    },
    {
      "cell_type": "markdown",
      "source": [
        "6. Fetching the Sankey definition for the US energy consumption example, adapt this to fit with your new source and target values."
      ],
      "metadata": {
        "id": "IsEQ9EAHidc9"
      }
    },
    {
      "cell_type": "code",
      "source": [
        "\"\"\"Define the Sankey diagram definition\"\"\"\n",
        "nodes = {\n",
        "    # Processes\n",
        "    'sources': ProcessGroup('type == \"source\"', Partition.Simple('process', sources), title='Sources'),\n",
        "    'imports': ProcessGroup(imports, title='Imports'),\n",
        "    'exports': ProcessGroup(exports, title='Exports'),\n",
        "    'electricity': ProcessGroup(electricity, title='Electricity\\n Generation'),\n",
        "    'uses': ProcessGroup('type == \"use\"', Partition.Simple('process', uses), title='Uses'),\n",
        "    'refining': ProcessGroup(refining, title='Refining'),\n",
        "    # Waypoints\n",
        "    'direct_use': Waypoint(Partition.Simple('source', [(' '*i, [k]) for i, k in enumerate(sources)])),\n",
        "    'direct_use_2': Waypoint(Partition.Simple('source', [(' '*i, [k]) for i, k in enumerate(sources)])),\n",
        "    'direct_use_3': Waypoint(Partition.Simple('source', [(' '*i, [k]) for i, k in enumerate(sources)])),\n",
        "    'electricity_use': Waypoint(Partition.Simple('source', ' ')),\n",
        "    'refining_use':  Waypoint(Partition.Simple('source', ' ')),\n",
        "    'refining_use_2': Waypoint(Partition.Simple('source', ' ')),\n",
        "    'import_refining': Waypoint(Partition.Simple('source', ' ')),\n",
        "    'import_electricity': Waypoint(Partition.Simple('source', ' ')),\n",
        "    'import_electricity_2': Waypoint(Partition.Simple('source', (' ')))\n",
        "}\n",
        "\n",
        "ordering = [ \n",
        "    [[],['imports']],\n",
        "    [['sources'],['import_refining','import_electricity']],\n",
        "    [['direct_use','refining'], ['import_electricity_2']],\n",
        "    [['direct_use_2','refining_use', 'electricity'],[]],\n",
        "    [['direct_use_3','refining_use_2','electricity_use'], ['exports']],\n",
        "    [['uses'], []],\n",
        "]\n",
        "\n",
        "bundles = [\n",
        "    Bundle('imports','sources'),\n",
        "    Bundle('sources', 'refining'),   \n",
        "    Bundle('sources', 'electricity', waypoints=['direct_use']),\n",
        "    Bundle('sources', 'exports', waypoints=['direct_use','direct_use_2']),\n",
        "    Bundle('sources', 'uses', waypoints=['direct_use','direct_use_2','direct_use_3']),\n",
        "    Bundle('imports', 'refining', waypoints=['import_refining']),\n",
        "    Bundle('refining', 'electricity'),\n",
        "    Bundle('refining','exports', waypoints=['refining_use']),\n",
        "    Bundle('refining', 'uses', waypoints=['refining_use','refining_use_2']),\n",
        "    Bundle('imports','electricity', waypoints=['import_electricity','import_electricity_2']),\n",
        "    Bundle('electricity', 'exports'),\n",
        "    Bundle('electricity', 'uses', waypoints=['electricity_use'])\n",
        "]"
      ],
      "metadata": {
        "id": "b9d2J6dWic5q"
      },
      "execution_count": 730,
      "outputs": []
    },
    {
      "cell_type": "code",
      "source": [
        "\"\"\"Define the colours to roughly imitate the original Sankey diagram\"\"\"\n",
        "palette = {\n",
        "    'Coal, peat and oil shale': 'black',\n",
        "    'Crude, NGL and feedstocks':'grey',\n",
        "    'Oil products': 'purple',\n",
        "    'Natural gas': 'steelblue',\n",
        "    'Nuclear': 'red',\n",
        "    'Renewables and waste':'green',\n",
        "    'Electricity': 'orange',\n",
        "    'Heat': 'red',\n",
        "    'Fossil Fuels': 'darkgrey',\n",
        "    'Renewable sources':'lightgreen'\n",
        "}"
      ],
      "metadata": {
        "id": "j5pkN2sliKr1"
      },
      "execution_count": 731,
      "outputs": []
    },
    {
      "cell_type": "code",
      "source": [
        "\"\"\"Draw out Sankey\"\"\"\n",
        "sdd = SankeyDefinition(nodes, bundles, ordering,\n",
        "                       flow_partition=dataset.partition('type'))\n",
        "weave(sdd, dataset, palette=palette) \\\n",
        "    .to_widget(width=900, height=500, margins=dict(left=100, right=200)) \\\n",
        ".auto_save_svg(country+'Sankey.svg')"
      ],
      "metadata": {
        "id": "_EyAAE6plFVB",
        "outputId": "d3a9c204-666e-418d-d1b1-6b4d53afe13d",
        "colab": {
          "base_uri": "https://localhost:8080/",
          "height": 521,
          "referenced_widgets": [
            "5699c571a6b04efa9a2409bc1e72fab9",
            "50baf3c2c9f14a06aea29b08b69fb3d9"
          ]
        }
      },
      "execution_count": 732,
      "outputs": [
        {
          "output_type": "display_data",
          "data": {
            "application/vnd.jupyter.widget-view+json": {
              "model_id": "5699c571a6b04efa9a2409bc1e72fab9",
              "version_minor": 0,
              "version_major": 2
            },
            "text/plain": [
              "SankeyWidget(groups=[{'id': 'sources', 'type': 'process', 'title': 'Sources', 'nodes': ['sources^Coal, peat an…"
            ]
          },
          "metadata": {
            "application/vnd.jupyter.widget-view+json": {
              "colab": {
                "custom_widget_manager": {
                  "url": "https://ssl.gstatic.com/colaboratory-static/widgets/colab-cdn-widget-manager/a8874ba6619b6106/manager.min.js"
                }
              }
            }
          }
        }
      ]
    },
    {
      "cell_type": "markdown",
      "source": [
        "# Task 3 - Let's automate this procedure for any country with just one click."
      ],
      "metadata": {
        "id": "C_UVdtv9S_zO"
      }
    },
    {
      "cell_type": "markdown",
      "source": [
        "Define a function that incorporates all of the previous steps while thinking about still being able to modify it from the outside."
      ],
      "metadata": {
        "id": "8EHE0BQlTKoG"
      }
    },
    {
      "cell_type": "code",
      "source": [
        "fileName = 'WorldEnergyBalancesHighlights2021.xlsx'\n",
        "sheetName = 'TimeSeries_1971-2020'"
      ],
      "metadata": {
        "id": "f4SSSsHFU4BI"
      },
      "execution_count": null,
      "outputs": []
    },
    {
      "cell_type": "code",
      "source": [
        "import pandas as pd\n",
        "def draw_Country_Sankey(fileName:str, sheetName:str, params:dict=False):\n",
        "\n",
        "    def get_country_data(fileName, sheetName, countryName=False, headerRows=1):\n",
        "        data = pd.read_excel(fileName,sheet_name=sheetName,header=headerRows)\n",
        "        return data.loc[data['Country']==country] if countryName else data.copy()\n",
        "\n",
        "    def filter_data(data, source, target, year=False):\n",
        "        if year is False: year = max([colName for colName in data.columns if isinstance(colName, int)])\n",
        "        return data[[source,target,year]], year\n",
        "\n",
        "    def format_data(data, colNames=False):\n",
        "        if colNames: data.rename(columns=colNames, inplace=True)\n",
        "        data['type'], data['value'] = data['source'], abs(data['value'])\n",
        "        return data\n",
        "\n",
        "    def group_processes(data, groupings):\n",
        "        for g in groupings:\n",
        "          data['target'] = [g[0] if g[1] in i['target'] else i['target'] for i in data.iloc]\n",
        "        return data\n",
        "\n",
        "    # Order data so that imports are considered a source and not a target\n",
        "    def reorder_data(data, reorders):\n",
        "        importRows = np.where([reorders in i for i in data['target']])[0]\n",
        "        orderData['source'].iloc[importRows] = filterData['target'].iloc[importRows]\n",
        "        orderData['target'].iloc[importRows] = filterData['source'].iloc[importRows]\n",
        "        return orderData\n",
        "\n",
        "    \n",
        "    \n",
        "    params={\n",
        "        'countryName': False,\n",
        "        'source': 'Product',\n",
        "        'target':'Flow',\n",
        "        'year': False,\n",
        "        'groupings':[['Electricity','Electricity'],['Oil products','Oil refineries']],\n",
        "        'reordering':'Imports',\n",
        "        'processes':{'sources':['Coal, peat and oil shale', 'Crude, NGL and feedstocks', 'Natural gas', 'Nuclear', 'Renewables and waste','Heat'],\n",
        "                     'uses':['Industry (PJ)', 'Transport (PJ)', 'Residential (PJ)', 'Commercial and public services (PJ)', 'Other final consumption (PJ)'],\n",
        "                     'imports':['Imports (PJ)'],\n",
        "                     'exports':['Exports (PJ)'],\n",
        "                     'electricity':['Electricity'],\n",
        "                     'refining':['Oil products']},\n",
        "\n",
        "\n",
        "        'palette': {\n",
        "            'Coal, peat and oil shale': 'black',\n",
        "            'Crude, NGL and feedstocks':'grey',\n",
        "            'Oil products': 'purple',\n",
        "            'Natural gas': 'steelblue',\n",
        "            'Nuclear': 'red',\n",
        "            'Renewables and waste':'green',\n",
        "            'Electricity': 'orange',\n",
        "            'Heat': 'red',\n",
        "            'Fossil Fuels': 'darkgrey',\n",
        "            'Renewable sources':'lightgreen'\n",
        "            }\n",
        "    }    \n",
        "    \n",
        "    countryData = get_country_data(fileName, sheetName, params['countryName'])\n",
        "    filterData, year = filter_data(countryData,params['source'],params['target'],params['year'])\n",
        "    formattedData = format_data(filterData,colNames={params['source']:'source', params['target']:'target', year:'value'})\n",
        "    groupData = group_processes(formattedDta, params['groupings'])\n",
        "    orderedData = reorder_data(groupData,params['reordering'])\n",
        "\n",
        "\n",
        "\n",
        "    \n",
        "\n",
        "\n"
      ],
      "metadata": {
        "id": "C9ayL5MjKlp4"
      },
      "execution_count": null,
      "outputs": []
    }
  ],
  "metadata": {
    "kernelspec": {
      "display_name": "Python 3",
      "language": "python",
      "name": "python3"
    },
    "language_info": {
      "codemirror_mode": {
        "name": "ipython",
        "version": 3
      },
      "file_extension": ".py",
      "mimetype": "text/x-python",
      "name": "python",
      "nbconvert_exporter": "python",
      "pygments_lexer": "ipython3",
      "version": "3.7.6"
    },
    "colab": {
      "name": "energy-consumption.ipynb",
      "provenance": [],
      "include_colab_link": true
    },
    "widgets": {
      "application/vnd.jupyter.widget-state+json": {
        "a27accef54694de4883c6d10c2bbf6ab": {
          "model_module": "@jupyter-widgets/controls",
          "model_name": "VBoxModel",
          "model_module_version": "1.5.0",
          "state": {
            "_view_name": "VBoxView",
            "_dom_classes": [],
            "_model_name": "VBoxModel",
            "_view_module": "@jupyter-widgets/controls",
            "_model_module_version": "1.5.0",
            "_view_count": null,
            "_view_module_version": "1.5.0",
            "box_style": "",
            "layout": "IPY_MODEL_a53ba6066f8b40da800872ba9a94f4e6",
            "_model_module": "@jupyter-widgets/controls",
            "children": [
              "IPY_MODEL_f9d97ebb5013455e9cae9342a9451b7e",
              "IPY_MODEL_ef40299383de4f3595e0e81e0b40b3ab"
            ]
          }
        },
        "a53ba6066f8b40da800872ba9a94f4e6": {
          "model_module": "@jupyter-widgets/base",
          "model_name": "LayoutModel",
          "model_module_version": "1.2.0",
          "state": {
            "_view_name": "LayoutView",
            "grid_template_rows": null,
            "right": null,
            "justify_content": null,
            "_view_module": "@jupyter-widgets/base",
            "overflow": null,
            "_model_module_version": "1.2.0",
            "_view_count": null,
            "flex_flow": null,
            "width": null,
            "min_width": null,
            "border": null,
            "align_items": null,
            "bottom": null,
            "_model_module": "@jupyter-widgets/base",
            "top": null,
            "grid_column": null,
            "overflow_y": null,
            "overflow_x": null,
            "grid_auto_flow": null,
            "grid_area": null,
            "grid_template_columns": null,
            "flex": null,
            "_model_name": "LayoutModel",
            "justify_items": null,
            "grid_row": null,
            "max_height": null,
            "align_content": null,
            "visibility": null,
            "align_self": null,
            "height": null,
            "min_height": null,
            "padding": null,
            "grid_auto_rows": null,
            "grid_gap": null,
            "max_width": null,
            "order": null,
            "_view_module_version": "1.2.0",
            "grid_template_areas": null,
            "object_position": null,
            "object_fit": null,
            "grid_auto_columns": null,
            "margin": null,
            "display": null,
            "left": null
          }
        },
        "f9d97ebb5013455e9cae9342a9451b7e": {
          "model_module": "jupyter-sankey-widget",
          "model_name": "SankeyModel",
          "model_module_version": "^0.4.1",
          "state": {
            "_view_name": "SankeyView",
            "links": [
              {
                "opacity": 1,
                "target": "electricity^*",
                "title": "Solar",
                "color": "gold",
                "value": 0.61,
                "source": "sources^Solar",
                "time": "*",
                "type": "Solar"
              },
              {
                "opacity": 1,
                "target": "direct_use^",
                "title": "Solar",
                "color": "gold",
                "value": 0.35,
                "source": "sources^Solar",
                "time": "*",
                "type": "Solar"
              },
              {
                "opacity": 1,
                "target": "electricity^*",
                "title": "Nuclear",
                "color": "red",
                "value": 8.44,
                "source": "sources^Nuclear",
                "time": "*",
                "type": "Nuclear"
              },
              {
                "opacity": 1,
                "target": "electricity^*",
                "title": "Hydro",
                "color": "blue",
                "value": 2.6799999999999997,
                "source": "sources^Hydro",
                "time": "*",
                "type": "Hydro"
              },
              {
                "opacity": 1,
                "target": "electricity^*",
                "title": "Wind",
                "color": "purple",
                "value": 2.53,
                "source": "sources^Wind",
                "time": "*",
                "type": "Wind"
              },
              {
                "opacity": 1,
                "target": "electricity^*",
                "title": "Geothermal",
                "color": "brown",
                "value": 0.15,
                "source": "sources^Geothermal",
                "time": "*",
                "type": "Geothermal"
              },
              {
                "opacity": 1,
                "target": "direct_use^    ",
                "title": "Geothermal",
                "color": "brown",
                "value": 0.06,
                "source": "sources^Geothermal",
                "time": "*",
                "type": "Geothermal"
              },
              {
                "opacity": 1,
                "target": "electricity^*",
                "title": "Natural_Gas",
                "color": "steelblue",
                "value": 11,
                "source": "sources^Natural_Gas",
                "time": "*",
                "type": "Natural_Gas"
              },
              {
                "opacity": 1,
                "target": "direct_use^     ",
                "title": "Natural_Gas",
                "color": "steelblue",
                "value": 20.03,
                "source": "sources^Natural_Gas",
                "time": "*",
                "type": "Natural_Gas"
              },
              {
                "opacity": 1,
                "target": "electricity^*",
                "title": "Coal",
                "color": "black",
                "value": 12.1,
                "source": "sources^Coal",
                "time": "*",
                "type": "Coal"
              },
              {
                "opacity": 1,
                "target": "direct_use^      ",
                "title": "Coal",
                "color": "black",
                "value": 1.22,
                "source": "sources^Coal",
                "time": "*",
                "type": "Coal"
              },
              {
                "opacity": 1,
                "target": "electricity^*",
                "title": "Biomass",
                "color": "lightgreen",
                "value": 0.5,
                "source": "sources^Biomass",
                "time": "*",
                "type": "Biomass"
              },
              {
                "opacity": 1,
                "target": "direct_use^       ",
                "title": "Biomass",
                "color": "lightgreen",
                "value": 4.63,
                "source": "sources^Biomass",
                "time": "*",
                "type": "Biomass"
              },
              {
                "opacity": 1,
                "target": "electricity^*",
                "title": "Petroleum",
                "color": "green",
                "value": 0.24,
                "source": "sources^Petroleum",
                "time": "*",
                "type": "Petroleum"
              },
              {
                "opacity": 1,
                "target": "direct_use^        ",
                "title": "Petroleum",
                "color": "green",
                "value": 36.67,
                "source": "sources^Petroleum",
                "time": "*",
                "type": "Petroleum"
              },
              {
                "opacity": 1,
                "target": "uses^Residential",
                "title": "Electricity",
                "color": "orange",
                "value": 0.05,
                "source": "imports^*",
                "time": "*",
                "type": "Electricity"
              },
              {
                "opacity": 1,
                "target": "uses^Commercial",
                "title": "Electricity",
                "color": "orange",
                "value": 4.7,
                "source": "electricity^*",
                "time": "*",
                "type": "Electricity"
              },
              {
                "opacity": 1,
                "target": "uses^Industrial",
                "title": "Electricity",
                "color": "orange",
                "value": 3.25,
                "source": "electricity^*",
                "time": "*",
                "type": "Electricity"
              },
              {
                "opacity": 1,
                "target": "uses^Residential",
                "title": "Electricity",
                "color": "orange",
                "value": 5,
                "source": "electricity^*",
                "time": "*",
                "type": "Electricity"
              },
              {
                "opacity": 1,
                "target": "uses^Transportation",
                "title": "Electricity",
                "color": "orange",
                "value": 0.03,
                "source": "electricity^*",
                "time": "*",
                "type": "Electricity"
              },
              {
                "opacity": 1,
                "target": "__electricity_rejected_2^*",
                "title": "Rejected energy",
                "color": "lightgrey",
                "value": 25.3,
                "source": "electricity^*",
                "time": "*",
                "type": "Rejected energy"
              },
              {
                "opacity": 1,
                "target": "uses^Commercial",
                "title": "Solar",
                "color": "gold",
                "value": 0.1,
                "source": "direct_use^",
                "time": "*",
                "type": "Solar"
              },
              {
                "opacity": 1,
                "target": "uses^Industrial",
                "title": "Solar",
                "color": "gold",
                "value": 0.03,
                "source": "direct_use^",
                "time": "*",
                "type": "Solar"
              },
              {
                "opacity": 1,
                "target": "uses^Residential",
                "title": "Solar",
                "color": "gold",
                "value": 0.22,
                "source": "direct_use^",
                "time": "*",
                "type": "Solar"
              },
              {
                "opacity": 1,
                "target": "uses^Commercial",
                "title": "Geothermal",
                "color": "brown",
                "value": 0.02,
                "source": "direct_use^    ",
                "time": "*",
                "type": "Geothermal"
              },
              {
                "opacity": 1,
                "target": "uses^Residential",
                "title": "Geothermal",
                "color": "brown",
                "value": 0.04,
                "source": "direct_use^    ",
                "time": "*",
                "type": "Geothermal"
              },
              {
                "opacity": 1,
                "target": "uses^Commercial",
                "title": "Natural_Gas",
                "color": "steelblue",
                "value": 3.61,
                "source": "direct_use^     ",
                "time": "*",
                "type": "Natural_Gas"
              },
              {
                "opacity": 1,
                "target": "uses^Industrial",
                "title": "Natural_Gas",
                "color": "steelblue",
                "value": 10.4,
                "source": "direct_use^     ",
                "time": "*",
                "type": "Natural_Gas"
              },
              {
                "opacity": 1,
                "target": "uses^Residential",
                "title": "Natural_Gas",
                "color": "steelblue",
                "value": 5.15,
                "source": "direct_use^     ",
                "time": "*",
                "type": "Natural_Gas"
              },
              {
                "opacity": 1,
                "target": "uses^Transportation",
                "title": "Natural_Gas",
                "color": "steelblue",
                "value": 0.87,
                "source": "direct_use^     ",
                "time": "*",
                "type": "Natural_Gas"
              },
              {
                "opacity": 1,
                "target": "uses^Commercial",
                "title": "Coal",
                "color": "black",
                "value": 0.02,
                "source": "direct_use^      ",
                "time": "*",
                "type": "Coal"
              },
              {
                "opacity": 1,
                "target": "uses^Industrial",
                "title": "Coal",
                "color": "black",
                "value": 1.2,
                "source": "direct_use^      ",
                "time": "*",
                "type": "Coal"
              },
              {
                "opacity": 1,
                "target": "uses^Commercial",
                "title": "Biomass",
                "color": "lightgreen",
                "value": 0.15,
                "source": "direct_use^       ",
                "time": "*",
                "type": "Biomass"
              },
              {
                "opacity": 1,
                "target": "uses^Industrial",
                "title": "Biomass",
                "color": "lightgreen",
                "value": 2.55,
                "source": "direct_use^       ",
                "time": "*",
                "type": "Biomass"
              },
              {
                "opacity": 1,
                "target": "uses^Residential",
                "title": "Biomass",
                "color": "lightgreen",
                "value": 0.52,
                "source": "direct_use^       ",
                "time": "*",
                "type": "Biomass"
              },
              {
                "opacity": 1,
                "target": "uses^Transportation",
                "title": "Biomass",
                "color": "lightgreen",
                "value": 1.41,
                "source": "direct_use^       ",
                "time": "*",
                "type": "Biomass"
              },
              {
                "opacity": 1,
                "target": "uses^Commercial",
                "title": "Petroleum",
                "color": "green",
                "value": 0.85,
                "source": "direct_use^        ",
                "time": "*",
                "type": "Petroleum"
              },
              {
                "opacity": 1,
                "target": "uses^Industrial",
                "title": "Petroleum",
                "color": "green",
                "value": 8.86,
                "source": "direct_use^        ",
                "time": "*",
                "type": "Petroleum"
              },
              {
                "opacity": 1,
                "target": "uses^Residential",
                "title": "Petroleum",
                "color": "green",
                "value": 0.96,
                "source": "direct_use^        ",
                "time": "*",
                "type": "Petroleum"
              },
              {
                "opacity": 1,
                "target": "uses^Transportation",
                "title": "Petroleum",
                "color": "green",
                "value": 26,
                "source": "direct_use^        ",
                "time": "*",
                "type": "Petroleum"
              },
              {
                "opacity": 1,
                "target": "rejected^*",
                "title": "Rejected energy",
                "color": "lightgrey",
                "value": 25.3,
                "source": "__electricity_rejected_2^*",
                "time": "*",
                "type": "Rejected energy"
              },
              {
                "opacity": 1,
                "target": "energy_services^*",
                "title": "Energy services",
                "color": "dimgrey",
                "value": 7.72,
                "source": "uses^Residential",
                "time": "*",
                "type": "Energy services"
              },
              {
                "opacity": 1,
                "target": "rejected^*",
                "title": "Rejected energy",
                "color": "lightgrey",
                "value": 4.16,
                "source": "uses^Residential",
                "time": "*",
                "type": "Rejected energy"
              },
              {
                "opacity": 1,
                "target": "energy_services^*",
                "title": "Energy services",
                "color": "dimgrey",
                "value": 6.14,
                "source": "uses^Commercial",
                "time": "*",
                "type": "Energy services"
              },
              {
                "opacity": 1,
                "target": "rejected^*",
                "title": "Rejected energy",
                "color": "lightgrey",
                "value": 3.31,
                "source": "uses^Commercial",
                "time": "*",
                "type": "Rejected energy"
              },
              {
                "opacity": 1,
                "target": "energy_services^*",
                "title": "Energy services",
                "color": "dimgrey",
                "value": 12.9,
                "source": "uses^Industrial",
                "time": "*",
                "type": "Energy services"
              },
              {
                "opacity": 1,
                "target": "rejected^*",
                "title": "Rejected energy",
                "color": "lightgrey",
                "value": 13.4,
                "source": "uses^Industrial",
                "time": "*",
                "type": "Rejected energy"
              },
              {
                "opacity": 1,
                "target": "energy_services^*",
                "title": "Energy services",
                "color": "dimgrey",
                "value": 5.95,
                "source": "uses^Transportation",
                "time": "*",
                "type": "Energy services"
              },
              {
                "opacity": 1,
                "target": "rejected^*",
                "title": "Rejected energy",
                "color": "lightgrey",
                "value": 22.4,
                "source": "uses^Transportation",
                "time": "*",
                "type": "Rejected energy"
              }
            ],
            "_view_module": "jupyter-sankey-widget",
            "_model_module_version": "^0.4.1",
            "_view_count": null,
            "linkLabelFormat": "",
            "margins": {
              "right": 120,
              "left": 100
            },
            "_model_module": "jupyter-sankey-widget",
            "scale": 2.1205247065785584,
            "layout": "IPY_MODEL_6593c27a1f11450e88111bf91f0b57da",
            "linkLabelMinWidth": 5,
            "nodes": [
              {
                "direction": "r",
                "hidden": false,
                "type": "process",
                "id": "sources^Solar",
                "title": "Solar"
              },
              {
                "direction": "r",
                "hidden": false,
                "type": "process",
                "id": "sources^Nuclear",
                "title": "Nuclear"
              },
              {
                "direction": "r",
                "hidden": false,
                "type": "process",
                "id": "sources^Hydro",
                "title": "Hydro"
              },
              {
                "direction": "r",
                "hidden": false,
                "type": "process",
                "id": "sources^Wind",
                "title": "Wind"
              },
              {
                "direction": "r",
                "hidden": false,
                "type": "process",
                "id": "sources^Geothermal",
                "title": "Geothermal"
              },
              {
                "direction": "r",
                "hidden": false,
                "type": "process",
                "id": "sources^Natural_Gas",
                "title": "Natural_Gas"
              },
              {
                "direction": "r",
                "hidden": false,
                "type": "process",
                "id": "sources^Coal",
                "title": "Coal"
              },
              {
                "direction": "r",
                "hidden": false,
                "type": "process",
                "id": "sources^Biomass",
                "title": "Biomass"
              },
              {
                "direction": "r",
                "hidden": false,
                "type": "process",
                "id": "sources^Petroleum",
                "title": "Petroleum"
              },
              {
                "direction": "r",
                "hidden": false,
                "type": "process",
                "id": "imports^*",
                "title": "Net electricity imports"
              },
              {
                "direction": "r",
                "hidden": false,
                "type": "process",
                "id": "electricity^*",
                "title": "Electricity Generation"
              },
              {
                "direction": "r",
                "hidden": true,
                "type": "group",
                "id": "direct_use^",
                "title": ""
              },
              {
                "direction": "r",
                "hidden": false,
                "type": "group",
                "id": "direct_use^    ",
                "title": "    "
              },
              {
                "direction": "r",
                "hidden": false,
                "type": "group",
                "id": "direct_use^     ",
                "title": "     "
              },
              {
                "direction": "r",
                "hidden": false,
                "type": "group",
                "id": "direct_use^      ",
                "title": "      "
              },
              {
                "direction": "r",
                "hidden": false,
                "type": "group",
                "id": "direct_use^       ",
                "title": "       "
              },
              {
                "direction": "r",
                "hidden": false,
                "type": "group",
                "id": "direct_use^        ",
                "title": "        "
              },
              {
                "direction": "r",
                "hidden": true,
                "type": "group",
                "id": "__electricity_rejected_2^*",
                "title": ""
              },
              {
                "direction": "r",
                "hidden": false,
                "type": "process",
                "id": "uses^Residential",
                "title": "Residential"
              },
              {
                "direction": "r",
                "hidden": false,
                "type": "process",
                "id": "uses^Commercial",
                "title": "Commercial"
              },
              {
                "direction": "r",
                "hidden": false,
                "type": "process",
                "id": "uses^Industrial",
                "title": "Industrial"
              },
              {
                "direction": "r",
                "hidden": false,
                "type": "process",
                "id": "uses^Transportation",
                "title": "Transportation"
              },
              {
                "direction": "r",
                "hidden": false,
                "type": "process",
                "id": "rejected^*",
                "title": "Rejected energy"
              },
              {
                "direction": "r",
                "hidden": false,
                "type": "process",
                "id": "energy_services^*",
                "title": "Energy services"
              }
            ],
            "rank_sets": [],
            "_dom_classes": [],
            "_model_name": "SankeyModel",
            "groups": [
              {
                "nodes": [
                  "sources^Solar",
                  "sources^Nuclear",
                  "sources^Hydro",
                  "sources^Wind",
                  "sources^Geothermal",
                  "sources^Natural_Gas",
                  "sources^Coal",
                  "sources^Biomass",
                  "sources^Petroleum"
                ],
                "type": "process",
                "id": "sources",
                "title": "Sources"
              },
              {
                "nodes": [
                  "direct_use^",
                  "direct_use^    ",
                  "direct_use^     ",
                  "direct_use^      ",
                  "direct_use^       ",
                  "direct_use^        "
                ],
                "type": "group",
                "id": "direct_use",
                "title": ""
              },
              {
                "nodes": [
                  "__electricity_rejected_2^*"
                ],
                "type": "group",
                "id": "__electricity_rejected_2",
                "title": ""
              },
              {
                "nodes": [
                  "uses^Residential",
                  "uses^Commercial",
                  "uses^Industrial",
                  "uses^Transportation"
                ],
                "type": "process",
                "id": "uses",
                "title": ""
              }
            ],
            "png": "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",
            "show_link_info_html": false,
            "align_link_types": false,
            "svg": "<?xml version=\"1.0\" standalone=\"no\"?><!DOCTYPE svg PUBLIC \"-//W3C//DTD SVG 1.1//EN\" \"http://www.w3.org/Graphics/SVG/1.1/DTD/svg11.dtd\"><svg xmlns=\"http://www.w3.org/2000/svg\"><g class=\"sankey\" transform=\"translate(100,10)\"><g class=\"groups\"><g class=\"group\" transform=\"translate(0,43.19084722359207)\" style=\"display: inline;\"><rect x=\"-10\" y=\"-20\" width=\"21\" height=\"373.8303580234737\"/><text x=\"-10\" y=\"-25\">Sources</text></g><g class=\"group\" transform=\"translate(159.66666666666666,145.88927244632936)\" style=\"display: none;\"><rect x=\"-10\" y=\"-20\" width=\"21\" height=\"271.13193280073637\"/><text x=\"-10\" y=\"-25\"/></g><g class=\"group\" transform=\"translate(319.3333333333333,43.19084722359207)\" style=\"display: none;\"><rect x=\"-10\" y=\"-20\" width=\"21\" height=\"83.64927507643753\"/><text x=\"-10\" y=\"-25\"/></g><g class=\"group\" transform=\"translate(319.3333333333333,129.07421836473026)\" style=\"display: none;\"><rect x=\"-10\" y=\"-20\" width=\"21\" height=\"287.9469868823355\"/><text x=\"-10\" y=\"-25\"/></g></g><g class=\"links\"><g class=\"link\"><path d=\"M160.66666666666666,167.26222178387084 A137.4843588584558 137.4843588584558 0.2183277117352982 0 1 190.44541265321095,170.52595920810168 L289.98778202047845,192.610843785538 A135.4843588584558 135.4843588584558 0.2183277117352982 0 0 319.3333333333333,195.82710326462177 L319.3333333333333,197.82710326462177 A137.4843588584558 137.4843588584558 0.2183277117352982 0 1 289.55458734678905,194.56336584039093 L190.01221797952155,172.4784812629546 A135.4843588584558 135.4843588584558 0.2183277117352982 0 0 160.66666666666666,169.26222178387084 Z\" style=\"fill: white;\"/><title/><text class=\"label\" dy=\"0.35em\" x=\"164.66666666666666\" y=\"168.26222178387084\"/></g><g class=\"link\"><path d=\"M160.66666666666666,252.8282210605911 A82.98762981544061 82.98762981544061 0.3696013606111679 0 0 190.64542850454197,247.22418473274033 L288.6320840137804,209.26370142599797 A84.98762981544061 84.98762981544061 0.3696013606111679 0 1 319.3333333333333,203.52460794950193 L319.3333333333333,205.52460794950193 A82.98762981544061 82.98762981544061 0.3696013606111679 0 0 289.354571495458,211.1286442773527 L191.36791598621957,249.08912758409505 A84.98762981544061 84.98762981544061 0.3696013606111679 0 1 160.66666666666666,254.8282210605911 Z\" style=\"fill: white;\"/><title/><text class=\"label\" dy=\"0.35em\" x=\"164.66666666666666\" y=\"253.8282210605911\"/></g><g class=\"link\"><path d=\"M160.66666666666666,123.33272512082061 A50.02922393240203 50.02922393240203 1.1248524713804242 0 1 205.8032312848093,151.7838633700425 L276.0011766619991,298.6223801921432 A48.02922393240203 48.02922393240203 1.1248524713804242 0 0 319.3333333333333,325.93613768616234 L319.3333333333333,327.93613768616234 A50.02922393240203 50.02922393240203 1.1248524713804242 0 1 274.19676871519073,299.4849994369404 L203.99882333800085,152.64648261483975 A48.02922393240203 48.02922393240203 1.1248524713804242 0 0 160.66666666666666,125.33272512082061 Z\" style=\"fill: white;\"/><title/><text class=\"label\" dy=\"0.35em\" x=\"164.66666666666666\" y=\"124.33272512082061\"/></g><g class=\"link\"><path d=\"M160.66666666666666,145.59964822303317 A53.94152690881709 53.94152690881709 0.6878881272080076 0 1 194.91451917814084,157.866567471946 L286.3552948028155,233.011850726566 A51.94152690881709 51.94152690881709 0.6878881272080076 0 0 319.3333333333333,244.82394713482591 L319.3333333333333,246.82394713482591 A53.94152690881709 53.94152690881709 0.6878881272080076 0 1 285.08548082185916,234.55702788591307 L193.64470519718452,159.4117446312931 A51.94152690881709 51.94152690881709 0.6878881272080076 0 0 160.66666666666666,147.59964822303317 Z\" style=\"fill: white;\"/><title/><text class=\"label\" dy=\"0.35em\" x=\"164.66666666666666\" y=\"146.59964822303317\"/></g><g class=\"link\"><path d=\"M160.66666666666666,167.19860604267348 A138.50304293701063 138.50304293701063 0.21339570298279398 0 0 189.99881258272478,164.05699822944723 L289.57762782906605,142.47876705686227 A140.50304293701063 140.50304293701063 0.21339570298279398 0 1 319.3333333333333,139.29179406253084 L319.3333333333333,141.29179406253084 A138.50304293701063 138.50304293701063 0.21339570298279398 0 0 290.0011874172752,144.43340187575708 L190.42237217093395,166.01163304834205 A140.50304293701063 140.50304293701063 0.21339570298279398 0 1 160.66666666666666,169.19860604267348 Z\" style=\"fill: white;\"/><title/><text class=\"label\" dy=\"0.35em\" x=\"164.66666666666666\" y=\"168.19860604267348\"/></g><g class=\"link\"><path d=\"M160.66666666666666,-0.893973764671072 A49.62175458030108 49.62175458030108 0.8423475525753593 0 1 197.6948154567448,15.693938701708946 L283.7976004847414,112.2078932172569 A47.62175458030108 47.62175458030108 0.8423475525753593 0 0 319.3333333333333,128.12723148239473 L319.3333333333333,130.12723148239473 A49.62175458030108 49.62175458030108 0.8423475525753593 0 1 282.30518454325517,113.53931901601473 L196.20239951525863,17.02536450046677 A47.62175458030108 47.62175458030108 0.8423475525753593 0 0 160.66666666666666,1.1060262353289279 Z\" style=\"fill: white;\"/><title/><text class=\"label\" dy=\"0.35em\" x=\"164.66666666666666\" y=\"0.10602623532892794\"/></g><g class=\"link\"><path d=\"M1,138.15943386921785 A135.30460453290658 135.30460453290658 0.2220367939756862 0 1 30.796356653810452,141.4810351859331 L130.31074375502888,163.9473080998495 A133.30460453290658 133.30460453290658 0.2220367939756862 0 0 159.66666666666666,167.21981128973928 L159.66666666666666,169.21981128973928 A135.30460453290658 135.30460453290658 0.2220367939756862 0 1 129.8703100128562,165.89820997302402 L30.355922911637787,143.43193705910764 A133.30460453290658 133.30460453290658 0.2220367939756862 0 0 1,140.15943386921785 Z\" style=\"fill: white;\"/><title/><text class=\"label\" dy=\"0.35em\" x=\"5\" y=\"139.15943386921785\"/></g><g class=\"link\"><path d=\"M160.66666666666666,145.46181411710558 A83.70315823228653 83.70315823228653 0.37619717376147865 0 1 191.41805571903552,151.3153045953866 L289.3167167722731,189.9862443772613 A81.70315823228653 81.70315823228653 0.37619717376147865 0 0 319.3333333333333,195.69987178222706 L319.3333333333333,197.69987178222706 A83.70315823228653 83.70315823228653 0.37619717376147865 0 1 288.5819442809645,191.84638130394603 L190.68328322772692,153.17544152207134 A81.70315823228653 81.70315823228653 0.37619717376147865 0 0 160.66666666666666,147.46181411710558 Z\" style=\"fill: white;\"/><title/><text class=\"label\" dy=\"0.35em\" x=\"164.66666666666666\" y=\"146.46181411710558\"/></g><g class=\"link\"><path d=\"M1,137.9367787750271 A66.5890732864629 66.5890732864629 0.5181941946073323 0 0 33.98238145055105,129.19463449089133 L110.32436819599069,85.66699056998912 A99.61857769162005 99.61857769162005 0.5181941946073323 0 1 159.66666666666666,72.58856889239571 L159.66666666666666,74.58856889239571 A97.61857769162005 97.61857769162005 0.5181941946073323 0 0 111.31499262798009,87.40442063613445 L34.97300588254044,130.93206455703663 A68.5890732864629 68.5890732864629 0.5181941946073323 0 1 1,139.9367787750271 Z\" style=\"fill: white;\"/><title/><text class=\"label\" dy=\"0.35em\" x=\"5\" y=\"138.9367787750271\"/></g><g class=\"link\"><path d=\"M160.66666666666666,278.18050761087545 A60.8760606052348 60.8760606052348 0.5391970050413546 0 0 191.92330284862334,269.5434884344515 L287.049802970932,212.62562921917873 A62.8760606052348 62.8760606052348 0.5391970050413546 0 1 319.3333333333333,203.7048525495611 L319.3333333333333,205.7048525495611 A60.8760606052348 60.8760606052348 0.5391970050413546 0 0 288.0766971513766,214.34187172598507 L192.95019702906802,271.2597309412578 A62.8760606052348 62.8760606052348 0.5391970050413546 0 1 160.66666666666666,280.18050761087545 Z\" style=\"fill: white;\"/><title/><text class=\"label\" dy=\"0.35em\" x=\"164.66666666666666\" y=\"279.18050761087545\"/></g><g class=\"link\"><path d=\"M160.66666666666666,145.122530164053 A618.3268081557372 618.3268081557372 0.04712849337180458 0 0 189.79669132669687,144.43597599713078 L290.10908657497,139.70490070141054 A620.3268081557372 620.3268081557372 0.04712849337180458 0 1 319.3333333333333,139.01612585067562 L319.3333333333333,141.01612585067562 A618.3268081557372 618.3268081557372 0.04712849337180458 0 0 290.2033086733031,141.70268001759783 L189.89091342503002,146.43375531331807 A620.3268081557372 620.3268081557372 0.04712849337180458 0 1 160.66666666666666,147.122530164053 Z\" style=\"fill: white;\"/><title/><text class=\"label\" dy=\"0.35em\" x=\"164.66666666666666\" y=\"146.122530164053\"/></g><g class=\"link\"><path d=\"M1,308.0071012920406 A47.160692298583264 47.160692298583264 1.068031295193205 0 0 42.32472556010129,283.57080019463064 L116.58943394240133,148.51905489018213 A49.160692298583264 49.160692298583264 1.068031295193205 0 1 159.66666666666666,123.04645428543249 L159.66666666666666,125.04645428543249 A47.160692298583264 47.160692298583264 1.068031295193205 0 0 118.34194110656536,149.48275538284247 L44.07723272426532,284.534500687291 A49.160692298583264 49.160692298583264 1.068031295193205 0 1 1,310.0071012920406 Z\" style=\"fill: white;\"/><title/><text class=\"label\" dy=\"0.35em\" x=\"5\" y=\"309.0071012920406\"/></g><g class=\"link\"><path d=\"M1,43.85545911825624 A53.45022296538045 53.45022296538045 0.7000926616255334 0 1 35.43736697182911,56.42788748685766 L126.51787680682207,133.15837092189332 A51.45022296538045 51.45022296538045 0.7000926616255334 0 0 159.66666666666666,145.2603642699806 L159.66666666666666,147.2603642699806 A53.45022296538045 53.45022296538045 0.7000926616255334 0 1 125.22929969483755,134.6879359013792 L34.1487898598446,57.95745246634354 A51.45022296538045 51.45022296538045 0.7000926616255334 0 0 1,45.85545911825624 Z\" style=\"fill: white;\"/><title/><text class=\"label\" dy=\"0.35em\" x=\"5\" y=\"44.85545911825624\"/></g><g class=\"link\"><path d=\"M1,281.25297120031564 A46.60009931136522 46.60009931136522 0.9768432816103825 0 0 39.61912734728032,260.7322173324934 L118.27526609184,144.25569588768127 A49.94528644001733 49.94528644001733 0.9768432816103825 0 1 159.66666666666666,122.26186014399843 L159.66666666666666,124.26186014399843 A47.94528644001733 47.94528644001733 0.9768432816103825 0 0 119.93273583623866,145.3749787144963 L41.27659709167897,261.85150015930844 A48.60009931136522 48.60009931136522 0.9768432816103825 0 1 1,283.25297120031564 Z\" style=\"fill: white;\"/><title/><text class=\"label\" dy=\"0.35em\" x=\"5\" y=\"282.25297120031564\"/></g><g class=\"link\"><path d=\"M160.66666666666666,277.47013183417164 A47.812868735788335 47.812868735788335 0.8319866749967951 0 0 196.01331830377706,261.8548505047479 L282.24252787876634,167.19204880712613 A50.172158616630114 50.172158616630114 0.8319866749967951 0 1 319.3333333333333,150.80624321925245 L319.3333333333333,152.80624321925245 A48.172158616630114 48.172158616630114 0.8319866749967951 0 0 283.7210692242955,168.53886560593764 L197.4918596493062,263.20166730355936 A49.812868735788335 49.812868735788335 0.8319866749967951 0 1 160.66666666666666,279.47013183417164 Z\" style=\"fill: white;\"/><title/><text class=\"label\" dy=\"0.35em\" x=\"164.66666666666666\" y=\"278.47013183417164\"/></g><g class=\"link\"><path d=\"M1,42.83760725909853 A0 0 0 0 0 1,42.83760725909853 L159.66666666666666,42.83760725909853 A0 0 0 0 0 159.66666666666666,42.83760725909853 L159.66666666666666,44.83760725909853 A0 0 0 0 0 159.66666666666666,44.83760725909853 L1,44.83760725909853 A0 0 0 0 0 1,44.83760725909853 Z\" style=\"fill: white;\"/><title/><text class=\"label\" dy=\"0.35em\" x=\"5\" y=\"43.83760725909853\"/></g><g class=\"link\"><path d=\"M160.66666666666666,311.1984909754413 A50.44510491017079 50.44510491017079 0.7276846952714633 0 0 194.21985204395247,298.42157370996125 L284.44986286943566,218.04859934816807 A52.44510491017079 52.44510491017079 0.7276846952714633 0 1 319.3333333333333,204.76511490285037 L319.3333333333333,206.76511490285037 A50.44510491017079 50.44510491017079 0.7276846952714633 0 0 285.78014795604753,219.54203216833042 L195.55013713056434,299.91500653012355 A52.44510491017079 52.44510491017079 0.7276846952714633 0 1 160.66666666666666,313.1984909754413 Z\" style=\"fill: white;\"/><title/><text class=\"label\" dy=\"0.35em\" x=\"164.66666666666666\" y=\"312.1984909754413\"/></g><g class=\"link\"><path d=\"M160.66666666666666,230.35984811125354 A54.59950117447799 54.59950117447799 0.6726108681739001 0 1 194.68381153201165,242.25174593794392 L286.5622491144635,315.4340806101079 A52.59950117447799 52.59950117447799 0.6726108681739001 0 0 319.3333333333333,326.89037380412265 L319.3333333333333,328.89037380412265 A54.59950117447799 54.59950117447799 0.6726108681739001 0 1 285.31618846798835,316.99847597743224 L193.4377508855365,243.8161413052683 A52.59950117447799 52.59950117447799 0.6726108681739001 0 0 160.66666666666666,232.35984811125354 Z\" style=\"fill: white;\"/><title/><text class=\"label\" dy=\"0.35em\" x=\"164.66666666666666\" y=\"231.35984811125354\"/></g><g class=\"link\"><path d=\"M160.66666666666666,309.26156425683 A46.58511847460427 46.58511847460427 0.9643344109592074 0 0 198.94424869866253,289.22828144525937 L279.3830751630738,173.2662885486372 A48.62082219291969 48.62082219291969 0.9643344109592074 0 1 319.3333333333333,152.35757964296286 L319.3333333333333,154.39328336127826 A46.58511847460427 46.58511847460427 0.9643344109592074 0 0 281.05575130133747,174.42656617284894 L200.61692483692622,290.3885590694711 A48.62082219291969 48.62082219291969 0.9643344109592074 0 1 160.66666666666666,311.2972679751454 Z\" style=\"fill: white;\"/><title/><text class=\"label\" dy=\"0.35em\" x=\"164.66666666666666\" y=\"310.2794161159877\"/></g><g class=\"link\"><path d=\"M160.66666666666666,253.84942630765687 A271.9676439210831 271.9676439210831 0.10829243758448226 0 1 190.06117426807282,255.442584999723 L290.2138515932737,266.3309594424637 A269.42301427318887 269.42301427318887 0.10829243758448226 0 0 319.3333333333333,267.90921195384163 L319.3333333333333,270.45384160173586 A271.9676439210831 271.9676439210831 0.10829243758448226 0 1 289.9388257319272,268.8606829096698 L189.78614840672623,257.97230846692906 A269.42301427318887 269.42301427318887 0.10829243758448226 0 0 160.66666666666666,256.39405595555115 Z\" style=\"fill: white;\"/><title/><text class=\"label\" dy=\"0.35em\" x=\"164.66666666666666\" y=\"255.121741131604\"/></g><g class=\"link\"><path d=\"M1,262.9842933228129 A411.5631279059721 411.5631279059721 0.07078712580298463 0 0 30.10904667338915,261.9535900236116 L130.3746437567441,254.84419799926607 A414.1501680479979 414.1501680479979 0.07078712580298463 0 1 159.66666666666666,253.8070158135253 L159.66666666666666,256.39405595555115 A411.5631279059721 411.5631279059721 0.07078712580298463 0 0 130.5576199932775,257.4247592547524 L30.29202290992258,264.53415127909796 A414.1501680479979 414.1501680479979 0.07078712580298463 0 1 1,265.5713334648387 Z\" style=\"fill: white;\"/><title/><text class=\"label\" dy=\"0.35em\" x=\"5\" y=\"264.2778133938258\"/></g><g class=\"link\"><path d=\"M160.66666666666666,284.7468849656442 A93.80071760144493 93.80071760144493 0.3322480898687461 0 1 191.26155254798013,289.8767077906439 L289.71367312642815,323.84649462391127 A90.81077776516916 90.81077776516916 0.3322480898687461 0 0 319.3333333333333,328.8128020514843 L319.3333333333333,331.8027418877601 A93.80071760144493 93.80071760144493 0.3322480898687461 0 1 288.73844745201984,326.6729190627604 L190.28632687357182,292.703132229493 A90.81077776516916 90.81077776516916 0.3322480898687461 0 0 160.66666666666666,287.73682480191997 Z\" style=\"fill: white;\"/><title/><text class=\"label\" dy=\"0.35em\" x=\"164.66666666666666\" y=\"286.2418548837821\"/></g><g class=\"link\"><path d=\"M1,117.26130535555772 A81.45557253109598 81.45557253109598 0.38076780349557615 0 0 31.271610714053303,111.42742204882019 L120.9638195870101,75.52333607911483 A104.14254455225719 104.14254455225719 0.38076780349557615 0 1 159.66666666666666,68.06460203175857 L159.66666666666666,73.42952953940232 A98.77761704461344 98.77761704461344 0.38076780349557615 0 0 122.95760579431358,80.50402516013956 L33.26539692135679,116.40811112984493 A86.82050003873974 86.82050003873974 0.38076780349557615 0 1 1,122.62623286320148 Z\" style=\"fill: white;\"/><title/><text class=\"label\" dy=\"0.35em\" x=\"5\" y=\"119.9437691093796\"/></g><g class=\"link\"><path d=\"M160.66666666666666,279.3395469638689 A423.6113928035864 423.6113928035864 0.0685426998893226 0 0 189.67940530925446,278.3448517829051 L289.95025128907406,271.46123392244516 A429.0187308053617 429.0187308053617 0.0685426998893226 0 1 319.3333333333333,270.4538416017359 L319.3333333333333,275.86117960351123 A423.6113928035864 423.6113928035864 0.0685426998893226 0 0 290.3205946907455,276.855874784475 L190.04974871092585,283.73949264493496 A429.0187308053617 429.0187308053617 0.0685426998893226 0 1 160.66666666666666,284.7468849656442 Z\" style=\"fill: white;\"/><title/><text class=\"label\" dy=\"0.35em\" x=\"164.66666666666666\" y=\"282.04321596475654\"/></g><g class=\"link\"><path d=\"M1,95.42679258309497 A116.39108761054601 116.39108761054601 0.2517179351187515 0 0 29.9893096122257,91.7588401461783 L129.26190136932536,66.22864269361585 A122.07409382417654 122.07409382417654 0.2517179351187515 0 1 159.66666666666666,62.381595818128034 L159.66666666666666,68.06460203175857 A116.39108761054601 116.39108761054601 0.2517179351187515 0 0 130.67735705444096,71.73255446867523 L31.404765297341324,97.26275192123768 A122.07409382417654 122.07409382417654 0.2517179351187515 0 1 1,101.1097987967255 Z\" style=\"fill: white;\"/><title/><text class=\"label\" dy=\"0.35em\" x=\"5\" y=\"98.26829568991023\"/></g><g class=\"link\"><path d=\"M160.66666666666666,117.40921195384162 A55.95273709938102 55.95273709938102 0.8137333540886506 0 1 201.3362640401592,134.9341903573208 L285.999370510743,224.5364614602404 A45.86046036218161 45.86046036218161 0.8137333540886506 0 0 319.3333333333333,238.90043396784694 L319.3333333333333,245.79213926422727 A52.75216565856192 52.75216565856192 0.8137333540886506 0 1 280.99009135568167,229.26961307822444 L196.32698488509791,139.66734197530485 A49.06103180300071 49.06103180300071 0.8137333540886506 0 0 160.66666666666666,124.30091725022193 Z\" style=\"fill: white;\"/><title/><text class=\"label\" dy=\"0.35em\" x=\"164.66666666666666\" y=\"120.85506460203177\"/></g><g class=\"link\"><path d=\"M320.3333333333333,186.62737942597892 A55.27563862494257 55.27563862494257 0.6549801425727041 0 0 354.00412905125114,175.18864011106388 L417.1812875596873,126.66273541302162 A101.48464674660434 101.48464674660434 0.6549801425727041 0 1 479,105.66150507939642 L479,112.68044185817143 A94.4657099678293 94.4657099678293 0.6549801425727041 0 0 421.4568272425245,132.22917358522156 L358.2796687340884,180.7550782832638 A62.2945754037176 62.2945754037176 0.6549801425727041 0 1 320.3333333333333,193.64631620475393 Z\" style=\"fill: white;\"/><title/><text class=\"label\" dy=\"0.35em\" x=\"324.3333333333333\" y=\"190.13684781536642\"/></g><g class=\"link\"><path d=\"M160.66666666666666,200.72886872472628 A969.8786374152597 969.8786374152597 0.029958120929979293 0 0 189.71806216734078,200.2936735658698 L290.05263989748346,197.2869385950839 A977.5337316060082 977.5337316060082 0.029958120929979293 0 1 319.3333333333333,196.84830851168755 L319.3333333333333,204.50340270243612 A969.8786374152597 969.8786374152597 0.029958120929979293 0 0 290.2819378326592,204.9385978612926 L189.9473601025165,207.9453328320785 A977.5337316060082 977.5337316060082 0.029958120929979293 0 1 160.66666666666666,208.38396291547485 Z\" style=\"fill: white;\"/><title/><text class=\"label\" dy=\"0.35em\" x=\"164.66666666666666\" y=\"204.55641582010057\"/></g><g class=\"link\"><path d=\"M320.3333333333333,129.07421836473026 A117.57573568865998 117.57573568865998 0.24569842870478187 0 0 348.9317307016686,125.54314625439132 L448.2559438476912,100.63612100023339 A126.39711846802679 126.39711846802679 0.24569842870478187 0 1 479,96.8401223000296 L479,105.66150507939642 A117.57573568865998 117.57573568865998 0.24569842870478187 0 0 450.40160263166473,109.19257718973536 L351.07738948564213,134.09960244389327 A126.39711846802679 126.39711846802679 0.24569842870478187 0 1 320.3333333333333,137.89560114409704 Z\" style=\"fill: white;\"/><title/><text class=\"label\" dy=\"0.35em\" x=\"324.3333333333333\" y=\"133.48490975441365\"/></g><g class=\"link\"><path d=\"M1,282.78310237696024 A772.1422518132053 772.1422518132053 0.037548607586899374 0 0 29.986054064453807,282.23884544511793 L130.3120458904717,278.4699727388247 A781.9602812046642 781.9602812046642 0.037548607586899374 0 1 159.66666666666666,277.9187954104612 L159.66666666666666,287.7368248019199 A772.1422518132053 772.1422518132053 0.037548607586899374 0 0 130.68061260221285,288.2810817337622 L30.35462077619498,292.04995444005544 A781.9602812046642 781.9602812046642 0.037548607586899374 0 1 1,292.60113176841895 Z\" style=\"fill: white;\"/><title/><text class=\"label\" dy=\"0.35em\" x=\"5\" y=\"287.6921170726896\"/></g><g class=\"link\"><path d=\"M160.66666666666666,107.4427458329224 A65.91920322030025 65.91920322030025 0.5708578097780983 0 1 196.28637450581556,117.89504210274525 L289.83872975469365,177.9724422109665 A54.583849367389895 54.583849367389895 0.5708578097780983 0 0 319.3333333333333,186.62737942597892 L319.3333333333333,196.59384554689814 A64.55031548830912 64.55031548830912 0.5708578097780983 0 1 284.453309511832,186.3586031769393 L190.90095426295386,126.28120306871809 A55.95273709938102 55.95273709938102 0.5708578097780983 0 0 160.66666666666666,117.40921195384162 Z\" style=\"fill: white;\"/><title/><text class=\"label\" dy=\"0.35em\" x=\"164.66666666666666\" y=\"112.42597889338201\"/></g><g class=\"link\"><path d=\"M160.66666666666666,96.8401223000296 A126.91956530101015 126.91956530101015 0.24648595067028833 0 1 191.63474014066585,100.67616115860162 L290.9522749015387,125.66466126604341 A116.31694176811737 116.31694176811737 0.24648595067028833 0 0 319.3333333333333,129.18024460005918 L319.3333333333333,139.78286813295196 A126.91956530101015 126.91956530101015 0.24648595067028833 0 1 288.3652598593341,135.94682927437995 L189.0477250984613,110.95832916693814 A116.31694176811737 116.31694176811737 0.24648595067028833 0 0 160.66666666666666,107.44274583292238 Z\" style=\"fill: white;\"/><title/><text class=\"label\" dy=\"0.35em\" x=\"164.66666666666666\" y=\"102.141434066476\"/></g><g class=\"link\"><path d=\"M160.66666666666666,189.8081664858467 A78.28910902977974 78.28910902977974 0.3708053543391294 0 0 189.03599113996935,184.4873109750132 L287.00671583255155,146.39727669775306 A89.20981126865932 89.20981126865932 0.3708053543391294 0 1 319.3333333333333,140.33420455666243 L319.3333333333333,151.254906795542 A78.28910902977974 78.28910902977974 0.3708053543391294 0 0 290.9640088600306,156.5757623063755 L192.99328416744842,194.66579658363565 A89.20981126865932 89.20981126865932 0.3708053543391294 0 1 160.66666666666666,200.72886872472628 Z\" style=\"fill: white;\"/><title/><text class=\"label\" dy=\"0.35em\" x=\"164.66666666666666\" y=\"195.2685176052865\"/></g><g class=\"link\"><path d=\"M320.3333333333333,374.4040832429233 A0 0 0 0 0 320.3333333333333,374.4040832429233 L479,374.4040832429233 A0 0 0 0 0 479,374.4040832429233 L479,387.0212052470657 A0 0 0 0 0 479,387.0212052470657 L320.3333333333333,387.0212052470657 A0 0 0 0 0 320.3333333333333,387.0212052470657 Z\" style=\"fill: white;\"/><title/><text class=\"label\" dy=\"0.35em\" x=\"324.3333333333333\" y=\"380.7126442449945\"/></g><g class=\"link\"><path d=\"M320.3333333333333,193.64631620475393 A54.46720514324092 54.46720514324092 0.9403644547600101 0 1 364.3304709147989,216.00544883104868 L433.63821348022145,310.9766522099592 A56.156601721233386 56.156601721233386 0.9403644547600101 0 0 479,334.0292928296676 L479,347.04931452806 A69.17662341962574 69.17662341962574 0.9403644547600101 0 1 423.12099152122175,318.6518725515351 L353.8132489557992,223.68066917262468 A41.44718344484856 41.44718344484856 0.9403644547600101 0 0 320.3333333333333,206.66633790314626 Z\" style=\"fill: white;\"/><title/><text class=\"label\" dy=\"0.35em\" x=\"324.3333333333333\" y=\"200.1563270539501\"/></g><g class=\"link\"><path d=\"M320.3333333333333,137.89560114409707 A56.15660172123339 56.15660172123339 1.0501203368456196 0 1 369.0482360240672,166.11616569629803 L444.48618658648707,297.66497480621825 A39.78615098644691 39.78615098644691 1.0501203368456196 0 0 479,317.65884209488115 L479,334.0292928296676 A56.156601721233386 56.156601721233386 1.0501203368456196 0 1 430.2850973092661,305.8087282774666 L354.84714674684625,174.25991916754646 A39.78615098644692 39.78615098644692 1.0501203368456196 0 0 320.3333333333333,154.26605187888353 Z\" style=\"fill: white;\"/><title/><text class=\"label\" dy=\"0.35em\" x=\"324.3333333333333\" y=\"146.0808265114903\"/></g><g class=\"link\"><path d=\"M1,61.378057500739715 A217.11662875997607 217.11662875997607 0.12997668505545734 0 0 29.140708662188402,59.54666046855101 L129.20627988209066,46.46672895529582 A235.0138572834991 235.0138572834991 0.12997668505545734 0 1 159.66666666666666,44.48436729460499 L159.66666666666666,62.381595818128034 A217.11662875997607 217.11662875997607 0.12997668505545734 0 0 131.52595800447824,64.21299285031674 L31.460386784576016,77.29292436357193 A235.0138572834991 235.0138572834991 0.12997668505545734 0 1 1,79.27528602426275 Z\" style=\"fill: white;\"/><title/><text class=\"label\" dy=\"0.35em\" x=\"5\" y=\"70.32667176250123\"/></g><g class=\"link\"><path d=\"M160.66666666666666,313.0997139757372 A97.599355499323 97.599355499323 0.2826459079993593 0 0 187.8868870660236,309.22705582190724 L286.87322804663046,280.47932337929404 A116.38720439960903 116.38720439960903 0.2826459079993593 0 1 319.3333333333333,275.86117960351123 L319.3333333333333,294.64902850379724 A97.599355499323 97.599355499323 0.2826459079993593 0 0 292.1131129339763,298.5216866576272 L193.1267719533695,327.2694191002404 A116.38720439960903 116.38720439960903 0.2826459079993593 0 1 160.66666666666666,331.8875628760232 Z\" style=\"fill: white;\"/><title/><text class=\"label\" dy=\"0.35em\" x=\"164.66666666666666\" y=\"322.4936384258802\"/></g><g class=\"link\"><path d=\"M160.66666666666666,208.38396291547488 A117.42374672893058 117.42374672893058 0.2843564357250816 0 1 193.6086998161525,213.09941914260514 L292.57817234636315,242.02591275156692 A95.37028978051359 95.37028978051359 0.2843564357250816 0 0 319.3333333333333,245.85575500542458 L319.3333333333333,267.9092119538416 A117.42374672893058 117.42374672893058 0.2843564357250816 0 1 286.3913001838475,263.19375572671134 L187.42182765363683,234.26726211774957 A95.37028978051359 95.37028978051359 0.2843564357250816 0 0 160.66666666666666,230.4374198638919 Z\" style=\"fill: white;\"/><title/><text class=\"label\" dy=\"0.35em\" x=\"164.66666666666666\" y=\"219.4106913896834\"/></g><g class=\"link\"><path d=\"M1,155.37455616924743 A46.843656159541524 46.843656159541524 0.6341308631005356 0 0 28.75381570636937,146.2675378584894 L101.3315983646198,92.889427907474 A98.45953833862666 98.45953833862666 0.6341308631005356 0 1 159.66666666666666,73.7476082453891 L159.66666666666666,97.07338001775324 A75.13376656626252 75.13376656626252 0.6341308631005356 0 0 115.1515950099321,111.68036512465336 L42.57381235168168,165.05847507566875 A70.16942793190567 70.16942793190567 0.6341308631005356 0 1 1,178.70032794161156 Z\" style=\"fill: white;\"/><title/><text class=\"label\" dy=\"0.35em\" x=\"5\" y=\"167.0374420554295\"/></g><g class=\"link\"><path d=\"M1,237.32594437321234 A35.13347040675952 35.13347040675952 0.9384702288056294 0 0 29.34058658820426,222.95715298297372 L99.05964457586248,127.80138398817242 A75.13376656626252 75.13376656626252 0.9384702288056294 0 1 159.66666666666666,97.07338001775324 L159.66666666666666,122.7317289673538 A49.475417616661964 49.475417616661964 0.9384702288056294 0 0 119.75707786946074,142.9660510097894 L50.03801988180254,238.12182000459072 A60.79181935636007 60.79181935636007 0.9384702288056294 0 1 1,262.9842933228129 Z\" style=\"fill: white;\"/><title/><text class=\"label\" dy=\"0.35em\" x=\"5\" y=\"250.15511884801262\"/></g><g class=\"link\"><path d=\"M320.3333333333333,267.31546503599964 A72.99835920088306 72.99835920088306 0.6110642917006748 0 1 362.21537398723933,280.5254046500956 L439.3106400461989,334.53096441603094 A69.17662341962574 69.17662341962574 0.6110642917006748 0 0 479,347.04931452805994 L479,374.4040832429234 A96.53139213448915 96.53139213448915 0.6110642917006748 0 1 423.6161292662875,356.93555552640186 L346.5208632073279,302.9299957604665 A45.64359048601965 45.64359048601965 0.6110642917006748 0 0 320.3333333333333,294.6702337508631 Z\" style=\"fill: white;\"/><title/><text class=\"label\" dy=\"0.35em\" x=\"324.3333333333333\" y=\"280.99284939343136\"/></g><g class=\"link\"><path d=\"M320.3333333333333,238.90043396784694 A34.64361751411682 34.64361751411682 0.9320736720218797 0 0 348.14723631154874,224.9103158081456 L403.15745582161605,150.82849160936954 A94.4657099678293 94.4657099678293 0.9320736720218797 0 1 479,112.68044185817143 L479,141.0954729263241 A66.05067889967663 66.05067889967663 0.9320736720218797 0 0 425.970688791023,167.76869208302523 L370.9604692809557,241.8505162818013 A63.058648582269505 63.058648582269505 0.9320736720218797 0 1 320.3333333333333,267.31546503599964 Z\" style=\"fill: white;\"/><title/><text class=\"label\" dy=\"0.35em\" x=\"324.3333333333333\" y=\"253.1079495019233\"/></g><g class=\"link\"><path d=\"M1,178.70032794161156 A362.86736069959125 362.86736069959125 0.0856357996418553 0 1 32.036469842280255,180.0300571271148 L132.26305712794846,188.63408387990134 A320.39325082682274 320.39325082682274 0.0856357996418553 0 0 159.66666666666666,189.8081664858467 L159.66666666666666,232.2822763586152 A362.86736069959125 362.86736069959125 0.0856357996418553 0 1 128.63019682438642,230.95254717311198 L28.403609538718204,222.34852042032543 A320.39325082682274 320.39325082682274 0.0856357996418553 0 0 1,221.17443781438007 Z\" style=\"fill: white;\"/><title/><text class=\"label\" dy=\"0.35em\" x=\"5\" y=\"199.93738287799582\"/></g><g class=\"link\"><path d=\"M320.3333333333333,326.90432981556364 A24.44484613948113 24.44484613948113 1.0517922524198862 0 0 341.55912580536335,314.5845089015086 L421.6472969000661,174.38398415902518 A66.05067889967663 66.05067889967663 1.0517922524198862 0 1 479,141.09547292632413 L479,188.5952263536838 A18.55092547231692 18.55092547231692 1.0517922524198862 0 0 462.89197902933284,197.94460324502788 L382.8038079346301,338.14512798751133 A71.94459956684084 71.94459956684084 1.0517922524198862 0 1 320.3333333333333,374.4040832429233 Z\" style=\"fill: white;\"/><title/><text class=\"label\" dy=\"0.35em\" x=\"324.3333333333333\" y=\"350.6542065292435\"/></g><g class=\"link\"><path d=\"M160.66666666666666,43.19084722359207 A0 0 0 0 0 160.66666666666666,43.19084722359207 L319.3333333333333,43.19084722359207 A0 0 0 0 0 319.3333333333333,43.19084722359207 L319.3333333333333,96.8401223000296 A0 0 0 0 0 319.3333333333333,96.8401223000296 L160.66666666666666,96.8401223000296 A0 0 0 0 0 160.66666666666666,96.8401223000296 Z\" style=\"fill: white;\"/><title/><text class=\"label\" dy=\"0.35em\" x=\"164.66666666666666\" y=\"70.01548476181084\"/></g><g class=\"link\"><path d=\"M320.3333333333333,43.19084722359207 A0 0 0 0 0 320.3333333333333,43.19084722359207 L479,43.19084722359207 A0 0 0 0 0 479,43.19084722359207 L479,96.8401223000296 A0 0 0 0 0 479,96.8401223000296 L320.3333333333333,96.8401223000296 A0 0 0 0 0 320.3333333333333,96.8401223000296 Z\" style=\"fill: white;\"/><title/><text class=\"label\" dy=\"0.35em\" x=\"324.3333333333333\" y=\"70.01548476181084\"/></g><g class=\"link\"><path d=\"M160.66666666666666,331.8875628760232 A0 0 0 0 0 160.66666666666666,331.8875628760232 L319.3333333333333,331.8027418877601 A0 0 0 0 1 319.3333333333333,331.8027418877601 L319.3333333333333,386.93638425880255 A0 0 0 0 0 319.3333333333333,386.93638425880255 L160.66666666666666,387.02120524706567 A0 0 0 0 1 160.66666666666666,387.02120524706567 Z\" style=\"fill: white;\"/><title/><text class=\"label\" dy=\"0.35em\" x=\"164.66666666666666\" y=\"359.45438406154443\"/></g><g class=\"link\"><path d=\"M1,309.26156425683007 A0 0 0 0 0 1,309.26156425683007 L159.66666666666666,309.26156425683 A0 0 0 0 1 159.66666666666666,309.26156425683 L159.66666666666666,387.0212052470658 A0 0 0 0 0 159.66666666666666,387.0212052470658 L1,387.02120524706584 A0 0 0 0 1 1,387.02120524706584 Z\" style=\"fill: white;\"/><title/><text class=\"label\" dy=\"0.35em\" x=\"5\" y=\"348.14138475194795\"/></g></g><g class=\"nodes\"><g class=\"node\" transform=\"translate(0,43.19084722359207)\"><title>Solar</title><line x1=\"0\" x2=\"0\" y1=\"0\" y2=\"2.0357037183154176\" style=\"display: inline;\"/><rect class=\"node-body\" width=\"1\" height=\"2.0357037183154176\"/><text class=\"node-value\" dy=\".35em\" text-anchor=\"middle\" transform=\"translate(0.5,1.0178518591577088) rotate(-90)\" style=\"display: none;\"/><text class=\"node-title\" dy=\".35em\" text-anchor=\"end\" transform=\"translate(-4,1.0178518591577088)\" style=\"display: inline;\">Solar</text><rect class=\"node-click-target\" x=\"-5\" y=\"-5\" width=\"10\" height=\"7.035703718315418\" style=\"fill: none; visibility: hidden; pointer-events: all;\"/></g><g class=\"node\" transform=\"translate(0,61.378057500739715)\"><title>Nuclear</title><line x1=\"0\" x2=\"0\" y1=\"0\" y2=\"17.89722852352304\" style=\"display: inline;\"/><rect class=\"node-body\" width=\"1\" height=\"17.89722852352304\"/><text class=\"node-value\" dy=\".35em\" text-anchor=\"middle\" transform=\"translate(0.5,8.94861426176152) rotate(-90)\" style=\"display: none;\"/><text class=\"node-title\" dy=\".35em\" text-anchor=\"end\" transform=\"translate(-4,8.94861426176152)\" style=\"display: inline;\">Nuclear</text><rect class=\"node-click-target\" x=\"-5\" y=\"-5\" width=\"10\" height=\"22.89722852352304\" style=\"fill: none; visibility: hidden; pointer-events: all;\"/></g><g class=\"node\" transform=\"translate(0,95.42679258309497)\"><title>Hydro</title><line x1=\"0\" x2=\"0\" y1=\"0\" y2=\"5.683006213630534\" style=\"display: inline;\"/><rect class=\"node-body\" width=\"1\" height=\"5.683006213630534\"/><text class=\"node-value\" dy=\".35em\" text-anchor=\"middle\" transform=\"translate(0.5,2.841503106815267) rotate(-90)\" style=\"display: none;\"/><text class=\"node-title\" dy=\".35em\" text-anchor=\"end\" transform=\"translate(-4,2.841503106815267)\" style=\"display: inline;\">Hydro</text><rect class=\"node-click-target\" x=\"-5\" y=\"-5\" width=\"10\" height=\"10.683006213630534\" style=\"fill: none; visibility: hidden; pointer-events: all;\"/></g><g class=\"node\" transform=\"translate(0,117.26130535555772)\"><title>Wind</title><line x1=\"0\" x2=\"0\" y1=\"0\" y2=\"5.364927507643756\" style=\"display: inline;\"/><rect class=\"node-body\" width=\"1\" height=\"5.364927507643756\"/><text class=\"node-value\" dy=\".35em\" text-anchor=\"middle\" transform=\"translate(0.5,2.682463753821878) rotate(-90)\" style=\"display: none;\"/><text class=\"node-title\" dy=\".35em\" text-anchor=\"end\" transform=\"translate(-4,2.682463753821878)\" style=\"display: inline;\">Wind</text><rect class=\"node-click-target\" x=\"-5\" y=\"-5\" width=\"10\" height=\"10.364927507643756\" style=\"fill: none; visibility: hidden; pointer-events: all;\"/></g><g class=\"node\" transform=\"translate(0,138.7777394220337)\"><title>Geothermal</title><line x1=\"0\" x2=\"0\" y1=\"0\" y2=\"1\" style=\"display: inline;\"/><rect class=\"node-body\" width=\"1\" height=\"1\"/><text class=\"node-value\" dy=\".35em\" text-anchor=\"middle\" transform=\"translate(0.5,0.22265509419074192) rotate(0)\" style=\"display: none;\"/><text class=\"node-title\" dy=\".35em\" text-anchor=\"end\" transform=\"translate(-4,0.22265509419074192)\" style=\"display: inline;\">Geothermal</text><rect class=\"node-click-target\" x=\"-5\" y=\"-5\" width=\"10\" height=\"6\" style=\"fill: none; visibility: hidden; pointer-events: all;\"/></g><g class=\"node\" transform=\"translate(0,155.37455616924743)\"><title>Natural_Gas</title><line x1=\"0\" x2=\"0\" y1=\"0\" y2=\"65.79988164513267\" style=\"display: inline;\"/><rect class=\"node-body\" width=\"1\" height=\"65.79988164513267\"/><text class=\"node-value\" dy=\".35em\" text-anchor=\"middle\" transform=\"translate(0.5,32.899940822566336) rotate(-90)\" style=\"display: none;\"/><text class=\"node-title\" dy=\".35em\" text-anchor=\"end\" transform=\"translate(-4,32.899940822566336)\" style=\"display: inline;\">Natural_Gas</text><rect class=\"node-click-target\" x=\"-5\" y=\"-5\" width=\"10\" height=\"70.79988164513267\" style=\"fill: none; visibility: hidden; pointer-events: all;\"/></g><g class=\"node\" transform=\"translate(0,237.32594437321234)\"><title>Coal</title><line x1=\"0\" x2=\"0\" y1=\"0\" y2=\"28.245389091626407\" style=\"display: inline;\"/><rect class=\"node-body\" width=\"1\" height=\"28.245389091626407\"/><text class=\"node-value\" dy=\".35em\" text-anchor=\"middle\" transform=\"translate(0.5,14.122694545813204) rotate(-90)\" style=\"display: none;\"/><text class=\"node-title\" dy=\".35em\" text-anchor=\"end\" transform=\"translate(-4,14.122694545813204)\" style=\"display: inline;\">Coal</text><rect class=\"node-click-target\" x=\"-5\" y=\"-5\" width=\"10\" height=\"33.24538909162641\" style=\"fill: none; visibility: hidden; pointer-events: all;\"/></g><g class=\"node\" transform=\"translate(0,281.722840023671)\"><title>Biomass</title><line x1=\"0\" x2=\"0\" y1=\"0\" y2=\"10.878291744748026\" style=\"display: inline;\"/><rect class=\"node-body\" width=\"1\" height=\"10.878291744748026\"/><text class=\"node-value\" dy=\".35em\" text-anchor=\"middle\" transform=\"translate(0.5,5.439145872374013) rotate(-90)\" style=\"display: none;\"/><text class=\"node-title\" dy=\".35em\" text-anchor=\"end\" transform=\"translate(-4,5.439145872374013)\" style=\"display: inline;\">Biomass</text><rect class=\"node-click-target\" x=\"-5\" y=\"-5\" width=\"10\" height=\"15.878291744748026\" style=\"fill: none; visibility: hidden; pointer-events: all;\"/></g><g class=\"node\" transform=\"translate(0,308.7526383272512)\"><title>Petroleum</title><line x1=\"0\" x2=\"0\" y1=\"0\" y2=\"78.26856691981459\" style=\"display: inline;\"/><rect class=\"node-body\" width=\"1\" height=\"78.26856691981459\"/><text class=\"node-value\" dy=\".35em\" text-anchor=\"middle\" transform=\"translate(0.5,39.134283459907294) rotate(-90)\" style=\"display: none;\"/><text class=\"node-title\" dy=\".35em\" text-anchor=\"end\" transform=\"translate(-4,39.134283459907294)\" style=\"display: inline;\">Petroleum</text><rect class=\"node-click-target\" x=\"-5\" y=\"-5\" width=\"10\" height=\"83.26856691981459\" style=\"fill: none; visibility: hidden; pointer-events: all;\"/></g><g class=\"node\" transform=\"translate(159.66666666666666,0.05301311766446397)\"><title>Net electricity imports</title><line x1=\"0\" x2=\"0\" y1=\"0\" y2=\"1\" style=\"display: inline;\"/><rect class=\"node-body\" width=\"1\" height=\"1\"/><text class=\"node-value\" dy=\".35em\" text-anchor=\"middle\" transform=\"translate(0.5,0.05301311766446396) rotate(0)\" style=\"display: none;\"/><text class=\"node-title\" dy=\".35em\" text-anchor=\"end\" transform=\"translate(-4,0.05301311766446396)\" style=\"display: inline;\">Net electricity imports</text><rect class=\"node-click-target\" x=\"-5\" y=\"-5\" width=\"10\" height=\"6\" style=\"fill: none; visibility: hidden; pointer-events: all;\"/></g><g class=\"node\" transform=\"translate(159.66666666666666,43.19084722359207)\"><title>Electricity Generation</title><line x1=\"0\" x2=\"0\" y1=\"-5\" y2=\"81.17368576782722\" style=\"display: inline;\"/><rect class=\"node-body\" width=\"1\" height=\"81.17368576782722\"/><text class=\"node-value\" dy=\".35em\" text-anchor=\"middle\" transform=\"translate(0.5,40.58684288391361) rotate(-90)\" style=\"display: none;\"/><text class=\"node-title\" dy=\".35em\" text-anchor=\"start\" transform=\"translate(-4,-10)\" style=\"display: inline;\">Electricity Generation</text><rect class=\"node-click-target\" x=\"-5\" y=\"-5\" width=\"10\" height=\"86.17368576782722\" style=\"fill: none; visibility: hidden; pointer-events: all;\"/></g><g class=\"node\" transform=\"translate(159.66666666666666,145.88927244632936)\"><title/><line x1=\"0\" x2=\"0\" y1=\"-5\" y2=\"1\" style=\"display: none;\"/><rect class=\"node-body\" width=\"1\" height=\"1\"/><text class=\"node-value\" dy=\".35em\" text-anchor=\"middle\" transform=\"translate(0.5,0.37109182365124127) rotate(0)\" style=\"display: none;\"/><text class=\"node-title\" dy=\".35em\" text-anchor=\"start\" transform=\"translate(-4,-10)\" style=\"display: none;\"/><rect class=\"node-click-target\" x=\"-5\" y=\"-5\" width=\"10\" height=\"6\" style=\"fill: none; visibility: hidden; pointer-events: all;\"/></g><g class=\"node\" transform=\"translate(159.66666666666666,168.15619554854192)\"><title>    </title><line x1=\"0\" x2=\"0\" y1=\"-5\" y2=\"1\" style=\"display: inline;\"/><rect class=\"node-body\" width=\"1\" height=\"1\"/><text class=\"node-value\" dy=\".35em\" text-anchor=\"middle\" transform=\"translate(0.5,0.0636157411973528) rotate(0)\" style=\"display: none;\"/><text class=\"node-title\" dy=\".35em\" text-anchor=\"start\" transform=\"translate(-4,-10)\" style=\"display: inline;\">    </text><rect class=\"node-click-target\" x=\"-5\" y=\"-5\" width=\"10\" height=\"6\" style=\"fill: none; visibility: hidden; pointer-events: all;\"/></g><g class=\"node\" transform=\"translate(159.66666666666666,189.8081664858467)\"><title>     </title><line x1=\"0\" x2=\"0\" y1=\"-5\" y2=\"42.47410987276854\" style=\"display: inline;\"/><rect class=\"node-body\" width=\"1\" height=\"42.47410987276854\"/><text class=\"node-value\" dy=\".35em\" text-anchor=\"middle\" transform=\"translate(0.5,21.23705493638427) rotate(-90)\" style=\"display: none;\"/><text class=\"node-title\" dy=\".35em\" text-anchor=\"start\" transform=\"translate(-4,-10)\" style=\"display: inline;\">     </text><rect class=\"node-click-target\" x=\"-5\" y=\"-5\" width=\"10\" height=\"47.47410987276854\" style=\"fill: none; visibility: hidden; pointer-events: all;\"/></g><g class=\"node\" transform=\"translate(159.66666666666666,253.8070158135253)\"><title>      </title><line x1=\"0\" x2=\"0\" y1=\"-5\" y2=\"2.5870401420258418\" style=\"display: inline;\"/><rect class=\"node-body\" width=\"1\" height=\"2.5870401420258418\"/><text class=\"node-value\" dy=\".35em\" text-anchor=\"middle\" transform=\"translate(0.5,1.2935200710129209) rotate(-90)\" style=\"display: none;\"/><text class=\"node-title\" dy=\".35em\" text-anchor=\"start\" transform=\"translate(-4,-10)\" style=\"display: inline;\">      </text><rect class=\"node-click-target\" x=\"-5\" y=\"-5\" width=\"10\" height=\"7.587040142025842\" style=\"fill: none; visibility: hidden; pointer-events: all;\"/></g><g class=\"node\" transform=\"translate(159.66666666666666,277.9187954104612)\"><title>       </title><line x1=\"0\" x2=\"0\" y1=\"-5\" y2=\"9.818029391458708\" style=\"display: inline;\"/><rect class=\"node-body\" width=\"1\" height=\"9.818029391458708\"/><text class=\"node-value\" dy=\".35em\" text-anchor=\"middle\" transform=\"translate(0.5,4.909014695729354) rotate(-90)\" style=\"display: none;\"/><text class=\"node-title\" dy=\".35em\" text-anchor=\"start\" transform=\"translate(-4,-10)\" style=\"display: inline;\">       </text><rect class=\"node-click-target\" x=\"-5\" y=\"-5\" width=\"10\" height=\"14.818029391458708\" style=\"fill: none; visibility: hidden; pointer-events: all;\"/></g><g class=\"node\" transform=\"translate(159.66666666666666,309.26156425683)\"><title>        </title><line x1=\"0\" x2=\"0\" y1=\"-5\" y2=\"77.75964099023571\" style=\"display: inline;\"/><rect class=\"node-body\" width=\"1\" height=\"77.75964099023571\"/><text class=\"node-value\" dy=\".35em\" text-anchor=\"middle\" transform=\"translate(0.5,38.879820495117855) rotate(-90)\" style=\"display: none;\"/><text class=\"node-title\" dy=\".35em\" text-anchor=\"start\" transform=\"translate(-4,-10)\" style=\"display: inline;\">        </text><rect class=\"node-click-target\" x=\"-5\" y=\"-5\" width=\"10\" height=\"82.75964099023571\" style=\"fill: none; visibility: hidden; pointer-events: all;\"/></g><g class=\"node\" transform=\"translate(319.3333333333333,43.19084722359207)\"><title/><line x1=\"0\" x2=\"0\" y1=\"-5\" y2=\"53.64927507643753\" style=\"display: none;\"/><rect class=\"node-body\" width=\"1\" height=\"53.64927507643753\"/><text class=\"node-value\" dy=\".35em\" text-anchor=\"middle\" transform=\"translate(0.5,26.824637538218767) rotate(-90)\" style=\"display: none;\"/><text class=\"node-title\" dy=\".35em\" text-anchor=\"start\" transform=\"translate(-4,-10)\" style=\"display: none;\"/><rect class=\"node-click-target\" x=\"-5\" y=\"-5\" width=\"10\" height=\"58.64927507643753\" style=\"fill: none; visibility: hidden; pointer-events: all;\"/></g><g class=\"node\" transform=\"translate(319.3333333333333,129.07421836473026)\"><title>Residential</title><line x1=\"0\" x2=\"0\" y1=\"-5\" y2=\"25.31906499654798\" style=\"display: inline;\"/><rect class=\"node-body\" width=\"1\" height=\"25.31906499654798\"/><text class=\"node-value\" dy=\".35em\" text-anchor=\"middle\" transform=\"translate(0.5,12.65953249827399) rotate(-90)\" style=\"display: none;\"/><text class=\"node-title\" dy=\".35em\" text-anchor=\"start\" transform=\"translate(-4,-10)\" style=\"display: inline;\">Residential</text><rect class=\"node-click-target\" x=\"-5\" y=\"-5\" width=\"10\" height=\"30.31906499654798\" style=\"fill: none; visibility: hidden; pointer-events: all;\"/></g><g class=\"node\" transform=\"translate(319.3333333333333,186.62737942597892)\"><title>Commercial</title><line x1=\"0\" x2=\"0\" y1=\"-5\" y2=\"20.03895847716737\" style=\"display: inline;\"/><rect class=\"node-body\" width=\"1\" height=\"20.03895847716737\"/><text class=\"node-value\" dy=\".35em\" text-anchor=\"middle\" transform=\"translate(0.5,10.019479238583685) rotate(-90)\" style=\"display: none;\"/><text class=\"node-title\" dy=\".35em\" text-anchor=\"start\" transform=\"translate(-4,-10)\" style=\"display: inline;\">Commercial</text><rect class=\"node-click-target\" x=\"-5\" y=\"-5\" width=\"10\" height=\"25.03895847716737\" style=\"fill: none; visibility: hidden; pointer-events: all;\"/></g><g class=\"node\" transform=\"translate(319.3333333333333,238.90043396784694)\"><title>Industrial</title><line x1=\"0\" x2=\"0\" y1=\"-5\" y2=\"55.76979978301608\" style=\"display: inline;\"/><rect class=\"node-body\" width=\"1\" height=\"55.76979978301608\"/><text class=\"node-value\" dy=\".35em\" text-anchor=\"middle\" transform=\"translate(0.5,27.88489989150804) rotate(-90)\" style=\"display: none;\"/><text class=\"node-title\" dy=\".35em\" text-anchor=\"start\" transform=\"translate(-4,-10)\" style=\"display: inline;\">Industrial</text><rect class=\"node-click-target\" x=\"-5\" y=\"-5\" width=\"10\" height=\"60.76979978301608\" style=\"fill: none; visibility: hidden; pointer-events: all;\"/></g><g class=\"node\" transform=\"translate(319.3333333333333,326.90432981556364)\"><title>Transportation</title><line x1=\"0\" x2=\"0\" y1=\"-5\" y2=\"60.11687543150214\" style=\"display: inline;\"/><rect class=\"node-body\" width=\"1\" height=\"60.11687543150214\"/><text class=\"node-value\" dy=\".35em\" text-anchor=\"middle\" transform=\"translate(0.5,30.05843771575107) rotate(-90)\" style=\"display: none;\"/><text class=\"node-title\" dy=\".35em\" text-anchor=\"start\" transform=\"translate(-4,-10)\" style=\"display: inline;\">Transportation</text><rect class=\"node-click-target\" x=\"-5\" y=\"-5\" width=\"10\" height=\"65.11687543150214\" style=\"fill: none; visibility: hidden; pointer-events: all;\"/></g><g class=\"node\" transform=\"translate(479,43.19084722359207)\"><title>Rejected energy</title><line x1=\"0\" x2=\"0\" y1=\"0\" y2=\"145.40437913009174\" style=\"display: inline;\"/><rect class=\"node-body\" width=\"1\" height=\"145.40437913009174\"/><text class=\"node-value\" dy=\".35em\" text-anchor=\"middle\" transform=\"translate(0.5,72.70218956504587) rotate(-90)\" style=\"display: none;\"/><text class=\"node-title\" dy=\".35em\" text-anchor=\"start\" transform=\"translate(5,72.70218956504587)\" style=\"display: inline;\">Rejected energy</text><rect class=\"node-click-target\" x=\"-5\" y=\"-5\" width=\"10\" height=\"150.40437913009174\" style=\"fill: none; visibility: hidden; pointer-events: all;\"/></g><g class=\"node\" transform=\"translate(479,317.65884209488115)\"><title>Energy services</title><line x1=\"0\" x2=\"0\" y1=\"0\" y2=\"69.36236315218463\" style=\"display: inline;\"/><rect class=\"node-body\" width=\"1\" height=\"69.36236315218463\"/><text class=\"node-value\" dy=\".35em\" text-anchor=\"middle\" transform=\"translate(0.5,34.681181576092314) rotate(-90)\" style=\"display: none;\"/><text class=\"node-title\" dy=\".35em\" text-anchor=\"start\" transform=\"translate(5,34.681181576092314)\" style=\"display: inline;\">Energy services</text><rect class=\"node-click-target\" x=\"-5\" y=\"-5\" width=\"10\" height=\"74.36236315218463\" style=\"fill: none; visibility: hidden; pointer-events: all;\"/></g></g><g class=\"slice-titles\"/></g></svg>",
            "_view_module_version": "^0.4.1",
            "order": [
              [
                [],
                [
                  "sources^Solar",
                  "sources^Nuclear",
                  "sources^Hydro",
                  "sources^Wind",
                  "sources^Geothermal",
                  "sources^Natural_Gas",
                  "sources^Coal",
                  "sources^Biomass",
                  "sources^Petroleum"
                ],
                []
              ],
              [
                [
                  "imports^*"
                ],
                [
                  "electricity^*",
                  "direct_use^",
                  "direct_use^    ",
                  "direct_use^     ",
                  "direct_use^      ",
                  "direct_use^       ",
                  "direct_use^        "
                ],
                []
              ],
              [
                [],
                [
                  "__electricity_rejected_2^*",
                  "uses^Residential",
                  "uses^Commercial",
                  "uses^Industrial",
                  "uses^Transportation"
                ],
                []
              ],
              [
                [],
                [
                  "rejected^*",
                  "energy_services^*"
                ],
                []
              ]
            ]
          }
        },
        "ef40299383de4f3595e0e81e0b40b3ab": {
          "model_module": "@jupyter-widgets/output",
          "model_name": "OutputModel",
          "model_module_version": "1.0.0",
          "state": {
            "_view_name": "OutputView",
            "msg_id": "",
            "_dom_classes": [],
            "_model_name": "OutputModel",
            "outputs": [],
            "_view_module": "@jupyter-widgets/output",
            "_model_module_version": "1.0.0",
            "_view_count": null,
            "_view_module_version": "1.0.0",
            "layout": "IPY_MODEL_c88167cb77f74793aa19813880323fe8",
            "_model_module": "@jupyter-widgets/output"
          }
        },
        "c88167cb77f74793aa19813880323fe8": {
          "model_module": "@jupyter-widgets/base",
          "model_name": "LayoutModel",
          "model_module_version": "1.2.0",
          "state": {
            "_view_name": "LayoutView",
            "grid_template_rows": null,
            "right": null,
            "justify_content": null,
            "_view_module": "@jupyter-widgets/base",
            "overflow": null,
            "_model_module_version": "1.2.0",
            "_view_count": null,
            "flex_flow": null,
            "width": null,
            "min_width": null,
            "border": null,
            "align_items": null,
            "bottom": null,
            "_model_module": "@jupyter-widgets/base",
            "top": null,
            "grid_column": null,
            "overflow_y": null,
            "overflow_x": null,
            "grid_auto_flow": null,
            "grid_area": null,
            "grid_template_columns": null,
            "flex": null,
            "_model_name": "LayoutModel",
            "justify_items": null,
            "grid_row": null,
            "max_height": null,
            "align_content": null,
            "visibility": null,
            "align_self": null,
            "height": null,
            "min_height": null,
            "padding": null,
            "grid_auto_rows": null,
            "grid_gap": null,
            "max_width": null,
            "order": null,
            "_view_module_version": "1.2.0",
            "grid_template_areas": null,
            "object_position": null,
            "object_fit": null,
            "grid_auto_columns": null,
            "margin": null,
            "display": null,
            "left": null
          }
        },
        "6593c27a1f11450e88111bf91f0b57da": {
          "model_module": "@jupyter-widgets/base",
          "model_name": "LayoutModel",
          "model_module_version": "1.2.0",
          "state": {
            "_view_name": "LayoutView",
            "grid_template_rows": null,
            "right": null,
            "justify_content": null,
            "_view_module": "@jupyter-widgets/base",
            "overflow": null,
            "_model_module_version": "1.2.0",
            "_view_count": null,
            "flex_flow": null,
            "width": "700",
            "min_width": null,
            "border": null,
            "align_items": null,
            "bottom": null,
            "_model_module": "@jupyter-widgets/base",
            "top": null,
            "grid_column": null,
            "overflow_y": null,
            "overflow_x": null,
            "grid_auto_flow": null,
            "grid_area": null,
            "grid_template_columns": null,
            "flex": null,
            "_model_name": "LayoutModel",
            "justify_items": null,
            "grid_row": null,
            "max_height": null,
            "align_content": null,
            "visibility": null,
            "align_self": null,
            "height": "450",
            "min_height": null,
            "padding": null,
            "grid_auto_rows": null,
            "grid_gap": null,
            "max_width": null,
            "order": null,
            "_view_module_version": "1.2.0",
            "grid_template_areas": null,
            "object_position": null,
            "object_fit": null,
            "grid_auto_columns": null,
            "margin": null,
            "display": null,
            "left": null
          }
        },
        "5699c571a6b04efa9a2409bc1e72fab9": {
          "model_module": "jupyter-sankey-widget",
          "model_name": "SankeyModel",
          "model_module_version": "^0.4.1",
          "state": {
            "_view_name": "SankeyView",
            "links": [
              {
                "opacity": 1,
                "target": "sources^Coal, peat and oil shale",
                "title": "Coal, peat and oil shale",
                "color": "black",
                "value": 201.9383907,
                "source": "imports^*",
                "time": "*",
                "type": "Coal, peat and oil shale"
              },
              {
                "opacity": 1,
                "target": "sources^Crude, NGL and feedstocks",
                "title": "Crude, NGL and feedstocks",
                "color": "grey",
                "value": 2251.293456,
                "source": "imports^*",
                "time": "*",
                "type": "Crude, NGL and feedstocks"
              },
              {
                "opacity": 1,
                "target": "sources^Heat",
                "title": "Heat",
                "color": "red",
                "value": 0,
                "source": "imports^*",
                "time": "*",
                "type": "Heat"
              },
              {
                "opacity": 1,
                "target": "sources^Natural gas",
                "title": "Natural gas",
                "color": "steelblue",
                "value": 1678.036615,
                "source": "imports^*",
                "time": "*",
                "type": "Natural gas"
              },
              {
                "opacity": 1,
                "target": "sources^Nuclear",
                "title": "Nuclear",
                "color": "red",
                "value": 0,
                "source": "imports^*",
                "time": "*",
                "type": "Nuclear"
              },
              {
                "opacity": 1,
                "target": "sources^Renewables and waste",
                "title": "Renewables and waste",
                "color": "green",
                "value": 201.0877963,
                "source": "imports^*",
                "time": "*",
                "type": "Renewables and waste"
              },
              {
                "opacity": 1,
                "target": "import_refining^_",
                "title": "Oil products",
                "color": "purple",
                "value": 1427.757101,
                "source": "imports^*",
                "time": "*",
                "type": "Oil products"
              },
              {
                "opacity": 1,
                "target": "import_electricity^_",
                "title": "Electricity",
                "color": "orange",
                "value": 88.40011195,
                "source": "imports^*",
                "time": "*",
                "type": "Electricity"
              },
              {
                "opacity": 1,
                "target": "refining^*",
                "title": "Coal, peat and oil shale",
                "color": "black",
                "value": 0,
                "source": "sources^Coal, peat and oil shale",
                "time": "*",
                "type": "Coal, peat and oil shale"
              },
              {
                "opacity": 1,
                "target": "direct_use^",
                "title": "Coal, peat and oil shale",
                "color": "black",
                "value": 198.0814435896,
                "source": "sources^Coal, peat and oil shale",
                "time": "*",
                "type": "Coal, peat and oil shale"
              },
              {
                "opacity": 1,
                "target": "refining^*",
                "title": "Crude, NGL and feedstocks",
                "color": "grey",
                "value": 2561.377786,
                "source": "sources^Crude, NGL and feedstocks",
                "time": "*",
                "type": "Crude, NGL and feedstocks"
              },
              {
                "opacity": 1,
                "target": "direct_use^ ",
                "title": "Crude, NGL and feedstocks",
                "color": "grey",
                "value": 1948.854347,
                "source": "sources^Crude, NGL and feedstocks",
                "time": "*",
                "type": "Crude, NGL and feedstocks"
              },
              {
                "opacity": 1,
                "target": "refining^*",
                "title": "Natural gas",
                "color": "steelblue",
                "value": 0,
                "source": "sources^Natural gas",
                "time": "*",
                "type": "Natural gas"
              },
              {
                "opacity": 1,
                "target": "direct_use^  ",
                "title": "Natural gas",
                "color": "steelblue",
                "value": 2909.6569115800003,
                "source": "sources^Natural gas",
                "time": "*",
                "type": "Natural gas"
              },
              {
                "opacity": 1,
                "target": "refining^*",
                "title": "Nuclear",
                "color": "red",
                "value": 0,
                "source": "sources^Nuclear",
                "time": "*",
                "type": "Nuclear"
              },
              {
                "opacity": 1,
                "target": "direct_use^   ",
                "title": "Nuclear",
                "color": "red",
                "value": 612.9156417,
                "source": "sources^Nuclear",
                "time": "*",
                "type": "Nuclear"
              },
              {
                "opacity": 1,
                "target": "refining^*",
                "title": "Renewables and waste",
                "color": "green",
                "value": 0,
                "source": "sources^Renewables and waste",
                "time": "*",
                "type": "Renewables and waste"
              },
              {
                "opacity": 1,
                "target": "direct_use^    ",
                "title": "Renewables and waste",
                "color": "green",
                "value": 929.9872433649999,
                "source": "sources^Renewables and waste",
                "time": "*",
                "type": "Renewables and waste"
              },
              {
                "opacity": 1,
                "target": "refining^*",
                "title": "Heat",
                "color": "red",
                "value": 0,
                "source": "sources^Heat",
                "time": "*",
                "type": "Heat"
              },
              {
                "opacity": 1,
                "target": "direct_use^     ",
                "title": "Heat",
                "color": "red",
                "value": 117.5279433128,
                "source": "sources^Heat",
                "time": "*",
                "type": "Heat"
              },
              {
                "opacity": 1,
                "target": "refining^*",
                "title": "Electricity",
                "color": "orange",
                "value": 0,
                "source": "__>refining^*",
                "time": "*",
                "type": "Electricity"
              },
              {
                "opacity": 1,
                "target": "refining^*",
                "title": "Oil products",
                "color": "purple",
                "value": 1427.757101,
                "source": "import_refining^_",
                "time": "*",
                "type": "Oil products"
              },
              {
                "opacity": 1,
                "target": "import_electricity_2^_",
                "title": "Electricity",
                "color": "orange",
                "value": 88.40011195,
                "source": "import_electricity^_",
                "time": "*",
                "type": "Electricity"
              },
              {
                "opacity": 1,
                "target": "electricity^*",
                "title": "Coal, peat and oil shale",
                "color": "black",
                "value": 90.85151265,
                "source": "direct_use^",
                "time": "*",
                "type": "Coal, peat and oil shale"
              },
              {
                "opacity": 1,
                "target": "direct_use_2^",
                "title": "Coal, peat and oil shale",
                "color": "black",
                "value": 107.22993093960001,
                "source": "direct_use^",
                "time": "*",
                "type": "Coal, peat and oil shale"
              },
              {
                "opacity": 1,
                "target": "electricity^*",
                "title": "Crude, NGL and feedstocks",
                "color": "grey",
                "value": 0,
                "source": "direct_use^ ",
                "time": "*",
                "type": "Crude, NGL and feedstocks"
              },
              {
                "opacity": 1,
                "target": "direct_use_2^ ",
                "title": "Crude, NGL and feedstocks",
                "color": "grey",
                "value": 1948.854347,
                "source": "direct_use^ ",
                "time": "*",
                "type": "Crude, NGL and feedstocks"
              },
              {
                "opacity": 1,
                "target": "electricity^*",
                "title": "Natural gas",
                "color": "steelblue",
                "value": 965.1644983,
                "source": "direct_use^  ",
                "time": "*",
                "type": "Natural gas"
              },
              {
                "opacity": 1,
                "target": "direct_use_2^  ",
                "title": "Natural gas",
                "color": "steelblue",
                "value": 1944.49241328,
                "source": "direct_use^  ",
                "time": "*",
                "type": "Natural gas"
              },
              {
                "opacity": 1,
                "target": "electricity^*",
                "title": "Nuclear",
                "color": "red",
                "value": 612.9156417,
                "source": "direct_use^   ",
                "time": "*",
                "type": "Nuclear"
              },
              {
                "opacity": 1,
                "target": "direct_use_2^   ",
                "title": "Nuclear",
                "color": "red",
                "value": 0,
                "source": "direct_use^   ",
                "time": "*",
                "type": "Nuclear"
              },
              {
                "opacity": 1,
                "target": "electricity^*",
                "title": "Renewables and waste",
                "color": "green",
                "value": 696.9042397,
                "source": "direct_use^    ",
                "time": "*",
                "type": "Renewables and waste"
              },
              {
                "opacity": 1,
                "target": "direct_use_2^    ",
                "title": "Renewables and waste",
                "color": "green",
                "value": 233.08300366499998,
                "source": "direct_use^    ",
                "time": "*",
                "type": "Renewables and waste"
              },
              {
                "opacity": 1,
                "target": "electricity^*",
                "title": "Heat",
                "color": "red",
                "value": 65.4346096,
                "source": "direct_use^     ",
                "time": "*",
                "type": "Heat"
              },
              {
                "opacity": 1,
                "target": "direct_use_2^     ",
                "title": "Heat",
                "color": "red",
                "value": 52.093333712799996,
                "source": "direct_use^     ",
                "time": "*",
                "type": "Heat"
              },
              {
                "opacity": 1,
                "target": "electricity^*",
                "title": "Oil products",
                "color": "purple",
                "value": 19.49629475,
                "source": "refining^*",
                "time": "*",
                "type": "Oil products"
              },
              {
                "opacity": 1,
                "target": "refining_use^_",
                "title": "Oil products",
                "color": "purple",
                "value": 3133.02665659,
                "source": "refining^*",
                "time": "*",
                "type": "Oil products"
              },
              {
                "opacity": 1,
                "target": "electricity^*",
                "title": "Electricity",
                "color": "orange",
                "value": 88.40011195,
                "source": "import_electricity_2^_",
                "time": "*",
                "type": "Electricity"
              },
              {
                "opacity": 1,
                "target": "exports^*",
                "title": "Coal, peat and oil shale",
                "color": "black",
                "value": 22.41634491,
                "source": "direct_use_2^",
                "time": "*",
                "type": "Coal, peat and oil shale"
              },
              {
                "opacity": 1,
                "target": "direct_use_3^",
                "title": "Coal, peat and oil shale",
                "color": "black",
                "value": 84.8135860296,
                "source": "direct_use_2^",
                "time": "*",
                "type": "Coal, peat and oil shale"
              },
              {
                "opacity": 1,
                "target": "exports^*",
                "title": "Crude, NGL and feedstocks",
                "color": "grey",
                "value": 1948.854347,
                "source": "direct_use_2^ ",
                "time": "*",
                "type": "Crude, NGL and feedstocks"
              },
              {
                "opacity": 1,
                "target": "direct_use_3^ ",
                "title": "Crude, NGL and feedstocks",
                "color": "grey",
                "value": 0,
                "source": "direct_use_2^ ",
                "time": "*",
                "type": "Crude, NGL and feedstocks"
              },
              {
                "opacity": 1,
                "target": "exports^*",
                "title": "Natural gas",
                "color": "steelblue",
                "value": 283.4947134,
                "source": "direct_use_2^  ",
                "time": "*",
                "type": "Natural gas"
              },
              {
                "opacity": 1,
                "target": "direct_use_3^  ",
                "title": "Natural gas",
                "color": "steelblue",
                "value": 1660.99769988,
                "source": "direct_use_2^  ",
                "time": "*",
                "type": "Natural gas"
              },
              {
                "opacity": 1,
                "target": "exports^*",
                "title": "Nuclear",
                "color": "red",
                "value": 0,
                "source": "direct_use_2^   ",
                "time": "*",
                "type": "Nuclear"
              },
              {
                "opacity": 1,
                "target": "direct_use_3^   ",
                "title": "Nuclear",
                "color": "red",
                "value": 0,
                "source": "direct_use_2^   ",
                "time": "*",
                "type": "Nuclear"
              },
              {
                "opacity": 1,
                "target": "exports^*",
                "title": "Renewables and waste",
                "color": "green",
                "value": 14.8582875,
                "source": "direct_use_2^    ",
                "time": "*",
                "type": "Renewables and waste"
              },
              {
                "opacity": 1,
                "target": "direct_use_3^    ",
                "title": "Renewables and waste",
                "color": "green",
                "value": 218.22471616500002,
                "source": "direct_use_2^    ",
                "time": "*",
                "type": "Renewables and waste"
              },
              {
                "opacity": 1,
                "target": "exports^*",
                "title": "Heat",
                "color": "red",
                "value": 0,
                "source": "direct_use_2^     ",
                "time": "*",
                "type": "Heat"
              },
              {
                "opacity": 1,
                "target": "direct_use_3^     ",
                "title": "Heat",
                "color": "red",
                "value": 52.093333712799996,
                "source": "direct_use_2^     ",
                "time": "*",
                "type": "Heat"
              },
              {
                "opacity": 1,
                "target": "exports^*",
                "title": "Oil products",
                "color": "purple",
                "value": 882.452799,
                "source": "refining_use^_",
                "time": "*",
                "type": "Oil products"
              },
              {
                "opacity": 1,
                "target": "refining_use_2^_",
                "title": "Oil products",
                "color": "purple",
                "value": 2250.57385759,
                "source": "refining_use^_",
                "time": "*",
                "type": "Oil products"
              },
              {
                "opacity": 1,
                "target": "exports^*",
                "title": "Electricity",
                "color": "orange",
                "value": 12.18642246,
                "source": "electricity^*",
                "time": "*",
                "type": "Electricity"
              },
              {
                "opacity": 1,
                "target": "electricity_use^_",
                "title": "Electricity",
                "color": "orange",
                "value": 1063.34783879,
                "source": "electricity^*",
                "time": "*",
                "type": "Electricity"
              },
              {
                "opacity": 1,
                "target": "__electricity>^*",
                "title": "Electricity",
                "color": "orange",
                "value": 0,
                "source": "electricity^*",
                "time": "*",
                "type": "Electricity"
              },
              {
                "opacity": 1,
                "target": "uses^Commercial and public services (PJ)",
                "title": "Coal, peat and oil shale",
                "color": "black",
                "value": 0.7160642172,
                "source": "direct_use_3^",
                "time": "*",
                "type": "Coal, peat and oil shale"
              },
              {
                "opacity": 1,
                "target": "uses^Industry (PJ)",
                "title": "Coal, peat and oil shale",
                "color": "black",
                "value": 61.13122397,
                "source": "direct_use_3^",
                "time": "*",
                "type": "Coal, peat and oil shale"
              },
              {
                "opacity": 1,
                "target": "uses^Other final consumption (PJ)",
                "title": "Coal, peat and oil shale",
                "color": "black",
                "value": 2.17745001,
                "source": "direct_use_3^",
                "time": "*",
                "type": "Coal, peat and oil shale"
              },
              {
                "opacity": 1,
                "target": "uses^Residential (PJ)",
                "title": "Coal, peat and oil shale",
                "color": "black",
                "value": 20.34130822,
                "source": "direct_use_3^",
                "time": "*",
                "type": "Coal, peat and oil shale"
              },
              {
                "opacity": 1,
                "target": "uses^Transport (PJ)",
                "title": "Coal, peat and oil shale",
                "color": "black",
                "value": 0.4475396124,
                "source": "direct_use_3^",
                "time": "*",
                "type": "Coal, peat and oil shale"
              },
              {
                "opacity": 1,
                "target": "uses^Commercial and public services (PJ)",
                "title": "Crude, NGL and feedstocks",
                "color": "grey",
                "value": 0,
                "source": "direct_use_3^ ",
                "time": "*",
                "type": "Crude, NGL and feedstocks"
              },
              {
                "opacity": 1,
                "target": "uses^Industry (PJ)",
                "title": "Crude, NGL and feedstocks",
                "color": "grey",
                "value": 0,
                "source": "direct_use_3^ ",
                "time": "*",
                "type": "Crude, NGL and feedstocks"
              },
              {
                "opacity": 1,
                "target": "uses^Other final consumption (PJ)",
                "title": "Crude, NGL and feedstocks",
                "color": "grey",
                "value": 0,
                "source": "direct_use_3^ ",
                "time": "*",
                "type": "Crude, NGL and feedstocks"
              },
              {
                "opacity": 1,
                "target": "uses^Residential (PJ)",
                "title": "Crude, NGL and feedstocks",
                "color": "grey",
                "value": 0,
                "source": "direct_use_3^ ",
                "time": "*",
                "type": "Crude, NGL and feedstocks"
              },
              {
                "opacity": 1,
                "target": "uses^Transport (PJ)",
                "title": "Crude, NGL and feedstocks",
                "color": "grey",
                "value": 0,
                "source": "direct_use_3^ ",
                "time": "*",
                "type": "Crude, NGL and feedstocks"
              },
              {
                "opacity": 1,
                "target": "uses^Commercial and public services (PJ)",
                "title": "Natural gas",
                "color": "steelblue",
                "value": 274.8563987,
                "source": "direct_use_3^  ",
                "time": "*",
                "type": "Natural gas"
              },
              {
                "opacity": 1,
                "target": "uses^Industry (PJ)",
                "title": "Natural gas",
                "color": "steelblue",
                "value": 331.4835009,
                "source": "direct_use_3^  ",
                "time": "*",
                "type": "Natural gas"
              },
              {
                "opacity": 1,
                "target": "uses^Other final consumption (PJ)",
                "title": "Natural gas",
                "color": "steelblue",
                "value": 50.47019928,
                "source": "direct_use_3^  ",
                "time": "*",
                "type": "Natural gas"
              },
              {
                "opacity": 1,
                "target": "uses^Residential (PJ)",
                "title": "Natural gas",
                "color": "steelblue",
                "value": 1004.187601,
                "source": "direct_use_3^  ",
                "time": "*",
                "type": "Natural gas"
              },
              {
                "opacity": 1,
                "target": "uses^Transport (PJ)",
                "title": "Natural gas",
                "color": "steelblue",
                "value": 0,
                "source": "direct_use_3^  ",
                "time": "*",
                "type": "Natural gas"
              },
              {
                "opacity": 1,
                "target": "uses^Commercial and public services (PJ)",
                "title": "Nuclear",
                "color": "red",
                "value": 0,
                "source": "direct_use_3^   ",
                "time": "*",
                "type": "Nuclear"
              },
              {
                "opacity": 1,
                "target": "uses^Industry (PJ)",
                "title": "Nuclear",
                "color": "red",
                "value": 0,
                "source": "direct_use_3^   ",
                "time": "*",
                "type": "Nuclear"
              },
              {
                "opacity": 1,
                "target": "uses^Other final consumption (PJ)",
                "title": "Nuclear",
                "color": "red",
                "value": 0,
                "source": "direct_use_3^   ",
                "time": "*",
                "type": "Nuclear"
              },
              {
                "opacity": 1,
                "target": "uses^Residential (PJ)",
                "title": "Nuclear",
                "color": "red",
                "value": 0,
                "source": "direct_use_3^   ",
                "time": "*",
                "type": "Nuclear"
              },
              {
                "opacity": 1,
                "target": "uses^Transport (PJ)",
                "title": "Nuclear",
                "color": "red",
                "value": 0,
                "source": "direct_use_3^   ",
                "time": "*",
                "type": "Nuclear"
              },
              {
                "opacity": 1,
                "target": "uses^Commercial and public services (PJ)",
                "title": "Renewables and waste",
                "color": "green",
                "value": 9.932994594,
                "source": "direct_use_3^    ",
                "time": "*",
                "type": "Renewables and waste"
              },
              {
                "opacity": 1,
                "target": "uses^Industry (PJ)",
                "title": "Renewables and waste",
                "color": "green",
                "value": 51.82199977,
                "source": "direct_use_3^    ",
                "time": "*",
                "type": "Renewables and waste"
              },
              {
                "opacity": 1,
                "target": "uses^Other final consumption (PJ)",
                "title": "Renewables and waste",
                "color": "green",
                "value": 4.696999261,
                "source": "direct_use_3^    ",
                "time": "*",
                "type": "Renewables and waste"
              },
              {
                "opacity": 1,
                "target": "uses^Residential (PJ)",
                "title": "Renewables and waste",
                "color": "green",
                "value": 82.87199939,
                "source": "direct_use_3^    ",
                "time": "*",
                "type": "Renewables and waste"
              },
              {
                "opacity": 1,
                "target": "uses^Transport (PJ)",
                "title": "Renewables and waste",
                "color": "green",
                "value": 68.90072315,
                "source": "direct_use_3^    ",
                "time": "*",
                "type": "Renewables and waste"
              },
              {
                "opacity": 1,
                "target": "uses^Commercial and public services (PJ)",
                "title": "Heat",
                "color": "red",
                "value": 12.49080282,
                "source": "direct_use_3^     ",
                "time": "*",
                "type": "Heat"
              },
              {
                "opacity": 1,
                "target": "uses^Industry (PJ)",
                "title": "Heat",
                "color": "red",
                "value": 28.16773533,
                "source": "direct_use_3^     ",
                "time": "*",
                "type": "Heat"
              },
              {
                "opacity": 1,
                "target": "uses^Other final consumption (PJ)",
                "title": "Heat",
                "color": "red",
                "value": 0.1650478428,
                "source": "direct_use_3^     ",
                "time": "*",
                "type": "Heat"
              },
              {
                "opacity": 1,
                "target": "uses^Residential (PJ)",
                "title": "Heat",
                "color": "red",
                "value": 11.26974772,
                "source": "direct_use_3^     ",
                "time": "*",
                "type": "Heat"
              },
              {
                "opacity": 1,
                "target": "uses^Transport (PJ)",
                "title": "Heat",
                "color": "red",
                "value": 0,
                "source": "direct_use_3^     ",
                "time": "*",
                "type": "Heat"
              },
              {
                "opacity": 1,
                "target": "uses^Commercial and public services (PJ)",
                "title": "Oil products",
                "color": "purple",
                "value": 93.73186358,
                "source": "refining_use_2^_",
                "time": "*",
                "type": "Oil products"
              },
              {
                "opacity": 1,
                "target": "uses^Industry (PJ)",
                "title": "Oil products",
                "color": "purple",
                "value": 89.67388723,
                "source": "refining_use_2^_",
                "time": "*",
                "type": "Oil products"
              },
              {
                "opacity": 1,
                "target": "uses^Other final consumption (PJ)",
                "title": "Oil products",
                "color": "purple",
                "value": 334.4510127,
                "source": "refining_use_2^_",
                "time": "*",
                "type": "Oil products"
              },
              {
                "opacity": 1,
                "target": "uses^Residential (PJ)",
                "title": "Oil products",
                "color": "purple",
                "value": 99.59151208,
                "source": "refining_use_2^_",
                "time": "*",
                "type": "Oil products"
              },
              {
                "opacity": 1,
                "target": "uses^Transport (PJ)",
                "title": "Oil products",
                "color": "purple",
                "value": 1633.125582,
                "source": "refining_use_2^_",
                "time": "*",
                "type": "Oil products"
              },
              {
                "opacity": 1,
                "target": "uses^Commercial and public services (PJ)",
                "title": "Electricity",
                "color": "orange",
                "value": 324.5628587,
                "source": "electricity_use^_",
                "time": "*",
                "type": "Electricity"
              },
              {
                "opacity": 1,
                "target": "uses^Industry (PJ)",
                "title": "Electricity",
                "color": "orange",
                "value": 330.2352065,
                "source": "electricity_use^_",
                "time": "*",
                "type": "Electricity"
              },
              {
                "opacity": 1,
                "target": "uses^Other final consumption (PJ)",
                "title": "Electricity",
                "color": "orange",
                "value": 15.13919666,
                "source": "electricity_use^_",
                "time": "*",
                "type": "Electricity"
              },
              {
                "opacity": 1,
                "target": "uses^Residential (PJ)",
                "title": "Electricity",
                "color": "orange",
                "value": 373.7695152,
                "source": "electricity_use^_",
                "time": "*",
                "type": "Electricity"
              },
              {
                "opacity": 1,
                "target": "uses^Transport (PJ)",
                "title": "Electricity",
                "color": "orange",
                "value": 19.64106173,
                "source": "electricity_use^_",
                "time": "*",
                "type": "Electricity"
              }
            ],
            "_view_module": "jupyter-sankey-widget",
            "_model_module_version": "^0.4.1",
            "_view_count": null,
            "linkLabelFormat": "",
            "margins": {
              "right": 200,
              "left": 100
            },
            "_model_module": "jupyter-sankey-widget",
            "scale": 0.014497418107498581,
            "layout": "IPY_MODEL_50baf3c2c9f14a06aea29b08b69fb3d9",
            "linkLabelMinWidth": 5,
            "nodes": [
              {
                "direction": "r",
                "hidden": false,
                "type": "process",
                "id": "imports^*",
                "title": "Imports"
              },
              {
                "direction": "r",
                "hidden": false,
                "type": "process",
                "id": "sources^Coal, peat and oil shale",
                "title": "Coal, peat and oil shale"
              },
              {
                "direction": "r",
                "hidden": false,
                "type": "process",
                "id": "sources^Crude, NGL and feedstocks",
                "title": "Crude, NGL and feedstocks"
              },
              {
                "direction": "r",
                "hidden": false,
                "type": "process",
                "id": "sources^Natural gas",
                "title": "Natural gas"
              },
              {
                "direction": "r",
                "hidden": false,
                "type": "process",
                "id": "sources^Nuclear",
                "title": "Nuclear"
              },
              {
                "direction": "r",
                "hidden": false,
                "type": "process",
                "id": "sources^Renewables and waste",
                "title": "Renewables and waste"
              },
              {
                "direction": "r",
                "hidden": false,
                "type": "process",
                "id": "sources^Heat",
                "title": "Heat"
              },
              {
                "direction": "r",
                "hidden": false,
                "type": "group",
                "id": "__>refining^*",
                "title": "→"
              },
              {
                "direction": "r",
                "hidden": false,
                "type": "group",
                "id": "import_refining^_",
                "title": "_"
              },
              {
                "direction": "r",
                "hidden": false,
                "type": "group",
                "id": "import_electricity^_",
                "title": "_"
              },
              {
                "direction": "r",
                "hidden": true,
                "type": "group",
                "id": "direct_use^",
                "title": ""
              },
              {
                "direction": "r",
                "hidden": false,
                "type": "group",
                "id": "direct_use^ ",
                "title": " "
              },
              {
                "direction": "r",
                "hidden": false,
                "type": "group",
                "id": "direct_use^  ",
                "title": "  "
              },
              {
                "direction": "r",
                "hidden": false,
                "type": "group",
                "id": "direct_use^   ",
                "title": "   "
              },
              {
                "direction": "r",
                "hidden": false,
                "type": "group",
                "id": "direct_use^    ",
                "title": "    "
              },
              {
                "direction": "r",
                "hidden": false,
                "type": "group",
                "id": "direct_use^     ",
                "title": "     "
              },
              {
                "direction": "r",
                "hidden": false,
                "type": "process",
                "id": "refining^*",
                "title": "Refining"
              },
              {
                "direction": "r",
                "hidden": false,
                "type": "group",
                "id": "import_electricity_2^_",
                "title": "_"
              },
              {
                "direction": "r",
                "hidden": true,
                "type": "group",
                "id": "direct_use_2^",
                "title": ""
              },
              {
                "direction": "r",
                "hidden": false,
                "type": "group",
                "id": "direct_use_2^ ",
                "title": " "
              },
              {
                "direction": "r",
                "hidden": false,
                "type": "group",
                "id": "direct_use_2^  ",
                "title": "  "
              },
              {
                "direction": "r",
                "hidden": false,
                "type": "group",
                "id": "direct_use_2^   ",
                "title": "   "
              },
              {
                "direction": "r",
                "hidden": false,
                "type": "group",
                "id": "direct_use_2^    ",
                "title": "    "
              },
              {
                "direction": "r",
                "hidden": false,
                "type": "group",
                "id": "direct_use_2^     ",
                "title": "     "
              },
              {
                "direction": "r",
                "hidden": false,
                "type": "group",
                "id": "refining_use^_",
                "title": "_"
              },
              {
                "direction": "r",
                "hidden": false,
                "type": "process",
                "id": "electricity^*",
                "title": "Electricity\n Generation"
              },
              {
                "direction": "r",
                "hidden": true,
                "type": "group",
                "id": "direct_use_3^",
                "title": ""
              },
              {
                "direction": "r",
                "hidden": false,
                "type": "group",
                "id": "direct_use_3^ ",
                "title": " "
              },
              {
                "direction": "r",
                "hidden": false,
                "type": "group",
                "id": "direct_use_3^  ",
                "title": "  "
              },
              {
                "direction": "r",
                "hidden": false,
                "type": "group",
                "id": "direct_use_3^   ",
                "title": "   "
              },
              {
                "direction": "r",
                "hidden": false,
                "type": "group",
                "id": "direct_use_3^    ",
                "title": "    "
              },
              {
                "direction": "r",
                "hidden": false,
                "type": "group",
                "id": "direct_use_3^     ",
                "title": "     "
              },
              {
                "direction": "r",
                "hidden": false,
                "type": "group",
                "id": "refining_use_2^_",
                "title": "_"
              },
              {
                "direction": "r",
                "hidden": false,
                "type": "group",
                "id": "electricity_use^_",
                "title": "_"
              },
              {
                "direction": "r",
                "hidden": false,
                "type": "group",
                "id": "__electricity>^*",
                "title": "→"
              },
              {
                "direction": "r",
                "hidden": false,
                "type": "process",
                "id": "exports^*",
                "title": "Exports"
              },
              {
                "direction": "r",
                "hidden": false,
                "type": "process",
                "id": "uses^Industry (PJ)",
                "title": "Industry (PJ)"
              },
              {
                "direction": "r",
                "hidden": false,
                "type": "process",
                "id": "uses^Transport (PJ)",
                "title": "Transport (PJ)"
              },
              {
                "direction": "r",
                "hidden": false,
                "type": "process",
                "id": "uses^Residential (PJ)",
                "title": "Residential (PJ)"
              },
              {
                "direction": "r",
                "hidden": false,
                "type": "process",
                "id": "uses^Commercial and public services (PJ)",
                "title": "Commercial and public services (PJ)"
              },
              {
                "direction": "r",
                "hidden": false,
                "type": "process",
                "id": "uses^Other final consumption (PJ)",
                "title": "Other final consumption (PJ)"
              }
            ],
            "rank_sets": [],
            "_dom_classes": [],
            "_model_name": "SankeyModel",
            "groups": [
              {
                "nodes": [
                  "sources^Coal, peat and oil shale",
                  "sources^Crude, NGL and feedstocks",
                  "sources^Natural gas",
                  "sources^Nuclear",
                  "sources^Renewables and waste",
                  "sources^Heat"
                ],
                "type": "process",
                "id": "sources",
                "title": "Sources"
              },
              {
                "nodes": [
                  "import_refining^_"
                ],
                "type": "group",
                "id": "import_refining",
                "title": ""
              },
              {
                "nodes": [
                  "import_electricity^_"
                ],
                "type": "group",
                "id": "import_electricity",
                "title": ""
              },
              {
                "nodes": [
                  "direct_use^",
                  "direct_use^ ",
                  "direct_use^  ",
                  "direct_use^   ",
                  "direct_use^    ",
                  "direct_use^     "
                ],
                "type": "group",
                "id": "direct_use",
                "title": ""
              },
              {
                "nodes": [
                  "import_electricity_2^_"
                ],
                "type": "group",
                "id": "import_electricity_2",
                "title": ""
              },
              {
                "nodes": [
                  "direct_use_2^",
                  "direct_use_2^ ",
                  "direct_use_2^  ",
                  "direct_use_2^   ",
                  "direct_use_2^    ",
                  "direct_use_2^     "
                ],
                "type": "group",
                "id": "direct_use_2",
                "title": ""
              },
              {
                "nodes": [
                  "refining_use^_"
                ],
                "type": "group",
                "id": "refining_use",
                "title": ""
              },
              {
                "nodes": [
                  "direct_use_3^",
                  "direct_use_3^ ",
                  "direct_use_3^  ",
                  "direct_use_3^   ",
                  "direct_use_3^    ",
                  "direct_use_3^     "
                ],
                "type": "group",
                "id": "direct_use_3",
                "title": ""
              },
              {
                "nodes": [
                  "refining_use_2^_"
                ],
                "type": "group",
                "id": "refining_use_2",
                "title": ""
              },
              {
                "nodes": [
                  "electricity_use^_"
                ],
                "type": "group",
                "id": "electricity_use",
                "title": ""
              },
              {
                "nodes": [
                  "uses^Industry (PJ)",
                  "uses^Transport (PJ)",
                  "uses^Residential (PJ)",
                  "uses^Commercial and public services (PJ)",
                  "uses^Other final consumption (PJ)"
                ],
                "type": "process",
                "id": "uses",
                "title": "Uses"
              }
            ],
            "png": "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",
            "show_link_info_html": false,
            "align_link_types": false,
            "svg": "<?xml version=\"1.0\" standalone=\"no\"?><!DOCTYPE svg PUBLIC \"-//W3C//DTD SVG 1.1//EN\" \"http://www.w3.org/Graphics/SVG/1.1/DTD/svg11.dtd\"><svg xmlns=\"http://www.w3.org/2000/svg\" width=\"900\" height=\"500\" viewBox=\"0 0 900 500\" style=\"font-family: &quot;Helvetica Neue&quot;, Helvetica, Arial, sans-serif;\"><g class=\"sankey\" transform=\"translate(100,10)\"><g class=\"groups\"><g class=\"group\" transform=\"translate(119.8,31.042330980860015)\" style=\"display: inline;\"><rect x=\"-10\" y=\"-20\" width=\"21\" height=\"259.37700304407184\" style=\"fill: rgb(238, 238, 238); stroke: rgb(187, 187, 187); stroke-width: 0.5;\"/><text x=\"-10\" y=\"-25\" style=\"fill: rgb(153, 153, 153);\">Sources</text></g><g class=\"group\" transform=\"translate(119.8,327.38097882774014)\" style=\"display: none;\"><rect x=\"-10\" y=\"-20\" width=\"21\" height=\"50.6987916491471\" style=\"fill: rgb(238, 238, 238); stroke: rgb(187, 187, 187); stroke-width: 0.5;\"/><text x=\"-10\" y=\"-25\" style=\"fill: rgb(153, 153, 153);\"/></g><g class=\"group\" transform=\"translate(119.8,461.76075759717116)\" style=\"display: none;\"><rect x=\"-10\" y=\"-20\" width=\"21\" height=\"31.28157338368885\" style=\"fill: rgb(238, 238, 238); stroke: rgb(187, 187, 187); stroke-width: 0.5;\"/><text x=\"-10\" y=\"-25\" style=\"fill: rgb(153, 153, 153);\"/></g><g class=\"group\" transform=\"translate(239.6,31.042330980860015)\" style=\"display: none;\"><rect x=\"-10\" y=\"-20\" width=\"21\" height=\"204.985326012402\" style=\"fill: rgb(238, 238, 238); stroke: rgb(187, 187, 187); stroke-width: 0.5;\"/><text x=\"-10\" y=\"-25\" style=\"fill: rgb(153, 153, 153);\"/></g><g class=\"group\" transform=\"translate(239.6,394.57086821245565)\" style=\"display: none;\"><rect x=\"-10\" y=\"-20\" width=\"21\" height=\"31.28157338368885\" style=\"fill: rgb(238, 238, 238); stroke: rgb(187, 187, 187); stroke-width: 0.5;\"/><text x=\"-10\" y=\"-25\" style=\"fill: rgb(153, 153, 153);\"/></g><g class=\"group\" transform=\"translate(359.4,31.042330980860015)\" style=\"display: none;\"><rect x=\"-10\" y=\"-20\" width=\"21\" height=\"161.44844195030683\" style=\"fill: rgb(238, 238, 238); stroke: rgb(187, 187, 187); stroke-width: 0.5;\"/><text x=\"-10\" y=\"-25\" style=\"fill: rgb(153, 153, 153);\"/></g><g class=\"group\" transform=\"translate(359.4,179.81979502847986)\" style=\"display: none;\"><rect x=\"-10\" y=\"-20\" width=\"21\" height=\"75.4207973825236\" style=\"fill: rgb(238, 238, 238); stroke: rgb(187, 187, 187); stroke-width: 0.5;\"/><text x=\"-10\" y=\"-25\" style=\"fill: rgb(153, 153, 153);\"/></g><g class=\"group\" transform=\"translate(479.2,31.042330980860015)\" style=\"display: none;\"><rect x=\"-10\" y=\"-20\" width=\"21\" height=\"144.7620046893258\" style=\"fill: rgb(238, 238, 238); stroke: rgb(187, 187, 187); stroke-width: 0.5;\"/><text x=\"-10\" y=\"-25\" style=\"fill: rgb(153, 153, 153);\"/></g><g class=\"group\" transform=\"translate(479.2,174.31544725339333)\" style=\"display: none;\"><rect x=\"-10\" y=\"-20\" width=\"21\" height=\"62.62751019528818\" style=\"fill: rgb(238, 238, 238); stroke: rgb(187, 187, 187); stroke-width: 0.5;\"/><text x=\"-10\" y=\"-25\" style=\"fill: rgb(153, 153, 153);\"/></g><g class=\"group\" transform=\"translate(479.2,235.45406903188902)\" style=\"display: none;\"><rect x=\"-10\" y=\"-20\" width=\"21\" height=\"45.41579821264364\" style=\"fill: rgb(238, 238, 238); stroke: rgb(187, 187, 187); stroke-width: 0.5;\"/><text x=\"-10\" y=\"-25\" style=\"fill: rgb(153, 153, 153);\"/></g><g class=\"group\" transform=\"translate(599,31.042330980860015)\" style=\"display: inline;\"><rect x=\"-10\" y=\"-20\" width=\"21\" height=\"278.3386478468801\" style=\"fill: rgb(238, 238, 238); stroke: rgb(187, 187, 187); stroke-width: 0.5;\"/><text x=\"-10\" y=\"-25\" style=\"fill: rgb(153, 153, 153);\">Uses</text></g></g><g class=\"links\"><g class=\"link\" style=\"opacity: 0.8;\"><path d=\"M1,415.6254624193141 A51.695640853602285 51.695640853602285 1.2256482004340994 0 0 49.64690834366771,381.4203216119491 L84.95532643845229,283.2158463667488 A37.02841128922955 37.02841128922955 1.2256482004340994 0 1 119.8,258.71548229141183 L119.8,258.71548229141183 A37.02841128922955 37.02841128922955 1.2256482004340994 0 0 84.95532643845229,283.2158463667488 L49.64690834366771,381.4203216119491 A51.695640853602285 51.695640853602285 1.2256482004340994 0 1 1,415.6254624193141 Z\" style=\"fill: rgb(255, 0, 0);\"/><title>Imports → Heat\nHeat\n0.00</title><text class=\"label\" dy=\"0.35em\" x=\"5\" y=\"415.6254624193141\"/></g><g class=\"link\" style=\"opacity: 0.8;\"><path d=\"M1,412.7102085600375 A48.78038699432568 48.78038699432568 1.3632303259460605 0 0 48.73333590668173,373.9824231462016 L78.67968395484027,231.78648718715374 A42.02230772082052 42.02230772082052 1.3632303259460605 0 1 119.8,198.42408446174232 L119.8,198.42408446174232 A42.02230772082052 42.02230772082052 1.3632303259460605 0 0 78.67968395484027,231.78648718715374 L48.73333590668173,373.9824231462016 A48.78038699432568 48.78038699432568 1.3632303259460605 0 1 1,412.7102085600375 Z\" style=\"fill: rgb(255, 0, 0);\"/><title>Imports → Nuclear\nNuclear\n0.00</title><text class=\"label\" dy=\"0.35em\" x=\"5\" y=\"412.7102085600375\"/></g><g class=\"link\" style=\"opacity: 0.8;\"><path d=\"M120.8,33.91400048791534 A39.4278625103742 39.4278625103742 1.1984352946690238 0 1 157.52590902733573,58.99738851321926 L214.25424014753526,204.2379499685328 A27.210466974149636 27.210466974149636 1.1984352946690238 0 0 239.6,221.54882248369202 L239.6,221.54882248369202 A27.210466974149636 27.210466974149636 1.1984352946690238 0 1 214.25424014753526,204.2379499685328 L157.52590902733573,58.99738851321926 A39.4278625103742 39.4278625103742 1.1984352946690238 0 0 120.8,33.91400048791534 Z\" style=\"fill: rgb(0, 0, 0);\"/><title>Coal, peat and oil shale → Refining\nCoal, peat and oil shale\n0.00</title><text class=\"label\" dy=\"0.35em\" x=\"124.8\" y=\"33.91400048791534\"/></g><g class=\"link\" style=\"opacity: 0.8;\"><path d=\"M120.8,179.46243965893416 A38.60629900143039 38.60629900143039 0.8184420188566204 0 1 148.98576611181394,191.68675785379952 L192.62372314697677,238.30832352048412 A64.34383166905066 64.34383166905066 0.8184420188566204 0 0 239.6,258.68218717859304 L239.6,258.68218717859304 A64.34383166905066 64.34383166905066 0.8184420188566204 0 1 192.62372314697677,238.30832352048412 L148.98576611181394,191.68675785379952 A38.60629900143039 38.60629900143039 0.8184420188566204 0 0 120.8,179.46243965893416 Z\" style=\"fill: rgb(70, 130, 180);\"/><title>Natural gas → Refining\nNatural gas\n0.00</title><text class=\"label\" dy=\"0.35em\" x=\"124.8\" y=\"179.46243965893416\"/></g><g class=\"link\" style=\"opacity: 0.8;\"><path d=\"M120.8,207.30977878409303 A48.915064139892 48.915064139892 0.5272738815301314 0 1 145.41305024451458,213.95332464665378 L207.22351251823525,249.94313706830994 A64.34383166905066 64.34383166905066 0.5272738815301314 0 0 239.6,258.68218717859304 L239.6,258.68218717859304 A64.34383166905066 64.34383166905066 0.5272738815301314 0 1 207.22351251823525,249.94313706830994 L145.41305024451458,213.95332464665378 A48.915064139892 48.915064139892 0.5272738815301314 0 0 120.8,207.30977878409303 Z\" style=\"fill: rgb(255, 0, 0);\"/><title>Nuclear → Refining\nNuclear\n0.00</title><text class=\"label\" dy=\"0.35em\" x=\"124.8\" y=\"207.30977878409303\"/></g><g class=\"link\" style=\"opacity: 0.8;\"><path d=\"M120.8,239.75383748860366 A114.68291736209974 114.68291736209974 0.19364564077452595 0 1 142.86931302692216,241.89735305203592 L217.53068697307785,256.5386716151608 A114.68291736209974 114.68291736209974 0.19364564077452595 0 0 239.6,258.68218717859304 L239.6,258.68218717859304 A114.68291736209974 114.68291736209974 0.19364564077452595 0 1 217.53068697307785,256.5386716151608 L142.86931302692216,241.89735305203592 A114.68291736209974 114.68291736209974 0.19364564077452595 0 0 120.8,239.75383748860366 Z\" style=\"fill: rgb(0, 128, 0);\"/><title>Renewables and waste → Refining\nRenewables and waste\n0.00</title><text class=\"label\" dy=\"0.35em\" x=\"124.8\" y=\"239.75383748860366\"/></g><g class=\"link\" style=\"opacity: 0.8;\"><path d=\"M120.8,260.41933402493186 A1000 1000 0.017075362912777337 0 0 137.8745331532521,260.2735535577588 L222.5254668467479,258.8279676457661 A1000 1000 0.017075362912777337 0 1 239.6,258.68218717859304 L239.6,258.68218717859304 A1000 1000 0.017075362912777337 0 0 222.5254668467479,258.8279676457661 L137.8745331532521,260.2735535577588 A1000 1000 0.017075362912777337 0 1 120.8,260.41933402493186 Z\" style=\"fill: rgb(255, 0, 0);\"/><title>Heat → Refining\nHeat\n0.00</title><text class=\"label\" dy=\"0.35em\" x=\"124.8\" y=\"260.41933402493186\"/></g><g class=\"link\" style=\"opacity: 0.8;\"><path d=\"M120.8,279.3809788277401 A105.38209347356306 105.38209347356306 0.21143052566332732 0 0 142.9153580334083,277.0342994792483 L217.4846419665917,261.0288665270848 A105.38209347356306 105.38209347356306 0.21143052566332732 0 1 239.6,258.68218717859304 L239.6,258.68218717859304 A105.38209347356306 105.38209347356306 0.21143052566332732 0 0 217.4846419665917,261.0288665270848 L142.9153580334083,277.0342994792483 A105.38209347356306 105.38209347356306 0.21143052566332732 0 1 120.8,279.3809788277401 Z\" style=\"fill: rgb(255, 165, 0);\"/><title>→ → Refining\nElectricity\n0.00</title><text class=\"label\" dy=\"0.35em\" x=\"124.8\" y=\"279.3809788277401\"/></g><g class=\"link\" style=\"opacity: 0.8;\"><path d=\"M240.6,77.68852227742047 A37.66763002555584 37.66763002555584 1.1621233189872018 0 1 275.16566176890524,100.38733878219928 L328.5298086195644,223.61467727938725 A33.6405232311332 33.6405232311332 1.1621233189872018 0 0 359.4,243.88672687290222 L359.4,243.88672687290222 A33.6405232311332 33.6405232311332 1.1621233189872018 0 1 328.5298086195644,223.61467727938725 L275.16566176890524,100.38733878219928 A37.66763002555584 37.66763002555584 1.1621233189872018 0 0 240.6,77.68852227742047 Z\" style=\"fill: rgb(128, 128, 128);\"/><title>  → Electricity\n Generation\nCrude, NGL and feedstocks\n0.00</title><text class=\"label\" dy=\"0.35em\" x=\"244.6\" y=\"77.68852227742047\"/></g><g class=\"link\" style=\"opacity: 0.8;\"><path d=\"M240.6,150.9133660548288 A215.62710887757135 215.62710887757135 0.10172649149402035 0 0 262.49717726182735,149.79864309206684 L337.5028227381726,142.14215319928476 A215.62710887757135 215.62710887757135 0.10172649149402035 0 1 359.4,141.0274302365228 L359.4,141.0274302365228 A215.62710887757135 215.62710887757135 0.10172649149402035 0 0 337.5028227381726,142.14215319928476 L262.49717726182735,149.79864309206684 A215.62710887757135 215.62710887757135 0.10172649149402035 0 1 240.6,150.9133660548288 Z\" style=\"fill: rgb(255, 0, 0);\"/><title>    →    \nNuclear\n0.00</title><text class=\"label\" dy=\"0.35em\" x=\"244.6\" y=\"150.9133660548288\"/></g><g class=\"link\" style=\"opacity: 0.8;\"><path d=\"M360.4,49.92591022064259 A196.61746595302162 196.61746595302162 0.1116694018313491 0 1 382.3105508452568,51.15055215127327 L457.2894491547432,59.558378651304245 A196.61746595302162 196.61746595302162 0.1116694018313491 0 0 479.2,60.78302058193492 L479.2,60.78302058193492 A196.61746595302162 196.61746595302162 0.1116694018313491 0 1 457.2894491547432,59.558378651304245 L382.3105508452568,51.15055215127327 A196.61746595302162 196.61746595302162 0.1116694018313491 0 0 360.4,49.92591022064259 Z\" style=\"fill: rgb(128, 128, 128);\"/><title>  →  \nCrude, NGL and feedstocks\n0.00</title><text class=\"label\" dy=\"0.35em\" x=\"364.4\" y=\"49.92591022064259\"/></g><g class=\"link\" style=\"opacity: 0.8;\"><path d=\"M360.4,141.0274302365228 A47.611306225748784 47.611306225748784 1.4433587467858402 0 1 407.6252173438424,182.58767644365764 L430.6432806994569,362.2310846166652 A48.95369385181491 48.95369385181491 1.4433587467858402 0 0 479.2,404.9631104842906 L479.2,404.9631104842906 A48.95369385181491 48.95369385181491 1.4433587467858402 0 1 430.6432806994569,362.2310846166652 L407.6252173438424,182.58767644365764 A47.611306225748784 47.611306225748784 1.4433587467858402 0 0 360.4,141.0274302365228 Z\" style=\"fill: rgb(255, 0, 0);\"/><title>    → Exports\nNuclear\n0.00</title><text class=\"label\" dy=\"0.35em\" x=\"364.4\" y=\"141.0274302365228\"/></g><g class=\"link\" style=\"opacity: 0.8;\"><path d=\"M360.4,141.0274302365228 A80.70410359334785 80.70410359334785 0.28040299805547186 0 0 382.7342900579838,137.8754499178582 L456.86570994201617,116.52629061456082 A80.70410359334785 80.70410359334785 0.28040299805547186 0 1 479.2,113.37431029589621 L479.2,113.37431029589621 A80.70410359334785 80.70410359334785 0.28040299805547186 0 0 456.86570994201617,116.52629061456082 L382.7342900579838,137.8754499178582 A80.70410359334785 80.70410359334785 0.28040299805547186 0 1 360.4,141.0274302365228 Z\" style=\"fill: rgb(255, 0, 0);\"/><title>    →    \nNuclear\n0.00</title><text class=\"label\" dy=\"0.35em\" x=\"364.4\" y=\"141.0274302365228\"/></g><g class=\"link\" style=\"opacity: 0.8;\"><path d=\"M360.4,162.49077293116684 A45.12637100091404 45.12637100091404 1.4147570443329651 0 1 404.9781105343233,200.60419726881685 L430.6282767394692,363.6506311318352 A49.16910065806383 49.16910065806383 1.4147570443329651 0 0 479.2,405.1785172905395 L479.2,405.1785172905395 A49.16910065806383 49.16910065806383 1.4147570443329651 0 1 430.6282767394692,363.6506311318352 L404.9781105343233,200.60419726881685 A45.12637100091404 45.12637100091404 1.4147570443329651 0 0 360.4,162.49077293116684 Z\" style=\"fill: rgb(255, 0, 0);\"/><title>      → Exports\nHeat\n0.00</title><text class=\"label\" dy=\"0.35em\" x=\"364.4\" y=\"162.49077293116684\"/></g><g class=\"link\" style=\"opacity: 0.8;\"><path d=\"M360.4,257.9854127209601 A102.1558170719221 102.1558170719221 0.21840684476499983 0 1 382.53456984752927,260.4122381239755 L457.0654301524707,276.9541534247247 A102.1558170719221 102.1558170719221 0.21840684476499983 0 0 479.2,279.38097882774014 L479.2,279.38097882774014 A102.1558170719221 102.1558170719221 0.21840684476499983 0 1 457.0654301524707,276.9541534247247 L382.53456984752927,260.4122381239755 A102.1558170719221 102.1558170719221 0.21840684476499983 0 0 360.4,257.9854127209601 Z\" style=\"fill: rgb(255, 165, 0);\"/><title>Electricity\n Generation → →\nElectricity\n0.00</title><text class=\"label\" dy=\"0.35em\" x=\"364.4\" y=\"257.9854127209601\"/></g><g class=\"link\" style=\"opacity: 0.8;\"><path d=\"M480.2,60.78302058193492 A41.86091220579267 41.86091220579267 1.1909986449634018 0 1 519.0778893910522,87.1247289680016 L562.3382298286612,195.49824800219656 A39.47475458388893 39.47475458388893 1.1909986449634018 0 0 599,220.3384251284958 L599,220.3384251284958 A39.47475458388893 39.47475458388893 1.1909986449634018 0 1 562.3382298286612,195.49824800219656 L519.0778893910522,87.1247289680016 A41.86091220579267 41.86091220579267 1.1909986449634018 0 0 480.2,60.78302058193492 Z\" style=\"fill: rgb(128, 128, 128);\"/><title>  → Commercial and public services (PJ)\nCrude, NGL and feedstocks\n0.00</title><text class=\"label\" dy=\"0.35em\" x=\"484.2\" y=\"60.78302058193492\"/></g><g class=\"link\" style=\"opacity: 0.8;\"><path d=\"M480.2,60.78302058193492 A77.69696734752803 77.69696734752803 0.2934872949635179 0 0 502.6771234013787,57.46076438411174 L575.8277574576463,35.353574948951845 A80.09979480167037 80.09979480167037 0.2934872949635179 0 1 599,31.928575894176245 L599,31.928575894176245 A80.09979480167037 80.09979480167037 0.2934872949635179 0 0 575.8277574576463,35.353574948951845 L502.6771234013787,57.46076438411174 A77.69696734752803 77.69696734752803 0.2934872949635179 0 1 480.2,60.78302058193492 Z\" style=\"fill: rgb(128, 128, 128);\"/><title>  → Industry (PJ)\nCrude, NGL and feedstocks\n0.00</title><text class=\"label\" dy=\"0.35em\" x=\"484.2\" y=\"60.78302058193492\"/></g><g class=\"link\" style=\"opacity: 0.8;\"><path d=\"M480.2,60.78302058193492 A41.86091220579267 41.86091220579267 1.3399046891906048 0 1 520.9500380711481,93.0642476206119 L555.2163717837972,238.82628248814592 A44.977200109837625 44.977200109837625 1.3399046891906048 0 0 599,273.51064868570717 L599,273.51064868570717 A44.977200109837625 44.977200109837625 1.3399046891906048 0 1 555.2163717837972,238.82628248814592 L520.9500380711481,93.0642476206119 A41.86091220579267 41.86091220579267 1.3399046891906048 0 0 480.2,60.78302058193492 Z\" style=\"fill: rgb(128, 128, 128);\"/><title>  → Other final consumption (PJ)\nCrude, NGL and feedstocks\n0.00</title><text class=\"label\" dy=\"0.35em\" x=\"484.2\" y=\"60.78302058193492\"/></g><g class=\"link\" style=\"opacity: 0.8;\"><path d=\"M480.2,60.78302058193492 A41.86091220579267 41.86091220579267 0.8440986432305008 0 1 511.48569668922926,74.83132497453198 L571.6296606731333,142.48574370169686 A36.62208270398416 36.62208270398416 0.8440986432305008 0 0 599,154.77592416377576 L599,154.77592416377576 A36.62208270398416 36.62208270398416 0.8440986432305008 0 1 571.6296606731333,142.48574370169686 L511.48569668922926,74.83132497453198 A41.86091220579267 41.86091220579267 0.8440986432305008 0 0 480.2,60.78302058193492 Z\" style=\"fill: rgb(128, 128, 128);\"/><title>  → Residential (PJ)\nCrude, NGL and feedstocks\n0.00</title><text class=\"label\" dy=\"0.35em\" x=\"484.2\" y=\"60.78302058193492\"/></g><g class=\"link\" style=\"opacity: 0.8;\"><path d=\"M480.2,60.78302058193492 A85.40844509012678 85.40844509012678 0.2638670423463363 0 1 502.47586265379107,63.73912528233936 L576.724137346209,83.79852397874573 A85.40844509012678 85.40844509012678 0.2638670423463363 0 0 599,86.75462867915017 L599,86.75462867915017 A85.40844509012678 85.40844509012678 0.2638670423463363 0 1 576.724137346209,83.79852397874573 L502.47586265379107,63.73912528233936 A85.40844509012678 85.40844509012678 0.2638670423463363 0 0 480.2,60.78302058193492 Z\" style=\"fill: rgb(128, 128, 128);\"/><title>  → Transport (PJ)\nCrude, NGL and feedstocks\n0.00</title><text class=\"label\" dy=\"0.35em\" x=\"484.2\" y=\"60.78302058193492\"/></g><g class=\"link\" style=\"opacity: 0.8;\"><path d=\"M480.2,65.5886754902196 A103.19476834625654 103.19476834625654 0.21610937771289707 0 1 502.32817105806924,67.98907762654169 L576.8718289419307,84.35422654282809 A103.19476834625654 103.19476834625654 0.21610937771289707 0 0 599,86.75462867915017 L599,86.75462867915017 A103.19476834625654 103.19476834625654 0.21610937771289707 0 1 576.8718289419307,84.35422654282809 L502.32817105806924,67.98907762654169 A103.19476834625654 103.19476834625654 0.21610937771289707 0 0 480.2,65.5886754902196 Z\" style=\"fill: rgb(70, 130, 180);\"/><title>   → Transport (PJ)\nNatural gas\n0.00</title><text class=\"label\" dy=\"0.35em\" x=\"484.2\" y=\"65.5886754902196\"/></g><g class=\"link\" style=\"opacity: 0.8;\"><path d=\"M480.2,113.37431029589621 A37.2901590030671 37.2901590030671 0.9680985832461719 0 1 510.9199817558823,129.52591023283287 L563.197688145373,205.49940405047522 A43.45946271536416 43.45946271536416 0.9680985832461719 0 0 599,224.32313325997103 L599,224.32313325997103 A43.45946271536416 43.45946271536416 0.9680985832461719 0 1 563.197688145373,205.49940405047522 L510.9199817558823,129.52591023283287 A37.2901590030671 37.2901590030671 0.9680985832461719 0 0 480.2,113.37431029589621 Z\" style=\"fill: rgb(255, 0, 0);\"/><title>    → Commercial and public services (PJ)\nNuclear\n0.00</title><text class=\"label\" dy=\"0.35em\" x=\"484.2\" y=\"113.37431029589621\"/></g><g class=\"link\" style=\"opacity: 0.8;\"><path d=\"M480.2,113.37431029589621 A39.11884339800061 39.11884339800061 0.7221491015325439 0 0 506.0575106888865,103.60973489713915 L569.2026534624584,47.986606966952635 A45.079271044409865 45.079271044409865 0.7221491015325439 0 1 599,36.73423080246093 L599,36.73423080246093 A45.079271044409865 45.079271044409865 0.7221491015325439 0 0 569.2026534624584,47.986606966952635 L506.0575106888865,103.60973489713915 A39.11884339800061 39.11884339800061 0.7221491015325439 0 1 480.2,113.37431029589621 Z\" style=\"fill: rgb(255, 0, 0);\"/><title>    → Industry (PJ)\nNuclear\n0.00</title><text class=\"label\" dy=\"0.35em\" x=\"484.2\" y=\"113.37431029589621\"/></g><g class=\"link\" style=\"opacity: 0.8;\"><path d=\"M480.2,113.37431029589621 A37.2901590030671 37.2901590030671 1.2042376121734784 0 1 515.0128336986558,137.29949386524996 L556.3277253765965,244.915737560994 A45.70888769076856 45.70888769076856 1.2042376121734784 0 0 599,274.2423362666381 L599,274.2423362666381 A45.70888769076856 45.70888769076856 1.2042376121734784 0 1 556.3277253765965,244.915737560994 L515.0128336986558,137.29949386524996 A37.2901590030671 37.2901590030671 1.2042376121734784 0 0 480.2,113.37431029589621 Z\" style=\"fill: rgb(255, 0, 0);\"/><title>    → Other final consumption (PJ)\nNuclear\n0.00</title><text class=\"label\" dy=\"0.35em\" x=\"484.2\" y=\"113.37431029589621\"/></g><g class=\"link\" style=\"opacity: 0.8;\"><path d=\"M480.2,113.37431029589621 A46.22501524430812 46.22501524430812 0.5497072898363133 0 1 504.34968898029416,120.18429596401884 L572.2615305352981,161.79405420261924 A51.18021021404712 51.18021021404712 0.5497072898363133 0 0 599,169.3340516738387 L599,169.3340516738387 A51.18021021404712 51.18021021404712 0.5497072898363133 0 1 572.2615305352981,161.79405420261924 L504.34968898029416,120.18429596401884 A46.22501524430812 46.22501524430812 0.5497072898363133 0 0 480.2,113.37431029589621 Z\" style=\"fill: rgb(255, 0, 0);\"/><title>    → Residential (PJ)\nNuclear\n0.00</title><text class=\"label\" dy=\"0.35em\" x=\"484.2\" y=\"113.37431029589621\"/></g><g class=\"link\" style=\"opacity: 0.8;\"><path d=\"M480.2,113.37431029589621 A83.5211761514041 83.5211761514041 0.2702515511405137 0 0 502.49797128293613,110.34280641602784 L576.7020287170639,89.78613255901854 A83.5211761514041 83.5211761514041 0.2702515511405137 0 1 599,86.75462867915017 L599,86.75462867915017 A83.5211761514041 83.5211761514041 0.2702515511405137 0 0 576.7020287170639,89.78613255901854 L502.49797128293613,110.34280641602784 A83.5211761514041 83.5211761514041 0.2702515511405137 0 1 480.2,113.37431029589621 Z\" style=\"fill: rgb(255, 0, 0);\"/><title>    → Transport (PJ)\nNuclear\n0.00</title><text class=\"label\" dy=\"0.35em\" x=\"484.2\" y=\"113.37431029589621\"/></g><g class=\"link\" style=\"opacity: 0.8;\"><path d=\"M480.2,145.45747626695828 A45.34312566925478 45.34312566925478 0.5843679572974323 0 0 505.21454780692187,137.93328029531727 L566.1340076006031,97.63936527537298 A59.57520540100473 59.57520540100473 0.5843679572974323 0 1 599,87.75351127056473 L599,87.75351127056473 A59.57520540100473 59.57520540100473 0.5843679572974323 0 0 566.1340076006031,97.63936527537298 L505.21454780692187,137.93328029531727 A45.34312566925478 45.34312566925478 0.5843679572974323 0 1 480.2,145.45747626695828 Z\" style=\"fill: rgb(255, 0, 0);\"/><title>      → Transport (PJ)\nHeat\n0.00</title><text class=\"label\" dy=\"0.35em\" x=\"484.2\" y=\"145.45747626695828\"/></g><g class=\"link\" style=\"opacity: 0.8;\"><path d=\"M480.2,144.80313928639342 A36.75001771431252 36.75001771431252 1.0687096216187317 0 1 512.4143390620401,163.86699967928075 L559.7483339476448,250.08320440333043 A44.7781784366983 44.7781784366983 1.0687096216187317 0 0 599,273.3116270125679 L599,275.3116270125679 A46.7781784366983 46.7781784366983 1.0687096216187317 0 1 557.9951734832082,251.04571590244936 L510.66117859760345,164.82951117839968 A34.75001771431252 34.75001771431252 1.0687096216187317 0 0 480.2,146.80313928639342 Z\" style=\"fill: rgb(255, 0, 0);\"/><title>      → Other final consumption (PJ)\nHeat\n165m</title><text class=\"label\" dy=\"0.35em\" x=\"484.2\" y=\"145.80313928639342\"/></g><g class=\"link\" style=\"opacity: 0.8;\"><path d=\"M480.2,30.93181997861656 A47.84082622120792 47.84082622120792 0.5311329066791406 0 1 504.4318806407642,37.522669058745095 L575.7811403521727,79.43606792489771 A45.84082622120792 45.84082622120792 0.5311329066791406 0 0 599,85.75138459470985 L599,87.75138459470985 A47.84082622120792 47.84082622120792 0.5311329066791406 0 1 574.7681193592358,81.16053551458131 L503.41885964782733,39.24713664842871 A45.84082622120792 45.84082622120792 0.5311329066791406 0 0 480.2,32.93181997861656 Z\" style=\"fill: rgb(0, 0, 0);\"/><title> → Transport (PJ)\nCoal, peat and oil shale\n448m</title><text class=\"label\" dy=\"0.35em\" x=\"484.2\" y=\"31.93181997861656\"/></g><g class=\"link\" style=\"opacity: 0.8;\"><path d=\"M480.2,31.23515105435 A45.98239065101191 45.98239065101191 1.2826762392004198 0 1 524.2869848785637,64.15163131612506 L562.1161611168042,191.7948089516974 A38.469564042714644 38.469564042714644 1.2826762392004198 0 0 599,219.3332345873215 L599,221.3332345873215 A40.469564042714644 40.469564042714644 1.2826762392004198 0 1 560.1986016226418,192.3631095643559 L522.3694253844013,64.7199319287836 A43.98239065101191 43.98239065101191 1.2826762392004198 0 0 480.2,33.23515105435 Z\" style=\"fill: rgb(0, 0, 0);\"/><title> → Commercial and public services (PJ)\nCoal, peat and oil shale\n716m</title><text class=\"label\" dy=\"0.35em\" x=\"484.2\" y=\"32.23515105435\"/></g><g class=\"link\" style=\"opacity: 0.8;\"><path d=\"M480.2,31.25612529712585 A45.961416408236055 45.961416408236055 1.3915736371234186 0 1 525.4252320446658,69.02424049294412 L555.742733069506,236.3702202531814 A43.961416408236055 43.961416408236055 1.3915736371234186 0 0 599,272.49486498410556 L599,274.49486498410556 A45.961416408236055 45.961416408236055 1.3915736371234186 0 1 553.7747679553341,236.7267497882873 L523.4572669304939,69.38077002804998 A43.961416408236055 43.961416408236055 1.3915736371234186 0 0 480.2,33.25612529712585 Z\" style=\"fill: rgb(0, 0, 0);\"/><title> → Other final consumption (PJ)\nCoal, peat and oil shale\n2.18</title><text class=\"label\" dy=\"0.35em\" x=\"484.2\" y=\"32.25612529712585\"/></g><g class=\"link\" style=\"opacity: 0.8;\"><path d=\"M480.2,115.50395806646175 A38.08402604234536 38.08402604234536 1.1934418147068397 0 1 515.6045349068753,139.55545234786345 L557.4050594402847,245.0195378871409 A44.74293487183723 44.74293487183723 1.1934418147068397 0 0 599,273.2763834477068 L599,275.2763834477068 A46.74293487183723 46.74293487183723 1.1934418147068397 0 1 555.5457741395389,245.75646269363804 L513.7452496061295,140.2923771543606 A36.08402604234536 36.08402604234536 1.1934418147068397 0 0 480.2,117.50395806646175 Z\" style=\"fill: rgb(0, 128, 0);\"/><title>     → Other final consumption (PJ)\nRenewables and waste\n4.70</title><text class=\"label\" dy=\"0.35em\" x=\"484.2\" y=\"116.50395806646175\"/></g><g class=\"link\" style=\"opacity: 0.8;\"><path d=\"M480.2,115.39790949754871 A38.190074611258396 38.190074611258396 0.9494916523688953 0 1 511.2531021056414,131.3576748795118 L564.4168285623091,205.62108745497525 A42.531464103208535 42.531464103208535 0.9494916523688953 0 0 599,223.3951346478154 L599,225.3951346478154 A44.531464103208535 44.531464103208535 0.9494916523688953 0 1 562.7905891573466,206.78528047924036 L509.62686270067894,132.5218679037769 A36.190074611258396 36.190074611258396 0.9494916523688953 0 0 480.2,117.39790949754871 Z\" style=\"fill: rgb(0, 128, 0);\"/><title>     → Commercial and public services (PJ)\nRenewables and waste\n9.93</title><text class=\"label\" dy=\"0.35em\" x=\"484.2\" y=\"116.39790949754871\"/></g><g class=\"link\" style=\"opacity: 0.8;\"><path d=\"M480.2,144.5391673892897 A89.17894068602534 89.17894068602534 0.25504093361120495 0 1 502.6985106897407,147.42384129805313 L577.0060593470116,166.79719297284308 A87.17894068602534 87.17894068602534 0.25504093361120495 0 0 599,169.61717282073133 L599,171.61717282073133 A89.17894068602534 89.17894068602534 0.25504093361120495 0 1 576.5014893102593,168.7324989119679 L502.19394065298843,149.35914723717795 A87.17894068602534 87.17894068602534 0.25504093361120495 0 0 480.2,146.5391673892897 Z\" style=\"fill: rgb(255, 0, 0);\"/><title>      → Residential (PJ)\nHeat\n11.3</title><text class=\"label\" dy=\"0.35em\" x=\"484.2\" y=\"145.5391673892897\"/></g><g class=\"link\" style=\"opacity: 0.8;\"><path d=\"M360.4,257.0737485517787 A38.23043420567071 38.23043420567071 1.311695408951401 0 1 397.3543299926442,285.5091026480846 L420.1871052763939,371.6513192571016 A61.050723676117855 61.050723676117855 1.311695408951401 0 0 479.2,417.06014030859353 L479.2,419.06014030859353 A63.050723676117855 63.050723676117855 1.311695408951401 0 1 418.25386382829316,372.1637424253381 L395.42108854454347,286.0215258163211 A36.23043420567071 36.23043420567071 1.311695408951401 0 0 360.4,259.0737485517787 Z\" style=\"fill: rgb(255, 165, 0);\"/><title>Electricity\n Generation → Exports\nElectricity\n12.2</title><text class=\"label\" dy=\"0.35em\" x=\"364.4\" y=\"258.0737485517787\"/></g><g class=\"link\" style=\"opacity: 0.8;\"><path d=\"M480.2,144.7114007071111 A39.67685853628181 39.67685853628181 0.7360553101482707 0 1 506.8378383748857,154.98284018462778 L570.3365392753992,212.5051672163487 A42.69400768654284 42.69400768654284 0.7360553101482707 0 0 599,223.5576782311497 L599,225.5576782311497 A44.69400768654284 44.69400768654284 0.7360553101482707 0 1 568.9937999881884,213.98741254239314 L505.4950990876748,156.46508551067222 A37.67685853628181 37.67685853628181 0.7360553101482707 0 0 480.2,146.7114007071111 Z\" style=\"fill: rgb(255, 0, 0);\"/><title>      → Commercial and public services (PJ)\nHeat\n12.5</title><text class=\"label\" dy=\"0.35em\" x=\"484.2\" y=\"145.7114007071111\"/></g><g class=\"link\" style=\"opacity: 0.8;\"><path d=\"M360.4,143.29882859128145 A48.234062482998105 48.234062482998105 1.4397863458134164 0 1 408.2207187547726,185.23180851723356 L431.55046681170626,362.2879429750806 A48.06139725493937 48.06139725493937 1.4397863458134164 0 0 479.2,404.07081388741506 L479.2,406.07081388741506 A50.06139725493937 50.06139725493937 1.4397863458134164 0 1 429.5676058917234,362.54921404505393 L406.23785783478974,185.49307958720686 A46.234062482998105 46.234062482998105 1.4397863458134164 0 0 360.4,145.29882859128145 Z\" style=\"fill: rgb(0, 128, 0);\"/><title>     → Exports\nRenewables and waste\n14.9</title><text class=\"label\" dy=\"0.35em\" x=\"364.4\" y=\"144.29882859128145\"/></g><g class=\"link\" style=\"opacity: 0.8;\"><path d=\"M480.2,249.76012761263678 A79.52898039497036 79.52898039497036 0.288802794670157 0 1 502.85023581496154,253.0537780077297 L576.9193737965908,275.060417736285 A77.52898039497036 77.52898039497036 0.288802794670157 0 0 599,278.2712391958443 L599,280.2712391958443 A79.52898039497036 79.52898039497036 0.288802794670157 0 1 576.3497641850385,276.9775888007514 L502.2806262034093,254.9709490721961 A77.52898039497036 77.52898039497036 0.288802794670157 0 0 480.2,251.76012761263678 Z\" style=\"fill: rgb(255, 165, 0);\"/><title>_ → Other final consumption (PJ)\nElectricity\n15.1</title><text class=\"label\" dy=\"0.35em\" x=\"484.2\" y=\"250.76012761263678\"/></g><g class=\"link\" style=\"opacity: 0.8;\"><path d=\"M240.6,266.1109428344845 A197.79520466690013 197.79520466690013 0.11156739079371336 0 1 262.62174332175147,267.34067288722 L337.6009288442279,275.74078679985405 A195.79520466690013 195.79520466690013 0.11156739079371336 0 0 359.4,276.9580824757824 L359.4,278.9580824757824 A197.79520466690013 197.79520466690013 0.11156739079371336 0 1 337.37825667824853,277.7283524230469 L262.3990711557721,269.32823851041286 A195.79520466690013 195.79520466690013 0.11156739079371336 0 0 240.6,268.1109428344845 Z\" style=\"fill: rgb(128, 0, 128);\"/><title>Refining → Electricity\n Generation\nOil products\n19.5</title><text class=\"label\" dy=\"0.35em\" x=\"244.6\" y=\"267.1109428344845\"/></g><g class=\"link\" style=\"opacity: 0.8;\"><path d=\"M480.2,239.38399923632315 A41.76195891584663 41.76195891584663 1.0548104835332615 0 0 516.5248332279178,218.22708104969647 L567.0287497575675,129.19321941337148 A36.75672867471127 36.75672867471127 1.0548104835332615 0 1 599,110.57198799685818 L599,112.57198799685818 A34.75672867471127 34.75672867471127 1.0548104835332615 0 0 568.7683632321709,130.18000457690948 L518.2644467025212,219.21386621323447 A43.76195891584663 43.76195891584663 1.0548104835332615 0 1 480.2,241.38399923632315 Z\" style=\"fill: rgb(255, 165, 0);\"/><title>_ → Transport (PJ)\nElectricity\n19.6</title><text class=\"label\" dy=\"0.35em\" x=\"484.2\" y=\"240.38399923632315\"/></g><g class=\"link\" style=\"opacity: 0.8;\"><path d=\"M480.2,31.08251228811629 A46.13502941724562 46.13502941724562 1.0345540459879123 0 1 519.8592675540111,53.64672423100433 L569.2074924665575,136.67797493969582 A34.65717589456266 34.65717589456266 1.0345540459879123 0 0 599,153.62847593871632 L599,155.62847593871632 A36.65717589456266 36.65717589456266 1.0345540459879123 0 1 567.4882232667773,137.69979362159947 L518.1399983542309,54.66854291290795 A44.13502941724562 44.13502941724562 1.0345540459879123 0 0 480.2,33.08251228811629 Z\" style=\"fill: rgb(0, 0, 0);\"/><title> → Residential (PJ)\nCoal, peat and oil shale\n20.3</title><text class=\"label\" dy=\"0.35em\" x=\"484.2\" y=\"32.08251228811629\"/></g><g class=\"link\" style=\"opacity: 0.8;\"><path d=\"M360.4,31.43439856102851 A58.226902787758526 58.226902787758526 1.4065638518151309 0 1 417.84340930244895,80.14148328506312 L463.9796892670479,358.53180502847346 A15.427906599013426 15.427906599013426 1.4065638518151309 0 0 479.2,371.4373232314891 L479.2,373.4373232314891 A17.427906599013426 17.427906599013426 1.4065638518151309 0 1 462.00660100192636,358.8587953923066 L415.8703210373274,80.46847364889629 A56.226902787758526 56.226902787758526 1.4065638518151309 0 0 360.4,33.43439856102851 Z\" style=\"fill: rgb(0, 0, 0);\"/><title> → Exports\nCoal, peat and oil shale\n22.4</title><text class=\"label\" dy=\"0.35em\" x=\"364.4\" y=\"32.43439856102851\"/></g><g class=\"link\" style=\"opacity: 0.8;\"><path d=\"M480.2,144.2532965488481 A34.8160679244505 34.8160679244505 0.9431883262105075 0 0 508.38132406937547,129.8815813756292 L562.4752377405331,55.31633933068951 A45.123806128467294 45.123806128467294 0.9431883262105075 0 1 599,36.6896957184035 L599,38.6896957184035 A43.123806128467294 43.123806128467294 0.9431883262105075 0 0 564.0941065990456,56.49075987671987 L510.000192927888,131.05600192165957 A36.8160679244505 36.8160679244505 0.9431883262105075 0 1 480.2,146.2532965488481 Z\" style=\"fill: rgb(255, 0, 0);\"/><title>      → Industry (PJ)\nHeat\n28.2</title><text class=\"label\" dy=\"0.35em\" x=\"484.2\" y=\"145.2532965488481\"/></g><g class=\"link\" style=\"opacity: 0.8;\"><path d=\"M480.2,83.49735492222325 A40.58558877144551 40.58558877144551 1.2879518628942845 0 1 519.1729393863186,112.75598419364319 L556.4189062067455,240.90906951844335 A44.343043900303094 44.343043900303094 1.2879518628942845 0 0 599,272.87649247617264 L599,274.87649247617264 A46.343043900303094 46.343043900303094 1.2879518628942845 0 1 554.4983752712062,241.46724594721525 L517.2524084507793,113.31416062241512 A38.58558877144551 38.58558877144551 1.2879518628942845 0 0 480.2,85.49735492222325 Z\" style=\"fill: rgb(70, 130, 180);\"/><title>   → Other final consumption (PJ)\nNatural gas\n50.5</title><text class=\"label\" dy=\"0.35em\" x=\"484.2\" y=\"84.49735492222325\"/></g><g class=\"link\" style=\"opacity: 0.8;\"><path d=\"M480.2,112.7499528948124 A38.11884339800061 38.11884339800061 0.7210387299487359 0 0 505.36473537111686,103.26295043837462 L568.8280531934759,47.48457411837896 A45.70362844549367 45.70362844549367 0.7210387299487359 0 1 599,36.10987340137712 L599,38.10987340137712 A43.70362844549367 43.70362844549367 0.7210387299487359 0 0 570.1483836719412,48.98681492052589 L506.6850658495824,104.76519124052155 A40.11884339800061 40.11884339800061 0.7210387299487359 0 1 480.2,114.7499528948124 Z\" style=\"fill: rgb(0, 128, 0);\"/><title>     → Industry (PJ)\nRenewables and waste\n51.8</title><text class=\"label\" dy=\"0.35em\" x=\"484.2\" y=\"113.7499528948124\"/></g><g class=\"link\" style=\"opacity: 0.8;\"><path d=\"M240.6,203.70141467946593 A55.0971583737256 55.0971583737256 0.4224494525200422 0 0 263.18960328192884,198.85768090968617 L335.9904051269004,166.13272245670356 A57.0971583737256 57.0971583737256 0.4224494525200422 0 1 359.4,161.1131635114429 L359.4,163.1131635114429 A55.0971583737256 55.0971583737256 0.4224494525200422 0 0 336.8103967180711,167.95689728122267 L264.00959487309956,200.68185573420527 A57.0971583737256 57.0971583737256 0.4224494525200422 0 1 240.6,205.70141467946593 Z\" style=\"fill: rgb(255, 0, 0);\"/><title>      →      \nHeat\n52.1</title><text class=\"label\" dy=\"0.35em\" x=\"244.6\" y=\"204.70141467946593\"/></g><g class=\"link\" style=\"opacity: 0.8;\"><path d=\"M360.4,161.1131635114429 A128.3734273233818 128.3734273233818 0.171012201117561 0 0 382.2465734597729,159.24058231494806 L457.0130667957647,146.32848141598657 A130.3734273233818 130.3734273233818 0.171012201117561 0 1 479.2,144.42672625046188 L479.2,146.42672625046188 A128.3734273233818 128.3734273233818 0.171012201117561 0 0 457.3534265402271,148.29930744695673 L382.58693320423527,161.21140834591822 A130.3734273233818 130.3734273233818 0.171012201117561 0 1 360.4,163.1131635114429 Z\" style=\"fill: rgb(255, 0, 0);\"/><title>      →      \nHeat\n52.1</title><text class=\"label\" dy=\"0.35em\" x=\"364.4\" y=\"162.1131635114429\"/></g><g class=\"link\" style=\"opacity: 0.8;\"><path d=\"M480.2,30.48545343751813 A0 0 0 0 0 480.2,30.48545343751813 L599,30.48545343751813 A0 0 0 0 0 599,30.48545343751813 L599,32.48545343751813 A0 0 0 0 0 599,32.48545343751813 L480.2,32.48545343751813 A0 0 0 0 0 480.2,32.48545343751813 Z\" style=\"fill: rgb(0, 0, 0);\"/><title> → Industry (PJ)\nCoal, peat and oil shale\n61.1</title><text class=\"label\" dy=\"0.35em\" x=\"484.2\" y=\"31.48545343751813\"/></g><g class=\"link\" style=\"opacity: 0.8;\"><path d=\"M240.6,204.55334054622594 A41.257743651225084 41.257743651225084 0.7556568668460327 0 1 268.8931948909489,215.78282194248555 L314.0733869103185,258.352450752862 A66.09623941870848 66.09623941870848 0.7556568668460327 0 0 359.4,276.3424430604775 L359.4,278.3424430604775 A68.09623941870848 68.09623941870848 0.7556568668460327 0 1 312.70185311389343,259.8080932382491 L267.52166109452384,217.2384644278726 A39.257743651225084 39.257743651225084 0.7556568668460327 0 0 240.6,206.55334054622594 Z\" style=\"fill: rgb(255, 0, 0);\"/><title>      → Electricity\n Generation\nHeat\n65.4</title><text class=\"label\" dy=\"0.35em\" x=\"244.6\" y=\"205.55334054622594\"/></g><g class=\"link\" style=\"opacity: 0.8;\"><path d=\"M480.2,113.62503678943588 A80.45095819075294 80.45095819075294 0.2776350608785898 0 0 502.25016276174006,110.54427309237057 L576.4016731577412,89.41142104307032 A82.45095819075294 82.45095819075294 0.2776350608785898 0 1 599,86.25406997485746 L599,88.25406997485746 A80.45095819075294 80.45095819075294 0.2776350608785898 0 0 576.94983723826,91.33483367192277 L502.7983268422587,112.46768572122302 A82.45095819075294 82.45095819075294 0.2776350608785898 0 1 480.2,115.62503678943588 Z\" style=\"fill: rgb(0, 128, 0);\"/><title>     → Transport (PJ)\nRenewables and waste\n68.9</title><text class=\"label\" dy=\"0.35em\" x=\"484.2\" y=\"114.62503678943588\"/></g><g class=\"link\" style=\"opacity: 0.8;\"><path d=\"M480.2,114.72519309742376 A48.18387382470792 48.18387382470792 0.533667894381018 0 1 504.71087732443317,121.4253039594741 L573.1680166029847,161.8735281080078 A50.78092522632772 50.78092522632772 0.533667894381018 0 0 599,168.9347666861193 L599,170.9347666861193 A52.78092522632772 52.78092522632772 0.533667894381018 0 1 572.1506273655149,163.5954221638313 L503.6934880869632,123.14719801529763 A46.18387382470792 46.18387382470792 0.533667894381018 0 0 480.2,116.72519309742376 Z\" style=\"fill: rgb(0, 128, 0);\"/><title>     → Residential (PJ)\nRenewables and waste\n82.9</title><text class=\"label\" dy=\"0.35em\" x=\"484.2\" y=\"115.72519309742376\"/></g><g class=\"link\" style=\"opacity: 0.8;\"><path d=\"M360.4,30.65711998979372 A0 0 0 0 0 360.4,30.65711998979372 L479.2,30.65711998979372 A0 0 0 0 0 479.2,30.65711998979372 L479.2,32.65711998979372 A0 0 0 0 0 479.2,32.65711998979372 L360.4,32.65711998979372 A0 0 0 0 0 360.4,32.65711998979372 Z\" style=\"fill: rgb(0, 0, 0);\"/><title> → \nCoal, peat and oil shale\n84.8</title><text class=\"label\" dy=\"0.35em\" x=\"364.4\" y=\"31.65711998979372\"/></g><g class=\"link\" style=\"opacity: 0.8;\"><path d=\"M1,435.9650407603056 A88.04295204197031 88.04295204197031 0.2585849475014388 0 1 23.51370999908159,438.89222301581424 L97.79771560573796,458.5408564475996 A86.04295204197031 86.04295204197031 0.2585849475014388 0 0 119.8,461.4015442890156 L119.8,463.4015442890156 A88.04295204197031 88.04295204197031 0.2585849475014388 0 1 97.28629000091841,460.47436203350696 L23.00228439426204,440.8257286017216 A86.04295204197031 86.04295204197031 0.2585849475014388 0 0 1,437.9650407603056 Z\" style=\"fill: rgb(255, 165, 0);\"/><title>Imports → _\nElectricity\n88.4</title><text class=\"label\" dy=\"0.35em\" x=\"5\" y=\"436.9650407603056\"/></g><g class=\"link\" style=\"opacity: 0.8;\"><path d=\"M120.8,461.4015442890156 A40.586438241185334 40.586438241185334 0.6330976242504787 0 0 144.81275891221384,453.53583920785354 L214.40395130169958,402.46496261442013 A42.586438241185334 42.586438241185334 0.6330976242504787 0 1 239.6,394.2116549043001 L239.6,396.2116549043001 A40.586438241185334 40.586438241185334 0.6330976242504787 0 0 215.58724108778614,404.0773599854621 L145.9960486983004,455.14823657889553 A42.586438241185334 42.586438241185334 0.6330976242504787 0 1 120.8,463.4015442890156 Z\" style=\"fill: rgb(255, 165, 0);\"/><title>_ → _\nElectricity\n88.4</title><text class=\"label\" dy=\"0.35em\" x=\"124.8\" y=\"462.4015442890156\"/></g><g class=\"link\" style=\"opacity: 0.8;\"><path d=\"M240.6,394.2116549043001 A34.64698293664823 34.64698293664823 0.9588991032987315 0 0 268.9606234647582,379.46664330977273 L329.4022571637447,293.33636076314303 A36.64698293664823 36.64698293664823 0.9588991032987315 0 1 359.4,277.74019213589577 L359.4,279.74019213589577 A34.64698293664823 34.64698293664823 0.9588991032987315 0 0 331.0393765352418,294.4852037304231 L270.5977428362553,380.6154862770528 A36.64698293664823 36.64698293664823 0.9588991032987315 0 1 240.6,396.2116549043001 Z\" style=\"fill: rgb(255, 165, 0);\"/><title>_ → Electricity\n Generation\nElectricity\n88.4</title><text class=\"label\" dy=\"0.35em\" x=\"244.6\" y=\"395.2116549043001\"/></g><g class=\"link\" style=\"opacity: 0.8;\"><path d=\"M480.2,173.96546717164233 A34.98142671407671 34.98142671407671 1.0934151903195728 0 0 511.2705457565584,155.05642053463973 L559.6796816670608,61.47362413921429 A44.26960649210812 44.26960649210812 1.0934151903195728 0 1 599,37.54389535476268 L599,39.54389535476268 A42.26960649210812 42.26960649210812 1.0934151903195728 0 0 561.4560840997297,62.3925334912223 L513.0469481892274,155.97532988664776 A36.98142671407671 36.98142671407671 1.0934151903195728 0 1 480.2,175.96546717164233 Z\" style=\"fill: rgb(128, 0, 128);\"/><title>_ → Industry (PJ)\nOil products\n89.7</title><text class=\"label\" dy=\"0.35em\" x=\"484.2\" y=\"174.96546717164233\"/></g><g class=\"link\" style=\"opacity: 0.8;\"><path d=\"M240.6,32.25544430562247 A42.5782469663446 42.5782469663446 1.2773930561735085 0 1 281.3586721937589,62.519562974408295 L328.78477734685384,219.49576353461794 A31.981967048840325 31.981967048840325 1.2773930561735085 0 0 359.4,242.22817069060935 L359.4,244.22817069060935 A33.981967048840325 33.981967048840325 1.2773930561735085 0 1 326.87024703629527,220.07418698672916 L279.4441418832003,63.09798642651952 A40.5782469663446 40.5782469663446 1.2773930561735085 0 0 240.6,34.25544430562247 Z\" style=\"fill: rgb(0, 0, 0);\"/><title> → Electricity\n Generation\nCoal, peat and oil shale\n90.9</title><text class=\"label\" dy=\"0.35em\" x=\"244.6\" y=\"33.25544430562247\"/></g><g class=\"link\" style=\"opacity: 0.8;\"><path d=\"M480.2,200.41484627293616 A93.11754885808412 93.11754885808412 0.24349380529442866 0 1 502.65016003137634,203.16166856592469 L577.0320296376321,221.63983001890978 A91.11754885808412 91.11754885808412 0.24349380529442866 0 0 599,224.32765543479675 L599,226.32765543479675 A93.11754885808412 93.11754885808412 0.24349380529442866 0 1 576.5498399686237,223.58083314180823 L502.1679703623679,205.10267168882314 A91.11754885808412 91.11754885808412 0.24349380529442866 0 0 480.2,202.41484627293616 Z\" style=\"fill: rgb(128, 0, 128);\"/><title>_ → Commercial and public services (PJ)\nOil products\n93.7</title><text class=\"label\" dy=\"0.35em\" x=\"484.2\" y=\"201.41484627293616\"/></g><g class=\"link\" style=\"opacity: 0.8;\"><path d=\"M480.2,199.01350136948815 A77.32927473294431 77.32927473294431 0.2896004605584215 0 0 502.282870417444,195.79335943979257 L576.3459908904189,173.72419967161142 A79.32927473294431 79.32927473294431 0.2896004605584215 0 1 599,170.42077383835365 L599,172.42077383835365 A77.32927473294431 77.32927473294431 0.2896004605584215 0 0 576.917129582556,175.64091576804924 L502.85400910958117,197.7100755362304 A79.32927473294431 79.32927473294431 0.2896004605584215 0 1 480.2,201.01350136948815 Z\" style=\"fill: rgb(128, 0, 128);\"/><title>_ → Residential (PJ)\nOil products\n99.6</title><text class=\"label\" dy=\"0.35em\" x=\"484.2\" y=\"200.01350136948815\"/></g><g class=\"link\" style=\"opacity: 0.8;\"><path d=\"M240.6,30.819609552094803 A0 0 0 0 0 240.6,30.819609552094803 L359.4,30.819609552094803 A0 0 0 0 0 359.4,30.819609552094803 L359.4,32.8196095520948 A0 0 0 0 0 359.4,32.8196095520948 L240.6,32.8196095520948 A0 0 0 0 0 240.6,32.8196095520948 Z\" style=\"fill: rgb(0, 0, 0);\"/><title> → \nCoal, peat and oil shale\n107</title><text class=\"label\" dy=\"0.35em\" x=\"244.6\" y=\"31.819609552094803\"/></g><g class=\"link\" style=\"opacity: 0.8;\"><path d=\"M120.8,258.5674081581719 A46.08044170170722 46.08044170170722 0.5274595418536387 0 0 143.9941197098356,252.30454948595371 L215.3992007162151,210.71041265635503 A48.08044170170722 48.08044170170722 0.5274595418536387 0 1 239.6,204.17573112650197 L239.6,206.17573112650197 A46.08044170170722 46.08044170170722 0.5274595418536387 0 0 216.40588029016442,212.43858979872013 L145.00079928378491,254.0327266283188 A48.08044170170722 48.08044170170722 0.5274595418536387 0 1 120.8,260.5674081581719 Z\" style=\"fill: rgb(255, 0, 0);\"/><title>Heat →      \nHeat\n118</title><text class=\"label\" dy=\"0.35em\" x=\"124.8\" y=\"259.5674081581719\"/></g><g class=\"link\" style=\"opacity: 0.8;\"><path d=\"M120.8,31.04233098086002 A0 0 0 0 0 120.8,31.04233098086002 L239.6,31.04233098086002 A0 0 0 0 0 239.6,31.04233098086002 L239.6,33.914000487915345 A0 0 0 0 0 239.6,33.914000487915345 L120.8,33.914000487915345 A0 0 0 0 0 120.8,33.914000487915345 Z\" style=\"fill: rgb(0, 0, 0);\"/><title>Coal, peat and oil shale → \nCoal, peat and oil shale\n198</title><text class=\"label\" dy=\"0.35em\" x=\"124.8\" y=\"32.47816573438768\"/></g><g class=\"link\" style=\"opacity: 0.8;\"><path d=\"M1,412.7102085600375 A48.78038699432568 48.78038699432568 1.3080419994684485 0 0 48.10615774074237,376.60010404955864 L80.42112512002697,256.45803518122835 A40.77846396682027 40.77846396682027 1.3080419994684485 0 1 119.8,226.27142358690122 L119.8,229.18667744617784 A37.863210107543665 37.863210107543665 1.3080419994684485 0 0 83.23632230502196,257.2152470892326 L50.921354925737354,377.3573159575629 A51.695640853602285 51.695640853602285 1.3080419994684485 0 1 1,415.6254624193141 Z\" style=\"fill: rgb(0, 128, 0);\"/><title>Imports → Renewables and waste\nRenewables and waste\n201</title><text class=\"label\" dy=\"0.35em\" x=\"5\" y=\"414.1678354896758\"/></g><g class=\"link\" style=\"opacity: 0.8;\"><path d=\"M1,352.8174823564501 A0 0 1.3448529071471653 0 0 1.0000000000000002,352.8174823564501 L64.92195796172209,74.73684526887881 A56.30924335701085 56.30924335701085 1.3448529071471653 0 1 119.8,31.042330980860015 L119.8,33.96991626279332 A53.381658075077546 53.381658075077546 1.3448529071471653 0 0 67.77513336587313,75.39270020416554 L3.853175404151054,353.4733372917368 A2.927585281933303 2.927585281933303 1.3448529071471653 0 1 1,355.7450676383834 Z\" style=\"fill: rgb(0, 0, 0);\"/><title>Imports → Coal, peat and oil shale\nCoal, peat and oil shale\n202</title><text class=\"label\" dy=\"0.35em\" x=\"5\" y=\"354.28127499741674\"/></g><g class=\"link\" style=\"opacity: 0.8;\"><path d=\"M360.4,141.0274302365228 A79.12225611753072 79.12225611753072 0.2804029980554721 0 0 382.296524953369,137.93723056950918 L456.42794483740124,116.58807126621178 A82.28595106916492 82.28595106916492 0.2804029980554721 0 1 479.2,113.37431029589621 L479.2,116.5380052475304 A79.12225611753072 79.12225611753072 0.2804029980554721 0 0 457.303475046631,119.62820491454406 L383.1720551625987,140.97736421784143 A82.28595106916492 82.28595106916492 0.2804029980554721 0 1 360.4,144.19112518815703 Z\" style=\"fill: rgb(0, 128, 0);\"/><title>     →     \nRenewables and waste\n218</title><text class=\"label\" dy=\"0.35em\" x=\"364.4\" y=\"142.60927771233992\"/></g><g class=\"link\" style=\"opacity: 0.8;\"><path d=\"M240.6,175.3202258676095 A65.18791806530284 65.18791806530284 0.34469036745639237 0 0 262.6273412797845,171.48588062274263 L336.2308424166875,145.0605338271353 A68.56701982318596 68.56701982318596 0.34469036745639237 0 1 359.4,141.0274302365228 L359.4,144.40653199440592 A65.18791806530284 65.18791806530284 0.34469036745639237 0 0 337.3726587202155,148.2408772392728 L263.7691575833125,174.66622403488014 A68.56701982318596 68.56701982318596 0.34469036745639237 0 1 240.6,178.69932762549263 Z\" style=\"fill: rgb(0, 128, 0);\"/><title>     →     \nRenewables and waste\n233</title><text class=\"label\" dy=\"0.35em\" x=\"244.6\" y=\"177.00977674655107\"/></g><g class=\"link\" style=\"opacity: 0.8;\"><path d=\"M480.2,80.14680300028256 A43.93614069338621 43.93614069338621 1.1318907228389634 0 1 519.9717532352995,105.41232228945539 L563.2667705092548,197.63843014407644 A39.47475458388893 39.47475458388893 1.1318907228389634 0 0 599,220.3384251284958 L599,224.323133259971 A43.45946271536416 43.45946271536416 1.1318907228389634 0 1 559.6597439015769,199.33172809321252 L516.3647266276216,107.10562023859144 A39.95143256191098 39.95143256191098 1.1318907228389634 0 0 480.2,84.13151113175779 Z\" style=\"fill: rgb(70, 130, 180);\"/><title>   → Commercial and public services (PJ)\nNatural gas\n275</title><text class=\"label\" dy=\"0.35em\" x=\"484.2\" y=\"82.13915706602018\"/></g><g class=\"link\" style=\"opacity: 0.8;\"><path d=\"M360.4,119.58846674778452 A51.77145058530017 51.77145058530017 1.4547198991761081 0 1 411.8230645648619,165.36395815508664 L434.658014947797,361.2030379450122 A44.84375246038963 44.84375246038963 1.4547198991761081 0 0 479.2,400.8531690928653 L479.2,404.9631104842906 A48.95369385181491 48.95369385181491 1.4547198991761081 0 1 430.575730616574,361.6790346676914 L407.7407802336389,165.83995487776585 A47.66150919387489 47.66150919387489 1.4547198991761081 0 0 360.4,123.6984081392098 Z\" style=\"fill: rgb(70, 130, 180);\"/><title>   → Exports\nNatural gas\n283</title><text class=\"label\" dy=\"0.35em\" x=\"364.4\" y=\"121.64343744349716\"/></g><g class=\"link\" style=\"opacity: 0.8;\"><path d=\"M480.2,245.94506451600208 A106.81813032232503 106.81813032232503 0.20379787062511578 0 0 501.8189272848182,243.7344623578152 L576.4287620397489,228.3150693121423 A111.52345378706391 111.52345378706391 0.20379787062511578 0 1 599,226.0070904429539 L599,230.71241390769282 A106.81813032232503 106.81813032232503 0.20379787062511578 0 0 577.3810727151819,232.9230160658797 L502.77123796025114,248.3424091115526 A111.52345378706391 111.52345378706391 0.20379787062511578 0 1 480.2,250.650387980741 Z\" style=\"fill: rgb(255, 165, 0);\"/><title>_ → Commercial and public services (PJ)\nElectricity\n325</title><text class=\"label\" dy=\"0.35em\" x=\"484.2\" y=\"248.29772624837153\"/></g><g class=\"link\" style=\"opacity: 0.8;\"><path d=\"M480.2,235.45406903188902 A37.83202871141249 37.83202871141249 1.2789203879316964 0 0 516.4319518410092,208.50818115237493 L558.1829764137929,69.54974445813855 A42.619586573859124 42.619586573859124 1.2789203879316964 0 1 599,39.193915273011676 L599,43.98147313545831 A37.83202871141249 37.83202871141249 1.2789203879316964 0 0 562.7680481589907,70.92736101497243 L521.0170235862071,209.8857977092088 A42.619586573859124 42.619586573859124 1.2789203879316964 0 1 480.2,240.24162689433567 Z\" style=\"fill: rgb(255, 165, 0);\"/><title>_ → Industry (PJ)\nElectricity\n330</title><text class=\"label\" dy=\"0.35em\" x=\"484.2\" y=\"237.84784796311234\"/></g><g class=\"link\" style=\"opacity: 0.8;\"><path d=\"M480.2,60.78302058193492 A75.29413989338569 75.29413989338569 0.29215671777759655 0 0 501.88608415311126,57.59242606871006 L575.9297996739775,35.32281037466199 A80.09979480167037 80.09979480167037 0.29215671777759655 0 1 599,31.928575894176248 L599,36.73423080246093 A75.29413989338569 75.29413989338569 0.29215671777759655 0 0 577.3139158468888,39.92482531568579 L503.2702003260224,62.19444100973386 A80.09979480167037 80.09979480167037 0.29215671777759655 0 1 480.2,65.5886754902196 Z\" style=\"fill: rgb(70, 130, 180);\"/><title>   → Industry (PJ)\nNatural gas\n331</title><text class=\"label\" dy=\"0.35em\" x=\"484.2\" y=\"63.18584803607726\"/></g><g class=\"link\" style=\"opacity: 0.8;\"><path d=\"M480.2,202.09428128109332 A42.57114233747994 42.57114233747994 0.6935490399542178 0 1 507.4144690871414,211.92897860352923 L569.7346030086668,263.736966836047 A45.7793748204907 45.7793748204907 0.6935490399542178 0 0 599,274.3128233963603 L599,279.1614995639485 A50.628050988078925 50.628050988078925 0.6935490399542178 0 1 566.6349880951103,267.46551185599725 L504.31485417358493,215.6575236234795 A37.72246616989172 37.72246616989172 0.6935490399542178 0 0 480.2,206.94295744868154 Z\" style=\"fill: rgb(128, 0, 128);\"/><title>_ → Other final consumption (PJ)\nOil products\n334</title><text class=\"label\" dy=\"0.35em\" x=\"484.2\" y=\"204.51861936488743\"/></g><g class=\"link\" style=\"opacity: 0.8;\"><path d=\"M480.2,240.52637157831063 A42.90433125783413 42.90433125783413 0.6529882617199286 0 0 506.26706734500846,231.6997403706964 L572.3129286231652,181.17925597005706 A43.92480885934547 43.92480885934547 0.6529882617199286 0 1 599,172.14268373364453 L599,177.56137667133598 A38.50611592165402 38.50611592165402 0.6529882617199286 0 0 575.6051238302151,185.48317091713307 L509.55926255205844,236.0036553177724 A48.323024195525576 48.323024195525576 0.6529882617199286 0 1 480.2,245.94506451600208 Z\" style=\"fill: rgb(255, 165, 0);\"/><title>_ → Residential (PJ)\nElectricity\n374</title><text class=\"label\" dy=\"0.35em\" x=\"484.2\" y=\"243.23571804715635\"/></g><g class=\"link\" style=\"opacity: 0.8;\"><path d=\"M120.8,198.42408446174232 A47.24246379328555 47.24246379328555 0.4670882152596445 0 0 142.0727293809033,193.36362358376115 L214.326146302044,156.92563394881796 A56.12815811563624 56.12815811563624 0.4670882152596445 0 1 239.6,150.9133660548288 L239.6,159.79906037717947 A47.24246379328555 47.24246379328555 0.4670882152596445 0 0 218.3272706190967,164.85952125516064 L146.073853697956,201.29751089010384 A56.12815811563624 56.12815811563624 0.4670882152596445 0 1 120.8,207.309778784093 Z\" style=\"fill: rgb(255, 0, 0);\"/><title>Nuclear →    \nNuclear\n613</title><text class=\"label\" dy=\"0.35em\" x=\"124.8\" y=\"202.86693162291766\"/></g><g class=\"link\" style=\"opacity: 0.8;\"><path d=\"M240.6,150.9133660548288 A40.279240919236685 40.279240919236685 0.9783228484221311 0 1 274.014127319513,168.70008945144733 L319.8855429151232,236.84512121575295 A47.63291650550241 47.63291650550241 0.9783228484221311 0 0 359.4,257.8791201472714 L359.4,266.7648144696221 A56.518610827853095 56.518610827853095 0.9783228484221311 0 1 312.5143086357924,241.80702294689138 L266.64289304018223,173.66199118258575 A31.393546596885994 31.393546596885994 0.9783228484221311 0 0 240.6,159.79906037717947 Z\" style=\"fill: rgb(255, 0, 0);\"/><title>    → Electricity\n Generation\nNuclear\n613</title><text class=\"label\" dy=\"0.35em\" x=\"244.6\" y=\"155.35621321600414\"/></g><g class=\"link\" style=\"opacity: 0.8;\"><path d=\"M240.6,178.69932762549263 A42.30058994506296 42.30058994506296 0.8860153147794406 0 1 273.3642424243134,194.24465027491482 L315.62308178079365,245.99441759910164 A56.518610827853095 56.518610827853095 0.8860153147794406 0 0 359.4,266.7648144696221 L359.4,276.86812661344135 A66.6219229716724 66.6219229716724 0.8860153147794406 0 1 307.7974848139778,252.38479696095564 L265.5386454574975,200.63502963676882 A32.19727780124365 32.19727780124365 0.8860153147794406 0 0 240.6,188.80263976931195 Z\" style=\"fill: rgb(0, 128, 0);\"/><title>     → Electricity\n Generation\nRenewables and waste\n697</title><text class=\"label\" dy=\"0.35em\" x=\"244.6\" y=\"183.7509836974023\"/></g><g class=\"link\" style=\"opacity: 0.8;\"><path d=\"M360.4,212.44730522376807 A46.290617866167004 46.290617866167004 1.3570226143626993 0 1 405.63691771806947,248.91740488567976 L431.1501215738582,366.44060269906504 A49.16910065806383 49.16910065806383 1.3570226143626993 0 0 479.2,405.1785172905395 L479.2,417.97180447777487 A61.96238784529924 61.96238784529924 1.3570226143626993 0 1 418.6480443385577,369.15468852262757 L393.134840482769,251.63149070924223 A33.4973306789316 33.4973306789316 1.3570226143626993 0 0 360.4,225.2405924110035 Z\" style=\"fill: rgb(128, 0, 128);\"/><title>_ → Exports\nOil products\n882</title><text class=\"label\" dy=\"0.35em\" x=\"364.4\" y=\"218.84394881738578\"/></g><g class=\"link\" style=\"opacity: 0.8;\"><path d=\"M120.8,226.27142358690122 A42.45134974160008 42.45134974160008 0.4975768054083147 0 0 141.0619264911467,221.1238461713142 L212.9029499836334,182.10265752765395 A55.93376364330253 55.93376364330253 0.4975768054083147 0 1 239.6,175.3202258676095 L239.6,188.80263976931195 A42.45134974160008 42.45134974160008 0.4975768054083147 0 0 219.3380735088533,193.95021718489897 L147.49705001636661,232.97140582855923 A55.93376364330253 55.93376364330253 0.4975768054083147 0 1 120.8,239.75383748860366 Z\" style=\"fill: rgb(0, 128, 0);\"/><title>Renewables and waste →     \nRenewables and waste\n930</title><text class=\"label\" dy=\"0.35em\" x=\"124.8\" y=\"233.01263053775244\"/></g><g class=\"link\" style=\"opacity: 0.8;\"><path d=\"M240.6,121.39980729002957 A42.65284336492115 42.65284336492115 1.0125270260897192 0 1 276.77699716300566,141.458626591487 L330.8670109309609,228.06622996190973 A33.6405232311332 33.6405232311332 1.0125270260897192 0 0 359.4,243.88672687290222 L359.4,257.8791201472714 A47.63291650550241 47.63291650550241 1.0125270260897192 0 1 318.99903843825643,235.47826736447482 L264.9090246703012,148.87066399405208 A28.66045009055194 28.66045009055194 1.0125270260897192 0 0 240.6,135.39220056439876 Z\" style=\"fill: rgb(70, 130, 180);\"/><title>   → Electricity\n Generation\nNatural gas\n965</title><text class=\"label\" dy=\"0.35em\" x=\"244.6\" y=\"128.39600392721417\"/></g><g class=\"link\" style=\"opacity: 0.8;\"><path d=\"M480.2,65.5886754902196 A58.49426820344917 58.49426820344917 0.8768409040309793 0 1 525.1658434003325,86.67101591717199 L570.8477914770411,141.57669561673202 A36.62208270398416 36.62208270398416 0.8768409040309793 0 0 599,154.77592416377576 L599,169.3340516738387 A51.18021021404712 51.18021021404712 0.8768409040309793 0 1 559.65663545569,150.88782355619378 L513.9746873789813,95.98214385663377 A43.93614069338621 43.93614069338621 0.8768409040309793 0 0 480.2,80.14680300028255 Z\" style=\"fill: rgb(70, 130, 180);\"/><title>   → Residential (PJ)\nNatural gas\n1.00k</title><text class=\"label\" dy=\"0.35em\" x=\"484.2\" y=\"72.86773924525107\"/></g><g class=\"link\" style=\"opacity: 0.8;\"><path d=\"M360.4,242.56961450831648 A290.8792795087999 290.8792795087999 0.07329670785869258 0 0 381.70140830353756,241.78860326708917 L456.7696759049801,236.27647171123076 A306.29507772144353 306.29507772144353 0.07329670785869258 0 1 479.2,235.45406903188902 L479.2,250.86986724453263 A290.8792795087999 290.8792795087999 0.07329670785869258 0 0 457.8985916964624,251.65087848575993 L382.8303240950199,257.16301004161835 A306.29507772144353 306.29507772144353 0.07329670785869258 0 1 360.4,257.9854127209601 Z\" style=\"fill: rgb(255, 165, 0);\"/><title>Electricity\n Generation → _\nElectricity\n1.06k</title><text class=\"label\" dy=\"0.35em\" x=\"364.4\" y=\"250.27751361463828\"/></g><g class=\"link\" style=\"opacity: 0.8;\"><path d=\"M1,415.6254624193141 A51.695640853602285 51.695640853602285 0.8902273132107698 0 0 41.178617224705086,396.45854735039734 L82.82290387719553,345.02063170372753 A47.576417831479034 47.576417831479034 0.8902273132107698 0 1 119.8,327.38097882774014 L119.8,348.07977047688723 A26.87762618233195 26.87762618233195 0.8902273132107698 0 0 98.91031111217231,358.04504355957795 L57.266024459681866,409.48295920624776 A72.39443250274937 72.39443250274937 0.8902273132107698 0 1 1,436.3242540684612 Z\" style=\"fill: rgb(128, 0, 128);\"/><title>Imports → _\nOil products\n1.43k</title><text class=\"label\" dy=\"0.35em\" x=\"5\" y=\"425.97485824388764\"/></g><g class=\"link\" style=\"opacity: 0.8;\"><path d=\"M120.8,327.38097882774014 A30.771336116903193 30.771336116903193 0.6449670842993469 0 0 139.29886983819085,321.19961914696034 L208.65759338879693,269.0215293289939 A51.470127766050275 51.470127766050275 0.6449670842993469 0 1 239.6,258.68218717859304 L239.6,279.38097882774014 A30.771336116903193 30.771336116903193 0.6449670842993469 0 0 221.10113016180915,285.56233850851993 L151.74240661120308,337.7404283264864 A51.470127766050275 51.470127766050275 0.6449670842993469 0 1 120.8,348.07977047688723 Z\" style=\"fill: rgb(128, 0, 128);\"/><title>_ → Refining\nOil products\n1.43k</title><text class=\"label\" dy=\"0.35em\" x=\"124.8\" y=\"337.7303746523137\"/></g><g class=\"link\" style=\"opacity: 0.8;\"><path d=\"M480.2,175.61548708989133 A36.631446632325705 36.631446632325705 0.8703347836079907 0 0 508.2063809969281,162.59559495598506 L553.4520881968549,108.92828921372958 A59.57520540100473 59.57520540100473 0.8703347836079907 0 1 599,87.75351127056473 L599,111.4296156548707 A35.89910101669877 35.89910101669877 0.8703347836079907 0 0 571.5535300144645,124.18921064528965 L526.3078228145376,177.85651638754513 A60.30755101663166 60.30755101663166 0.8703347836079907 0 1 480.2,199.2915914741973 Z\" style=\"fill: rgb(128, 0, 128);\"/><title>_ → Transport (PJ)\nOil products\n1.63k</title><text class=\"label\" dy=\"0.35em\" x=\"484.2\" y=\"187.45353928204432\"/></g><g class=\"link\" style=\"opacity: 0.8;\"><path d=\"M360.4,95.50828861703071 A54.133414151185036 54.133414151185036 0.3488177929418472 0 0 378.90209911951484,92.24823543045433 L452.46760819385565,65.49324392089162 A78.21359228193884 78.21359228193884 0.3488177929418472 0 1 479.2,60.78302058193492 L479.2,84.86319871268873 A54.133414151185036 54.133414151185036 0.3488177929418472 0 0 460.6979008804851,88.12325189926511 L387.1323918061443,114.87824340882783 A78.21359228193884 78.21359228193884 0.3488177929418472 0 1 360.4,119.58846674778452 Z\" style=\"fill: rgb(70, 130, 180);\"/><title>   →   \nNatural gas\n1.66k</title><text class=\"label\" dy=\"0.35em\" x=\"364.4\" y=\"107.54837768240762\"/></g><g class=\"link\" style=\"opacity: 0.8;\"><path d=\"M1,388.3830101526909 A24.453188586979053 24.453188586979053 1.369392608224257 0 0 24.958909843381093,368.82155655312675 L62.71769731683896,183.88525333976753 A58.25992591545122 58.25992591545122 1.369392608224257 0 1 119.8,137.27992686238585 L119.8,161.60712526973245 A33.93272750810459 33.93272750810459 1.369392608224257 0 0 86.5531636532832,188.75178463779093 L48.794376179825335,373.6880878511501 A48.78038699432568 48.78038699432568 1.369392608224257 0 1 1,412.7102085600375 Z\" style=\"fill: rgb(70, 130, 180);\"/><title>Imports → Natural gas\nNatural gas\n1.68k</title><text class=\"label\" dy=\"0.35em\" x=\"5\" y=\"400.5466093563642\"/></g><g class=\"link\" style=\"opacity: 0.8;\"><path d=\"M240.6,93.20968776785048 A935.4418588953835 935.4418588953835 0.023701942218091077 0 1 262.7697129940089,93.47243269660257 L337.89838503167863,95.25346166936419 A907.2517393732045 907.2517393732045 0.023701942218091077 0 0 359.4,95.50828861703071 L359.4,123.6984081392098 A935.4418588953835 935.4418588953835 0.023701942218091077 0 1 337.2302870059911,123.43566321045773 L262.10161496832137,121.65463423769609 A907.2517393732045 907.2517393732045 0.023701942218091077 0 0 240.6,121.39980729002957 Z\" style=\"fill: rgb(70, 130, 180);\"/><title>   →   \nNatural gas\n1.94k</title><text class=\"label\" dy=\"0.35em\" x=\"244.6\" y=\"107.30474752894003\"/></g><g class=\"link\" style=\"opacity: 0.8;\"><path d=\"M120.8,52.93156106560152 A591.8831302138865 591.8831302138865 0.03604730632906361 0 0 142.13117215506597,52.54705378018765 L217.25059100659703,49.838027598897085 A620.1364865129617 620.1364865129617 0.03604730632906361 0 1 239.6,49.43516597834535 L239.6,77.68852227742047 A591.8831302138865 591.8831302138865 0.03604730632906361 0 0 218.268827844934,78.07302956283435 L143.14940899340294,80.78205574412492 A620.1364865129617 620.1364865129617 0.03604730632906361 0 1 120.8,81.18491736467664 Z\" style=\"fill: rgb(128, 128, 128);\"/><title>Crude, NGL and feedstocks →  \nCrude, NGL and feedstocks\n1.95k</title><text class=\"label\" dy=\"0.35em\" x=\"124.8\" y=\"67.05823921513908\"/></g><g class=\"link\" style=\"opacity: 0.8;\"><path d=\"M240.6,49.43516597834535 A1014.1266781495376 1014.1266781495376 0.004285403623703887 0 1 244.94592883947317,49.444478022194936 L355.1751478254027,49.916857608379246 A985.8733218504624 985.8733218504624 0.004285403623703887 0 0 359.4,49.9259102206426 L359.4,78.17926651971771 A1014.1266781495376 1014.1266781495376 0.004285403623703887 0 1 355.0540711605268,78.16995447586814 L244.82485217459723,77.69757488968382 A985.8733218504624 985.8733218504624 0.004285403623703887 0 0 240.6,77.68852227742047 Z\" style=\"fill: rgb(128, 128, 128);\"/><title>  →  \nCrude, NGL and feedstocks\n1.95k</title><text class=\"label\" dy=\"0.35em\" x=\"244.6\" y=\"63.561844127882914\"/></g><g class=\"link\" style=\"opacity: 0.8;\"><path d=\"M360.4,49.9259102206426 A69.08861640621897 69.08861640621897 1.4352268696893882 0 1 428.85469568105674,109.67688473291531 L462.7618285684944,358.2516844081423 A16.59039616131451 16.59039616131451 1.4352268696893882 0 0 479.2,372.5998127937902 L479.2,400.8531690928653 A44.84375246038963 44.84375246038963 1.4352268696893882 0 1 434.7677101735057,362.0702544873527 L400.860577286068,113.49545481212573 A40.83526010714385 40.83526010714385 1.4352268696893882 0 0 360.4,78.17926651971771 Z\" style=\"fill: rgb(128, 128, 128);\"/><title>  → Exports\nCrude, NGL and feedstocks\n1.95k</title><text class=\"label\" dy=\"0.35em\" x=\"364.4\" y=\"64.05258837018016\"/></g><g class=\"link\" style=\"opacity: 0.8;\"><path d=\"M360.4,179.81979502847986 A369.1198627175046 369.1198627175046 0.05672586336552987 0 0 381.32741522814547,179.22607296379005 L456.4227535308847,174.96165002875588 A401.7473729127928 401.7473729127928 0.05672586336552987 0 1 479.2,174.31544725339333 L479.2,206.94295744868154 A369.1198627175046 369.1198627175046 0.05672586336552987 0 0 458.2725847718545,207.53667951337135 L383.1772464691153,211.80110244840552 A401.7473729127928 401.7473729127928 0.05672586336552987 0 1 360.4,212.44730522376807 Z\" style=\"fill: rgb(128, 0, 128);\"/><title>_ → _\nOil products\n2.25k</title><text class=\"label\" dy=\"0.35em\" x=\"364.4\" y=\"196.13355012612396\"/></g><g class=\"link\" style=\"opacity: 0.8;\"><path d=\"M1,355.74506763838343 A0 0 1.3660765012759877 0 0 1,355.74506763838343 L52.50311442528292,107.69095818149324 A68.73215171289706 68.73215171289706 1.3660765012759877 0 1 119.8,52.931561065601514 L119.8,85.56950357990898 A36.094209198589596 36.094209198589596 1.3660765012759877 0 0 84.45951078479627,114.3260183380344 L32.956396359513356,362.3801277949246 A32.63794251430746 32.63794251430746 1.3660765012759877 0 1 1,388.38301015269093 Z\" style=\"fill: rgb(128, 128, 128);\"/><title>Imports → Crude, NGL and feedstocks\nCrude, NGL and feedstocks\n2.25k</title><text class=\"label\" dy=\"0.35em\" x=\"5\" y=\"372.0640388955372\"/></g><g class=\"link\" style=\"opacity: 0.8;\"><path d=\"M120.8,81.18491736467664 A54.703607112675186 54.703607112675186 1.1242968404872085 0 1 170.1406944168323,112.26691349074257 L215.0571333267758,206.08813033341158 A27.210466974149636 27.210466974149636 1.1242968404872085 0 0 239.6,221.54882248369202 L239.6,258.68218717859304 A64.34383166905066 64.34383166905066 1.1242968404872085 0 1 181.56416829604072,222.12272003862319 L136.6477293860972,128.30150319595418 A17.570242417774157 17.570242417774157 1.1242968404872085 0 0 120.8,118.31828205957765 Z\" style=\"fill: rgb(128, 128, 128);\"/><title>Crude, NGL and feedstocks → Refining\nCrude, NGL and feedstocks\n2.56k</title><text class=\"label\" dy=\"0.35em\" x=\"124.8\" y=\"99.75159971212715\"/></g><g class=\"link\" style=\"opacity: 0.8;\"><path d=\"M120.8,137.27992686238585 A33.55659543005998 33.55659543005998 0.43601164613890253 0 0 134.9718769874886,134.14048119209482 L207.61328289794093,100.29559181581372 A75.73910822660827 75.73910822660827 0.43601164613890253 0 1 239.6,93.20968776785048 L239.6,135.39220056439876 A33.55659543005998 33.55659543005998 0.43601164613890253 0 0 225.4281230125114,138.5316462346898 L152.78671710205907,172.37653561097088 A75.73910822660827 75.73910822660827 0.43601164613890253 0 1 120.8,179.46243965893413 Z\" style=\"fill: rgb(70, 130, 180);\"/><title>Natural gas →   \nNatural gas\n2.91k</title><text class=\"label\" dy=\"0.35em\" x=\"124.8\" y=\"158.37118326066\"/></g><g class=\"link\" style=\"opacity: 0.8;\"><path d=\"M240.6,221.54882248369202 A34.28141024572376 34.28141024572376 0.41453899155310214 0 0 254.4074554258767,218.64525893110581 L327.29850034514635,186.57040486253436 A79.70220762824738 79.70220762824738 0.41453899155310214 0 1 359.4,179.81979502847986 L359.4,225.2405924110035 A34.28141024572376 34.28141024572376 0.41453899155310214 0 0 345.5925445741232,228.1441559635897 L272.7014996548536,260.2190100321612 A79.70220762824738 79.70220762824738 0.41453899155310214 0 1 240.6,266.9696198662156 Z\" style=\"fill: rgb(128, 0, 128);\"/><title>Refining → _\nOil products\n3.13k</title><text class=\"label\" dy=\"0.35em\" x=\"244.6\" y=\"244.25922117495384\"/></g></g><g class=\"nodes\"><g class=\"node\" transform=\"translate(0,352.8174823564501)\"><title>Imports</title><line x1=\"0\" x2=\"0\" y1=\"0\" y2=\"84.78834509569992\" style=\"display: inline; stroke: rgb(0, 0, 0);\"/><rect class=\"node-body\" width=\"1\" height=\"84.78834509569992\" style=\"fill: none;\"/><text class=\"node-value\" dy=\".35em\" text-anchor=\"middle\" transform=\"translate(0.5,42.39417254784996) rotate(-90)\" style=\"display: none;\"/><text class=\"node-title\" dy=\".35em\" text-anchor=\"end\" transform=\"translate(-4,42.39417254784996)\" style=\"display: inline;\">Imports</text><rect class=\"node-click-target\" x=\"-5\" y=\"-5\" width=\"10\" height=\"89.78834509569992\" style=\"fill: none; visibility: hidden; pointer-events: all;\"/></g><g class=\"node\" transform=\"translate(119.8,31.042330980860015)\"><title>Coal, peat and oil shale</title><line x1=\"0\" x2=\"0\" y1=\"-5\" y2=\"2.927585281933304\" style=\"display: inline; stroke: rgb(0, 0, 0);\"/><rect class=\"node-body\" width=\"1\" height=\"2.927585281933304\" style=\"fill: none;\"/><text class=\"node-value\" dy=\".35em\" text-anchor=\"middle\" transform=\"translate(0.5,1.463792640966652) rotate(-90)\" style=\"display: none;\"/><text class=\"node-title\" dy=\".35em\" text-anchor=\"start\" transform=\"translate(-4,-10)\" style=\"display: inline;\">Coal, peat and oil shale</text><rect class=\"node-click-target\" x=\"-5\" y=\"-5\" width=\"10\" height=\"7.927585281933304\" style=\"fill: none; visibility: hidden; pointer-events: all;\"/></g><g class=\"node\" transform=\"translate(119.8,52.931561065601514)\"><title>Crude, NGL and feedstocks</title><line x1=\"0\" x2=\"0\" y1=\"0\" y2=\"65.38672099397614\" style=\"display: inline; stroke: rgb(0, 0, 0);\"/><rect class=\"node-body\" width=\"1\" height=\"65.38672099397614\" style=\"fill: none;\"/><text class=\"node-value\" dy=\".35em\" text-anchor=\"middle\" transform=\"translate(0.5,32.69336049698807) rotate(-90)\" style=\"display: none;\"/><text class=\"node-title\" dy=\".35em\" text-anchor=\"start\" transform=\"translate(5,32.69336049698807)\" style=\"display: inline;\">Crude, NGL and feedstocks</text><rect class=\"node-click-target\" x=\"-5\" y=\"-5\" width=\"10\" height=\"70.38672099397614\" style=\"fill: none; visibility: hidden; pointer-events: all;\"/></g><g class=\"node\" transform=\"translate(119.8,137.27992686238585)\"><title>Natural gas</title><line x1=\"0\" x2=\"0\" y1=\"0\" y2=\"42.18251279654831\" style=\"display: inline; stroke: rgb(0, 0, 0);\"/><rect class=\"node-body\" width=\"1\" height=\"42.18251279654831\" style=\"fill: none;\"/><text class=\"node-value\" dy=\".35em\" text-anchor=\"middle\" transform=\"translate(0.5,21.091256398274155) rotate(-90)\" style=\"display: none;\"/><text class=\"node-title\" dy=\".35em\" text-anchor=\"start\" transform=\"translate(5,21.091256398274155)\" style=\"display: inline;\">Natural gas</text><rect class=\"node-click-target\" x=\"-5\" y=\"-5\" width=\"10\" height=\"47.18251279654831\" style=\"fill: none; visibility: hidden; pointer-events: all;\"/></g><g class=\"node\" transform=\"translate(119.8,198.42408446174232)\"><title>Nuclear</title><line x1=\"0\" x2=\"0\" y1=\"0\" y2=\"8.885694322350702\" style=\"display: inline; stroke: rgb(0, 0, 0);\"/><rect class=\"node-body\" width=\"1\" height=\"8.885694322350702\" style=\"fill: none;\"/><text class=\"node-value\" dy=\".35em\" text-anchor=\"middle\" transform=\"translate(0.5,4.442847161175351) rotate(-90)\" style=\"display: none;\"/><text class=\"node-title\" dy=\".35em\" text-anchor=\"start\" transform=\"translate(5,4.442847161175351)\" style=\"display: inline;\">Nuclear</text><rect class=\"node-click-target\" x=\"-5\" y=\"-5\" width=\"10\" height=\"13.885694322350702\" style=\"fill: none; visibility: hidden; pointer-events: all;\"/></g><g class=\"node\" transform=\"translate(119.8,226.27142358690122)\"><title>Renewables and waste</title><line x1=\"0\" x2=\"0\" y1=\"0\" y2=\"13.482413901702444\" style=\"display: inline; stroke: rgb(0, 0, 0);\"/><rect class=\"node-body\" width=\"1\" height=\"13.482413901702444\" style=\"fill: none;\"/><text class=\"node-value\" dy=\".35em\" text-anchor=\"middle\" transform=\"translate(0.5,6.741206950851222) rotate(-90)\" style=\"display: none;\"/><text class=\"node-title\" dy=\".35em\" text-anchor=\"start\" transform=\"translate(5,6.741206950851222)\" style=\"display: inline;\">Renewables and waste</text><rect class=\"node-click-target\" x=\"-5\" y=\"-5\" width=\"10\" height=\"18.482413901702444\" style=\"fill: none; visibility: hidden; pointer-events: all;\"/></g><g class=\"node\" transform=\"translate(119.8,258.71548229141183)\"><title>Heat</title><line x1=\"0\" x2=\"0\" y1=\"0\" y2=\"1.7038517335200254\" style=\"display: inline; stroke: rgb(0, 0, 0);\"/><rect class=\"node-body\" width=\"1\" height=\"1.7038517335200254\" style=\"fill: none;\"/><text class=\"node-value\" dy=\".35em\" text-anchor=\"middle\" transform=\"translate(0.5,0.8519258667600127) rotate(-90)\" style=\"display: none;\"/><text class=\"node-title\" dy=\".35em\" text-anchor=\"start\" transform=\"translate(5,0.8519258667600127)\" style=\"display: inline;\">Heat</text><rect class=\"node-click-target\" x=\"-5\" y=\"-5\" width=\"10\" height=\"6.703851733520025\" style=\"fill: none; visibility: hidden; pointer-events: all;\"/></g><g class=\"node\" transform=\"translate(119.8,279.3809788277401)\"><title>→</title><line x1=\"0\" x2=\"0\" y1=\"0\" y2=\"0\" style=\"display: none; stroke: rgb(0, 0, 0);\"/><rect class=\"node-body\" width=\"1\" height=\"0\" style=\"fill: none;\"/><text class=\"node-value\" dy=\".35em\" text-anchor=\"middle\" transform=\"translate(0.5,0) rotate(0)\" style=\"display: none;\"/><text class=\"node-title\" dy=\".35em\" text-anchor=\"end\" transform=\"translate(-4,0)\" style=\"display: none;\">→</text><rect class=\"node-click-target\" x=\"-5\" y=\"-5\" width=\"10\" height=\"5\" style=\"fill: none; visibility: hidden; pointer-events: all;\"/></g><g class=\"node\" transform=\"translate(119.8,327.38097882774014)\"><title>_</title><line x1=\"0\" x2=\"0\" y1=\"-5\" y2=\"20.698791649147097\" style=\"display: inline; stroke: rgb(0, 0, 0);\"/><rect class=\"node-body\" width=\"1\" height=\"20.698791649147097\" style=\"fill: none;\"/><text class=\"node-value\" dy=\".35em\" text-anchor=\"middle\" transform=\"translate(0.5,10.349395824573548) rotate(-90)\" style=\"display: none;\"/><text class=\"node-title\" dy=\".35em\" text-anchor=\"start\" transform=\"translate(-4,-10)\" style=\"display: inline;\">_</text><rect class=\"node-click-target\" x=\"-5\" y=\"-5\" width=\"10\" height=\"25.698791649147097\" style=\"fill: none; visibility: hidden; pointer-events: all;\"/></g><g class=\"node\" transform=\"translate(119.8,461.76075759717116)\"><title>_</title><line x1=\"0\" x2=\"0\" y1=\"-5\" y2=\"1.2815733836888512\" style=\"display: inline; stroke: rgb(0, 0, 0);\"/><rect class=\"node-body\" width=\"1\" height=\"1.2815733836888512\" style=\"fill: none;\"/><text class=\"node-value\" dy=\".35em\" text-anchor=\"middle\" transform=\"translate(0.5,0.6407866918444256) rotate(-90)\" style=\"display: none;\"/><text class=\"node-title\" dy=\".35em\" text-anchor=\"start\" transform=\"translate(-4,-10)\" style=\"display: inline;\">_</text><rect class=\"node-click-target\" x=\"-5\" y=\"-5\" width=\"10\" height=\"6.281573383688851\" style=\"fill: none; visibility: hidden; pointer-events: all;\"/></g><g class=\"node\" transform=\"translate(239.6,31.042330980860015)\"><title/><line x1=\"0\" x2=\"0\" y1=\"-5\" y2=\"2.871669507055323\" style=\"display: none; stroke: rgb(0, 0, 0);\"/><rect class=\"node-body\" width=\"1\" height=\"2.871669507055323\" style=\"fill: none;\"/><text class=\"node-value\" dy=\".35em\" text-anchor=\"middle\" transform=\"translate(0.5,1.4358347535276614) rotate(-90)\" style=\"display: none;\"/><text class=\"node-title\" dy=\".35em\" text-anchor=\"start\" transform=\"translate(-4,-10)\" style=\"display: none;\"/><rect class=\"node-click-target\" x=\"-5\" y=\"-5\" width=\"10\" height=\"7.871669507055323\" style=\"fill: none; visibility: hidden; pointer-events: all;\"/></g><g class=\"node\" transform=\"translate(239.6,49.43516597834535)\"><title> </title><line x1=\"0\" x2=\"0\" y1=\"0\" y2=\"28.253356299075122\" style=\"display: inline; stroke: rgb(0, 0, 0);\"/><rect class=\"node-body\" width=\"1\" height=\"28.253356299075122\" style=\"fill: none;\"/><text class=\"node-value\" dy=\".35em\" text-anchor=\"middle\" transform=\"translate(0.5,14.126678149537561) rotate(-90)\" style=\"display: none;\"/><text class=\"node-title\" dy=\".35em\" text-anchor=\"start\" transform=\"translate(5,14.126678149537561)\" style=\"display: inline;\"> </text><rect class=\"node-click-target\" x=\"-5\" y=\"-5\" width=\"10\" height=\"33.25335629907512\" style=\"fill: none; visibility: hidden; pointer-events: all;\"/></g><g class=\"node\" transform=\"translate(239.6,93.20968776785048)\"><title>  </title><line x1=\"0\" x2=\"0\" y1=\"0\" y2=\"42.18251279654828\" style=\"display: inline; stroke: rgb(0, 0, 0);\"/><rect class=\"node-body\" width=\"1\" height=\"42.18251279654828\" style=\"fill: none;\"/><text class=\"node-value\" dy=\".35em\" text-anchor=\"middle\" transform=\"translate(0.5,21.09125639827414) rotate(-90)\" style=\"display: none;\"/><text class=\"node-title\" dy=\".35em\" text-anchor=\"start\" transform=\"translate(5,21.09125639827414)\" style=\"display: inline;\">  </text><rect class=\"node-click-target\" x=\"-5\" y=\"-5\" width=\"10\" height=\"47.18251279654828\" style=\"fill: none; visibility: hidden; pointer-events: all;\"/></g><g class=\"node\" transform=\"translate(239.6,150.9133660548288)\"><title>   </title><line x1=\"0\" x2=\"0\" y1=\"0\" y2=\"8.885694322350702\" style=\"display: inline; stroke: rgb(0, 0, 0);\"/><rect class=\"node-body\" width=\"1\" height=\"8.885694322350702\" style=\"fill: none;\"/><text class=\"node-value\" dy=\".35em\" text-anchor=\"middle\" transform=\"translate(0.5,4.442847161175351) rotate(-90)\" style=\"display: none;\"/><text class=\"node-title\" dy=\".35em\" text-anchor=\"start\" transform=\"translate(5,4.442847161175351)\" style=\"display: inline;\">   </text><rect class=\"node-click-target\" x=\"-5\" y=\"-5\" width=\"10\" height=\"13.885694322350702\" style=\"fill: none; visibility: hidden; pointer-events: all;\"/></g><g class=\"node\" transform=\"translate(239.6,175.3202258676095)\"><title>    </title><line x1=\"0\" x2=\"0\" y1=\"0\" y2=\"13.482413901702444\" style=\"display: inline; stroke: rgb(0, 0, 0);\"/><rect class=\"node-body\" width=\"1\" height=\"13.482413901702444\" style=\"fill: none;\"/><text class=\"node-value\" dy=\".35em\" text-anchor=\"middle\" transform=\"translate(0.5,6.741206950851222) rotate(-90)\" style=\"display: none;\"/><text class=\"node-title\" dy=\".35em\" text-anchor=\"start\" transform=\"translate(5,6.741206950851222)\" style=\"display: inline;\">    </text><rect class=\"node-click-target\" x=\"-5\" y=\"-5\" width=\"10\" height=\"18.482413901702444\" style=\"fill: none; visibility: hidden; pointer-events: all;\"/></g><g class=\"node\" transform=\"translate(239.6,204.32380525974196)\"><title>     </title><line x1=\"0\" x2=\"0\" y1=\"0\" y2=\"1.7038517335200538\" style=\"display: inline; stroke: rgb(0, 0, 0);\"/><rect class=\"node-body\" width=\"1\" height=\"1.7038517335200538\" style=\"fill: none;\"/><text class=\"node-value\" dy=\".35em\" text-anchor=\"middle\" transform=\"translate(0.5,0.8519258667600269) rotate(-90)\" style=\"display: none;\"/><text class=\"node-title\" dy=\".35em\" text-anchor=\"start\" transform=\"translate(5,0.8519258667600269)\" style=\"display: inline;\">     </text><rect class=\"node-click-target\" x=\"-5\" y=\"-5\" width=\"10\" height=\"6.703851733520054\" style=\"fill: none; visibility: hidden; pointer-events: all;\"/></g><g class=\"node\" transform=\"translate(239.6,221.54882248369202)\"><title>Refining</title><line x1=\"0\" x2=\"0\" y1=\"0\" y2=\"57.832156344048116\" style=\"display: inline; stroke: rgb(0, 0, 0);\"/><rect class=\"node-body\" width=\"1\" height=\"57.832156344048116\" style=\"fill: none;\"/><text class=\"node-value\" dy=\".35em\" text-anchor=\"middle\" transform=\"translate(0.5,28.916078172024058) rotate(-90)\" style=\"display: none;\"/><text class=\"node-title\" dy=\".35em\" text-anchor=\"start\" transform=\"translate(5,28.916078172024058)\" style=\"display: inline;\">Refining</text><rect class=\"node-click-target\" x=\"-5\" y=\"-5\" width=\"10\" height=\"62.832156344048116\" style=\"fill: none; visibility: hidden; pointer-events: all;\"/></g><g class=\"node\" transform=\"translate(239.6,394.57086821245565)\"><title>_</title><line x1=\"0\" x2=\"0\" y1=\"-5\" y2=\"1.2815733836888512\" style=\"display: inline; stroke: rgb(0, 0, 0);\"/><rect class=\"node-body\" width=\"1\" height=\"1.2815733836888512\" style=\"fill: none;\"/><text class=\"node-value\" dy=\".35em\" text-anchor=\"middle\" transform=\"translate(0.5,0.6407866918444256) rotate(-90)\" style=\"display: none;\"/><text class=\"node-title\" dy=\".35em\" text-anchor=\"start\" transform=\"translate(-4,-10)\" style=\"display: inline;\">_</text><rect class=\"node-click-target\" x=\"-5\" y=\"-5\" width=\"10\" height=\"6.281573383688851\" style=\"fill: none; visibility: hidden; pointer-events: all;\"/></g><g class=\"node\" transform=\"translate(359.4,31.042330980860015)\"><title/><line x1=\"0\" x2=\"0\" y1=\"-5\" y2=\"1.5545571424695765\" style=\"display: none; stroke: rgb(0, 0, 0);\"/><rect class=\"node-body\" width=\"1\" height=\"1.5545571424695765\" style=\"fill: none;\"/><text class=\"node-value\" dy=\".35em\" text-anchor=\"middle\" transform=\"translate(0.5,0.7772785712347883) rotate(-90)\" style=\"display: none;\"/><text class=\"node-title\" dy=\".35em\" text-anchor=\"start\" transform=\"translate(-4,-10)\" style=\"display: none;\"/><rect class=\"node-click-target\" x=\"-5\" y=\"-5\" width=\"10\" height=\"6.5545571424695765\" style=\"fill: none; visibility: hidden; pointer-events: all;\"/></g><g class=\"node\" transform=\"translate(359.4,49.92591022064259)\"><title> </title><line x1=\"0\" x2=\"0\" y1=\"0\" y2=\"28.253356299075122\" style=\"display: inline; stroke: rgb(0, 0, 0);\"/><rect class=\"node-body\" width=\"1\" height=\"28.253356299075122\" style=\"fill: none;\"/><text class=\"node-value\" dy=\".35em\" text-anchor=\"middle\" transform=\"translate(0.5,14.126678149537561) rotate(-90)\" style=\"display: none;\"/><text class=\"node-title\" dy=\".35em\" text-anchor=\"start\" transform=\"translate(5,14.126678149537561)\" style=\"display: inline;\"> </text><rect class=\"node-click-target\" x=\"-5\" y=\"-5\" width=\"10\" height=\"33.25335629907512\" style=\"fill: none; visibility: hidden; pointer-events: all;\"/></g><g class=\"node\" transform=\"translate(359.4,95.50828861703071)\"><title>  </title><line x1=\"0\" x2=\"0\" y1=\"0\" y2=\"28.19011952217909\" style=\"display: inline; stroke: rgb(0, 0, 0);\"/><rect class=\"node-body\" width=\"1\" height=\"28.19011952217909\" style=\"fill: none;\"/><text class=\"node-value\" dy=\".35em\" text-anchor=\"middle\" transform=\"translate(0.5,14.095059761089544) rotate(-90)\" style=\"display: none;\"/><text class=\"node-title\" dy=\".35em\" text-anchor=\"start\" transform=\"translate(5,14.095059761089544)\" style=\"display: inline;\">  </text><rect class=\"node-click-target\" x=\"-5\" y=\"-5\" width=\"10\" height=\"33.19011952217909\" style=\"fill: none; visibility: hidden; pointer-events: all;\"/></g><g class=\"node\" transform=\"translate(359.4,141.0274302365228)\"><title>   </title><line x1=\"0\" x2=\"0\" y1=\"0\" y2=\"0\" style=\"display: none; stroke: rgb(0, 0, 0);\"/><rect class=\"node-body\" width=\"1\" height=\"0\" style=\"fill: none;\"/><text class=\"node-value\" dy=\".35em\" text-anchor=\"middle\" transform=\"translate(0.5,0) rotate(0)\" style=\"display: none;\"/><text class=\"node-title\" dy=\".35em\" text-anchor=\"start\" transform=\"translate(5,0)\" style=\"display: none;\">   </text><rect class=\"node-click-target\" x=\"-5\" y=\"-5\" width=\"10\" height=\"5\" style=\"fill: none; visibility: hidden; pointer-events: all;\"/></g><g class=\"node\" transform=\"translate(359.4,141.0274302365228)\"><title>    </title><line x1=\"0\" x2=\"0\" y1=\"0\" y2=\"3.37910175788312\" style=\"display: inline; stroke: rgb(0, 0, 0);\"/><rect class=\"node-body\" width=\"1\" height=\"3.37910175788312\" style=\"fill: none;\"/><text class=\"node-value\" dy=\".35em\" text-anchor=\"middle\" transform=\"translate(0.5,1.68955087894156) rotate(-90)\" style=\"display: none;\"/><text class=\"node-title\" dy=\".35em\" text-anchor=\"start\" transform=\"translate(5,1.68955087894156)\" style=\"display: inline;\">    </text><rect class=\"node-click-target\" x=\"-5\" y=\"-5\" width=\"10\" height=\"8.37910175788312\" style=\"fill: none; visibility: hidden; pointer-events: all;\"/></g><g class=\"node\" transform=\"translate(359.4,161.73555409171894)\"><title>     </title><line x1=\"0\" x2=\"0\" y1=\"0\" y2=\"1\" style=\"display: inline; stroke: rgb(0, 0, 0);\"/><rect class=\"node-body\" width=\"1\" height=\"1\" style=\"fill: none;\"/><text class=\"node-value\" dy=\".35em\" text-anchor=\"middle\" transform=\"translate(0.5,0.377609419723953) rotate(0)\" style=\"display: none;\"/><text class=\"node-title\" dy=\".35em\" text-anchor=\"start\" transform=\"translate(5,0.377609419723953)\" style=\"display: inline;\">     </text><rect class=\"node-click-target\" x=\"-5\" y=\"-5\" width=\"10\" height=\"6\" style=\"fill: none; visibility: hidden; pointer-events: all;\"/></g><g class=\"node\" transform=\"translate(359.4,179.81979502847986)\"><title>_</title><line x1=\"0\" x2=\"0\" y1=\"0\" y2=\"45.4207973825236\" style=\"display: inline; stroke: rgb(0, 0, 0);\"/><rect class=\"node-body\" width=\"1\" height=\"45.4207973825236\" style=\"fill: none;\"/><text class=\"node-value\" dy=\".35em\" text-anchor=\"middle\" transform=\"translate(0.5,22.7103986912618) rotate(-90)\" style=\"display: none;\"/><text class=\"node-title\" dy=\".35em\" text-anchor=\"start\" transform=\"translate(5,22.7103986912618)\" style=\"display: inline;\">_</text><rect class=\"node-click-target\" x=\"-5\" y=\"-5\" width=\"10\" height=\"50.4207973825236\" style=\"fill: none; visibility: hidden; pointer-events: all;\"/></g><g class=\"node\" transform=\"translate(359.4,242.56961450831648)\"><title>Electricity\n Generation</title><line x1=\"0\" x2=\"0\" y1=\"0\" y2=\"36.81136431942372\" style=\"display: inline; stroke: rgb(0, 0, 0);\"/><rect class=\"node-body\" width=\"1\" height=\"36.81136431942372\" style=\"fill: none;\"/><text class=\"node-value\" dy=\".35em\" text-anchor=\"middle\" transform=\"translate(0.5,18.40568215971186) rotate(-90)\" style=\"display: none;\"/><text class=\"node-title\" dy=\".35em\" text-anchor=\"start\" transform=\"translate(5,18.40568215971186)\" style=\"display: inline;\"><tspan x=\"0\" dy=\"-0.33000000000000007em\">Electricity</tspan><tspan x=\"0\" dy=\"1.1em\"> Generation</tspan></text><rect class=\"node-click-target\" x=\"-5\" y=\"-5\" width=\"10\" height=\"41.81136431942372\" style=\"fill: none; visibility: hidden; pointer-events: all;\"/></g><g class=\"node\" transform=\"translate(479.2,31.042330980860015)\"><title/><line x1=\"0\" x2=\"0\" y1=\"-5\" y2=\"1.2295780178674107\" style=\"display: none; stroke: rgb(0, 0, 0);\"/><rect class=\"node-body\" width=\"1\" height=\"1.2295780178674107\" style=\"fill: none;\"/><text class=\"node-value\" dy=\".35em\" text-anchor=\"middle\" transform=\"translate(0.5,0.6147890089337054) rotate(-90)\" style=\"display: none;\"/><text class=\"node-title\" dy=\".35em\" text-anchor=\"start\" transform=\"translate(-4,-10)\" style=\"display: none;\"/><rect class=\"node-click-target\" x=\"-5\" y=\"-5\" width=\"10\" height=\"6.229578017867411\" style=\"fill: none; visibility: hidden; pointer-events: all;\"/></g><g class=\"node\" transform=\"translate(479.2,60.78302058193492)\"><title> </title><line x1=\"0\" x2=\"0\" y1=\"-5\" y2=\"0\" style=\"display: none; stroke: rgb(0, 0, 0);\"/><rect class=\"node-body\" width=\"1\" height=\"0\" style=\"fill: none;\"/><text class=\"node-value\" dy=\".35em\" text-anchor=\"middle\" transform=\"translate(0.5,0) rotate(0)\" style=\"display: none;\"/><text class=\"node-title\" dy=\".35em\" text-anchor=\"start\" transform=\"translate(-4,-10)\" style=\"display: none;\"> </text><rect class=\"node-click-target\" x=\"-5\" y=\"-5\" width=\"10\" height=\"5\" style=\"fill: none; visibility: hidden; pointer-events: all;\"/></g><g class=\"node\" transform=\"translate(479.2,60.78302058193492)\"><title>  </title><line x1=\"0\" x2=\"0\" y1=\"0\" y2=\"24.080178130753808\" style=\"display: inline; stroke: rgb(0, 0, 0);\"/><rect class=\"node-body\" width=\"1\" height=\"24.080178130753808\" style=\"fill: none;\"/><text class=\"node-value\" dy=\".35em\" text-anchor=\"middle\" transform=\"translate(0.5,12.040089065376904) rotate(-90)\" style=\"display: none;\"/><text class=\"node-title\" dy=\".35em\" text-anchor=\"start\" transform=\"translate(5,12.040089065376904)\" style=\"display: inline;\">  </text><rect class=\"node-click-target\" x=\"-5\" y=\"-5\" width=\"10\" height=\"29.080178130753808\" style=\"fill: none; visibility: hidden; pointer-events: all;\"/></g><g class=\"node\" transform=\"translate(479.2,113.37431029589621)\"><title>   </title><line x1=\"0\" x2=\"0\" y1=\"-5\" y2=\"0\" style=\"display: none; stroke: rgb(0, 0, 0);\"/><rect class=\"node-body\" width=\"1\" height=\"0\" style=\"fill: none;\"/><text class=\"node-value\" dy=\".35em\" text-anchor=\"middle\" transform=\"translate(0.5,0) rotate(0)\" style=\"display: none;\"/><text class=\"node-title\" dy=\".35em\" text-anchor=\"start\" transform=\"translate(-4,-10)\" style=\"display: none;\">   </text><rect class=\"node-click-target\" x=\"-5\" y=\"-5\" width=\"10\" height=\"5\" style=\"fill: none; visibility: hidden; pointer-events: all;\"/></g><g class=\"node\" transform=\"translate(479.2,113.37431029589621)\"><title>    </title><line x1=\"0\" x2=\"0\" y1=\"0\" y2=\"3.1636949516342128\" style=\"display: inline; stroke: rgb(0, 0, 0);\"/><rect class=\"node-body\" width=\"1\" height=\"3.1636949516342128\" style=\"fill: none;\"/><text class=\"node-value\" dy=\".35em\" text-anchor=\"middle\" transform=\"translate(0.5,1.5818474758171064) rotate(-90)\" style=\"display: none;\"/><text class=\"node-title\" dy=\".35em\" text-anchor=\"start\" transform=\"translate(5,1.5818474758171064)\" style=\"display: inline;\">    </text><rect class=\"node-click-target\" x=\"-5\" y=\"-5\" width=\"10\" height=\"8.163694951634213\" style=\"fill: none; visibility: hidden; pointer-events: all;\"/></g><g class=\"node\" transform=\"translate(479.2,145.04911683073792)\"><title>     </title><line x1=\"0\" x2=\"0\" y1=\"-5\" y2=\"1\" style=\"display: inline; stroke: rgb(0, 0, 0);\"/><rect class=\"node-body\" width=\"1\" height=\"1\" style=\"fill: none;\"/><text class=\"node-value\" dy=\".35em\" text-anchor=\"middle\" transform=\"translate(0.5,0.377609419723953) rotate(0)\" style=\"display: none;\"/><text class=\"node-title\" dy=\".35em\" text-anchor=\"start\" transform=\"translate(-4,-10)\" style=\"display: inline;\">     </text><rect class=\"node-click-target\" x=\"-5\" y=\"-5\" width=\"10\" height=\"6\" style=\"fill: none; visibility: hidden; pointer-events: all;\"/></g><g class=\"node\" transform=\"translate(479.2,174.31544725339333)\"><title>_</title><line x1=\"0\" x2=\"0\" y1=\"-5\" y2=\"32.62751019528818\" style=\"display: inline; stroke: rgb(0, 0, 0);\"/><rect class=\"node-body\" width=\"1\" height=\"32.62751019528818\" style=\"fill: none;\"/><text class=\"node-value\" dy=\".35em\" text-anchor=\"middle\" transform=\"translate(0.5,16.31375509764409) rotate(-90)\" style=\"display: none;\"/><text class=\"node-title\" dy=\".35em\" text-anchor=\"start\" transform=\"translate(-4,-10)\" style=\"display: inline;\">_</text><rect class=\"node-click-target\" x=\"-5\" y=\"-5\" width=\"10\" height=\"37.62751019528818\" style=\"fill: none; visibility: hidden; pointer-events: all;\"/></g><g class=\"node\" transform=\"translate(479.2,235.45406903188902)\"><title>_</title><line x1=\"0\" x2=\"0\" y1=\"-5\" y2=\"15.415798212643637\" style=\"display: inline; stroke: rgb(0, 0, 0);\"/><rect class=\"node-body\" width=\"1\" height=\"15.415798212643637\" style=\"fill: none;\"/><text class=\"node-value\" dy=\".35em\" text-anchor=\"middle\" transform=\"translate(0.5,7.707899106321818) rotate(-90)\" style=\"display: none;\"/><text class=\"node-title\" dy=\".35em\" text-anchor=\"start\" transform=\"translate(-4,-10)\" style=\"display: inline;\">_</text><rect class=\"node-click-target\" x=\"-5\" y=\"-5\" width=\"10\" height=\"20.415798212643637\" style=\"fill: none; visibility: hidden; pointer-events: all;\"/></g><g class=\"node\" transform=\"translate(479.2,279.38097882774014)\"><title>→</title><line x1=\"0\" x2=\"0\" y1=\"0\" y2=\"0\" style=\"display: none; stroke: rgb(0, 0, 0);\"/><rect class=\"node-body\" width=\"1\" height=\"0\" style=\"fill: none;\"/><text class=\"node-value\" dy=\".35em\" text-anchor=\"middle\" transform=\"translate(0.5,0) rotate(0)\" style=\"display: none;\"/><text class=\"node-title\" dy=\".35em\" text-anchor=\"start\" transform=\"translate(5,0)\" style=\"display: none;\">→</text><rect class=\"node-click-target\" x=\"-5\" y=\"-5\" width=\"10\" height=\"5\" style=\"fill: none; visibility: hidden; pointer-events: all;\"/></g><g class=\"node\" transform=\"translate(479.2,372.274833669188)\"><title>Exports</title><line x1=\"0\" x2=\"0\" y1=\"0\" y2=\"45.87364247022413\" style=\"display: inline; stroke: rgb(0, 0, 0);\"/><rect class=\"node-body\" width=\"1\" height=\"45.87364247022413\" style=\"fill: none;\"/><text class=\"node-value\" dy=\".35em\" text-anchor=\"middle\" transform=\"translate(0.5,22.936821235112063) rotate(-90)\" style=\"display: none;\"/><text class=\"node-title\" dy=\".35em\" text-anchor=\"start\" transform=\"translate(5,22.936821235112063)\" style=\"display: inline;\">Exports</text><rect class=\"node-click-target\" x=\"-5\" y=\"-5\" width=\"10\" height=\"50.87364247022413\" style=\"fill: none; visibility: hidden; pointer-events: all;\"/></g><g class=\"node\" transform=\"translate(599,31.042330980860015)\"><title>Industry (PJ)</title><line x1=\"0\" x2=\"0\" y1=\"0\" y2=\"12.939142154598287\" style=\"display: inline; stroke: rgb(0, 0, 0);\"/><rect class=\"node-body\" width=\"1\" height=\"12.939142154598287\" style=\"fill: none;\"/><text class=\"node-value\" dy=\".35em\" text-anchor=\"middle\" transform=\"translate(0.5,6.469571077299143) rotate(-90)\" style=\"display: none;\"/><text class=\"node-title\" dy=\".35em\" text-anchor=\"start\" transform=\"translate(5,6.469571077299143)\" style=\"display: inline;\">Industry (PJ)</text><rect class=\"node-click-target\" x=\"-5\" y=\"-5\" width=\"10\" height=\"17.939142154598287\" style=\"fill: none; visibility: hidden; pointer-events: all;\"/></g><g class=\"node\" transform=\"translate(599,86.74814051026954)\"><title>Transport (PJ)</title><line x1=\"0\" x2=\"0\" y1=\"0\" y2=\"24.966219828576143\" style=\"display: inline; stroke: rgb(0, 0, 0);\"/><rect class=\"node-body\" width=\"1\" height=\"24.966219828576143\" style=\"fill: none;\"/><text class=\"node-value\" dy=\".35em\" text-anchor=\"middle\" transform=\"translate(0.5,12.483109914288072) rotate(-90)\" style=\"display: none;\"/><text class=\"node-title\" dy=\".35em\" text-anchor=\"start\" transform=\"translate(5,12.483109914288072)\" style=\"display: inline;\">Transport (PJ)</text><rect class=\"node-click-target\" x=\"-5\" y=\"-5\" width=\"10\" height=\"29.966219828576143\" style=\"fill: none; visibility: hidden; pointer-events: all;\"/></g><g class=\"node\" transform=\"translate(599,154.4810277136569)\"><title>Residential (PJ)</title><line x1=\"0\" x2=\"0\" y1=\"0\" y2=\"23.080348957679064\" style=\"display: inline; stroke: rgb(0, 0, 0);\"/><rect class=\"node-body\" width=\"1\" height=\"23.080348957679064\" style=\"fill: none;\"/><text class=\"node-value\" dy=\".35em\" text-anchor=\"middle\" transform=\"translate(0.5,11.540174478839532) rotate(-90)\" style=\"display: none;\"/><text class=\"node-title\" dy=\".35em\" text-anchor=\"start\" transform=\"translate(5,11.540174478839532)\" style=\"display: inline;\">Residential (PJ)</text><rect class=\"node-click-target\" x=\"-5\" y=\"-5\" width=\"10\" height=\"28.080348957679064\" style=\"fill: none; visibility: hidden; pointer-events: all;\"/></g><g class=\"node\" transform=\"translate(599,220.32804404614723)\"><title>Commercial and public services (PJ)</title><line x1=\"0\" x2=\"0\" y1=\"0\" y2=\"10.384369861545565\" style=\"display: inline; stroke: rgb(0, 0, 0);\"/><rect class=\"node-body\" width=\"1\" height=\"10.384369861545565\" style=\"fill: none;\"/><text class=\"node-value\" dy=\".35em\" text-anchor=\"middle\" transform=\"translate(0.5,5.1921849307727825) rotate(-90)\" style=\"display: none;\"/><text class=\"node-title\" dy=\".35em\" text-anchor=\"start\" transform=\"translate(5,5.1921849307727825)\" style=\"display: inline;\">Commercial and public services (PJ)</text><rect class=\"node-click-target\" x=\"-5\" y=\"-5\" width=\"10\" height=\"15.384369861545565\" style=\"fill: none; visibility: hidden; pointer-events: all;\"/></g><g class=\"node\" transform=\"translate(599,273.479081282504)\"><title>Other final consumption (PJ)</title><line x1=\"0\" x2=\"0\" y1=\"0\" y2=\"5.901897545236125\" style=\"display: inline; stroke: rgb(0, 0, 0);\"/><rect class=\"node-body\" width=\"1\" height=\"5.901897545236125\" style=\"fill: none;\"/><text class=\"node-value\" dy=\".35em\" text-anchor=\"middle\" transform=\"translate(0.5,2.9509487726180623) rotate(-90)\" style=\"display: none;\"/><text class=\"node-title\" dy=\".35em\" text-anchor=\"start\" transform=\"translate(5,2.9509487726180623)\" style=\"display: inline;\">Other final consumption (PJ)</text><rect class=\"node-click-target\" x=\"-5\" y=\"-5\" width=\"10\" height=\"10.901897545236125\" style=\"fill: none; visibility: hidden; pointer-events: all;\"/></g></g><g class=\"slice-titles\"/></g></svg>",
            "_view_module_version": "^0.4.1",
            "order": [
              [
                [],
                [
                  "imports^*"
                ]
              ],
              [
                [
                  "sources^Coal, peat and oil shale",
                  "sources^Crude, NGL and feedstocks",
                  "sources^Natural gas",
                  "sources^Nuclear",
                  "sources^Renewables and waste",
                  "sources^Heat",
                  "__>refining^*"
                ],
                [
                  "import_refining^_",
                  "import_electricity^_"
                ]
              ],
              [
                [
                  "direct_use^",
                  "direct_use^ ",
                  "direct_use^  ",
                  "direct_use^   ",
                  "direct_use^    ",
                  "direct_use^     ",
                  "refining^*"
                ],
                [
                  "import_electricity_2^_"
                ]
              ],
              [
                [
                  "direct_use_2^",
                  "direct_use_2^ ",
                  "direct_use_2^  ",
                  "direct_use_2^   ",
                  "direct_use_2^    ",
                  "direct_use_2^     ",
                  "refining_use^_",
                  "electricity^*"
                ],
                []
              ],
              [
                [
                  "direct_use_3^",
                  "direct_use_3^ ",
                  "direct_use_3^  ",
                  "direct_use_3^   ",
                  "direct_use_3^    ",
                  "direct_use_3^     ",
                  "refining_use_2^_",
                  "electricity_use^_",
                  "__electricity>^*"
                ],
                [
                  "exports^*"
                ]
              ],
              [
                [
                  "uses^Industry (PJ)",
                  "uses^Transport (PJ)",
                  "uses^Residential (PJ)",
                  "uses^Commercial and public services (PJ)",
                  "uses^Other final consumption (PJ)"
                ],
                []
              ]
            ]
          }
        },
        "50baf3c2c9f14a06aea29b08b69fb3d9": {
          "model_module": "@jupyter-widgets/base",
          "model_name": "LayoutModel",
          "model_module_version": "1.2.0",
          "state": {
            "_view_name": "LayoutView",
            "grid_template_rows": null,
            "right": null,
            "justify_content": null,
            "_view_module": "@jupyter-widgets/base",
            "overflow": null,
            "_model_module_version": "1.2.0",
            "_view_count": null,
            "flex_flow": null,
            "width": "900",
            "min_width": null,
            "border": null,
            "align_items": null,
            "bottom": null,
            "_model_module": "@jupyter-widgets/base",
            "top": null,
            "grid_column": null,
            "overflow_y": null,
            "overflow_x": null,
            "grid_auto_flow": null,
            "grid_area": null,
            "grid_template_columns": null,
            "flex": null,
            "_model_name": "LayoutModel",
            "justify_items": null,
            "grid_row": null,
            "max_height": null,
            "align_content": null,
            "visibility": null,
            "align_self": null,
            "height": "500",
            "min_height": null,
            "padding": null,
            "grid_auto_rows": null,
            "grid_gap": null,
            "max_width": null,
            "order": null,
            "_view_module_version": "1.2.0",
            "grid_template_areas": null,
            "object_position": null,
            "object_fit": null,
            "grid_auto_columns": null,
            "margin": null,
            "display": null,
            "left": null
          }
        }
      }
    }
  },
  "nbformat": 4,
  "nbformat_minor": 0
}