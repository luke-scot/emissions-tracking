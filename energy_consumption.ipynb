{
  "cells": [
    {
      "cell_type": "markdown",
      "metadata": {
        "id": "view-in-github",
        "colab_type": "text"
      },
      "source": [
        "<a href=\"https://colab.research.google.com/github/luke-scot/emissions-tracking/blob/main/energy_consumption.ipynb\" target=\"_parent\"><img src=\"https://colab.research.google.com/assets/colab-badge.svg\" alt=\"Open In Colab\"/></a>"
      ]
    },
    {
      "cell_type": "markdown",
      "metadata": {
        "id": "4d4Ip_8p3bCF"
      },
      "source": [
        "# Energy consumption\n",
        "\n",
        "\n",
        "Run the first two cells setup the notebook.\n",
        "\n",
        "\n",
        "\n"
      ]
    },
    {
      "cell_type": "code",
      "execution_count": 2,
      "metadata": {
        "id": "bY7nXRLo3bCJ"
      },
      "outputs": [],
      "source": [
        "%%capture\n",
        "\"\"\"Installation and downloads\"\"\"\n",
        "# Install floweaver and display widget packages\n",
        "%pip install floweaver ipysankeywidget\n",
        "\n",
        "# Import necessary packages\n",
        "from floweaver import *\n",
        "\n",
        "\"\"\"Import example data\"\"\"\n",
        "# Import packages\n",
        "import gdown, os\n",
        "from google.colab import files\n",
        "\n",
        "# Import and unzip files -> You can then view them in the left files panel\n",
        "folder, zip_path = 'example_data', 'example_data.zip'\n",
        "if not os.path.exists(folder): \n",
        "  gdown.download('https://drive.google.com/uc?id=1qriY29v7eKJIs07UxAw5RlJirfwuLnyP', zip_path ,quiet=True)\n",
        "  ! unzip $zip_path -d 'example_data'\n",
        "  ! rm $zip_path"
      ]
    },
    {
      "cell_type": "code",
      "source": [
        "\"\"\"Display setup\"\"\"\n",
        "# Enable widget display for Sankeys in Colab\n",
        "from google.colab import output\n",
        "output.enable_custom_widget_manager()"
      ],
      "metadata": {
        "colab": {
          "base_uri": "https://localhost:8080/",
          "height": 52
        },
        "id": "IV4oVXv37Dxn",
        "outputId": "9154cd61-d058-41ad-bc8d-206453a33622"
      },
      "execution_count": 3,
      "outputs": [
        {
          "output_type": "display_data",
          "data": {
            "application/javascript": [
              "\n",
              "    async function download(id, filename, size) {\n",
              "      if (!google.colab.kernel.accessAllowed) {\n",
              "        return;\n",
              "      }\n",
              "      const div = document.createElement('div');\n",
              "      const label = document.createElement('label');\n",
              "      label.textContent = `Downloading \"${filename}\": `;\n",
              "      div.appendChild(label);\n",
              "      const progress = document.createElement('progress');\n",
              "      progress.max = size;\n",
              "      div.appendChild(progress);\n",
              "      document.body.appendChild(div);\n",
              "\n",
              "      const buffers = [];\n",
              "      let downloaded = 0;\n",
              "\n",
              "      const channel = await google.colab.kernel.comms.open(id);\n",
              "      // Send a message to notify the kernel that we're ready.\n",
              "      channel.send({})\n",
              "\n",
              "      for await (const message of channel.messages) {\n",
              "        // Send a message to notify the kernel that we're ready.\n",
              "        channel.send({})\n",
              "        if (message.buffers) {\n",
              "          for (const buffer of message.buffers) {\n",
              "            buffers.push(buffer);\n",
              "            downloaded += buffer.byteLength;\n",
              "            progress.value = downloaded;\n",
              "          }\n",
              "        }\n",
              "      }\n",
              "      const blob = new Blob(buffers, {type: 'application/binary'});\n",
              "      const a = document.createElement('a');\n",
              "      a.href = window.URL.createObjectURL(blob);\n",
              "      a.download = filename;\n",
              "      div.appendChild(a);\n",
              "      a.click();\n",
              "      div.remove();\n",
              "    }\n",
              "  "
            ],
            "text/plain": [
              "<IPython.core.display.Javascript object>"
            ]
          },
          "metadata": {}
        },
        {
          "output_type": "display_data",
          "data": {
            "application/javascript": [
              "download(\"download_05d83395-8ded-4bb0-a30c-9b2f9ff369e1\", \"us-energy-consumption.csv\", 1866)"
            ],
            "text/plain": [
              "<IPython.core.display.Javascript object>"
            ]
          },
          "metadata": {}
        },
        {
          "output_type": "display_data",
          "data": {
            "application/javascript": [
              "\n",
              "    async function download(id, filename, size) {\n",
              "      if (!google.colab.kernel.accessAllowed) {\n",
              "        return;\n",
              "      }\n",
              "      const div = document.createElement('div');\n",
              "      const label = document.createElement('label');\n",
              "      label.textContent = `Downloading \"${filename}\": `;\n",
              "      div.appendChild(label);\n",
              "      const progress = document.createElement('progress');\n",
              "      progress.max = size;\n",
              "      div.appendChild(progress);\n",
              "      document.body.appendChild(div);\n",
              "\n",
              "      const buffers = [];\n",
              "      let downloaded = 0;\n",
              "\n",
              "      const channel = await google.colab.kernel.comms.open(id);\n",
              "      // Send a message to notify the kernel that we're ready.\n",
              "      channel.send({})\n",
              "\n",
              "      for await (const message of channel.messages) {\n",
              "        // Send a message to notify the kernel that we're ready.\n",
              "        channel.send({})\n",
              "        if (message.buffers) {\n",
              "          for (const buffer of message.buffers) {\n",
              "            buffers.push(buffer);\n",
              "            downloaded += buffer.byteLength;\n",
              "            progress.value = downloaded;\n",
              "          }\n",
              "        }\n",
              "      }\n",
              "      const blob = new Blob(buffers, {type: 'application/binary'});\n",
              "      const a = document.createElement('a');\n",
              "      a.href = window.URL.createObjectURL(blob);\n",
              "      a.download = filename;\n",
              "      div.appendChild(a);\n",
              "      a.click();\n",
              "      div.remove();\n",
              "    }\n",
              "  "
            ],
            "text/plain": [
              "<IPython.core.display.Javascript object>"
            ]
          },
          "metadata": {}
        },
        {
          "output_type": "display_data",
          "data": {
            "application/javascript": [
              "download(\"download_1c102ece-8b7e-490b-8f21-2f07e93550ab\", \"us-energy-consumption-processes.csv\", 222)"
            ],
            "text/plain": [
              "<IPython.core.display.Javascript object>"
            ]
          },
          "metadata": {}
        }
      ]
    },
    {
      "cell_type": "markdown",
      "source": [
        "## Task 1 - US example \n",
        "\n",
        "Step through this section to see an example for the US based on the [Sankey diagrams of US energy consumption from the Lawrence Livermore National Laboratory](https://flowcharts.llnl.gov/) (thanks to John Muth for the suggestion and transcribing the data)"
      ],
      "metadata": {
        "id": "POjd-O7vCEbE"
      }
    },
    {
      "cell_type": "code",
      "execution_count": 9,
      "metadata": {
        "id": "1rgEr88P3bCL"
      },
      "outputs": [],
      "source": [
        "\"\"\"Load the dataset\"\"\"\n",
        "dataset = Dataset.from_csv('example_data/us-energy-consumption.csv',\n",
        "                           dim_process_filename='example_data/us-energy-consumption-processes.csv')"
      ]
    },
    {
      "cell_type": "code",
      "execution_count": 10,
      "metadata": {
        "id": "QYvMGV2k3bCM"
      },
      "outputs": [],
      "source": [
        "\"\"\"Define the order the nodes appear in\"\"\"\n",
        "sources = ['Solar', 'Nuclear', 'Hydro', 'Wind', 'Geothermal',\n",
        "           'Natural_Gas', 'Coal', 'Biomass', 'Petroleum']\n",
        "\n",
        "uses = ['Residential', 'Commercial', 'Industrial', 'Transportation']"
      ]
    },
    {
      "cell_type": "code",
      "execution_count": 11,
      "metadata": {
        "id": "XdOB57Yf3bCN"
      },
      "outputs": [],
      "source": [
        "\"\"\"define the Sankey diagram definition\"\"\"\n",
        "nodes = {\n",
        "    'sources': ProcessGroup('type == \"source\"', Partition.Simple('process', sources), title='Sources'),\n",
        "    'imports': ProcessGroup(['Net_Electricity_Import'], title='Net electricity imports'),\n",
        "    'electricity': ProcessGroup(['Electricity_Generation'], title='Electricity Generation'),\n",
        "    'uses': ProcessGroup('type == \"use\"', partition=Partition.Simple('process', uses)),\n",
        "    \n",
        "    'energy_services': ProcessGroup(['Energy_Services'], title='Energy services'),\n",
        "    'rejected': ProcessGroup(['Rejected_Energy'], title='Rejected energy'),\n",
        "    \n",
        "    'direct_use': Waypoint(Partition.Simple('source', [\n",
        "        # This is a hack to hide the labels of the partition, there should be a better way...\n",
        "        (' '*i, [k]) for i, k in enumerate(sources)\n",
        "    ])),\n",
        "}\n",
        "\n",
        "ordering = [\n",
        "    [[], ['sources'], []],\n",
        "    [['imports'], ['electricity', 'direct_use'], []],\n",
        "    [[], ['uses'], []],\n",
        "    [[], ['rejected', 'energy_services'], []]\n",
        "]\n",
        "\n",
        "bundles = [\n",
        "    Bundle('sources', 'electricity'),\n",
        "    Bundle('sources', 'uses', waypoints=['direct_use']),\n",
        "    Bundle('electricity', 'uses'),\n",
        "    Bundle('imports', 'uses'),\n",
        "    Bundle('uses', 'energy_services'),\n",
        "    Bundle('uses', 'rejected'),\n",
        "    Bundle('electricity', 'rejected'),\n",
        "]"
      ]
    },
    {
      "cell_type": "code",
      "execution_count": 12,
      "metadata": {
        "id": "GM6VX1-b3bCP"
      },
      "outputs": [],
      "source": [
        "\"\"\"Define the colours to roughly imitate the original Sankey diagram\"\"\"\n",
        "palette = {\n",
        "    'Solar': 'gold',\n",
        "    'Nuclear': 'red',\n",
        "    'Hydro': 'blue',\n",
        "    'Wind': 'purple',\n",
        "    'Geothermal': 'brown',\n",
        "    'Natural_Gas': 'steelblue',\n",
        "    'Coal': 'black',\n",
        "    'Biomass': 'lightgreen',\n",
        "    'Petroleum': 'green',\n",
        "    'Electricity': 'orange',\n",
        "    'Rejected energy': 'lightgrey',\n",
        "    'Energy services': 'dimgrey',\n",
        "}"
      ]
    },
    {
      "cell_type": "markdown",
      "metadata": {
        "id": "UysJD6jp3bCP"
      },
      "source": [
        "And here's the result!"
      ]
    },
    {
      "cell_type": "code",
      "execution_count": 13,
      "metadata": {
        "colab": {
          "base_uri": "https://localhost:8080/",
          "height": 488,
          "referenced_widgets": [
            "aa82a0bbff57483bb02afea183994e28",
            "6a1512be3f604f35b265348c35ed49f9",
            "72e6d7b759754d92be5b2b7fb3fdc6cd",
            "afe5eb0d5ffc47dcba9ad3fb73c3ccd5",
            "8fa9bdc9c3814611bc75a93d32da85a2",
            "ef287dcf304144a99458f7ab99dab3b0"
          ]
        },
        "id": "lCgMwYvP3bCQ",
        "outputId": "5952015b-7f82-439a-b4f2-c2123de72a37"
      },
      "outputs": [
        {
          "output_type": "display_data",
          "data": {
            "application/vnd.jupyter.widget-view+json": {
              "model_id": "aa82a0bbff57483bb02afea183994e28",
              "version_minor": 0,
              "version_major": 2
            },
            "text/plain": [
              "VBox(children=(SankeyWidget(groups=[{'id': 'sources', 'type': 'process', 'title': 'Sources', 'nodes': ['source…"
            ]
          },
          "metadata": {
            "application/vnd.jupyter.widget-view+json": {
              "colab": {
                "custom_widget_manager": {
                  "url": "https://ssl.gstatic.com/colaboratory-static/widgets/colab-cdn-widget-manager/a8874ba6619b6106/manager.min.js"
                }
              }
            }
          }
        }
      ],
      "source": [
        "sdd = SankeyDefinition(nodes, bundles, ordering,\n",
        "                       flow_partition=dataset.partition('type'))\n",
        "weave(sdd, dataset, palette=palette) \\\n",
        "    .to_widget(width=700, height=450, margins=dict(left=100, right=120), debugging=True)"
      ]
    },
    {
      "cell_type": "markdown",
      "source": [
        "You can save a copy of the Sankey by adding `.auto_save_png('filename.png')` or `.auto_save_svg('filename.svg')` to the end of the `weave` call in the previous box."
      ],
      "metadata": {
        "id": "Jasbl9Li5l6H"
      }
    },
    {
      "cell_type": "markdown",
      "source": [
        "## Task 2 - Create your own\n",
        "\n",
        "Follow the steps below to create an equivalent Sankey for your own country.\n",
        "\n",
        "  1. Find and download the IEA World Energy Balances Highlights spreadsheet, from the webpage: https://www.iea.org/reports/world-energy-balances-overview. Then upload it to Colab using the `upload` button in the left panel.\n",
        "\n",
        "  2. Import the Excel sheet to a pandas DataFrame. To find appropriate functions for the next steps either have a look at the [pandas documentation](https://pandas.pydata.org/docs/reference/index.html), or remember [your best friend](https://www.google.com/) when writing code.\n",
        "\n"
      ],
      "metadata": {
        "id": "rmsJKiUlCK94"
      }
    },
    {
      "cell_type": "code",
      "source": [
        "\"\"\"Read in an Excel file\"\"\"\n",
        "import pandas as pd\n",
        "fileName = 'WorldEnergyBalancesHighlights2021.xlsx'\n",
        "sheetName = 'TimeSeries_1971-2020'\n",
        "data = pd.read_excel(fileName,sheet_name=sheetName,header=1)"
      ],
      "metadata": {
        "id": "Bx6dXau0CKmX"
      },
      "execution_count": 14,
      "outputs": []
    },
    {
      "cell_type": "markdown",
      "source": [
        "3. Filter the DataFrame for only the desired country"
      ],
      "metadata": {
        "id": "ZZFYds1VccfR"
      }
    },
    {
      "cell_type": "code",
      "source": [
        "\"\"\"Get desired country\"\"\"\n",
        "country = 'Australia'\n",
        "countryData = data.loc[data['Country']=='Australia']"
      ],
      "metadata": {
        "id": "oMSN66Gocb4h"
      },
      "execution_count": 39,
      "outputs": []
    },
    {
      "cell_type": "markdown",
      "source": [
        "4. Filter the DataFrame to only contain 'Product', 'Flow' and value for the latest full year."
      ],
      "metadata": {
        "id": "tbAZ9lu2dmmV"
      }
    },
    {
      "cell_type": "code",
      "source": [
        "\"\"\"Get values for latest year\"\"\"\n",
        "lastYear = max([colName for colName in data.columns if isinstance(colName, int)])\n",
        "filterData = countryData[['Product','Flow',lastYear]]"
      ],
      "metadata": {
        "id": "mvTXPkZJdGVI"
      },
      "execution_count": 41,
      "outputs": []
    },
    {
      "cell_type": "markdown",
      "source": [
        "5. Find all sources as all unique values in product column, and all targets as all unique sources in flow column."
      ],
      "metadata": {
        "id": "U5sWPIkTitba"
      }
    },
    {
      "cell_type": "code",
      "source": [
        "\"\"\"Get all unique types of sources and targets listed in products and flows respectively\"\"\"\n",
        "sources = filterData['Product'].unique()\n",
        "targets = filterData['Flow'].unique()\n",
        "display(sources, targets)"
      ],
      "metadata": {
        "colab": {
          "base_uri": "https://localhost:8080/",
          "height": 226
        },
        "id": "l0_lBNM0DYMr",
        "outputId": "47cb2652-0b4c-42ff-bee7-92ddf1b5b9e0"
      },
      "execution_count": 49,
      "outputs": [
        {
          "output_type": "display_data",
          "data": {
            "text/plain": [
              "array(['Coal, peat and oil shale', 'Crude, NGL and feedstocks',\n",
              "       'Oil products', 'Natural gas', 'Nuclear', 'Renewables and waste',\n",
              "       'Electricity', 'Heat', 'Total', 'Fossil fuels',\n",
              "       'Renewable sources'], dtype=object)"
            ]
          },
          "metadata": {}
        },
        {
          "output_type": "display_data",
          "data": {
            "text/plain": [
              "array(['Production (PJ)', 'Imports (PJ)', 'Exports (PJ)',\n",
              "       'Total energy supply (PJ)',\n",
              "       'Electricity, CHP and heat plants (PJ)',\n",
              "       'Oil refineries, transformation (PJ)',\n",
              "       'Total final consumption (PJ)', 'Industry (PJ)', 'Transport (PJ)',\n",
              "       'Residential (PJ)', 'Commercial and public services (PJ)',\n",
              "       'Other final consumption (PJ)', 'Electricity output (GWh)'],\n",
              "      dtype=object)"
            ]
          },
          "metadata": {}
        }
      ]
    },
    {
      "cell_type": "markdown",
      "source": [
        "6. Fetching the Sankey definition for the US energy consumption example, adapt this to fit with your new source and target values."
      ],
      "metadata": {
        "id": "IsEQ9EAHidc9"
      }
    },
    {
      "cell_type": "code",
      "source": [
        "sources = ['Coal, peat and oil shale', 'Crude, NGL and feedstocks', 'Oil products', 'Natural gas', 'Nuclear', 'Renewables and waste']\n",
        "imports = ['Imports (PJ)']\n",
        "electricity = ['Electricity']\n",
        "uses = ['Industry (PJ)', 'Transport (PJ)', 'Residential (PJ)', 'Commercial and public services (PJ)','Other final consumption (PJ)']\n",
        "transformation = ['Electricity, CHP and heat plants (PJ)', 'Oil refineries, transformation (PJ)']"
      ],
      "metadata": {
        "id": "Upqd7uTxjXMc"
      },
      "execution_count": 106,
      "outputs": []
    },
    {
      "cell_type": "code",
      "source": [
        "\"\"\"Define the Sankey diagram definition\"\"\"\n",
        "nodes = {\n",
        "    'sources': ProcessGroup('type == \"source\"', Partition.Simple('process', sources), title='Sources'),\n",
        "    # 'imports': ProcessGroup(imports, title='Net electricity imports'),\n",
        "    # 'electricity': ProcessGroup(electricity, title='Electricity Generation'),\n",
        "    'uses': ProcessGroup('type == \"use\"', partition=Partition.Simple('process', uses)),\n",
        "    # 'transformation': ProcessGroup(transformation, title='Energy services'),\n",
        "    #'rejected': ProcessGroup(['Rejected_Energy'], title='Rejected energy')\n",
        "    \n",
        "    # 'direct_use': Waypoint(Partition.Simple('source', [\n",
        "    #     # This is a hack to hide the labels of the partition, there should be a better way...\n",
        "    #     (' '*i, [k]) for i, k in enumerate(sources)\n",
        "    # ])),\n",
        "}\n",
        "\n",
        "ordering = [\n",
        "    [[], ['sources'], []],\n",
        "    # [['imports'], ['electricity']],\n",
        "    [[],['uses'],[]]#, ['transformation']]\n",
        "   # [[], ['rejected', 'energy_services'], []]\n",
        "]\n",
        "\n",
        "bundles = [\n",
        "    # Bundle('sources', 'electricity'),\n",
        "    Bundle('sources', 'uses'),\n",
        "    # Bundle('electricity', 'uses'),\n",
        "    # Bundle('imports', 'uses'),\n",
        "    # Bundle('sources', 'transformation'),\n",
        "    # Bundle('uses', 'rejected'),\n",
        "    # Bundle('electricity', 'rejected'),\n",
        "]"
      ],
      "metadata": {
        "id": "b9d2J6dWic5q"
      },
      "execution_count": 123,
      "outputs": []
    },
    {
      "cell_type": "code",
      "source": [
        "# \"\"\"define the Sankey diagram definition\"\"\"\n",
        "# nodes = {\n",
        "#     'sources': ProcessGroup('type == \"source\"', Partition.Simple('process', sources), title='Sources'),\n",
        "#     'imports': ProcessGroup(['Net_Electricity_Import'], title='Net electricity imports'),\n",
        "#     'electricity': ProcessGroup(['Electricity_Generation'], title='Electricity Generation'),\n",
        "#     'uses': ProcessGroup('type == \"use\"', partition=Partition.Simple('process', uses)),\n",
        "    \n",
        "#     'energy_services': ProcessGroup(['Energy_Services'], title='Energy services'),\n",
        "#     'rejected': ProcessGroup(['Rejected_Energy'], title='Rejected energy'),\n",
        "    \n",
        "#     'direct_use': Waypoint(Partition.Simple('source', [\n",
        "#         # This is a hack to hide the labels of the partition, there should be a better way...\n",
        "#         (' '*i, [k]) for i, k in enumerate(sources)\n",
        "#     ])),\n",
        "# }\n",
        "\n",
        "# ordering = [\n",
        "#     [[], ['sources'], []],\n",
        "#     [['imports'], ['electricity', 'direct_use'], []],\n",
        "#     [[], ['uses'], []],\n",
        "#     [[], ['rejected', 'energy_services'], []]\n",
        "# ]\n",
        "\n",
        "# bundles = [\n",
        "#     Bundle('sources', 'electricity'),\n",
        "#     Bundle('sources', 'uses', waypoints=['direct_use']),\n",
        "#     Bundle('electricity', 'uses'),\n",
        "#     Bundle('imports', 'uses'),\n",
        "#     Bundle('uses', 'energy_services'),\n",
        "#     Bundle('uses', 'rejected'),\n",
        "#     Bundle('electricity', 'rejected'),\n",
        "# ]"
      ],
      "metadata": {
        "id": "Rmwz2xIBo4T6"
      },
      "execution_count": 124,
      "outputs": []
    },
    {
      "cell_type": "code",
      "source": [
        "\"\"\"Define the colours to roughly imitate the original Sankey diagram\"\"\"\n",
        "palette = {\n",
        "    'Coal, peat and oil shale': 'black',\n",
        "    'Crude, NGL and feedstocks':'grey',\n",
        "    'Oil products': 'purple',\n",
        "    'Natural gas': 'steelblue',\n",
        "    'Nuclear': 'red',\n",
        "    'Renewables and waste':'green',\n",
        "    'Electricity': 'orange',\n",
        "    'Heat': 'red',\n",
        "    'Fossil Fuels': 'darkgrey',\n",
        "    'Renewable sources':'lightgreen'\n",
        "}"
      ],
      "metadata": {
        "id": "j5pkN2sliKr1"
      },
      "execution_count": 125,
      "outputs": []
    },
    {
      "cell_type": "code",
      "source": [
        ""
      ],
      "metadata": {
        "id": "RP03CbxDrSQc",
        "outputId": "6d70f39e-49e8-4de4-bffd-659538932f69",
        "colab": {
          "base_uri": "https://localhost:8080/"
        }
      },
      "execution_count": 128,
      "outputs": [
        {
          "output_type": "execute_result",
          "data": {
            "text/plain": [
              "<floweaver.dataset.Dataset at 0x7f40f2d27490>"
            ]
          },
          "metadata": {},
          "execution_count": 128
        }
      ]
    },
    {
      "cell_type": "code",
      "source": [
        "sdd = SankeyDefinition(nodes, bundles, ordering,\n",
        "                       flow_partition=dataset.partition('type'))\n",
        "weave(sdd, Dataset(filterData), palette=palette) \\\n",
        "    .to_widget(width=700, height=450, margins=dict(left=100, right=120), debugging=True)"
      ],
      "metadata": {
        "id": "_EyAAE6plFVB",
        "outputId": "0d074a9c-5f78-4301-a538-cc5a7fe01970",
        "colab": {
          "base_uri": "https://localhost:8080/",
          "height": 554
        }
      },
      "execution_count": 129,
      "outputs": [
        {
          "output_type": "error",
          "ename": "UndefinedVariableError",
          "evalue": "ignored",
          "traceback": [
            "\u001b[0;31m---------------------------------------------------------------------------\u001b[0m",
            "\u001b[0;31mKeyError\u001b[0m                                  Traceback (most recent call last)",
            "\u001b[0;32m/usr/local/lib/python3.7/dist-packages/pandas/core/computation/scope.py\u001b[0m in \u001b[0;36mresolve\u001b[0;34m(self, key, is_local)\u001b[0m\n\u001b[1;32m    187\u001b[0m             \u001b[0;32mif\u001b[0m \u001b[0mself\u001b[0m\u001b[0;34m.\u001b[0m\u001b[0mhas_resolvers\u001b[0m\u001b[0;34m:\u001b[0m\u001b[0;34m\u001b[0m\u001b[0;34m\u001b[0m\u001b[0m\n\u001b[0;32m--> 188\u001b[0;31m                 \u001b[0;32mreturn\u001b[0m \u001b[0mself\u001b[0m\u001b[0;34m.\u001b[0m\u001b[0mresolvers\u001b[0m\u001b[0;34m[\u001b[0m\u001b[0mkey\u001b[0m\u001b[0;34m]\u001b[0m\u001b[0;34m\u001b[0m\u001b[0;34m\u001b[0m\u001b[0m\n\u001b[0m\u001b[1;32m    189\u001b[0m \u001b[0;34m\u001b[0m\u001b[0m\n",
            "\u001b[0;32m/usr/lib/python3.7/collections/__init__.py\u001b[0m in \u001b[0;36m__getitem__\u001b[0;34m(self, key)\u001b[0m\n\u001b[1;32m    915\u001b[0m                 \u001b[0;32mpass\u001b[0m\u001b[0;34m\u001b[0m\u001b[0;34m\u001b[0m\u001b[0m\n\u001b[0;32m--> 916\u001b[0;31m         \u001b[0;32mreturn\u001b[0m \u001b[0mself\u001b[0m\u001b[0;34m.\u001b[0m\u001b[0m__missing__\u001b[0m\u001b[0;34m(\u001b[0m\u001b[0mkey\u001b[0m\u001b[0;34m)\u001b[0m            \u001b[0;31m# support subclasses that define __missing__\u001b[0m\u001b[0;34m\u001b[0m\u001b[0;34m\u001b[0m\u001b[0m\n\u001b[0m\u001b[1;32m    917\u001b[0m \u001b[0;34m\u001b[0m\u001b[0m\n",
            "\u001b[0;32m/usr/lib/python3.7/collections/__init__.py\u001b[0m in \u001b[0;36m__missing__\u001b[0;34m(self, key)\u001b[0m\n\u001b[1;32m    907\u001b[0m     \u001b[0;32mdef\u001b[0m \u001b[0m__missing__\u001b[0m\u001b[0;34m(\u001b[0m\u001b[0mself\u001b[0m\u001b[0;34m,\u001b[0m \u001b[0mkey\u001b[0m\u001b[0;34m)\u001b[0m\u001b[0;34m:\u001b[0m\u001b[0;34m\u001b[0m\u001b[0;34m\u001b[0m\u001b[0m\n\u001b[0;32m--> 908\u001b[0;31m         \u001b[0;32mraise\u001b[0m \u001b[0mKeyError\u001b[0m\u001b[0;34m(\u001b[0m\u001b[0mkey\u001b[0m\u001b[0;34m)\u001b[0m\u001b[0;34m\u001b[0m\u001b[0;34m\u001b[0m\u001b[0m\n\u001b[0m\u001b[1;32m    909\u001b[0m \u001b[0;34m\u001b[0m\u001b[0m\n",
            "\u001b[0;31mKeyError\u001b[0m: 'type'",
            "\nDuring handling of the above exception, another exception occurred:\n",
            "\u001b[0;31mKeyError\u001b[0m                                  Traceback (most recent call last)",
            "\u001b[0;32m/usr/local/lib/python3.7/dist-packages/pandas/core/computation/scope.py\u001b[0m in \u001b[0;36mresolve\u001b[0;34m(self, key, is_local)\u001b[0m\n\u001b[1;32m    198\u001b[0m                 \u001b[0;31m# e.g., df[df > 0]\u001b[0m\u001b[0;34m\u001b[0m\u001b[0;34m\u001b[0m\u001b[0;34m\u001b[0m\u001b[0m\n\u001b[0;32m--> 199\u001b[0;31m                 \u001b[0;32mreturn\u001b[0m \u001b[0mself\u001b[0m\u001b[0;34m.\u001b[0m\u001b[0mtemps\u001b[0m\u001b[0;34m[\u001b[0m\u001b[0mkey\u001b[0m\u001b[0;34m]\u001b[0m\u001b[0;34m\u001b[0m\u001b[0;34m\u001b[0m\u001b[0m\n\u001b[0m\u001b[1;32m    200\u001b[0m             \u001b[0;32mexcept\u001b[0m \u001b[0mKeyError\u001b[0m \u001b[0;32mas\u001b[0m \u001b[0merr\u001b[0m\u001b[0;34m:\u001b[0m\u001b[0;34m\u001b[0m\u001b[0;34m\u001b[0m\u001b[0m\n",
            "\u001b[0;31mKeyError\u001b[0m: 'type'",
            "\nThe above exception was the direct cause of the following exception:\n",
            "\u001b[0;31mUndefinedVariableError\u001b[0m                    Traceback (most recent call last)",
            "\u001b[0;32m<ipython-input-129-49702139be64>\u001b[0m in \u001b[0;36m<module>\u001b[0;34m()\u001b[0m\n\u001b[1;32m      1\u001b[0m sdd = SankeyDefinition(nodes, bundles, ordering,\n\u001b[1;32m      2\u001b[0m                        flow_partition=dataset.partition('type'))\n\u001b[0;32m----> 3\u001b[0;31m \u001b[0mweave\u001b[0m\u001b[0;34m(\u001b[0m\u001b[0msdd\u001b[0m\u001b[0;34m,\u001b[0m \u001b[0mDataset\u001b[0m\u001b[0;34m(\u001b[0m\u001b[0mfilterData\u001b[0m\u001b[0;34m)\u001b[0m\u001b[0;34m,\u001b[0m \u001b[0mpalette\u001b[0m\u001b[0;34m=\u001b[0m\u001b[0mpalette\u001b[0m\u001b[0;34m)\u001b[0m     \u001b[0;34m.\u001b[0m\u001b[0mto_widget\u001b[0m\u001b[0;34m(\u001b[0m\u001b[0mwidth\u001b[0m\u001b[0;34m=\u001b[0m\u001b[0;36m700\u001b[0m\u001b[0;34m,\u001b[0m \u001b[0mheight\u001b[0m\u001b[0;34m=\u001b[0m\u001b[0;36m450\u001b[0m\u001b[0;34m,\u001b[0m \u001b[0mmargins\u001b[0m\u001b[0;34m=\u001b[0m\u001b[0mdict\u001b[0m\u001b[0;34m(\u001b[0m\u001b[0mleft\u001b[0m\u001b[0;34m=\u001b[0m\u001b[0;36m100\u001b[0m\u001b[0;34m,\u001b[0m \u001b[0mright\u001b[0m\u001b[0;34m=\u001b[0m\u001b[0;36m120\u001b[0m\u001b[0;34m)\u001b[0m\u001b[0;34m,\u001b[0m \u001b[0mdebugging\u001b[0m\u001b[0;34m=\u001b[0m\u001b[0;32mTrue\u001b[0m\u001b[0;34m)\u001b[0m\u001b[0;34m\u001b[0m\u001b[0;34m\u001b[0m\u001b[0m\n\u001b[0m",
            "\u001b[0;32m/usr/local/lib/python3.7/dist-packages/floweaver/weave.py\u001b[0m in \u001b[0;36mweave\u001b[0;34m(sankey_definition, dataset, measures, link_width, link_color, palette)\u001b[0m\n\u001b[1;32m     45\u001b[0m     \u001b[0;31m# Get the flows selected by the bundles\u001b[0m\u001b[0;34m\u001b[0m\u001b[0;34m\u001b[0m\u001b[0;34m\u001b[0m\u001b[0m\n\u001b[1;32m     46\u001b[0m     bundle_flows, unused_flows = dataset.apply_view(\n\u001b[0;32m---> 47\u001b[0;31m         \u001b[0msankey_definition\u001b[0m\u001b[0;34m.\u001b[0m\u001b[0mnodes\u001b[0m\u001b[0;34m,\u001b[0m \u001b[0mbundles2\u001b[0m\u001b[0;34m,\u001b[0m \u001b[0msankey_definition\u001b[0m\u001b[0;34m.\u001b[0m\u001b[0mflow_selection\u001b[0m\u001b[0;34m\u001b[0m\u001b[0;34m\u001b[0m\u001b[0m\n\u001b[0m\u001b[1;32m     48\u001b[0m     )\n\u001b[1;32m     49\u001b[0m \u001b[0;34m\u001b[0m\u001b[0m\n",
            "\u001b[0;32m/usr/local/lib/python3.7/dist-packages/floweaver/dataset.py\u001b[0m in \u001b[0;36mapply_view\u001b[0;34m(self, process_groups, bundles, flow_selection)\u001b[0m\n\u001b[1;32m     88\u001b[0m \u001b[0;34m\u001b[0m\u001b[0m\n\u001b[1;32m     89\u001b[0m     \u001b[0;32mdef\u001b[0m \u001b[0mapply_view\u001b[0m\u001b[0;34m(\u001b[0m\u001b[0mself\u001b[0m\u001b[0;34m,\u001b[0m \u001b[0mprocess_groups\u001b[0m\u001b[0;34m,\u001b[0m \u001b[0mbundles\u001b[0m\u001b[0;34m,\u001b[0m \u001b[0mflow_selection\u001b[0m\u001b[0;34m=\u001b[0m\u001b[0;32mNone\u001b[0m\u001b[0;34m)\u001b[0m\u001b[0;34m:\u001b[0m\u001b[0;34m\u001b[0m\u001b[0;34m\u001b[0m\u001b[0m\n\u001b[0;32m---> 90\u001b[0;31m         \u001b[0;32mreturn\u001b[0m \u001b[0m_apply_view\u001b[0m\u001b[0;34m(\u001b[0m\u001b[0mself\u001b[0m\u001b[0;34m,\u001b[0m \u001b[0mprocess_groups\u001b[0m\u001b[0;34m,\u001b[0m \u001b[0mbundles\u001b[0m\u001b[0;34m,\u001b[0m \u001b[0mflow_selection\u001b[0m\u001b[0;34m)\u001b[0m\u001b[0;34m\u001b[0m\u001b[0;34m\u001b[0m\u001b[0m\n\u001b[0m\u001b[1;32m     91\u001b[0m \u001b[0;34m\u001b[0m\u001b[0m\n\u001b[1;32m     92\u001b[0m     \u001b[0;32mdef\u001b[0m \u001b[0msave\u001b[0m\u001b[0;34m(\u001b[0m\u001b[0mself\u001b[0m\u001b[0;34m,\u001b[0m \u001b[0mfilename\u001b[0m\u001b[0;34m)\u001b[0m\u001b[0;34m:\u001b[0m\u001b[0;34m\u001b[0m\u001b[0;34m\u001b[0m\u001b[0m\n",
            "\u001b[0;32m/usr/local/lib/python3.7/dist-packages/floweaver/dataset.py\u001b[0m in \u001b[0;36m_apply_view\u001b[0;34m(dataset, process_groups, bundles, flow_selection)\u001b[0m\n\u001b[1;32m    191\u001b[0m         \u001b[0mtarget\u001b[0m \u001b[0;34m=\u001b[0m \u001b[0mprocess_groups\u001b[0m\u001b[0;34m[\u001b[0m\u001b[0mbundle\u001b[0m\u001b[0;34m.\u001b[0m\u001b[0mtarget\u001b[0m\u001b[0;34m]\u001b[0m\u001b[0;34m\u001b[0m\u001b[0;34m\u001b[0m\u001b[0m\n\u001b[1;32m    192\u001b[0m         \u001b[0mflows\u001b[0m\u001b[0;34m,\u001b[0m \u001b[0minternal_source\u001b[0m\u001b[0;34m,\u001b[0m \u001b[0minternal_target\u001b[0m \u001b[0;34m=\u001b[0m\u001b[0;31m \u001b[0m\u001b[0;31m\\\u001b[0m\u001b[0;34m\u001b[0m\u001b[0;34m\u001b[0m\u001b[0m\n\u001b[0;32m--> 193\u001b[0;31m             \u001b[0mfind_flows\u001b[0m\u001b[0;34m(\u001b[0m\u001b[0mtable\u001b[0m\u001b[0;34m,\u001b[0m \u001b[0msource\u001b[0m\u001b[0;34m.\u001b[0m\u001b[0mselection\u001b[0m\u001b[0;34m,\u001b[0m \u001b[0mtarget\u001b[0m\u001b[0;34m.\u001b[0m\u001b[0mselection\u001b[0m\u001b[0;34m,\u001b[0m \u001b[0mbundle\u001b[0m\u001b[0;34m.\u001b[0m\u001b[0mflow_selection\u001b[0m\u001b[0;34m)\u001b[0m\u001b[0;34m\u001b[0m\u001b[0;34m\u001b[0m\u001b[0m\n\u001b[0m\u001b[1;32m    194\u001b[0m         assert len(used_edges.intersection(\n\u001b[1;32m    195\u001b[0m             flows.index.values)) == 0, 'duplicate bundle'\n",
            "\u001b[0;32m/usr/local/lib/python3.7/dist-packages/floweaver/dataset.py\u001b[0m in \u001b[0;36mfind_flows\u001b[0;34m(flows, source_query, target_query, flow_query, ignore_edges)\u001b[0m\n\u001b[1;32m    152\u001b[0m \u001b[0;34m\u001b[0m\u001b[0m\n\u001b[1;32m    153\u001b[0m     \u001b[0;32melse\u001b[0m\u001b[0;34m:\u001b[0m\u001b[0;34m\u001b[0m\u001b[0;34m\u001b[0m\u001b[0m\n\u001b[0;32m--> 154\u001b[0;31m         \u001b[0mqs\u001b[0m \u001b[0;34m=\u001b[0m \u001b[0meval_selection\u001b[0m\u001b[0;34m(\u001b[0m\u001b[0mflows\u001b[0m\u001b[0;34m,\u001b[0m \u001b[0;34m'source'\u001b[0m\u001b[0;34m,\u001b[0m \u001b[0msource_query\u001b[0m\u001b[0;34m)\u001b[0m\u001b[0;34m\u001b[0m\u001b[0;34m\u001b[0m\u001b[0m\n\u001b[0m\u001b[1;32m    155\u001b[0m         \u001b[0mqt\u001b[0m \u001b[0;34m=\u001b[0m \u001b[0meval_selection\u001b[0m\u001b[0;34m(\u001b[0m\u001b[0mflows\u001b[0m\u001b[0;34m,\u001b[0m \u001b[0;34m'target'\u001b[0m\u001b[0;34m,\u001b[0m \u001b[0mtarget_query\u001b[0m\u001b[0;34m)\u001b[0m\u001b[0;34m\u001b[0m\u001b[0;34m\u001b[0m\u001b[0m\n\u001b[1;32m    156\u001b[0m \u001b[0;34m\u001b[0m\u001b[0m\n",
            "\u001b[0;32m/usr/local/lib/python3.7/dist-packages/floweaver/dataset.py\u001b[0m in \u001b[0;36meval_selection\u001b[0;34m(df, column, sel)\u001b[0m\n\u001b[1;32m     38\u001b[0m                        \u001b[0mlocal_dict\u001b[0m\u001b[0;34m=\u001b[0m\u001b[0;34m{\u001b[0m\u001b[0;34m}\u001b[0m\u001b[0;34m,\u001b[0m\u001b[0;34m\u001b[0m\u001b[0;34m\u001b[0m\u001b[0m\n\u001b[1;32m     39\u001b[0m                        \u001b[0mglobal_dict\u001b[0m\u001b[0;34m=\u001b[0m\u001b[0;34m{\u001b[0m\u001b[0;34m}\u001b[0m\u001b[0;34m,\u001b[0m\u001b[0;34m\u001b[0m\u001b[0;34m\u001b[0m\u001b[0m\n\u001b[0;32m---> 40\u001b[0;31m                        resolvers=(resolver, ))\n\u001b[0m\u001b[1;32m     41\u001b[0m     \u001b[0;32melse\u001b[0m\u001b[0;34m:\u001b[0m\u001b[0;34m\u001b[0m\u001b[0;34m\u001b[0m\u001b[0m\n\u001b[1;32m     42\u001b[0m         \u001b[0;32mraise\u001b[0m \u001b[0mTypeError\u001b[0m\u001b[0;34m(\u001b[0m\u001b[0;34m'Unknown selection type: %s'\u001b[0m \u001b[0;34m%\u001b[0m \u001b[0mtype\u001b[0m\u001b[0;34m(\u001b[0m\u001b[0msel\u001b[0m\u001b[0;34m)\u001b[0m\u001b[0;34m)\u001b[0m\u001b[0;34m\u001b[0m\u001b[0;34m\u001b[0m\u001b[0m\n",
            "\u001b[0;32m/usr/local/lib/python3.7/dist-packages/pandas/core/frame.py\u001b[0m in \u001b[0;36meval\u001b[0;34m(self, expr, inplace, **kwargs)\u001b[0m\n\u001b[1;32m   3473\u001b[0m         \u001b[0mkwargs\u001b[0m\u001b[0;34m[\u001b[0m\u001b[0;34m\"resolvers\"\u001b[0m\u001b[0;34m]\u001b[0m \u001b[0;34m=\u001b[0m \u001b[0mkwargs\u001b[0m\u001b[0;34m.\u001b[0m\u001b[0mget\u001b[0m\u001b[0;34m(\u001b[0m\u001b[0;34m\"resolvers\"\u001b[0m\u001b[0;34m,\u001b[0m \u001b[0;34m(\u001b[0m\u001b[0;34m)\u001b[0m\u001b[0;34m)\u001b[0m \u001b[0;34m+\u001b[0m \u001b[0mtuple\u001b[0m\u001b[0;34m(\u001b[0m\u001b[0mresolvers\u001b[0m\u001b[0;34m)\u001b[0m\u001b[0;34m\u001b[0m\u001b[0;34m\u001b[0m\u001b[0m\n\u001b[1;32m   3474\u001b[0m \u001b[0;34m\u001b[0m\u001b[0m\n\u001b[0;32m-> 3475\u001b[0;31m         \u001b[0;32mreturn\u001b[0m \u001b[0m_eval\u001b[0m\u001b[0;34m(\u001b[0m\u001b[0mexpr\u001b[0m\u001b[0;34m,\u001b[0m \u001b[0minplace\u001b[0m\u001b[0;34m=\u001b[0m\u001b[0minplace\u001b[0m\u001b[0;34m,\u001b[0m \u001b[0;34m**\u001b[0m\u001b[0mkwargs\u001b[0m\u001b[0;34m)\u001b[0m\u001b[0;34m\u001b[0m\u001b[0;34m\u001b[0m\u001b[0m\n\u001b[0m\u001b[1;32m   3476\u001b[0m \u001b[0;34m\u001b[0m\u001b[0m\n\u001b[1;32m   3477\u001b[0m     \u001b[0;32mdef\u001b[0m \u001b[0mselect_dtypes\u001b[0m\u001b[0;34m(\u001b[0m\u001b[0mself\u001b[0m\u001b[0;34m,\u001b[0m \u001b[0minclude\u001b[0m\u001b[0;34m=\u001b[0m\u001b[0;32mNone\u001b[0m\u001b[0;34m,\u001b[0m \u001b[0mexclude\u001b[0m\u001b[0;34m=\u001b[0m\u001b[0;32mNone\u001b[0m\u001b[0;34m)\u001b[0m \u001b[0;34m->\u001b[0m \u001b[0;34m\"DataFrame\"\u001b[0m\u001b[0;34m:\u001b[0m\u001b[0;34m\u001b[0m\u001b[0;34m\u001b[0m\u001b[0m\n",
            "\u001b[0;32m/usr/local/lib/python3.7/dist-packages/pandas/core/computation/eval.py\u001b[0m in \u001b[0;36meval\u001b[0;34m(expr, parser, engine, truediv, local_dict, global_dict, resolvers, level, target, inplace)\u001b[0m\n\u001b[1;32m    339\u001b[0m         )\n\u001b[1;32m    340\u001b[0m \u001b[0;34m\u001b[0m\u001b[0m\n\u001b[0;32m--> 341\u001b[0;31m         \u001b[0mparsed_expr\u001b[0m \u001b[0;34m=\u001b[0m \u001b[0mExpr\u001b[0m\u001b[0;34m(\u001b[0m\u001b[0mexpr\u001b[0m\u001b[0;34m,\u001b[0m \u001b[0mengine\u001b[0m\u001b[0;34m=\u001b[0m\u001b[0mengine\u001b[0m\u001b[0;34m,\u001b[0m \u001b[0mparser\u001b[0m\u001b[0;34m=\u001b[0m\u001b[0mparser\u001b[0m\u001b[0;34m,\u001b[0m \u001b[0menv\u001b[0m\u001b[0;34m=\u001b[0m\u001b[0menv\u001b[0m\u001b[0;34m)\u001b[0m\u001b[0;34m\u001b[0m\u001b[0;34m\u001b[0m\u001b[0m\n\u001b[0m\u001b[1;32m    342\u001b[0m \u001b[0;34m\u001b[0m\u001b[0m\n\u001b[1;32m    343\u001b[0m         \u001b[0;31m# construct the engine and evaluate the parsed expression\u001b[0m\u001b[0;34m\u001b[0m\u001b[0;34m\u001b[0m\u001b[0;34m\u001b[0m\u001b[0m\n",
            "\u001b[0;32m/usr/local/lib/python3.7/dist-packages/pandas/core/computation/expr.py\u001b[0m in \u001b[0;36m__init__\u001b[0;34m(self, expr, engine, parser, env, level)\u001b[0m\n\u001b[1;32m    785\u001b[0m         \u001b[0mself\u001b[0m\u001b[0;34m.\u001b[0m\u001b[0mparser\u001b[0m \u001b[0;34m=\u001b[0m \u001b[0mparser\u001b[0m\u001b[0;34m\u001b[0m\u001b[0;34m\u001b[0m\u001b[0m\n\u001b[1;32m    786\u001b[0m         \u001b[0mself\u001b[0m\u001b[0;34m.\u001b[0m\u001b[0m_visitor\u001b[0m \u001b[0;34m=\u001b[0m \u001b[0m_parsers\u001b[0m\u001b[0;34m[\u001b[0m\u001b[0mparser\u001b[0m\u001b[0;34m]\u001b[0m\u001b[0;34m(\u001b[0m\u001b[0mself\u001b[0m\u001b[0;34m.\u001b[0m\u001b[0menv\u001b[0m\u001b[0;34m,\u001b[0m \u001b[0mself\u001b[0m\u001b[0;34m.\u001b[0m\u001b[0mengine\u001b[0m\u001b[0;34m,\u001b[0m \u001b[0mself\u001b[0m\u001b[0;34m.\u001b[0m\u001b[0mparser\u001b[0m\u001b[0;34m)\u001b[0m\u001b[0;34m\u001b[0m\u001b[0;34m\u001b[0m\u001b[0m\n\u001b[0;32m--> 787\u001b[0;31m         \u001b[0mself\u001b[0m\u001b[0;34m.\u001b[0m\u001b[0mterms\u001b[0m \u001b[0;34m=\u001b[0m \u001b[0mself\u001b[0m\u001b[0;34m.\u001b[0m\u001b[0mparse\u001b[0m\u001b[0;34m(\u001b[0m\u001b[0;34m)\u001b[0m\u001b[0;34m\u001b[0m\u001b[0;34m\u001b[0m\u001b[0m\n\u001b[0m\u001b[1;32m    788\u001b[0m \u001b[0;34m\u001b[0m\u001b[0m\n\u001b[1;32m    789\u001b[0m     \u001b[0;34m@\u001b[0m\u001b[0mproperty\u001b[0m\u001b[0;34m\u001b[0m\u001b[0;34m\u001b[0m\u001b[0m\n",
            "\u001b[0;32m/usr/local/lib/python3.7/dist-packages/pandas/core/computation/expr.py\u001b[0m in \u001b[0;36mparse\u001b[0;34m(self)\u001b[0m\n\u001b[1;32m    804\u001b[0m         \u001b[0mParse\u001b[0m \u001b[0man\u001b[0m \u001b[0mexpression\u001b[0m\u001b[0;34m.\u001b[0m\u001b[0;34m\u001b[0m\u001b[0;34m\u001b[0m\u001b[0m\n\u001b[1;32m    805\u001b[0m         \"\"\"\n\u001b[0;32m--> 806\u001b[0;31m         \u001b[0;32mreturn\u001b[0m \u001b[0mself\u001b[0m\u001b[0;34m.\u001b[0m\u001b[0m_visitor\u001b[0m\u001b[0;34m.\u001b[0m\u001b[0mvisit\u001b[0m\u001b[0;34m(\u001b[0m\u001b[0mself\u001b[0m\u001b[0;34m.\u001b[0m\u001b[0mexpr\u001b[0m\u001b[0;34m)\u001b[0m\u001b[0;34m\u001b[0m\u001b[0;34m\u001b[0m\u001b[0m\n\u001b[0m\u001b[1;32m    807\u001b[0m \u001b[0;34m\u001b[0m\u001b[0m\n\u001b[1;32m    808\u001b[0m     \u001b[0;34m@\u001b[0m\u001b[0mproperty\u001b[0m\u001b[0;34m\u001b[0m\u001b[0;34m\u001b[0m\u001b[0m\n",
            "\u001b[0;32m/usr/local/lib/python3.7/dist-packages/pandas/core/computation/expr.py\u001b[0m in \u001b[0;36mvisit\u001b[0;34m(self, node, **kwargs)\u001b[0m\n\u001b[1;32m    396\u001b[0m         \u001b[0mmethod\u001b[0m \u001b[0;34m=\u001b[0m \u001b[0;34m\"visit_\"\u001b[0m \u001b[0;34m+\u001b[0m \u001b[0mtype\u001b[0m\u001b[0;34m(\u001b[0m\u001b[0mnode\u001b[0m\u001b[0;34m)\u001b[0m\u001b[0;34m.\u001b[0m\u001b[0m__name__\u001b[0m\u001b[0;34m\u001b[0m\u001b[0;34m\u001b[0m\u001b[0m\n\u001b[1;32m    397\u001b[0m         \u001b[0mvisitor\u001b[0m \u001b[0;34m=\u001b[0m \u001b[0mgetattr\u001b[0m\u001b[0;34m(\u001b[0m\u001b[0mself\u001b[0m\u001b[0;34m,\u001b[0m \u001b[0mmethod\u001b[0m\u001b[0;34m)\u001b[0m\u001b[0;34m\u001b[0m\u001b[0;34m\u001b[0m\u001b[0m\n\u001b[0;32m--> 398\u001b[0;31m         \u001b[0;32mreturn\u001b[0m \u001b[0mvisitor\u001b[0m\u001b[0;34m(\u001b[0m\u001b[0mnode\u001b[0m\u001b[0;34m,\u001b[0m \u001b[0;34m**\u001b[0m\u001b[0mkwargs\u001b[0m\u001b[0;34m)\u001b[0m\u001b[0;34m\u001b[0m\u001b[0;34m\u001b[0m\u001b[0m\n\u001b[0m\u001b[1;32m    399\u001b[0m \u001b[0;34m\u001b[0m\u001b[0m\n\u001b[1;32m    400\u001b[0m     \u001b[0;32mdef\u001b[0m \u001b[0mvisit_Module\u001b[0m\u001b[0;34m(\u001b[0m\u001b[0mself\u001b[0m\u001b[0;34m,\u001b[0m \u001b[0mnode\u001b[0m\u001b[0;34m,\u001b[0m \u001b[0;34m**\u001b[0m\u001b[0mkwargs\u001b[0m\u001b[0;34m)\u001b[0m\u001b[0;34m:\u001b[0m\u001b[0;34m\u001b[0m\u001b[0;34m\u001b[0m\u001b[0m\n",
            "\u001b[0;32m/usr/local/lib/python3.7/dist-packages/pandas/core/computation/expr.py\u001b[0m in \u001b[0;36mvisit_Module\u001b[0;34m(self, node, **kwargs)\u001b[0m\n\u001b[1;32m    402\u001b[0m             \u001b[0;32mraise\u001b[0m \u001b[0mSyntaxError\u001b[0m\u001b[0;34m(\u001b[0m\u001b[0;34m\"only a single expression is allowed\"\u001b[0m\u001b[0;34m)\u001b[0m\u001b[0;34m\u001b[0m\u001b[0;34m\u001b[0m\u001b[0m\n\u001b[1;32m    403\u001b[0m         \u001b[0mexpr\u001b[0m \u001b[0;34m=\u001b[0m \u001b[0mnode\u001b[0m\u001b[0;34m.\u001b[0m\u001b[0mbody\u001b[0m\u001b[0;34m[\u001b[0m\u001b[0;36m0\u001b[0m\u001b[0;34m]\u001b[0m\u001b[0;34m\u001b[0m\u001b[0;34m\u001b[0m\u001b[0m\n\u001b[0;32m--> 404\u001b[0;31m         \u001b[0;32mreturn\u001b[0m \u001b[0mself\u001b[0m\u001b[0;34m.\u001b[0m\u001b[0mvisit\u001b[0m\u001b[0;34m(\u001b[0m\u001b[0mexpr\u001b[0m\u001b[0;34m,\u001b[0m \u001b[0;34m**\u001b[0m\u001b[0mkwargs\u001b[0m\u001b[0;34m)\u001b[0m\u001b[0;34m\u001b[0m\u001b[0;34m\u001b[0m\u001b[0m\n\u001b[0m\u001b[1;32m    405\u001b[0m \u001b[0;34m\u001b[0m\u001b[0m\n\u001b[1;32m    406\u001b[0m     \u001b[0;32mdef\u001b[0m \u001b[0mvisit_Expr\u001b[0m\u001b[0;34m(\u001b[0m\u001b[0mself\u001b[0m\u001b[0;34m,\u001b[0m \u001b[0mnode\u001b[0m\u001b[0;34m,\u001b[0m \u001b[0;34m**\u001b[0m\u001b[0mkwargs\u001b[0m\u001b[0;34m)\u001b[0m\u001b[0;34m:\u001b[0m\u001b[0;34m\u001b[0m\u001b[0;34m\u001b[0m\u001b[0m\n",
            "\u001b[0;32m/usr/local/lib/python3.7/dist-packages/pandas/core/computation/expr.py\u001b[0m in \u001b[0;36mvisit\u001b[0;34m(self, node, **kwargs)\u001b[0m\n\u001b[1;32m    396\u001b[0m         \u001b[0mmethod\u001b[0m \u001b[0;34m=\u001b[0m \u001b[0;34m\"visit_\"\u001b[0m \u001b[0;34m+\u001b[0m \u001b[0mtype\u001b[0m\u001b[0;34m(\u001b[0m\u001b[0mnode\u001b[0m\u001b[0;34m)\u001b[0m\u001b[0;34m.\u001b[0m\u001b[0m__name__\u001b[0m\u001b[0;34m\u001b[0m\u001b[0;34m\u001b[0m\u001b[0m\n\u001b[1;32m    397\u001b[0m         \u001b[0mvisitor\u001b[0m \u001b[0;34m=\u001b[0m \u001b[0mgetattr\u001b[0m\u001b[0;34m(\u001b[0m\u001b[0mself\u001b[0m\u001b[0;34m,\u001b[0m \u001b[0mmethod\u001b[0m\u001b[0;34m)\u001b[0m\u001b[0;34m\u001b[0m\u001b[0;34m\u001b[0m\u001b[0m\n\u001b[0;32m--> 398\u001b[0;31m         \u001b[0;32mreturn\u001b[0m \u001b[0mvisitor\u001b[0m\u001b[0;34m(\u001b[0m\u001b[0mnode\u001b[0m\u001b[0;34m,\u001b[0m \u001b[0;34m**\u001b[0m\u001b[0mkwargs\u001b[0m\u001b[0;34m)\u001b[0m\u001b[0;34m\u001b[0m\u001b[0;34m\u001b[0m\u001b[0m\n\u001b[0m\u001b[1;32m    399\u001b[0m \u001b[0;34m\u001b[0m\u001b[0m\n\u001b[1;32m    400\u001b[0m     \u001b[0;32mdef\u001b[0m \u001b[0mvisit_Module\u001b[0m\u001b[0;34m(\u001b[0m\u001b[0mself\u001b[0m\u001b[0;34m,\u001b[0m \u001b[0mnode\u001b[0m\u001b[0;34m,\u001b[0m \u001b[0;34m**\u001b[0m\u001b[0mkwargs\u001b[0m\u001b[0;34m)\u001b[0m\u001b[0;34m:\u001b[0m\u001b[0;34m\u001b[0m\u001b[0;34m\u001b[0m\u001b[0m\n",
            "\u001b[0;32m/usr/local/lib/python3.7/dist-packages/pandas/core/computation/expr.py\u001b[0m in \u001b[0;36mvisit_Expr\u001b[0;34m(self, node, **kwargs)\u001b[0m\n\u001b[1;32m    405\u001b[0m \u001b[0;34m\u001b[0m\u001b[0m\n\u001b[1;32m    406\u001b[0m     \u001b[0;32mdef\u001b[0m \u001b[0mvisit_Expr\u001b[0m\u001b[0;34m(\u001b[0m\u001b[0mself\u001b[0m\u001b[0;34m,\u001b[0m \u001b[0mnode\u001b[0m\u001b[0;34m,\u001b[0m \u001b[0;34m**\u001b[0m\u001b[0mkwargs\u001b[0m\u001b[0;34m)\u001b[0m\u001b[0;34m:\u001b[0m\u001b[0;34m\u001b[0m\u001b[0;34m\u001b[0m\u001b[0m\n\u001b[0;32m--> 407\u001b[0;31m         \u001b[0;32mreturn\u001b[0m \u001b[0mself\u001b[0m\u001b[0;34m.\u001b[0m\u001b[0mvisit\u001b[0m\u001b[0;34m(\u001b[0m\u001b[0mnode\u001b[0m\u001b[0;34m.\u001b[0m\u001b[0mvalue\u001b[0m\u001b[0;34m,\u001b[0m \u001b[0;34m**\u001b[0m\u001b[0mkwargs\u001b[0m\u001b[0;34m)\u001b[0m\u001b[0;34m\u001b[0m\u001b[0;34m\u001b[0m\u001b[0m\n\u001b[0m\u001b[1;32m    408\u001b[0m \u001b[0;34m\u001b[0m\u001b[0m\n\u001b[1;32m    409\u001b[0m     \u001b[0;32mdef\u001b[0m \u001b[0m_rewrite_membership_op\u001b[0m\u001b[0;34m(\u001b[0m\u001b[0mself\u001b[0m\u001b[0;34m,\u001b[0m \u001b[0mnode\u001b[0m\u001b[0;34m,\u001b[0m \u001b[0mleft\u001b[0m\u001b[0;34m,\u001b[0m \u001b[0mright\u001b[0m\u001b[0;34m)\u001b[0m\u001b[0;34m:\u001b[0m\u001b[0;34m\u001b[0m\u001b[0;34m\u001b[0m\u001b[0m\n",
            "\u001b[0;32m/usr/local/lib/python3.7/dist-packages/pandas/core/computation/expr.py\u001b[0m in \u001b[0;36mvisit\u001b[0;34m(self, node, **kwargs)\u001b[0m\n\u001b[1;32m    396\u001b[0m         \u001b[0mmethod\u001b[0m \u001b[0;34m=\u001b[0m \u001b[0;34m\"visit_\"\u001b[0m \u001b[0;34m+\u001b[0m \u001b[0mtype\u001b[0m\u001b[0;34m(\u001b[0m\u001b[0mnode\u001b[0m\u001b[0;34m)\u001b[0m\u001b[0;34m.\u001b[0m\u001b[0m__name__\u001b[0m\u001b[0;34m\u001b[0m\u001b[0;34m\u001b[0m\u001b[0m\n\u001b[1;32m    397\u001b[0m         \u001b[0mvisitor\u001b[0m \u001b[0;34m=\u001b[0m \u001b[0mgetattr\u001b[0m\u001b[0;34m(\u001b[0m\u001b[0mself\u001b[0m\u001b[0;34m,\u001b[0m \u001b[0mmethod\u001b[0m\u001b[0;34m)\u001b[0m\u001b[0;34m\u001b[0m\u001b[0;34m\u001b[0m\u001b[0m\n\u001b[0;32m--> 398\u001b[0;31m         \u001b[0;32mreturn\u001b[0m \u001b[0mvisitor\u001b[0m\u001b[0;34m(\u001b[0m\u001b[0mnode\u001b[0m\u001b[0;34m,\u001b[0m \u001b[0;34m**\u001b[0m\u001b[0mkwargs\u001b[0m\u001b[0;34m)\u001b[0m\u001b[0;34m\u001b[0m\u001b[0;34m\u001b[0m\u001b[0m\n\u001b[0m\u001b[1;32m    399\u001b[0m \u001b[0;34m\u001b[0m\u001b[0m\n\u001b[1;32m    400\u001b[0m     \u001b[0;32mdef\u001b[0m \u001b[0mvisit_Module\u001b[0m\u001b[0;34m(\u001b[0m\u001b[0mself\u001b[0m\u001b[0;34m,\u001b[0m \u001b[0mnode\u001b[0m\u001b[0;34m,\u001b[0m \u001b[0;34m**\u001b[0m\u001b[0mkwargs\u001b[0m\u001b[0;34m)\u001b[0m\u001b[0;34m:\u001b[0m\u001b[0;34m\u001b[0m\u001b[0;34m\u001b[0m\u001b[0m\n",
            "\u001b[0;32m/usr/local/lib/python3.7/dist-packages/pandas/core/computation/expr.py\u001b[0m in \u001b[0;36mvisit_Compare\u001b[0;34m(self, node, **kwargs)\u001b[0m\n\u001b[1;32m    697\u001b[0m             \u001b[0mop\u001b[0m \u001b[0;34m=\u001b[0m \u001b[0mself\u001b[0m\u001b[0;34m.\u001b[0m\u001b[0mtranslate_In\u001b[0m\u001b[0;34m(\u001b[0m\u001b[0mops\u001b[0m\u001b[0;34m[\u001b[0m\u001b[0;36m0\u001b[0m\u001b[0;34m]\u001b[0m\u001b[0;34m)\u001b[0m\u001b[0;34m\u001b[0m\u001b[0;34m\u001b[0m\u001b[0m\n\u001b[1;32m    698\u001b[0m             \u001b[0mbinop\u001b[0m \u001b[0;34m=\u001b[0m \u001b[0mast\u001b[0m\u001b[0;34m.\u001b[0m\u001b[0mBinOp\u001b[0m\u001b[0;34m(\u001b[0m\u001b[0mop\u001b[0m\u001b[0;34m=\u001b[0m\u001b[0mop\u001b[0m\u001b[0;34m,\u001b[0m \u001b[0mleft\u001b[0m\u001b[0;34m=\u001b[0m\u001b[0mnode\u001b[0m\u001b[0;34m.\u001b[0m\u001b[0mleft\u001b[0m\u001b[0;34m,\u001b[0m \u001b[0mright\u001b[0m\u001b[0;34m=\u001b[0m\u001b[0mcomps\u001b[0m\u001b[0;34m[\u001b[0m\u001b[0;36m0\u001b[0m\u001b[0;34m]\u001b[0m\u001b[0;34m)\u001b[0m\u001b[0;34m\u001b[0m\u001b[0;34m\u001b[0m\u001b[0m\n\u001b[0;32m--> 699\u001b[0;31m             \u001b[0;32mreturn\u001b[0m \u001b[0mself\u001b[0m\u001b[0;34m.\u001b[0m\u001b[0mvisit\u001b[0m\u001b[0;34m(\u001b[0m\u001b[0mbinop\u001b[0m\u001b[0;34m)\u001b[0m\u001b[0;34m\u001b[0m\u001b[0;34m\u001b[0m\u001b[0m\n\u001b[0m\u001b[1;32m    700\u001b[0m \u001b[0;34m\u001b[0m\u001b[0m\n\u001b[1;32m    701\u001b[0m         \u001b[0;31m# recursive case: we have a chained comparison, a CMP b CMP c, etc.\u001b[0m\u001b[0;34m\u001b[0m\u001b[0;34m\u001b[0m\u001b[0;34m\u001b[0m\u001b[0m\n",
            "\u001b[0;32m/usr/local/lib/python3.7/dist-packages/pandas/core/computation/expr.py\u001b[0m in \u001b[0;36mvisit\u001b[0;34m(self, node, **kwargs)\u001b[0m\n\u001b[1;32m    396\u001b[0m         \u001b[0mmethod\u001b[0m \u001b[0;34m=\u001b[0m \u001b[0;34m\"visit_\"\u001b[0m \u001b[0;34m+\u001b[0m \u001b[0mtype\u001b[0m\u001b[0;34m(\u001b[0m\u001b[0mnode\u001b[0m\u001b[0;34m)\u001b[0m\u001b[0;34m.\u001b[0m\u001b[0m__name__\u001b[0m\u001b[0;34m\u001b[0m\u001b[0;34m\u001b[0m\u001b[0m\n\u001b[1;32m    397\u001b[0m         \u001b[0mvisitor\u001b[0m \u001b[0;34m=\u001b[0m \u001b[0mgetattr\u001b[0m\u001b[0;34m(\u001b[0m\u001b[0mself\u001b[0m\u001b[0;34m,\u001b[0m \u001b[0mmethod\u001b[0m\u001b[0;34m)\u001b[0m\u001b[0;34m\u001b[0m\u001b[0;34m\u001b[0m\u001b[0m\n\u001b[0;32m--> 398\u001b[0;31m         \u001b[0;32mreturn\u001b[0m \u001b[0mvisitor\u001b[0m\u001b[0;34m(\u001b[0m\u001b[0mnode\u001b[0m\u001b[0;34m,\u001b[0m \u001b[0;34m**\u001b[0m\u001b[0mkwargs\u001b[0m\u001b[0;34m)\u001b[0m\u001b[0;34m\u001b[0m\u001b[0;34m\u001b[0m\u001b[0m\n\u001b[0m\u001b[1;32m    399\u001b[0m \u001b[0;34m\u001b[0m\u001b[0m\n\u001b[1;32m    400\u001b[0m     \u001b[0;32mdef\u001b[0m \u001b[0mvisit_Module\u001b[0m\u001b[0;34m(\u001b[0m\u001b[0mself\u001b[0m\u001b[0;34m,\u001b[0m \u001b[0mnode\u001b[0m\u001b[0;34m,\u001b[0m \u001b[0;34m**\u001b[0m\u001b[0mkwargs\u001b[0m\u001b[0;34m)\u001b[0m\u001b[0;34m:\u001b[0m\u001b[0;34m\u001b[0m\u001b[0;34m\u001b[0m\u001b[0m\n",
            "\u001b[0;32m/usr/local/lib/python3.7/dist-packages/pandas/core/computation/expr.py\u001b[0m in \u001b[0;36mvisit_BinOp\u001b[0;34m(self, node, **kwargs)\u001b[0m\n\u001b[1;32m    518\u001b[0m \u001b[0;34m\u001b[0m\u001b[0m\n\u001b[1;32m    519\u001b[0m     \u001b[0;32mdef\u001b[0m \u001b[0mvisit_BinOp\u001b[0m\u001b[0;34m(\u001b[0m\u001b[0mself\u001b[0m\u001b[0;34m,\u001b[0m \u001b[0mnode\u001b[0m\u001b[0;34m,\u001b[0m \u001b[0;34m**\u001b[0m\u001b[0mkwargs\u001b[0m\u001b[0;34m)\u001b[0m\u001b[0;34m:\u001b[0m\u001b[0;34m\u001b[0m\u001b[0;34m\u001b[0m\u001b[0m\n\u001b[0;32m--> 520\u001b[0;31m         \u001b[0mop\u001b[0m\u001b[0;34m,\u001b[0m \u001b[0mop_class\u001b[0m\u001b[0;34m,\u001b[0m \u001b[0mleft\u001b[0m\u001b[0;34m,\u001b[0m \u001b[0mright\u001b[0m \u001b[0;34m=\u001b[0m \u001b[0mself\u001b[0m\u001b[0;34m.\u001b[0m\u001b[0m_maybe_transform_eq_ne\u001b[0m\u001b[0;34m(\u001b[0m\u001b[0mnode\u001b[0m\u001b[0;34m)\u001b[0m\u001b[0;34m\u001b[0m\u001b[0;34m\u001b[0m\u001b[0m\n\u001b[0m\u001b[1;32m    521\u001b[0m         \u001b[0mleft\u001b[0m\u001b[0;34m,\u001b[0m \u001b[0mright\u001b[0m \u001b[0;34m=\u001b[0m \u001b[0mself\u001b[0m\u001b[0;34m.\u001b[0m\u001b[0m_maybe_downcast_constants\u001b[0m\u001b[0;34m(\u001b[0m\u001b[0mleft\u001b[0m\u001b[0;34m,\u001b[0m \u001b[0mright\u001b[0m\u001b[0;34m)\u001b[0m\u001b[0;34m\u001b[0m\u001b[0;34m\u001b[0m\u001b[0m\n\u001b[1;32m    522\u001b[0m         \u001b[0;32mreturn\u001b[0m \u001b[0mself\u001b[0m\u001b[0;34m.\u001b[0m\u001b[0m_maybe_evaluate_binop\u001b[0m\u001b[0;34m(\u001b[0m\u001b[0mop\u001b[0m\u001b[0;34m,\u001b[0m \u001b[0mop_class\u001b[0m\u001b[0;34m,\u001b[0m \u001b[0mleft\u001b[0m\u001b[0;34m,\u001b[0m \u001b[0mright\u001b[0m\u001b[0;34m)\u001b[0m\u001b[0;34m\u001b[0m\u001b[0;34m\u001b[0m\u001b[0m\n",
            "\u001b[0;32m/usr/local/lib/python3.7/dist-packages/pandas/core/computation/expr.py\u001b[0m in \u001b[0;36m_maybe_transform_eq_ne\u001b[0;34m(self, node, left, right)\u001b[0m\n\u001b[1;32m    437\u001b[0m     \u001b[0;32mdef\u001b[0m \u001b[0m_maybe_transform_eq_ne\u001b[0m\u001b[0;34m(\u001b[0m\u001b[0mself\u001b[0m\u001b[0;34m,\u001b[0m \u001b[0mnode\u001b[0m\u001b[0;34m,\u001b[0m \u001b[0mleft\u001b[0m\u001b[0;34m=\u001b[0m\u001b[0;32mNone\u001b[0m\u001b[0;34m,\u001b[0m \u001b[0mright\u001b[0m\u001b[0;34m=\u001b[0m\u001b[0;32mNone\u001b[0m\u001b[0;34m)\u001b[0m\u001b[0;34m:\u001b[0m\u001b[0;34m\u001b[0m\u001b[0;34m\u001b[0m\u001b[0m\n\u001b[1;32m    438\u001b[0m         \u001b[0;32mif\u001b[0m \u001b[0mleft\u001b[0m \u001b[0;32mis\u001b[0m \u001b[0;32mNone\u001b[0m\u001b[0;34m:\u001b[0m\u001b[0;34m\u001b[0m\u001b[0;34m\u001b[0m\u001b[0m\n\u001b[0;32m--> 439\u001b[0;31m             \u001b[0mleft\u001b[0m \u001b[0;34m=\u001b[0m \u001b[0mself\u001b[0m\u001b[0;34m.\u001b[0m\u001b[0mvisit\u001b[0m\u001b[0;34m(\u001b[0m\u001b[0mnode\u001b[0m\u001b[0;34m.\u001b[0m\u001b[0mleft\u001b[0m\u001b[0;34m,\u001b[0m \u001b[0mside\u001b[0m\u001b[0;34m=\u001b[0m\u001b[0;34m\"left\"\u001b[0m\u001b[0;34m)\u001b[0m\u001b[0;34m\u001b[0m\u001b[0;34m\u001b[0m\u001b[0m\n\u001b[0m\u001b[1;32m    440\u001b[0m         \u001b[0;32mif\u001b[0m \u001b[0mright\u001b[0m \u001b[0;32mis\u001b[0m \u001b[0;32mNone\u001b[0m\u001b[0;34m:\u001b[0m\u001b[0;34m\u001b[0m\u001b[0;34m\u001b[0m\u001b[0m\n\u001b[1;32m    441\u001b[0m             \u001b[0mright\u001b[0m \u001b[0;34m=\u001b[0m \u001b[0mself\u001b[0m\u001b[0;34m.\u001b[0m\u001b[0mvisit\u001b[0m\u001b[0;34m(\u001b[0m\u001b[0mnode\u001b[0m\u001b[0;34m.\u001b[0m\u001b[0mright\u001b[0m\u001b[0;34m,\u001b[0m \u001b[0mside\u001b[0m\u001b[0;34m=\u001b[0m\u001b[0;34m\"right\"\u001b[0m\u001b[0;34m)\u001b[0m\u001b[0;34m\u001b[0m\u001b[0;34m\u001b[0m\u001b[0m\n",
            "\u001b[0;32m/usr/local/lib/python3.7/dist-packages/pandas/core/computation/expr.py\u001b[0m in \u001b[0;36mvisit\u001b[0;34m(self, node, **kwargs)\u001b[0m\n\u001b[1;32m    396\u001b[0m         \u001b[0mmethod\u001b[0m \u001b[0;34m=\u001b[0m \u001b[0;34m\"visit_\"\u001b[0m \u001b[0;34m+\u001b[0m \u001b[0mtype\u001b[0m\u001b[0;34m(\u001b[0m\u001b[0mnode\u001b[0m\u001b[0;34m)\u001b[0m\u001b[0;34m.\u001b[0m\u001b[0m__name__\u001b[0m\u001b[0;34m\u001b[0m\u001b[0;34m\u001b[0m\u001b[0m\n\u001b[1;32m    397\u001b[0m         \u001b[0mvisitor\u001b[0m \u001b[0;34m=\u001b[0m \u001b[0mgetattr\u001b[0m\u001b[0;34m(\u001b[0m\u001b[0mself\u001b[0m\u001b[0;34m,\u001b[0m \u001b[0mmethod\u001b[0m\u001b[0;34m)\u001b[0m\u001b[0;34m\u001b[0m\u001b[0;34m\u001b[0m\u001b[0m\n\u001b[0;32m--> 398\u001b[0;31m         \u001b[0;32mreturn\u001b[0m \u001b[0mvisitor\u001b[0m\u001b[0;34m(\u001b[0m\u001b[0mnode\u001b[0m\u001b[0;34m,\u001b[0m \u001b[0;34m**\u001b[0m\u001b[0mkwargs\u001b[0m\u001b[0;34m)\u001b[0m\u001b[0;34m\u001b[0m\u001b[0;34m\u001b[0m\u001b[0m\n\u001b[0m\u001b[1;32m    399\u001b[0m \u001b[0;34m\u001b[0m\u001b[0m\n\u001b[1;32m    400\u001b[0m     \u001b[0;32mdef\u001b[0m \u001b[0mvisit_Module\u001b[0m\u001b[0;34m(\u001b[0m\u001b[0mself\u001b[0m\u001b[0;34m,\u001b[0m \u001b[0mnode\u001b[0m\u001b[0;34m,\u001b[0m \u001b[0;34m**\u001b[0m\u001b[0mkwargs\u001b[0m\u001b[0;34m)\u001b[0m\u001b[0;34m:\u001b[0m\u001b[0;34m\u001b[0m\u001b[0;34m\u001b[0m\u001b[0m\n",
            "\u001b[0;32m/usr/local/lib/python3.7/dist-packages/pandas/core/computation/expr.py\u001b[0m in \u001b[0;36mvisit_Name\u001b[0;34m(self, node, **kwargs)\u001b[0m\n\u001b[1;32m    531\u001b[0m \u001b[0;34m\u001b[0m\u001b[0m\n\u001b[1;32m    532\u001b[0m     \u001b[0;32mdef\u001b[0m \u001b[0mvisit_Name\u001b[0m\u001b[0;34m(\u001b[0m\u001b[0mself\u001b[0m\u001b[0;34m,\u001b[0m \u001b[0mnode\u001b[0m\u001b[0;34m,\u001b[0m \u001b[0;34m**\u001b[0m\u001b[0mkwargs\u001b[0m\u001b[0;34m)\u001b[0m\u001b[0;34m:\u001b[0m\u001b[0;34m\u001b[0m\u001b[0;34m\u001b[0m\u001b[0m\n\u001b[0;32m--> 533\u001b[0;31m         \u001b[0;32mreturn\u001b[0m \u001b[0mself\u001b[0m\u001b[0;34m.\u001b[0m\u001b[0mterm_type\u001b[0m\u001b[0;34m(\u001b[0m\u001b[0mnode\u001b[0m\u001b[0;34m.\u001b[0m\u001b[0mid\u001b[0m\u001b[0;34m,\u001b[0m \u001b[0mself\u001b[0m\u001b[0;34m.\u001b[0m\u001b[0menv\u001b[0m\u001b[0;34m,\u001b[0m \u001b[0;34m**\u001b[0m\u001b[0mkwargs\u001b[0m\u001b[0;34m)\u001b[0m\u001b[0;34m\u001b[0m\u001b[0;34m\u001b[0m\u001b[0m\n\u001b[0m\u001b[1;32m    534\u001b[0m \u001b[0;34m\u001b[0m\u001b[0m\n\u001b[1;32m    535\u001b[0m     \u001b[0;32mdef\u001b[0m \u001b[0mvisit_NameConstant\u001b[0m\u001b[0;34m(\u001b[0m\u001b[0mself\u001b[0m\u001b[0;34m,\u001b[0m \u001b[0mnode\u001b[0m\u001b[0;34m,\u001b[0m \u001b[0;34m**\u001b[0m\u001b[0mkwargs\u001b[0m\u001b[0;34m)\u001b[0m\u001b[0;34m:\u001b[0m\u001b[0;34m\u001b[0m\u001b[0;34m\u001b[0m\u001b[0m\n",
            "\u001b[0;32m/usr/local/lib/python3.7/dist-packages/pandas/core/computation/ops.py\u001b[0m in \u001b[0;36m__init__\u001b[0;34m(self, name, env, side, encoding)\u001b[0m\n\u001b[1;32m     82\u001b[0m         \u001b[0mtname\u001b[0m \u001b[0;34m=\u001b[0m \u001b[0mstr\u001b[0m\u001b[0;34m(\u001b[0m\u001b[0mname\u001b[0m\u001b[0;34m)\u001b[0m\u001b[0;34m\u001b[0m\u001b[0;34m\u001b[0m\u001b[0m\n\u001b[1;32m     83\u001b[0m         \u001b[0mself\u001b[0m\u001b[0;34m.\u001b[0m\u001b[0mis_local\u001b[0m \u001b[0;34m=\u001b[0m \u001b[0mtname\u001b[0m\u001b[0;34m.\u001b[0m\u001b[0mstartswith\u001b[0m\u001b[0;34m(\u001b[0m\u001b[0m_LOCAL_TAG\u001b[0m\u001b[0;34m)\u001b[0m \u001b[0;32mor\u001b[0m \u001b[0mtname\u001b[0m \u001b[0;32min\u001b[0m \u001b[0m_DEFAULT_GLOBALS\u001b[0m\u001b[0;34m\u001b[0m\u001b[0;34m\u001b[0m\u001b[0m\n\u001b[0;32m---> 84\u001b[0;31m         \u001b[0mself\u001b[0m\u001b[0;34m.\u001b[0m\u001b[0m_value\u001b[0m \u001b[0;34m=\u001b[0m \u001b[0mself\u001b[0m\u001b[0;34m.\u001b[0m\u001b[0m_resolve_name\u001b[0m\u001b[0;34m(\u001b[0m\u001b[0;34m)\u001b[0m\u001b[0;34m\u001b[0m\u001b[0;34m\u001b[0m\u001b[0m\n\u001b[0m\u001b[1;32m     85\u001b[0m         \u001b[0mself\u001b[0m\u001b[0;34m.\u001b[0m\u001b[0mencoding\u001b[0m \u001b[0;34m=\u001b[0m \u001b[0mencoding\u001b[0m\u001b[0;34m\u001b[0m\u001b[0;34m\u001b[0m\u001b[0m\n\u001b[1;32m     86\u001b[0m \u001b[0;34m\u001b[0m\u001b[0m\n",
            "\u001b[0;32m/usr/local/lib/python3.7/dist-packages/pandas/core/computation/ops.py\u001b[0m in \u001b[0;36m_resolve_name\u001b[0;34m(self)\u001b[0m\n\u001b[1;32m     99\u001b[0m \u001b[0;34m\u001b[0m\u001b[0m\n\u001b[1;32m    100\u001b[0m     \u001b[0;32mdef\u001b[0m \u001b[0m_resolve_name\u001b[0m\u001b[0;34m(\u001b[0m\u001b[0mself\u001b[0m\u001b[0;34m)\u001b[0m\u001b[0;34m:\u001b[0m\u001b[0;34m\u001b[0m\u001b[0;34m\u001b[0m\u001b[0m\n\u001b[0;32m--> 101\u001b[0;31m         \u001b[0mres\u001b[0m \u001b[0;34m=\u001b[0m \u001b[0mself\u001b[0m\u001b[0;34m.\u001b[0m\u001b[0menv\u001b[0m\u001b[0;34m.\u001b[0m\u001b[0mresolve\u001b[0m\u001b[0;34m(\u001b[0m\u001b[0mself\u001b[0m\u001b[0;34m.\u001b[0m\u001b[0mlocal_name\u001b[0m\u001b[0;34m,\u001b[0m \u001b[0mis_local\u001b[0m\u001b[0;34m=\u001b[0m\u001b[0mself\u001b[0m\u001b[0;34m.\u001b[0m\u001b[0mis_local\u001b[0m\u001b[0;34m)\u001b[0m\u001b[0;34m\u001b[0m\u001b[0;34m\u001b[0m\u001b[0m\n\u001b[0m\u001b[1;32m    102\u001b[0m         \u001b[0mself\u001b[0m\u001b[0;34m.\u001b[0m\u001b[0mupdate\u001b[0m\u001b[0;34m(\u001b[0m\u001b[0mres\u001b[0m\u001b[0;34m)\u001b[0m\u001b[0;34m\u001b[0m\u001b[0;34m\u001b[0m\u001b[0m\n\u001b[1;32m    103\u001b[0m \u001b[0;34m\u001b[0m\u001b[0m\n",
            "\u001b[0;32m/usr/local/lib/python3.7/dist-packages/pandas/core/computation/scope.py\u001b[0m in \u001b[0;36mresolve\u001b[0;34m(self, key, is_local)\u001b[0m\n\u001b[1;32m    202\u001b[0m                 \u001b[0;32mfrom\u001b[0m \u001b[0mpandas\u001b[0m\u001b[0;34m.\u001b[0m\u001b[0mcore\u001b[0m\u001b[0;34m.\u001b[0m\u001b[0mcomputation\u001b[0m\u001b[0;34m.\u001b[0m\u001b[0mops\u001b[0m \u001b[0;32mimport\u001b[0m \u001b[0mUndefinedVariableError\u001b[0m\u001b[0;34m\u001b[0m\u001b[0;34m\u001b[0m\u001b[0m\n\u001b[1;32m    203\u001b[0m \u001b[0;34m\u001b[0m\u001b[0m\n\u001b[0;32m--> 204\u001b[0;31m                 \u001b[0;32mraise\u001b[0m \u001b[0mUndefinedVariableError\u001b[0m\u001b[0;34m(\u001b[0m\u001b[0mkey\u001b[0m\u001b[0;34m,\u001b[0m \u001b[0mis_local\u001b[0m\u001b[0;34m)\u001b[0m \u001b[0;32mfrom\u001b[0m \u001b[0merr\u001b[0m\u001b[0;34m\u001b[0m\u001b[0;34m\u001b[0m\u001b[0m\n\u001b[0m\u001b[1;32m    205\u001b[0m \u001b[0;34m\u001b[0m\u001b[0m\n\u001b[1;32m    206\u001b[0m     \u001b[0;32mdef\u001b[0m \u001b[0mswapkey\u001b[0m\u001b[0;34m(\u001b[0m\u001b[0mself\u001b[0m\u001b[0;34m,\u001b[0m \u001b[0mold_key\u001b[0m\u001b[0;34m:\u001b[0m \u001b[0mstr\u001b[0m\u001b[0;34m,\u001b[0m \u001b[0mnew_key\u001b[0m\u001b[0;34m:\u001b[0m \u001b[0mstr\u001b[0m\u001b[0;34m,\u001b[0m \u001b[0mnew_value\u001b[0m\u001b[0;34m=\u001b[0m\u001b[0;32mNone\u001b[0m\u001b[0;34m)\u001b[0m\u001b[0;34m:\u001b[0m\u001b[0;34m\u001b[0m\u001b[0;34m\u001b[0m\u001b[0m\n",
            "\u001b[0;31mUndefinedVariableError\u001b[0m: name 'type' is not defined"
          ]
        }
      ]
    },
    {
      "cell_type": "markdown",
      "source": [
        "3. Check out the IEA Sankey as a guide from: https://www.iea.org/sankey/\n",
        "\n",
        "  4. Organise data into the correct form for the csv files (using the two files: us-energy-consumption.csv and us-energy-consumption-processes.csv as your base - find these in your Downloads folder). This will involve allocating the IEA balance categories to the labels used in the US example. Flows into and out of each slice need to be balanced.  And the IEA has no allocation to 'energy services' and 'rejected energy' so you will need to guess, or use the ratios from the US example.  You can also check your numbers using SankeyMATIC. \n",
        "\n",
        "  5. Adapt the notebook to create a Sankey for your country.\n",
        "\n",
        "  6. Save a copy by running the final cell"
      ],
      "metadata": {
        "id": "s01k5r_bC8MU"
      }
    }
  ],
  "metadata": {
    "kernelspec": {
      "display_name": "Python 3",
      "language": "python",
      "name": "python3"
    },
    "language_info": {
      "codemirror_mode": {
        "name": "ipython",
        "version": 3
      },
      "file_extension": ".py",
      "mimetype": "text/x-python",
      "name": "python",
      "nbconvert_exporter": "python",
      "pygments_lexer": "ipython3",
      "version": "3.7.6"
    },
    "colab": {
      "name": "energy-consumption.ipynb",
      "provenance": [],
      "include_colab_link": true
    },
    "widgets": {
      "application/vnd.jupyter.widget-state+json": {
        "aa82a0bbff57483bb02afea183994e28": {
          "model_module": "@jupyter-widgets/controls",
          "model_name": "VBoxModel",
          "model_module_version": "1.5.0",
          "state": {
            "_view_name": "VBoxView",
            "_dom_classes": [],
            "_model_name": "VBoxModel",
            "_view_module": "@jupyter-widgets/controls",
            "_model_module_version": "1.5.0",
            "_view_count": null,
            "_view_module_version": "1.5.0",
            "box_style": "",
            "layout": "IPY_MODEL_6a1512be3f604f35b265348c35ed49f9",
            "_model_module": "@jupyter-widgets/controls",
            "children": [
              "IPY_MODEL_72e6d7b759754d92be5b2b7fb3fdc6cd",
              "IPY_MODEL_afe5eb0d5ffc47dcba9ad3fb73c3ccd5"
            ]
          }
        },
        "6a1512be3f604f35b265348c35ed49f9": {
          "model_module": "@jupyter-widgets/base",
          "model_name": "LayoutModel",
          "model_module_version": "1.2.0",
          "state": {
            "_view_name": "LayoutView",
            "grid_template_rows": null,
            "right": null,
            "justify_content": null,
            "_view_module": "@jupyter-widgets/base",
            "overflow": null,
            "_model_module_version": "1.2.0",
            "_view_count": null,
            "flex_flow": null,
            "width": null,
            "min_width": null,
            "border": null,
            "align_items": null,
            "bottom": null,
            "_model_module": "@jupyter-widgets/base",
            "top": null,
            "grid_column": null,
            "overflow_y": null,
            "overflow_x": null,
            "grid_auto_flow": null,
            "grid_area": null,
            "grid_template_columns": null,
            "flex": null,
            "_model_name": "LayoutModel",
            "justify_items": null,
            "grid_row": null,
            "max_height": null,
            "align_content": null,
            "visibility": null,
            "align_self": null,
            "height": null,
            "min_height": null,
            "padding": null,
            "grid_auto_rows": null,
            "grid_gap": null,
            "max_width": null,
            "order": null,
            "_view_module_version": "1.2.0",
            "grid_template_areas": null,
            "object_position": null,
            "object_fit": null,
            "grid_auto_columns": null,
            "margin": null,
            "display": null,
            "left": null
          }
        },
        "72e6d7b759754d92be5b2b7fb3fdc6cd": {
          "model_module": "jupyter-sankey-widget",
          "model_name": "SankeyModel",
          "model_module_version": "^0.4.1",
          "state": {
            "_view_name": "SankeyView",
            "links": [
              {
                "opacity": 1,
                "target": "electricity^*",
                "title": "Solar",
                "color": "gold",
                "value": 0.61,
                "source": "sources^Solar",
                "time": "*",
                "type": "Solar"
              },
              {
                "opacity": 1,
                "target": "direct_use^",
                "title": "Solar",
                "color": "gold",
                "value": 0.35,
                "source": "sources^Solar",
                "time": "*",
                "type": "Solar"
              },
              {
                "opacity": 1,
                "target": "electricity^*",
                "title": "Nuclear",
                "color": "red",
                "value": 8.44,
                "source": "sources^Nuclear",
                "time": "*",
                "type": "Nuclear"
              },
              {
                "opacity": 1,
                "target": "electricity^*",
                "title": "Hydro",
                "color": "blue",
                "value": 2.6799999999999997,
                "source": "sources^Hydro",
                "time": "*",
                "type": "Hydro"
              },
              {
                "opacity": 1,
                "target": "electricity^*",
                "title": "Wind",
                "color": "purple",
                "value": 2.53,
                "source": "sources^Wind",
                "time": "*",
                "type": "Wind"
              },
              {
                "opacity": 1,
                "target": "electricity^*",
                "title": "Geothermal",
                "color": "brown",
                "value": 0.15,
                "source": "sources^Geothermal",
                "time": "*",
                "type": "Geothermal"
              },
              {
                "opacity": 1,
                "target": "direct_use^    ",
                "title": "Geothermal",
                "color": "brown",
                "value": 0.06,
                "source": "sources^Geothermal",
                "time": "*",
                "type": "Geothermal"
              },
              {
                "opacity": 1,
                "target": "electricity^*",
                "title": "Natural_Gas",
                "color": "steelblue",
                "value": 11,
                "source": "sources^Natural_Gas",
                "time": "*",
                "type": "Natural_Gas"
              },
              {
                "opacity": 1,
                "target": "direct_use^     ",
                "title": "Natural_Gas",
                "color": "steelblue",
                "value": 20.03,
                "source": "sources^Natural_Gas",
                "time": "*",
                "type": "Natural_Gas"
              },
              {
                "opacity": 1,
                "target": "electricity^*",
                "title": "Coal",
                "color": "black",
                "value": 12.1,
                "source": "sources^Coal",
                "time": "*",
                "type": "Coal"
              },
              {
                "opacity": 1,
                "target": "direct_use^      ",
                "title": "Coal",
                "color": "black",
                "value": 1.22,
                "source": "sources^Coal",
                "time": "*",
                "type": "Coal"
              },
              {
                "opacity": 1,
                "target": "electricity^*",
                "title": "Biomass",
                "color": "lightgreen",
                "value": 0.5,
                "source": "sources^Biomass",
                "time": "*",
                "type": "Biomass"
              },
              {
                "opacity": 1,
                "target": "direct_use^       ",
                "title": "Biomass",
                "color": "lightgreen",
                "value": 4.63,
                "source": "sources^Biomass",
                "time": "*",
                "type": "Biomass"
              },
              {
                "opacity": 1,
                "target": "electricity^*",
                "title": "Petroleum",
                "color": "green",
                "value": 0.24,
                "source": "sources^Petroleum",
                "time": "*",
                "type": "Petroleum"
              },
              {
                "opacity": 1,
                "target": "direct_use^        ",
                "title": "Petroleum",
                "color": "green",
                "value": 36.67,
                "source": "sources^Petroleum",
                "time": "*",
                "type": "Petroleum"
              },
              {
                "opacity": 1,
                "target": "uses^Residential",
                "title": "Electricity",
                "color": "orange",
                "value": 0.05,
                "source": "imports^*",
                "time": "*",
                "type": "Electricity"
              },
              {
                "opacity": 1,
                "target": "uses^Commercial",
                "title": "Electricity",
                "color": "orange",
                "value": 4.7,
                "source": "electricity^*",
                "time": "*",
                "type": "Electricity"
              },
              {
                "opacity": 1,
                "target": "uses^Industrial",
                "title": "Electricity",
                "color": "orange",
                "value": 3.25,
                "source": "electricity^*",
                "time": "*",
                "type": "Electricity"
              },
              {
                "opacity": 1,
                "target": "uses^Residential",
                "title": "Electricity",
                "color": "orange",
                "value": 5,
                "source": "electricity^*",
                "time": "*",
                "type": "Electricity"
              },
              {
                "opacity": 1,
                "target": "uses^Transportation",
                "title": "Electricity",
                "color": "orange",
                "value": 0.03,
                "source": "electricity^*",
                "time": "*",
                "type": "Electricity"
              },
              {
                "opacity": 1,
                "target": "__electricity_rejected_2^*",
                "title": "Rejected energy",
                "color": "lightgrey",
                "value": 25.3,
                "source": "electricity^*",
                "time": "*",
                "type": "Rejected energy"
              },
              {
                "opacity": 1,
                "target": "uses^Commercial",
                "title": "Solar",
                "color": "gold",
                "value": 0.1,
                "source": "direct_use^",
                "time": "*",
                "type": "Solar"
              },
              {
                "opacity": 1,
                "target": "uses^Industrial",
                "title": "Solar",
                "color": "gold",
                "value": 0.03,
                "source": "direct_use^",
                "time": "*",
                "type": "Solar"
              },
              {
                "opacity": 1,
                "target": "uses^Residential",
                "title": "Solar",
                "color": "gold",
                "value": 0.22,
                "source": "direct_use^",
                "time": "*",
                "type": "Solar"
              },
              {
                "opacity": 1,
                "target": "uses^Commercial",
                "title": "Geothermal",
                "color": "brown",
                "value": 0.02,
                "source": "direct_use^    ",
                "time": "*",
                "type": "Geothermal"
              },
              {
                "opacity": 1,
                "target": "uses^Residential",
                "title": "Geothermal",
                "color": "brown",
                "value": 0.04,
                "source": "direct_use^    ",
                "time": "*",
                "type": "Geothermal"
              },
              {
                "opacity": 1,
                "target": "uses^Commercial",
                "title": "Natural_Gas",
                "color": "steelblue",
                "value": 3.61,
                "source": "direct_use^     ",
                "time": "*",
                "type": "Natural_Gas"
              },
              {
                "opacity": 1,
                "target": "uses^Industrial",
                "title": "Natural_Gas",
                "color": "steelblue",
                "value": 10.4,
                "source": "direct_use^     ",
                "time": "*",
                "type": "Natural_Gas"
              },
              {
                "opacity": 1,
                "target": "uses^Residential",
                "title": "Natural_Gas",
                "color": "steelblue",
                "value": 5.15,
                "source": "direct_use^     ",
                "time": "*",
                "type": "Natural_Gas"
              },
              {
                "opacity": 1,
                "target": "uses^Transportation",
                "title": "Natural_Gas",
                "color": "steelblue",
                "value": 0.87,
                "source": "direct_use^     ",
                "time": "*",
                "type": "Natural_Gas"
              },
              {
                "opacity": 1,
                "target": "uses^Commercial",
                "title": "Coal",
                "color": "black",
                "value": 0.02,
                "source": "direct_use^      ",
                "time": "*",
                "type": "Coal"
              },
              {
                "opacity": 1,
                "target": "uses^Industrial",
                "title": "Coal",
                "color": "black",
                "value": 1.2,
                "source": "direct_use^      ",
                "time": "*",
                "type": "Coal"
              },
              {
                "opacity": 1,
                "target": "uses^Commercial",
                "title": "Biomass",
                "color": "lightgreen",
                "value": 0.15,
                "source": "direct_use^       ",
                "time": "*",
                "type": "Biomass"
              },
              {
                "opacity": 1,
                "target": "uses^Industrial",
                "title": "Biomass",
                "color": "lightgreen",
                "value": 2.55,
                "source": "direct_use^       ",
                "time": "*",
                "type": "Biomass"
              },
              {
                "opacity": 1,
                "target": "uses^Residential",
                "title": "Biomass",
                "color": "lightgreen",
                "value": 0.52,
                "source": "direct_use^       ",
                "time": "*",
                "type": "Biomass"
              },
              {
                "opacity": 1,
                "target": "uses^Transportation",
                "title": "Biomass",
                "color": "lightgreen",
                "value": 1.41,
                "source": "direct_use^       ",
                "time": "*",
                "type": "Biomass"
              },
              {
                "opacity": 1,
                "target": "uses^Commercial",
                "title": "Petroleum",
                "color": "green",
                "value": 0.85,
                "source": "direct_use^        ",
                "time": "*",
                "type": "Petroleum"
              },
              {
                "opacity": 1,
                "target": "uses^Industrial",
                "title": "Petroleum",
                "color": "green",
                "value": 8.86,
                "source": "direct_use^        ",
                "time": "*",
                "type": "Petroleum"
              },
              {
                "opacity": 1,
                "target": "uses^Residential",
                "title": "Petroleum",
                "color": "green",
                "value": 0.96,
                "source": "direct_use^        ",
                "time": "*",
                "type": "Petroleum"
              },
              {
                "opacity": 1,
                "target": "uses^Transportation",
                "title": "Petroleum",
                "color": "green",
                "value": 26,
                "source": "direct_use^        ",
                "time": "*",
                "type": "Petroleum"
              },
              {
                "opacity": 1,
                "target": "rejected^*",
                "title": "Rejected energy",
                "color": "lightgrey",
                "value": 25.3,
                "source": "__electricity_rejected_2^*",
                "time": "*",
                "type": "Rejected energy"
              },
              {
                "opacity": 1,
                "target": "energy_services^*",
                "title": "Energy services",
                "color": "dimgrey",
                "value": 7.72,
                "source": "uses^Residential",
                "time": "*",
                "type": "Energy services"
              },
              {
                "opacity": 1,
                "target": "rejected^*",
                "title": "Rejected energy",
                "color": "lightgrey",
                "value": 4.16,
                "source": "uses^Residential",
                "time": "*",
                "type": "Rejected energy"
              },
              {
                "opacity": 1,
                "target": "energy_services^*",
                "title": "Energy services",
                "color": "dimgrey",
                "value": 6.14,
                "source": "uses^Commercial",
                "time": "*",
                "type": "Energy services"
              },
              {
                "opacity": 1,
                "target": "rejected^*",
                "title": "Rejected energy",
                "color": "lightgrey",
                "value": 3.31,
                "source": "uses^Commercial",
                "time": "*",
                "type": "Rejected energy"
              },
              {
                "opacity": 1,
                "target": "energy_services^*",
                "title": "Energy services",
                "color": "dimgrey",
                "value": 12.9,
                "source": "uses^Industrial",
                "time": "*",
                "type": "Energy services"
              },
              {
                "opacity": 1,
                "target": "rejected^*",
                "title": "Rejected energy",
                "color": "lightgrey",
                "value": 13.4,
                "source": "uses^Industrial",
                "time": "*",
                "type": "Rejected energy"
              },
              {
                "opacity": 1,
                "target": "energy_services^*",
                "title": "Energy services",
                "color": "dimgrey",
                "value": 5.95,
                "source": "uses^Transportation",
                "time": "*",
                "type": "Energy services"
              },
              {
                "opacity": 1,
                "target": "rejected^*",
                "title": "Rejected energy",
                "color": "lightgrey",
                "value": 22.4,
                "source": "uses^Transportation",
                "time": "*",
                "type": "Rejected energy"
              }
            ],
            "_view_module": "jupyter-sankey-widget",
            "_model_module_version": "^0.4.1",
            "_view_count": null,
            "linkLabelFormat": "",
            "margins": {
              "right": 120,
              "left": 100
            },
            "_model_module": "jupyter-sankey-widget",
            "scale": 2.1205247065785584,
            "layout": "IPY_MODEL_ef287dcf304144a99458f7ab99dab3b0",
            "linkLabelMinWidth": 5,
            "nodes": [
              {
                "direction": "r",
                "hidden": false,
                "type": "process",
                "id": "sources^Solar",
                "title": "Solar"
              },
              {
                "direction": "r",
                "hidden": false,
                "type": "process",
                "id": "sources^Nuclear",
                "title": "Nuclear"
              },
              {
                "direction": "r",
                "hidden": false,
                "type": "process",
                "id": "sources^Hydro",
                "title": "Hydro"
              },
              {
                "direction": "r",
                "hidden": false,
                "type": "process",
                "id": "sources^Wind",
                "title": "Wind"
              },
              {
                "direction": "r",
                "hidden": false,
                "type": "process",
                "id": "sources^Geothermal",
                "title": "Geothermal"
              },
              {
                "direction": "r",
                "hidden": false,
                "type": "process",
                "id": "sources^Natural_Gas",
                "title": "Natural_Gas"
              },
              {
                "direction": "r",
                "hidden": false,
                "type": "process",
                "id": "sources^Coal",
                "title": "Coal"
              },
              {
                "direction": "r",
                "hidden": false,
                "type": "process",
                "id": "sources^Biomass",
                "title": "Biomass"
              },
              {
                "direction": "r",
                "hidden": false,
                "type": "process",
                "id": "sources^Petroleum",
                "title": "Petroleum"
              },
              {
                "direction": "r",
                "hidden": false,
                "type": "process",
                "id": "imports^*",
                "title": "Net electricity imports"
              },
              {
                "direction": "r",
                "hidden": false,
                "type": "process",
                "id": "electricity^*",
                "title": "Electricity Generation"
              },
              {
                "direction": "r",
                "hidden": true,
                "type": "group",
                "id": "direct_use^",
                "title": ""
              },
              {
                "direction": "r",
                "hidden": false,
                "type": "group",
                "id": "direct_use^    ",
                "title": "    "
              },
              {
                "direction": "r",
                "hidden": false,
                "type": "group",
                "id": "direct_use^     ",
                "title": "     "
              },
              {
                "direction": "r",
                "hidden": false,
                "type": "group",
                "id": "direct_use^      ",
                "title": "      "
              },
              {
                "direction": "r",
                "hidden": false,
                "type": "group",
                "id": "direct_use^       ",
                "title": "       "
              },
              {
                "direction": "r",
                "hidden": false,
                "type": "group",
                "id": "direct_use^        ",
                "title": "        "
              },
              {
                "direction": "r",
                "hidden": true,
                "type": "group",
                "id": "__electricity_rejected_2^*",
                "title": ""
              },
              {
                "direction": "r",
                "hidden": false,
                "type": "process",
                "id": "uses^Residential",
                "title": "Residential"
              },
              {
                "direction": "r",
                "hidden": false,
                "type": "process",
                "id": "uses^Commercial",
                "title": "Commercial"
              },
              {
                "direction": "r",
                "hidden": false,
                "type": "process",
                "id": "uses^Industrial",
                "title": "Industrial"
              },
              {
                "direction": "r",
                "hidden": false,
                "type": "process",
                "id": "uses^Transportation",
                "title": "Transportation"
              },
              {
                "direction": "r",
                "hidden": false,
                "type": "process",
                "id": "rejected^*",
                "title": "Rejected energy"
              },
              {
                "direction": "r",
                "hidden": false,
                "type": "process",
                "id": "energy_services^*",
                "title": "Energy services"
              }
            ],
            "rank_sets": [],
            "_dom_classes": [],
            "_model_name": "SankeyModel",
            "groups": [
              {
                "nodes": [
                  "sources^Solar",
                  "sources^Nuclear",
                  "sources^Hydro",
                  "sources^Wind",
                  "sources^Geothermal",
                  "sources^Natural_Gas",
                  "sources^Coal",
                  "sources^Biomass",
                  "sources^Petroleum"
                ],
                "type": "process",
                "id": "sources",
                "title": "Sources"
              },
              {
                "nodes": [
                  "direct_use^",
                  "direct_use^    ",
                  "direct_use^     ",
                  "direct_use^      ",
                  "direct_use^       ",
                  "direct_use^        "
                ],
                "type": "group",
                "id": "direct_use",
                "title": ""
              },
              {
                "nodes": [
                  "__electricity_rejected_2^*"
                ],
                "type": "group",
                "id": "__electricity_rejected_2",
                "title": ""
              },
              {
                "nodes": [
                  "uses^Residential",
                  "uses^Commercial",
                  "uses^Industrial",
                  "uses^Transportation"
                ],
                "type": "process",
                "id": "uses",
                "title": ""
              }
            ],
            "png": "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",
            "show_link_info_html": false,
            "align_link_types": false,
            "svg": "<?xml version=\"1.0\" standalone=\"no\"?><!DOCTYPE svg PUBLIC \"-//W3C//DTD SVG 1.1//EN\" \"http://www.w3.org/Graphics/SVG/1.1/DTD/svg11.dtd\"><svg xmlns=\"http://www.w3.org/2000/svg\"><g class=\"sankey\" transform=\"translate(100,10)\"><g class=\"groups\"><g class=\"group\" transform=\"translate(0,43.19084722359207)\" style=\"display: inline;\"><rect x=\"-10\" y=\"-20\" width=\"21\" height=\"373.8303580234737\"/><text x=\"-10\" y=\"-25\">Sources</text></g><g class=\"group\" transform=\"translate(159.66666666666666,145.88927244632936)\" style=\"display: none;\"><rect x=\"-10\" y=\"-20\" width=\"21\" height=\"271.13193280073637\"/><text x=\"-10\" y=\"-25\"/></g><g class=\"group\" transform=\"translate(319.3333333333333,43.19084722359207)\" style=\"display: none;\"><rect x=\"-10\" y=\"-20\" width=\"21\" height=\"83.64927507643753\"/><text x=\"-10\" y=\"-25\"/></g><g class=\"group\" transform=\"translate(319.3333333333333,129.07421836473026)\" style=\"display: none;\"><rect x=\"-10\" y=\"-20\" width=\"21\" height=\"287.9469868823355\"/><text x=\"-10\" y=\"-25\"/></g></g><g class=\"links\"><g class=\"link\"><path d=\"M160.66666666666666,167.26222178387084 A137.4843588584558 137.4843588584558 0.2183277117352982 0 1 190.44541265321095,170.52595920810168 L289.98778202047845,192.610843785538 A135.4843588584558 135.4843588584558 0.2183277117352982 0 0 319.3333333333333,195.82710326462177 L319.3333333333333,197.82710326462177 A137.4843588584558 137.4843588584558 0.2183277117352982 0 1 289.55458734678905,194.56336584039093 L190.01221797952155,172.4784812629546 A135.4843588584558 135.4843588584558 0.2183277117352982 0 0 160.66666666666666,169.26222178387084 Z\" style=\"fill: white;\"/><title/><text class=\"label\" dy=\"0.35em\" x=\"164.66666666666666\" y=\"168.26222178387084\"/></g><g class=\"link\"><path d=\"M160.66666666666666,252.8282210605911 A82.98762981544061 82.98762981544061 0.3696013606111679 0 0 190.64542850454197,247.22418473274033 L288.6320840137804,209.26370142599797 A84.98762981544061 84.98762981544061 0.3696013606111679 0 1 319.3333333333333,203.52460794950193 L319.3333333333333,205.52460794950193 A82.98762981544061 82.98762981544061 0.3696013606111679 0 0 289.354571495458,211.1286442773527 L191.36791598621957,249.08912758409505 A84.98762981544061 84.98762981544061 0.3696013606111679 0 1 160.66666666666666,254.8282210605911 Z\" style=\"fill: white;\"/><title/><text class=\"label\" dy=\"0.35em\" x=\"164.66666666666666\" y=\"253.8282210605911\"/></g><g class=\"link\"><path d=\"M160.66666666666666,123.33272512082061 A50.02922393240203 50.02922393240203 1.1248524713804242 0 1 205.8032312848093,151.7838633700425 L276.0011766619991,298.6223801921432 A48.02922393240203 48.02922393240203 1.1248524713804242 0 0 319.3333333333333,325.93613768616234 L319.3333333333333,327.93613768616234 A50.02922393240203 50.02922393240203 1.1248524713804242 0 1 274.19676871519073,299.4849994369404 L203.99882333800085,152.64648261483975 A48.02922393240203 48.02922393240203 1.1248524713804242 0 0 160.66666666666666,125.33272512082061 Z\" style=\"fill: white;\"/><title/><text class=\"label\" dy=\"0.35em\" x=\"164.66666666666666\" y=\"124.33272512082061\"/></g><g class=\"link\"><path d=\"M160.66666666666666,145.59964822303317 A53.94152690881709 53.94152690881709 0.6878881272080076 0 1 194.91451917814084,157.866567471946 L286.3552948028155,233.011850726566 A51.94152690881709 51.94152690881709 0.6878881272080076 0 0 319.3333333333333,244.82394713482591 L319.3333333333333,246.82394713482591 A53.94152690881709 53.94152690881709 0.6878881272080076 0 1 285.08548082185916,234.55702788591307 L193.64470519718452,159.4117446312931 A51.94152690881709 51.94152690881709 0.6878881272080076 0 0 160.66666666666666,147.59964822303317 Z\" style=\"fill: white;\"/><title/><text class=\"label\" dy=\"0.35em\" x=\"164.66666666666666\" y=\"146.59964822303317\"/></g><g class=\"link\"><path d=\"M160.66666666666666,167.19860604267348 A138.50304293701063 138.50304293701063 0.21339570298279398 0 0 189.99881258272478,164.05699822944723 L289.57762782906605,142.47876705686227 A140.50304293701063 140.50304293701063 0.21339570298279398 0 1 319.3333333333333,139.29179406253084 L319.3333333333333,141.29179406253084 A138.50304293701063 138.50304293701063 0.21339570298279398 0 0 290.0011874172752,144.43340187575708 L190.42237217093395,166.01163304834205 A140.50304293701063 140.50304293701063 0.21339570298279398 0 1 160.66666666666666,169.19860604267348 Z\" style=\"fill: white;\"/><title/><text class=\"label\" dy=\"0.35em\" x=\"164.66666666666666\" y=\"168.19860604267348\"/></g><g class=\"link\"><path d=\"M160.66666666666666,-0.893973764671072 A49.62175458030108 49.62175458030108 0.8423475525753593 0 1 197.6948154567448,15.693938701708946 L283.7976004847414,112.2078932172569 A47.62175458030108 47.62175458030108 0.8423475525753593 0 0 319.3333333333333,128.12723148239473 L319.3333333333333,130.12723148239473 A49.62175458030108 49.62175458030108 0.8423475525753593 0 1 282.30518454325517,113.53931901601473 L196.20239951525863,17.02536450046677 A47.62175458030108 47.62175458030108 0.8423475525753593 0 0 160.66666666666666,1.1060262353289279 Z\" style=\"fill: white;\"/><title/><text class=\"label\" dy=\"0.35em\" x=\"164.66666666666666\" y=\"0.10602623532892794\"/></g><g class=\"link\"><path d=\"M1,138.15943386921785 A135.30460453290658 135.30460453290658 0.2220367939756862 0 1 30.796356653810452,141.4810351859331 L130.31074375502888,163.9473080998495 A133.30460453290658 133.30460453290658 0.2220367939756862 0 0 159.66666666666666,167.21981128973928 L159.66666666666666,169.21981128973928 A135.30460453290658 135.30460453290658 0.2220367939756862 0 1 129.8703100128562,165.89820997302402 L30.355922911637787,143.43193705910764 A133.30460453290658 133.30460453290658 0.2220367939756862 0 0 1,140.15943386921785 Z\" style=\"fill: white;\"/><title/><text class=\"label\" dy=\"0.35em\" x=\"5\" y=\"139.15943386921785\"/></g><g class=\"link\"><path d=\"M160.66666666666666,145.46181411710558 A83.70315823228653 83.70315823228653 0.37619717376147865 0 1 191.41805571903552,151.3153045953866 L289.3167167722731,189.9862443772613 A81.70315823228653 81.70315823228653 0.37619717376147865 0 0 319.3333333333333,195.69987178222706 L319.3333333333333,197.69987178222706 A83.70315823228653 83.70315823228653 0.37619717376147865 0 1 288.5819442809645,191.84638130394603 L190.68328322772692,153.17544152207134 A81.70315823228653 81.70315823228653 0.37619717376147865 0 0 160.66666666666666,147.46181411710558 Z\" style=\"fill: white;\"/><title/><text class=\"label\" dy=\"0.35em\" x=\"164.66666666666666\" y=\"146.46181411710558\"/></g><g class=\"link\"><path d=\"M1,137.9367787750271 A66.5890732864629 66.5890732864629 0.5181941946073323 0 0 33.98238145055105,129.19463449089133 L110.32436819599069,85.66699056998912 A99.61857769162005 99.61857769162005 0.5181941946073323 0 1 159.66666666666666,72.58856889239571 L159.66666666666666,74.58856889239571 A97.61857769162005 97.61857769162005 0.5181941946073323 0 0 111.31499262798009,87.40442063613445 L34.97300588254044,130.93206455703663 A68.5890732864629 68.5890732864629 0.5181941946073323 0 1 1,139.9367787750271 Z\" style=\"fill: white;\"/><title/><text class=\"label\" dy=\"0.35em\" x=\"5\" y=\"138.9367787750271\"/></g><g class=\"link\"><path d=\"M160.66666666666666,278.18050761087545 A60.8760606052348 60.8760606052348 0.5391970050413546 0 0 191.92330284862334,269.5434884344515 L287.049802970932,212.62562921917873 A62.8760606052348 62.8760606052348 0.5391970050413546 0 1 319.3333333333333,203.7048525495611 L319.3333333333333,205.7048525495611 A60.8760606052348 60.8760606052348 0.5391970050413546 0 0 288.0766971513766,214.34187172598507 L192.95019702906802,271.2597309412578 A62.8760606052348 62.8760606052348 0.5391970050413546 0 1 160.66666666666666,280.18050761087545 Z\" style=\"fill: white;\"/><title/><text class=\"label\" dy=\"0.35em\" x=\"164.66666666666666\" y=\"279.18050761087545\"/></g><g class=\"link\"><path d=\"M160.66666666666666,145.122530164053 A618.3268081557372 618.3268081557372 0.04712849337180458 0 0 189.79669132669687,144.43597599713078 L290.10908657497,139.70490070141054 A620.3268081557372 620.3268081557372 0.04712849337180458 0 1 319.3333333333333,139.01612585067562 L319.3333333333333,141.01612585067562 A618.3268081557372 618.3268081557372 0.04712849337180458 0 0 290.2033086733031,141.70268001759783 L189.89091342503002,146.43375531331807 A620.3268081557372 620.3268081557372 0.04712849337180458 0 1 160.66666666666666,147.122530164053 Z\" style=\"fill: white;\"/><title/><text class=\"label\" dy=\"0.35em\" x=\"164.66666666666666\" y=\"146.122530164053\"/></g><g class=\"link\"><path d=\"M1,308.0071012920406 A47.160692298583264 47.160692298583264 1.068031295193205 0 0 42.32472556010129,283.57080019463064 L116.58943394240133,148.51905489018213 A49.160692298583264 49.160692298583264 1.068031295193205 0 1 159.66666666666666,123.04645428543249 L159.66666666666666,125.04645428543249 A47.160692298583264 47.160692298583264 1.068031295193205 0 0 118.34194110656536,149.48275538284247 L44.07723272426532,284.534500687291 A49.160692298583264 49.160692298583264 1.068031295193205 0 1 1,310.0071012920406 Z\" style=\"fill: white;\"/><title/><text class=\"label\" dy=\"0.35em\" x=\"5\" y=\"309.0071012920406\"/></g><g class=\"link\"><path d=\"M1,43.85545911825624 A53.45022296538045 53.45022296538045 0.7000926616255334 0 1 35.43736697182911,56.42788748685766 L126.51787680682207,133.15837092189332 A51.45022296538045 51.45022296538045 0.7000926616255334 0 0 159.66666666666666,145.2603642699806 L159.66666666666666,147.2603642699806 A53.45022296538045 53.45022296538045 0.7000926616255334 0 1 125.22929969483755,134.6879359013792 L34.1487898598446,57.95745246634354 A51.45022296538045 51.45022296538045 0.7000926616255334 0 0 1,45.85545911825624 Z\" style=\"fill: white;\"/><title/><text class=\"label\" dy=\"0.35em\" x=\"5\" y=\"44.85545911825624\"/></g><g class=\"link\"><path d=\"M1,281.25297120031564 A46.60009931136522 46.60009931136522 0.9768432816103825 0 0 39.61912734728032,260.7322173324934 L118.27526609184,144.25569588768127 A49.94528644001733 49.94528644001733 0.9768432816103825 0 1 159.66666666666666,122.26186014399843 L159.66666666666666,124.26186014399843 A47.94528644001733 47.94528644001733 0.9768432816103825 0 0 119.93273583623866,145.3749787144963 L41.27659709167897,261.85150015930844 A48.60009931136522 48.60009931136522 0.9768432816103825 0 1 1,283.25297120031564 Z\" style=\"fill: white;\"/><title/><text class=\"label\" dy=\"0.35em\" x=\"5\" y=\"282.25297120031564\"/></g><g class=\"link\"><path d=\"M160.66666666666666,277.47013183417164 A47.812868735788335 47.812868735788335 0.8319866749967951 0 0 196.01331830377706,261.8548505047479 L282.24252787876634,167.19204880712613 A50.172158616630114 50.172158616630114 0.8319866749967951 0 1 319.3333333333333,150.80624321925245 L319.3333333333333,152.80624321925245 A48.172158616630114 48.172158616630114 0.8319866749967951 0 0 283.7210692242955,168.53886560593764 L197.4918596493062,263.20166730355936 A49.812868735788335 49.812868735788335 0.8319866749967951 0 1 160.66666666666666,279.47013183417164 Z\" style=\"fill: white;\"/><title/><text class=\"label\" dy=\"0.35em\" x=\"164.66666666666666\" y=\"278.47013183417164\"/></g><g class=\"link\"><path d=\"M1,42.83760725909853 A0 0 0 0 0 1,42.83760725909853 L159.66666666666666,42.83760725909853 A0 0 0 0 0 159.66666666666666,42.83760725909853 L159.66666666666666,44.83760725909853 A0 0 0 0 0 159.66666666666666,44.83760725909853 L1,44.83760725909853 A0 0 0 0 0 1,44.83760725909853 Z\" style=\"fill: white;\"/><title/><text class=\"label\" dy=\"0.35em\" x=\"5\" y=\"43.83760725909853\"/></g><g class=\"link\"><path d=\"M160.66666666666666,311.1984909754413 A50.44510491017079 50.44510491017079 0.7276846952714633 0 0 194.21985204395247,298.42157370996125 L284.44986286943566,218.04859934816807 A52.44510491017079 52.44510491017079 0.7276846952714633 0 1 319.3333333333333,204.76511490285037 L319.3333333333333,206.76511490285037 A50.44510491017079 50.44510491017079 0.7276846952714633 0 0 285.78014795604753,219.54203216833042 L195.55013713056434,299.91500653012355 A52.44510491017079 52.44510491017079 0.7276846952714633 0 1 160.66666666666666,313.1984909754413 Z\" style=\"fill: white;\"/><title/><text class=\"label\" dy=\"0.35em\" x=\"164.66666666666666\" y=\"312.1984909754413\"/></g><g class=\"link\"><path d=\"M160.66666666666666,230.35984811125354 A54.59950117447799 54.59950117447799 0.6726108681739001 0 1 194.68381153201165,242.25174593794392 L286.5622491144635,315.4340806101079 A52.59950117447799 52.59950117447799 0.6726108681739001 0 0 319.3333333333333,326.89037380412265 L319.3333333333333,328.89037380412265 A54.59950117447799 54.59950117447799 0.6726108681739001 0 1 285.31618846798835,316.99847597743224 L193.4377508855365,243.8161413052683 A52.59950117447799 52.59950117447799 0.6726108681739001 0 0 160.66666666666666,232.35984811125354 Z\" style=\"fill: white;\"/><title/><text class=\"label\" dy=\"0.35em\" x=\"164.66666666666666\" y=\"231.35984811125354\"/></g><g class=\"link\"><path d=\"M160.66666666666666,309.26156425683 A46.58511847460427 46.58511847460427 0.9643344109592074 0 0 198.94424869866253,289.22828144525937 L279.3830751630738,173.2662885486372 A48.62082219291969 48.62082219291969 0.9643344109592074 0 1 319.3333333333333,152.35757964296286 L319.3333333333333,154.39328336127826 A46.58511847460427 46.58511847460427 0.9643344109592074 0 0 281.05575130133747,174.42656617284894 L200.61692483692622,290.3885590694711 A48.62082219291969 48.62082219291969 0.9643344109592074 0 1 160.66666666666666,311.2972679751454 Z\" style=\"fill: white;\"/><title/><text class=\"label\" dy=\"0.35em\" x=\"164.66666666666666\" y=\"310.2794161159877\"/></g><g class=\"link\"><path d=\"M160.66666666666666,253.84942630765687 A271.9676439210831 271.9676439210831 0.10829243758448226 0 1 190.06117426807282,255.442584999723 L290.2138515932737,266.3309594424637 A269.42301427318887 269.42301427318887 0.10829243758448226 0 0 319.3333333333333,267.90921195384163 L319.3333333333333,270.45384160173586 A271.9676439210831 271.9676439210831 0.10829243758448226 0 1 289.9388257319272,268.8606829096698 L189.78614840672623,257.97230846692906 A269.42301427318887 269.42301427318887 0.10829243758448226 0 0 160.66666666666666,256.39405595555115 Z\" style=\"fill: white;\"/><title/><text class=\"label\" dy=\"0.35em\" x=\"164.66666666666666\" y=\"255.121741131604\"/></g><g class=\"link\"><path d=\"M1,262.9842933228129 A411.5631279059721 411.5631279059721 0.07078712580298463 0 0 30.10904667338915,261.9535900236116 L130.3746437567441,254.84419799926607 A414.1501680479979 414.1501680479979 0.07078712580298463 0 1 159.66666666666666,253.8070158135253 L159.66666666666666,256.39405595555115 A411.5631279059721 411.5631279059721 0.07078712580298463 0 0 130.5576199932775,257.4247592547524 L30.29202290992258,264.53415127909796 A414.1501680479979 414.1501680479979 0.07078712580298463 0 1 1,265.5713334648387 Z\" style=\"fill: white;\"/><title/><text class=\"label\" dy=\"0.35em\" x=\"5\" y=\"264.2778133938258\"/></g><g class=\"link\"><path d=\"M160.66666666666666,284.7468849656442 A93.80071760144493 93.80071760144493 0.3322480898687461 0 1 191.26155254798013,289.8767077906439 L289.71367312642815,323.84649462391127 A90.81077776516916 90.81077776516916 0.3322480898687461 0 0 319.3333333333333,328.8128020514843 L319.3333333333333,331.8027418877601 A93.80071760144493 93.80071760144493 0.3322480898687461 0 1 288.73844745201984,326.6729190627604 L190.28632687357182,292.703132229493 A90.81077776516916 90.81077776516916 0.3322480898687461 0 0 160.66666666666666,287.73682480191997 Z\" style=\"fill: white;\"/><title/><text class=\"label\" dy=\"0.35em\" x=\"164.66666666666666\" y=\"286.2418548837821\"/></g><g class=\"link\"><path d=\"M1,117.26130535555772 A81.45557253109598 81.45557253109598 0.38076780349557615 0 0 31.271610714053303,111.42742204882019 L120.9638195870101,75.52333607911483 A104.14254455225719 104.14254455225719 0.38076780349557615 0 1 159.66666666666666,68.06460203175857 L159.66666666666666,73.42952953940232 A98.77761704461344 98.77761704461344 0.38076780349557615 0 0 122.95760579431358,80.50402516013956 L33.26539692135679,116.40811112984493 A86.82050003873974 86.82050003873974 0.38076780349557615 0 1 1,122.62623286320148 Z\" style=\"fill: white;\"/><title/><text class=\"label\" dy=\"0.35em\" x=\"5\" y=\"119.9437691093796\"/></g><g class=\"link\"><path d=\"M160.66666666666666,279.3395469638689 A423.6113928035864 423.6113928035864 0.0685426998893226 0 0 189.67940530925446,278.3448517829051 L289.95025128907406,271.46123392244516 A429.0187308053617 429.0187308053617 0.0685426998893226 0 1 319.3333333333333,270.4538416017359 L319.3333333333333,275.86117960351123 A423.6113928035864 423.6113928035864 0.0685426998893226 0 0 290.3205946907455,276.855874784475 L190.04974871092585,283.73949264493496 A429.0187308053617 429.0187308053617 0.0685426998893226 0 1 160.66666666666666,284.7468849656442 Z\" style=\"fill: white;\"/><title/><text class=\"label\" dy=\"0.35em\" x=\"164.66666666666666\" y=\"282.04321596475654\"/></g><g class=\"link\"><path d=\"M1,95.42679258309497 A116.39108761054601 116.39108761054601 0.2517179351187515 0 0 29.9893096122257,91.7588401461783 L129.26190136932536,66.22864269361585 A122.07409382417654 122.07409382417654 0.2517179351187515 0 1 159.66666666666666,62.381595818128034 L159.66666666666666,68.06460203175857 A116.39108761054601 116.39108761054601 0.2517179351187515 0 0 130.67735705444096,71.73255446867523 L31.404765297341324,97.26275192123768 A122.07409382417654 122.07409382417654 0.2517179351187515 0 1 1,101.1097987967255 Z\" style=\"fill: white;\"/><title/><text class=\"label\" dy=\"0.35em\" x=\"5\" y=\"98.26829568991023\"/></g><g class=\"link\"><path d=\"M160.66666666666666,117.40921195384162 A55.95273709938102 55.95273709938102 0.8137333540886506 0 1 201.3362640401592,134.9341903573208 L285.999370510743,224.5364614602404 A45.86046036218161 45.86046036218161 0.8137333540886506 0 0 319.3333333333333,238.90043396784694 L319.3333333333333,245.79213926422727 A52.75216565856192 52.75216565856192 0.8137333540886506 0 1 280.99009135568167,229.26961307822444 L196.32698488509791,139.66734197530485 A49.06103180300071 49.06103180300071 0.8137333540886506 0 0 160.66666666666666,124.30091725022193 Z\" style=\"fill: white;\"/><title/><text class=\"label\" dy=\"0.35em\" x=\"164.66666666666666\" y=\"120.85506460203177\"/></g><g class=\"link\"><path d=\"M320.3333333333333,186.62737942597892 A55.27563862494257 55.27563862494257 0.6549801425727041 0 0 354.00412905125114,175.18864011106388 L417.1812875596873,126.66273541302162 A101.48464674660434 101.48464674660434 0.6549801425727041 0 1 479,105.66150507939642 L479,112.68044185817143 A94.4657099678293 94.4657099678293 0.6549801425727041 0 0 421.4568272425245,132.22917358522156 L358.2796687340884,180.7550782832638 A62.2945754037176 62.2945754037176 0.6549801425727041 0 1 320.3333333333333,193.64631620475393 Z\" style=\"fill: white;\"/><title/><text class=\"label\" dy=\"0.35em\" x=\"324.3333333333333\" y=\"190.13684781536642\"/></g><g class=\"link\"><path d=\"M160.66666666666666,200.72886872472628 A969.8786374152597 969.8786374152597 0.029958120929979293 0 0 189.71806216734078,200.2936735658698 L290.05263989748346,197.2869385950839 A977.5337316060082 977.5337316060082 0.029958120929979293 0 1 319.3333333333333,196.84830851168755 L319.3333333333333,204.50340270243612 A969.8786374152597 969.8786374152597 0.029958120929979293 0 0 290.2819378326592,204.9385978612926 L189.9473601025165,207.9453328320785 A977.5337316060082 977.5337316060082 0.029958120929979293 0 1 160.66666666666666,208.38396291547485 Z\" style=\"fill: white;\"/><title/><text class=\"label\" dy=\"0.35em\" x=\"164.66666666666666\" y=\"204.55641582010057\"/></g><g class=\"link\"><path d=\"M320.3333333333333,129.07421836473026 A117.57573568865998 117.57573568865998 0.24569842870478187 0 0 348.9317307016686,125.54314625439132 L448.2559438476912,100.63612100023339 A126.39711846802679 126.39711846802679 0.24569842870478187 0 1 479,96.8401223000296 L479,105.66150507939642 A117.57573568865998 117.57573568865998 0.24569842870478187 0 0 450.40160263166473,109.19257718973536 L351.07738948564213,134.09960244389327 A126.39711846802679 126.39711846802679 0.24569842870478187 0 1 320.3333333333333,137.89560114409704 Z\" style=\"fill: white;\"/><title/><text class=\"label\" dy=\"0.35em\" x=\"324.3333333333333\" y=\"133.48490975441365\"/></g><g class=\"link\"><path d=\"M1,282.78310237696024 A772.1422518132053 772.1422518132053 0.037548607586899374 0 0 29.986054064453807,282.23884544511793 L130.3120458904717,278.4699727388247 A781.9602812046642 781.9602812046642 0.037548607586899374 0 1 159.66666666666666,277.9187954104612 L159.66666666666666,287.7368248019199 A772.1422518132053 772.1422518132053 0.037548607586899374 0 0 130.68061260221285,288.2810817337622 L30.35462077619498,292.04995444005544 A781.9602812046642 781.9602812046642 0.037548607586899374 0 1 1,292.60113176841895 Z\" style=\"fill: white;\"/><title/><text class=\"label\" dy=\"0.35em\" x=\"5\" y=\"287.6921170726896\"/></g><g class=\"link\"><path d=\"M160.66666666666666,107.4427458329224 A65.91920322030025 65.91920322030025 0.5708578097780983 0 1 196.28637450581556,117.89504210274525 L289.83872975469365,177.9724422109665 A54.583849367389895 54.583849367389895 0.5708578097780983 0 0 319.3333333333333,186.62737942597892 L319.3333333333333,196.59384554689814 A64.55031548830912 64.55031548830912 0.5708578097780983 0 1 284.453309511832,186.3586031769393 L190.90095426295386,126.28120306871809 A55.95273709938102 55.95273709938102 0.5708578097780983 0 0 160.66666666666666,117.40921195384162 Z\" style=\"fill: white;\"/><title/><text class=\"label\" dy=\"0.35em\" x=\"164.66666666666666\" y=\"112.42597889338201\"/></g><g class=\"link\"><path d=\"M160.66666666666666,96.8401223000296 A126.91956530101015 126.91956530101015 0.24648595067028833 0 1 191.63474014066585,100.67616115860162 L290.9522749015387,125.66466126604341 A116.31694176811737 116.31694176811737 0.24648595067028833 0 0 319.3333333333333,129.18024460005918 L319.3333333333333,139.78286813295196 A126.91956530101015 126.91956530101015 0.24648595067028833 0 1 288.3652598593341,135.94682927437995 L189.0477250984613,110.95832916693814 A116.31694176811737 116.31694176811737 0.24648595067028833 0 0 160.66666666666666,107.44274583292238 Z\" style=\"fill: white;\"/><title/><text class=\"label\" dy=\"0.35em\" x=\"164.66666666666666\" y=\"102.141434066476\"/></g><g class=\"link\"><path d=\"M160.66666666666666,189.8081664858467 A78.28910902977974 78.28910902977974 0.3708053543391294 0 0 189.03599113996935,184.4873109750132 L287.00671583255155,146.39727669775306 A89.20981126865932 89.20981126865932 0.3708053543391294 0 1 319.3333333333333,140.33420455666243 L319.3333333333333,151.254906795542 A78.28910902977974 78.28910902977974 0.3708053543391294 0 0 290.9640088600306,156.5757623063755 L192.99328416744842,194.66579658363565 A89.20981126865932 89.20981126865932 0.3708053543391294 0 1 160.66666666666666,200.72886872472628 Z\" style=\"fill: white;\"/><title/><text class=\"label\" dy=\"0.35em\" x=\"164.66666666666666\" y=\"195.2685176052865\"/></g><g class=\"link\"><path d=\"M320.3333333333333,374.4040832429233 A0 0 0 0 0 320.3333333333333,374.4040832429233 L479,374.4040832429233 A0 0 0 0 0 479,374.4040832429233 L479,387.0212052470657 A0 0 0 0 0 479,387.0212052470657 L320.3333333333333,387.0212052470657 A0 0 0 0 0 320.3333333333333,387.0212052470657 Z\" style=\"fill: white;\"/><title/><text class=\"label\" dy=\"0.35em\" x=\"324.3333333333333\" y=\"380.7126442449945\"/></g><g class=\"link\"><path d=\"M320.3333333333333,193.64631620475393 A54.46720514324092 54.46720514324092 0.9403644547600101 0 1 364.3304709147989,216.00544883104868 L433.63821348022145,310.9766522099592 A56.156601721233386 56.156601721233386 0.9403644547600101 0 0 479,334.0292928296676 L479,347.04931452806 A69.17662341962574 69.17662341962574 0.9403644547600101 0 1 423.12099152122175,318.6518725515351 L353.8132489557992,223.68066917262468 A41.44718344484856 41.44718344484856 0.9403644547600101 0 0 320.3333333333333,206.66633790314626 Z\" style=\"fill: white;\"/><title/><text class=\"label\" dy=\"0.35em\" x=\"324.3333333333333\" y=\"200.1563270539501\"/></g><g class=\"link\"><path d=\"M320.3333333333333,137.89560114409707 A56.15660172123339 56.15660172123339 1.0501203368456196 0 1 369.0482360240672,166.11616569629803 L444.48618658648707,297.66497480621825 A39.78615098644691 39.78615098644691 1.0501203368456196 0 0 479,317.65884209488115 L479,334.0292928296676 A56.156601721233386 56.156601721233386 1.0501203368456196 0 1 430.2850973092661,305.8087282774666 L354.84714674684625,174.25991916754646 A39.78615098644692 39.78615098644692 1.0501203368456196 0 0 320.3333333333333,154.26605187888353 Z\" style=\"fill: white;\"/><title/><text class=\"label\" dy=\"0.35em\" x=\"324.3333333333333\" y=\"146.0808265114903\"/></g><g class=\"link\"><path d=\"M1,61.378057500739715 A217.11662875997607 217.11662875997607 0.12997668505545734 0 0 29.140708662188402,59.54666046855101 L129.20627988209066,46.46672895529582 A235.0138572834991 235.0138572834991 0.12997668505545734 0 1 159.66666666666666,44.48436729460499 L159.66666666666666,62.381595818128034 A217.11662875997607 217.11662875997607 0.12997668505545734 0 0 131.52595800447824,64.21299285031674 L31.460386784576016,77.29292436357193 A235.0138572834991 235.0138572834991 0.12997668505545734 0 1 1,79.27528602426275 Z\" style=\"fill: white;\"/><title/><text class=\"label\" dy=\"0.35em\" x=\"5\" y=\"70.32667176250123\"/></g><g class=\"link\"><path d=\"M160.66666666666666,313.0997139757372 A97.599355499323 97.599355499323 0.2826459079993593 0 0 187.8868870660236,309.22705582190724 L286.87322804663046,280.47932337929404 A116.38720439960903 116.38720439960903 0.2826459079993593 0 1 319.3333333333333,275.86117960351123 L319.3333333333333,294.64902850379724 A97.599355499323 97.599355499323 0.2826459079993593 0 0 292.1131129339763,298.5216866576272 L193.1267719533695,327.2694191002404 A116.38720439960903 116.38720439960903 0.2826459079993593 0 1 160.66666666666666,331.8875628760232 Z\" style=\"fill: white;\"/><title/><text class=\"label\" dy=\"0.35em\" x=\"164.66666666666666\" y=\"322.4936384258802\"/></g><g class=\"link\"><path d=\"M160.66666666666666,208.38396291547488 A117.42374672893058 117.42374672893058 0.2843564357250816 0 1 193.6086998161525,213.09941914260514 L292.57817234636315,242.02591275156692 A95.37028978051359 95.37028978051359 0.2843564357250816 0 0 319.3333333333333,245.85575500542458 L319.3333333333333,267.9092119538416 A117.42374672893058 117.42374672893058 0.2843564357250816 0 1 286.3913001838475,263.19375572671134 L187.42182765363683,234.26726211774957 A95.37028978051359 95.37028978051359 0.2843564357250816 0 0 160.66666666666666,230.4374198638919 Z\" style=\"fill: white;\"/><title/><text class=\"label\" dy=\"0.35em\" x=\"164.66666666666666\" y=\"219.4106913896834\"/></g><g class=\"link\"><path d=\"M1,155.37455616924743 A46.843656159541524 46.843656159541524 0.6341308631005356 0 0 28.75381570636937,146.2675378584894 L101.3315983646198,92.889427907474 A98.45953833862666 98.45953833862666 0.6341308631005356 0 1 159.66666666666666,73.7476082453891 L159.66666666666666,97.07338001775324 A75.13376656626252 75.13376656626252 0.6341308631005356 0 0 115.1515950099321,111.68036512465336 L42.57381235168168,165.05847507566875 A70.16942793190567 70.16942793190567 0.6341308631005356 0 1 1,178.70032794161156 Z\" style=\"fill: white;\"/><title/><text class=\"label\" dy=\"0.35em\" x=\"5\" y=\"167.0374420554295\"/></g><g class=\"link\"><path d=\"M1,237.32594437321234 A35.13347040675952 35.13347040675952 0.9384702288056294 0 0 29.34058658820426,222.95715298297372 L99.05964457586248,127.80138398817242 A75.13376656626252 75.13376656626252 0.9384702288056294 0 1 159.66666666666666,97.07338001775324 L159.66666666666666,122.7317289673538 A49.475417616661964 49.475417616661964 0.9384702288056294 0 0 119.75707786946074,142.9660510097894 L50.03801988180254,238.12182000459072 A60.79181935636007 60.79181935636007 0.9384702288056294 0 1 1,262.9842933228129 Z\" style=\"fill: white;\"/><title/><text class=\"label\" dy=\"0.35em\" x=\"5\" y=\"250.15511884801262\"/></g><g class=\"link\"><path d=\"M320.3333333333333,267.31546503599964 A72.99835920088306 72.99835920088306 0.6110642917006748 0 1 362.21537398723933,280.5254046500956 L439.3106400461989,334.53096441603094 A69.17662341962574 69.17662341962574 0.6110642917006748 0 0 479,347.04931452805994 L479,374.4040832429234 A96.53139213448915 96.53139213448915 0.6110642917006748 0 1 423.6161292662875,356.93555552640186 L346.5208632073279,302.9299957604665 A45.64359048601965 45.64359048601965 0.6110642917006748 0 0 320.3333333333333,294.6702337508631 Z\" style=\"fill: white;\"/><title/><text class=\"label\" dy=\"0.35em\" x=\"324.3333333333333\" y=\"280.99284939343136\"/></g><g class=\"link\"><path d=\"M320.3333333333333,238.90043396784694 A34.64361751411682 34.64361751411682 0.9320736720218797 0 0 348.14723631154874,224.9103158081456 L403.15745582161605,150.82849160936954 A94.4657099678293 94.4657099678293 0.9320736720218797 0 1 479,112.68044185817143 L479,141.0954729263241 A66.05067889967663 66.05067889967663 0.9320736720218797 0 0 425.970688791023,167.76869208302523 L370.9604692809557,241.8505162818013 A63.058648582269505 63.058648582269505 0.9320736720218797 0 1 320.3333333333333,267.31546503599964 Z\" style=\"fill: white;\"/><title/><text class=\"label\" dy=\"0.35em\" x=\"324.3333333333333\" y=\"253.1079495019233\"/></g><g class=\"link\"><path d=\"M1,178.70032794161156 A362.86736069959125 362.86736069959125 0.0856357996418553 0 1 32.036469842280255,180.0300571271148 L132.26305712794846,188.63408387990134 A320.39325082682274 320.39325082682274 0.0856357996418553 0 0 159.66666666666666,189.8081664858467 L159.66666666666666,232.2822763586152 A362.86736069959125 362.86736069959125 0.0856357996418553 0 1 128.63019682438642,230.95254717311198 L28.403609538718204,222.34852042032543 A320.39325082682274 320.39325082682274 0.0856357996418553 0 0 1,221.17443781438007 Z\" style=\"fill: white;\"/><title/><text class=\"label\" dy=\"0.35em\" x=\"5\" y=\"199.93738287799582\"/></g><g class=\"link\"><path d=\"M320.3333333333333,326.90432981556364 A24.44484613948113 24.44484613948113 1.0517922524198862 0 0 341.55912580536335,314.5845089015086 L421.6472969000661,174.38398415902518 A66.05067889967663 66.05067889967663 1.0517922524198862 0 1 479,141.09547292632413 L479,188.5952263536838 A18.55092547231692 18.55092547231692 1.0517922524198862 0 0 462.89197902933284,197.94460324502788 L382.8038079346301,338.14512798751133 A71.94459956684084 71.94459956684084 1.0517922524198862 0 1 320.3333333333333,374.4040832429233 Z\" style=\"fill: white;\"/><title/><text class=\"label\" dy=\"0.35em\" x=\"324.3333333333333\" y=\"350.6542065292435\"/></g><g class=\"link\"><path d=\"M160.66666666666666,43.19084722359207 A0 0 0 0 0 160.66666666666666,43.19084722359207 L319.3333333333333,43.19084722359207 A0 0 0 0 0 319.3333333333333,43.19084722359207 L319.3333333333333,96.8401223000296 A0 0 0 0 0 319.3333333333333,96.8401223000296 L160.66666666666666,96.8401223000296 A0 0 0 0 0 160.66666666666666,96.8401223000296 Z\" style=\"fill: white;\"/><title/><text class=\"label\" dy=\"0.35em\" x=\"164.66666666666666\" y=\"70.01548476181084\"/></g><g class=\"link\"><path d=\"M320.3333333333333,43.19084722359207 A0 0 0 0 0 320.3333333333333,43.19084722359207 L479,43.19084722359207 A0 0 0 0 0 479,43.19084722359207 L479,96.8401223000296 A0 0 0 0 0 479,96.8401223000296 L320.3333333333333,96.8401223000296 A0 0 0 0 0 320.3333333333333,96.8401223000296 Z\" style=\"fill: white;\"/><title/><text class=\"label\" dy=\"0.35em\" x=\"324.3333333333333\" y=\"70.01548476181084\"/></g><g class=\"link\"><path d=\"M160.66666666666666,331.8875628760232 A0 0 0 0 0 160.66666666666666,331.8875628760232 L319.3333333333333,331.8027418877601 A0 0 0 0 1 319.3333333333333,331.8027418877601 L319.3333333333333,386.93638425880255 A0 0 0 0 0 319.3333333333333,386.93638425880255 L160.66666666666666,387.02120524706567 A0 0 0 0 1 160.66666666666666,387.02120524706567 Z\" style=\"fill: white;\"/><title/><text class=\"label\" dy=\"0.35em\" x=\"164.66666666666666\" y=\"359.45438406154443\"/></g><g class=\"link\"><path d=\"M1,309.26156425683007 A0 0 0 0 0 1,309.26156425683007 L159.66666666666666,309.26156425683 A0 0 0 0 1 159.66666666666666,309.26156425683 L159.66666666666666,387.0212052470658 A0 0 0 0 0 159.66666666666666,387.0212052470658 L1,387.02120524706584 A0 0 0 0 1 1,387.02120524706584 Z\" style=\"fill: white;\"/><title/><text class=\"label\" dy=\"0.35em\" x=\"5\" y=\"348.14138475194795\"/></g></g><g class=\"nodes\"><g class=\"node\" transform=\"translate(0,43.19084722359207)\"><title>Solar</title><line x1=\"0\" x2=\"0\" y1=\"0\" y2=\"2.0357037183154176\" style=\"display: inline;\"/><rect class=\"node-body\" width=\"1\" height=\"2.0357037183154176\"/><text class=\"node-value\" dy=\".35em\" text-anchor=\"middle\" transform=\"translate(0.5,1.0178518591577088) rotate(-90)\" style=\"display: none;\"/><text class=\"node-title\" dy=\".35em\" text-anchor=\"end\" transform=\"translate(-4,1.0178518591577088)\" style=\"display: inline;\">Solar</text><rect class=\"node-click-target\" x=\"-5\" y=\"-5\" width=\"10\" height=\"7.035703718315418\" style=\"fill: none; visibility: hidden; pointer-events: all;\"/></g><g class=\"node\" transform=\"translate(0,61.378057500739715)\"><title>Nuclear</title><line x1=\"0\" x2=\"0\" y1=\"0\" y2=\"17.89722852352304\" style=\"display: inline;\"/><rect class=\"node-body\" width=\"1\" height=\"17.89722852352304\"/><text class=\"node-value\" dy=\".35em\" text-anchor=\"middle\" transform=\"translate(0.5,8.94861426176152) rotate(-90)\" style=\"display: none;\"/><text class=\"node-title\" dy=\".35em\" text-anchor=\"end\" transform=\"translate(-4,8.94861426176152)\" style=\"display: inline;\">Nuclear</text><rect class=\"node-click-target\" x=\"-5\" y=\"-5\" width=\"10\" height=\"22.89722852352304\" style=\"fill: none; visibility: hidden; pointer-events: all;\"/></g><g class=\"node\" transform=\"translate(0,95.42679258309497)\"><title>Hydro</title><line x1=\"0\" x2=\"0\" y1=\"0\" y2=\"5.683006213630534\" style=\"display: inline;\"/><rect class=\"node-body\" width=\"1\" height=\"5.683006213630534\"/><text class=\"node-value\" dy=\".35em\" text-anchor=\"middle\" transform=\"translate(0.5,2.841503106815267) rotate(-90)\" style=\"display: none;\"/><text class=\"node-title\" dy=\".35em\" text-anchor=\"end\" transform=\"translate(-4,2.841503106815267)\" style=\"display: inline;\">Hydro</text><rect class=\"node-click-target\" x=\"-5\" y=\"-5\" width=\"10\" height=\"10.683006213630534\" style=\"fill: none; visibility: hidden; pointer-events: all;\"/></g><g class=\"node\" transform=\"translate(0,117.26130535555772)\"><title>Wind</title><line x1=\"0\" x2=\"0\" y1=\"0\" y2=\"5.364927507643756\" style=\"display: inline;\"/><rect class=\"node-body\" width=\"1\" height=\"5.364927507643756\"/><text class=\"node-value\" dy=\".35em\" text-anchor=\"middle\" transform=\"translate(0.5,2.682463753821878) rotate(-90)\" style=\"display: none;\"/><text class=\"node-title\" dy=\".35em\" text-anchor=\"end\" transform=\"translate(-4,2.682463753821878)\" style=\"display: inline;\">Wind</text><rect class=\"node-click-target\" x=\"-5\" y=\"-5\" width=\"10\" height=\"10.364927507643756\" style=\"fill: none; visibility: hidden; pointer-events: all;\"/></g><g class=\"node\" transform=\"translate(0,138.7777394220337)\"><title>Geothermal</title><line x1=\"0\" x2=\"0\" y1=\"0\" y2=\"1\" style=\"display: inline;\"/><rect class=\"node-body\" width=\"1\" height=\"1\"/><text class=\"node-value\" dy=\".35em\" text-anchor=\"middle\" transform=\"translate(0.5,0.22265509419074192) rotate(0)\" style=\"display: none;\"/><text class=\"node-title\" dy=\".35em\" text-anchor=\"end\" transform=\"translate(-4,0.22265509419074192)\" style=\"display: inline;\">Geothermal</text><rect class=\"node-click-target\" x=\"-5\" y=\"-5\" width=\"10\" height=\"6\" style=\"fill: none; visibility: hidden; pointer-events: all;\"/></g><g class=\"node\" transform=\"translate(0,155.37455616924743)\"><title>Natural_Gas</title><line x1=\"0\" x2=\"0\" y1=\"0\" y2=\"65.79988164513267\" style=\"display: inline;\"/><rect class=\"node-body\" width=\"1\" height=\"65.79988164513267\"/><text class=\"node-value\" dy=\".35em\" text-anchor=\"middle\" transform=\"translate(0.5,32.899940822566336) rotate(-90)\" style=\"display: none;\"/><text class=\"node-title\" dy=\".35em\" text-anchor=\"end\" transform=\"translate(-4,32.899940822566336)\" style=\"display: inline;\">Natural_Gas</text><rect class=\"node-click-target\" x=\"-5\" y=\"-5\" width=\"10\" height=\"70.79988164513267\" style=\"fill: none; visibility: hidden; pointer-events: all;\"/></g><g class=\"node\" transform=\"translate(0,237.32594437321234)\"><title>Coal</title><line x1=\"0\" x2=\"0\" y1=\"0\" y2=\"28.245389091626407\" style=\"display: inline;\"/><rect class=\"node-body\" width=\"1\" height=\"28.245389091626407\"/><text class=\"node-value\" dy=\".35em\" text-anchor=\"middle\" transform=\"translate(0.5,14.122694545813204) rotate(-90)\" style=\"display: none;\"/><text class=\"node-title\" dy=\".35em\" text-anchor=\"end\" transform=\"translate(-4,14.122694545813204)\" style=\"display: inline;\">Coal</text><rect class=\"node-click-target\" x=\"-5\" y=\"-5\" width=\"10\" height=\"33.24538909162641\" style=\"fill: none; visibility: hidden; pointer-events: all;\"/></g><g class=\"node\" transform=\"translate(0,281.722840023671)\"><title>Biomass</title><line x1=\"0\" x2=\"0\" y1=\"0\" y2=\"10.878291744748026\" style=\"display: inline;\"/><rect class=\"node-body\" width=\"1\" height=\"10.878291744748026\"/><text class=\"node-value\" dy=\".35em\" text-anchor=\"middle\" transform=\"translate(0.5,5.439145872374013) rotate(-90)\" style=\"display: none;\"/><text class=\"node-title\" dy=\".35em\" text-anchor=\"end\" transform=\"translate(-4,5.439145872374013)\" style=\"display: inline;\">Biomass</text><rect class=\"node-click-target\" x=\"-5\" y=\"-5\" width=\"10\" height=\"15.878291744748026\" style=\"fill: none; visibility: hidden; pointer-events: all;\"/></g><g class=\"node\" transform=\"translate(0,308.7526383272512)\"><title>Petroleum</title><line x1=\"0\" x2=\"0\" y1=\"0\" y2=\"78.26856691981459\" style=\"display: inline;\"/><rect class=\"node-body\" width=\"1\" height=\"78.26856691981459\"/><text class=\"node-value\" dy=\".35em\" text-anchor=\"middle\" transform=\"translate(0.5,39.134283459907294) rotate(-90)\" style=\"display: none;\"/><text class=\"node-title\" dy=\".35em\" text-anchor=\"end\" transform=\"translate(-4,39.134283459907294)\" style=\"display: inline;\">Petroleum</text><rect class=\"node-click-target\" x=\"-5\" y=\"-5\" width=\"10\" height=\"83.26856691981459\" style=\"fill: none; visibility: hidden; pointer-events: all;\"/></g><g class=\"node\" transform=\"translate(159.66666666666666,0.05301311766446397)\"><title>Net electricity imports</title><line x1=\"0\" x2=\"0\" y1=\"0\" y2=\"1\" style=\"display: inline;\"/><rect class=\"node-body\" width=\"1\" height=\"1\"/><text class=\"node-value\" dy=\".35em\" text-anchor=\"middle\" transform=\"translate(0.5,0.05301311766446396) rotate(0)\" style=\"display: none;\"/><text class=\"node-title\" dy=\".35em\" text-anchor=\"end\" transform=\"translate(-4,0.05301311766446396)\" style=\"display: inline;\">Net electricity imports</text><rect class=\"node-click-target\" x=\"-5\" y=\"-5\" width=\"10\" height=\"6\" style=\"fill: none; visibility: hidden; pointer-events: all;\"/></g><g class=\"node\" transform=\"translate(159.66666666666666,43.19084722359207)\"><title>Electricity Generation</title><line x1=\"0\" x2=\"0\" y1=\"-5\" y2=\"81.17368576782722\" style=\"display: inline;\"/><rect class=\"node-body\" width=\"1\" height=\"81.17368576782722\"/><text class=\"node-value\" dy=\".35em\" text-anchor=\"middle\" transform=\"translate(0.5,40.58684288391361) rotate(-90)\" style=\"display: none;\"/><text class=\"node-title\" dy=\".35em\" text-anchor=\"start\" transform=\"translate(-4,-10)\" style=\"display: inline;\">Electricity Generation</text><rect class=\"node-click-target\" x=\"-5\" y=\"-5\" width=\"10\" height=\"86.17368576782722\" style=\"fill: none; visibility: hidden; pointer-events: all;\"/></g><g class=\"node\" transform=\"translate(159.66666666666666,145.88927244632936)\"><title/><line x1=\"0\" x2=\"0\" y1=\"-5\" y2=\"1\" style=\"display: none;\"/><rect class=\"node-body\" width=\"1\" height=\"1\"/><text class=\"node-value\" dy=\".35em\" text-anchor=\"middle\" transform=\"translate(0.5,0.37109182365124127) rotate(0)\" style=\"display: none;\"/><text class=\"node-title\" dy=\".35em\" text-anchor=\"start\" transform=\"translate(-4,-10)\" style=\"display: none;\"/><rect class=\"node-click-target\" x=\"-5\" y=\"-5\" width=\"10\" height=\"6\" style=\"fill: none; visibility: hidden; pointer-events: all;\"/></g><g class=\"node\" transform=\"translate(159.66666666666666,168.15619554854192)\"><title>    </title><line x1=\"0\" x2=\"0\" y1=\"-5\" y2=\"1\" style=\"display: inline;\"/><rect class=\"node-body\" width=\"1\" height=\"1\"/><text class=\"node-value\" dy=\".35em\" text-anchor=\"middle\" transform=\"translate(0.5,0.0636157411973528) rotate(0)\" style=\"display: none;\"/><text class=\"node-title\" dy=\".35em\" text-anchor=\"start\" transform=\"translate(-4,-10)\" style=\"display: inline;\">    </text><rect class=\"node-click-target\" x=\"-5\" y=\"-5\" width=\"10\" height=\"6\" style=\"fill: none; visibility: hidden; pointer-events: all;\"/></g><g class=\"node\" transform=\"translate(159.66666666666666,189.8081664858467)\"><title>     </title><line x1=\"0\" x2=\"0\" y1=\"-5\" y2=\"42.47410987276854\" style=\"display: inline;\"/><rect class=\"node-body\" width=\"1\" height=\"42.47410987276854\"/><text class=\"node-value\" dy=\".35em\" text-anchor=\"middle\" transform=\"translate(0.5,21.23705493638427) rotate(-90)\" style=\"display: none;\"/><text class=\"node-title\" dy=\".35em\" text-anchor=\"start\" transform=\"translate(-4,-10)\" style=\"display: inline;\">     </text><rect class=\"node-click-target\" x=\"-5\" y=\"-5\" width=\"10\" height=\"47.47410987276854\" style=\"fill: none; visibility: hidden; pointer-events: all;\"/></g><g class=\"node\" transform=\"translate(159.66666666666666,253.8070158135253)\"><title>      </title><line x1=\"0\" x2=\"0\" y1=\"-5\" y2=\"2.5870401420258418\" style=\"display: inline;\"/><rect class=\"node-body\" width=\"1\" height=\"2.5870401420258418\"/><text class=\"node-value\" dy=\".35em\" text-anchor=\"middle\" transform=\"translate(0.5,1.2935200710129209) rotate(-90)\" style=\"display: none;\"/><text class=\"node-title\" dy=\".35em\" text-anchor=\"start\" transform=\"translate(-4,-10)\" style=\"display: inline;\">      </text><rect class=\"node-click-target\" x=\"-5\" y=\"-5\" width=\"10\" height=\"7.587040142025842\" style=\"fill: none; visibility: hidden; pointer-events: all;\"/></g><g class=\"node\" transform=\"translate(159.66666666666666,277.9187954104612)\"><title>       </title><line x1=\"0\" x2=\"0\" y1=\"-5\" y2=\"9.818029391458708\" style=\"display: inline;\"/><rect class=\"node-body\" width=\"1\" height=\"9.818029391458708\"/><text class=\"node-value\" dy=\".35em\" text-anchor=\"middle\" transform=\"translate(0.5,4.909014695729354) rotate(-90)\" style=\"display: none;\"/><text class=\"node-title\" dy=\".35em\" text-anchor=\"start\" transform=\"translate(-4,-10)\" style=\"display: inline;\">       </text><rect class=\"node-click-target\" x=\"-5\" y=\"-5\" width=\"10\" height=\"14.818029391458708\" style=\"fill: none; visibility: hidden; pointer-events: all;\"/></g><g class=\"node\" transform=\"translate(159.66666666666666,309.26156425683)\"><title>        </title><line x1=\"0\" x2=\"0\" y1=\"-5\" y2=\"77.75964099023571\" style=\"display: inline;\"/><rect class=\"node-body\" width=\"1\" height=\"77.75964099023571\"/><text class=\"node-value\" dy=\".35em\" text-anchor=\"middle\" transform=\"translate(0.5,38.879820495117855) rotate(-90)\" style=\"display: none;\"/><text class=\"node-title\" dy=\".35em\" text-anchor=\"start\" transform=\"translate(-4,-10)\" style=\"display: inline;\">        </text><rect class=\"node-click-target\" x=\"-5\" y=\"-5\" width=\"10\" height=\"82.75964099023571\" style=\"fill: none; visibility: hidden; pointer-events: all;\"/></g><g class=\"node\" transform=\"translate(319.3333333333333,43.19084722359207)\"><title/><line x1=\"0\" x2=\"0\" y1=\"-5\" y2=\"53.64927507643753\" style=\"display: none;\"/><rect class=\"node-body\" width=\"1\" height=\"53.64927507643753\"/><text class=\"node-value\" dy=\".35em\" text-anchor=\"middle\" transform=\"translate(0.5,26.824637538218767) rotate(-90)\" style=\"display: none;\"/><text class=\"node-title\" dy=\".35em\" text-anchor=\"start\" transform=\"translate(-4,-10)\" style=\"display: none;\"/><rect class=\"node-click-target\" x=\"-5\" y=\"-5\" width=\"10\" height=\"58.64927507643753\" style=\"fill: none; visibility: hidden; pointer-events: all;\"/></g><g class=\"node\" transform=\"translate(319.3333333333333,129.07421836473026)\"><title>Residential</title><line x1=\"0\" x2=\"0\" y1=\"-5\" y2=\"25.31906499654798\" style=\"display: inline;\"/><rect class=\"node-body\" width=\"1\" height=\"25.31906499654798\"/><text class=\"node-value\" dy=\".35em\" text-anchor=\"middle\" transform=\"translate(0.5,12.65953249827399) rotate(-90)\" style=\"display: none;\"/><text class=\"node-title\" dy=\".35em\" text-anchor=\"start\" transform=\"translate(-4,-10)\" style=\"display: inline;\">Residential</text><rect class=\"node-click-target\" x=\"-5\" y=\"-5\" width=\"10\" height=\"30.31906499654798\" style=\"fill: none; visibility: hidden; pointer-events: all;\"/></g><g class=\"node\" transform=\"translate(319.3333333333333,186.62737942597892)\"><title>Commercial</title><line x1=\"0\" x2=\"0\" y1=\"-5\" y2=\"20.03895847716737\" style=\"display: inline;\"/><rect class=\"node-body\" width=\"1\" height=\"20.03895847716737\"/><text class=\"node-value\" dy=\".35em\" text-anchor=\"middle\" transform=\"translate(0.5,10.019479238583685) rotate(-90)\" style=\"display: none;\"/><text class=\"node-title\" dy=\".35em\" text-anchor=\"start\" transform=\"translate(-4,-10)\" style=\"display: inline;\">Commercial</text><rect class=\"node-click-target\" x=\"-5\" y=\"-5\" width=\"10\" height=\"25.03895847716737\" style=\"fill: none; visibility: hidden; pointer-events: all;\"/></g><g class=\"node\" transform=\"translate(319.3333333333333,238.90043396784694)\"><title>Industrial</title><line x1=\"0\" x2=\"0\" y1=\"-5\" y2=\"55.76979978301608\" style=\"display: inline;\"/><rect class=\"node-body\" width=\"1\" height=\"55.76979978301608\"/><text class=\"node-value\" dy=\".35em\" text-anchor=\"middle\" transform=\"translate(0.5,27.88489989150804) rotate(-90)\" style=\"display: none;\"/><text class=\"node-title\" dy=\".35em\" text-anchor=\"start\" transform=\"translate(-4,-10)\" style=\"display: inline;\">Industrial</text><rect class=\"node-click-target\" x=\"-5\" y=\"-5\" width=\"10\" height=\"60.76979978301608\" style=\"fill: none; visibility: hidden; pointer-events: all;\"/></g><g class=\"node\" transform=\"translate(319.3333333333333,326.90432981556364)\"><title>Transportation</title><line x1=\"0\" x2=\"0\" y1=\"-5\" y2=\"60.11687543150214\" style=\"display: inline;\"/><rect class=\"node-body\" width=\"1\" height=\"60.11687543150214\"/><text class=\"node-value\" dy=\".35em\" text-anchor=\"middle\" transform=\"translate(0.5,30.05843771575107) rotate(-90)\" style=\"display: none;\"/><text class=\"node-title\" dy=\".35em\" text-anchor=\"start\" transform=\"translate(-4,-10)\" style=\"display: inline;\">Transportation</text><rect class=\"node-click-target\" x=\"-5\" y=\"-5\" width=\"10\" height=\"65.11687543150214\" style=\"fill: none; visibility: hidden; pointer-events: all;\"/></g><g class=\"node\" transform=\"translate(479,43.19084722359207)\"><title>Rejected energy</title><line x1=\"0\" x2=\"0\" y1=\"0\" y2=\"145.40437913009174\" style=\"display: inline;\"/><rect class=\"node-body\" width=\"1\" height=\"145.40437913009174\"/><text class=\"node-value\" dy=\".35em\" text-anchor=\"middle\" transform=\"translate(0.5,72.70218956504587) rotate(-90)\" style=\"display: none;\"/><text class=\"node-title\" dy=\".35em\" text-anchor=\"start\" transform=\"translate(5,72.70218956504587)\" style=\"display: inline;\">Rejected energy</text><rect class=\"node-click-target\" x=\"-5\" y=\"-5\" width=\"10\" height=\"150.40437913009174\" style=\"fill: none; visibility: hidden; pointer-events: all;\"/></g><g class=\"node\" transform=\"translate(479,317.65884209488115)\"><title>Energy services</title><line x1=\"0\" x2=\"0\" y1=\"0\" y2=\"69.36236315218463\" style=\"display: inline;\"/><rect class=\"node-body\" width=\"1\" height=\"69.36236315218463\"/><text class=\"node-value\" dy=\".35em\" text-anchor=\"middle\" transform=\"translate(0.5,34.681181576092314) rotate(-90)\" style=\"display: none;\"/><text class=\"node-title\" dy=\".35em\" text-anchor=\"start\" transform=\"translate(5,34.681181576092314)\" style=\"display: inline;\">Energy services</text><rect class=\"node-click-target\" x=\"-5\" y=\"-5\" width=\"10\" height=\"74.36236315218463\" style=\"fill: none; visibility: hidden; pointer-events: all;\"/></g></g><g class=\"slice-titles\"/></g></svg>",
            "_view_module_version": "^0.4.1",
            "order": [
              [
                [],
                [
                  "sources^Solar",
                  "sources^Nuclear",
                  "sources^Hydro",
                  "sources^Wind",
                  "sources^Geothermal",
                  "sources^Natural_Gas",
                  "sources^Coal",
                  "sources^Biomass",
                  "sources^Petroleum"
                ],
                []
              ],
              [
                [
                  "imports^*"
                ],
                [
                  "electricity^*",
                  "direct_use^",
                  "direct_use^    ",
                  "direct_use^     ",
                  "direct_use^      ",
                  "direct_use^       ",
                  "direct_use^        "
                ],
                []
              ],
              [
                [],
                [
                  "__electricity_rejected_2^*",
                  "uses^Residential",
                  "uses^Commercial",
                  "uses^Industrial",
                  "uses^Transportation"
                ],
                []
              ],
              [
                [],
                [
                  "rejected^*",
                  "energy_services^*"
                ],
                []
              ]
            ]
          }
        },
        "afe5eb0d5ffc47dcba9ad3fb73c3ccd5": {
          "model_module": "@jupyter-widgets/output",
          "model_name": "OutputModel",
          "model_module_version": "1.0.0",
          "state": {
            "_view_name": "OutputView",
            "msg_id": "",
            "_dom_classes": [],
            "_model_name": "OutputModel",
            "outputs": [],
            "_view_module": "@jupyter-widgets/output",
            "_model_module_version": "1.0.0",
            "_view_count": null,
            "_view_module_version": "1.0.0",
            "layout": "IPY_MODEL_8fa9bdc9c3814611bc75a93d32da85a2",
            "_model_module": "@jupyter-widgets/output"
          }
        },
        "8fa9bdc9c3814611bc75a93d32da85a2": {
          "model_module": "@jupyter-widgets/base",
          "model_name": "LayoutModel",
          "model_module_version": "1.2.0",
          "state": {
            "_view_name": "LayoutView",
            "grid_template_rows": null,
            "right": null,
            "justify_content": null,
            "_view_module": "@jupyter-widgets/base",
            "overflow": null,
            "_model_module_version": "1.2.0",
            "_view_count": null,
            "flex_flow": null,
            "width": null,
            "min_width": null,
            "border": null,
            "align_items": null,
            "bottom": null,
            "_model_module": "@jupyter-widgets/base",
            "top": null,
            "grid_column": null,
            "overflow_y": null,
            "overflow_x": null,
            "grid_auto_flow": null,
            "grid_area": null,
            "grid_template_columns": null,
            "flex": null,
            "_model_name": "LayoutModel",
            "justify_items": null,
            "grid_row": null,
            "max_height": null,
            "align_content": null,
            "visibility": null,
            "align_self": null,
            "height": null,
            "min_height": null,
            "padding": null,
            "grid_auto_rows": null,
            "grid_gap": null,
            "max_width": null,
            "order": null,
            "_view_module_version": "1.2.0",
            "grid_template_areas": null,
            "object_position": null,
            "object_fit": null,
            "grid_auto_columns": null,
            "margin": null,
            "display": null,
            "left": null
          }
        },
        "ef287dcf304144a99458f7ab99dab3b0": {
          "model_module": "@jupyter-widgets/base",
          "model_name": "LayoutModel",
          "model_module_version": "1.2.0",
          "state": {
            "_view_name": "LayoutView",
            "grid_template_rows": null,
            "right": null,
            "justify_content": null,
            "_view_module": "@jupyter-widgets/base",
            "overflow": null,
            "_model_module_version": "1.2.0",
            "_view_count": null,
            "flex_flow": null,
            "width": "700",
            "min_width": null,
            "border": null,
            "align_items": null,
            "bottom": null,
            "_model_module": "@jupyter-widgets/base",
            "top": null,
            "grid_column": null,
            "overflow_y": null,
            "overflow_x": null,
            "grid_auto_flow": null,
            "grid_area": null,
            "grid_template_columns": null,
            "flex": null,
            "_model_name": "LayoutModel",
            "justify_items": null,
            "grid_row": null,
            "max_height": null,
            "align_content": null,
            "visibility": null,
            "align_self": null,
            "height": "450",
            "min_height": null,
            "padding": null,
            "grid_auto_rows": null,
            "grid_gap": null,
            "max_width": null,
            "order": null,
            "_view_module_version": "1.2.0",
            "grid_template_areas": null,
            "object_position": null,
            "object_fit": null,
            "grid_auto_columns": null,
            "margin": null,
            "display": null,
            "left": null
          }
        }
      }
    }
  },
  "nbformat": 4,
  "nbformat_minor": 0
}