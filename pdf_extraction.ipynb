{
 "cells": [
  {
   "cell_type": "code",
   "execution_count": 115,
   "outputs": [],
   "source": [
    "import pandas as pd\n",
    "import pdfplumber\n",
    "import re\n",
    "import ast\n",
    "import numpy as np\n",
    "filepath = \"C:/Users\\lukec\\OneDrive - University of Cambridge\\Projects\\PhD\\Data\\pdfs\\iron ore beneficiation_IN_2017_Undefined.pdf\"\n",
    "keywords, split = ['Pedigree matrix','Comment'], ['Detailed Information For Exchanges','Emissions']"
   ],
   "metadata": {
    "collapsed": false,
    "pycharm": {
     "name": "#%%\n"
    }
   }
  },
  {
   "cell_type": "code",
   "execution_count": 41,
   "outputs": [],
   "source": [
    "text = str(list(map(lambda x: x.extract_text(), pdfplumber.open(filepath).pages)))"
   ],
   "metadata": {
    "collapsed": false,
    "pycharm": {
     "name": "#%%\n"
    }
   }
  },
  {
   "cell_type": "code",
   "execution_count": 200,
   "outputs": [],
   "source": [
    "locs1, locs2 = [list(map(lambda x: x.end(), list(re.finditer(kw, text)))) for kw in keywords]\n",
    "pedigrees = list(map(lambda x: ast.literal_eval(text[x+2:x+17]), locs1))\n",
    "val_lines = list(map(lambda x: list(re.finditer(r\"\\\\n\",text[:x]))[-2].end(),locs2))\n",
    "num_starts = list(map(lambda x: re.search(r'\\d+',text[x:]).start(), val_lines))\n",
    "num_ends = list(map(lambda x: re.search('\\s',text[x:]).end(), (np.array(val_lines)+num_starts)))\n",
    "components = list(map(lambda x,y: text[x:x+y],val_lines,np.array(num_starts)-1))\n",
    "quantities = list(map(lambda x,y: text[x:x+y],np.array(val_lines)+num_starts,num_ends))\n",
    "\n",
    "info_start = list(re.finditer(split[0], text))[1].end()\n",
    "input_output_switch = info_start + list(re.finditer(split[1], text[info_start:]))[0].end()\n",
    "#features = list(re.finditer(keywords[0], text))\n",
    "\n"
   ],
   "metadata": {
    "collapsed": false,
    "pycharm": {
     "name": "#%%\n"
    }
   }
  },
  {
   "cell_type": "code",
   "execution_count": 211,
   "outputs": [
    {
     "name": "stderr",
     "output_type": "stream",
     "text": [
      "C:\\Users\\lukec\\AppData\\Local\\Temp/ipykernel_3384/1256286041.py:1: VisibleDeprecationWarning: Creating an ndarray from ragged nested sequences (which is a list-or-tuple of lists-or-tuples-or ndarrays with different lengths or shapes) is deprecated. If you meant to do this, you must specify 'dtype=object' when creating the ndarray.\n",
      "  data = pd.DataFrame(np.array([components,quantities,pedigrees]).transpose(),columns=['components','quantities','pedigrees'])\n"
     ]
    }
   ],
   "source": [
    "data = pd.DataFrame(np.array([components,quantities,pedigrees]).transpose(),columns=['components','quantities','pedigrees'])"
   ],
   "metadata": {
    "collapsed": false,
    "pycharm": {
     "name": "#%%\n"
    }
   }
  },
  {
   "cell_type": "code",
   "execution_count": 212,
   "outputs": [
    {
     "data": {
      "text/plain": "                                    components quantities        pedigrees\n0                         iron ore concentrate  1.79e+11   [3, 3, 1, 1, 2]\n1                          wastewater, average   5.30e+7   [3, 3, 1, 1, 2]\n2           diesel, burned in building machine   0.00556   [3, 3, 1, 1, 2]\n3                  electricity, medium voltage    0.0303   [3, 3, 5, 2, 2]\n4      Activity Link: iron ore mine operation,       63%   [3, 3, 5, 2, 2]\n5   Water, unspecified natural origin in water   0.00037   [3, 3, 5, 2, 2]\n6                            Water unspecified   7.4e-05   [3, 3, 1, 1, 2]\n7                     Arsenic, ion unspecified  5.79e-08   [3, 3, 1, 1, 2]\n8                                                    7',   [3, 3, 1, 1, 2]\n9      COD, Chemical Oxygen Demand unspecified  8.69e-05   [3, 3, 1, 1, 2]\n10                    Cadmium, ion unspecified  5.79e-08   [3, 3, 1, 1, 2]\n11                     Chromium VI unspecified  5.79e-08   [3, 3, 1, 1, 2]\n12                     Copper, ion unspecified   2.9e-07   [3, 3, 1, 1, 2]\n13                         Cyanide unspecified  5.79e-07   [3, 3, 1, 1, 2]\n14   DOC, Dissolved Organic Carbon unspecified  3.14e-06   [3, 3, 1, 1, 2]\n15                       Iron, ion unspecified  2.03e-06   [3, 3, 1, 1, 2]\n16                            Lead unspecified  1.16e-07   [3, 3, 1, 1, 2]\n17                         Mercury unspecified  5.79e-09   [3, 3, 1, 1, 2]\n18                     Nickel, ion unspecified   2.9e-07   [3, 3, 1, 1, 2]\n19               Oils, unspecified unspecified  5.79e-06   [3, 3, 1, 1, 2]\n20       TOC, Total Organic Carbon unspecified  3.14e-06   [3, 3, 1, 1, 2]\n21                       Zinc, ion unspecified  1.16e-06   [3, 3, 1, 1, 2]",
      "text/html": "<div>\n<style scoped>\n    .dataframe tbody tr th:only-of-type {\n        vertical-align: middle;\n    }\n\n    .dataframe tbody tr th {\n        vertical-align: top;\n    }\n\n    .dataframe thead th {\n        text-align: right;\n    }\n</style>\n<table border=\"1\" class=\"dataframe\">\n  <thead>\n    <tr style=\"text-align: right;\">\n      <th></th>\n      <th>components</th>\n      <th>quantities</th>\n      <th>pedigrees</th>\n    </tr>\n  </thead>\n  <tbody>\n    <tr>\n      <th>0</th>\n      <td>iron ore concentrate</td>\n      <td>1.79e+11</td>\n      <td>[3, 3, 1, 1, 2]</td>\n    </tr>\n    <tr>\n      <th>1</th>\n      <td>wastewater, average</td>\n      <td>5.30e+7</td>\n      <td>[3, 3, 1, 1, 2]</td>\n    </tr>\n    <tr>\n      <th>2</th>\n      <td>diesel, burned in building machine</td>\n      <td>0.00556</td>\n      <td>[3, 3, 1, 1, 2]</td>\n    </tr>\n    <tr>\n      <th>3</th>\n      <td>electricity, medium voltage</td>\n      <td>0.0303</td>\n      <td>[3, 3, 5, 2, 2]</td>\n    </tr>\n    <tr>\n      <th>4</th>\n      <td>Activity Link: iron ore mine operation,</td>\n      <td>63%</td>\n      <td>[3, 3, 5, 2, 2]</td>\n    </tr>\n    <tr>\n      <th>5</th>\n      <td>Water, unspecified natural origin in water</td>\n      <td>0.00037</td>\n      <td>[3, 3, 5, 2, 2]</td>\n    </tr>\n    <tr>\n      <th>6</th>\n      <td>Water unspecified</td>\n      <td>7.4e-05</td>\n      <td>[3, 3, 1, 1, 2]</td>\n    </tr>\n    <tr>\n      <th>7</th>\n      <td>Arsenic, ion unspecified</td>\n      <td>5.79e-08</td>\n      <td>[3, 3, 1, 1, 2]</td>\n    </tr>\n    <tr>\n      <th>8</th>\n      <td></td>\n      <td>7',</td>\n      <td>[3, 3, 1, 1, 2]</td>\n    </tr>\n    <tr>\n      <th>9</th>\n      <td>COD, Chemical Oxygen Demand unspecified</td>\n      <td>8.69e-05</td>\n      <td>[3, 3, 1, 1, 2]</td>\n    </tr>\n    <tr>\n      <th>10</th>\n      <td>Cadmium, ion unspecified</td>\n      <td>5.79e-08</td>\n      <td>[3, 3, 1, 1, 2]</td>\n    </tr>\n    <tr>\n      <th>11</th>\n      <td>Chromium VI unspecified</td>\n      <td>5.79e-08</td>\n      <td>[3, 3, 1, 1, 2]</td>\n    </tr>\n    <tr>\n      <th>12</th>\n      <td>Copper, ion unspecified</td>\n      <td>2.9e-07</td>\n      <td>[3, 3, 1, 1, 2]</td>\n    </tr>\n    <tr>\n      <th>13</th>\n      <td>Cyanide unspecified</td>\n      <td>5.79e-07</td>\n      <td>[3, 3, 1, 1, 2]</td>\n    </tr>\n    <tr>\n      <th>14</th>\n      <td>DOC, Dissolved Organic Carbon unspecified</td>\n      <td>3.14e-06</td>\n      <td>[3, 3, 1, 1, 2]</td>\n    </tr>\n    <tr>\n      <th>15</th>\n      <td>Iron, ion unspecified</td>\n      <td>2.03e-06</td>\n      <td>[3, 3, 1, 1, 2]</td>\n    </tr>\n    <tr>\n      <th>16</th>\n      <td>Lead unspecified</td>\n      <td>1.16e-07</td>\n      <td>[3, 3, 1, 1, 2]</td>\n    </tr>\n    <tr>\n      <th>17</th>\n      <td>Mercury unspecified</td>\n      <td>5.79e-09</td>\n      <td>[3, 3, 1, 1, 2]</td>\n    </tr>\n    <tr>\n      <th>18</th>\n      <td>Nickel, ion unspecified</td>\n      <td>2.9e-07</td>\n      <td>[3, 3, 1, 1, 2]</td>\n    </tr>\n    <tr>\n      <th>19</th>\n      <td>Oils, unspecified unspecified</td>\n      <td>5.79e-06</td>\n      <td>[3, 3, 1, 1, 2]</td>\n    </tr>\n    <tr>\n      <th>20</th>\n      <td>TOC, Total Organic Carbon unspecified</td>\n      <td>3.14e-06</td>\n      <td>[3, 3, 1, 1, 2]</td>\n    </tr>\n    <tr>\n      <th>21</th>\n      <td>Zinc, ion unspecified</td>\n      <td>1.16e-06</td>\n      <td>[3, 3, 1, 1, 2]</td>\n    </tr>\n  </tbody>\n</table>\n</div>"
     },
     "execution_count": 212,
     "metadata": {},
     "output_type": "execute_result"
    }
   ],
   "source": [
    "data"
   ],
   "metadata": {
    "collapsed": false,
    "pycharm": {
     "name": "#%%\n"
    }
   }
  },
  {
   "cell_type": "code",
   "execution_count": 208,
   "outputs": [
    {
     "data": {
      "text/plain": "['1.79e+11 ',\n '5.30e+7 ',\n '0.00556 ',\n '0.0303 ',\n '63% ',\n '0.00037 ',\n '7.4e-05 ',\n '5.79e-08 ',\n \"7', \",\n '8.69e-05 ',\n '5.79e-08 ',\n '5.79e-08 ',\n '2.9e-07 ',\n '5.79e-07 ',\n '3.14e-06 ',\n '2.03e-06 ',\n '1.16e-07 ',\n '5.79e-09 ',\n '2.9e-07 ',\n '5.79e-06 ',\n '3.14e-06 ',\n '1.16e-06 ']"
     },
     "execution_count": 208,
     "metadata": {},
     "output_type": "execute_result"
    }
   ],
   "source": [
    "quantities"
   ],
   "metadata": {
    "collapsed": false,
    "pycharm": {
     "name": "#%%\n"
    }
   }
  },
  {
   "cell_type": "code",
   "execution_count": 196,
   "outputs": [
    {
     "data": {
      "text/plain": "<re.Match object; span=(8, 9), match=' '>"
     },
     "execution_count": 196,
     "metadata": {},
     "output_type": "execute_result"
    }
   ],
   "source": [
    "re.search('\\s',text[(np.array(val_lines)+num_starts)[0]:])"
   ],
   "metadata": {
    "collapsed": false,
    "pycharm": {
     "name": "#%%\n"
    }
   }
  },
  {
   "cell_type": "code",
   "execution_count": 116,
   "outputs": [
    {
     "data": {
      "text/plain": "[8086,\n 8675,\n 9205,\n 9409,\n 9663,\n 9954,\n 10206,\n 10488,\n 10744,\n 10992,\n 11225,\n 11457,\n 11688,\n 11916,\n 12166,\n 12396,\n 12621,\n 12849,\n 13080,\n 13318,\n 13564,\n 13794]"
     },
     "execution_count": 116,
     "metadata": {},
     "output_type": "execute_result"
    }
   ],
   "source": [
    "comments = list(map(lambda x: x.end(), list(re.finditer(keywords[1], text))))"
   ],
   "metadata": {
    "collapsed": false,
    "pycharm": {
     "name": "#%%\n"
    }
   }
  },
  {
   "cell_type": "code",
   "execution_count": 120,
   "outputs": [
    {
     "ename": "TypeError",
     "evalue": "object of type 'int' has no len()",
     "output_type": "error",
     "traceback": [
      "\u001B[1;31m---------------------------------------------------------------------------\u001B[0m",
      "\u001B[1;31mTypeError\u001B[0m                                 Traceback (most recent call last)",
      "\u001B[1;32m~\\AppData\\Local\\Temp/ipykernel_3384/2144643965.py\u001B[0m in \u001B[0;36m<module>\u001B[1;34m\u001B[0m\n\u001B[0;32m      1\u001B[0m \u001B[1;32mdef\u001B[0m \u001B[0mclosest\u001B[0m\u001B[1;33m(\u001B[0m\u001B[0mlst\u001B[0m\u001B[1;33m,\u001B[0m \u001B[0mk\u001B[0m\u001B[1;33m)\u001B[0m\u001B[1;33m:\u001B[0m\u001B[1;33m\u001B[0m\u001B[1;33m\u001B[0m\u001B[0m\n\u001B[0;32m      2\u001B[0m     \u001B[1;32mreturn\u001B[0m \u001B[0mlst\u001B[0m\u001B[1;33m[\u001B[0m\u001B[0mmin\u001B[0m\u001B[1;33m(\u001B[0m\u001B[0mrange\u001B[0m\u001B[1;33m(\u001B[0m\u001B[0mlen\u001B[0m\u001B[1;33m(\u001B[0m\u001B[0mlst\u001B[0m\u001B[1;33m)\u001B[0m\u001B[1;33m)\u001B[0m\u001B[1;33m,\u001B[0m \u001B[0mkey\u001B[0m \u001B[1;33m=\u001B[0m \u001B[1;32mlambda\u001B[0m \u001B[0mi\u001B[0m\u001B[1;33m:\u001B[0m \u001B[0mabs\u001B[0m\u001B[1;33m(\u001B[0m\u001B[0mlst\u001B[0m\u001B[1;33m[\u001B[0m\u001B[0mi\u001B[0m\u001B[1;33m]\u001B[0m\u001B[1;33m-\u001B[0m\u001B[0mk\u001B[0m\u001B[1;33m)\u001B[0m\u001B[1;33m)\u001B[0m\u001B[1;33m]\u001B[0m\u001B[1;33m\u001B[0m\u001B[1;33m\u001B[0m\u001B[0m\n\u001B[1;32m----> 3\u001B[1;33m \u001B[0mlist\u001B[0m\u001B[1;33m(\u001B[0m\u001B[0mmap\u001B[0m\u001B[1;33m(\u001B[0m\u001B[0mclosest\u001B[0m\u001B[1;33m,\u001B[0m\u001B[0mlocs2\u001B[0m\u001B[1;33m,\u001B[0m\u001B[0mlocs1\u001B[0m\u001B[1;33m)\u001B[0m\u001B[1;33m)\u001B[0m\u001B[1;33m\u001B[0m\u001B[1;33m\u001B[0m\u001B[0m\n\u001B[0m",
      "\u001B[1;32m~\\AppData\\Local\\Temp/ipykernel_3384/2144643965.py\u001B[0m in \u001B[0;36mclosest\u001B[1;34m(lst, k)\u001B[0m\n\u001B[0;32m      1\u001B[0m \u001B[1;32mdef\u001B[0m \u001B[0mclosest\u001B[0m\u001B[1;33m(\u001B[0m\u001B[0mlst\u001B[0m\u001B[1;33m,\u001B[0m \u001B[0mk\u001B[0m\u001B[1;33m)\u001B[0m\u001B[1;33m:\u001B[0m\u001B[1;33m\u001B[0m\u001B[1;33m\u001B[0m\u001B[0m\n\u001B[1;32m----> 2\u001B[1;33m     \u001B[1;32mreturn\u001B[0m \u001B[0mlst\u001B[0m\u001B[1;33m[\u001B[0m\u001B[0mmin\u001B[0m\u001B[1;33m(\u001B[0m\u001B[0mrange\u001B[0m\u001B[1;33m(\u001B[0m\u001B[0mlen\u001B[0m\u001B[1;33m(\u001B[0m\u001B[0mlst\u001B[0m\u001B[1;33m)\u001B[0m\u001B[1;33m)\u001B[0m\u001B[1;33m,\u001B[0m \u001B[0mkey\u001B[0m \u001B[1;33m=\u001B[0m \u001B[1;32mlambda\u001B[0m \u001B[0mi\u001B[0m\u001B[1;33m:\u001B[0m \u001B[0mabs\u001B[0m\u001B[1;33m(\u001B[0m\u001B[0mlst\u001B[0m\u001B[1;33m[\u001B[0m\u001B[0mi\u001B[0m\u001B[1;33m]\u001B[0m\u001B[1;33m-\u001B[0m\u001B[0mk\u001B[0m\u001B[1;33m)\u001B[0m\u001B[1;33m)\u001B[0m\u001B[1;33m]\u001B[0m\u001B[1;33m\u001B[0m\u001B[1;33m\u001B[0m\u001B[0m\n\u001B[0m\u001B[0;32m      3\u001B[0m \u001B[0mlist\u001B[0m\u001B[1;33m(\u001B[0m\u001B[0mmap\u001B[0m\u001B[1;33m(\u001B[0m\u001B[0mclosest\u001B[0m\u001B[1;33m,\u001B[0m\u001B[0mlocs2\u001B[0m\u001B[1;33m,\u001B[0m\u001B[0mlocs1\u001B[0m\u001B[1;33m)\u001B[0m\u001B[1;33m)\u001B[0m\u001B[1;33m\u001B[0m\u001B[1;33m\u001B[0m\u001B[0m\n",
      "\u001B[1;31mTypeError\u001B[0m: object of type 'int' has no len()"
     ]
    }
   ],
   "source": [
    "def closest(lst, k):\n",
    "    return lst[min(range(len(lst)), key = lambda i: abs(lst[i]-k))]\n",
    "list(map(closest,[_],locs1))"
   ],
   "metadata": {
    "collapsed": false,
    "pycharm": {
     "name": "#%%\n"
    }
   }
  },
  {
   "cell_type": "code",
   "execution_count": 118,
   "outputs": [
    {
     "data": {
      "text/plain": "[[3, 3, 1, 1, 2],\n [3, 3, 1, 1, 2],\n [3, 3, 1, 1, 2],\n [3, 3, 5, 2, 2],\n [3, 3, 5, 2, 2],\n [3, 3, 5, 2, 2],\n [3, 3, 1, 1, 2],\n [3, 3, 1, 1, 2],\n [3, 3, 1, 1, 2],\n [3, 3, 1, 1, 2],\n [3, 3, 1, 1, 2],\n [3, 3, 1, 1, 2],\n [3, 3, 1, 1, 2],\n [3, 3, 1, 1, 2],\n [3, 3, 1, 1, 2],\n [3, 3, 1, 1, 2],\n [3, 3, 1, 1, 2],\n [3, 3, 1, 1, 2],\n [3, 3, 1, 1, 2],\n [3, 3, 1, 1, 2],\n [3, 3, 1, 1, 2],\n [3, 3, 1, 1, 2]]"
     },
     "execution_count": 118,
     "metadata": {},
     "output_type": "execute_result"
    }
   ],
   "source": [
    "pedigrees"
   ],
   "metadata": {
    "collapsed": false,
    "pycharm": {
     "name": "#%%\n"
    }
   }
  },
  {
   "cell_type": "code",
   "execution_count": 109,
   "outputs": [
    {
     "data": {
      "text/plain": "2144"
     },
     "execution_count": 109,
     "metadata": {},
     "output_type": "execute_result"
    }
   ],
   "source": [],
   "metadata": {
    "collapsed": false,
    "pycharm": {
     "name": "#%%\n"
    }
   }
  },
  {
   "cell_type": "code",
   "execution_count": null,
   "outputs": [],
   "source": [],
   "metadata": {
    "collapsed": false,
    "pycharm": {
     "name": "#%%\n"
    }
   }
  }
 ],
 "metadata": {
  "kernelspec": {
   "display_name": "Python 3",
   "language": "python",
   "name": "python3"
  },
  "language_info": {
   "codemirror_mode": {
    "name": "ipython",
    "version": 2
   },
   "file_extension": ".py",
   "mimetype": "text/x-python",
   "name": "python",
   "nbconvert_exporter": "python",
   "pygments_lexer": "ipython2",
   "version": "2.7.6"
  }
 },
 "nbformat": 4,
 "nbformat_minor": 0
}