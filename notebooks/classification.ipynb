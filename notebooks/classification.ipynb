{
 "cells": [
  {
   "cell_type": "code",
   "execution_count": 20,
   "metadata": {
    "collapsed": true
   },
   "outputs": [],
   "source": [
    "import pandas as pd\n",
    "import numpy as np\n",
    "#data_path = \"C:/Users/lukec/OneDrive - University of Cambridge/PhD/Data/\"\n",
    "data_path = \"C:/Users/lshc3/Documents/\"\n",
    "class LCA(object):\n",
    "    def __init__(self, data_path):\n",
    "        filepath = data_path+\"EcoInvent\\Basic_chemicals_201\\GWP100a_IPCC2013.csv\"\n",
    "        raw = pd.read_csv(filepath)\n",
    "        self.data = raw[['name','location','CO2e']][~raw['generalComment'].str.contains('market')].sort_values('name')\n",
    "\n",
    "    def location(self, location='Global'):\n",
    "        loc_filepath = data_path+\"EcoInvent\\EcoInvent_locations.csv\"\n",
    "        loc_codes = pd.read_csv(loc_filepath)\n",
    "        region_code = loc_codes['Code'][np.where(loc_codes['Name'] == location)[0]].iloc[0]\n",
    "        rows = []\n",
    "        for product in self.data['name'].unique():\n",
    "            for code in [region_code, 'RoW', 'GLO']:\n",
    "                found = self.data[(self.data['name']==product) & (self.data['location']==code)]\n",
    "                if not found.index.empty:\n",
    "                    rows += list(found.index)\n",
    "                    break\n",
    "        return self.data.loc[rows].groupby(['name','location']).mean().reset_index()\n",
    "\n",
    "class IHSData(object):\n",
    "    def __init__(self, data_path):\n",
    "        product_file = data_path+\"IHS/US/products.csv\"\n",
    "        material_file = data_path+\"IHS/US/materials.csv\"\n",
    "        self.products = pd.read_csv(product_file,index_col=0).reset_index(drop=True)\n",
    "        self.materials = pd.read_csv(material_file,index_col=0).reset_index(drop=True)\n",
    "\n",
    "class ICISData(object):\n",
    "    def __init__(self):\n",
    "        self.countryCol = 'COUNTRY/TERRITORY'\n",
    "        path = \"C:\\ICIS_data/US_allchemicals.xlsx\"\n",
    "        self.properties = ['Capacity','Statistic Production', 'Import','Export','Consumption']\n",
    "        in_file = pd.ExcelFile(path)\n",
    "        self.plants, self.prod, self.imps, self.exps, self.cons = [pd.DataFrame()]*5\n",
    "\n",
    "        def append_data(prev,region,breaks,start):\n",
    "          br_end = breaks[start+1] if start+1 < len(breaks) else -1\n",
    "          return prev.append(region[breaks[start]+1:br_end].dropna(subset=[self.countryCol]), ignore_index=True)\n",
    "\n",
    "        for sheet in in_file.sheet_names[2:]:\n",
    "          region = pd.read_excel(in_file, sheet_name=sheet)\n",
    "          region['Region'] = [sheet]*len(region)\n",
    "          breaks = region.loc[region['PRODUCT'].isin(self.properties)].index\n",
    "          self.plants, self.prod, self.imps, self.exps, self.cons = [append_data(attr,region,breaks,i) for i, attr in enumerate([self.plants, self.prod, self.imps, self.exps, self.cons])]\n",
    "\n",
    "lca = LCA(data_path).location('United States')\n",
    "materials = IHSData(data_path).materials\n",
    "icis = ICISData()"
   ]
  },
  {
   "cell_type": "code",
   "execution_count": 32,
   "outputs": [],
   "source": [
    "merge = pd.merge(lca, icis.plants, left_on=lca['name'].str.lower(), right_on=icis.plants['PRODUCT'].str.lower(), how=\"right\")"
   ],
   "metadata": {
    "collapsed": false,
    "pycharm": {
     "name": "#%%\n"
    }
   }
  },
  {
   "cell_type": "code",
   "execution_count": 33,
   "outputs": [
    {
     "data": {
      "text/plain": "              name location     CO2e       PRODUCT COUNTRY/TERRITORY  \\\n0     acetaldehyde      RoW  1.91996  ACETALDEHYDE     UNITED STATES   \n1     acetaldehyde      RoW  1.91996  ACETALDEHYDE     UNITED STATES   \n2     acetaldehyde      RoW  1.91996  ACETALDEHYDE     UNITED STATES   \n3     acetaldehyde      RoW  1.91996  ACETALDEHYDE     UNITED STATES   \n4     acetaldehyde      RoW  1.91996  ACETALDEHYDE     UNITED STATES   \n...            ...      ...      ...           ...               ...   \n4412           NaN      NaN      NaN   VISBREAKING     UNITED STATES   \n4413           NaN      NaN      NaN   VISBREAKING     UNITED STATES   \n4414           NaN      NaN      NaN   VISBREAKING     UNITED STATES   \n4415           NaN      NaN      NaN   VISBREAKING     UNITED STATES   \n4416           NaN      NaN      NaN   VISBREAKING     UNITED STATES   \n\n           STATE            COMPANY               SITE    #        ROUTE  ...  \\\n0          TEXAS           CELANESE        BAY CITY/TX  1.0     ETHYLENE  ...   \n1          TEXAS           CELANESE      CLEAR LAKE/TX  1.0     ETHYLENE  ...   \n2          TEXAS   EASTMAN CHEMICAL        LONGVIEW/TX  1.0     ETHYLENE  ...   \n3      TENNESSEE  TENNESSEE EASTMAN       KINGSPORT/TN  1.0      ETHANOL  ...   \n4     W.VIRGINIA      UNION CARBIDE       INSTITUTE/WV  1.0      ETHANOL  ...   \n...          ...                ...                ...  ...          ...  ...   \n4412  CALIFORNIA       UNOCAL CORP.     LOS ANGELES/CA  1.0  VISBREAKING  ...   \n4413       TEXAS    VALERO REFINING  CORPUS CHRISTI/TX  2.0  VISBREAKING  ...   \n4414   LOUISIANA    VALERO REFINING       GOOD HOPE/LA  1.0  VISBREAKING  ...   \n4415       TEXAS    VALERO REFINING         HOUSTON/TX  1.0  VISBREAKING  ...   \n4416       TEXAS    VALERO REFINING      TEXAS CITY/TX  1.0  VISBREAKING  ...   \n\n     None.58 2037 None.59 2038 None.60 2039  None.61  2040  None.62  \\\n0       None    -    None    -    None    -     None     -     None   \n1       None    -    None    -    None    -     None     -     None   \n2             115          115          115            115            \n3       None    -    None    -    None    -     None     -     None   \n4       None    -    None    -    None    -     None     -     None   \n...      ...  ...     ...  ...     ...  ...      ...   ...      ...   \n4412    None    -    None    -    None    -     None     -     None   \n4413    None    -    None    -    None    -     None     -     None   \n4414    None    -    None    -    None    -     None     -     None   \n4415    None    -    None    -    None    -     None     -     None   \n4416    None    -    None    -    None    -     None     -     None   \n\n                        Region  \n0     CountryTerritory Summary  \n1     CountryTerritory Summary  \n2     CountryTerritory Summary  \n3     CountryTerritory Summary  \n4     CountryTerritory Summary  \n...                        ...  \n4412  CountryTerritory Summary  \n4413  CountryTerritory Summary  \n4414  CountryTerritory Summary  \n4415  CountryTerritory Summary  \n4416  CountryTerritory Summary  \n\n[4417 rows x 148 columns]",
      "text/html": "<div>\n<style scoped>\n    .dataframe tbody tr th:only-of-type {\n        vertical-align: middle;\n    }\n\n    .dataframe tbody tr th {\n        vertical-align: top;\n    }\n\n    .dataframe thead th {\n        text-align: right;\n    }\n</style>\n<table border=\"1\" class=\"dataframe\">\n  <thead>\n    <tr style=\"text-align: right;\">\n      <th></th>\n      <th>name</th>\n      <th>location</th>\n      <th>CO2e</th>\n      <th>PRODUCT</th>\n      <th>COUNTRY/TERRITORY</th>\n      <th>STATE</th>\n      <th>COMPANY</th>\n      <th>SITE</th>\n      <th>#</th>\n      <th>ROUTE</th>\n      <th>...</th>\n      <th>None.58</th>\n      <th>2037</th>\n      <th>None.59</th>\n      <th>2038</th>\n      <th>None.60</th>\n      <th>2039</th>\n      <th>None.61</th>\n      <th>2040</th>\n      <th>None.62</th>\n      <th>Region</th>\n    </tr>\n  </thead>\n  <tbody>\n    <tr>\n      <th>0</th>\n      <td>acetaldehyde</td>\n      <td>RoW</td>\n      <td>1.91996</td>\n      <td>ACETALDEHYDE</td>\n      <td>UNITED STATES</td>\n      <td>TEXAS</td>\n      <td>CELANESE</td>\n      <td>BAY CITY/TX</td>\n      <td>1.0</td>\n      <td>ETHYLENE</td>\n      <td>...</td>\n      <td>None</td>\n      <td>-</td>\n      <td>None</td>\n      <td>-</td>\n      <td>None</td>\n      <td>-</td>\n      <td>None</td>\n      <td>-</td>\n      <td>None</td>\n      <td>CountryTerritory Summary</td>\n    </tr>\n    <tr>\n      <th>1</th>\n      <td>acetaldehyde</td>\n      <td>RoW</td>\n      <td>1.91996</td>\n      <td>ACETALDEHYDE</td>\n      <td>UNITED STATES</td>\n      <td>TEXAS</td>\n      <td>CELANESE</td>\n      <td>CLEAR LAKE/TX</td>\n      <td>1.0</td>\n      <td>ETHYLENE</td>\n      <td>...</td>\n      <td>None</td>\n      <td>-</td>\n      <td>None</td>\n      <td>-</td>\n      <td>None</td>\n      <td>-</td>\n      <td>None</td>\n      <td>-</td>\n      <td>None</td>\n      <td>CountryTerritory Summary</td>\n    </tr>\n    <tr>\n      <th>2</th>\n      <td>acetaldehyde</td>\n      <td>RoW</td>\n      <td>1.91996</td>\n      <td>ACETALDEHYDE</td>\n      <td>UNITED STATES</td>\n      <td>TEXAS</td>\n      <td>EASTMAN CHEMICAL</td>\n      <td>LONGVIEW/TX</td>\n      <td>1.0</td>\n      <td>ETHYLENE</td>\n      <td>...</td>\n      <td></td>\n      <td>115</td>\n      <td></td>\n      <td>115</td>\n      <td></td>\n      <td>115</td>\n      <td></td>\n      <td>115</td>\n      <td></td>\n      <td>CountryTerritory Summary</td>\n    </tr>\n    <tr>\n      <th>3</th>\n      <td>acetaldehyde</td>\n      <td>RoW</td>\n      <td>1.91996</td>\n      <td>ACETALDEHYDE</td>\n      <td>UNITED STATES</td>\n      <td>TENNESSEE</td>\n      <td>TENNESSEE EASTMAN</td>\n      <td>KINGSPORT/TN</td>\n      <td>1.0</td>\n      <td>ETHANOL</td>\n      <td>...</td>\n      <td>None</td>\n      <td>-</td>\n      <td>None</td>\n      <td>-</td>\n      <td>None</td>\n      <td>-</td>\n      <td>None</td>\n      <td>-</td>\n      <td>None</td>\n      <td>CountryTerritory Summary</td>\n    </tr>\n    <tr>\n      <th>4</th>\n      <td>acetaldehyde</td>\n      <td>RoW</td>\n      <td>1.91996</td>\n      <td>ACETALDEHYDE</td>\n      <td>UNITED STATES</td>\n      <td>W.VIRGINIA</td>\n      <td>UNION CARBIDE</td>\n      <td>INSTITUTE/WV</td>\n      <td>1.0</td>\n      <td>ETHANOL</td>\n      <td>...</td>\n      <td>None</td>\n      <td>-</td>\n      <td>None</td>\n      <td>-</td>\n      <td>None</td>\n      <td>-</td>\n      <td>None</td>\n      <td>-</td>\n      <td>None</td>\n      <td>CountryTerritory Summary</td>\n    </tr>\n    <tr>\n      <th>...</th>\n      <td>...</td>\n      <td>...</td>\n      <td>...</td>\n      <td>...</td>\n      <td>...</td>\n      <td>...</td>\n      <td>...</td>\n      <td>...</td>\n      <td>...</td>\n      <td>...</td>\n      <td>...</td>\n      <td>...</td>\n      <td>...</td>\n      <td>...</td>\n      <td>...</td>\n      <td>...</td>\n      <td>...</td>\n      <td>...</td>\n      <td>...</td>\n      <td>...</td>\n      <td>...</td>\n    </tr>\n    <tr>\n      <th>4412</th>\n      <td>NaN</td>\n      <td>NaN</td>\n      <td>NaN</td>\n      <td>VISBREAKING</td>\n      <td>UNITED STATES</td>\n      <td>CALIFORNIA</td>\n      <td>UNOCAL CORP.</td>\n      <td>LOS ANGELES/CA</td>\n      <td>1.0</td>\n      <td>VISBREAKING</td>\n      <td>...</td>\n      <td>None</td>\n      <td>-</td>\n      <td>None</td>\n      <td>-</td>\n      <td>None</td>\n      <td>-</td>\n      <td>None</td>\n      <td>-</td>\n      <td>None</td>\n      <td>CountryTerritory Summary</td>\n    </tr>\n    <tr>\n      <th>4413</th>\n      <td>NaN</td>\n      <td>NaN</td>\n      <td>NaN</td>\n      <td>VISBREAKING</td>\n      <td>UNITED STATES</td>\n      <td>TEXAS</td>\n      <td>VALERO REFINING</td>\n      <td>CORPUS CHRISTI/TX</td>\n      <td>2.0</td>\n      <td>VISBREAKING</td>\n      <td>...</td>\n      <td>None</td>\n      <td>-</td>\n      <td>None</td>\n      <td>-</td>\n      <td>None</td>\n      <td>-</td>\n      <td>None</td>\n      <td>-</td>\n      <td>None</td>\n      <td>CountryTerritory Summary</td>\n    </tr>\n    <tr>\n      <th>4414</th>\n      <td>NaN</td>\n      <td>NaN</td>\n      <td>NaN</td>\n      <td>VISBREAKING</td>\n      <td>UNITED STATES</td>\n      <td>LOUISIANA</td>\n      <td>VALERO REFINING</td>\n      <td>GOOD HOPE/LA</td>\n      <td>1.0</td>\n      <td>VISBREAKING</td>\n      <td>...</td>\n      <td>None</td>\n      <td>-</td>\n      <td>None</td>\n      <td>-</td>\n      <td>None</td>\n      <td>-</td>\n      <td>None</td>\n      <td>-</td>\n      <td>None</td>\n      <td>CountryTerritory Summary</td>\n    </tr>\n    <tr>\n      <th>4415</th>\n      <td>NaN</td>\n      <td>NaN</td>\n      <td>NaN</td>\n      <td>VISBREAKING</td>\n      <td>UNITED STATES</td>\n      <td>TEXAS</td>\n      <td>VALERO REFINING</td>\n      <td>HOUSTON/TX</td>\n      <td>1.0</td>\n      <td>VISBREAKING</td>\n      <td>...</td>\n      <td>None</td>\n      <td>-</td>\n      <td>None</td>\n      <td>-</td>\n      <td>None</td>\n      <td>-</td>\n      <td>None</td>\n      <td>-</td>\n      <td>None</td>\n      <td>CountryTerritory Summary</td>\n    </tr>\n    <tr>\n      <th>4416</th>\n      <td>NaN</td>\n      <td>NaN</td>\n      <td>NaN</td>\n      <td>VISBREAKING</td>\n      <td>UNITED STATES</td>\n      <td>TEXAS</td>\n      <td>VALERO REFINING</td>\n      <td>TEXAS CITY/TX</td>\n      <td>1.0</td>\n      <td>VISBREAKING</td>\n      <td>...</td>\n      <td>None</td>\n      <td>-</td>\n      <td>None</td>\n      <td>-</td>\n      <td>None</td>\n      <td>-</td>\n      <td>None</td>\n      <td>-</td>\n      <td>None</td>\n      <td>CountryTerritory Summary</td>\n    </tr>\n  </tbody>\n</table>\n<p>4417 rows × 148 columns</p>\n</div>"
     },
     "execution_count": 33,
     "metadata": {},
     "output_type": "execute_result"
    }
   ],
   "source": [
    "merge#merge['PRODUCT'].unique()"
   ],
   "metadata": {
    "collapsed": false,
    "pycharm": {
     "name": "#%%\n"
    }
   }
  },
  {
   "cell_type": "code",
   "execution_count": 30,
   "outputs": [
    {
     "data": {
      "text/plain": "array([nan, '2,6-DI-TERT-BUTYLPHENOL', 'ACETALDEHYDE', 'ACETIC ANHYDRIDE',\n       'ACETONITRILE', 'ACETYLENE', 'ACROLEIN', 'ACRYLONITRILE',\n       'ADIPIC ACID', 'ALLYL CHLORIDE', 'ANILINE', 'ANTHRAQUINONE',\n       'BENZOIC ACID', 'BUTADIENE', 'ISOPROPANOL'], dtype=object)"
     },
     "execution_count": 30,
     "metadata": {},
     "output_type": "execute_result"
    }
   ],
   "source": [
    "mergeIHS = pd.merge(lca, materials, left_on=lca['name'].str.lower(), right_on=materials['Product'].str.lower(), how=\"left\")\n",
    "mergeIHS['Product'].unique()"
   ],
   "metadata": {
    "collapsed": false,
    "pycharm": {
     "name": "#%%\n"
    }
   }
  },
  {
   "cell_type": "code",
   "execution_count": 27,
   "outputs": [
    {
     "data": {
      "text/plain": "         Code Data Version              Source  \\\n0      1M-981      2021 Q3            CATALYST   \n1      1M-981      2021 Q3  CAUSTIC SODA (50%)   \n2      1M-981      2021 Q3     METHANOL, CRUDE   \n3      1M-981      2021 Q3       C4-C5 MIXTURE   \n4      1M-981      2021 Q3     ETHANE-RICH GAS   \n...       ...          ...                 ...   \n2903  1M-1457      2021 Q3           HYDROGEN.   \n2904  1M-1457      2021 Q3       COOLING WATER   \n2905  1M-1457      2021 Q3         ELECTRICITY   \n2906  1M-1457      2021 Q3       PROCESS WATER   \n2907  1M-1457      2021 Q3               STEAM   \n\n                                                 Target  Research Year  \\\n0     ETHYLENE BY THE UOP/HYDRO METHANOL TO OLEFINS ...         2002.0   \n1     ETHYLENE BY THE UOP/HYDRO METHANOL TO OLEFINS ...         2002.0   \n2     ETHYLENE BY THE UOP/HYDRO METHANOL TO OLEFINS ...         2002.0   \n3     ETHYLENE BY THE UOP/HYDRO METHANOL TO OLEFINS ...         2002.0   \n4     ETHYLENE BY THE UOP/HYDRO METHANOL TO OLEFINS ...         2002.0   \n...                                                 ...            ...   \n2903  BIO-BASED 1,4-BUTANEDIOL VIA SUCCINIC ACID ROU...         2011.0   \n2904  BIO-BASED 1,4-BUTANEDIOL VIA SUCCINIC ACID ROU...         2011.0   \n2905  BIO-BASED 1,4-BUTANEDIOL VIA SUCCINIC ACID ROU...         2011.0   \n2906  BIO-BASED 1,4-BUTANEDIOL VIA SUCCINIC ACID ROU...         2011.0   \n2907  BIO-BASED 1,4-BUTANEDIOL VIA SUCCINIC ACID ROU...         2011.0   \n\n                      Geography  Plant capacity Capacity unit         Product  \\\n0     United States, Gulf Coast      400.068470      MM KG/yr        ETHYLENE   \n1     United States, Gulf Coast      400.068470      MM KG/yr        ETHYLENE   \n2     United States, Gulf Coast      400.068470      MM KG/yr        ETHYLENE   \n3     United States, Gulf Coast      400.068470      MM KG/yr        ETHYLENE   \n4     United States, Gulf Coast      400.068470      MM KG/yr        ETHYLENE   \n...                         ...             ...           ...             ...   \n2903  United States, Gulf Coast       29.937096      MM KG/yr  1,4-BUTANEDIOL   \n2904  United States, Gulf Coast       29.937096      MM KG/yr  1,4-BUTANEDIOL   \n2905  United States, Gulf Coast       29.937096      MM KG/yr  1,4-BUTANEDIOL   \n2906  United States, Gulf Coast       29.937096      MM KG/yr  1,4-BUTANEDIOL   \n2907  United States, Gulf Coast       29.937096      MM KG/yr  1,4-BUTANEDIOL   \n\n           Value  ... Product fixed costs  Product Overhead + Tax, Ins.  \\\n0            NaN  ...            5.893464                      6.625514   \n1       0.006260  ...            5.893464                      6.625514   \n2       5.941383  ...            5.893464                      6.625514   \n3      -0.436700  ...            5.893464                      6.625514   \n4      -0.031340  ...            5.893464                      6.625514   \n...          ...  ...                 ...                           ...   \n2903    0.109000  ...           27.305847                     28.141565   \n2904   69.099916  ...           27.305847                     28.141565   \n2905  529.109429  ...           27.305847                     28.141565   \n2906   27.039098  ...           27.305847                     28.141565   \n2907   11.800000  ...           27.305847                     28.141565   \n\n     Product Plant Cash Cost Product Depreciation  Product Plant Gate Costs  \\\n0                  34.643831            22.118850                 56.762680   \n1                  34.643831            22.118850                 56.762680   \n2                  34.643831            22.118850                 56.762680   \n3                  34.643831            22.118850                 56.762680   \n4                  34.643831            22.118850                 56.762680   \n...                      ...                  ...                       ...   \n2903              673.899861            62.139265                736.039126   \n2904              673.899861            62.139265                736.039126   \n2905              673.899861            62.139265                736.039126   \n2906              673.899861            62.139265                736.039126   \n2907              673.899861            62.139265                736.039126   \n\n     Product G&A, Sales, Res.  Production Cost   Product ROI (15%)  \\\n0                    2.781679         59.544360          33.178274   \n1                    2.781679         59.544360          33.178274   \n2                    2.781679         59.544360          33.178274   \n3                    2.781679         59.544360          33.178274   \n4                    2.781679         59.544360          33.178274   \n...                       ...               ...                ...   \n2903                43.644633        779.683759          93.208898   \n2904                43.644633        779.683759          93.208898   \n2905                43.644633        779.683759          93.208898   \n2906                43.644633        779.683759          93.208898   \n2907                43.644633        779.683759          93.208898   \n\n     Product Value   Product Price   \n0         92.722634      100.420560  \n1         92.722634      100.420560  \n2         92.722634      100.420560  \n3         92.722634      100.420560  \n4         92.722634      100.420560  \n...             ...             ...  \n2903     872.892658      172.776275  \n2904     872.892658      172.776275  \n2905     872.892658      172.776275  \n2906     872.892658      172.776275  \n2907     872.892658      172.776275  \n\n[2908 rows x 30 columns]",
      "text/html": "<div>\n<style scoped>\n    .dataframe tbody tr th:only-of-type {\n        vertical-align: middle;\n    }\n\n    .dataframe tbody tr th {\n        vertical-align: top;\n    }\n\n    .dataframe thead th {\n        text-align: right;\n    }\n</style>\n<table border=\"1\" class=\"dataframe\">\n  <thead>\n    <tr style=\"text-align: right;\">\n      <th></th>\n      <th>Code</th>\n      <th>Data Version</th>\n      <th>Source</th>\n      <th>Target</th>\n      <th>Research Year</th>\n      <th>Geography</th>\n      <th>Plant capacity</th>\n      <th>Capacity unit</th>\n      <th>Product</th>\n      <th>Value</th>\n      <th>...</th>\n      <th>Product fixed costs</th>\n      <th>Product Overhead + Tax, Ins.</th>\n      <th>Product Plant Cash Cost</th>\n      <th>Product Depreciation</th>\n      <th>Product Plant Gate Costs</th>\n      <th>Product G&amp;A, Sales, Res.</th>\n      <th>Production Cost</th>\n      <th>Product ROI (15%)</th>\n      <th>Product Value</th>\n      <th>Product Price</th>\n    </tr>\n  </thead>\n  <tbody>\n    <tr>\n      <th>0</th>\n      <td>1M-981</td>\n      <td>2021 Q3</td>\n      <td>CATALYST</td>\n      <td>ETHYLENE BY THE UOP/HYDRO METHANOL TO OLEFINS ...</td>\n      <td>2002.0</td>\n      <td>United States, Gulf Coast</td>\n      <td>400.068470</td>\n      <td>MM KG/yr</td>\n      <td>ETHYLENE</td>\n      <td>NaN</td>\n      <td>...</td>\n      <td>5.893464</td>\n      <td>6.625514</td>\n      <td>34.643831</td>\n      <td>22.118850</td>\n      <td>56.762680</td>\n      <td>2.781679</td>\n      <td>59.544360</td>\n      <td>33.178274</td>\n      <td>92.722634</td>\n      <td>100.420560</td>\n    </tr>\n    <tr>\n      <th>1</th>\n      <td>1M-981</td>\n      <td>2021 Q3</td>\n      <td>CAUSTIC SODA (50%)</td>\n      <td>ETHYLENE BY THE UOP/HYDRO METHANOL TO OLEFINS ...</td>\n      <td>2002.0</td>\n      <td>United States, Gulf Coast</td>\n      <td>400.068470</td>\n      <td>MM KG/yr</td>\n      <td>ETHYLENE</td>\n      <td>0.006260</td>\n      <td>...</td>\n      <td>5.893464</td>\n      <td>6.625514</td>\n      <td>34.643831</td>\n      <td>22.118850</td>\n      <td>56.762680</td>\n      <td>2.781679</td>\n      <td>59.544360</td>\n      <td>33.178274</td>\n      <td>92.722634</td>\n      <td>100.420560</td>\n    </tr>\n    <tr>\n      <th>2</th>\n      <td>1M-981</td>\n      <td>2021 Q3</td>\n      <td>METHANOL, CRUDE</td>\n      <td>ETHYLENE BY THE UOP/HYDRO METHANOL TO OLEFINS ...</td>\n      <td>2002.0</td>\n      <td>United States, Gulf Coast</td>\n      <td>400.068470</td>\n      <td>MM KG/yr</td>\n      <td>ETHYLENE</td>\n      <td>5.941383</td>\n      <td>...</td>\n      <td>5.893464</td>\n      <td>6.625514</td>\n      <td>34.643831</td>\n      <td>22.118850</td>\n      <td>56.762680</td>\n      <td>2.781679</td>\n      <td>59.544360</td>\n      <td>33.178274</td>\n      <td>92.722634</td>\n      <td>100.420560</td>\n    </tr>\n    <tr>\n      <th>3</th>\n      <td>1M-981</td>\n      <td>2021 Q3</td>\n      <td>C4-C5 MIXTURE</td>\n      <td>ETHYLENE BY THE UOP/HYDRO METHANOL TO OLEFINS ...</td>\n      <td>2002.0</td>\n      <td>United States, Gulf Coast</td>\n      <td>400.068470</td>\n      <td>MM KG/yr</td>\n      <td>ETHYLENE</td>\n      <td>-0.436700</td>\n      <td>...</td>\n      <td>5.893464</td>\n      <td>6.625514</td>\n      <td>34.643831</td>\n      <td>22.118850</td>\n      <td>56.762680</td>\n      <td>2.781679</td>\n      <td>59.544360</td>\n      <td>33.178274</td>\n      <td>92.722634</td>\n      <td>100.420560</td>\n    </tr>\n    <tr>\n      <th>4</th>\n      <td>1M-981</td>\n      <td>2021 Q3</td>\n      <td>ETHANE-RICH GAS</td>\n      <td>ETHYLENE BY THE UOP/HYDRO METHANOL TO OLEFINS ...</td>\n      <td>2002.0</td>\n      <td>United States, Gulf Coast</td>\n      <td>400.068470</td>\n      <td>MM KG/yr</td>\n      <td>ETHYLENE</td>\n      <td>-0.031340</td>\n      <td>...</td>\n      <td>5.893464</td>\n      <td>6.625514</td>\n      <td>34.643831</td>\n      <td>22.118850</td>\n      <td>56.762680</td>\n      <td>2.781679</td>\n      <td>59.544360</td>\n      <td>33.178274</td>\n      <td>92.722634</td>\n      <td>100.420560</td>\n    </tr>\n    <tr>\n      <th>...</th>\n      <td>...</td>\n      <td>...</td>\n      <td>...</td>\n      <td>...</td>\n      <td>...</td>\n      <td>...</td>\n      <td>...</td>\n      <td>...</td>\n      <td>...</td>\n      <td>...</td>\n      <td>...</td>\n      <td>...</td>\n      <td>...</td>\n      <td>...</td>\n      <td>...</td>\n      <td>...</td>\n      <td>...</td>\n      <td>...</td>\n      <td>...</td>\n      <td>...</td>\n      <td>...</td>\n    </tr>\n    <tr>\n      <th>2903</th>\n      <td>1M-1457</td>\n      <td>2021 Q3</td>\n      <td>HYDROGEN.</td>\n      <td>BIO-BASED 1,4-BUTANEDIOL VIA SUCCINIC ACID ROU...</td>\n      <td>2011.0</td>\n      <td>United States, Gulf Coast</td>\n      <td>29.937096</td>\n      <td>MM KG/yr</td>\n      <td>1,4-BUTANEDIOL</td>\n      <td>0.109000</td>\n      <td>...</td>\n      <td>27.305847</td>\n      <td>28.141565</td>\n      <td>673.899861</td>\n      <td>62.139265</td>\n      <td>736.039126</td>\n      <td>43.644633</td>\n      <td>779.683759</td>\n      <td>93.208898</td>\n      <td>872.892658</td>\n      <td>172.776275</td>\n    </tr>\n    <tr>\n      <th>2904</th>\n      <td>1M-1457</td>\n      <td>2021 Q3</td>\n      <td>COOLING WATER</td>\n      <td>BIO-BASED 1,4-BUTANEDIOL VIA SUCCINIC ACID ROU...</td>\n      <td>2011.0</td>\n      <td>United States, Gulf Coast</td>\n      <td>29.937096</td>\n      <td>MM KG/yr</td>\n      <td>1,4-BUTANEDIOL</td>\n      <td>69.099916</td>\n      <td>...</td>\n      <td>27.305847</td>\n      <td>28.141565</td>\n      <td>673.899861</td>\n      <td>62.139265</td>\n      <td>736.039126</td>\n      <td>43.644633</td>\n      <td>779.683759</td>\n      <td>93.208898</td>\n      <td>872.892658</td>\n      <td>172.776275</td>\n    </tr>\n    <tr>\n      <th>2905</th>\n      <td>1M-1457</td>\n      <td>2021 Q3</td>\n      <td>ELECTRICITY</td>\n      <td>BIO-BASED 1,4-BUTANEDIOL VIA SUCCINIC ACID ROU...</td>\n      <td>2011.0</td>\n      <td>United States, Gulf Coast</td>\n      <td>29.937096</td>\n      <td>MM KG/yr</td>\n      <td>1,4-BUTANEDIOL</td>\n      <td>529.109429</td>\n      <td>...</td>\n      <td>27.305847</td>\n      <td>28.141565</td>\n      <td>673.899861</td>\n      <td>62.139265</td>\n      <td>736.039126</td>\n      <td>43.644633</td>\n      <td>779.683759</td>\n      <td>93.208898</td>\n      <td>872.892658</td>\n      <td>172.776275</td>\n    </tr>\n    <tr>\n      <th>2906</th>\n      <td>1M-1457</td>\n      <td>2021 Q3</td>\n      <td>PROCESS WATER</td>\n      <td>BIO-BASED 1,4-BUTANEDIOL VIA SUCCINIC ACID ROU...</td>\n      <td>2011.0</td>\n      <td>United States, Gulf Coast</td>\n      <td>29.937096</td>\n      <td>MM KG/yr</td>\n      <td>1,4-BUTANEDIOL</td>\n      <td>27.039098</td>\n      <td>...</td>\n      <td>27.305847</td>\n      <td>28.141565</td>\n      <td>673.899861</td>\n      <td>62.139265</td>\n      <td>736.039126</td>\n      <td>43.644633</td>\n      <td>779.683759</td>\n      <td>93.208898</td>\n      <td>872.892658</td>\n      <td>172.776275</td>\n    </tr>\n    <tr>\n      <th>2907</th>\n      <td>1M-1457</td>\n      <td>2021 Q3</td>\n      <td>STEAM</td>\n      <td>BIO-BASED 1,4-BUTANEDIOL VIA SUCCINIC ACID ROU...</td>\n      <td>2011.0</td>\n      <td>United States, Gulf Coast</td>\n      <td>29.937096</td>\n      <td>MM KG/yr</td>\n      <td>1,4-BUTANEDIOL</td>\n      <td>11.800000</td>\n      <td>...</td>\n      <td>27.305847</td>\n      <td>28.141565</td>\n      <td>673.899861</td>\n      <td>62.139265</td>\n      <td>736.039126</td>\n      <td>43.644633</td>\n      <td>779.683759</td>\n      <td>93.208898</td>\n      <td>872.892658</td>\n      <td>172.776275</td>\n    </tr>\n  </tbody>\n</table>\n<p>2908 rows × 30 columns</p>\n</div>"
     },
     "execution_count": 27,
     "metadata": {},
     "output_type": "execute_result"
    }
   ],
   "source": [
    "materials"
   ],
   "metadata": {
    "collapsed": false,
    "pycharm": {
     "name": "#%%\n"
    }
   }
  },
  {
   "cell_type": "code",
   "execution_count": 31,
   "outputs": [
    {
     "data": {
      "text/plain": "                             name location      CO2e\n0    1,1-difluoroethane, HFC-152a       US  5.916414\n1                       1-butanol      RoW  3.045196\n2                      1-pentanol      RoW  5.078633\n3                      1-propanol      RoW  4.532686\n4         2,4-di-tert-butylphenol      GLO  4.543894\n..                            ...      ...       ...\n511                        xylene      RoW  1.703801\n512              zinc monosulfate      RoW  0.702319\n513                    zinc oxide      RoW  0.815520\n514                  zinc sulfide      RoW  2.135332\n515               zirconium oxide      RoW  3.240122\n\n[516 rows x 3 columns]",
      "text/html": "<div>\n<style scoped>\n    .dataframe tbody tr th:only-of-type {\n        vertical-align: middle;\n    }\n\n    .dataframe tbody tr th {\n        vertical-align: top;\n    }\n\n    .dataframe thead th {\n        text-align: right;\n    }\n</style>\n<table border=\"1\" class=\"dataframe\">\n  <thead>\n    <tr style=\"text-align: right;\">\n      <th></th>\n      <th>name</th>\n      <th>location</th>\n      <th>CO2e</th>\n    </tr>\n  </thead>\n  <tbody>\n    <tr>\n      <th>0</th>\n      <td>1,1-difluoroethane, HFC-152a</td>\n      <td>US</td>\n      <td>5.916414</td>\n    </tr>\n    <tr>\n      <th>1</th>\n      <td>1-butanol</td>\n      <td>RoW</td>\n      <td>3.045196</td>\n    </tr>\n    <tr>\n      <th>2</th>\n      <td>1-pentanol</td>\n      <td>RoW</td>\n      <td>5.078633</td>\n    </tr>\n    <tr>\n      <th>3</th>\n      <td>1-propanol</td>\n      <td>RoW</td>\n      <td>4.532686</td>\n    </tr>\n    <tr>\n      <th>4</th>\n      <td>2,4-di-tert-butylphenol</td>\n      <td>GLO</td>\n      <td>4.543894</td>\n    </tr>\n    <tr>\n      <th>...</th>\n      <td>...</td>\n      <td>...</td>\n      <td>...</td>\n    </tr>\n    <tr>\n      <th>511</th>\n      <td>xylene</td>\n      <td>RoW</td>\n      <td>1.703801</td>\n    </tr>\n    <tr>\n      <th>512</th>\n      <td>zinc monosulfate</td>\n      <td>RoW</td>\n      <td>0.702319</td>\n    </tr>\n    <tr>\n      <th>513</th>\n      <td>zinc oxide</td>\n      <td>RoW</td>\n      <td>0.815520</td>\n    </tr>\n    <tr>\n      <th>514</th>\n      <td>zinc sulfide</td>\n      <td>RoW</td>\n      <td>2.135332</td>\n    </tr>\n    <tr>\n      <th>515</th>\n      <td>zirconium oxide</td>\n      <td>RoW</td>\n      <td>3.240122</td>\n    </tr>\n  </tbody>\n</table>\n<p>516 rows × 3 columns</p>\n</div>"
     },
     "execution_count": 31,
     "metadata": {},
     "output_type": "execute_result"
    }
   ],
   "source": [
    "lca"
   ],
   "metadata": {
    "collapsed": false,
    "pycharm": {
     "name": "#%%\n"
    }
   }
  },
  {
   "cell_type": "code",
   "execution_count": null,
   "outputs": [],
   "source": [],
   "metadata": {
    "collapsed": false,
    "pycharm": {
     "name": "#%%\n"
    }
   }
  }
 ],
 "metadata": {
  "kernelspec": {
   "display_name": "Python 3",
   "language": "python",
   "name": "python3"
  },
  "language_info": {
   "codemirror_mode": {
    "name": "ipython",
    "version": 2
   },
   "file_extension": ".py",
   "mimetype": "text/x-python",
   "name": "python",
   "nbconvert_exporter": "python",
   "pygments_lexer": "ipython2",
   "version": "2.7.6"
  }
 },
 "nbformat": 4,
 "nbformat_minor": 0
}