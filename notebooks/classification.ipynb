{
 "cells": [
  {
   "cell_type": "code",
   "execution_count": 106,
   "metadata": {
    "collapsed": true
   },
   "outputs": [],
   "source": [
    "import pandas as pd\n",
    "import numpy as np\n",
    "\n",
    "class LCA(object):\n",
    "    def __init__(self):\n",
    "        filepath = \"C:/Users\\lukec\\OneDrive - University of Cambridge\\PhD\\Data\\EcoInvent\\Basic_chemicals_201\\GWP100a_IPCC2013.csv\"\n",
    "        raw = pd.read_csv(filepath)\n",
    "        self.data = raw[['name','location','CO2e']][~raw['generalComment'].str.contains('market')].sort_values('name')\n",
    "\n",
    "    def location(self, location='Global'):\n",
    "        loc_filepath = \"C:/Users\\lukec\\OneDrive - University of Cambridge\\PhD\\Data\\EcoInvent\\EcoInvent_locations.csv\"\n",
    "        loc_codes = pd.read_csv(loc_filepath)\n",
    "        region_code = loc_codes['Code'][np.where(loc_codes['Name'] == location)[0]].iloc[0]\n",
    "        rows = []\n",
    "        for product in self.data['name'].unique():\n",
    "            for code in [region_code, 'RoW', 'GLO']:\n",
    "                found = self.data[(self.data['name']==product) & (self.data['location']==code)]\n",
    "                if not found.index.empty:\n",
    "                    rows += list(found.index)\n",
    "                    break\n",
    "        return self.data.loc[rows].groupby(['name','location']).mean()\n",
    "\n",
    "class IHSData(object):\n",
    "    def __init__(self):\n",
    "        product_file = \"C:/Users\\lukec\\OneDrive - University of Cambridge\\PhD\\Data\\IHS/US\\products.csv\"\n",
    "        material_file = \"C:/Users\\lukec\\OneDrive - University of Cambridge\\PhD\\Data\\IHS/US\\materials.csv\"\n",
    "        self.products = pd.read_csv(product_file,index_col=0).reset_index(drop=True)\n",
    "        self.materials = pd.read_csv(material_file,index_col=0).reset_index(drop=True)\n",
    "\n",
    "class ICISData()\n",
    "\n",
    "def merge_data():\n",
    "    merge = pd.merge(self.products, emissions, left_on=self.products['Name'].str.lower(), right_on=emissions['name'].str.lower(), how=\"left\")\n",
    "    if dropna: merge.dropna(subset='CO2e',inplace=True)\n",
    "    if single_loc: merge.drop_duplicates('Code', inplace=True)\n",
    "    return merge\n",
    "\n",
    "lca = LCA().location('Europe')"
   ]
  },
  {
   "cell_type": "code",
   "execution_count": 107,
   "outputs": [
    {
     "data": {
      "text/plain": "                                           CO2e\nname                         location          \n1,1-difluoroethane, HFC-152a RoW       4.862882\n1-butanol                    RER       2.349502\n1-pentanol                   RER       3.958641\n1-propanol                   RER       3.172027\n2,4-di-tert-butylphenol      GLO       4.543894\n...                                         ...\nxylene                       RER       1.703117\nzinc monosulfate             RER       0.711627\nzinc oxide                   RER       0.731341\nzinc sulfide                 RER       1.832170\nzirconium oxide              RoW       3.240122\n\n[516 rows x 1 columns]",
      "text/html": "<div>\n<style scoped>\n    .dataframe tbody tr th:only-of-type {\n        vertical-align: middle;\n    }\n\n    .dataframe tbody tr th {\n        vertical-align: top;\n    }\n\n    .dataframe thead th {\n        text-align: right;\n    }\n</style>\n<table border=\"1\" class=\"dataframe\">\n  <thead>\n    <tr style=\"text-align: right;\">\n      <th></th>\n      <th></th>\n      <th>CO2e</th>\n    </tr>\n    <tr>\n      <th>name</th>\n      <th>location</th>\n      <th></th>\n    </tr>\n  </thead>\n  <tbody>\n    <tr>\n      <th>1,1-difluoroethane, HFC-152a</th>\n      <th>RoW</th>\n      <td>4.862882</td>\n    </tr>\n    <tr>\n      <th>1-butanol</th>\n      <th>RER</th>\n      <td>2.349502</td>\n    </tr>\n    <tr>\n      <th>1-pentanol</th>\n      <th>RER</th>\n      <td>3.958641</td>\n    </tr>\n    <tr>\n      <th>1-propanol</th>\n      <th>RER</th>\n      <td>3.172027</td>\n    </tr>\n    <tr>\n      <th>2,4-di-tert-butylphenol</th>\n      <th>GLO</th>\n      <td>4.543894</td>\n    </tr>\n    <tr>\n      <th>...</th>\n      <th>...</th>\n      <td>...</td>\n    </tr>\n    <tr>\n      <th>xylene</th>\n      <th>RER</th>\n      <td>1.703117</td>\n    </tr>\n    <tr>\n      <th>zinc monosulfate</th>\n      <th>RER</th>\n      <td>0.711627</td>\n    </tr>\n    <tr>\n      <th>zinc oxide</th>\n      <th>RER</th>\n      <td>0.731341</td>\n    </tr>\n    <tr>\n      <th>zinc sulfide</th>\n      <th>RER</th>\n      <td>1.832170</td>\n    </tr>\n    <tr>\n      <th>zirconium oxide</th>\n      <th>RoW</th>\n      <td>3.240122</td>\n    </tr>\n  </tbody>\n</table>\n<p>516 rows × 1 columns</p>\n</div>"
     },
     "execution_count": 107,
     "metadata": {},
     "output_type": "execute_result"
    }
   ],
   "source": [
    "lca"
   ],
   "metadata": {
    "collapsed": false,
    "pycharm": {
     "name": "#%%\n"
    }
   }
  },
  {
   "cell_type": "code",
   "execution_count": null,
   "outputs": [],
   "source": [],
   "metadata": {
    "collapsed": false,
    "pycharm": {
     "name": "#%%\n"
    }
   }
  }
 ],
 "metadata": {
  "kernelspec": {
   "display_name": "Python 3",
   "language": "python",
   "name": "python3"
  },
  "language_info": {
   "codemirror_mode": {
    "name": "ipython",
    "version": 2
   },
   "file_extension": ".py",
   "mimetype": "text/x-python",
   "name": "python",
   "nbconvert_exporter": "python",
   "pygments_lexer": "ipython2",
   "version": "2.7.6"
  }
 },
 "nbformat": 4,
 "nbformat_minor": 0
}