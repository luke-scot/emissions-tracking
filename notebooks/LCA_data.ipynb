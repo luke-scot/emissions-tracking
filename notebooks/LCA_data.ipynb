{
 "cells": [
  {
   "cell_type": "code",
   "execution_count": 275,
   "outputs": [],
   "source": [
    "# Import packages\n",
    "import matplotlib.pyplot as plt\n",
    "import numpy as np\n",
    "import pandas as pd\n",
    "import os\n",
    "import xml.etree.ElementTree as ET\n",
    "from tqdm import tqdm\n",
    "import seaborn as sns\n",
    "import itertools\n",
    "import ipywidgets as ipw\n",
    "import functions.utilities as utl\n",
    "import scipy.stats as stats\n",
    "\n",
    "# Variable definition\n",
    "lcaDataPath = \"C:/Users\\lukec\\OneDrive - University of Cambridge\\Projects\\PhD\\Data\\EcoInvent\\EcoInvent_B0729/xml_openLCA\"\n",
    "inOutPath = \"C:/Users\\lukec\\OneDrive - University of Cambridge\\Projects\\PhD\\Data\\EcoInvent\\EcoInvent_B0729/xml_EI/\"\n",
    "impactMethods = \"C:/Users\\lukec\\OneDrive - University of Cambridge\\Projects\\PhD\\Data\\EcoInvent\\Impact-Methods\\IPCC2013.xml\""
   ],
   "metadata": {
    "collapsed": false,
    "pycharm": {
     "name": "#%%\n"
    }
   }
  },
  {
   "cell_type": "code",
   "execution_count": 276,
   "outputs": [],
   "source": [
    "# Read in impact factors\n",
    "def read_xml_attributes(filepath:str,branches:list,attributes:list,df=False):\n",
    "    \"\"\"This function creates a dataframe of attributes within an xml file.\\n\n",
    "    Inputs:\\n\n",
    "    filepath - path to xml file\\n\n",
    "    branches - list of successive branch choices\\n\n",
    "    attributes - attributes to be read from chosen branch\\n\n",
    "    Outputs:\\n\n",
    "    df - pandas dataframe of attributes for each end branch\\n\n",
    "    Requirements: pandas as pd, xml.etree.ElementTree as ET\"\"\"\n",
    "    if df is False: df = pd.DataFrame([],columns=[i for sublist in utl.to_listlist(attributes) for i in sublist])\n",
    "    tree_loc = ET.parse(filepath).getroot()\n",
    "    branches, attributes = utl.to_listlist(branches), utl.to_listlist(attributes)\n",
    "    attr_values = dict()\n",
    "    for pathnum, path in enumerate(branches):\n",
    "        for branch in path:\n",
    "            for num,val in enumerate([branch in i.tag for i in tree_loc]):\n",
    "                if val:\n",
    "                    if branch is path[-1]:\n",
    "                        attr_values.update(dict(zip(attributes[pathnum],[tree_loc[num].attrib[i] if i else tree_loc[num].text for i in attributes[pathnum]])))\n",
    "                        if path is branches[-1]: df = df.append(attr_values,ignore_index=True)\n",
    "                    else:\n",
    "                        tree_loc=tree_loc[num]\n",
    "                        break\n",
    "    return df"
   ],
   "metadata": {
    "collapsed": false,
    "pycharm": {
     "name": "#%%\n"
    }
   }
  },
  {
   "cell_type": "code",
   "execution_count": 277,
   "outputs": [
    {
     "data": {
      "text/plain": "                                                  name         category  \\\n56                              Carbon dioxide, fossil  Emission to air   \n45                              Carbon dioxide, fossil  Emission to air   \n164                             Carbon dioxide, fossil  Emission to air   \n69                              Carbon dioxide, fossil  Emission to air   \n19                              Carbon dioxide, fossil  Emission to air   \n..                                                 ...              ...   \n189                                Sulfur hexafluoride  Emission to air   \n79                                 Sulfur hexafluoride  Emission to air   \n44                                 Sulfur hexafluoride  Emission to air   \n3                                  Sulfur hexafluoride  Emission to air   \n199  VOC, volatile organic compounds, unspecified o...  Emission to air   \n\n                                subCategory       meanValue  \n56                              unspecified             1.0  \n45                   low population density             1.0  \n164       low population density, long-term             1.0  \n69   lower stratosphere + upper troposphere             1.0  \n19                  high population density             1.0  \n..                                      ...             ...  \n189  lower stratosphere + upper troposphere  23506.81999316  \n79        low population density, long-term  23506.81999316  \n44                   low population density  23506.81999316  \n3                               unspecified  23506.81999316  \n199                             unspecified             4.5  \n\n[211 rows x 4 columns]",
      "text/html": "<div>\n<style scoped>\n    .dataframe tbody tr th:only-of-type {\n        vertical-align: middle;\n    }\n\n    .dataframe tbody tr th {\n        vertical-align: top;\n    }\n\n    .dataframe thead th {\n        text-align: right;\n    }\n</style>\n<table border=\"1\" class=\"dataframe\">\n  <thead>\n    <tr style=\"text-align: right;\">\n      <th></th>\n      <th>name</th>\n      <th>category</th>\n      <th>subCategory</th>\n      <th>meanValue</th>\n    </tr>\n  </thead>\n  <tbody>\n    <tr>\n      <th>56</th>\n      <td>Carbon dioxide, fossil</td>\n      <td>Emission to air</td>\n      <td>unspecified</td>\n      <td>1.0</td>\n    </tr>\n    <tr>\n      <th>45</th>\n      <td>Carbon dioxide, fossil</td>\n      <td>Emission to air</td>\n      <td>low population density</td>\n      <td>1.0</td>\n    </tr>\n    <tr>\n      <th>164</th>\n      <td>Carbon dioxide, fossil</td>\n      <td>Emission to air</td>\n      <td>low population density, long-term</td>\n      <td>1.0</td>\n    </tr>\n    <tr>\n      <th>69</th>\n      <td>Carbon dioxide, fossil</td>\n      <td>Emission to air</td>\n      <td>lower stratosphere + upper troposphere</td>\n      <td>1.0</td>\n    </tr>\n    <tr>\n      <th>19</th>\n      <td>Carbon dioxide, fossil</td>\n      <td>Emission to air</td>\n      <td>high population density</td>\n      <td>1.0</td>\n    </tr>\n    <tr>\n      <th>...</th>\n      <td>...</td>\n      <td>...</td>\n      <td>...</td>\n      <td>...</td>\n    </tr>\n    <tr>\n      <th>189</th>\n      <td>Sulfur hexafluoride</td>\n      <td>Emission to air</td>\n      <td>lower stratosphere + upper troposphere</td>\n      <td>23506.81999316</td>\n    </tr>\n    <tr>\n      <th>79</th>\n      <td>Sulfur hexafluoride</td>\n      <td>Emission to air</td>\n      <td>low population density, long-term</td>\n      <td>23506.81999316</td>\n    </tr>\n    <tr>\n      <th>44</th>\n      <td>Sulfur hexafluoride</td>\n      <td>Emission to air</td>\n      <td>low population density</td>\n      <td>23506.81999316</td>\n    </tr>\n    <tr>\n      <th>3</th>\n      <td>Sulfur hexafluoride</td>\n      <td>Emission to air</td>\n      <td>unspecified</td>\n      <td>23506.81999316</td>\n    </tr>\n    <tr>\n      <th>199</th>\n      <td>VOC, volatile organic compounds, unspecified o...</td>\n      <td>Emission to air</td>\n      <td>unspecified</td>\n      <td>4.5</td>\n    </tr>\n  </tbody>\n</table>\n<p>211 rows × 4 columns</p>\n</div>"
     },
     "execution_count": 277,
     "metadata": {},
     "output_type": "execute_result"
    }
   ],
   "source": [
    "# Fetch and display impact factors\n",
    "impacts = read_xml_attributes(impactMethods,['dataset','flowData','exchange'],['name','category','subCategory','meanValue'])\n",
    "impacts.sort_values('name')"
   ],
   "metadata": {
    "collapsed": false,
    "pycharm": {
     "name": "#%%\n"
    }
   }
  },
  {
   "cell_type": "code",
   "execution_count": null,
   "outputs": [],
   "source": [
    "# Load in xml data to dataframe\n",
    "def calculate_co2e(filepath:str, lookup:pd.DataFrame, branches:list=None, attributes:list=None):\n",
    "    \"\"\"This function calculates total CO2e impacts for processes given the outputs and impact factors\\n\n",
    "    Inputs:\\n\n",
    "    filepath - path to process xml file\\n\n",
    "    lookup - dataframe with CO2e values for a unit of output materials\\n\n",
    "    branches - branches for outputs in xml file\\n\n",
    "    attributes - attributes at destination branch in xml file\\n\n",
    "    Output: Float of total CO2e due to process.\\n\n",
    "    Requirements: pandas as pd, read_xml_attributes function\"\"\"\n",
    "    # Defaults\n",
    "    if attributes is None: attributes = ['name', 'category', 'subCategory', 'meanValue']\n",
    "    if branches is None: branches = ['dataset', 'flowData', 'exchange']\n",
    "    # Calculation\n",
    "    product = read_xml_attributes(filepath,branches,attributes)\n",
    "    product = product.rename(columns={attributes[-1]: \"kg\"})\n",
    "    emissions = product.merge(lookup)\n",
    "    return sum(pd.to_numeric(emissions['kg'])*pd.to_numeric(emissions[attributes[-1]]))\n",
    "\n",
    "def import_xml_batch(directory:str,path:list,attributes:list,co2e=False,impacts=False):\n",
    "    \"\"\"This function imports xml data into a pandas dataframe inputs:\\n\n",
    "    directory - directory of xml files\\n\n",
    "    path - location of attributes within xml\\n\n",
    "    attributes - names of attributes/column names\\n\n",
    "    outputs:\\n\n",
    "    df - dataframe of requested attributes\\n\n",
    "    Requirements: os, pandas as pd, xml.etree.ElementTree as ET\"\"\"\n",
    "    file_list = os.listdir(directory)\n",
    "    attributes = utl.to_listlist(attributes)\n",
    "    df = pd.DataFrame([],columns=[j for i in attributes for j in i])\n",
    "    if co2e is not False: df[co2e] = None\n",
    "    for file in tqdm(file_list):\n",
    "        df = read_xml_attributes(os.path.join(directory, file),path,attributes,df)\n",
    "        if co2e is not False: df[co2e].iloc[-1] = calculate_co2e(os.path.join(directory, file), impacts)\n",
    "    return df, file_list\n",
    "\n",
    "processes, _ = import_xml_batch(lcaDataPath,[['dataset','meta','process','reference'],['dataset','meta','process','geo']],[['name','generalComment'],['location']],'CO2e',impacts)"
   ],
   "metadata": {
    "collapsed": false,
    "pycharm": {
     "name": "#%%\n",
     "is_executing": true
    }
   }
  },
  {
   "cell_type": "code",
   "execution_count": 279,
   "outputs": [],
   "source": [
    "# Save or load processes file\n",
    "processes_file = \"C:/Users\\lukec\\OneDrive - University of Cambridge\\Projects\\PhD\\Data\\EcoInvent/EcoInvent_B0729\\process_co2e/GWP100a_IPCC2013.csv\"\n",
    "if 'processes' in locals(): processes.sort_values('name').to_csv(processes_file)\n",
    "else: processes = pd.read_csv(processes_file,index_col=0)"
   ],
   "metadata": {
    "collapsed": false,
    "pycharm": {
     "name": "#%%\n"
    }
   }
  },
  {
   "cell_type": "code",
   "execution_count": 280,
   "outputs": [
    {
     "data": {
      "text/plain": "                                name  \\\n249                           barite   \n241                           barite   \n142                          bauxite   \n114       bulk lead-zinc concentrate   \n224  calcium carbonate, precipitated   \n..                               ...   \n51                  zinc concentrate   \n126                 zinc concentrate   \n226            zircon, 50% zirconium   \n192            zircon, 50% zirconium   \n108            zircon, 50% zirconium   \n\n                                        generalComment location      CO2e  \n249  This dataset refers to the production of 1 kg ...       BR  0.020889  \n241  This dataset has been copied from an original ...      RoW  0.031836  \n142  Average moisture content of bauxite is approxi...      GLO  0.012219  \n114  The multi-output \"zinc mine operation\" process...      GLO  0.418987  \n224  For the separation and refining of rare earth ...    CN-SC  3.496398  \n..                                                 ...      ...       ...  \n51   From metal containing ore extraction from the ...    CA-QC  0.463061  \n126  The multi-output \"zinc mine operation\" process...      GLO  0.438609  \n226  Heavy mineral sands are a class of ore deposit...       ZA  1.319584  \n192  This dataset refers to the production of 1 kg ...       AU  0.410540  \n108  This dataset refers to the production of 1 kg ...      RoW  0.337368  \n\n[166 rows x 4 columns]",
      "text/html": "<div>\n<style scoped>\n    .dataframe tbody tr th:only-of-type {\n        vertical-align: middle;\n    }\n\n    .dataframe tbody tr th {\n        vertical-align: top;\n    }\n\n    .dataframe thead th {\n        text-align: right;\n    }\n</style>\n<table border=\"1\" class=\"dataframe\">\n  <thead>\n    <tr style=\"text-align: right;\">\n      <th></th>\n      <th>name</th>\n      <th>generalComment</th>\n      <th>location</th>\n      <th>CO2e</th>\n    </tr>\n  </thead>\n  <tbody>\n    <tr>\n      <th>249</th>\n      <td>barite</td>\n      <td>This dataset refers to the production of 1 kg ...</td>\n      <td>BR</td>\n      <td>0.020889</td>\n    </tr>\n    <tr>\n      <th>241</th>\n      <td>barite</td>\n      <td>This dataset has been copied from an original ...</td>\n      <td>RoW</td>\n      <td>0.031836</td>\n    </tr>\n    <tr>\n      <th>142</th>\n      <td>bauxite</td>\n      <td>Average moisture content of bauxite is approxi...</td>\n      <td>GLO</td>\n      <td>0.012219</td>\n    </tr>\n    <tr>\n      <th>114</th>\n      <td>bulk lead-zinc concentrate</td>\n      <td>The multi-output \"zinc mine operation\" process...</td>\n      <td>GLO</td>\n      <td>0.418987</td>\n    </tr>\n    <tr>\n      <th>224</th>\n      <td>calcium carbonate, precipitated</td>\n      <td>For the separation and refining of rare earth ...</td>\n      <td>CN-SC</td>\n      <td>3.496398</td>\n    </tr>\n    <tr>\n      <th>...</th>\n      <td>...</td>\n      <td>...</td>\n      <td>...</td>\n      <td>...</td>\n    </tr>\n    <tr>\n      <th>51</th>\n      <td>zinc concentrate</td>\n      <td>From metal containing ore extraction from the ...</td>\n      <td>CA-QC</td>\n      <td>0.463061</td>\n    </tr>\n    <tr>\n      <th>126</th>\n      <td>zinc concentrate</td>\n      <td>The multi-output \"zinc mine operation\" process...</td>\n      <td>GLO</td>\n      <td>0.438609</td>\n    </tr>\n    <tr>\n      <th>226</th>\n      <td>zircon, 50% zirconium</td>\n      <td>Heavy mineral sands are a class of ore deposit...</td>\n      <td>ZA</td>\n      <td>1.319584</td>\n    </tr>\n    <tr>\n      <th>192</th>\n      <td>zircon, 50% zirconium</td>\n      <td>This dataset refers to the production of 1 kg ...</td>\n      <td>AU</td>\n      <td>0.410540</td>\n    </tr>\n    <tr>\n      <th>108</th>\n      <td>zircon, 50% zirconium</td>\n      <td>This dataset refers to the production of 1 kg ...</td>\n      <td>RoW</td>\n      <td>0.337368</td>\n    </tr>\n  </tbody>\n</table>\n<p>166 rows × 4 columns</p>\n</div>"
     },
     "execution_count": 280,
     "metadata": {},
     "output_type": "execute_result"
    }
   ],
   "source": [
    "# Filter dataframe for non market activities\n",
    "production = processes[~ processes['generalComment'].str.contains('market')].sort_values('name')\n",
    "production"
   ],
   "metadata": {
    "collapsed": false,
    "pycharm": {
     "name": "#%%\n"
    }
   }
  },
  {
   "cell_type": "code",
   "execution_count": 281,
   "outputs": [],
   "source": [
    "# Default product components\n",
    "product_name=\"Luke's machine\"\n",
    "components = ['gold','barite','copper concentrate, sulfide ore','iron ore concentrate']\n",
    "quantity = [0.01,100,100,90]\n",
    "plot_props = {'style':'white','font_scale':1.5,'cmap':plt.cm.get_cmap('tab10').colors}"
   ],
   "metadata": {
    "collapsed": false,
    "pycharm": {
     "name": "#%%\n"
    }
   }
  },
  {
   "cell_type": "code",
   "execution_count": 404,
   "outputs": [],
   "source": [
    "# Define function to plot footprint distribution according to components\n",
    "sns.set_theme(style=plot_props['style'], font_scale=plot_props['font_scale'])\n",
    "\n",
    "def get_footprint_dist(components:list,quantity:list,data:pd.DataFrame,provenance:list=False,name_col:str='name',plot:bool=True,\n",
    "                       plot_props:dict=None,product_name:str='Product',sea=False):\n",
    "    \"\"\"This function outputs the distribution of possible emissions due to a product according to its composition\\n\n",
    "    Inputs:\\n\n",
    "    components - list of product components\\n\n",
    "    quantity - quantity in kg of eah product\\n\n",
    "    data - dataframe containing emissions due to components\\n\n",
    "    name_col - column name for components in dataframe\\n\n",
    "    plot - True outputs distribution plot\\n\n",
    "    Outputs:\\n\n",
    "    emission_dist - dataframe of rows with emissions for each possible pathway\\n\n",
    "    plot - distribution plot with emissions according to each component\"\"\"\n",
    "    # Get database of process emissions according to components\n",
    "    proc_emissions = data.copy()[[i in components for i in data[name_col]]]\n",
    "    if provenance:\n",
    "        proc_emissions = proc_emissions.iloc[np.where(sum([np.logical_and(proc_emissions[name_col]==components[i], [k in prov for k in proc_emissions.location]) if 'Unknown' not in prov else proc_emissions[name_col]==components[i] for i, prov in enumerate(provenance)]))[0]]\n",
    "    proc_emissions.CO2e = proc_emissions.CO2e*[quantity[i] for i in [components.index(i) for i in proc_emissions[name_col]]]\n",
    "\n",
    "    # Find all possible supply chains\n",
    "    num_comps = len(components)\n",
    "    combinations = [proc_emissions[name_col][i] for i in [list(i) for i in list(itertools.combinations(proc_emissions.index, num_comps))]]\n",
    "    chains = [combinations[i] for i in np.where([len(set(i)) == num_comps for i in combinations])[0]]\n",
    "\n",
    "    # Get emissions for all possible supply chains\n",
    "    emission_dist = pd.DataFrame(np.asarray([proc_emissions.loc[i.index].CO2e for i in chains]),columns=np.sort(components))\n",
    "    emission_dist['Total']=emission_dist.sum(axis=1)\n",
    "    if sea:\n",
    "        # Default + update variables\n",
    "        rcps = {'cmap': plt.cm.get_cmap('tab10').colors, 'kind':'kde', 'fill':True, 'cut':0, 'log_scale':[False,True], 'height':7, 'aspect':1.5, 'alpha':0.65, 'title':product_name+' CO2e footprint\\n'+'Mean: '+str(round(emission_dist['Total'].mean(),2))+'t Stdev: '+str(round(emission_dist['Total'].std(),2))+'t','xlabel':'Emissions (t CO2e)', 'ylabel':'Probability'}\n",
    "        if plot_props: rcps.update(plot_props)\n",
    "        # Plot distributions\n",
    "        sns.displot(emission_dist, kind=rcps['kind'], fill=rcps['fill'], hue_order=np.flip(emission_dist.columns), cut=rcps['cut'], log_scale=rcps['log_scale'], height=rcps['height'], aspect=rcps['aspect'], alpha=rcps['alpha'], warn_singular=False).set(title=rcps['title'],xlabel=rcps['xlabel'], ylabel=rcps['ylabel'])\n",
    "        # Plot single lines for collapsed distributions\n",
    "        lines = np.flip([emission_dist[i].unique()[0] if len(emission_dist[i].unique())==1 else 0 for i in emission_dist.columns])\n",
    "        plt.vlines(lines,color=rcps['cmap'][:len(emission_dist.columns)], ymin=0, ymax=1, alpha=[i>0 for i in lines])\n",
    "        plt.show()\n",
    "    elif plot:\n",
    "        fig, ax = plt.subplots(1,1,figsize=[12,8])\n",
    "        for name, mu, sigma in zip(np.flip(emission_dist.columns), np.flip(np.mean(emission_dist)), np.flip(np.std(emission_dist))):\n",
    "            if sigma<0.1: sigma+=0.05*mu\n",
    "            x = np.linspace(mu-sigma, mu+3*sigma, 100)\n",
    "            ax.set_yscale('log'), ax.set_xlabel('Emissions (t CO2e)'), ax.set_ylabel('Probability')\n",
    "            ax.set_title(product_name+' CO2e footprint\\n'+'Mean: '+str(round(emission_dist['Total'].mean(),2))+'t Stdev: '+str(round(emission_dist['Total'].std(),2))+'t')\n",
    "            ax.set_ylim([5E-4,1])\n",
    "            ax.fill_between(x, stats.norm.pdf(x, mu, sigma),alpha=0.5,label=name)\n",
    "            ax.text(mu,max(stats.norm.pdf(x, mu, sigma)),round(mu))\n",
    "\n",
    "        ax.legend()\n",
    "        plt.show()\n",
    "    return emission_dist"
   ],
   "metadata": {
    "collapsed": false,
    "pycharm": {
     "name": "#%%\n"
    }
   }
  },
  {
   "cell_type": "code",
   "source": [
    "# Define components\n",
    "components_wg = ipw.SelectMultiple(options=production.name.unique(),value=components,rows=10,description='Components', disabled=False)\n",
    "display(components_wg)"
   ],
   "metadata": {
    "collapsed": false,
    "pycharm": {
     "name": "#%%\n"
    }
   },
   "execution_count": 400,
   "outputs": [
    {
     "data": {
      "text/plain": "SelectMultiple(description='Components', index=(13, 0, 7, 19), options=('barite', 'bauxite', 'bulk lead-zinc c…",
      "application/vnd.jupyter.widget-view+json": {
       "version_major": 2,
       "version_minor": 0,
       "model_id": "3c3b7de5dd224d96ba1f91c962200519"
      }
     },
     "metadata": {},
     "output_type": "display_data"
    }
   ]
  },
  {
   "cell_type": "code",
   "execution_count": 326,
   "outputs": [
    {
     "data": {
      "text/plain": "VBox(children=(HBox(children=(FloatLogSlider(value=0.01, description='gold', min=-3.0, step=0.01), FloatLogSli…",
      "application/vnd.jupyter.widget-view+json": {
       "version_major": 2,
       "version_minor": 0,
       "model_id": "fc89319fa4cb428dbe940eb596527fb6"
      }
     },
     "metadata": {},
     "output_type": "display_data"
    }
   ],
   "source": [
    "# Set quantities and provenance of components\n",
    "quantity_wg = ipw.HBox([ipw.FloatLogSlider(value=quantity[num], description=i, base=10, min=-3, max=4, step=0.01, disabled=False) for num,i in enumerate(list(components_wg.value))])\n",
    "provenance_wg = ipw.HBox([ipw.SelectMultiple(options=['Unknown']+list(production[production.name==j].location.values), description=j, value=['Unknown']) for j in list(components_wg.value)])\n",
    "display(ipw.VBox([quantity_wg,provenance_wg]))"
   ],
   "metadata": {
    "collapsed": false,
    "pycharm": {
     "name": "#%%\n"
    }
   }
  },
  {
   "cell_type": "code",
   "execution_count": 405,
   "outputs": [
    {
     "data": {
      "text/plain": "<Figure size 864x576 with 1 Axes>",
      "image/png": "[encoded data removed]"
     },
     "metadata": {},
     "output_type": "display_data"
    }
   ],
   "source": [
    "# Output footprint distributions for chosen product composition\n",
    "emission_dist = get_footprint_dist(list(components_wg.value),list(map(lambda i: i.value, quantity_wg.children)),production,\n",
    "                       provenance=list(map(lambda i: list(i.value), provenance_wg.children)), product_name=product_name)"
   ],
   "metadata": {
    "collapsed": false,
    "pycharm": {
     "name": "#%%\n"
    }
   }
  },
  {
   "cell_type": "code",
   "execution_count": 379,
   "outputs": [],
   "source": [
    "from floweaver import *\n",
    "from ipysankeywidget import SankeyWidget"
   ],
   "metadata": {
    "collapsed": false,
    "pycharm": {
     "name": "#%%\n"
    }
   }
  },
  {
   "cell_type": "code",
   "execution_count": 376,
   "outputs": [],
   "source": [
    "sankey_df = pd.DataFrame([],columns=['source', 'target','value'])\n",
    "sankey_df['source'] = emission_dist.columns[:-1].values\n",
    "sankey_df['target'] =[product_name]*len(emission_dist.columns[:-1])\n",
    "sankey_df['value'] = list(np.mean(emission_dist)[:-1])"
   ],
   "metadata": {
    "collapsed": false,
    "pycharm": {
     "name": "#%%\n"
    }
   }
  },
  {
   "cell_type": "code",
   "execution_count": 381,
   "outputs": [
    {
     "data": {
      "text/plain": "SankeyWidget(links=[{'source': 'barite', 'target': \"Luke's machine\", 'value': 2.6362512281179207}, {'source': …",
      "application/vnd.jupyter.widget-view+json": {
       "version_major": 2,
       "version_minor": 0,
       "model_id": "7d7ab038008d434cbc093417c3bac763"
      }
     },
     "metadata": {},
     "output_type": "display_data"
    }
   ],
   "source": [
    "from IPython.core.display import display\n",
    "display(SankeyWidget(links=sankey_df.to_dict('records')))"
   ],
   "metadata": {
    "collapsed": false,
    "pycharm": {
     "name": "#%%\n"
    }
   }
  },
  {
   "cell_type": "code",
   "execution_count": 399,
   "outputs": [
    {
     "data": {
      "text/plain": "{'format': 'sankey-v2',\n 'metadata': {'title': 'A Sankey diagram',\n  'authors': [],\n  'layers': ((('components^*',),), (('product^*',),))},\n 'nodes': [{'id': 'components^*',\n   'title': 'components',\n   'style': {'direction': 'r', 'hidden': False, 'type': 'process'}},\n  {'id': 'product^*',\n   'title': 'product',\n   'style': {'direction': 'r', 'hidden': False, 'type': 'process'}}],\n 'links': [{'source': 'components^*',\n   'target': 'product^*',\n   'type': '*',\n   'title': '*',\n   'time': '*',\n   'data': {'value': 338.7446457342479},\n   'style': {'color': '#FBB4AE', 'opacity': 1.0}}],\n 'groups': []}"
     },
     "execution_count": 399,
     "metadata": {},
     "output_type": "execute_result"
    }
   ],
   "source": [
    "\"\"\"Define diagram processes\"\"\"\n",
    "# Set the default size to fit the documentation better.\n",
    "size = dict(width=570, height=300)\n",
    "nodes = {\n",
    "    'components': ProcessGroup(list(sankey_df['source'])),\n",
    "    'product': ProcessGroup(list(sankey_df['target'])),\n",
    "}\n",
    "\"\"\"Define order of processes in diagram\"\"\"\n",
    "ordering = [\n",
    "    ['components'],       # put \"farms\" on the left...\n",
    "    ['product'],   # ... and \"customers\" on the right.\n",
    "]\n",
    "\"\"\"Define links between processes\"\"\"\n",
    "bundles = [\n",
    "    Bundle('components', 'product'),\n",
    "]\n",
    "\"\"\"Let's see our grouped Sankey\"\"\"\n",
    "sdd = SankeyDefinition(nodes, bundles, ordering)\n",
    "weave(sdd, sankey_df).to_json()"
   ],
   "metadata": {
    "collapsed": false,
    "pycharm": {
     "name": "#%%\n"
    }
   }
  },
  {
   "cell_type": "markdown",
   "source": [
    "# Importing from EcoSpold xml with pedigree matrices"
   ],
   "metadata": {
    "collapsed": false
   }
  },
  {
   "cell_type": "code",
   "execution_count": 25,
   "outputs": [
    {
     "data": {
      "text/plain": "      False meanValue     mu variance varianceWithPedigreeUncertainty\n0  blasting  7.73E-05  -9.47     0.02                          0.0367",
      "text/html": "<div>\n<style scoped>\n    .dataframe tbody tr th:only-of-type {\n        vertical-align: middle;\n    }\n\n    .dataframe tbody tr th {\n        vertical-align: top;\n    }\n\n    .dataframe thead th {\n        text-align: right;\n    }\n</style>\n<table border=\"1\" class=\"dataframe\">\n  <thead>\n    <tr style=\"text-align: right;\">\n      <th></th>\n      <th>False</th>\n      <th>meanValue</th>\n      <th>mu</th>\n      <th>variance</th>\n      <th>varianceWithPedigreeUncertainty</th>\n    </tr>\n  </thead>\n  <tbody>\n    <tr>\n      <th>0</th>\n      <td>blasting</td>\n      <td>7.73E-05</td>\n      <td>-9.47</td>\n      <td>0.02</td>\n      <td>0.0367</td>\n    </tr>\n  </tbody>\n</table>\n</div>"
     },
     "execution_count": 25,
     "metadata": {},
     "output_type": "execute_result"
    }
   ],
   "source": [
    "# Get data from all files into database\n",
    "#for file in files\n",
    "file = files[0]\n",
    "read_xml_attributes(spold_path+file,[['activityDataset','flowData','intermediateExchange','name'],['activityDataset','flowData','intermediateExchange','uncertainty','lognormal']],[[False],['meanValue','mu','variance','varianceWithPedigreeUncertainty']])"
   ],
   "metadata": {
    "collapsed": false,
    "pycharm": {
     "name": "#%%\n"
    }
   }
  },
  {
   "cell_type": "code",
   "execution_count": 83,
   "outputs": [],
   "source": [
    "spoldOrigin = '{http://www.EcoInvent.org/EcoSpold02}'\n",
    "path = ['activityDataset','flowData','intermediateExchange']\n",
    "assets = [['name'],['uncertainty','lognormal']]\n",
    "attributes = [False,['meanValue','mu','variance','varianceWithPedigreeUncertainty']]\n",
    "colNames = ['Process',False]"
   ],
   "metadata": {
    "collapsed": false,
    "pycharm": {
     "name": "#%%\n"
    }
   }
  },
  {
   "cell_type": "code",
   "execution_count": 272,
   "outputs": [
    {
     "name": "stdout",
     "output_type": "stream",
     "text": [
      "[                                 False\n",
      "0  asbestos production, crysotile type,   False\n",
      "0   GLO]\n",
      "[               False\n",
      "0  barite production,    False\n",
      "0  CA-QC]\n",
      "[                                      False\n",
      "0  boric acid production, anhydrous, powder,   False\n",
      "0   RER]\n",
      "[                                           False\n",
      "0  hard coal mine operation, open cast, dragline,   False\n",
      "0   GLO]\n",
      "[                                           False\n",
      "0  hard coal mine operation, open cast, dragline,   False\n",
      "0    ZA]\n",
      "[                                               False\n",
      "0  hard coal mine operation, open cast, truck and...,   False\n",
      "0   GLO]\n",
      "[                                               False\n",
      "0  hard coal mine operation, open cast, truck and...,   False\n",
      "0    ZA]\n",
      "[                                   False\n",
      "0  hard coal mine operation, underground,   False\n",
      "0   GLO]\n",
      "[                                   False\n",
      "0  hard coal mine operation, underground,   False\n",
      "0    ZA]\n",
      "[                   False\n",
      "0  hard coal preparation,   False\n",
      "0   GLO]\n",
      "[                   False\n",
      "0  hard coal preparation,   False\n",
      "0    IN]\n",
      "[                                 False\n",
      "0  hard coal preparation, coal washing,   False\n",
      "0   GLO]\n",
      "[                                 False\n",
      "0  hard coal preparation, coal washing,   False\n",
      "0    ZA]\n",
      "[                                               False\n",
      "0  bulk lead-zinc concentrate to generic markets ...,   False\n",
      "0   GLO]\n",
      "[                                           False\n",
      "0  hard coal preparation, crushing and destoning,   False\n",
      "0   GLO]\n",
      "[                                           False\n",
      "0  hard coal preparation, crushing and destoning,   False\n",
      "0    ZA]\n",
      "[                       False\n",
      "0  hard coal, import from AU,   False\n",
      "0    CN]\n",
      "[                       False\n",
      "0  hard coal, import from AU,                                False\n",
      "0  Europe, without Russia and Turkey]\n",
      "[                       False\n",
      "0  hard coal, import from AU,   False\n",
      "0    ID]\n",
      "[                       False\n",
      "0  hard coal, import from AU,   False\n",
      "0   RLA]\n",
      "[                       False\n",
      "0  hard coal, import from AU,   False\n",
      "0   RNA]\n",
      "[                       False\n",
      "0  hard coal, import from AU,   False\n",
      "0    ZA]\n",
      "[                              False\n",
      "0  hard coal, import from Australia,   False\n",
      "0    IN]\n",
      "[                       False\n",
      "0  hard coal, import from ID,   False\n",
      "0    CN]\n",
      "[                        False\n",
      "0  calcareous marl production,   False\n",
      "0    CH]\n",
      "[                       False\n",
      "0  hard coal, import from ID,                                False\n",
      "0  Europe, without Russia and Turkey]\n",
      "[                       False\n",
      "0  hard coal, import from ID,   False\n",
      "0   RLA]\n",
      "[                       False\n",
      "0  hard coal, import from ID,   False\n",
      "0   RNA]\n",
      "[                              False\n",
      "0  hard coal, import from Indonesia,   False\n",
      "0    IN]\n",
      "[                        False\n",
      "0  hard coal, import from RLA,   False\n",
      "0    CN]\n",
      "[                        False\n",
      "0  hard coal, import from RLA,                                False\n",
      "0  Europe, without Russia and Turkey]\n",
      "[                        False\n",
      "0  hard coal, import from RLA,   False\n",
      "0    IN]\n",
      "[                        False\n",
      "0  hard coal, import from RLA,   False\n",
      "0   RNA]\n",
      "[                        False\n",
      "0  hard coal, import from RNA,   False\n",
      "0    CN]\n",
      "[                        False\n",
      "0  hard coal, import from RNA,                                False\n",
      "0  Europe, without Russia and Turkey]\n",
      "[                        False\n",
      "0  calcareous marl production,   False\n",
      "0   GLO]\n",
      "[                        False\n",
      "0  hard coal, import from RNA,   False\n",
      "0    ID]\n",
      "[                        False\n",
      "0  hard coal, import from RNA,   False\n",
      "0    IN]\n",
      "[                        False\n",
      "0  hard coal, import from RNA,   False\n",
      "0   RLA]\n",
      "[                        False\n",
      "0  hard coal, import from RNA,   False\n",
      "0    ZA]\n",
      "[                       False\n",
      "0  hard coal, import from RU,   False\n",
      "0    CN]\n",
      "[                       False\n",
      "0  hard coal, import from RU,                                False\n",
      "0  Europe, without Russia and Turkey]\n",
      "[                       False\n",
      "0  hard coal, import from RU,   False\n",
      "0    IN]\n",
      "[                       False\n",
      "0  hard coal, import from ZA,                                False\n",
      "0  Europe, without Russia and Turkey]\n",
      "[                       False\n",
      "0  hard coal, import from ZA,   False\n",
      "0    IN]\n",
      "[                                            False\n",
      "0  hard coal, run-of-mine to market for hard coal,   False\n",
      "0   GLO]\n",
      "[                        False\n",
      "0  calcium borates production,   False\n",
      "0   GLO]\n",
      "[                                            False\n",
      "0  hard coal, run-of-mine to market for hard coal,   False\n",
      "0    IN]\n",
      "[                                 False\n",
      "0  heavy mineral sand quarry operation,   False\n",
      "0    AU]\n",
      "[                                 False\n",
      "0  heavy mineral sand quarry operation,   False\n",
      "0   GLO]\n",
      "[                                               False\n",
      "0  heavy mineral sand quarry operation and titani...,   False\n",
      "0   GLO]\n",
      "[                                               False\n",
      "0  heavy mineral sand quarry operation and titani...,   False\n",
      "0    ZA]\n",
      "[                                            False\n",
      "0  holmium oxide to generic market for mischmetal,   False\n",
      "0   GLO]\n",
      "[                                 False\n",
      "0  ilmenite - magnetite mine operation,   False\n",
      "0   GLO]\n",
      "[               False\n",
      "0  intral production,   False\n",
      "0   GLO]\n",
      "[               False\n",
      "0  intral production,   False\n",
      "0   RER]\n",
      "[                    False\n",
      "0  iron ore beneficiation,   False\n",
      "0   GLO]\n",
      "[                        False\n",
      "0  calcium borates production,   False\n",
      "0    TR]\n",
      "[                    False\n",
      "0  iron ore beneficiation,   False\n",
      "0    IN]\n",
      "[                                       False\n",
      "0  iron ore mine operation and beneficiation,    False\n",
      "0  CA-QC]\n",
      "[                                       False\n",
      "0  iron ore mine operation and beneficiation,   False\n",
      "0   GLO]\n",
      "[                             False\n",
      "0  iron ore mine operation, 46% Fe,   False\n",
      "0   GLO]\n",
      "[                             False\n",
      "0  iron ore mine operation, 63% Fe,   False\n",
      "0   GLO]\n",
      "[                             False\n",
      "0  iron ore mine operation, 63% Fe,   False\n",
      "0    IN]\n",
      "[               False\n",
      "0  kaolin production,   False\n",
      "0   GLO]\n",
      "[               False\n",
      "0  kaolin production,   False\n",
      "0   RER]\n",
      "[                                              False\n",
      "0  lanthanum oxide to generic market for mischmetal,   False\n",
      "0   GLO]\n",
      "[                                               False\n",
      "0  lanthanum-cerium oxide to generic market for m...,   False\n",
      "0   GLO]\n",
      "[                                           False\n",
      "0  cerium oxide to generic market for mischmetal,   False\n",
      "0   GLO]\n",
      "[                       False\n",
      "0  laterite quarry operation,   False\n",
      "0   GLO]\n",
      "[                       False\n",
      "0  laterite quarry operation,   False\n",
      "0    IN]\n",
      "[                    False\n",
      "0  lignite mine operation,   False\n",
      "0   GLO]\n",
      "[                    False\n",
      "0  lignite mine operation,   False\n",
      "0    IN]\n",
      "[                    False\n",
      "0  lignite mine operation,   False\n",
      "0   RER]\n",
      "[                    False\n",
      "0  lime production, algae,   False\n",
      "0    FR]\n",
      "[                    False\n",
      "0  lime production, algae,   False\n",
      "0   GLO]\n",
      "[                            False\n",
      "0  lime production, milled, loose,    False\n",
      "0  CA-QC]\n",
      "[                            False\n",
      "0  lime production, milled, loose,   False\n",
      "0    CH]\n",
      "[                            False\n",
      "0  lime production, milled, loose,                         False\n",
      "0  Europe without Switzerland]\n",
      "[                                 False\n",
      "0  chromite ore concentrate production,   False\n",
      "0   GLO]\n",
      "[                            False\n",
      "0  lime production, milled, loose,   False\n",
      "0   GLO]\n",
      "[                             False\n",
      "0  lime production, milled, packed,   False\n",
      "0    CH]\n",
      "[                             False\n",
      "0  lime production, milled, packed,                         False\n",
      "0  Europe without Switzerland]\n",
      "[                             False\n",
      "0  lime production, milled, packed,   False\n",
      "0   GLO]\n",
      "[                                              False\n",
      "0  lime to generic market for soil pH raising agent,   False\n",
      "0   GLO]\n",
      "[                                     False\n",
      "0  limestone production, crushed, for mill,    False\n",
      "0  CA-QC]\n",
      "[                                     False\n",
      "0  limestone production, crushed, for mill,   False\n",
      "0    CH]\n",
      "[                                     False\n",
      "0  limestone production, crushed, for mill,   False\n",
      "0   GLO]\n",
      "[                                     False\n",
      "0  limestone production, crushed, for mill,   False\n",
      "0    IN]\n",
      "[                                   False\n",
      "0  limestone production, crushed, washed,    False\n",
      "0  CA-QC]\n",
      "[                                 False\n",
      "0  chromite ore concentrate production,   False\n",
      "0    KZ]\n",
      "[                                   False\n",
      "0  limestone production, crushed, washed,   False\n",
      "0    CH]\n",
      "[                                   False\n",
      "0  limestone production, crushed, washed,   False\n",
      "0   GLO]\n",
      "[                        False\n",
      "0  limestone quarry operation,    False\n",
      "0  CA-QC]\n",
      "[                        False\n",
      "0  limestone quarry operation,   False\n",
      "0    CH]\n",
      "[                        False\n",
      "0  limestone quarry operation,   False\n",
      "0   GLO]\n",
      "[                        False\n",
      "0  limestone quarry operation,   False\n",
      "0    IN]\n",
      "[                                             False\n",
      "0  lutetium oxide to generic market for mischmetal,   False\n",
      "0   GLO]\n",
      "[                        False\n",
      "0  magnesium oxide production,   False\n",
      "0   GLO]\n",
      "[                        False\n",
      "0  magnesium oxide production,   False\n",
      "0   RER]\n",
      "[                          False\n",
      "0  magnesium sulfate production,   False\n",
      "0   GLO]\n",
      "[                False\n",
      "0  clay pit operation,   False\n",
      "0    CH]\n",
      "[                          False\n",
      "0  magnesium sulfate production,   False\n",
      "0   RER]\n",
      "[                False\n",
      "0  malusil production,   False\n",
      "0   GLO]\n",
      "[                False\n",
      "0  malusil production,   False\n",
      "0   RER]\n",
      "[                              False\n",
      "0  manganese concentrate production,   False\n",
      "0   GLO]\n",
      "[                False\n",
      "0  mercury production,   False\n",
      "0   GLO]\n",
      "[                                               False\n",
      "0  mine infrastructure construction, open cast, peat,   False\n",
      "0   GLO]\n",
      "[                                               False\n",
      "0  mine infrastructure construction, open cast, peat,     False\n",
      "0  NORDEL]\n",
      "[                                               False\n",
      "0  mine infrastructure construction, open cast, u...,   False\n",
      "0   GLO]\n",
      "[                                               False\n",
      "0  mine infrastructure construction, open cast, u...,   False\n",
      "0   RNA]\n",
      "[                                               False\n",
      "0  mine infrastructure construction, underground,...,   False\n",
      "0   GLO]\n",
      "[               False\n",
      "0  barite production,   False\n",
      "0   GLO]\n",
      "[                False\n",
      "0  clay pit operation,   False\n",
      "0   GLO]\n",
      "[                                               False\n",
      "0  mine infrastructure construction, underground,...,   False\n",
      "0   RNA]\n",
      "[                        False\n",
      "0  molybdenite mine operation,   False\n",
      "0   GLO]\n",
      "[                                     False\n",
      "0  natural gas processing plant production,   False\n",
      "0   GLO]\n",
      "[                    False\n",
      "0  natural gas production,    False\n",
      "0  CA-AB]\n",
      "[                    False\n",
      "0  natural gas production,   False\n",
      "0    DE]\n",
      "[                    False\n",
      "0  natural gas production,   False\n",
      "0    DZ]\n",
      "[                    False\n",
      "0  natural gas production,   False\n",
      "0   GLO]\n",
      "[                    False\n",
      "0  natural gas production,   False\n",
      "0    RU]\n",
      "[                    False\n",
      "0  natural gas production,   False\n",
      "0    US]\n",
      "[                               False\n",
      "0  natural gas production, liquefied,   False\n",
      "0    DZ]\n",
      "[                                               False\n",
      "0  copper mine operation and beneficiation, sulfi...,   False\n",
      "0    AU]\n",
      "[                               False\n",
      "0  natural gas production, liquefied,   False\n",
      "0   GLO]\n",
      "[                               False\n",
      "0  natural gas production, liquefied,   False\n",
      "0   RME]\n",
      "[                                               False\n",
      "0  natural gas production, unprocessed, at extrac...,   False\n",
      "0   GLO]\n",
      "[                                               False\n",
      "0  natural gas venting from petroleum/natural gas...,   False\n",
      "0   GLO]\n",
      "[                                              False\n",
      "0  neodymium oxide to generic market for mischmetal,   False\n",
      "0   GLO]\n",
      "[                                               False\n",
      "0  niobium mine operation and beneficiation, from...,   False\n",
      "0    BR]\n",
      "[                                               False\n",
      "0  niobium mine operation and beneficiation, from...,   False\n",
      "0   GLO]\n",
      "[                               False\n",
      "0  offshore well production, oil/gas,   False\n",
      "0   GLO]\n",
      "[                                               False\n",
      "0  onshore natural gas field infrastructure produ...,   False\n",
      "0   GLO]\n",
      "[                                               False\n",
      "0  onshore petroleum field infrastructure constru...,   False\n",
      "0   GLO]\n",
      "[                                               False\n",
      "0  copper mine operation and beneficiation, sulfi...,   False\n",
      "0    CA]\n",
      "[                              False\n",
      "0  onshore well production, oil/gas,   False\n",
      "0   GLO]\n",
      "[                                     False\n",
      "0  peat moss production, horticultural use,    False\n",
      "0  CA-QC]\n",
      "[                                     False\n",
      "0  peat moss production, horticultural use,   False\n",
      "0   GLO]\n",
      "[             False\n",
      "0  peat production,   False\n",
      "0   GLO]\n",
      "[             False\n",
      "0  peat production,     False\n",
      "0  NORDEL]\n",
      "[                      False\n",
      "0  perlite quarry operation,   False\n",
      "0    DE]\n",
      "[                      False\n",
      "0  perlite quarry operation,   False\n",
      "0   GLO]\n",
      "[                                     False\n",
      "0  petroleum and gas production, off-shore,   False\n",
      "0    BR]\n",
      "[                                     False\n",
      "0  petroleum and gas production, off-shore,   False\n",
      "0    GB]\n",
      "[                                     False\n",
      "0  petroleum and gas production, off-shore,   False\n",
      "0   GLO]\n",
      "[                                               False\n",
      "0  copper mine operation and beneficiation, sulfi...,   False\n",
      "0    CL]\n",
      "[                                     False\n",
      "0  petroleum and gas production, off-shore,   False\n",
      "0    NL]\n",
      "[                                     False\n",
      "0  petroleum and gas production, off-shore,   False\n",
      "0    NO]\n",
      "[                                    False\n",
      "0  petroleum and gas production, on-shore,   False\n",
      "0    BO]\n",
      "[                                    False\n",
      "0  petroleum and gas production, on-shore,   False\n",
      "0    BR]\n",
      "[                                    False\n",
      "0  petroleum and gas production, on-shore,    False\n",
      "0  CA-AB]\n",
      "[                                    False\n",
      "0  petroleum and gas production, on-shore,   False\n",
      "0   GLO]\n",
      "[                                    False\n",
      "0  petroleum and gas production, on-shore,   False\n",
      "0    NG]\n",
      "[                                    False\n",
      "0  petroleum and gas production, on-shore,   False\n",
      "0    NL]\n",
      "[                                    False\n",
      "0  petroleum and gas production, on-shore,   False\n",
      "0    US]\n",
      "[                                     False\n",
      "0  petroleum combustion, in drilling tests,   False\n",
      "0   GLO]\n",
      "[                                               False\n",
      "0  copper mine operation and beneficiation, sulfi...,   False\n",
      "0    CN]\n",
      "[                           False\n",
      "0  petroleum production, onshore,   False\n",
      "0   GLO]\n",
      "[                           False\n",
      "0  petroleum production, onshore,   False\n",
      "0   RAF]\n",
      "[                           False\n",
      "0  petroleum production, onshore,   False\n",
      "0   RME]\n",
      "[                           False\n",
      "0  petroleum production, onshore,   False\n",
      "0    RU]\n",
      "[                          False\n",
      "0  phosphate rock beneficiation,   False\n",
      "0   GLO]\n",
      "[                          False\n",
      "0  phosphate rock beneficiation,   False\n",
      "0    MA]\n",
      "[                          False\n",
      "0  phosphate rock beneficiation,   False\n",
      "0   RER]\n",
      "[                          False\n",
      "0  phosphate rock beneficiation,   False\n",
      "0    US]\n",
      "[                                               False\n",
      "0  platinum group metal mine operation, ore with ...,   False\n",
      "0   GLO]\n",
      "[                                               False\n",
      "0  platinum group metal mine operation, ore with ...,   False\n",
      "0    RU]\n",
      "[                                               False\n",
      "0  copper mine operation and beneficiation, sulfi...,   False\n",
      "0   GLO]\n",
      "[                                               False\n",
      "0  platinum group metal, mine and concentration o...,   False\n",
      "0   GLO]\n",
      "[                                               False\n",
      "0  platinum group metal, mine and concentration o...,   False\n",
      "0    ZA]\n",
      "[                   False\n",
      "0  portachrom production,   False\n",
      "0   GLO]\n",
      "[                   False\n",
      "0  portachrom production,   False\n",
      "0   RER]\n",
      "[                 False\n",
      "0  portafer production,    False\n",
      "0  CA-QC]\n",
      "[                 False\n",
      "0  portafer production,   False\n",
      "0   GLO]\n",
      "[                 False\n",
      "0  portafer production,   False\n",
      "0   RER]\n",
      "[                    False\n",
      "0  potash salt production,   False\n",
      "0   GLO]\n",
      "[                    False\n",
      "0  potash salt production,   False\n",
      "0   RER]\n",
      "[                                               False\n",
      "0  praseodymium oxide to generic market for misch...,   False\n",
      "0   GLO]\n",
      "[                                               False\n",
      "0  copper mine operation and beneficiation, sulfi...,   False\n",
      "0    ID]\n",
      "[                                               False\n",
      "0  praseodymium-neodymium oxide to generic market...,   False\n",
      "0   GLO]\n",
      "[                     False\n",
      "0  pumice quarry operation,   False\n",
      "0    DE]\n",
      "[                     False\n",
      "0  pumice quarry operation,   False\n",
      "0   GLO]\n",
      "[                                               False\n",
      "0  rare earth element mine operation and benefici...,    False\n",
      "0  CN-NM]\n",
      "[                                               False\n",
      "0  rare earth element mine operation and benefici...,   False\n",
      "0   GLO]\n",
      "[                                               False\n",
      "0  rare earth element mine operation and benefici...,    False\n",
      "0  CN-SC]\n",
      "[                                               False\n",
      "0  rare earth element mine operation and benefici...,   False\n",
      "0   GLO]\n",
      "[                                               False\n",
      "0  rare earth element mine operation and benefici...,   False\n",
      "0    CN]\n",
      "[                                               False\n",
      "0  rare earth element mine operation and benefici...,   False\n",
      "0   GLO]\n",
      "[                                               False\n",
      "0  rare earth oxides production, from rare earth ...,    False\n",
      "0  CN-FJ]\n",
      "[                                               False\n",
      "0  copper mine operation and beneficiation, sulfi...,   False\n",
      "0    KZ]\n",
      "[                                               False\n",
      "0  rare earth oxides production, from rare earth ...,   False\n",
      "0   GLO]\n",
      "[                                               False\n",
      "0  rare earth oxides production, from rare earth ...,    False\n",
      "0  CN-NM]\n",
      "[                                               False\n",
      "0  rare earth oxides production, from rare earth ...,   False\n",
      "0   GLO]\n",
      "[                                               False\n",
      "0  rare earth oxides production, from rare earth ...,    False\n",
      "0  CN-SC]\n",
      "[                                               False\n",
      "0  rare earth oxides production, from rare earth ...,   False\n",
      "0   GLO]\n",
      "[                                             False\n",
      "0  salt production from seawater, evaporation pond,   False\n",
      "0   GLO]\n",
      "[                                               False\n",
      "0  samarium europium gadolinium concentrate to ge...,   False\n",
      "0   GLO]\n",
      "[                                             False\n",
      "0  samarium oxide to generic market for mischmetal,   False\n",
      "0   GLO]\n",
      "[                                              False\n",
      "0  sand quarry operation, extraction from river bed,   False\n",
      "0    BR]\n",
      "[                                              False\n",
      "0  sand quarry operation, extraction from river bed,   False\n",
      "0   GLO]\n",
      "[                                               False\n",
      "0  copper mine operation and beneficiation, sulfi...,   False\n",
      "0    RU]\n",
      "[                                              False\n",
      "0  sand quarry operation, extraction from river bed,   False\n",
      "0    IN]\n",
      "[                                  False\n",
      "0  sand quarry operation, open pit mine,   False\n",
      "0    BR]\n",
      "[                                  False\n",
      "0  sand quarry operation, open pit mine,   False\n",
      "0   GLO]\n",
      "[                    False\n",
      "0  shale quarry operation,    False\n",
      "0  CA-QC]\n",
      "[                    False\n",
      "0  shale quarry operation,   False\n",
      "0   GLO]\n",
      "[                    False\n",
      "0  silica sand production,   False\n",
      "0    DE]\n",
      "[                    False\n",
      "0  silica sand production,   False\n",
      "0   GLO]\n",
      "[                                   False\n",
      "0  silver mine operation with extraction,   False\n",
      "0   GLO]\n",
      "[                                   False\n",
      "0  silver mine operation with extraction,   False\n",
      "0    PE]\n",
      "[                                      False\n",
      "0  silver-gold mine operation with refinery,   False\n",
      "0    CL]\n",
      "[                                               False\n",
      "0  copper mine operation and beneficiation, sulfi...,   False\n",
      "0    US]\n",
      "[                                      False\n",
      "0  silver-gold mine operation with refinery,   False\n",
      "0   GLO]\n",
      "[                       False\n",
      "0  sodium borates production,   False\n",
      "0   GLO]\n",
      "[                       False\n",
      "0  sodium borates production,   False\n",
      "0    US]\n",
      "[                                        False\n",
      "0  sodium chloride production, brine solution,   False\n",
      "0   GLO]\n",
      "[                                        False\n",
      "0  sodium chloride production, brine solution,   False\n",
      "0   RER]\n",
      "[                                False\n",
      "0  sodium chloride production, powder,   False\n",
      "0   GLO]\n",
      "[                                False\n",
      "0  sodium chloride production, powder,   False\n",
      "0   RER]\n",
      "[                  False\n",
      "0  spodumene production,   False\n",
      "0    AU]\n",
      "[                  False\n",
      "0  spodumene production,   False\n",
      "0   GLO]\n",
      "[                       False\n",
      "0  steatite quarry operation,    False\n",
      "0  CA-QC]\n",
      "[               False\n",
      "0  barite production,   False\n",
      "0   RER]\n",
      "[                                               False\n",
      "0  copper mine operation and beneficiation, sulfi...,   False\n",
      "0    ZM]\n",
      "[                       False\n",
      "0  steatite quarry operation,   False\n",
      "0   GLO]\n",
      "[                                   False\n",
      "0  stibnite mine operation, 70% stibnite,    False\n",
      "0  CA-QC]\n",
      "[                                   False\n",
      "0  stibnite mine operation, 70% stibnite,   False\n",
      "0    CN]\n",
      "[                                   False\n",
      "0  stibnite mine operation, 70% stibnite,   False\n",
      "0   GLO]\n",
      "[                                            False\n",
      "0  stimulation of deep well, for geothermal power,   False\n",
      "0    CH]\n",
      "[                                            False\n",
      "0  stimulation of deep well, for geothermal power,   False\n",
      "0   GLO]\n",
      "[                   False\n",
      "0  stone meal production,   False\n",
      "0    CH]\n",
      "[                   False\n",
      "0  stone meal production,   False\n",
      "0   GLO]\n",
      "[                                        False\n",
      "0  strontium mine operation and beneficiation,   False\n",
      "0    CN]\n",
      "[                                        False\n",
      "0  strontium mine operation and beneficiation,   False\n",
      "0    ES]\n",
      "[                                               False\n",
      "0  deep well closure, for geothermal power, onsho...,   False\n",
      "0   GLO]\n",
      "[                                        False\n",
      "0  strontium mine operation and beneficiation,   False\n",
      "0   GLO]\n",
      "[                     False\n",
      "0  sweetening, natural gas,   False\n",
      "0    DE]\n",
      "[                     False\n",
      "0  sweetening, natural gas,   False\n",
      "0   GLO]\n",
      "[                                       False\n",
      "0  tantalum mine operation and beneficiation,   False\n",
      "0    CD]\n",
      "[                                       False\n",
      "0  tantalum mine operation and beneficiation,   False\n",
      "0   GLO]\n",
      "[                                       False\n",
      "0  tantalum mine operation and beneficiation,   False\n",
      "0    RW]\n",
      "[                                            False\n",
      "0  terbium oxide to generic market for mischmetal,   False\n",
      "0   GLO]\n",
      "[                                               False\n",
      "0  terbium-dysprosium oxide to generic market for...,   False\n",
      "0   GLO]\n",
      "[                                            False\n",
      "0  thulium oxide to generic market for mischmetal,   False\n",
      "0   GLO]\n",
      "[                False\n",
      "0  tin mine operation,   False\n",
      "0   GLO]\n",
      "[                                           False\n",
      "0  deep well drilling, for deep geothermal power,   False\n",
      "0    AT]\n",
      "[                False\n",
      "0  tin mine operation,   False\n",
      "0    PE]\n",
      "[                                               False\n",
      "0  treatment of sulfidic tailing, off-site, high ...,   False\n",
      "0   GLO]\n",
      "[                                               False\n",
      "0  treatment of sulfidic tailing, off-site, high ...,   False\n",
      "0    ZA]\n",
      "[                                               False\n",
      "0  treatment of waste natural gas, sour, burned i...,   False\n",
      "0   GLO]\n",
      "[                                               False\n",
      "0  treatment of waste natural gas, sweet, burned ...,   False\n",
      "0   GLO]\n",
      "[                                               False\n",
      "0  treatment of water discharge from petroleum ex...,   False\n",
      "0   GLO]\n",
      "[                                               False\n",
      "0  treatment of water discharge from petroleum/na...,   False\n",
      "0   GLO]\n",
      "[                                       False\n",
      "0  tungsten mine operation and beneficiation,   False\n",
      "0    CN]\n",
      "[                                       False\n",
      "0  tungsten mine operation and beneficiation,   False\n",
      "0   GLO]\n",
      "[                               False\n",
      "0  uranium mine operation, open cast,   False\n",
      "0   GLO]\n",
      "[                                           False\n",
      "0  deep well drilling, for deep geothermal power,   False\n",
      "0    CH]\n",
      "[                               False\n",
      "0  uranium mine operation, open cast,   False\n",
      "0   RNA]\n",
      "[                                 False\n",
      "0  uranium mine operation, underground,   False\n",
      "0   GLO]\n",
      "[                                 False\n",
      "0  uranium mine operation, underground,   False\n",
      "0   RNA]\n",
      "[                               False\n",
      "0  uranium production, in yellowcake,   False\n",
      "0   GLO]\n",
      "[                               False\n",
      "0  uranium production, in yellowcake,   False\n",
      "0   RNA]\n",
      "[                                               False\n",
      "0  uranium production, in yellowcake, in-situ lea...,   False\n",
      "0   GLO]\n",
      "[                                               False\n",
      "0  vanadium-titanomagnetite mine operation and be...,   False\n",
      "0    CN]\n",
      "[                                               False\n",
      "0  vanadium-titanomagnetite mine operation and be...,   False\n",
      "0   GLO]\n",
      "[                        False\n",
      "0  vermiculite mine operation,   False\n",
      "0   GLO]\n",
      "[                        False\n",
      "0  vermiculite mine operation,   False\n",
      "0    ZA]\n",
      "[                                           False\n",
      "0  deep well drilling, for deep geothermal power,   False\n",
      "0    CR]\n",
      "[                                              False\n",
      "0  ytterbium oxide to generic market for mischmetal,   False\n",
      "0   GLO]\n",
      "[                                            False\n",
      "0  yttrium oxide to generic market for mischmetal,   False\n",
      "0   GLO]\n",
      "[                 False\n",
      "0  zinc mine operation,   False\n",
      "0   GLO]\n",
      "[                                           False\n",
      "0  deep well drilling, for deep geothermal power,   False\n",
      "0    DE]\n",
      "[                                           False\n",
      "0  deep well drilling, for deep geothermal power,   False\n",
      "0   GLO]\n",
      "[                                           False\n",
      "0  deep well drilling, for deep geothermal power,   False\n",
      "0    ID]\n",
      "[                                           False\n",
      "0  deep well drilling, for deep geothermal power,   False\n",
      "0    IS]\n",
      "[                                           False\n",
      "0  deep well drilling, for deep geothermal power,   False\n",
      "0    IT]\n",
      "[                     False\n",
      "0  basalt quarry operation,   False\n",
      "0   GLO]\n",
      "[                                           False\n",
      "0  deep well drilling, for deep geothermal power,   False\n",
      "0    JP]\n",
      "[                                           False\n",
      "0  deep well drilling, for deep geothermal power,   False\n",
      "0    KE]\n",
      "[                                           False\n",
      "0  deep well drilling, for deep geothermal power,   False\n",
      "0    MX]\n",
      "[                                           False\n",
      "0  deep well drilling, for deep geothermal power,   False\n",
      "0    NI]\n",
      "[                                           False\n",
      "0  deep well drilling, for deep geothermal power,   False\n",
      "0    NZ]\n",
      "[                                           False\n",
      "0  deep well drilling, for deep geothermal power,   False\n",
      "0    PH]\n",
      "[                                           False\n",
      "0  deep well drilling, for deep geothermal power,   False\n",
      "0    PT]\n",
      "[                                           False\n",
      "0  deep well drilling, for deep geothermal power,   False\n",
      "0    RU]\n",
      "[                                           False\n",
      "0  deep well drilling, for deep geothermal power,   False\n",
      "0    SV]\n",
      "[                                           False\n",
      "0  deep well drilling, for deep geothermal power,   False\n",
      "0    TH]\n",
      "[                     False\n",
      "0  basalt quarry operation,   False\n",
      "0   RER]\n",
      "[                                           False\n",
      "0  deep well drilling, for deep geothermal power,   False\n",
      "0    TR]\n",
      "[                                           False\n",
      "0  deep well drilling, for deep geothermal power,      False\n",
      "0  US-HICC]\n",
      "[                                           False\n",
      "0  deep well drilling, for deep geothermal power,   False\n",
      "0  WECC]\n",
      "[                                               False\n",
      "0  deep well drilling, for geothermal power, onsh...,   False\n",
      "0   GLO]\n",
      "[                 False\n",
      "0  dolomite production,   False\n",
      "0   GLO]\n",
      "[                 False\n",
      "0  dolomite production,   False\n",
      "0   RER]\n",
      "[                                               False\n",
      "0  dysprosium oxide to generic market for mischmetal,   False\n",
      "0   GLO]\n",
      "[                                           False\n",
      "0  erbium oxide to generic market for mischmetal,   False\n",
      "0   GLO]\n",
      "[                                             False\n",
      "0  europium oxide to generic market for mischmetal,   False\n",
      "0   GLO]\n",
      "[                              False\n",
      "0  fluorspar production, 97% purity,   False\n",
      "0   GLO]\n",
      "[                    False\n",
      "0  bauxite mine operation,   False\n",
      "0   GLO]\n",
      "[                                               False\n",
      "0  gadolinium oxide to generic market for mischmetal,   False\n",
      "0   GLO]\n",
      "[                                               False\n",
      "0  gold mine operation and gold production, unref...,   False\n",
      "0   GLO]\n",
      "[                                               False\n",
      "0  gold mine operation and gold production, unref...,   False\n",
      "0    ZA]\n",
      "[                              False\n",
      "0  gold mine operation and refining,   False\n",
      "0   GLO]\n",
      "[                              False\n",
      "0  gold mine operation and refining,   False\n",
      "0    SE]\n",
      "[             False\n",
      "0  gold production,   False\n",
      "0    AU]\n",
      "[             False\n",
      "0  gold production,   False\n",
      "0    CA]\n",
      "[             False\n",
      "0  gold production,   False\n",
      "0   GLO]\n",
      "[             False\n",
      "0  gold production,   False\n",
      "0    TZ]\n",
      "[             False\n",
      "0  gold production,   False\n",
      "0    US]\n",
      "[                        False\n",
      "0  bentonite quarry operation,   False\n",
      "0    DE]\n",
      "[                     False\n",
      "0  gold refinery operation,   False\n",
      "0   GLO]\n",
      "[                     False\n",
      "0  gold refinery operation,   False\n",
      "0    ZA]\n",
      "[                                          False\n",
      "0  gold-silver mine operation and beneficiation,    False\n",
      "0  CA-QC]\n",
      "[                                          False\n",
      "0  gold-silver mine operation and beneficiation,   False\n",
      "0   GLO]\n",
      "[                                      False\n",
      "0  gold-silver mine operation with refinery,    False\n",
      "0  CA-QC]\n",
      "[                                      False\n",
      "0  gold-silver mine operation with refinery,   False\n",
      "0   GLO]\n",
      "[                                      False\n",
      "0  gold-silver mine operation with refinery,   False\n",
      "0    PG]\n",
      "[                 False\n",
      "0  graphite production,   False\n",
      "0   GLO]\n",
      "[                 False\n",
      "0  graphite production,   False\n",
      "0   RER]\n",
      "[                              False\n",
      "0  gravel and sand quarry operation,   False\n",
      "0    CH]\n",
      "[                        False\n",
      "0  bentonite quarry operation,   False\n",
      "0   GLO]\n",
      "[                              False\n",
      "0  gravel and sand quarry operation,   False\n",
      "0   GLO]\n",
      "[                        False\n",
      "0  gravel production, crushed,   False\n",
      "0    BR]\n",
      "[                        False\n",
      "0  gravel production, crushed,    False\n",
      "0  CA-QC]\n",
      "[                        False\n",
      "0  gravel production, crushed,   False\n",
      "0    CH]\n",
      "[                        False\n",
      "0  gravel production, crushed,   False\n",
      "0   GLO]\n",
      "[                        False\n",
      "0  gravel production, crushed,   False\n",
      "0    IN]\n",
      "[                     False\n",
      "0  gypsum quarry operation,   False\n",
      "0    CH]\n",
      "[                     False\n",
      "0  gypsum quarry operation,   False\n",
      "0   GLO]\n",
      "[                     False\n",
      "0  gypsum quarry operation,   False\n",
      "0    IN]\n",
      "[                     False\n",
      "0  gypsum quarry operation,   False\n",
      "0    ZA]\n",
      "[                                      False\n",
      "0  boric acid production, anhydrous, powder,   False\n",
      "0   GLO]\n",
      "[                      False\n",
      "0  hard coal mine operation,   False\n",
      "0   GLO]\n",
      "[                      False\n",
      "0  hard coal mine operation,   False\n",
      "0    IN]\n",
      "[                                               False\n",
      "0  hard coal mine operation and hard coal prepara...,   False\n",
      "0    AU]\n",
      "[                                               False\n",
      "0  hard coal mine operation and hard coal prepara...,   False\n",
      "0    CN]\n",
      "[                                               False\n",
      "0  hard coal mine operation and hard coal prepara...,                                False\n",
      "0  Europe, without Russia and Turkey]\n",
      "[                                               False\n",
      "0  hard coal mine operation and hard coal prepara...,   False\n",
      "0   GLO]\n",
      "[                                               False\n",
      "0  hard coal mine operation and hard coal prepara...,   False\n",
      "0    ID]\n",
      "[                                               False\n",
      "0  hard coal mine operation and hard coal prepara...,   False\n",
      "0   RLA]\n",
      "[                                               False\n",
      "0  hard coal mine operation and hard coal prepara...,   False\n",
      "0   RNA]\n",
      "[                                               False\n",
      "0  hard coal mine operation and hard coal prepara...,   False\n",
      "0    RU]\n"
     ]
    }
   ],
   "source": [
    "files = os.listdir(inOutPath)\n",
    "defaultVariance = 0.3\n",
    "variance = np.ones([1,len(production)])*defaultVariance\n",
    "\n",
    "for file in files:\n",
    "    if 'inner' in globals(): del(inner, outer)\n",
    "    root = ET.parse(inOutPath+file)\n",
    "    df = pd.DataFrame([],columns=list(itertools.chain.from_iterable([[name] if name else attributes[colNum] for colNum, name in enumerate(colNames)])))\n",
    "    elements = root.findall(\"//\".join(list(map(lambda x: spoldOrigin+x,path))))\n",
    "    for assetNum, asset in enumerate(assets[:-1]):\n",
    "        for element in elements:\n",
    "            current = element.find(\"//\".join(list(map(lambda x: spoldOrigin+x,asset))))\n",
    "            next = element.find(\"//\".join(list(map(lambda x: spoldOrigin+x,assets[assetNum+1]))))\n",
    "            current_att = current.attrib[attributes[assetNum]] if attributes[assetNum] else current.text\n",
    "            if next is not None:\n",
    "                next_att = [next.attrib[i] for i in attributes[assetNum+1]] if attributes[assetNum+1] else next.text\n",
    "            else: next_att=None\n",
    "            outer = outer+[current_att] if 'outer' in globals() else [current_att]\n",
    "            inner = inner+[next_att] if 'inner' in globals() else [next_att]\n",
    "\n",
    "    properties = [read_xml_attributes(inOutPath+file,path,[False]) for path in [['activityDataset','activityDescription','activity','activityName'],['activityDataset','activityDescription','geography','shortname']]]\n",
    "    print(properties)\n",
    "    sgl_process = dict(zip(['Process','Location'], list(map(lambda x: x.values[0][0], properties))))\n",
    "    sgl_process.update({'Elements':outer,'Uncertainties':inner})\n",
    "\n",
    "    prod_match = list(map(lambda x: list(map(lambda y: y in x, production['name'])), [sgl_process['Process']]))\n",
    "    loc_match = list(map(lambda x: list(map(lambda y: y in x, production['location'])), [sgl_process['Location']]))\n",
    "    correspondence = list(np.where(np.array(prod_match)+np.array(loc_match)==2))[1]\n",
    "    if correspondence.size > 0:\n",
    "        totals = [sum(list(map(float,[i[elem] if i else 0 for i in sgl_process['Uncertainties']]))) for elem in [1,3]]\n",
    "        variance[correspondence] = abs(totals[1]/totals[0])\n",
    "\n",
    "\n",
    "    # columns = colNames[pathNum] if colNames[pathNum] else str(attributes[pathNum])[1:-1]\n",
    "    # print(columns)\n",
    "    #  = np.array(list(map(lambda x: x.text if attributes[pathNum] is False else x.attrib, all_vals)))"
   ],
   "metadata": {
    "collapsed": false,
    "pycharm": {
     "name": "#%%\n"
    }
   }
  },
  {
   "cell_type": "code",
   "execution_count": 273,
   "outputs": [
    {
     "data": {
      "text/plain": "                                name  \\\n249                           barite   \n241                           barite   \n142                          bauxite   \n114       bulk lead-zinc concentrate   \n224  calcium carbonate, precipitated   \n..                               ...   \n51                  zinc concentrate   \n126                 zinc concentrate   \n226            zircon, 50% zirconium   \n192            zircon, 50% zirconium   \n108            zircon, 50% zirconium   \n\n                                        generalComment location      CO2e  \n249  This dataset refers to the production of 1 kg ...       BR  0.020889  \n241  This dataset has been copied from an original ...      RoW  0.031836  \n142  Average moisture content of bauxite is approxi...      GLO  0.012219  \n114  The multi-output \"zinc mine operation\" process...      GLO  0.418987  \n224  For the separation and refining of rare earth ...    CN-SC  3.496398  \n..                                                 ...      ...       ...  \n51   From metal containing ore extraction from the ...    CA-QC  0.463061  \n126  The multi-output \"zinc mine operation\" process...      GLO  0.438609  \n226  Heavy mineral sands are a class of ore deposit...       ZA  1.319584  \n192  This dataset refers to the production of 1 kg ...       AU  0.410540  \n108  This dataset refers to the production of 1 kg ...      RoW  0.337368  \n\n[166 rows x 4 columns]",
      "text/html": "<div>\n<style scoped>\n    .dataframe tbody tr th:only-of-type {\n        vertical-align: middle;\n    }\n\n    .dataframe tbody tr th {\n        vertical-align: top;\n    }\n\n    .dataframe thead th {\n        text-align: right;\n    }\n</style>\n<table border=\"1\" class=\"dataframe\">\n  <thead>\n    <tr style=\"text-align: right;\">\n      <th></th>\n      <th>name</th>\n      <th>generalComment</th>\n      <th>location</th>\n      <th>CO2e</th>\n    </tr>\n  </thead>\n  <tbody>\n    <tr>\n      <th>249</th>\n      <td>barite</td>\n      <td>This dataset refers to the production of 1 kg ...</td>\n      <td>BR</td>\n      <td>0.020889</td>\n    </tr>\n    <tr>\n      <th>241</th>\n      <td>barite</td>\n      <td>This dataset has been copied from an original ...</td>\n      <td>RoW</td>\n      <td>0.031836</td>\n    </tr>\n    <tr>\n      <th>142</th>\n      <td>bauxite</td>\n      <td>Average moisture content of bauxite is approxi...</td>\n      <td>GLO</td>\n      <td>0.012219</td>\n    </tr>\n    <tr>\n      <th>114</th>\n      <td>bulk lead-zinc concentrate</td>\n      <td>The multi-output \"zinc mine operation\" process...</td>\n      <td>GLO</td>\n      <td>0.418987</td>\n    </tr>\n    <tr>\n      <th>224</th>\n      <td>calcium carbonate, precipitated</td>\n      <td>For the separation and refining of rare earth ...</td>\n      <td>CN-SC</td>\n      <td>3.496398</td>\n    </tr>\n    <tr>\n      <th>...</th>\n      <td>...</td>\n      <td>...</td>\n      <td>...</td>\n      <td>...</td>\n    </tr>\n    <tr>\n      <th>51</th>\n      <td>zinc concentrate</td>\n      <td>From metal containing ore extraction from the ...</td>\n      <td>CA-QC</td>\n      <td>0.463061</td>\n    </tr>\n    <tr>\n      <th>126</th>\n      <td>zinc concentrate</td>\n      <td>The multi-output \"zinc mine operation\" process...</td>\n      <td>GLO</td>\n      <td>0.438609</td>\n    </tr>\n    <tr>\n      <th>226</th>\n      <td>zircon, 50% zirconium</td>\n      <td>Heavy mineral sands are a class of ore deposit...</td>\n      <td>ZA</td>\n      <td>1.319584</td>\n    </tr>\n    <tr>\n      <th>192</th>\n      <td>zircon, 50% zirconium</td>\n      <td>This dataset refers to the production of 1 kg ...</td>\n      <td>AU</td>\n      <td>0.410540</td>\n    </tr>\n    <tr>\n      <th>108</th>\n      <td>zircon, 50% zirconium</td>\n      <td>This dataset refers to the production of 1 kg ...</td>\n      <td>RoW</td>\n      <td>0.337368</td>\n    </tr>\n  </tbody>\n</table>\n<p>166 rows × 4 columns</p>\n</div>"
     },
     "execution_count": 273,
     "metadata": {},
     "output_type": "execute_result"
    }
   ],
   "source": [
    "production"
   ],
   "metadata": {
    "collapsed": false,
    "pycharm": {
     "name": "#%%\n"
    }
   }
  },
  {
   "cell_type": "code",
   "execution_count": 230,
   "outputs": [
    {
     "data": {
      "text/plain": "'0.0052'"
     },
     "execution_count": 230,
     "metadata": {},
     "output_type": "execute_result"
    }
   ],
   "source": [
    "sgl_process['Uncertainties'][0][-1]"
   ],
   "metadata": {
    "collapsed": false,
    "pycharm": {
     "name": "#%%\n"
    }
   }
  },
  {
   "cell_type": "code",
   "execution_count": 172,
   "outputs": [],
   "source": [
    "\n",
    "\n"
   ],
   "metadata": {
    "collapsed": false,
    "pycharm": {
     "name": "#%%\n"
    }
   }
  },
  {
   "cell_type": "code",
   "execution_count": 219,
   "outputs": [
    {
     "data": {
      "text/plain": "166"
     },
     "execution_count": 219,
     "metadata": {},
     "output_type": "execute_result"
    }
   ],
   "source": [
    "len(production)"
   ],
   "metadata": {
    "collapsed": false,
    "pycharm": {
     "name": "#%%\n"
    }
   }
  },
  {
   "cell_type": "code",
   "execution_count": 218,
   "outputs": [
    {
     "name": "stderr",
     "output_type": "stream",
     "text": [
      "C:\\Users\\lukec\\AppData\\Local\\Temp/ipykernel_3492/3564030673.py:2: DeprecationWarning: The truth value of an empty array is ambiguous. Returning False, but in future this will result in an error. Use `array.size > 0` to check that an array is not empty.\n",
      "  if correspondance: production['variance'].iloc[correspondance] = sgl_process\n"
     ]
    }
   ],
   "source": [
    "\n"
   ],
   "metadata": {
    "collapsed": false,
    "pycharm": {
     "name": "#%%\n"
    }
   }
  },
  {
   "cell_type": "code",
   "execution_count": 188,
   "outputs": [
    {
     "ename": "TypeError",
     "evalue": "only integer scalar arrays can be converted to a scalar index",
     "output_type": "error",
     "traceback": [
      "\u001B[1;31m---------------------------------------------------------------------------\u001B[0m",
      "\u001B[1;31mTypeError\u001B[0m                                 Traceback (most recent call last)",
      "\u001B[1;32m~\\AppData\\Local\\Temp/ipykernel_3492/2305670590.py\u001B[0m in \u001B[0;36m<module>\u001B[1;34m\u001B[0m\n\u001B[1;32m----> 1\u001B[1;33m \u001B[0mnp\u001B[0m\u001B[1;33m.\u001B[0m\u001B[0many\u001B[0m\u001B[1;33m(\u001B[0m\u001B[0mnp\u001B[0m\u001B[1;33m.\u001B[0m\u001B[0marray\u001B[0m\u001B[1;33m(\u001B[0m\u001B[0mprod_match\u001B[0m\u001B[1;33m)\u001B[0m\u001B[1;33m,\u001B[0m\u001B[0mnp\u001B[0m\u001B[1;33m.\u001B[0m\u001B[0marray\u001B[0m\u001B[1;33m(\u001B[0m\u001B[0mloc_match\u001B[0m\u001B[1;33m)\u001B[0m\u001B[1;33m)\u001B[0m\u001B[1;33m\u001B[0m\u001B[1;33m\u001B[0m\u001B[0m\n\u001B[0m",
      "\u001B[1;32m~\\AppData\\Local\\Programs\\Python\\Python310\\lib\\site-packages\\numpy\\core\\overrides.py\u001B[0m in \u001B[0;36many\u001B[1;34m(*args, **kwargs)\u001B[0m\n",
      "\u001B[1;32m~\\AppData\\Local\\Programs\\Python\\Python310\\lib\\site-packages\\numpy\\core\\fromnumeric.py\u001B[0m in \u001B[0;36many\u001B[1;34m(a, axis, out, keepdims, where)\u001B[0m\n\u001B[0;32m   2393\u001B[0m \u001B[1;33m\u001B[0m\u001B[0m\n\u001B[0;32m   2394\u001B[0m     \"\"\"\n\u001B[1;32m-> 2395\u001B[1;33m     return _wrapreduction(a, np.logical_or, 'any', axis, None, out,\n\u001B[0m\u001B[0;32m   2396\u001B[0m                           keepdims=keepdims, where=where)\n\u001B[0;32m   2397\u001B[0m \u001B[1;33m\u001B[0m\u001B[0m\n",
      "\u001B[1;32m~\\AppData\\Local\\Programs\\Python\\Python310\\lib\\site-packages\\numpy\\core\\fromnumeric.py\u001B[0m in \u001B[0;36m_wrapreduction\u001B[1;34m(obj, ufunc, method, axis, dtype, out, **kwargs)\u001B[0m\n\u001B[0;32m     84\u001B[0m                 \u001B[1;32mreturn\u001B[0m \u001B[0mreduction\u001B[0m\u001B[1;33m(\u001B[0m\u001B[0maxis\u001B[0m\u001B[1;33m=\u001B[0m\u001B[0maxis\u001B[0m\u001B[1;33m,\u001B[0m \u001B[0mout\u001B[0m\u001B[1;33m=\u001B[0m\u001B[0mout\u001B[0m\u001B[1;33m,\u001B[0m \u001B[1;33m**\u001B[0m\u001B[0mpasskwargs\u001B[0m\u001B[1;33m)\u001B[0m\u001B[1;33m\u001B[0m\u001B[1;33m\u001B[0m\u001B[0m\n\u001B[0;32m     85\u001B[0m \u001B[1;33m\u001B[0m\u001B[0m\n\u001B[1;32m---> 86\u001B[1;33m     \u001B[1;32mreturn\u001B[0m \u001B[0mufunc\u001B[0m\u001B[1;33m.\u001B[0m\u001B[0mreduce\u001B[0m\u001B[1;33m(\u001B[0m\u001B[0mobj\u001B[0m\u001B[1;33m,\u001B[0m \u001B[0maxis\u001B[0m\u001B[1;33m,\u001B[0m \u001B[0mdtype\u001B[0m\u001B[1;33m,\u001B[0m \u001B[0mout\u001B[0m\u001B[1;33m,\u001B[0m \u001B[1;33m**\u001B[0m\u001B[0mpasskwargs\u001B[0m\u001B[1;33m)\u001B[0m\u001B[1;33m\u001B[0m\u001B[1;33m\u001B[0m\u001B[0m\n\u001B[0m\u001B[0;32m     87\u001B[0m \u001B[1;33m\u001B[0m\u001B[0m\n\u001B[0;32m     88\u001B[0m \u001B[1;33m\u001B[0m\u001B[0m\n",
      "\u001B[1;31mTypeError\u001B[0m: only integer scalar arrays can be converted to a scalar index"
     ]
    }
   ],
   "source": [
    "np.any(np.array(prod_match),np.array(loc_match))"
   ],
   "metadata": {
    "collapsed": false,
    "pycharm": {
     "name": "#%%\n"
    }
   }
  },
  {
   "cell_type": "code",
   "execution_count": 105,
   "outputs": [
    {
     "ename": "TypeError",
     "evalue": "read_xml_attributes() missing 1 required positional argument: 'attributes'",
     "output_type": "error",
     "traceback": [
      "\u001B[1;31m---------------------------------------------------------------------------\u001B[0m",
      "\u001B[1;31mTypeError\u001B[0m                                 Traceback (most recent call last)",
      "\u001B[1;32m~\\AppData\\Local\\Temp/ipykernel_3492/827723951.py\u001B[0m in \u001B[0;36m<module>\u001B[1;34m\u001B[0m\n\u001B[1;32m----> 1\u001B[1;33m \u001B[0mread_xml_attributes\u001B[0m\u001B[1;33m(\u001B[0m\u001B[0minOutPath\u001B[0m\u001B[1;33m+\u001B[0m\u001B[0mfiles\u001B[0m\u001B[1;33m[\u001B[0m\u001B[1;36m1\u001B[0m\u001B[1;33m]\u001B[0m\u001B[1;33m,\u001B[0m\u001B[1;33m[\u001B[0m\u001B[1;33m[\u001B[0m\u001B[1;34m'activityDataset'\u001B[0m\u001B[1;33m,\u001B[0m\u001B[1;34m'activityDescription'\u001B[0m\u001B[1;33m,\u001B[0m\u001B[1;34m'activity'\u001B[0m\u001B[1;33m,\u001B[0m\u001B[1;34m'activityName'\u001B[0m\u001B[1;33m]\u001B[0m\u001B[1;33m,\u001B[0m\u001B[1;33m[\u001B[0m\u001B[1;34m'activityDataset'\u001B[0m\u001B[1;33m,\u001B[0m\u001B[1;34m'activityDescription'\u001B[0m\u001B[1;33m,\u001B[0m\u001B[1;34m'geography'\u001B[0m\u001B[1;33m,\u001B[0m\u001B[1;34m'shortname'\u001B[0m\u001B[1;33m]\u001B[0m\u001B[1;33m]\u001B[0m\u001B[1;33m)\u001B[0m\u001B[1;33m\u001B[0m\u001B[1;33m\u001B[0m\u001B[0m\n\u001B[0m",
      "\u001B[1;31mTypeError\u001B[0m: read_xml_attributes() missing 1 required positional argument: 'attributes'"
     ]
    }
   ],
   "source": [
    "read_xml_attributes(inOutPath+files[1],[['activityDataset','activityDescription','activity','activityName'],['activityDataset','activityDescription','geography','shortname']])"
   ],
   "metadata": {
    "collapsed": false,
    "pycharm": {
     "name": "#%%\n"
    }
   }
  },
  {
   "cell_type": "code",
   "execution_count": 220,
   "outputs": [
    {
     "data": {
      "text/plain": "{'Process': 'hard coal mine operation, underground',\n 'Location': 'ZA',\n 'Elements': ['limestone, crushed, washed',\n  'mine infrastructure, underground, hard coal',\n  'electricity, high voltage',\n  'spoil from hard coal mining',\n  'tap water',\n  'diesel, burned in building machine',\n  'blasting',\n  'conveyor belt',\n  'hard coal, run-of-mine'],\n 'Uncertainties': [['0.00103', '-6.878', '0.0006', '0.0052'],\n  ['1.67E-11', '-24.82', '0.3', '0.478'],\n  ['0.0147', '-4.22', '0.02', '0.0232'],\n  ['0.11', '-2.207', '5.5', '5.503'],\n  ['0.02', '-3.912', '0.3', '0.3106'],\n  ['0.013', '-4.343', '0.24', '0.2432'],\n  ['1.71E-05', '-10.98', '0.9', '0.9032'],\n  ['2.49E-06', '-12.9', '0.3', '0.3038'],\n  None]}"
     },
     "execution_count": 220,
     "metadata": {},
     "output_type": "execute_result"
    }
   ],
   "source": [
    "sgl_process['Un']\n"
   ],
   "metadata": {
    "collapsed": false,
    "pycharm": {
     "name": "#%%\n"
    }
   }
  },
  {
   "cell_type": "code",
   "execution_count": 100,
   "outputs": [
    {
     "data": {
      "text/plain": "  False\n0   GLO",
      "text/html": "<div>\n<style scoped>\n    .dataframe tbody tr th:only-of-type {\n        vertical-align: middle;\n    }\n\n    .dataframe tbody tr th {\n        vertical-align: top;\n    }\n\n    .dataframe thead th {\n        text-align: right;\n    }\n</style>\n<table border=\"1\" class=\"dataframe\">\n  <thead>\n    <tr style=\"text-align: right;\">\n      <th></th>\n      <th>False</th>\n    </tr>\n  </thead>\n  <tbody>\n    <tr>\n      <th>0</th>\n      <td>GLO</td>\n    </tr>\n  </tbody>\n</table>\n</div>"
     },
     "execution_count": 100,
     "metadata": {},
     "output_type": "execute_result"
    }
   ],
   "source": [
    "read_xml_attributes(inOutPath+files[0],['activityDataset','activityDescription','geography','shortname'],[False])"
   ],
   "metadata": {
    "collapsed": false,
    "pycharm": {
     "name": "#%%\n"
    }
   }
  },
  {
   "cell_type": "code",
   "execution_count": 106,
   "outputs": [],
   "source": [
    "vals = [[False],[False]]"
   ],
   "metadata": {
    "collapsed": false,
    "pycharm": {
     "name": "#%%\n"
    }
   }
  },
  {
   "cell_type": "code",
   "execution_count": 112,
   "outputs": [],
   "source": [
    "properties = [read_xml_attributes(inOutPath+files[1],path,[False]) for path in [['activityDataset','activityDescription','activity','activityName'],['activityDataset','activityDescription','geography','shortname']]]"
   ],
   "metadata": {
    "collapsed": false,
    "pycharm": {
     "name": "#%%\n"
    }
   }
  },
  {
   "cell_type": "code",
   "execution_count": 120,
   "outputs": [
    {
     "data": {
      "text/plain": "['barite production', 'CA-QC']"
     },
     "execution_count": 120,
     "metadata": {},
     "output_type": "execute_result"
    }
   ],
   "source": [],
   "metadata": {
    "collapsed": false,
    "pycharm": {
     "name": "#%%\n"
    }
   }
  },
  {
   "cell_type": "code",
   "execution_count": 126,
   "outputs": [],
   "source": [],
   "metadata": {
    "collapsed": false,
    "pycharm": {
     "name": "#%%\n"
    }
   }
  },
  {
   "cell_type": "code",
   "execution_count": null,
   "outputs": [],
   "source": [],
   "metadata": {
    "collapsed": false,
    "pycharm": {
     "name": "#%%\n"
    }
   }
  }
 ],
 "metadata": {
  "kernelspec": {
   "display_name": "Python 3",
   "language": "python",
   "name": "python3"
  },
  "language_info": {
   "codemirror_mode": {
    "name": "ipython",
    "version": 2
   },
   "file_extension": ".py",
   "mimetype": "text/x-python",
   "name": "python",
   "nbconvert_exporter": "python",
   "pygments_lexer": "ipython2",
   "version": "2.7.6"
  }
 },
 "nbformat": 4,
 "nbformat_minor": 0
}