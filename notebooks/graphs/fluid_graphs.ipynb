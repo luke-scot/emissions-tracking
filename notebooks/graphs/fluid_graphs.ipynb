{
 "cells": [
  {
   "cell_type": "code",
   "execution_count": 1,
   "outputs": [
    {
     "name": "stdout",
     "output_type": "stream",
     "text": [
      "C:\\Users\\lukec\\PycharmProjects\\emissions-tracking-conda\\emissions-tracking\n"
     ]
    }
   ],
   "source": [
    "%cd C:\\Users\\lukec\\PycharmProjects\\emissions-tracking-conda\\emissions-tracking"
   ],
   "metadata": {
    "collapsed": false,
    "pycharm": {
     "name": "#%%\n"
    }
   }
  },
  {
   "cell_type": "code",
   "execution_count": 2,
   "outputs": [
    {
     "data": {
      "text/plain": "(tensor([[  1,   1,   1,  ..., 326, 327, 328],\n         [  2,   3,   4,  ..., 326, 327, 328]]),\n tensor([-1., -1., -1.,  ..., 13., 19., 19.]))"
     },
     "execution_count": 2,
     "metadata": {},
     "output_type": "execute_result"
    }
   ],
   "source": [
    "import sys\n",
    "sys.path.insert(0, '../')\n",
    "import functions.graph_utilities as gu\n",
    "import functions.node_classification as nc\n",
    "\n",
    "import pandas as pd\n",
    "from torch_geometric.transforms import RandomNodeSplit\n",
    "\n",
    "# Import data\n",
    "data = pd.read_csv(\"C:/Users\\lukec\\OneDrive - University of Cambridge\\PhD\\Data\\Aggregate/US_2019.csv\",\n",
    "                   low_memory=False).dropna(subset='CO2e')\n",
    "\n",
    "\"\"\"Train and evaluate fluid graph model\"\"\"\n",
    "from torch_geometric.utils import get_laplacian\n",
    "graph = gu.build(data, ['PRODUCT','SITE'], y_col='CO2e', bins=6)\n",
    "get_laplacian(graph.edge_index)"
   ],
   "metadata": {
    "collapsed": false,
    "pycharm": {
     "name": "#%%\n"
    }
   }
  },
  {
   "cell_type": "code",
   "execution_count": null,
   "outputs": [],
   "source": [],
   "metadata": {
    "collapsed": false,
    "pycharm": {
     "name": "#%%\n"
    }
   }
  }
 ],
 "metadata": {
  "kernelspec": {
   "display_name": "Python 3",
   "language": "python",
   "name": "python3"
  },
  "language_info": {
   "codemirror_mode": {
    "name": "ipython",
    "version": 2
   },
   "file_extension": ".py",
   "mimetype": "text/x-python",
   "name": "python",
   "nbconvert_exporter": "python",
   "pygments_lexer": "ipython2",
   "version": "2.7.6"
  }
 },
 "nbformat": 4,
 "nbformat_minor": 0
}