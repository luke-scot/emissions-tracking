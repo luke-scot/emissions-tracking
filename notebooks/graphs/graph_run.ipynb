{
 "cells": [
  {
   "cell_type": "code",
   "execution_count": 1,
   "outputs": [
    {
     "name": "stdout",
     "output_type": "stream",
     "text": [
      "C:\\Users\\lukec\\PycharmProjects\\emissions-tracking-conda\n"
     ]
    }
   ],
   "source": [
    "%cd C:\\Users\\lukec\\PycharmProjects\\emissions-tracking-conda"
   ],
   "metadata": {
    "collapsed": false,
    "pycharm": {
     "name": "#%%\n"
    }
   }
  },
  {
   "cell_type": "code",
   "execution_count": 27,
   "outputs": [],
   "source": [
    "# %%writefile functions/graph_utilities.py\n",
    "\n",
    "import itertools\n",
    "import numpy as np\n",
    "import pandas as pd\n",
    "from more_itertools import locate\n",
    "import torch\n",
    "from torch_geometric.data import Data\n",
    "\n",
    "def concat_lists(lists):\n",
    "    \"\"\"List concatenation utility function\"\"\"\n",
    "    return list(itertools.chain.from_iterable(lists))\n",
    "\n",
    "def pd_to_adj_matrix(df:pd.DataFrame, columns:list, weights=False):\n",
    "    \"\"\"Form adjacency matrix from pandas dataframe columns\"\"\"\n",
    "    adj, edgeWeights = np.zeros([2,0]), []\n",
    "    for i, column in enumerate(columns):\n",
    "        edgeDest = [list(locate(df[column], lambda x: x==i)) for i in df[column]]\n",
    "        edgeOrig = concat_lists([list(np.ones(len(x)).astype(int)*i) for i, x in enumerate(edgeDest)])\n",
    "        edgeDest = concat_lists(edgeDest)\n",
    "        nonSelf = np.where([val!=edgeDest[i] for i, val in enumerate(edgeOrig)])[0]\n",
    "        adj = np.concatenate((adj,np.array([np.take(edgeOrig,nonSelf), np.take(edgeDest,nonSelf)])),axis=-1)\n",
    "        if weights: edgeWeights = edgeWeights + [weights[i]]*len(edgeDest)\n",
    "    return adj.astype(int), edgeWeights\n",
    "\n",
    "def build(df, edges:list, y_col=False, bins=False):\n",
    "    \"\"\"This function builds a graph given a Pandas DataFrame\"\"\"\n",
    "    adjacency, _ = pd_to_adj_matrix(df, edges)\n",
    "    edge_index = torch.tensor(adjacency, dtype=torch.long)\n",
    "    data_x = df.drop(y_col, axis=1) if y_col else df\n",
    "    x = torch.tensor(data.values, dtype=torch.float)\n",
    "    if y_col:\n",
    "        if bins:\n",
    "            y = torch.tensor(np.digitize(data[y_col],bins=np.linspace(min(data[y_col]),max(data[y_col]),bins))-1, dtype=torch.long)\n",
    "        else: y = torch.tensor(data[y_col], dtype=torch.float)\n",
    "        return Data(x=x, edge_index=edge_index, y=y)\n",
    "    else: return Data(x=x, edge_index=edge_index)"
   ],
   "metadata": {
    "collapsed": false,
    "pycharm": {
     "name": "#%%\n"
    }
   }
  },
  {
   "cell_type": "code",
   "execution_count": 28,
   "outputs": [
    {
     "ename": "TypeError",
     "evalue": "can't convert np.ndarray of type numpy.object_. The only supported types are: float64, float32, float16, complex64, complex128, int64, int32, int16, int8, uint8, and bool.",
     "output_type": "error",
     "traceback": [
      "\u001B[1;31m---------------------------------------------------------------------------\u001B[0m",
      "\u001B[1;31mTypeError\u001B[0m                                 Traceback (most recent call last)",
      "\u001B[1;32m~\\AppData\\Local\\Temp/ipykernel_14912/3829459909.py\u001B[0m in \u001B[0;36m<module>\u001B[1;34m\u001B[0m\n\u001B[0;32m      4\u001B[0m \u001B[1;31m# Import data\u001B[0m\u001B[1;33m\u001B[0m\u001B[1;33m\u001B[0m\u001B[0m\n\u001B[0;32m      5\u001B[0m \u001B[0mdata\u001B[0m \u001B[1;33m=\u001B[0m \u001B[0mpd\u001B[0m\u001B[1;33m.\u001B[0m\u001B[0mread_csv\u001B[0m\u001B[1;33m(\u001B[0m\u001B[1;34m\"C:/Users\\lukec\\OneDrive - University of Cambridge\\PhD\\Data\\Aggregate/US_2019.csv\"\u001B[0m\u001B[1;33m,\u001B[0m \u001B[0mlow_memory\u001B[0m\u001B[1;33m=\u001B[0m\u001B[1;32mFalse\u001B[0m\u001B[1;33m)\u001B[0m\u001B[1;33m\u001B[0m\u001B[1;33m\u001B[0m\u001B[0m\n\u001B[1;32m----> 6\u001B[1;33m \u001B[0mgraph\u001B[0m \u001B[1;33m=\u001B[0m \u001B[0mbuild\u001B[0m\u001B[1;33m(\u001B[0m\u001B[0mdata\u001B[0m\u001B[1;33m,\u001B[0m \u001B[1;33m[\u001B[0m\u001B[1;34m'PRODUCT'\u001B[0m\u001B[1;33m,\u001B[0m\u001B[1;34m'SITE'\u001B[0m\u001B[1;33m]\u001B[0m\u001B[1;33m,\u001B[0m\u001B[0my_col\u001B[0m\u001B[1;33m=\u001B[0m\u001B[1;34m'CO2e'\u001B[0m\u001B[1;33m,\u001B[0m\u001B[0mbins\u001B[0m\u001B[1;33m=\u001B[0m\u001B[1;36m5\u001B[0m\u001B[1;33m)\u001B[0m\u001B[1;33m\u001B[0m\u001B[1;33m\u001B[0m\u001B[0m\n\u001B[0m",
      "\u001B[1;32m~\\AppData\\Local\\Temp/ipykernel_14912/3299634475.py\u001B[0m in \u001B[0;36mbuild\u001B[1;34m(df, edges, y_col, bins)\u001B[0m\n\u001B[0;32m     29\u001B[0m     \u001B[0medge_index\u001B[0m \u001B[1;33m=\u001B[0m \u001B[0mtorch\u001B[0m\u001B[1;33m.\u001B[0m\u001B[0mtensor\u001B[0m\u001B[1;33m(\u001B[0m\u001B[0madjacency\u001B[0m\u001B[1;33m,\u001B[0m \u001B[0mdtype\u001B[0m\u001B[1;33m=\u001B[0m\u001B[0mtorch\u001B[0m\u001B[1;33m.\u001B[0m\u001B[0mlong\u001B[0m\u001B[1;33m)\u001B[0m\u001B[1;33m\u001B[0m\u001B[1;33m\u001B[0m\u001B[0m\n\u001B[0;32m     30\u001B[0m     \u001B[0mdata_x\u001B[0m \u001B[1;33m=\u001B[0m \u001B[0mdf\u001B[0m\u001B[1;33m.\u001B[0m\u001B[0mdrop\u001B[0m\u001B[1;33m(\u001B[0m\u001B[0my_col\u001B[0m\u001B[1;33m,\u001B[0m \u001B[0maxis\u001B[0m\u001B[1;33m=\u001B[0m\u001B[1;36m1\u001B[0m\u001B[1;33m)\u001B[0m \u001B[1;32mif\u001B[0m \u001B[0my_col\u001B[0m \u001B[1;32melse\u001B[0m \u001B[0mdf\u001B[0m\u001B[1;33m\u001B[0m\u001B[1;33m\u001B[0m\u001B[0m\n\u001B[1;32m---> 31\u001B[1;33m     \u001B[0mx\u001B[0m \u001B[1;33m=\u001B[0m \u001B[0mtorch\u001B[0m\u001B[1;33m.\u001B[0m\u001B[0mtensor\u001B[0m\u001B[1;33m(\u001B[0m\u001B[0mdata\u001B[0m\u001B[1;33m.\u001B[0m\u001B[0mvalues\u001B[0m\u001B[1;33m,\u001B[0m \u001B[0mdtype\u001B[0m\u001B[1;33m=\u001B[0m\u001B[0mtorch\u001B[0m\u001B[1;33m.\u001B[0m\u001B[0mfloat\u001B[0m\u001B[1;33m)\u001B[0m\u001B[1;33m\u001B[0m\u001B[1;33m\u001B[0m\u001B[0m\n\u001B[0m\u001B[0;32m     32\u001B[0m     \u001B[1;32mif\u001B[0m \u001B[0my_col\u001B[0m\u001B[1;33m:\u001B[0m\u001B[1;33m\u001B[0m\u001B[1;33m\u001B[0m\u001B[0m\n\u001B[0;32m     33\u001B[0m         \u001B[1;32mif\u001B[0m \u001B[0mbins\u001B[0m\u001B[1;33m:\u001B[0m\u001B[1;33m\u001B[0m\u001B[1;33m\u001B[0m\u001B[0m\n",
      "\u001B[1;31mTypeError\u001B[0m: can't convert np.ndarray of type numpy.object_. The only supported types are: float64, float32, float16, complex64, complex128, int64, int32, int16, int8, uint8, and bool."
     ]
    }
   ],
   "source": [
    "# %%writefile scripts/graph_run.py\n",
    "\n",
    "import pandas as pd\n",
    "# Import data\n",
    "data = pd.read_csv(\"C:/Users\\lukec\\OneDrive - University of Cambridge\\PhD\\Data\\Aggregate/US_2019.csv\", low_memory=False)\n",
    "graph = build(data, ['PRODUCT','SITE'],y_col='CO2e',bins=5)"
   ],
   "metadata": {
    "collapsed": false,
    "pycharm": {
     "name": "#%%\n"
    }
   }
  },
  {
   "cell_type": "code",
   "execution_count": 24,
   "outputs": [
    {
     "data": {
      "text/plain": "0      NaN\n1      NaN\n2      NaN\n3      NaN\n4      NaN\n        ..\n2430   NaN\n2431   NaN\n2432   NaN\n2433   NaN\n2434   NaN\nName: CO2e, Length: 2435, dtype: float64"
     },
     "execution_count": 24,
     "metadata": {},
     "output_type": "execute_result"
    }
   ],
   "source": [
    "data['CO2e']"
   ],
   "metadata": {
    "collapsed": false,
    "pycharm": {
     "name": "#%%\n"
    }
   }
  },
  {
   "cell_type": "code",
   "execution_count": null,
   "outputs": [],
   "source": [],
   "metadata": {
    "collapsed": false,
    "pycharm": {
     "name": "#%%\n"
    }
   }
  }
 ],
 "metadata": {
  "kernelspec": {
   "display_name": "Python 3",
   "language": "python",
   "name": "python3"
  },
  "language_info": {
   "codemirror_mode": {
    "name": "ipython",
    "version": 2
   },
   "file_extension": ".py",
   "mimetype": "text/x-python",
   "name": "python",
   "nbconvert_exporter": "python",
   "pygments_lexer": "ipython2",
   "version": "2.7.6"
  }
 },
 "nbformat": 4,
 "nbformat_minor": 0
}