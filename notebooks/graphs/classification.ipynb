{
 "cells": [
  {
   "cell_type": "code",
   "execution_count": 2,
   "outputs": [
    {
     "name": "stdout",
     "output_type": "stream",
     "text": [
      "C:\\Users\\lshc3\\PycharmProjects\\emissions-tracking\n"
     ]
    }
   ],
   "source": [
    "%cd C:/Users\\lshc3\\PycharmProjects\\emissions-tracking"
   ],
   "metadata": {
    "collapsed": false,
    "pycharm": {
     "name": "#%%\n"
    }
   }
  },
  {
   "cell_type": "code",
   "execution_count": 53,
   "outputs": [
    {
     "name": "stdout",
     "output_type": "stream",
     "text": [
      "Overwriting functions/import_data.py\n"
     ]
    }
   ],
   "source": [
    "%%writefile functions/import_data.py\n",
    "\n",
    "\"\"\"Import classes for each type of LCA and chemical manufacturing data used in emissions-tracking project\"\"\"\n",
    "\n",
    "import numpy as np\n",
    "import pandas as pd\n",
    "\n",
    "\n",
    "class LCA(object):\n",
    "    \"\"\"Import EcoInvent CO2e data\"\"\"\n",
    "    def __init__(self, data_path:str, lca_lists:list):\n",
    "        self.data = pd.DataFrame()\n",
    "        for path in lca_lists:\n",
    "            filepath = data_path+\"EcoInvent/\"+path+\"/GWP100a_IPCC2013.csv\"\n",
    "            try:\n",
    "                raw = pd.read_csv(filepath)\n",
    "            except FileNotFoundError:\n",
    "                print(filepath+' not found')\n",
    "                raise\n",
    "            self.data = self.data.append(raw[['name', 'location', 'CO2e']][~raw['generalComment'].str.contains('market')].sort_values('name'))\n",
    "        self.data_path = data_path\n",
    "\n",
    "    def location(self, location='Global'):\n",
    "        \"\"\"Filter entries for EcoInvent regions\"\"\"\n",
    "        loc_filepath = self.data_path+\"EcoInvent/EcoInvent_locations.csv\"\n",
    "        loc_codes = pd.read_csv(loc_filepath)\n",
    "        region_code = loc_codes['Code'][np.where(loc_codes['Name'] == location)[0]].iloc[0]\n",
    "        rows = []\n",
    "        for product in self.data['name'].unique():\n",
    "            for code in [region_code, 'RoW', 'GLO']:\n",
    "                found = self.data[(self.data['name']==product) & (self.data['location']==code)]\n",
    "                if not found.index.empty:\n",
    "                    rows += list(found.index)\n",
    "                    break\n",
    "        return self.data.loc[rows].groupby(['name','location']).mean().reset_index()\n",
    "\n",
    "\n",
    "class IHSData(object):\n",
    "    \"\"\"Import IHS Markit chemical product and material composition data\"\"\"\n",
    "    def __init__(self, data_path):\n",
    "        product_file = data_path+\"IHS/US/products.csv\"\n",
    "        material_file = data_path+\"IHS/US/materials.csv\"\n",
    "        self.products = pd.read_csv(product_file, index_col=0).reset_index(drop=True)\n",
    "        self.materials = pd.read_csv(material_file, index_col=0).reset_index(drop=True)\n",
    "\n",
    "\n",
    "class ICISData(object):\n",
    "    \"\"\"Import ICIS chemical manufacturing data\"\"\"\n",
    "    def __init__(self, filepath):\n",
    "        self.countryCol = 'COUNTRY/TERRITORY'\n",
    "        self.properties = ['Capacity', 'Statistic Production', 'Import', 'Export', 'Consumption']\n",
    "        in_file = pd.ExcelFile(filepath)\n",
    "        self.plants, self.prod, self.imps, self.exps, self.cons = [pd.DataFrame()]*5\n",
    "\n",
    "        def append_data(prev,region,breaks,start):\n",
    "            \"\"\"Append data while row of ICIS data is within particular type\"\"\"\n",
    "            br_end = breaks[start+1] if start+1 < len(breaks) else -1\n",
    "            return prev.append(region[breaks[start]+1:br_end].dropna(subset=[self.countryCol]), ignore_index=True)\n",
    "\n",
    "        for sheet in in_file.sheet_names[2:]:\n",
    "            region = pd.read_excel(in_file, sheet_name=sheet)\n",
    "            region['Region'] = [sheet]*len(region)\n",
    "            breaks = region.loc[region['PRODUCT'].isin(self.properties)].index\n",
    "            self.plants, self.prod, self.imps, self.exps, self.cons = [append_data(attr,region,breaks,i)\n",
    "                                                                       for i, attr in enumerate([self.plants, self.prod, self.imps, self.exps, self.cons])]"
   ],
   "metadata": {
    "collapsed": false,
    "pycharm": {
     "name": "#%%\n"
    }
   }
  },
  {
   "cell_type": "code",
   "execution_count": 90,
   "outputs": [
    {
     "name": "stdout",
     "output_type": "stream",
     "text": [
      "Overwriting functions/test_import_data.py\n"
     ]
    }
   ],
   "source": [
    "%%writefile functions/test_import_data.py\n",
    "\n",
    "\"\"\"Unit tests for import_data.py\"\"\"\n",
    "\n",
    "import unittest\n",
    "import pandas as pd\n",
    "import functions.import_data as id\n",
    "\n",
    "\n",
    "class LCATests(unittest.TestCase):\n",
    "    def test_LCA_import(self):\n",
    "        valid_data = id.LCA(\"C:/Users/lshc3/Documents/\", ['Basic_chemicals_201','Coke_Petro_19']).data\n",
    "        self.assertIsInstance(valid_data, pd.DataFrame, 'Import does not return valid pandas Dataframe')\n",
    "        self.assertAlmostEqual(valid_data['CO2e'][0], 4.86288208344407, 3, msg = 'Incorrect value found on test case')\n",
    "        self.assertRaises(FileNotFoundError, lambda: id.LCA(\"C:/Users/lshc3/Documents/\", ['invalid list']))\n",
    "\n",
    "    def test_LCA_location(self):\n",
    "        filt_locs = id.LCA(\"C:/Users/lshc3/Documents/\", ['Basic_chemicals_201','Coke_Petro_19']).location('France')\n",
    "        self.assertTrue(set(filt_locs['location']).issubset(['GLO','RoW','FR']), 'Location filter returns unwanted locations')\n",
    "\n",
    "class IHSDataTests(unittest.TestCase):\n",
    "    def test_products(self):\n",
    "        self.assertIsInstance(id.IHSData(\"C:/Users/lshc3/Documents/\").products, pd.DataFrame, 'Import does not return valid pandas Dataframe')\n",
    "        self.assertEqual(id.IHSData(\"C:/Users/lshc3/Documents/\").products['Name'][0], 'ETHYLENE', 'Incorrect value found on test case')\n",
    "    def test_materials(self):\n",
    "        self.assertIsInstance(id.IHSData(\"C:/Users/lshc3/Documents/\").materials, pd.DataFrame, 'Import does not return valid pandas Dataframe')\n",
    "        self.assertEqual(id.IHSData(\"C:/Users/lshc3/Documents/\").materials['Source'][0], 'CATALYST', 'Incorrect value found on test case')\n",
    "\n",
    "# class IHSDataTests(unittest.TestCase):\n",
    "#     def test_dataframes(self):\n",
    "#         icis = id.ICISData(\"C:/ICIS_data/US_allchemicals.xlsx\")\n",
    "#         #for i in [icis.plants, icis.prod, icis.imps, icis.exps, icis.cons]:\n",
    "#         self.assertIsInstance(icis.plants, pd.DataFrame, 'Import does not return valid pandas Dataframe')\n",
    "#         self.assertIsInstance(icis.prod, pd.DataFrame, 'Import does not return valid pandas Dataframe')\n",
    "\n",
    "if __name__ == '__main__':\n",
    "    unittest.main()"
   ],
   "metadata": {
    "collapsed": false,
    "pycharm": {
     "name": "#%%\n"
    }
   }
  },
  {
   "cell_type": "code",
   "execution_count": 91,
   "outputs": [
    {
     "name": "stdout",
     "output_type": "stream",
     "text": [
      "============================= test session starts =============================\n",
      "platform win32 -- Python 3.8.3, pytest-5.4.3, py-1.9.0, pluggy-0.13.1\n",
      "rootdir: C:\\Users\\lshc3\\PycharmProjects\\emissions-tracking\n",
      "collected 5 items\n",
      "\n",
      "functions\\test_import_data.py .F..                                       [ 80%]\n",
      "tests\\test_utilities.py .                                                [100%]\n",
      "\n",
      "================================== FAILURES ===================================\n",
      "_________________________ LCATests.test_LCA_location __________________________\n",
      "\n",
      "self = <functions.test_import_data.LCATests testMethod=test_LCA_location>\n",
      "\n",
      "    def test_LCA_location(self):\n",
      "        filt_locs = id.LCA(\"C:/Users/lshc3/Documents/\", ['Basic_chemicals_201','Coke_Petro_19']).location('France')\n",
      "        print(set(filt_locs['location']))\n",
      ">       self.assertTrue(set(filt_locs['location']).issubset(['GLO','RoW','FR']), 'Location filter returns unwanted locations')\n",
      "E       AssertionError: False is not true : Location filter returns unwanted locations\n",
      "\n",
      "functions\\test_import_data.py:19: AssertionError\n",
      "---------------------------- Captured stdout call -----------------------------\n",
      "{'RNA', 'FR', 'GLO', 'MY', 'RER', 'DE', 'CN', 'Europe without Switzerland', 'CH', 'ZA', 'RoW'}\n",
      "=========================== short test summary info ===========================\n",
      "FAILED functions/test_import_data.py::LCATests::test_LCA_location - Assertion...\n",
      "========================= 1 failed, 4 passed in 1.70s =========================\n"
     ]
    }
   ],
   "source": [
    "!pytest"
   ],
   "metadata": {
    "collapsed": false,
    "pycharm": {
     "name": "#%%\n"
    }
   }
  },
  {
   "cell_type": "code",
   "execution_count": 96,
   "outputs": [
    {
     "name": "stdout",
     "output_type": "stream",
     "text": [
      "Overwriting functions/preprocessing.py\n"
     ]
    }
   ],
   "source": [
    "%%writefile functions/preprocessing.py\n",
    "\n",
    "\"\"\"Preprocessing functions for chemical data\"\"\"\n",
    "\n",
    "import difflib\n",
    "import pandas as pd\n",
    "\n",
    "def format_icis(icis,year=2019):\n",
    "    plants_clean = icis.plants.drop(columns=['#','DERIVATIVE','NOTE','@','@Sub','Region']+list(filter(lambda i: 'None' in str(i) or (type(i) is int and i!=year), icis.plants.columns)))\n",
    "    plants_working = plants_clean[plants_clean[year] != '-'].reset_index(drop=True)\n",
    "    return plants_working\n",
    "\n",
    "def merge_chemical_data(lca, ihs, plants):\n",
    "    \"\"\"Add EcoInvent LCA data and IHS materials data to ICIS plant data dataframe\"\"\"\n",
    "    merge = pd.merge(lca, plants, left_on=lca['name'].str.lower(), right_on=plants['PRODUCT'].str.lower(), how=\"left\").reset_index(drop=True)\n",
    "    plant_details = pd.merge(merge, ihs.materials, left_on=merge['PRODUCT'].str.lower(), right_on=ihs.materials['Product'].str.lower(), how=\"left\")\n",
    "    return plant_details\n",
    "\n",
    "# def merge_ihs_icis(ihs, icis):\n",
    "#     plants_working['ihsProcess'] = list(map(lambda x: next(iter(difflib.get_close_matches(str(x), ihs.products['Process'])),None), plants_working['PRODUCT']+' '+plants_working['ROUTE']+' '+plants_working['TECHNOLOGY']))\n",
    "#     plant_products = pd.merge(plants_working, ihs, left_on=plants_working['ihsProcess'], right_on=ihs.products['Process'], how=\"left\")\n",
    "#     return plant_products\n"
   ],
   "metadata": {
    "collapsed": false,
    "pycharm": {
     "name": "#%%\n"
    }
   }
  },
  {
   "cell_type": "code",
   "execution_count": null,
   "outputs": [],
   "source": [
    "%%writefile functions/test_preprocessing.py\n",
    "\n",
    "\"\"\"Unit tests for preprocessing.py\"\"\"\n",
    "\n",
    "import unittest\n",
    "import pandas as pd\n",
    "import functions.preprocessing as pp\n",
    "\n",
    "\n",
    "class IcisFormatTests(unittest.TestCase):\n",
    "    def test_ICIS_filter(self):\n",
    "\n",
    "\n",
    "\n",
    "class MergeDataTests(unittest.TestCase):\n",
    "    def test_products(self):\n",
    "\n",
    "\n",
    "if __name__ == '__main__':\n",
    "    unittest.main()"
   ],
   "metadata": {
    "collapsed": false,
    "pycharm": {
     "name": "#%%\n"
    }
   }
  },
  {
   "cell_type": "code",
   "execution_count": null,
   "outputs": [],
   "source": [
    "!pytest"
   ],
   "metadata": {
    "collapsed": false,
    "pycharm": {
     "name": "#%%\n"
    }
   }
  },
  {
   "cell_type": "code",
   "execution_count": 97,
   "outputs": [
    {
     "ename": "ValueError",
     "evalue": "cannot insert key_0, already exists",
     "output_type": "error",
     "traceback": [
      "\u001B[1;31m---------------------------------------------------------------------------\u001B[0m",
      "\u001B[1;31mValueError\u001B[0m                                Traceback (most recent call last)",
      "\u001B[1;32m<ipython-input-97-195ce563d3ef>\u001B[0m in \u001B[0;36m<module>\u001B[1;34m\u001B[0m\n\u001B[0;32m     14\u001B[0m \u001B[1;31m# Merge data\u001B[0m\u001B[1;33m\u001B[0m\u001B[1;33m\u001B[0m\u001B[1;33m\u001B[0m\u001B[0m\n\u001B[0;32m     15\u001B[0m \u001B[0mplants\u001B[0m \u001B[1;33m=\u001B[0m \u001B[0mpreproc\u001B[0m\u001B[1;33m.\u001B[0m\u001B[0mformat_icis\u001B[0m\u001B[1;33m(\u001B[0m\u001B[0micis\u001B[0m\u001B[1;33m,\u001B[0m \u001B[1;36m2019\u001B[0m\u001B[1;33m)\u001B[0m\u001B[1;33m\u001B[0m\u001B[1;33m\u001B[0m\u001B[0m\n\u001B[1;32m---> 16\u001B[1;33m \u001B[0mmerged_data\u001B[0m \u001B[1;33m=\u001B[0m \u001B[0mpreproc\u001B[0m\u001B[1;33m.\u001B[0m\u001B[0mmerge_chemical_data\u001B[0m\u001B[1;33m(\u001B[0m\u001B[0mlca\u001B[0m\u001B[1;33m,\u001B[0m\u001B[0mihs\u001B[0m\u001B[1;33m,\u001B[0m\u001B[0mplants\u001B[0m\u001B[1;33m)\u001B[0m\u001B[1;33m\u001B[0m\u001B[1;33m\u001B[0m\u001B[0m\n\u001B[0m\u001B[0;32m     17\u001B[0m \u001B[1;33m\u001B[0m\u001B[0m\n\u001B[0;32m     18\u001B[0m \u001B[1;31m# Graph classification\u001B[0m\u001B[1;33m\u001B[0m\u001B[1;33m\u001B[0m\u001B[1;33m\u001B[0m\u001B[0m\n",
      "\u001B[1;32m~\\PycharmProjects\\emissions-tracking\\functions\\preprocessing.py\u001B[0m in \u001B[0;36mmerge_chemical_data\u001B[1;34m(lca, ihs, plants)\u001B[0m\n\u001B[0;32m     13\u001B[0m     \u001B[1;34m\"\"\"Add EcoInvent LCA data and IHS materials data to ICIS plant data dataframe\"\"\"\u001B[0m\u001B[1;33m\u001B[0m\u001B[1;33m\u001B[0m\u001B[0m\n\u001B[0;32m     14\u001B[0m     \u001B[0mmerge\u001B[0m \u001B[1;33m=\u001B[0m \u001B[0mpd\u001B[0m\u001B[1;33m.\u001B[0m\u001B[0mmerge\u001B[0m\u001B[1;33m(\u001B[0m\u001B[0mlca\u001B[0m\u001B[1;33m,\u001B[0m \u001B[0mplants\u001B[0m\u001B[1;33m,\u001B[0m \u001B[0mleft_on\u001B[0m\u001B[1;33m=\u001B[0m\u001B[0mlca\u001B[0m\u001B[1;33m[\u001B[0m\u001B[1;34m'name'\u001B[0m\u001B[1;33m]\u001B[0m\u001B[1;33m.\u001B[0m\u001B[0mstr\u001B[0m\u001B[1;33m.\u001B[0m\u001B[0mlower\u001B[0m\u001B[1;33m(\u001B[0m\u001B[1;33m)\u001B[0m\u001B[1;33m,\u001B[0m \u001B[0mright_on\u001B[0m\u001B[1;33m=\u001B[0m\u001B[0mplants\u001B[0m\u001B[1;33m[\u001B[0m\u001B[1;34m'PRODUCT'\u001B[0m\u001B[1;33m]\u001B[0m\u001B[1;33m.\u001B[0m\u001B[0mstr\u001B[0m\u001B[1;33m.\u001B[0m\u001B[0mlower\u001B[0m\u001B[1;33m(\u001B[0m\u001B[1;33m)\u001B[0m\u001B[1;33m,\u001B[0m \u001B[0mhow\u001B[0m\u001B[1;33m=\u001B[0m\u001B[1;34m\"left\"\u001B[0m\u001B[1;33m)\u001B[0m\u001B[1;33m.\u001B[0m\u001B[0mreset_index\u001B[0m\u001B[1;33m(\u001B[0m\u001B[0mdrop\u001B[0m\u001B[1;33m=\u001B[0m\u001B[1;32mTrue\u001B[0m\u001B[1;33m)\u001B[0m\u001B[1;33m\u001B[0m\u001B[1;33m\u001B[0m\u001B[0m\n\u001B[1;32m---> 15\u001B[1;33m     \u001B[0mplant_details\u001B[0m \u001B[1;33m=\u001B[0m \u001B[0mpd\u001B[0m\u001B[1;33m.\u001B[0m\u001B[0mmerge\u001B[0m\u001B[1;33m(\u001B[0m\u001B[0mmerge\u001B[0m\u001B[1;33m,\u001B[0m \u001B[0mihs\u001B[0m\u001B[1;33m.\u001B[0m\u001B[0mmaterials\u001B[0m\u001B[1;33m,\u001B[0m \u001B[0mleft_on\u001B[0m\u001B[1;33m=\u001B[0m\u001B[0mmerge\u001B[0m\u001B[1;33m[\u001B[0m\u001B[1;34m'PRODUCT'\u001B[0m\u001B[1;33m]\u001B[0m\u001B[1;33m.\u001B[0m\u001B[0mstr\u001B[0m\u001B[1;33m.\u001B[0m\u001B[0mlower\u001B[0m\u001B[1;33m(\u001B[0m\u001B[1;33m)\u001B[0m\u001B[1;33m,\u001B[0m \u001B[0mright_on\u001B[0m\u001B[1;33m=\u001B[0m\u001B[0mihs\u001B[0m\u001B[1;33m.\u001B[0m\u001B[0mmaterials\u001B[0m\u001B[1;33m[\u001B[0m\u001B[1;34m'Product'\u001B[0m\u001B[1;33m]\u001B[0m\u001B[1;33m.\u001B[0m\u001B[0mstr\u001B[0m\u001B[1;33m.\u001B[0m\u001B[0mlower\u001B[0m\u001B[1;33m(\u001B[0m\u001B[1;33m)\u001B[0m\u001B[1;33m,\u001B[0m \u001B[0mhow\u001B[0m\u001B[1;33m=\u001B[0m\u001B[1;34m\"left\"\u001B[0m\u001B[1;33m)\u001B[0m\u001B[1;33m\u001B[0m\u001B[1;33m\u001B[0m\u001B[0m\n\u001B[0m\u001B[0;32m     16\u001B[0m     \u001B[1;32mreturn\u001B[0m \u001B[0mplant_details\u001B[0m\u001B[1;33m\u001B[0m\u001B[1;33m\u001B[0m\u001B[0m\n\u001B[0;32m     17\u001B[0m \u001B[1;33m\u001B[0m\u001B[0m\n",
      "\u001B[1;32mC:\\ProgramData\\Anaconda3\\lib\\site-packages\\pandas\\core\\reshape\\merge.py\u001B[0m in \u001B[0;36mmerge\u001B[1;34m(left, right, how, on, left_on, right_on, left_index, right_index, sort, suffixes, copy, indicator, validate)\u001B[0m\n\u001B[0;32m     86\u001B[0m         \u001B[0mvalidate\u001B[0m\u001B[1;33m=\u001B[0m\u001B[0mvalidate\u001B[0m\u001B[1;33m,\u001B[0m\u001B[1;33m\u001B[0m\u001B[1;33m\u001B[0m\u001B[0m\n\u001B[0;32m     87\u001B[0m     )\n\u001B[1;32m---> 88\u001B[1;33m     \u001B[1;32mreturn\u001B[0m \u001B[0mop\u001B[0m\u001B[1;33m.\u001B[0m\u001B[0mget_result\u001B[0m\u001B[1;33m(\u001B[0m\u001B[1;33m)\u001B[0m\u001B[1;33m\u001B[0m\u001B[1;33m\u001B[0m\u001B[0m\n\u001B[0m\u001B[0;32m     89\u001B[0m \u001B[1;33m\u001B[0m\u001B[0m\n\u001B[0;32m     90\u001B[0m \u001B[1;33m\u001B[0m\u001B[0m\n",
      "\u001B[1;32mC:\\ProgramData\\Anaconda3\\lib\\site-packages\\pandas\\core\\reshape\\merge.py\u001B[0m in \u001B[0;36mget_result\u001B[1;34m(self)\u001B[0m\n\u001B[0;32m    666\u001B[0m             \u001B[0mresult\u001B[0m \u001B[1;33m=\u001B[0m \u001B[0mself\u001B[0m\u001B[1;33m.\u001B[0m\u001B[0m_indicator_post_merge\u001B[0m\u001B[1;33m(\u001B[0m\u001B[0mresult\u001B[0m\u001B[1;33m)\u001B[0m\u001B[1;33m\u001B[0m\u001B[1;33m\u001B[0m\u001B[0m\n\u001B[0;32m    667\u001B[0m \u001B[1;33m\u001B[0m\u001B[0m\n\u001B[1;32m--> 668\u001B[1;33m         \u001B[0mself\u001B[0m\u001B[1;33m.\u001B[0m\u001B[0m_maybe_add_join_keys\u001B[0m\u001B[1;33m(\u001B[0m\u001B[0mresult\u001B[0m\u001B[1;33m,\u001B[0m \u001B[0mleft_indexer\u001B[0m\u001B[1;33m,\u001B[0m \u001B[0mright_indexer\u001B[0m\u001B[1;33m)\u001B[0m\u001B[1;33m\u001B[0m\u001B[1;33m\u001B[0m\u001B[0m\n\u001B[0m\u001B[0;32m    669\u001B[0m \u001B[1;33m\u001B[0m\u001B[0m\n\u001B[0;32m    670\u001B[0m         \u001B[0mself\u001B[0m\u001B[1;33m.\u001B[0m\u001B[0m_maybe_restore_index_levels\u001B[0m\u001B[1;33m(\u001B[0m\u001B[0mresult\u001B[0m\u001B[1;33m)\u001B[0m\u001B[1;33m\u001B[0m\u001B[1;33m\u001B[0m\u001B[0m\n",
      "\u001B[1;32mC:\\ProgramData\\Anaconda3\\lib\\site-packages\\pandas\\core\\reshape\\merge.py\u001B[0m in \u001B[0;36m_maybe_add_join_keys\u001B[1;34m(self, result, left_indexer, right_indexer)\u001B[0m\n\u001B[0;32m    834\u001B[0m                         \u001B[0mresult\u001B[0m\u001B[1;33m.\u001B[0m\u001B[0mindex\u001B[0m \u001B[1;33m=\u001B[0m \u001B[0mIndex\u001B[0m\u001B[1;33m(\u001B[0m\u001B[0mkey_col\u001B[0m\u001B[1;33m,\u001B[0m \u001B[0mname\u001B[0m\u001B[1;33m=\u001B[0m\u001B[0mname\u001B[0m\u001B[1;33m)\u001B[0m\u001B[1;33m\u001B[0m\u001B[1;33m\u001B[0m\u001B[0m\n\u001B[0;32m    835\u001B[0m                 \u001B[1;32melse\u001B[0m\u001B[1;33m:\u001B[0m\u001B[1;33m\u001B[0m\u001B[1;33m\u001B[0m\u001B[0m\n\u001B[1;32m--> 836\u001B[1;33m                     \u001B[0mresult\u001B[0m\u001B[1;33m.\u001B[0m\u001B[0minsert\u001B[0m\u001B[1;33m(\u001B[0m\u001B[0mi\u001B[0m\u001B[1;33m,\u001B[0m \u001B[0mname\u001B[0m \u001B[1;32mor\u001B[0m \u001B[1;34m\"key_{i}\"\u001B[0m\u001B[1;33m.\u001B[0m\u001B[0mformat\u001B[0m\u001B[1;33m(\u001B[0m\u001B[0mi\u001B[0m\u001B[1;33m=\u001B[0m\u001B[0mi\u001B[0m\u001B[1;33m)\u001B[0m\u001B[1;33m,\u001B[0m \u001B[0mkey_col\u001B[0m\u001B[1;33m)\u001B[0m\u001B[1;33m\u001B[0m\u001B[1;33m\u001B[0m\u001B[0m\n\u001B[0m\u001B[0;32m    837\u001B[0m \u001B[1;33m\u001B[0m\u001B[0m\n\u001B[0;32m    838\u001B[0m     \u001B[1;32mdef\u001B[0m \u001B[0m_get_join_indexers\u001B[0m\u001B[1;33m(\u001B[0m\u001B[0mself\u001B[0m\u001B[1;33m)\u001B[0m\u001B[1;33m:\u001B[0m\u001B[1;33m\u001B[0m\u001B[1;33m\u001B[0m\u001B[0m\n",
      "\u001B[1;32mC:\\ProgramData\\Anaconda3\\lib\\site-packages\\pandas\\core\\frame.py\u001B[0m in \u001B[0;36minsert\u001B[1;34m(self, loc, column, value, allow_duplicates)\u001B[0m\n\u001B[0;32m   3494\u001B[0m         \u001B[0mself\u001B[0m\u001B[1;33m.\u001B[0m\u001B[0m_ensure_valid_index\u001B[0m\u001B[1;33m(\u001B[0m\u001B[0mvalue\u001B[0m\u001B[1;33m)\u001B[0m\u001B[1;33m\u001B[0m\u001B[1;33m\u001B[0m\u001B[0m\n\u001B[0;32m   3495\u001B[0m         \u001B[0mvalue\u001B[0m \u001B[1;33m=\u001B[0m \u001B[0mself\u001B[0m\u001B[1;33m.\u001B[0m\u001B[0m_sanitize_column\u001B[0m\u001B[1;33m(\u001B[0m\u001B[0mcolumn\u001B[0m\u001B[1;33m,\u001B[0m \u001B[0mvalue\u001B[0m\u001B[1;33m,\u001B[0m \u001B[0mbroadcast\u001B[0m\u001B[1;33m=\u001B[0m\u001B[1;32mFalse\u001B[0m\u001B[1;33m)\u001B[0m\u001B[1;33m\u001B[0m\u001B[1;33m\u001B[0m\u001B[0m\n\u001B[1;32m-> 3496\u001B[1;33m         \u001B[0mself\u001B[0m\u001B[1;33m.\u001B[0m\u001B[0m_data\u001B[0m\u001B[1;33m.\u001B[0m\u001B[0minsert\u001B[0m\u001B[1;33m(\u001B[0m\u001B[0mloc\u001B[0m\u001B[1;33m,\u001B[0m \u001B[0mcolumn\u001B[0m\u001B[1;33m,\u001B[0m \u001B[0mvalue\u001B[0m\u001B[1;33m,\u001B[0m \u001B[0mallow_duplicates\u001B[0m\u001B[1;33m=\u001B[0m\u001B[0mallow_duplicates\u001B[0m\u001B[1;33m)\u001B[0m\u001B[1;33m\u001B[0m\u001B[1;33m\u001B[0m\u001B[0m\n\u001B[0m\u001B[0;32m   3497\u001B[0m \u001B[1;33m\u001B[0m\u001B[0m\n\u001B[0;32m   3498\u001B[0m     \u001B[1;32mdef\u001B[0m \u001B[0massign\u001B[0m\u001B[1;33m(\u001B[0m\u001B[0mself\u001B[0m\u001B[1;33m,\u001B[0m \u001B[1;33m**\u001B[0m\u001B[0mkwargs\u001B[0m\u001B[1;33m)\u001B[0m \u001B[1;33m->\u001B[0m \u001B[1;34m\"DataFrame\"\u001B[0m\u001B[1;33m:\u001B[0m\u001B[1;33m\u001B[0m\u001B[1;33m\u001B[0m\u001B[0m\n",
      "\u001B[1;32mC:\\ProgramData\\Anaconda3\\lib\\site-packages\\pandas\\core\\internals\\managers.py\u001B[0m in \u001B[0;36minsert\u001B[1;34m(self, loc, item, value, allow_duplicates)\u001B[0m\n\u001B[0;32m   1171\u001B[0m         \u001B[1;32mif\u001B[0m \u001B[1;32mnot\u001B[0m \u001B[0mallow_duplicates\u001B[0m \u001B[1;32mand\u001B[0m \u001B[0mitem\u001B[0m \u001B[1;32min\u001B[0m \u001B[0mself\u001B[0m\u001B[1;33m.\u001B[0m\u001B[0mitems\u001B[0m\u001B[1;33m:\u001B[0m\u001B[1;33m\u001B[0m\u001B[1;33m\u001B[0m\u001B[0m\n\u001B[0;32m   1172\u001B[0m             \u001B[1;31m# Should this be a different kind of error??\u001B[0m\u001B[1;33m\u001B[0m\u001B[1;33m\u001B[0m\u001B[1;33m\u001B[0m\u001B[0m\n\u001B[1;32m-> 1173\u001B[1;33m             \u001B[1;32mraise\u001B[0m \u001B[0mValueError\u001B[0m\u001B[1;33m(\u001B[0m\u001B[1;34mf\"cannot insert {item}, already exists\"\u001B[0m\u001B[1;33m)\u001B[0m\u001B[1;33m\u001B[0m\u001B[1;33m\u001B[0m\u001B[0m\n\u001B[0m\u001B[0;32m   1174\u001B[0m \u001B[1;33m\u001B[0m\u001B[0m\n\u001B[0;32m   1175\u001B[0m         \u001B[1;32mif\u001B[0m \u001B[1;32mnot\u001B[0m \u001B[0misinstance\u001B[0m\u001B[1;33m(\u001B[0m\u001B[0mloc\u001B[0m\u001B[1;33m,\u001B[0m \u001B[0mint\u001B[0m\u001B[1;33m)\u001B[0m\u001B[1;33m:\u001B[0m\u001B[1;33m\u001B[0m\u001B[1;33m\u001B[0m\u001B[0m\n",
      "\u001B[1;31mValueError\u001B[0m: cannot insert key_0, already exists"
     ]
    }
   ],
   "source": [
    "# %%writefile scripts/graph_classification.py\n",
    "\n",
    "\"\"\"Script for running graph classification on chemical data\"\"\"\n",
    "\n",
    "import functions.import_data as impData\n",
    "import functions.preprocessing as preproc\n",
    "\n",
    "# Import data\n",
    "data_path = \"C:/Users/lshc3/Documents/\"\n",
    "lca = impData.LCA(data_path, lca_lists = ['Basic_chemicals_201','Coke_Petro_19']).location('United States')\n",
    "ihs = impData.IHSData(data_path)\n",
    "icis = impData.ICISData(\"C:\\ICIS_data/US_allchemicals.xlsx\")\n",
    "\n",
    "# Merge data\n",
    "plants = preproc.format_icis(icis, 2019)\n",
    "merged_data = preproc.merge_chemical_data(lca,ihs,plants)\n"
   ],
   "metadata": {
    "collapsed": false,
    "pycharm": {
     "name": "#%%\n"
    }
   }
  },
  {
   "cell_type": "code",
   "execution_count": 37,
   "outputs": [
    {
     "ename": "NameError",
     "evalue": "name 'lca' is not defined",
     "output_type": "error",
     "traceback": [
      "\u001B[1;31m---------------------------------------------------------------------------\u001B[0m",
      "\u001B[1;31mNameError\u001B[0m                                 Traceback (most recent call last)",
      "\u001B[1;32m~\\AppData\\Local\\Temp/ipykernel_26096/3231692715.py\u001B[0m in \u001B[0;36m<module>\u001B[1;34m\u001B[0m\n\u001B[0;32m      1\u001B[0m \u001B[1;31m# Trial merges\u001B[0m\u001B[1;33m\u001B[0m\u001B[1;33m\u001B[0m\u001B[0m\n\u001B[1;32m----> 2\u001B[1;33m \u001B[0mmerge\u001B[0m \u001B[1;33m=\u001B[0m \u001B[0mpd\u001B[0m\u001B[1;33m.\u001B[0m\u001B[0mmerge\u001B[0m\u001B[1;33m(\u001B[0m\u001B[0mlca\u001B[0m\u001B[1;33m,\u001B[0m \u001B[0micis\u001B[0m\u001B[1;33m.\u001B[0m\u001B[0mplants\u001B[0m\u001B[1;33m,\u001B[0m \u001B[0mleft_on\u001B[0m\u001B[1;33m=\u001B[0m\u001B[0mlca\u001B[0m\u001B[1;33m[\u001B[0m\u001B[1;34m'name'\u001B[0m\u001B[1;33m]\u001B[0m\u001B[1;33m.\u001B[0m\u001B[0mstr\u001B[0m\u001B[1;33m.\u001B[0m\u001B[0mlower\u001B[0m\u001B[1;33m(\u001B[0m\u001B[1;33m)\u001B[0m\u001B[1;33m,\u001B[0m \u001B[0mright_on\u001B[0m\u001B[1;33m=\u001B[0m\u001B[0micis\u001B[0m\u001B[1;33m.\u001B[0m\u001B[0mplants\u001B[0m\u001B[1;33m[\u001B[0m\u001B[1;34m'PRODUCT'\u001B[0m\u001B[1;33m]\u001B[0m\u001B[1;33m.\u001B[0m\u001B[0mstr\u001B[0m\u001B[1;33m.\u001B[0m\u001B[0mlower\u001B[0m\u001B[1;33m(\u001B[0m\u001B[1;33m)\u001B[0m\u001B[1;33m,\u001B[0m \u001B[0mhow\u001B[0m\u001B[1;33m=\u001B[0m\u001B[1;34m\"left\"\u001B[0m\u001B[1;33m)\u001B[0m\u001B[1;33m\u001B[0m\u001B[1;33m\u001B[0m\u001B[0m\n\u001B[0m\u001B[0;32m      3\u001B[0m \u001B[0mmerge\u001B[0m\u001B[1;33m[\u001B[0m\u001B[1;34m'PRODUCT'\u001B[0m\u001B[1;33m]\u001B[0m\u001B[1;33m.\u001B[0m\u001B[0munique\u001B[0m\u001B[1;33m(\u001B[0m\u001B[1;33m)\u001B[0m\u001B[1;33m\u001B[0m\u001B[1;33m\u001B[0m\u001B[0m\n\u001B[0;32m      4\u001B[0m \u001B[1;33m\u001B[0m\u001B[0m\n\u001B[0;32m      5\u001B[0m \u001B[0mmerge_cons\u001B[0m \u001B[1;33m=\u001B[0m \u001B[0mpd\u001B[0m\u001B[1;33m.\u001B[0m\u001B[0mmerge\u001B[0m\u001B[1;33m(\u001B[0m\u001B[0mlca\u001B[0m\u001B[1;33m,\u001B[0m \u001B[0micis\u001B[0m\u001B[1;33m.\u001B[0m\u001B[0mcons\u001B[0m\u001B[1;33m,\u001B[0m \u001B[0mleft_on\u001B[0m\u001B[1;33m=\u001B[0m\u001B[0mlca\u001B[0m\u001B[1;33m[\u001B[0m\u001B[1;34m'name'\u001B[0m\u001B[1;33m]\u001B[0m\u001B[1;33m.\u001B[0m\u001B[0mstr\u001B[0m\u001B[1;33m.\u001B[0m\u001B[0mlower\u001B[0m\u001B[1;33m(\u001B[0m\u001B[1;33m)\u001B[0m\u001B[1;33m,\u001B[0m \u001B[0mright_on\u001B[0m\u001B[1;33m=\u001B[0m\u001B[0micis\u001B[0m\u001B[1;33m.\u001B[0m\u001B[0mcons\u001B[0m\u001B[1;33m[\u001B[0m\u001B[1;34m'DERIVATIVE'\u001B[0m\u001B[1;33m]\u001B[0m\u001B[1;33m.\u001B[0m\u001B[0mstr\u001B[0m\u001B[1;33m.\u001B[0m\u001B[0mlower\u001B[0m\u001B[1;33m(\u001B[0m\u001B[1;33m)\u001B[0m\u001B[1;33m,\u001B[0m \u001B[0mhow\u001B[0m\u001B[1;33m=\u001B[0m\u001B[1;34m\"left\"\u001B[0m\u001B[1;33m)\u001B[0m\u001B[1;33m\u001B[0m\u001B[1;33m\u001B[0m\u001B[0m\n",
      "\u001B[1;31mNameError\u001B[0m: name 'lca' is not defined"
     ]
    }
   ],
   "source": [
    "# Trial merges\n",
    "merge = pd.merge(lca, icis.plants, left_on=lca['name'].str.lower(), right_on=icis.plants['PRODUCT'].str.lower(), how=\"left\")\n",
    "merge['PRODUCT'].unique()\n",
    "\n",
    "merge_cons = pd.merge(lca, icis.cons, left_on=lca['name'].str.lower(), right_on=icis.cons['DERIVATIVE'].str.lower(), how=\"left\")\n",
    "merge_cons['DERIVATIVE'].unique()\n",
    "mergeIHS = pd.merge(merge, ihs.materials, left_on=merge['PRODUCT'].str.lower(), right_on=ihs.materials['Product'].str.lower(), how=\"left\")"
   ],
   "metadata": {
    "collapsed": false,
    "pycharm": {
     "name": "#%%\n"
    }
   }
  },
  {
   "cell_type": "code",
   "execution_count": 168,
   "outputs": [
    {
     "ename": "TypeError",
     "evalue": "Can only merge Series or DataFrame objects, a <class 'functions.import_data.IHSData'> was passed",
     "output_type": "error",
     "traceback": [
      "\u001B[1;31m---------------------------------------------------------------------------\u001B[0m",
      "\u001B[1;31mTypeError\u001B[0m                                 Traceback (most recent call last)",
      "\u001B[1;32m<ipython-input-168-1dd7c22749dc>\u001B[0m in \u001B[0;36m<module>\u001B[1;34m\u001B[0m\n\u001B[0;32m      3\u001B[0m \u001B[0mplants_working\u001B[0m\u001B[1;33m[\u001B[0m\u001B[1;34m'ihsProcess'\u001B[0m\u001B[1;33m]\u001B[0m \u001B[1;33m=\u001B[0m \u001B[0mlist\u001B[0m\u001B[1;33m(\u001B[0m\u001B[0mmap\u001B[0m\u001B[1;33m(\u001B[0m\u001B[1;32mlambda\u001B[0m \u001B[0mx\u001B[0m\u001B[1;33m:\u001B[0m \u001B[0mnext\u001B[0m\u001B[1;33m(\u001B[0m\u001B[0miter\u001B[0m\u001B[1;33m(\u001B[0m\u001B[0mdifflib\u001B[0m\u001B[1;33m.\u001B[0m\u001B[0mget_close_matches\u001B[0m\u001B[1;33m(\u001B[0m\u001B[0mstr\u001B[0m\u001B[1;33m(\u001B[0m\u001B[0mx\u001B[0m\u001B[1;33m)\u001B[0m\u001B[1;33m,\u001B[0m \u001B[0mihs\u001B[0m\u001B[1;33m.\u001B[0m\u001B[0mproducts\u001B[0m\u001B[1;33m[\u001B[0m\u001B[1;34m'Process'\u001B[0m\u001B[1;33m]\u001B[0m\u001B[1;33m)\u001B[0m\u001B[1;33m)\u001B[0m\u001B[1;33m,\u001B[0m\u001B[1;32mNone\u001B[0m\u001B[1;33m)\u001B[0m\u001B[1;33m,\u001B[0m \u001B[0mplants_working\u001B[0m\u001B[1;33m[\u001B[0m\u001B[1;34m'PRODUCT'\u001B[0m\u001B[1;33m]\u001B[0m\u001B[1;33m+\u001B[0m\u001B[1;34m' '\u001B[0m\u001B[1;33m+\u001B[0m\u001B[0mplants_working\u001B[0m\u001B[1;33m[\u001B[0m\u001B[1;34m'ROUTE'\u001B[0m\u001B[1;33m]\u001B[0m\u001B[1;33m+\u001B[0m\u001B[1;34m' '\u001B[0m\u001B[1;33m+\u001B[0m\u001B[0mplants_working\u001B[0m\u001B[1;33m[\u001B[0m\u001B[1;34m'TECHNOLOGY'\u001B[0m\u001B[1;33m]\u001B[0m\u001B[1;33m)\u001B[0m\u001B[1;33m)\u001B[0m\u001B[1;33m\u001B[0m\u001B[1;33m\u001B[0m\u001B[0m\n\u001B[0;32m      4\u001B[0m \u001B[1;33m\u001B[0m\u001B[0m\n\u001B[1;32m----> 5\u001B[1;33m \u001B[0mplant_products\u001B[0m \u001B[1;33m=\u001B[0m \u001B[0mpd\u001B[0m\u001B[1;33m.\u001B[0m\u001B[0mmerge\u001B[0m\u001B[1;33m(\u001B[0m\u001B[0mplants_working\u001B[0m\u001B[1;33m,\u001B[0m \u001B[0mihs\u001B[0m\u001B[1;33m,\u001B[0m \u001B[0mleft_on\u001B[0m\u001B[1;33m=\u001B[0m\u001B[0mplants_working\u001B[0m\u001B[1;33m[\u001B[0m\u001B[1;34m'ihsProcess'\u001B[0m\u001B[1;33m]\u001B[0m\u001B[1;33m,\u001B[0m \u001B[0mright_on\u001B[0m\u001B[1;33m=\u001B[0m\u001B[0mihs\u001B[0m\u001B[1;33m.\u001B[0m\u001B[0mproducts\u001B[0m\u001B[1;33m[\u001B[0m\u001B[1;34m'Process'\u001B[0m\u001B[1;33m]\u001B[0m\u001B[1;33m,\u001B[0m \u001B[0mhow\u001B[0m\u001B[1;33m=\u001B[0m\u001B[1;34m\"left\"\u001B[0m\u001B[1;33m)\u001B[0m\u001B[1;33m\u001B[0m\u001B[1;33m\u001B[0m\u001B[0m\n\u001B[0m\u001B[0;32m      6\u001B[0m \u001B[1;33m\u001B[0m\u001B[0m\n\u001B[0;32m      7\u001B[0m \u001B[1;33m\u001B[0m\u001B[0m\n",
      "\u001B[1;32mC:\\ProgramData\\Anaconda3\\lib\\site-packages\\pandas\\core\\reshape\\merge.py\u001B[0m in \u001B[0;36mmerge\u001B[1;34m(left, right, how, on, left_on, right_on, left_index, right_index, sort, suffixes, copy, indicator, validate)\u001B[0m\n\u001B[0;32m     71\u001B[0m     \u001B[0mvalidate\u001B[0m\u001B[1;33m=\u001B[0m\u001B[1;32mNone\u001B[0m\u001B[1;33m,\u001B[0m\u001B[1;33m\u001B[0m\u001B[1;33m\u001B[0m\u001B[0m\n\u001B[0;32m     72\u001B[0m ) -> \"DataFrame\":\n\u001B[1;32m---> 73\u001B[1;33m     op = _MergeOperation(\n\u001B[0m\u001B[0;32m     74\u001B[0m         \u001B[0mleft\u001B[0m\u001B[1;33m,\u001B[0m\u001B[1;33m\u001B[0m\u001B[1;33m\u001B[0m\u001B[0m\n\u001B[0;32m     75\u001B[0m         \u001B[0mright\u001B[0m\u001B[1;33m,\u001B[0m\u001B[1;33m\u001B[0m\u001B[1;33m\u001B[0m\u001B[0m\n",
      "\u001B[1;32mC:\\ProgramData\\Anaconda3\\lib\\site-packages\\pandas\\core\\reshape\\merge.py\u001B[0m in \u001B[0;36m__init__\u001B[1;34m(self, left, right, how, on, left_on, right_on, axis, left_index, right_index, sort, suffixes, copy, indicator, validate)\u001B[0m\n\u001B[0;32m    570\u001B[0m     ):\n\u001B[0;32m    571\u001B[0m         \u001B[0m_left\u001B[0m \u001B[1;33m=\u001B[0m \u001B[0m_validate_operand\u001B[0m\u001B[1;33m(\u001B[0m\u001B[0mleft\u001B[0m\u001B[1;33m)\u001B[0m\u001B[1;33m\u001B[0m\u001B[1;33m\u001B[0m\u001B[0m\n\u001B[1;32m--> 572\u001B[1;33m         \u001B[0m_right\u001B[0m \u001B[1;33m=\u001B[0m \u001B[0m_validate_operand\u001B[0m\u001B[1;33m(\u001B[0m\u001B[0mright\u001B[0m\u001B[1;33m)\u001B[0m\u001B[1;33m\u001B[0m\u001B[1;33m\u001B[0m\u001B[0m\n\u001B[0m\u001B[0;32m    573\u001B[0m         \u001B[0mself\u001B[0m\u001B[1;33m.\u001B[0m\u001B[0mleft\u001B[0m \u001B[1;33m=\u001B[0m \u001B[0mself\u001B[0m\u001B[1;33m.\u001B[0m\u001B[0morig_left\u001B[0m \u001B[1;33m=\u001B[0m \u001B[0m_left\u001B[0m\u001B[1;33m\u001B[0m\u001B[1;33m\u001B[0m\u001B[0m\n\u001B[0;32m    574\u001B[0m         \u001B[0mself\u001B[0m\u001B[1;33m.\u001B[0m\u001B[0mright\u001B[0m \u001B[1;33m=\u001B[0m \u001B[0mself\u001B[0m\u001B[1;33m.\u001B[0m\u001B[0morig_right\u001B[0m \u001B[1;33m=\u001B[0m \u001B[0m_right\u001B[0m\u001B[1;33m\u001B[0m\u001B[1;33m\u001B[0m\u001B[0m\n",
      "\u001B[1;32mC:\\ProgramData\\Anaconda3\\lib\\site-packages\\pandas\\core\\reshape\\merge.py\u001B[0m in \u001B[0;36m_validate_operand\u001B[1;34m(obj)\u001B[0m\n\u001B[0;32m   2004\u001B[0m             \u001B[1;32mreturn\u001B[0m \u001B[0mobj\u001B[0m\u001B[1;33m.\u001B[0m\u001B[0mto_frame\u001B[0m\u001B[1;33m(\u001B[0m\u001B[1;33m)\u001B[0m\u001B[1;33m\u001B[0m\u001B[1;33m\u001B[0m\u001B[0m\n\u001B[0;32m   2005\u001B[0m     \u001B[1;32melse\u001B[0m\u001B[1;33m:\u001B[0m\u001B[1;33m\u001B[0m\u001B[1;33m\u001B[0m\u001B[0m\n\u001B[1;32m-> 2006\u001B[1;33m         raise TypeError(\n\u001B[0m\u001B[0;32m   2007\u001B[0m             \u001B[1;34m\"Can only merge Series or DataFrame objects, \"\u001B[0m\u001B[1;33m\u001B[0m\u001B[1;33m\u001B[0m\u001B[0m\n\u001B[0;32m   2008\u001B[0m             \u001B[1;34m\"a {obj} was passed\"\u001B[0m\u001B[1;33m.\u001B[0m\u001B[0mformat\u001B[0m\u001B[1;33m(\u001B[0m\u001B[0mobj\u001B[0m\u001B[1;33m=\u001B[0m\u001B[0mtype\u001B[0m\u001B[1;33m(\u001B[0m\u001B[0mobj\u001B[0m\u001B[1;33m)\u001B[0m\u001B[1;33m)\u001B[0m\u001B[1;33m\u001B[0m\u001B[1;33m\u001B[0m\u001B[0m\n",
      "\u001B[1;31mTypeError\u001B[0m: Can only merge Series or DataFrame objects, a <class 'functions.import_data.IHSData'> was passed"
     ]
    }
   ],
   "source": [
    "# Associate with IHS process and merge\n",
    "import difflib\n",
    "plants_working['ihsProcess'] = list(map(lambda x: next(iter(difflib.get_close_matches(str(x), ihs.products['Process'])),None), plants_working['PRODUCT']+' '+plants_working['ROUTE']+' '+plants_working['TECHNOLOGY']))\n",
    "\n",
    "plant_products = pd.merge(plants_working, ihs, left_on=plants_working['ihsProcess'], right_on=ihs.products['Process'], how=\"left\")\n",
    "\n",
    "\n",
    "# df2 = ihs.products.sort_values('Name')\n",
    "# df2['NameNew'] = df2['Name'].apply(lambda x: next(iter(difflib.get_close_matches(x, plants_working['ROUTE'])),None))\n",
    "# df2['ProcessNew'] = df2['Process'].apply(lambda x: next(iter(difflib.get_close_matches(x, plants_working['PRODUCT'])),None))\n",
    "#.merge(df2)\n",
    "plants_working"
   ],
   "metadata": {
    "collapsed": false,
    "pycharm": {
     "name": "#%%\n"
    }
   }
  },
  {
   "cell_type": "code",
   "execution_count": null,
   "outputs": [],
   "source": [
    "# Sparse matrix with all materials for process frmo IHS"
   ],
   "metadata": {
    "collapsed": false,
    "pycharm": {
     "name": "#%%\n"
    }
   }
  },
  {
   "cell_type": "code",
   "execution_count": null,
   "outputs": [],
   "source": [
    "# Associate with Y vector from EcoInvent"
   ],
   "metadata": {
    "collapsed": false,
    "pycharm": {
     "name": "#%%\n"
    }
   }
  },
  {
   "cell_type": "code",
   "execution_count": 145,
   "outputs": [
    {
     "ename": "TypeError",
     "evalue": "'float' object is not iterable",
     "output_type": "error",
     "traceback": [
      "\u001B[1;31m---------------------------------------------------------------------------\u001B[0m",
      "\u001B[1;31mTypeError\u001B[0m                                 Traceback (most recent call last)",
      "\u001B[1;32m<ipython-input-145-7b39b42e02ec>\u001B[0m in \u001B[0;36m<module>\u001B[1;34m\u001B[0m\n\u001B[0;32m      1\u001B[0m \u001B[1;32mimport\u001B[0m \u001B[0mdifflib\u001B[0m\u001B[1;33m\u001B[0m\u001B[1;33m\u001B[0m\u001B[0m\n\u001B[1;32m----> 2\u001B[1;33m \u001B[0mplants_working\u001B[0m\u001B[1;33m[\u001B[0m\u001B[1;34m'ihsProcess'\u001B[0m\u001B[1;33m]\u001B[0m \u001B[1;33m=\u001B[0m \u001B[0mlist\u001B[0m\u001B[1;33m(\u001B[0m\u001B[0mmap\u001B[0m\u001B[1;33m(\u001B[0m\u001B[1;32mlambda\u001B[0m \u001B[0mx\u001B[0m\u001B[1;33m:\u001B[0m \u001B[0mnext\u001B[0m\u001B[1;33m(\u001B[0m\u001B[0miter\u001B[0m\u001B[1;33m(\u001B[0m\u001B[0mdifflib\u001B[0m\u001B[1;33m.\u001B[0m\u001B[0mget_close_matches\u001B[0m\u001B[1;33m(\u001B[0m\u001B[0mx\u001B[0m\u001B[1;33m,\u001B[0m \u001B[0mihs\u001B[0m\u001B[1;33m.\u001B[0m\u001B[0mproducts\u001B[0m\u001B[1;33m[\u001B[0m\u001B[1;34m'Process'\u001B[0m\u001B[1;33m]\u001B[0m\u001B[1;33m)\u001B[0m\u001B[1;33m)\u001B[0m\u001B[1;33m,\u001B[0m\u001B[1;32mNone\u001B[0m\u001B[1;33m)\u001B[0m\u001B[1;33m,\u001B[0m \u001B[0mplants_working\u001B[0m\u001B[1;33m[\u001B[0m\u001B[1;34m'ROUTE'\u001B[0m\u001B[1;33m]\u001B[0m\u001B[1;33m+\u001B[0m\u001B[1;34m' '\u001B[0m\u001B[1;33m+\u001B[0m\u001B[0mplants_working\u001B[0m\u001B[1;33m[\u001B[0m\u001B[1;34m'TECHNOLOGY'\u001B[0m\u001B[1;33m]\u001B[0m\u001B[1;33m)\u001B[0m\u001B[1;33m)\u001B[0m\u001B[1;33m\u001B[0m\u001B[1;33m\u001B[0m\u001B[0m\n\u001B[0m",
      "\u001B[1;32m<ipython-input-145-7b39b42e02ec>\u001B[0m in \u001B[0;36m<lambda>\u001B[1;34m(x)\u001B[0m\n\u001B[0;32m      1\u001B[0m \u001B[1;32mimport\u001B[0m \u001B[0mdifflib\u001B[0m\u001B[1;33m\u001B[0m\u001B[1;33m\u001B[0m\u001B[0m\n\u001B[1;32m----> 2\u001B[1;33m \u001B[0mplants_working\u001B[0m\u001B[1;33m[\u001B[0m\u001B[1;34m'ihsProcess'\u001B[0m\u001B[1;33m]\u001B[0m \u001B[1;33m=\u001B[0m \u001B[0mlist\u001B[0m\u001B[1;33m(\u001B[0m\u001B[0mmap\u001B[0m\u001B[1;33m(\u001B[0m\u001B[1;32mlambda\u001B[0m \u001B[0mx\u001B[0m\u001B[1;33m:\u001B[0m \u001B[0mnext\u001B[0m\u001B[1;33m(\u001B[0m\u001B[0miter\u001B[0m\u001B[1;33m(\u001B[0m\u001B[0mdifflib\u001B[0m\u001B[1;33m.\u001B[0m\u001B[0mget_close_matches\u001B[0m\u001B[1;33m(\u001B[0m\u001B[0mx\u001B[0m\u001B[1;33m,\u001B[0m \u001B[0mihs\u001B[0m\u001B[1;33m.\u001B[0m\u001B[0mproducts\u001B[0m\u001B[1;33m[\u001B[0m\u001B[1;34m'Process'\u001B[0m\u001B[1;33m]\u001B[0m\u001B[1;33m)\u001B[0m\u001B[1;33m)\u001B[0m\u001B[1;33m,\u001B[0m\u001B[1;32mNone\u001B[0m\u001B[1;33m)\u001B[0m\u001B[1;33m,\u001B[0m \u001B[0mplants_working\u001B[0m\u001B[1;33m[\u001B[0m\u001B[1;34m'ROUTE'\u001B[0m\u001B[1;33m]\u001B[0m\u001B[1;33m+\u001B[0m\u001B[1;34m' '\u001B[0m\u001B[1;33m+\u001B[0m\u001B[0mplants_working\u001B[0m\u001B[1;33m[\u001B[0m\u001B[1;34m'TECHNOLOGY'\u001B[0m\u001B[1;33m]\u001B[0m\u001B[1;33m)\u001B[0m\u001B[1;33m)\u001B[0m\u001B[1;33m\u001B[0m\u001B[1;33m\u001B[0m\u001B[0m\n\u001B[0m",
      "\u001B[1;32mC:\\ProgramData\\Anaconda3\\lib\\difflib.py\u001B[0m in \u001B[0;36mget_close_matches\u001B[1;34m(word, possibilities, n, cutoff)\u001B[0m\n\u001B[0;32m    721\u001B[0m     \u001B[0mresult\u001B[0m \u001B[1;33m=\u001B[0m \u001B[1;33m[\u001B[0m\u001B[1;33m]\u001B[0m\u001B[1;33m\u001B[0m\u001B[1;33m\u001B[0m\u001B[0m\n\u001B[0;32m    722\u001B[0m     \u001B[0ms\u001B[0m \u001B[1;33m=\u001B[0m \u001B[0mSequenceMatcher\u001B[0m\u001B[1;33m(\u001B[0m\u001B[1;33m)\u001B[0m\u001B[1;33m\u001B[0m\u001B[1;33m\u001B[0m\u001B[0m\n\u001B[1;32m--> 723\u001B[1;33m     \u001B[0ms\u001B[0m\u001B[1;33m.\u001B[0m\u001B[0mset_seq2\u001B[0m\u001B[1;33m(\u001B[0m\u001B[0mword\u001B[0m\u001B[1;33m)\u001B[0m\u001B[1;33m\u001B[0m\u001B[1;33m\u001B[0m\u001B[0m\n\u001B[0m\u001B[0;32m    724\u001B[0m     \u001B[1;32mfor\u001B[0m \u001B[0mx\u001B[0m \u001B[1;32min\u001B[0m \u001B[0mpossibilities\u001B[0m\u001B[1;33m:\u001B[0m\u001B[1;33m\u001B[0m\u001B[1;33m\u001B[0m\u001B[0m\n\u001B[0;32m    725\u001B[0m         \u001B[0ms\u001B[0m\u001B[1;33m.\u001B[0m\u001B[0mset_seq1\u001B[0m\u001B[1;33m(\u001B[0m\u001B[0mx\u001B[0m\u001B[1;33m)\u001B[0m\u001B[1;33m\u001B[0m\u001B[1;33m\u001B[0m\u001B[0m\n",
      "\u001B[1;32mC:\\ProgramData\\Anaconda3\\lib\\difflib.py\u001B[0m in \u001B[0;36mset_seq2\u001B[1;34m(self, b)\u001B[0m\n\u001B[0;32m    277\u001B[0m         \u001B[0mself\u001B[0m\u001B[1;33m.\u001B[0m\u001B[0mmatching_blocks\u001B[0m \u001B[1;33m=\u001B[0m \u001B[0mself\u001B[0m\u001B[1;33m.\u001B[0m\u001B[0mopcodes\u001B[0m \u001B[1;33m=\u001B[0m \u001B[1;32mNone\u001B[0m\u001B[1;33m\u001B[0m\u001B[1;33m\u001B[0m\u001B[0m\n\u001B[0;32m    278\u001B[0m         \u001B[0mself\u001B[0m\u001B[1;33m.\u001B[0m\u001B[0mfullbcount\u001B[0m \u001B[1;33m=\u001B[0m \u001B[1;32mNone\u001B[0m\u001B[1;33m\u001B[0m\u001B[1;33m\u001B[0m\u001B[0m\n\u001B[1;32m--> 279\u001B[1;33m         \u001B[0mself\u001B[0m\u001B[1;33m.\u001B[0m\u001B[0m__chain_b\u001B[0m\u001B[1;33m(\u001B[0m\u001B[1;33m)\u001B[0m\u001B[1;33m\u001B[0m\u001B[1;33m\u001B[0m\u001B[0m\n\u001B[0m\u001B[0;32m    280\u001B[0m \u001B[1;33m\u001B[0m\u001B[0m\n\u001B[0;32m    281\u001B[0m     \u001B[1;31m# For each element x in b, set b2j[x] to a list of the indices in\u001B[0m\u001B[1;33m\u001B[0m\u001B[1;33m\u001B[0m\u001B[1;33m\u001B[0m\u001B[0m\n",
      "\u001B[1;32mC:\\ProgramData\\Anaconda3\\lib\\difflib.py\u001B[0m in \u001B[0;36m__chain_b\u001B[1;34m(self)\u001B[0m\n\u001B[0;32m    309\u001B[0m         \u001B[0mself\u001B[0m\u001B[1;33m.\u001B[0m\u001B[0mb2j\u001B[0m \u001B[1;33m=\u001B[0m \u001B[0mb2j\u001B[0m \u001B[1;33m=\u001B[0m \u001B[1;33m{\u001B[0m\u001B[1;33m}\u001B[0m\u001B[1;33m\u001B[0m\u001B[1;33m\u001B[0m\u001B[0m\n\u001B[0;32m    310\u001B[0m \u001B[1;33m\u001B[0m\u001B[0m\n\u001B[1;32m--> 311\u001B[1;33m         \u001B[1;32mfor\u001B[0m \u001B[0mi\u001B[0m\u001B[1;33m,\u001B[0m \u001B[0melt\u001B[0m \u001B[1;32min\u001B[0m \u001B[0menumerate\u001B[0m\u001B[1;33m(\u001B[0m\u001B[0mb\u001B[0m\u001B[1;33m)\u001B[0m\u001B[1;33m:\u001B[0m\u001B[1;33m\u001B[0m\u001B[1;33m\u001B[0m\u001B[0m\n\u001B[0m\u001B[0;32m    312\u001B[0m             \u001B[0mindices\u001B[0m \u001B[1;33m=\u001B[0m \u001B[0mb2j\u001B[0m\u001B[1;33m.\u001B[0m\u001B[0msetdefault\u001B[0m\u001B[1;33m(\u001B[0m\u001B[0melt\u001B[0m\u001B[1;33m,\u001B[0m \u001B[1;33m[\u001B[0m\u001B[1;33m]\u001B[0m\u001B[1;33m)\u001B[0m\u001B[1;33m\u001B[0m\u001B[1;33m\u001B[0m\u001B[0m\n\u001B[0;32m    313\u001B[0m             \u001B[0mindices\u001B[0m\u001B[1;33m.\u001B[0m\u001B[0mappend\u001B[0m\u001B[1;33m(\u001B[0m\u001B[0mi\u001B[0m\u001B[1;33m)\u001B[0m\u001B[1;33m\u001B[0m\u001B[1;33m\u001B[0m\u001B[0m\n",
      "\u001B[1;31mTypeError\u001B[0m: 'float' object is not iterable"
     ]
    }
   ],
   "source": [
    "import difflib\n",
    "plants_working['ihsProcess'] = list(map(lambda x: next(iter(difflib.get_close_matches(x, ihs.products['Process'])),None), plants_working['ROUTE']+' '+plants_working['TECHNOLOGY']))"
   ],
   "metadata": {
    "collapsed": false,
    "pycharm": {
     "name": "#%%\n"
    }
   }
  },
  {
   "cell_type": "code",
   "execution_count": 172,
   "outputs": [
    {
     "data": {
      "text/plain": "[None,\n None,\n None,\n None,\n 'ABS RESIN BY EMULSION POLYMERIZATION',\n 'ABS RESIN BY EMULSION POLYMERIZATION',\n 'ABS RESIN PRODUCTION',\n 'ABS RESIN BY CONTINUOUS MASS POLYMERIZATION',\n 'ACETALDEHYDE FROM ETHYLENE BY ONE-STEP OXIDATION',\n 'ACETIC ACID BY LOW PRESSURE CARBONYLATION OF METHANOL',\n None,\n 'AZELAIC ACID FROM OLEIC ACID',\n None,\n 'ACETIC ACID BY LOW PRESSURE CARBONYLATION OF METHANOL',\n 'ACETIC ACID BY LOW PRESSURE CARBONYLATION OF METHANOL',\n 'ACROLEIN BY PROPYLENE OXIDATION',\n 'ACROLEIN BY PROPYLENE OXIDATION',\n None,\n None,\n None,\n None,\n 'ACROLEIN BY PROPYLENE OXIDATION',\n 'ACROLEIN BY PROPYLENE OXIDATION',\n 'ACROLEIN BY PROPYLENE OXIDATION',\n 'ACROLEIN BY PROPYLENE OXIDATION',\n None,\n 'ACROLEIN BY PROPYLENE OXIDATION',\n 'ACROLEIN BY PROPYLENE OXIDATION',\n 'ACROLEIN BY PROPYLENE OXIDATION',\n 'ACROLEIN BY PROPYLENE OXIDATION',\n 'ACROLEIN BY PROPYLENE OXIDATION',\n None,\n None,\n None,\n None,\n None,\n None,\n None,\n None,\n None,\n None,\n None,\n None,\n None,\n None,\n None,\n 'ACRYLONITRILE FROM PROPYLENE BY AMMOXIDATION',\n 'ACRYLONITRILE FROM PROPYLENE BY AMMOXIDATION',\n 'ACRYLONITRILE FROM PROPYLENE BY AMMOXIDATION',\n 'ACRYLONITRILE FROM PROPYLENE BY AMMOXIDATION',\n 'ACRYLONITRILE FROM PROPYLENE BY AMMOXIDATION',\n 'ACRYLONITRILE FROM PROPYLENE BY AMMOXIDATION',\n 'ADIPIC ACID FROM CYCLOHEXANE BY OXIDATION PROCESS',\n 'ADIPIC ACID FROM PHENOL VIA CYCLOHEXANOL',\n 'ADIPIC ACID FROM CYCLOHEXANE BY OXIDATION PROCESS',\n None,\n None,\n None,\n None,\n None,\n None,\n None,\n None,\n None,\n None,\n None,\n None,\n None,\n None,\n None,\n None,\n None,\n None,\n None,\n None,\n None,\n None,\n None,\n None,\n None,\n None,\n None,\n None,\n None,\n None,\n None,\n None,\n None,\n None,\n None,\n None,\n None,\n None,\n None,\n None,\n None,\n None,\n None,\n None,\n None,\n None,\n None,\n None,\n None,\n None,\n None,\n None,\n None,\n None,\n None,\n None,\n None,\n None,\n None,\n None,\n None,\n None,\n None,\n None,\n None,\n None,\n None,\n None,\n None,\n None,\n None,\n None,\n None,\n None,\n None,\n None,\n None,\n None,\n None,\n None,\n None,\n None,\n None,\n None,\n None,\n None,\n None,\n None,\n None,\n None,\n None,\n None,\n None,\n None,\n None,\n None,\n None,\n None,\n None,\n 'BENZENE FROM TOLUENE BY DEALKYLATION',\n 'BENZENE FROM TOLUENE BY DEALKYLATION',\n 'BENZENE FROM TOLUENE BY DEALKYLATION',\n 'ANILINE FROM NITROBENZENE BY VAPOR-PHASE REDUCTION',\n 'ANILINE FROM NITROBENZENE BY VAPOR-PHASE REDUCTION',\n None,\n 'ANILINE FROM NITROBENZENE BY VAPOR-PHASE REDUCTION',\n 'ANILINE FROM NITROBENZENE BY VAPOR-PHASE REDUCTION',\n 'ANILINE FROM NITROBENZENE BY VAPOR-PHASE REDUCTION',\n 'ANILINE FROM NITROBENZENE BY VAPOR-PHASE REDUCTION',\n None,\n None,\n None,\n None,\n None,\n None,\n None,\n None,\n None,\n None,\n None,\n None,\n None,\n None,\n None,\n None,\n None,\n None,\n None,\n None,\n None,\n None,\n None,\n None,\n None,\n None,\n None,\n None,\n None,\n None,\n None,\n None,\n None,\n None,\n None,\n None,\n None,\n None,\n None,\n None,\n None,\n None,\n None,\n None,\n None,\n None,\n None,\n None,\n None,\n None,\n None,\n None,\n None,\n None,\n None,\n None,\n None,\n None,\n None,\n None,\n None,\n None,\n None,\n None,\n None,\n None,\n None,\n None,\n None,\n None,\n None,\n 'BENZENE FROM TOLUENE BY DEALKYLATION',\n None,\n None,\n None,\n None,\n None,\n None,\n None,\n 'BENZENE FROM TOLUENE BY DEALKYLATION',\n None,\n 'BENZENE FROM TOLUENE BY DEALKYLATION',\n None,\n None,\n None,\n None,\n None,\n None,\n None,\n None,\n None,\n None,\n 'BENZENE FROM TOLUENE BY DEALKYLATION',\n None,\n None,\n None,\n None,\n None,\n 'BENZENE FROM TOLUENE BY DEALKYLATION',\n None,\n None,\n None,\n None,\n None,\n 'BENZENE FROM TOLUENE BY DEALKYLATION',\n None,\n 'BENZENE FROM TOLUENE BY DEALKYLATION',\n None,\n None,\n 'BENZENE AND TOLUENE (1:4.77 RATIO) FROM REFORMATE BY GT-BTX(SM) EXTRACTIVE DISTILLATION',\n None,\n None,\n None,\n 'BENZENE FROM TOLUENE BY DEALKYLATION',\n None,\n None,\n None,\n None,\n None,\n None,\n None,\n None,\n None,\n None,\n None,\n None,\n None,\n None,\n None,\n None,\n None,\n None,\n None,\n None,\n None,\n None,\n None,\n None,\n None,\n None,\n None,\n None,\n None,\n None,\n None,\n None,\n None,\n None,\n 'ADIPIC ACID FROM CYCLOHEXANE BY OXIDATION PROCESS',\n None,\n None,\n None,\n None,\n None,\n None,\n None,\n None,\n None,\n None,\n None,\n None,\n None,\n None,\n None,\n None,\n None,\n None,\n None,\n None,\n None,\n None,\n None,\n None,\n None,\n None,\n None,\n None,\n None,\n None,\n None,\n None,\n None,\n None,\n None,\n None,\n None,\n None,\n None,\n None,\n None,\n None,\n None,\n None,\n None,\n None,\n None,\n None,\n None,\n None,\n None,\n None,\n None,\n None,\n None,\n None,\n None,\n None,\n None,\n None,\n None,\n None,\n None,\n None,\n None,\n None,\n None,\n None,\n None,\n None,\n None,\n None,\n None,\n None,\n None,\n None,\n None,\n None,\n None,\n None,\n None,\n None,\n None,\n None,\n None,\n None,\n None,\n None,\n None,\n None,\n None,\n None,\n None,\n None,\n None,\n None,\n None,\n None,\n None,\n None,\n None,\n None,\n None,\n None,\n None,\n None,\n None,\n None,\n None,\n None,\n None,\n None,\n None,\n None,\n None,\n None,\n None,\n None,\n None,\n None,\n None,\n None,\n None,\n None,\n None,\n None,\n None,\n None,\n None,\n None,\n None,\n None,\n None,\n None,\n None,\n None,\n None,\n None,\n None,\n None,\n None,\n None,\n None,\n None,\n None,\n None,\n None,\n None,\n None,\n None,\n None,\n None,\n None,\n None,\n None,\n None,\n None,\n None,\n None,\n None,\n None,\n None,\n None,\n None,\n None,\n None,\n None,\n None,\n None,\n None,\n None,\n None,\n None,\n None,\n None,\n None,\n None,\n None,\n None,\n None,\n None,\n None,\n None,\n None,\n None,\n None,\n None,\n None,\n None,\n None,\n None,\n None,\n None,\n None,\n None,\n None,\n None,\n None,\n None,\n None,\n None,\n None,\n None,\n None,\n None,\n None,\n None,\n None,\n None,\n None,\n None,\n None,\n None,\n None,\n None,\n None,\n None,\n None,\n None,\n None,\n None,\n None,\n None,\n None,\n None,\n None,\n None,\n None,\n None,\n None,\n None,\n None,\n None,\n None,\n None,\n None,\n None,\n None,\n None,\n None,\n None,\n None,\n None,\n None,\n None,\n None,\n None,\n None,\n None,\n None,\n None,\n None,\n None,\n None,\n None,\n None,\n None,\n None,\n None,\n None,\n None,\n None,\n None,\n None,\n None,\n None,\n None,\n None,\n None,\n None,\n None,\n None,\n None,\n None,\n None,\n None,\n None,\n None,\n None,\n None,\n None,\n None,\n None,\n None,\n None,\n None,\n None,\n None,\n None,\n None,\n None,\n None,\n None,\n None,\n None,\n None,\n None,\n None,\n None,\n None,\n None,\n None,\n None,\n None,\n None,\n None,\n None,\n None,\n None,\n None,\n None,\n None,\n None,\n None,\n None,\n None,\n None,\n None,\n None,\n None,\n None,\n None,\n None,\n None,\n None,\n None,\n None,\n None,\n None,\n None,\n None,\n None,\n 'BENZENE FROM TOLUENE BY DEALKYLATION',\n 'BENZENE FROM TOLUENE BY DEALKYLATION',\n 'BENZENE FROM TOLUENE BY DEALKYLATION',\n 'BENZENE FROM TOLUENE BY DEALKYLATION',\n 'BENZENE FROM TOLUENE BY DEALKYLATION',\n 'BENZENE FROM TOLUENE BY DEALKYLATION',\n None,\n None,\n None,\n None,\n None,\n None,\n None,\n None,\n None,\n None,\n None,\n None,\n None,\n None,\n None,\n None,\n None,\n None,\n None,\n None,\n None,\n None,\n None,\n None,\n None,\n None,\n None,\n None,\n None,\n None,\n None,\n None,\n None,\n None,\n None,\n None,\n None,\n None,\n None,\n None,\n None,\n None,\n None,\n None,\n None,\n None,\n None,\n None,\n None,\n None,\n None,\n None,\n None,\n None,\n None,\n None,\n None,\n None,\n None,\n None,\n None,\n None,\n None,\n None,\n None,\n None,\n None,\n None,\n None,\n None,\n None,\n None,\n None,\n None,\n None,\n None,\n None,\n None,\n None,\n None,\n None,\n None,\n None,\n None,\n None,\n None,\n None,\n None,\n None,\n None,\n None,\n None,\n None,\n None,\n None,\n None,\n None,\n None,\n None,\n None,\n None,\n None,\n 'ETHYLENE FROM METHANOL',\n None,\n None,\n None,\n None,\n None,\n None,\n None,\n 'ETHYLENE FROM ETHANE BY STEAM CRACKING',\n 'ETHYLENE FROM ETHANE BY STEAM CRACKING',\n 'ETHYLENE FROM ETHANE BY STEAM CRACKING',\n 'ETHYLENE FROM ETHANE BY STEAM CRACKING',\n 'ETHYLENE FROM ETHANE BY STEAM CRACKING',\n 'ETHYLENE FROM ETHANE BY STEAM CRACKING',\n 'ETHYLENE FROM ETHANE BY STEAM CRACKING',\n 'ETHYLENE FROM ETHANE BY STEAM CRACKING',\n 'ETHYLENE FROM ETHANE BY STEAM CRACKING',\n 'ETHYLENE FROM ETHANE BY STEAM CRACKING',\n 'ETHYLENE FROM ETHANE BY STEAM CRACKING',\n 'ETHYLENE FROM ETHANE BY STEAM CRACKING',\n 'ETHYLENE FROM ETHANE BY STEAM CRACKING',\n 'ETHYLENE FROM ETHANE BY STEAM CRACKING',\n 'ETHYLENE FROM ETHANE BY STEAM CRACKING',\n 'ETHYLENE FROM ETHANE BY STEAM CRACKING',\n 'ETHYLENE FROM ETHANE BY STEAM CRACKING',\n 'ETHYLENE FROM ETHANE BY STEAM CRACKING',\n 'ETHYLENE FROM ETHANE BY STEAM CRACKING',\n 'ETHYLENE FROM ETHANE BY STEAM CRACKING',\n 'ETHYLENE FROM ETHANE BY STEAM CRACKING',\n 'ETHYLENE FROM ETHANE BY STEAM CRACKING',\n 'ETHYLENE FROM ETHANE BY STEAM CRACKING',\n 'ETHYLENE FROM ETHANE BY STEAM CRACKING',\n 'ETHYLENE FROM ETHANE BY STEAM CRACKING',\n 'ETHYLENE FROM ETHANE BY STEAM CRACKING',\n 'ETHYLENE FROM ETHANE BY STEAM CRACKING',\n 'ETHYLENE FROM ETHANE BY STEAM CRACKING',\n 'ETHYLENE FROM ETHANE BY STEAM CRACKING',\n 'ETHYLENE FROM ETHANE BY STEAM CRACKING',\n 'ETHYLENE FROM REFINERY GAS BY THE EXPANDER PROCESS',\n 'ETHYLENE FROM ETHANE BY STEAM CRACKING',\n 'ETHYLENE FROM ETHANE BY STEAM CRACKING',\n 'ETHYLENE FROM ETHANE BY STEAM CRACKING',\n 'ETHYLENE FROM ETHANE BY STEAM CRACKING',\n 'ETHYLENE FROM ETHANE BY STEAM CRACKING',\n 'ETHYLENE FROM ETHANE BY STEAM CRACKING',\n 'ETHYLENE FROM ETHANE BY STEAM CRACKING',\n 'ETHYLENE FROM REFINERY GAS BY THE EXPANDER PROCESS',\n 'ETHYLENE FROM ETHANE BY STEAM CRACKING',\n 'ETHYLENE FROM ETHANE BY STEAM CRACKING',\n 'ETHYLENE FROM ETHANE BY STEAM CRACKING',\n 'ETHYLENE FROM REFINERY GAS BY THE EXPANDER PROCESS',\n 'ETHYLENE FROM ETHANE BY STEAM CRACKING',\n 'ETHYLENE FROM ETHANE BY STEAM CRACKING',\n 'ETHYLENE FROM ETHANE BY STEAM CRACKING',\n 'ETHYLENE FROM ETHANE BY STEAM CRACKING',\n 'ETHYLENE FROM ETHANE BY STEAM CRACKING',\n 'ETHYLENE FROM ETHANE BY STEAM CRACKING',\n 'ETHYLENE FROM ETHANE BY STEAM CRACKING',\n 'ETHYLENE FROM ETHANE BY OXYDEHYDROGENATION',\n 'ETHYLENE FROM ETHANE BY OXYDEHYDROGENATION',\n 'ETHYLENE FROM ETHANE BY OXYDEHYDROGENATION',\n 'ETHYLENE FROM ETHANE BY OXYDEHYDROGENATION',\n 'ETHYLENE FROM ETHANE BY OXYDEHYDROGENATION',\n 'ETHYLENE FROM ETHANE BY OXYDEHYDROGENATION',\n 'ETHYLENE FROM ETHANE BY OXYDEHYDROGENATION',\n 'ETHYLENE FROM ETHANE BY OXYDEHYDROGENATION',\n 'ETHYLENE FROM ETHANE BY OXYDEHYDROGENATION',\n 'ETHYLENE FROM ETHANE BY OXYDEHYDROGENATION',\n 'ETHYLENE FROM ETHANE BY OXYDEHYDROGENATION',\n 'ACETIC ANHYDRIDE FROM ACETALDEHYDE BY DIRECT OXIDATION',\n 'ACETIC ANHYDRIDE FROM ACETALDEHYDE BY DIRECT OXIDATION',\n 'ACETIC ANHYDRIDE FROM ACETALDEHYDE BY DIRECT OXIDATION',\n 'ACETIC ANHYDRIDE FROM ACETALDEHYDE BY DIRECT OXIDATION',\n 'ACETIC ANHYDRIDE FROM ACETALDEHYDE BY DIRECT OXIDATION',\n 'ACETIC ANHYDRIDE FROM ACETALDEHYDE BY DIRECT OXIDATION',\n 'ACETIC ANHYDRIDE FROM ACETALDEHYDE BY DIRECT OXIDATION',\n 'ACETIC ANHYDRIDE FROM ACETALDEHYDE BY DIRECT OXIDATION',\n 'ACETIC ANHYDRIDE FROM ACETALDEHYDE BY DIRECT OXIDATION',\n 'ACETIC ANHYDRIDE FROM ACETALDEHYDE BY DIRECT OXIDATION',\n 'ACETIC ANHYDRIDE FROM ACETALDEHYDE BY DIRECT OXIDATION',\n 'ACETIC ANHYDRIDE FROM ACETALDEHYDE BY DIRECT OXIDATION',\n 'ACETIC ANHYDRIDE FROM ACETALDEHYDE BY DIRECT OXIDATION',\n 'ACETIC ANHYDRIDE FROM ACETALDEHYDE BY DIRECT OXIDATION',\n None,\n None,\n None,\n None,\n None,\n None,\n None,\n None,\n None,\n None,\n None,\n None,\n None,\n None,\n None,\n None,\n None,\n None,\n None,\n None,\n 'ALLYL ALCOHOL FROM PROPYLENE OXIDE',\n 'ALLYL ALCOHOL FROM PROPYLENE OXIDE',\n None,\n None,\n None,\n None,\n None,\n None,\n None,\n None,\n None,\n None,\n None,\n None,\n None,\n None,\n None,\n None,\n None,\n None,\n None,\n None,\n None,\n None,\n None,\n None,\n None,\n None,\n None,\n None,\n None,\n None,\n None,\n None,\n None,\n None,\n None,\n None,\n None,\n None,\n None,\n None,\n None,\n None,\n None,\n None,\n None,\n None,\n None,\n None,\n None,\n None,\n None,\n None,\n None,\n None,\n None,\n None,\n None,\n None,\n None,\n None,\n None,\n None,\n None,\n None,\n None,\n None,\n None,\n None,\n None,\n None,\n None,\n None,\n None,\n None,\n None,\n None,\n None,\n None,\n None,\n None,\n None,\n None,\n None,\n None,\n None,\n None,\n None,\n None,\n None,\n None,\n None,\n None,\n None,\n None,\n None,\n None,\n None,\n None,\n None,\n None,\n None,\n None,\n None,\n None,\n None,\n None,\n None,\n None,\n None,\n None,\n None,\n None,\n None,\n None,\n None,\n None,\n None,\n None,\n None,\n None,\n None,\n None,\n None,\n None,\n None,\n None,\n None,\n None,\n None,\n None,\n None,\n None,\n None,\n None,\n None,\n None,\n None,\n None,\n None,\n None,\n None,\n None,\n ...]"
     },
     "execution_count": 172,
     "metadata": {},
     "output_type": "execute_result"
    }
   ],
   "source": [
    "l = plants_working['PRODUCT']+' '+plants_working['ROUTE']+' '+plants_working['TECHNOLOGY']\n",
    "list(map(lambda x: next(iter(difflib.get_close_matches(str(x), ihs.products['Process'])),None), plants_working['PRODUCT']+' '+plants_working['ROUTE']+' '+plants_working['TECHNOLOGY']))"
   ],
   "metadata": {
    "collapsed": false,
    "pycharm": {
     "name": "#%%\n"
    }
   }
  }
 ],
 "metadata": {
  "kernelspec": {
   "display_name": "Python 3",
   "language": "python",
   "name": "python3"
  },
  "language_info": {
   "codemirror_mode": {
    "name": "ipython",
    "version": 2
   },
   "file_extension": ".py",
   "mimetype": "text/x-python",
   "name": "python",
   "nbconvert_exporter": "python",
   "pygments_lexer": "ipython2",
   "version": "2.7.6"
  }
 },
 "nbformat": 4,
 "nbformat_minor": 0
}