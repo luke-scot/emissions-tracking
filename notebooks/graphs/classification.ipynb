{
 "cells": [
  {
   "cell_type": "code",
   "execution_count": 176,
   "outputs": [
    {
     "name": "stdout",
     "output_type": "stream",
     "text": [
      "C:\\Users\\lshc3\\PycharmProjects\\emissions-tracking\n"
     ]
    }
   ],
   "source": [
    "%cd C:/Users\\lshc3\\PycharmProjects\\emissions-tracking"
   ],
   "metadata": {
    "collapsed": false,
    "pycharm": {
     "name": "#%%\n"
    }
   }
  },
  {
   "cell_type": "code",
   "execution_count": 177,
   "outputs": [
    {
     "name": "stdout",
     "output_type": "stream",
     "text": [
      "Writing functions/import_data.py\n"
     ]
    }
   ],
   "source": [
    "%%writefile functions/import_data.py\n",
    "\n",
    "\"\"\"Import classes for each type of LCA and chemical manufacturing data used in emissions-tracking project\"\"\"\n",
    "\n",
    "import numpy as np\n",
    "import pandas as pd\n",
    "\n",
    "\n",
    "class LCA(object):\n",
    "    \"\"\"Import EcoInvent CO2e data\"\"\"\n",
    "    def __init__(self, data_path:str, lca_lists:list):\n",
    "        self.data = pd.DataFrame()\n",
    "        for path in lca_lists:\n",
    "            filepath = data_path+\"EcoInvent/\"+path+\"/GWP100a_IPCC2013.csv\"\n",
    "            try:\n",
    "                raw = pd.read_csv(filepath)\n",
    "            except FileNotFoundError:\n",
    "                print(filepath+' not found')\n",
    "            self.data = self.data.append(raw[['name', 'location', 'CO2e']][~raw['generalComment'].str.contains('market')].sort_values('name'))\n",
    "        self.data_path = data_path\n",
    "\n",
    "    def location(self, location='Global'):\n",
    "        \"\"\"Filter entries for EcoInvent regions\"\"\"\n",
    "        loc_filepath = self.data_path+\"EcoInvent\\EcoInvent_locations.csv\"\n",
    "        loc_codes = pd.read_csv(loc_filepath)\n",
    "        region_code = loc_codes['Code'][np.where(loc_codes['Name'] == location)[0]].iloc[0]\n",
    "        rows = []\n",
    "        for product in self.data['name'].unique():\n",
    "            for code in [region_code, 'RoW', 'GLO']:\n",
    "                found = self.data[(self.data['name']==product) & (self.data['location']==code)]\n",
    "                if not found.index.empty:\n",
    "                    rows += list(found.index)\n",
    "                    break\n",
    "        return self.data.loc[rows].groupby(['name','location']).mean().reset_index()\n",
    "\n",
    "\n",
    "class IHSData(object):\n",
    "    \"\"\"Import IHS Markit chemical product and material composition data\"\"\"\n",
    "    def __init__(self, data_path):\n",
    "        product_file = data_path+\"IHS/US/products.csv\"\n",
    "        material_file = data_path+\"IHS/US/materials.csv\"\n",
    "        self.products = pd.read_csv(product_file, index_col=0).reset_index(drop=True)\n",
    "        self.materials = pd.read_csv(material_file, index_col=0).reset_index(drop=True)\n",
    "\n",
    "\n",
    "class ICISData(object):\n",
    "    \"\"\"Import ICIS chemical manufacturing data\"\"\"\n",
    "    def __init__(self, filepath):\n",
    "        self.countryCol = 'COUNTRY/TERRITORY'\n",
    "        self.properties = ['Capacity', 'Statistic Production', 'Import', 'Export', 'Consumption']\n",
    "        in_file = pd.ExcelFile(filepath)\n",
    "        self.plants, self.prod, self.imps, self.exps, self.cons = [pd.DataFrame()]*5\n",
    "\n",
    "        def append_data(prev,region,breaks,start):\n",
    "            \"\"\"Append data while row of ICIS data is within particular type\"\"\"\n",
    "            br_end = breaks[start+1] if start+1 < len(breaks) else -1\n",
    "            return prev.append(region[breaks[start]+1:br_end].dropna(subset=[self.countryCol]), ignore_index=True)\n",
    "\n",
    "        for sheet in in_file.sheet_names[2:]:\n",
    "            region = pd.read_excel(in_file, sheet_name=sheet)\n",
    "            region['Region'] = [sheet]*len(region)\n",
    "            breaks = region.loc[region['PRODUCT'].isin(self.properties)].index\n",
    "            self.plants, self.prod, self.imps, self.exps, self.cons = [append_data(attr,region,breaks,i)\n",
    "                                                                       for i, attr in enumerate([self.plants, self.prod, self.imps, self.exps, self.cons])]"
   ],
   "metadata": {
    "collapsed": false,
    "pycharm": {
     "name": "#%%\n"
    }
   }
  },
  {
   "cell_type": "code",
   "execution_count": 178,
   "outputs": [
    {
     "name": "stdout",
     "output_type": "stream",
     "text": [
      "Writing tests/test_import_data.py\n"
     ]
    }
   ],
   "source": [
    "%%writefile tests/test_import_data.py\n",
    "\n",
    "import unittest\n",
    "# import sys\n",
    "# sys.path.append('C:/Users\\lshc3\\PycharmProjects\\emissions-tracking')\n",
    "# from functions.importData import LCA, IHSData, ICISData\n",
    "import functions.import_data as id\n",
    "\n",
    "class LCATest(unittest.TestCase):\n",
    "\n",
    "        #self.valid_data =\n",
    "\n",
    "    def test_true(self):\n",
    "        # print(utl.to_listlist(['listyy']))\n",
    "        # self.assertEqual(utl.to_listlist(['listyy']),utl.to_listlist(['listyy']))\n",
    "        #self.assertEqual(,True)\n",
    "        valid_data = id.LCA(\"C:/Users/lshc3/Documents/\", ['Test_chemicals'])\n",
    "        self.assertEqual(valid_data[0]['CO2e'], 4.86288208344407, 'Incorrect value found on test case')\n",
    "        #self.assertIsInstance(id.LCA(\"C:/Users/lshc3/Documents/\", ['Test_chemicals']), pd.DataFrame(), 'Import does not return valid pandas Dataframe')\n",
    "        self.assertEqual(True,False)\n",
    "\n",
    "    # def valid_import(self):\n",
    "    #     self.assertIsInstance(self.valid_data, pd.DataFrame, 'Import does not return valid pandas Dataframe')\n",
    "    #     self.assertEqual(self.valid_data[0]['CO2e'], 4.86288208344407, 'Incorrect value found on test case')\n",
    "    #     self.assertRaises(FileNotFoundError, lambda: ipdata.LCA(\"C:/Users/lshc3/Documents/\", ['invalid list']),\n",
    "    #                       msg='FileNotFound error not raised for invalid filepath')\n",
    "    #\n",
    "    # def location_filter(self):\n",
    "    #     filt_locs = set(self.valid_data.location('USA')['location'])\n",
    "    #     self.assertTrue(filt_locs.issubset(['GLO','RoW','USA']), 'Location filter returns unwanted locations')\n",
    "\n",
    "# class IHSData_test(unittest.TestCase):\n",
    "#     def valid_products(self):\n",
    "#         self.assertEqual(True, False, 'Invalid product read')\n",
    "#     def valid_materials(self):\n",
    "#         self.assertEqual(True,False, )\n",
    "\n",
    "if __name__ == '__main__':\n",
    "    unittest.main()\n"
   ],
   "metadata": {
    "collapsed": false,
    "pycharm": {
     "name": "#%%\n"
    }
   }
  },
  {
   "cell_type": "code",
   "execution_count": 163,
   "outputs": [
    {
     "name": "stdout",
     "output_type": "stream",
     "text": [
      "============================= test session starts =============================\n",
      "platform win32 -- Python 3.8.3, pytest-5.4.3, py-1.9.0, pluggy-0.13.1\n",
      "rootdir: C:\\Users\\lshc3\\PycharmProjects\\emissions-tracking\n"
     ]
    },
    {
     "name": "stderr",
     "output_type": "stream",
     "text": [
      "Windows fatal exception: access violation\n",
      "\n",
      "Thread 0x00000c1c (most recent call first):\n",
      "  File \"<fWindows fatal exception: raccess violationo\n",
      "\n",
      "zeWindows fatal exception: access violationn\n",
      "\n"
     ]
    }
   ],
   "source": [
    "!pytest"
   ],
   "metadata": {
    "collapsed": false,
    "pycharm": {
     "name": "#%%\n"
    }
   }
  },
  {
   "cell_type": "code",
   "execution_count": 165,
   "outputs": [],
   "source": [
    "# %%writefile ../../scripts/graph_classification.py\n",
    "\n",
    "import functions.import_data as impData\n",
    "#data_path = \"C:/Users/lukec/OneDrive - University of Cambridge/PhD/Data/\"\n",
    "data_path = \"C:/Users/lshc3/Documents/\"\n",
    "lca = impData.LCA(data_path, lca_lists = ['Basic_chemicals_201','Coke_Petro_19']).location('United States')\n",
    "ihs = impData.IHSData(data_path)\n",
    "icis = impData.ICISData(\"C:\\ICIS_data/US_allchemicals.xlsx\")"
   ],
   "metadata": {
    "collapsed": false,
    "pycharm": {
     "name": "#%%\n"
    }
   }
  },
  {
   "cell_type": "code",
   "execution_count": 170,
   "outputs": [
    {
     "data": {
      "text/plain": "             PRODUCT COUNTRY/TERRITORY       STATE          COMPANY  \\\n0     2-ETHYLHEXANOL     UNITED STATES        n.a.      ~ADDITIONAL   \n1     2-ETHYLHEXANOL     UNITED STATES       TEXAS       BASF CORP.   \n2     2-ETHYLHEXANOL     UNITED STATES       TEXAS       BASF CORP.   \n3     2-ETHYLHEXANOL     UNITED STATES       TEXAS       BASF CORP.   \n4     2-ETHYLHEXANOL     UNITED STATES       TEXAS     DOW CHEMICAL   \n...              ...               ...         ...              ...   \n4412     VISBREAKING     UNITED STATES  CALIFORNIA     UNOCAL CORP.   \n4413     VISBREAKING     UNITED STATES       TEXAS  VALERO REFINING   \n4414     VISBREAKING     UNITED STATES   LOUISIANA  VALERO REFINING   \n4415     VISBREAKING     UNITED STATES       TEXAS  VALERO REFINING   \n4416     VISBREAKING     UNITED STATES       TEXAS  VALERO REFINING   \n\n                   SITE    #          ROUTE TECHNOLOGY  \\\n0          ~UNKNOWN USA  1.0  BUTYRALDEHYDE        OXO   \n1           FREEPORT/TX  1.0  BUTYRALDEHYDE        OXO   \n2           PASADENA/TX  1.0  BUTYRALDEHYDE        OXO   \n3           PASADENA/TX  2.0  BUTYRALDEHYDE       n.a.   \n4         TEXAS CITY/TX  1.0  BUTYRALDEHYDE        OXO   \n...                 ...  ...            ...        ...   \n4412     LOS ANGELES/CA  1.0    VISBREAKING       n.a.   \n4413  CORPUS CHRISTI/TX  2.0    VISBREAKING       n.a.   \n4414       GOOD HOPE/LA  1.0    VISBREAKING       n.a.   \n4415         HOUSTON/TX  1.0    VISBREAKING       n.a.   \n4416      TEXAS CITY/TX  1.0    VISBREAKING       n.a.   \n\n                       LICENSOR START_YR  ... None.58 2037 None.59  2038  \\\n0                          n.a.     2023  ...          220           220   \n1                          BASF        -  ...          160           160   \n2     UN. CARBIDE/DAVY MCKEE/J.     1983  ...    None    -    None     -   \n3                          n.a.     2017  ...          100           100   \n4     UN. CARBIDE/DAVY MCKEE/J.        -  ...           55            55   \n...                         ...      ...  ...     ...  ...     ...   ...   \n4412                       n.a.        -  ...    None    -    None     -   \n4413                       n.a.     1982  ...    None    -    None     -   \n4414                       n.a.     1980  ...    None    -    None     -   \n4415                       n.a.     1978  ...    None    -    None     -   \n4416                       n.a.     1992  ...    None    -    None     -   \n\n      None.60  2039 None.61  2040 None.62                    Region  \n0               220           220          CountryTerritory Summary  \n1               160           160          CountryTerritory Summary  \n2        None     -    None     -    None  CountryTerritory Summary  \n3               100           100          CountryTerritory Summary  \n4                55            55          CountryTerritory Summary  \n...       ...   ...     ...   ...     ...                       ...  \n4412     None     -    None     -    None  CountryTerritory Summary  \n4413     None     -    None     -    None  CountryTerritory Summary  \n4414     None     -    None     -    None  CountryTerritory Summary  \n4415     None     -    None     -    None  CountryTerritory Summary  \n4416     None     -    None     -    None  CountryTerritory Summary  \n\n[4417 rows x 145 columns]",
      "text/html": "<div>\n<style scoped>\n    .dataframe tbody tr th:only-of-type {\n        vertical-align: middle;\n    }\n\n    .dataframe tbody tr th {\n        vertical-align: top;\n    }\n\n    .dataframe thead th {\n        text-align: right;\n    }\n</style>\n<table border=\"1\" class=\"dataframe\">\n  <thead>\n    <tr style=\"text-align: right;\">\n      <th></th>\n      <th>PRODUCT</th>\n      <th>COUNTRY/TERRITORY</th>\n      <th>STATE</th>\n      <th>COMPANY</th>\n      <th>SITE</th>\n      <th>#</th>\n      <th>ROUTE</th>\n      <th>TECHNOLOGY</th>\n      <th>LICENSOR</th>\n      <th>START_YR</th>\n      <th>...</th>\n      <th>None.58</th>\n      <th>2037</th>\n      <th>None.59</th>\n      <th>2038</th>\n      <th>None.60</th>\n      <th>2039</th>\n      <th>None.61</th>\n      <th>2040</th>\n      <th>None.62</th>\n      <th>Region</th>\n    </tr>\n  </thead>\n  <tbody>\n    <tr>\n      <th>0</th>\n      <td>2-ETHYLHEXANOL</td>\n      <td>UNITED STATES</td>\n      <td>n.a.</td>\n      <td>~ADDITIONAL</td>\n      <td>~UNKNOWN USA</td>\n      <td>1.0</td>\n      <td>BUTYRALDEHYDE</td>\n      <td>OXO</td>\n      <td>n.a.</td>\n      <td>2023</td>\n      <td>...</td>\n      <td></td>\n      <td>220</td>\n      <td></td>\n      <td>220</td>\n      <td></td>\n      <td>220</td>\n      <td></td>\n      <td>220</td>\n      <td></td>\n      <td>CountryTerritory Summary</td>\n    </tr>\n    <tr>\n      <th>1</th>\n      <td>2-ETHYLHEXANOL</td>\n      <td>UNITED STATES</td>\n      <td>TEXAS</td>\n      <td>BASF CORP.</td>\n      <td>FREEPORT/TX</td>\n      <td>1.0</td>\n      <td>BUTYRALDEHYDE</td>\n      <td>OXO</td>\n      <td>BASF</td>\n      <td>-</td>\n      <td>...</td>\n      <td></td>\n      <td>160</td>\n      <td></td>\n      <td>160</td>\n      <td></td>\n      <td>160</td>\n      <td></td>\n      <td>160</td>\n      <td></td>\n      <td>CountryTerritory Summary</td>\n    </tr>\n    <tr>\n      <th>2</th>\n      <td>2-ETHYLHEXANOL</td>\n      <td>UNITED STATES</td>\n      <td>TEXAS</td>\n      <td>BASF CORP.</td>\n      <td>PASADENA/TX</td>\n      <td>1.0</td>\n      <td>BUTYRALDEHYDE</td>\n      <td>OXO</td>\n      <td>UN. CARBIDE/DAVY MCKEE/J.</td>\n      <td>1983</td>\n      <td>...</td>\n      <td>None</td>\n      <td>-</td>\n      <td>None</td>\n      <td>-</td>\n      <td>None</td>\n      <td>-</td>\n      <td>None</td>\n      <td>-</td>\n      <td>None</td>\n      <td>CountryTerritory Summary</td>\n    </tr>\n    <tr>\n      <th>3</th>\n      <td>2-ETHYLHEXANOL</td>\n      <td>UNITED STATES</td>\n      <td>TEXAS</td>\n      <td>BASF CORP.</td>\n      <td>PASADENA/TX</td>\n      <td>2.0</td>\n      <td>BUTYRALDEHYDE</td>\n      <td>n.a.</td>\n      <td>n.a.</td>\n      <td>2017</td>\n      <td>...</td>\n      <td></td>\n      <td>100</td>\n      <td></td>\n      <td>100</td>\n      <td></td>\n      <td>100</td>\n      <td></td>\n      <td>100</td>\n      <td></td>\n      <td>CountryTerritory Summary</td>\n    </tr>\n    <tr>\n      <th>4</th>\n      <td>2-ETHYLHEXANOL</td>\n      <td>UNITED STATES</td>\n      <td>TEXAS</td>\n      <td>DOW CHEMICAL</td>\n      <td>TEXAS CITY/TX</td>\n      <td>1.0</td>\n      <td>BUTYRALDEHYDE</td>\n      <td>OXO</td>\n      <td>UN. CARBIDE/DAVY MCKEE/J.</td>\n      <td>-</td>\n      <td>...</td>\n      <td></td>\n      <td>55</td>\n      <td></td>\n      <td>55</td>\n      <td></td>\n      <td>55</td>\n      <td></td>\n      <td>55</td>\n      <td></td>\n      <td>CountryTerritory Summary</td>\n    </tr>\n    <tr>\n      <th>...</th>\n      <td>...</td>\n      <td>...</td>\n      <td>...</td>\n      <td>...</td>\n      <td>...</td>\n      <td>...</td>\n      <td>...</td>\n      <td>...</td>\n      <td>...</td>\n      <td>...</td>\n      <td>...</td>\n      <td>...</td>\n      <td>...</td>\n      <td>...</td>\n      <td>...</td>\n      <td>...</td>\n      <td>...</td>\n      <td>...</td>\n      <td>...</td>\n      <td>...</td>\n      <td>...</td>\n    </tr>\n    <tr>\n      <th>4412</th>\n      <td>VISBREAKING</td>\n      <td>UNITED STATES</td>\n      <td>CALIFORNIA</td>\n      <td>UNOCAL CORP.</td>\n      <td>LOS ANGELES/CA</td>\n      <td>1.0</td>\n      <td>VISBREAKING</td>\n      <td>n.a.</td>\n      <td>n.a.</td>\n      <td>-</td>\n      <td>...</td>\n      <td>None</td>\n      <td>-</td>\n      <td>None</td>\n      <td>-</td>\n      <td>None</td>\n      <td>-</td>\n      <td>None</td>\n      <td>-</td>\n      <td>None</td>\n      <td>CountryTerritory Summary</td>\n    </tr>\n    <tr>\n      <th>4413</th>\n      <td>VISBREAKING</td>\n      <td>UNITED STATES</td>\n      <td>TEXAS</td>\n      <td>VALERO REFINING</td>\n      <td>CORPUS CHRISTI/TX</td>\n      <td>2.0</td>\n      <td>VISBREAKING</td>\n      <td>n.a.</td>\n      <td>n.a.</td>\n      <td>1982</td>\n      <td>...</td>\n      <td>None</td>\n      <td>-</td>\n      <td>None</td>\n      <td>-</td>\n      <td>None</td>\n      <td>-</td>\n      <td>None</td>\n      <td>-</td>\n      <td>None</td>\n      <td>CountryTerritory Summary</td>\n    </tr>\n    <tr>\n      <th>4414</th>\n      <td>VISBREAKING</td>\n      <td>UNITED STATES</td>\n      <td>LOUISIANA</td>\n      <td>VALERO REFINING</td>\n      <td>GOOD HOPE/LA</td>\n      <td>1.0</td>\n      <td>VISBREAKING</td>\n      <td>n.a.</td>\n      <td>n.a.</td>\n      <td>1980</td>\n      <td>...</td>\n      <td>None</td>\n      <td>-</td>\n      <td>None</td>\n      <td>-</td>\n      <td>None</td>\n      <td>-</td>\n      <td>None</td>\n      <td>-</td>\n      <td>None</td>\n      <td>CountryTerritory Summary</td>\n    </tr>\n    <tr>\n      <th>4415</th>\n      <td>VISBREAKING</td>\n      <td>UNITED STATES</td>\n      <td>TEXAS</td>\n      <td>VALERO REFINING</td>\n      <td>HOUSTON/TX</td>\n      <td>1.0</td>\n      <td>VISBREAKING</td>\n      <td>n.a.</td>\n      <td>n.a.</td>\n      <td>1978</td>\n      <td>...</td>\n      <td>None</td>\n      <td>-</td>\n      <td>None</td>\n      <td>-</td>\n      <td>None</td>\n      <td>-</td>\n      <td>None</td>\n      <td>-</td>\n      <td>None</td>\n      <td>CountryTerritory Summary</td>\n    </tr>\n    <tr>\n      <th>4416</th>\n      <td>VISBREAKING</td>\n      <td>UNITED STATES</td>\n      <td>TEXAS</td>\n      <td>VALERO REFINING</td>\n      <td>TEXAS CITY/TX</td>\n      <td>1.0</td>\n      <td>VISBREAKING</td>\n      <td>n.a.</td>\n      <td>n.a.</td>\n      <td>1992</td>\n      <td>...</td>\n      <td>None</td>\n      <td>-</td>\n      <td>None</td>\n      <td>-</td>\n      <td>None</td>\n      <td>-</td>\n      <td>None</td>\n      <td>-</td>\n      <td>None</td>\n      <td>CountryTerritory Summary</td>\n    </tr>\n  </tbody>\n</table>\n<p>4417 rows × 145 columns</p>\n</div>"
     },
     "execution_count": 170,
     "metadata": {},
     "output_type": "execute_result"
    }
   ],
   "source": [
    "icis.plants"
   ],
   "metadata": {
    "collapsed": false,
    "pycharm": {
     "name": "#%%\n"
    }
   }
  },
  {
   "cell_type": "code",
   "execution_count": 166,
   "outputs": [
    {
     "data": {
      "text/plain": "array([nan, 'ACETALDEHYDE', 'ACRYLONITRILE', 'ADIPIC ACID', 'ANILINE',\n       'BENZENE', 'BUTADIENE', 'ETHYLENE', 'ISOPROPANOL'], dtype=object)"
     },
     "execution_count": 166,
     "metadata": {},
     "output_type": "execute_result"
    }
   ],
   "source": [
    "# Trial merges\n",
    "merge = pd.merge(lca, icis.plants, left_on=lca['name'].str.lower(), right_on=icis.plants['PRODUCT'].str.lower(), how=\"left\")\n",
    "merge['PRODUCT'].unique()\n",
    "\n",
    "merge_cons = pd.merge(lca, icis.cons, left_on=lca['name'].str.lower(), right_on=icis.cons['DERIVATIVE'].str.lower(), how=\"left\")\n",
    "merge_cons['DERIVATIVE'].unique()\n",
    "mergeIHS = pd.merge(merge, ihs.materials, left_on=merge['PRODUCT'].str.lower(), right_on=ihs.materials['Product'].str.lower(), how=\"left\")\n",
    "mergeIHS['Product'].unique()"
   ],
   "metadata": {
    "collapsed": false,
    "pycharm": {
     "name": "#%%\n"
    }
   }
  },
  {
   "cell_type": "code",
   "execution_count": 167,
   "outputs": [
    {
     "data": {
      "text/plain": "               PRODUCT COUNTRY/TERRITORY       STATE  \\\n0       2-ETHYLHEXANOL     UNITED STATES       TEXAS   \n1       2-ETHYLHEXANOL     UNITED STATES       TEXAS   \n2       2-ETHYLHEXANOL     UNITED STATES       TEXAS   \n3       2-ETHYLHEXANOL     UNITED STATES       TEXAS   \n4                  ABS     UNITED STATES        OHIO   \n...                ...               ...         ...   \n2453  VINYL ACETATE M.     UNITED STATES       TEXAS   \n2454  VINYL ACETATE M.     UNITED STATES       TEXAS   \n2455  VINYL ACETATE M.     UNITED STATES       TEXAS   \n2456       VISBREAKING     UNITED STATES      HAWAII   \n2457       VISBREAKING     UNITED STATES  CALIFORNIA   \n\n                        COMPANY           SITE          ROUTE      TECHNOLOGY  \\\n0                    BASF CORP.    FREEPORT/TX  BUTYRALDEHYDE             OXO   \n1                    BASF CORP.    PASADENA/TX  BUTYRALDEHYDE            n.a.   \n2                  DOW CHEMICAL  TEXAS CITY/TX  BUTYRALDEHYDE             OXO   \n3              EASTMAN CHEMICAL    LONGVIEW/TX  BUTYRALDEHYDE             OXO   \n4             INEOS STYROLUTION    ADDYSTON/OH   VIRGIN RESIN  POLYMERIZATION   \n...                         ...            ...            ...             ...   \n2453               DOW CHEMICAL  TEXAS CITY/TX       ETHYLENE   ACETOXYLATION   \n2454                KURARAY CO.    LA PORTE/TX       ETHYLENE   ACETOXYLATION   \n2455  LYONDELLBASELL INDUSTRIES    LA PORTE/TX       ETHYLENE   ACETOXYLATION   \n2456        PAR HAWAII REFINING     KAPOLEI/HI    VISBREAKING            n.a.   \n2457       SAN JOAQUIN REFINING     OILDALE/CA    VISBREAKING            n.a.   \n\n                       LICENSOR START_YR START_MO COMPLEX   LATITUDE  \\\n0                          BASF        -       na    n.a.  29.003299   \n1                          n.a.     2017       na    None  29.614724   \n2     UN. CARBIDE/DAVY MCKEE/J.        -       na    n.a.  29.378634   \n3              EASTMAN CHEMICAL        -       na    n.a.  32.437345   \n4                      MONSANTO     1972       na    None  39.135425   \n...                         ...      ...      ...     ...        ...   \n2453                      BAYER     1976       na       *  29.378634   \n2454                       n.a.        -       na    n.a.  29.702605   \n2455                    QUANTUM     1970       na    n.a.  29.708512   \n2456                       n.a.     1987       na       *  21.304607   \n2457                       n.a.     1983       na    n.a.  35.395345   \n\n       LONGITUDE 2019  \n0     -95.393879  160  \n1     -95.052865  100  \n2     -94.943043   55  \n3     -94.702061  250  \n4     -84.713303  195  \n...          ...  ...  \n2453  -94.943043  365  \n2454  -95.038387  335  \n2455  -95.065409  385  \n2456 -158.097343  650  \n2457 -119.047257  296  \n\n[2458 rows x 14 columns]",
      "text/html": "<div>\n<style scoped>\n    .dataframe tbody tr th:only-of-type {\n        vertical-align: middle;\n    }\n\n    .dataframe tbody tr th {\n        vertical-align: top;\n    }\n\n    .dataframe thead th {\n        text-align: right;\n    }\n</style>\n<table border=\"1\" class=\"dataframe\">\n  <thead>\n    <tr style=\"text-align: right;\">\n      <th></th>\n      <th>PRODUCT</th>\n      <th>COUNTRY/TERRITORY</th>\n      <th>STATE</th>\n      <th>COMPANY</th>\n      <th>SITE</th>\n      <th>ROUTE</th>\n      <th>TECHNOLOGY</th>\n      <th>LICENSOR</th>\n      <th>START_YR</th>\n      <th>START_MO</th>\n      <th>COMPLEX</th>\n      <th>LATITUDE</th>\n      <th>LONGITUDE</th>\n      <th>2019</th>\n    </tr>\n  </thead>\n  <tbody>\n    <tr>\n      <th>0</th>\n      <td>2-ETHYLHEXANOL</td>\n      <td>UNITED STATES</td>\n      <td>TEXAS</td>\n      <td>BASF CORP.</td>\n      <td>FREEPORT/TX</td>\n      <td>BUTYRALDEHYDE</td>\n      <td>OXO</td>\n      <td>BASF</td>\n      <td>-</td>\n      <td>na</td>\n      <td>n.a.</td>\n      <td>29.003299</td>\n      <td>-95.393879</td>\n      <td>160</td>\n    </tr>\n    <tr>\n      <th>1</th>\n      <td>2-ETHYLHEXANOL</td>\n      <td>UNITED STATES</td>\n      <td>TEXAS</td>\n      <td>BASF CORP.</td>\n      <td>PASADENA/TX</td>\n      <td>BUTYRALDEHYDE</td>\n      <td>n.a.</td>\n      <td>n.a.</td>\n      <td>2017</td>\n      <td>na</td>\n      <td>None</td>\n      <td>29.614724</td>\n      <td>-95.052865</td>\n      <td>100</td>\n    </tr>\n    <tr>\n      <th>2</th>\n      <td>2-ETHYLHEXANOL</td>\n      <td>UNITED STATES</td>\n      <td>TEXAS</td>\n      <td>DOW CHEMICAL</td>\n      <td>TEXAS CITY/TX</td>\n      <td>BUTYRALDEHYDE</td>\n      <td>OXO</td>\n      <td>UN. CARBIDE/DAVY MCKEE/J.</td>\n      <td>-</td>\n      <td>na</td>\n      <td>n.a.</td>\n      <td>29.378634</td>\n      <td>-94.943043</td>\n      <td>55</td>\n    </tr>\n    <tr>\n      <th>3</th>\n      <td>2-ETHYLHEXANOL</td>\n      <td>UNITED STATES</td>\n      <td>TEXAS</td>\n      <td>EASTMAN CHEMICAL</td>\n      <td>LONGVIEW/TX</td>\n      <td>BUTYRALDEHYDE</td>\n      <td>OXO</td>\n      <td>EASTMAN CHEMICAL</td>\n      <td>-</td>\n      <td>na</td>\n      <td>n.a.</td>\n      <td>32.437345</td>\n      <td>-94.702061</td>\n      <td>250</td>\n    </tr>\n    <tr>\n      <th>4</th>\n      <td>ABS</td>\n      <td>UNITED STATES</td>\n      <td>OHIO</td>\n      <td>INEOS STYROLUTION</td>\n      <td>ADDYSTON/OH</td>\n      <td>VIRGIN RESIN</td>\n      <td>POLYMERIZATION</td>\n      <td>MONSANTO</td>\n      <td>1972</td>\n      <td>na</td>\n      <td>None</td>\n      <td>39.135425</td>\n      <td>-84.713303</td>\n      <td>195</td>\n    </tr>\n    <tr>\n      <th>...</th>\n      <td>...</td>\n      <td>...</td>\n      <td>...</td>\n      <td>...</td>\n      <td>...</td>\n      <td>...</td>\n      <td>...</td>\n      <td>...</td>\n      <td>...</td>\n      <td>...</td>\n      <td>...</td>\n      <td>...</td>\n      <td>...</td>\n      <td>...</td>\n    </tr>\n    <tr>\n      <th>2453</th>\n      <td>VINYL ACETATE M.</td>\n      <td>UNITED STATES</td>\n      <td>TEXAS</td>\n      <td>DOW CHEMICAL</td>\n      <td>TEXAS CITY/TX</td>\n      <td>ETHYLENE</td>\n      <td>ACETOXYLATION</td>\n      <td>BAYER</td>\n      <td>1976</td>\n      <td>na</td>\n      <td>*</td>\n      <td>29.378634</td>\n      <td>-94.943043</td>\n      <td>365</td>\n    </tr>\n    <tr>\n      <th>2454</th>\n      <td>VINYL ACETATE M.</td>\n      <td>UNITED STATES</td>\n      <td>TEXAS</td>\n      <td>KURARAY CO.</td>\n      <td>LA PORTE/TX</td>\n      <td>ETHYLENE</td>\n      <td>ACETOXYLATION</td>\n      <td>n.a.</td>\n      <td>-</td>\n      <td>na</td>\n      <td>n.a.</td>\n      <td>29.702605</td>\n      <td>-95.038387</td>\n      <td>335</td>\n    </tr>\n    <tr>\n      <th>2455</th>\n      <td>VINYL ACETATE M.</td>\n      <td>UNITED STATES</td>\n      <td>TEXAS</td>\n      <td>LYONDELLBASELL INDUSTRIES</td>\n      <td>LA PORTE/TX</td>\n      <td>ETHYLENE</td>\n      <td>ACETOXYLATION</td>\n      <td>QUANTUM</td>\n      <td>1970</td>\n      <td>na</td>\n      <td>n.a.</td>\n      <td>29.708512</td>\n      <td>-95.065409</td>\n      <td>385</td>\n    </tr>\n    <tr>\n      <th>2456</th>\n      <td>VISBREAKING</td>\n      <td>UNITED STATES</td>\n      <td>HAWAII</td>\n      <td>PAR HAWAII REFINING</td>\n      <td>KAPOLEI/HI</td>\n      <td>VISBREAKING</td>\n      <td>n.a.</td>\n      <td>n.a.</td>\n      <td>1987</td>\n      <td>na</td>\n      <td>*</td>\n      <td>21.304607</td>\n      <td>-158.097343</td>\n      <td>650</td>\n    </tr>\n    <tr>\n      <th>2457</th>\n      <td>VISBREAKING</td>\n      <td>UNITED STATES</td>\n      <td>CALIFORNIA</td>\n      <td>SAN JOAQUIN REFINING</td>\n      <td>OILDALE/CA</td>\n      <td>VISBREAKING</td>\n      <td>n.a.</td>\n      <td>n.a.</td>\n      <td>1983</td>\n      <td>na</td>\n      <td>n.a.</td>\n      <td>35.395345</td>\n      <td>-119.047257</td>\n      <td>296</td>\n    </tr>\n  </tbody>\n</table>\n<p>2458 rows × 14 columns</p>\n</div>"
     },
     "execution_count": 167,
     "metadata": {},
     "output_type": "execute_result"
    }
   ],
   "source": [
    "# Get ICIS plants\n",
    "year = 2019\n",
    "plants_clean = icis.plants.drop(columns=['#','DERIVATIVE','NOTE','@','@Sub','Region']+list(filter(lambda i: 'None' in str(i) or (type(i) is int and i!=year), icis.plants.columns)))\n",
    "plants_working = plants_clean[plants_clean[year] != '-'].reset_index(drop=True)\n",
    "plants_working"
   ],
   "metadata": {
    "collapsed": false,
    "pycharm": {
     "name": "#%%\n"
    }
   }
  },
  {
   "cell_type": "code",
   "execution_count": 168,
   "outputs": [
    {
     "ename": "TypeError",
     "evalue": "Can only merge Series or DataFrame objects, a <class 'functions.import_data.IHSData'> was passed",
     "output_type": "error",
     "traceback": [
      "\u001B[1;31m---------------------------------------------------------------------------\u001B[0m",
      "\u001B[1;31mTypeError\u001B[0m                                 Traceback (most recent call last)",
      "\u001B[1;32m<ipython-input-168-1dd7c22749dc>\u001B[0m in \u001B[0;36m<module>\u001B[1;34m\u001B[0m\n\u001B[0;32m      3\u001B[0m \u001B[0mplants_working\u001B[0m\u001B[1;33m[\u001B[0m\u001B[1;34m'ihsProcess'\u001B[0m\u001B[1;33m]\u001B[0m \u001B[1;33m=\u001B[0m \u001B[0mlist\u001B[0m\u001B[1;33m(\u001B[0m\u001B[0mmap\u001B[0m\u001B[1;33m(\u001B[0m\u001B[1;32mlambda\u001B[0m \u001B[0mx\u001B[0m\u001B[1;33m:\u001B[0m \u001B[0mnext\u001B[0m\u001B[1;33m(\u001B[0m\u001B[0miter\u001B[0m\u001B[1;33m(\u001B[0m\u001B[0mdifflib\u001B[0m\u001B[1;33m.\u001B[0m\u001B[0mget_close_matches\u001B[0m\u001B[1;33m(\u001B[0m\u001B[0mstr\u001B[0m\u001B[1;33m(\u001B[0m\u001B[0mx\u001B[0m\u001B[1;33m)\u001B[0m\u001B[1;33m,\u001B[0m \u001B[0mihs\u001B[0m\u001B[1;33m.\u001B[0m\u001B[0mproducts\u001B[0m\u001B[1;33m[\u001B[0m\u001B[1;34m'Process'\u001B[0m\u001B[1;33m]\u001B[0m\u001B[1;33m)\u001B[0m\u001B[1;33m)\u001B[0m\u001B[1;33m,\u001B[0m\u001B[1;32mNone\u001B[0m\u001B[1;33m)\u001B[0m\u001B[1;33m,\u001B[0m \u001B[0mplants_working\u001B[0m\u001B[1;33m[\u001B[0m\u001B[1;34m'PRODUCT'\u001B[0m\u001B[1;33m]\u001B[0m\u001B[1;33m+\u001B[0m\u001B[1;34m' '\u001B[0m\u001B[1;33m+\u001B[0m\u001B[0mplants_working\u001B[0m\u001B[1;33m[\u001B[0m\u001B[1;34m'ROUTE'\u001B[0m\u001B[1;33m]\u001B[0m\u001B[1;33m+\u001B[0m\u001B[1;34m' '\u001B[0m\u001B[1;33m+\u001B[0m\u001B[0mplants_working\u001B[0m\u001B[1;33m[\u001B[0m\u001B[1;34m'TECHNOLOGY'\u001B[0m\u001B[1;33m]\u001B[0m\u001B[1;33m)\u001B[0m\u001B[1;33m)\u001B[0m\u001B[1;33m\u001B[0m\u001B[1;33m\u001B[0m\u001B[0m\n\u001B[0;32m      4\u001B[0m \u001B[1;33m\u001B[0m\u001B[0m\n\u001B[1;32m----> 5\u001B[1;33m \u001B[0mplant_products\u001B[0m \u001B[1;33m=\u001B[0m \u001B[0mpd\u001B[0m\u001B[1;33m.\u001B[0m\u001B[0mmerge\u001B[0m\u001B[1;33m(\u001B[0m\u001B[0mplants_working\u001B[0m\u001B[1;33m,\u001B[0m \u001B[0mihs\u001B[0m\u001B[1;33m,\u001B[0m \u001B[0mleft_on\u001B[0m\u001B[1;33m=\u001B[0m\u001B[0mplants_working\u001B[0m\u001B[1;33m[\u001B[0m\u001B[1;34m'ihsProcess'\u001B[0m\u001B[1;33m]\u001B[0m\u001B[1;33m,\u001B[0m \u001B[0mright_on\u001B[0m\u001B[1;33m=\u001B[0m\u001B[0mihs\u001B[0m\u001B[1;33m.\u001B[0m\u001B[0mproducts\u001B[0m\u001B[1;33m[\u001B[0m\u001B[1;34m'Process'\u001B[0m\u001B[1;33m]\u001B[0m\u001B[1;33m,\u001B[0m \u001B[0mhow\u001B[0m\u001B[1;33m=\u001B[0m\u001B[1;34m\"left\"\u001B[0m\u001B[1;33m)\u001B[0m\u001B[1;33m\u001B[0m\u001B[1;33m\u001B[0m\u001B[0m\n\u001B[0m\u001B[0;32m      6\u001B[0m \u001B[1;33m\u001B[0m\u001B[0m\n\u001B[0;32m      7\u001B[0m \u001B[1;33m\u001B[0m\u001B[0m\n",
      "\u001B[1;32mC:\\ProgramData\\Anaconda3\\lib\\site-packages\\pandas\\core\\reshape\\merge.py\u001B[0m in \u001B[0;36mmerge\u001B[1;34m(left, right, how, on, left_on, right_on, left_index, right_index, sort, suffixes, copy, indicator, validate)\u001B[0m\n\u001B[0;32m     71\u001B[0m     \u001B[0mvalidate\u001B[0m\u001B[1;33m=\u001B[0m\u001B[1;32mNone\u001B[0m\u001B[1;33m,\u001B[0m\u001B[1;33m\u001B[0m\u001B[1;33m\u001B[0m\u001B[0m\n\u001B[0;32m     72\u001B[0m ) -> \"DataFrame\":\n\u001B[1;32m---> 73\u001B[1;33m     op = _MergeOperation(\n\u001B[0m\u001B[0;32m     74\u001B[0m         \u001B[0mleft\u001B[0m\u001B[1;33m,\u001B[0m\u001B[1;33m\u001B[0m\u001B[1;33m\u001B[0m\u001B[0m\n\u001B[0;32m     75\u001B[0m         \u001B[0mright\u001B[0m\u001B[1;33m,\u001B[0m\u001B[1;33m\u001B[0m\u001B[1;33m\u001B[0m\u001B[0m\n",
      "\u001B[1;32mC:\\ProgramData\\Anaconda3\\lib\\site-packages\\pandas\\core\\reshape\\merge.py\u001B[0m in \u001B[0;36m__init__\u001B[1;34m(self, left, right, how, on, left_on, right_on, axis, left_index, right_index, sort, suffixes, copy, indicator, validate)\u001B[0m\n\u001B[0;32m    570\u001B[0m     ):\n\u001B[0;32m    571\u001B[0m         \u001B[0m_left\u001B[0m \u001B[1;33m=\u001B[0m \u001B[0m_validate_operand\u001B[0m\u001B[1;33m(\u001B[0m\u001B[0mleft\u001B[0m\u001B[1;33m)\u001B[0m\u001B[1;33m\u001B[0m\u001B[1;33m\u001B[0m\u001B[0m\n\u001B[1;32m--> 572\u001B[1;33m         \u001B[0m_right\u001B[0m \u001B[1;33m=\u001B[0m \u001B[0m_validate_operand\u001B[0m\u001B[1;33m(\u001B[0m\u001B[0mright\u001B[0m\u001B[1;33m)\u001B[0m\u001B[1;33m\u001B[0m\u001B[1;33m\u001B[0m\u001B[0m\n\u001B[0m\u001B[0;32m    573\u001B[0m         \u001B[0mself\u001B[0m\u001B[1;33m.\u001B[0m\u001B[0mleft\u001B[0m \u001B[1;33m=\u001B[0m \u001B[0mself\u001B[0m\u001B[1;33m.\u001B[0m\u001B[0morig_left\u001B[0m \u001B[1;33m=\u001B[0m \u001B[0m_left\u001B[0m\u001B[1;33m\u001B[0m\u001B[1;33m\u001B[0m\u001B[0m\n\u001B[0;32m    574\u001B[0m         \u001B[0mself\u001B[0m\u001B[1;33m.\u001B[0m\u001B[0mright\u001B[0m \u001B[1;33m=\u001B[0m \u001B[0mself\u001B[0m\u001B[1;33m.\u001B[0m\u001B[0morig_right\u001B[0m \u001B[1;33m=\u001B[0m \u001B[0m_right\u001B[0m\u001B[1;33m\u001B[0m\u001B[1;33m\u001B[0m\u001B[0m\n",
      "\u001B[1;32mC:\\ProgramData\\Anaconda3\\lib\\site-packages\\pandas\\core\\reshape\\merge.py\u001B[0m in \u001B[0;36m_validate_operand\u001B[1;34m(obj)\u001B[0m\n\u001B[0;32m   2004\u001B[0m             \u001B[1;32mreturn\u001B[0m \u001B[0mobj\u001B[0m\u001B[1;33m.\u001B[0m\u001B[0mto_frame\u001B[0m\u001B[1;33m(\u001B[0m\u001B[1;33m)\u001B[0m\u001B[1;33m\u001B[0m\u001B[1;33m\u001B[0m\u001B[0m\n\u001B[0;32m   2005\u001B[0m     \u001B[1;32melse\u001B[0m\u001B[1;33m:\u001B[0m\u001B[1;33m\u001B[0m\u001B[1;33m\u001B[0m\u001B[0m\n\u001B[1;32m-> 2006\u001B[1;33m         raise TypeError(\n\u001B[0m\u001B[0;32m   2007\u001B[0m             \u001B[1;34m\"Can only merge Series or DataFrame objects, \"\u001B[0m\u001B[1;33m\u001B[0m\u001B[1;33m\u001B[0m\u001B[0m\n\u001B[0;32m   2008\u001B[0m             \u001B[1;34m\"a {obj} was passed\"\u001B[0m\u001B[1;33m.\u001B[0m\u001B[0mformat\u001B[0m\u001B[1;33m(\u001B[0m\u001B[0mobj\u001B[0m\u001B[1;33m=\u001B[0m\u001B[0mtype\u001B[0m\u001B[1;33m(\u001B[0m\u001B[0mobj\u001B[0m\u001B[1;33m)\u001B[0m\u001B[1;33m)\u001B[0m\u001B[1;33m\u001B[0m\u001B[1;33m\u001B[0m\u001B[0m\n",
      "\u001B[1;31mTypeError\u001B[0m: Can only merge Series or DataFrame objects, a <class 'functions.import_data.IHSData'> was passed"
     ]
    }
   ],
   "source": [
    "# Associate with IHS process and merge\n",
    "import difflib\n",
    "plants_working['ihsProcess'] = list(map(lambda x: next(iter(difflib.get_close_matches(str(x), ihs.products['Process'])),None), plants_working['PRODUCT']+' '+plants_working['ROUTE']+' '+plants_working['TECHNOLOGY']))\n",
    "\n",
    "plant_products = pd.merge(plants_working, ihs, left_on=plants_working['ihsProcess'], right_on=ihs.products['Process'], how=\"left\")\n",
    "\n",
    "\n",
    "# df2 = ihs.products.sort_values('Name')\n",
    "# df2['NameNew'] = df2['Name'].apply(lambda x: next(iter(difflib.get_close_matches(x, plants_working['ROUTE'])),None))\n",
    "# df2['ProcessNew'] = df2['Process'].apply(lambda x: next(iter(difflib.get_close_matches(x, plants_working['PRODUCT'])),None))\n",
    "#.merge(df2)\n",
    "plants_working"
   ],
   "metadata": {
    "collapsed": false,
    "pycharm": {
     "name": "#%%\n"
    }
   }
  },
  {
   "cell_type": "code",
   "execution_count": null,
   "outputs": [],
   "source": [
    "# Sparse matrix with all materials for process frmo IHS"
   ],
   "metadata": {
    "collapsed": false,
    "pycharm": {
     "name": "#%%\n"
    }
   }
  },
  {
   "cell_type": "code",
   "execution_count": null,
   "outputs": [],
   "source": [
    "# Associate with Y vector from EcoInvent"
   ],
   "metadata": {
    "collapsed": false,
    "pycharm": {
     "name": "#%%\n"
    }
   }
  },
  {
   "cell_type": "code",
   "execution_count": 145,
   "outputs": [
    {
     "ename": "TypeError",
     "evalue": "'float' object is not iterable",
     "output_type": "error",
     "traceback": [
      "\u001B[1;31m---------------------------------------------------------------------------\u001B[0m",
      "\u001B[1;31mTypeError\u001B[0m                                 Traceback (most recent call last)",
      "\u001B[1;32m<ipython-input-145-7b39b42e02ec>\u001B[0m in \u001B[0;36m<module>\u001B[1;34m\u001B[0m\n\u001B[0;32m      1\u001B[0m \u001B[1;32mimport\u001B[0m \u001B[0mdifflib\u001B[0m\u001B[1;33m\u001B[0m\u001B[1;33m\u001B[0m\u001B[0m\n\u001B[1;32m----> 2\u001B[1;33m \u001B[0mplants_working\u001B[0m\u001B[1;33m[\u001B[0m\u001B[1;34m'ihsProcess'\u001B[0m\u001B[1;33m]\u001B[0m \u001B[1;33m=\u001B[0m \u001B[0mlist\u001B[0m\u001B[1;33m(\u001B[0m\u001B[0mmap\u001B[0m\u001B[1;33m(\u001B[0m\u001B[1;32mlambda\u001B[0m \u001B[0mx\u001B[0m\u001B[1;33m:\u001B[0m \u001B[0mnext\u001B[0m\u001B[1;33m(\u001B[0m\u001B[0miter\u001B[0m\u001B[1;33m(\u001B[0m\u001B[0mdifflib\u001B[0m\u001B[1;33m.\u001B[0m\u001B[0mget_close_matches\u001B[0m\u001B[1;33m(\u001B[0m\u001B[0mx\u001B[0m\u001B[1;33m,\u001B[0m \u001B[0mihs\u001B[0m\u001B[1;33m.\u001B[0m\u001B[0mproducts\u001B[0m\u001B[1;33m[\u001B[0m\u001B[1;34m'Process'\u001B[0m\u001B[1;33m]\u001B[0m\u001B[1;33m)\u001B[0m\u001B[1;33m)\u001B[0m\u001B[1;33m,\u001B[0m\u001B[1;32mNone\u001B[0m\u001B[1;33m)\u001B[0m\u001B[1;33m,\u001B[0m \u001B[0mplants_working\u001B[0m\u001B[1;33m[\u001B[0m\u001B[1;34m'ROUTE'\u001B[0m\u001B[1;33m]\u001B[0m\u001B[1;33m+\u001B[0m\u001B[1;34m' '\u001B[0m\u001B[1;33m+\u001B[0m\u001B[0mplants_working\u001B[0m\u001B[1;33m[\u001B[0m\u001B[1;34m'TECHNOLOGY'\u001B[0m\u001B[1;33m]\u001B[0m\u001B[1;33m)\u001B[0m\u001B[1;33m)\u001B[0m\u001B[1;33m\u001B[0m\u001B[1;33m\u001B[0m\u001B[0m\n\u001B[0m",
      "\u001B[1;32m<ipython-input-145-7b39b42e02ec>\u001B[0m in \u001B[0;36m<lambda>\u001B[1;34m(x)\u001B[0m\n\u001B[0;32m      1\u001B[0m \u001B[1;32mimport\u001B[0m \u001B[0mdifflib\u001B[0m\u001B[1;33m\u001B[0m\u001B[1;33m\u001B[0m\u001B[0m\n\u001B[1;32m----> 2\u001B[1;33m \u001B[0mplants_working\u001B[0m\u001B[1;33m[\u001B[0m\u001B[1;34m'ihsProcess'\u001B[0m\u001B[1;33m]\u001B[0m \u001B[1;33m=\u001B[0m \u001B[0mlist\u001B[0m\u001B[1;33m(\u001B[0m\u001B[0mmap\u001B[0m\u001B[1;33m(\u001B[0m\u001B[1;32mlambda\u001B[0m \u001B[0mx\u001B[0m\u001B[1;33m:\u001B[0m \u001B[0mnext\u001B[0m\u001B[1;33m(\u001B[0m\u001B[0miter\u001B[0m\u001B[1;33m(\u001B[0m\u001B[0mdifflib\u001B[0m\u001B[1;33m.\u001B[0m\u001B[0mget_close_matches\u001B[0m\u001B[1;33m(\u001B[0m\u001B[0mx\u001B[0m\u001B[1;33m,\u001B[0m \u001B[0mihs\u001B[0m\u001B[1;33m.\u001B[0m\u001B[0mproducts\u001B[0m\u001B[1;33m[\u001B[0m\u001B[1;34m'Process'\u001B[0m\u001B[1;33m]\u001B[0m\u001B[1;33m)\u001B[0m\u001B[1;33m)\u001B[0m\u001B[1;33m,\u001B[0m\u001B[1;32mNone\u001B[0m\u001B[1;33m)\u001B[0m\u001B[1;33m,\u001B[0m \u001B[0mplants_working\u001B[0m\u001B[1;33m[\u001B[0m\u001B[1;34m'ROUTE'\u001B[0m\u001B[1;33m]\u001B[0m\u001B[1;33m+\u001B[0m\u001B[1;34m' '\u001B[0m\u001B[1;33m+\u001B[0m\u001B[0mplants_working\u001B[0m\u001B[1;33m[\u001B[0m\u001B[1;34m'TECHNOLOGY'\u001B[0m\u001B[1;33m]\u001B[0m\u001B[1;33m)\u001B[0m\u001B[1;33m)\u001B[0m\u001B[1;33m\u001B[0m\u001B[1;33m\u001B[0m\u001B[0m\n\u001B[0m",
      "\u001B[1;32mC:\\ProgramData\\Anaconda3\\lib\\difflib.py\u001B[0m in \u001B[0;36mget_close_matches\u001B[1;34m(word, possibilities, n, cutoff)\u001B[0m\n\u001B[0;32m    721\u001B[0m     \u001B[0mresult\u001B[0m \u001B[1;33m=\u001B[0m \u001B[1;33m[\u001B[0m\u001B[1;33m]\u001B[0m\u001B[1;33m\u001B[0m\u001B[1;33m\u001B[0m\u001B[0m\n\u001B[0;32m    722\u001B[0m     \u001B[0ms\u001B[0m \u001B[1;33m=\u001B[0m \u001B[0mSequenceMatcher\u001B[0m\u001B[1;33m(\u001B[0m\u001B[1;33m)\u001B[0m\u001B[1;33m\u001B[0m\u001B[1;33m\u001B[0m\u001B[0m\n\u001B[1;32m--> 723\u001B[1;33m     \u001B[0ms\u001B[0m\u001B[1;33m.\u001B[0m\u001B[0mset_seq2\u001B[0m\u001B[1;33m(\u001B[0m\u001B[0mword\u001B[0m\u001B[1;33m)\u001B[0m\u001B[1;33m\u001B[0m\u001B[1;33m\u001B[0m\u001B[0m\n\u001B[0m\u001B[0;32m    724\u001B[0m     \u001B[1;32mfor\u001B[0m \u001B[0mx\u001B[0m \u001B[1;32min\u001B[0m \u001B[0mpossibilities\u001B[0m\u001B[1;33m:\u001B[0m\u001B[1;33m\u001B[0m\u001B[1;33m\u001B[0m\u001B[0m\n\u001B[0;32m    725\u001B[0m         \u001B[0ms\u001B[0m\u001B[1;33m.\u001B[0m\u001B[0mset_seq1\u001B[0m\u001B[1;33m(\u001B[0m\u001B[0mx\u001B[0m\u001B[1;33m)\u001B[0m\u001B[1;33m\u001B[0m\u001B[1;33m\u001B[0m\u001B[0m\n",
      "\u001B[1;32mC:\\ProgramData\\Anaconda3\\lib\\difflib.py\u001B[0m in \u001B[0;36mset_seq2\u001B[1;34m(self, b)\u001B[0m\n\u001B[0;32m    277\u001B[0m         \u001B[0mself\u001B[0m\u001B[1;33m.\u001B[0m\u001B[0mmatching_blocks\u001B[0m \u001B[1;33m=\u001B[0m \u001B[0mself\u001B[0m\u001B[1;33m.\u001B[0m\u001B[0mopcodes\u001B[0m \u001B[1;33m=\u001B[0m \u001B[1;32mNone\u001B[0m\u001B[1;33m\u001B[0m\u001B[1;33m\u001B[0m\u001B[0m\n\u001B[0;32m    278\u001B[0m         \u001B[0mself\u001B[0m\u001B[1;33m.\u001B[0m\u001B[0mfullbcount\u001B[0m \u001B[1;33m=\u001B[0m \u001B[1;32mNone\u001B[0m\u001B[1;33m\u001B[0m\u001B[1;33m\u001B[0m\u001B[0m\n\u001B[1;32m--> 279\u001B[1;33m         \u001B[0mself\u001B[0m\u001B[1;33m.\u001B[0m\u001B[0m__chain_b\u001B[0m\u001B[1;33m(\u001B[0m\u001B[1;33m)\u001B[0m\u001B[1;33m\u001B[0m\u001B[1;33m\u001B[0m\u001B[0m\n\u001B[0m\u001B[0;32m    280\u001B[0m \u001B[1;33m\u001B[0m\u001B[0m\n\u001B[0;32m    281\u001B[0m     \u001B[1;31m# For each element x in b, set b2j[x] to a list of the indices in\u001B[0m\u001B[1;33m\u001B[0m\u001B[1;33m\u001B[0m\u001B[1;33m\u001B[0m\u001B[0m\n",
      "\u001B[1;32mC:\\ProgramData\\Anaconda3\\lib\\difflib.py\u001B[0m in \u001B[0;36m__chain_b\u001B[1;34m(self)\u001B[0m\n\u001B[0;32m    309\u001B[0m         \u001B[0mself\u001B[0m\u001B[1;33m.\u001B[0m\u001B[0mb2j\u001B[0m \u001B[1;33m=\u001B[0m \u001B[0mb2j\u001B[0m \u001B[1;33m=\u001B[0m \u001B[1;33m{\u001B[0m\u001B[1;33m}\u001B[0m\u001B[1;33m\u001B[0m\u001B[1;33m\u001B[0m\u001B[0m\n\u001B[0;32m    310\u001B[0m \u001B[1;33m\u001B[0m\u001B[0m\n\u001B[1;32m--> 311\u001B[1;33m         \u001B[1;32mfor\u001B[0m \u001B[0mi\u001B[0m\u001B[1;33m,\u001B[0m \u001B[0melt\u001B[0m \u001B[1;32min\u001B[0m \u001B[0menumerate\u001B[0m\u001B[1;33m(\u001B[0m\u001B[0mb\u001B[0m\u001B[1;33m)\u001B[0m\u001B[1;33m:\u001B[0m\u001B[1;33m\u001B[0m\u001B[1;33m\u001B[0m\u001B[0m\n\u001B[0m\u001B[0;32m    312\u001B[0m             \u001B[0mindices\u001B[0m \u001B[1;33m=\u001B[0m \u001B[0mb2j\u001B[0m\u001B[1;33m.\u001B[0m\u001B[0msetdefault\u001B[0m\u001B[1;33m(\u001B[0m\u001B[0melt\u001B[0m\u001B[1;33m,\u001B[0m \u001B[1;33m[\u001B[0m\u001B[1;33m]\u001B[0m\u001B[1;33m)\u001B[0m\u001B[1;33m\u001B[0m\u001B[1;33m\u001B[0m\u001B[0m\n\u001B[0;32m    313\u001B[0m             \u001B[0mindices\u001B[0m\u001B[1;33m.\u001B[0m\u001B[0mappend\u001B[0m\u001B[1;33m(\u001B[0m\u001B[0mi\u001B[0m\u001B[1;33m)\u001B[0m\u001B[1;33m\u001B[0m\u001B[1;33m\u001B[0m\u001B[0m\n",
      "\u001B[1;31mTypeError\u001B[0m: 'float' object is not iterable"
     ]
    }
   ],
   "source": [
    "import difflib\n",
    "plants_working['ihsProcess'] = list(map(lambda x: next(iter(difflib.get_close_matches(x, ihs.products['Process'])),None), plants_working['ROUTE']+' '+plants_working['TECHNOLOGY']))"
   ],
   "metadata": {
    "collapsed": false,
    "pycharm": {
     "name": "#%%\n"
    }
   }
  },
  {
   "cell_type": "code",
   "execution_count": 172,
   "outputs": [
    {
     "data": {
      "text/plain": "[None,\n None,\n None,\n None,\n 'ABS RESIN BY EMULSION POLYMERIZATION',\n 'ABS RESIN BY EMULSION POLYMERIZATION',\n 'ABS RESIN PRODUCTION',\n 'ABS RESIN BY CONTINUOUS MASS POLYMERIZATION',\n 'ACETALDEHYDE FROM ETHYLENE BY ONE-STEP OXIDATION',\n 'ACETIC ACID BY LOW PRESSURE CARBONYLATION OF METHANOL',\n None,\n 'AZELAIC ACID FROM OLEIC ACID',\n None,\n 'ACETIC ACID BY LOW PRESSURE CARBONYLATION OF METHANOL',\n 'ACETIC ACID BY LOW PRESSURE CARBONYLATION OF METHANOL',\n 'ACROLEIN BY PROPYLENE OXIDATION',\n 'ACROLEIN BY PROPYLENE OXIDATION',\n None,\n None,\n None,\n None,\n 'ACROLEIN BY PROPYLENE OXIDATION',\n 'ACROLEIN BY PROPYLENE OXIDATION',\n 'ACROLEIN BY PROPYLENE OXIDATION',\n 'ACROLEIN BY PROPYLENE OXIDATION',\n None,\n 'ACROLEIN BY PROPYLENE OXIDATION',\n 'ACROLEIN BY PROPYLENE OXIDATION',\n 'ACROLEIN BY PROPYLENE OXIDATION',\n 'ACROLEIN BY PROPYLENE OXIDATION',\n 'ACROLEIN BY PROPYLENE OXIDATION',\n None,\n None,\n None,\n None,\n None,\n None,\n None,\n None,\n None,\n None,\n None,\n None,\n None,\n None,\n None,\n 'ACRYLONITRILE FROM PROPYLENE BY AMMOXIDATION',\n 'ACRYLONITRILE FROM PROPYLENE BY AMMOXIDATION',\n 'ACRYLONITRILE FROM PROPYLENE BY AMMOXIDATION',\n 'ACRYLONITRILE FROM PROPYLENE BY AMMOXIDATION',\n 'ACRYLONITRILE FROM PROPYLENE BY AMMOXIDATION',\n 'ACRYLONITRILE FROM PROPYLENE BY AMMOXIDATION',\n 'ADIPIC ACID FROM CYCLOHEXANE BY OXIDATION PROCESS',\n 'ADIPIC ACID FROM PHENOL VIA CYCLOHEXANOL',\n 'ADIPIC ACID FROM CYCLOHEXANE BY OXIDATION PROCESS',\n None,\n None,\n None,\n None,\n None,\n None,\n None,\n None,\n None,\n None,\n None,\n None,\n None,\n None,\n None,\n None,\n None,\n None,\n None,\n None,\n None,\n None,\n None,\n None,\n None,\n None,\n None,\n None,\n None,\n None,\n None,\n None,\n None,\n None,\n None,\n None,\n None,\n None,\n None,\n None,\n None,\n None,\n None,\n None,\n None,\n None,\n None,\n None,\n None,\n None,\n None,\n None,\n None,\n None,\n None,\n None,\n None,\n None,\n None,\n None,\n None,\n None,\n None,\n None,\n None,\n None,\n None,\n None,\n None,\n None,\n None,\n None,\n None,\n None,\n None,\n None,\n None,\n None,\n None,\n None,\n None,\n None,\n None,\n None,\n None,\n None,\n None,\n None,\n None,\n None,\n None,\n None,\n None,\n None,\n None,\n None,\n None,\n None,\n None,\n 'BENZENE FROM TOLUENE BY DEALKYLATION',\n 'BENZENE FROM TOLUENE BY DEALKYLATION',\n 'BENZENE FROM TOLUENE BY DEALKYLATION',\n 'ANILINE FROM NITROBENZENE BY VAPOR-PHASE REDUCTION',\n 'ANILINE FROM NITROBENZENE BY VAPOR-PHASE REDUCTION',\n None,\n 'ANILINE FROM NITROBENZENE BY VAPOR-PHASE REDUCTION',\n 'ANILINE FROM NITROBENZENE BY VAPOR-PHASE REDUCTION',\n 'ANILINE FROM NITROBENZENE BY VAPOR-PHASE REDUCTION',\n 'ANILINE FROM NITROBENZENE BY VAPOR-PHASE REDUCTION',\n None,\n None,\n None,\n None,\n None,\n None,\n None,\n None,\n None,\n None,\n None,\n None,\n None,\n None,\n None,\n None,\n None,\n None,\n None,\n None,\n None,\n None,\n None,\n None,\n None,\n None,\n None,\n None,\n None,\n None,\n None,\n None,\n None,\n None,\n None,\n None,\n None,\n None,\n None,\n None,\n None,\n None,\n None,\n None,\n None,\n None,\n None,\n None,\n None,\n None,\n None,\n None,\n None,\n None,\n None,\n None,\n None,\n None,\n None,\n None,\n None,\n None,\n None,\n None,\n None,\n None,\n None,\n None,\n None,\n None,\n None,\n 'BENZENE FROM TOLUENE BY DEALKYLATION',\n None,\n None,\n None,\n None,\n None,\n None,\n None,\n 'BENZENE FROM TOLUENE BY DEALKYLATION',\n None,\n 'BENZENE FROM TOLUENE BY DEALKYLATION',\n None,\n None,\n None,\n None,\n None,\n None,\n None,\n None,\n None,\n None,\n 'BENZENE FROM TOLUENE BY DEALKYLATION',\n None,\n None,\n None,\n None,\n None,\n 'BENZENE FROM TOLUENE BY DEALKYLATION',\n None,\n None,\n None,\n None,\n None,\n 'BENZENE FROM TOLUENE BY DEALKYLATION',\n None,\n 'BENZENE FROM TOLUENE BY DEALKYLATION',\n None,\n None,\n 'BENZENE AND TOLUENE (1:4.77 RATIO) FROM REFORMATE BY GT-BTX(SM) EXTRACTIVE DISTILLATION',\n None,\n None,\n None,\n 'BENZENE FROM TOLUENE BY DEALKYLATION',\n None,\n None,\n None,\n None,\n None,\n None,\n None,\n None,\n None,\n None,\n None,\n None,\n None,\n None,\n None,\n None,\n None,\n None,\n None,\n None,\n None,\n None,\n None,\n None,\n None,\n None,\n None,\n None,\n None,\n None,\n None,\n None,\n None,\n None,\n 'ADIPIC ACID FROM CYCLOHEXANE BY OXIDATION PROCESS',\n None,\n None,\n None,\n None,\n None,\n None,\n None,\n None,\n None,\n None,\n None,\n None,\n None,\n None,\n None,\n None,\n None,\n None,\n None,\n None,\n None,\n None,\n None,\n None,\n None,\n None,\n None,\n None,\n None,\n None,\n None,\n None,\n None,\n None,\n None,\n None,\n None,\n None,\n None,\n None,\n None,\n None,\n None,\n None,\n None,\n None,\n None,\n None,\n None,\n None,\n None,\n None,\n None,\n None,\n None,\n None,\n None,\n None,\n None,\n None,\n None,\n None,\n None,\n None,\n None,\n None,\n None,\n None,\n None,\n None,\n None,\n None,\n None,\n None,\n None,\n None,\n None,\n None,\n None,\n None,\n None,\n None,\n None,\n None,\n None,\n None,\n None,\n None,\n None,\n None,\n None,\n None,\n None,\n None,\n None,\n None,\n None,\n None,\n None,\n None,\n None,\n None,\n None,\n None,\n None,\n None,\n None,\n None,\n None,\n None,\n None,\n None,\n None,\n None,\n None,\n None,\n None,\n None,\n None,\n None,\n None,\n None,\n None,\n None,\n None,\n None,\n None,\n None,\n None,\n None,\n None,\n None,\n None,\n None,\n None,\n None,\n None,\n None,\n None,\n None,\n None,\n None,\n None,\n None,\n None,\n None,\n None,\n None,\n None,\n None,\n None,\n None,\n None,\n None,\n None,\n None,\n None,\n None,\n None,\n None,\n None,\n None,\n None,\n None,\n None,\n None,\n None,\n None,\n None,\n None,\n None,\n None,\n None,\n None,\n None,\n None,\n None,\n None,\n None,\n None,\n None,\n None,\n None,\n None,\n None,\n None,\n None,\n None,\n None,\n None,\n None,\n None,\n None,\n None,\n None,\n None,\n None,\n None,\n None,\n None,\n None,\n None,\n None,\n None,\n None,\n None,\n None,\n None,\n None,\n None,\n None,\n None,\n None,\n None,\n None,\n None,\n None,\n None,\n None,\n None,\n None,\n None,\n None,\n None,\n None,\n None,\n None,\n None,\n None,\n None,\n None,\n None,\n None,\n None,\n None,\n None,\n None,\n None,\n None,\n None,\n None,\n None,\n None,\n None,\n None,\n None,\n None,\n None,\n None,\n None,\n None,\n None,\n None,\n None,\n None,\n None,\n None,\n None,\n None,\n None,\n None,\n None,\n None,\n None,\n None,\n None,\n None,\n None,\n None,\n None,\n None,\n None,\n None,\n None,\n None,\n None,\n None,\n None,\n None,\n None,\n None,\n None,\n None,\n None,\n None,\n None,\n None,\n None,\n None,\n None,\n None,\n None,\n None,\n None,\n None,\n None,\n None,\n None,\n None,\n None,\n None,\n None,\n None,\n None,\n None,\n None,\n None,\n None,\n None,\n None,\n None,\n None,\n None,\n None,\n None,\n None,\n None,\n None,\n None,\n None,\n None,\n None,\n None,\n None,\n None,\n None,\n None,\n None,\n None,\n None,\n None,\n None,\n 'BENZENE FROM TOLUENE BY DEALKYLATION',\n 'BENZENE FROM TOLUENE BY DEALKYLATION',\n 'BENZENE FROM TOLUENE BY DEALKYLATION',\n 'BENZENE FROM TOLUENE BY DEALKYLATION',\n 'BENZENE FROM TOLUENE BY DEALKYLATION',\n 'BENZENE FROM TOLUENE BY DEALKYLATION',\n None,\n None,\n None,\n None,\n None,\n None,\n None,\n None,\n None,\n None,\n None,\n None,\n None,\n None,\n None,\n None,\n None,\n None,\n None,\n None,\n None,\n None,\n None,\n None,\n None,\n None,\n None,\n None,\n None,\n None,\n None,\n None,\n None,\n None,\n None,\n None,\n None,\n None,\n None,\n None,\n None,\n None,\n None,\n None,\n None,\n None,\n None,\n None,\n None,\n None,\n None,\n None,\n None,\n None,\n None,\n None,\n None,\n None,\n None,\n None,\n None,\n None,\n None,\n None,\n None,\n None,\n None,\n None,\n None,\n None,\n None,\n None,\n None,\n None,\n None,\n None,\n None,\n None,\n None,\n None,\n None,\n None,\n None,\n None,\n None,\n None,\n None,\n None,\n None,\n None,\n None,\n None,\n None,\n None,\n None,\n None,\n None,\n None,\n None,\n None,\n None,\n None,\n 'ETHYLENE FROM METHANOL',\n None,\n None,\n None,\n None,\n None,\n None,\n None,\n 'ETHYLENE FROM ETHANE BY STEAM CRACKING',\n 'ETHYLENE FROM ETHANE BY STEAM CRACKING',\n 'ETHYLENE FROM ETHANE BY STEAM CRACKING',\n 'ETHYLENE FROM ETHANE BY STEAM CRACKING',\n 'ETHYLENE FROM ETHANE BY STEAM CRACKING',\n 'ETHYLENE FROM ETHANE BY STEAM CRACKING',\n 'ETHYLENE FROM ETHANE BY STEAM CRACKING',\n 'ETHYLENE FROM ETHANE BY STEAM CRACKING',\n 'ETHYLENE FROM ETHANE BY STEAM CRACKING',\n 'ETHYLENE FROM ETHANE BY STEAM CRACKING',\n 'ETHYLENE FROM ETHANE BY STEAM CRACKING',\n 'ETHYLENE FROM ETHANE BY STEAM CRACKING',\n 'ETHYLENE FROM ETHANE BY STEAM CRACKING',\n 'ETHYLENE FROM ETHANE BY STEAM CRACKING',\n 'ETHYLENE FROM ETHANE BY STEAM CRACKING',\n 'ETHYLENE FROM ETHANE BY STEAM CRACKING',\n 'ETHYLENE FROM ETHANE BY STEAM CRACKING',\n 'ETHYLENE FROM ETHANE BY STEAM CRACKING',\n 'ETHYLENE FROM ETHANE BY STEAM CRACKING',\n 'ETHYLENE FROM ETHANE BY STEAM CRACKING',\n 'ETHYLENE FROM ETHANE BY STEAM CRACKING',\n 'ETHYLENE FROM ETHANE BY STEAM CRACKING',\n 'ETHYLENE FROM ETHANE BY STEAM CRACKING',\n 'ETHYLENE FROM ETHANE BY STEAM CRACKING',\n 'ETHYLENE FROM ETHANE BY STEAM CRACKING',\n 'ETHYLENE FROM ETHANE BY STEAM CRACKING',\n 'ETHYLENE FROM ETHANE BY STEAM CRACKING',\n 'ETHYLENE FROM ETHANE BY STEAM CRACKING',\n 'ETHYLENE FROM ETHANE BY STEAM CRACKING',\n 'ETHYLENE FROM ETHANE BY STEAM CRACKING',\n 'ETHYLENE FROM REFINERY GAS BY THE EXPANDER PROCESS',\n 'ETHYLENE FROM ETHANE BY STEAM CRACKING',\n 'ETHYLENE FROM ETHANE BY STEAM CRACKING',\n 'ETHYLENE FROM ETHANE BY STEAM CRACKING',\n 'ETHYLENE FROM ETHANE BY STEAM CRACKING',\n 'ETHYLENE FROM ETHANE BY STEAM CRACKING',\n 'ETHYLENE FROM ETHANE BY STEAM CRACKING',\n 'ETHYLENE FROM ETHANE BY STEAM CRACKING',\n 'ETHYLENE FROM REFINERY GAS BY THE EXPANDER PROCESS',\n 'ETHYLENE FROM ETHANE BY STEAM CRACKING',\n 'ETHYLENE FROM ETHANE BY STEAM CRACKING',\n 'ETHYLENE FROM ETHANE BY STEAM CRACKING',\n 'ETHYLENE FROM REFINERY GAS BY THE EXPANDER PROCESS',\n 'ETHYLENE FROM ETHANE BY STEAM CRACKING',\n 'ETHYLENE FROM ETHANE BY STEAM CRACKING',\n 'ETHYLENE FROM ETHANE BY STEAM CRACKING',\n 'ETHYLENE FROM ETHANE BY STEAM CRACKING',\n 'ETHYLENE FROM ETHANE BY STEAM CRACKING',\n 'ETHYLENE FROM ETHANE BY STEAM CRACKING',\n 'ETHYLENE FROM ETHANE BY STEAM CRACKING',\n 'ETHYLENE FROM ETHANE BY OXYDEHYDROGENATION',\n 'ETHYLENE FROM ETHANE BY OXYDEHYDROGENATION',\n 'ETHYLENE FROM ETHANE BY OXYDEHYDROGENATION',\n 'ETHYLENE FROM ETHANE BY OXYDEHYDROGENATION',\n 'ETHYLENE FROM ETHANE BY OXYDEHYDROGENATION',\n 'ETHYLENE FROM ETHANE BY OXYDEHYDROGENATION',\n 'ETHYLENE FROM ETHANE BY OXYDEHYDROGENATION',\n 'ETHYLENE FROM ETHANE BY OXYDEHYDROGENATION',\n 'ETHYLENE FROM ETHANE BY OXYDEHYDROGENATION',\n 'ETHYLENE FROM ETHANE BY OXYDEHYDROGENATION',\n 'ETHYLENE FROM ETHANE BY OXYDEHYDROGENATION',\n 'ACETIC ANHYDRIDE FROM ACETALDEHYDE BY DIRECT OXIDATION',\n 'ACETIC ANHYDRIDE FROM ACETALDEHYDE BY DIRECT OXIDATION',\n 'ACETIC ANHYDRIDE FROM ACETALDEHYDE BY DIRECT OXIDATION',\n 'ACETIC ANHYDRIDE FROM ACETALDEHYDE BY DIRECT OXIDATION',\n 'ACETIC ANHYDRIDE FROM ACETALDEHYDE BY DIRECT OXIDATION',\n 'ACETIC ANHYDRIDE FROM ACETALDEHYDE BY DIRECT OXIDATION',\n 'ACETIC ANHYDRIDE FROM ACETALDEHYDE BY DIRECT OXIDATION',\n 'ACETIC ANHYDRIDE FROM ACETALDEHYDE BY DIRECT OXIDATION',\n 'ACETIC ANHYDRIDE FROM ACETALDEHYDE BY DIRECT OXIDATION',\n 'ACETIC ANHYDRIDE FROM ACETALDEHYDE BY DIRECT OXIDATION',\n 'ACETIC ANHYDRIDE FROM ACETALDEHYDE BY DIRECT OXIDATION',\n 'ACETIC ANHYDRIDE FROM ACETALDEHYDE BY DIRECT OXIDATION',\n 'ACETIC ANHYDRIDE FROM ACETALDEHYDE BY DIRECT OXIDATION',\n 'ACETIC ANHYDRIDE FROM ACETALDEHYDE BY DIRECT OXIDATION',\n None,\n None,\n None,\n None,\n None,\n None,\n None,\n None,\n None,\n None,\n None,\n None,\n None,\n None,\n None,\n None,\n None,\n None,\n None,\n None,\n 'ALLYL ALCOHOL FROM PROPYLENE OXIDE',\n 'ALLYL ALCOHOL FROM PROPYLENE OXIDE',\n None,\n None,\n None,\n None,\n None,\n None,\n None,\n None,\n None,\n None,\n None,\n None,\n None,\n None,\n None,\n None,\n None,\n None,\n None,\n None,\n None,\n None,\n None,\n None,\n None,\n None,\n None,\n None,\n None,\n None,\n None,\n None,\n None,\n None,\n None,\n None,\n None,\n None,\n None,\n None,\n None,\n None,\n None,\n None,\n None,\n None,\n None,\n None,\n None,\n None,\n None,\n None,\n None,\n None,\n None,\n None,\n None,\n None,\n None,\n None,\n None,\n None,\n None,\n None,\n None,\n None,\n None,\n None,\n None,\n None,\n None,\n None,\n None,\n None,\n None,\n None,\n None,\n None,\n None,\n None,\n None,\n None,\n None,\n None,\n None,\n None,\n None,\n None,\n None,\n None,\n None,\n None,\n None,\n None,\n None,\n None,\n None,\n None,\n None,\n None,\n None,\n None,\n None,\n None,\n None,\n None,\n None,\n None,\n None,\n None,\n None,\n None,\n None,\n None,\n None,\n None,\n None,\n None,\n None,\n None,\n None,\n None,\n None,\n None,\n None,\n None,\n None,\n None,\n None,\n None,\n None,\n None,\n None,\n None,\n None,\n None,\n None,\n None,\n None,\n None,\n None,\n None,\n ...]"
     },
     "execution_count": 172,
     "metadata": {},
     "output_type": "execute_result"
    }
   ],
   "source": [
    "l = plants_working['PRODUCT']+' '+plants_working['ROUTE']+' '+plants_working['TECHNOLOGY']\n",
    "list(map(lambda x: next(iter(difflib.get_close_matches(str(x), ihs.products['Process'])),None), plants_working['PRODUCT']+' '+plants_working['ROUTE']+' '+plants_working['TECHNOLOGY']))"
   ],
   "metadata": {
    "collapsed": false,
    "pycharm": {
     "name": "#%%\n"
    }
   }
  }
 ],
 "metadata": {
  "kernelspec": {
   "display_name": "Python 3",
   "language": "python",
   "name": "python3"
  },
  "language_info": {
   "codemirror_mode": {
    "name": "ipython",
    "version": 2
   },
   "file_extension": ".py",
   "mimetype": "text/x-python",
   "name": "python",
   "nbconvert_exporter": "python",
   "pygments_lexer": "ipython2",
   "version": "2.7.6"
  }
 },
 "nbformat": 4,
 "nbformat_minor": 0
}