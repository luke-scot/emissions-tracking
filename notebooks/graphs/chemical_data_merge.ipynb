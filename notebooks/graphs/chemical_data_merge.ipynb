{
 "cells": [
  {
   "cell_type": "code",
   "execution_count": 1,
   "outputs": [
    {
     "name": "stdout",
     "output_type": "stream",
     "text": [
      "C:\\Users\\lshc3\\PycharmProjects\\emissions-tracking\n"
     ]
    }
   ],
   "source": [
    "%cd C:/Users\\lshc3\\PycharmProjects\\emissions-tracking"
   ],
   "metadata": {
    "collapsed": false,
    "pycharm": {
     "name": "#%%\n"
    }
   }
  },
  {
   "cell_type": "code",
   "execution_count": 2,
   "outputs": [
    {
     "name": "stdout",
     "output_type": "stream",
     "text": [
      "Overwriting functions/import_data.py\n"
     ]
    }
   ],
   "source": [
    "%%writefile functions/import_data.py\n",
    "\n",
    "\"\"\"Import classes for each type of LCA and chemical manufacturing data used in emissions-tracking project\"\"\"\n",
    "\n",
    "import numpy as np\n",
    "import pandas as pd\n",
    "\n",
    "\n",
    "class LCA(object):\n",
    "    \"\"\"Import EcoInvent CO2e data\"\"\"\n",
    "    def __init__(self, data_path:str, lca_lists:list):\n",
    "        self.data = pd.DataFrame()\n",
    "        for path in lca_lists:\n",
    "            filepath = data_path+\"EcoInvent/\"+path+\"/GWP100a_IPCC2013.csv\"\n",
    "            try:\n",
    "                raw = pd.read_csv(filepath)\n",
    "            except FileNotFoundError:\n",
    "                print(filepath+' not found')\n",
    "                raise\n",
    "            self.data = self.data.append(raw[['name', 'location', 'CO2e']][~raw['generalComment'].str.contains('market')].sort_values('name'))\n",
    "        self.data_path = data_path\n",
    "\n",
    "    def location(self, location='Global'):\n",
    "        \"\"\"Filter entries for EcoInvent regions\"\"\"\n",
    "        loc_filepath = self.data_path+\"EcoInvent/EcoInvent_locations.csv\"\n",
    "        loc_codes = pd.read_csv(loc_filepath)\n",
    "        region_code = loc_codes['Code'][np.where(loc_codes['Name'] == location)[0]].iloc[0]\n",
    "        rows = []\n",
    "        for product in self.data['name'].unique():\n",
    "            for code in [region_code, 'RoW', 'GLO']:\n",
    "                found = self.data[(self.data['name']==product) & (self.data['location']==code)]\n",
    "                if not found.index.empty:\n",
    "                    rows += list(found.index)\n",
    "                    break\n",
    "        return self.data.loc[rows].groupby(['name','location']).mean().reset_index()\n",
    "\n",
    "\n",
    "class IHSData(object):\n",
    "    \"\"\"Import IHS Markit chemical product and material composition data\"\"\"\n",
    "    def __init__(self, data_path):\n",
    "        product_file = data_path+\"IHS/US/products.csv\"\n",
    "        material_file = data_path+\"IHS/US/materials.csv\"\n",
    "        self.products = pd.read_csv(product_file, index_col=0).reset_index(drop=True)\n",
    "        self.materials = pd.read_csv(material_file, index_col=0).reset_index(drop=True)\n",
    "\n",
    "\n",
    "class ICISData(object):\n",
    "    \"\"\"Import ICIS chemical manufacturing data\"\"\"\n",
    "    def __init__(self, filepath):\n",
    "        self.countryCol = 'COUNTRY/TERRITORY'\n",
    "        self.properties = ['Capacity', 'Statistic Production', 'Import', 'Export', 'Consumption']\n",
    "        in_file = pd.ExcelFile(filepath)\n",
    "        self.plants, self.prod, self.imps, self.exps, self.cons = [pd.DataFrame()]*5\n",
    "\n",
    "        def append_data(prev,region,breaks,start):\n",
    "            \"\"\"Append data while row of ICIS data is within particular type\"\"\"\n",
    "            br_end = breaks[start+1] if start+1 < len(breaks) else -1\n",
    "            return prev.append(region[breaks[start]+1:br_end].dropna(subset=[self.countryCol]), ignore_index=True)\n",
    "\n",
    "        for sheet in in_file.sheet_names[2:]:\n",
    "            region = pd.read_excel(in_file, sheet_name=sheet)\n",
    "            region['Region'] = [sheet]*len(region)\n",
    "            breaks = region.loc[region['PRODUCT'].isin(self.properties)].index\n",
    "            self.plants, self.prod, self.imps, self.exps, self.cons = [append_data(attr,region,breaks,i)\n",
    "                                                                       for i, attr in enumerate([self.plants, self.prod, self.imps, self.exps, self.cons])]"
   ],
   "metadata": {
    "collapsed": false,
    "pycharm": {
     "name": "#%%\n"
    }
   }
  },
  {
   "cell_type": "code",
   "execution_count": 3,
   "outputs": [
    {
     "name": "stdout",
     "output_type": "stream",
     "text": [
      "Overwriting functions/test_import_data.py\n"
     ]
    }
   ],
   "source": [
    "%%writefile functions/test_import_data.py\n",
    "\n",
    "\"\"\"Unit tests for import_data.py\"\"\"\n",
    "\n",
    "import unittest\n",
    "import pandas as pd\n",
    "import functions.import_data as id\n",
    "\n",
    "\n",
    "class LCATests(unittest.TestCase):\n",
    "    def test_LCA_import(self):\n",
    "        valid_data = id.LCA(\"C:/Users/lshc3/Documents/\", ['Basic_chemicals_201','Coke_Petro_19']).data\n",
    "        self.assertIsInstance(valid_data, pd.DataFrame, 'Import does not return valid pandas Dataframe')\n",
    "        self.assertAlmostEqual(valid_data['CO2e'][0], 4.86288208344407, 3, msg = 'Incorrect value found on test case')\n",
    "        self.assertRaises(FileNotFoundError, lambda: id.LCA(\"C:/Users/lshc3/Documents/\", ['invalid list']))\n",
    "\n",
    "    def test_LCA_location(self):\n",
    "        filt_locs = id.LCA(\"C:/Users/lshc3/Documents/\", ['Basic_chemicals_201','Coke_Petro_19']).location('France')\n",
    "        self.assertTrue(set(filt_locs['location']).issubset(['GLO','RoW','FR']), 'Location filter returns unwanted locations')\n",
    "\n",
    "class IHSDataTests(unittest.TestCase):\n",
    "    def test_products(self):\n",
    "        self.assertIsInstance(id.IHSData(\"C:/Users/lshc3/Documents/\").products, pd.DataFrame, 'Import does not return valid pandas Dataframe')\n",
    "        self.assertEqual(id.IHSData(\"C:/Users/lshc3/Documents/\").products['Name'][0], 'ETHYLENE', 'Incorrect value found on test case')\n",
    "    def test_materials(self):\n",
    "        self.assertIsInstance(id.IHSData(\"C:/Users/lshc3/Documents/\").materials, pd.DataFrame, 'Import does not return valid pandas Dataframe')\n",
    "        self.assertEqual(id.IHSData(\"C:/Users/lshc3/Documents/\").materials['Source'][0], 'CATALYST', 'Incorrect value found on test case')\n",
    "\n",
    "# class IHSDataTests(unittest.TestCase):\n",
    "#     def test_dataframes(self):\n",
    "#         icis = id.ICISData(\"C:/ICIS_data/US_allchemicals.xlsx\")\n",
    "#         #for i in [icis.plants, icis.prod, icis.imps, icis.exps, icis.cons]:\n",
    "#         self.assertIsInstance(icis.plants, pd.DataFrame, 'Import does not return valid pandas Dataframe')\n",
    "#         self.assertIsInstance(icis.prod, pd.DataFrame, 'Import does not return valid pandas Dataframe')\n",
    "\n",
    "if __name__ == '__main__':\n",
    "    unittest.main()"
   ],
   "metadata": {
    "collapsed": false,
    "pycharm": {
     "name": "#%%\n"
    }
   }
  },
  {
   "cell_type": "code",
   "execution_count": 4,
   "outputs": [
    {
     "name": "stdout",
     "output_type": "stream",
     "text": [
      "============================= test session starts =============================\n",
      "platform win32 -- Python 3.8.3, pytest-5.4.3, py-1.9.0, pluggy-0.13.1\n",
      "rootdir: C:\\Users\\lshc3\\PycharmProjects\\emissions-tracking\n",
      "collected 5 items / 1 error / 4 selected\n",
      "\n",
      "=================================== ERRORS ====================================\n",
      "______________ ERROR collecting functions/test_preprocessing.py _______________\n",
      "ImportError while importing test module 'C:\\Users\\lshc3\\PycharmProjects\\emissions-tracking\\functions\\test_preprocessing.py'.\n",
      "Hint: make sure your test modules/packages have valid Python names.\n",
      "Traceback:\n",
      "functions\\test_preprocessing.py:6: in <module>\n",
      "    import preprocessing as pp\n",
      "E   ModuleNotFoundError: No module named 'preprocessing'\n",
      "=========================== short test summary info ===========================\n",
      "ERROR functions/test_preprocessing.py\n",
      "!!!!!!!!!!!!!!!!!!! Interrupted: 1 error during collection !!!!!!!!!!!!!!!!!!!!\n",
      "============================== 1 error in 4.77s ===============================\n"
     ]
    }
   ],
   "source": [
    "!pytest"
   ],
   "metadata": {
    "collapsed": false,
    "pycharm": {
     "name": "#%%\n"
    }
   }
  },
  {
   "cell_type": "code",
   "execution_count": 8,
   "outputs": [
    {
     "name": "stdout",
     "output_type": "stream",
     "text": [
      "Writing functions/test_preprocessing.py\n"
     ]
    }
   ],
   "source": [
    "%%writefile functions/test_preprocessing.py\n",
    "\n",
    "\"\"\"Unit tests for preprocessing.py\"\"\"\n",
    "\n",
    "import unittest\n",
    "import pandas as pd\n",
    "import preprocessing as pp\n",
    "\n",
    "\n",
    "class IcisFormatTests(unittest.TestCase):\n",
    "    def test_ICIS_filter(self):\n",
    "        pass\n",
    "\n",
    "\n",
    "\n",
    "class MergeDataTests(unittest.TestCase):\n",
    "    def test_products(self):\n",
    "        pass\n",
    "\n",
    "\n",
    "if __name__ == '__main__':\n",
    "    unittest.main()"
   ],
   "metadata": {
    "collapsed": false,
    "pycharm": {
     "name": "#%%\n"
    }
   }
  },
  {
   "cell_type": "code",
   "execution_count": null,
   "outputs": [],
   "source": [
    "!pytest"
   ],
   "metadata": {
    "collapsed": false,
    "pycharm": {
     "name": "#%%\n"
    }
   }
  },
  {
   "cell_type": "code",
   "execution_count": 203,
   "outputs": [
    {
     "name": "stdout",
     "output_type": "stream",
     "text": [
      "Overwriting functions/preprocessing.py\n"
     ]
    }
   ],
   "source": [
    "%%writefile functions/preprocessing.py\n",
    "\n",
    "\"\"\"Preprocessing functions for chemical data\"\"\"\n",
    "\n",
    "import numpy as np\n",
    "import pandas as pd\n",
    "from fuzzywuzzy import fuzz\n",
    "\n",
    "def left_merge(df1, df2, col1, col2):\n",
    "    return pd.merge(df1, df2, left_on=df1[col1].str.lower(), right_on=df2[col2].str.lower(), how=\"left\").reset_index(drop=True).drop('key_0',axis=1)\n",
    "\n",
    "def format_icis(icis,year=2019):\n",
    "    plants_clean = icis.plants.drop(columns=['#','DERIVATIVE','NOTE','@','@Sub','Region']+list(filter(lambda i: 'None' in str(i) or (type(i) is int and i!=year), icis.plants.columns)))\n",
    "    plants_working = plants_clean[plants_clean[year] != '-'].reset_index(drop=True)\n",
    "    return plants_working\n",
    "\n",
    "def merge_chemical_data(lca, ihs, plants):\n",
    "    \"\"\"Add EcoInvent LCA data and IHS materials data to ICIS plant data dataframe\"\"\"\n",
    "    # LCA merge\n",
    "    plants_lca = left_merge(plants, lca, 'PRODUCT', 'name')\n",
    "\n",
    "    # IHS product merge\n",
    "    plants_products = left_merge(plants_lca, ihs.products, 'name', 'Name')\n",
    "    matches = [fuzz.ratio(str(i)+' '+str(j), str(k)) for i,j,k in zip(plants_products['ROUTE'], plants_products['TECHNOLOGY'], plants_products['Process'])]\n",
    "    for i in np.where(plants_products['Process'] == 'NaN')[0]:\n",
    "        matches[i] = 0\n",
    "    plants_products['process_match'] = matches\n",
    "    plants_products = plants_products.sort_values(list(plants_products.columns[:12])+['process_match']).drop_duplicates(plants_products.columns[:12],keep='last').reset_index(drop=True)\n",
    "    plants_products.drop('process_match', axis=1, inplace=True)\n",
    "\n",
    "    # IHS materials merge\n",
    "    sparse_materials = ihs.materials[['Target','Source','Value','Source cost']].groupby(['Target','Source']).sum().unstack().reset_index()\n",
    "    plants_materials = left_merge(plants_products, sparse_materials, 'Process', 'Target')\n",
    "    return plants_materials"
   ],
   "metadata": {
    "collapsed": false,
    "pycharm": {
     "name": "#%%\n"
    }
   }
  },
  {
   "cell_type": "code",
   "execution_count": 1,
   "outputs": [
    {
     "name": "stdout",
     "output_type": "stream",
     "text": [
      "Writing scripts/chemical_graph_build.py\n"
     ]
    },
    {
     "ename": "FileNotFoundError",
     "evalue": "[Errno 2] No such file or directory: 'scripts/chemical_graph_build.py'",
     "output_type": "error",
     "traceback": [
      "\u001B[1;31m---------------------------------------------------------------------------\u001B[0m",
      "\u001B[1;31mFileNotFoundError\u001B[0m                         Traceback (most recent call last)",
      "\u001B[1;32m~\\AppData\\Local\\Temp/ipykernel_17924/3027933819.py\u001B[0m in \u001B[0;36m<module>\u001B[1;34m\u001B[0m\n\u001B[1;32m----> 1\u001B[1;33m \u001B[0mget_ipython\u001B[0m\u001B[1;33m(\u001B[0m\u001B[1;33m)\u001B[0m\u001B[1;33m.\u001B[0m\u001B[0mrun_cell_magic\u001B[0m\u001B[1;33m(\u001B[0m\u001B[1;34m'writefile'\u001B[0m\u001B[1;33m,\u001B[0m \u001B[1;34m'scripts/chemical_graph_build.py'\u001B[0m\u001B[1;33m,\u001B[0m \u001B[1;34m'\\n\"\"\"Script for running graph classification on chemical data\"\"\"\\n\\nimport sys\\nsys.path.insert(0, \\'../\\')\\nimport functions.import_data as impData\\nimport functions.preprocessing as preproc\\n\\ndata_path = \"C:/Users/lshc3/Documents/\"\\nout_file = \"C:/Users/lshc3/Documents/Aggregated/US_2019.csv\"\\n\\n# Import data\\nlca = impData.LCA(data_path, lca_lists = [\\'Basic_chemicals_201\\',\\'Coke_Petro_19\\']).location(\\'United States\\')\\nihs = impData.IHSData(data_path)\\nicis = impData.ICISData(\"C:\\\\ICIS_data/US_allchemicals.xlsx\")\\n\\n# Merge data\\nplants = preproc.format_icis(icis, 2019)\\nmerged_data = preproc.merge_chemical_data(lca,ihs,plants)\\n\\n# Output to csv\\nmerged_data.to_csv(out_file, index=False)\\n'\u001B[0m\u001B[1;33m)\u001B[0m\u001B[1;33m\u001B[0m\u001B[1;33m\u001B[0m\u001B[0m\n\u001B[0m",
      "\u001B[1;32mC:\\ProgramData\\Anaconda3\\envs\\emissions-tracking-conda\\lib\\site-packages\\IPython\\core\\interactiveshell.py\u001B[0m in \u001B[0;36mrun_cell_magic\u001B[1;34m(self, magic_name, line, cell)\u001B[0m\n\u001B[0;32m   2417\u001B[0m             \u001B[1;32mwith\u001B[0m \u001B[0mself\u001B[0m\u001B[1;33m.\u001B[0m\u001B[0mbuiltin_trap\u001B[0m\u001B[1;33m:\u001B[0m\u001B[1;33m\u001B[0m\u001B[1;33m\u001B[0m\u001B[0m\n\u001B[0;32m   2418\u001B[0m                 \u001B[0margs\u001B[0m \u001B[1;33m=\u001B[0m \u001B[1;33m(\u001B[0m\u001B[0mmagic_arg_s\u001B[0m\u001B[1;33m,\u001B[0m \u001B[0mcell\u001B[0m\u001B[1;33m)\u001B[0m\u001B[1;33m\u001B[0m\u001B[1;33m\u001B[0m\u001B[0m\n\u001B[1;32m-> 2419\u001B[1;33m                 \u001B[0mresult\u001B[0m \u001B[1;33m=\u001B[0m \u001B[0mfn\u001B[0m\u001B[1;33m(\u001B[0m\u001B[1;33m*\u001B[0m\u001B[0margs\u001B[0m\u001B[1;33m,\u001B[0m \u001B[1;33m**\u001B[0m\u001B[0mkwargs\u001B[0m\u001B[1;33m)\u001B[0m\u001B[1;33m\u001B[0m\u001B[1;33m\u001B[0m\u001B[0m\n\u001B[0m\u001B[0;32m   2420\u001B[0m             \u001B[1;32mreturn\u001B[0m \u001B[0mresult\u001B[0m\u001B[1;33m\u001B[0m\u001B[1;33m\u001B[0m\u001B[0m\n\u001B[0;32m   2421\u001B[0m \u001B[1;33m\u001B[0m\u001B[0m\n",
      "\u001B[1;32mC:\\ProgramData\\Anaconda3\\envs\\emissions-tracking-conda\\lib\\site-packages\\decorator.py\u001B[0m in \u001B[0;36mfun\u001B[1;34m(*args, **kw)\u001B[0m\n\u001B[0;32m    230\u001B[0m             \u001B[1;32mif\u001B[0m \u001B[1;32mnot\u001B[0m \u001B[0mkwsyntax\u001B[0m\u001B[1;33m:\u001B[0m\u001B[1;33m\u001B[0m\u001B[1;33m\u001B[0m\u001B[0m\n\u001B[0;32m    231\u001B[0m                 \u001B[0margs\u001B[0m\u001B[1;33m,\u001B[0m \u001B[0mkw\u001B[0m \u001B[1;33m=\u001B[0m \u001B[0mfix\u001B[0m\u001B[1;33m(\u001B[0m\u001B[0margs\u001B[0m\u001B[1;33m,\u001B[0m \u001B[0mkw\u001B[0m\u001B[1;33m,\u001B[0m \u001B[0msig\u001B[0m\u001B[1;33m)\u001B[0m\u001B[1;33m\u001B[0m\u001B[1;33m\u001B[0m\u001B[0m\n\u001B[1;32m--> 232\u001B[1;33m             \u001B[1;32mreturn\u001B[0m \u001B[0mcaller\u001B[0m\u001B[1;33m(\u001B[0m\u001B[0mfunc\u001B[0m\u001B[1;33m,\u001B[0m \u001B[1;33m*\u001B[0m\u001B[1;33m(\u001B[0m\u001B[0mextras\u001B[0m \u001B[1;33m+\u001B[0m \u001B[0margs\u001B[0m\u001B[1;33m)\u001B[0m\u001B[1;33m,\u001B[0m \u001B[1;33m**\u001B[0m\u001B[0mkw\u001B[0m\u001B[1;33m)\u001B[0m\u001B[1;33m\u001B[0m\u001B[1;33m\u001B[0m\u001B[0m\n\u001B[0m\u001B[0;32m    233\u001B[0m     \u001B[0mfun\u001B[0m\u001B[1;33m.\u001B[0m\u001B[0m__name__\u001B[0m \u001B[1;33m=\u001B[0m \u001B[0mfunc\u001B[0m\u001B[1;33m.\u001B[0m\u001B[0m__name__\u001B[0m\u001B[1;33m\u001B[0m\u001B[1;33m\u001B[0m\u001B[0m\n\u001B[0;32m    234\u001B[0m     \u001B[0mfun\u001B[0m\u001B[1;33m.\u001B[0m\u001B[0m__doc__\u001B[0m \u001B[1;33m=\u001B[0m \u001B[0mfunc\u001B[0m\u001B[1;33m.\u001B[0m\u001B[0m__doc__\u001B[0m\u001B[1;33m\u001B[0m\u001B[1;33m\u001B[0m\u001B[0m\n",
      "\u001B[1;32mC:\\ProgramData\\Anaconda3\\envs\\emissions-tracking-conda\\lib\\site-packages\\IPython\\core\\magic.py\u001B[0m in \u001B[0;36m<lambda>\u001B[1;34m(f, *a, **k)\u001B[0m\n\u001B[0;32m    185\u001B[0m     \u001B[1;31m# but it's overkill for just that one bit of state.\u001B[0m\u001B[1;33m\u001B[0m\u001B[1;33m\u001B[0m\u001B[0m\n\u001B[0;32m    186\u001B[0m     \u001B[1;32mdef\u001B[0m \u001B[0mmagic_deco\u001B[0m\u001B[1;33m(\u001B[0m\u001B[0marg\u001B[0m\u001B[1;33m)\u001B[0m\u001B[1;33m:\u001B[0m\u001B[1;33m\u001B[0m\u001B[1;33m\u001B[0m\u001B[0m\n\u001B[1;32m--> 187\u001B[1;33m         \u001B[0mcall\u001B[0m \u001B[1;33m=\u001B[0m \u001B[1;32mlambda\u001B[0m \u001B[0mf\u001B[0m\u001B[1;33m,\u001B[0m \u001B[1;33m*\u001B[0m\u001B[0ma\u001B[0m\u001B[1;33m,\u001B[0m \u001B[1;33m**\u001B[0m\u001B[0mk\u001B[0m\u001B[1;33m:\u001B[0m \u001B[0mf\u001B[0m\u001B[1;33m(\u001B[0m\u001B[1;33m*\u001B[0m\u001B[0ma\u001B[0m\u001B[1;33m,\u001B[0m \u001B[1;33m**\u001B[0m\u001B[0mk\u001B[0m\u001B[1;33m)\u001B[0m\u001B[1;33m\u001B[0m\u001B[1;33m\u001B[0m\u001B[0m\n\u001B[0m\u001B[0;32m    188\u001B[0m \u001B[1;33m\u001B[0m\u001B[0m\n\u001B[0;32m    189\u001B[0m         \u001B[1;32mif\u001B[0m \u001B[0mcallable\u001B[0m\u001B[1;33m(\u001B[0m\u001B[0marg\u001B[0m\u001B[1;33m)\u001B[0m\u001B[1;33m:\u001B[0m\u001B[1;33m\u001B[0m\u001B[1;33m\u001B[0m\u001B[0m\n",
      "\u001B[1;32mC:\\ProgramData\\Anaconda3\\envs\\emissions-tracking-conda\\lib\\site-packages\\IPython\\core\\magics\\osm.py\u001B[0m in \u001B[0;36mwritefile\u001B[1;34m(self, line, cell)\u001B[0m\n\u001B[0;32m    854\u001B[0m \u001B[1;33m\u001B[0m\u001B[0m\n\u001B[0;32m    855\u001B[0m         \u001B[0mmode\u001B[0m \u001B[1;33m=\u001B[0m \u001B[1;34m'a'\u001B[0m \u001B[1;32mif\u001B[0m \u001B[0margs\u001B[0m\u001B[1;33m.\u001B[0m\u001B[0mappend\u001B[0m \u001B[1;32melse\u001B[0m \u001B[1;34m'w'\u001B[0m\u001B[1;33m\u001B[0m\u001B[1;33m\u001B[0m\u001B[0m\n\u001B[1;32m--> 856\u001B[1;33m         \u001B[1;32mwith\u001B[0m \u001B[0mio\u001B[0m\u001B[1;33m.\u001B[0m\u001B[0mopen\u001B[0m\u001B[1;33m(\u001B[0m\u001B[0mfilename\u001B[0m\u001B[1;33m,\u001B[0m \u001B[0mmode\u001B[0m\u001B[1;33m,\u001B[0m \u001B[0mencoding\u001B[0m\u001B[1;33m=\u001B[0m\u001B[1;34m'utf-8'\u001B[0m\u001B[1;33m)\u001B[0m \u001B[1;32mas\u001B[0m \u001B[0mf\u001B[0m\u001B[1;33m:\u001B[0m\u001B[1;33m\u001B[0m\u001B[1;33m\u001B[0m\u001B[0m\n\u001B[0m\u001B[0;32m    857\u001B[0m             \u001B[0mf\u001B[0m\u001B[1;33m.\u001B[0m\u001B[0mwrite\u001B[0m\u001B[1;33m(\u001B[0m\u001B[0mcell\u001B[0m\u001B[1;33m)\u001B[0m\u001B[1;33m\u001B[0m\u001B[1;33m\u001B[0m\u001B[0m\n",
      "\u001B[1;31mFileNotFoundError\u001B[0m: [Errno 2] No such file or directory: 'scripts/chemical_graph_build.py'"
     ]
    }
   ],
   "source": [
    "%%writefile scripts/chemical_graph_build.py\n",
    "\n",
    "\"\"\"Script for running graph classification on chemical data\"\"\"\n",
    "\n",
    "import sys\n",
    "sys.path.insert(0, '../')\n",
    "import functions.import_data as impData\n",
    "import functions.preprocessing as preproc\n",
    "\n",
    "data_path = \"C:/Users/lshc3/Documents/\"\n",
    "out_file = \"C:/Users/lshc3/Documents/Aggregated/US_2019.csv\"\n",
    "\n",
    "# Import data\n",
    "lca = impData.LCA(data_path, lca_lists = ['Basic_chemicals_201','Coke_Petro_19']).location('United States')\n",
    "ihs = impData.IHSData(data_path)\n",
    "icis = impData.ICISData(\"C:\\ICIS_data/US_allchemicals.xlsx\")\n",
    "\n",
    "# Merge data\n",
    "plants = preproc.format_icis(icis, 2019)\n",
    "merged_data = preproc.merge_chemical_data(lca,ihs,plants)\n",
    "\n",
    "# Output to csv\n",
    "merged_data.to_csv(out_file, index=False)"
   ],
   "metadata": {
    "collapsed": false,
    "pycharm": {
     "name": "#%%\n"
    }
   }
  },
  {
   "cell_type": "code",
   "execution_count": null,
   "outputs": [],
   "source": [],
   "metadata": {
    "collapsed": false,
    "pycharm": {
     "name": "#%%\n"
    }
   }
  }
 ],
 "metadata": {
  "kernelspec": {
   "display_name": "Python 3",
   "language": "python",
   "name": "python3"
  },
  "language_info": {
   "codemirror_mode": {
    "name": "ipython",
    "version": 2
   },
   "file_extension": ".py",
   "mimetype": "text/x-python",
   "name": "python",
   "nbconvert_exporter": "python",
   "pygments_lexer": "ipython2",
   "version": "2.7.6"
  }
 },
 "nbformat": 4,
 "nbformat_minor": 0
}