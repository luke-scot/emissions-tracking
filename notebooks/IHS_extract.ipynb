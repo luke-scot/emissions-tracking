{
 "cells": [
  {
   "cell_type": "code",
   "execution_count": 72,
   "outputs": [],
   "source": [
    "import pandas as pd\n",
    "import numpy as np"
   ],
   "metadata": {
    "collapsed": false,
    "pycharm": {
     "name": "#%%\n"
    }
   }
  },
  {
   "cell_type": "code",
   "execution_count": 73,
   "outputs": [],
   "source": [
    "file = \"C:/Users\\lukec\\OneDrive - University of Cambridge\\Projects\\PhD\\Data\\IHS\\Ethylene\\ETHYLENE FROM WIDE RANGE NAPHTHA, MAXIMUM ETHYLENE, FRONT END DEMETHANIZER - Germany.xlsx\""
   ],
   "metadata": {
    "collapsed": false,
    "pycharm": {
     "name": "#%%\n"
    }
   }
  },
  {
   "cell_type": "code",
   "execution_count": null,
   "outputs": [],
   "source": [
    "properties = ['RAW MATERIALS', 'BY-PRODUCT CREDITS', 'UTILITIES']"
   ],
   "metadata": {
    "collapsed": false,
    "pycharm": {
     "name": "#%%\n"
    }
   }
  },
  {
   "cell_type": "code",
   "execution_count": 30,
   "outputs": [],
   "source": [
    "sheet = pd.read_excel(file,skipfooter=22)"
   ],
   "metadata": {
    "collapsed": false,
    "pycharm": {
     "name": "#%%\n"
    }
   }
  },
  {
   "cell_type": "code",
   "execution_count": 175,
   "outputs": [],
   "source": [
    "headerLines = 5\n",
    "colNum = 6\n",
    "materials = sheet[headerLines:][sheet.columns[:colNum]]\n",
    "materials.columns = ['Material'] + list(materials.iloc[0][1:].values)\n",
    "materials.columns = list(map(lambda x: 'Unit' if x is np.nan else x, materials.columns.values))\n",
    "materials.dropna(subset=[materials.columns[0]], inplace=True)\n",
    "\n",
    "typesInd = [0] + list(np.where(materials.index[1:] - materials.index[:-1] != 1)[0]+1)\n",
    "materials['Type'] = list(map(lambda x: materials.Material.values[typesInd[np.sum(np.array(typesInd) < x+1)-1]], range(len(materials))))\n",
    "materials.dropna(subset=materials.columns[1:-1], how='all', inplace=True)"
   ],
   "metadata": {
    "collapsed": false,
    "pycharm": {
     "name": "#%%\n"
    }
   }
  },
  {
   "cell_type": "code",
   "execution_count": 176,
   "outputs": [
    {
     "data": {
      "text/plain": "                    Material   Unit Cost     Unit Unit Consumption   Unit  \\\n9     CATALYST AND CHEMICALS         NaN      NaN              NaN    NaN   \n10                   NAPHTHA   66.790014     ¢/KG          3.13079  TONNE   \n13              C4 FRACTION8   80.424633     ¢/KG         -0.34879  TONNE   \n14                  FUEL GAS    6.563179  ¢/MMCAL      -6994.67782  MMCAL   \n15                 FUEL OIL.    3.963287  ¢/MMCAL      -1720.15038  MMCAL   \n16        HYDROGEN (95 VOL%)   21.276446    ¢/NM3       -386.88141    NM3   \n17  PROPYLENE, POLYMER GRADE  135.738615     ¢/KG         -0.51044  TONNE   \n18        PYROLYSIS GASOLINE   71.968401     ¢/KG          -0.5488  TONNE   \n21             COOLING WATER    6.419384     ¢/M3         78.00029     M3   \n22               ELECTRICITY       12.37    ¢/KWH        114.00104    KWH   \n23               NATURAL GAS    6.563179  ¢/MMCAL       6514.91252  MMCAL   \n24             PROCESS WATER   46.758475     ¢/M3          2.29999     M3   \n\n   Product Cost                Type  \n9      1.051605       RAW MATERIALS  \n10          NaN       RAW MATERIALS  \n13          NaN  BY-PRODUCT CREDITS  \n14          NaN  BY-PRODUCT CREDITS  \n15          NaN  BY-PRODUCT CREDITS  \n16          NaN  BY-PRODUCT CREDITS  \n17          NaN  BY-PRODUCT CREDITS  \n18          NaN  BY-PRODUCT CREDITS  \n21          NaN           UTILITIES  \n22          NaN           UTILITIES  \n23          NaN           UTILITIES  \n24          NaN           UTILITIES  ",
      "text/html": "<div>\n<style scoped>\n    .dataframe tbody tr th:only-of-type {\n        vertical-align: middle;\n    }\n\n    .dataframe tbody tr th {\n        vertical-align: top;\n    }\n\n    .dataframe thead th {\n        text-align: right;\n    }\n</style>\n<table border=\"1\" class=\"dataframe\">\n  <thead>\n    <tr style=\"text-align: right;\">\n      <th></th>\n      <th>Material</th>\n      <th>Unit Cost</th>\n      <th>Unit</th>\n      <th>Unit Consumption</th>\n      <th>Unit</th>\n      <th>Product Cost</th>\n      <th>Type</th>\n    </tr>\n  </thead>\n  <tbody>\n    <tr>\n      <th>9</th>\n      <td>CATALYST AND CHEMICALS</td>\n      <td>NaN</td>\n      <td>NaN</td>\n      <td>NaN</td>\n      <td>NaN</td>\n      <td>1.051605</td>\n      <td>RAW MATERIALS</td>\n    </tr>\n    <tr>\n      <th>10</th>\n      <td>NAPHTHA</td>\n      <td>66.790014</td>\n      <td>¢/KG</td>\n      <td>3.13079</td>\n      <td>TONNE</td>\n      <td>NaN</td>\n      <td>RAW MATERIALS</td>\n    </tr>\n    <tr>\n      <th>13</th>\n      <td>C4 FRACTION8</td>\n      <td>80.424633</td>\n      <td>¢/KG</td>\n      <td>-0.34879</td>\n      <td>TONNE</td>\n      <td>NaN</td>\n      <td>BY-PRODUCT CREDITS</td>\n    </tr>\n    <tr>\n      <th>14</th>\n      <td>FUEL GAS</td>\n      <td>6.563179</td>\n      <td>¢/MMCAL</td>\n      <td>-6994.67782</td>\n      <td>MMCAL</td>\n      <td>NaN</td>\n      <td>BY-PRODUCT CREDITS</td>\n    </tr>\n    <tr>\n      <th>15</th>\n      <td>FUEL OIL.</td>\n      <td>3.963287</td>\n      <td>¢/MMCAL</td>\n      <td>-1720.15038</td>\n      <td>MMCAL</td>\n      <td>NaN</td>\n      <td>BY-PRODUCT CREDITS</td>\n    </tr>\n    <tr>\n      <th>16</th>\n      <td>HYDROGEN (95 VOL%)</td>\n      <td>21.276446</td>\n      <td>¢/NM3</td>\n      <td>-386.88141</td>\n      <td>NM3</td>\n      <td>NaN</td>\n      <td>BY-PRODUCT CREDITS</td>\n    </tr>\n    <tr>\n      <th>17</th>\n      <td>PROPYLENE, POLYMER GRADE</td>\n      <td>135.738615</td>\n      <td>¢/KG</td>\n      <td>-0.51044</td>\n      <td>TONNE</td>\n      <td>NaN</td>\n      <td>BY-PRODUCT CREDITS</td>\n    </tr>\n    <tr>\n      <th>18</th>\n      <td>PYROLYSIS GASOLINE</td>\n      <td>71.968401</td>\n      <td>¢/KG</td>\n      <td>-0.5488</td>\n      <td>TONNE</td>\n      <td>NaN</td>\n      <td>BY-PRODUCT CREDITS</td>\n    </tr>\n    <tr>\n      <th>21</th>\n      <td>COOLING WATER</td>\n      <td>6.419384</td>\n      <td>¢/M3</td>\n      <td>78.00029</td>\n      <td>M3</td>\n      <td>NaN</td>\n      <td>UTILITIES</td>\n    </tr>\n    <tr>\n      <th>22</th>\n      <td>ELECTRICITY</td>\n      <td>12.37</td>\n      <td>¢/KWH</td>\n      <td>114.00104</td>\n      <td>KWH</td>\n      <td>NaN</td>\n      <td>UTILITIES</td>\n    </tr>\n    <tr>\n      <th>23</th>\n      <td>NATURAL GAS</td>\n      <td>6.563179</td>\n      <td>¢/MMCAL</td>\n      <td>6514.91252</td>\n      <td>MMCAL</td>\n      <td>NaN</td>\n      <td>UTILITIES</td>\n    </tr>\n    <tr>\n      <th>24</th>\n      <td>PROCESS WATER</td>\n      <td>46.758475</td>\n      <td>¢/M3</td>\n      <td>2.29999</td>\n      <td>M3</td>\n      <td>NaN</td>\n      <td>UTILITIES</td>\n    </tr>\n  </tbody>\n</table>\n</div>"
     },
     "execution_count": 176,
     "metadata": {},
     "output_type": "execute_result"
    }
   ],
   "source": [
    "materials\n",
    "# np.where(np.array(materials[materials.columns[0]]) is np.nan)"
   ],
   "metadata": {
    "collapsed": false,
    "pycharm": {
     "name": "#%%\n"
    }
   }
  }
 ],
 "metadata": {
  "kernelspec": {
   "display_name": "Python 3",
   "language": "python",
   "name": "python3"
  },
  "language_info": {
   "codemirror_mode": {
    "name": "ipython",
    "version": 2
   },
   "file_extension": ".py",
   "mimetype": "text/x-python",
   "name": "python",
   "nbconvert_exporter": "python",
   "pygments_lexer": "ipython2",
   "version": "2.7.6"
  }
 },
 "nbformat": 4,
 "nbformat_minor": 0
}