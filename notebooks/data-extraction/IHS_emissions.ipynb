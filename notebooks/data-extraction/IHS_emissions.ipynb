{
 "cells": [
  {
   "cell_type": "code",
   "execution_count": 1,
   "outputs": [],
   "source": [
    "import networkx as nx\n",
    "import matplotlib.pyplot as plt\n",
    "import matplotlib.cm as cm\n",
    "import numpy as np\n",
    "import itertools\n",
    "import pandas as pd\n",
    "from more_itertools import locate\n",
    "from torch_scatter import scatter\n",
    "import torch\n",
    "from torch_geometric.data import Data\n",
    "from torch_geometric.nn import MessagePassing\n",
    "from torch_geometric.utils import to_networkx\n",
    "from torch_geometric.transforms import RandomNodeSplit"
   ],
   "metadata": {
    "collapsed": false,
    "pycharm": {
     "name": "#%%\n"
    }
   }
  },
  {
   "cell_type": "code",
   "execution_count": 2,
   "outputs": [],
   "source": [
    "# Import IHS data\n",
    "class IHSData(object):\n",
    "    def __init__(self):\n",
    "        product_file = \"C:/Users\\lukec\\OneDrive - University of Cambridge\\PhD\\Data\\IHS/US\\products.csv\"\n",
    "        material_file = \"C:/Users\\lukec\\OneDrive - University of Cambridge\\PhD\\Data\\IHS/US\\materials.csv\"\n",
    "        self.products = pd.read_csv(product_file,index_col=0).reset_index(drop=True)\n",
    "        self.materials = pd.read_csv(material_file,index_col=0).reset_index(drop=True)\n",
    "        # self.edgeColumns = ['Process','Geography']\n",
    "        # self.weights = [10,1]\n",
    "        # self.adjMatrix, self.edgeWeights = pd_to_adj_matrix(self.products,self.edgeColumns,self.weights)\n",
    "        # self.nodeTypes = self.products['Investment (MM US$)'].values\n",
    "        # self.valueColumns = ['Variable Cost','Fixed Costs','Overhead + Tax, Ins.','Depreciation','G&A, Sales, Res.']\n",
    "        #self.products.iloc[:,np.where(['float' in i or 'int' in i for i in self.products.dtypes.astype(str)])[0]].values\n",
    "\n",
    "    # def to_pyg_graph(self):\n",
    "    #     edge_index = torch.tensor(self.adjMatrix, dtype=torch.long)\n",
    "    #     x = torch.tensor(self.products[self.valueColumns].values, dtype=torch.float)\n",
    "    #     y = torch.tensor(np.digitize(self.nodeTypes,bins=np.linspace(min(self.nodeTypes),max(self.nodeTypes),4))-1, dtype=torch.long)\n",
    "    #     return Data(x=x, edge_index=edge_index, y=y)"
   ],
   "metadata": {
    "collapsed": false,
    "pycharm": {
     "name": "#%%\n"
    }
   }
  },
  {
   "cell_type": "code",
   "execution_count": 9,
   "outputs": [],
   "source": [
    "ihs = IHSData()"
   ],
   "metadata": {
    "collapsed": false,
    "pycharm": {
     "name": "#%%\n"
    }
   }
  },
  {
   "cell_type": "code",
   "execution_count": 22,
   "outputs": [
    {
     "data": {
      "text/plain": "array(['CATALYST', 'CAUSTIC SODA (50%)', 'METHANOL, CRUDE',\n       'CATALYST AND CHEMICALS', 'ETHANE', 'ETHANE PROPANE FEED',\n       'GAS OIL, ATMOSPHERIC', 'CONDENSATE', 'CRUDE OIL (TAPIS)',\n       'CRUDE OIL', 'PROPANE', 'ETHANOL', 'ETHANOL.', 'NAPHTHA, LIGHT',\n       'N-BUTANE', 'NAPHTHA', 'NATURAL GAS',\n       'CATALYST, METHANOL SYNTHESIS', 'CATALYST, REFORMING',\n       'MOLECULAR SIEVES', 'MONOETHANOLAMINE', 'OXYGEN (HIGH USAGE)',\n       'ADSORBENT', 'ALUMINUM CHLORIDE', 'CUPROUS CHLORIDE',\n       'DESICCANT AND INHIBITORS', 'REFINERY GAS', 'TOLUENE',\n       'GAS OIL, VACUUM', 'HYDROGEN (95 VOL%)', 'CATALYST, HYDROGENATION',\n       'N-METHYL-2-PYRROLIDONE', 'CATALYST, METHANATION', 'HYDROGEN',\n       'OXYGEN (95 MOLE %)', 'SHIFT CATALYST', 'CATALYST.', 'METHANOL',\n       'MISC CHEMICALS', 'CAUSTIC SODA.(50%)', 'INITIATOR',\n       'METHYL ACRYLATE', 'METHYL METHACRYLATE', 'AZOBISISOBUTYRONITRILE',\n       'RELEASE AGENT, COVER FILM', 'HYDROGEN FLUORIDE',\n       'METHYL CHLOROFORM', 'SODIUM FLUORIDE DISPOSAL',\n       '1,12-DODECANEDIOIC ACID', 'AMMONIA', 'CARBON DIOXIDE.',\n       'CATALYST, FE', 'HYDROCHLORIC ACID (20 BE)',\n       'PHOSPHORIC ACID (85%)', 'ACETONE',\n       'ALUMINUM ETHYL SESQUICHLORIDE', 'BUTADIENE', 'CATALYST, OSO4',\n       'CATALYST, V3O5', 'ETHYL AL DIIODINE', 'NITRIC ACID (CONC)',\n       'OXYGEN (MODERATE USAGE)', 'PERCHLOROETHYLENE',\n       'TITANIUM TETRACHLORIDE', 'TRIPHENYLPHOSPHINE',\n       'AMMONIUM VANADATE', 'BORIC ACID', 'CATALYST, Ni', 'COPPER',\n       'CYCLODODECATRIENE', 'NITRIC ACID (60%)', 'DIISONONYL PHTHALATE',\n       'HYDROGEN.', 'ABSORBER OIL', 'MIXED BUTENES FEED', 'BUTENES FEED',\n       'SILICA GEL', 'SPONGE OIL', 'GLUCOSE', 'VITAMIN B12', 'ACROLEIN',\n       'CATALYST, Ni On Al2O3/SiO2', 'COBALT HYDROXIDE',\n       'DIMETHYLDODECYLAMINE', 'ETHYLENE OXIDE', 'SYNTHESIS GAS (2:1)',\n       'COBALT CARBONATE', 'PROMOTER (IMIDAZOLE)',\n       'SYNTHESIS GAS (2.2:1)', 'ALPHA AMYLASE', 'CELLULASE', 'CORN',\n       'CORN STEEP LIQUOR, SOLIDS', 'CORN STOVER', 'DIAMMONIUM PHOSPHATE',\n       'GLUCOAMYLASE', 'GYPSUM DISPOSAL', 'LIME', 'SULFURIC ACID',\n       'METHYL T-BUTYL ETHER', 'SODIUM ACETATE', 'SYNTHESIS GAS (1.83:1)',\n       'ACETIC ACID', 'ANION EXCHANGE RESIN', 'CATALYST, Pd On C (1%)',\n       'CATALYST, Pd-Te', 'CATION EXCHANGE RESIN', 'ACETYLENE',\n       'CATALYST, Cu-Bi On SiO2', 'CATALYST, Ni-Zr-Cu-Mo',\n       'FORMALDEHYDE (37%)', 'NUTRIENTS (CELLULASE)', 'CATALYST, Cu-Cr',\n       'ION EXCHANGE RESIN', 'MALEIC ANHYDRIDE',\n       'CATALYST, LI3PO4 On SiO2', 'CATALYST, Rh',\n       'METHYL HYDROQUINONE ETHER', 'NICKEL, RANEY', 'PROPYLENE OXIDE',\n       'CATALYST, Pd On Al2O3 (3%)', 'DIMETHYL TEREPHTHALATE',\n       'ACTIVATED CARBON', 'ISOPROPANOL', 'ISOPROPYL METHOXYACETATE',\n       'LIPASE (LOW PURITY)', 'RACEMIC AMINE', 'SODIUM AMIDE',\n       'SULFURIC ACID, DILUTE', 'ISOBUTYLENE, HIGH PURITY', 'P-CRESOL',\n       'BENZENE', 'BORON TRIFLUORIDE', 'CARBON MONOXIDE',\n       'M-XYLENE (NET)', 'P-XYLENE (NET)', 'PHENOL', 'SODIUM CARBONATE',\n       'ANILINE', 'DIETHYLALUMINUM CHLORIDE', 'ETHYLENE', 'N-DECANE',\n       'LIGAND, PHOSPHITE', 'PROPYLENE, POLYMER GRADE',\n       'SYNTHESIS GAS (1:1)', 'WASTEWATER TREATMENT', 'N-BUTYRALDEHYDE',\n       'PROPYLENE, CHEM GRADE', 'OCTANOIC ACID', 'POTASSIUM HYDROXIDE',\n       'DIMETHYLFORMAMIDE', 'PHOSPHORIC ACID (AS P2O5)', 'RHODIUM',\n       'SODIUM BICARBONATE', 'SYNTHESIS GAS (1.1:1)', '2-ETHYLHEXANOL',\n       'ACRYLIC ACID, ESTER GRADE', 'HYDROQUINONE',\n       'PHOSPHORUS OXYCHLORIDE', 'POTASSIUM PERMANGANATE',\n       'AMMONIUM BISULFATE WASTE', 'HYDROGEN CYANIDE',\n       'METHYL ISOBUTYL KETONE', 'METHYL MERCAPTAN', 'PYRIDINE',\n       '1-OCTANOL', 'BENZOTRICHLORIDE', 'CHLORINE',\n       'PHOSPHORUS TRICHLORIDE', 'POTASSIUM IODIDE', 'RESORCINOL',\n       'CARBON DISULFIDE', 'SULFUR', 'ACRYLONITRILE', 'BENZOIC ACID',\n       'ISOPROPYLAMINE', 'N-DODECANOL', 'NUTRIENTS (CORN STEEP LIQUOR)',\n       'TRIDECYLAMINE', 'CHLOROBENZENE', 'FERRIC CHLORIDE',\n       'SULFUR TRIOXIDE', 'THIONYL CHLORIDE', 'ALUMINUM POWDER',\n       'CATALYST, Pd On C (5%)', 'DIETHYLBENZENE', 'OXYGEN (LOW USAGE)',\n       'P-TOLUENESULFONIC ACID', 'ACTIVATED CARBON.',\n       'DIATOMACEOUS EARTH', 'P-CHLOROBENZOIC ACID',\n       'SODIUM HYDROSULFITE', 'DIMERIZATION CATALYST', '1-DECENE',\n       '4-METHYLPENTENE-1', 'ISOBUTANOL', 'N-OCTANE',\n       'TITANIUM TRICHLORIDE', 'BETA-NAPHTHOL', 'KEROSENE', 'ANTIOXIDANT',\n       'CATALYST, LUPEROX TBEC', 'DIBUTYL FUMARATE',\n       'ISO-OCTYL THIOGLYCOLATE', 'METHYL PROPYL KETONE', 'MINERAL OIL',\n       'POLYBUTADIENE', 'STYRENE', 'TBPD CHAIN TRANSFER AGENT',\n       '2,6-DI-T-BUTYL-P-CRESOL', 'CUMENE HYDROPEROXIDE',\n       'DEXTROSE, ANHYDRIDE', 'FERROUS SULFATE MONOHYDRATE',\n       'HYDROCHLORIC ACID', 'OTHER CHEMICALS (PS)',\n       'POLYMERIZATION INHIBITOR', 'POTASSIUM OLEATE',\n       'POTASSIUM PERSULFATE', 'POTASSIUM PHOSPHATE, DB',\n       'POTASSIUM ROSINATE', 'SODIUM PYROPHOSPHATE', 'T-BUTYL CATECHOL',\n       'T-DODECYL MERCAPTAN', 'BUTYLATED HYDROXYTOLUENE',\n       'DIPOTASSIUM PHOSPHATE', 'HYDROCHLORIC ACID (22 BE)',\n       'POTASSIUM BICARBONATE', 'SODIUM EDTA', 'SODIUM CYANIDE',\n       'T-BUTANOL', 'ACETIC ANHYDRIDE', 'CYCLOHEXANE', 'CYCLOHEXANOL',\n       'STABILIZER.', 'TRI-N-BUTYLAMINE', 'ALPHA CHLORONAPHTHALENE',\n       'AMMONIA (AQUEOUS)', 'SODIUM METAL', 'SULFURIC ACID (98%)',\n       'CATALYST, Cu-Pd', 'HYDROCHLORIC ACID (100%)', 'NITROBENZENE',\n       'SURFACTANT', 'AGR SOLVENT', 'COAL', 'SLAG DISPOSAL', 'OXYGEN',\n       'CATALYST, AG', 'ETHYL ACETATE', 'MANGANESE ACETATE.4H2O',\n       'CATALYST, OXIDATION', 'CATALYST, CATION', 'ACETALDEHYDE',\n       'N-BUTYL ACETATE', 'TRIETHYL PHOSPHATE', 'CATALYST, Zn-Zr',\n       'NITROGEN', 'ACETONITRILE, CRUDE', 'ETHYLENEDIAMINE',\n       'CALCIUM CARBIDE', 'SCRUBBING OIL', 'RESIDUAL OIL (3% S)',\n       'METHYL-DIETHANOLAMINE', 'NATURAL GAS (HIGH CO2)', 'PIPERAZINE',\n       'SULFOLANE', 'PHOSPHORIC ACID (WET)', 'CATALYST, DEHYDROGENATION',\n       'NUTRIENTS AND CHEMICALS', 'ISOPROPYL ACETATE',\n       'DIMETHYL PHTHALATE', 'INHIBITOR', 'AIR', 'DIPHENYL ETHER',\n       'ALAMINE 336', 'BIODIESEL', 'GLYCERIN', 'MEHQ',\n       'METHYL ETHYL KETONE', 'HYDROGEN PEROXIDE (70%)',\n       'ACRYLIC ACID, GLACIAL', 'BAGS', 'CERIC AMMONIUM NITRATE',\n       'STARCH', 'INHIBITORS', 'V-Sb-W CATALYST', 'CATALYST, Bi-Mo',\n       'CATALYST(MAKEUP)', 'CATALYST, ACTIVATOR',\n       'ELVAX 250(EVA COPOLYMER)', 'HYDROCARBON RESIN TACKIFIER',\n       'CHLOROSULFONATED PE', 'ETHYLENE GLYCOL DIMETHACRYLATE',\n       'METHACRYLIC ACID', 'ELVAX 260(EVA COPOLYMER)',\n       'SUPER STA-TAC-100 (TACK)', 'SUPER STA-TAC-80 (TACK)',\n       'ADIPONITRILE', 'CATALYST, Ru-Zn', 'CATALYST, ZEM',\n       'CUPRIC NITRATE', 'NITRIC ACID (DILUTE)', 'C4 FRACTION8',\n       'COBALT ACETATE.4H2O', 'POTASSIUM SULFATE', 'COBALT NAPHTHENATE',\n       'PALM FATTY ACID DISTILLATE', 'VERDEZYNE ENZYMES',\n       'CATALYST, Ni On SiO2', 'Ni ALKYLBENZENE SULFONATE', 'C4 FEED',\n       'COBALT ACETATE', 'HYDROGEN BROMIDE', 'NUTRIENTS',\n       'CALCIUM HYDROXIDE', 'PLASTIC, RECYCLED', '2,6-DIETHYLANILINE',\n       'CHLOROACETYL CHLORIDE', 'XYLENES, MIXED', 'ALCOHOL ETHOXYLATE',\n       'ALPHA OLEFIN', 'ETHYLENE GLYCOL', 'STEARIC ACID',\n       'TRIBUTYLPHOSPHINE', 'COCONUT OIL', 'COBALT CATALYST',\n       'LINEAR OLEFIN, C11-C12', 'PHOSPHINE LIGAND', 'SABS 913',\n       'ALUMINUM TRIETHYL.', 'TRIISOBUTYLALUMINUM', 'N-PARAFFINS',\n       '1,4-BUTANEDIOL', 'ADIPIC ACID', 'S-(BENZOTHIAZOL-2-YL)',\n       'TETRABUTYL TITANATE', 'C4 FRACTION, MIXED FCC', 'ISOBUTANE',\n       'CATALYST, LAS', 'FATTY ALCOHOL (C12.8)', 'GLUCOSE MONOHYDRATE',\n       'MAGNESIUM OXIDE', 'SODIUM BOROHYDRIDE', 'LITHIUM PHOSPHATE',\n       'TERPHENYL', 'CORE MATERIAL', 'CORN STEEP LIQUOR (50%)', 'LACTOSE',\n       'PHOSPHATE NUTRIENT', 'POLYETHYLENE GLYCOL', 'SOYBEAN MEAL',\n       'TITANIUM DIOXIDE (RUTILE)', 'ALUMINA TRIHYDRATE',\n       'HYDROGEN CHLORIDE', 'PACKAGING MATERIALS', 'PLASTIC FEEDSTOCK',\n       'SUBBITUMINOUS COAL', 'AMINE OIL', 'POWDERED LIMESTONE',\n       'AMMONIUM APFO', 'AMMONIUM PERSULFATE', 'FLUORINE',\n       'PERFLUORODIOXOLE', 'TETRAFLUOROETHYLENE', 'CATALYST, Cu On SiO2',\n       'CATALYST, Al2O3/SiO2', 'NAPHTHALENE', 'LIME, HYDRATED',\n       'P-PHENYLENEDIAMINE', 'TEREPHTHALOYL CHLORIDE',\n       'DIMETHYLACETAMIDE', 'ISOPHTHALOYL CHLORIDE', 'M-PHENYLENEDIAMINE',\n       'METHYLENE CHLORIDE', 'BTX EXTRACTION RAFFINATE', 'SORBENT',\n       'COFACTOR', 'WASTE DISPOSAL', 'ADDITIVES', 'DEXTROSE MONOHYDRATE',\n       'SODIUM METHYLATE (25%)', 'FUMARIC ACID', 'OLEIC ACID', 'SOLVENT',\n       'CALCIUM CARBONATE', 'COTTONSEED MEAL', 'MOLASSES',\n       'CYANAMIDE (50% SOLN)', 'METHYL CHLOROFORMATE',\n       'N-BUTYL ISOCYANATE', 'O-PHENYLENEDIAMINE', 'C5+ REFORMATE',\n       'CAROM SOLVENT', 'CLAY, HIGH ACTIVITY', 'GT-BTX SOLVENT',\n       'HYDROGEN (OFF-GAS)', 'CATALYST, ISOMERIZATION',\n       'CAUSTIC SODA BEADS', 'SATURATION CATALYST',\n       'PYROLYSIS GASOLINE HEART CUT', 'REFORMATE HEART CUT',\n       'CLAY, MONTMORILLONITE', 'LIGHT OIL, CRUDE', 'ARGON', 'CARBON',\n       'SILICA (-400 MESH)', 'PET BALES', 'BUTENE-1', 'N-HEXANE',\n       'HEXENE-1', 'INHIBITORS, BIOCIDES, DISP.', 'EXTRACTION SOLVENTS'],\n      dtype=object)"
     },
     "execution_count": 22,
     "metadata": {},
     "output_type": "execute_result"
    }
   ],
   "source": [
    "# Read in impact factors\n",
    "def read_xml_attributes(filepath:str,branches:list,attributes:list,df=False):\n",
    "    \"\"\"This function creates a dataframe of attributes within an xml file.\\n\n",
    "    Inputs:\\n\n",
    "    filepath - path to xml file\\n\n",
    "    branches - list of successive branch choices\\n\n",
    "    attributes - attributes to be read from chosen branch\\n\n",
    "    Outputs:\\n\n",
    "    df - pandas dataframe of attributes for each end branch\\n\n",
    "    Requirements: pandas as pd, xml.etree.ElementTree as ET\"\"\"\n",
    "    if df is False: df = pd.DataFrame([],columns=[i for sublist in utl.to_listlist(attributes) for i in sublist])\n",
    "    tree_loc = ET.parse(filepath).getroot()\n",
    "    branches, attributes = utl.to_listlist(branches), utl.to_listlist(attributes)\n",
    "    attr_values = dict()\n",
    "    for pathnum, path in enumerate(branches):\n",
    "        for branch in path:\n",
    "            for num,val in enumerate([branch in i.tag for i in tree_loc]):\n",
    "                if val:\n",
    "                    if branch is path[-1]:\n",
    "                        attr_values.update(dict(zip(attributes[pathnum],[tree_loc[num].attrib[i] if i else tree_loc[num].text for i in attributes[pathnum]])))\n",
    "                        if path is branches[-1]: df = df.append(attr_values,ignore_index=True)\n",
    "                    else:\n",
    "                        tree_loc=tree_loc[num]\n",
    "                        break\n",
    "    return df\n",
    "\n",
    "def import_xml_batch(directory:str,path:list,attributes:list,co2e=False,impacts=False):\n",
    "    \"\"\"This function imports xml data into a pandas dataframe inputs:\\n\n",
    "    directory - directory of xml files\\n\n",
    "    path - location of attributes within xml\\n\n",
    "    attributes - names of attributes/column names\\n\n",
    "    outputs:\\n\n",
    "    df - dataframe of requested attributes\\n\n",
    "    Requirements: os, pandas as pd, xml.etree.ElementTree as ET\"\"\"\n",
    "    file_list = os.listdir(directory)\n",
    "    attributes = utl.to_listlist(attributes)\n",
    "    df = pd.DataFrame([],columns=[j for i in attributes for j in i])\n",
    "    if co2e is not False: df[co2e] = None\n",
    "    for file in tqdm(file_list):\n",
    "        df = read_xml_attributes(os.path.join(directory, file),path,attributes,df)\n",
    "        if co2e is not False: df[co2e].iloc[-1] = calculate_co2e(os.path.join(directory, file), impacts)\n",
    "    return df, file_list\n",
    "\n",
    "processes, _ = import_xml_batch(lcaDataPath,[['dataset','meta','process','reference'],['dataset','meta','process','geo']],[['name','generalComment'],['location']],'CO2e',impacts)"
   ],
   "metadata": {
    "collapsed": false,
    "pycharm": {
     "name": "#%%\n"
    }
   }
  },
  {
   "cell_type": "code",
   "execution_count": null,
   "outputs": [],
   "source": [
    "class EmissionData(object):\n",
    "    folderPath = \"C:/Users\\lukec\\OneDrive - University of Cambridge\\PhD\\Data\\EcoInvent\\Basic_chemicals_201\"\n",
    "\n"
   ],
   "metadata": {
    "collapsed": false,
    "pycharm": {
     "name": "#%%\n"
    }
   }
  },
  {
   "cell_type": "code",
   "execution_count": 19,
   "outputs": [
    {
     "data": {
      "text/plain": "[0        True\n 1        True\n 2        True\n 3       False\n 4       False\n         ...  \n 2903     True\n 2904    False\n 2905    False\n 2906    False\n 2907    False\n Name: Source type, Length: 2908, dtype: bool]"
     },
     "execution_count": 19,
     "metadata": {},
     "output_type": "execute_result"
    }
   ],
   "source": [
    "[ihs.materials['Source type'] == 'Raw Material']"
   ],
   "metadata": {
    "collapsed": false,
    "pycharm": {
     "name": "#%%\n"
    }
   }
  },
  {
   "cell_type": "code",
   "execution_count": 25,
   "outputs": [
    {
     "data": {
      "text/plain": "array(['ETHYLENE', 'POLYMETHYLMETHACRYLATE', 'HCFC-141B',\n       '1,12-DODECANEDIAMINE', '1,12-DODECANEDIOIC ACID', 'DINCH',\n       '1,3-BUTADIENE', 'BUTADIENE', '1,3-PROPANEDIOL',\n       '1,4-BUTANEDIOL AND TETRAHYDROFURAN', '1,4-BUTANEDIOL',\n       '1,4-CYCLOHEXANEDIMETHANOL', '1-PHENYLETHYLAMINE®',\n       '2246-ANTIOXIDANT', '2,4-DIMETHYL BENZALDEHYDE',\n       '2,6-DI-TERT-BUTYLPHENOL', '2,6-DIETHYLANILINE',\n       '2,6-DIMETHYLPHENOL', '2-ETHYLHEXANOL', '2-ETHYLHEXYL ACRYLATE',\n       '2-ETHYLHEXYL DIPHENYL PHOSPHATE',\n       '2-HYDROXY-4-METHYLTHIOBUTANOIC ACID', '2-H-4-O-BENZOPHENONE',\n       '2-MERCAPTOBENZOTHIAZOLE', '2-PICOLINE', '3-HYDROXYPROPIONIC ACID',\n       \"4,4'-DICHLORODIPHENYL SULFONE\", \"4,4'-DIHYDROXYDIPHENYL\",\n       \"4,4'-METHYLENEDIANILINE\", '4-CHLORO-4-HYDROXY-BENZOPHENONE',\n       '4-METHYLPENTENE-1', '4-MP-1/1-DECENE COPOLYMER',\n       '6-HYDROXY-2-NAPHTHOIC ACID', 'ABS RESIN', 'ACESULFAME-K',\n       'ACETAL HOMOPOLYMER', 'ACETALDEHYDE', 'ACETAMINOPHEN',\n       'ACETIC ACID', 'ACETIC ANHYDRIDE AND ACETIC ACID',\n       'ACETIC ANHYDRIDE', 'ACETONE', 'ISOPROPANOL', 'ACETONITRILE',\n       'ACETYLENE', 'NATURAL GAS', 'ACROLEIN', 'ACRYLAMIDE',\n       'ACRYLIC ACID, ESTER GRADE', 'ACRYLIC ACID, GLACIAL',\n       'ACRYLIC ACID-MALEIC ACID', 'ACRYLIC ACID COPOLYMER, SAP',\n       'ACRYLONITRILE', 'ADHESIVE, HOT MELT, EVA',\n       'ADHESIVE, REACTIVE ACRYLIC', 'ADHESIVES, HOT MELT, 2 EVA',\n       'ADIPIC ACID', 'LIQUID HYDROCARBONS', 'ALACHLOR',\n       'ALCOHOL ETHOXYSULFATE', 'ALCOHOLS, HIGHER PRIMARY, C12-C15',\n       'ALCOHOLS, PRIMARY LINEAR, C12 & C14',\n       'ALCOHOLS, PRIMARY LINEAR, C12-C15',\n       'ALCOHOLS, PRIMARY LINEAR, C6-C20', 'ALCOHOLS, SECONDARY, C11-C15',\n       'DGDB POLYMER, ALIPHATIC/AROMATIC', 'GASOLINE ISOMERATE',\n       'ALKYL POLYGLYCOSIDES', 'ALLYL ALCOHOL', 'ALLYL CHLORIDE',\n       'ALPHA AMYLASE', 'ALUMINA, HIGH PURITY', 'AMMONIA',\n       'AMMONIUM NITRATE FERTILIZER', 'AMORPHOUS FLUOROPOLYMER',\n       'ANILINE', 'ANTHRAQUINONE', 'ARAMID SPUN YARN', 'ARAMID STAPLE',\n       'AROMATIC REFORMATE', 'ASCORBIC ACID', 'ASPARTAME', 'AZELAIC ACID',\n       'BACILLUS THURINGIENSIS', 'BASE OIL, GROUP 1', 'BASE OIL, GROUP 2',\n       'BASE OIL, GROUP 3', 'BENOMYL', 'BENZENE AND TOLUENE', 'BENZENE',\n       'BENZENE REFORMATE', 'BENZOIC ACID', 'BETA-SILICON CARBIDE',\n       'BIS(2-HYDROXYETHYL) TEREPHTHALATE', 'POLYETHYLENE, HDPE BM'],\n      dtype=object)"
     },
     "execution_count": 25,
     "metadata": {},
     "output_type": "execute_result"
    }
   ],
   "source": [
    "ihs.products.Name.unique()"
   ],
   "metadata": {
    "collapsed": false,
    "pycharm": {
     "name": "#%%\n"
    }
   }
  },
  {
   "cell_type": "code",
   "execution_count": null,
   "outputs": [],
   "source": [],
   "metadata": {
    "collapsed": false,
    "pycharm": {
     "name": "#%%\n"
    }
   }
  }
 ],
 "metadata": {
  "kernelspec": {
   "display_name": "Python 3",
   "language": "python",
   "name": "python3"
  },
  "language_info": {
   "codemirror_mode": {
    "name": "ipython",
    "version": 2
   },
   "file_extension": ".py",
   "mimetype": "text/x-python",
   "name": "python",
   "nbconvert_exporter": "python",
   "pygments_lexer": "ipython2",
   "version": "2.7.6"
  }
 },
 "nbformat": 4,
 "nbformat_minor": 0
}