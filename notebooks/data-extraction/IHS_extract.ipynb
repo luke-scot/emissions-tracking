{
 "cells": [
  {
   "cell_type": "code",
   "execution_count": 1,
   "outputs": [],
   "source": [
    "import pandas as pd\n",
    "import numpy as np\n",
    "import win32com.client\n",
    "import time"
   ],
   "metadata": {
    "collapsed": false,
    "pycharm": {
     "name": "#%%\n"
    }
   }
  },
  {
   "cell_type": "code",
   "execution_count": 47,
   "outputs": [],
   "source": [
    "file = \"C:/Users\\lukec\\OneDrive - University of Cambridge\\Projects\\PhD\\Data\\IHS\\Ethylene\\ETHYLENE FROM WIDE RANGE NAPHTHA, MAXIMUM ETHYLENE, FRONT END DEMETHANIZER - Germany.xlsx\"\n",
    "footer = 11\n",
    "headerLines = 5\n",
    "colSep = 6"
   ],
   "metadata": {
    "collapsed": false,
    "pycharm": {
     "name": "#%%\n"
    }
   }
  },
  {
   "cell_type": "code",
   "execution_count": 52,
   "outputs": [],
   "source": [
    "def refresh_excel_file(file:str, pause=False):\n",
    "    # Refresh Excel file to have numbers for formula cells\n",
    "    xlapp = win32com.client.DispatchEx(\"Excel.Application\")\n",
    "    wb = xlapp.Workbooks.Open(file)\n",
    "    wb.RefreshAll()\n",
    "    if pause: time.sleep(pause)\n",
    "    wb.Save()\n",
    "    wb.Close()\n",
    "    xlapp.Quit()\n",
    "    return file"
   ],
   "metadata": {
    "collapsed": false,
    "pycharm": {
     "name": "#%%\n"
    }
   }
  },
  {
   "cell_type": "code",
   "execution_count": 55,
   "outputs": [],
   "source": [
    "def excel_multilayer_table_extract(df, dataType='Attribute', header=0, colStart=0, colEnd=-1):\n",
    "    data = df[header:][df.columns[colStart:colEnd]]\n",
    "    data.columns = [dataType] + list(data.iloc[0][1:].values)\n",
    "    data.columns = list(map(lambda x: 'Unit' if x is np.nan else x, data.columns.values))\n",
    "    data.dropna(subset=[data.columns[0]], inplace=True)\n",
    "\n",
    "    typesInd = [0] + list(np.where(data.index[1:] - data.index[:-1] != 1)[0]+1)\n",
    "    data['Type'] = list(map(lambda x: data[dataType].values[typesInd[np.sum(np.array(typesInd) < x+1)-1]], range(len(data))))\n",
    "    data.dropna(subset=data.columns[1:-1], how='all', inplace=True)\n",
    "    return data"
   ],
   "metadata": {
    "collapsed": false,
    "pycharm": {
     "name": "#%%\n"
    }
   }
  },
  {
   "cell_type": "code",
   "execution_count": 91,
   "outputs": [],
   "source": [
    "# Import sheet\n",
    "sheet = pd.read_excel(refresh_excel_file(file),skipfooter=footer)\n",
    "materials = excel_multilayer_table_extract(sheet, dataType='Material', header=headerLines, colEnd=colSep)\n",
    "cost = excel_multilayer_table_extract(sheet, dataType='Cost', header=headerLines, colStart=colSep+1)\n",
    "properties = list(map(lambda x: x.strip(), sheet.loc[2][0].split(\",\")))\n",
    "properties = dict(map(lambda x: x.split(\": \"), properties))"
   ],
   "metadata": {
    "collapsed": false,
    "pycharm": {
     "name": "#%%\n"
    }
   }
  },
  {
   "cell_type": "code",
   "execution_count": 92,
   "outputs": [
    {
     "data": {
      "text/plain": "{'Geography': 'Germany',\n 'Product': 'ETHYLENE',\n 'PEP Cost Index': '1087',\n 'Price': '135.83 ¢/KG',\n 'Code': '2M-1622',\n 'Location Factor': '1.06 (1US $ = 0.85)',\n 'Data version': '2021 Q3',\n 'Research Year': '2014'}"
     },
     "execution_count": 92,
     "metadata": {},
     "output_type": "execute_result"
    }
   ],
   "source": [
    "properties"
   ],
   "metadata": {
    "collapsed": false,
    "pycharm": {
     "name": "#%%\n"
    }
   }
  },
  {
   "cell_type": "code",
   "execution_count": 93,
   "outputs": [
    {
     "data": {
      "text/plain": "                    Material   Unit Cost     Unit Unit Consumption   Unit  \\\n8              RAW MATERIALS         NaN      NaN              NaN    NaN   \n9     CATALYST AND CHEMICALS         NaN      NaN              NaN    NaN   \n10                   NAPHTHA   66.790014     ¢/KG          3.13079  TONNE   \n12        BY-PRODUCT CREDITS         NaN      NaN              NaN    NaN   \n13              C4 FRACTION8   80.424633     ¢/KG         -0.34879  TONNE   \n14                  FUEL GAS    6.563179  ¢/MMCAL      -6994.67782  MMCAL   \n15                 FUEL OIL.    3.963287  ¢/MMCAL      -1720.15038  MMCAL   \n16        HYDROGEN (95 VOL%)   21.276446    ¢/NM3       -386.88141    NM3   \n17  PROPYLENE, POLYMER GRADE  135.738615     ¢/KG         -0.51044  TONNE   \n18        PYROLYSIS GASOLINE   71.968401     ¢/KG          -0.5488  TONNE   \n20                 UTILITIES         NaN      NaN              NaN    NaN   \n21             COOLING WATER    6.419384     ¢/M3         78.00029     M3   \n22               ELECTRICITY       12.37    ¢/KWH        114.00104    KWH   \n23               NATURAL GAS    6.563179  ¢/MMCAL       6514.91252  MMCAL   \n24             PROCESS WATER   46.758475     ¢/M3          2.29999     M3   \n\n   Product Cost                Type  \n8    210.157112       RAW MATERIALS  \n9      1.051605       RAW MATERIALS  \n10   209.105507       RAW MATERIALS  \n12  -197.790217  BY-PRODUCT CREDITS  \n13   -28.051308  BY-PRODUCT CREDITS  \n14    -45.90732  BY-PRODUCT CREDITS  \n15     -6.81745  BY-PRODUCT CREDITS  \n16    -8.231461  BY-PRODUCT CREDITS  \n17   -69.286419  BY-PRODUCT CREDITS  \n18   -39.496259  BY-PRODUCT CREDITS  \n20    44.776985           UTILITIES  \n21     0.500714           UTILITIES  \n22     1.410193           UTILITIES  \n23    42.758534           UTILITIES  \n24     0.107544           UTILITIES  ",
      "text/html": "<div>\n<style scoped>\n    .dataframe tbody tr th:only-of-type {\n        vertical-align: middle;\n    }\n\n    .dataframe tbody tr th {\n        vertical-align: top;\n    }\n\n    .dataframe thead th {\n        text-align: right;\n    }\n</style>\n<table border=\"1\" class=\"dataframe\">\n  <thead>\n    <tr style=\"text-align: right;\">\n      <th></th>\n      <th>Material</th>\n      <th>Unit Cost</th>\n      <th>Unit</th>\n      <th>Unit Consumption</th>\n      <th>Unit</th>\n      <th>Product Cost</th>\n      <th>Type</th>\n    </tr>\n  </thead>\n  <tbody>\n    <tr>\n      <th>8</th>\n      <td>RAW MATERIALS</td>\n      <td>NaN</td>\n      <td>NaN</td>\n      <td>NaN</td>\n      <td>NaN</td>\n      <td>210.157112</td>\n      <td>RAW MATERIALS</td>\n    </tr>\n    <tr>\n      <th>9</th>\n      <td>CATALYST AND CHEMICALS</td>\n      <td>NaN</td>\n      <td>NaN</td>\n      <td>NaN</td>\n      <td>NaN</td>\n      <td>1.051605</td>\n      <td>RAW MATERIALS</td>\n    </tr>\n    <tr>\n      <th>10</th>\n      <td>NAPHTHA</td>\n      <td>66.790014</td>\n      <td>¢/KG</td>\n      <td>3.13079</td>\n      <td>TONNE</td>\n      <td>209.105507</td>\n      <td>RAW MATERIALS</td>\n    </tr>\n    <tr>\n      <th>12</th>\n      <td>BY-PRODUCT CREDITS</td>\n      <td>NaN</td>\n      <td>NaN</td>\n      <td>NaN</td>\n      <td>NaN</td>\n      <td>-197.790217</td>\n      <td>BY-PRODUCT CREDITS</td>\n    </tr>\n    <tr>\n      <th>13</th>\n      <td>C4 FRACTION8</td>\n      <td>80.424633</td>\n      <td>¢/KG</td>\n      <td>-0.34879</td>\n      <td>TONNE</td>\n      <td>-28.051308</td>\n      <td>BY-PRODUCT CREDITS</td>\n    </tr>\n    <tr>\n      <th>14</th>\n      <td>FUEL GAS</td>\n      <td>6.563179</td>\n      <td>¢/MMCAL</td>\n      <td>-6994.67782</td>\n      <td>MMCAL</td>\n      <td>-45.90732</td>\n      <td>BY-PRODUCT CREDITS</td>\n    </tr>\n    <tr>\n      <th>15</th>\n      <td>FUEL OIL.</td>\n      <td>3.963287</td>\n      <td>¢/MMCAL</td>\n      <td>-1720.15038</td>\n      <td>MMCAL</td>\n      <td>-6.81745</td>\n      <td>BY-PRODUCT CREDITS</td>\n    </tr>\n    <tr>\n      <th>16</th>\n      <td>HYDROGEN (95 VOL%)</td>\n      <td>21.276446</td>\n      <td>¢/NM3</td>\n      <td>-386.88141</td>\n      <td>NM3</td>\n      <td>-8.231461</td>\n      <td>BY-PRODUCT CREDITS</td>\n    </tr>\n    <tr>\n      <th>17</th>\n      <td>PROPYLENE, POLYMER GRADE</td>\n      <td>135.738615</td>\n      <td>¢/KG</td>\n      <td>-0.51044</td>\n      <td>TONNE</td>\n      <td>-69.286419</td>\n      <td>BY-PRODUCT CREDITS</td>\n    </tr>\n    <tr>\n      <th>18</th>\n      <td>PYROLYSIS GASOLINE</td>\n      <td>71.968401</td>\n      <td>¢/KG</td>\n      <td>-0.5488</td>\n      <td>TONNE</td>\n      <td>-39.496259</td>\n      <td>BY-PRODUCT CREDITS</td>\n    </tr>\n    <tr>\n      <th>20</th>\n      <td>UTILITIES</td>\n      <td>NaN</td>\n      <td>NaN</td>\n      <td>NaN</td>\n      <td>NaN</td>\n      <td>44.776985</td>\n      <td>UTILITIES</td>\n    </tr>\n    <tr>\n      <th>21</th>\n      <td>COOLING WATER</td>\n      <td>6.419384</td>\n      <td>¢/M3</td>\n      <td>78.00029</td>\n      <td>M3</td>\n      <td>0.500714</td>\n      <td>UTILITIES</td>\n    </tr>\n    <tr>\n      <th>22</th>\n      <td>ELECTRICITY</td>\n      <td>12.37</td>\n      <td>¢/KWH</td>\n      <td>114.00104</td>\n      <td>KWH</td>\n      <td>1.410193</td>\n      <td>UTILITIES</td>\n    </tr>\n    <tr>\n      <th>23</th>\n      <td>NATURAL GAS</td>\n      <td>6.563179</td>\n      <td>¢/MMCAL</td>\n      <td>6514.91252</td>\n      <td>MMCAL</td>\n      <td>42.758534</td>\n      <td>UTILITIES</td>\n    </tr>\n    <tr>\n      <th>24</th>\n      <td>PROCESS WATER</td>\n      <td>46.758475</td>\n      <td>¢/M3</td>\n      <td>2.29999</td>\n      <td>M3</td>\n      <td>0.107544</td>\n      <td>UTILITIES</td>\n    </tr>\n  </tbody>\n</table>\n</div>"
     },
     "execution_count": 93,
     "metadata": {},
     "output_type": "execute_result"
    }
   ],
   "source": [
    "materials"
   ],
   "metadata": {
    "collapsed": false,
    "pycharm": {
     "name": "#%%\n"
    }
   }
  },
  {
   "cell_type": "code",
   "execution_count": 94,
   "outputs": [
    {
     "data": {
      "text/plain": "                            Cost     Capacity          NaN  \\\n8        INVESTMENT, US$ MILLION  1870.061319  2954.851395   \n9                 BATTERY LIMITS  1280.105202  2022.671987   \n10                     OFF SITES   589.956117   932.179409   \n13                 RAW MATERIALS   210.157112   210.157112   \n14            BY PRODUCT CREDITS  -197.790217  -197.790217   \n15                     UTILITIES    44.776985    44.776985   \n16                VARIABLE COSTS    57.143881    57.143881   \n17         MAINTENANCE MATERIALS     6.143454     4.853582   \n18  OPERATING LABOR (11.0/SHIFT)     1.502188     0.751094   \n19            OPERATING SUPPLIES     0.150219     0.075109   \n20             MAINTENANCE LABOR     4.095636     3.235721   \n21            CONTROL LABORATORY     0.300438     0.150219   \n22            TOTAL DIRECT COSTS    69.335815    66.209607   \n23                PLANT OVERHEAD     4.718609     3.309627   \n24           TAXES AND INSURANCE     7.478965     5.908691   \n25              PLANT CASH COSTS    81.533389    75.427925   \n26                  DEPRECIATION    37.394825    29.543457   \n27               PLANT GATE COST   118.928214   104.971382   \n28     G + A, SALES, RES., 5.00%     9.211603     7.857188   \n31              AT 100% CAPACITY   128.139817   112.828570   \n32               AT 75% CAPACITY   151.805128   131.390133   \n33               AT 50% CAPACITY   199.135752   168.513259   \n35              AT 100% CAPACITY   184.232055   157.143755   \n36               AT 75% CAPACITY   226.594779   190.477046   \n37               AT 50% CAPACITY   311.320228   257.143629   \n\n                         Type  \n8     INVESTMENT, US$ MILLION  \n9     INVESTMENT, US$ MILLION  \n10    INVESTMENT, US$ MILLION  \n13  PRODUCTION COSTS, US ¢/KG  \n14  PRODUCTION COSTS, US ¢/KG  \n15  PRODUCTION COSTS, US ¢/KG  \n16  PRODUCTION COSTS, US ¢/KG  \n17  PRODUCTION COSTS, US ¢/KG  \n18  PRODUCTION COSTS, US ¢/KG  \n19  PRODUCTION COSTS, US ¢/KG  \n20  PRODUCTION COSTS, US ¢/KG  \n21  PRODUCTION COSTS, US ¢/KG  \n22  PRODUCTION COSTS, US ¢/KG  \n23  PRODUCTION COSTS, US ¢/KG  \n24  PRODUCTION COSTS, US ¢/KG  \n25  PRODUCTION COSTS, US ¢/KG  \n26  PRODUCTION COSTS, US ¢/KG  \n27  PRODUCTION COSTS, US ¢/KG  \n28  PRODUCTION COSTS, US ¢/KG  \n31           PRODUCTION COSTS  \n32           PRODUCTION COSTS  \n33           PRODUCTION COSTS  \n35           PRODUCTION COSTS  \n36           PRODUCTION COSTS  \n37           PRODUCTION COSTS  ",
      "text/html": "<div>\n<style scoped>\n    .dataframe tbody tr th:only-of-type {\n        vertical-align: middle;\n    }\n\n    .dataframe tbody tr th {\n        vertical-align: top;\n    }\n\n    .dataframe thead th {\n        text-align: right;\n    }\n</style>\n<table border=\"1\" class=\"dataframe\">\n  <thead>\n    <tr style=\"text-align: right;\">\n      <th></th>\n      <th>Cost</th>\n      <th>Capacity</th>\n      <th>NaN</th>\n      <th>Type</th>\n    </tr>\n  </thead>\n  <tbody>\n    <tr>\n      <th>8</th>\n      <td>INVESTMENT, US$ MILLION</td>\n      <td>1870.061319</td>\n      <td>2954.851395</td>\n      <td>INVESTMENT, US$ MILLION</td>\n    </tr>\n    <tr>\n      <th>9</th>\n      <td>BATTERY LIMITS</td>\n      <td>1280.105202</td>\n      <td>2022.671987</td>\n      <td>INVESTMENT, US$ MILLION</td>\n    </tr>\n    <tr>\n      <th>10</th>\n      <td>OFF SITES</td>\n      <td>589.956117</td>\n      <td>932.179409</td>\n      <td>INVESTMENT, US$ MILLION</td>\n    </tr>\n    <tr>\n      <th>13</th>\n      <td>RAW MATERIALS</td>\n      <td>210.157112</td>\n      <td>210.157112</td>\n      <td>PRODUCTION COSTS, US ¢/KG</td>\n    </tr>\n    <tr>\n      <th>14</th>\n      <td>BY PRODUCT CREDITS</td>\n      <td>-197.790217</td>\n      <td>-197.790217</td>\n      <td>PRODUCTION COSTS, US ¢/KG</td>\n    </tr>\n    <tr>\n      <th>15</th>\n      <td>UTILITIES</td>\n      <td>44.776985</td>\n      <td>44.776985</td>\n      <td>PRODUCTION COSTS, US ¢/KG</td>\n    </tr>\n    <tr>\n      <th>16</th>\n      <td>VARIABLE COSTS</td>\n      <td>57.143881</td>\n      <td>57.143881</td>\n      <td>PRODUCTION COSTS, US ¢/KG</td>\n    </tr>\n    <tr>\n      <th>17</th>\n      <td>MAINTENANCE MATERIALS</td>\n      <td>6.143454</td>\n      <td>4.853582</td>\n      <td>PRODUCTION COSTS, US ¢/KG</td>\n    </tr>\n    <tr>\n      <th>18</th>\n      <td>OPERATING LABOR (11.0/SHIFT)</td>\n      <td>1.502188</td>\n      <td>0.751094</td>\n      <td>PRODUCTION COSTS, US ¢/KG</td>\n    </tr>\n    <tr>\n      <th>19</th>\n      <td>OPERATING SUPPLIES</td>\n      <td>0.150219</td>\n      <td>0.075109</td>\n      <td>PRODUCTION COSTS, US ¢/KG</td>\n    </tr>\n    <tr>\n      <th>20</th>\n      <td>MAINTENANCE LABOR</td>\n      <td>4.095636</td>\n      <td>3.235721</td>\n      <td>PRODUCTION COSTS, US ¢/KG</td>\n    </tr>\n    <tr>\n      <th>21</th>\n      <td>CONTROL LABORATORY</td>\n      <td>0.300438</td>\n      <td>0.150219</td>\n      <td>PRODUCTION COSTS, US ¢/KG</td>\n    </tr>\n    <tr>\n      <th>22</th>\n      <td>TOTAL DIRECT COSTS</td>\n      <td>69.335815</td>\n      <td>66.209607</td>\n      <td>PRODUCTION COSTS, US ¢/KG</td>\n    </tr>\n    <tr>\n      <th>23</th>\n      <td>PLANT OVERHEAD</td>\n      <td>4.718609</td>\n      <td>3.309627</td>\n      <td>PRODUCTION COSTS, US ¢/KG</td>\n    </tr>\n    <tr>\n      <th>24</th>\n      <td>TAXES AND INSURANCE</td>\n      <td>7.478965</td>\n      <td>5.908691</td>\n      <td>PRODUCTION COSTS, US ¢/KG</td>\n    </tr>\n    <tr>\n      <th>25</th>\n      <td>PLANT CASH COSTS</td>\n      <td>81.533389</td>\n      <td>75.427925</td>\n      <td>PRODUCTION COSTS, US ¢/KG</td>\n    </tr>\n    <tr>\n      <th>26</th>\n      <td>DEPRECIATION</td>\n      <td>37.394825</td>\n      <td>29.543457</td>\n      <td>PRODUCTION COSTS, US ¢/KG</td>\n    </tr>\n    <tr>\n      <th>27</th>\n      <td>PLANT GATE COST</td>\n      <td>118.928214</td>\n      <td>104.971382</td>\n      <td>PRODUCTION COSTS, US ¢/KG</td>\n    </tr>\n    <tr>\n      <th>28</th>\n      <td>G + A, SALES, RES., 5.00%</td>\n      <td>9.211603</td>\n      <td>7.857188</td>\n      <td>PRODUCTION COSTS, US ¢/KG</td>\n    </tr>\n    <tr>\n      <th>31</th>\n      <td>AT 100% CAPACITY</td>\n      <td>128.139817</td>\n      <td>112.828570</td>\n      <td>PRODUCTION COSTS</td>\n    </tr>\n    <tr>\n      <th>32</th>\n      <td>AT 75% CAPACITY</td>\n      <td>151.805128</td>\n      <td>131.390133</td>\n      <td>PRODUCTION COSTS</td>\n    </tr>\n    <tr>\n      <th>33</th>\n      <td>AT 50% CAPACITY</td>\n      <td>199.135752</td>\n      <td>168.513259</td>\n      <td>PRODUCTION COSTS</td>\n    </tr>\n    <tr>\n      <th>35</th>\n      <td>AT 100% CAPACITY</td>\n      <td>184.232055</td>\n      <td>157.143755</td>\n      <td>PRODUCTION COSTS</td>\n    </tr>\n    <tr>\n      <th>36</th>\n      <td>AT 75% CAPACITY</td>\n      <td>226.594779</td>\n      <td>190.477046</td>\n      <td>PRODUCTION COSTS</td>\n    </tr>\n    <tr>\n      <th>37</th>\n      <td>AT 50% CAPACITY</td>\n      <td>311.320228</td>\n      <td>257.143629</td>\n      <td>PRODUCTION COSTS</td>\n    </tr>\n  </tbody>\n</table>\n</div>"
     },
     "execution_count": 94,
     "metadata": {},
     "output_type": "execute_result"
    }
   ],
   "source": [
    "cost"
   ],
   "metadata": {
    "collapsed": false,
    "pycharm": {
     "name": "#%%\n"
    }
   }
  }
 ],
 "metadata": {
  "kernelspec": {
   "display_name": "Python 3",
   "language": "python",
   "name": "python3"
  },
  "language_info": {
   "codemirror_mode": {
    "name": "ipython",
    "version": 2
   },
   "file_extension": ".py",
   "mimetype": "text/x-python",
   "name": "python",
   "nbconvert_exporter": "python",
   "pygments_lexer": "ipython2",
   "version": "2.7.6"
  }
 },
 "nbformat": 4,
 "nbformat_minor": 0
}