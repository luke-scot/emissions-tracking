{
 "cells": [
  {
   "cell_type": "code",
   "execution_count": 3,
   "outputs": [],
   "source": [
    "import pandas as pd\n",
    "import numpy as np\n",
    "import win32com.client\n",
    "import time"
   ],
   "metadata": {
    "collapsed": false,
    "pycharm": {
     "name": "#%%\n"
    }
   }
  },
  {
   "cell_type": "code",
   "execution_count": 47,
   "outputs": [],
   "source": [
    "file = \"C:/Users\\lukec\\OneDrive - University of Cambridge\\Projects\\PhD\\Data\\IHS\\Ethylene\\ETHYLENE FROM WIDE RANGE NAPHTHA, MAXIMUM ETHYLENE, FRONT END DEMETHANIZER - Germany.xlsx\"\n",
    "footer = 11\n",
    "headerLines = 5\n",
    "colSep = 6"
   ],
   "metadata": {
    "collapsed": false,
    "pycharm": {
     "name": "#%%\n"
    }
   }
  },
  {
   "cell_type": "code",
   "execution_count": 52,
   "outputs": [],
   "source": [
    "def refresh_excel_file(file:str, pause=False):\n",
    "    # Refresh Excel file to have numbers for formula cells\n",
    "    xlapp = win32com.client.DispatchEx(\"Excel.Application\")\n",
    "    wb = xlapp.Workbooks.Open(file)\n",
    "    wb.RefreshAll()\n",
    "    if pause: time.sleep(pause)\n",
    "    wb.Save()\n",
    "    wb.Close()\n",
    "    xlapp.Quit()\n",
    "    return file"
   ],
   "metadata": {
    "collapsed": false,
    "pycharm": {
     "name": "#%%\n"
    }
   }
  },
  {
   "cell_type": "code",
   "execution_count": 167,
   "outputs": [],
   "source": [
    "def extract_properties(df):\n",
    "    properties = list(map(lambda x: x.strip(), df.loc[2][0].split(\",\")))+['Name: '+df.loc[1][0]]\n",
    "    properties = dict(map(lambda x: x.split(\": \"), properties))\n",
    "    return properties\n",
    "\n",
    "def add_property_columns(df, properties):\n",
    "    print(list(properties.values()))\n",
    "    df[list(properties.keys())] = list(properties.values())\n",
    "    return df\n",
    "\n",
    "def excel_multilayer_table_extract(df, dataType='Attribute', header=0, colStart=0, colEnd=-1, properties=False):\n",
    "    data = df[header:][df.columns[colStart:colEnd]]\n",
    "    data.columns = [dataType] + list(data.iloc[0][1:].values)\n",
    "    data.columns = list(map(lambda x: 'Unit' if x is np.nan else x, data.columns.values))\n",
    "    data.dropna(subset=[data.columns[0]], inplace=True)\n",
    "\n",
    "    typesInd = [0] + list(np.where(data.index[1:] - data.index[:-1] != 1)[0]+1)\n",
    "    data['Type'] = list(map(lambda x: data[dataType].values[typesInd[np.sum(np.array(typesInd) < x+1)-1]], range(len(data))))\n",
    "    data.dropna(subset=data.columns[1:-1], how='all', inplace=True)\n",
    "    data.reset_index(drop=True, inplace=True)\n",
    "    if properties: data = add_property_columns(data, properties)\n",
    "    return data"
   ],
   "metadata": {
    "collapsed": false,
    "pycharm": {
     "name": "#%%\n"
    }
   }
  },
  {
   "cell_type": "code",
   "execution_count": 171,
   "outputs": [
    {
     "name": "stdout",
     "output_type": "stream",
     "text": [
      "['Germany', 'ETHYLENE', '1087', '135.83 ¢/KG', '2M-1622', '1.06 (1US $ = 0.85)', '2021 Q3', '2014', 'ETHYLENE FROM WIDE RANGE NAPHTHA, MAXIMUM ETHYLENE, FRONT END DEMETHANIZER']\n"
     ]
    }
   ],
   "source": [
    "# Import sheet\n",
    "sheet = pd.read_excel(refresh_excel_file(file),skipfooter=footer)\n",
    "properties = extract_properties(sheet)\n",
    "materials = excel_multilayer_table_extract(sheet, dataType='Material', header=headerLines, colEnd=colSep,\n",
    "                                           properties=properties)\n",
    "cost = excel_multilayer_table_extract(sheet, dataType='Cost', header=headerLines, colStart=colSep+1,\n",
    "                                      properties=properties)"
   ],
   "metadata": {
    "collapsed": false,
    "pycharm": {
     "name": "#%%\n"
    }
   }
  },
  {
   "cell_type": "code",
   "execution_count": 127,
   "outputs": [],
   "source": [
    "from pandas_xlsx_tables import df_to_xlsx_table\n",
    "df_to_xlsx_table(cost, \"Costs\")"
   ],
   "metadata": {
    "collapsed": false,
    "pycharm": {
     "name": "#%%\n"
    }
   }
  },
  {
   "cell_type": "code",
   "execution_count": null,
   "outputs": [],
   "source": [
    "#!pip install pivottablejs\n",
    "# from pivottablejs import pivot_ui\n",
    "# pivot_ui(cost,outfile_path='pivottablejs.html')"
   ],
   "metadata": {
    "collapsed": false,
    "pycharm": {
     "name": "#%%\n"
    }
   }
  },
  {
   "cell_type": "markdown",
   "source": [
    "# Extract from multiline file"
   ],
   "metadata": {
    "collapsed": false
   }
  },
  {
   "cell_type": "code",
   "execution_count": null,
   "outputs": [],
   "source": [
    "import pyarrow"
   ],
   "metadata": {
    "collapsed": false,
    "pycharm": {
     "name": "#%%\n"
    }
   }
  },
  {
   "cell_type": "code",
   "execution_count": 37,
   "outputs": [],
   "source": [
    "def del_empty_cols(df): return df.dropna(axis=1, how='all').reset_index(drop=True)\n",
    "\n",
    "class ProcessData(object):\n",
    "    def __init__(self):\n",
    "        self.filePath = \"C:/Users\\lshc3\\Documents\\IHS_data\\ethylene_demo\\ethylene_all_horizontal_english.xlsx\"\n",
    "        self.data = del_empty_cols(pd.read_excel(self.filePath,header=6,skipfooter=1)).dropna(axis=0, how='all')\n",
    "        self.products = del_empty_cols(self.data.loc[self.data['Type']=='Product'])\n",
    "        self.materials = del_empty_cols(self.data.loc[self.data['Type']!='Product'])"
   ],
   "metadata": {
    "collapsed": false,
    "pycharm": {
     "name": "#%%\n"
    }
   }
  },
  {
   "cell_type": "code",
   "execution_count": 61,
   "outputs": [],
   "source": [
    "data.materials.to_feather('.\\materials.feather')"
   ],
   "metadata": {
    "collapsed": false,
    "pycharm": {
     "name": "#%%\n"
    }
   }
  },
  {
   "cell_type": "markdown",
   "source": [
    "## Interacting"
   ],
   "metadata": {
    "collapsed": false
   }
  },
  {
   "cell_type": "code",
   "execution_count": 44,
   "outputs": [],
   "source": [
    "import ipywidgets as ipw"
   ],
   "metadata": {
    "collapsed": false,
    "pycharm": {
     "name": "#%%\n"
    }
   }
  },
  {
   "cell_type": "code",
   "execution_count": null,
   "outputs": [],
   "source": [
    "selectors = [ipw.SelectMultiple(options=data.products[i].unique(),rows=10,description=i, disabled=False) for i in ['Name', 'Process', 'Geography', 'Research Year']]"
   ],
   "metadata": {
    "collapsed": false,
    "pycharm": {
     "name": "#%%\n"
    }
   }
  },
  {
   "cell_type": "code",
   "execution_count": 47,
   "outputs": [],
   "source": [
    "i = 'Name'\n",
    "sel = ipw.SelectMultiple(options=data.products[i].unique(),rows=10,description=i, disabled=False)"
   ],
   "metadata": {
    "collapsed": false,
    "pycharm": {
     "name": "#%%\n"
    }
   }
  },
  {
   "cell_type": "code",
   "execution_count": 56,
   "outputs": [],
   "source": [
    "data.products.to_feather('.\\products.feather')"
   ],
   "metadata": {
    "collapsed": false,
    "pycharm": {
     "name": "#%%\n"
    }
   }
  },
  {
   "cell_type": "code",
   "execution_count": 51,
   "outputs": [
    {
     "data": {
      "text/plain": "         Code                  Geography Data Version  Research Year  \\\n0      1E-981  United States, Gulf Coast      2021 Q3         2002.0   \n1      1E-981  United States, Gulf Coast      2021 Q3         2002.0   \n2      1E-981  United States, Gulf Coast      2021 Q3         2002.0   \n3      1E-981  United States, Gulf Coast      2021 Q3         2002.0   \n4      1E-981  United States, Gulf Coast      2021 Q3         2002.0   \n...       ...                        ...          ...            ...   \n2917  4M-1603            China, Shanghai      2021 Q3         2014.0   \n2918  4M-1603            China, Shanghai      2021 Q3         2014.0   \n2919  4M-1603            China, Shanghai      2021 Q3         2014.0   \n2920  4M-1603            China, Shanghai      2021 Q3         2014.0   \n2921  4M-1603            China, Shanghai      2021 Q3         2014.0   \n\n                                                Process          Type  \\\n0     ETHYLENE BY THE UOP/HYDRO METHANOL TO OLEFINS ...  Raw Material   \n1     ETHYLENE BY THE UOP/HYDRO METHANOL TO OLEFINS ...  Raw Material   \n2     ETHYLENE BY THE UOP/HYDRO METHANOL TO OLEFINS ...  Raw Material   \n3     ETHYLENE BY THE UOP/HYDRO METHANOL TO OLEFINS ...    By-Product   \n4     ETHYLENE BY THE UOP/HYDRO METHANOL TO OLEFINS ...    By-Product   \n...                                                 ...           ...   \n2917    METHANOL TO OLEFINS BY UOP ADVANCED MTO PROCESS    By-Product   \n2918    METHANOL TO OLEFINS BY UOP ADVANCED MTO PROCESS    By-Product   \n2919    METHANOL TO OLEFINS BY UOP ADVANCED MTO PROCESS     Utilities   \n2920    METHANOL TO OLEFINS BY UOP ADVANCED MTO PROCESS     Utilities   \n2921    METHANOL TO OLEFINS BY UOP ADVANCED MTO PROCESS     Utilities   \n\n                       Name    Unit Cost Cost Unit  Unit Consumption  \\\n0                  CATALYST          NaN       NaN               NaN   \n1        CAUSTIC SODA (50%)    24.500000        LB          0.006260   \n2           METHANOL, CRUDE   109.000000       GAL          0.894110   \n3             C4-C5 MIXTURE    30.330000        LB         -0.436700   \n4           ETHANE-RICH GAS    11.390000        LB         -0.031340   \n...                     ...          ...       ...               ...   \n2917       PROPANE-RICH GAS    62.236497        KG         -0.027350   \n2918  PROPYLENE, CHEM GRADE   104.168419        KG         -1.111190   \n2919          COOLING WATER     4.596596        M3        262.880116   \n2920            ELECTRICITY    10.970000       KWH        108.026508   \n2921                  STEAM  1565.282062     TONNE          5.500000   \n\n     Consumption Unit  Variable Cost  \n0                 NaN       1.930000  \n1                  LB       0.153370  \n2                 GAL      97.457990  \n3                  LB     -13.245111  \n4                  LB      -0.356963  \n...               ...            ...  \n2917            TONNE      -1.702168  \n2918            TONNE    -115.750905  \n2919               M3       1.208354  \n2920              KWH       1.185051  \n2921            TONNE       8.609051  \n\n[2922 rows x 12 columns]",
      "text/html": "<div>\n<style scoped>\n    .dataframe tbody tr th:only-of-type {\n        vertical-align: middle;\n    }\n\n    .dataframe tbody tr th {\n        vertical-align: top;\n    }\n\n    .dataframe thead th {\n        text-align: right;\n    }\n</style>\n<table border=\"1\" class=\"dataframe\">\n  <thead>\n    <tr style=\"text-align: right;\">\n      <th></th>\n      <th>Code</th>\n      <th>Geography</th>\n      <th>Data Version</th>\n      <th>Research Year</th>\n      <th>Process</th>\n      <th>Type</th>\n      <th>Name</th>\n      <th>Unit Cost</th>\n      <th>Cost Unit</th>\n      <th>Unit Consumption</th>\n      <th>Consumption Unit</th>\n      <th>Variable Cost</th>\n    </tr>\n  </thead>\n  <tbody>\n    <tr>\n      <th>0</th>\n      <td>1E-981</td>\n      <td>United States, Gulf Coast</td>\n      <td>2021 Q3</td>\n      <td>2002.0</td>\n      <td>ETHYLENE BY THE UOP/HYDRO METHANOL TO OLEFINS ...</td>\n      <td>Raw Material</td>\n      <td>CATALYST</td>\n      <td>NaN</td>\n      <td>NaN</td>\n      <td>NaN</td>\n      <td>NaN</td>\n      <td>1.930000</td>\n    </tr>\n    <tr>\n      <th>1</th>\n      <td>1E-981</td>\n      <td>United States, Gulf Coast</td>\n      <td>2021 Q3</td>\n      <td>2002.0</td>\n      <td>ETHYLENE BY THE UOP/HYDRO METHANOL TO OLEFINS ...</td>\n      <td>Raw Material</td>\n      <td>CAUSTIC SODA (50%)</td>\n      <td>24.500000</td>\n      <td>LB</td>\n      <td>0.006260</td>\n      <td>LB</td>\n      <td>0.153370</td>\n    </tr>\n    <tr>\n      <th>2</th>\n      <td>1E-981</td>\n      <td>United States, Gulf Coast</td>\n      <td>2021 Q3</td>\n      <td>2002.0</td>\n      <td>ETHYLENE BY THE UOP/HYDRO METHANOL TO OLEFINS ...</td>\n      <td>Raw Material</td>\n      <td>METHANOL, CRUDE</td>\n      <td>109.000000</td>\n      <td>GAL</td>\n      <td>0.894110</td>\n      <td>GAL</td>\n      <td>97.457990</td>\n    </tr>\n    <tr>\n      <th>3</th>\n      <td>1E-981</td>\n      <td>United States, Gulf Coast</td>\n      <td>2021 Q3</td>\n      <td>2002.0</td>\n      <td>ETHYLENE BY THE UOP/HYDRO METHANOL TO OLEFINS ...</td>\n      <td>By-Product</td>\n      <td>C4-C5 MIXTURE</td>\n      <td>30.330000</td>\n      <td>LB</td>\n      <td>-0.436700</td>\n      <td>LB</td>\n      <td>-13.245111</td>\n    </tr>\n    <tr>\n      <th>4</th>\n      <td>1E-981</td>\n      <td>United States, Gulf Coast</td>\n      <td>2021 Q3</td>\n      <td>2002.0</td>\n      <td>ETHYLENE BY THE UOP/HYDRO METHANOL TO OLEFINS ...</td>\n      <td>By-Product</td>\n      <td>ETHANE-RICH GAS</td>\n      <td>11.390000</td>\n      <td>LB</td>\n      <td>-0.031340</td>\n      <td>LB</td>\n      <td>-0.356963</td>\n    </tr>\n    <tr>\n      <th>...</th>\n      <td>...</td>\n      <td>...</td>\n      <td>...</td>\n      <td>...</td>\n      <td>...</td>\n      <td>...</td>\n      <td>...</td>\n      <td>...</td>\n      <td>...</td>\n      <td>...</td>\n      <td>...</td>\n      <td>...</td>\n    </tr>\n    <tr>\n      <th>2917</th>\n      <td>4M-1603</td>\n      <td>China, Shanghai</td>\n      <td>2021 Q3</td>\n      <td>2014.0</td>\n      <td>METHANOL TO OLEFINS BY UOP ADVANCED MTO PROCESS</td>\n      <td>By-Product</td>\n      <td>PROPANE-RICH GAS</td>\n      <td>62.236497</td>\n      <td>KG</td>\n      <td>-0.027350</td>\n      <td>TONNE</td>\n      <td>-1.702168</td>\n    </tr>\n    <tr>\n      <th>2918</th>\n      <td>4M-1603</td>\n      <td>China, Shanghai</td>\n      <td>2021 Q3</td>\n      <td>2014.0</td>\n      <td>METHANOL TO OLEFINS BY UOP ADVANCED MTO PROCESS</td>\n      <td>By-Product</td>\n      <td>PROPYLENE, CHEM GRADE</td>\n      <td>104.168419</td>\n      <td>KG</td>\n      <td>-1.111190</td>\n      <td>TONNE</td>\n      <td>-115.750905</td>\n    </tr>\n    <tr>\n      <th>2919</th>\n      <td>4M-1603</td>\n      <td>China, Shanghai</td>\n      <td>2021 Q3</td>\n      <td>2014.0</td>\n      <td>METHANOL TO OLEFINS BY UOP ADVANCED MTO PROCESS</td>\n      <td>Utilities</td>\n      <td>COOLING WATER</td>\n      <td>4.596596</td>\n      <td>M3</td>\n      <td>262.880116</td>\n      <td>M3</td>\n      <td>1.208354</td>\n    </tr>\n    <tr>\n      <th>2920</th>\n      <td>4M-1603</td>\n      <td>China, Shanghai</td>\n      <td>2021 Q3</td>\n      <td>2014.0</td>\n      <td>METHANOL TO OLEFINS BY UOP ADVANCED MTO PROCESS</td>\n      <td>Utilities</td>\n      <td>ELECTRICITY</td>\n      <td>10.970000</td>\n      <td>KWH</td>\n      <td>108.026508</td>\n      <td>KWH</td>\n      <td>1.185051</td>\n    </tr>\n    <tr>\n      <th>2921</th>\n      <td>4M-1603</td>\n      <td>China, Shanghai</td>\n      <td>2021 Q3</td>\n      <td>2014.0</td>\n      <td>METHANOL TO OLEFINS BY UOP ADVANCED MTO PROCESS</td>\n      <td>Utilities</td>\n      <td>STEAM</td>\n      <td>1565.282062</td>\n      <td>TONNE</td>\n      <td>5.500000</td>\n      <td>TONNE</td>\n      <td>8.609051</td>\n    </tr>\n  </tbody>\n</table>\n<p>2922 rows × 12 columns</p>\n</div>"
     },
     "execution_count": 51,
     "metadata": {},
     "output_type": "execute_result"
    }
   ],
   "source": [
    "data.materials"
   ],
   "metadata": {
    "collapsed": false,
    "pycharm": {
     "name": "#%%\n"
    }
   }
  },
  {
   "cell_type": "code",
   "execution_count": 53,
   "outputs": [],
   "source": [],
   "metadata": {
    "collapsed": false,
    "pycharm": {
     "name": "#%%\n"
    }
   }
  },
  {
   "cell_type": "code",
   "execution_count": 59,
   "outputs": [],
   "source": [
    "prods = pd.read_feather('./products.feather')"
   ],
   "metadata": {
    "collapsed": false,
    "pycharm": {
     "name": "#%%\n"
    }
   }
  },
  {
   "cell_type": "code",
   "execution_count": 60,
   "outputs": [
    {
     "data": {
      "text/plain": "        Code                  Geography Data Version  Research Year  \\\n0     1E-981  United States, Gulf Coast      2021 Q3         2002.0   \n1     2E-981                    Germany      2021 Q3         2002.0   \n2     3E-981                      Japan      2021 Q3         2002.0   \n3     4E-981            China, Shanghai      2021 Q3         2002.0   \n4    1E-1595  United States, Gulf Coast      2021 Q3         2014.0   \n..       ...                        ...          ...            ...   \n239  4M-1602            China, Shanghai      2021 Q3         2014.0   \n240  1M-1603  United States, Gulf Coast      2021 Q3         2014.0   \n241  2M-1603                    Germany      2021 Q3         2014.0   \n242  3M-1603                      Japan      2021 Q3         2014.0   \n243  4M-1603            China, Shanghai      2021 Q3         2014.0   \n\n                                               Process Unit  \\\n0    ETHYLENE BY THE UOP/HYDRO METHANOL TO OLEFINS ...   LB   \n1    ETHYLENE BY THE UOP/HYDRO METHANOL TO OLEFINS ...   LB   \n2    ETHYLENE BY THE UOP/HYDRO METHANOL TO OLEFINS ...   LB   \n3    ETHYLENE BY THE UOP/HYDRO METHANOL TO OLEFINS ...   LB   \n4                            ETHYLENE FROM 100% ETHANE   LB   \n..                                                 ...  ...   \n239         METHANOL TO OLEFINS BY THE DMTO-II PROCESS   KG   \n240    METHANOL TO OLEFINS BY UOP ADVANCED MTO PROCESS   KG   \n241    METHANOL TO OLEFINS BY UOP ADVANCED MTO PROCESS   KG   \n242    METHANOL TO OLEFINS BY UOP ADVANCED MTO PROCESS   KG   \n243    METHANOL TO OLEFINS BY UOP ADVANCED MTO PROCESS   KG   \n\n     Base Capacity (MM unit/year)  Investment (MM US$)     Type      Name  \\\n0                      882.000000           884.905431  Product  ETHYLENE   \n1                      882.000000           937.999757  Product  ETHYLENE   \n2                      882.000000           778.716780  Product  ETHYLENE   \n3                      882.000000           584.037585  Product  ETHYLENE   \n4                     3306.930000          2603.121527  Product  ETHYLENE   \n..                            ...                  ...      ...       ...   \n239                    298.010187           394.934144  Product  ETHYLENE   \n240                    288.938340           604.837579  Product  ETHYLENE   \n241                    288.938340           641.127834  Product  ETHYLENE   \n242                    288.938340           532.257070  Product  ETHYLENE   \n243                    288.938340           399.192802  Product  ETHYLENE   \n\n     ...  Fixed Costs  Overhead + Tax, Ins.  Plant Cash Cost   Depreciation  \\\n0    ...     2.673230              3.005282         15.714177     10.032941   \n1    ...     2.974026              3.289281         41.048387     10.634918   \n2    ...     2.331937              2.413579         48.259253      8.828988   \n3    ...     1.697407              1.566805         36.587246      6.621741   \n4    ...     2.395145              2.581849         14.965808      7.871716   \n..   ...          ...                   ...               ...           ...   \n239  ...     3.570702              3.305171        104.954207     13.252371   \n240  ...     6.383301              6.666587         41.930773     20.933102   \n241  ...     7.194883              7.383074        104.769784     22.189088   \n242  ...     5.554709              5.286335        129.071071     18.421130   \n243  ...     4.008685              3.580103         94.094853     13.815847   \n\n     Plant Gate Costs   G&A, Sales, Res.  Production Cost   ROI (15%)  \\\n0            25.747119          1.261748         27.008867  15.049412   \n1            51.683304          2.091825         53.775130  15.952377   \n2            57.088241          2.175208         59.263449  13.243483   \n3            43.208987          1.643555         44.852542   9.932612   \n4            22.837524          1.071498         23.909022  11.807575   \n..                 ...               ...               ...        ...   \n239         118.206578          1.394799        119.601377  19.878556   \n240          62.863875          0.952157         63.816032  31.399653   \n241         126.958872          1.618611        128.577483  33.283632   \n242         147.492201          1.768928        149.261130  27.631695   \n243         107.910700          1.299338        109.210038  20.723771   \n\n     Product Value   Product Price   \n0         42.058279       45.550000  \n1         69.727506       61.610000  \n2         72.506932       45.520000  \n3         54.785154       44.240000  \n4         35.716597       45.550000  \n..              ...             ...  \n239      139.479933       97.532505  \n240       95.215685      100.420560  \n241      161.861116      135.826800  \n242      176.892824      100.354422  \n243      129.933810       97.532505  \n\n[244 rows x 21 columns]",
      "text/html": "<div>\n<style scoped>\n    .dataframe tbody tr th:only-of-type {\n        vertical-align: middle;\n    }\n\n    .dataframe tbody tr th {\n        vertical-align: top;\n    }\n\n    .dataframe thead th {\n        text-align: right;\n    }\n</style>\n<table border=\"1\" class=\"dataframe\">\n  <thead>\n    <tr style=\"text-align: right;\">\n      <th></th>\n      <th>Code</th>\n      <th>Geography</th>\n      <th>Data Version</th>\n      <th>Research Year</th>\n      <th>Process</th>\n      <th>Unit</th>\n      <th>Base Capacity (MM unit/year)</th>\n      <th>Investment (MM US$)</th>\n      <th>Type</th>\n      <th>Name</th>\n      <th>...</th>\n      <th>Fixed Costs</th>\n      <th>Overhead + Tax, Ins.</th>\n      <th>Plant Cash Cost</th>\n      <th>Depreciation</th>\n      <th>Plant Gate Costs</th>\n      <th>G&amp;A, Sales, Res.</th>\n      <th>Production Cost</th>\n      <th>ROI (15%)</th>\n      <th>Product Value</th>\n      <th>Product Price</th>\n    </tr>\n  </thead>\n  <tbody>\n    <tr>\n      <th>0</th>\n      <td>1E-981</td>\n      <td>United States, Gulf Coast</td>\n      <td>2021 Q3</td>\n      <td>2002.0</td>\n      <td>ETHYLENE BY THE UOP/HYDRO METHANOL TO OLEFINS ...</td>\n      <td>LB</td>\n      <td>882.000000</td>\n      <td>884.905431</td>\n      <td>Product</td>\n      <td>ETHYLENE</td>\n      <td>...</td>\n      <td>2.673230</td>\n      <td>3.005282</td>\n      <td>15.714177</td>\n      <td>10.032941</td>\n      <td>25.747119</td>\n      <td>1.261748</td>\n      <td>27.008867</td>\n      <td>15.049412</td>\n      <td>42.058279</td>\n      <td>45.550000</td>\n    </tr>\n    <tr>\n      <th>1</th>\n      <td>2E-981</td>\n      <td>Germany</td>\n      <td>2021 Q3</td>\n      <td>2002.0</td>\n      <td>ETHYLENE BY THE UOP/HYDRO METHANOL TO OLEFINS ...</td>\n      <td>LB</td>\n      <td>882.000000</td>\n      <td>937.999757</td>\n      <td>Product</td>\n      <td>ETHYLENE</td>\n      <td>...</td>\n      <td>2.974026</td>\n      <td>3.289281</td>\n      <td>41.048387</td>\n      <td>10.634918</td>\n      <td>51.683304</td>\n      <td>2.091825</td>\n      <td>53.775130</td>\n      <td>15.952377</td>\n      <td>69.727506</td>\n      <td>61.610000</td>\n    </tr>\n    <tr>\n      <th>2</th>\n      <td>3E-981</td>\n      <td>Japan</td>\n      <td>2021 Q3</td>\n      <td>2002.0</td>\n      <td>ETHYLENE BY THE UOP/HYDRO METHANOL TO OLEFINS ...</td>\n      <td>LB</td>\n      <td>882.000000</td>\n      <td>778.716780</td>\n      <td>Product</td>\n      <td>ETHYLENE</td>\n      <td>...</td>\n      <td>2.331937</td>\n      <td>2.413579</td>\n      <td>48.259253</td>\n      <td>8.828988</td>\n      <td>57.088241</td>\n      <td>2.175208</td>\n      <td>59.263449</td>\n      <td>13.243483</td>\n      <td>72.506932</td>\n      <td>45.520000</td>\n    </tr>\n    <tr>\n      <th>3</th>\n      <td>4E-981</td>\n      <td>China, Shanghai</td>\n      <td>2021 Q3</td>\n      <td>2002.0</td>\n      <td>ETHYLENE BY THE UOP/HYDRO METHANOL TO OLEFINS ...</td>\n      <td>LB</td>\n      <td>882.000000</td>\n      <td>584.037585</td>\n      <td>Product</td>\n      <td>ETHYLENE</td>\n      <td>...</td>\n      <td>1.697407</td>\n      <td>1.566805</td>\n      <td>36.587246</td>\n      <td>6.621741</td>\n      <td>43.208987</td>\n      <td>1.643555</td>\n      <td>44.852542</td>\n      <td>9.932612</td>\n      <td>54.785154</td>\n      <td>44.240000</td>\n    </tr>\n    <tr>\n      <th>4</th>\n      <td>1E-1595</td>\n      <td>United States, Gulf Coast</td>\n      <td>2021 Q3</td>\n      <td>2014.0</td>\n      <td>ETHYLENE FROM 100% ETHANE</td>\n      <td>LB</td>\n      <td>3306.930000</td>\n      <td>2603.121527</td>\n      <td>Product</td>\n      <td>ETHYLENE</td>\n      <td>...</td>\n      <td>2.395145</td>\n      <td>2.581849</td>\n      <td>14.965808</td>\n      <td>7.871716</td>\n      <td>22.837524</td>\n      <td>1.071498</td>\n      <td>23.909022</td>\n      <td>11.807575</td>\n      <td>35.716597</td>\n      <td>45.550000</td>\n    </tr>\n    <tr>\n      <th>...</th>\n      <td>...</td>\n      <td>...</td>\n      <td>...</td>\n      <td>...</td>\n      <td>...</td>\n      <td>...</td>\n      <td>...</td>\n      <td>...</td>\n      <td>...</td>\n      <td>...</td>\n      <td>...</td>\n      <td>...</td>\n      <td>...</td>\n      <td>...</td>\n      <td>...</td>\n      <td>...</td>\n      <td>...</td>\n      <td>...</td>\n      <td>...</td>\n      <td>...</td>\n      <td>...</td>\n    </tr>\n    <tr>\n      <th>239</th>\n      <td>4M-1602</td>\n      <td>China, Shanghai</td>\n      <td>2021 Q3</td>\n      <td>2014.0</td>\n      <td>METHANOL TO OLEFINS BY THE DMTO-II PROCESS</td>\n      <td>KG</td>\n      <td>298.010187</td>\n      <td>394.934144</td>\n      <td>Product</td>\n      <td>ETHYLENE</td>\n      <td>...</td>\n      <td>3.570702</td>\n      <td>3.305171</td>\n      <td>104.954207</td>\n      <td>13.252371</td>\n      <td>118.206578</td>\n      <td>1.394799</td>\n      <td>119.601377</td>\n      <td>19.878556</td>\n      <td>139.479933</td>\n      <td>97.532505</td>\n    </tr>\n    <tr>\n      <th>240</th>\n      <td>1M-1603</td>\n      <td>United States, Gulf Coast</td>\n      <td>2021 Q3</td>\n      <td>2014.0</td>\n      <td>METHANOL TO OLEFINS BY UOP ADVANCED MTO PROCESS</td>\n      <td>KG</td>\n      <td>288.938340</td>\n      <td>604.837579</td>\n      <td>Product</td>\n      <td>ETHYLENE</td>\n      <td>...</td>\n      <td>6.383301</td>\n      <td>6.666587</td>\n      <td>41.930773</td>\n      <td>20.933102</td>\n      <td>62.863875</td>\n      <td>0.952157</td>\n      <td>63.816032</td>\n      <td>31.399653</td>\n      <td>95.215685</td>\n      <td>100.420560</td>\n    </tr>\n    <tr>\n      <th>241</th>\n      <td>2M-1603</td>\n      <td>Germany</td>\n      <td>2021 Q3</td>\n      <td>2014.0</td>\n      <td>METHANOL TO OLEFINS BY UOP ADVANCED MTO PROCESS</td>\n      <td>KG</td>\n      <td>288.938340</td>\n      <td>641.127834</td>\n      <td>Product</td>\n      <td>ETHYLENE</td>\n      <td>...</td>\n      <td>7.194883</td>\n      <td>7.383074</td>\n      <td>104.769784</td>\n      <td>22.189088</td>\n      <td>126.958872</td>\n      <td>1.618611</td>\n      <td>128.577483</td>\n      <td>33.283632</td>\n      <td>161.861116</td>\n      <td>135.826800</td>\n    </tr>\n    <tr>\n      <th>242</th>\n      <td>3M-1603</td>\n      <td>Japan</td>\n      <td>2021 Q3</td>\n      <td>2014.0</td>\n      <td>METHANOL TO OLEFINS BY UOP ADVANCED MTO PROCESS</td>\n      <td>KG</td>\n      <td>288.938340</td>\n      <td>532.257070</td>\n      <td>Product</td>\n      <td>ETHYLENE</td>\n      <td>...</td>\n      <td>5.554709</td>\n      <td>5.286335</td>\n      <td>129.071071</td>\n      <td>18.421130</td>\n      <td>147.492201</td>\n      <td>1.768928</td>\n      <td>149.261130</td>\n      <td>27.631695</td>\n      <td>176.892824</td>\n      <td>100.354422</td>\n    </tr>\n    <tr>\n      <th>243</th>\n      <td>4M-1603</td>\n      <td>China, Shanghai</td>\n      <td>2021 Q3</td>\n      <td>2014.0</td>\n      <td>METHANOL TO OLEFINS BY UOP ADVANCED MTO PROCESS</td>\n      <td>KG</td>\n      <td>288.938340</td>\n      <td>399.192802</td>\n      <td>Product</td>\n      <td>ETHYLENE</td>\n      <td>...</td>\n      <td>4.008685</td>\n      <td>3.580103</td>\n      <td>94.094853</td>\n      <td>13.815847</td>\n      <td>107.910700</td>\n      <td>1.299338</td>\n      <td>109.210038</td>\n      <td>20.723771</td>\n      <td>129.933810</td>\n      <td>97.532505</td>\n    </tr>\n  </tbody>\n</table>\n<p>244 rows × 21 columns</p>\n</div>"
     },
     "execution_count": 60,
     "metadata": {},
     "output_type": "execute_result"
    }
   ],
   "source": [
    "prods"
   ],
   "metadata": {
    "collapsed": false,
    "pycharm": {
     "name": "#%%\n"
    }
   }
  },
  {
   "cell_type": "code",
   "execution_count": null,
   "outputs": [],
   "source": [],
   "metadata": {
    "collapsed": false,
    "pycharm": {
     "name": "#%%\n"
    }
   }
  }
 ],
 "metadata": {
  "kernelspec": {
   "display_name": "Python 3",
   "language": "python",
   "name": "python3"
  },
  "language_info": {
   "codemirror_mode": {
    "name": "ipython",
    "version": 2
   },
   "file_extension": ".py",
   "mimetype": "text/x-python",
   "name": "python",
   "nbconvert_exporter": "python",
   "pygments_lexer": "ipython2",
   "version": "2.7.6"
  }
 },
 "nbformat": 4,
 "nbformat_minor": 0
}