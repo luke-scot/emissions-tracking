{
 "cells": [
  {
   "cell_type": "code",
   "execution_count": 2,
   "outputs": [],
   "source": [
    "import pandas as pd\n",
    "import numpy as np\n",
    "import win32com.client\n",
    "import time"
   ],
   "metadata": {
    "collapsed": false,
    "pycharm": {
     "name": "#%%\n"
    }
   }
  },
  {
   "cell_type": "code",
   "execution_count": 47,
   "outputs": [],
   "source": [
    "file = \"C:/Users\\lukec\\OneDrive - University of Cambridge\\Projects\\PhD\\Data\\IHS\\Ethylene\\ETHYLENE FROM WIDE RANGE NAPHTHA, MAXIMUM ETHYLENE, FRONT END DEMETHANIZER - Germany.xlsx\"\n",
    "footer = 11\n",
    "headerLines = 5\n",
    "colSep = 6"
   ],
   "metadata": {
    "collapsed": false,
    "pycharm": {
     "name": "#%%\n"
    }
   }
  },
  {
   "cell_type": "code",
   "execution_count": 52,
   "outputs": [],
   "source": [
    "def refresh_excel_file(file:str, pause=False):\n",
    "    # Refresh Excel file to have numbers for formula cells\n",
    "    xlapp = win32com.client.DispatchEx(\"Excel.Application\")\n",
    "    wb = xlapp.Workbooks.Open(file)\n",
    "    wb.RefreshAll()\n",
    "    if pause: time.sleep(pause)\n",
    "    wb.Save()\n",
    "    wb.Close()\n",
    "    xlapp.Quit()\n",
    "    return file"
   ],
   "metadata": {
    "collapsed": false,
    "pycharm": {
     "name": "#%%\n"
    }
   }
  },
  {
   "cell_type": "code",
   "execution_count": 167,
   "outputs": [],
   "source": [
    "def extract_properties(df):\n",
    "    properties = list(map(lambda x: x.strip(), df.loc[2][0].split(\",\")))+['Name: '+df.loc[1][0]]\n",
    "    properties = dict(map(lambda x: x.split(\": \"), properties))\n",
    "    return properties\n",
    "\n",
    "def add_property_columns(df, properties):\n",
    "    print(list(properties.values()))\n",
    "    df[list(properties.keys())] = list(properties.values())\n",
    "    return df\n",
    "\n",
    "def excel_multilayer_table_extract(df, dataType='Attribute', header=0, colStart=0, colEnd=-1, properties=False):\n",
    "    data = df[header:][df.columns[colStart:colEnd]]\n",
    "    data.columns = [dataType] + list(data.iloc[0][1:].values)\n",
    "    data.columns = list(map(lambda x: 'Unit' if x is np.nan else x, data.columns.values))\n",
    "    data.dropna(subset=[data.columns[0]], inplace=True)\n",
    "\n",
    "    typesInd = [0] + list(np.where(data.index[1:] - data.index[:-1] != 1)[0]+1)\n",
    "    data['Type'] = list(map(lambda x: data[dataType].values[typesInd[np.sum(np.array(typesInd) < x+1)-1]], range(len(data))))\n",
    "    data.dropna(subset=data.columns[1:-1], how='all', inplace=True)\n",
    "    data.reset_index(drop=True, inplace=True)\n",
    "    if properties: data = add_property_columns(data, properties)\n",
    "    return data"
   ],
   "metadata": {
    "collapsed": false,
    "pycharm": {
     "name": "#%%\n"
    }
   }
  },
  {
   "cell_type": "code",
   "execution_count": 171,
   "outputs": [
    {
     "name": "stdout",
     "output_type": "stream",
     "text": [
      "['Germany', 'ETHYLENE', '1087', '135.83 ¢/KG', '2M-1622', '1.06 (1US $ = 0.85)', '2021 Q3', '2014', 'ETHYLENE FROM WIDE RANGE NAPHTHA, MAXIMUM ETHYLENE, FRONT END DEMETHANIZER']\n"
     ]
    }
   ],
   "source": [
    "# Import sheet\n",
    "sheet = pd.read_excel(refresh_excel_file(file),skipfooter=footer)\n",
    "properties = extract_properties(sheet)\n",
    "materials = excel_multilayer_table_extract(sheet, dataType='Material', header=headerLines, colEnd=colSep,\n",
    "                                           properties=properties)\n",
    "cost = excel_multilayer_table_extract(sheet, dataType='Cost', header=headerLines, colStart=colSep+1,\n",
    "                                      properties=properties)"
   ],
   "metadata": {
    "collapsed": false,
    "pycharm": {
     "name": "#%%\n"
    }
   }
  },
  {
   "cell_type": "code",
   "execution_count": 127,
   "outputs": [],
   "source": [
    "from pandas_xlsx_tables import df_to_xlsx_table\n",
    "df_to_xlsx_table(cost, \"Costs\")"
   ],
   "metadata": {
    "collapsed": false,
    "pycharm": {
     "name": "#%%\n"
    }
   }
  },
  {
   "cell_type": "code",
   "execution_count": null,
   "outputs": [],
   "source": [
    "#!pip install pivottablejs\n",
    "# from pivottablejs import pivot_ui\n",
    "# pivot_ui(cost,outfile_path='pivottablejs.html')"
   ],
   "metadata": {
    "collapsed": false,
    "pycharm": {
     "name": "#%%\n"
    }
   }
  },
  {
   "cell_type": "markdown",
   "source": [
    "# Extract from multiline file"
   ],
   "metadata": {
    "collapsed": false
   }
  },
  {
   "cell_type": "code",
   "execution_count": null,
   "outputs": [],
   "source": [
    "import pyarrow"
   ],
   "metadata": {
    "collapsed": false,
    "pycharm": {
     "name": "#%%\n"
    }
   }
  },
  {
   "cell_type": "code",
   "execution_count": 66,
   "outputs": [],
   "source": [
    "append = True\n",
    "in_materials = 'C:/Users\\lshc3\\Documents\\IHS_data\\ethylene\\materials.feather'\n",
    "in_products = 'C:/Users\\lshc3\\Documents\\IHS_data\\ethylene\\products.feather'\n",
    "out_materials = 'C:/Users\\lshc3\\Documents\\IHS_data\\materials.feather'\n",
    "out_products = 'C:/Users\\lshc3\\Documents\\IHS_data\\products.feather'"
   ],
   "metadata": {
    "collapsed": false,
    "pycharm": {
     "name": "#%%\n"
    }
   }
  },
  {
   "cell_type": "code",
   "execution_count": 67,
   "outputs": [],
   "source": [
    "def del_empty_cols(df): return df.dropna(axis=1, how='all').reset_index(drop=True)\n",
    "\n",
    "class ProcessData(object):\n",
    "    def __init__(self):\n",
    "        self.filePath = \"C:/Users\\lshc3\\Documents\\IHS_data/all_products_metric/1-1008.xlsx\"\n",
    "        self.data = del_empty_cols(pd.read_excel(self.filePath,header=6,skipfooter=1)).dropna(axis=0, how='all')\n",
    "        self.products = del_empty_cols(self.data.loc[self.data['Type']=='Product'])\n",
    "        self.materials = del_empty_cols(self.data.loc[self.data['Type']!='Product'])\n",
    "    def format_materials(self):\n",
    "        merged = pd.merge(self.materials, self.products, how='left', on=['Code'])\n",
    "        merged['Unit_conv'] = ['MM ']*len(merged)+merged['Unit']+['/yr']*len(merged)\n",
    "        merged['Uncertainty'] = [np.nan]*len(merged)\n",
    "        merged['Provenance'] = ['IHS PEP']*len(merged)\n",
    "        shortList = ['Code', 'Data Version_x', 'Name_x', 'Process_x', 'Research Year_x','Geography_x','Base Capacity (MM unit/year)','Unit_conv','Name_y','Unit Consumption','Consumption Unit','Uncertainty','Provenance']\n",
    "        longList = shortList + [i for i in merged.columns if i not in shortList+['Geography_y','Data Version_y','Research Year_y','Process_y','Unit']]\n",
    "        rename_dict = {'Data Version_x': 'Data Version', 'Name_x':'Source', 'Process_x':'Target', 'Research Year_x':'Research Year',\n",
    "       'Geography_x':'Geography', 'Base Capacity (MM unit/year)':'Plant capacity', 'Unit_conv':'Capacity unit', 'Name_y':'Product',\n",
    "       'Unit Consumption':'Value', 'Consumption Unit':'Value unit', 'Type_x':'Source type', 'Variable Cost_x':'Source cost',\n",
    "       'Investment (MM US$)':'Product Investment (MM US$)', 'Type_y':'Product Type', 'Variable Cost_y':'Product variable cost', 'Fixed Costs':'Product fixed costs', 'Overhead + Tax, Ins.':'Product Overhead + Tax, Ins.', 'Plant Cash Cost ':'Product Plant Cash Cost', 'Depreciation':'Product Depreciation',\n",
    "       'Plant Gate Costs ':'Product Plant Gate Costs', 'G&A, Sales, Res.':'Product G&A, Sales, Res.','ROI (15%)':'Product ROI (15%)'}\n",
    "        return merged[longList].rename(columns=rename_dict)"
   ],
   "metadata": {
    "collapsed": false,
    "pycharm": {
     "name": "#%%\n"
    }
   }
  },
  {
   "cell_type": "code",
   "execution_count": 68,
   "outputs": [],
   "source": [
    "data = ProcessData()\n",
    "if append:\n",
    "    pd.read_feather(in_materials).append(data.format_materials()).reset_index(drop=True).to_feather(out_materials)\n",
    "    pd.read_feather(in_products).append(data.products).reset_index(drop=True).to_feather(out_products)\n",
    "else:\n",
    "    data.format_materials().to_feather(out_materials)\n",
    "    data.products.to_feather(out_products)"
   ],
   "metadata": {
    "collapsed": false,
    "pycharm": {
     "name": "#%%\n"
    }
   }
  },
  {
   "cell_type": "markdown",
   "source": [
    "## Interacting"
   ],
   "metadata": {
    "collapsed": false
   }
  },
  {
   "cell_type": "code",
   "execution_count": 44,
   "outputs": [],
   "source": [
    "import ipywidgets as ipw"
   ],
   "metadata": {
    "collapsed": false,
    "pycharm": {
     "name": "#%%\n"
    }
   }
  },
  {
   "cell_type": "code",
   "execution_count": null,
   "outputs": [],
   "source": [
    "selectors = [ipw.SelectMultiple(options=data.products[i].unique(),rows=10,description=i, disabled=False) for i in ['Name', 'Process', 'Geography', 'Research Year']]"
   ],
   "metadata": {
    "collapsed": false,
    "pycharm": {
     "name": "#%%\n"
    }
   }
  },
  {
   "cell_type": "code",
   "execution_count": 47,
   "outputs": [],
   "source": [
    "i = 'Name'\n",
    "sel = ipw.SelectMultiple(options=data.products[i].unique(),rows=10,description=i, disabled=False)"
   ],
   "metadata": {
    "collapsed": false,
    "pycharm": {
     "name": "#%%\n"
    }
   }
  },
  {
   "cell_type": "code",
   "execution_count": 16,
   "outputs": [
    {
     "data": {
      "text/plain": "        Code                  Geography Data Version  Research Year  \\\n0     1M-981  United States, Gulf Coast      2021 Q3         2002.0   \n1     2M-981                    Germany      2021 Q3         2002.0   \n2     3M-981                      Japan      2021 Q3         2002.0   \n3     4M-981            China, Shanghai      2021 Q3         2002.0   \n4    1M-1595  United States, Gulf Coast      2021 Q3         2014.0   \n..       ...                        ...          ...            ...   \n239  4M-1602            China, Shanghai      2021 Q3         2014.0   \n240  1M-1603  United States, Gulf Coast      2021 Q3         2014.0   \n241  2M-1603                    Germany      2021 Q3         2014.0   \n242  3M-1603                      Japan      2021 Q3         2014.0   \n243  4M-1603            China, Shanghai      2021 Q3         2014.0   \n\n                                               Process Unit  \\\n0    ETHYLENE BY THE UOP/HYDRO METHANOL TO OLEFINS ...   KG   \n1    ETHYLENE BY THE UOP/HYDRO METHANOL TO OLEFINS ...   KG   \n2    ETHYLENE BY THE UOP/HYDRO METHANOL TO OLEFINS ...   KG   \n3    ETHYLENE BY THE UOP/HYDRO METHANOL TO OLEFINS ...   KG   \n4                            ETHYLENE FROM 100% ETHANE   KG   \n..                                                 ...  ...   \n239         METHANOL TO OLEFINS BY THE DMTO-II PROCESS   KG   \n240    METHANOL TO OLEFINS BY UOP ADVANCED MTO PROCESS   KG   \n241    METHANOL TO OLEFINS BY UOP ADVANCED MTO PROCESS   KG   \n242    METHANOL TO OLEFINS BY UOP ADVANCED MTO PROCESS   KG   \n243    METHANOL TO OLEFINS BY UOP ADVANCED MTO PROCESS   KG   \n\n     Base Capacity (MM unit/year)  Investment (MM US$)     Type      Name  \\\n0                      400.068470           884.905431  Product  ETHYLENE   \n1                      400.068470           937.999757  Product  ETHYLENE   \n2                      400.068470           778.716780  Product  ETHYLENE   \n3                      400.068470           584.037585  Product  ETHYLENE   \n4                     1499.998216          2603.121527  Product  ETHYLENE   \n..                            ...                  ...      ...       ...   \n239                    298.010187           394.934144  Product  ETHYLENE   \n240                    288.938340           604.837579  Product  ETHYLENE   \n241                    288.938340           641.127834  Product  ETHYLENE   \n242                    288.938340           532.257070  Product  ETHYLENE   \n243                    288.938340           399.192802  Product  ETHYLENE   \n\n     ...  Fixed Costs  Overhead + Tax, Ins.  Plant Cash Cost   Depreciation  \\\n0    ...     5.893464              6.625514         34.643831     22.118850   \n1    ...     6.556605              7.251622         90.496201     23.445981   \n2    ...     5.141040              5.321030        106.393440     19.464588   \n3    ...     3.742141              3.454213         80.661070     14.598441   \n4    ...     5.280392              5.692002         32.993959     17.354164   \n..   ...          ...                   ...               ...           ...   \n239  ...     3.570702              3.305171        104.954207     13.252371   \n240  ...     6.383301              6.666587         41.930773     20.933102   \n241  ...     7.194883              7.383074        104.769784     22.189088   \n242  ...     5.554709              5.286335        129.071071     18.421130   \n243  ...     4.008685              3.580103         94.094853     13.815847   \n\n     Plant Gate Costs   G&A, Sales, Res.  Production Cost   ROI (15%)  \\\n0            56.762680          2.781679         59.544360  33.178274   \n1           113.942182          4.611685        118.553867  35.168971   \n2           125.858028          4.795513        130.653541  29.196881   \n3            95.259511          3.623418         98.882928  21.897661   \n4            50.348123          2.362249         52.710372  26.031246   \n..                 ...               ...               ...        ...   \n239         118.206578          1.394799        119.601377  19.878556   \n240          62.863875          0.952157         63.816032  31.399653   \n241         126.958872          1.618611        128.577483  33.283632   \n242         147.492201          1.768928        149.261130  27.631695   \n243         107.910700          1.299338        109.210038  20.723771   \n\n     Product Value   Product Price   \n0         92.722634      100.420560  \n1        153.722838      135.826800  \n2        159.850422      100.354422  \n3        120.780589       97.532505  \n4         78.741618      100.420560  \n..              ...             ...  \n239      139.479933       97.532505  \n240       95.215685      100.420560  \n241      161.861116      135.826800  \n242      176.892824      100.354422  \n243      129.933810       97.532505  \n\n[244 rows x 21 columns]",
      "text/html": "<div>\n<style scoped>\n    .dataframe tbody tr th:only-of-type {\n        vertical-align: middle;\n    }\n\n    .dataframe tbody tr th {\n        vertical-align: top;\n    }\n\n    .dataframe thead th {\n        text-align: right;\n    }\n</style>\n<table border=\"1\" class=\"dataframe\">\n  <thead>\n    <tr style=\"text-align: right;\">\n      <th></th>\n      <th>Code</th>\n      <th>Geography</th>\n      <th>Data Version</th>\n      <th>Research Year</th>\n      <th>Process</th>\n      <th>Unit</th>\n      <th>Base Capacity (MM unit/year)</th>\n      <th>Investment (MM US$)</th>\n      <th>Type</th>\n      <th>Name</th>\n      <th>...</th>\n      <th>Fixed Costs</th>\n      <th>Overhead + Tax, Ins.</th>\n      <th>Plant Cash Cost</th>\n      <th>Depreciation</th>\n      <th>Plant Gate Costs</th>\n      <th>G&amp;A, Sales, Res.</th>\n      <th>Production Cost</th>\n      <th>ROI (15%)</th>\n      <th>Product Value</th>\n      <th>Product Price</th>\n    </tr>\n  </thead>\n  <tbody>\n    <tr>\n      <th>0</th>\n      <td>1M-981</td>\n      <td>United States, Gulf Coast</td>\n      <td>2021 Q3</td>\n      <td>2002.0</td>\n      <td>ETHYLENE BY THE UOP/HYDRO METHANOL TO OLEFINS ...</td>\n      <td>KG</td>\n      <td>400.068470</td>\n      <td>884.905431</td>\n      <td>Product</td>\n      <td>ETHYLENE</td>\n      <td>...</td>\n      <td>5.893464</td>\n      <td>6.625514</td>\n      <td>34.643831</td>\n      <td>22.118850</td>\n      <td>56.762680</td>\n      <td>2.781679</td>\n      <td>59.544360</td>\n      <td>33.178274</td>\n      <td>92.722634</td>\n      <td>100.420560</td>\n    </tr>\n    <tr>\n      <th>1</th>\n      <td>2M-981</td>\n      <td>Germany</td>\n      <td>2021 Q3</td>\n      <td>2002.0</td>\n      <td>ETHYLENE BY THE UOP/HYDRO METHANOL TO OLEFINS ...</td>\n      <td>KG</td>\n      <td>400.068470</td>\n      <td>937.999757</td>\n      <td>Product</td>\n      <td>ETHYLENE</td>\n      <td>...</td>\n      <td>6.556605</td>\n      <td>7.251622</td>\n      <td>90.496201</td>\n      <td>23.445981</td>\n      <td>113.942182</td>\n      <td>4.611685</td>\n      <td>118.553867</td>\n      <td>35.168971</td>\n      <td>153.722838</td>\n      <td>135.826800</td>\n    </tr>\n    <tr>\n      <th>2</th>\n      <td>3M-981</td>\n      <td>Japan</td>\n      <td>2021 Q3</td>\n      <td>2002.0</td>\n      <td>ETHYLENE BY THE UOP/HYDRO METHANOL TO OLEFINS ...</td>\n      <td>KG</td>\n      <td>400.068470</td>\n      <td>778.716780</td>\n      <td>Product</td>\n      <td>ETHYLENE</td>\n      <td>...</td>\n      <td>5.141040</td>\n      <td>5.321030</td>\n      <td>106.393440</td>\n      <td>19.464588</td>\n      <td>125.858028</td>\n      <td>4.795513</td>\n      <td>130.653541</td>\n      <td>29.196881</td>\n      <td>159.850422</td>\n      <td>100.354422</td>\n    </tr>\n    <tr>\n      <th>3</th>\n      <td>4M-981</td>\n      <td>China, Shanghai</td>\n      <td>2021 Q3</td>\n      <td>2002.0</td>\n      <td>ETHYLENE BY THE UOP/HYDRO METHANOL TO OLEFINS ...</td>\n      <td>KG</td>\n      <td>400.068470</td>\n      <td>584.037585</td>\n      <td>Product</td>\n      <td>ETHYLENE</td>\n      <td>...</td>\n      <td>3.742141</td>\n      <td>3.454213</td>\n      <td>80.661070</td>\n      <td>14.598441</td>\n      <td>95.259511</td>\n      <td>3.623418</td>\n      <td>98.882928</td>\n      <td>21.897661</td>\n      <td>120.780589</td>\n      <td>97.532505</td>\n    </tr>\n    <tr>\n      <th>4</th>\n      <td>1M-1595</td>\n      <td>United States, Gulf Coast</td>\n      <td>2021 Q3</td>\n      <td>2014.0</td>\n      <td>ETHYLENE FROM 100% ETHANE</td>\n      <td>KG</td>\n      <td>1499.998216</td>\n      <td>2603.121527</td>\n      <td>Product</td>\n      <td>ETHYLENE</td>\n      <td>...</td>\n      <td>5.280392</td>\n      <td>5.692002</td>\n      <td>32.993959</td>\n      <td>17.354164</td>\n      <td>50.348123</td>\n      <td>2.362249</td>\n      <td>52.710372</td>\n      <td>26.031246</td>\n      <td>78.741618</td>\n      <td>100.420560</td>\n    </tr>\n    <tr>\n      <th>...</th>\n      <td>...</td>\n      <td>...</td>\n      <td>...</td>\n      <td>...</td>\n      <td>...</td>\n      <td>...</td>\n      <td>...</td>\n      <td>...</td>\n      <td>...</td>\n      <td>...</td>\n      <td>...</td>\n      <td>...</td>\n      <td>...</td>\n      <td>...</td>\n      <td>...</td>\n      <td>...</td>\n      <td>...</td>\n      <td>...</td>\n      <td>...</td>\n      <td>...</td>\n      <td>...</td>\n    </tr>\n    <tr>\n      <th>239</th>\n      <td>4M-1602</td>\n      <td>China, Shanghai</td>\n      <td>2021 Q3</td>\n      <td>2014.0</td>\n      <td>METHANOL TO OLEFINS BY THE DMTO-II PROCESS</td>\n      <td>KG</td>\n      <td>298.010187</td>\n      <td>394.934144</td>\n      <td>Product</td>\n      <td>ETHYLENE</td>\n      <td>...</td>\n      <td>3.570702</td>\n      <td>3.305171</td>\n      <td>104.954207</td>\n      <td>13.252371</td>\n      <td>118.206578</td>\n      <td>1.394799</td>\n      <td>119.601377</td>\n      <td>19.878556</td>\n      <td>139.479933</td>\n      <td>97.532505</td>\n    </tr>\n    <tr>\n      <th>240</th>\n      <td>1M-1603</td>\n      <td>United States, Gulf Coast</td>\n      <td>2021 Q3</td>\n      <td>2014.0</td>\n      <td>METHANOL TO OLEFINS BY UOP ADVANCED MTO PROCESS</td>\n      <td>KG</td>\n      <td>288.938340</td>\n      <td>604.837579</td>\n      <td>Product</td>\n      <td>ETHYLENE</td>\n      <td>...</td>\n      <td>6.383301</td>\n      <td>6.666587</td>\n      <td>41.930773</td>\n      <td>20.933102</td>\n      <td>62.863875</td>\n      <td>0.952157</td>\n      <td>63.816032</td>\n      <td>31.399653</td>\n      <td>95.215685</td>\n      <td>100.420560</td>\n    </tr>\n    <tr>\n      <th>241</th>\n      <td>2M-1603</td>\n      <td>Germany</td>\n      <td>2021 Q3</td>\n      <td>2014.0</td>\n      <td>METHANOL TO OLEFINS BY UOP ADVANCED MTO PROCESS</td>\n      <td>KG</td>\n      <td>288.938340</td>\n      <td>641.127834</td>\n      <td>Product</td>\n      <td>ETHYLENE</td>\n      <td>...</td>\n      <td>7.194883</td>\n      <td>7.383074</td>\n      <td>104.769784</td>\n      <td>22.189088</td>\n      <td>126.958872</td>\n      <td>1.618611</td>\n      <td>128.577483</td>\n      <td>33.283632</td>\n      <td>161.861116</td>\n      <td>135.826800</td>\n    </tr>\n    <tr>\n      <th>242</th>\n      <td>3M-1603</td>\n      <td>Japan</td>\n      <td>2021 Q3</td>\n      <td>2014.0</td>\n      <td>METHANOL TO OLEFINS BY UOP ADVANCED MTO PROCESS</td>\n      <td>KG</td>\n      <td>288.938340</td>\n      <td>532.257070</td>\n      <td>Product</td>\n      <td>ETHYLENE</td>\n      <td>...</td>\n      <td>5.554709</td>\n      <td>5.286335</td>\n      <td>129.071071</td>\n      <td>18.421130</td>\n      <td>147.492201</td>\n      <td>1.768928</td>\n      <td>149.261130</td>\n      <td>27.631695</td>\n      <td>176.892824</td>\n      <td>100.354422</td>\n    </tr>\n    <tr>\n      <th>243</th>\n      <td>4M-1603</td>\n      <td>China, Shanghai</td>\n      <td>2021 Q3</td>\n      <td>2014.0</td>\n      <td>METHANOL TO OLEFINS BY UOP ADVANCED MTO PROCESS</td>\n      <td>KG</td>\n      <td>288.938340</td>\n      <td>399.192802</td>\n      <td>Product</td>\n      <td>ETHYLENE</td>\n      <td>...</td>\n      <td>4.008685</td>\n      <td>3.580103</td>\n      <td>94.094853</td>\n      <td>13.815847</td>\n      <td>107.910700</td>\n      <td>1.299338</td>\n      <td>109.210038</td>\n      <td>20.723771</td>\n      <td>129.933810</td>\n      <td>97.532505</td>\n    </tr>\n  </tbody>\n</table>\n<p>244 rows × 21 columns</p>\n</div>"
     },
     "execution_count": 16,
     "metadata": {},
     "output_type": "execute_result"
    }
   ],
   "source": [
    "data.products"
   ],
   "metadata": {
    "collapsed": false,
    "pycharm": {
     "name": "#%%\n"
    }
   }
  },
  {
   "cell_type": "code",
   "execution_count": 20,
   "outputs": [],
   "source": [
    "merged = pd.merge(data.materials, data.products, how='left', on=['Code'])"
   ],
   "metadata": {
    "collapsed": false,
    "pycharm": {
     "name": "#%%\n"
    }
   }
  },
  {
   "cell_type": "code",
   "execution_count": 31,
   "outputs": [],
   "source": [
    "merged['Unit_conv'] = ['MM ']*len(merged)+merged['Unit']+['/yr']*len(merged)\n",
    "merged['Uncertainty'] = [np.nan]*len(merged)\n",
    "merged['Provenance'] = ['IHS PEP']*len(merged)"
   ],
   "metadata": {
    "collapsed": false,
    "pycharm": {
     "name": "#%%\n"
    }
   }
  },
  {
   "cell_type": "code",
   "execution_count": 50,
   "outputs": [],
   "source": [
    "shortList = ['Code', 'Data Version_x', 'Name_x', 'Process_x', 'Research Year_x','Geography_x','Base Capacity (MM unit/year)','Unit_conv','Name_y','Unit Consumption','Consumption Unit','Uncertainty','Provenance']\n",
    "longList = shortList + [i for i in merged.columns if i not in shortList+['Geography_y','Data Version_y','Research Year_y','Process_y','Unit']]"
   ],
   "metadata": {
    "collapsed": false,
    "pycharm": {
     "name": "#%%\n"
    }
   }
  },
  {
   "cell_type": "code",
   "execution_count": 52,
   "outputs": [],
   "source": [
    "rename_dict = {'Data Version_x': 'Data Version', 'Name_x':'Source', 'Process_x':'Target', 'Research Year_x':'Research Year',\n",
    "       'Geography_x':'Geography', 'Base Capacity (MM unit/year)':'Plant capacity', 'Unit_conv':'Capacity unit', 'Name_y':'Product',\n",
    "       'Unit Consumption':'Value', 'Consumption Unit':'Value unit', 'Type_x':'Source type', 'Variable Cost_x':'Source cost',\n",
    "       'Investment (MM US$)':'Product Investment (MM US$)', 'Type_y':'Product Type', 'Variable Cost_y':'Product variable cost', 'Fixed Costs':'Product fixed costs', 'Overhead + Tax, Ins.':'Product Overhead + Tax, Ins.', 'Plant Cash Cost ':'Product Plant Cash Cost', 'Depreciation':'Product Depreciation',\n",
    "       'Plant Gate Costs ':'Product Plant Gate Costs', 'G&A, Sales, Res.':'Product G&A, Sales, Res.','ROI (15%)':'Product ROI (15%)'}"
   ],
   "metadata": {
    "collapsed": false,
    "pycharm": {
     "name": "#%%\n"
    }
   }
  },
  {
   "cell_type": "code",
   "execution_count": 54,
   "outputs": [
    {
     "data": {
      "text/plain": "         Code Data Version                 Source  \\\n0      1M-981      2021 Q3               CATALYST   \n1      1M-981      2021 Q3     CAUSTIC SODA (50%)   \n2      1M-981      2021 Q3        METHANOL, CRUDE   \n3      1M-981      2021 Q3          C4-C5 MIXTURE   \n4      1M-981      2021 Q3        ETHANE-RICH GAS   \n...       ...          ...                    ...   \n2917  4M-1603      2021 Q3       PROPANE-RICH GAS   \n2918  4M-1603      2021 Q3  PROPYLENE, CHEM GRADE   \n2919  4M-1603      2021 Q3          COOLING WATER   \n2920  4M-1603      2021 Q3            ELECTRICITY   \n2921  4M-1603      2021 Q3                  STEAM   \n\n                                                 Target  Research Year  \\\n0     ETHYLENE BY THE UOP/HYDRO METHANOL TO OLEFINS ...         2002.0   \n1     ETHYLENE BY THE UOP/HYDRO METHANOL TO OLEFINS ...         2002.0   \n2     ETHYLENE BY THE UOP/HYDRO METHANOL TO OLEFINS ...         2002.0   \n3     ETHYLENE BY THE UOP/HYDRO METHANOL TO OLEFINS ...         2002.0   \n4     ETHYLENE BY THE UOP/HYDRO METHANOL TO OLEFINS ...         2002.0   \n...                                                 ...            ...   \n2917    METHANOL TO OLEFINS BY UOP ADVANCED MTO PROCESS         2014.0   \n2918    METHANOL TO OLEFINS BY UOP ADVANCED MTO PROCESS         2014.0   \n2919    METHANOL TO OLEFINS BY UOP ADVANCED MTO PROCESS         2014.0   \n2920    METHANOL TO OLEFINS BY UOP ADVANCED MTO PROCESS         2014.0   \n2921    METHANOL TO OLEFINS BY UOP ADVANCED MTO PROCESS         2014.0   \n\n                      Geography  Plant capacity Capacity unit   Product  \\\n0     United States, Gulf Coast       400.06847      MM KG/yr  ETHYLENE   \n1     United States, Gulf Coast       400.06847      MM KG/yr  ETHYLENE   \n2     United States, Gulf Coast       400.06847      MM KG/yr  ETHYLENE   \n3     United States, Gulf Coast       400.06847      MM KG/yr  ETHYLENE   \n4     United States, Gulf Coast       400.06847      MM KG/yr  ETHYLENE   \n...                         ...             ...           ...       ...   \n2917            China, Shanghai       288.93834      MM KG/yr  ETHYLENE   \n2918            China, Shanghai       288.93834      MM KG/yr  ETHYLENE   \n2919            China, Shanghai       288.93834      MM KG/yr  ETHYLENE   \n2920            China, Shanghai       288.93834      MM KG/yr  ETHYLENE   \n2921            China, Shanghai       288.93834      MM KG/yr  ETHYLENE   \n\n           Value  ... Product fixed costs  Product Overhead + Tax, Ins.  \\\n0            NaN  ...            5.893464                      6.625514   \n1       0.006260  ...            5.893464                      6.625514   \n2       5.941383  ...            5.893464                      6.625514   \n3      -0.436700  ...            5.893464                      6.625514   \n4      -0.031340  ...            5.893464                      6.625514   \n...          ...  ...                 ...                           ...   \n2917   -0.027350  ...            4.008685                      3.580103   \n2918   -1.111190  ...            4.008685                      3.580103   \n2919  262.880116  ...            4.008685                      3.580103   \n2920  108.026508  ...            4.008685                      3.580103   \n2921    5.500000  ...            4.008685                      3.580103   \n\n     Product Plant Cash Cost Product Depreciation  Product Plant Gate Costs  \\\n0                  34.643831            22.118850                  56.76268   \n1                  34.643831            22.118850                  56.76268   \n2                  34.643831            22.118850                  56.76268   \n3                  34.643831            22.118850                  56.76268   \n4                  34.643831            22.118850                  56.76268   \n...                      ...                  ...                       ...   \n2917               94.094853            13.815847                 107.91070   \n2918               94.094853            13.815847                 107.91070   \n2919               94.094853            13.815847                 107.91070   \n2920               94.094853            13.815847                 107.91070   \n2921               94.094853            13.815847                 107.91070   \n\n     Product G&A, Sales, Res.  Production Cost   Product ROI (15%)  \\\n0                    2.781679         59.544360          33.178274   \n1                    2.781679         59.544360          33.178274   \n2                    2.781679         59.544360          33.178274   \n3                    2.781679         59.544360          33.178274   \n4                    2.781679         59.544360          33.178274   \n...                       ...               ...                ...   \n2917                 1.299338        109.210038          20.723771   \n2918                 1.299338        109.210038          20.723771   \n2919                 1.299338        109.210038          20.723771   \n2920                 1.299338        109.210038          20.723771   \n2921                 1.299338        109.210038          20.723771   \n\n     Product Value   Product Price   \n0         92.722634      100.420560  \n1         92.722634      100.420560  \n2         92.722634      100.420560  \n3         92.722634      100.420560  \n4         92.722634      100.420560  \n...             ...             ...  \n2917     129.933810       97.532505  \n2918     129.933810       97.532505  \n2919     129.933810       97.532505  \n2920     129.933810       97.532505  \n2921     129.933810       97.532505  \n\n[2922 rows x 30 columns]",
      "text/html": "<div>\n<style scoped>\n    .dataframe tbody tr th:only-of-type {\n        vertical-align: middle;\n    }\n\n    .dataframe tbody tr th {\n        vertical-align: top;\n    }\n\n    .dataframe thead th {\n        text-align: right;\n    }\n</style>\n<table border=\"1\" class=\"dataframe\">\n  <thead>\n    <tr style=\"text-align: right;\">\n      <th></th>\n      <th>Code</th>\n      <th>Data Version</th>\n      <th>Source</th>\n      <th>Target</th>\n      <th>Research Year</th>\n      <th>Geography</th>\n      <th>Plant capacity</th>\n      <th>Capacity unit</th>\n      <th>Product</th>\n      <th>Value</th>\n      <th>...</th>\n      <th>Product fixed costs</th>\n      <th>Product Overhead + Tax, Ins.</th>\n      <th>Product Plant Cash Cost</th>\n      <th>Product Depreciation</th>\n      <th>Product Plant Gate Costs</th>\n      <th>Product G&amp;A, Sales, Res.</th>\n      <th>Production Cost</th>\n      <th>Product ROI (15%)</th>\n      <th>Product Value</th>\n      <th>Product Price</th>\n    </tr>\n  </thead>\n  <tbody>\n    <tr>\n      <th>0</th>\n      <td>1M-981</td>\n      <td>2021 Q3</td>\n      <td>CATALYST</td>\n      <td>ETHYLENE BY THE UOP/HYDRO METHANOL TO OLEFINS ...</td>\n      <td>2002.0</td>\n      <td>United States, Gulf Coast</td>\n      <td>400.06847</td>\n      <td>MM KG/yr</td>\n      <td>ETHYLENE</td>\n      <td>NaN</td>\n      <td>...</td>\n      <td>5.893464</td>\n      <td>6.625514</td>\n      <td>34.643831</td>\n      <td>22.118850</td>\n      <td>56.76268</td>\n      <td>2.781679</td>\n      <td>59.544360</td>\n      <td>33.178274</td>\n      <td>92.722634</td>\n      <td>100.420560</td>\n    </tr>\n    <tr>\n      <th>1</th>\n      <td>1M-981</td>\n      <td>2021 Q3</td>\n      <td>CAUSTIC SODA (50%)</td>\n      <td>ETHYLENE BY THE UOP/HYDRO METHANOL TO OLEFINS ...</td>\n      <td>2002.0</td>\n      <td>United States, Gulf Coast</td>\n      <td>400.06847</td>\n      <td>MM KG/yr</td>\n      <td>ETHYLENE</td>\n      <td>0.006260</td>\n      <td>...</td>\n      <td>5.893464</td>\n      <td>6.625514</td>\n      <td>34.643831</td>\n      <td>22.118850</td>\n      <td>56.76268</td>\n      <td>2.781679</td>\n      <td>59.544360</td>\n      <td>33.178274</td>\n      <td>92.722634</td>\n      <td>100.420560</td>\n    </tr>\n    <tr>\n      <th>2</th>\n      <td>1M-981</td>\n      <td>2021 Q3</td>\n      <td>METHANOL, CRUDE</td>\n      <td>ETHYLENE BY THE UOP/HYDRO METHANOL TO OLEFINS ...</td>\n      <td>2002.0</td>\n      <td>United States, Gulf Coast</td>\n      <td>400.06847</td>\n      <td>MM KG/yr</td>\n      <td>ETHYLENE</td>\n      <td>5.941383</td>\n      <td>...</td>\n      <td>5.893464</td>\n      <td>6.625514</td>\n      <td>34.643831</td>\n      <td>22.118850</td>\n      <td>56.76268</td>\n      <td>2.781679</td>\n      <td>59.544360</td>\n      <td>33.178274</td>\n      <td>92.722634</td>\n      <td>100.420560</td>\n    </tr>\n    <tr>\n      <th>3</th>\n      <td>1M-981</td>\n      <td>2021 Q3</td>\n      <td>C4-C5 MIXTURE</td>\n      <td>ETHYLENE BY THE UOP/HYDRO METHANOL TO OLEFINS ...</td>\n      <td>2002.0</td>\n      <td>United States, Gulf Coast</td>\n      <td>400.06847</td>\n      <td>MM KG/yr</td>\n      <td>ETHYLENE</td>\n      <td>-0.436700</td>\n      <td>...</td>\n      <td>5.893464</td>\n      <td>6.625514</td>\n      <td>34.643831</td>\n      <td>22.118850</td>\n      <td>56.76268</td>\n      <td>2.781679</td>\n      <td>59.544360</td>\n      <td>33.178274</td>\n      <td>92.722634</td>\n      <td>100.420560</td>\n    </tr>\n    <tr>\n      <th>4</th>\n      <td>1M-981</td>\n      <td>2021 Q3</td>\n      <td>ETHANE-RICH GAS</td>\n      <td>ETHYLENE BY THE UOP/HYDRO METHANOL TO OLEFINS ...</td>\n      <td>2002.0</td>\n      <td>United States, Gulf Coast</td>\n      <td>400.06847</td>\n      <td>MM KG/yr</td>\n      <td>ETHYLENE</td>\n      <td>-0.031340</td>\n      <td>...</td>\n      <td>5.893464</td>\n      <td>6.625514</td>\n      <td>34.643831</td>\n      <td>22.118850</td>\n      <td>56.76268</td>\n      <td>2.781679</td>\n      <td>59.544360</td>\n      <td>33.178274</td>\n      <td>92.722634</td>\n      <td>100.420560</td>\n    </tr>\n    <tr>\n      <th>...</th>\n      <td>...</td>\n      <td>...</td>\n      <td>...</td>\n      <td>...</td>\n      <td>...</td>\n      <td>...</td>\n      <td>...</td>\n      <td>...</td>\n      <td>...</td>\n      <td>...</td>\n      <td>...</td>\n      <td>...</td>\n      <td>...</td>\n      <td>...</td>\n      <td>...</td>\n      <td>...</td>\n      <td>...</td>\n      <td>...</td>\n      <td>...</td>\n      <td>...</td>\n      <td>...</td>\n    </tr>\n    <tr>\n      <th>2917</th>\n      <td>4M-1603</td>\n      <td>2021 Q3</td>\n      <td>PROPANE-RICH GAS</td>\n      <td>METHANOL TO OLEFINS BY UOP ADVANCED MTO PROCESS</td>\n      <td>2014.0</td>\n      <td>China, Shanghai</td>\n      <td>288.93834</td>\n      <td>MM KG/yr</td>\n      <td>ETHYLENE</td>\n      <td>-0.027350</td>\n      <td>...</td>\n      <td>4.008685</td>\n      <td>3.580103</td>\n      <td>94.094853</td>\n      <td>13.815847</td>\n      <td>107.91070</td>\n      <td>1.299338</td>\n      <td>109.210038</td>\n      <td>20.723771</td>\n      <td>129.933810</td>\n      <td>97.532505</td>\n    </tr>\n    <tr>\n      <th>2918</th>\n      <td>4M-1603</td>\n      <td>2021 Q3</td>\n      <td>PROPYLENE, CHEM GRADE</td>\n      <td>METHANOL TO OLEFINS BY UOP ADVANCED MTO PROCESS</td>\n      <td>2014.0</td>\n      <td>China, Shanghai</td>\n      <td>288.93834</td>\n      <td>MM KG/yr</td>\n      <td>ETHYLENE</td>\n      <td>-1.111190</td>\n      <td>...</td>\n      <td>4.008685</td>\n      <td>3.580103</td>\n      <td>94.094853</td>\n      <td>13.815847</td>\n      <td>107.91070</td>\n      <td>1.299338</td>\n      <td>109.210038</td>\n      <td>20.723771</td>\n      <td>129.933810</td>\n      <td>97.532505</td>\n    </tr>\n    <tr>\n      <th>2919</th>\n      <td>4M-1603</td>\n      <td>2021 Q3</td>\n      <td>COOLING WATER</td>\n      <td>METHANOL TO OLEFINS BY UOP ADVANCED MTO PROCESS</td>\n      <td>2014.0</td>\n      <td>China, Shanghai</td>\n      <td>288.93834</td>\n      <td>MM KG/yr</td>\n      <td>ETHYLENE</td>\n      <td>262.880116</td>\n      <td>...</td>\n      <td>4.008685</td>\n      <td>3.580103</td>\n      <td>94.094853</td>\n      <td>13.815847</td>\n      <td>107.91070</td>\n      <td>1.299338</td>\n      <td>109.210038</td>\n      <td>20.723771</td>\n      <td>129.933810</td>\n      <td>97.532505</td>\n    </tr>\n    <tr>\n      <th>2920</th>\n      <td>4M-1603</td>\n      <td>2021 Q3</td>\n      <td>ELECTRICITY</td>\n      <td>METHANOL TO OLEFINS BY UOP ADVANCED MTO PROCESS</td>\n      <td>2014.0</td>\n      <td>China, Shanghai</td>\n      <td>288.93834</td>\n      <td>MM KG/yr</td>\n      <td>ETHYLENE</td>\n      <td>108.026508</td>\n      <td>...</td>\n      <td>4.008685</td>\n      <td>3.580103</td>\n      <td>94.094853</td>\n      <td>13.815847</td>\n      <td>107.91070</td>\n      <td>1.299338</td>\n      <td>109.210038</td>\n      <td>20.723771</td>\n      <td>129.933810</td>\n      <td>97.532505</td>\n    </tr>\n    <tr>\n      <th>2921</th>\n      <td>4M-1603</td>\n      <td>2021 Q3</td>\n      <td>STEAM</td>\n      <td>METHANOL TO OLEFINS BY UOP ADVANCED MTO PROCESS</td>\n      <td>2014.0</td>\n      <td>China, Shanghai</td>\n      <td>288.93834</td>\n      <td>MM KG/yr</td>\n      <td>ETHYLENE</td>\n      <td>5.500000</td>\n      <td>...</td>\n      <td>4.008685</td>\n      <td>3.580103</td>\n      <td>94.094853</td>\n      <td>13.815847</td>\n      <td>107.91070</td>\n      <td>1.299338</td>\n      <td>109.210038</td>\n      <td>20.723771</td>\n      <td>129.933810</td>\n      <td>97.532505</td>\n    </tr>\n  </tbody>\n</table>\n<p>2922 rows × 30 columns</p>\n</div>"
     },
     "execution_count": 54,
     "metadata": {},
     "output_type": "execute_result"
    }
   ],
   "source": [
    "merged[longList].rename(columns=rename_dict)"
   ],
   "metadata": {
    "collapsed": false,
    "pycharm": {
     "name": "#%%\n"
    }
   }
  },
  {
   "cell_type": "code",
   "execution_count": 37,
   "outputs": [
    {
     "data": {
      "text/plain": "         Code                Geography_x Data Version_x  Research Year_x  \\\n0      1M-981  United States, Gulf Coast        2021 Q3           2002.0   \n1      1M-981  United States, Gulf Coast        2021 Q3           2002.0   \n2      1M-981  United States, Gulf Coast        2021 Q3           2002.0   \n3      1M-981  United States, Gulf Coast        2021 Q3           2002.0   \n4      1M-981  United States, Gulf Coast        2021 Q3           2002.0   \n...       ...                        ...            ...              ...   \n2917  4M-1603            China, Shanghai        2021 Q3           2014.0   \n2918  4M-1603            China, Shanghai        2021 Q3           2014.0   \n2919  4M-1603            China, Shanghai        2021 Q3           2014.0   \n2920  4M-1603            China, Shanghai        2021 Q3           2014.0   \n2921  4M-1603            China, Shanghai        2021 Q3           2014.0   \n\n                                              Process_x        Type_x  \\\n0     ETHYLENE BY THE UOP/HYDRO METHANOL TO OLEFINS ...  Raw Material   \n1     ETHYLENE BY THE UOP/HYDRO METHANOL TO OLEFINS ...  Raw Material   \n2     ETHYLENE BY THE UOP/HYDRO METHANOL TO OLEFINS ...  Raw Material   \n3     ETHYLENE BY THE UOP/HYDRO METHANOL TO OLEFINS ...    By-Product   \n4     ETHYLENE BY THE UOP/HYDRO METHANOL TO OLEFINS ...    By-Product   \n...                                                 ...           ...   \n2917    METHANOL TO OLEFINS BY UOP ADVANCED MTO PROCESS    By-Product   \n2918    METHANOL TO OLEFINS BY UOP ADVANCED MTO PROCESS    By-Product   \n2919    METHANOL TO OLEFINS BY UOP ADVANCED MTO PROCESS     Utilities   \n2920    METHANOL TO OLEFINS BY UOP ADVANCED MTO PROCESS     Utilities   \n2921    METHANOL TO OLEFINS BY UOP ADVANCED MTO PROCESS     Utilities   \n\n                     Name_x    Unit Cost Cost Unit  Unit Consumption  ...  \\\n0                  CATALYST          NaN       NaN               NaN  ...   \n1        CAUSTIC SODA (50%)    54.013254        KG          0.006260  ...   \n2           METHANOL, CRUDE    36.162973        KG          5.941383  ...   \n3             C4-C5 MIXTURE    66.866204        KG         -0.436700  ...   \n4           ETHANE-RICH GAS    25.110652        KG         -0.031340  ...   \n...                     ...          ...       ...               ...  ...   \n2917       PROPANE-RICH GAS    62.236497        KG         -0.027350  ...   \n2918  PROPYLENE, CHEM GRADE   104.168419        KG         -1.111190  ...   \n2919          COOLING WATER     4.596596        M3        262.880116  ...   \n2920            ELECTRICITY    10.970000       KWH        108.026508  ...   \n2921                  STEAM  1565.282062     TONNE          5.500000  ...   \n\n     Depreciation  Plant Gate Costs  G&A, Sales, Res. Production Cost   \\\n0       22.118850           56.76268         2.781679        59.544360   \n1       22.118850           56.76268         2.781679        59.544360   \n2       22.118850           56.76268         2.781679        59.544360   \n3       22.118850           56.76268         2.781679        59.544360   \n4       22.118850           56.76268         2.781679        59.544360   \n...           ...                ...              ...              ...   \n2917    13.815847          107.91070         1.299338       109.210038   \n2918    13.815847          107.91070         1.299338       109.210038   \n2919    13.815847          107.91070         1.299338       109.210038   \n2920    13.815847          107.91070         1.299338       109.210038   \n2921    13.815847          107.91070         1.299338       109.210038   \n\n      ROI (15%) Product Value  Product Price   Unit_conv  Uncertainty  \\\n0     33.178274      92.722634     100.420560   MM KG/yr          NaN   \n1     33.178274      92.722634     100.420560   MM KG/yr          NaN   \n2     33.178274      92.722634     100.420560   MM KG/yr          NaN   \n3     33.178274      92.722634     100.420560   MM KG/yr          NaN   \n4     33.178274      92.722634     100.420560   MM KG/yr          NaN   \n...         ...            ...            ...        ...          ...   \n2917  20.723771     129.933810      97.532505   MM KG/yr          NaN   \n2918  20.723771     129.933810      97.532505   MM KG/yr          NaN   \n2919  20.723771     129.933810      97.532505   MM KG/yr          NaN   \n2920  20.723771     129.933810      97.532505   MM KG/yr          NaN   \n2921  20.723771     129.933810      97.532505   MM KG/yr          NaN   \n\n     Provenance  \n0       IHS PEP  \n1       IHS PEP  \n2       IHS PEP  \n3       IHS PEP  \n4       IHS PEP  \n...         ...  \n2917    IHS PEP  \n2918    IHS PEP  \n2919    IHS PEP  \n2920    IHS PEP  \n2921    IHS PEP  \n\n[2922 rows x 35 columns]",
      "text/html": "<div>\n<style scoped>\n    .dataframe tbody tr th:only-of-type {\n        vertical-align: middle;\n    }\n\n    .dataframe tbody tr th {\n        vertical-align: top;\n    }\n\n    .dataframe thead th {\n        text-align: right;\n    }\n</style>\n<table border=\"1\" class=\"dataframe\">\n  <thead>\n    <tr style=\"text-align: right;\">\n      <th></th>\n      <th>Code</th>\n      <th>Geography_x</th>\n      <th>Data Version_x</th>\n      <th>Research Year_x</th>\n      <th>Process_x</th>\n      <th>Type_x</th>\n      <th>Name_x</th>\n      <th>Unit Cost</th>\n      <th>Cost Unit</th>\n      <th>Unit Consumption</th>\n      <th>...</th>\n      <th>Depreciation</th>\n      <th>Plant Gate Costs</th>\n      <th>G&amp;A, Sales, Res.</th>\n      <th>Production Cost</th>\n      <th>ROI (15%)</th>\n      <th>Product Value</th>\n      <th>Product Price</th>\n      <th>Unit_conv</th>\n      <th>Uncertainty</th>\n      <th>Provenance</th>\n    </tr>\n  </thead>\n  <tbody>\n    <tr>\n      <th>0</th>\n      <td>1M-981</td>\n      <td>United States, Gulf Coast</td>\n      <td>2021 Q3</td>\n      <td>2002.0</td>\n      <td>ETHYLENE BY THE UOP/HYDRO METHANOL TO OLEFINS ...</td>\n      <td>Raw Material</td>\n      <td>CATALYST</td>\n      <td>NaN</td>\n      <td>NaN</td>\n      <td>NaN</td>\n      <td>...</td>\n      <td>22.118850</td>\n      <td>56.76268</td>\n      <td>2.781679</td>\n      <td>59.544360</td>\n      <td>33.178274</td>\n      <td>92.722634</td>\n      <td>100.420560</td>\n      <td>MM KG/yr</td>\n      <td>NaN</td>\n      <td>IHS PEP</td>\n    </tr>\n    <tr>\n      <th>1</th>\n      <td>1M-981</td>\n      <td>United States, Gulf Coast</td>\n      <td>2021 Q3</td>\n      <td>2002.0</td>\n      <td>ETHYLENE BY THE UOP/HYDRO METHANOL TO OLEFINS ...</td>\n      <td>Raw Material</td>\n      <td>CAUSTIC SODA (50%)</td>\n      <td>54.013254</td>\n      <td>KG</td>\n      <td>0.006260</td>\n      <td>...</td>\n      <td>22.118850</td>\n      <td>56.76268</td>\n      <td>2.781679</td>\n      <td>59.544360</td>\n      <td>33.178274</td>\n      <td>92.722634</td>\n      <td>100.420560</td>\n      <td>MM KG/yr</td>\n      <td>NaN</td>\n      <td>IHS PEP</td>\n    </tr>\n    <tr>\n      <th>2</th>\n      <td>1M-981</td>\n      <td>United States, Gulf Coast</td>\n      <td>2021 Q3</td>\n      <td>2002.0</td>\n      <td>ETHYLENE BY THE UOP/HYDRO METHANOL TO OLEFINS ...</td>\n      <td>Raw Material</td>\n      <td>METHANOL, CRUDE</td>\n      <td>36.162973</td>\n      <td>KG</td>\n      <td>5.941383</td>\n      <td>...</td>\n      <td>22.118850</td>\n      <td>56.76268</td>\n      <td>2.781679</td>\n      <td>59.544360</td>\n      <td>33.178274</td>\n      <td>92.722634</td>\n      <td>100.420560</td>\n      <td>MM KG/yr</td>\n      <td>NaN</td>\n      <td>IHS PEP</td>\n    </tr>\n    <tr>\n      <th>3</th>\n      <td>1M-981</td>\n      <td>United States, Gulf Coast</td>\n      <td>2021 Q3</td>\n      <td>2002.0</td>\n      <td>ETHYLENE BY THE UOP/HYDRO METHANOL TO OLEFINS ...</td>\n      <td>By-Product</td>\n      <td>C4-C5 MIXTURE</td>\n      <td>66.866204</td>\n      <td>KG</td>\n      <td>-0.436700</td>\n      <td>...</td>\n      <td>22.118850</td>\n      <td>56.76268</td>\n      <td>2.781679</td>\n      <td>59.544360</td>\n      <td>33.178274</td>\n      <td>92.722634</td>\n      <td>100.420560</td>\n      <td>MM KG/yr</td>\n      <td>NaN</td>\n      <td>IHS PEP</td>\n    </tr>\n    <tr>\n      <th>4</th>\n      <td>1M-981</td>\n      <td>United States, Gulf Coast</td>\n      <td>2021 Q3</td>\n      <td>2002.0</td>\n      <td>ETHYLENE BY THE UOP/HYDRO METHANOL TO OLEFINS ...</td>\n      <td>By-Product</td>\n      <td>ETHANE-RICH GAS</td>\n      <td>25.110652</td>\n      <td>KG</td>\n      <td>-0.031340</td>\n      <td>...</td>\n      <td>22.118850</td>\n      <td>56.76268</td>\n      <td>2.781679</td>\n      <td>59.544360</td>\n      <td>33.178274</td>\n      <td>92.722634</td>\n      <td>100.420560</td>\n      <td>MM KG/yr</td>\n      <td>NaN</td>\n      <td>IHS PEP</td>\n    </tr>\n    <tr>\n      <th>...</th>\n      <td>...</td>\n      <td>...</td>\n      <td>...</td>\n      <td>...</td>\n      <td>...</td>\n      <td>...</td>\n      <td>...</td>\n      <td>...</td>\n      <td>...</td>\n      <td>...</td>\n      <td>...</td>\n      <td>...</td>\n      <td>...</td>\n      <td>...</td>\n      <td>...</td>\n      <td>...</td>\n      <td>...</td>\n      <td>...</td>\n      <td>...</td>\n      <td>...</td>\n      <td>...</td>\n    </tr>\n    <tr>\n      <th>2917</th>\n      <td>4M-1603</td>\n      <td>China, Shanghai</td>\n      <td>2021 Q3</td>\n      <td>2014.0</td>\n      <td>METHANOL TO OLEFINS BY UOP ADVANCED MTO PROCESS</td>\n      <td>By-Product</td>\n      <td>PROPANE-RICH GAS</td>\n      <td>62.236497</td>\n      <td>KG</td>\n      <td>-0.027350</td>\n      <td>...</td>\n      <td>13.815847</td>\n      <td>107.91070</td>\n      <td>1.299338</td>\n      <td>109.210038</td>\n      <td>20.723771</td>\n      <td>129.933810</td>\n      <td>97.532505</td>\n      <td>MM KG/yr</td>\n      <td>NaN</td>\n      <td>IHS PEP</td>\n    </tr>\n    <tr>\n      <th>2918</th>\n      <td>4M-1603</td>\n      <td>China, Shanghai</td>\n      <td>2021 Q3</td>\n      <td>2014.0</td>\n      <td>METHANOL TO OLEFINS BY UOP ADVANCED MTO PROCESS</td>\n      <td>By-Product</td>\n      <td>PROPYLENE, CHEM GRADE</td>\n      <td>104.168419</td>\n      <td>KG</td>\n      <td>-1.111190</td>\n      <td>...</td>\n      <td>13.815847</td>\n      <td>107.91070</td>\n      <td>1.299338</td>\n      <td>109.210038</td>\n      <td>20.723771</td>\n      <td>129.933810</td>\n      <td>97.532505</td>\n      <td>MM KG/yr</td>\n      <td>NaN</td>\n      <td>IHS PEP</td>\n    </tr>\n    <tr>\n      <th>2919</th>\n      <td>4M-1603</td>\n      <td>China, Shanghai</td>\n      <td>2021 Q3</td>\n      <td>2014.0</td>\n      <td>METHANOL TO OLEFINS BY UOP ADVANCED MTO PROCESS</td>\n      <td>Utilities</td>\n      <td>COOLING WATER</td>\n      <td>4.596596</td>\n      <td>M3</td>\n      <td>262.880116</td>\n      <td>...</td>\n      <td>13.815847</td>\n      <td>107.91070</td>\n      <td>1.299338</td>\n      <td>109.210038</td>\n      <td>20.723771</td>\n      <td>129.933810</td>\n      <td>97.532505</td>\n      <td>MM KG/yr</td>\n      <td>NaN</td>\n      <td>IHS PEP</td>\n    </tr>\n    <tr>\n      <th>2920</th>\n      <td>4M-1603</td>\n      <td>China, Shanghai</td>\n      <td>2021 Q3</td>\n      <td>2014.0</td>\n      <td>METHANOL TO OLEFINS BY UOP ADVANCED MTO PROCESS</td>\n      <td>Utilities</td>\n      <td>ELECTRICITY</td>\n      <td>10.970000</td>\n      <td>KWH</td>\n      <td>108.026508</td>\n      <td>...</td>\n      <td>13.815847</td>\n      <td>107.91070</td>\n      <td>1.299338</td>\n      <td>109.210038</td>\n      <td>20.723771</td>\n      <td>129.933810</td>\n      <td>97.532505</td>\n      <td>MM KG/yr</td>\n      <td>NaN</td>\n      <td>IHS PEP</td>\n    </tr>\n    <tr>\n      <th>2921</th>\n      <td>4M-1603</td>\n      <td>China, Shanghai</td>\n      <td>2021 Q3</td>\n      <td>2014.0</td>\n      <td>METHANOL TO OLEFINS BY UOP ADVANCED MTO PROCESS</td>\n      <td>Utilities</td>\n      <td>STEAM</td>\n      <td>1565.282062</td>\n      <td>TONNE</td>\n      <td>5.500000</td>\n      <td>...</td>\n      <td>13.815847</td>\n      <td>107.91070</td>\n      <td>1.299338</td>\n      <td>109.210038</td>\n      <td>20.723771</td>\n      <td>129.933810</td>\n      <td>97.532505</td>\n      <td>MM KG/yr</td>\n      <td>NaN</td>\n      <td>IHS PEP</td>\n    </tr>\n  </tbody>\n</table>\n<p>2922 rows × 35 columns</p>\n</div>"
     },
     "execution_count": 37,
     "metadata": {},
     "output_type": "execute_result"
    }
   ],
   "source": [
    "merged['Type_x', 'Unit Cost', 'Cost Unit', 'Variable Cost_x', 'Investment (MM US$)', 'Type_y', 'Variable Cost_y','Fixed Costs','Overhead + Tax, Ins.']"
   ],
   "metadata": {
    "collapsed": false,
    "pycharm": {
     "name": "#%%\n"
    }
   }
  },
  {
   "cell_type": "code",
   "execution_count": 49,
   "outputs": [
    {
     "data": {
      "text/plain": "['Type_x',\n 'Unit Cost',\n 'Cost Unit',\n 'Variable Cost_x',\n 'Investment (MM US$)',\n 'Type_y',\n 'Variable Cost_y',\n 'Fixed Costs',\n 'Overhead + Tax, Ins.',\n 'Plant Cash Cost ',\n 'Depreciation',\n 'Plant Gate Costs ',\n 'G&A, Sales, Res.',\n 'Production Cost ',\n 'ROI (15%)',\n 'Product Value ',\n 'Product Price ']"
     },
     "execution_count": 49,
     "metadata": {},
     "output_type": "execute_result"
    }
   ],
   "source": [
    "[i for i in merged.columns if i not in shortList+['Geography_y','Data Version_y','Research Year_y','Process_y','Unit']]"
   ],
   "metadata": {
    "collapsed": false,
    "pycharm": {
     "name": "#%%\n"
    }
   }
  },
  {
   "cell_type": "code",
   "execution_count": 48,
   "outputs": [
    {
     "ename": "ValueError",
     "evalue": "Lengths must match to compare",
     "output_type": "error",
     "traceback": [
      "\u001B[1;31m---------------------------------------------------------------------------\u001B[0m",
      "\u001B[1;31mValueError\u001B[0m                                Traceback (most recent call last)",
      "\u001B[1;32m<ipython-input-48-0c87a94cd92f>\u001B[0m in \u001B[0;36m<module>\u001B[1;34m\u001B[0m\n\u001B[1;32m----> 1\u001B[1;33m \u001B[0mnp\u001B[0m\u001B[1;33m.\u001B[0m\u001B[0mwhere\u001B[0m\u001B[1;33m(\u001B[0m\u001B[0mdata\u001B[0m\u001B[1;33m.\u001B[0m\u001B[0mmaterials\u001B[0m\u001B[1;33m.\u001B[0m\u001B[0mcolumns\u001B[0m \u001B[1;33m==\u001B[0m \u001B[0mdata\u001B[0m\u001B[1;33m.\u001B[0m\u001B[0mproducts\u001B[0m\u001B[1;33m.\u001B[0m\u001B[0mcolumns\u001B[0m\u001B[1;33m)\u001B[0m\u001B[1;33m\u001B[0m\u001B[1;33m\u001B[0m\u001B[0m\n\u001B[0m",
      "\u001B[1;32mC:\\ProgramData\\Anaconda3\\lib\\site-packages\\pandas\\core\\indexes\\base.py\u001B[0m in \u001B[0;36mcmp_method\u001B[1;34m(self, other)\u001B[0m\n\u001B[0;32m    103\u001B[0m         \u001B[1;32mif\u001B[0m \u001B[0misinstance\u001B[0m\u001B[1;33m(\u001B[0m\u001B[0mother\u001B[0m\u001B[1;33m,\u001B[0m \u001B[1;33m(\u001B[0m\u001B[0mnp\u001B[0m\u001B[1;33m.\u001B[0m\u001B[0mndarray\u001B[0m\u001B[1;33m,\u001B[0m \u001B[0mIndex\u001B[0m\u001B[1;33m,\u001B[0m \u001B[0mABCSeries\u001B[0m\u001B[1;33m,\u001B[0m \u001B[0mExtensionArray\u001B[0m\u001B[1;33m)\u001B[0m\u001B[1;33m)\u001B[0m\u001B[1;33m:\u001B[0m\u001B[1;33m\u001B[0m\u001B[1;33m\u001B[0m\u001B[0m\n\u001B[0;32m    104\u001B[0m             \u001B[1;32mif\u001B[0m \u001B[0mother\u001B[0m\u001B[1;33m.\u001B[0m\u001B[0mndim\u001B[0m \u001B[1;33m>\u001B[0m \u001B[1;36m0\u001B[0m \u001B[1;32mand\u001B[0m \u001B[0mlen\u001B[0m\u001B[1;33m(\u001B[0m\u001B[0mself\u001B[0m\u001B[1;33m)\u001B[0m \u001B[1;33m!=\u001B[0m \u001B[0mlen\u001B[0m\u001B[1;33m(\u001B[0m\u001B[0mother\u001B[0m\u001B[1;33m)\u001B[0m\u001B[1;33m:\u001B[0m\u001B[1;33m\u001B[0m\u001B[1;33m\u001B[0m\u001B[0m\n\u001B[1;32m--> 105\u001B[1;33m                 \u001B[1;32mraise\u001B[0m \u001B[0mValueError\u001B[0m\u001B[1;33m(\u001B[0m\u001B[1;34m\"Lengths must match to compare\"\u001B[0m\u001B[1;33m)\u001B[0m\u001B[1;33m\u001B[0m\u001B[1;33m\u001B[0m\u001B[0m\n\u001B[0m\u001B[0;32m    106\u001B[0m \u001B[1;33m\u001B[0m\u001B[0m\n\u001B[0;32m    107\u001B[0m         \u001B[1;32mif\u001B[0m \u001B[0mis_object_dtype\u001B[0m\u001B[1;33m(\u001B[0m\u001B[0mself\u001B[0m\u001B[1;33m)\u001B[0m \u001B[1;32mand\u001B[0m \u001B[0misinstance\u001B[0m\u001B[1;33m(\u001B[0m\u001B[0mother\u001B[0m\u001B[1;33m,\u001B[0m \u001B[0mABCCategorical\u001B[0m\u001B[1;33m)\u001B[0m\u001B[1;33m:\u001B[0m\u001B[1;33m\u001B[0m\u001B[1;33m\u001B[0m\u001B[0m\n",
      "\u001B[1;31mValueError\u001B[0m: Lengths must match to compare"
     ]
    }
   ],
   "source": [
    "np.where(data.materials.columns == data.products.columns)"
   ],
   "metadata": {
    "collapsed": false,
    "pycharm": {
     "name": "#%%\n"
    }
   }
  },
  {
   "cell_type": "code",
   "execution_count": null,
   "outputs": [],
   "source": [],
   "metadata": {
    "collapsed": false,
    "pycharm": {
     "name": "#%%\n"
    }
   }
  }
 ],
 "metadata": {
  "kernelspec": {
   "display_name": "Python 3",
   "language": "python",
   "name": "python3"
  },
  "language_info": {
   "codemirror_mode": {
    "name": "ipython",
    "version": 2
   },
   "file_extension": ".py",
   "mimetype": "text/x-python",
   "name": "python",
   "nbconvert_exporter": "python",
   "pygments_lexer": "ipython2",
   "version": "2.7.6"
  }
 },
 "nbformat": 4,
 "nbformat_minor": 0
}