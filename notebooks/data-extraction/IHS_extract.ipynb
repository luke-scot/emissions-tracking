{
 "cells": [
  {
   "cell_type": "code",
   "execution_count": 1,
   "outputs": [],
   "source": [
    "import pandas as pd\n",
    "import numpy as np\n",
    "import win32com.client\n",
    "import time"
   ],
   "metadata": {
    "collapsed": false,
    "pycharm": {
     "name": "#%%\n"
    }
   }
  },
  {
   "cell_type": "code",
   "execution_count": 47,
   "outputs": [],
   "source": [
    "file = \"C:/Users\\lukec\\OneDrive - University of Cambridge\\Projects\\PhD\\Data\\IHS\\Ethylene\\ETHYLENE FROM WIDE RANGE NAPHTHA, MAXIMUM ETHYLENE, FRONT END DEMETHANIZER - Germany.xlsx\"\n",
    "footer = 11\n",
    "headerLines = 5\n",
    "colSep = 6"
   ],
   "metadata": {
    "collapsed": false,
    "pycharm": {
     "name": "#%%\n"
    }
   }
  },
  {
   "cell_type": "code",
   "execution_count": 52,
   "outputs": [],
   "source": [
    "def refresh_excel_file(file:str, pause=False):\n",
    "    # Refresh Excel file to have numbers for formula cells\n",
    "    xlapp = win32com.client.DispatchEx(\"Excel.Application\")\n",
    "    wb = xlapp.Workbooks.Open(file)\n",
    "    wb.RefreshAll()\n",
    "    if pause: time.sleep(pause)\n",
    "    wb.Save()\n",
    "    wb.Close()\n",
    "    xlapp.Quit()\n",
    "    return file"
   ],
   "metadata": {
    "collapsed": false,
    "pycharm": {
     "name": "#%%\n"
    }
   }
  },
  {
   "cell_type": "code",
   "execution_count": 167,
   "outputs": [],
   "source": [
    "def extract_properties(df):\n",
    "    properties = list(map(lambda x: x.strip(), df.loc[2][0].split(\",\")))+['Name: '+df.loc[1][0]]\n",
    "    properties = dict(map(lambda x: x.split(\": \"), properties))\n",
    "    return properties\n",
    "\n",
    "def add_property_columns(df, properties):\n",
    "    print(list(properties.values()))\n",
    "    df[list(properties.keys())] = list(properties.values())\n",
    "    return df\n",
    "\n",
    "def excel_multilayer_table_extract(df, dataType='Attribute', header=0, colStart=0, colEnd=-1, properties=False):\n",
    "    data = df[header:][df.columns[colStart:colEnd]]\n",
    "    data.columns = [dataType] + list(data.iloc[0][1:].values)\n",
    "    data.columns = list(map(lambda x: 'Unit' if x is np.nan else x, data.columns.values))\n",
    "    data.dropna(subset=[data.columns[0]], inplace=True)\n",
    "\n",
    "    typesInd = [0] + list(np.where(data.index[1:] - data.index[:-1] != 1)[0]+1)\n",
    "    data['Type'] = list(map(lambda x: data[dataType].values[typesInd[np.sum(np.array(typesInd) < x+1)-1]], range(len(data))))\n",
    "    data.dropna(subset=data.columns[1:-1], how='all', inplace=True)\n",
    "    data.reset_index(drop=True, inplace=True)\n",
    "    if properties: data = add_property_columns(data, properties)\n",
    "    return data"
   ],
   "metadata": {
    "collapsed": false,
    "pycharm": {
     "name": "#%%\n"
    }
   }
  },
  {
   "cell_type": "code",
   "execution_count": 171,
   "outputs": [
    {
     "name": "stdout",
     "output_type": "stream",
     "text": [
      "['Germany', 'ETHYLENE', '1087', '135.83 ¢/KG', '2M-1622', '1.06 (1US $ = 0.85)', '2021 Q3', '2014', 'ETHYLENE FROM WIDE RANGE NAPHTHA, MAXIMUM ETHYLENE, FRONT END DEMETHANIZER']\n"
     ]
    }
   ],
   "source": [
    "# Import sheet\n",
    "sheet = pd.read_excel(refresh_excel_file(file),skipfooter=footer)\n",
    "properties = extract_properties(sheet)\n",
    "materials = excel_multilayer_table_extract(sheet, dataType='Material', header=headerLines, colEnd=colSep,\n",
    "                                           properties=properties)\n",
    "cost = excel_multilayer_table_extract(sheet, dataType='Cost', header=headerLines, colStart=colSep+1,\n",
    "                                      properties=properties)"
   ],
   "metadata": {
    "collapsed": false,
    "pycharm": {
     "name": "#%%\n"
    }
   }
  },
  {
   "cell_type": "code",
   "execution_count": 127,
   "outputs": [],
   "source": [
    "from pandas_xlsx_tables import df_to_xlsx_table\n",
    "df_to_xlsx_table(cost, \"Costs\")"
   ],
   "metadata": {
    "collapsed": false,
    "pycharm": {
     "name": "#%%\n"
    }
   }
  },
  {
   "cell_type": "code",
   "execution_count": null,
   "outputs": [],
   "source": [
    "#!pip install pivottablejs\n",
    "# from pivottablejs import pivot_ui\n",
    "# pivot_ui(cost,outfile_path='pivottablejs.html')"
   ],
   "metadata": {
    "collapsed": false,
    "pycharm": {
     "name": "#%%\n"
    }
   }
  }
 ],
 "metadata": {
  "kernelspec": {
   "display_name": "Python 3",
   "language": "python",
   "name": "python3"
  },
  "language_info": {
   "codemirror_mode": {
    "name": "ipython",
    "version": 2
   },
   "file_extension": ".py",
   "mimetype": "text/x-python",
   "name": "python",
   "nbconvert_exporter": "python",
   "pygments_lexer": "ipython2",
   "version": "2.7.6"
  }
 },
 "nbformat": 4,
 "nbformat_minor": 0
}