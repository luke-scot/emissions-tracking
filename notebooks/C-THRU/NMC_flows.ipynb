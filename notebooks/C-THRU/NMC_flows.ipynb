{
  "cells": [
    {
      "cell_type": "markdown",
      "metadata": {
        "id": "view-in-github",
        "colab_type": "text"
      },
      "source": [
        "<a href=\"https://colab.research.google.com/github/luke-scot/emissions-tracking/blob/main/NMC_flows.ipynb\" target=\"_parent\"><img src=\"https://colab.research.google.com/assets/colab-badge.svg\" alt=\"Open In Colab\"/></a>"
      ]
    },
    {
      "cell_type": "code",
      "execution_count": 148,
      "id": "d1ea8c1b",
      "metadata": {
        "id": "d1ea8c1b"
      },
      "outputs": [],
      "source": [
        "%%capture\n",
        "\"\"\"Installation and downloads\"\"\"\n",
        "# Install floweaver and display widget packages\n",
        "%pip install floweaver ipysankeywidget\n",
        "\n",
        "# Import necessary packages\n",
        "import pandas as pd\n",
        "import numpy as np\n",
        "from floweaver import *\n",
        "from ipysankeywidget import SankeyWidget"
      ]
    },
    {
      "cell_type": "code",
      "source": [
        "\"\"\"Display setup\"\"\"\n",
        "# Enable widget display for Sankeys in Colab\n",
        "from google.colab import output\n",
        "output.enable_custom_widget_manager()"
      ],
      "metadata": {
        "id": "PtoujBSmx_HU"
      },
      "id": "PtoujBSmx_HU",
      "execution_count": 149,
      "outputs": []
    },
    {
      "cell_type": "code",
      "execution_count": 161,
      "id": "e4cbc2f5",
      "metadata": {
        "id": "e4cbc2f5"
      },
      "outputs": [],
      "source": [
        "flows = pd.read_csv('flows.csv', usecols = ['source', 'target', 'type', 'value'], skipinitialspace=True)\n",
        "flows.source = flows.source.str.strip()"
      ]
    },
    {
      "cell_type": "code",
      "source": [
        "flows.source.unique()"
      ],
      "metadata": {
        "colab": {
          "base_uri": "https://localhost:8080/"
        },
        "id": "fuzwPIjoZH18",
        "outputId": "ce0bf3c0-d43d-4b15-e947-629d677fd6cc"
      },
      "id": "fuzwPIjoZH18",
      "execution_count": 163,
      "outputs": [
        {
          "output_type": "execute_result",
          "data": {
            "text/plain": [
              "array(['AM', 'graphite', 'binder', 'copper', 'aluminium', 'electrolyte',\n",
              "       'plastic', 'steel', 'other', 'nickel', 'cobalt', 'manganese',\n",
              "       'lithium', 'sodium', 'ammonium', 'precipitation', 'nickel_mining',\n",
              "       'nickel_refining', 'manganese_mining', 'manganese_refining',\n",
              "       'cobalt_mining', 'cobalt_refining', 'lithium_mining',\n",
              "       'lithium_refining', 'graphite_pro', 'aluminium_mining',\n",
              "       'aluminium_refining', 'aluminium_primary', 'copper_mining',\n",
              "       'copper_smelting', 'copper_refining', 'Indonesia', 'Philippines',\n",
              "       'Russia', 'New Caledonia', 'Canada', 'Australia', 'China',\n",
              "       'Brazil', 'Guatemala', 'South Africa', 'Gabon', 'Ghana', 'India',\n",
              "       'Ukraine', 'Ivory Coast', 'Malaysia', 'Congo', 'Cuba',\n",
              "       'Madagascar', 'Papua New Guinea', 'Chile', 'Argentina', 'Guinea',\n",
              "       'Jamaica', 'Peru', 'Congo, Democratic Republic', 'USA', 'Zambia',\n",
              "       'Mexico', 'Kazakhstan', 'Poland', 'Mozambique',\n",
              "       'Korea, Dem. P.R. of'], dtype=object)"
            ]
          },
          "metadata": {},
          "execution_count": 163
        }
      ]
    },
    {
      "cell_type": "code",
      "source": [
        "flows.target.unique()"
      ],
      "metadata": {
        "colab": {
          "base_uri": "https://localhost:8080/"
        },
        "id": "abMMEWPpyokB",
        "outputId": "67b498d2-175c-46bb-ae39-685a6236d79c"
      },
      "id": "abMMEWPpyokB",
      "execution_count": 164,
      "outputs": [
        {
          "output_type": "execute_result",
          "data": {
            "text/plain": [
              "array(['NMC622', 'AM', 'nickel_refining', 'nickel', 'manganese_refining',\n",
              "       'manganese', 'cobalt_refining', 'cobalt', 'lithium_refining',\n",
              "       'lithium', 'graphite', 'aluminium_refining', 'aluminium_primary',\n",
              "       'aluminium', 'copper_smelting', 'copper_refining', 'copper',\n",
              "       'nickel_mining', 'manganese_mining', 'cobalt_mining',\n",
              "       'lithium_mining', 'aluminium_mining', 'copper_mining',\n",
              "       'graphite_pro'], dtype=object)"
            ]
          },
          "metadata": {},
          "execution_count": 164
        }
      ]
    },
    {
      "cell_type": "code",
      "source": [
        "sources =  np.sort(['Indonesia', 'Philippines',\n",
        "       'Russia', 'New Caledonia', 'Canada', 'Australia', 'China',\n",
        "       'Brazil', 'Guatemala', 'South Africa', 'Gabon', 'Ghana', 'India',\n",
        "       'Ukraine', 'Ivory Coast', 'Malaysia', 'Congo', 'Cuba',\n",
        "       'Madagascar', 'Papua New Guinea', 'Chile', 'Argentina', 'Guinea',\n",
        "       'Jamaica', 'Peru', 'Congo, Democratic Republic', 'USA', 'Zambia',\n",
        "       'Mexico', 'Kazakhstan', 'Poland', 'Mozambique',\n",
        "       'Korea, Dem. P.R. of'])\n",
        "uses = ['NMC622']\n",
        "\"\"\"Get all unique types of sources and targets listed in products and flows respectively\"\"\"\n",
        "#mining = \n",
        "idColumn = np.concatenate((sources,uses))\n",
        "typeColumn = ['source']*len(sources)+['use']*len(uses)\n",
        "processes = pd.DataFrame(np.array([idColumn,typeColumn]).transpose(), columns=['id','type'])"
      ],
      "metadata": {
        "id": "Ps3bky_i0q-4"
      },
      "id": "Ps3bky_i0q-4",
      "execution_count": 165,
      "outputs": []
    },
    {
      "cell_type": "code",
      "source": [
        "dataset = Dataset(flows, dim_process=processes.set_index('id'))"
      ],
      "metadata": {
        "id": "ZsEXApRm1Cqu"
      },
      "id": "ZsEXApRm1Cqu",
      "execution_count": 166,
      "outputs": []
    },
    {
      "cell_type": "code",
      "execution_count": 167,
      "id": "94f949a9",
      "metadata": {
        "id": "94f949a9"
      },
      "outputs": [],
      "source": [
        "nodes = {\n",
        "    'sources': ProcessGroup('type == \"source\"', Partition.Simple('process', sources), title='Sources'),\n",
        "    # mining\n",
        "    'nickel_mining': ProcessGroup(['nickel_mining'], title ='Nickel mining'),\n",
        "    'manganese_mining': ProcessGroup(['manganese_mining'], title ='Manganese mining'),\n",
        "    'cobalt_mining': ProcessGroup(['cobalt_mining'], title ='Cobalt mining'),\n",
        "    'lithium_mining': ProcessGroup(['lithium_mining'], title ='Lithium mining'),\n",
        "    'graphite_pro': ProcessGroup(['graphite_pro'], title ='Graphite production'),\n",
        "    'aluminium_mining': ProcessGroup(['aluminium_mining'], title ='Aluminium mining'),\n",
        "    'copper_mining': ProcessGroup(['copper_mining'], title ='Copper mining'),\n",
        "\n",
        "    # smelting\n",
        "    'copper_smelting': ProcessGroup(['copper_smelting'], title ='Copper_smelting'),\n",
        "\n",
        "    # refining\n",
        "    'nickel_refining': ProcessGroup(['nickel_refining'], title ='Nickel refining'),\n",
        "    'manganese_refining': ProcessGroup(['manganese_refining'], title ='Manganese refining'),\n",
        "    'cobalt_refining': ProcessGroup(['cobalt_refining'], title ='Cobalt refining'),\n",
        "    'lithium_refining': ProcessGroup(['lithium_refining'], title ='Lithium refining'),\n",
        "    'aluminium_refining': ProcessGroup(['aluminium_refining'], title ='Aluminium refining'),\n",
        "    'copper_refining': ProcessGroup(['copper_refining'], title ='Copper_refining'),\n",
        "\n",
        "    # primary\n",
        "    'aluminium_primary': ProcessGroup(['aluminium_primary'], title ='Aluminium primary'),\n",
        "\n",
        "    # material\n",
        "    'sodium': ProcessGroup(['sodium'], title ='Sodium Hydroxide'),\n",
        "    'ammonium': ProcessGroup(['ammonium'], title ='Ammonium Hydroxide'),\n",
        "    'precipitation': ProcessGroup(['precipitation'], title ='Precursor Co-precipitation'),\n",
        "    'nickel': ProcessGroup(['nickel'], title ='Nickel'),\n",
        "    'manganese': ProcessGroup(['manganese'], title ='Manganese'),\n",
        "    'cobalt': ProcessGroup(['cobalt'], title ='Cobalt'),\n",
        "    'lithium': ProcessGroup(['lithium'], title ='Lithium'),\n",
        "    'AM': ProcessGroup(['AM'], title ='Active material'),\n",
        "    'aluminium': ProcessGroup(['aluminium'], title ='Aluminium'),\n",
        "    'graphite': ProcessGroup(['graphite'], title ='Graphite/Carbon'),\n",
        "    'copper': ProcessGroup(['copper'], title ='Copper'),\n",
        "    'binder': ProcessGroup(['binder'], title ='Binder'),\n",
        "    'electrolyte': ProcessGroup(['electrolyte'], title ='Electrolyte'),\n",
        "    'plastic': ProcessGroup(['plastic'], title ='Plastic'),\n",
        "    'steel': ProcessGroup(['steel'], title ='Steel'),\n",
        "    'other': ProcessGroup(['other'], title ='Other'),\n",
        "    \n",
        "\n",
        "    # Product\n",
        "    'NMC622': ProcessGroup('type == \"use\"', Partition.Simple('process', uses), title='Product'),\n",
        "\n",
        "}"
      ]
    },
    {
      "cell_type": "code",
      "execution_count": 168,
      "id": "b4c34ee9",
      "metadata": {
        "id": "b4c34ee9"
      },
      "outputs": [],
      "source": [
        "ordering = [\n",
        "    [['sources'],[]],\n",
        "    [['aluminium_mining', 'graphite_pro', 'copper_mining', 'cobalt_mining', 'lithium_mining', 'manganese_mining','nickel_mining'],[]],\n",
        "    [['copper_smelting'],[]],\n",
        "    [['aluminium_refining','copper_refining', 'cobalt_refining','lithium_refining','manganese_refining','nickel_refining'],[]],\n",
        "    [['aluminium_primary','cobalt','lithium','manganese','nickel'],['sodium','ammonium','precipitation']],\n",
        "    [['aluminium','graphite','copper','AM'], ['binder','electrolyte','plastic','steel','other']],\n",
        "    [['NMC622'],[]],\n",
        "]"
      ]
    },
    {
      "cell_type": "code",
      "execution_count": 169,
      "id": "104ae589",
      "metadata": {
        "id": "104ae589"
      },
      "outputs": [],
      "source": [
        "bundles = [\n",
        "    # Source to mining\n",
        "    Bundle(\"sources\",\"nickel_mining\"),  \n",
        "    Bundle(\"sources\",\"manganese_mining\"),  \n",
        "    Bundle(\"sources\",\"cobalt_mining\"),   \n",
        "    Bundle(\"sources\",\"lithium_mining\"),    \n",
        "    Bundle(\"sources\",\"graphite_pro\"),  \n",
        "    Bundle(\"sources\",\"aluminium_mining\"),  \n",
        "    Bundle(\"sources\",\"copper_mining\"),  \n",
        "    # Mining to refining\n",
        "    Bundle(\"copper_mining\", \"copper_smelting\"),\n",
        "    Bundle(\"copper_smelting\", \"copper_refining\"), \n",
        "    Bundle(\"nickel_mining\", \"nickel_refining\"),  \n",
        "    Bundle(\"manganese_mining\", \"manganese_refining\"),\n",
        "    Bundle(\"cobalt_mining\", \"cobalt_refining\"),  \n",
        "    Bundle(\"lithium_mining\", \"lithium_refining\"),  \n",
        "    Bundle(\"aluminium_mining\", \"aluminium_refining\"), \n",
        "\n",
        "    # Refining to material\n",
        "    Bundle(\"nickel_refining\", \"nickel\"), \n",
        "    Bundle(\"manganese_refining\", \"manganese\"),\n",
        "    Bundle(\"cobalt_refining\", \"cobalt\"), \n",
        "    Bundle(\"lithium_refining\", \"lithium\"),\n",
        "    Bundle(\"nickel\", \"AM\"), \n",
        "    Bundle(\"manganese\", \"AM\"),\n",
        "    Bundle(\"cobalt\", \"AM\"), \n",
        "    Bundle(\"lithium\", \"AM\"),\n",
        "    Bundle(\"sodium\", \"AM\"),\n",
        "    Bundle(\"ammonium\", \"AM\"),\n",
        "    Bundle(\"precipitation\", \"AM\"),\n",
        "    Bundle(\"aluminium_refining\", \"aluminium_primary\"),\n",
        "    Bundle(\"aluminium_primary\", \"aluminium\"), \n",
        "    Bundle(\"graphite_pro\", \"graphite\"),\n",
        "    Bundle(\"copper_refining\", \"copper\"),\n",
        "\n",
        "    # Material to product\n",
        "    Bundle(\"AM\", \"NMC622\"),      \n",
        "    Bundle(\"graphite\", \"NMC622\"),\n",
        "    Bundle(\"aluminium\", \"NMC622\"),\n",
        "    Bundle(\"copper\", \"NMC622\"),\n",
        "    Bundle(\"binder\", \"NMC622\"),\n",
        "    Bundle(\"electrolyte\", \"NMC622\"),  \n",
        "    Bundle(\"plastic\", \"NMC622\"),  \n",
        "    Bundle(\"steel\", \"NMC622\"),  \n",
        "    Bundle(\"other\", \"NMC622\"),         \n",
        "]"
      ]
    },
    {
      "cell_type": "code",
      "execution_count": 172,
      "id": "44bf2db0",
      "metadata": {
        "colab": {
          "base_uri": "https://localhost:8080/",
          "height": 821,
          "referenced_widgets": [
            "981d8cd2a24847ba9cae2acdf7b88f9f",
            "8ea662b5de044c61ada103096c96bdaa"
          ]
        },
        "id": "44bf2db0",
        "outputId": "0d1f3ee3-08c8-44ee-944b-581233fcc6bf"
      },
      "outputs": [
        {
          "output_type": "display_data",
          "data": {
            "application/vnd.jupyter.widget-view+json": {
              "model_id": "981d8cd2a24847ba9cae2acdf7b88f9f",
              "version_minor": 0,
              "version_major": 2
            },
            "text/plain": [
              "SankeyWidget(groups=[{'id': 'sources', 'type': 'process', 'title': 'Sources', 'nodes': ['sources^Argentina', '…"
            ]
          },
          "metadata": {
            "application/vnd.jupyter.widget-view+json": {
              "colab": {
                "custom_widget_manager": {
                  "url": "https://ssl.gstatic.com/colaboratory-static/widgets/colab-cdn-widget-manager/a8874ba6619b6106/manager.min.js"
                }
              }
            }
          }
        }
      ],
      "source": [
        "flow_partition = Partition.Simple(\"type\", np.unique(flows['type'].to_list()))\n",
        "\n",
        "sdd = SankeyDefinition(nodes, bundles, ordering, flow_partition = flow_partition)\n",
        "weave(sdd, dataset, palette='Paired_12').to_widget(width=1000, height = 800)\\\n",
        ".auto_save_svg('NMC622_sankey.svg')"
      ]
    },
    {
      "cell_type": "code",
      "source": [
        ""
      ],
      "metadata": {
        "id": "OFn7pQnuZVtk"
      },
      "id": "OFn7pQnuZVtk",
      "execution_count": null,
      "outputs": []
    }
  ],
  "metadata": {
    "kernelspec": {
      "display_name": "Python 3",
      "language": "python",
      "name": "python3"
    },
    "language_info": {
      "codemirror_mode": {
        "name": "ipython",
        "version": 3
      },
      "file_extension": ".py",
      "mimetype": "text/x-python",
      "name": "python",
      "nbconvert_exporter": "python",
      "pygments_lexer": "ipython3",
      "version": "3.8.8"
    },
    "toc": {
      "base_numbering": 1,
      "nav_menu": {},
      "number_sections": true,
      "sideBar": true,
      "skip_h1_title": false,
      "title_cell": "Table of Contents",
      "title_sidebar": "Contents",
      "toc_cell": false,
      "toc_position": {},
      "toc_section_display": true,
      "toc_window_display": false
    },
    "colab": {
      "name": "NMC_flows.ipynb",
      "provenance": [],
      "include_colab_link": true
    },
    "widgets": {
      "application/vnd.jupyter.widget-state+json": {
        "981d8cd2a24847ba9cae2acdf7b88f9f": {
          "model_module": "jupyter-sankey-widget",
          "model_name": "SankeyModel",
          "model_module_version": "^0.4.1",
          "state": {
            "_view_name": "SankeyView",
            "links": [
              {
                "opacity": 1,
                "target": "lithium_mining^*",
                "title": "Argentina",
                "color": "#A6CEE3",
                "value": 0.073170732,
                "source": "sources^Argentina",
                "time": "*",
                "type": "Argentina"
              },
              {
                "opacity": 1,
                "target": "nickel_mining^*",
                "title": "Australia",
                "color": "#1F78B4",
                "value": 0.058743841,
                "source": "sources^Australia",
                "time": "*",
                "type": "Australia"
              },
              {
                "opacity": 1,
                "target": "manganese_mining^*",
                "title": "Australia",
                "color": "#1F78B4",
                "value": 0.117504816,
                "source": "sources^Australia",
                "time": "*",
                "type": "Australia"
              },
              {
                "opacity": 1,
                "target": "cobalt_mining^*",
                "title": "Australia",
                "color": "#1F78B4",
                "value": 0.046233433,
                "source": "sources^Australia",
                "time": "*",
                "type": "Australia"
              },
              {
                "opacity": 1,
                "target": "lithium_mining^*",
                "title": "Australia",
                "color": "#1F78B4",
                "value": 0.522648084,
                "source": "sources^Australia",
                "time": "*",
                "type": "Australia"
              },
              {
                "opacity": 1,
                "target": "aluminium_mining^*",
                "title": "Australia",
                "color": "#1F78B4",
                "value": 0.304106063,
                "source": "sources^Australia",
                "time": "*",
                "type": "Australia"
              },
              {
                "opacity": 1,
                "target": "copper_mining^*",
                "title": "Australia",
                "color": "#1F78B4",
                "value": 0.045174095,
                "source": "sources^Australia",
                "time": "*",
                "type": "Australia"
              },
              {
                "opacity": 1,
                "target": "nickel_mining^*",
                "title": "Brazil",
                "color": "#B2DF8A",
                "value": 0.020611095,
                "source": "sources^Brazil",
                "time": "*",
                "type": "Brazil"
              },
              {
                "opacity": 1,
                "target": "manganese_mining^*",
                "title": "Brazil",
                "color": "#B2DF8A",
                "value": 0.056548501,
                "source": "sources^Brazil",
                "time": "*",
                "type": "Brazil"
              },
              {
                "opacity": 1,
                "target": "lithium_mining^*",
                "title": "Brazil",
                "color": "#B2DF8A",
                "value": 0.027874564,
                "source": "sources^Brazil",
                "time": "*",
                "type": "Brazil"
              },
              {
                "opacity": 1,
                "target": "graphite_pro^*",
                "title": "Brazil  ",
                "color": "#33A02C",
                "value": 0.084781088,
                "source": "sources^Brazil",
                "time": "*",
                "type": "Brazil  "
              },
              {
                "opacity": 1,
                "target": "aluminium_mining^*",
                "title": "Brazil",
                "color": "#B2DF8A",
                "value": 0.092023503,
                "source": "sources^Brazil",
                "time": "*",
                "type": "Brazil"
              },
              {
                "opacity": 1,
                "target": "nickel_mining^*",
                "title": "Canada",
                "color": "#FB9A99",
                "value": 0.066941284,
                "source": "sources^Canada",
                "time": "*",
                "type": "Canada"
              },
              {
                "opacity": 1,
                "target": "cobalt_mining^*",
                "title": "Canada",
                "color": "#FB9A99",
                "value": 0.041677495,
                "source": "sources^Canada",
                "time": "*",
                "type": "Canada"
              },
              {
                "opacity": 1,
                "target": "copper_mining^*",
                "title": "Canada",
                "color": "#FB9A99",
                "value": 0.027121287,
                "source": "sources^Canada",
                "time": "*",
                "type": "Canada"
              },
              {
                "opacity": 1,
                "target": "lithium_mining^*",
                "title": "Chile",
                "color": "#E31A1C",
                "value": 0.224157956,
                "source": "sources^Chile",
                "time": "*",
                "type": "Chile"
              },
              {
                "opacity": 1,
                "target": "copper_mining^*",
                "title": "Chile",
                "color": "#E31A1C",
                "value": 0.27989846,
                "source": "sources^Chile",
                "time": "*",
                "type": "Chile"
              },
              {
                "opacity": 1,
                "target": "nickel_mining^*",
                "title": "China",
                "color": "#FDBF6F",
                "value": 0.038733317,
                "source": "sources^China",
                "time": "*",
                "type": "China"
              },
              {
                "opacity": 1,
                "target": "manganese_mining^*",
                "title": "China",
                "color": "#FDBF6F",
                "value": 0.114864143,
                "source": "sources^China",
                "time": "*",
                "type": "China"
              },
              {
                "opacity": 1,
                "target": "lithium_mining^*",
                "title": "China",
                "color": "#FDBF6F",
                "value": 0.12543554,
                "source": "sources^China",
                "time": "*",
                "type": "China"
              },
              {
                "opacity": 1,
                "target": "graphite_pro^*",
                "title": "China  ",
                "color": "#FF7F00",
                "value": 0.618195435,
                "source": "sources^China",
                "time": "*",
                "type": "China  "
              },
              {
                "opacity": 1,
                "target": "aluminium_mining^*",
                "title": "China",
                "color": "#FDBF6F",
                "value": 0.178642215,
                "source": "sources^China",
                "time": "*",
                "type": "China"
              },
              {
                "opacity": 1,
                "target": "copper_mining^*",
                "title": "China",
                "color": "#FDBF6F",
                "value": 0.081429491,
                "source": "sources^China",
                "time": "*",
                "type": "China"
              },
              {
                "opacity": 1,
                "target": "cobalt_mining^*",
                "title": "Congo",
                "color": "#CAB2D6",
                "value": 0.633153586,
                "source": "sources^Congo",
                "time": "*",
                "type": "Congo"
              },
              {
                "opacity": 1,
                "target": "copper_mining^*",
                "title": "Congo, Democratic Republic",
                "color": "#6A3D9A",
                "value": 0.068694725,
                "source": "sources^Congo, Democratic Republic",
                "time": "*",
                "type": "Congo, Democratic Republic"
              },
              {
                "opacity": 1,
                "target": "cobalt_mining^*",
                "title": "Cuba",
                "color": "#FFFF99",
                "value": 0.04222973,
                "source": "sources^Cuba",
                "time": "*",
                "type": "Cuba"
              },
              {
                "opacity": 1,
                "target": "manganese_mining^*",
                "title": "Gabon",
                "color": "#B15928",
                "value": 0.126986728,
                "source": "sources^Gabon",
                "time": "*",
                "type": "Gabon"
              },
              {
                "opacity": 1,
                "target": "manganese_mining^*",
                "title": "Ghana",
                "color": "#A6CEE3",
                "value": 0.095125429,
                "source": "sources^Ghana",
                "time": "*",
                "type": "Ghana"
              },
              {
                "opacity": 1,
                "target": "nickel_mining^*",
                "title": "Guatemala",
                "color": "#1F78B4",
                "value": 0.020352069,
                "source": "sources^Guatemala",
                "time": "*",
                "type": "Guatemala"
              },
              {
                "opacity": 1,
                "target": "aluminium_mining^*",
                "title": "Guinea",
                "color": "#B2DF8A",
                "value": 0.202192232,
                "source": "sources^Guinea",
                "time": "*",
                "type": "Guinea"
              },
              {
                "opacity": 1,
                "target": "manganese_mining^*",
                "title": "India ",
                "color": "#33A02C",
                "value": 0.05223977,
                "source": "sources^India",
                "time": "*",
                "type": "India "
              },
              {
                "opacity": 1,
                "target": "graphite_pro^*",
                "title": "India  ",
                "color": "#FB9A99",
                "value": 0.029086978,
                "source": "sources^India",
                "time": "*",
                "type": "India  "
              },
              {
                "opacity": 1,
                "target": "aluminium_mining^*",
                "title": "India",
                "color": "#E31A1C",
                "value": 0.063600657,
                "source": "sources^India",
                "time": "*",
                "type": "India"
              },
              {
                "opacity": 1,
                "target": "nickel_mining^*",
                "title": "Indonesia",
                "color": "#FDBF6F",
                "value": 0.383432972,
                "source": "sources^Indonesia",
                "time": "*",
                "type": "Indonesia"
              },
              {
                "opacity": 1,
                "target": "aluminium_mining^*",
                "title": "Indonesia",
                "color": "#FDBF6F",
                "value": 0.047809091,
                "source": "sources^Indonesia",
                "time": "*",
                "type": "Indonesia"
              },
              {
                "opacity": 1,
                "target": "manganese_mining^*",
                "title": "Ivory Coast",
                "color": "#FF7F00",
                "value": 0.021205688,
                "source": "sources^Ivory Coast",
                "time": "*",
                "type": "Ivory Coast"
              },
              {
                "opacity": 1,
                "target": "aluminium_mining^*",
                "title": "Jamaica",
                "color": "#CAB2D6",
                "value": 0.025996148,
                "source": "sources^Jamaica",
                "time": "*",
                "type": "Jamaica"
              },
              {
                "opacity": 1,
                "target": "copper_mining^*",
                "title": "Kazakhstan",
                "color": "#6A3D9A",
                "value": 0.02940496,
                "source": "sources^Kazakhstan",
                "time": "*",
                "type": "Kazakhstan"
              },
              {
                "opacity": 1,
                "target": "graphite_pro^*",
                "title": "Korea, Dem. P.R. of",
                "color": "#FFFF99",
                "value": 0.035325453,
                "source": "sources^Korea, Dem. P.R. of",
                "time": "*",
                "type": "Korea, Dem. P.R. of"
              },
              {
                "opacity": 1,
                "target": "cobalt_mining^*",
                "title": "Madagascar",
                "color": "#B15928",
                "value": 0.023794828,
                "source": "sources^Madagascar",
                "time": "*",
                "type": "Madagascar"
              },
              {
                "opacity": 1,
                "target": "graphite_pro^*",
                "title": "Madagascar",
                "color": "#B15928",
                "value": 0.04715948,
                "source": "sources^Madagascar",
                "time": "*",
                "type": "Madagascar"
              },
              {
                "opacity": 1,
                "target": "manganese_mining^*",
                "title": "Malaysia",
                "color": "#A6CEE3",
                "value": 0.019981925,
                "source": "sources^Malaysia",
                "time": "*",
                "type": "Malaysia"
              },
              {
                "opacity": 1,
                "target": "copper_mining^*",
                "title": "Mexico",
                "color": "#1F78B4",
                "value": 0.03716932,
                "source": "sources^Mexico",
                "time": "*",
                "type": "Mexico"
              },
              {
                "opacity": 1,
                "target": "graphite_pro^*",
                "title": "Mozambique",
                "color": "#B2DF8A",
                "value": 0.100503564,
                "source": "sources^Mozambique",
                "time": "*",
                "type": "Mozambique"
              },
              {
                "opacity": 1,
                "target": "nickel_mining^*",
                "title": "New Caledonia",
                "color": "#33A02C",
                "value": 0.077541011,
                "source": "sources^New Caledonia",
                "time": "*",
                "type": "New Caledonia"
              },
              {
                "opacity": 1,
                "target": "cobalt_mining^*",
                "title": "Papua New Guinea",
                "color": "#FB9A99",
                "value": 0.023673012,
                "source": "sources^Papua New Guinea",
                "time": "*",
                "type": "Papua New Guinea"
              },
              {
                "opacity": 1,
                "target": "copper_mining^*",
                "title": "Peru",
                "color": "#E31A1C",
                "value": 0.118753477,
                "source": "sources^Peru",
                "time": "*",
                "type": "Peru"
              },
              {
                "opacity": 1,
                "target": "nickel_mining^*",
                "title": "Philippines",
                "color": "#FDBF6F",
                "value": 0.11964241,
                "source": "sources^Philippines",
                "time": "*",
                "type": "Philippines"
              },
              {
                "opacity": 1,
                "target": "cobalt_mining^*",
                "title": "Philippines",
                "color": "#FDBF6F",
                "value": 0.054411383,
                "source": "sources^Philippines",
                "time": "*",
                "type": "Philippines"
              },
              {
                "opacity": 1,
                "target": "copper_mining^*",
                "title": "Poland",
                "color": "#FF7F00",
                "value": 0.021715176,
                "source": "sources^Poland",
                "time": "*",
                "type": "Poland"
              },
              {
                "opacity": 1,
                "target": "nickel_mining^*",
                "title": "Russia",
                "color": "#CAB2D6",
                "value": 0.0836285,
                "source": "sources^Russia",
                "time": "*",
                "type": "Russia"
              },
              {
                "opacity": 1,
                "target": "cobalt_mining^*",
                "title": "Russia",
                "color": "#CAB2D6",
                "value": 0.04466606,
                "source": "sources^Russia",
                "time": "*",
                "type": "Russia"
              },
              {
                "opacity": 1,
                "target": "copper_mining^*",
                "title": "Russia",
                "color": "#CAB2D6",
                "value": 0.039348479,
                "source": "sources^Russia",
                "time": "*",
                "type": "Russia"
              },
              {
                "opacity": 1,
                "target": "manganese_mining^*",
                "title": "South Africa",
                "color": "#6A3D9A",
                "value": 0.300572089,
                "source": "sources^South Africa",
                "time": "*",
                "type": "South Africa"
              },
              {
                "opacity": 1,
                "target": "copper_mining^*",
                "title": "USA",
                "color": "#FFFF99",
                "value": 0.06093791,
                "source": "sources^USA",
                "time": "*",
                "type": "USA"
              },
              {
                "opacity": 1,
                "target": "manganese_mining^*",
                "title": "Ukraine",
                "color": "#B15928",
                "value": 0.032767029,
                "source": "sources^Ukraine",
                "time": "*",
                "type": "Ukraine"
              },
              {
                "opacity": 1,
                "target": "copper_mining^*",
                "title": "Zambia",
                "color": "#A6CEE3",
                "value": 0.038570698,
                "source": "sources^Zambia",
                "time": "*",
                "type": "Zambia"
              },
              {
                "opacity": 1,
                "target": "__aluminium_mining_aluminium_refining_2^*",
                "title": "Australia",
                "color": "#1F78B4",
                "value": 0.304106063,
                "source": "aluminium_mining^*",
                "time": "*",
                "type": "Australia"
              },
              {
                "opacity": 1,
                "target": "__aluminium_mining_aluminium_refining_2^*",
                "title": "Brazil",
                "color": "#B2DF8A",
                "value": 0.092023503,
                "source": "aluminium_mining^*",
                "time": "*",
                "type": "Brazil"
              },
              {
                "opacity": 1,
                "target": "__aluminium_mining_aluminium_refining_2^*",
                "title": "China",
                "color": "#FDBF6F",
                "value": 0.178642215,
                "source": "aluminium_mining^*",
                "time": "*",
                "type": "China"
              },
              {
                "opacity": 1,
                "target": "__aluminium_mining_aluminium_refining_2^*",
                "title": "Guinea",
                "color": "#B2DF8A",
                "value": 0.202192232,
                "source": "aluminium_mining^*",
                "time": "*",
                "type": "Guinea"
              },
              {
                "opacity": 1,
                "target": "__aluminium_mining_aluminium_refining_2^*",
                "title": "India",
                "color": "#E31A1C",
                "value": 0.063600657,
                "source": "aluminium_mining^*",
                "time": "*",
                "type": "India"
              },
              {
                "opacity": 1,
                "target": "__aluminium_mining_aluminium_refining_2^*",
                "title": "Indonesia",
                "color": "#FDBF6F",
                "value": 0.047809091,
                "source": "aluminium_mining^*",
                "time": "*",
                "type": "Indonesia"
              },
              {
                "opacity": 1,
                "target": "__aluminium_mining_aluminium_refining_2^*",
                "title": "Jamaica",
                "color": "#CAB2D6",
                "value": 0.025996148,
                "source": "aluminium_mining^*",
                "time": "*",
                "type": "Jamaica"
              },
              {
                "opacity": 1,
                "target": "__graphite_pro_graphite_2^*",
                "title": "Brazil  ",
                "color": "#33A02C",
                "value": 0.084781088,
                "source": "graphite_pro^*",
                "time": "*",
                "type": "Brazil  "
              },
              {
                "opacity": 1,
                "target": "__graphite_pro_graphite_2^*",
                "title": "China  ",
                "color": "#FF7F00",
                "value": 0.618195435,
                "source": "graphite_pro^*",
                "time": "*",
                "type": "China  "
              },
              {
                "opacity": 1,
                "target": "__graphite_pro_graphite_2^*",
                "title": "India  ",
                "color": "#FB9A99",
                "value": 0.029086978,
                "source": "graphite_pro^*",
                "time": "*",
                "type": "India  "
              },
              {
                "opacity": 1,
                "target": "__graphite_pro_graphite_2^*",
                "title": "Korea, Dem. P.R. of",
                "color": "#FFFF99",
                "value": 0.035325453,
                "source": "graphite_pro^*",
                "time": "*",
                "type": "Korea, Dem. P.R. of"
              },
              {
                "opacity": 1,
                "target": "__graphite_pro_graphite_2^*",
                "title": "Madagascar",
                "color": "#B15928",
                "value": 0.04715948,
                "source": "graphite_pro^*",
                "time": "*",
                "type": "Madagascar"
              },
              {
                "opacity": 1,
                "target": "__graphite_pro_graphite_2^*",
                "title": "Mozambique",
                "color": "#B2DF8A",
                "value": 0.100503564,
                "source": "graphite_pro^*",
                "time": "*",
                "type": "Mozambique"
              },
              {
                "opacity": 1,
                "target": "copper_smelting^*",
                "title": "Australia",
                "color": "#1F78B4",
                "value": 0.045174095,
                "source": "copper_mining^*",
                "time": "*",
                "type": "Australia"
              },
              {
                "opacity": 1,
                "target": "copper_smelting^*",
                "title": "Canada",
                "color": "#FB9A99",
                "value": 0.027121287,
                "source": "copper_mining^*",
                "time": "*",
                "type": "Canada"
              },
              {
                "opacity": 1,
                "target": "copper_smelting^*",
                "title": "Chile",
                "color": "#E31A1C",
                "value": 0.27989846,
                "source": "copper_mining^*",
                "time": "*",
                "type": "Chile"
              },
              {
                "opacity": 1,
                "target": "copper_smelting^*",
                "title": "China",
                "color": "#FDBF6F",
                "value": 0.081429491,
                "source": "copper_mining^*",
                "time": "*",
                "type": "China"
              },
              {
                "opacity": 1,
                "target": "copper_smelting^*",
                "title": "Congo, Democratic Republic",
                "color": "#6A3D9A",
                "value": 0.068694725,
                "source": "copper_mining^*",
                "time": "*",
                "type": "Congo, Democratic Republic"
              },
              {
                "opacity": 1,
                "target": "copper_smelting^*",
                "title": "Kazakhstan",
                "color": "#6A3D9A",
                "value": 0.02940496,
                "source": "copper_mining^*",
                "time": "*",
                "type": "Kazakhstan"
              },
              {
                "opacity": 1,
                "target": "copper_smelting^*",
                "title": "Mexico",
                "color": "#1F78B4",
                "value": 0.03716932,
                "source": "copper_mining^*",
                "time": "*",
                "type": "Mexico"
              },
              {
                "opacity": 1,
                "target": "copper_smelting^*",
                "title": "Peru",
                "color": "#E31A1C",
                "value": 0.118753477,
                "source": "copper_mining^*",
                "time": "*",
                "type": "Peru"
              },
              {
                "opacity": 1,
                "target": "copper_smelting^*",
                "title": "Poland",
                "color": "#FF7F00",
                "value": 0.021715176,
                "source": "copper_mining^*",
                "time": "*",
                "type": "Poland"
              },
              {
                "opacity": 1,
                "target": "copper_smelting^*",
                "title": "Russia",
                "color": "#CAB2D6",
                "value": 0.039348479,
                "source": "copper_mining^*",
                "time": "*",
                "type": "Russia"
              },
              {
                "opacity": 1,
                "target": "copper_smelting^*",
                "title": "USA",
                "color": "#FFFF99",
                "value": 0.06093791,
                "source": "copper_mining^*",
                "time": "*",
                "type": "USA"
              },
              {
                "opacity": 1,
                "target": "copper_smelting^*",
                "title": "Zambia",
                "color": "#A6CEE3",
                "value": 0.038570698,
                "source": "copper_mining^*",
                "time": "*",
                "type": "Zambia"
              },
              {
                "opacity": 1,
                "target": "__cobalt_mining_cobalt_refining_2^*",
                "title": "Australia",
                "color": "#1F78B4",
                "value": 0.046233433,
                "source": "cobalt_mining^*",
                "time": "*",
                "type": "Australia"
              },
              {
                "opacity": 1,
                "target": "__cobalt_mining_cobalt_refining_2^*",
                "title": "Canada",
                "color": "#FB9A99",
                "value": 0.041677495,
                "source": "cobalt_mining^*",
                "time": "*",
                "type": "Canada"
              },
              {
                "opacity": 1,
                "target": "__cobalt_mining_cobalt_refining_2^*",
                "title": "Congo",
                "color": "#CAB2D6",
                "value": 0.633153586,
                "source": "cobalt_mining^*",
                "time": "*",
                "type": "Congo"
              },
              {
                "opacity": 1,
                "target": "__cobalt_mining_cobalt_refining_2^*",
                "title": "Cuba",
                "color": "#FFFF99",
                "value": 0.04222973,
                "source": "cobalt_mining^*",
                "time": "*",
                "type": "Cuba"
              },
              {
                "opacity": 1,
                "target": "__cobalt_mining_cobalt_refining_2^*",
                "title": "Madagascar",
                "color": "#B15928",
                "value": 0.023794828,
                "source": "cobalt_mining^*",
                "time": "*",
                "type": "Madagascar"
              },
              {
                "opacity": 1,
                "target": "__cobalt_mining_cobalt_refining_2^*",
                "title": "Papua New Guinea",
                "color": "#FB9A99",
                "value": 0.023673012,
                "source": "cobalt_mining^*",
                "time": "*",
                "type": "Papua New Guinea"
              },
              {
                "opacity": 1,
                "target": "__cobalt_mining_cobalt_refining_2^*",
                "title": "Philippines",
                "color": "#FDBF6F",
                "value": 0.054411383,
                "source": "cobalt_mining^*",
                "time": "*",
                "type": "Philippines"
              },
              {
                "opacity": 1,
                "target": "__cobalt_mining_cobalt_refining_2^*",
                "title": "Russia",
                "color": "#CAB2D6",
                "value": 0.04466606,
                "source": "cobalt_mining^*",
                "time": "*",
                "type": "Russia"
              },
              {
                "opacity": 1,
                "target": "__lithium_mining_lithium_refining_2^*",
                "title": "Argentina",
                "color": "#A6CEE3",
                "value": 0.073170732,
                "source": "lithium_mining^*",
                "time": "*",
                "type": "Argentina"
              },
              {
                "opacity": 1,
                "target": "__lithium_mining_lithium_refining_2^*",
                "title": "Australia",
                "color": "#1F78B4",
                "value": 0.522648084,
                "source": "lithium_mining^*",
                "time": "*",
                "type": "Australia"
              },
              {
                "opacity": 1,
                "target": "__lithium_mining_lithium_refining_2^*",
                "title": "Brazil",
                "color": "#B2DF8A",
                "value": 0.027874564,
                "source": "lithium_mining^*",
                "time": "*",
                "type": "Brazil"
              },
              {
                "opacity": 1,
                "target": "__lithium_mining_lithium_refining_2^*",
                "title": "Chile",
                "color": "#E31A1C",
                "value": 0.224157956,
                "source": "lithium_mining^*",
                "time": "*",
                "type": "Chile"
              },
              {
                "opacity": 1,
                "target": "__lithium_mining_lithium_refining_2^*",
                "title": "China",
                "color": "#FDBF6F",
                "value": 0.12543554,
                "source": "lithium_mining^*",
                "time": "*",
                "type": "China"
              },
              {
                "opacity": 1,
                "target": "__manganese_mining_manganese_refining_2^*",
                "title": "Australia",
                "color": "#1F78B4",
                "value": 0.117504816,
                "source": "manganese_mining^*",
                "time": "*",
                "type": "Australia"
              },
              {
                "opacity": 1,
                "target": "__manganese_mining_manganese_refining_2^*",
                "title": "Brazil",
                "color": "#B2DF8A",
                "value": 0.056548501,
                "source": "manganese_mining^*",
                "time": "*",
                "type": "Brazil"
              },
              {
                "opacity": 1,
                "target": "__manganese_mining_manganese_refining_2^*",
                "title": "China",
                "color": "#FDBF6F",
                "value": 0.114864143,
                "source": "manganese_mining^*",
                "time": "*",
                "type": "China"
              },
              {
                "opacity": 1,
                "target": "__manganese_mining_manganese_refining_2^*",
                "title": "Gabon",
                "color": "#B15928",
                "value": 0.126986728,
                "source": "manganese_mining^*",
                "time": "*",
                "type": "Gabon"
              },
              {
                "opacity": 1,
                "target": "__manganese_mining_manganese_refining_2^*",
                "title": "Ghana",
                "color": "#A6CEE3",
                "value": 0.095125429,
                "source": "manganese_mining^*",
                "time": "*",
                "type": "Ghana"
              },
              {
                "opacity": 1,
                "target": "__manganese_mining_manganese_refining_2^*",
                "title": "India ",
                "color": "#33A02C",
                "value": 0.05223977,
                "source": "manganese_mining^*",
                "time": "*",
                "type": "India "
              },
              {
                "opacity": 1,
                "target": "__manganese_mining_manganese_refining_2^*",
                "title": "Ivory Coast",
                "color": "#FF7F00",
                "value": 0.021205688,
                "source": "manganese_mining^*",
                "time": "*",
                "type": "Ivory Coast"
              },
              {
                "opacity": 1,
                "target": "__manganese_mining_manganese_refining_2^*",
                "title": "Malaysia",
                "color": "#A6CEE3",
                "value": 0.019981925,
                "source": "manganese_mining^*",
                "time": "*",
                "type": "Malaysia"
              },
              {
                "opacity": 1,
                "target": "__manganese_mining_manganese_refining_2^*",
                "title": "South Africa",
                "color": "#6A3D9A",
                "value": 0.300572089,
                "source": "manganese_mining^*",
                "time": "*",
                "type": "South Africa"
              },
              {
                "opacity": 1,
                "target": "__manganese_mining_manganese_refining_2^*",
                "title": "Ukraine",
                "color": "#B15928",
                "value": 0.032767029,
                "source": "manganese_mining^*",
                "time": "*",
                "type": "Ukraine"
              },
              {
                "opacity": 1,
                "target": "__nickel_mining_nickel_refining_2^*",
                "title": "Australia",
                "color": "#1F78B4",
                "value": 0.058743841,
                "source": "nickel_mining^*",
                "time": "*",
                "type": "Australia"
              },
              {
                "opacity": 1,
                "target": "__nickel_mining_nickel_refining_2^*",
                "title": "Brazil",
                "color": "#B2DF8A",
                "value": 0.020611095,
                "source": "nickel_mining^*",
                "time": "*",
                "type": "Brazil"
              },
              {
                "opacity": 1,
                "target": "__nickel_mining_nickel_refining_2^*",
                "title": "Canada",
                "color": "#FB9A99",
                "value": 0.066941284,
                "source": "nickel_mining^*",
                "time": "*",
                "type": "Canada"
              },
              {
                "opacity": 1,
                "target": "__nickel_mining_nickel_refining_2^*",
                "title": "China",
                "color": "#FDBF6F",
                "value": 0.038733317,
                "source": "nickel_mining^*",
                "time": "*",
                "type": "China"
              },
              {
                "opacity": 1,
                "target": "__nickel_mining_nickel_refining_2^*",
                "title": "Guatemala",
                "color": "#1F78B4",
                "value": 0.020352069,
                "source": "nickel_mining^*",
                "time": "*",
                "type": "Guatemala"
              },
              {
                "opacity": 1,
                "target": "__nickel_mining_nickel_refining_2^*",
                "title": "Indonesia",
                "color": "#FDBF6F",
                "value": 0.383432972,
                "source": "nickel_mining^*",
                "time": "*",
                "type": "Indonesia"
              },
              {
                "opacity": 1,
                "target": "__nickel_mining_nickel_refining_2^*",
                "title": "New Caledonia",
                "color": "#33A02C",
                "value": 0.077541011,
                "source": "nickel_mining^*",
                "time": "*",
                "type": "New Caledonia"
              },
              {
                "opacity": 1,
                "target": "__nickel_mining_nickel_refining_2^*",
                "title": "Philippines",
                "color": "#FDBF6F",
                "value": 0.11964241,
                "source": "nickel_mining^*",
                "time": "*",
                "type": "Philippines"
              },
              {
                "opacity": 1,
                "target": "__nickel_mining_nickel_refining_2^*",
                "title": "Russia",
                "color": "#CAB2D6",
                "value": 0.0836285,
                "source": "nickel_mining^*",
                "time": "*",
                "type": "Russia"
              },
              {
                "opacity": 1,
                "target": "aluminium_refining^*",
                "title": "Australia",
                "color": "#1F78B4",
                "value": 0.304106063,
                "source": "__aluminium_mining_aluminium_refining_2^*",
                "time": "*",
                "type": "Australia"
              },
              {
                "opacity": 1,
                "target": "aluminium_refining^*",
                "title": "Brazil",
                "color": "#B2DF8A",
                "value": 0.092023503,
                "source": "__aluminium_mining_aluminium_refining_2^*",
                "time": "*",
                "type": "Brazil"
              },
              {
                "opacity": 1,
                "target": "aluminium_refining^*",
                "title": "China",
                "color": "#FDBF6F",
                "value": 0.178642215,
                "source": "__aluminium_mining_aluminium_refining_2^*",
                "time": "*",
                "type": "China"
              },
              {
                "opacity": 1,
                "target": "aluminium_refining^*",
                "title": "Guinea",
                "color": "#B2DF8A",
                "value": 0.202192232,
                "source": "__aluminium_mining_aluminium_refining_2^*",
                "time": "*",
                "type": "Guinea"
              },
              {
                "opacity": 1,
                "target": "aluminium_refining^*",
                "title": "India",
                "color": "#E31A1C",
                "value": 0.063600657,
                "source": "__aluminium_mining_aluminium_refining_2^*",
                "time": "*",
                "type": "India"
              },
              {
                "opacity": 1,
                "target": "aluminium_refining^*",
                "title": "Indonesia",
                "color": "#FDBF6F",
                "value": 0.047809091,
                "source": "__aluminium_mining_aluminium_refining_2^*",
                "time": "*",
                "type": "Indonesia"
              },
              {
                "opacity": 1,
                "target": "aluminium_refining^*",
                "title": "Jamaica",
                "color": "#CAB2D6",
                "value": 0.025996148,
                "source": "__aluminium_mining_aluminium_refining_2^*",
                "time": "*",
                "type": "Jamaica"
              },
              {
                "opacity": 1,
                "target": "__graphite_pro_graphite_3^*",
                "title": "Brazil  ",
                "color": "#33A02C",
                "value": 0.084781088,
                "source": "__graphite_pro_graphite_2^*",
                "time": "*",
                "type": "Brazil  "
              },
              {
                "opacity": 1,
                "target": "__graphite_pro_graphite_3^*",
                "title": "China  ",
                "color": "#FF7F00",
                "value": 0.618195435,
                "source": "__graphite_pro_graphite_2^*",
                "time": "*",
                "type": "China  "
              },
              {
                "opacity": 1,
                "target": "__graphite_pro_graphite_3^*",
                "title": "India  ",
                "color": "#FB9A99",
                "value": 0.029086978,
                "source": "__graphite_pro_graphite_2^*",
                "time": "*",
                "type": "India  "
              },
              {
                "opacity": 1,
                "target": "__graphite_pro_graphite_3^*",
                "title": "Korea, Dem. P.R. of",
                "color": "#FFFF99",
                "value": 0.035325453,
                "source": "__graphite_pro_graphite_2^*",
                "time": "*",
                "type": "Korea, Dem. P.R. of"
              },
              {
                "opacity": 1,
                "target": "__graphite_pro_graphite_3^*",
                "title": "Madagascar",
                "color": "#B15928",
                "value": 0.04715948,
                "source": "__graphite_pro_graphite_2^*",
                "time": "*",
                "type": "Madagascar"
              },
              {
                "opacity": 1,
                "target": "__graphite_pro_graphite_3^*",
                "title": "Mozambique",
                "color": "#B2DF8A",
                "value": 0.100503564,
                "source": "__graphite_pro_graphite_2^*",
                "time": "*",
                "type": "Mozambique"
              },
              {
                "opacity": 1,
                "target": "copper_refining^*",
                "title": "Australia",
                "color": "#1F78B4",
                "value": 0.024612204,
                "source": "copper_smelting^*",
                "time": "*",
                "type": "Australia"
              },
              {
                "opacity": 1,
                "target": "copper_refining^*",
                "title": "Chile",
                "color": "#E31A1C",
                "value": 0.062021647,
                "source": "copper_smelting^*",
                "time": "*",
                "type": "Chile"
              },
              {
                "opacity": 1,
                "target": "copper_refining^*",
                "title": "China",
                "color": "#FDBF6F",
                "value": 0.434415267,
                "source": "copper_smelting^*",
                "time": "*",
                "type": "China"
              },
              {
                "opacity": 1,
                "target": "copper_refining^*",
                "title": "India",
                "color": "#E31A1C",
                "value": 0.020994867,
                "source": "copper_smelting^*",
                "time": "*",
                "type": "India"
              },
              {
                "opacity": 1,
                "target": "copper_refining^*",
                "title": "Japan",
                "color": "#1F78B4",
                "value": 0.071740988,
                "source": "copper_smelting^*",
                "time": "*",
                "type": "Japan"
              },
              {
                "opacity": 1,
                "target": "copper_refining^*",
                "title": "Korea (Rep. of)",
                "color": "#B2DF8A",
                "value": 0.031894043,
                "source": "copper_smelting^*",
                "time": "*",
                "type": "Korea (Rep. of)"
              },
              {
                "opacity": 1,
                "target": "copper_refining^*",
                "title": "Poland",
                "color": "#FF7F00",
                "value": 0.03000751,
                "source": "copper_smelting^*",
                "time": "*",
                "type": "Poland"
              },
              {
                "opacity": 1,
                "target": "copper_refining^*",
                "title": "Russia",
                "color": "#CAB2D6",
                "value": 0.048485079,
                "source": "copper_smelting^*",
                "time": "*",
                "type": "Russia"
              },
              {
                "opacity": 1,
                "target": "copper_refining^*",
                "title": "USA",
                "color": "#FFFF99",
                "value": 0.028581969,
                "source": "copper_smelting^*",
                "time": "*",
                "type": "USA"
              },
              {
                "opacity": 1,
                "target": "copper_refining^*",
                "title": "Zambia  (a)",
                "color": "#33A02C",
                "value": 0.039162205,
                "source": "copper_smelting^*",
                "time": "*",
                "type": "Zambia  (a)"
              },
              {
                "opacity": 1,
                "target": "cobalt_refining^*",
                "title": "Australia",
                "color": "#1F78B4",
                "value": 0.046233433,
                "source": "__cobalt_mining_cobalt_refining_2^*",
                "time": "*",
                "type": "Australia"
              },
              {
                "opacity": 1,
                "target": "cobalt_refining^*",
                "title": "Canada",
                "color": "#FB9A99",
                "value": 0.041677495,
                "source": "__cobalt_mining_cobalt_refining_2^*",
                "time": "*",
                "type": "Canada"
              },
              {
                "opacity": 1,
                "target": "cobalt_refining^*",
                "title": "Congo",
                "color": "#CAB2D6",
                "value": 0.633153586,
                "source": "__cobalt_mining_cobalt_refining_2^*",
                "time": "*",
                "type": "Congo"
              },
              {
                "opacity": 1,
                "target": "cobalt_refining^*",
                "title": "Cuba",
                "color": "#FFFF99",
                "value": 0.04222973,
                "source": "__cobalt_mining_cobalt_refining_2^*",
                "time": "*",
                "type": "Cuba"
              },
              {
                "opacity": 1,
                "target": "cobalt_refining^*",
                "title": "Madagascar",
                "color": "#B15928",
                "value": 0.023794828,
                "source": "__cobalt_mining_cobalt_refining_2^*",
                "time": "*",
                "type": "Madagascar"
              },
              {
                "opacity": 1,
                "target": "cobalt_refining^*",
                "title": "Papua New Guinea",
                "color": "#FB9A99",
                "value": 0.023673012,
                "source": "__cobalt_mining_cobalt_refining_2^*",
                "time": "*",
                "type": "Papua New Guinea"
              },
              {
                "opacity": 1,
                "target": "cobalt_refining^*",
                "title": "Philippines",
                "color": "#FDBF6F",
                "value": 0.054411383,
                "source": "__cobalt_mining_cobalt_refining_2^*",
                "time": "*",
                "type": "Philippines"
              },
              {
                "opacity": 1,
                "target": "cobalt_refining^*",
                "title": "Russia",
                "color": "#CAB2D6",
                "value": 0.04466606,
                "source": "__cobalt_mining_cobalt_refining_2^*",
                "time": "*",
                "type": "Russia"
              },
              {
                "opacity": 1,
                "target": "lithium_refining^*",
                "title": "Argentina",
                "color": "#A6CEE3",
                "value": 0.073170732,
                "source": "__lithium_mining_lithium_refining_2^*",
                "time": "*",
                "type": "Argentina"
              },
              {
                "opacity": 1,
                "target": "lithium_refining^*",
                "title": "Australia",
                "color": "#1F78B4",
                "value": 0.522648084,
                "source": "__lithium_mining_lithium_refining_2^*",
                "time": "*",
                "type": "Australia"
              },
              {
                "opacity": 1,
                "target": "lithium_refining^*",
                "title": "Brazil",
                "color": "#B2DF8A",
                "value": 0.027874564,
                "source": "__lithium_mining_lithium_refining_2^*",
                "time": "*",
                "type": "Brazil"
              },
              {
                "opacity": 1,
                "target": "lithium_refining^*",
                "title": "Chile",
                "color": "#E31A1C",
                "value": 0.224157956,
                "source": "__lithium_mining_lithium_refining_2^*",
                "time": "*",
                "type": "Chile"
              },
              {
                "opacity": 1,
                "target": "lithium_refining^*",
                "title": "China",
                "color": "#FDBF6F",
                "value": 0.12543554,
                "source": "__lithium_mining_lithium_refining_2^*",
                "time": "*",
                "type": "China"
              },
              {
                "opacity": 1,
                "target": "manganese_refining^*",
                "title": "Australia",
                "color": "#1F78B4",
                "value": 0.117504816,
                "source": "__manganese_mining_manganese_refining_2^*",
                "time": "*",
                "type": "Australia"
              },
              {
                "opacity": 1,
                "target": "manganese_refining^*",
                "title": "Brazil",
                "color": "#B2DF8A",
                "value": 0.056548501,
                "source": "__manganese_mining_manganese_refining_2^*",
                "time": "*",
                "type": "Brazil"
              },
              {
                "opacity": 1,
                "target": "manganese_refining^*",
                "title": "China",
                "color": "#FDBF6F",
                "value": 0.114864143,
                "source": "__manganese_mining_manganese_refining_2^*",
                "time": "*",
                "type": "China"
              },
              {
                "opacity": 1,
                "target": "manganese_refining^*",
                "title": "Gabon",
                "color": "#B15928",
                "value": 0.126986728,
                "source": "__manganese_mining_manganese_refining_2^*",
                "time": "*",
                "type": "Gabon"
              },
              {
                "opacity": 1,
                "target": "manganese_refining^*",
                "title": "Ghana",
                "color": "#A6CEE3",
                "value": 0.095125429,
                "source": "__manganese_mining_manganese_refining_2^*",
                "time": "*",
                "type": "Ghana"
              },
              {
                "opacity": 1,
                "target": "manganese_refining^*",
                "title": "India ",
                "color": "#33A02C",
                "value": 0.05223977,
                "source": "__manganese_mining_manganese_refining_2^*",
                "time": "*",
                "type": "India "
              },
              {
                "opacity": 1,
                "target": "manganese_refining^*",
                "title": "Ivory Coast",
                "color": "#FF7F00",
                "value": 0.021205688,
                "source": "__manganese_mining_manganese_refining_2^*",
                "time": "*",
                "type": "Ivory Coast"
              },
              {
                "opacity": 1,
                "target": "manganese_refining^*",
                "title": "Malaysia",
                "color": "#A6CEE3",
                "value": 0.019981925,
                "source": "__manganese_mining_manganese_refining_2^*",
                "time": "*",
                "type": "Malaysia"
              },
              {
                "opacity": 1,
                "target": "manganese_refining^*",
                "title": "South Africa",
                "color": "#6A3D9A",
                "value": 0.300572089,
                "source": "__manganese_mining_manganese_refining_2^*",
                "time": "*",
                "type": "South Africa"
              },
              {
                "opacity": 1,
                "target": "manganese_refining^*",
                "title": "Ukraine",
                "color": "#B15928",
                "value": 0.032767029,
                "source": "__manganese_mining_manganese_refining_2^*",
                "time": "*",
                "type": "Ukraine"
              },
              {
                "opacity": 1,
                "target": "nickel_refining^*",
                "title": "Australia",
                "color": "#1F78B4",
                "value": 0.058743841,
                "source": "__nickel_mining_nickel_refining_2^*",
                "time": "*",
                "type": "Australia"
              },
              {
                "opacity": 1,
                "target": "nickel_refining^*",
                "title": "Brazil",
                "color": "#B2DF8A",
                "value": 0.020611095,
                "source": "__nickel_mining_nickel_refining_2^*",
                "time": "*",
                "type": "Brazil"
              },
              {
                "opacity": 1,
                "target": "nickel_refining^*",
                "title": "Canada",
                "color": "#FB9A99",
                "value": 0.066941284,
                "source": "__nickel_mining_nickel_refining_2^*",
                "time": "*",
                "type": "Canada"
              },
              {
                "opacity": 1,
                "target": "nickel_refining^*",
                "title": "China",
                "color": "#FDBF6F",
                "value": 0.038733317,
                "source": "__nickel_mining_nickel_refining_2^*",
                "time": "*",
                "type": "China"
              },
              {
                "opacity": 1,
                "target": "nickel_refining^*",
                "title": "Guatemala",
                "color": "#1F78B4",
                "value": 0.020352069,
                "source": "__nickel_mining_nickel_refining_2^*",
                "time": "*",
                "type": "Guatemala"
              },
              {
                "opacity": 1,
                "target": "nickel_refining^*",
                "title": "Indonesia",
                "color": "#FDBF6F",
                "value": 0.383432972,
                "source": "__nickel_mining_nickel_refining_2^*",
                "time": "*",
                "type": "Indonesia"
              },
              {
                "opacity": 1,
                "target": "nickel_refining^*",
                "title": "New Caledonia",
                "color": "#33A02C",
                "value": 0.077541011,
                "source": "__nickel_mining_nickel_refining_2^*",
                "time": "*",
                "type": "New Caledonia"
              },
              {
                "opacity": 1,
                "target": "nickel_refining^*",
                "title": "Philippines",
                "color": "#FDBF6F",
                "value": 0.11964241,
                "source": "__nickel_mining_nickel_refining_2^*",
                "time": "*",
                "type": "Philippines"
              },
              {
                "opacity": 1,
                "target": "nickel_refining^*",
                "title": "Russia",
                "color": "#CAB2D6",
                "value": 0.0836285,
                "source": "__nickel_mining_nickel_refining_2^*",
                "time": "*",
                "type": "Russia"
              },
              {
                "opacity": 1,
                "target": "aluminium_primary^*",
                "title": "Australia",
                "color": "#1F78B4",
                "value": 0.154306624,
                "source": "aluminium_refining^*",
                "time": "*",
                "type": "Australia"
              },
              {
                "opacity": 1,
                "target": "aluminium_primary^*",
                "title": "Brazil",
                "color": "#B2DF8A",
                "value": 0.069919529,
                "source": "aluminium_refining^*",
                "time": "*",
                "type": "Brazil"
              },
              {
                "opacity": 1,
                "target": "aluminium_primary^*",
                "title": "China",
                "color": "#FDBF6F",
                "value": 0.544929561,
                "source": "aluminium_refining^*",
                "time": "*",
                "type": "China"
              },
              {
                "opacity": 1,
                "target": "aluminium_primary^*",
                "title": "India",
                "color": "#E31A1C",
                "value": 0.051131343,
                "source": "aluminium_refining^*",
                "time": "*",
                "type": "India"
              },
              {
                "opacity": 1,
                "target": "aluminium_primary^*",
                "title": "Russia",
                "color": "#CAB2D6",
                "value": 0.021004525,
                "source": "aluminium_refining^*",
                "time": "*",
                "type": "Russia"
              },
              {
                "opacity": 1,
                "target": "__graphite_pro_graphite_4^*",
                "title": "Brazil  ",
                "color": "#33A02C",
                "value": 0.084781088,
                "source": "__graphite_pro_graphite_3^*",
                "time": "*",
                "type": "Brazil  "
              },
              {
                "opacity": 1,
                "target": "__graphite_pro_graphite_4^*",
                "title": "China  ",
                "color": "#FF7F00",
                "value": 0.618195435,
                "source": "__graphite_pro_graphite_3^*",
                "time": "*",
                "type": "China  "
              },
              {
                "opacity": 1,
                "target": "__graphite_pro_graphite_4^*",
                "title": "India  ",
                "color": "#FB9A99",
                "value": 0.029086978,
                "source": "__graphite_pro_graphite_3^*",
                "time": "*",
                "type": "India  "
              },
              {
                "opacity": 1,
                "target": "__graphite_pro_graphite_4^*",
                "title": "Korea, Dem. P.R. of",
                "color": "#FFFF99",
                "value": 0.035325453,
                "source": "__graphite_pro_graphite_3^*",
                "time": "*",
                "type": "Korea, Dem. P.R. of"
              },
              {
                "opacity": 1,
                "target": "__graphite_pro_graphite_4^*",
                "title": "Madagascar",
                "color": "#B15928",
                "value": 0.04715948,
                "source": "__graphite_pro_graphite_3^*",
                "time": "*",
                "type": "Madagascar"
              },
              {
                "opacity": 1,
                "target": "__graphite_pro_graphite_4^*",
                "title": "Mozambique",
                "color": "#B2DF8A",
                "value": 0.100503564,
                "source": "__graphite_pro_graphite_3^*",
                "time": "*",
                "type": "Mozambique"
              },
              {
                "opacity": 1,
                "target": "__copper_refining_copper_4^*",
                "title": "Australia",
                "color": "#1F78B4",
                "value": 0.024612204,
                "source": "copper_refining^*",
                "time": "*",
                "type": "Australia"
              },
              {
                "opacity": 1,
                "target": "__copper_refining_copper_4^*",
                "title": "Chile",
                "color": "#E31A1C",
                "value": 0.062021647,
                "source": "copper_refining^*",
                "time": "*",
                "type": "Chile"
              },
              {
                "opacity": 1,
                "target": "__copper_refining_copper_4^*",
                "title": "China",
                "color": "#FDBF6F",
                "value": 0.434415267,
                "source": "copper_refining^*",
                "time": "*",
                "type": "China"
              },
              {
                "opacity": 1,
                "target": "__copper_refining_copper_4^*",
                "title": "India",
                "color": "#E31A1C",
                "value": 0.020994867,
                "source": "copper_refining^*",
                "time": "*",
                "type": "India"
              },
              {
                "opacity": 1,
                "target": "__copper_refining_copper_4^*",
                "title": "Japan",
                "color": "#1F78B4",
                "value": 0.071740988,
                "source": "copper_refining^*",
                "time": "*",
                "type": "Japan"
              },
              {
                "opacity": 1,
                "target": "__copper_refining_copper_4^*",
                "title": "Korea (Rep. of)",
                "color": "#B2DF8A",
                "value": 0.031894043,
                "source": "copper_refining^*",
                "time": "*",
                "type": "Korea (Rep. of)"
              },
              {
                "opacity": 1,
                "target": "__copper_refining_copper_4^*",
                "title": "Poland",
                "color": "#FF7F00",
                "value": 0.03000751,
                "source": "copper_refining^*",
                "time": "*",
                "type": "Poland"
              },
              {
                "opacity": 1,
                "target": "__copper_refining_copper_4^*",
                "title": "Russia",
                "color": "#CAB2D6",
                "value": 0.048485079,
                "source": "copper_refining^*",
                "time": "*",
                "type": "Russia"
              },
              {
                "opacity": 1,
                "target": "__copper_refining_copper_4^*",
                "title": "USA",
                "color": "#FFFF99",
                "value": 0.028581969,
                "source": "copper_refining^*",
                "time": "*",
                "type": "USA"
              },
              {
                "opacity": 1,
                "target": "__copper_refining_copper_4^*",
                "title": "Zambia  (a)",
                "color": "#33A02C",
                "value": 0.039162205,
                "source": "copper_refining^*",
                "time": "*",
                "type": "Zambia  (a)"
              },
              {
                "opacity": 1,
                "target": "cobalt^*",
                "title": "Australia",
                "color": "#1F78B4",
                "value": 0.027227905,
                "source": "cobalt_refining^*",
                "time": "*",
                "type": "Australia"
              },
              {
                "opacity": 1,
                "target": "cobalt^*",
                "title": "Belgium",
                "color": "#FB9A99",
                "value": 0.047832806,
                "source": "cobalt_refining^*",
                "time": "*",
                "type": "Belgium"
              },
              {
                "opacity": 1,
                "target": "cobalt^*",
                "title": "Canada",
                "color": "#FB9A99",
                "value": 0.044705276,
                "source": "cobalt_refining^*",
                "time": "*",
                "type": "Canada"
              },
              {
                "opacity": 1,
                "target": "cobalt^*",
                "title": "China",
                "color": "#FDBF6F",
                "value": 0.632864817,
                "source": "cobalt_refining^*",
                "time": "*",
                "type": "China"
              },
              {
                "opacity": 1,
                "target": "cobalt^*",
                "title": "Finland",
                "color": "#E31A1C",
                "value": 0.092177497,
                "source": "cobalt_refining^*",
                "time": "*",
                "type": "Finland"
              },
              {
                "opacity": 1,
                "target": "cobalt^*",
                "title": "Japan",
                "color": "#1F78B4",
                "value": 0.04341747,
                "source": "cobalt_refining^*",
                "time": "*",
                "type": "Japan"
              },
              {
                "opacity": 1,
                "target": "cobalt^*",
                "title": "Madagascar",
                "color": "#B15928",
                "value": 0.02134079,
                "source": "cobalt_refining^*",
                "time": "*",
                "type": "Madagascar"
              },
              {
                "opacity": 1,
                "target": "cobalt^*",
                "title": "Norway",
                "color": "#FDBF6F",
                "value": 0.032040621,
                "source": "cobalt_refining^*",
                "time": "*",
                "type": "Norway"
              },
              {
                "opacity": 1,
                "target": "lithium^*",
                "title": "Argentina",
                "color": "#A6CEE3",
                "value": 0.113855593,
                "source": "lithium_refining^*",
                "time": "*",
                "type": "Argentina"
              },
              {
                "opacity": 1,
                "target": "lithium^*",
                "title": "Australia",
                "color": "#1F78B4",
                "value": 0.184414434,
                "source": "lithium_refining^*",
                "time": "*",
                "type": "Australia"
              },
              {
                "opacity": 1,
                "target": "lithium^*",
                "title": "Chile",
                "color": "#E31A1C",
                "value": 0.310857396,
                "source": "lithium_refining^*",
                "time": "*",
                "type": "Chile"
              },
              {
                "opacity": 1,
                "target": "lithium^*",
                "title": "China",
                "color": "#FDBF6F",
                "value": 0.342547203,
                "source": "lithium_refining^*",
                "time": "*",
                "type": "China"
              },
              {
                "opacity": 1,
                "target": "lithium^*",
                "title": "USA",
                "color": "#FFFF99",
                "value": 0.035674753,
                "source": "lithium_refining^*",
                "time": "*",
                "type": "USA"
              },
              {
                "opacity": 1,
                "target": "manganese^*",
                "title": "China",
                "color": "#FDBF6F",
                "value": 0.568617685,
                "source": "manganese_refining^*",
                "time": "*",
                "type": "China"
              },
              {
                "opacity": 1,
                "target": "manganese^*",
                "title": "Gabon",
                "color": "#B15928",
                "value": 0.02736654,
                "source": "manganese_refining^*",
                "time": "*",
                "type": "Gabon"
              },
              {
                "opacity": 1,
                "target": "manganese^*",
                "title": "India",
                "color": "#E31A1C",
                "value": 0.092332405,
                "source": "manganese_refining^*",
                "time": "*",
                "type": "India"
              },
              {
                "opacity": 1,
                "target": "manganese^*",
                "title": "Japan",
                "color": "#1F78B4",
                "value": 0.036131113,
                "source": "manganese_refining^*",
                "time": "*",
                "type": "Japan"
              },
              {
                "opacity": 1,
                "target": "manganese^*",
                "title": "Korea",
                "color": "#FF7F00",
                "value": 0.031459786,
                "source": "manganese_refining^*",
                "time": "*",
                "type": "Korea"
              },
              {
                "opacity": 1,
                "target": "manganese^*",
                "title": "Russia",
                "color": "#CAB2D6",
                "value": 0.026057489,
                "source": "manganese_refining^*",
                "time": "*",
                "type": "Russia"
              },
              {
                "opacity": 1,
                "target": "manganese^*",
                "title": "South Africa",
                "color": "#6A3D9A",
                "value": 0.048102513,
                "source": "manganese_refining^*",
                "time": "*",
                "type": "South Africa"
              },
              {
                "opacity": 1,
                "target": "nickel^*",
                "title": "Australia",
                "color": "#1F78B4",
                "value": 0.042729606,
                "source": "nickel_refining^*",
                "time": "*",
                "type": "Australia"
              },
              {
                "opacity": 1,
                "target": "nickel^*",
                "title": "Brazil",
                "color": "#B2DF8A",
                "value": 0.021792219,
                "source": "nickel_refining^*",
                "time": "*",
                "type": "Brazil"
              },
              {
                "opacity": 1,
                "target": "nickel^*",
                "title": "Canada",
                "color": "#FB9A99",
                "value": 0.0500603,
                "source": "nickel_refining^*",
                "time": "*",
                "type": "Canada"
              },
              {
                "opacity": 1,
                "target": "nickel^*",
                "title": "China",
                "color": "#FDBF6F",
                "value": 0.323471986,
                "source": "nickel_refining^*",
                "time": "*",
                "type": "China"
              },
              {
                "opacity": 1,
                "target": "nickel^*",
                "title": "Finland",
                "color": "#E31A1C",
                "value": 0.036180302,
                "source": "nickel_refining^*",
                "time": "*",
                "type": "Finland"
              },
              {
                "opacity": 1,
                "target": "nickel^*",
                "title": "Indonesia",
                "color": "#FDBF6F",
                "value": 0.164143973,
                "source": "nickel_refining^*",
                "time": "*",
                "type": "Indonesia"
              },
              {
                "opacity": 1,
                "target": "nickel^*",
                "title": "Japan",
                "color": "#1F78B4",
                "value": 0.073322992,
                "source": "nickel_refining^*",
                "time": "*",
                "type": "Japan"
              },
              {
                "opacity": 1,
                "target": "nickel^*",
                "title": "New Caledonia",
                "color": "#33A02C",
                "value": 0.035285336,
                "source": "nickel_refining^*",
                "time": "*",
                "type": "New Caledonia"
              },
              {
                "opacity": 1,
                "target": "nickel^*",
                "title": "Norway",
                "color": "#FDBF6F",
                "value": 0.036975336,
                "source": "nickel_refining^*",
                "time": "*",
                "type": "Norway"
              },
              {
                "opacity": 1,
                "target": "nickel^*",
                "title": "Russia",
                "color": "#CAB2D6",
                "value": 0.090820981,
                "source": "nickel_refining^*",
                "time": "*",
                "type": "Russia"
              },
              {
                "opacity": 1,
                "target": "aluminium^*",
                "title": "Australia",
                "color": "#1F78B4",
                "value": 0.024973541,
                "source": "aluminium_primary^*",
                "time": "*",
                "type": "Australia"
              },
              {
                "opacity": 1,
                "target": "aluminium^*",
                "title": "Bahrain",
                "color": "#CAB2D6",
                "value": 0.021718402,
                "source": "aluminium_primary^*",
                "time": "*",
                "type": "Bahrain"
              },
              {
                "opacity": 1,
                "target": "aluminium^*",
                "title": "Canada",
                "color": "#FB9A99",
                "value": 0.045405948,
                "source": "aluminium_primary^*",
                "time": "*",
                "type": "Canada"
              },
              {
                "opacity": 1,
                "target": "aluminium^*",
                "title": "China",
                "color": "#FDBF6F",
                "value": 0.557573841,
                "source": "aluminium_primary^*",
                "time": "*",
                "type": "China"
              },
              {
                "opacity": 1,
                "target": "aluminium^*",
                "title": "India",
                "color": "#E31A1C",
                "value": 0.057737866,
                "source": "aluminium_primary^*",
                "time": "*",
                "type": "India"
              },
              {
                "opacity": 1,
                "target": "aluminium^*",
                "title": "Norway",
                "color": "#FDBF6F",
                "value": 0.020684117,
                "source": "aluminium_primary^*",
                "time": "*",
                "type": "Norway"
              },
              {
                "opacity": 1,
                "target": "aluminium^*",
                "title": "Russia",
                "color": "#CAB2D6",
                "value": 0.057867794,
                "source": "aluminium_primary^*",
                "time": "*",
                "type": "Russia"
              },
              {
                "opacity": 1,
                "target": "aluminium^*",
                "title": "United Arab Emirates",
                "color": "#6A3D9A",
                "value": 0.041368233,
                "source": "aluminium_primary^*",
                "time": "*",
                "type": "United Arab Emirates"
              },
              {
                "opacity": 1,
                "target": "graphite^*",
                "title": "Brazil  ",
                "color": "#33A02C",
                "value": 0.084781088,
                "source": "__graphite_pro_graphite_4^*",
                "time": "*",
                "type": "Brazil  "
              },
              {
                "opacity": 1,
                "target": "graphite^*",
                "title": "China  ",
                "color": "#FF7F00",
                "value": 0.618195435,
                "source": "__graphite_pro_graphite_4^*",
                "time": "*",
                "type": "China  "
              },
              {
                "opacity": 1,
                "target": "graphite^*",
                "title": "India  ",
                "color": "#FB9A99",
                "value": 0.029086978,
                "source": "__graphite_pro_graphite_4^*",
                "time": "*",
                "type": "India  "
              },
              {
                "opacity": 1,
                "target": "graphite^*",
                "title": "Korea, Dem. P.R. of",
                "color": "#FFFF99",
                "value": 0.035325453,
                "source": "__graphite_pro_graphite_4^*",
                "time": "*",
                "type": "Korea, Dem. P.R. of"
              },
              {
                "opacity": 1,
                "target": "graphite^*",
                "title": "Madagascar",
                "color": "#B15928",
                "value": 0.04715948,
                "source": "__graphite_pro_graphite_4^*",
                "time": "*",
                "type": "Madagascar"
              },
              {
                "opacity": 1,
                "target": "graphite^*",
                "title": "Mozambique",
                "color": "#B2DF8A",
                "value": 0.100503564,
                "source": "__graphite_pro_graphite_4^*",
                "time": "*",
                "type": "Mozambique"
              },
              {
                "opacity": 1,
                "target": "copper^*",
                "title": "Australia",
                "color": "#1F78B4",
                "value": 0.024612204,
                "source": "__copper_refining_copper_4^*",
                "time": "*",
                "type": "Australia"
              },
              {
                "opacity": 1,
                "target": "copper^*",
                "title": "Chile",
                "color": "#E31A1C",
                "value": 0.062021647,
                "source": "__copper_refining_copper_4^*",
                "time": "*",
                "type": "Chile"
              },
              {
                "opacity": 1,
                "target": "copper^*",
                "title": "China",
                "color": "#FDBF6F",
                "value": 0.434415267,
                "source": "__copper_refining_copper_4^*",
                "time": "*",
                "type": "China"
              },
              {
                "opacity": 1,
                "target": "copper^*",
                "title": "India",
                "color": "#E31A1C",
                "value": 0.020994867,
                "source": "__copper_refining_copper_4^*",
                "time": "*",
                "type": "India"
              },
              {
                "opacity": 1,
                "target": "copper^*",
                "title": "Japan",
                "color": "#1F78B4",
                "value": 0.071740988,
                "source": "__copper_refining_copper_4^*",
                "time": "*",
                "type": "Japan"
              },
              {
                "opacity": 1,
                "target": "copper^*",
                "title": "Korea (Rep. of)",
                "color": "#B2DF8A",
                "value": 0.031894043,
                "source": "__copper_refining_copper_4^*",
                "time": "*",
                "type": "Korea (Rep. of)"
              },
              {
                "opacity": 1,
                "target": "copper^*",
                "title": "Poland",
                "color": "#FF7F00",
                "value": 0.03000751,
                "source": "__copper_refining_copper_4^*",
                "time": "*",
                "type": "Poland"
              },
              {
                "opacity": 1,
                "target": "copper^*",
                "title": "Russia",
                "color": "#CAB2D6",
                "value": 0.048485079,
                "source": "__copper_refining_copper_4^*",
                "time": "*",
                "type": "Russia"
              },
              {
                "opacity": 1,
                "target": "copper^*",
                "title": "USA",
                "color": "#FFFF99",
                "value": 0.028581969,
                "source": "__copper_refining_copper_4^*",
                "time": "*",
                "type": "USA"
              },
              {
                "opacity": 1,
                "target": "copper^*",
                "title": "Zambia  (a)",
                "color": "#33A02C",
                "value": 0.039162205,
                "source": "__copper_refining_copper_4^*",
                "time": "*",
                "type": "Zambia  (a)"
              },
              {
                "opacity": 1,
                "target": "AM^*",
                "title": "Cobalt Sulfate",
                "color": "#FFFF99",
                "value": 0.336905486,
                "source": "cobalt^*",
                "time": "*",
                "type": "Cobalt Sulfate"
              },
              {
                "opacity": 1,
                "target": "AM^*",
                "title": "Lithium Carbonate",
                "color": "#B15928",
                "value": 0.381159211,
                "source": "lithium^*",
                "time": "*",
                "type": "Lithium Carbonate"
              },
              {
                "opacity": 1,
                "target": "AM^*",
                "title": "Manganese Sulfate",
                "color": "#A6CEE3",
                "value": 0.328232328,
                "source": "manganese^*",
                "time": "*",
                "type": "Manganese Sulfate"
              },
              {
                "opacity": 1,
                "target": "AM^*",
                "title": "Nickel Sulfate",
                "color": "#1F78B4",
                "value": 1.009151378,
                "source": "nickel^*",
                "time": "*",
                "type": "Nickel Sulfate"
              },
              {
                "opacity": 1,
                "target": "AM^*",
                "title": "Sodium Hydroxide",
                "color": "#B2DF8A",
                "value": 0.889536,
                "source": "sodium^*",
                "time": "*",
                "type": "Sodium Hydroxide"
              },
              {
                "opacity": 1,
                "target": "AM^*",
                "title": "Ammonium Hydroxide",
                "color": "#33A02C",
                "value": 0.123529412,
                "source": "ammonium^*",
                "time": "*",
                "type": "Ammonium Hydroxide"
              },
              {
                "opacity": 1,
                "target": "AM^*",
                "title": "Precursor Co-precipitation ",
                "color": "#FB9A99",
                "value": 0.949240673,
                "source": "precipitation^*",
                "time": "*",
                "type": "Precursor Co-precipitation "
              },
              {
                "opacity": 1,
                "target": "NMC622^NMC622",
                "title": "Wrought Aluminum",
                "color": "#E31A1C",
                "value": 0.178450675,
                "source": "aluminium^*",
                "time": "*",
                "type": "Wrought Aluminum"
              },
              {
                "opacity": 1,
                "target": "NMC622^NMC622",
                "title": "Graphite/Carbon",
                "color": "#FDBF6F",
                "value": 0.220687303,
                "source": "graphite^*",
                "time": "*",
                "type": "Graphite/Carbon"
              },
              {
                "opacity": 1,
                "target": "NMC622^NMC622",
                "title": "Copper",
                "color": "#FF7F00",
                "value": 0.070813626,
                "source": "copper^*",
                "time": "*",
                "type": "Copper"
              },
              {
                "opacity": 1,
                "target": "NMC622^NMC622",
                "title": "Active Material",
                "color": "#CAB2D6",
                "value": 0.360960805,
                "source": "AM^*",
                "time": "*",
                "type": "Active Material"
              },
              {
                "opacity": 1,
                "target": "NMC622^NMC622",
                "title": "Binder",
                "color": "#6A3D9A",
                "value": 0.01187037,
                "source": "binder^*",
                "time": "*",
                "type": "Binder"
              },
              {
                "opacity": 1,
                "target": "NMC622^NMC622",
                "title": "Electrolyte: Dimethyl Carbonate",
                "color": "#FFFF99",
                "value": 0.038142597,
                "source": "electrolyte^*",
                "time": "*",
                "type": "Electrolyte: Dimethyl Carbonate"
              },
              {
                "opacity": 1,
                "target": "NMC622^NMC622",
                "title": "Electrolyte: Ethylene Carbonate",
                "color": "#B15928",
                "value": 0.038142597,
                "source": "electrolyte^*",
                "time": "*",
                "type": "Electrolyte: Ethylene Carbonate"
              },
              {
                "opacity": 1,
                "target": "NMC622^NMC622",
                "title": "Electrolyte: LiPF6",
                "color": "#A6CEE3",
                "value": 0.013663154,
                "source": "electrolyte^*",
                "time": "*",
                "type": "Electrolyte: LiPF6"
              },
              {
                "opacity": 1,
                "target": "NMC622^NMC622",
                "title": "Plastic: Polyethylene",
                "color": "#1F78B4",
                "value": 0.00182318,
                "source": "plastic^*",
                "time": "*",
                "type": "Plastic: Polyethylene"
              },
              {
                "opacity": 1,
                "target": "NMC622^NMC622",
                "title": "Plastic: Polyethylene Terephthalate",
                "color": "#B2DF8A",
                "value": 0.001888902,
                "source": "plastic^*",
                "time": "*",
                "type": "Plastic: Polyethylene Terephthalate"
              },
              {
                "opacity": 1,
                "target": "NMC622^NMC622",
                "title": "Plastic: Polypropylene",
                "color": "#33A02C",
                "value": 0.006309301,
                "source": "plastic^*",
                "time": "*",
                "type": "Plastic: Polypropylene"
              },
              {
                "opacity": 1,
                "target": "NMC622^NMC622",
                "title": "Steel",
                "color": "#FB9A99",
                "value": 0.005989053,
                "source": "steel^*",
                "time": "*",
                "type": "Steel"
              },
              {
                "opacity": 1,
                "target": "NMC622^NMC622",
                "title": "Coolant: Glycol",
                "color": "#E31A1C",
                "value": 0.02946172,
                "source": "other^*",
                "time": "*",
                "type": "Coolant: Glycol"
              },
              {
                "opacity": 1,
                "target": "NMC622^NMC622",
                "title": "Electronic Parts",
                "color": "#FDBF6F",
                "value": 0.018216868,
                "source": "other^*",
                "time": "*",
                "type": "Electronic Parts"
              },
              {
                "opacity": 1,
                "target": "NMC622^NMC622",
                "title": "Thermal Insulation",
                "color": "#FF7F00",
                "value": 0.00357985,
                "source": "other^*",
                "time": "*",
                "type": "Thermal Insulation"
              }
            ],
            "_view_module": "jupyter-sankey-widget",
            "_model_module_version": "^0.4.1",
            "_view_count": null,
            "linkLabelFormat": "",
            "margins": {
              "top": 25,
              "left": 130,
              "right": 130,
              "bottom": 10
            },
            "_model_module": "jupyter-sankey-widget",
            "scale": 44.92411475615442,
            "layout": "IPY_MODEL_8ea662b5de044c61ada103096c96bdaa",
            "linkLabelMinWidth": 5,
            "nodes": [
              {
                "direction": "r",
                "hidden": false,
                "type": "process",
                "id": "sources^Argentina",
                "title": "Argentina"
              },
              {
                "direction": "r",
                "hidden": false,
                "type": "process",
                "id": "sources^Australia",
                "title": "Australia"
              },
              {
                "direction": "r",
                "hidden": false,
                "type": "process",
                "id": "sources^Brazil",
                "title": "Brazil"
              },
              {
                "direction": "r",
                "hidden": false,
                "type": "process",
                "id": "sources^Canada",
                "title": "Canada"
              },
              {
                "direction": "r",
                "hidden": false,
                "type": "process",
                "id": "sources^Chile",
                "title": "Chile"
              },
              {
                "direction": "r",
                "hidden": false,
                "type": "process",
                "id": "sources^China",
                "title": "China"
              },
              {
                "direction": "r",
                "hidden": false,
                "type": "process",
                "id": "sources^Congo",
                "title": "Congo"
              },
              {
                "direction": "r",
                "hidden": false,
                "type": "process",
                "id": "sources^Congo, Democratic Republic",
                "title": "Congo, Democratic Republic"
              },
              {
                "direction": "r",
                "hidden": false,
                "type": "process",
                "id": "sources^Cuba",
                "title": "Cuba"
              },
              {
                "direction": "r",
                "hidden": false,
                "type": "process",
                "id": "sources^Gabon",
                "title": "Gabon"
              },
              {
                "direction": "r",
                "hidden": false,
                "type": "process",
                "id": "sources^Ghana",
                "title": "Ghana"
              },
              {
                "direction": "r",
                "hidden": false,
                "type": "process",
                "id": "sources^Guatemala",
                "title": "Guatemala"
              },
              {
                "direction": "r",
                "hidden": false,
                "type": "process",
                "id": "sources^Guinea",
                "title": "Guinea"
              },
              {
                "direction": "r",
                "hidden": false,
                "type": "process",
                "id": "sources^India",
                "title": "India"
              },
              {
                "direction": "r",
                "hidden": false,
                "type": "process",
                "id": "sources^Indonesia",
                "title": "Indonesia"
              },
              {
                "direction": "r",
                "hidden": false,
                "type": "process",
                "id": "sources^Ivory Coast",
                "title": "Ivory Coast"
              },
              {
                "direction": "r",
                "hidden": false,
                "type": "process",
                "id": "sources^Jamaica",
                "title": "Jamaica"
              },
              {
                "direction": "r",
                "hidden": false,
                "type": "process",
                "id": "sources^Kazakhstan",
                "title": "Kazakhstan"
              },
              {
                "direction": "r",
                "hidden": false,
                "type": "process",
                "id": "sources^Korea, Dem. P.R. of",
                "title": "Korea, Dem. P.R. of"
              },
              {
                "direction": "r",
                "hidden": false,
                "type": "process",
                "id": "sources^Madagascar",
                "title": "Madagascar"
              },
              {
                "direction": "r",
                "hidden": false,
                "type": "process",
                "id": "sources^Malaysia",
                "title": "Malaysia"
              },
              {
                "direction": "r",
                "hidden": false,
                "type": "process",
                "id": "sources^Mexico",
                "title": "Mexico"
              },
              {
                "direction": "r",
                "hidden": false,
                "type": "process",
                "id": "sources^Mozambique",
                "title": "Mozambique"
              },
              {
                "direction": "r",
                "hidden": false,
                "type": "process",
                "id": "sources^New Caledonia",
                "title": "New Caledonia"
              },
              {
                "direction": "r",
                "hidden": false,
                "type": "process",
                "id": "sources^Papua New Guinea",
                "title": "Papua New Guinea"
              },
              {
                "direction": "r",
                "hidden": false,
                "type": "process",
                "id": "sources^Peru",
                "title": "Peru"
              },
              {
                "direction": "r",
                "hidden": false,
                "type": "process",
                "id": "sources^Philippines",
                "title": "Philippines"
              },
              {
                "direction": "r",
                "hidden": false,
                "type": "process",
                "id": "sources^Poland",
                "title": "Poland"
              },
              {
                "direction": "r",
                "hidden": false,
                "type": "process",
                "id": "sources^Russia",
                "title": "Russia"
              },
              {
                "direction": "r",
                "hidden": false,
                "type": "process",
                "id": "sources^South Africa",
                "title": "South Africa"
              },
              {
                "direction": "r",
                "hidden": false,
                "type": "process",
                "id": "sources^USA",
                "title": "USA"
              },
              {
                "direction": "r",
                "hidden": false,
                "type": "process",
                "id": "sources^Ukraine",
                "title": "Ukraine"
              },
              {
                "direction": "r",
                "hidden": false,
                "type": "process",
                "id": "sources^Zambia",
                "title": "Zambia"
              },
              {
                "direction": "r",
                "hidden": false,
                "type": "process",
                "id": "aluminium_mining^*",
                "title": "Aluminium mining"
              },
              {
                "direction": "r",
                "hidden": false,
                "type": "process",
                "id": "graphite_pro^*",
                "title": "Graphite production"
              },
              {
                "direction": "r",
                "hidden": false,
                "type": "process",
                "id": "copper_mining^*",
                "title": "Copper mining"
              },
              {
                "direction": "r",
                "hidden": false,
                "type": "process",
                "id": "cobalt_mining^*",
                "title": "Cobalt mining"
              },
              {
                "direction": "r",
                "hidden": false,
                "type": "process",
                "id": "lithium_mining^*",
                "title": "Lithium mining"
              },
              {
                "direction": "r",
                "hidden": false,
                "type": "process",
                "id": "manganese_mining^*",
                "title": "Manganese mining"
              },
              {
                "direction": "r",
                "hidden": false,
                "type": "process",
                "id": "nickel_mining^*",
                "title": "Nickel mining"
              },
              {
                "direction": "r",
                "hidden": true,
                "type": "group",
                "id": "__aluminium_mining_aluminium_refining_2^*",
                "title": ""
              },
              {
                "direction": "r",
                "hidden": true,
                "type": "group",
                "id": "__graphite_pro_graphite_2^*",
                "title": ""
              },
              {
                "direction": "r",
                "hidden": false,
                "type": "process",
                "id": "copper_smelting^*",
                "title": "Copper_smelting"
              },
              {
                "direction": "r",
                "hidden": true,
                "type": "group",
                "id": "__cobalt_mining_cobalt_refining_2^*",
                "title": ""
              },
              {
                "direction": "r",
                "hidden": true,
                "type": "group",
                "id": "__lithium_mining_lithium_refining_2^*",
                "title": ""
              },
              {
                "direction": "r",
                "hidden": true,
                "type": "group",
                "id": "__manganese_mining_manganese_refining_2^*",
                "title": ""
              },
              {
                "direction": "r",
                "hidden": true,
                "type": "group",
                "id": "__nickel_mining_nickel_refining_2^*",
                "title": ""
              },
              {
                "direction": "r",
                "hidden": false,
                "type": "process",
                "id": "aluminium_refining^*",
                "title": "Aluminium refining"
              },
              {
                "direction": "r",
                "hidden": true,
                "type": "group",
                "id": "__graphite_pro_graphite_3^*",
                "title": ""
              },
              {
                "direction": "r",
                "hidden": false,
                "type": "process",
                "id": "copper_refining^*",
                "title": "Copper_refining"
              },
              {
                "direction": "r",
                "hidden": false,
                "type": "process",
                "id": "cobalt_refining^*",
                "title": "Cobalt refining"
              },
              {
                "direction": "r",
                "hidden": false,
                "type": "process",
                "id": "lithium_refining^*",
                "title": "Lithium refining"
              },
              {
                "direction": "r",
                "hidden": false,
                "type": "process",
                "id": "manganese_refining^*",
                "title": "Manganese refining"
              },
              {
                "direction": "r",
                "hidden": false,
                "type": "process",
                "id": "nickel_refining^*",
                "title": "Nickel refining"
              },
              {
                "direction": "r",
                "hidden": false,
                "type": "process",
                "id": "aluminium_primary^*",
                "title": "Aluminium primary"
              },
              {
                "direction": "r",
                "hidden": true,
                "type": "group",
                "id": "__graphite_pro_graphite_4^*",
                "title": ""
              },
              {
                "direction": "r",
                "hidden": true,
                "type": "group",
                "id": "__copper_refining_copper_4^*",
                "title": ""
              },
              {
                "direction": "r",
                "hidden": false,
                "type": "process",
                "id": "cobalt^*",
                "title": "Cobalt"
              },
              {
                "direction": "r",
                "hidden": false,
                "type": "process",
                "id": "lithium^*",
                "title": "Lithium"
              },
              {
                "direction": "r",
                "hidden": false,
                "type": "process",
                "id": "manganese^*",
                "title": "Manganese"
              },
              {
                "direction": "r",
                "hidden": false,
                "type": "process",
                "id": "nickel^*",
                "title": "Nickel"
              },
              {
                "direction": "r",
                "hidden": false,
                "type": "process",
                "id": "sodium^*",
                "title": "Sodium Hydroxide"
              },
              {
                "direction": "r",
                "hidden": false,
                "type": "process",
                "id": "ammonium^*",
                "title": "Ammonium Hydroxide"
              },
              {
                "direction": "r",
                "hidden": false,
                "type": "process",
                "id": "precipitation^*",
                "title": "Precursor Co-precipitation"
              },
              {
                "direction": "r",
                "hidden": false,
                "type": "process",
                "id": "aluminium^*",
                "title": "Aluminium"
              },
              {
                "direction": "r",
                "hidden": false,
                "type": "process",
                "id": "graphite^*",
                "title": "Graphite/Carbon"
              },
              {
                "direction": "r",
                "hidden": false,
                "type": "process",
                "id": "copper^*",
                "title": "Copper"
              },
              {
                "direction": "r",
                "hidden": false,
                "type": "process",
                "id": "AM^*",
                "title": "Active material"
              },
              {
                "direction": "r",
                "hidden": false,
                "type": "process",
                "id": "binder^*",
                "title": "Binder"
              },
              {
                "direction": "r",
                "hidden": false,
                "type": "process",
                "id": "electrolyte^*",
                "title": "Electrolyte"
              },
              {
                "direction": "r",
                "hidden": false,
                "type": "process",
                "id": "plastic^*",
                "title": "Plastic"
              },
              {
                "direction": "r",
                "hidden": false,
                "type": "process",
                "id": "steel^*",
                "title": "Steel"
              },
              {
                "direction": "r",
                "hidden": false,
                "type": "process",
                "id": "other^*",
                "title": "Other"
              },
              {
                "direction": "r",
                "hidden": false,
                "type": "process",
                "id": "NMC622^NMC622",
                "title": "NMC622"
              }
            ],
            "rank_sets": [],
            "_dom_classes": [],
            "_model_name": "SankeyModel",
            "groups": [
              {
                "nodes": [
                  "sources^Argentina",
                  "sources^Australia",
                  "sources^Brazil",
                  "sources^Canada",
                  "sources^Chile",
                  "sources^China",
                  "sources^Congo",
                  "sources^Congo, Democratic Republic",
                  "sources^Cuba",
                  "sources^Gabon",
                  "sources^Ghana",
                  "sources^Guatemala",
                  "sources^Guinea",
                  "sources^India",
                  "sources^Indonesia",
                  "sources^Ivory Coast",
                  "sources^Jamaica",
                  "sources^Kazakhstan",
                  "sources^Korea, Dem. P.R. of",
                  "sources^Madagascar",
                  "sources^Malaysia",
                  "sources^Mexico",
                  "sources^Mozambique",
                  "sources^New Caledonia",
                  "sources^Papua New Guinea",
                  "sources^Peru",
                  "sources^Philippines",
                  "sources^Poland",
                  "sources^Russia",
                  "sources^South Africa",
                  "sources^USA",
                  "sources^Ukraine",
                  "sources^Zambia"
                ],
                "type": "process",
                "id": "sources",
                "title": "Sources"
              },
              {
                "nodes": [
                  "__aluminium_mining_aluminium_refining_2^*"
                ],
                "type": "group",
                "id": "__aluminium_mining_aluminium_refining_2",
                "title": ""
              },
              {
                "nodes": [
                  "__graphite_pro_graphite_2^*"
                ],
                "type": "group",
                "id": "__graphite_pro_graphite_2",
                "title": ""
              },
              {
                "nodes": [
                  "__cobalt_mining_cobalt_refining_2^*"
                ],
                "type": "group",
                "id": "__cobalt_mining_cobalt_refining_2",
                "title": ""
              },
              {
                "nodes": [
                  "__lithium_mining_lithium_refining_2^*"
                ],
                "type": "group",
                "id": "__lithium_mining_lithium_refining_2",
                "title": ""
              },
              {
                "nodes": [
                  "__manganese_mining_manganese_refining_2^*"
                ],
                "type": "group",
                "id": "__manganese_mining_manganese_refining_2",
                "title": ""
              },
              {
                "nodes": [
                  "__nickel_mining_nickel_refining_2^*"
                ],
                "type": "group",
                "id": "__nickel_mining_nickel_refining_2",
                "title": ""
              },
              {
                "nodes": [
                  "__graphite_pro_graphite_3^*"
                ],
                "type": "group",
                "id": "__graphite_pro_graphite_3",
                "title": ""
              },
              {
                "nodes": [
                  "__graphite_pro_graphite_4^*"
                ],
                "type": "group",
                "id": "__graphite_pro_graphite_4",
                "title": ""
              },
              {
                "nodes": [
                  "__copper_refining_copper_4^*"
                ],
                "type": "group",
                "id": "__copper_refining_copper_4",
                "title": ""
              },
              {
                "nodes": [
                  "NMC622^NMC622"
                ],
                "type": "process",
                "id": "NMC622",
                "title": "Product"
              }
            ],
            "png": "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",
            "show_link_info_html": false,
            "align_link_types": false,
            "svg": "<?xml version=\"1.0\" standalone=\"no\"?><!DOCTYPE svg PUBLIC \"-//W3C//DTD SVG 1.1//EN\" \"http://www.w3.org/Graphics/SVG/1.1/DTD/svg11.dtd\"><svg xmlns=\"http://www.w3.org/2000/svg\" width=\"1000\" height=\"800\" viewBox=\"0 0 1000 800\" style=\"font-family: &quot;Helvetica Neue&quot;, Helvetica, Arial, sans-serif;\"><g class=\"sankey\" transform=\"translate(130,25)\"><g class=\"groups\"><g class=\"group\" transform=\"translate(0,58.869027250151966)\" style=\"display: inline;\"><rect x=\"-10\" y=\"-20\" width=\"21\" height=\"500.9522180012156\" style=\"fill: rgb(238, 238, 238); stroke: rgb(187, 187, 187); stroke-width: 0.5;\"/><text x=\"-10\" y=\"-25\" style=\"fill: rgb(153, 153, 153);\">Sources</text></g><g class=\"group\" transform=\"translate(246.33333333333334,58.869027250151966)\" style=\"display: none;\"><rect x=\"-10\" y=\"-20\" width=\"21\" height=\"71.07725872149047\" style=\"fill: rgb(238, 238, 238); stroke: rgb(187, 187, 187); stroke-width: 0.5;\"/><text x=\"-10\" y=\"-25\" style=\"fill: rgb(153, 153, 153);\"/></g><g class=\"group\" transform=\"translate(246.33333333333334,130.75744669692824)\" style=\"display: none;\"><rect x=\"-10\" y=\"-20\" width=\"21\" height=\"71.10790096600039\" style=\"fill: rgb(238, 238, 238); stroke: rgb(187, 187, 187); stroke-width: 0.5;\"/><text x=\"-10\" y=\"-25\" style=\"fill: rgb(153, 153, 153);\"/></g><g class=\"group\" transform=\"translate(246.33333333333334,271.59311538781697)\" style=\"display: none;\"><rect x=\"-10\" y=\"-20\" width=\"21\" height=\"70.87373532063327\" style=\"fill: rgb(238, 238, 238); stroke: rgb(187, 187, 187); stroke-width: 0.5;\"/><text x=\"-10\" y=\"-25\" style=\"fill: rgb(153, 153, 153);\"/></g><g class=\"group\" transform=\"translate(246.33333333333334,343.278011433736)\" style=\"display: none;\"><rect x=\"-10\" y=\"-20\" width=\"21\" height=\"73.724051308083\" style=\"fill: rgb(238, 238, 238); stroke: rgb(187, 187, 187); stroke-width: 0.5;\"/><text x=\"-10\" y=\"-25\" style=\"fill: rgb(153, 153, 153);\"/></g><g class=\"group\" transform=\"translate(246.33333333333334,417.8132234671049)\" style=\"display: none;\"><rect x=\"-10\" y=\"-20\" width=\"21\" height=\"72.1296604229081\" style=\"fill: rgb(238, 238, 238); stroke: rgb(187, 187, 187); stroke-width: 0.5;\"/><text x=\"-10\" y=\"-25\" style=\"fill: rgb(153, 153, 153);\"/></g><g class=\"group\" transform=\"translate(246.33333333333334,490.7540446152988)\" style=\"display: none;\"><rect x=\"-10\" y=\"-20\" width=\"21\" height=\"69.06720063606878\" style=\"fill: rgb(238, 238, 238); stroke: rgb(187, 187, 187); stroke-width: 0.5;\"/><text x=\"-10\" y=\"-25\" style=\"fill: rgb(153, 153, 153);\"/></g><g class=\"group\" transform=\"translate(369.5,130.7972465350474)\" style=\"display: none;\"><rect x=\"-10\" y=\"-20\" width=\"21\" height=\"71.10790096600039\" style=\"fill: rgb(238, 238, 238); stroke: rgb(187, 187, 187); stroke-width: 0.5;\"/><text x=\"-10\" y=\"-25\" style=\"fill: rgb(153, 153, 153);\"/></g><g class=\"group\" transform=\"translate(492.6666666666667,127.86196930554817)\" style=\"display: none;\"><rect x=\"-10\" y=\"-20\" width=\"21\" height=\"71.10790096600039\" style=\"fill: rgb(238, 238, 238); stroke: rgb(187, 187, 187); stroke-width: 0.5;\"/><text x=\"-10\" y=\"-25\" style=\"fill: rgb(153, 153, 153);\"/></g><g class=\"group\" transform=\"translate(492.6666666666667,200.1685327537901)\" style=\"display: none;\"><rect x=\"-10\" y=\"-20\" width=\"21\" height=\"65.57611533300542\" style=\"fill: rgb(238, 238, 238); stroke: rgb(187, 187, 187); stroke-width: 0.5;\"/><text x=\"-10\" y=\"-25\" style=\"fill: rgb(153, 153, 153);\"/></g><g class=\"group\" transform=\"translate(739,271.88307885022056)\" style=\"display: inline;\"><rect x=\"-10\" y=\"-20\" width=\"21\" height=\"74.92411480107853\" style=\"fill: rgb(238, 238, 238); stroke: rgb(187, 187, 187); stroke-width: 0.5;\"/><text x=\"-10\" y=\"-25\" style=\"fill: rgb(153, 153, 153);\">Product</text></g></g><g class=\"links\"><g class=\"link\" style=\"opacity: 0.8;\"><path d=\"M616.8333333333334,676.662149202862 A59.7284581355144 59.7284581355144 1.5971233180740636 0 0 676.5410934545503,615.3614021139064 L670.4282895880508,383.227336597399 A68.59548116200958 68.59548116200958 1.5971233180740636 0 1 739,312.82615140997643 L739,314.82615140997643 A66.59548116200958 66.59548116200958 1.5971233180740636 0 0 672.4275965176137,383.17468869713434 L678.5404003841131,615.3087542136417 A61.7284581355144 61.7284581355144 1.5971233180740636 0 1 616.8333333333334,678.662149202862 Z\" style=\"fill: rgb(31, 120, 180);\"/><title>Plastic → NMC622\nPlastic: Polyethylene\n1.82m</title><text class=\"label\" dy=\"0.35em\" x=\"620.8333333333334\" y=\"677.662149202862\"/></g><g class=\"link\" style=\"opacity: 0.8;\"><path d=\"M616.8333333333334,676.7455302017381 A59.81183913439053 59.81183913439053 1.5971233180740636 0 0 676.6244455589738,615.35920719665 L670.5116416924742,383.2251416801426 A68.51210016313344 68.51210016313344 1.5971233180740636 0 1 739,312.90953240885256 L739,314.90953240885256 A66.51210016313344 66.51210016313344 1.5971233180740636 0 0 672.5109486220371,383.1724937798779 L678.6237524885366,615.3065592963853 A61.81183913439053 61.81183913439053 1.5971233180740636 0 1 616.8333333333334,678.7455302017381 Z\" style=\"fill: rgb(178, 223, 138);\"/><title>Plastic → NMC622\nPlastic: Polyethylene Terephthalate\n1.89m</title><text class=\"label\" dy=\"0.35em\" x=\"620.8333333333334\" y=\"677.7455302017381\"/></g><g class=\"link\" style=\"opacity: 0.8;\"><path d=\"M616.8333333333334,746.288616454047 A70.34432850210098 70.34432850210098 1.6183855792377684 0 0 687.0980211676438,672.5979173869292 L673.3795270213654,384.5468214258238 A65.69484971679174 65.69484971679174 1.6183855792377684 0 1 739,315.72678285519424 L739,317.72678285519424 A63.69484971679174 63.69484971679174 1.6183855792377684 0 0 675.3772627118046,384.4516788425829 L689.095756858083,672.5027748036883 A72.34432850210098 72.34432850210098 1.6183855792377684 0 1 616.8333333333334,748.288616454047 Z\" style=\"fill: rgb(255, 127, 0);\"/><title>Other → NMC622\nThermal Insulation\n3.58m</title><text class=\"label\" dy=\"0.35em\" x=\"620.8333333333334\" y=\"747.288616454047\"/></g><g class=\"link\" style=\"opacity: 0.8;\"><path d=\"M616.8333333333334,710.5688429441087 A64.21606665461546 64.21606665461546 1.6092744276108062 0 0 681.0018678468772,643.8824736816836 L670.9986659217398,384.0394868549541 A68.05170532374639 68.05170532374639 1.6092744276108062 0 1 739,313.3699272482396 L739,315.3699272482396 A66.05170532374639 66.05170532374639 1.6092744276108062 0 0 672.9971855401609,383.9625496416832 L683.0003874652983,643.8055364684127 A66.21606665461546 66.21606665461546 1.6092744276108062 0 1 616.8333333333334,712.5688429441087 Z\" style=\"fill: rgb(251, 154, 153);\"/><title>Steel → NMC622\nSteel\n5.99m</title><text class=\"label\" dy=\"0.35em\" x=\"620.8333333333334\" y=\"711.5688429441087\"/></g><g class=\"link\" style=\"opacity: 0.8;\"><path d=\"M616.8333333333334,676.9296787079212 A59.99598764057366 59.99598764057366 1.5971233180740638 0 0 676.808530251214,615.3543596805562 L670.6957263847146,383.2202941640489 A68.3279516569503 68.3279516569503 1.5971233180740638 0 1 739,313.0936809150357 L739,315.0936809150357 A66.3279516569503 66.3279516569503 1.5971233180740638 0 0 672.6950333142775,383.1676462637842 L678.8078371807769,615.3017117802915 A61.99598764057366 61.99598764057366 1.5971233180740638 0 1 616.8333333333334,678.9296787079212 Z\" style=\"fill: rgb(51, 160, 44);\"/><title>Plastic → NMC622\nPlastic: Polypropylene\n6.31m</title><text class=\"label\" dy=\"0.35em\" x=\"620.8333333333334\" y=\"677.9296787079212\"/></g><g class=\"link\" style=\"opacity: 0.8;\"><path d=\"M616.8333333333334,605.5878781834067 A51.101453940616715 51.101453940616715 1.581693950952074 0 0 667.9317529453223,553.9295508262277 L666.0604149261897,382.21653222350375 A72.94391637549765 72.94391637549765 1.581693950952074 0 1 739,308.47771619648825 L739,310.47771619648825 A70.94391637549765 70.94391637549765 1.581693950952074 0 0 668.0602961691527,382.19473740658094 L669.9316341882853,553.907756009305 A53.101453940616715 53.101453940616715 1.581693950952074 0 1 616.8333333333334,607.5878781834067 Z\" style=\"fill: rgb(106, 61, 154);\"/><title>Binder → NMC622\nBinder\n11.9m</title><text class=\"label\" dy=\"0.35em\" x=\"620.8333333333334\" y=\"606.5878781834067\"/></g><g class=\"link\" style=\"opacity: 0.8;\"><path d=\"M616.8333333333334,642.9513763769943 A58.22238877499879 58.22238877499879 1.5955719501459664 0 0 675.037853653899,583.2866391974917 L670.07782262888,383.1295719557084 A68.94333608489364 68.94333608489364 1.5955719501459664 0 1 739,312.47829648709234 L739,314.47829648709234 A66.94333608489364 66.94333608489364 1.5955719501459664 0 0 672.077208828766,383.0800257782035 L677.037239853785,583.2370930199868 A60.22238877499879 60.22238877499879 1.5955719501459664 0 1 616.8333333333334,644.9513763769943 Z\" style=\"fill: rgb(166, 206, 227);\"/><title>Electrolyte → NMC622\nElectrolyte: LiPF6\n13.7m</title><text class=\"label\" dy=\"0.35em\" x=\"620.8333333333334\" y=\"643.9513763769943\"/></g><g class=\"link\" style=\"opacity: 0.8;\"><path d=\"M616.8333333333334,745.7990173236772 A69.85472937173121 69.85472937173121 1.6183855792377684 0 0 686.6089763392699,672.6212082499371 L672.8904821929916,384.57011228883175 A66.1844488471615 66.1844488471615 1.6183855792377684 0 1 739,315.2371837248245 L739,317.2371837248245 A64.1844488471615 64.1844488471615 1.6183855792377684 0 0 674.8882178834308,384.47496970559087 L688.6067120297091,672.5260656666962 A71.85472937173121 71.85472937173121 1.6183855792377684 0 1 616.8333333333334,747.7990173236772 Z\" style=\"fill: rgb(253, 191, 111);\"/><title>Other → NMC622\nElectronic Parts\n18.2m</title><text class=\"label\" dy=\"0.35em\" x=\"620.8333333333334\" y=\"746.7990173236772\"/></g><g class=\"link\" style=\"opacity: 0.8;\"><path d=\"M1,407.20935715542794 A68.10222908558305 68.10222908558305 0.3543775200916768 0 1 24.63192513515143,411.44104748618423 L100.22875479517666,439.41166827330727 A66.10222908558305 66.10222908558305 0.3543775200916768 0 0 123.16666666666667,443.51908395439125 L123.16666666666667,445.51908395439125 A68.10222908558305 68.10222908558305 0.3543775200916768 0 1 99.53474153151524,441.28739362363496 L23.937911871490012,413.3167728365119 A66.10222908558305 66.10222908558305 0.3543775200916768 0 0 1,409.20935715542794 Z\" style=\"fill: rgb(166, 206, 227);\"/><title>Malaysia → Manganese mining\nMalaysia\n20.0m</title><text class=\"label\" dy=\"0.35em\" x=\"5\" y=\"408.20935715542794\"/></g><g class=\"link\" style=\"opacity: 0.8;\"><path d=\"M124.16666666666667,443.51908395439125 A0 0 0 0 0 124.16666666666667,443.51908395439125 L246.33333333333334,443.51908395439125 A0 0 0 0 0 246.33333333333334,443.51908395439125 L246.33333333333334,445.51908395439125 A0 0 0 0 0 246.33333333333334,445.51908395439125 L124.16666666666667,445.51908395439125 A0 0 0 0 0 124.16666666666667,445.51908395439125 Z\" style=\"fill: rgb(166, 206, 227);\"/><title>Manganese mining → \nMalaysia\n20.0m</title><text class=\"label\" dy=\"0.35em\" x=\"128.16666666666669\" y=\"444.51908395439125\"/></g><g class=\"link\" style=\"opacity: 0.8;\"><path d=\"M247.33333333333334,443.51908395439125 A999 999 0.002263935178821175 0 0 249.59500264498027,443.516523816939 L367.23380282186326,443.2501967438129 A1001 1001 0.002263935178821175 0 1 369.5,443.24763148096037 L369.5,445.24763148096037 A999 999 0.002263935178821175 0 0 367.238330688353,445.2501916184126 L249.59953051147008,445.5165186915387 A1001 1001 0.002263935178821175 0 1 247.33333333333334,445.51908395439125 Z\" style=\"fill: rgb(166, 206, 227);\"/><title> → Manganese refining\nMalaysia\n20.0m</title><text class=\"label\" dy=\"0.35em\" x=\"251.33333333333334\" y=\"444.51908395439125\"/></g><g class=\"link\" style=\"opacity: 0.8;\"><path d=\"M1,311.1263119373717 A41.05588274393254 41.05588274393254 1.263995106357894 0 1 40.13875823635139,339.78287568387645 L80.54113347229428,467.3139761307605 A44.71344957235667 44.71344957235667 1.263995106357894 0 0 123.16666666666667,498.5234821104055 L123.16666666666667,500.5234821104055 A46.71344957235667 46.71344957235667 1.263995106357894 0 1 78.63452444963794,467.91799768230106 L38.23214921369505,340.386897235417 A39.05588274393254 39.05588274393254 1.263995106357894 0 0 1,313.1263119373717 Z\" style=\"fill: rgb(31, 120, 180);\"/><title>Guatemala → Nickel mining\nGuatemala\n20.4m</title><text class=\"label\" dy=\"0.35em\" x=\"5\" y=\"312.1263119373717\"/></g><g class=\"link\" style=\"opacity: 0.8;\"><path d=\"M124.16666666666667,498.5234821104055 A0 0 0 0 0 124.16666666666667,498.5234821104055 L246.33333333333334,498.5234821104055 A0 0 0 0 0 246.33333333333334,498.5234821104055 L246.33333333333334,500.5234821104055 A0 0 0 0 0 246.33333333333334,500.5234821104055 L124.16666666666667,500.5234821104055 A0 0 0 0 0 124.16666666666667,500.5234821104055 Z\" style=\"fill: rgb(31, 120, 180);\"/><title>Nickel mining → \nGuatemala\n20.4m</title><text class=\"label\" dy=\"0.35em\" x=\"128.16666666666669\" y=\"499.5234821104055\"/></g><g class=\"link\" style=\"opacity: 0.8;\"><path d=\"M247.33333333333334,498.5234821104055 A999 999 0.001926581721526599 0 0 249.2579872825094,498.52162810827264 L367.57149288976456,498.2936871889426 A1001 1001 0.001926581721526599 0 1 369.5,498.2918294750938 L369.5,500.2918294750938 A999 999 0.001926581721526599 0 0 367.57534605082395,500.29368347722664 L249.2618404435688,500.52162439655666 A1001 1001 0.001926581721526599 0 1 247.33333333333334,500.5234821104055 Z\" style=\"fill: rgb(31, 120, 180);\"/><title> → Nickel refining\nGuatemala\n20.4m</title><text class=\"label\" dy=\"0.35em\" x=\"251.33333333333334\" y=\"499.5234821104055\"/></g><g class=\"link\" style=\"opacity: 0.8;\"><path d=\"M1,134.07414702252325 A61.057017904029834 61.057017904029834 1.4870596709087076 0 1 61.84308231469527,190.0244272418629 L84.25748385733426,457.0757939454871 A39.045994730066255 39.045994730066255 1.4870596709087076 0 0 123.16666666666667,492.8560272681151 L123.16666666666667,494.8560272681151 A41.045994730066255 41.045994730066255 1.4870596709087076 0 1 82.26449158868697,457.24307161020096 L59.85009004604799,190.19170490657677 A59.057017904029834 59.057017904029834 1.4870596709087076 0 0 1,136.07414702252325 Z\" style=\"fill: rgb(178, 223, 138);\"/><title>Brazil → Nickel mining\nBrazil\n20.6m</title><text class=\"label\" dy=\"0.35em\" x=\"5\" y=\"135.07414702252325\"/></g><g class=\"link\" style=\"opacity: 0.8;\"><path d=\"M124.16666666666667,492.8560272681151 A0 0 0 0 0 124.16666666666667,492.8560272681151 L246.33333333333334,492.8560272681151 A0 0 0 0 0 246.33333333333334,492.8560272681151 L246.33333333333334,494.8560272681151 A0 0 0 0 0 246.33333333333334,494.8560272681151 L124.16666666666667,494.8560272681151 A0 0 0 0 0 124.16666666666667,494.8560272681151 Z\" style=\"fill: rgb(178, 223, 138);\"/><title>Nickel mining → \nBrazil\n20.6m</title><text class=\"label\" dy=\"0.35em\" x=\"128.16666666666669\" y=\"493.8560272681151\"/></g><g class=\"link\" style=\"opacity: 0.8;\"><path d=\"M247.33333333333334,492.8560272681151 A999 999 0.001926581721526599 0 0 249.2579872825094,492.85417326598224 L367.57149288976456,492.6262323466522 A1001 1001 0.001926581721526599 0 1 369.5,492.6243746328034 L369.5,494.6243746328034 A999 999 0.001926581721526599 0 0 367.57534605082395,494.62622863493624 L249.2618404435688,494.85416955426626 A1001 1001 0.001926581721526599 0 1 247.33333333333334,494.8560272681151 Z\" style=\"fill: rgb(178, 223, 138);\"/><title> → Nickel refining\nBrazil\n20.6m</title><text class=\"label\" dy=\"0.35em\" x=\"251.33333333333334\" y=\"493.8560272681151\"/></g><g class=\"link\" style=\"opacity: 0.8;\"><path d=\"M493.6666666666667,90.11338503317788 A0 0 0 0 0 493.6666666666667,90.11338503317788 L615.8333333333334,90.11338503317788 A0 0 0 0 0 615.8333333333334,90.11338503317788 L615.8333333333334,92.11338503317788 A0 0 0 0 0 615.8333333333334,92.11338503317788 L493.6666666666667,92.11338503317788 A0 0 0 0 0 493.6666666666667,92.11338503317788 Z\" style=\"fill: rgb(253, 191, 111);\"/><title>Aluminium primary → Aluminium\nNorway\n20.7m</title><text class=\"label\" dy=\"0.35em\" x=\"497.6666666666667\" y=\"91.11338503317788\"/></g><g class=\"link\" style=\"opacity: 0.8;\"><path d=\"M247.33333333333334,225.55576666603858 A0 0 0 0 1 247.33333333333334,225.55576666603858 L369.5,225.63536634227688 A0 0 0 0 0 369.5,225.63536634227688 L369.5,227.63536634227688 A0 0 0 0 1 369.5,227.63536634227688 L247.33333333333334,227.55576666603858 A0 0 0 0 0 247.33333333333334,227.55576666603858 Z\" style=\"fill: rgb(227, 26, 28);\"/><title>Copper_smelting → Copper_refining\nIndia\n21.0m</title><text class=\"label\" dy=\"0.35em\" x=\"251.33333333333334\" y=\"226.55576666603858\"/></g><g class=\"link\" style=\"opacity: 0.8;\"><path d=\"M370.5,225.63536634227688 A887.8890503778172 887.8890503778172 0.026096470309499464 0 0 393.66814034895486,225.33304584137326 L469.7727488465922,223.34653320939645 A877.3798261978616 877.3798261978616 0.026096470309499464 0 1 492.6666666666667,223.04779103161422 L492.6666666666667,225.04779103161422 A875.3798261978616 875.3798261978616 0.026096470309499464 0 0 469.8249358632901,225.34585222228264 L393.72032736565274,227.33236485425945 A889.8890503778172 889.8890503778172 0.026096470309499464 0 1 370.5,227.63536634227688 Z\" style=\"fill: rgb(227, 26, 28);\"/><title>Copper_refining → \nIndia\n21.0m</title><text class=\"label\" dy=\"0.35em\" x=\"374.5\" y=\"226.63536634227688\"/></g><g class=\"link\" style=\"opacity: 0.8;\"><path d=\"M493.6666666666667,223.04779103161422 A59.546704118868895 59.546704118868895 0.5801704054272766 0 1 526.3081730617592,232.7914627962253 L577.4310226527055,266.2979932819249 A70.05592829882474 70.05592829882474 0.5801704054272766 0 0 615.8333333333334,277.76129726506804 L615.8333333333334,279.76129726506804 A72.05592829882474 72.05592829882474 0.5801704054272766 0 1 576.334689719486,267.9707317849607 L525.2118401285398,234.46420129926116 A57.546704118868895 57.546704118868895 0.5801704054272766 0 0 493.6666666666667,225.04779103161422 Z\" style=\"fill: rgb(227, 26, 28);\"/><title> → Copper\nIndia\n21.0m</title><text class=\"label\" dy=\"0.35em\" x=\"497.6666666666667\" y=\"224.04779103161422\"/></g><g class=\"link\" style=\"opacity: 0.8;\"><path d=\"M370.5,95.19150197755741 A0 0 0 0 0 370.5,95.19150197755741 L492.6666666666667,95.19150197755741 A0 0 0 0 0 492.6666666666667,95.19150197755741 L492.6666666666667,97.19150197755741 A0 0 0 0 0 492.6666666666667,97.19150197755741 L370.5,97.19150197755741 A0 0 0 0 0 370.5,97.19150197755741 Z\" style=\"fill: rgb(202, 178, 214);\"/><title>Aluminium refining → Aluminium primary\nRussia\n21.0m</title><text class=\"label\" dy=\"0.35em\" x=\"374.5\" y=\"96.19150197755741\"/></g><g class=\"link\" style=\"opacity: 0.8;\"><path d=\"M1,370.1353655361697 A42.76512211153105 42.76512211153105 0.7209624495511613 0 1 29.22959672714876,380.7765785170125 L81.8531627215892,427.0207028022603 A62.58598229875973 62.58598229875973 0.7209624495511613 0 0 123.16666666666667,442.5939254279192 L123.16666666666667,444.5939254279192 A64.58598229875973 64.58598229875973 0.7209624495511613 0 1 80.53294683849052,428.5230443153704 L27.90938084405009,382.2789200301226 A40.76512211153105 40.76512211153105 0.7209624495511613 0 0 1,372.1353655361697 Z\" style=\"fill: rgb(255, 127, 0);\"/><title>Ivory Coast → Manganese mining\nIvory Coast\n21.2m</title><text class=\"label\" dy=\"0.35em\" x=\"5\" y=\"371.1353655361697\"/></g><g class=\"link\" style=\"opacity: 0.8;\"><path d=\"M124.16666666666667,442.5939254279192 A0 0 0 0 0 124.16666666666667,442.5939254279192 L246.33333333333334,442.5939254279192 A0 0 0 0 0 246.33333333333334,442.5939254279192 L246.33333333333334,444.5939254279192 A0 0 0 0 0 246.33333333333334,444.5939254279192 L124.16666666666667,444.5939254279192 A0 0 0 0 0 124.16666666666667,444.5939254279192 Z\" style=\"fill: rgb(255, 127, 0);\"/><title>Manganese mining → \nIvory Coast\n21.2m</title><text class=\"label\" dy=\"0.35em\" x=\"128.16666666666669\" y=\"443.5939254279192\"/></g><g class=\"link\" style=\"opacity: 0.8;\"><path d=\"M247.33333333333334,442.5939254279192 A999 999 0.002263935178821175 0 0 249.59500264498027,442.59136529046697 L367.23380282186326,442.3250382173409 A1001 1001 0.002263935178821175 0 1 369.5,442.3224729544883 L369.5,444.3224729544883 A999 999 0.002263935178821175 0 0 367.238330688353,444.32503309194055 L249.59953051147008,444.59136016506665 A1001 1001 0.002263935178821175 0 1 247.33333333333334,444.5939254279192 Z\" style=\"fill: rgb(255, 127, 0);\"/><title> → Manganese refining\nIvory Coast\n21.2m</title><text class=\"label\" dy=\"0.35em\" x=\"251.33333333333334\" y=\"443.5939254279192\"/></g><g class=\"link\" style=\"opacity: 0.8;\"><path d=\"M370.5,308.5652984761143 A999 999 0.022461374530753586 0 0 392.9370264152923,308.3133046546696 L470.184721279572,306.577923397868 A1001 1001 0.022461374530753586 0 1 492.6666666666667,306.3254250842882 L492.6666666666667,308.3254250842882 A999 999 0.022461374530753586 0 0 470.2296402513744,308.57741890573294 L392.9819453870947,310.31280016253453 A1001 1001 0.022461374530753586 0 1 370.5,310.5652984761143 Z\" style=\"fill: rgb(177, 89, 40);\"/><title>Cobalt refining → Cobalt\nMadagascar\n21.3m</title><text class=\"label\" dy=\"0.35em\" x=\"374.5\" y=\"309.5652984761143\"/></g><g class=\"link\" style=\"opacity: 0.8;\"><path d=\"M1,472.4714985052541 A44.26301448627363 44.26301448627363 1.4228827661093337 0 0 44.7796941990249,434.731736831185 L67.70606867467482,280.8653004793071 A56.072873446238226 56.072873446238226 1.4228827661093337 0 1 123.16666666666667,233.05615542215082 L123.16666666666667,235.05615542215082 A54.072873446238226 54.072873446238226 1.4228827661093337 0 0 69.68423011293844,281.1600500750098 L46.7578556372885,435.0264864268877 A46.26301448627363 46.26301448627363 1.4228827661093337 0 1 1,474.4714985052541 Z\" style=\"fill: rgb(255, 127, 0);\"/><title>Poland → Copper mining\nPoland\n21.7m</title><text class=\"label\" dy=\"0.35em\" x=\"5\" y=\"473.4714985052541\"/></g><g class=\"link\" style=\"opacity: 0.8;\"><path d=\"M124.16666666666667,233.05615542215082 A0 0 0 0 0 124.16666666666667,233.05615542215082 L246.33333333333334,233.05615542215082 A0 0 0 0 0 246.33333333333334,233.05615542215082 L246.33333333333334,235.05615542215082 A0 0 0 0 0 246.33333333333334,235.05615542215082 L124.16666666666667,235.05615542215082 A0 0 0 0 0 124.16666666666667,235.05615542215082 Z\" style=\"fill: rgb(255, 127, 0);\"/><title>Copper mining → Copper_smelting\nPoland\n21.7m</title><text class=\"label\" dy=\"0.35em\" x=\"128.16666666666669\" y=\"234.05615542215082\"/></g><g class=\"link\" style=\"opacity: 0.8;\"><path d=\"M493.6666666666667,59.478781463787634 A0 0 0 0 0 493.6666666666667,59.478781463787634 L615.8333333333334,59.478781463787634 A0 0 0 0 0 615.8333333333334,59.478781463787634 L615.8333333333334,61.478781463787634 A0 0 0 0 0 615.8333333333334,61.478781463787634 L493.6666666666667,61.478781463787634 A0 0 0 0 0 493.6666666666667,61.478781463787634 Z\" style=\"fill: rgb(202, 178, 214);\"/><title>Aluminium primary → Aluminium\nBahrain\n21.7m</title><text class=\"label\" dy=\"0.35em\" x=\"497.6666666666667\" y=\"60.478781463787634\"/></g><g class=\"link\" style=\"opacity: 0.8;\"><path d=\"M370.5,491.93147977699 A372.22346955680746 372.22346955680746 0.061376068885713675 0 0 393.33127268905326,491.2306128654397 L467.6640176072869,486.66262384708523 A407.62391600954174 407.62391600954174 0.061376068885713675 0 1 492.6666666666667,485.8951007367671 L492.6666666666667,487.8951007367671 A405.62391600954174 405.62391600954174 0.061376068885713675 0 0 467.7866926912424,488.6588580076427 L393.4539477730088,493.2268470259972 A374.22346955680746 374.22346955680746 0.061376068885713675 0 1 370.5,493.93147977699 Z\" style=\"fill: rgb(178, 223, 138);\"/><title>Nickel refining → Nickel\nBrazil\n21.8m</title><text class=\"label\" dy=\"0.35em\" x=\"374.5\" y=\"492.93147977699\"/></g><g class=\"link\" style=\"opacity: 0.8;\"><path d=\"M1,440.9666011152216 A35.819180573278025 35.819180573278025 1.0584119097354656 0 0 32.21921011042399,422.7080189663224 L85.05737739552552,328.77239066602095 A43.72447313990525 43.72447313990525 1.0584119097354656 0 1 123.16666666666667,306.4841397355159 L123.16666666666667,308.4841397355159 A41.72447313990525 41.72447313990525 1.0584119097354656 0 0 86.80053341477372,329.7529043541247 L33.96236612967219,423.6885326544262 A37.819180573278025 37.819180573278025 1.0584119097354656 0 1 1,442.9666011152216 Z\" style=\"fill: rgb(251, 154, 153);\"/><title>Papua New Guinea → Cobalt mining\nPapua New Guinea\n23.7m</title><text class=\"label\" dy=\"0.35em\" x=\"5\" y=\"441.9666011152216\"/></g><g class=\"link\" style=\"opacity: 0.8;\"><path d=\"M124.16666666666667,306.4841397355159 A0 0 0 0 0 124.16666666666667,306.4841397355159 L246.33333333333334,306.4841397355159 A0 0 0 0 0 246.33333333333334,306.4841397355159 L246.33333333333334,308.4841397355159 A0 0 0 0 0 246.33333333333334,308.4841397355159 L124.16666666666667,308.4841397355159 A0 0 0 0 0 124.16666666666667,308.4841397355159 Z\" style=\"fill: rgb(251, 154, 153);\"/><title>Cobalt mining → \nPapua New Guinea\n23.7m</title><text class=\"label\" dy=\"0.35em\" x=\"128.16666666666669\" y=\"307.4841397355159\"/></g><g class=\"link\" style=\"opacity: 0.8;\"><path d=\"M247.33333333333334,306.4841397355159 A963.1633386723632 963.1633386723632 0.024313779040626704 0 0 270.74916668729213,306.19946201209757 L346.7861118236295,304.3503521415952 A934.2902317198576 934.2902317198576 0.024313779040626704 0 1 369.5,304.07420830856205 L369.5,306.07420830856205 A932.2902317198576 932.2902317198576 0.024313779040626704 0 0 346.83473459074236,306.3497610108659 L270.797789454405,308.1988708813683 A965.1633386723632 965.1633386723632 0.024313779040626704 0 1 247.33333333333334,308.4841397355159 Z\" style=\"fill: rgb(251, 154, 153);\"/><title> → Cobalt refining\nPapua New Guinea\n23.7m</title><text class=\"label\" dy=\"0.35em\" x=\"251.33333333333334\" y=\"307.4841397355159\"/></g><g class=\"link\" style=\"opacity: 0.8;\"><path d=\"M1,400.44894858172495 A45.21336749266964 45.21336749266964 0.8684286979704382 0 0 35.51203150790355,384.44462559969736 L88.97726465747971,321.2726238464972 A44.79069848559864 44.79069848559864 0.8684286979704382 0 1 123.16666666666667,305.41791438982256 L123.16666666666667,307.41791438982256 A42.79069848559864 42.79069848559864 0.8684286979704382 0 0 90.50389421071964,322.56467733113874 L37.03866106114348,385.7366790843389 A47.21336749266964 47.21336749266964 0.8684286979704382 0 1 1,402.44894858172495 Z\" style=\"fill: rgb(177, 89, 40);\"/><title>Madagascar → Cobalt mining\nMadagascar\n23.8m</title><text class=\"label\" dy=\"0.35em\" x=\"5\" y=\"401.44894858172495\"/></g><g class=\"link\" style=\"opacity: 0.8;\"><path d=\"M124.16666666666667,305.41791438982256 A0 0 0 0 0 124.16666666666667,305.41791438982256 L246.33333333333334,305.41791438982256 A0 0 0 0 0 246.33333333333334,305.41791438982256 L246.33333333333334,307.41791438982256 A0 0 0 0 0 246.33333333333334,307.41791438982256 L124.16666666666667,307.41791438982256 A0 0 0 0 0 124.16666666666667,307.41791438982256 Z\" style=\"fill: rgb(177, 89, 40);\"/><title>Cobalt mining → \nMadagascar\n23.8m</title><text class=\"label\" dy=\"0.35em\" x=\"128.16666666666669\" y=\"306.41791438982256\"/></g><g class=\"link\" style=\"opacity: 0.8;\"><path d=\"M247.33333333333334,305.41791438982256 A962.0971133266698 962.0971133266698 0.024313779040626704 0 0 270.7232452739554,305.1335518056873 L346.76019041029275,303.28444193518493 A935.356457065551 935.356457065551 0.024313779040626704 0 1 369.5,303.0079829628687 L369.5,305.0079829628687 A933.356457065551 933.356457065551 0.024313779040626704 0 0 346.8088131774056,305.28385080445565 L270.7718680410683,307.13296067495804 A964.0971133266698 964.0971133266698 0.024313779040626704 0 1 247.33333333333334,307.41791438982256 Z\" style=\"fill: rgb(177, 89, 40);\"/><title> → Cobalt refining\nMadagascar\n23.8m</title><text class=\"label\" dy=\"0.35em\" x=\"251.33333333333334\" y=\"306.41791438982256\"/></g><g class=\"link\" style=\"opacity: 0.8;\"><path d=\"M247.33333333333334,202.22934912666338 A0 0 0 0 1 247.33333333333334,202.22934912666338 L369.5,202.30894880290168 A0 0 0 0 0 369.5,202.30894880290168 L369.5,204.30894880290168 A0 0 0 0 1 369.5,204.30894880290168 L247.33333333333334,204.22934912666338 A0 0 0 0 0 247.33333333333334,204.22934912666338 Z\" style=\"fill: rgb(31, 120, 180);\"/><title>Copper_smelting → Copper_refining\nAustralia\n24.6m</title><text class=\"label\" dy=\"0.35em\" x=\"251.33333333333334\" y=\"203.22934912666338\"/></g><g class=\"link\" style=\"opacity: 0.8;\"><path d=\"M370.5,202.30894880290168 A864.5626328384421 864.5626328384421 0.026096470309499464 0 0 393.0594722781406,202.014570796876 L469.16408077577796,200.02805816489916 A900.7062437372366 900.7062437372366 0.026096470309499464 0 1 492.6666666666667,199.72137349223902 L492.6666666666667,201.72137349223902 A898.7062437372366 898.7062437372366 0.026096470309499464 0 0 469.21626779247583,202.02737717778535 L393.1116592948385,204.0138898097622 A866.5626328384421 866.5626328384421 0.026096470309499464 0 1 370.5,204.30894880290168 Z\" style=\"fill: rgb(31, 120, 180);\"/><title>Copper_refining → \nAustralia\n24.6m</title><text class=\"label\" dy=\"0.35em\" x=\"374.5\" y=\"203.30894880290168\"/></g><g class=\"link\" style=\"opacity: 0.8;\"><path d=\"M493.6666666666667,199.72137349223902 A82.87312165824409 82.87312165824409 0.5801704054272766 0 1 539.0949329429806,213.2819644182234 L590.2177825339269,246.788494903923 A46.72951075944953 46.72951075944953 0.5801704054272766 0 0 615.8333333333334,254.43487972569284 L615.8333333333334,256.43487972569284 A48.72951075944953 48.72951075944953 0.5801704054272766 0 1 589.1214496007075,248.46123340695888 L537.9986000097612,214.95470292125927 A80.87312165824409 80.87312165824409 0.5801704054272766 0 0 493.6666666666667,201.72137349223902 Z\" style=\"fill: rgb(31, 120, 180);\"/><title> → Copper\nAustralia\n24.6m</title><text class=\"label\" dy=\"0.35em\" x=\"497.6666666666667\" y=\"200.72137349223902\"/></g><g class=\"link\" style=\"opacity: 0.8;\"><path d=\"M493.6666666666667,58.42998436102773 A0 0 0 0 0 493.6666666666667,58.42998436102773 L615.8333333333334,58.42998436102773 A0 0 0 0 0 615.8333333333334,58.42998436102773 L615.8333333333334,60.42998436102773 A0 0 0 0 0 615.8333333333334,60.42998436102773 L493.6666666666667,60.42998436102773 A0 0 0 0 0 493.6666666666667,60.42998436102773 Z\" style=\"fill: rgb(31, 120, 180);\"/><title>Aluminium primary → Aluminium\nAustralia\n25.0m</title><text class=\"label\" dy=\"0.35em\" x=\"497.6666666666667\" y=\"59.42998436102773\"/></g><g class=\"link\" style=\"opacity: 0.8;\"><path d=\"M1,376.97270852074337 A48.826803704290406 48.826803704290406 1.4202232038104339 0 0 49.27434156071724,335.4701595127695 L79.56081018019991,135.85130525035115 A44.10489146380679 44.10489146380679 1.4202232038104339 0 1 123.16666666666667,98.36235900365745 L123.16666666666667,100.36235900365745 A42.10489146380679 42.10489146380679 1.4202232038104339 0 0 81.53818071844283,136.15131484101263 L51.25171209896016,335.770169103431 A50.826803704290406 50.826803704290406 1.4202232038104339 0 1 1,378.97270852074337 Z\" style=\"fill: rgb(202, 178, 214);\"/><title>Jamaica → Aluminium mining\nJamaica\n26.0m</title><text class=\"label\" dy=\"0.35em\" x=\"5\" y=\"377.97270852074337\"/></g><g class=\"link\" style=\"opacity: 0.8;\"><path d=\"M124.16666666666667,98.36235900365745 A0 0 0 0 0 124.16666666666667,98.36235900365745 L246.33333333333334,98.36235900365745 A0 0 0 0 0 246.33333333333334,98.36235900365745 L246.33333333333334,100.36235900365745 A0 0 0 0 0 246.33333333333334,100.36235900365745 L124.16666666666667,100.36235900365745 A0 0 0 0 0 124.16666666666667,100.36235900365745 Z\" style=\"fill: rgb(202, 178, 214);\"/><title>Aluminium mining → \nJamaica\n26.0m</title><text class=\"label\" dy=\"0.35em\" x=\"128.16666666666669\" y=\"99.36235900365745\"/></g><g class=\"link\" style=\"opacity: 0.8;\"><path d=\"M247.33333333333334,98.36235900365745 A0 0 0 0 0 247.33333333333334,98.36235900365745 L369.5,98.36235900365745 A0 0 0 0 0 369.5,98.36235900365745 L369.5,100.36235900365745 A0 0 0 0 0 369.5,100.36235900365745 L247.33333333333334,100.36235900365745 A0 0 0 0 0 247.33333333333334,100.36235900365745 Z\" style=\"fill: rgb(202, 178, 214);\"/><title> → Aluminium refining\nJamaica\n26.0m</title><text class=\"label\" dy=\"0.35em\" x=\"251.33333333333334\" y=\"99.36235900365745\"/></g><g class=\"link\" style=\"opacity: 0.8;\"><path d=\"M370.5,451.0855523845577 A999 999 0.014320034417778515 0 0 384.8052254586693,450.983124973748 L478.33280211799,449.6437153010959 A1001 1001 0.014320034417778515 0 1 492.6666666666667,449.54108283040466 L492.6666666666667,451.54108283040466 A999 999 0.014320034417778515 0 0 478.36144120799736,451.64351024121436 L384.8338645486767,452.98291991386645 A1001 1001 0.014320034417778515 0 1 370.5,453.0855523845577 Z\" style=\"fill: rgb(202, 178, 214);\"/><title>Manganese refining → Manganese\nRussia\n26.1m</title><text class=\"label\" dy=\"0.35em\" x=\"374.5\" y=\"452.0855523845577\"/></g><g class=\"link\" style=\"opacity: 0.8;\"><path d=\"M1,140.92340716179064 A63.782114503064435 63.782114503064435 0.6287054087200423 0 1 38.510146678815865,153.11921508437052 L97.39375321598833,195.93547514634986 A43.824166587893195 43.824166587893195 0.6287054087200423 0 0 123.16666666666667,204.31511452076117 L123.16666666666667,206.31511452076117 A45.824166587893195 45.824166587893195 0.6287054087200423 0 1 96.21755681763865,197.55305421165372 L37.333950280466176,154.73679414967438 A61.782114503064435 61.782114503064435 0.6287054087200423 0 0 1,142.92340716179064 Z\" style=\"fill: rgb(251, 154, 153);\"/><title>Canada → Copper mining\nCanada\n27.1m</title><text class=\"label\" dy=\"0.35em\" x=\"5\" y=\"141.92340716179064\"/></g><g class=\"link\" style=\"opacity: 0.8;\"><path d=\"M124.16666666666667,204.31511452076117 A0 0 0 0 0 124.16666666666667,204.31511452076117 L246.33333333333334,204.31511452076117 A0 0 0 0 0 246.33333333333334,204.31511452076117 L246.33333333333334,206.31511452076117 A0 0 0 0 0 246.33333333333334,206.31511452076117 L124.16666666666667,206.31511452076117 A0 0 0 0 0 124.16666666666667,206.31511452076117 Z\" style=\"fill: rgb(251, 154, 153);\"/><title>Copper mining → Copper_smelting\nCanada\n27.1m</title><text class=\"label\" dy=\"0.35em\" x=\"128.16666666666669\" y=\"205.31511452076117\"/></g><g class=\"link\" style=\"opacity: 0.8;\"><path d=\"M370.5,268.79477872525797 A998.813975986656 998.813975986656 0.02246076727529367 0 0 392.93224202933897,268.5428454499246 L470.1853289889606,266.80738999491206 A1001 1001 0.02246076727529367 0 1 492.6666666666667,266.55490533343186 L492.6666666666667,268.55490533343186 A999 999 0.02246076727529367 0 0 470.23024674655835,268.806885530054 L392.97715978693674,270.5423409850665 A1000.813975986656 1000.813975986656 0.02246076727529367 0 1 370.5,270.79477872525797 Z\" style=\"fill: rgb(31, 120, 180);\"/><title>Cobalt refining → Cobalt\nAustralia\n27.2m</title><text class=\"label\" dy=\"0.35em\" x=\"374.5\" y=\"269.79477872525797\"/></g><g class=\"link\" style=\"opacity: 0.8;\"><path d=\"M370.5,442.7011259187123 A999 999 0.014320034417778515 0 0 384.8052254586693,442.5986985079026 L478.33280211799,441.2592888352505 A1001 1001 0.014320034417778515 0 1 492.6666666666667,441.1566563645593 L492.6666666666667,443.1566563645593 A999 999 0.014320034417778515 0 0 478.36144120799736,443.259083775369 L384.8338645486767,444.5984934480211 A1001 1001 0.014320034417778515 0 1 370.5,444.7011259187123 Z\" style=\"fill: rgb(177, 89, 40);\"/><title>Manganese refining → Manganese\nGabon\n27.4m</title><text class=\"label\" dy=\"0.35em\" x=\"374.5\" y=\"443.7011259187123\"/></g><g class=\"link\" style=\"opacity: 0.8;\"><path d=\"M1,130.44466801983882 A64.68649690671423 64.68649690671423 1.50414968125877 0 1 65.54288863074834,190.82321770529254 L74.4375581195771,324.0856818765247 A48.837531076918346 48.837531076918346 1.50414968125877 0 0 123.16666666666667,369.670764353553 L123.16666666666667,371.670764353553 A50.837531076918346 50.837531076918346 1.50414968125877 0 1 72.44199825106769,324.21887651303354 L63.54732876223893,190.95641234180138 A62.686496906714225 62.686496906714225 1.50414968125877 0 0 1,132.44466801983882 Z\" style=\"fill: rgb(178, 223, 138);\"/><title>Brazil → Lithium mining\nBrazil\n27.9m</title><text class=\"label\" dy=\"0.35em\" x=\"5\" y=\"131.44466801983882\"/></g><g class=\"link\" style=\"opacity: 0.8;\"><path d=\"M124.16666666666667,369.670764353553 A0 0 0 0 0 124.16666666666667,369.670764353553 L246.33333333333334,369.670764353553 A0 0 0 0 0 246.33333333333334,369.670764353553 L246.33333333333334,371.670764353553 A0 0 0 0 0 246.33333333333334,371.670764353553 L124.16666666666667,371.670764353553 A0 0 0 0 0 124.16666666666667,371.670764353553 Z\" style=\"fill: rgb(178, 223, 138);\"/><title>Lithium mining → \nBrazil\n27.9m</title><text class=\"label\" dy=\"0.35em\" x=\"128.16666666666669\" y=\"370.670764353553\"/></g><g class=\"link\" style=\"opacity: 0.8;\"><path d=\"M247.33333333333334,369.670764353553 A999 999 0.00827995314471619 0 0 255.60491201085196,369.6365200159689 L361.2118616054093,368.76207943828877 A1001 1001 0.00827995314471619 0 1 369.5,368.7277665434722 L369.5,370.7277665434722 A999 999 0.00827995314471619 0 0 361.22842132248144,370.7620108810563 L255.62147172792405,371.6364514587365 A1001 1001 0.00827995314471619 0 1 247.33333333333334,371.670764353553 Z\" style=\"fill: rgb(178, 223, 138);\"/><title> → Lithium refining\nBrazil\n27.9m</title><text class=\"label\" dy=\"0.35em\" x=\"251.33333333333334\" y=\"370.670764353553\"/></g><g class=\"link\" style=\"opacity: 0.8;\"><path d=\"M247.33333333333334,234.8512865020394 A0 0 0 0 1 247.33333333333334,234.8512865020394 L369.5,234.9308861782777 A0 0 0 0 0 369.5,234.9308861782777 L369.5,236.9308861782777 A0 0 0 0 1 369.5,236.9308861782777 L247.33333333333334,236.8512865020394 A0 0 0 0 0 247.33333333333334,236.8512865020394 Z\" style=\"fill: rgb(255, 255, 153);\"/><title>Copper_smelting → Copper_refining\nUSA\n28.6m</title><text class=\"label\" dy=\"0.35em\" x=\"251.33333333333334\" y=\"235.8512865020394\"/></g><g class=\"link\" style=\"opacity: 0.8;\"><path d=\"M370.5,234.9308861782777 A897.1845702138181 897.1845702138181 0.026096470309499464 0 0 393.9106930734032,234.6254006127618 L470.01530157104054,232.63888798078497 A868.0843063618606 868.0843063618606 0.026096470309499464 0 1 492.6666666666667,232.34331086761503 L492.6666666666667,234.34331086761503 A866.0843063618606 866.0843063618606 0.026096470309499464 0 0 470.0674885877384,234.63820699367116 L393.96288009010107,236.624719625648 A899.1845702138181 899.1845702138181 0.026096470309499464 0 1 370.5,236.9308861782777 Z\" style=\"fill: rgb(255, 255, 153);\"/><title>Copper_refining → \nUSA\n28.6m</title><text class=\"label\" dy=\"0.35em\" x=\"374.5\" y=\"235.9308861782777\"/></g><g class=\"link\" style=\"opacity: 0.8;\"><path d=\"M493.6666666666667,232.34331086761503 A50.25118428286808 50.25118428286808 0.5801704054272769 0 1 521.2126807979585,240.56594976393131 L572.3355303889047,274.072480249631 A79.35144813482555 79.35144813482555 0.5801704054272769 0 0 615.8333333333334,287.0568171010689 L615.8333333333334,289.0568171010689 A81.35144813482555 81.35144813482555 0.5801704054272769 0 1 571.2391974556853,275.7452187526668 L520.116347864739,242.2386882669672 A48.25118428286808 48.25118428286808 0.5801704054272769 0 0 493.6666666666667,234.34331086761503 Z\" style=\"fill: rgb(255, 255, 153);\"/><title> → Copper\nUSA\n28.6m</title><text class=\"label\" dy=\"0.35em\" x=\"497.6666666666667\" y=\"233.34331086761503\"/></g><g class=\"link\" style=\"opacity: 0.8;\"><path d=\"M1,335.7315101665912 A46.34853788248381 46.34853788248381 1.3265924110930816 0 0 45.97338199262111,300.58930424375507 L70.19480199375627,203.38361927589554 A54.59159101935049 54.59159101935049 1.3265924110930816 0 1 123.16666666666667,161.99139805585352 L123.16666666666667,163.99139805585352 A52.59159101935049 52.59159101935049 1.3265924110930816 0 0 72.13546221939922,203.86718714973276 L47.914042218264065,301.0728721175922 A48.34853788248381 48.34853788248381 1.3265924110930816 0 1 1,337.7315101665912 Z\" style=\"fill: rgb(251, 154, 153);\"/><title>India → Graphite production\nIndia  \n29.1m</title><text class=\"label\" dy=\"0.35em\" x=\"5\" y=\"336.7315101665912\"/></g><g class=\"link\" style=\"opacity: 0.8;\"><path d=\"M124.16666666666667,161.99139805585352 A0 0 0 0 0 124.16666666666667,161.99139805585352 L246.33333333333334,161.99139805585352 A0 0 0 0 0 246.33333333333334,161.99139805585352 L246.33333333333334,163.99139805585352 A0 0 0 0 0 246.33333333333334,163.99139805585352 L124.16666666666667,163.99139805585352 A0 0 0 0 0 124.16666666666667,163.99139805585352 Z\" style=\"fill: rgb(251, 154, 153);\"/><title>Graphite production → \nIndia  \n29.1m</title><text class=\"label\" dy=\"0.35em\" x=\"128.16666666666669\" y=\"162.99139805585352\"/></g><g class=\"link\" style=\"opacity: 0.8;\"><path d=\"M247.33333333333334,161.99139805585352 A0 0 0 0 1 247.33333333333334,161.99139805585352 L369.5,162.0311978939727 A0 0 0 0 0 369.5,162.0311978939727 L369.5,164.0311978939727 A0 0 0 0 1 369.5,164.0311978939727 L247.33333333333334,163.99139805585352 A0 0 0 0 0 247.33333333333334,163.99139805585352 Z\" style=\"fill: rgb(251, 154, 153);\"/><title> → \nIndia  \n29.1m</title><text class=\"label\" dy=\"0.35em\" x=\"251.33333333333334\" y=\"162.99139805585352\"/></g><g class=\"link\" style=\"opacity: 0.8;\"><path d=\"M370.5,162.0311978939727 A792.4590596340499 792.4590596340499 0.02964143367342431 0 0 393.98618308528927,161.68309033681894 L469.8239985570601,159.43449017002627 A770.7458987241623 770.7458987241623 0.02964143367342431 0 1 492.6666666666667,159.09592066447345 L492.6666666666667,161.09592066447345 A768.7458987241623 768.7458987241623 0.02964143367342431 0 0 469.88327274365633,161.43361161976446 L394.0454572718855,163.68221178655713 A794.4590596340499 794.4590596340499 0.02964143367342431 0 1 370.5,164.0311978939727 Z\" style=\"fill: rgb(251, 154, 153);\"/><title> → \nIndia  \n29.1m</title><text class=\"label\" dy=\"0.35em\" x=\"374.5\" y=\"163.0311978939727\"/></g><g class=\"link\" style=\"opacity: 0.8;\"><path d=\"M493.6666666666667,159.09592066447345 A94.45560029552949 94.45560029552949 0.2865342639509212 0 1 520.3626051911145,162.94695543768648 L583.0006151260694,181.40276340804135 A116.16876120541714 116.16876120541714 0.2865342639509212 0 0 615.8333333333334,186.13906213001684 L615.8333333333334,188.13906213001684 A118.16876120541714 118.16876120541714 0.2865342639509212 0 1 582.4353561379115,183.3212217152002 L519.7973462029566,164.86541374484534 A92.45560029552949 92.45560029552949 0.2865342639509212 0 0 493.6666666666667,161.09592066447345 Z\" style=\"fill: rgb(251, 154, 153);\"/><title> → Graphite/Carbon\nIndia  \n29.1m</title><text class=\"label\" dy=\"0.35em\" x=\"497.6666666666667\" y=\"160.09592066447345\"/></g><g class=\"link\" style=\"opacity: 0.8;\"><path d=\"M1,383.9942240234395 A36.93549829986434 36.93549829986434 1.2881345897422984 0 0 36.46976655636606,357.3605068849169 L61.48954520966218,271.2156262836313 A64.2258304997739 64.2258304997739 1.2881345897422984 0 1 123.16666666666667,224.9031983686151 L123.16666666666667,226.9031983686151 A62.2258304997739 62.2258304997739 1.2881345897422984 0 0 63.41017810695797,271.77345177052234 L38.39039945366185,357.91833237180794 A38.93549829986434 38.93549829986434 1.2881345897422984 0 1 1,385.9942240234395 Z\" style=\"fill: rgb(106, 61, 154);\"/><title>Kazakhstan → Copper mining\nKazakhstan\n29.4m</title><text class=\"label\" dy=\"0.35em\" x=\"5\" y=\"384.9942240234395\"/></g><g class=\"link\" style=\"opacity: 0.8;\"><path d=\"M124.16666666666667,224.9031983686151 A0 0 0 0 0 124.16666666666667,224.9031983686151 L246.33333333333334,224.9031983686151 A0 0 0 0 0 246.33333333333334,224.9031983686151 L246.33333333333334,226.9031983686151 A0 0 0 0 0 246.33333333333334,226.9031983686151 L124.16666666666667,226.9031983686151 A0 0 0 0 0 124.16666666666667,226.9031983686151 Z\" style=\"fill: rgb(106, 61, 154);\"/><title>Copper mining → Copper_smelting\nKazakhstan\n29.4m</title><text class=\"label\" dy=\"0.35em\" x=\"128.16666666666669\" y=\"225.9031983686151\"/></g><g class=\"link\" style=\"opacity: 0.8;\"><path d=\"M616.8333333333334,744.7280581443155 A68.78377019236952 68.78377019236952 1.6183855792377684 0 0 685.5392296514627,672.6721551613722 L671.8207355051845,384.6210592002667 A67.2554080265232 67.2554080265232 1.6183855792377684 0 1 739,314.1662245454628 L739,316.1662245454628 A65.2554080265232 65.2554080265232 1.6183855792377684 0 0 673.8184711956237,384.5259166170258 L687.5369653419019,672.5770125781313 A70.78377019236952 70.78377019236952 1.6183855792377684 0 1 616.8333333333334,746.7280581443155 Z\" style=\"fill: rgb(227, 26, 28);\"/><title>Other → NMC622\nCoolant: Glycol\n29.5m</title><text class=\"label\" dy=\"0.35em\" x=\"620.8333333333334\" y=\"745.7280581443155\"/></g><g class=\"link\" style=\"opacity: 0.8;\"><path d=\"M247.33333333333334,231.3570970100325 A0 0 0 0 1 247.33333333333334,231.3570970100325 L369.5,231.4366966862708 A0 0 0 0 0 369.5,231.4366966862708 L369.5,233.4366966862708 A0 0 0 0 1 369.5,233.4366966862708 L247.33333333333334,233.3570970100325 A0 0 0 0 0 247.33333333333334,233.3570970100325 Z\" style=\"fill: rgb(255, 127, 0);\"/><title>Copper_smelting → Copper_refining\nPoland\n30.0m</title><text class=\"label\" dy=\"0.35em\" x=\"251.33333333333334\" y=\"232.3570970100325\"/></g><g class=\"link\" style=\"opacity: 0.8;\"><path d=\"M370.5,231.4366966862708 A893.6903807218113 893.6903807218113 0.026096470309499464 0 0 393.8195174107208,231.13240086976356 L469.9241259083581,229.14588823778675 A871.5784958538675 871.5784958538675 0.026096470309499464 0 1 492.6666666666667,228.84912137560815 L492.6666666666667,230.84912137560815 A869.5784958538675 869.5784958538675 0.026096470309499464 0 0 469.976312925056,231.14520725067294 L393.87170442741865,233.13171988264975 A895.6903807218113 895.6903807218113 0.026096470309499464 0 1 370.5,233.4366966862708 Z\" style=\"fill: rgb(255, 127, 0);\"/><title>Copper_refining → \nPoland\n30.0m</title><text class=\"label\" dy=\"0.35em\" x=\"374.5\" y=\"232.4366966862708\"/></g><g class=\"link\" style=\"opacity: 0.8;\"><path d=\"M493.6666666666667,228.84912137560815 A53.74537377487494 53.74537377487494 0.5801704054272772 0 1 523.1280783054566,237.64351711383972 L574.2509278964027,271.1500475995394 A75.85725864281868 75.85725864281868 0.5801704054272772 0 0 615.8333333333334,283.562627609062 L615.8333333333334,285.562627609062 A77.85725864281868 77.85725864281868 0.5801704054272772 0 1 573.1545949631833,272.8227861025752 L522.0317453722372,239.3162556168756 A51.74537377487494 51.74537377487494 0.5801704054272772 0 0 493.6666666666667,230.84912137560815 Z\" style=\"fill: rgb(255, 127, 0);\"/><title> → Copper\nPoland\n30.0m</title><text class=\"label\" dy=\"0.35em\" x=\"497.6666666666667\" y=\"229.84912137560815\"/></g><g class=\"link\" style=\"opacity: 0.8;\"><path d=\"M370.5,449.79359605327704 A999 999 0.014320034417778515 0 0 384.8052254586693,449.69116864246735 L478.33280211799,448.35175896981525 A1001 1001 0.014320034417778515 0 1 492.6666666666667,448.24912649912403 L492.6666666666667,450.24912649912403 A999 999 0.014320034417778515 0 0 478.36144120799736,450.3515539099337 L384.8338645486767,451.6909635825858 A1001 1001 0.014320034417778515 0 1 370.5,451.79359605327704 Z\" style=\"fill: rgb(255, 127, 0);\"/><title>Manganese refining → Manganese\nKorea\n31.5m</title><text class=\"label\" dy=\"0.35em\" x=\"374.5\" y=\"450.79359605327704\"/></g><g class=\"link\" style=\"opacity: 0.8;\"><path d=\"M247.33333333333334,229.96666077475442 A0 0 0 0 1 247.33333333333334,229.96666077475442 L369.5,230.04626045099272 A0 0 0 0 0 369.5,230.04626045099272 L369.5,232.04626045099272 A0 0 0 0 1 369.5,232.04626045099272 L247.33333333333334,231.96666077475442 A0 0 0 0 0 247.33333333333334,231.96666077475442 Z\" style=\"fill: rgb(178, 223, 138);\"/><title>Copper_smelting → Copper_refining\nKorea (Rep. of)\n31.9m</title><text class=\"label\" dy=\"0.35em\" x=\"251.33333333333334\" y=\"230.96666077475442\"/></g><g class=\"link\" style=\"opacity: 0.8;\"><path d=\"M370.5,230.04626045099272 A892.2999444865331 892.2999444865331 0.026096470309499464 0 0 393.78323605120687,229.7424380690649 L469.8878445488442,227.75592543708805 A872.9689320891456 872.9689320891456 0.026096470309499464 0 1 492.6666666666667,227.45868514033006 L492.6666666666667,229.45868514033006 A870.9689320891456 870.9689320891456 0.026096470309499464 0 0 469.9400315655421,229.75524444997424 L393.83542306790474,231.74175708195108 A894.2999444865331 894.2999444865331 0.026096470309499464 0 1 370.5,232.04626045099272 Z\" style=\"fill: rgb(178, 223, 138);\"/><title>Copper_refining → \nKorea (Rep. of)\n31.9m</title><text class=\"label\" dy=\"0.35em\" x=\"374.5\" y=\"231.04626045099272\"/></g><g class=\"link\" style=\"opacity: 0.8;\"><path d=\"M493.6666666666667,227.45868514033006 A55.13581001015303 55.13581001015303 0.5801704054272774 0 1 523.8902688235951,236.4805990004568 L575.0131184145412,269.98712948615645 A74.46682240754059 74.46682240754059 0.5801704054272774 0 0 615.8333333333334,282.17219137378396 L615.8333333333334,284.17219137378396 A76.46682240754059 76.46682240754059 0.5801704054272774 0 1 573.9167854813218,271.65986798919226 L522.7939358903757,238.15333750349268 A53.13581001015303 53.13581001015303 0.5801704054272774 0 0 493.6666666666667,229.45868514033006 Z\" style=\"fill: rgb(178, 223, 138);\"/><title> → Copper\nKorea (Rep. of)\n31.9m</title><text class=\"label\" dy=\"0.35em\" x=\"497.6666666666667\" y=\"228.45868514033006\"/></g><g class=\"link\" style=\"opacity: 0.8;\"><path d=\"M370.5,309.76435479291905 A999 999 0.02246076727529367 0 0 392.93641992010834,309.5123745962969 L470.18950687972995,307.7769191412844 A1000.813975986656 1000.813975986656 0.02246076727529367 0 1 492.6666666666667,307.52448140109294 L492.6666666666667,309.52448140109294 A998.813975986656 998.813975986656 0.02246076727529367 0 0 470.2344246373277,309.7764146764263 L392.9813376777061,311.51187013143885 A1001 1001 0.02246076727529367 0 1 370.5,311.76435479291905 Z\" style=\"fill: rgb(253, 191, 111);\"/><title>Cobalt refining → Cobalt\nNorway\n32.0m</title><text class=\"label\" dy=\"0.35em\" x=\"374.5\" y=\"310.76435479291905\"/></g><g class=\"link\" style=\"opacity: 0.8;\"><path d=\"M1,520.5753832666924 A44.250058234409686 44.250058234409686 0.5802169670235799 0 0 25.258121259522103,513.3335836606884 L97.81213458973875,465.77598115629854 A46.250058234409686 46.250058234409686 0.5802169670235799 0 1 123.16666666666667,458.20686900450585 L123.16666666666667,460.20686900450585 A44.250058234409686 44.250058234409686 0.5802169670235799 0 0 98.90854540714457,467.44866861050974 L26.35453207692792,515.0062711148996 A46.250058234409686 46.250058234409686 0.5802169670235799 0 1 1,522.5753832666924 Z\" style=\"fill: rgb(177, 89, 40);\"/><title>Ukraine → Manganese mining\nUkraine\n32.8m</title><text class=\"label\" dy=\"0.35em\" x=\"5\" y=\"521.5753832666924\"/></g><g class=\"link\" style=\"opacity: 0.8;\"><path d=\"M124.16666666666667,458.20686900450585 A0 0 0 0 0 124.16666666666667,458.20686900450585 L246.33333333333334,458.20686900450585 A0 0 0 0 0 246.33333333333334,458.20686900450585 L246.33333333333334,460.20686900450585 A0 0 0 0 0 246.33333333333334,460.20686900450585 L124.16666666666667,460.20686900450585 A0 0 0 0 0 124.16666666666667,460.20686900450585 Z\" style=\"fill: rgb(177, 89, 40);\"/><title>Manganese mining → \nUkraine\n32.8m</title><text class=\"label\" dy=\"0.35em\" x=\"128.16666666666669\" y=\"459.20686900450585\"/></g><g class=\"link\" style=\"opacity: 0.8;\"><path d=\"M247.33333333333334,458.20686900450585 A999 999 0.002263935178821175 0 0 249.59500264498027,458.2043088670536 L367.23380282186326,457.9379817939275 A1001 1001 0.002263935178821175 0 1 369.5,457.93541653107496 L369.5,459.93541653107496 A999 999 0.002263935178821175 0 0 367.238330688353,459.9379766685272 L249.59953051147008,460.2043037416533 A1001 1001 0.002263935178821175 0 1 247.33333333333334,460.20686900450585 Z\" style=\"fill: rgb(177, 89, 40);\"/><title> → Manganese refining\nUkraine\n32.8m</title><text class=\"label\" dy=\"0.35em\" x=\"251.33333333333334\" y=\"459.20686900450585\"/></g><g class=\"link\" style=\"opacity: 0.8;\"><path d=\"M370.5,522.2875275992092 A402.5795173790266 402.5795173790266 0.061376068885713675 0 0 395.1932380466279,521.5295026865545 L469.52598296486156,516.9615136682 A377.2678681873226 377.2678681873226 0.061376068885713675 0 1 492.6666666666667,516.2511485589863 L492.6666666666667,518.2511485589863 A375.2678681873226 375.2678681873226 0.061376068885713675 0 0 469.6486580488171,518.9577478287574 L395.31591313058345,523.5257368471118 A404.5795173790266 404.5795173790266 0.061376068885713675 0 1 370.5,524.2875275992092 Z\" style=\"fill: rgb(51, 160, 44);\"/><title>Nickel refining → Nickel\nNew Caledonia\n35.3m</title><text class=\"label\" dy=\"0.35em\" x=\"374.5\" y=\"523.2875275992092\"/></g><g class=\"link\" style=\"opacity: 0.8;\"><path d=\"M1,391.2252949103432 A42.99611593289254 42.99611593289254 1.3876060314052512 0 0 43.27668470284698,356.06167001484107 L70.91115440444851,206.90174669953342 A53.14475529836705 53.14475529836705 1.3876060314052512 0 1 123.16666666666667,163.43823377683697 L123.16666666666667,165.43823377683697 A51.14475529836705 51.14475529836705 1.3876060314052512 0 0 72.87768946397954,207.2660815175721 L45.243219762378004,356.4260048328798 A44.99611593289254 44.99611593289254 1.3876060314052512 0 1 1,393.2252949103432 Z\" style=\"fill: rgb(255, 255, 153);\"/><title>Korea, Dem. P.R. of → Graphite production\nKorea, Dem. P.R. of\n35.3m</title><text class=\"label\" dy=\"0.35em\" x=\"5\" y=\"392.2252949103432\"/></g><g class=\"link\" style=\"opacity: 0.8;\"><path d=\"M124.16666666666667,163.43823377683697 A0 0 0 0 0 124.16666666666667,163.43823377683697 L246.33333333333334,163.43823377683697 A0 0 0 0 0 246.33333333333334,163.43823377683697 L246.33333333333334,165.43823377683697 A0 0 0 0 0 246.33333333333334,165.43823377683697 L124.16666666666667,165.43823377683697 A0 0 0 0 0 124.16666666666667,165.43823377683697 Z\" style=\"fill: rgb(255, 255, 153);\"/><title>Graphite production → \nKorea, Dem. P.R. of\n35.3m</title><text class=\"label\" dy=\"0.35em\" x=\"128.16666666666669\" y=\"164.43823377683697\"/></g><g class=\"link\" style=\"opacity: 0.8;\"><path d=\"M247.33333333333334,163.43823377683697 A0 0 0 0 1 247.33333333333334,163.43823377683697 L369.5,163.47803361495613 A0 0 0 0 0 369.5,163.47803361495613 L369.5,165.47803361495613 A0 0 0 0 1 369.5,165.47803361495613 L247.33333333333334,165.43823377683697 A0 0 0 0 0 247.33333333333334,165.43823377683697 Z\" style=\"fill: rgb(255, 255, 153);\"/><title> → \nKorea, Dem. P.R. of\n35.3m</title><text class=\"label\" dy=\"0.35em\" x=\"251.33333333333334\" y=\"164.43823377683697\"/></g><g class=\"link\" style=\"opacity: 0.8;\"><path d=\"M370.5,163.47803361495613 A793.9058953550333 793.9058953550333 0.02964143367342431 0 0 394.02906309053907,163.12929049885165 L469.8668785623099,160.88069033205898 A769.299063003179 769.299063003179 0.02964143367342431 0 1 492.6666666666667,160.5427563854569 L492.6666666666667,162.5427563854569 A767.299063003179 767.299063003179 0.02964143367342431 0 0 469.92615274890613,162.87981178179717 L394.0883372771353,165.12841194858984 A795.9058953550333 795.9058953550333 0.02964143367342431 0 1 370.5,165.47803361495613 Z\" style=\"fill: rgb(255, 255, 153);\"/><title> → \nKorea, Dem. P.R. of\n35.3m</title><text class=\"label\" dy=\"0.35em\" x=\"374.5\" y=\"164.47803361495613\"/></g><g class=\"link\" style=\"opacity: 0.8;\"><path d=\"M493.6666666666667,160.5427563854569 A93.00876457454605 93.00876457454605 0.2865342639509212 0 1 519.9536867432777,164.3348024416939 L582.5916966782326,182.79061041204875 A117.61559692640058 117.61559692640058 0.2865342639509212 0 0 615.8333333333334,187.58589785100028 L615.8333333333334,189.58589785100028 A119.61559692640058 119.61559692640058 0.2865342639509212 0 1 582.0264376900747,184.7090687192076 L519.3884277551198,166.25326074885277 A91.00876457454605 91.00876457454605 0.2865342639509212 0 0 493.6666666666667,162.5427563854569 Z\" style=\"fill: rgb(255, 255, 153);\"/><title> → Graphite/Carbon\nKorea, Dem. P.R. of\n35.3m</title><text class=\"label\" dy=\"0.35em\" x=\"497.6666666666667\" y=\"161.5427563854569\"/></g><g class=\"link\" style=\"opacity: 0.8;\"><path d=\"M370.5,384.8894820814343 A999 999 0.018197416461446236 0 0 388.6782157324222,384.7240792359309 L474.4520581099554,383.16304459077605 A1001 1001 0.018197416461446236 0 1 492.6666666666667,382.99731060844476 L492.6666666666667,384.99731060844476 A999 999 0.018197416461446236 0 0 474.4884509342445,385.1627134539482 L388.7146085567113,386.72374809910303 A1001 1001 0.018197416461446236 0 1 370.5,386.8894820814343 Z\" style=\"fill: rgb(255, 255, 153);\"/><title>Lithium refining → Lithium\nUSA\n35.7m</title><text class=\"label\" dy=\"0.35em\" x=\"374.5\" y=\"385.8894820814343\"/></g><g class=\"link\" style=\"opacity: 0.8;\"><path d=\"M370.5,448.27536540170325 A999 999 0.014320034417778515 0 0 384.8052254586693,448.17293799089356 L478.33280211799,446.83352831824146 A1001 1001 0.014320034417778515 0 1 492.6666666666667,446.73089584755024 L492.6666666666667,448.73089584755024 A999 999 0.014320034417778515 0 0 478.36144120799736,448.83332325835994 L384.8338645486767,450.17273293101204 A1001 1001 0.014320034417778515 0 1 370.5,450.27536540170325 Z\" style=\"fill: rgb(31, 120, 180);\"/><title>Manganese refining → Manganese\nJapan\n36.1m</title><text class=\"label\" dy=\"0.35em\" x=\"374.5\" y=\"449.27536540170325\"/></g><g class=\"link\" style=\"opacity: 0.8;\"><path d=\"M370.5,510.0142691514365 A390.3062589312539 390.3062589312539 0.061376068885713675 0 0 394.4404265413836,509.2793537991574 L468.7731714596173,504.7113647808029 A389.5411266350953 389.5411266350953 0.061376068885713675 0 1 492.6666666666667,503.97789011121364 L492.6666666666667,505.97789011121364 A387.5411266350953 387.5411266350953 0.061376068885713675 0 0 468.8958465435728,506.7075989413604 L394.56310162533913,511.27558795971487 A392.3062589312539 392.3062589312539 0.061376068885713675 0 1 370.5,512.0142691514366 Z\" style=\"fill: rgb(227, 26, 28);\"/><title>Nickel refining → Nickel\nFinland\n36.2m</title><text class=\"label\" dy=\"0.35em\" x=\"374.5\" y=\"511.0142691514365\"/></g><g class=\"link\" style=\"opacity: 0.8;\"><path d=\"M370.5,523.9106509598516 A404.202640739669 404.202640739669 0.061376068885713675 0 0 395.29279644389646,523.1495698362111 L469.6255413621301,518.5815808178567 A375.6447448266802 375.6447448266802 0.061376068885713675 0 1 492.6666666666667,517.8742719196288 L492.6666666666667,519.8742719196288 A373.6447448266802 373.6447448266802 0.061376068885713675 0 0 469.7482164460856,520.577814978414 L395.415471527852,525.1458039967684 A406.202640739669 406.202640739669 0.061376068885713675 0 1 370.5,525.9106509598516 Z\" style=\"fill: rgb(253, 191, 111);\"/><title>Nickel refining → Nickel\nNorway\n37.0m</title><text class=\"label\" dy=\"0.35em\" x=\"374.5\" y=\"524.9106509598516\"/></g><g class=\"link\" style=\"opacity: 0.8;\"><path d=\"M1,414.27018433583754 A39.0968785484409 39.0968785484409 1.3633656731677708 0 0 39.258770162423794,383.2251638270276 L61.78096551336207,276.20992694087687 A62.730435202509724 62.730435202509724 1.3633656731677708 0 1 123.16666666666667,226.3985936658793 L123.16666666666667,228.3985936658793 A60.730435202509724 60.730435202509724 1.3633656731677708 0 0 63.738092096499464,276.6218195695763 L41.21589674556119,383.637056455727 A41.0968785484409 41.0968785484409 1.3633656731677708 0 1 1,416.27018433583754 Z\" style=\"fill: rgb(31, 120, 180);\"/><title>Mexico → Copper mining\nMexico\n37.2m</title><text class=\"label\" dy=\"0.35em\" x=\"5\" y=\"415.27018433583754\"/></g><g class=\"link\" style=\"opacity: 0.8;\"><path d=\"M124.16666666666667,226.3985936658793 A0 0 0 0 0 124.16666666666667,226.3985936658793 L246.33333333333334,226.3985936658793 A0 0 0 0 0 246.33333333333334,226.3985936658793 L246.33333333333334,228.3985936658793 A0 0 0 0 0 246.33333333333334,228.3985936658793 L124.16666666666667,228.3985936658793 A0 0 0 0 0 124.16666666666667,228.3985936658793 Z\" style=\"fill: rgb(31, 120, 180);\"/><title>Copper mining → Copper_smelting\nMexico\n37.2m</title><text class=\"label\" dy=\"0.35em\" x=\"128.16666666666669\" y=\"227.3985936658793\"/></g><g class=\"link\" style=\"opacity: 0.8;\"><path d=\"M616.8333333333334,640.0741902207923 A55.34520261879666 55.34520261879666 1.5955719501459662 0 0 672.1615505062921,583.3579159854968 L667.2015194812732,383.20084874371327 A71.82052224109577 71.82052224109577 1.5955719501459662 0 1 739,309.60111033089015 L739,311.60111033089015 A69.82052224109577 69.82052224109577 1.5955719501459662 0 0 669.2009056811592,383.15130256620836 L674.1609367061781,583.3083698079919 A57.34520261879666 57.34520261879666 1.5955719501459662 0 1 616.8333333333334,642.0741902207923 Z\" style=\"fill: rgb(255, 255, 153);\"/><title>Electrolyte → NMC622\nElectrolyte: Dimethyl Carbonate\n38.1m</title><text class=\"label\" dy=\"0.35em\" x=\"620.8333333333334\" y=\"641.0741902207923\"/></g><g class=\"link\" style=\"opacity: 0.8;\"><path d=\"M616.8333333333334,641.787712625518 A57.05872502352241 57.05872502352241 1.5955719501459662 0 0 673.8745470308942,583.3154667428851 L668.9145160058753,383.1583995011017 A70.10699983637002 70.10699983637002 1.5955719501459662 0 1 739,311.31463273561593 L739,313.31463273561593 A68.10699983637002 68.10699983637002 1.5955719501459662 0 0 670.9139022057612,383.1088533235968 L675.8739332307802,583.2659205653802 A59.05872502352241 59.05872502352241 1.5955719501459662 0 1 616.8333333333334,643.787712625518 Z\" style=\"fill: rgb(177, 89, 40);\"/><title>Electrolyte → NMC622\nElectrolyte: Ethylene Carbonate\n38.1m</title><text class=\"label\" dy=\"0.35em\" x=\"620.8333333333334\" y=\"642.787712625518\"/></g><g class=\"link\" style=\"opacity: 0.8;\"><path d=\"M1,527.954868019779 A50.1012217826548 50.1012217826548 1.458828282714943 0 0 50.78749417784975,483.45166799532956 L73.26764560213226,283.51846721540505 A50.21345143744635 50.21345143744635 1.458828282714943 0 1 123.16666666666667,238.9155774309427 L123.16666666666667,240.9155774309427 A48.21345143744635 48.21345143744635 1.458828282714943 0 0 75.25512185146741,283.74193568818964 L52.77497042718491,483.67513646811415 A52.1012217826548 52.1012217826548 1.458828282714943 0 1 1,529.954868019779 Z\" style=\"fill: rgb(166, 206, 227);\"/><title>Zambia → Copper mining\nZambia\n38.6m</title><text class=\"label\" dy=\"0.35em\" x=\"5\" y=\"528.954868019779\"/></g><g class=\"link\" style=\"opacity: 0.8;\"><path d=\"M124.16666666666667,238.9155774309427 A0 0 0 0 0 124.16666666666667,238.9155774309427 L246.33333333333334,238.9155774309427 A0 0 0 0 0 246.33333333333334,238.9155774309427 L246.33333333333334,240.9155774309427 A0 0 0 0 0 246.33333333333334,240.9155774309427 L124.16666666666667,240.9155774309427 A0 0 0 0 0 124.16666666666667,240.9155774309427 Z\" style=\"fill: rgb(166, 206, 227);\"/><title>Copper mining → Copper_smelting\nZambia\n38.6m</title><text class=\"label\" dy=\"0.35em\" x=\"128.16666666666669\" y=\"239.9155774309427\"/></g><g class=\"link\" style=\"opacity: 0.8;\"><path d=\"M1,231.7313374596638 A49.252888372989126 49.252888372989126 1.4085206234031333 0 1 49.605812119618925,273.0267110651873 L80.35039802522462,460.81971049926796 A43.386270241818835 43.386270241818835 1.4085206234031333 0 0 123.16666666666667,497.1963027798677 L123.16666666666667,499.1963027798677 A45.386270241818835 45.386270241818835 1.4085206234031333 0 1 78.37667369248985,461.1428393564917 L47.63208778688416,273.3498399224111 A47.252888372989126 47.252888372989126 1.4085206234031333 0 0 1,233.7313374596638 Z\" style=\"fill: rgb(253, 191, 111);\"/><title>China → Nickel mining\nChina\n38.7m</title><text class=\"label\" dy=\"0.35em\" x=\"5\" y=\"232.7313374596638\"/></g><g class=\"link\" style=\"opacity: 0.8;\"><path d=\"M124.16666666666667,497.1963027798677 A0 0 0 0 0 124.16666666666667,497.1963027798677 L246.33333333333334,497.1963027798677 A0 0 0 0 0 246.33333333333334,497.1963027798677 L246.33333333333334,499.1963027798677 A0 0 0 0 0 246.33333333333334,499.1963027798677 L124.16666666666667,499.1963027798677 A0 0 0 0 0 124.16666666666667,499.1963027798677 Z\" style=\"fill: rgb(253, 191, 111);\"/><title>Nickel mining → \nChina\n38.7m</title><text class=\"label\" dy=\"0.35em\" x=\"128.16666666666669\" y=\"498.1963027798677\"/></g><g class=\"link\" style=\"opacity: 0.8;\"><path d=\"M247.33333333333334,497.1963027798677 A999 999 0.001926581721526599 0 0 249.2579872825094,497.19444877773486 L367.57149288976456,496.96650785840484 A1001 1001 0.001926581721526599 0 1 369.5,496.964650144556 L369.5,498.964650144556 A999 999 0.001926581721526599 0 0 367.57534605082395,498.96650414668886 L249.2618404435688,499.1944450660189 A1001 1001 0.001926581721526599 0 1 247.33333333333334,499.1963027798677 Z\" style=\"fill: rgb(253, 191, 111);\"/><title> → Nickel refining\nChina\n38.7m</title><text class=\"label\" dy=\"0.35em\" x=\"251.33333333333334\" y=\"498.1963027798677\"/></g><g class=\"link\" style=\"opacity: 0.8;\"><path d=\"M247.33333333333334,236.37296002545781 A0 0 0 0 1 247.33333333333334,236.37296002545781 L369.5,236.45255970169612 A0 0 0 0 0 369.5,236.45255970169612 L369.5,238.45255970169612 A0 0 0 0 1 369.5,238.45255970169612 L247.33333333333334,238.37296002545781 A0 0 0 0 0 247.33333333333334,238.37296002545781 Z\" style=\"fill: rgb(51, 160, 44);\"/><title>Copper_smelting → Copper_refining\nZambia  (a)\n39.2m</title><text class=\"label\" dy=\"0.35em\" x=\"251.33333333333334\" y=\"237.37296002545781\"/></g><g class=\"link\" style=\"opacity: 0.8;\"><path d=\"M370.5,236.45255970169612 A898.7062437372366 898.7062437372366 0.026096470309499464 0 0 393.95039887419085,236.1465560161498 L470.0550073718282,234.16004338417295 A866.5626328384421 866.5626328384421 0.026096470309499464 0 1 492.6666666666667,233.86498439103346 L492.6666666666667,235.86498439103346 A864.5626328384421 864.5626328384421 0.026096470309499464 0 0 470.10719438852607,236.15936239705914 L394.0025858908887,238.14587502903598 A900.7062437372366 900.7062437372366 0.026096470309499464 0 1 370.5,238.45255970169612 Z\" style=\"fill: rgb(51, 160, 44);\"/><title>Copper_refining → \nZambia  (a)\n39.2m</title><text class=\"label\" dy=\"0.35em\" x=\"374.5\" y=\"237.45255970169612\"/></g><g class=\"link\" style=\"opacity: 0.8;\"><path d=\"M493.6666666666667,233.86498439103346 A48.72951075944964 48.72951075944964 0.5801704054272774 0 1 520.3785503992926,241.83863070976744 L571.5013999902388,275.34516119546714 A80.87312165824399 80.87312165824399 0.5801704054272774 0 0 615.8333333333334,288.57849062448736 L615.8333333333334,290.57849062448736 A82.87312165824399 82.87312165824399 0.5801704054272774 0 1 570.4050670570194,277.01789969850296 L519.2822174660732,243.51136921280332 A46.72951075944964 46.72951075944964 0.5801704054272774 0 0 493.6666666666667,235.86498439103346 Z\" style=\"fill: rgb(51, 160, 44);\"/><title> → Copper\nZambia  (a)\n39.2m</title><text class=\"label\" dy=\"0.35em\" x=\"497.6666666666667\" y=\"234.86498439103346\"/></g><g class=\"link\" style=\"opacity: 0.8;\"><path d=\"M1,479.6202064635703 A44.909261897631175 44.909261897631175 1.4243212769568416 0 0 45.42835986635467,441.2655340859406 L69.05116624692455,281.1452794572501 A54.701258123913114 54.701258123913114 1.4243212769568416 0 1 123.16666666666667,234.4277707444759 L123.16666666666667,236.4277707444759 A52.701258123913114 52.701258123913114 1.4243212769568416 0 0 71.02974963881495,281.4371831422825 L47.406943258245064,441.55743777097297 A46.909261897631175 46.909261897631175 1.4243212769568416 0 1 1,481.6202064635703 Z\" style=\"fill: rgb(202, 178, 214);\"/><title>Russia → Copper mining\nRussia\n39.3m</title><text class=\"label\" dy=\"0.35em\" x=\"5\" y=\"480.6202064635703\"/></g><g class=\"link\" style=\"opacity: 0.8;\"><path d=\"M124.16666666666667,234.4277707444759 A0 0 0 0 0 124.16666666666667,234.4277707444759 L246.33333333333334,234.4277707444759 A0 0 0 0 0 246.33333333333334,234.4277707444759 L246.33333333333334,236.4277707444759 A0 0 0 0 0 246.33333333333334,236.4277707444759 L124.16666666666667,236.4277707444759 A0 0 0 0 0 124.16666666666667,236.4277707444759 Z\" style=\"fill: rgb(202, 178, 214);\"/><title>Copper mining → Copper_smelting\nRussia\n39.3m</title><text class=\"label\" dy=\"0.35em\" x=\"128.16666666666669\" y=\"235.4277707444759\"/></g><g class=\"link\" style=\"opacity: 0.8;\"><path d=\"M493.6666666666667,94.10686789766392 A0 0 0 0 0 493.6666666666667,94.10686789766392 L615.8333333333334,94.10686789766392 A0 0 0 0 0 615.8333333333334,94.10686789766392 L615.8333333333334,96.10686789766392 A0 0 0 0 0 615.8333333333334,96.10686789766392 L493.6666666666667,96.10686789766392 A0 0 0 0 0 493.6666666666667,96.10686789766392 Z\" style=\"fill: rgb(106, 61, 154);\"/><title>Aluminium primary → Aluminium\nUnited Arab Emirates\n41.4m</title><text class=\"label\" dy=\"0.35em\" x=\"497.6666666666667\" y=\"95.10686789766392\"/></g><g class=\"link\" style=\"opacity: 0.8;\"><path d=\"M1,142.46876935061644 A62.236752314238615 62.236752314238615 1.193389345597498 0 1 58.856736075824216,181.77058261378482 L84.97778307922027,247.66474170156155 A41.079954560076445 41.079954560076445 1.193389345597498 0 0 123.16666666666667,273.6062737215445 L123.16666666666667,275.6062737215445 A43.079954560076445 43.079954560076445 1.193389345597498 0 1 83.11853644682208,248.401764062088 L56.99748944342602,182.50760497431128 A60.236752314238615 60.236752314238615 1.193389345597498 0 0 1,144.46876935061644 Z\" style=\"fill: rgb(251, 154, 153);\"/><title>Canada → Cobalt mining\nCanada\n41.7m</title><text class=\"label\" dy=\"0.35em\" x=\"5\" y=\"143.46876935061644\"/></g><g class=\"link\" style=\"opacity: 0.8;\"><path d=\"M124.16666666666667,273.6062737215445 A0 0 0 0 0 124.16666666666667,273.6062737215445 L246.33333333333334,273.6062737215445 A0 0 0 0 0 246.33333333333334,273.6062737215445 L246.33333333333334,275.6062737215445 A0 0 0 0 0 246.33333333333334,275.6062737215445 L124.16666666666667,275.6062737215445 A0 0 0 0 0 124.16666666666667,275.6062737215445 Z\" style=\"fill: rgb(251, 154, 153);\"/><title>Cobalt mining → \nCanada\n41.7m</title><text class=\"label\" dy=\"0.35em\" x=\"128.16666666666669\" y=\"274.6062737215445\"/></g><g class=\"link\" style=\"opacity: 0.8;\"><path d=\"M247.33333333333334,273.6062737215445 A930.2854726583919 930.2854726583919 0.024313779040626704 0 0 269.94986027610946,273.33131355658367 L345.9868054124468,271.48220368608133 A967.168097733829 967.168097733829 0.024313779040626704 0 1 369.5,271.19634229459064 L369.5,273.19634229459064 A965.168097733829 965.168097733829 0.024313779040626704 0 0 346.0354281795597,273.48161255535206 L269.99848304322234,275.3307224258544 A932.2854726583919 932.2854726583919 0.024313779040626704 0 1 247.33333333333334,275.6062737215445 Z\" style=\"fill: rgb(251, 154, 153);\"/><title> → Cobalt refining\nCanada\n41.7m</title><text class=\"label\" dy=\"0.35em\" x=\"251.33333333333334\" y=\"274.6062737215445\"/></g><g class=\"link\" style=\"opacity: 0.8;\"><path d=\"M1,282.41112603963217 A108.23948437707135 108.23948437707135 0.2137528526548309 0 1 23.960715092230128,284.87447161088534 L100.63020923280163,301.51703798834365 A106.23948437707135 106.23948437707135 0.2137528526548309 0 0 123.16666666666667,303.9348669796643 L123.16666666666667,305.9348669796643 A108.23948437707135 108.23948437707135 0.2137528526548309 0 1 100.20595157443654,303.47152140841115 L23.536457433865042,286.82895503095284 A106.23948437707135 106.23948437707135 0.2137528526548309 0 0 1,284.41112603963217 Z\" style=\"fill: rgb(255, 255, 153);\"/><title>Cuba → Cobalt mining\nCuba\n42.2m</title><text class=\"label\" dy=\"0.35em\" x=\"5\" y=\"283.41112603963217\"/></g><g class=\"link\" style=\"opacity: 0.8;\"><path d=\"M124.16666666666667,303.9348669796643 A0 0 0 0 0 124.16666666666667,303.9348669796643 L246.33333333333334,303.9348669796643 A0 0 0 0 0 246.33333333333334,303.9348669796643 L246.33333333333334,305.9348669796643 A0 0 0 0 0 246.33333333333334,305.9348669796643 L124.16666666666667,305.9348669796643 A0 0 0 0 0 124.16666666666667,305.9348669796643 Z\" style=\"fill: rgb(255, 255, 153);\"/><title>Cobalt mining → \nCuba\n42.2m</title><text class=\"label\" dy=\"0.35em\" x=\"128.16666666666669\" y=\"304.9348669796643\"/></g><g class=\"link\" style=\"opacity: 0.8;\"><path d=\"M247.33333333333334,303.9348669796643 A960.6140659165117 960.6140659165117 0.024313779040626704 0 0 270.68719033953465,303.6509427329777 L346.724135475872,301.8018328624753 A936.8395044757092 936.8395044757092 0.024313779040626704 0 1 369.5,301.5249355527105 L369.5,303.5249355527105 A934.8395044757092 934.8395044757092 0.024313779040626704 0 0 346.7727582429849,303.801241731746 L270.7358131066475,305.6503516022484 A962.6140659165117 962.6140659165117 0.024313779040626704 0 1 247.33333333333334,305.9348669796643 Z\" style=\"fill: rgb(255, 255, 153);\"/><title> → Cobalt refining\nCuba\n42.2m</title><text class=\"label\" dy=\"0.35em\" x=\"251.33333333333334\" y=\"304.9348669796643\"/></g><g class=\"link\" style=\"opacity: 0.8;\"><path d=\"M370.5,490.4821868417017 A370.77417662151925 370.77417662151925 0.061376068885713675 0 0 393.24237662279694,489.7840488324012 L467.57512154103057,485.2160598140467 A409.07320894482996 409.07320894482996 0.061376068885713675 0 1 492.6666666666667,484.44580780147885 L492.6666666666667,486.44580780147885 A407.07320894482996 407.07320894482996 0.061376068885713675 0 0 467.6977966249861,487.21229397460417 L393.36505170675247,491.7802829929587 A372.77417662151925 372.77417662151925 0.061376068885713675 0 1 370.5,492.4821868417017 Z\" style=\"fill: rgb(31, 120, 180);\"/><title>Nickel refining → Nickel\nAustralia\n42.7m</title><text class=\"label\" dy=\"0.35em\" x=\"374.5\" y=\"491.4821868417017\"/></g><g class=\"link\" style=\"opacity: 0.8;\"><path d=\"M370.5,307.1106947242899 A999 999 0.022461374530753586 0 0 392.9370264152923,306.85870090284516 L470.184721279572,305.12331964604357 A1001 1001 0.022461374530753586 0 1 492.6666666666667,304.8708213324638 L492.6666666666667,306.8708213324638 A999 999 0.022461374530753586 0 0 470.2296402513744,307.1228151539085 L392.9819453870947,308.8581964107101 A1001 1001 0.022461374530753586 0 1 370.5,309.1106947242899 Z\" style=\"fill: rgb(31, 120, 180);\"/><title>Cobalt refining → Cobalt\nJapan\n43.4m</title><text class=\"label\" dy=\"0.35em\" x=\"374.5\" y=\"308.1106947242899\"/></g><g class=\"link\" style=\"opacity: 0.8;\"><path d=\"M1,481.50405425660836 A46.79310969066924 46.79310969066924 1.2270532013826363 0 0 45.05570247832956,450.4808587592349 L85.74360824426334,336.8128800423722 A39.748345372116276 39.748345372116276 1.2270532013826363 0 1 123.16666666666667,310.46026750330486 L123.16666666666667,312.4668507084501 A37.741762166971 37.741762166971 1.2270532013826363 0 0 87.63280589041851,337.48912586523016 L46.94490012448474,451.1571045820928 A48.799692895814516 48.799692895814516 1.2270532013826363 0 1 1,483.5106374617536 Z\" style=\"fill: rgb(202, 178, 214);\"/><title>Russia → Cobalt mining\nRussia\n44.7m</title><text class=\"label\" dy=\"0.35em\" x=\"5\" y=\"482.507345859181\"/></g><g class=\"link\" style=\"opacity: 0.8;\"><path d=\"M124.16666666666667,310.46026750330486 A0 0 0 0 0 124.16666666666667,310.46026750330486 L246.33333333333334,310.46026750330486 A0 0 0 0 0 246.33333333333334,310.46026750330486 L246.33333333333334,312.4668507084501 A0 0 0 0 0 246.33333333333334,312.4668507084501 L124.16666666666667,312.4668507084501 A0 0 0 0 0 124.16666666666667,312.4668507084501 Z\" style=\"fill: rgb(202, 178, 214);\"/><title>Cobalt mining → \nRussia\n44.7m</title><text class=\"label\" dy=\"0.35em\" x=\"128.16666666666669\" y=\"311.4635591058775\"/></g><g class=\"link\" style=\"opacity: 0.8;\"><path d=\"M247.33333333333334,310.46026750330486 A967.1394664401523 967.1394664401523 0.024313779040626704 0 0 270.84583185452425,310.1744145742329 L346.88277699086166,308.3253047037305 A930.3141039520685 930.3141039520685 0.024313779040626704 0 1 369.5,308.050336076351 L369.5,310.0569192814963 A928.3075207469233 928.3075207469233 0.024313779040626704 0 0 346.9315598047998,310.3312948323791 L270.8946146684624,312.1804047028815 A969.1460496452976 969.1460496452976 0.024313779040626704 0 1 247.33333333333334,312.4668507084501 Z\" style=\"fill: rgb(202, 178, 214);\"/><title> → Cobalt refining\nRussia\n44.7m</title><text class=\"label\" dy=\"0.35em\" x=\"251.33333333333334\" y=\"311.4635591058775\"/></g><g class=\"link\" style=\"opacity: 0.8;\"><path d=\"M370.5,272.55521995550566 A998.9958275253853 998.9958275253853 0.022461374530753586 0 0 392.93693270365753,272.3032271865512 L470.18462756793724,270.56784592974964 A1001.0041724746147 1001.0041724746147 0.022461374530753586 0 1 492.6666666666667,270.31534656367955 L492.6666666666667,272.32369151290914 A998.9958275253853 998.9958275253853 0.022461374530753586 0 0 470.22973396300915,272.5756842818636 L392.98203909872944,274.31106553866516 A1001.0041724746147 1001.0041724746147 0.022461374530753586 0 1 370.5,274.56356490473524 Z\" style=\"fill: rgb(251, 154, 153);\"/><title>Cobalt refining → Cobalt\nCanada\n44.7m</title><text class=\"label\" dy=\"0.35em\" x=\"374.5\" y=\"273.55939243012045\"/></g><g class=\"link\" style=\"opacity: 0.8;\"><path d=\"M1,81.5949459195572 A62.10046755873578 62.10046755873578 1.0928209541034248 0 1 56.140746127231544,115.13029160658039 L91.52379233744627,183.43203304664158 A35.63675555301313 35.63675555301313 1.0928209541034248 0 0 123.16666666666667,202.67650838821444 L123.16666666666667,204.7059146159999 A37.66616178079855 37.66616178079855 1.0928209541034248 0 1 89.72182565354812,184.36552418612573 L54.338779443333415,116.06378274606453 A60.071061330950364 60.071061330950364 1.0928209541034248 0 0 1,83.62435214734262 Z\" style=\"fill: rgb(31, 120, 180);\"/><title>Australia → Copper mining\nAustralia\n45.2m</title><text class=\"label\" dy=\"0.35em\" x=\"5\" y=\"82.60964903344991\"/></g><g class=\"link\" style=\"opacity: 0.8;\"><path d=\"M124.16666666666667,202.67650838821444 A0 0 0 0 0 124.16666666666667,202.67650838821444 L246.33333333333334,202.67650838821444 A0 0 0 0 0 246.33333333333334,202.67650838821444 L246.33333333333334,204.7059146159999 A0 0 0 0 0 246.33333333333334,204.7059146159999 L124.16666666666667,204.7059146159999 A0 0 0 0 0 124.16666666666667,204.7059146159999 Z\" style=\"fill: rgb(31, 120, 180);\"/><title>Copper mining → Copper_smelting\nAustralia\n45.2m</title><text class=\"label\" dy=\"0.35em\" x=\"128.16666666666669\" y=\"203.69121150210717\"/></g><g class=\"link\" style=\"opacity: 0.8;\"><path d=\"M493.6666666666667,60.966621455671785 A0 0 0 0 0 493.6666666666667,60.966621455671785 L615.8333333333334,60.966621455671785 A0 0 0 0 0 615.8333333333334,60.966621455671785 L615.8333333333334,63.006443474235766 A0 0 0 0 0 615.8333333333334,63.006443474235766 L493.6666666666667,63.006443474235766 A0 0 0 0 0 493.6666666666667,63.006443474235766 Z\" style=\"fill: rgb(251, 154, 153);\"/><title>Aluminium primary → Aluminium\nCanada\n45.4m</title><text class=\"label\" dy=\"0.35em\" x=\"497.6666666666667\" y=\"61.986532464953775\"/></g><g class=\"link\" style=\"opacity: 0.8;\"><path d=\"M1,83.62435214734262 A60.071061330950364 60.071061330950364 1.3446484488997164 0 1 59.54149388577284,130.22597016949877 L85.09461397191603,241.2860777768182 A39.06679622634894 39.06679622634894 1.3446484488997164 0 0 123.16666666666667,271.59311538781697 L123.16666666666667,273.67011143747993 A41.14379227601192 41.14379227601192 1.3446484488997164 0 1 83.0705037123646,241.751792547353 L57.51738362622142,130.69168494003358 A57.994065281287384 57.994065281287384 1.3446484488997164 0 0 1,85.70134819700559 Z\" style=\"fill: rgb(31, 120, 180);\"/><title>Australia → Cobalt mining\nAustralia\n46.2m</title><text class=\"label\" dy=\"0.35em\" x=\"5\" y=\"84.6628501721741\"/></g><g class=\"link\" style=\"opacity: 0.8;\"><path d=\"M124.16666666666667,271.59311538781697 A0 0 0 0 0 124.16666666666667,271.59311538781697 L246.33333333333334,271.59311538781697 A0 0 0 0 0 246.33333333333334,271.59311538781697 L246.33333333333334,273.67011143747993 A0 0 0 0 0 246.33333333333334,273.67011143747993 L124.16666666666667,273.67011143747993 A0 0 0 0 0 124.16666666666667,273.67011143747993 Z\" style=\"fill: rgb(31, 120, 180);\"/><title>Cobalt mining → \nAustralia\n46.2m</title><text class=\"label\" dy=\"0.35em\" x=\"128.16666666666669\" y=\"272.63161341264845\"/></g><g class=\"link\" style=\"opacity: 0.8;\"><path d=\"M247.33333333333334,271.59311538781697 A928.2723143246644 928.2723143246644 0.024313779040626704 0 0 269.9009176116984,271.3187502427332 L345.93786274803574,269.4696403722308 A969.1812560675564 969.1812560675564 0.024313779040626704 0 1 369.5,269.1831839608631 L369.5,271.2601800105261 A967.1042600178935 967.1042600178935 0.024313779040626704 0 0 345.98835739564424,271.546022533799 L269.9514122593069,273.39513240430136 A930.3493103743274 930.3493103743274 0.024313779040626704 0 1 247.33333333333334,273.67011143747993 Z\" style=\"fill: rgb(31, 120, 180);\"/><title> → Cobalt refining\nAustralia\n46.2m</title><text class=\"label\" dy=\"0.35em\" x=\"251.33333333333334\" y=\"272.63161341264845\"/></g><g class=\"link\" style=\"opacity: 0.8;\"><path d=\"M1,398.79586989852686 A43.560288809471594 43.560288809471594 1.3879026049232375 0 0 43.833769079332114,363.15814302463065 L72.67185528176314,207.24343574565302 A51.35127294617448 51.35127294617448 1.3879026049232375 0 1 123.16666666666667,165.23171612902954 L123.16666666666667,167.35031402039013 A49.23267505481392 49.23267505481392 1.3879026049232375 0 0 74.75511816478532,207.62875741062862 L45.91703196235429,363.5434646896062 A45.67888670083216 45.67888670083216 1.3879026049232375 0 1 1,400.9144677898874 Z\" style=\"fill: rgb(177, 89, 40);\"/><title>Madagascar → Graphite production\nMadagascar\n47.2m</title><text class=\"label\" dy=\"0.35em\" x=\"5\" y=\"399.8551688442071\"/></g><g class=\"link\" style=\"opacity: 0.8;\"><path d=\"M124.16666666666667,165.23171612902954 A0 0 0 0 0 124.16666666666667,165.23171612902954 L246.33333333333334,165.23171612902954 A0 0 0 0 0 246.33333333333334,165.23171612902954 L246.33333333333334,167.35031402039013 A0 0 0 0 0 246.33333333333334,167.35031402039013 L124.16666666666667,167.35031402039013 A0 0 0 0 0 124.16666666666667,167.35031402039013 Z\" style=\"fill: rgb(177, 89, 40);\"/><title>Graphite production → \nMadagascar\n47.2m</title><text class=\"label\" dy=\"0.35em\" x=\"128.16666666666669\" y=\"166.29101507470983\"/></g><g class=\"link\" style=\"opacity: 0.8;\"><path d=\"M247.33333333333334,165.23171612902954 A0 0 0 0 1 247.33333333333334,165.23171612902954 L369.5,165.2715159671487 A0 0 0 0 0 369.5,165.2715159671487 L369.5,167.3901138585093 A0 0 0 0 1 369.5,167.3901138585093 L247.33333333333334,167.35031402039013 A0 0 0 0 0 247.33333333333334,167.35031402039013 Z\" style=\"fill: rgb(177, 89, 40);\"/><title> → \nMadagascar\n47.2m</title><text class=\"label\" dy=\"0.35em\" x=\"251.33333333333334\" y=\"166.29101507470983\"/></g><g class=\"link\" style=\"opacity: 0.8;\"><path d=\"M370.5,165.2715159671487 A795.6993777072258 795.6993777072258 0.02964143367342431 0 0 394.0822166943395,164.92198501884923 L469.92003216611033,162.67338485205653 A767.5055806509864 767.5055806509864 0.02964143367342431 0 1 492.6666666666667,162.33623873764947 L492.6666666666667,164.45483662901006 A765.3869827596258 765.3869827596258 0.02964143367342431 0 0 469.98282124947775,164.79105209605103 L394.1450057777069,167.03965226284373 A797.8179755985865 797.8179755985865 0.02964143367342431 0 1 370.5,167.3901138585093 Z\" style=\"fill: rgb(177, 89, 40);\"/><title> → \nMadagascar\n47.2m</title><text class=\"label\" dy=\"0.35em\" x=\"374.5\" y=\"166.330814912829\"/></g><g class=\"link\" style=\"opacity: 0.8;\"><path d=\"M493.6666666666667,162.33623873764947 A91.21528222235348 91.21528222235348 0.2865342639509212 0 1 519.446795733438,166.05516300034725 L582.084805668393,184.5109709707021 A119.40907927859315 119.40907927859315 0.2865342639509212 0 0 615.8333333333334,189.37938020319285 L615.8333333333334,191.49797809455345 A121.52767716995372 121.52767716995372 0.2865342639509212 0 1 581.4860274182009,186.543191832807 L518.8480174832459,168.08738386245216 A89.09668433099291 89.09668433099291 0.2865342639509212 0 0 493.6666666666667,164.45483662901006 Z\" style=\"fill: rgb(177, 89, 40);\"/><title> → Graphite/Carbon\nMadagascar\n47.2m</title><text class=\"label\" dy=\"0.35em\" x=\"497.6666666666667\" y=\"163.39553768332976\"/></g><g class=\"link\" style=\"opacity: 0.8;\"><path d=\"M1,345.50878159368824 A45.25301139623695 45.25301139623695 1.3859777690167054 0 0 45.482334968825626,308.57183393873805 L78.1106823051315,134.04394179584128 A45.8365995222632 45.8365995222632 1.3859777690167054 0 1 123.16666666666667,96.63065094520103 L123.16666666666667,98.77843203567245 A43.68881843179177 43.68881843179177 1.3859777690167054 0 0 80.22188584625108,134.43863562724837 L47.59353850994519,308.9665277701452 A47.400792486708376 47.400792486708376 1.3859777690167054 0 1 1,347.65656268415967 Z\" style=\"fill: rgb(253, 191, 111);\"/><title>Indonesia → Aluminium mining\nIndonesia\n47.8m</title><text class=\"label\" dy=\"0.35em\" x=\"5\" y=\"346.58267213892395\"/></g><g class=\"link\" style=\"opacity: 0.8;\"><path d=\"M124.16666666666667,96.63065094520103 A0 0 0 0 0 124.16666666666667,96.63065094520103 L246.33333333333334,96.63065094520103 A0 0 0 0 0 246.33333333333334,96.63065094520103 L246.33333333333334,98.77843203567245 A0 0 0 0 0 246.33333333333334,98.77843203567245 L124.16666666666667,98.77843203567245 A0 0 0 0 0 124.16666666666667,98.77843203567245 Z\" style=\"fill: rgb(253, 191, 111);\"/><title>Aluminium mining → \nIndonesia\n47.8m</title><text class=\"label\" dy=\"0.35em\" x=\"128.16666666666669\" y=\"97.70454149043674\"/></g><g class=\"link\" style=\"opacity: 0.8;\"><path d=\"M247.33333333333334,96.63065094520103 A0 0 0 0 0 247.33333333333334,96.63065094520103 L369.5,96.63065094520103 A0 0 0 0 0 369.5,96.63065094520103 L369.5,98.77843203567245 A0 0 0 0 0 369.5,98.77843203567245 L247.33333333333334,98.77843203567245 A0 0 0 0 0 247.33333333333334,98.77843203567245 Z\" style=\"fill: rgb(253, 191, 111);\"/><title> → Aluminium refining\nIndonesia\n47.8m</title><text class=\"label\" dy=\"0.35em\" x=\"251.33333333333334\" y=\"97.70454149043674\"/></g><g class=\"link\" style=\"opacity: 0.8;\"><path d=\"M370.5,270.40637348965276 A998.9255767670736 998.9255767670736 0.022461374530753586 0 0 392.93535490774167,270.1543984411759 L470.1830497720214,268.4190171843743 A1001.0744232329264 1001.0744232329264 0.022461374530753586 0 1 492.6666666666667,268.16650009782666 L492.6666666666667,270.31534656367955 A998.9255767670736 998.9255767670736 0.022461374530753586 0 0 470.231311758925,270.56732161215643 L392.9836168946453,272.302702868958 A1001.0744232329264 1001.0744232329264 0.022461374530753586 0 1 370.5,272.55521995550566 Z\" style=\"fill: rgb(251, 154, 153);\"/><title>Cobalt refining → Cobalt\nBelgium\n47.8m</title><text class=\"label\" dy=\"0.35em\" x=\"374.5\" y=\"271.4807967225792\"/></g><g class=\"link\" style=\"opacity: 0.8;\"><path d=\"M370.5,452.6708571976043 A998.9195185929643 998.9195185929643 0.014320034417778515 0 0 384.80407300153934,452.56843803854844 L478.33164966086,451.22902836589634 A1001.0804814070357 1001.0804814070357 0.014320034417778515 0 1 492.6666666666667,451.12638764345127 L492.6666666666667,453.2873504575226 A998.9195185929643 998.9195185929643 0.014320034417778515 0 0 478.36259366512735,453.38976961657846 L384.83501700580666,454.72917928923056 A1001.0804814070357 1001.0804814070357 0.014320034417778515 0 1 370.5,454.83182001167563 Z\" style=\"fill: rgb(106, 61, 154);\"/><title>Manganese refining → Manganese\nSouth Africa\n48.1m</title><text class=\"label\" dy=\"0.35em\" x=\"374.5\" y=\"453.75133860463995\"/></g><g class=\"link\" style=\"opacity: 0.8;\"><path d=\"M247.33333333333334,233.03112742142574 A0 0 0 0 1 247.33333333333334,233.03112742142574 L369.5,233.11072709766404 A0 0 0 0 0 369.5,233.11072709766404 L369.5,235.28887635062125 A0 0 0 0 1 369.5,235.28887635062125 L247.33333333333334,235.20927667438295 A0 0 0 0 0 247.33333333333334,235.20927667438295 Z\" style=\"fill: rgb(202, 178, 214);\"/><title>Copper_smelting → Copper_refining\nRussia\n48.5m</title><text class=\"label\" dy=\"0.35em\" x=\"251.33333333333334\" y=\"234.12020204790434\"/></g><g class=\"link\" style=\"opacity: 0.8;\"><path d=\"M370.5,233.11072709766404 A895.3644111332045 895.3644111332045 0.026096470309499464 0 0 393.8631987372368,232.80586128458765 L469.96780723487416,230.8193486526108 A869.9044654424742 869.9044654424742 0.026096470309499464 0 1 492.6666666666667,230.52315178700138 L492.6666666666667,232.7013010399586 A867.7263161895171 867.7263161895171 0.026096470309499464 0 0 470.02464279059143,232.99675625978142 L393.9200342929541,234.98326889175826 A897.5425603861617 897.5425603861617 0.026096470309499464 0 1 370.5,235.28887635062125 Z\" style=\"fill: rgb(202, 178, 214);\"/><title>Copper_refining → \nRussia\n48.5m</title><text class=\"label\" dy=\"0.35em\" x=\"374.5\" y=\"234.19980172414265\"/></g><g class=\"link\" style=\"opacity: 0.8;\"><path d=\"M493.6666666666667,230.52315178700138 A52.071343363481716 52.071343363481716 0.5801704054272774 0 1 522.2104309698459,239.04362467603497 L573.3332805607921,272.55015516173455 A77.53128905421191 77.53128905421191 0.5801704054272774 0 0 615.8333333333334,285.23665802045525 L615.8333333333334,287.4148072734125 A79.70943830716912 79.70943830716912 0.5801704054272774 0 1 572.1392921810501,274.37189222212476 L521.0164425901039,240.86536173642511 A49.893194110524504 49.893194110524504 0.5801704054272774 0 0 493.6666666666667,232.7013010399586 Z\" style=\"fill: rgb(202, 178, 214);\"/><title> → Copper\nRussia\n48.5m</title><text class=\"label\" dy=\"0.35em\" x=\"497.6666666666667\" y=\"231.61222641348\"/></g><g class=\"link\" style=\"opacity: 0.8;\"><path d=\"M370.5,493.42097785056365 A373.71296763038106 373.71296763038106 0.061376068885713675 0 0 393.4226348396669,492.71730633371584 L467.7553797579005,488.1493173153614 A406.13441793596814 406.13441793596814 0.061376068885713675 0 1 492.6666666666667,487.3845988103408 L492.6666666666667,489.6335134722683 A403.8855032740406 403.8855032740406 0.061376068885713675 0 0 467.893322655381,490.3939974515205 L393.56057773714736,494.96198646987494 A375.9618822923086 375.9618822923086 0.061376068885713675 0 1 370.5,495.6698925124912 Z\" style=\"fill: rgb(251, 154, 153);\"/><title>Nickel refining → Nickel\nCanada\n50.1m</title><text class=\"label\" dy=\"0.35em\" x=\"374.5\" y=\"494.5454351815274\"/></g><g class=\"link\" style=\"opacity: 0.8;\"><path d=\"M370.5,93.42266681123985 A0 0 0 0 0 370.5,93.42266681123985 L492.6666666666667,93.42266681123985 A0 0 0 0 0 492.6666666666667,93.42266681123985 L492.6666666666667,95.71969713180815 A0 0 0 0 0 492.6666666666667,95.71969713180815 L370.5,95.71969713180815 A0 0 0 0 0 370.5,95.71969713180815 Z\" style=\"fill: rgb(227, 26, 28);\"/><title>Aluminium refining → Aluminium primary\nIndia\n51.1m</title><text class=\"label\" dy=\"0.35em\" x=\"374.5\" y=\"94.571181971524\"/></g><g class=\"link\" style=\"opacity: 0.8;\"><path d=\"M1,337.38486353538207 A38.335160435360294 38.335160435360294 0.9803822528460141 0 1 32.84541006753198,354.3786467135093 L72.69035907945337,413.8349191513383 A60.76283349584702 60.76283349584702 0.9803822528460141 0 0 123.16666666666667,440.7707766250065 L123.16666666666667,443.11760204732155 A63.109658918162125 63.109658918162125 0.9803822528460141 0 1 70.74082718544838,415.1414087062455 L30.895878173526974,355.6851362684165 A35.98833501304519 35.98833501304519 0.9803822528460141 0 0 1,339.73168895769714 Z\" style=\"fill: rgb(51, 160, 44);\"/><title>India → Manganese mining\nIndia \n52.2m</title><text class=\"label\" dy=\"0.35em\" x=\"5\" y=\"338.5582762465396\"/></g><g class=\"link\" style=\"opacity: 0.8;\"><path d=\"M124.16666666666667,440.7707766250065 A0 0 0 0 0 124.16666666666667,440.7707766250065 L246.33333333333334,440.7707766250065 A0 0 0 0 0 246.33333333333334,440.7707766250065 L246.33333333333334,443.11760204732155 A0 0 0 0 0 246.33333333333334,443.11760204732155 L124.16666666666667,443.11760204732155 A0 0 0 0 0 124.16666666666667,443.11760204732155 Z\" style=\"fill: rgb(51, 160, 44);\"/><title>Manganese mining → \nIndia \n52.2m</title><text class=\"label\" dy=\"0.35em\" x=\"128.16666666666669\" y=\"441.944189336164\"/></g><g class=\"link\" style=\"opacity: 0.8;\"><path d=\"M247.33333333333334,440.7707766250065 A998.8265872888425 998.8265872888425 0.002263935178821175 0 0 249.5946100501784,440.768216931959 L367.23341022706137,440.5018898588329 A1001.1734127111575 1001.1734127111575 0.002263935178821175 0 1 369.5,440.4993241515756 L369.5,442.84614957389067 A998.8265872888425 998.8265872888425 0.002263935178821175 0 0 367.2387232831549,442.84870926693816 L249.59992310627194,443.11503634006425 A1001.1734127111575 1001.1734127111575 0.002263935178821175 0 1 247.33333333333334,443.11760204732155 Z\" style=\"fill: rgb(51, 160, 44);\"/><title> → Manganese refining\nIndia \n52.2m</title><text class=\"label\" dy=\"0.35em\" x=\"251.33333333333334\" y=\"441.944189336164\"/></g><g class=\"link\" style=\"opacity: 0.8;\"><path d=\"M1,459.3874257695 A36.27300495824972 36.27300495824972 1.122250276588066 0 0 33.68482738004589,438.84442233184177 L85.14770319464519,331.91148845519814 A42.19272858604934 42.19272858604934 1.122250276588066 0 1 123.16666666666667,308.0158842893718 L123.16666666666667,310.46026750330486 A39.748345372116276 39.748345372116276 1.122250276588066 0 0 87.35028452172416,332.97150958430865 L35.88740870712488,439.9044434609523 A38.71738817218279 38.71738817218279 1.122250276588066 0 1 1,461.83180898343306 Z\" style=\"fill: rgb(253, 191, 111);\"/><title>Philippines → Cobalt mining\nPhilippines\n54.4m</title><text class=\"label\" dy=\"0.35em\" x=\"5\" y=\"460.60961737646653\"/></g><g class=\"link\" style=\"opacity: 0.8;\"><path d=\"M124.16666666666667,308.0158842893718 A0 0 0 0 0 124.16666666666667,308.0158842893718 L246.33333333333334,308.0158842893718 A0 0 0 0 0 246.33333333333334,308.0158842893718 L246.33333333333334,310.46026750330486 A0 0 0 0 0 246.33333333333334,310.46026750330486 L124.16666666666667,310.46026750330486 A0 0 0 0 0 124.16666666666667,310.46026750330486 Z\" style=\"fill: rgb(253, 191, 111);\"/><title>Cobalt mining → \nPhilippines\n54.4m</title><text class=\"label\" dy=\"0.35em\" x=\"128.16666666666669\" y=\"309.23807589633833\"/></g><g class=\"link\" style=\"opacity: 0.8;\"><path d=\"M247.33333333333334,308.0158842893718 A964.6950832262191 964.6950832262191 0.024313779040626704 0 0 270.78640551665137,307.73075383531585 L346.8233506529888,305.8816439648135 A932.7584871660017 932.7584871660017 0.024313779040626704 0 1 369.5,305.60595286241795 L369.5,308.050336076351 A930.3141039520685 930.3141039520685 0.024313779040626704 0 0 346.88277699086166,308.3253047037306 L270.84583185452425,310.1744145742329 A967.1394664401523 967.1394664401523 0.024313779040626704 0 1 247.33333333333334,310.46026750330486 Z\" style=\"fill: rgb(253, 191, 111);\"/><title> → Cobalt refining\nPhilippines\n54.4m</title><text class=\"label\" dy=\"0.35em\" x=\"251.33333333333334\" y=\"309.23807589633833\"/></g><g class=\"link\" style=\"opacity: 0.8;\"><path d=\"M1,132.07078807579572 A63.06037685075734 63.06037685075734 1.4863846691042957 0 1 63.835847285849255,189.81445312046804 L80.23598947109176,383.640424398181 A43.08408017633019 43.08408017633019 1.4863846691042957 0 0 123.16666666666667,423.0920233054897 L123.16666666666667,425.63241465370226 A45.6244715245427 45.6244715245427 1.4863846691042957 0 1 77.70464331088152,383.8546084761652 L61.304501125639035,190.02863719845226 A60.519985502544834 60.519985502544834 1.4863846691042957 0 0 1,134.6111794240082 Z\" style=\"fill: rgb(178, 223, 138);\"/><title>Brazil → Manganese mining\nBrazil\n56.5m</title><text class=\"label\" dy=\"0.35em\" x=\"5\" y=\"133.34098374990197\"/></g><g class=\"link\" style=\"opacity: 0.8;\"><path d=\"M124.16666666666667,423.0920233054897 A0 0 0 0 0 124.16666666666667,423.0920233054897 L246.33333333333334,423.0920233054897 A0 0 0 0 0 246.33333333333334,423.0920233054897 L246.33333333333334,425.63241465370226 A0 0 0 0 0 246.33333333333334,425.63241465370226 L124.16666666666667,425.63241465370226 A0 0 0 0 0 124.16666666666667,425.63241465370226 Z\" style=\"fill: rgb(178, 223, 138);\"/><title>Manganese mining → \nBrazil\n56.5m</title><text class=\"label\" dy=\"0.35em\" x=\"128.16666666666669\" y=\"424.362218979596\"/></g><g class=\"link\" style=\"opacity: 0.8;\"><path d=\"M247.33333333333334,423.0920233054897 A998.7298043258937 998.7298043258937 0.002263935178821175 0 0 249.59439094001104,423.08946386046796 L367.23319111689403,422.82313678734187 A1001.2701956741063 1001.2701956741063 0.002263935178821175 0 1 369.5,422.8205708320588 L369.5,425.3609621802714 A998.7298043258937 998.7298043258937 0.002263935178821175 0 0 367.23894239332225,425.3635216252931 L249.6001422164393,425.6298486984192 A1001.2701956741063 1001.2701956741063 0.002263935178821175 0 1 247.33333333333334,425.63241465370226 Z\" style=\"fill: rgb(178, 223, 138);\"/><title> → Manganese refining\nBrazil\n56.5m</title><text class=\"label\" dy=\"0.35em\" x=\"251.33333333333334\" y=\"424.362218979596\"/></g><g class=\"link\" style=\"opacity: 0.8;\"><path d=\"M493.6666666666667,88.05495469234955 A0 0 0 0 0 493.6666666666667,88.05495469234955 L615.8333333333334,88.05495469234955 A0 0 0 0 0 615.8333333333334,88.05495469234955 L615.8333333333334,90.64877721030902 A0 0 0 0 0 615.8333333333334,90.64877721030902 L493.6666666666667,90.64877721030902 A0 0 0 0 0 493.6666666666667,90.64877721030902 Z\" style=\"fill: rgb(227, 26, 28);\"/><title>Aluminium primary → Aluminium\nIndia\n57.7m</title><text class=\"label\" dy=\"0.35em\" x=\"497.6666666666667\" y=\"89.35186595132929\"/></g><g class=\"link\" style=\"opacity: 0.8;\"><path d=\"M493.6666666666667,91.57799285604675 A0 0 0 0 0 493.6666666666667,91.57799285604675 L615.8333333333334,91.57799285604675 A0 0 0 0 0 615.8333333333334,91.57799285604675 L615.8333333333334,94.17765227438825 A0 0 0 0 0 615.8333333333334,94.17765227438825 L493.6666666666667,94.17765227438825 A0 0 0 0 0 493.6666666666667,94.17765227438825 Z\" style=\"fill: rgb(202, 178, 214);\"/><title>Aluminium primary → Aluminium\nRussia\n57.9m</title><text class=\"label\" dy=\"0.35em\" x=\"497.6666666666667\" y=\"92.8778225652175\"/></g><g class=\"link\" style=\"opacity: 0.8;\"><path d=\"M1,114.45965053809064 A29.235762940202342 29.235762940202342 1.395405998716202 0 1 29.787242617461544,138.59399238421395 L86.78943098085618,460.256485223285 A36.94401207724997 36.94401207724997 1.395405998716202 0 0 123.16666666666667,490.7540446152988 L123.16666666666667,493.39305966960006 A39.583027131551255 39.583027131551255 1.395405998716202 0 1 84.19090236387804,460.7169735332066 L27.188714000483408,139.05448069413563 A26.596747885901053 26.596747885901053 1.395405998716202 0 0 1,117.09866559239194 Z\" style=\"fill: rgb(31, 120, 180);\"/><title>Australia → Nickel mining\nAustralia\n58.7m</title><text class=\"label\" dy=\"0.35em\" x=\"5\" y=\"115.77915806524129\"/></g><g class=\"link\" style=\"opacity: 0.8;\"><path d=\"M124.16666666666667,490.7540446152988 A0 0 0 0 0 124.16666666666667,490.7540446152988 L246.33333333333334,490.7540446152988 A0 0 0 0 0 246.33333333333334,490.7540446152988 L246.33333333333334,493.39305966960006 A0 0 0 0 0 246.33333333333334,493.39305966960006 L124.16666666666667,493.39305966960006 A0 0 0 0 0 124.16666666666667,493.39305966960006 Z\" style=\"fill: rgb(31, 120, 180);\"/><title>Nickel mining → \nAustralia\n58.7m</title><text class=\"label\" dy=\"0.35em\" x=\"128.16666666666669\" y=\"492.07355214244944\"/></g><g class=\"link\" style=\"opacity: 0.8;\"><path d=\"M247.33333333333334,490.7540446152988 A998.6804924728493 998.6804924728493 0.001926581721526599 0 0 249.2573717255285,490.75219120612655 L367.57087733278365,490.52425028679653 A1001.3195075271507 1001.3195075271507 0.001926581721526599 0 1 369.5,490.5223919799871 L369.5,493.16140703428835 A998.6804924728493 998.6804924728493 0.001926581721526599 0 0 367.57596160780486,493.1632604434606 L249.2624560005497,493.39120136279064 A1001.3195075271507 1001.3195075271507 0.001926581721526599 0 1 247.33333333333334,493.39305966960006 Z\" style=\"fill: rgb(31, 120, 180);\"/><title> → Nickel refining\nAustralia\n58.7m</title><text class=\"label\" dy=\"0.35em\" x=\"251.33333333333334\" y=\"492.07355214244944\"/></g><g class=\"link\" style=\"opacity: 0.8;\"><path d=\"M1,512.324694083354 A48.14403322816342 48.14403322816342 1.4541383743571505 0 0 48.816806636650284,469.7843148905233 L70.70824705585062,282.9814239692778 A52.81741033087505 52.81741033087505 1.4541383743571505 0 1 123.16666666666667,236.311618537514 L123.16666666666667,239.04920019935417 A50.07982866903484 50.07982866903484 1.4541383743571505 0 0 73.42722185291183,283.3000607659442 L51.53578143371148,470.1029516871897 A50.88161489000363 50.88161489000363 1.4541383743571505 0 1 1,515.0622757451943 Z\" style=\"fill: rgb(255, 255, 153);\"/><title>USA → Copper mining\nUSA\n60.9m</title><text class=\"label\" dy=\"0.35em\" x=\"5\" y=\"513.6934849142741\"/></g><g class=\"link\" style=\"opacity: 0.8;\"><path d=\"M124.16666666666667,236.311618537514 A0 0 0 0 0 124.16666666666667,236.311618537514 L246.33333333333334,236.311618537514 A0 0 0 0 0 246.33333333333334,236.311618537514 L246.33333333333334,239.04920019935417 A0 0 0 0 0 246.33333333333334,239.04920019935417 L124.16666666666667,239.04920019935417 A0 0 0 0 0 124.16666666666667,239.04920019935417 Z\" style=\"fill: rgb(255, 255, 153);\"/><title>Copper mining → Copper_smelting\nUSA\n60.9m</title><text class=\"label\" dy=\"0.35em\" x=\"128.16666666666669\" y=\"237.68040936843408\"/></g><g class=\"link\" style=\"opacity: 0.8;\"><path d=\"M247.33333333333334,203.78218986511231 A0 0 0 0 1 247.33333333333334,203.78218986511231 L369.5,203.86178954135062 A0 0 0 0 0 369.5,203.86178954135062 L369.5,206.64805712854434 A0 0 0 0 1 369.5,206.64805712854434 L247.33333333333334,206.56845745230603 A0 0 0 0 0 247.33333333333334,206.56845745230603 Z\" style=\"fill: rgb(227, 26, 28);\"/><title>Copper_smelting → Copper_refining\nChile\n62.0m</title><text class=\"label\" dy=\"0.35em\" x=\"251.33333333333334\" y=\"205.17532365870917\"/></g><g class=\"link\" style=\"opacity: 0.8;\"><path d=\"M370.5,203.86178954135062 A866.1154735768911 866.1154735768911 0.026096470309499464 0 0 393.0999913409139,203.5668828030586 L469.20459983855125,201.58037017108177 A899.1534029987877 899.1534029987877 0.026096470309499464 0 1 492.6666666666667,201.27421423068796 L492.6666666666667,204.06048181788168 A896.3671354115941 896.3671354115941 0.026096470309499464 0 0 469.27730333510004,204.3656890521142 L393.1726948374627,206.35220168409103 A868.9017411640847 868.9017411640847 0.026096470309499464 0 1 370.5,206.64805712854434 Z\" style=\"fill: rgb(227, 26, 28);\"/><title>Copper_refining → \nChile\n62.0m</title><text class=\"label\" dy=\"0.35em\" x=\"374.5\" y=\"205.25492333494748\"/></g><g class=\"link\" style=\"opacity: 0.8;\"><path d=\"M493.6666666666667,201.27421423068796 A81.32028091979515 81.32028091979515 0.5801704054272766 0 1 538.2437177221775,214.5807126643665 L589.3665673131237,248.0872431500661 A48.282351497898475 48.282351497898475 0.5801704054272766 0 0 615.8333333333334,255.98772046414177 L615.8333333333334,258.7739880513355 A51.06861908509218 51.06861908509218 0.5801704054272766 0 1 587.8392288548226,250.41759168649597 L536.7163792638764,216.91106120079638 A78.53401333260146 78.53401333260146 0.5801704054272766 0 0 493.6666666666667,204.06048181788168 Z\" style=\"fill: rgb(227, 26, 28);\"/><title> → Copper\nChile\n62.0m</title><text class=\"label\" dy=\"0.35em\" x=\"497.6666666666667\" y=\"202.66734802428482\"/></g><g class=\"link\" style=\"opacity: 0.8;\"><path d=\"M1,333.2209535841655 A43.837981300058125 43.837981300058125 1.3826493908065622 0 0 44.06435124897318,297.58237811436777 L75.33218701045715,133.3596173554956 A48.69380273589802 48.69380273589802 1.3826493908065622 0 1 123.16666666666667,93.77344773156621 L123.16666666666667,96.63065094520103 A45.8365995222632 45.8365995222632 1.3826493908065622 0 0 78.13896777756108,133.8940253732317 L46.87113201607711,298.1167861321038 A46.69518451369294 46.69518451369294 1.3826493908065622 0 1 1,336.07815679780026 Z\" style=\"fill: rgb(227, 26, 28);\"/><title>India → Aluminium mining\nIndia\n63.6m</title><text class=\"label\" dy=\"0.35em\" x=\"5\" y=\"334.6495551909829\"/></g><g class=\"link\" style=\"opacity: 0.8;\"><path d=\"M124.16666666666667,93.77344773156621 A0 0 0 0 0 124.16666666666667,93.77344773156621 L246.33333333333334,93.77344773156621 A0 0 0 0 0 246.33333333333334,93.77344773156621 L246.33333333333334,96.63065094520103 A0 0 0 0 0 246.33333333333334,96.63065094520103 L124.16666666666667,96.63065094520103 A0 0 0 0 0 124.16666666666667,96.63065094520103 Z\" style=\"fill: rgb(227, 26, 28);\"/><title>Aluminium mining → \nIndia\n63.6m</title><text class=\"label\" dy=\"0.35em\" x=\"128.16666666666669\" y=\"95.20204933838362\"/></g><g class=\"link\" style=\"opacity: 0.8;\"><path d=\"M247.33333333333334,93.77344773156621 A0 0 0 0 0 247.33333333333334,93.77344773156621 L369.5,93.77344773156621 A0 0 0 0 0 369.5,93.77344773156621 L369.5,96.63065094520103 A0 0 0 0 0 369.5,96.63065094520103 L247.33333333333334,96.63065094520103 A0 0 0 0 0 247.33333333333334,96.63065094520103 Z\" style=\"fill: rgb(227, 26, 28);\"/><title> → Aluminium refining\nIndia\n63.6m</title><text class=\"label\" dy=\"0.35em\" x=\"251.33333333333334\" y=\"95.20204933838362\"/></g><g class=\"link\" style=\"opacity: 0.8;\"><path d=\"M1,144.40493163468096 A60.30059003017409 60.30059003017409 1.4866950288195513 0 1 61.087461805911055,199.64013997042062 L82.80088043642058,457.21287413772563 A40.508962328581255 40.508962328581255 1.4866950288195513 0 0 123.16666666666667,494.31899486663013 L123.16666666666667,497.32627279097045 A43.516240252921584 43.516240252921584 1.4866950288195513 0 1 79.80423152588526,457.4654920729798 L58.09081289537573,199.89275790567476 A57.29331210583376 57.29331210583376 1.4866950288195513 0 0 1,147.41220955902128 Z\" style=\"fill: rgb(251, 154, 153);\"/><title>Canada → Nickel mining\nCanada\n66.9m</title><text class=\"label\" dy=\"0.35em\" x=\"5\" y=\"145.90857059685112\"/></g><g class=\"link\" style=\"opacity: 0.8;\"><path d=\"M124.16666666666667,494.31899486663013 A0 0 0 0 0 124.16666666666667,494.31899486663013 L246.33333333333334,494.31899486663013 A0 0 0 0 0 246.33333333333334,494.31899486663013 L246.33333333333334,497.32627279097045 A0 0 0 0 0 246.33333333333334,497.32627279097045 L124.16666666666667,497.32627279097045 A0 0 0 0 0 124.16666666666667,497.32627279097045 Z\" style=\"fill: rgb(251, 154, 153);\"/><title>Nickel mining → \nCanada\n66.9m</title><text class=\"label\" dy=\"0.35em\" x=\"128.16666666666669\" y=\"495.8226338288003\"/></g><g class=\"link\" style=\"opacity: 0.8;\"><path d=\"M247.33333333333334,494.31899486663013 A998.4963610378298 998.4963610378298 0.001926581721526599 0 0 249.25701698149086,494.3171417991797 L367.57052258874603,494.08920087984967 A1001.5036389621702 1001.5036389621702 0.001926581721526599 0 1 369.5,494.0873422313184 L369.5,497.09462015565873 A998.4963610378298 998.4963610378298 0.001926581721526599 0 0 367.5763163518425,497.0964732231092 L249.2628107445873,497.3244141424392 A1001.5036389621702 1001.5036389621702 0.001926581721526599 0 1 247.33333333333334,497.32627279097045 Z\" style=\"fill: rgb(251, 154, 153);\"/><title> → Nickel refining\nCanada\n66.9m</title><text class=\"label\" dy=\"0.35em\" x=\"251.33333333333334\" y=\"495.8226338288003\"/></g><g class=\"link\" style=\"opacity: 0.8;\"><path d=\"M1,273.5994170762779 A49.69173870848997 49.69173870848997 0.5113862455032385 0 0 25.31847182909703,267.2422006770306 L90.3912821856935,230.72463405418262 A66.97237610753643 66.97237610753643 0.5113862455032385 0 1 123.16666666666667,222.15665276085258 L123.16666666666667,225.24270246989505 A63.88632639849396 63.88632639849396 0.5113862455032385 0 0 91.90155360832979,233.41587596762133 L26.828743251733332,269.9334425904693 A52.77778841753244 52.77778841753244 0.5113862455032385 0 1 1,276.68546678532033 Z\" style=\"fill: rgb(106, 61, 154);\"/><title>Congo, Democratic Republic → Copper mining\nCongo, Democratic Republic\n68.7m</title><text class=\"label\" dy=\"0.35em\" x=\"5\" y=\"275.1424419307991\"/></g><g class=\"link\" style=\"opacity: 0.8;\"><path d=\"M124.16666666666667,222.15665276085258 A0 0 0 0 0 124.16666666666667,222.15665276085258 L246.33333333333334,222.15665276085258 A0 0 0 0 0 246.33333333333334,222.15665276085258 L246.33333333333334,225.24270246989505 A0 0 0 0 0 246.33333333333334,225.24270246989505 L124.16666666666667,225.24270246989505 A0 0 0 0 0 124.16666666666667,225.24270246989505 Z\" style=\"fill: rgb(106, 61, 154);\"/><title>Copper mining → Copper_smelting\nCongo, Democratic Republic\n68.7m</title><text class=\"label\" dy=\"0.35em\" x=\"128.16666666666669\" y=\"223.69967761537382\"/></g><g class=\"link\" style=\"opacity: 0.8;\"><path d=\"M370.5,65.80111573436274 A0 0 0 0 0 370.5,65.80111573436274 L492.6666666666667,65.80111573436274 A0 0 0 0 0 492.6666666666667,65.80111573436274 L492.6666666666667,68.942188678855 A0 0 0 0 0 492.6666666666667,68.942188678855 L370.5,68.942188678855 A0 0 0 0 0 370.5,68.942188678855 Z\" style=\"fill: rgb(178, 223, 138);\"/><title>Aluminium refining → Aluminium primary\nBrazil\n69.9m</title><text class=\"label\" dy=\"0.35em\" x=\"374.5\" y=\"67.37165220660887\"/></g><g class=\"link\" style=\"opacity: 0.8;\"><path d=\"M616.8333333333334,254.8820389872439 A70.917975821768 70.917975821768 0.3415980335318376 0 1 640.5903743567485,258.9796414452792 L716.3086526247461,285.9002070225365 A67.7367363610446 67.7367363610446 0.3415980335318376 0 0 739,289.813999177432 L739,292.9952386381554 A70.917975821768 70.917975821768 0.3415980335318376 0 1 715.2429589765849,288.8976361801201 L639.5246807085873,261.9770706028628 A67.7367363610446 67.7367363610446 0.3415980335318376 0 0 616.8333333333334,258.0632784479673 Z\" style=\"fill: rgb(255, 127, 0);\"/><title>Copper → NMC622\nCopper\n70.8m</title><text class=\"label\" dy=\"0.35em\" x=\"620.8333333333334\" y=\"256.4726587176056\"/></g><g class=\"link\" style=\"opacity: 0.8;\"><path d=\"M247.33333333333334,227.02735457323766 A0 0 0 0 1 247.33333333333334,227.02735457323766 L369.5,227.10695424947596 A0 0 0 0 0 369.5,227.10695424947596 L369.5,230.32985462710786 A0 0 0 0 1 369.5,230.32985462710786 L247.33333333333334,230.25025495086956 A0 0 0 0 0 247.33333333333334,230.25025495086956 Z\" style=\"fill: rgb(31, 120, 180);\"/><title>Copper_smelting → Copper_refining\nJapan\n71.7m</title><text class=\"label\" dy=\"0.35em\" x=\"251.33333333333334\" y=\"228.6388047620536\"/></g><g class=\"link\" style=\"opacity: 0.8;\"><path d=\"M370.5,227.10695424947596 A889.3606382850163 889.3606382850163 0.026096470309499464 0 0 393.7065392402975,226.80413268237155 L469.8111477379349,224.8176200503947 A875.9082382906624 875.9082382906624 0.026096470309499464 0 1 492.6666666666667,224.5193789388133 L492.6666666666667,227.7422793164452 A872.6853379130305 872.6853379130305 0.026096470309499464 0 0 469.89524451584646,228.03942305121345 L393.79063601820906,230.02593568319028 A892.5835386626483 892.5835386626483 0.026096470309499464 0 1 370.5,230.32985462710786 Z\" style=\"fill: rgb(31, 120, 180);\"/><title>Copper_refining → \nJapan\n71.7m</title><text class=\"label\" dy=\"0.35em\" x=\"374.5\" y=\"228.7184044382919\"/></g><g class=\"link\" style=\"opacity: 0.8;\"><path d=\"M493.6666666666667,224.5193789388133 A58.075116211669794 58.075116211669794 0.5801704054272769 0 1 525.5014979183643,234.02225367271222 L576.6243475093105,267.52878415841184 A71.52751620602383 71.52751620602383 0.5801704054272769 0 0 615.8333333333334,279.2328851722672 L615.8333333333334,282.455785549899 A74.75041658365573 74.75041658365573 0.5801704054272769 0 1 574.8576615970691,270.2243189349687 L523.7348120061229,236.71778844926905 A54.85221583403789 54.85221583403789 0.5801704054272769 0 0 493.6666666666667,227.7422793164452 Z\" style=\"fill: rgb(31, 120, 180);\"/><title> → Copper\nJapan\n71.7m</title><text class=\"label\" dy=\"0.35em\" x=\"497.6666666666667\" y=\"226.13082912762926\"/></g><g class=\"link\" style=\"opacity: 0.8;\"><path d=\"M1,58.869027250151966 A52.176338435170145 52.176338435170145 1.3559039771473904 0 1 51.97624902203894,99.9191656087242 L101.23813287347139,325.6194083885784 A22.444778157101418 22.444778157101418 1.3559039771473904 0 0 123.16666666666667,343.278011433736 L123.16666666666667,346.56514179489585 A25.731908518261235 25.731908518261235 1.3559039771473904 0 1 98.02660862926652,326.3203634799665 L48.76472477783406,100.62012070011235 A48.88920807401032 48.88920807401032 1.3559039771473904 0 0 1,62.15615761131179 Z\" style=\"fill: rgb(166, 206, 227);\"/><title>Argentina → Lithium mining\nArgentina\n73.2m</title><text class=\"label\" dy=\"0.35em\" x=\"5\" y=\"60.51259243073188\"/></g><g class=\"link\" style=\"opacity: 0.8;\"><path d=\"M124.16666666666667,343.278011433736 A0 0 0 0 0 124.16666666666667,343.278011433736 L246.33333333333334,343.278011433736 A0 0 0 0 0 246.33333333333334,343.278011433736 L246.33333333333334,346.56514179489585 A0 0 0 0 0 246.33333333333334,346.56514179489585 L124.16666666666667,346.56514179489585 A0 0 0 0 0 124.16666666666667,346.56514179489585 Z\" style=\"fill: rgb(166, 206, 227);\"/><title>Lithium mining → \nArgentina\n73.2m</title><text class=\"label\" dy=\"0.35em\" x=\"128.16666666666669\" y=\"344.92157661431594\"/></g><g class=\"link\" style=\"opacity: 0.8;\"><path d=\"M247.33333333333334,343.278011433736 A998.3564348194201 998.3564348194201 0.00827995314471619 0 0 255.599583382198,343.24378915667575 L361.2065329767554,342.3693485789956 A1001.6435651805799 1001.6435651805799 0.00827995314471619 0 1 369.5,342.33501362365524 L369.5,345.62214398481507 A998.3564348194201 998.3564348194201 0.00827995314471619 0 0 361.23374995113534,345.65636626187535 L255.626800356578,346.5308068395555 A1001.6435651805799 1001.6435651805799 0.00827995314471619 0 1 247.33333333333334,346.56514179489585 Z\" style=\"fill: rgb(166, 206, 227);\"/><title> → Lithium refining\nArgentina\n73.2m</title><text class=\"label\" dy=\"0.35em\" x=\"251.33333333333334\" y=\"344.92157661431594\"/></g><g class=\"link\" style=\"opacity: 0.8;\"><path d=\"M370.5,519.2009758504998 A399.49296563031726 399.49296563031726 0.061376068885713675 0 0 395.0039165491749,518.4487626670035 L469.33666146740853,513.880773648649 A380.35441993603195 380.35441993603195 0.061376068885713675 0 1 492.6666666666667,513.164596810277 L492.6666666666667,516.4585673171495 A377.06044942915935 377.06044942915935 0.061376068885713675 0 0 469.5387055216474,517.1685418734928 L395.20596060341376,521.7365308918473 A402.78693613718985 402.78693613718985 0.061376068885713675 0 1 370.5,522.4949463573723 Z\" style=\"fill: rgb(31, 120, 180);\"/><title>Nickel refining → Nickel\nJapan\n73.3m</title><text class=\"label\" dy=\"0.35em\" x=\"374.5\" y=\"520.8479611039361\"/></g><g class=\"link\" style=\"opacity: 0.8;\"><path d=\"M1,432.17430264890237 A40.82436047082894 40.82436047082894 0.8466071257272656 0 1 31.57895018198456,445.9513672545272 L75.68073749076471,495.81166988043964 A63.39598574941861 63.39598574941861 0.8466071257272656 0 0 123.16666666666667,517.2060182874675 L123.16666666666667,520.6894795639398 A66.87944702589084 66.87944702589084 0.8466071257272656 0 1 73.07149664521047,498.11956170515174 L28.96970933643032,448.2592590792393 A37.340899194356716 37.340899194356716 0.8466071257272656 0 0 1,435.6577639253746 Z\" style=\"fill: rgb(51, 160, 44);\"/><title>New Caledonia → Nickel mining\nNew Caledonia\n77.5m</title><text class=\"label\" dy=\"0.35em\" x=\"5\" y=\"433.9160332871385\"/></g><g class=\"link\" style=\"opacity: 0.8;\"><path d=\"M124.16666666666667,517.2060182874675 A0 0 0 0 0 124.16666666666667,517.2060182874675 L246.33333333333334,517.2060182874675 A0 0 0 0 0 246.33333333333334,517.2060182874675 L246.33333333333334,520.6894795639398 A0 0 0 0 0 246.33333333333334,520.6894795639398 L124.16666666666667,520.6894795639398 A0 0 0 0 0 124.16666666666667,520.6894795639398 Z\" style=\"fill: rgb(51, 160, 44);\"/><title>Nickel mining → \nNew Caledonia\n77.5m</title><text class=\"label\" dy=\"0.35em\" x=\"128.16666666666669\" y=\"518.9477489257036\"/></g><g class=\"link\" style=\"opacity: 0.8;\"><path d=\"M247.33333333333334,517.2060182874675 A998.2582693617638 998.2582693617638 0.001926581721526599 0 0 249.25655827870347,517.2041656618815 L367.57006388595863,516.9762247425513 A1001.7417306382362 1001.7417306382362 0.001926581721526599 0 1 369.5,516.9743656521557 L369.5,520.457826928628 A998.2582693617638 998.2582693617638 0.001926581721526599 0 0 367.5767750546299,520.4596795542141 L249.2632694473747,520.6876204735443 A1001.7417306382362 1001.7417306382362 0.001926581721526599 0 1 247.33333333333334,520.6894795639398 Z\" style=\"fill: rgb(51, 160, 44);\"/><title> → Nickel refining\nNew Caledonia\n77.5m</title><text class=\"label\" dy=\"0.35em\" x=\"251.33333333333334\" y=\"518.9477489257036\"/></g><g class=\"link\" style=\"opacity: 0.8;\"><path d=\"M1,217.40790913758778 A1001.8290738991096 1001.8290738991096 0.00969645534553476 0 1 10.714038656247949,217.45500537761984 L113.48809852135514,218.45158069306137 A998.1709261008904 998.1709261008904 0.00969645534553476 0 0 123.16666666666667,218.49850496263335 L123.16666666666667,222.1566527608526 A1001.8290738991096 1001.8290738991096 0.00969645534553476 0 1 113.45262801041872,222.10955652082055 L10.678568145311521,221.11298120537901 A998.1709261008904 998.1709261008904 0.00969645534553476 0 0 1,221.06605693580704 Z\" style=\"fill: rgb(253, 191, 111);\"/><title>China → Copper mining\nChina\n81.4m</title><text class=\"label\" dy=\"0.35em\" x=\"5\" y=\"219.2369830366974\"/></g><g class=\"link\" style=\"opacity: 0.8;\"><path d=\"M124.16666666666667,218.49850496263335 A0 0 0 0 0 124.16666666666667,218.49850496263335 L246.33333333333334,218.49850496263335 A0 0 0 0 0 246.33333333333334,218.49850496263335 L246.33333333333334,222.1566527608526 A0 0 0 0 0 246.33333333333334,222.1566527608526 L124.16666666666667,222.1566527608526 A0 0 0 0 0 124.16666666666667,222.1566527608526 Z\" style=\"fill: rgb(253, 191, 111);\"/><title>Copper mining → Copper_smelting\nChina\n81.4m</title><text class=\"label\" dy=\"0.35em\" x=\"128.16666666666669\" y=\"220.32757886174298\"/></g><g class=\"link\" style=\"opacity: 0.8;\"><path d=\"M1,483.5106374617536 A60.870473409783 60.870473409783 0.4282429929904077 0 1 26.277870227991798,489.0074365319382 L93.16140928158002,519.539515913501 A72.25427638243372 72.25427638243372 0.4282429929904077 0 0 123.16666666666667,526.0643089204826 L123.16666666666667,529.8212452513677 A76.01121271331877 76.01121271331877 0.4282429929904077 0 1 91.60125468268912,522.9571888384432 L24.71771562910088,492.4251094568805 A57.11353707889795 57.11353707889795 0.4282429929904077 0 0 1,487.2675737926387 Z\" style=\"fill: rgb(202, 178, 214);\"/><title>Russia → Nickel mining\nRussia\n83.6m</title><text class=\"label\" dy=\"0.35em\" x=\"5\" y=\"485.38910562719616\"/></g><g class=\"link\" style=\"opacity: 0.8;\"><path d=\"M124.16666666666667,526.0643089204826 A0 0 0 0 0 124.16666666666667,526.0643089204826 L246.33333333333334,526.0643089204826 A0 0 0 0 0 246.33333333333334,526.0643089204826 L246.33333333333334,529.8212452513677 A0 0 0 0 0 246.33333333333334,529.8212452513677 L124.16666666666667,529.8212452513677 A0 0 0 0 0 124.16666666666667,529.8212452513677 Z\" style=\"fill: rgb(202, 178, 214);\"/><title>Nickel mining → \nRussia\n83.6m</title><text class=\"label\" dy=\"0.35em\" x=\"128.16666666666669\" y=\"527.9427770859252\"/></g><g class=\"link\" style=\"opacity: 0.8;\"><path d=\"M247.33333333333334,526.0643089204826 A998.1215318345575 998.1215318345575 0.001926581721526599 0 0 249.25629484284588,526.062456548662 L367.569800450101,525.8345156293318 A1001.8784681654425 1001.8784681654425 0.001926581721526599 0 1 369.5,525.8326562851709 L369.5,529.5895926160559 A998.1215318345575 998.1215318345575 0.001926581721526599 0 0 367.5770384904875,529.5914449878766 L249.2635328832323,529.8193859072068 A1001.8784681654425 1001.8784681654425 0.001926581721526599 0 1 247.33333333333334,529.8212452513677 Z\" style=\"fill: rgb(202, 178, 214);\"/><title> → Nickel refining\nRussia\n83.6m</title><text class=\"label\" dy=\"0.35em\" x=\"251.33333333333334\" y=\"527.9427770859252\"/></g><g class=\"link\" style=\"opacity: 0.8;\"><path d=\"M1,127.00983263741834 A599.8343533230728 599.8343533230728 0.03757167322636401 0 1 23.531478419003243,127.43315510873668 L100.77825439035253,130.3368121589962 A596.0256379966091 596.0256379966091 0.03757167322636401 0 0 123.16666666666667,130.75744669692824 L123.16666666666667,134.56616202339188 A599.8343533230728 599.8343533230728 0.03757167322636401 0 1 100.63518824766344,134.14283955207353 L23.388412276314142,131.239182501814 A596.0256379966091 596.0256379966091 0.03757167322636401 0 0 1,130.81854796388197 Z\" style=\"fill: rgb(51, 160, 44);\"/><title>Brazil → Graphite production\nBrazil  \n84.8m</title><text class=\"label\" dy=\"0.35em\" x=\"5\" y=\"128.91419030065015\"/></g><g class=\"link\" style=\"opacity: 0.8;\"><path d=\"M124.16666666666667,130.75744669692824 A0 0 0 0 0 124.16666666666667,130.75744669692824 L246.33333333333334,130.75744669692824 A0 0 0 0 0 246.33333333333334,130.75744669692824 L246.33333333333334,134.56616202339188 A0 0 0 0 0 246.33333333333334,134.56616202339188 L124.16666666666667,134.56616202339188 A0 0 0 0 0 124.16666666666667,134.56616202339188 Z\" style=\"fill: rgb(51, 160, 44);\"/><title>Graphite production → \nBrazil  \n84.8m</title><text class=\"label\" dy=\"0.35em\" x=\"128.16666666666669\" y=\"132.66180436016006\"/></g><g class=\"link\" style=\"opacity: 0.8;\"><path d=\"M247.33333333333334,130.75744669692824 A0 0 0 0 1 247.33333333333334,130.75744669692824 L369.5,130.7972465350474 A0 0 0 0 0 369.5,130.7972465350474 L369.5,134.60596186151105 A0 0 0 0 1 369.5,134.60596186151105 L247.33333333333334,134.56616202339188 A0 0 0 0 0 247.33333333333334,134.56616202339188 Z\" style=\"fill: rgb(51, 160, 44);\"/><title> → \nBrazil  \n84.8m</title><text class=\"label\" dy=\"0.35em\" x=\"251.33333333333334\" y=\"132.66180436016006\"/></g><g class=\"link\" style=\"opacity: 0.8;\"><path d=\"M370.5,130.7972465350474 A761.2251082751246 761.2251082751246 0.02964143367342431 0 0 393.0604995547969,130.46285927596537 L468.89831502656773,128.2142591091727 A801.9798500830876 801.9798500830876 0.02964143367342431 0 1 492.6666666666667,127.86196930554819 L492.6666666666667,131.6706846320118 A798.1711347566239 798.1711347566239 0.02964143367342431 0 0 469.01119427804394,132.02130136171274 L393.1733788062731,134.26990152850541 A765.0338236015883 765.0338236015883 0.02964143367342431 0 1 370.5,134.60596186151105 Z\" style=\"fill: rgb(51, 160, 44);\"/><title> → \nBrazil  \n84.8m</title><text class=\"label\" dy=\"0.35em\" x=\"374.5\" y=\"132.70160419827923\"/></g><g class=\"link\" style=\"opacity: 0.8;\"><path d=\"M493.6666666666667,127.86196930554819 A125.68955165445477 125.68955165445477 0.2865342639509212 0 1 529.1902410617737,132.98643871272395 L591.8282509967286,151.4422466830788 A84.93480984649186 84.93480984649186 0.2865342639509212 0 0 615.8333333333334,154.90511077109156 L615.8333333333334,158.7138260975552 A88.74352517295547 88.74352517295547 0.2865342639509212 0 1 590.7517957109195,155.09567746190743 L528.1137857759646,136.6398694915526 A121.88083632799116 121.88083632799116 0.2865342639509212 0 0 493.6666666666667,131.6706846320118 Z\" style=\"fill: rgb(51, 160, 44);\"/><title> → Graphite/Carbon\nBrazil  \n84.8m</title><text class=\"label\" dy=\"0.35em\" x=\"497.6666666666667\" y=\"129.76632696878\"/></g><g class=\"link\" style=\"opacity: 0.8;\"><path d=\"M370.5,525.7411930786573 A406.0331828584747 406.0331828584747 0.061376068885713675 0 0 395.4050773979508,524.9766651911606 L469.7378223161844,520.408676172806 A373.81420270787453 373.81420270787453 0.061376068885713675 0 1 492.6666666666667,519.7048140384344 L492.6666666666667,523.784866211145 A369.73415053516396 369.73415053516396 0.061376068885713675 0 0 469.98808268759956,524.4810459348168 L395.65533776936593,529.0490349531714 A410.11323503118524 410.11323503118524 0.061376068885713675 0 1 370.5,529.8212452513678 Z\" style=\"fill: rgb(202, 178, 214);\"/><title>Nickel refining → Nickel\nRussia\n90.8m</title><text class=\"label\" dy=\"0.35em\" x=\"374.5\" y=\"527.7812191650125\"/></g><g class=\"link\" style=\"opacity: 0.8;\"><path d=\"M1,122.875758228383 A49.9519461519161 49.9519461519161 0.5039185347207837 0 0 25.119831024836277,116.6665906313012 L89.39706694535732,81.22403027352608 A69.93652754505794 69.93652754505794 0.5039185347207837 0 1 123.16666666666667,72.53072292240628 L123.16666666666667,76.6647973314416 A65.80245313602262 65.80245313602262 0.5039185347207837 0 0 91.39324895369748,84.84422758983631 L27.116013033176447,120.28678794761143 A54.08602056095142 54.08602056095142 0.5039185347207837 0 1 1,127.00983263741833 Z\" style=\"fill: rgb(178, 223, 138);\"/><title>Brazil → Aluminium mining\nBrazil\n92.0m</title><text class=\"label\" dy=\"0.35em\" x=\"5\" y=\"124.94279543290067\"/></g><g class=\"link\" style=\"opacity: 0.8;\"><path d=\"M124.16666666666667,72.53072292240628 A0 0 0 0 0 124.16666666666667,72.53072292240628 L246.33333333333334,72.53072292240628 A0 0 0 0 0 246.33333333333334,72.53072292240628 L246.33333333333334,76.6647973314416 A0 0 0 0 0 246.33333333333334,76.6647973314416 L124.16666666666667,76.6647973314416 A0 0 0 0 0 124.16666666666667,76.6647973314416 Z\" style=\"fill: rgb(178, 223, 138);\"/><title>Aluminium mining → \nBrazil\n92.0m</title><text class=\"label\" dy=\"0.35em\" x=\"128.16666666666669\" y=\"74.59776012692394\"/></g><g class=\"link\" style=\"opacity: 0.8;\"><path d=\"M247.33333333333334,72.53072292240628 A0 0 0 0 0 247.33333333333334,72.53072292240628 L369.5,72.53072292240628 A0 0 0 0 0 369.5,72.53072292240628 L369.5,76.6647973314416 A0 0 0 0 0 369.5,76.6647973314416 L247.33333333333334,76.6647973314416 A0 0 0 0 0 247.33333333333334,76.6647973314416 Z\" style=\"fill: rgb(178, 223, 138);\"/><title> → Aluminium refining\nBrazil\n92.0m</title><text class=\"label\" dy=\"0.35em\" x=\"251.33333333333334\" y=\"74.59776012692394\"/></g><g class=\"link\" style=\"opacity: 0.8;\"><path d=\"M370.5,302.9944565687759 A997.9295037734184 997.9295037734184 0.022461374530753586 0 0 392.9129836203841,302.7427327757946 L470.16067848466383,301.007351518993 A1002.0704962265816 1002.0704962265816 0.022461374530753586 0 1 492.6666666666667,300.7545831769498 L492.6666666666667,304.8955756301129 A997.9295037734184 997.9295037734184 0.022461374530753586 0 0 470.25368304628256,305.1472994230942 L393.00598818200285,306.88268067989577 A1002.0704962265816 1002.0704962265816 0.022461374530753586 0 1 370.5,307.135449021939 Z\" style=\"fill: rgb(227, 26, 28);\"/><title>Cobalt refining → Cobalt\nFinland\n92.2m</title><text class=\"label\" dy=\"0.35em\" x=\"374.5\" y=\"305.06495279535744\"/></g><g class=\"link\" style=\"opacity: 0.8;\"><path d=\"M370.5,444.3158347104317 A997.9260242210341 997.9260242210341 0.014320034417778515 0 0 384.78984661416956,444.213517414295 L478.31742327349025,442.8741077416429 A1002.0739757789659 1002.0739757789659 0.014320034417778515 0 1 492.6666666666667,442.7713651562787 L492.6666666666667,446.9193167142104 A997.9260242210341 997.9260242210341 0.014320034417778515 0 0 478.3768200524971,447.02163401034716 L384.84924339317644,448.36104368299925 A1002.0739757789659 1002.0739757789659 0.014320034417778515 0 1 370.5,448.46378626836344 Z\" style=\"fill: rgb(227, 26, 28);\"/><title>Manganese refining → Manganese\nIndia\n92.3m</title><text class=\"label\" dy=\"0.35em\" x=\"374.5\" y=\"446.3898104893976\"/></g><g class=\"link\" style=\"opacity: 0.8;\"><path d=\"M1,301.61864427111567 A38.96642537817462 38.96642537817462 1.1505853039951994 0 1 36.57645832978857,324.6885945852496 L71.59167503159276,403.0529736618526 A56.489407807222605 56.489407807222605 1.1505853039951994 0 0 123.16666666666667,436.4973509363821 L123.16666666666667,440.77077662500653 A60.76283349584702 60.76283349584702 1.1505853039951994 0 1 67.69002509934236,404.7963310326649 L32.67480839753819,326.4319519560619 A34.692999689550206 34.692999689550206 1.1505853039951994 0 0 1,305.8920699597401 Z\" style=\"fill: rgb(166, 206, 227);\"/><title>Ghana → Manganese mining\nGhana\n95.1m</title><text class=\"label\" dy=\"0.35em\" x=\"5\" y=\"303.7553571154279\"/></g><g class=\"link\" style=\"opacity: 0.8;\"><path d=\"M124.16666666666667,436.4973509363821 A0 0 0 0 0 124.16666666666667,436.4973509363821 L246.33333333333334,436.4973509363821 A0 0 0 0 0 246.33333333333334,436.4973509363821 L246.33333333333334,440.77077662500653 A0 0 0 0 0 246.33333333333334,440.77077662500653 L124.16666666666667,440.77077662500653 A0 0 0 0 0 124.16666666666667,440.77077662500653 Z\" style=\"fill: rgb(166, 206, 227);\"/><title>Manganese mining → \nGhana\n95.1m</title><text class=\"label\" dy=\"0.35em\" x=\"128.16666666666669\" y=\"438.6340637806943\"/></g><g class=\"link\" style=\"opacity: 0.8;\"><path d=\"M247.33333333333334,436.4973509363821 A997.8632871556878 997.8632871556878 0.002263935178821175 0 0 249.59242920298215,436.494793711984 L367.2312293798651,436.2284666388579 A1002.1367128443122 1002.1367128443122 0.002263935178821175 0 1 369.5,436.2258984629512 L369.5,440.49932415157565 A997.8632871556878 997.8632871556878 0.002263935178821175 0 0 367.24090413035117,440.5018813759737 L249.6021039534682,440.7682084490998 A1002.1367128443122 1002.1367128443122 0.002263935178821175 0 1 247.33333333333334,440.77077662500653 Z\" style=\"fill: rgb(166, 206, 227);\"/><title> → Manganese refining\nGhana\n95.1m</title><text class=\"label\" dy=\"0.35em\" x=\"251.33333333333334\" y=\"438.6340637806943\"/></g><g class=\"link\" style=\"opacity: 0.8;\"><path d=\"M1,421.88217637037275 A44.717641412275405 44.717641412275405 1.4047810998906742 0 0 45.10282274812196,384.5542899692316 L74.61088705074307,208.44710811843274 A49.23267505481392 49.23267505481392 1.4047810998906742 0 1 123.16666666666667,167.3503140203901 L123.16666666666667,171.86534766292863 A44.717641412275405 44.717641412275405 1.4047810998906742 0 0 79.06384391854472,209.19323406406969 L49.555779615923605,385.3004159148686 A49.23267505481392 49.23267505481392 1.4047810998906742 0 1 1,426.3972100129112 Z\" style=\"fill: rgb(178, 223, 138);\"/><title>Mozambique → Graphite production\nMozambique\n101m</title><text class=\"label\" dy=\"0.35em\" x=\"5\" y=\"424.139693191642\"/></g><g class=\"link\" style=\"opacity: 0.8;\"><path d=\"M124.16666666666667,167.3503140203901 A0 0 0 0 0 124.16666666666667,167.3503140203901 L246.33333333333334,167.3503140203901 A0 0 0 0 0 246.33333333333334,167.3503140203901 L246.33333333333334,171.86534766292863 A0 0 0 0 0 246.33333333333334,171.86534766292863 L124.16666666666667,171.86534766292863 A0 0 0 0 0 124.16666666666667,171.86534766292863 Z\" style=\"fill: rgb(178, 223, 138);\"/><title>Graphite production → \nMozambique\n101m</title><text class=\"label\" dy=\"0.35em\" x=\"128.16666666666669\" y=\"169.60783084165936\"/></g><g class=\"link\" style=\"opacity: 0.8;\"><path d=\"M247.33333333333334,167.3503140203901 A0 0 0 0 1 247.33333333333334,167.3503140203901 L369.5,167.39011385850927 A0 0 0 0 0 369.5,167.39011385850927 L369.5,171.9051475010478 A0 0 0 0 1 369.5,171.9051475010478 L247.33333333333334,171.86534766292863 A0 0 0 0 0 247.33333333333334,171.86534766292863 Z\" style=\"fill: rgb(178, 223, 138);\"/><title> → \nMozambique\n101m</title><text class=\"label\" dy=\"0.35em\" x=\"251.33333333333334\" y=\"169.60783084165936\"/></g><g class=\"link\" style=\"opacity: 0.8;\"><path d=\"M370.5,167.39011385850927 A797.8179755985865 797.8179755985865 0.02964143367342431 0 0 394.14500577770684,167.03965226284373 L469.98282124947775,164.79105209605103 A765.3869827596258 765.3869827596258 0.02964143367342431 0 1 492.6666666666667,164.45483662901003 L492.6666666666667,168.96987027154856 A760.8719491170872 760.8719491170872 0.02964143367342431 0 0 470.11663372278565,169.30410239659523 L394.27881825101474,171.55270256338787 A802.3330092411251 802.3330092411251 0.02964143367342431 0 1 370.5,171.9051475010478 Z\" style=\"fill: rgb(178, 223, 138);\"/><title> → \nMozambique\n101m</title><text class=\"label\" dy=\"0.35em\" x=\"374.5\" y=\"169.64763067977853\"/></g><g class=\"link\" style=\"opacity: 0.8;\"><path d=\"M493.6666666666667,164.45483662901003 A89.09668433099291 89.09668433099291 0.2865342639509212 0 1 518.8480174832459,168.08738386245216 L581.4860274182009,186.543191832807 A121.52767716995372 121.52767716995372 0.2865342639509212 0 0 615.8333333333334,191.49797809455342 L615.8333333333334,196.01301173709194 A126.04271081249222 126.04271081249222 0.2865342639509212 0 1 580.209945744061,190.8741437321218 L517.571935809106,172.41833576176697 A84.58165068845442 84.58165068845442 0.2865342639509212 0 0 493.6666666666667,168.96987027154856 Z\" style=\"fill: rgb(178, 223, 138);\"/><title> → Graphite/Carbon\nMozambique\n101m</title><text class=\"label\" dy=\"0.35em\" x=\"497.6666666666667\" y=\"166.7123534502793\"/></g><g class=\"link\" style=\"opacity: 0.8;\"><path d=\"M370.5,342.33501362365524 A997.442569137219 997.442569137219 0.018197416461446236 0 0 388.64987607855636,342.16986863950956 L474.42371845608955,340.6088339943547 A1002.557430862781 1002.557430862781 0.018197416461446236 0 1 492.6666666666667,340.4428421506657 L492.6666666666667,345.5577038762277 A997.442569137219 997.442569137219 0.018197416461446236 0 0 474.5167905881103,345.7228488603734 L388.74294821057714,347.28388350552825 A1002.557430862781 1002.557430862781 0.018197416461446236 0 1 370.5,347.4498753492173 Z\" style=\"fill: rgb(166, 206, 227);\"/><title>Lithium refining → Lithium\nArgentina\n114m</title><text class=\"label\" dy=\"0.35em\" x=\"374.5\" y=\"344.89244448643626\"/></g><g class=\"link\" style=\"opacity: 0.8;\"><path d=\"M1,226.7011375292672 A54.28308830338571 54.28308830338571 1.3695528930295398 0 1 54.18758979558511,270.13369738977326 L78.46295226992375,389.1277194985804 A45.6244715245427 45.6244715245427 1.3695528930295398 0 0 123.16666666666667,425.6324146537022 L123.16666666666667,430.79258459520156 A50.78464146604203 50.78464146604203 1.3695528930295398 0 1 73.40692081146936,390.15917464364145 L49.13155833713074,271.1651525348343 A49.12291836188638 49.12291836188638 1.3695528930295398 0 0 1,231.86130747076652 Z\" style=\"fill: rgb(253, 191, 111);\"/><title>China → Manganese mining\nChina\n115m</title><text class=\"label\" dy=\"0.35em\" x=\"5\" y=\"229.28122250001687\"/></g><g class=\"link\" style=\"opacity: 0.8;\"><path d=\"M124.16666666666667,425.6324146537022 A0 0 0 0 0 124.16666666666667,425.6324146537022 L246.33333333333334,425.6324146537022 A0 0 0 0 0 246.33333333333334,425.6324146537022 L246.33333333333334,430.79258459520156 A0 0 0 0 0 246.33333333333334,430.79258459520156 L124.16666666666667,430.79258459520156 A0 0 0 0 0 124.16666666666667,430.79258459520156 Z\" style=\"fill: rgb(253, 191, 111);\"/><title>Manganese mining → \nChina\n115m</title><text class=\"label\" dy=\"0.35em\" x=\"128.16666666666669\" y=\"428.2124996244519\"/></g><g class=\"link\" style=\"opacity: 0.8;\"><path d=\"M247.33333333333334,425.6324146537022 A997.4199150292503 997.4199150292503 0.002263935178821175 0 0 249.59142543808525,425.629858565534 L367.2302256149682,425.3635314924079 A1002.5800849707497 1002.5800849707497 0.002263935178821175 0 1 369.5,425.3609621802713 L369.5,430.5211321217707 A997.4199150292503 997.4199150292503 0.002263935178821175 0 0 367.24190789524806,430.5236882099389 L249.6031077183651,430.790015283065 A1002.5800849707497 1002.5800849707497 0.002263935178821175 0 1 247.33333333333334,430.79258459520156 Z\" style=\"fill: rgb(253, 191, 111);\"/><title> → Manganese refining\nChina\n115m</title><text class=\"label\" dy=\"0.35em\" x=\"251.33333333333334\" y=\"428.2124996244519\"/></g><g class=\"link\" style=\"opacity: 0.8;\"><path d=\"M1,109.18085069970583 A34.514562778587155 34.514562778587155 1.368985065175246 0 1 34.81409415409978,136.77717090270275 L86.12863964398304,387.58579082475194 A37.805280337945376 37.805280337945376 1.368985065175246 0 0 123.16666666666667,417.8132234671049 L123.16666666666667,423.09202330548965 A43.08408017633019 43.08408017633019 1.368985065175246 0 1 80.95697237121865,388.6438954290087 L29.6424268813354,137.8352755069595 A29.235762940202342 29.235762940202342 1.368985065175246 0 0 1,114.45965053809063 Z\" style=\"fill: rgb(31, 120, 180);\"/><title>Australia → Manganese mining\nAustralia\n118m</title><text class=\"label\" dy=\"0.35em\" x=\"5\" y=\"111.82025061889823\"/></g><g class=\"link\" style=\"opacity: 0.8;\"><path d=\"M124.16666666666667,417.8132234671049 A0 0 0 0 0 124.16666666666667,417.8132234671049 L246.33333333333334,417.8132234671049 A0 0 0 0 0 246.33333333333334,417.8132234671049 L246.33333333333334,423.09202330548965 A0 0 0 0 0 246.33333333333334,423.09202330548965 L124.16666666666667,423.09202330548965 A0 0 0 0 0 124.16666666666667,423.09202330548965 Z\" style=\"fill: rgb(31, 120, 180);\"/><title>Manganese mining → \nAustralia\n118m</title><text class=\"label\" dy=\"0.35em\" x=\"128.16666666666669\" y=\"420.45262338629726\"/></g><g class=\"link\" style=\"opacity: 0.8;\"><path d=\"M247.33333333333334,417.8132234671049 A997.3606000808076 997.3606000808076 0.002263935178821175 0 0 249.59129115300155,417.810667530943 L367.23009132988454,417.54434045781693 A1002.6393999191924 1002.6393999191924 0.002263935178821175 0 1 369.5,417.541770993674 L369.5,422.82057083205876 A997.3606000808076 997.3606000808076 0.002263935178821175 0 0 367.24204218033174,422.8231267682206 L249.6032420034488,423.0894538413467 A1002.6393999191924 1002.6393999191924 0.002263935178821175 0 1 247.33333333333334,423.09202330548965 Z\" style=\"fill: rgb(31, 120, 180);\"/><title> → Manganese refining\nAustralia\n118m</title><text class=\"label\" dy=\"0.35em\" x=\"251.33333333333334\" y=\"420.45262338629726\"/></g><g class=\"link\" style=\"opacity: 0.8;\"><path d=\"M1,448.2754383050686 A40.512832627699126 40.512832627699126 1.4086205677595087 0 0 40.981235752022656,414.30404246611465 L63.07018327341547,279.2964826764436 A60.895535803965615 60.895535803965615 1.4086205677595087 0 1 123.16666666666667,228.2334930644234 L123.16666666666667,233.56838789286374 A55.560640975525274 55.560640975525274 1.4086205677595087 0 0 68.33507525981997,280.157885719167 L46.24612773842715,415.16544550883805 A45.84772745613947 45.84772745613947 1.4086205677595087 0 1 1,453.61033313350896 Z\" style=\"fill: rgb(227, 26, 28);\"/><title>Peru → Copper mining\nPeru\n119m</title><text class=\"label\" dy=\"0.35em\" x=\"5\" y=\"450.94288571928877\"/></g><g class=\"link\" style=\"opacity: 0.8;\"><path d=\"M124.16666666666667,228.2334930644234 A0 0 0 0 0 124.16666666666667,228.2334930644234 L246.33333333333334,228.2334930644234 A0 0 0 0 0 246.33333333333334,228.2334930644234 L246.33333333333334,233.56838789286374 A0 0 0 0 0 246.33333333333334,233.56838789286374 L124.16666666666667,233.56838789286374 A0 0 0 0 0 124.16666666666667,233.56838789286374 Z\" style=\"fill: rgb(227, 26, 28);\"/><title>Copper mining → Copper_smelting\nPeru\n119m</title><text class=\"label\" dy=\"0.35em\" x=\"128.16666666666669\" y=\"230.90094047864358\"/></g><g class=\"link\" style=\"opacity: 0.8;\"><path d=\"M1,461.83180898343306 A49.55196007033339 49.55196007033339 0.5990239818093911 0 1 28.939211761960088,470.4594829520852 L85.45758249871552,509.04485312889824 A66.87944702589084 66.87944702589084 0.5990239818093911 0 0 123.16666666666667,520.6894795639397 L123.16666666666667,526.0643089204826 A72.25427638243372 72.25427638243372 0.5990239818093911 0 1 82.42705665546525,513.4838511831158 L25.908685918709814,474.89848100630275 A44.17713071379051 44.17713071379051 0.5990239818093911 0 0 1,467.206638339976 Z\" style=\"fill: rgb(253, 191, 111);\"/><title>Philippines → Nickel mining\nPhilippines\n120m</title><text class=\"label\" dy=\"0.35em\" x=\"5\" y=\"464.51922366170453\"/></g><g class=\"link\" style=\"opacity: 0.8;\"><path d=\"M124.16666666666667,520.6894795639397 A0 0 0 0 0 124.16666666666667,520.6894795639397 L246.33333333333334,520.6894795639397 A0 0 0 0 0 246.33333333333334,520.6894795639397 L246.33333333333334,526.0643089204826 A0 0 0 0 0 246.33333333333334,526.0643089204826 L124.16666666666667,526.0643089204826 A0 0 0 0 0 124.16666666666667,526.0643089204826 Z\" style=\"fill: rgb(253, 191, 111);\"/><title>Nickel mining → \nPhilippines\n120m</title><text class=\"label\" dy=\"0.35em\" x=\"128.16666666666669\" y=\"523.3768942422112\"/></g><g class=\"link\" style=\"opacity: 0.8;\"><path d=\"M247.33333333333334,520.6894795639397 A997.3125853217285 997.3125853217285 0.001926581721526599 0 0 249.25473634224468,520.6876286934089 L367.56824194949985,520.4596877740787 A1002.6874146782715 1002.6874146782715 0.001926581721526599 0 1 369.5,520.4578269286279 L369.5,525.8326562851709 A997.3125853217285 997.3125853217285 0.001926581721526599 0 0 367.57859699108866,525.8345071557017 L249.2650913838335,526.0624480750319 A1002.6874146782715 1002.6874146782715 0.001926581721526599 0 1 247.33333333333334,526.0643089204826 Z\" style=\"fill: rgb(253, 191, 111);\"/><title> → Nickel refining\nPhilippines\n120m</title><text class=\"label\" dy=\"0.35em\" x=\"251.33333333333334\" y=\"523.3768942422112\"/></g><g class=\"link\" style=\"opacity: 0.8;\"><path d=\"M493.6666666666667,672.7293217198703 A37.60522340060408 37.60522340060408 1.1074120821944407 0 0 527.3062289817542,651.9328066057076 L610.8691013801475,484.6969663870422 A5.549449480448279 5.549449480448279 1.1074120821944407 0 1 615.8333333333334,481.62799884585826 L615.8333333333334,487.17744832630655 A0 0 1.1074120821944407 0 0 615.8333333333334,487.17744832630655 L532.27046093494,654.4132885449719 A43.154672881052356 43.154672881052356 1.1074120821944407 0 1 493.6666666666667,678.2787712003185 Z\" style=\"fill: rgb(51, 160, 44);\"/><title>Ammonium Hydroxide → Active material\nAmmonium Hydroxide\n124m</title><text class=\"label\" dy=\"0.35em\" x=\"497.6666666666667\" y=\"675.5040464600944\"/></g><g class=\"link\" style=\"opacity: 0.8;\"><path d=\"M1,221.066056935807 A59.91816889684591 59.91816889684591 1.5302711501625532 0 1 60.86897412703807,278.55669603324816 L62.6826179759756,323.2857027355859 A60.53374887172424 60.53374887172424 1.5302711501625532 0 0 123.16666666666667,381.3669821483589 L123.16666666666667,387.0020627418191 A66.16882946518444 66.16882946518444 1.5302711501625532 0 1 57.052163967368514,323.514002870829 L55.23852011843098,278.78499616849126 A54.28308830338571 54.28308830338571 1.5302711501625532 0 0 1,226.7011375292672 Z\" style=\"fill: rgb(253, 191, 111);\"/><title>China → Lithium mining\nChina\n125m</title><text class=\"label\" dy=\"0.35em\" x=\"5\" y=\"223.8835972325371\"/></g><g class=\"link\" style=\"opacity: 0.8;\"><path d=\"M124.16666666666667,381.3669821483589 A0 0 0 0 0 124.16666666666667,381.3669821483589 L246.33333333333334,381.3669821483589 A0 0 0 0 0 246.33333333333334,381.3669821483589 L246.33333333333334,387.0020627418191 A0 0 0 0 0 246.33333333333334,387.0020627418191 L124.16666666666667,387.0020627418191 A0 0 0 0 0 124.16666666666667,387.0020627418191 Z\" style=\"fill: rgb(253, 191, 111);\"/><title>Lithium mining → \nChina\n125m</title><text class=\"label\" dy=\"0.35em\" x=\"128.16666666666669\" y=\"384.184522445089\"/></g><g class=\"link\" style=\"opacity: 0.8;\"><path d=\"M247.33333333333334,381.3669821483589 A997.18245970327 997.18245970327 0.00827995314471619 0 0 255.58986303431143,381.33280011354105 L361.1968126288688,380.4583595358609 A1002.81754029673 1002.81754029673 0.00827995314471619 0 1 369.5,380.4239843382781 L369.5,386.0590649317383 A997.18245970327 997.18245970327 0.00827995314471619 0 0 361.2434702990219,386.09324696655614 L255.63652070446457,386.9676875442363 A1002.81754029673 1002.81754029673 0.00827995314471619 0 1 247.33333333333334,387.0020627418191 Z\" style=\"fill: rgb(253, 191, 111);\"/><title> → Lithium refining\nChina\n125m</title><text class=\"label\" dy=\"0.35em\" x=\"251.33333333333334\" y=\"384.184522445089\"/></g><g class=\"link\" style=\"opacity: 0.8;\"><path d=\"M1,290.136785293944 A39.86694122003905 39.86694122003905 1.145491924028445 0 1 37.31532217014831,313.55470289796307 L76.90626745631103,400.96158896307014 A50.78464146604203 50.78464146604203 1.145491924028445 0 0 123.16666666666667,430.7925845952015 L123.16666666666667,436.497350936382 A56.489407807222605 56.489407807222605 1.145491924028445 0 1 71.70972061209874,403.31536463279184 L32.118775325936035,315.90847856768477 A34.16217487885848 34.16217487885848 1.145491924028445 0 0 1,295.8415516351245 Z\" style=\"fill: rgb(177, 89, 40);\"/><title>Gabon → Manganese mining\nGabon\n127m</title><text class=\"label\" dy=\"0.35em\" x=\"5\" y=\"292.98916846453426\"/></g><g class=\"link\" style=\"opacity: 0.8;\"><path d=\"M124.16666666666667,430.7925845952015 A0 0 0 0 0 124.16666666666667,430.7925845952015 L246.33333333333334,430.7925845952015 A0 0 0 0 0 246.33333333333334,430.7925845952015 L246.33333333333334,436.497350936382 A0 0 0 0 0 246.33333333333334,436.497350936382 L124.16666666666667,436.497350936382 A0 0 0 0 0 124.16666666666667,436.497350936382 Z\" style=\"fill: rgb(177, 89, 40);\"/><title>Manganese mining → \nGabon\n127m</title><text class=\"label\" dy=\"0.35em\" x=\"128.16666666666669\" y=\"433.64496776579176\"/></g><g class=\"link\" style=\"opacity: 0.8;\"><path d=\"M247.33333333333334,430.7925845952015 A997.1476168294097 997.1476168294097 0.002263935178821175 0 0 249.5908089731381,430.79002920485186 L367.2296091500211,430.52370213172577 A1002.8523831705903 1002.8523831705903 0.002263935178821175 0 1 369.5,430.5211321217706 L369.5,436.22589846295114 A997.1476168294097 997.1476168294097 0.002263935178821175 0 0 367.2425243601952,436.2284538533008 L249.60372418331224,436.49478092642687 A1002.8523831705903 1002.8523831705903 0.002263935178821175 0 1 247.33333333333334,436.497350936382 Z\" style=\"fill: rgb(177, 89, 40);\"/><title> → Manganese refining\nGabon\n127m</title><text class=\"label\" dy=\"0.35em\" x=\"251.33333333333334\" y=\"433.64496776579176\"/></g><g class=\"link\" style=\"opacity: 0.8;\"><path d=\"M370.5,58.869027250151966 A0 0 0 0 0 370.5,58.869027250151966 L492.6666666666667,58.869027250151966 A0 0 0 0 0 492.6666666666667,58.869027250151966 L492.6666666666667,65.80111573436274 A0 0 0 0 0 492.6666666666667,65.80111573436274 L370.5,65.80111573436274 A0 0 0 0 0 370.5,65.80111573436274 Z\" style=\"fill: rgb(31, 120, 180);\"/><title>Aluminium refining → Aluminium primary\nAustralia\n154m</title><text class=\"label\" dy=\"0.35em\" x=\"374.5\" y=\"62.33507149225735\"/></g><g class=\"link\" style=\"opacity: 0.8;\"><path d=\"M370.5,511.8269531709166 A392.1189429507341 392.1189429507341 0.06137606888571012 0 0 394.55161212351953,511.0886246801489 L468.8843570417559,506.5206356617943 A387.7284426156151 387.7284426156151 0.06137606888571012 0 1 492.6666666666667,505.7905741306938 L492.6666666666667,513.164596810277 A380.35441993603195 380.35441993603195 0.06137606888571012 0 0 469.3366614674099,513.8807736486489 L395.00391654917354,518.4487626670035 A399.49296563031726 399.49296563031726 0.06137606888571012 0 1 370.5,519.2009758504997 Z\" style=\"fill: rgb(253, 191, 111);\"/><title>Nickel refining → Nickel\nIndonesia\n164m</title><text class=\"label\" dy=\"0.35em\" x=\"374.5\" y=\"515.5139645107082\"/></g><g class=\"link\" style=\"opacity: 0.8;\"><path d=\"M616.8333333333334,58.869027250151966 A46.47013191988755 46.47013191988755 1.309459545394156 0 1 661.7255930340897,93.33257016184884 L701.8522741838276,243.36497235989307 A38.45339331787433 38.45339331787433 1.309459545394156 0 0 739,271.88307885022056 L739,279.8998174522338 A46.47013191988755 46.47013191988755 1.309459545394156 0 1 694.1077402992437,245.4362745405369 L653.9810591495058,95.40387234249268 A38.45339331787433 38.45339331787433 1.309459545394156 0 0 616.8333333333334,66.88576585216518 Z\" style=\"fill: rgb(227, 26, 28);\"/><title>Aluminium → NMC622\nWrought Aluminum\n178m</title><text class=\"label\" dy=\"0.35em\" x=\"620.8333333333334\" y=\"62.877396551158576\"/></g><g class=\"link\" style=\"opacity: 0.8;\"><path d=\"M1,181.61068310696336 A33.061197188050684 33.061197188050684 0.9909213719753348 0 0 28.65672200259657,166.66435515880124 L68.12086348172858,106.4128139797931 A65.80245313602262 65.80245313602262 0.9909213719753348 0 1 123.16666666666667,76.6647973314416 L123.16666666666667,84.69014069839523 A57.777109769069014 57.777109769069014 0.9909213719753348 0 0 74.83431336718644,110.81005479568574 L35.37017188805442,171.0615959746939 A41.08654055500429 41.08654055500429 0.9909213719753348 0 1 1,189.63602647391698 Z\" style=\"fill: rgb(253, 191, 111);\"/><title>China → Aluminium mining\nChina\n179m</title><text class=\"label\" dy=\"0.35em\" x=\"5\" y=\"185.62335479044017\"/></g><g class=\"link\" style=\"opacity: 0.8;\"><path d=\"M124.16666666666667,76.6647973314416 A0 0 0 0 0 124.16666666666667,76.6647973314416 L246.33333333333334,76.6647973314416 A0 0 0 0 0 246.33333333333334,76.6647973314416 L246.33333333333334,84.69014069839523 A0 0 0 0 0 246.33333333333334,84.69014069839523 L124.16666666666667,84.69014069839523 A0 0 0 0 0 124.16666666666667,84.69014069839523 Z\" style=\"fill: rgb(253, 191, 111);\"/><title>Aluminium mining → \nChina\n179m</title><text class=\"label\" dy=\"0.35em\" x=\"128.16666666666669\" y=\"80.67746901491842\"/></g><g class=\"link\" style=\"opacity: 0.8;\"><path d=\"M247.33333333333334,76.6647973314416 A0 0 0 0 0 247.33333333333334,76.6647973314416 L369.5,76.6647973314416 A0 0 0 0 0 369.5,76.6647973314416 L369.5,84.69014069839523 A0 0 0 0 0 369.5,84.69014069839523 L247.33333333333334,84.69014069839523 A0 0 0 0 0 247.33333333333334,84.69014069839523 Z\" style=\"fill: rgb(253, 191, 111);\"/><title> → Aluminium refining\nChina\n179m</title><text class=\"label\" dy=\"0.35em\" x=\"251.33333333333334\" y=\"80.67746901491842\"/></g><g class=\"link\" style=\"opacity: 0.8;\"><path d=\"M370.5,347.4498753492173 A995.8576724021464 995.8576724021464 0.018197416461446236 0 0 388.6210366443584,347.28499277391023 L474.3948790218916,345.7239581287554 A1004.1423275978536 1004.1423275978536 0.018197416461446236 0 1 492.6666666666667,345.5577038762277 L492.6666666666667,353.842359071935 A995.8576724021464 995.8576724021464 0.018197416461446236 0 0 474.5456300223083,354.00724164724204 L388.7717876447751,355.5682762923969 A1004.1423275978536 1004.1423275978536 0.018197416461446236 0 1 370.5,355.73453054492455 Z\" style=\"fill: rgb(31, 120, 180);\"/><title>Lithium refining → Lithium\nAustralia\n184m</title><text class=\"label\" dy=\"0.35em\" x=\"374.5\" y=\"351.5922029470709\"/></g><g class=\"link\" style=\"opacity: 0.8;\"><path d=\"M1,318.36055391500344 A40.08951448208729 40.08951448208729 1.4036246218938497 0 0 40.53063946598481,284.9417001812836 L66.1950089857483,132.85347730832916 A57.777109769069014 57.777109769069014 1.4036246218938497 0 1 123.16666666666667,84.69014069839521 L123.16666666666667,93.77344773156621 A48.69380273589802 48.69380273589802 1.4036246218938497 0 0 75.15168855959462,134.36488647539744 L49.487319039831114,286.4531093483519 A49.172821515258285 49.172821515258285 1.4036246218938497 0 1 1,327.4438609481744 Z\" style=\"fill: rgb(178, 223, 138);\"/><title>Guinea → Aluminium mining\nGuinea\n202m</title><text class=\"label\" dy=\"0.35em\" x=\"5\" y=\"322.9022074315889\"/></g><g class=\"link\" style=\"opacity: 0.8;\"><path d=\"M124.16666666666667,84.69014069839521 A0 0 0 0 0 124.16666666666667,84.69014069839521 L246.33333333333334,84.69014069839521 A0 0 0 0 0 246.33333333333334,84.69014069839521 L246.33333333333334,93.77344773156621 A0 0 0 0 0 246.33333333333334,93.77344773156621 L124.16666666666667,93.77344773156621 A0 0 0 0 0 124.16666666666667,93.77344773156621 Z\" style=\"fill: rgb(178, 223, 138);\"/><title>Aluminium mining → \nGuinea\n202m</title><text class=\"label\" dy=\"0.35em\" x=\"128.16666666666669\" y=\"89.23179421498071\"/></g><g class=\"link\" style=\"opacity: 0.8;\"><path d=\"M247.33333333333334,84.69014069839521 A0 0 0 0 0 247.33333333333334,84.69014069839521 L369.5,84.69014069839521 A0 0 0 0 0 369.5,84.69014069839521 L369.5,93.77344773156621 A0 0 0 0 0 369.5,93.77344773156621 L247.33333333333334,93.77344773156621 A0 0 0 0 0 247.33333333333334,93.77344773156621 Z\" style=\"fill: rgb(178, 223, 138);\"/><title> → Aluminium refining\nGuinea\n202m</title><text class=\"label\" dy=\"0.35em\" x=\"251.33333333333334\" y=\"89.23179421498071\"/></g><g class=\"link\" style=\"opacity: 0.8;\"><path d=\"M616.8333333333334,154.90511077109156 A41.6166886414201 41.6166886414201 1.055194928101116 0 1 653.0397007634149,176.00235178361984 L698.5711546078837,256.34216293903705 A46.47013191988755 46.47013191988755 1.055194928101116 0 0 739,279.8998174522338 L739,289.813999177432 A56.38431364508577 56.38431364508577 1.055194928101116 0 1 689.9458526429921,261.2304310673919 L644.4143987985233,180.8906199119747 A31.70250691622188 31.70250691622188 1.055194928101116 0 0 616.8333333333334,164.81929249628976 Z\" style=\"fill: rgb(253, 191, 111);\"/><title>Graphite/Carbon → NMC622\nGraphite/Carbon\n221m</title><text class=\"label\" dy=\"0.35em\" x=\"620.8333333333334\" y=\"159.86220163369066\"/></g><g class=\"link\" style=\"opacity: 0.8;\"><path d=\"M1,165.76349273212327 A46.75722530432857 46.75722530432857 1.3632103207858641 0 1 46.75340778391801,202.88413179866745 L73.78640525209403,331.23370770278495 A50.46365113287523 50.46365113287523 1.3632103207858641 0 0 123.16666666666667,371.29688440950986 L123.16666666666667,381.36698214835883 A60.53374887172424 60.53374887172424 1.3632103207858641 0 1 63.93249956648833,333.30913807000036 L36.89950209831231,204.95956216588286 A36.68712756547956 36.68712756547956 1.3632103207858641 0 0 1,175.8335904709723 Z\" style=\"fill: rgb(227, 26, 28);\"/><title>Chile → Lithium mining\nChile\n224m</title><text class=\"label\" dy=\"0.35em\" x=\"5\" y=\"170.79854160154778\"/></g><g class=\"link\" style=\"opacity: 0.8;\"><path d=\"M124.16666666666667,371.29688440950986 A0 0 0 0 0 124.16666666666667,371.29688440950986 L246.33333333333334,371.29688440950986 A0 0 0 0 0 246.33333333333334,371.29688440950986 L246.33333333333334,381.36698214835883 A0 0 0 0 0 246.33333333333334,381.36698214835883 L124.16666666666667,381.36698214835883 A0 0 0 0 0 124.16666666666667,381.36698214835883 Z\" style=\"fill: rgb(227, 26, 28);\"/><title>Lithium mining → \nChile\n224m</title><text class=\"label\" dy=\"0.35em\" x=\"128.16666666666669\" y=\"376.33193327893434\"/></g><g class=\"link\" style=\"opacity: 0.8;\"><path d=\"M247.33333333333334,371.29688440950986 A994.9649511305755 994.9649511305755 0.00827995314471619 0 0 255.57150237702706,371.26277838781726 L361.1784519715844,370.3883378101371 A1005.0350488694245 1005.0350488694245 0.00827995314471619 0 1 369.5,370.3538865994291 L369.5,380.42398433827805 A994.9649511305755 994.9649511305755 0.00827995314471619 0 0 361.2618309563063,380.45809035997064 L255.65488136174895,381.3325309376508 A1005.0350488694245 1005.0350488694245 0.00827995314471619 0 1 247.33333333333334,381.36698214835883 Z\" style=\"fill: rgb(227, 26, 28);\"/><title> → Lithium refining\nChile\n224m</title><text class=\"label\" dy=\"0.35em\" x=\"251.33333333333334\" y=\"376.33193327893434\"/></g><g class=\"link\" style=\"opacity: 0.8;\"><path d=\"M1,153.18930219501237 A59.331415841439465 59.331415841439465 0.5065246850529799 0 1 29.784116824450823,160.63920375259366 L101.1250667771986,200.21951026739575 A45.43336649265449 45.43336649265449 0.5065246850529799 0 0 123.16666666666667,205.92431442552245 L123.16666666666667,218.49850496263335 A58.00755702976539 58.00755702976539 0.5065246850529799 0 1 95.02480835153817,211.2148326730248 L23.683858398790388,171.6345261582227 A46.75722530432857 46.75722530432857 0.5065246850529799 0 0 1,165.76349273212327 Z\" style=\"fill: rgb(227, 26, 28);\"/><title>Chile → Copper mining\nChile\n280m</title><text class=\"label\" dy=\"0.35em\" x=\"5\" y=\"159.47639746356782\"/></g><g class=\"link\" style=\"opacity: 0.8;\"><path d=\"M124.16666666666667,205.92431442552245 A0 0 0 0 0 124.16666666666667,205.92431442552245 L246.33333333333334,205.92431442552245 A0 0 0 0 0 246.33333333333334,205.92431442552245 L246.33333333333334,218.49850496263335 A0 0 0 0 0 246.33333333333334,218.49850496263335 L124.16666666666667,218.49850496263335 A0 0 0 0 0 124.16666666666667,218.49850496263335 Z\" style=\"fill: rgb(227, 26, 28);\"/><title>Copper mining → Copper_smelting\nChile\n280m</title><text class=\"label\" dy=\"0.35em\" x=\"128.16666666666669\" y=\"212.2114096940779\"/></g><g class=\"link\" style=\"opacity: 0.8;\"><path d=\"M1,493.0446664286298 A47.02526147896586 47.02526147896586 0.4602834803268483 0 0 21.888720013874668,488.1505880964385 L96.27991452918495,451.2672936417237 A60.528196497698914 60.528196497698914 0.4602834803268483 0 1 123.16666666666667,444.96791910026565 L123.16666666666667,458.4708541189987 A47.02526147896586 47.02526147896586 0.4602834803268483 0 0 102.27794665279201,463.36493245119 L27.886752137481714,500.2482269059048 A60.528196497698914 60.528196497698914 0.4602834803268483 0 1 1,506.54760144736287 Z\" style=\"fill: rgb(106, 61, 154);\"/><title>South Africa → Manganese mining\nSouth Africa\n301m</title><text class=\"label\" dy=\"0.35em\" x=\"5\" y=\"499.79613393799633\"/></g><g class=\"link\" style=\"opacity: 0.8;\"><path d=\"M124.16666666666667,444.96791910026565 A0 0 0 0 0 124.16666666666667,444.96791910026565 L246.33333333333334,444.96791910026565 A0 0 0 0 0 246.33333333333334,444.96791910026565 L246.33333333333334,458.4708541189987 A0 0 0 0 0 246.33333333333334,458.4708541189987 L124.16666666666667,458.4708541189987 A0 0 0 0 0 124.16666666666667,458.4708541189987 Z\" style=\"fill: rgb(106, 61, 154);\"/><title>Manganese mining → \nSouth Africa\n301m</title><text class=\"label\" dy=\"0.35em\" x=\"128.16666666666669\" y=\"451.7193866096322\"/></g><g class=\"link\" style=\"opacity: 0.8;\"><path d=\"M247.33333333333334,444.96791910026565 A993.2485324906335 993.2485324906335 0.002263935178821175 0 0 249.5819817064789,444.96537370210007 L367.2207818833619,444.699046628974 A1006.7514675093665 1006.7514675093665 0.002263935178821175 0 1 369.5,444.69646662683476 L369.5,458.19940164556783 A993.2485324906335 993.2485324906335 0.002263935178821175 0 0 367.2513516268544,458.2019470437334 L249.61255144997145,458.4682741168595 A1006.7514675093665 1006.7514675093665 0.002263935178821175 0 1 247.33333333333334,458.4708541189987 Z\" style=\"fill: rgb(106, 61, 154);\"/><title> → Manganese refining\nSouth Africa\n301m</title><text class=\"label\" dy=\"0.35em\" x=\"251.33333333333334\" y=\"451.7193866096322\"/></g><g class=\"link\" style=\"opacity: 0.8;\"><path d=\"M1,67.93325024730288 A241.51125364962897 241.51125364962897 0.09074153186771339 0 0 22.88503858161915,66.93962739778068 L100.04364545542076,59.918856892434476 A255.1729493218833 255.1729493218833 0.09074153186771339 0 1 123.16666666666667,58.86902725015196 L123.16666666666667,72.53072292240628 A241.51125364962897 241.51125364962897 0.09074153186771339 0 0 101.28162808504753,73.52434577192848 L24.12302121124592,80.54511627727469 A255.1729493218833 255.1729493218833 0.09074153186771339 0 1 1,81.5949459195572 Z\" style=\"fill: rgb(31, 120, 180);\"/><title>Australia → Aluminium mining\nAustralia\n304m</title><text class=\"label\" dy=\"0.35em\" x=\"5\" y=\"74.76409808343004\"/></g><g class=\"link\" style=\"opacity: 0.8;\"><path d=\"M124.16666666666667,58.86902725015196 A0 0 0 0 0 124.16666666666667,58.86902725015196 L246.33333333333334,58.86902725015196 A0 0 0 0 0 246.33333333333334,58.86902725015196 L246.33333333333334,72.53072292240628 A0 0 0 0 0 246.33333333333334,72.53072292240628 L124.16666666666667,72.53072292240628 A0 0 0 0 0 124.16666666666667,72.53072292240628 Z\" style=\"fill: rgb(31, 120, 180);\"/><title>Aluminium mining → \nAustralia\n304m</title><text class=\"label\" dy=\"0.35em\" x=\"128.16666666666669\" y=\"65.69987508627912\"/></g><g class=\"link\" style=\"opacity: 0.8;\"><path d=\"M247.33333333333334,58.86902725015196 A0 0 0 0 0 247.33333333333334,58.86902725015196 L369.5,58.86902725015196 A0 0 0 0 0 369.5,58.86902725015196 L369.5,72.53072292240628 A0 0 0 0 0 369.5,72.53072292240628 L247.33333333333334,72.53072292240628 A0 0 0 0 0 247.33333333333334,72.53072292240628 Z\" style=\"fill: rgb(31, 120, 180);\"/><title> → Aluminium refining\nAustralia\n304m</title><text class=\"label\" dy=\"0.35em\" x=\"251.33333333333334\" y=\"65.69987508627912\"/></g><g class=\"link\" style=\"opacity: 0.8;\"><path d=\"M370.5,355.73453054492455 A993.0175033346484 993.0175033346484 0.018197416461446236 0 0 388.569355757446,355.57011821190525 L474.34319813497916,354.0090835667504 A1006.9824966653516 1006.9824966653516 0.018197416461446236 0 1 492.6666666666667,353.842359071935 L492.6666666666667,367.80735240263834 A993.0175033346484 993.0175033346484 0.018197416461446236 0 0 474.5973109092207,367.97176473565764 L388.8234685316875,369.5327993808125 A1006.9824966653516 1006.9824966653516 0.018197416461446236 0 1 370.5,369.6995238756279 Z\" style=\"fill: rgb(227, 26, 28);\"/><title>Lithium refining → Lithium\nChile\n311m</title><text class=\"label\" dy=\"0.35em\" x=\"374.5\" y=\"362.7170272102762\"/></g><g class=\"link\" style=\"opacity: 0.8;\"><path d=\"M370.5,495.6698925124912 A375.9618822923086 375.9618822923086 0.061376068885713675 0 0 393.5605777371473,494.96198646987494 L467.8933226553809,490.3939974515205 A403.8855032740406 403.8855032740406 0.061376068885713675 0 1 492.6666666666667,489.6335134722683 L492.6666666666667,504.16520609173347 A389.35381065457545 389.35381065457545 0.061376068885713675 0 0 468.78466096143546,504.89832806036895 L394.45191604320183,509.4663170787234 A390.49357491177375 390.49357491177375 0.061376068885713675 0 1 370.5,510.20158513195634 Z\" style=\"fill: rgb(253, 191, 111);\"/><title>Nickel refining → Nickel\nChina\n323m</title><text class=\"label\" dy=\"0.35em\" x=\"374.5\" y=\"502.93573882222375\"/></g><g class=\"link\" style=\"opacity: 0.8;\"><path d=\"M493.6666666666667,415.997301439521 A62.84546605031531 62.84546605031531 0.355965864763232 0 0 515.5680503156273,412.0575396744647 L580.3644390472746,387.96597526829686 A101.7770944258366 101.7770944258366 0.355965864763232 0 1 615.8333333333334,381.5856024207726 L615.8333333333334,396.33114919052434 A87.03154765608488 87.03154765608488 0.355965864763232 0 0 585.5032007943744,401.78712852138966 L520.7068120627271,425.8786929275575 A77.59101282006702 77.59101282006702 0.355965864763232 0 1 493.6666666666667,430.7428482092727 Z\" style=\"fill: rgb(166, 206, 227);\"/><title>Manganese → Active material\nManganese Sulfate\n328m</title><text class=\"label\" dy=\"0.35em\" x=\"497.6666666666667\" y=\"423.37007482439685\"/></g><g class=\"link\" style=\"opacity: 0.8;\"><path d=\"M493.6666666666667,266.943310569037 A47.09922995221967 47.09922995221967 0.7307343720957999 0 1 525.1014788427036,278.96847537976873 L594.4999933790369,341.16626343043737 A31.9640492371777 31.9640492371777 0.7307343720957999 0 0 615.8333333333334,349.3271815704013 L615.8333333333334,364.4623622854433 A47.09922995221967 47.09922995221967 0.7307343720957999 0 1 584.3985211572964,352.4371974747116 L515.0000066209631,290.23940942404295 A31.9640492371777 31.9640492371777 0.7307343720957999 0 0 493.6666666666667,282.078491284079 Z\" style=\"fill: rgb(255, 255, 153);\"/><title>Cobalt → Active material\nCobalt Sulfate\n337m</title><text class=\"label\" dy=\"0.35em\" x=\"497.6666666666667\" y=\"274.510900926558\"/></g><g class=\"link\" style=\"opacity: 0.8;\"><path d=\"M370.5,369.6995238756279 A992.3056850715142 992.3056850715142 0.018197416461446236 0 0 388.55640321895794,369.53522939722944 L474.3302455964911,367.9741947520746 A1007.6943149284858 1007.6943149284858 0.018197416461446236 0 1 492.6666666666667,367.80735240263834 L492.6666666666667,383.1959822596101 A992.3056850715142 992.3056850715142 0.018197416461446236 0 0 474.61026344770875,383.36027673800857 L388.83642107017556,384.9213113831634 A1007.6943149284858 1007.6943149284858 0.018197416461446236 0 1 370.5,385.08815373259966 Z\" style=\"fill: rgb(253, 191, 111);\"/><title>Lithium refining → Lithium\nChina\n343m</title><text class=\"label\" dy=\"0.35em\" x=\"374.5\" y=\"377.3938388041138\"/></g><g class=\"link\" style=\"opacity: 0.8;\"><path d=\"M616.8333333333334,349.3271815704013 A40.08316065926322 40.08316065926322 0.5993065740493764 0 0 639.4430429110322,342.3417670768277 L689.1213214486103,308.4055756385407 A88.42639393383054 88.42639393383054 0.5993065740493764 0 1 739,292.9952386381554 L739,309.2110832644493 A72.21054930753665 72.21054930753665 0.5993065740493764 0 0 698.2681933900291,321.7954356315127 L648.589914852451,355.7316270697997 A56.299005285557094 56.299005285557094 0.5993065740493764 0 1 616.8333333333334,365.5430261966952 Z\" style=\"fill: rgb(202, 178, 214);\"/><title>Active material → NMC622\nActive Material\n361m</title><text class=\"label\" dy=\"0.35em\" x=\"620.8333333333334\" y=\"357.43510388354827\"/></g><g class=\"link\" style=\"opacity: 0.8;\"><path d=\"M493.6666666666667,340.4428421506657 A105.36808230109271 105.36808230109271 0.23797669749849248 0 1 518.5058044416771,343.4124381230831 L595.0307739185578,361.97535177752457 A88.24484216576344 88.24484216576344 0.23797669749849248 0 0 615.8333333333334,364.4623622854433 L615.8333333333334,381.5856024207726 A105.36808230109271 105.36808230109271 0.23797669749849248 0 1 590.9941955583229,378.61600644835517 L514.4692260814422,360.0530927939137 A88.24484216576344 88.24484216576344 0.23797669749849248 0 0 493.6666666666667,357.566082285995 Z\" style=\"fill: rgb(177, 89, 40);\"/><title>Lithium → Active material\nLithium Carbonate\n381m</title><text class=\"label\" dy=\"0.35em\" x=\"497.6666666666667\" y=\"349.00446221833033\"/></g><g class=\"link\" style=\"opacity: 0.8;\"><path d=\"M1,347.65656268415967 A46.158286191247186 46.158286191247186 1.2020430941640152 0 1 44.055409468018794,377.1769674100784 L80.09977216825757,470.45235215822515 A46.17059891399726 46.17059891399726 1.2020430941640152 0 0 123.16666666666667,499.9806314520461 L123.16666666666667,517.2060182874675 A63.39598574941861 63.39598574941861 1.2020430941640152 0 1 64.03231939561277,476.6612903145234 L27.987956695374006,383.38590556637666 A28.93289935582584 28.93289935582584 1.2020430941640152 0 0 1,364.881949519581 Z\" style=\"fill: rgb(253, 191, 111);\"/><title>Indonesia → Nickel mining\nIndonesia\n383m</title><text class=\"label\" dy=\"0.35em\" x=\"5\" y=\"356.2692561018703\"/></g><g class=\"link\" style=\"opacity: 0.8;\"><path d=\"M124.16666666666667,499.9806314520461 A0 0 0 0 0 124.16666666666667,499.9806314520461 L246.33333333333334,499.9806314520461 A0 0 0 0 0 246.33333333333334,499.9806314520461 L246.33333333333334,517.2060182874675 A0 0 0 0 0 246.33333333333334,517.2060182874675 L124.16666666666667,517.2060182874675 A0 0 0 0 0 124.16666666666667,517.2060182874675 Z\" style=\"fill: rgb(253, 191, 111);\"/><title>Nickel mining → \nIndonesia\n383m</title><text class=\"label\" dy=\"0.35em\" x=\"128.16666666666669\" y=\"508.59332486975677\"/></g><g class=\"link\" style=\"opacity: 0.8;\"><path d=\"M247.33333333333334,499.9806314520461 A991.3873065822893 991.3873065822893 0.001926581721526599 0 0 249.2433208155922,499.97879157799116 L367.5568264228474,499.75085065866114 A1008.6126934177107 1008.6126934177107 0.001926581721526599 0 1 369.5,499.7489788167344 L369.5,516.9743656521557 A991.3873065822893 991.3873065822893 0.001926581721526599 0 0 367.5900125177411,516.9762055262107 L249.27650691048598,517.2041464455407 A1008.6126934177107 1008.6126934177107 0.001926581721526599 0 1 247.33333333333334,517.2060182874675 Z\" style=\"fill: rgb(253, 191, 111);\"/><title> → Nickel refining\nIndonesia\n383m</title><text class=\"label\" dy=\"0.35em\" x=\"251.33333333333334\" y=\"508.59332486975677\"/></g><g class=\"link\" style=\"opacity: 0.8;\"><path d=\"M247.33333333333334,206.568457452306 A0 0 0 0 1 247.33333333333334,206.568457452306 L369.5,206.6480571285443 A0 0 0 0 0 369.5,206.6480571285443 L369.5,226.16377843507777 A0 0 0 0 1 369.5,226.16377843507777 L247.33333333333334,226.08417875883947 A0 0 0 0 0 247.33333333333334,226.08417875883947 Z\" style=\"fill: rgb(253, 191, 111);\"/><title>Copper_smelting → Copper_refining\nChina\n434m</title><text class=\"label\" dy=\"0.35em\" x=\"251.33333333333334\" y=\"216.32631810557274\"/></g><g class=\"link\" style=\"opacity: 0.8;\"><path d=\"M370.5,206.6480571285443 A868.9017411640847 868.9017411640847 0.026096470309499464 0 0 393.17269483746264,206.352201684091 L469.27730333510004,204.3656890521142 A896.3671354115941 896.3671354115941 0.026096470309499464 0 1 492.6666666666667,204.06048181788165 L492.6666666666667,223.57620312441512 A876.8514141050607 876.8514141050607 0.026096470309499464 0 0 469.78653697194744,223.87476538128436 L393.68192847431004,225.86127801326117 A888.417462470618 888.417462470618 0.026096470309499464 0 1 370.5,226.16377843507777 Z\" style=\"fill: rgb(253, 191, 111);\"/><title>Copper_refining → \nChina\n434m</title><text class=\"label\" dy=\"0.35em\" x=\"374.5\" y=\"216.40591778181104\"/></g><g class=\"link\" style=\"opacity: 0.8;\"><path d=\"M493.6666666666667,204.06048181788165 A78.53401333260146 78.53401333260146 0.5801704054272769 0 1 536.7163792638764,216.91106120079635 L587.8392288548226,250.41759168649597 A51.06861908509218 51.06861908509218 0.5801704054272769 0 0 615.8333333333334,258.7739880513355 L615.8333333333334,278.28970935786896 A70.58434039162564 70.58434039162564 0.5801704054272769 0 1 577.141364862881,266.73994090847384 L526.0185152719348,233.2334104227742 A59.018292026067996 59.018292026067996 0.5801704054272769 0 0 493.6666666666667,223.57620312441512 Z\" style=\"fill: rgb(253, 191, 111);\"/><title> → Copper\nChina\n434m</title><text class=\"label\" dy=\"0.35em\" x=\"497.6666666666667\" y=\"213.81834247114838\"/></g><g class=\"link\" style=\"opacity: 0.8;\"><path d=\"M1,85.7013481970056 A57.994065281287384 57.994065281287384 1.3666880812415707 0 1 57.79023184685614,131.9403645787541 L97.96889783417781,326.04893666703344 A25.731908518261235 25.731908518261235 1.3666880812415707 0 0 123.16666666666667,346.56514179489585 L123.16666666666667,370.0446442975961 A49.211411020961464 49.211411020961464 1.3666880812415707 0 1 74.97677985952312,330.80809087906187 L34.79811387220145,136.69951879078246 A34.514562778587155 34.514562778587155 1.3666880812415707 0 0 1,109.18085069970583 Z\" style=\"fill: rgb(31, 120, 180);\"/><title>Australia → Lithium mining\nAustralia\n523m</title><text class=\"label\" dy=\"0.35em\" x=\"5\" y=\"97.44109944835571\"/></g><g class=\"link\" style=\"opacity: 0.8;\"><path d=\"M124.16666666666667,346.56514179489585 A0 0 0 0 0 124.16666666666667,346.56514179489585 L246.33333333333334,346.56514179489585 A0 0 0 0 0 246.33333333333334,346.56514179489585 L246.33333333333334,370.0446442975961 A0 0 0 0 0 246.33333333333334,370.0446442975961 L124.16666666666667,370.0446442975961 A0 0 0 0 0 124.16666666666667,370.0446442975961 Z\" style=\"fill: rgb(31, 120, 180);\"/><title>Lithium mining → \nAustralia\n523m</title><text class=\"label\" dy=\"0.35em\" x=\"128.16666666666669\" y=\"358.304893046246\"/></g><g class=\"link\" style=\"opacity: 0.8;\"><path d=\"M247.33333333333334,346.56514179489585 A988.2602487486499 988.2602487486499 0.00827995314471619 0 0 255.51598838977836,346.531265601123 L361.1229379843357,345.6568250234428 A1011.7397512513501 1011.7397512513501 0.00827995314471619 0 1 369.5,345.62214398481507 L369.5,369.1016464875153 A988.2602487486499 988.2602487486499 0.00827995314471619 0 0 361.31734494355504,369.1355226812882 L255.71039534899765,370.00996325896836 A1011.7397512513501 1011.7397512513501 0.00827995314471619 0 1 247.33333333333334,370.0446442975961 Z\" style=\"fill: rgb(31, 120, 180);\"/><title> → Lithium refining\nAustralia\n523m</title><text class=\"label\" dy=\"0.35em\" x=\"251.33333333333334\" y=\"358.304893046246\"/></g><g class=\"link\" style=\"opacity: 0.8;\"><path d=\"M370.5,68.942188678855 A0 0 0 0 0 370.5,68.942188678855 L492.6666666666667,68.942188678855 A0 0 0 0 0 492.6666666666667,68.942188678855 L492.6666666666667,93.42266681123986 A0 0 0 0 0 492.6666666666667,93.42266681123986 L370.5,93.42266681123986 A0 0 0 0 0 370.5,93.42266681123986 Z\" style=\"fill: rgb(253, 191, 111);\"/><title>Aluminium refining → Aluminium primary\nChina\n545m</title><text class=\"label\" dy=\"0.35em\" x=\"374.5\" y=\"81.18242774504743\"/></g><g class=\"link\" style=\"opacity: 0.8;\"><path d=\"M493.6666666666667,63.006443474235766 A0 0 0 0 0 493.6666666666667,63.006443474235766 L615.8333333333334,63.006443474235766 A0 0 0 0 0 615.8333333333334,63.006443474235766 L615.8333333333334,88.05495469234955 A0 0 0 0 0 615.8333333333334,88.05495469234955 L493.6666666666667,88.05495469234955 A0 0 0 0 0 493.6666666666667,88.05495469234955 Z\" style=\"fill: rgb(253, 191, 111);\"/><title>Aluminium primary → Aluminium\nChina\n558m</title><text class=\"label\" dy=\"0.35em\" x=\"497.6666666666667\" y=\"75.53069908329266\"/></g><g class=\"link\" style=\"opacity: 0.8;\"><path d=\"M370.5,417.541770993674 A987.2276769333406 987.2276769333406 0.014320034417778515 0 0 384.6366511487185,417.44055059845084 L478.1642278080392,416.10114092579875 A1012.7723230666594 1012.7723230666594 0.014320034417778515 0 1 492.6666666666667,415.997301439521 L492.6666666666667,441.5419475728399 A987.2276769333406 987.2276769333406 0.014320034417778515 0 0 478.5300155179482,441.64316796806304 L385.0024388586275,442.98257764071514 A1012.7723230666594 1012.7723230666594 0.014320034417778515 0 1 370.5,443.0864171269929 Z\" style=\"fill: rgb(253, 191, 111);\"/><title>Manganese refining → Manganese\nChina\n569m</title><text class=\"label\" dy=\"0.35em\" x=\"374.5\" y=\"430.31409406033345\"/></g><g class=\"link\" style=\"opacity: 0.8;\"><path d=\"M1,189.63602647391698 A41.08654055500429 41.08654055500429 0.5685029200223721 0 0 23.11980403645562,183.1734383820099 L79.01118125535012,147.46676067884343 A82.01682705181216 82.01682705181216 0.5685029200223721 0 1 123.16666666666667,134.56616202339185 L123.16666666666667,162.33804468706265 A54.24494438814136 54.24494438814136 0.5685029200223721 0 0 93.96275892398924,170.87034570129995 L38.07138170509472,206.57702340446642 A68.85842321867509 68.85842321867509 0.5685029200223721 0 1 1,217.40790913758778 Z\" style=\"fill: rgb(255, 127, 0);\"/><title>China → Graphite production\nChina  \n618m</title><text class=\"label\" dy=\"0.35em\" x=\"5\" y=\"203.52196780575238\"/></g><g class=\"link\" style=\"opacity: 0.8;\"><path d=\"M124.16666666666667,134.56616202339185 A0 0 0 0 0 124.16666666666667,134.56616202339185 L246.33333333333334,134.56616202339185 A0 0 0 0 0 246.33333333333334,134.56616202339185 L246.33333333333334,162.33804468706265 A0 0 0 0 0 246.33333333333334,162.33804468706265 L124.16666666666667,162.33804468706265 A0 0 0 0 0 124.16666666666667,162.33804468706265 Z\" style=\"fill: rgb(255, 127, 0);\"/><title>Graphite production → \nChina  \n618m</title><text class=\"label\" dy=\"0.35em\" x=\"128.16666666666669\" y=\"148.45210335522725\"/></g><g class=\"link\" style=\"opacity: 0.8;\"><path d=\"M247.33333333333334,134.56616202339185 A0 0 0 0 1 247.33333333333334,134.56616202339185 L369.5,134.60596186151102 A0 0 0 0 0 369.5,134.60596186151102 L369.5,162.3778445251818 A0 0 0 0 1 369.5,162.3778445251818 L247.33333333333334,162.33804468706265 A0 0 0 0 0 247.33333333333334,162.33804468706265 Z\" style=\"fill: rgb(255, 127, 0);\"/><title> → \nChina  \n618m</title><text class=\"label\" dy=\"0.35em\" x=\"251.33333333333334\" y=\"148.45210335522725\"/></g><g class=\"link\" style=\"opacity: 0.8;\"><path d=\"M370.5,134.60596186151102 A765.0338236015883 765.0338236015883 0.02964143367342431 0 0 393.1733788062731,134.2699015285054 L469.011194278044,132.02130136171272 A798.1711347566239 798.1711347566239 0.02964143367342431 0 1 492.6666666666667,131.67068463201178 L492.6666666666667,159.44256729568258 A770.3992520929531 770.3992520929531 0.02964143367342431 0 0 469.8342721556108,159.78098452799108 L393.9964566838399,162.02958469478375 A792.8057062652591 792.8057062652591 0.02964143367342431 0 1 370.5,162.3778445251818 Z\" style=\"fill: rgb(255, 127, 0);\"/><title> → \nChina  \n618m</title><text class=\"label\" dy=\"0.35em\" x=\"374.5\" y=\"148.49190319334642\"/></g><g class=\"link\" style=\"opacity: 0.8;\"><path d=\"M493.6666666666667,131.67068463201178 A121.88083632799116 121.88083632799116 0.2865342639509212 0 1 528.1137857759645,136.63986949155256 L590.7517957109195,155.09567746190743 A88.74352517295547 88.74352517295547 0.2865342639509212 0 0 615.8333333333334,158.71382609755517 L615.8333333333334,186.48570876122596 A116.51540783662627 116.51540783662627 0.2865342639509212 0 1 582.9026425640667,181.73527696268724 L520.2646326291117,163.27946899233237 A94.10895366432037 94.10895366432037 0.2865342639509212 0 0 493.6666666666667,159.44256729568258 Z\" style=\"fill: rgb(255, 127, 0);\"/><title> → Graphite/Carbon\nChina  \n618m</title><text class=\"label\" dy=\"0.35em\" x=\"497.6666666666667\" y=\"145.55662596384718\"/></g><g class=\"link\" style=\"opacity: 0.8;\"><path d=\"M370.5,274.56356490473524 A985.7845541679796 985.7845541679796 0.022461374530753586 0 0 392.64021429595005,274.3149046275321 L469.88790916022975,272.5795233707305 A1014.2154458320204 1014.2154458320204 0.022461374530753586 0 1 492.6666666666667,272.32369151290914 L492.6666666666667,300.75458317694984 A985.7845541679796 985.7845541679796 0.022461374530753586 0 0 470.52645237071664,301.003243454153 L393.27875750643693,302.7386247109546 A1014.2154458320204 1014.2154458320204 0.022461374530753586 0 1 370.5,302.99445656877595 Z\" style=\"fill: rgb(253, 191, 111);\"/><title>Cobalt refining → Cobalt\nChina\n633m</title><text class=\"label\" dy=\"0.35em\" x=\"374.5\" y=\"288.7790107367556\"/></g><g class=\"link\" style=\"opacity: 0.8;\"><path d=\"M1,239.37846008455213 A81.55078852775084 81.55078852775084 0.3530291236947867 0 1 29.19550875962815,244.4077196463729 L104.80538809755205,272.2673173830574 A53.10692417201615 53.10692417201615 0.3530291236947867 0 0 123.16666666666667,275.542436005609 L123.16666666666667,303.9863003613437 A81.55078852775084 81.55078852775084 0.3530291236947867 0 1 94.97115790703853,298.95704079952293 L19.361278569114614,271.0974430628384 A53.10692417201615 53.10692417201615 0.3530291236947867 0 0 1,267.8223244402868 Z\" style=\"fill: rgb(202, 178, 214);\"/><title>Congo → Cobalt mining\nCongo\n633m</title><text class=\"label\" dy=\"0.35em\" x=\"5\" y=\"253.60039226241946\"/></g><g class=\"link\" style=\"opacity: 0.8;\"><path d=\"M124.16666666666667,275.542436005609 A0 0 0 0 0 124.16666666666667,275.542436005609 L246.33333333333334,275.542436005609 A0 0 0 0 0 246.33333333333334,275.542436005609 L246.33333333333334,303.9863003613437 A0 0 0 0 0 246.33333333333334,303.9863003613437 L124.16666666666667,303.9863003613437 A0 0 0 0 0 124.16666666666667,303.9863003613437 Z\" style=\"fill: rgb(202, 178, 214);\"/><title>Cobalt mining → \nCongo\n633m</title><text class=\"label\" dy=\"0.35em\" x=\"128.16666666666669\" y=\"289.76436818347634\"/></g><g class=\"link\" style=\"opacity: 0.8;\"><path d=\"M247.33333333333334,275.542436005609 A932.2216349424564 932.2216349424564 0.024313779040626704 0 0 269.99693106002485,275.2669035781367 L346.0338761963622,273.4177937076343 A965.2319354497645 965.2319354497645 0.024313779040626704 0 1 369.5,273.13250457865513 L369.5,301.57636893438985 A936.7880710940299 936.7880710940299 0.024313779040626704 0 0 346.7253858925416,301.85325104222846 L270.6884407562043,303.70236091273085 A960.665499298191 960.665499298191 0.024313779040626704 0 1 247.33333333333334,303.9863003613437 Z\" style=\"fill: rgb(202, 178, 214);\"/><title> → Cobalt refining\nCongo\n633m</title><text class=\"label\" dy=\"0.35em\" x=\"251.33333333333334\" y=\"289.76436818347634\"/></g><g class=\"link\" style=\"opacity: 0.8;\"><path d=\"M493.6666666666667,606.3212452513677 A18.313764877516963 18.313764877516963 1.0906063566114208 0 0 509.9092762751504,596.467481384215 L578.852571770533,464.1011811341387 A41.69631534448152 41.69631534448152 1.0906063566114208 0 1 615.8333333333334,441.6663815021277 L615.8333333333334,481.6279988458583 A1.7346980007509458 1.7346980007509458 1.0906063566114208 0 0 614.2948172169991,482.56135714736223 L545.3515217216166,614.9276573974385 A58.27538222124754 58.27538222124754 1.0906063566114208 0 1 493.6666666666667,646.2828625950982 Z\" style=\"fill: rgb(178, 223, 138);\"/><title>Sodium Hydroxide → Active material\nSodium Hydroxide\n890m</title><text class=\"label\" dy=\"0.35em\" x=\"497.6666666666667\" y=\"626.302053923233\"/></g><g class=\"link\" style=\"opacity: 0.8;\"><path d=\"M493.6666666666667,704.7252303250906 A21.600900835912363 21.600900835912363 1.2318550000704482 0 0 514.0386315775269,690.3063878705618 L575.6156618009092,515.6426588374868 A42.64379692506125 42.64379692506125 1.2318550000704482 0 1 615.8333333333334,487.17744832630655 L615.8333333333334,529.8212452513678 A0 0 1.2318550000704482 0 0 615.8333333333334,529.8212452513678 L554.2563031099511,704.4849742844428 A64.24469776097362 64.24469776097362 1.2318550000704482 0 1 493.6666666666667,747.3690272501518 Z\" style=\"fill: rgb(251, 154, 153);\"/><title>Precursor Co-precipitation → Active material\nPrecursor Co-precipitation \n949m</title><text class=\"label\" dy=\"0.35em\" x=\"497.6666666666667\" y=\"726.0471287876212\"/></g><g class=\"link\" style=\"opacity: 0.8;\"><path d=\"M493.6666666666667,484.48601293976424 A15.950742744368231 15.950742744368231 0.8706772684808312 0 0 505.86524413607674,478.8124732107994 L549.2746098067912,427.28750973206905 A87.03154765608488 87.03154765608488 0.8706772684808312 0 1 615.8333333333334,396.33114919052434 L615.8333333333334,441.6663815021277 A41.69631534448152 41.69631534448152 0.8706772684808312 0 0 583.9454306149353,456.49739629871993 L540.5360649442208,508.0223597774503 A61.285975055971605 61.285975055971605 0.8706772684808312 0 1 493.6666666666667,529.8212452513676 Z\" style=\"fill: rgb(31, 120, 180);\"/><title>Nickel → Active material\nNickel Sulfate\n1.01</title><text class=\"label\" dy=\"0.35em\" x=\"497.6666666666667\" y=\"507.1536290955659\"/></g></g><g class=\"nodes\"><g class=\"node\" transform=\"translate(0,58.869027250151966)\"><title>Argentina</title><line x1=\"0\" x2=\"0\" y1=\"0\" y2=\"3.287130361159818\" style=\"display: inline; stroke: rgb(0, 0, 0);\"/><rect class=\"node-body\" width=\"1\" height=\"3.287130361159818\" style=\"fill: none;\"/><text class=\"node-value\" dy=\".35em\" text-anchor=\"middle\" transform=\"translate(0.5,1.643565180579909) rotate(-90)\" style=\"display: none;\"/><text class=\"node-title\" dy=\".35em\" text-anchor=\"end\" transform=\"translate(-4,1.643565180579909)\" style=\"display: inline;\">Argentina</text><rect class=\"node-click-target\" x=\"-5\" y=\"-5\" width=\"10\" height=\"8.287130361159818\" style=\"fill: none; visibility: hidden; pointer-events: all;\"/></g><g class=\"node\" transform=\"translate(0,67.93325024730288)\"><title>Australia</title><line x1=\"0\" x2=\"0\" y1=\"0\" y2=\"49.165415345089045\" style=\"display: inline; stroke: rgb(0, 0, 0);\"/><rect class=\"node-body\" width=\"1\" height=\"49.165415345089045\" style=\"fill: none;\"/><text class=\"node-value\" dy=\".35em\" text-anchor=\"middle\" transform=\"translate(0.5,24.582707672544522) rotate(-90)\" style=\"display: none;\"/><text class=\"node-title\" dy=\".35em\" text-anchor=\"end\" transform=\"translate(-4,24.582707672544522)\" style=\"display: inline;\">Australia</text><rect class=\"node-click-target\" x=\"-5\" y=\"-5\" width=\"10\" height=\"54.165415345089045\" style=\"fill: none; visibility: hidden; pointer-events: all;\"/></g><g class=\"node\" transform=\"translate(0,122.875758228383)\"><title>Brazil</title><line x1=\"0\" x2=\"0\" y1=\"0\" y2=\"12.661356392655222\" style=\"display: inline; stroke: rgb(0, 0, 0);\"/><rect class=\"node-body\" width=\"1\" height=\"12.661356392655222\" style=\"fill: none;\"/><text class=\"node-value\" dy=\".35em\" text-anchor=\"middle\" transform=\"translate(0.5,6.330678196327611) rotate(-90)\" style=\"display: none;\"/><text class=\"node-title\" dy=\".35em\" text-anchor=\"end\" transform=\"translate(-4,6.330678196327611)\" style=\"display: inline;\">Brazil</text><rect class=\"node-click-target\" x=\"-5\" y=\"-5\" width=\"10\" height=\"17.66135639265522\" style=\"fill: none; visibility: hidden; pointer-events: all;\"/></g><g class=\"node\" transform=\"translate(0,141.31420725702932)\"><title>Canada</title><line x1=\"0\" x2=\"0\" y1=\"0\" y2=\"6.098002301991983\" style=\"display: inline; stroke: rgb(0, 0, 0);\"/><rect class=\"node-body\" width=\"1\" height=\"6.098002301991983\" style=\"fill: none;\"/><text class=\"node-value\" dy=\".35em\" text-anchor=\"middle\" transform=\"translate(0.5,3.0490011509959913) rotate(-90)\" style=\"display: none;\"/><text class=\"node-title\" dy=\".35em\" text-anchor=\"end\" transform=\"translate(-4,3.0490011509959913)\" style=\"display: inline;\">Canada</text><rect class=\"node-click-target\" x=\"-5\" y=\"-5\" width=\"10\" height=\"11.098002301991983\" style=\"fill: none; visibility: hidden; pointer-events: all;\"/></g><g class=\"node\" transform=\"translate(0,153.18930219501237)\"><title>Chile</title><line x1=\"0\" x2=\"0\" y1=\"0\" y2=\"22.644288275959923\" style=\"display: inline; stroke: rgb(0, 0, 0);\"/><rect class=\"node-body\" width=\"1\" height=\"22.644288275959923\" style=\"fill: none;\"/><text class=\"node-value\" dy=\".35em\" text-anchor=\"middle\" transform=\"translate(0.5,11.322144137979961) rotate(-90)\" style=\"display: none;\"/><text class=\"node-title\" dy=\".35em\" text-anchor=\"end\" transform=\"translate(-4,11.322144137979961)\" style=\"display: inline;\">Chile</text><rect class=\"node-click-target\" x=\"-5\" y=\"-5\" width=\"10\" height=\"27.644288275959923\" style=\"fill: none; visibility: hidden; pointer-events: all;\"/></g><g class=\"node\" transform=\"translate(0,181.61068310696336)\"><title>China</title><line x1=\"0\" x2=\"0\" y1=\"0\" y2=\"51.9906843415977\" style=\"display: inline; stroke: rgb(0, 0, 0);\"/><rect class=\"node-body\" width=\"1\" height=\"51.9906843415977\" style=\"fill: none;\"/><text class=\"node-value\" dy=\".35em\" text-anchor=\"middle\" transform=\"translate(0.5,25.99534217079885) rotate(-90)\" style=\"display: none;\"/><text class=\"node-title\" dy=\".35em\" text-anchor=\"end\" transform=\"translate(-4,25.99534217079885)\" style=\"display: inline;\">China</text><rect class=\"node-click-target\" x=\"-5\" y=\"-5\" width=\"10\" height=\"56.9906843415977\" style=\"fill: none; visibility: hidden; pointer-events: all;\"/></g><g class=\"node\" transform=\"translate(0,239.37846008455213)\"><title>Congo</title><line x1=\"0\" x2=\"0\" y1=\"0\" y2=\"28.44386435573469\" style=\"display: inline; stroke: rgb(0, 0, 0);\"/><rect class=\"node-body\" width=\"1\" height=\"28.44386435573469\" style=\"fill: none;\"/><text class=\"node-value\" dy=\".35em\" text-anchor=\"middle\" transform=\"translate(0.5,14.221932177867345) rotate(-90)\" style=\"display: none;\"/><text class=\"node-title\" dy=\".35em\" text-anchor=\"end\" transform=\"translate(-4,14.221932177867345)\" style=\"display: inline;\">Congo</text><rect class=\"node-click-target\" x=\"-5\" y=\"-5\" width=\"10\" height=\"33.44386435573469\" style=\"fill: none; visibility: hidden; pointer-events: all;\"/></g><g class=\"node\" transform=\"translate(0,273.5994170762779)\"><title>Congo, Democratic Republic</title><line x1=\"0\" x2=\"0\" y1=\"0\" y2=\"3.08604970904247\" style=\"display: inline; stroke: rgb(0, 0, 0);\"/><rect class=\"node-body\" width=\"1\" height=\"3.08604970904247\" style=\"fill: none;\"/><text class=\"node-value\" dy=\".35em\" text-anchor=\"middle\" transform=\"translate(0.5,1.543024854521235) rotate(-90)\" style=\"display: none;\"/><text class=\"node-title\" dy=\".35em\" text-anchor=\"end\" transform=\"translate(-4,1.543024854521235)\" style=\"display: inline;\">Congo, Democratic Republic</text><rect class=\"node-click-target\" x=\"-5\" y=\"-5\" width=\"10\" height=\"8.08604970904247\" style=\"fill: none; visibility: hidden; pointer-events: all;\"/></g><g class=\"node\" transform=\"translate(0,282.4625594213115)\"><title>Cuba</title><line x1=\"0\" x2=\"0\" y1=\"0\" y2=\"1.897133236641423\" style=\"display: inline; stroke: rgb(0, 0, 0);\"/><rect class=\"node-body\" width=\"1\" height=\"1.897133236641423\" style=\"fill: none;\"/><text class=\"node-value\" dy=\".35em\" text-anchor=\"middle\" transform=\"translate(0.5,0.9485666183207115) rotate(-90)\" style=\"display: none;\"/><text class=\"node-title\" dy=\".35em\" text-anchor=\"end\" transform=\"translate(-4,0.9485666183207115)\" style=\"display: inline;\">Cuba</text><rect class=\"node-click-target\" x=\"-5\" y=\"-5\" width=\"10\" height=\"6.897133236641423\" style=\"fill: none; visibility: hidden; pointer-events: all;\"/></g><g class=\"node\" transform=\"translate(0,290.136785293944)\"><title>Gabon</title><line x1=\"0\" x2=\"0\" y1=\"0\" y2=\"5.704766341180573\" style=\"display: inline; stroke: rgb(0, 0, 0);\"/><rect class=\"node-body\" width=\"1\" height=\"5.704766341180573\" style=\"fill: none;\"/><text class=\"node-value\" dy=\".35em\" text-anchor=\"middle\" transform=\"translate(0.5,2.8523831705902865) rotate(-90)\" style=\"display: none;\"/><text class=\"node-title\" dy=\".35em\" text-anchor=\"end\" transform=\"translate(-4,2.8523831705902865)\" style=\"display: inline;\">Gabon</text><rect class=\"node-click-target\" x=\"-5\" y=\"-5\" width=\"10\" height=\"10.704766341180573\" style=\"fill: none; visibility: hidden; pointer-events: all;\"/></g><g class=\"node\" transform=\"translate(0,301.61864427111567)\"><title>Ghana</title><line x1=\"0\" x2=\"0\" y1=\"0\" y2=\"4.2734256886244\" style=\"display: inline; stroke: rgb(0, 0, 0);\"/><rect class=\"node-body\" width=\"1\" height=\"4.2734256886244\" style=\"fill: none;\"/><text class=\"node-value\" dy=\".35em\" text-anchor=\"middle\" transform=\"translate(0.5,2.1367128443122) rotate(-90)\" style=\"display: none;\"/><text class=\"node-title\" dy=\".35em\" text-anchor=\"end\" transform=\"translate(-4,2.1367128443122)\" style=\"display: inline;\">Ghana</text><rect class=\"node-click-target\" x=\"-5\" y=\"-5\" width=\"10\" height=\"9.2734256886244\" style=\"fill: none; visibility: hidden; pointer-events: all;\"/></g><g class=\"node\" transform=\"translate(0,311.66916259573117)\"><title>Guatemala</title><line x1=\"0\" x2=\"0\" y1=\"0\" y2=\"1\" style=\"display: inline; stroke: rgb(0, 0, 0);\"/><rect class=\"node-body\" width=\"1\" height=\"1\" style=\"fill: none;\"/><text class=\"node-value\" dy=\".35em\" text-anchor=\"middle\" transform=\"translate(0.5,0.4571493416405872) rotate(0)\" style=\"display: none;\"/><text class=\"node-title\" dy=\".35em\" text-anchor=\"end\" transform=\"translate(-4,0.4571493416405872)\" style=\"display: inline;\">Guatemala</text><rect class=\"node-click-target\" x=\"-5\" y=\"-5\" width=\"10\" height=\"6\" style=\"fill: none; visibility: hidden; pointer-events: all;\"/></g><g class=\"node\" transform=\"translate(0,318.36055391500344)\"><title>Guinea</title><line x1=\"0\" x2=\"0\" y1=\"0\" y2=\"9.083307033171025\" style=\"display: inline; stroke: rgb(0, 0, 0);\"/><rect class=\"node-body\" width=\"1\" height=\"9.083307033171025\" style=\"fill: none;\"/><text class=\"node-value\" dy=\".35em\" text-anchor=\"middle\" transform=\"translate(0.5,4.541653516585512) rotate(-90)\" style=\"display: none;\"/><text class=\"node-title\" dy=\".35em\" text-anchor=\"end\" transform=\"translate(-4,4.541653516585512)\" style=\"display: inline;\">Guinea</text><rect class=\"node-click-target\" x=\"-5\" y=\"-5\" width=\"10\" height=\"14.083307033171025\" style=\"fill: none; visibility: hidden; pointer-events: all;\"/></g><g class=\"node\" transform=\"translate(0,333.2209535841655)\"><title>India</title><line x1=\"0\" x2=\"0\" y1=\"0\" y2=\"6.510735373531645\" style=\"display: inline; stroke: rgb(0, 0, 0);\"/><rect class=\"node-body\" width=\"1\" height=\"6.510735373531645\" style=\"fill: none;\"/><text class=\"node-value\" dy=\".35em\" text-anchor=\"middle\" transform=\"translate(0.5,3.2553676867658226) rotate(-90)\" style=\"display: none;\"/><text class=\"node-title\" dy=\".35em\" text-anchor=\"end\" transform=\"translate(-4,3.2553676867658226)\" style=\"display: inline;\">India</text><rect class=\"node-click-target\" x=\"-5\" y=\"-5\" width=\"10\" height=\"11.510735373531645\" style=\"fill: none; visibility: hidden; pointer-events: all;\"/></g><g class=\"node\" transform=\"translate(0,345.50878159368824)\"><title>Indonesia</title><line x1=\"0\" x2=\"0\" y1=\"0\" y2=\"19.373167925892744\" style=\"display: inline; stroke: rgb(0, 0, 0);\"/><rect class=\"node-body\" width=\"1\" height=\"19.373167925892744\" style=\"fill: none;\"/><text class=\"node-value\" dy=\".35em\" text-anchor=\"middle\" transform=\"translate(0.5,9.686583962946372) rotate(-90)\" style=\"display: none;\"/><text class=\"node-title\" dy=\".35em\" text-anchor=\"end\" transform=\"translate(-4,9.686583962946372)\" style=\"display: inline;\">Indonesia</text><rect class=\"node-click-target\" x=\"-5\" y=\"-5\" width=\"10\" height=\"24.373167925892744\" style=\"fill: none; visibility: hidden; pointer-events: all;\"/></g><g class=\"node\" transform=\"translate(0,370.6590421555721)\"><title>Ivory Coast</title><line x1=\"0\" x2=\"0\" y1=\"0\" y2=\"1\" style=\"display: inline; stroke: rgb(0, 0, 0);\"/><rect class=\"node-body\" width=\"1\" height=\"1\" style=\"fill: none;\"/><text class=\"node-value\" dy=\".35em\" text-anchor=\"middle\" transform=\"translate(0.5,0.4763233805975915) rotate(0)\" style=\"display: none;\"/><text class=\"node-title\" dy=\".35em\" text-anchor=\"end\" transform=\"translate(-4,0.4763233805975915)\" style=\"display: inline;\">Ivory Coast</text><rect class=\"node-click-target\" x=\"-5\" y=\"-5\" width=\"10\" height=\"6\" style=\"fill: none; visibility: hidden; pointer-events: all;\"/></g><g class=\"node\" transform=\"translate(0,377.38878155275836)\"><title>Jamaica</title><line x1=\"0\" x2=\"0\" y1=\"0\" y2=\"1.1678539359699585\" style=\"display: inline; stroke: rgb(0, 0, 0);\"/><rect class=\"node-body\" width=\"1\" height=\"1.1678539359699585\" style=\"fill: none;\"/><text class=\"node-value\" dy=\".35em\" text-anchor=\"middle\" transform=\"translate(0.5,0.5839269679849792) rotate(-90)\" style=\"display: none;\"/><text class=\"node-title\" dy=\".35em\" text-anchor=\"end\" transform=\"translate(-4,0.5839269679849792)\" style=\"display: inline;\">Jamaica</text><rect class=\"node-click-target\" x=\"-5\" y=\"-5\" width=\"10\" height=\"6.1678539359699585\" style=\"fill: none; visibility: hidden; pointer-events: all;\"/></g><g class=\"node\" transform=\"translate(0,384.3337281247194)\"><title>Kazakhstan</title><line x1=\"0\" x2=\"0\" y1=\"0\" y2=\"1.320991797440115\" style=\"display: inline; stroke: rgb(0, 0, 0);\"/><rect class=\"node-body\" width=\"1\" height=\"1.320991797440115\" style=\"fill: none;\"/><text class=\"node-value\" dy=\".35em\" text-anchor=\"middle\" transform=\"translate(0.5,0.6604958987200575) rotate(-90)\" style=\"display: none;\"/><text class=\"node-title\" dy=\".35em\" text-anchor=\"end\" transform=\"translate(-4,0.6604958987200575)\" style=\"display: inline;\">Kazakhstan</text><rect class=\"node-click-target\" x=\"-5\" y=\"-5\" width=\"10\" height=\"6.320991797440115\" style=\"fill: none; visibility: hidden; pointer-events: all;\"/></g><g class=\"node\" transform=\"translate(0,391.4318125581506)\"><title>Korea, Dem. P.R. of</title><line x1=\"0\" x2=\"0\" y1=\"0\" y2=\"1.5869647043851387\" style=\"display: inline; stroke: rgb(0, 0, 0);\"/><rect class=\"node-body\" width=\"1\" height=\"1.5869647043851387\" style=\"fill: none;\"/><text class=\"node-value\" dy=\".35em\" text-anchor=\"middle\" transform=\"translate(0.5,0.7934823521925694) rotate(-90)\" style=\"display: none;\"/><text class=\"node-title\" dy=\".35em\" text-anchor=\"end\" transform=\"translate(-4,0.7934823521925694)\" style=\"display: inline;\">Korea, Dem. P.R. of</text><rect class=\"node-click-target\" x=\"-5\" y=\"-5\" width=\"10\" height=\"6.586964704385139\" style=\"fill: none; visibility: hidden; pointer-events: all;\"/></g><g class=\"node\" transform=\"translate(0,398.79586989852686)\"><title>Madagascar</title><line x1=\"0\" x2=\"0\" y1=\"0\" y2=\"3.1875594750355276\" style=\"display: inline; stroke: rgb(0, 0, 0);\"/><rect class=\"node-body\" width=\"1\" height=\"3.1875594750355276\" style=\"fill: none;\"/><text class=\"node-value\" dy=\".35em\" text-anchor=\"middle\" transform=\"translate(0.5,1.5937797375177638) rotate(-90)\" style=\"display: none;\"/><text class=\"node-title\" dy=\".35em\" text-anchor=\"end\" transform=\"translate(-4,1.5937797375177638)\" style=\"display: inline;\">Madagascar</text><rect class=\"node-click-target\" x=\"-5\" y=\"-5\" width=\"10\" height=\"8.187559475035528\" style=\"fill: none; visibility: hidden; pointer-events: all;\"/></g><g class=\"node\" transform=\"translate(0,407.7605220095535)\"><title>Malaysia</title><line x1=\"0\" x2=\"0\" y1=\"0\" y2=\"1\" style=\"display: inline; stroke: rgb(0, 0, 0);\"/><rect class=\"node-body\" width=\"1\" height=\"1\" style=\"fill: none;\"/><text class=\"node-value\" dy=\".35em\" text-anchor=\"middle\" transform=\"translate(0.5,0.4488351458744262) rotate(0)\" style=\"display: none;\"/><text class=\"node-title\" dy=\".35em\" text-anchor=\"end\" transform=\"translate(-4,0.4488351458744262)\" style=\"display: inline;\">Malaysia</text><rect class=\"node-click-target\" x=\"-5\" y=\"-5\" width=\"10\" height=\"6\" style=\"fill: none; visibility: hidden; pointer-events: all;\"/></g><g class=\"node\" transform=\"translate(0,414.43528493729343)\"><title>Mexico</title><line x1=\"0\" x2=\"0\" y1=\"0\" y2=\"1.6697987970882195\" style=\"display: inline; stroke: rgb(0, 0, 0);\"/><rect class=\"node-body\" width=\"1\" height=\"1.6697987970882195\" style=\"fill: none;\"/><text class=\"node-value\" dy=\".35em\" text-anchor=\"middle\" transform=\"translate(0.5,0.8348993985441098) rotate(-90)\" style=\"display: none;\"/><text class=\"node-title\" dy=\".35em\" text-anchor=\"end\" transform=\"translate(-4,0.8348993985441098)\" style=\"display: inline;\">Mexico</text><rect class=\"node-click-target\" x=\"-5\" y=\"-5\" width=\"10\" height=\"6.6697987970882195\" style=\"fill: none; visibility: hidden; pointer-events: all;\"/></g><g class=\"node\" transform=\"translate(0,421.88217637037275)\"><title>Mozambique</title><line x1=\"0\" x2=\"0\" y1=\"0\" y2=\"4.515033642538526\" style=\"display: inline; stroke: rgb(0, 0, 0);\"/><rect class=\"node-body\" width=\"1\" height=\"4.515033642538526\" style=\"fill: none;\"/><text class=\"node-value\" dy=\".35em\" text-anchor=\"middle\" transform=\"translate(0.5,2.257516821269263) rotate(-90)\" style=\"display: none;\"/><text class=\"node-title\" dy=\".35em\" text-anchor=\"end\" transform=\"translate(-4,2.257516821269263)\" style=\"display: inline;\">Mozambique</text><rect class=\"node-click-target\" x=\"-5\" y=\"-5\" width=\"10\" height=\"9.515033642538526\" style=\"fill: none; visibility: hidden; pointer-events: all;\"/></g><g class=\"node\" transform=\"translate(0,432.17430264890237)\"><title>New Caledonia</title><line x1=\"0\" x2=\"0\" y1=\"0\" y2=\"3.4834612764722124\" style=\"display: inline; stroke: rgb(0, 0, 0);\"/><rect class=\"node-body\" width=\"1\" height=\"3.4834612764722124\" style=\"fill: none;\"/><text class=\"node-value\" dy=\".35em\" text-anchor=\"middle\" transform=\"translate(0.5,1.7417306382361062) rotate(-90)\" style=\"display: none;\"/><text class=\"node-title\" dy=\".35em\" text-anchor=\"end\" transform=\"translate(-4,1.7417306382361062)\" style=\"display: inline;\">New Caledonia</text><rect class=\"node-click-target\" x=\"-5\" y=\"-5\" width=\"10\" height=\"8.483461276472212\" style=\"fill: none; visibility: hidden; pointer-events: all;\"/></g><g class=\"node\" transform=\"translate(0,441.4348565613657)\"><title>Papua New Guinea</title><line x1=\"0\" x2=\"0\" y1=\"0\" y2=\"1.0634891077118027\" style=\"display: inline; stroke: rgb(0, 0, 0);\"/><rect class=\"node-body\" width=\"1\" height=\"1.0634891077118027\" style=\"fill: none;\"/><text class=\"node-value\" dy=\".35em\" text-anchor=\"middle\" transform=\"translate(0.5,0.5317445538559014) rotate(-90)\" style=\"display: none;\"/><text class=\"node-title\" dy=\".35em\" text-anchor=\"end\" transform=\"translate(-4,0.5317445538559014)\" style=\"display: inline;\">Papua New Guinea</text><rect class=\"node-click-target\" x=\"-5\" y=\"-5\" width=\"10\" height=\"6.063489107711803\" style=\"fill: none; visibility: hidden; pointer-events: all;\"/></g><g class=\"node\" transform=\"translate(0,448.2754383050686)\"><title>Peru</title><line x1=\"0\" x2=\"0\" y1=\"0\" y2=\"5.334894828440326\" style=\"display: inline; stroke: rgb(0, 0, 0);\"/><rect class=\"node-body\" width=\"1\" height=\"5.334894828440326\" style=\"fill: none;\"/><text class=\"node-value\" dy=\".35em\" text-anchor=\"middle\" transform=\"translate(0.5,2.667447414220163) rotate(-90)\" style=\"display: none;\"/><text class=\"node-title\" dy=\".35em\" text-anchor=\"end\" transform=\"translate(-4,2.667447414220163)\" style=\"display: inline;\">Peru</text><rect class=\"node-click-target\" x=\"-5\" y=\"-5\" width=\"10\" height=\"10.334894828440326\" style=\"fill: none; visibility: hidden; pointer-events: all;\"/></g><g class=\"node\" transform=\"translate(0,459.3874257695)\"><title>Philippines</title><line x1=\"0\" x2=\"0\" y1=\"0\" y2=\"7.8192125704759405\" style=\"display: inline; stroke: rgb(0, 0, 0);\"/><rect class=\"node-body\" width=\"1\" height=\"7.8192125704759405\" style=\"fill: none;\"/><text class=\"node-value\" dy=\".35em\" text-anchor=\"middle\" transform=\"translate(0.5,3.9096062852379703) rotate(-90)\" style=\"display: none;\"/><text class=\"node-title\" dy=\".35em\" text-anchor=\"end\" transform=\"translate(-4,3.9096062852379703)\" style=\"display: inline;\">Philippines</text><rect class=\"node-click-target\" x=\"-5\" y=\"-5\" width=\"10\" height=\"12.81921257047594\" style=\"fill: none; visibility: hidden; pointer-events: all;\"/></g><g class=\"node\" transform=\"translate(0,472.98373097596703)\"><title>Poland</title><line x1=\"0\" x2=\"0\" y1=\"0\" y2=\"1\" style=\"display: inline; stroke: rgb(0, 0, 0);\"/><rect class=\"node-body\" width=\"1\" height=\"1\" style=\"fill: none;\"/><text class=\"node-value\" dy=\".35em\" text-anchor=\"middle\" transform=\"translate(0.5,0.4877675292870549) rotate(0)\" style=\"display: none;\"/><text class=\"node-title\" dy=\".35em\" text-anchor=\"end\" transform=\"translate(-4,0.4877675292870549)\" style=\"display: inline;\">Poland</text><rect class=\"node-click-target\" x=\"-5\" y=\"-5\" width=\"10\" height=\"6\" style=\"fill: none; visibility: hidden; pointer-events: all;\"/></g><g class=\"node\" transform=\"translate(0,479.73635867053224)\"><title>Russia</title><line x1=\"0\" x2=\"0\" y1=\"0\" y2=\"7.53121512210646\" style=\"display: inline; stroke: rgb(0, 0, 0);\"/><rect class=\"node-body\" width=\"1\" height=\"7.53121512210646\" style=\"fill: none;\"/><text class=\"node-value\" dy=\".35em\" text-anchor=\"middle\" transform=\"translate(0.5,3.76560756105323) rotate(-90)\" style=\"display: none;\"/><text class=\"node-title\" dy=\".35em\" text-anchor=\"end\" transform=\"translate(-4,3.76560756105323)\" style=\"display: inline;\">Russia</text><rect class=\"node-click-target\" x=\"-5\" y=\"-5\" width=\"10\" height=\"12.53121512210646\" style=\"fill: none; visibility: hidden; pointer-events: all;\"/></g><g class=\"node\" transform=\"translate(0,493.0446664286298)\"><title>South Africa</title><line x1=\"0\" x2=\"0\" y1=\"0\" y2=\"13.50293501873307\" style=\"display: inline; stroke: rgb(0, 0, 0);\"/><rect class=\"node-body\" width=\"1\" height=\"13.50293501873307\" style=\"fill: none;\"/><text class=\"node-value\" dy=\".35em\" text-anchor=\"middle\" transform=\"translate(0.5,6.751467509366535) rotate(-90)\" style=\"display: none;\"/><text class=\"node-title\" dy=\".35em\" text-anchor=\"end\" transform=\"translate(-4,6.751467509366535)\" style=\"display: inline;\">South Africa</text><rect class=\"node-click-target\" x=\"-5\" y=\"-5\" width=\"10\" height=\"18.50293501873307\" style=\"fill: none; visibility: hidden; pointer-events: all;\"/></g><g class=\"node\" transform=\"translate(0,512.324694083354)\"><title>USA</title><line x1=\"0\" x2=\"0\" y1=\"0\" y2=\"2.7375816618401814\" style=\"display: inline; stroke: rgb(0, 0, 0);\"/><rect class=\"node-body\" width=\"1\" height=\"2.7375816618401814\" style=\"fill: none;\"/><text class=\"node-value\" dy=\".35em\" text-anchor=\"middle\" transform=\"translate(0.5,1.3687908309200907) rotate(-90)\" style=\"display: none;\"/><text class=\"node-title\" dy=\".35em\" text-anchor=\"end\" transform=\"translate(-4,1.3687908309200907)\" style=\"display: inline;\">USA</text><rect class=\"node-click-target\" x=\"-5\" y=\"-5\" width=\"10\" height=\"7.737581661840181\" style=\"fill: none; visibility: hidden; pointer-events: all;\"/></g><g class=\"node\" transform=\"translate(0,520.8393683811853)\"><title>Ukraine</title><line x1=\"0\" x2=\"0\" y1=\"0\" y2=\"1.4720297710142631\" style=\"display: inline; stroke: rgb(0, 0, 0);\"/><rect class=\"node-body\" width=\"1\" height=\"1.4720297710142631\" style=\"fill: none;\"/><text class=\"node-value\" dy=\".35em\" text-anchor=\"middle\" transform=\"translate(0.5,0.7360148855071316) rotate(-90)\" style=\"display: none;\"/><text class=\"node-title\" dy=\".35em\" text-anchor=\"end\" transform=\"translate(-4,0.7360148855071316)\" style=\"display: inline;\">Ukraine</text><rect class=\"node-click-target\" x=\"-5\" y=\"-5\" width=\"10\" height=\"6.472029771014263\" style=\"fill: none; visibility: hidden; pointer-events: all;\"/></g><g class=\"node\" transform=\"translate(0,528.0884907881906)\"><title>Zambia</title><line x1=\"0\" x2=\"0\" y1=\"0\" y2=\"1.7327544631770024\" style=\"display: inline; stroke: rgb(0, 0, 0);\"/><rect class=\"node-body\" width=\"1\" height=\"1.7327544631770024\" style=\"fill: none;\"/><text class=\"node-value\" dy=\".35em\" text-anchor=\"middle\" transform=\"translate(0.5,0.8663772315885012) rotate(-90)\" style=\"display: none;\"/><text class=\"node-title\" dy=\".35em\" text-anchor=\"end\" transform=\"translate(-4,0.8663772315885012)\" style=\"display: inline;\">Zambia</text><rect class=\"node-click-target\" x=\"-5\" y=\"-5\" width=\"10\" height=\"6.732754463177002\" style=\"fill: none; visibility: hidden; pointer-events: all;\"/></g><g class=\"node\" transform=\"translate(123.16666666666667,58.869027250151966)\"><title>Aluminium mining</title><line x1=\"0\" x2=\"0\" y1=\"-5\" y2=\"41.07725872149047\" style=\"display: inline; stroke: rgb(0, 0, 0);\"/><rect class=\"node-body\" width=\"1\" height=\"41.07725872149047\" style=\"fill: none;\"/><text class=\"node-value\" dy=\".35em\" text-anchor=\"middle\" transform=\"translate(0.5,20.538629360745237) rotate(-90)\" style=\"display: none;\"/><text class=\"node-title\" dy=\".35em\" text-anchor=\"start\" transform=\"translate(-4,-10)\" style=\"display: inline;\">Aluminium mining</text><rect class=\"node-click-target\" x=\"-5\" y=\"-5\" width=\"10\" height=\"46.07725872149047\" style=\"fill: none; visibility: hidden; pointer-events: all;\"/></g><g class=\"node\" transform=\"translate(123.16666666666667,130.75744669692824)\"><title>Graphite production</title><line x1=\"0\" x2=\"0\" y1=\"-5\" y2=\"41.107900966000386\" style=\"display: inline; stroke: rgb(0, 0, 0);\"/><rect class=\"node-body\" width=\"1\" height=\"41.107900966000386\" style=\"fill: none;\"/><text class=\"node-value\" dy=\".35em\" text-anchor=\"middle\" transform=\"translate(0.5,20.553950483000193) rotate(-90)\" style=\"display: none;\"/><text class=\"node-title\" dy=\".35em\" text-anchor=\"start\" transform=\"translate(-4,-10)\" style=\"display: inline;\">Graphite production</text><rect class=\"node-click-target\" x=\"-5\" y=\"-5\" width=\"10\" height=\"46.107900966000386\" style=\"fill: none; visibility: hidden; pointer-events: all;\"/></g><g class=\"node\" transform=\"translate(123.16666666666667,202.67650838821444)\"><title>Copper mining</title><line x1=\"0\" x2=\"0\" y1=\"-5\" y2=\"38.10544627431673\" style=\"display: inline; stroke: rgb(0, 0, 0);\"/><rect class=\"node-body\" width=\"1\" height=\"38.10544627431673\" style=\"fill: none;\"/><text class=\"node-value\" dy=\".35em\" text-anchor=\"middle\" transform=\"translate(0.5,19.052723137158367) rotate(-90)\" style=\"display: none;\"/><text class=\"node-title\" dy=\".35em\" text-anchor=\"start\" transform=\"translate(-4,-10)\" style=\"display: inline;\">Copper mining</text><rect class=\"node-click-target\" x=\"-5\" y=\"-5\" width=\"10\" height=\"43.10544627431673\" style=\"fill: none; visibility: hidden; pointer-events: all;\"/></g><g class=\"node\" transform=\"translate(123.16666666666667,271.59311538781697)\"><title>Cobalt mining</title><line x1=\"0\" x2=\"0\" y1=\"-5\" y2=\"40.87373532063327\" style=\"display: inline; stroke: rgb(0, 0, 0);\"/><rect class=\"node-body\" width=\"1\" height=\"40.87373532063327\" style=\"fill: none;\"/><text class=\"node-value\" dy=\".35em\" text-anchor=\"middle\" transform=\"translate(0.5,20.436867660316636) rotate(-90)\" style=\"display: none;\"/><text class=\"node-title\" dy=\".35em\" text-anchor=\"start\" transform=\"translate(-4,-10)\" style=\"display: inline;\">Cobalt mining</text><rect class=\"node-click-target\" x=\"-5\" y=\"-5\" width=\"10\" height=\"45.87373532063327\" style=\"fill: none; visibility: hidden; pointer-events: all;\"/></g><g class=\"node\" transform=\"translate(123.16666666666667,343.278011433736)\"><title>Lithium mining</title><line x1=\"0\" x2=\"0\" y1=\"-5\" y2=\"43.724051308083006\" style=\"display: inline; stroke: rgb(0, 0, 0);\"/><rect class=\"node-body\" width=\"1\" height=\"43.724051308083006\" style=\"fill: none;\"/><text class=\"node-value\" dy=\".35em\" text-anchor=\"middle\" transform=\"translate(0.5,21.862025654041503) rotate(-90)\" style=\"display: none;\"/><text class=\"node-title\" dy=\".35em\" text-anchor=\"start\" transform=\"translate(-4,-10)\" style=\"display: inline;\">Lithium mining</text><rect class=\"node-click-target\" x=\"-5\" y=\"-5\" width=\"10\" height=\"48.724051308083006\" style=\"fill: none; visibility: hidden; pointer-events: all;\"/></g><g class=\"node\" transform=\"translate(123.16666666666667,417.8132234671049)\"><title>Manganese mining</title><line x1=\"0\" x2=\"0\" y1=\"-5\" y2=\"42.1296604229081\" style=\"display: inline; stroke: rgb(0, 0, 0);\"/><rect class=\"node-body\" width=\"1\" height=\"42.1296604229081\" style=\"fill: none;\"/><text class=\"node-value\" dy=\".35em\" text-anchor=\"middle\" transform=\"translate(0.5,21.06483021145405) rotate(-90)\" style=\"display: none;\"/><text class=\"node-title\" dy=\".35em\" text-anchor=\"start\" transform=\"translate(-4,-10)\" style=\"display: inline;\">Manganese mining</text><rect class=\"node-click-target\" x=\"-5\" y=\"-5\" width=\"10\" height=\"47.1296604229081\" style=\"fill: none; visibility: hidden; pointer-events: all;\"/></g><g class=\"node\" transform=\"translate(123.16666666666667,490.7540446152988)\"><title>Nickel mining</title><line x1=\"0\" x2=\"0\" y1=\"-5\" y2=\"39.067200636068776\" style=\"display: inline; stroke: rgb(0, 0, 0);\"/><rect class=\"node-body\" width=\"1\" height=\"39.067200636068776\" style=\"fill: none;\"/><text class=\"node-value\" dy=\".35em\" text-anchor=\"middle\" transform=\"translate(0.5,19.533600318034388) rotate(-90)\" style=\"display: none;\"/><text class=\"node-title\" dy=\".35em\" text-anchor=\"start\" transform=\"translate(-4,-10)\" style=\"display: inline;\">Nickel mining</text><rect class=\"node-click-target\" x=\"-5\" y=\"-5\" width=\"10\" height=\"44.067200636068776\" style=\"fill: none; visibility: hidden; pointer-events: all;\"/></g><g class=\"node\" transform=\"translate(246.33333333333334,58.869027250151966)\"><title/><line x1=\"0\" x2=\"0\" y1=\"-5\" y2=\"41.07725872149047\" style=\"display: none; stroke: rgb(0, 0, 0);\"/><rect class=\"node-body\" width=\"1\" height=\"41.07725872149047\" style=\"fill: none;\"/><text class=\"node-value\" dy=\".35em\" text-anchor=\"middle\" transform=\"translate(0.5,20.538629360745237) rotate(-90)\" style=\"display: none;\"/><text class=\"node-title\" dy=\".35em\" text-anchor=\"start\" transform=\"translate(-4,-10)\" style=\"display: none;\"/><rect class=\"node-click-target\" x=\"-5\" y=\"-5\" width=\"10\" height=\"46.07725872149047\" style=\"fill: none; visibility: hidden; pointer-events: all;\"/></g><g class=\"node\" transform=\"translate(246.33333333333334,130.75744669692824)\"><title/><line x1=\"0\" x2=\"0\" y1=\"-5\" y2=\"41.107900966000386\" style=\"display: none; stroke: rgb(0, 0, 0);\"/><rect class=\"node-body\" width=\"1\" height=\"41.107900966000386\" style=\"fill: none;\"/><text class=\"node-value\" dy=\".35em\" text-anchor=\"middle\" transform=\"translate(0.5,20.553950483000193) rotate(-90)\" style=\"display: none;\"/><text class=\"node-title\" dy=\".35em\" text-anchor=\"start\" transform=\"translate(-4,-10)\" style=\"display: none;\"/><rect class=\"node-click-target\" x=\"-5\" y=\"-5\" width=\"10\" height=\"46.107900966000386\" style=\"fill: none; visibility: hidden; pointer-events: all;\"/></g><g class=\"node\" transform=\"translate(246.33333333333334,202.67650838821444)\"><title>Copper_smelting</title><line x1=\"0\" x2=\"0\" y1=\"-5\" y2=\"38.10544627431673\" style=\"display: inline; stroke: rgb(0, 0, 0);\"/><rect class=\"node-body\" width=\"1\" height=\"38.10544627431673\" style=\"fill: none;\"/><text class=\"node-value\" dy=\".35em\" text-anchor=\"middle\" transform=\"translate(0.5,19.052723137158367) rotate(-90)\" style=\"display: none;\"/><text class=\"node-title\" dy=\".35em\" text-anchor=\"start\" transform=\"translate(-4,-10)\" style=\"display: inline;\">Copper_smelting</text><rect class=\"node-click-target\" x=\"-5\" y=\"-5\" width=\"10\" height=\"43.10544627431673\" style=\"fill: none; visibility: hidden; pointer-events: all;\"/></g><g class=\"node\" transform=\"translate(246.33333333333334,271.59311538781697)\"><title/><line x1=\"0\" x2=\"0\" y1=\"-5\" y2=\"40.87373532063327\" style=\"display: none; stroke: rgb(0, 0, 0);\"/><rect class=\"node-body\" width=\"1\" height=\"40.87373532063327\" style=\"fill: none;\"/><text class=\"node-value\" dy=\".35em\" text-anchor=\"middle\" transform=\"translate(0.5,20.436867660316636) rotate(-90)\" style=\"display: none;\"/><text class=\"node-title\" dy=\".35em\" text-anchor=\"start\" transform=\"translate(-4,-10)\" style=\"display: none;\"/><rect class=\"node-click-target\" x=\"-5\" y=\"-5\" width=\"10\" height=\"45.87373532063327\" style=\"fill: none; visibility: hidden; pointer-events: all;\"/></g><g class=\"node\" transform=\"translate(246.33333333333334,343.278011433736)\"><title/><line x1=\"0\" x2=\"0\" y1=\"-5\" y2=\"43.724051308083006\" style=\"display: none; stroke: rgb(0, 0, 0);\"/><rect class=\"node-body\" width=\"1\" height=\"43.724051308083006\" style=\"fill: none;\"/><text class=\"node-value\" dy=\".35em\" text-anchor=\"middle\" transform=\"translate(0.5,21.862025654041503) rotate(-90)\" style=\"display: none;\"/><text class=\"node-title\" dy=\".35em\" text-anchor=\"start\" transform=\"translate(-4,-10)\" style=\"display: none;\"/><rect class=\"node-click-target\" x=\"-5\" y=\"-5\" width=\"10\" height=\"48.724051308083006\" style=\"fill: none; visibility: hidden; pointer-events: all;\"/></g><g class=\"node\" transform=\"translate(246.33333333333334,417.8132234671049)\"><title/><line x1=\"0\" x2=\"0\" y1=\"-5\" y2=\"42.1296604229081\" style=\"display: none; stroke: rgb(0, 0, 0);\"/><rect class=\"node-body\" width=\"1\" height=\"42.1296604229081\" style=\"fill: none;\"/><text class=\"node-value\" dy=\".35em\" text-anchor=\"middle\" transform=\"translate(0.5,21.06483021145405) rotate(-90)\" style=\"display: none;\"/><text class=\"node-title\" dy=\".35em\" text-anchor=\"start\" transform=\"translate(-4,-10)\" style=\"display: none;\"/><rect class=\"node-click-target\" x=\"-5\" y=\"-5\" width=\"10\" height=\"47.1296604229081\" style=\"fill: none; visibility: hidden; pointer-events: all;\"/></g><g class=\"node\" transform=\"translate(246.33333333333334,490.7540446152988)\"><title/><line x1=\"0\" x2=\"0\" y1=\"-5\" y2=\"39.067200636068776\" style=\"display: none; stroke: rgb(0, 0, 0);\"/><rect class=\"node-body\" width=\"1\" height=\"39.067200636068776\" style=\"fill: none;\"/><text class=\"node-value\" dy=\".35em\" text-anchor=\"middle\" transform=\"translate(0.5,19.533600318034388) rotate(-90)\" style=\"display: none;\"/><text class=\"node-title\" dy=\".35em\" text-anchor=\"start\" transform=\"translate(-4,-10)\" style=\"display: none;\"/><rect class=\"node-click-target\" x=\"-5\" y=\"-5\" width=\"10\" height=\"44.067200636068776\" style=\"fill: none; visibility: hidden; pointer-events: all;\"/></g><g class=\"node\" transform=\"translate(369.5,58.869027250151966)\"><title>Aluminium refining</title><line x1=\"0\" x2=\"0\" y1=\"-5\" y2=\"41.07725872149047\" style=\"display: inline; stroke: rgb(0, 0, 0);\"/><rect class=\"node-body\" width=\"1\" height=\"41.07725872149047\" style=\"fill: none;\"/><text class=\"node-value\" dy=\".35em\" text-anchor=\"middle\" transform=\"translate(0.5,20.538629360745237) rotate(-90)\" style=\"display: none;\"/><text class=\"node-title\" dy=\".35em\" text-anchor=\"start\" transform=\"translate(-4,-10)\" style=\"display: inline;\">Aluminium refining</text><rect class=\"node-click-target\" x=\"-5\" y=\"-5\" width=\"10\" height=\"46.07725872149047\" style=\"fill: none; visibility: hidden; pointer-events: all;\"/></g><g class=\"node\" transform=\"translate(369.5,130.7972465350474)\"><title/><line x1=\"0\" x2=\"0\" y1=\"-5\" y2=\"41.107900966000386\" style=\"display: none; stroke: rgb(0, 0, 0);\"/><rect class=\"node-body\" width=\"1\" height=\"41.107900966000386\" style=\"fill: none;\"/><text class=\"node-value\" dy=\".35em\" text-anchor=\"middle\" transform=\"translate(0.5,20.553950483000193) rotate(-90)\" style=\"display: none;\"/><text class=\"node-title\" dy=\".35em\" text-anchor=\"start\" transform=\"translate(-4,-10)\" style=\"display: none;\"/><rect class=\"node-click-target\" x=\"-5\" y=\"-5\" width=\"10\" height=\"46.107900966000386\" style=\"fill: none; visibility: hidden; pointer-events: all;\"/></g><g class=\"node\" transform=\"translate(369.5,202.75610806445275)\"><title>Copper_refining</title><line x1=\"0\" x2=\"0\" y1=\"-5\" y2=\"35.57611533300542\" style=\"display: inline; stroke: rgb(0, 0, 0);\"/><rect class=\"node-body\" width=\"1\" height=\"35.57611533300542\" style=\"fill: none;\"/><text class=\"node-value\" dy=\".35em\" text-anchor=\"middle\" transform=\"translate(0.5,17.78805766650271) rotate(-90)\" style=\"display: none;\"/><text class=\"node-title\" dy=\".35em\" text-anchor=\"start\" transform=\"translate(-4,-10)\" style=\"display: inline;\">Copper_refining</text><rect class=\"node-click-target\" x=\"-5\" y=\"-5\" width=\"10\" height=\"40.57611533300542\" style=\"fill: none; visibility: hidden; pointer-events: all;\"/></g><g class=\"node\" transform=\"translate(369.5,269.1831839608631)\"><title>Cobalt refining</title><line x1=\"0\" x2=\"0\" y1=\"-5\" y2=\"42.30086909938717\" style=\"display: inline; stroke: rgb(0, 0, 0);\"/><rect class=\"node-body\" width=\"1\" height=\"42.30086909938717\" style=\"fill: none;\"/><text class=\"node-value\" dy=\".35em\" text-anchor=\"middle\" transform=\"translate(0.5,21.150434549693585) rotate(-90)\" style=\"display: none;\"/><text class=\"node-title\" dy=\".35em\" text-anchor=\"start\" transform=\"translate(-4,-10)\" style=\"display: inline;\">Cobalt refining</text><rect class=\"node-click-target\" x=\"-5\" y=\"-5\" width=\"10\" height=\"47.30086909938717\" style=\"fill: none; visibility: hidden; pointer-events: all;\"/></g><g class=\"node\" transform=\"translate(369.5,342.33501362365524)\"><title>Lithium refining</title><line x1=\"0\" x2=\"0\" y1=\"-5\" y2=\"44.355796806613796\" style=\"display: inline; stroke: rgb(0, 0, 0);\"/><rect class=\"node-body\" width=\"1\" height=\"44.355796806613796\" style=\"fill: none;\"/><text class=\"node-value\" dy=\".35em\" text-anchor=\"middle\" transform=\"translate(0.5,22.177898403306898) rotate(-90)\" style=\"display: none;\"/><text class=\"node-title\" dy=\".35em\" text-anchor=\"start\" transform=\"translate(-4,-10)\" style=\"display: inline;\">Lithium refining</text><rect class=\"node-click-target\" x=\"-5\" y=\"-5\" width=\"10\" height=\"49.355796806613796\" style=\"fill: none; visibility: hidden; pointer-events: all;\"/></g><g class=\"node\" transform=\"translate(369.5,417.541770993674)\"><title>Manganese refining</title><line x1=\"0\" x2=\"0\" y1=\"-5\" y2=\"42.1296604229081\" style=\"display: inline; stroke: rgb(0, 0, 0);\"/><rect class=\"node-body\" width=\"1\" height=\"42.1296604229081\" style=\"fill: none;\"/><text class=\"node-value\" dy=\".35em\" text-anchor=\"middle\" transform=\"translate(0.5,21.06483021145405) rotate(-90)\" style=\"display: none;\"/><text class=\"node-title\" dy=\".35em\" text-anchor=\"start\" transform=\"translate(-4,-10)\" style=\"display: inline;\">Manganese refining</text><rect class=\"node-click-target\" x=\"-5\" y=\"-5\" width=\"10\" height=\"47.1296604229081\" style=\"fill: none; visibility: hidden; pointer-events: all;\"/></g><g class=\"node\" transform=\"translate(369.5,490.5223919799871)\"><title>Nickel refining</title><line x1=\"0\" x2=\"0\" y1=\"-5\" y2=\"39.29885327138061\" style=\"display: inline; stroke: rgb(0, 0, 0);\"/><rect class=\"node-body\" width=\"1\" height=\"39.29885327138061\" style=\"fill: none;\"/><text class=\"node-value\" dy=\".35em\" text-anchor=\"middle\" transform=\"translate(0.5,19.649426635690304) rotate(-90)\" style=\"display: none;\"/><text class=\"node-title\" dy=\".35em\" text-anchor=\"start\" transform=\"translate(-4,-10)\" style=\"display: inline;\">Nickel refining</text><rect class=\"node-click-target\" x=\"-5\" y=\"-5\" width=\"10\" height=\"44.29885327138061\" style=\"fill: none; visibility: hidden; pointer-events: all;\"/></g><g class=\"node\" transform=\"translate(492.6666666666667,58.869027250151966)\"><title>Aluminium primary</title><line x1=\"0\" x2=\"0\" y1=\"-5\" y2=\"37.794279573154704\" style=\"display: inline; stroke: rgb(0, 0, 0);\"/><rect class=\"node-body\" width=\"1\" height=\"37.794279573154704\" style=\"fill: none;\"/><text class=\"node-value\" dy=\".35em\" text-anchor=\"middle\" transform=\"translate(0.5,18.897139786577352) rotate(-90)\" style=\"display: none;\"/><text class=\"node-title\" dy=\".35em\" text-anchor=\"start\" transform=\"translate(-4,-10)\" style=\"display: inline;\">Aluminium primary</text><rect class=\"node-click-target\" x=\"-5\" y=\"-5\" width=\"10\" height=\"42.794279573154704\" style=\"fill: none; visibility: hidden; pointer-events: all;\"/></g><g class=\"node\" transform=\"translate(492.6666666666667,127.86196930554817)\"><title/><line x1=\"0\" x2=\"0\" y1=\"-5\" y2=\"41.107900966000386\" style=\"display: none; stroke: rgb(0, 0, 0);\"/><rect class=\"node-body\" width=\"1\" height=\"41.107900966000386\" style=\"fill: none;\"/><text class=\"node-value\" dy=\".35em\" text-anchor=\"middle\" transform=\"translate(0.5,20.553950483000193) rotate(-90)\" style=\"display: none;\"/><text class=\"node-title\" dy=\".35em\" text-anchor=\"start\" transform=\"translate(-4,-10)\" style=\"display: none;\"/><rect class=\"node-click-target\" x=\"-5\" y=\"-5\" width=\"10\" height=\"46.107900966000386\" style=\"fill: none; visibility: hidden; pointer-events: all;\"/></g><g class=\"node\" transform=\"translate(492.6666666666667,200.1685327537901)\"><title/><line x1=\"0\" x2=\"0\" y1=\"-5\" y2=\"35.57611533300542\" style=\"display: none; stroke: rgb(0, 0, 0);\"/><rect class=\"node-body\" width=\"1\" height=\"35.57611533300542\" style=\"fill: none;\"/><text class=\"node-value\" dy=\".35em\" text-anchor=\"middle\" transform=\"translate(0.5,17.78805766650271) rotate(-90)\" style=\"display: none;\"/><text class=\"node-title\" dy=\".35em\" text-anchor=\"start\" transform=\"translate(-4,-10)\" style=\"display: none;\"/><rect class=\"node-click-target\" x=\"-5\" y=\"-5\" width=\"10\" height=\"40.57611533300542\" style=\"fill: none; visibility: hidden; pointer-events: all;\"/></g><g class=\"node\" transform=\"translate(492.6666666666667,266.943310569037)\"><title>Cobalt</title><line x1=\"0\" x2=\"0\" y1=\"-5\" y2=\"42.30086909938717\" style=\"display: inline; stroke: rgb(0, 0, 0);\"/><rect class=\"node-body\" width=\"1\" height=\"42.30086909938717\" style=\"fill: none;\"/><text class=\"node-value\" dy=\".35em\" text-anchor=\"middle\" transform=\"translate(0.5,21.150434549693585) rotate(-90)\" style=\"display: none;\"/><text class=\"node-title\" dy=\".35em\" text-anchor=\"start\" transform=\"translate(-4,-10)\" style=\"display: inline;\">Cobalt</text><rect class=\"node-click-target\" x=\"-5\" y=\"-5\" width=\"10\" height=\"47.30086909938717\" style=\"fill: none; visibility: hidden; pointer-events: all;\"/></g><g class=\"node\" transform=\"translate(492.6666666666667,340.4428421506657)\"><title>Lithium</title><line x1=\"0\" x2=\"0\" y1=\"-5\" y2=\"44.355796806613796\" style=\"display: inline; stroke: rgb(0, 0, 0);\"/><rect class=\"node-body\" width=\"1\" height=\"44.355796806613796\" style=\"fill: none;\"/><text class=\"node-value\" dy=\".35em\" text-anchor=\"middle\" transform=\"translate(0.5,22.177898403306898) rotate(-90)\" style=\"display: none;\"/><text class=\"node-title\" dy=\".35em\" text-anchor=\"start\" transform=\"translate(-4,-10)\" style=\"display: inline;\">Lithium</text><rect class=\"node-click-target\" x=\"-5\" y=\"-5\" width=\"10\" height=\"49.355796806613796\" style=\"fill: none; visibility: hidden; pointer-events: all;\"/></g><g class=\"node\" transform=\"translate(492.6666666666667,415.997301439521)\"><title>Manganese</title><line x1=\"0\" x2=\"0\" y1=\"-5\" y2=\"37.29004901800175\" style=\"display: inline; stroke: rgb(0, 0, 0);\"/><rect class=\"node-body\" width=\"1\" height=\"37.29004901800175\" style=\"fill: none;\"/><text class=\"node-value\" dy=\".35em\" text-anchor=\"middle\" transform=\"translate(0.5,18.645024509000876) rotate(-90)\" style=\"display: none;\"/><text class=\"node-title\" dy=\".35em\" text-anchor=\"start\" transform=\"translate(-4,-10)\" style=\"display: inline;\">Manganese</text><rect class=\"node-click-target\" x=\"-5\" y=\"-5\" width=\"10\" height=\"42.29004901800175\" style=\"fill: none; visibility: hidden; pointer-events: all;\"/></g><g class=\"node\" transform=\"translate(492.6666666666667,484.48601293976424)\"><title>Nickel</title><line x1=\"0\" x2=\"0\" y1=\"-5\" y2=\"45.33523231160336\" style=\"display: inline; stroke: rgb(0, 0, 0);\"/><rect class=\"node-body\" width=\"1\" height=\"45.33523231160336\" style=\"fill: none;\"/><text class=\"node-value\" dy=\".35em\" text-anchor=\"middle\" transform=\"translate(0.5,22.66761615580168) rotate(-90)\" style=\"display: none;\"/><text class=\"node-title\" dy=\".35em\" text-anchor=\"start\" transform=\"translate(-4,-10)\" style=\"display: inline;\">Nickel</text><rect class=\"node-click-target\" x=\"-5\" y=\"-5\" width=\"10\" height=\"50.33523231160336\" style=\"fill: none; visibility: hidden; pointer-events: all;\"/></g><g class=\"node\" transform=\"translate(492.6666666666667,606.3212452513677)\"><title>Sodium Hydroxide</title><line x1=\"0\" x2=\"0\" y1=\"0\" y2=\"39.96161734373061\" style=\"display: inline; stroke: rgb(0, 0, 0);\"/><rect class=\"node-body\" width=\"1\" height=\"39.96161734373061\" style=\"fill: none;\"/><text class=\"node-value\" dy=\".35em\" text-anchor=\"middle\" transform=\"translate(0.5,19.980808671865304) rotate(-90)\" style=\"display: none;\"/><text class=\"node-title\" dy=\".35em\" text-anchor=\"end\" transform=\"translate(-4,19.980808671865304)\" style=\"display: inline;\">Sodium Hydroxide</text><rect class=\"node-click-target\" x=\"-5\" y=\"-5\" width=\"10\" height=\"44.96161734373061\" style=\"fill: none; visibility: hidden; pointer-events: all;\"/></g><g class=\"node\" transform=\"translate(492.6666666666667,672.7293217198703)\"><title>Ammonium Hydroxide</title><line x1=\"0\" x2=\"0\" y1=\"0\" y2=\"5.549449480448288\" style=\"display: inline; stroke: rgb(0, 0, 0);\"/><rect class=\"node-body\" width=\"1\" height=\"5.549449480448288\" style=\"fill: none;\"/><text class=\"node-value\" dy=\".35em\" text-anchor=\"middle\" transform=\"translate(0.5,2.774724740224144) rotate(-90)\" style=\"display: none;\"/><text class=\"node-title\" dy=\".35em\" text-anchor=\"end\" transform=\"translate(-4,2.774724740224144)\" style=\"display: inline;\">Ammonium Hydroxide</text><rect class=\"node-click-target\" x=\"-5\" y=\"-5\" width=\"10\" height=\"10.549449480448288\" style=\"fill: none; visibility: hidden; pointer-events: all;\"/></g><g class=\"node\" transform=\"translate(492.6666666666667,704.7252303250906)\"><title>Precursor Co-precipitation</title><line x1=\"0\" x2=\"0\" y1=\"0\" y2=\"42.643796925061224\" style=\"display: inline; stroke: rgb(0, 0, 0);\"/><rect class=\"node-body\" width=\"1\" height=\"42.643796925061224\" style=\"fill: none;\"/><text class=\"node-value\" dy=\".35em\" text-anchor=\"middle\" transform=\"translate(0.5,21.321898462530612) rotate(-90)\" style=\"display: none;\"/><text class=\"node-title\" dy=\".35em\" text-anchor=\"end\" transform=\"translate(-4,21.321898462530612)\" style=\"display: inline;\">Precursor Co-precipitation</text><rect class=\"node-click-target\" x=\"-5\" y=\"-5\" width=\"10\" height=\"47.643796925061224\" style=\"fill: none; visibility: hidden; pointer-events: all;\"/></g><g class=\"node\" transform=\"translate(615.8333333333334,58.869027250151966)\"><title>Aluminium</title><line x1=\"0\" x2=\"0\" y1=\"-5\" y2=\"37.16705627078762\" style=\"display: inline; stroke: rgb(0, 0, 0);\"/><rect class=\"node-body\" width=\"1\" height=\"37.16705627078762\" style=\"fill: none;\"/><text class=\"node-value\" dy=\".35em\" text-anchor=\"middle\" transform=\"translate(0.5,18.58352813539381) rotate(-90)\" style=\"display: none;\"/><text class=\"node-title\" dy=\".35em\" text-anchor=\"start\" transform=\"translate(-4,-10)\" style=\"display: inline;\">Aluminium</text><rect class=\"node-click-target\" x=\"-5\" y=\"-5\" width=\"10\" height=\"42.16705627078762\" style=\"fill: none; visibility: hidden; pointer-events: all;\"/></g><g class=\"node\" transform=\"translate(615.8333333333334,154.90511077109156)\"><title>Graphite/Carbon</title><line x1=\"0\" x2=\"0\" y1=\"-5\" y2=\"41.107900966000386\" style=\"display: inline; stroke: rgb(0, 0, 0);\"/><rect class=\"node-body\" width=\"1\" height=\"41.107900966000386\" style=\"fill: none;\"/><text class=\"node-value\" dy=\".35em\" text-anchor=\"middle\" transform=\"translate(0.5,20.553950483000193) rotate(-90)\" style=\"display: none;\"/><text class=\"node-title\" dy=\".35em\" text-anchor=\"start\" transform=\"translate(-4,-10)\" style=\"display: inline;\">Graphite/Carbon</text><rect class=\"node-click-target\" x=\"-5\" y=\"-5\" width=\"10\" height=\"46.107900966000386\" style=\"fill: none; visibility: hidden; pointer-events: all;\"/></g><g class=\"node\" transform=\"translate(615.8333333333334,254.8820389872439)\"><title>Copper</title><line x1=\"0\" x2=\"0\" y1=\"-5\" y2=\"35.57611533300542\" style=\"display: inline; stroke: rgb(0, 0, 0);\"/><rect class=\"node-body\" width=\"1\" height=\"35.57611533300542\" style=\"fill: none;\"/><text class=\"node-value\" dy=\".35em\" text-anchor=\"middle\" transform=\"translate(0.5,17.78805766650271) rotate(-90)\" style=\"display: none;\"/><text class=\"node-title\" dy=\".35em\" text-anchor=\"start\" transform=\"translate(-4,-10)\" style=\"display: inline;\">Copper</text><rect class=\"node-click-target\" x=\"-5\" y=\"-5\" width=\"10\" height=\"40.57611533300542\" style=\"fill: none; visibility: hidden; pointer-events: all;\"/></g><g class=\"node\" transform=\"translate(615.8333333333334,349.3271815704013)\"><title>Active material</title><line x1=\"0\" x2=\"0\" y1=\"-5\" y2=\"180.4940636809664\" style=\"display: inline; stroke: rgb(0, 0, 0);\"/><rect class=\"node-body\" width=\"1\" height=\"180.4940636809664\" style=\"fill: none;\"/><text class=\"node-value\" dy=\".35em\" text-anchor=\"middle\" transform=\"translate(0.5,90.2470318404832) rotate(-90)\" style=\"display: none;\"/><text class=\"node-title\" dy=\".35em\" text-anchor=\"start\" transform=\"translate(-4,-10)\" style=\"display: inline;\">Active material</text><rect class=\"node-click-target\" x=\"-5\" y=\"-5\" width=\"10\" height=\"185.4940636809664\" style=\"fill: none; visibility: hidden; pointer-events: all;\"/></g><g class=\"node\" transform=\"translate(615.8333333333334,606.3212452513677)\"><title>Binder</title><line x1=\"0\" x2=\"0\" y1=\"0\" y2=\"1\" style=\"display: inline; stroke: rgb(0, 0, 0);\"/><rect class=\"node-body\" width=\"1\" height=\"1\" style=\"fill: none;\"/><text class=\"node-value\" dy=\".35em\" text-anchor=\"middle\" transform=\"translate(0.5,0.26663293203898775) rotate(0)\" style=\"display: none;\"/><text class=\"node-title\" dy=\".35em\" text-anchor=\"end\" transform=\"translate(-4,0.26663293203898775)\" style=\"display: inline;\">Binder</text><rect class=\"node-click-target\" x=\"-5\" y=\"-5\" width=\"10\" height=\"6\" style=\"fill: none; visibility: hidden; pointer-events: all;\"/></g><g class=\"node\" transform=\"translate(615.8333333333334,640.2174290184294)\"><title>Electrolyte</title><line x1=\"0\" x2=\"0\" y1=\"0\" y2=\"4.040849907678535\" style=\"display: inline; stroke: rgb(0, 0, 0);\"/><rect class=\"node-body\" width=\"1\" height=\"4.040849907678535\" style=\"fill: none;\"/><text class=\"node-value\" dy=\".35em\" text-anchor=\"middle\" transform=\"translate(0.5,2.0204249538392673) rotate(-90)\" style=\"display: none;\"/><text class=\"node-title\" dy=\".35em\" text-anchor=\"end\" transform=\"translate(-4,2.0204249538392673)\" style=\"display: inline;\">Electrolyte</text><rect class=\"node-click-target\" x=\"-5\" y=\"-5\" width=\"10\" height=\"9.040849907678535\" style=\"fill: none; visibility: hidden; pointer-events: all;\"/></g><g class=\"node\" transform=\"translate(615.8333333333334,677.6211968290914)\"><title>Plastic</title><line x1=\"0\" x2=\"0\" y1=\"0\" y2=\"1\" style=\"display: inline; stroke: rgb(0, 0, 0);\"/><rect class=\"node-body\" width=\"1\" height=\"1\" style=\"fill: none;\"/><text class=\"node-value\" dy=\".35em\" text-anchor=\"middle\" transform=\"translate(0.5,0.22510087995368622) rotate(0)\" style=\"display: none;\"/><text class=\"node-title\" dy=\".35em\" text-anchor=\"end\" transform=\"translate(-4,0.22510087995368622)\" style=\"display: inline;\">Plastic</text><rect class=\"node-click-target\" x=\"-5\" y=\"-5\" width=\"10\" height=\"6\" style=\"fill: none; visibility: hidden; pointer-events: all;\"/></g><g class=\"node\" transform=\"translate(615.8333333333334,711.4343164919824)\"><title>Steel</title><line x1=\"0\" x2=\"0\" y1=\"0\" y2=\"1\" style=\"display: inline; stroke: rgb(0, 0, 0);\"/><rect class=\"node-body\" width=\"1\" height=\"1\" style=\"fill: none;\"/><text class=\"node-value\" dy=\".35em\" text-anchor=\"middle\" transform=\"translate(0.5,0.13452645212635161) rotate(0)\" style=\"display: none;\"/><text class=\"node-title\" dy=\".35em\" text-anchor=\"end\" transform=\"translate(-4,0.13452645212635161)\" style=\"display: inline;\">Steel</text><rect class=\"node-click-target\" x=\"-5\" y=\"-5\" width=\"10\" height=\"6\" style=\"fill: none; visibility: hidden; pointer-events: all;\"/></g><g class=\"node\" transform=\"translate(615.8333333333334,745.0662872992186)\"><title>Other</title><line x1=\"0\" x2=\"0\" y1=\"0\" y2=\"2.302739950933187\" style=\"display: inline; stroke: rgb(0, 0, 0);\"/><rect class=\"node-body\" width=\"1\" height=\"2.302739950933187\" style=\"fill: none;\"/><text class=\"node-value\" dy=\".35em\" text-anchor=\"middle\" transform=\"translate(0.5,1.1513699754665936) rotate(-90)\" style=\"display: none;\"/><text class=\"node-title\" dy=\".35em\" text-anchor=\"end\" transform=\"translate(-4,1.1513699754665936)\" style=\"display: inline;\">Other</text><rect class=\"node-click-target\" x=\"-5\" y=\"-5\" width=\"10\" height=\"7.302739950933187\" style=\"fill: none; visibility: hidden; pointer-events: all;\"/></g><g class=\"node\" transform=\"translate(739,271.88307885022056)\"><title>NMC622</title><line x1=\"0\" x2=\"0\" y1=\"0\" y2=\"44.92411480107853\" style=\"display: inline; stroke: rgb(0, 0, 0);\"/><rect class=\"node-body\" width=\"1\" height=\"44.92411480107853\" style=\"fill: none;\"/><text class=\"node-value\" dy=\".35em\" text-anchor=\"middle\" transform=\"translate(0.5,22.462057400539265) rotate(-90)\" style=\"display: none;\"/><text class=\"node-title\" dy=\".35em\" text-anchor=\"start\" transform=\"translate(5,22.462057400539265)\" style=\"display: inline;\">NMC622</text><rect class=\"node-click-target\" x=\"-5\" y=\"-5\" width=\"10\" height=\"49.92411480107853\" style=\"fill: none; visibility: hidden; pointer-events: all;\"/></g></g><g class=\"slice-titles\"/></g></svg>",
            "_view_module_version": "^0.4.1",
            "order": [
              [
                [
                  "sources^Argentina",
                  "sources^Australia",
                  "sources^Brazil",
                  "sources^Canada",
                  "sources^Chile",
                  "sources^China",
                  "sources^Congo",
                  "sources^Congo, Democratic Republic",
                  "sources^Cuba",
                  "sources^Gabon",
                  "sources^Ghana",
                  "sources^Guatemala",
                  "sources^Guinea",
                  "sources^India",
                  "sources^Indonesia",
                  "sources^Ivory Coast",
                  "sources^Jamaica",
                  "sources^Kazakhstan",
                  "sources^Korea, Dem. P.R. of",
                  "sources^Madagascar",
                  "sources^Malaysia",
                  "sources^Mexico",
                  "sources^Mozambique",
                  "sources^New Caledonia",
                  "sources^Papua New Guinea",
                  "sources^Peru",
                  "sources^Philippines",
                  "sources^Poland",
                  "sources^Russia",
                  "sources^South Africa",
                  "sources^USA",
                  "sources^Ukraine",
                  "sources^Zambia"
                ],
                []
              ],
              [
                [
                  "aluminium_mining^*",
                  "graphite_pro^*",
                  "copper_mining^*",
                  "cobalt_mining^*",
                  "lithium_mining^*",
                  "manganese_mining^*",
                  "nickel_mining^*"
                ],
                []
              ],
              [
                [
                  "__aluminium_mining_aluminium_refining_2^*",
                  "__graphite_pro_graphite_2^*",
                  "copper_smelting^*",
                  "__cobalt_mining_cobalt_refining_2^*",
                  "__lithium_mining_lithium_refining_2^*",
                  "__manganese_mining_manganese_refining_2^*",
                  "__nickel_mining_nickel_refining_2^*"
                ],
                []
              ],
              [
                [
                  "aluminium_refining^*",
                  "__graphite_pro_graphite_3^*",
                  "copper_refining^*",
                  "cobalt_refining^*",
                  "lithium_refining^*",
                  "manganese_refining^*",
                  "nickel_refining^*"
                ],
                []
              ],
              [
                [
                  "aluminium_primary^*",
                  "__graphite_pro_graphite_4^*",
                  "__copper_refining_copper_4^*",
                  "cobalt^*",
                  "lithium^*",
                  "manganese^*",
                  "nickel^*"
                ],
                [
                  "sodium^*",
                  "ammonium^*",
                  "precipitation^*"
                ]
              ],
              [
                [
                  "aluminium^*",
                  "graphite^*",
                  "copper^*",
                  "AM^*"
                ],
                [
                  "binder^*",
                  "electrolyte^*",
                  "plastic^*",
                  "steel^*",
                  "other^*"
                ]
              ],
              [
                [
                  "NMC622^NMC622"
                ],
                []
              ]
            ]
          }
        },
        "8ea662b5de044c61ada103096c96bdaa": {
          "model_module": "@jupyter-widgets/base",
          "model_name": "LayoutModel",
          "model_module_version": "1.2.0",
          "state": {
            "_view_name": "LayoutView",
            "grid_template_rows": null,
            "right": null,
            "justify_content": null,
            "_view_module": "@jupyter-widgets/base",
            "overflow": null,
            "_model_module_version": "1.2.0",
            "_view_count": null,
            "flex_flow": null,
            "width": "1000",
            "min_width": null,
            "border": null,
            "align_items": null,
            "bottom": null,
            "_model_module": "@jupyter-widgets/base",
            "top": null,
            "grid_column": null,
            "overflow_y": null,
            "overflow_x": null,
            "grid_auto_flow": null,
            "grid_area": null,
            "grid_template_columns": null,
            "flex": null,
            "_model_name": "LayoutModel",
            "justify_items": null,
            "grid_row": null,
            "max_height": null,
            "align_content": null,
            "visibility": null,
            "align_self": null,
            "height": "800",
            "min_height": null,
            "padding": null,
            "grid_auto_rows": null,
            "grid_gap": null,
            "max_width": null,
            "order": null,
            "_view_module_version": "1.2.0",
            "grid_template_areas": null,
            "object_position": null,
            "object_fit": null,
            "grid_auto_columns": null,
            "margin": null,
            "display": null,
            "left": null
          }
        }
      }
    }
  },
  "nbformat": 4,
  "nbformat_minor": 5
}