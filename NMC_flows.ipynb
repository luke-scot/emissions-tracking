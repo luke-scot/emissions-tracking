{
  "cells": [
    {
      "cell_type": "markdown",
      "metadata": {
        "id": "view-in-github",
        "colab_type": "text"
      },
      "source": [
        "<a href=\"https://colab.research.google.com/github/luke-scot/emissions-tracking/blob/main/NMC_flows.ipynb\" target=\"_parent\"><img src=\"https://colab.research.google.com/assets/colab-badge.svg\" alt=\"Open In Colab\"/></a>"
      ]
    },
    {
      "cell_type": "code",
      "execution_count": 9,
      "id": "d1ea8c1b",
      "metadata": {
        "id": "d1ea8c1b"
      },
      "outputs": [],
      "source": [
        "# %%capture\n",
        "# \"\"\"Installation and downloads\"\"\"\n",
        "# # Install floweaver and display widget packages\n",
        "# %pip install floweaver ipysankeywidget\n",
        "\n",
        "# Import necessary packages\n",
        "import pandas as pd\n",
        "import numpy as np\n",
        "from floweaver import *\n",
        "from ipysankeywidget import SankeyWidget"
      ]
    },
    {
      "cell_type": "code",
      "source": [
        "# \"\"\"Display setup\"\"\"\n",
        "# # Enable widget display for Sankeys in Colab\n",
        "# from google.colab import output\n",
        "# output.enable_custom_widget_manager()"
      ],
      "metadata": {
        "id": "PtoujBSmx_HU"
      },
      "id": "PtoujBSmx_HU",
      "execution_count": 2,
      "outputs": []
    },
    {
      "cell_type": "code",
      "execution_count": 54,
      "id": "e4cbc2f5",
      "metadata": {
        "id": "e4cbc2f5"
      },
      "outputs": [],
      "source": [
        "flows = pd.read_csv('flows.csv', usecols = ['source', 'target', 'type', 'value'])"
      ]
    },
    {
      "cell_type": "code",
      "source": [
        "flows.source.unique()"
      ],
      "metadata": {
        "colab": {
          "base_uri": "https://localhost:8080/"
        },
        "id": "RA5UfYjtyE5O",
        "outputId": "f9c515ae-3d3f-4321-d1ec-a07ab164dae0"
      },
      "id": "RA5UfYjtyE5O",
      "execution_count": 55,
      "outputs": [
        {
          "output_type": "execute_result",
          "data": {
            "text/plain": [
              "array(['AM', 'graphite', 'binder', 'copper', 'aluminium', 'electrolyte',\n",
              "       'plastic', 'steel', 'other', 'nickel', 'cobalt', 'manganese',\n",
              "       'lithium', 'sodium', 'ammonium', 'precipitation', 'nickel_mining',\n",
              "       'nickel_refining', 'manganese_mining', 'manganese_refining',\n",
              "       'cobalt_mining', 'cobalt_refining', 'lithium_mining',\n",
              "       'lithium_refining', 'graphite_pro', 'aluminium_mining',\n",
              "       'aluminium_refining', 'aluminium_primary', 'copper_mining',\n",
              "       'copper_smelting', 'copper_refining', 'Indonesia', 'Philippines',\n",
              "       'Russia', 'New Caledonia', 'Canada', 'Australia', 'China',\n",
              "       'Brazil', 'Guatemala', 'South Africa', 'Gabon', 'Ghana', 'India ',\n",
              "       'Ukraine', 'Ivory Coast', 'Malaysia', 'Congo', 'Cuba',\n",
              "       'Madagascar', 'Papua New Guinea', 'Chile', 'Argentina', 'Guinea',\n",
              "       'India', 'Jamaica', 'Peru', 'Congo, Democratic Republic', 'USA',\n",
              "       'Zambia', 'Mexico', 'Kazakhstan', 'Poland', 'China  ',\n",
              "       'Mozambique', 'Brazil  ', 'Korea, Dem. P.R. of', 'India  '],\n",
              "      dtype=object)"
            ]
          },
          "metadata": {},
          "execution_count": 55
        }
      ]
    },
    {
      "cell_type": "code",
      "source": [
        "flows.target.unique()"
      ],
      "metadata": {
        "colab": {
          "base_uri": "https://localhost:8080/"
        },
        "id": "abMMEWPpyokB",
        "outputId": "4b4ae6d0-9cd8-44c0-f101-203d0824acca"
      },
      "id": "abMMEWPpyokB",
      "execution_count": 56,
      "outputs": [
        {
          "output_type": "execute_result",
          "data": {
            "text/plain": [
              "array(['NMC622', 'AM', 'nickel_refining', 'nickel', 'manganese_refining',\n",
              "       'manganese', 'cobalt_refining', 'cobalt', 'lithium_refining',\n",
              "       'lithium', 'graphite', 'aluminium_refining', 'aluminium_primary',\n",
              "       'aluminium', 'copper_smelting', 'copper_refining', 'copper',\n",
              "       'nickel_mining', 'manganese_mining', 'cobalt_mining',\n",
              "       'lithium_mining', 'aluminium_mining', 'copper_mining',\n",
              "       'graphite_pro'], dtype=object)"
            ]
          },
          "metadata": {},
          "execution_count": 56
        }
      ]
    },
    {
      "cell_type": "code",
      "source": [
        "sources =  np.sort(['Indonesia', 'Philippines',\n",
        "       'Russia', 'New Caledonia', 'Canada', 'Australia', 'China',\n",
        "       'Brazil', 'Guatemala', 'South Africa', 'Gabon', 'Ghana', 'India ',\n",
        "       'Ukraine', 'Ivory Coast', 'Malaysia', 'Congo', 'Cuba',\n",
        "       'Madagascar', 'Papua New Guinea', 'Chile', 'Argentina', 'Guinea',\n",
        "       'India', 'Jamaica', 'Peru', 'Congo, Democratic Republic', 'USA',\n",
        "       'Zambia', 'Mexico', 'Kazakhstan', 'Poland', 'China  ',\n",
        "       'Mozambique', 'Brazil  ', 'Korea, Dem. P.R. of', 'India  '])\n",
        "uses = ['NMC622']\n",
        "\"\"\"Get all unique types of sources and targets listed in products and flows respectively\"\"\"\n",
        "#mining = \n",
        "idColumn = np.concatenate((sources,uses))\n",
        "typeColumn = ['source']*len(sources)+['use']*len(uses)\n",
        "processes = pd.DataFrame(np.array([idColumn,typeColumn]).transpose(), columns=['id','type'])"
      ],
      "metadata": {
        "id": "Ps3bky_i0q-4"
      },
      "id": "Ps3bky_i0q-4",
      "execution_count": 65,
      "outputs": []
    },
    {
      "cell_type": "code",
      "source": [
        "dataset = Dataset(flows, dim_process=processes.set_index('id'))"
      ],
      "metadata": {
        "id": "ZsEXApRm1Cqu"
      },
      "id": "ZsEXApRm1Cqu",
      "execution_count": 66,
      "outputs": []
    },
    {
      "cell_type": "code",
      "execution_count": 144,
      "id": "94f949a9",
      "metadata": {
        "id": "94f949a9"
      },
      "outputs": [],
      "source": [
        "nodes = {\n",
        "    'sources': ProcessGroup('type == \"source\"', Partition.Simple('process', sources), title='Sources'),\n",
        "    # mining\n",
        "    'nickel_mining': ProcessGroup(['nickel_mining'], title ='Nickel mining'),\n",
        "    'manganese_mining': ProcessGroup(['manganese_mining'], title ='Manganese mining'),\n",
        "    'cobalt_mining': ProcessGroup(['cobalt_mining'], title ='Cobalt mining'),\n",
        "    'lithium_mining': ProcessGroup(['lithium_mining'], title ='Lithium mining'),\n",
        "    'graphite_pro': ProcessGroup(['graphite_pro'], title ='Graphite production'),\n",
        "    'aluminium_mining': ProcessGroup(['aluminium_mining'], title ='Aluminium mining'),\n",
        "    'copper_mining': ProcessGroup(['copper_mining'], title ='Copper mining'),\n",
        "\n",
        "    # smelting\n",
        "    'copper_smelting': ProcessGroup(['copper_smelting'], title ='Copper_smelting'),\n",
        "\n",
        "    # refining\n",
        "    'nickel_refining': ProcessGroup(['nickel_refining'], title ='Nickel refining'),\n",
        "    'manganese_refining': ProcessGroup(['manganese_refining'], title ='Manganese refining'),\n",
        "    'cobalt_refining': ProcessGroup(['cobalt_refining'], title ='Cobalt refining'),\n",
        "    'lithium_refining': ProcessGroup(['lithium_refining'], title ='Lithium refining'),\n",
        "    'aluminium_refining': ProcessGroup(['aluminium_refining'], title ='Aluminium refining'),\n",
        "    'copper_refining': ProcessGroup(['copper_refining'], title ='Copper_refining'),\n",
        "\n",
        "    # primary\n",
        "    'aluminium_primary': ProcessGroup(['aluminium_primary'], title ='Aluminium primary'),\n",
        "\n",
        "    # material\n",
        "    'sodium': ProcessGroup(['sodium'], title ='Sodium Hydroxide'),\n",
        "    'ammonium': ProcessGroup(['ammonium'], title ='Ammonium Hydroxide'),\n",
        "    'precipitation': ProcessGroup(['precipitation'], title ='Precursor Co-precipitation'),\n",
        "    'nickel': ProcessGroup(['nickel'], title ='Nickel'),\n",
        "    'manganese': ProcessGroup(['manganese'], title ='Manganese'),\n",
        "    'cobalt': ProcessGroup(['cobalt'], title ='Cobalt'),\n",
        "    'lithium': ProcessGroup(['lithium'], title ='Lithium'),\n",
        "    'AM': ProcessGroup(['AM'], title ='Active material'),\n",
        "    'aluminium': ProcessGroup(['aluminium'], title ='Aluminium'),\n",
        "    'graphite': ProcessGroup(['graphite'], title ='Graphite/Carbon'),\n",
        "    'copper': ProcessGroup(['copper'], title ='Copper'),\n",
        "    'binder': ProcessGroup(['binder'], title ='Binder'),\n",
        "    'electrolyte': ProcessGroup(['electrolyte'], title ='Electrolyte'),\n",
        "    'plastic': ProcessGroup(['plastic'], title ='Plastic'),\n",
        "    'steel': ProcessGroup(['steel'], title ='Steel'),\n",
        "    'other': ProcessGroup(['other'], title ='Other'),\n",
        "    \n",
        "\n",
        "    # Product\n",
        "    'NMC622': ProcessGroup('type == \"use\"', Partition.Simple('process', uses), title='Product'),\n",
        "\n",
        "}"
      ]
    },
    {
      "cell_type": "code",
      "execution_count": 145,
      "id": "b4c34ee9",
      "metadata": {
        "id": "b4c34ee9"
      },
      "outputs": [],
      "source": [
        "ordering = [\n",
        "    [['sources'],[]],\n",
        "    [['aluminium_mining', 'graphite_pro', 'copper_mining', 'cobalt_mining', 'lithium_mining', 'manganese_mining','nickel_mining'],[]],\n",
        "    [['copper_smelting'],[]],\n",
        "    [['aluminium_refining','copper_refining', 'cobalt_refining','lithium_refining','manganese_refining','nickel_refining'],[]],\n",
        "    [['aluminium_primary','cobalt','lithium','manganese','nickel'],['sodium','ammonium','precipitation']],\n",
        "    [['aluminium','graphite','copper','AM'], ['binder','electrolyte','plastic','steel','other']],\n",
        "    [['NMC622'],[]],\n",
        "]"
      ]
    },
    {
      "cell_type": "code",
      "execution_count": 146,
      "id": "104ae589",
      "metadata": {
        "id": "104ae589"
      },
      "outputs": [],
      "source": [
        "bundles = [\n",
        "    # Source to mining\n",
        "    Bundle(\"sources\",\"nickel_mining\"),  \n",
        "    Bundle(\"sources\",\"manganese_mining\"),  \n",
        "    Bundle(\"sources\",\"cobalt_mining\"),   \n",
        "    Bundle(\"sources\",\"lithium_mining\"),    \n",
        "    Bundle(\"sources\",\"graphite_pro\"),  \n",
        "    Bundle(\"sources\",\"aluminium_mining\"),  \n",
        "    Bundle(\"sources\",\"copper_mining\"),  \n",
        "    # Mining to refining\n",
        "    Bundle(\"copper_mining\", \"copper_smelting\"),\n",
        "    Bundle(\"copper_smelting\", \"copper_refining\"), \n",
        "    Bundle(\"nickel_mining\", \"nickel_refining\"),  \n",
        "    Bundle(\"manganese_mining\", \"manganese_refining\"),\n",
        "    Bundle(\"cobalt_mining\", \"cobalt_refining\"),  \n",
        "    Bundle(\"lithium_mining\", \"lithium_refining\"),  \n",
        "    Bundle(\"aluminium_mining\", \"aluminium_refining\"), \n",
        "\n",
        "    # Refining to material\n",
        "    Bundle(\"nickel_refining\", \"nickel\"), \n",
        "    Bundle(\"manganese_refining\", \"manganese\"),\n",
        "    Bundle(\"cobalt_refining\", \"cobalt\"), \n",
        "    Bundle(\"lithium_refining\", \"lithium\"),\n",
        "    Bundle(\"nickel\", \"AM\"), \n",
        "    Bundle(\"manganese\", \"AM\"),\n",
        "    Bundle(\"cobalt\", \"AM\"), \n",
        "    Bundle(\"lithium\", \"AM\"),\n",
        "    Bundle(\"sodium\", \"AM\"),\n",
        "    Bundle(\"ammonium\", \"AM\"),\n",
        "    Bundle(\"precipitation\", \"AM\"),\n",
        "    Bundle(\"aluminium_refining\", \"aluminium_primary\"),\n",
        "    Bundle(\"aluminium_primary\", \"aluminium\"), \n",
        "    Bundle(\"graphite_pro\", \"graphite\"),\n",
        "    Bundle(\"copper_refining\", \"copper\"),\n",
        "\n",
        "    # Material to product\n",
        "    Bundle(\"AM\", \"NMC622\"),      \n",
        "    Bundle(\"graphite\", \"NMC622\"),\n",
        "    Bundle(\"aluminium\", \"NMC622\"),\n",
        "    Bundle(\"copper\", \"NMC622\"),\n",
        "    Bundle(\"binder\", \"NMC622\"),\n",
        "    Bundle(\"electrolyte\", \"NMC622\"),  \n",
        "    Bundle(\"plastic\", \"NMC622\"),  \n",
        "    Bundle(\"steel\", \"NMC622\"),  \n",
        "    Bundle(\"other\", \"NMC622\"),         \n",
        "]"
      ]
    },
    {
      "cell_type": "code",
      "execution_count": 147,
      "id": "44bf2db0",
      "metadata": {
        "colab": {
          "base_uri": "https://localhost:8080/",
          "height": 621,
          "referenced_widgets": [
            "db9daa28f86a40cd9663bda499cc5413",
            "307e4eb225ef4263996ae4f17178e3cf"
          ]
        },
        "id": "44bf2db0",
        "outputId": "dfae8d6c-2f9c-476c-8dc1-9564b07bf7a3"
      },
      "outputs": [
        {
          "output_type": "display_data",
          "data": {
            "application/vnd.jupyter.widget-view+json": {
              "model_id": "db9daa28f86a40cd9663bda499cc5413",
              "version_minor": 0,
              "version_major": 2
            },
            "text/plain": [
              "SankeyWidget(groups=[{'id': 'sources', 'type': 'process', 'title': 'Sources', 'nodes': ['sources^Argentina', '…"
            ]
          },
          "metadata": {
            "application/vnd.jupyter.widget-view+json": {
              "colab": {
                "custom_widget_manager": {
                  "url": "https://ssl.gstatic.com/colaboratory-static/widgets/colab-cdn-widget-manager/a8874ba6619b6106/manager.min.js"
                }
              }
            }
          }
        }
      ],
      "source": [
        "flow_partition = Partition.Simple(\"type\", np.unique(flows['type'].to_list()))\n",
        "\n",
        "sdd = SankeyDefinition(nodes, bundles, ordering, flow_partition = flow_partition)\n",
        "weave(sdd, dataset, palette='Paired_12').to_widget(width=800, height = 600)\\\n",
        ".auto_save_svg('NMC622_sankey.svg')"
      ]
    }
  ],
  "metadata": {
    "kernelspec": {
      "display_name": "Python 3",
      "language": "python",
      "name": "python3"
    },
    "language_info": {
      "codemirror_mode": {
        "name": "ipython",
        "version": 3
      },
      "file_extension": ".py",
      "mimetype": "text/x-python",
      "name": "python",
      "nbconvert_exporter": "python",
      "pygments_lexer": "ipython3",
      "version": "3.8.8"
    },
    "toc": {
      "base_numbering": 1,
      "nav_menu": {},
      "number_sections": true,
      "sideBar": true,
      "skip_h1_title": false,
      "title_cell": "Table of Contents",
      "title_sidebar": "Contents",
      "toc_cell": false,
      "toc_position": {},
      "toc_section_display": true,
      "toc_window_display": false
    },
    "colab": {
      "name": "NMC_flows.ipynb",
      "provenance": [],
      "include_colab_link": true
    },
    "widgets": {
      "application/vnd.jupyter.widget-state+json": {
        "db9daa28f86a40cd9663bda499cc5413": {
          "model_module": "jupyter-sankey-widget",
          "model_name": "SankeyModel",
          "model_module_version": "^0.4.1",
          "state": {
            "_view_name": "SankeyView",
            "links": [
              {
                "opacity": 1,
                "target": "lithium_mining^*",
                "title": "Argentina",
                "color": "#A6CEE3",
                "value": 0.073170732,
                "source": "sources^Argentina",
                "time": "*",
                "type": "Argentina"
              },
              {
                "opacity": 1,
                "target": "nickel_mining^*",
                "title": "Australia",
                "color": "#1F78B4",
                "value": 0.058743841,
                "source": "sources^Australia",
                "time": "*",
                "type": "Australia"
              },
              {
                "opacity": 1,
                "target": "manganese_mining^*",
                "title": "Australia",
                "color": "#1F78B4",
                "value": 0.117504816,
                "source": "sources^Australia",
                "time": "*",
                "type": "Australia"
              },
              {
                "opacity": 1,
                "target": "cobalt_mining^*",
                "title": "Australia",
                "color": "#1F78B4",
                "value": 0.046233433,
                "source": "sources^Australia",
                "time": "*",
                "type": "Australia"
              },
              {
                "opacity": 1,
                "target": "lithium_mining^*",
                "title": "Australia",
                "color": "#1F78B4",
                "value": 0.522648084,
                "source": "sources^Australia",
                "time": "*",
                "type": "Australia"
              },
              {
                "opacity": 1,
                "target": "aluminium_mining^*",
                "title": "Australia",
                "color": "#1F78B4",
                "value": 0.304106063,
                "source": "sources^Australia",
                "time": "*",
                "type": "Australia"
              },
              {
                "opacity": 1,
                "target": "copper_mining^*",
                "title": "Australia",
                "color": "#1F78B4",
                "value": 0.045174095,
                "source": "sources^Australia",
                "time": "*",
                "type": "Australia"
              },
              {
                "opacity": 1,
                "target": "nickel_mining^*",
                "title": "Brazil",
                "color": "#B2DF8A",
                "value": 0.020611095,
                "source": "sources^Brazil",
                "time": "*",
                "type": "Brazil"
              },
              {
                "opacity": 1,
                "target": "manganese_mining^*",
                "title": "Brazil",
                "color": "#B2DF8A",
                "value": 0.056548501,
                "source": "sources^Brazil",
                "time": "*",
                "type": "Brazil"
              },
              {
                "opacity": 1,
                "target": "lithium_mining^*",
                "title": "Brazil",
                "color": "#B2DF8A",
                "value": 0.027874564,
                "source": "sources^Brazil",
                "time": "*",
                "type": "Brazil"
              },
              {
                "opacity": 1,
                "target": "aluminium_mining^*",
                "title": "Brazil",
                "color": "#B2DF8A",
                "value": 0.092023503,
                "source": "sources^Brazil",
                "time": "*",
                "type": "Brazil"
              },
              {
                "opacity": 1,
                "target": "graphite_pro^*",
                "title": "Brazil  ",
                "color": "#33A02C",
                "value": 0.084781088,
                "source": "sources^Brazil  ",
                "time": "*",
                "type": "Brazil  "
              },
              {
                "opacity": 1,
                "target": "nickel_mining^*",
                "title": "Canada",
                "color": "#FB9A99",
                "value": 0.066941284,
                "source": "sources^Canada",
                "time": "*",
                "type": "Canada"
              },
              {
                "opacity": 1,
                "target": "cobalt_mining^*",
                "title": "Canada",
                "color": "#FB9A99",
                "value": 0.041677495,
                "source": "sources^Canada",
                "time": "*",
                "type": "Canada"
              },
              {
                "opacity": 1,
                "target": "copper_mining^*",
                "title": "Canada",
                "color": "#FB9A99",
                "value": 0.027121287,
                "source": "sources^Canada",
                "time": "*",
                "type": "Canada"
              },
              {
                "opacity": 1,
                "target": "lithium_mining^*",
                "title": "Chile",
                "color": "#E31A1C",
                "value": 0.224157956,
                "source": "sources^Chile",
                "time": "*",
                "type": "Chile"
              },
              {
                "opacity": 1,
                "target": "copper_mining^*",
                "title": "Chile",
                "color": "#E31A1C",
                "value": 0.27989846,
                "source": "sources^Chile",
                "time": "*",
                "type": "Chile"
              },
              {
                "opacity": 1,
                "target": "nickel_mining^*",
                "title": "China",
                "color": "#FDBF6F",
                "value": 0.038733317,
                "source": "sources^China",
                "time": "*",
                "type": "China"
              },
              {
                "opacity": 1,
                "target": "manganese_mining^*",
                "title": "China",
                "color": "#FDBF6F",
                "value": 0.114864143,
                "source": "sources^China",
                "time": "*",
                "type": "China"
              },
              {
                "opacity": 1,
                "target": "lithium_mining^*",
                "title": "China",
                "color": "#FDBF6F",
                "value": 0.12543554,
                "source": "sources^China",
                "time": "*",
                "type": "China"
              },
              {
                "opacity": 1,
                "target": "aluminium_mining^*",
                "title": "China",
                "color": "#FDBF6F",
                "value": 0.178642215,
                "source": "sources^China",
                "time": "*",
                "type": "China"
              },
              {
                "opacity": 1,
                "target": "copper_mining^*",
                "title": "China",
                "color": "#FDBF6F",
                "value": 0.081429491,
                "source": "sources^China",
                "time": "*",
                "type": "China"
              },
              {
                "opacity": 1,
                "target": "graphite_pro^*",
                "title": "China  ",
                "color": "#FF7F00",
                "value": 0.618195435,
                "source": "sources^China  ",
                "time": "*",
                "type": "China  "
              },
              {
                "opacity": 1,
                "target": "cobalt_mining^*",
                "title": "Congo",
                "color": "#CAB2D6",
                "value": 0.633153586,
                "source": "sources^Congo",
                "time": "*",
                "type": "Congo"
              },
              {
                "opacity": 1,
                "target": "copper_mining^*",
                "title": "Congo, Democratic Republic",
                "color": "#6A3D9A",
                "value": 0.068694725,
                "source": "sources^Congo, Democratic Republic",
                "time": "*",
                "type": "Congo, Democratic Republic"
              },
              {
                "opacity": 1,
                "target": "cobalt_mining^*",
                "title": "Cuba",
                "color": "#FFFF99",
                "value": 0.04222973,
                "source": "sources^Cuba",
                "time": "*",
                "type": "Cuba"
              },
              {
                "opacity": 1,
                "target": "manganese_mining^*",
                "title": "Gabon",
                "color": "#B15928",
                "value": 0.126986728,
                "source": "sources^Gabon",
                "time": "*",
                "type": "Gabon"
              },
              {
                "opacity": 1,
                "target": "manganese_mining^*",
                "title": "Ghana",
                "color": "#A6CEE3",
                "value": 0.095125429,
                "source": "sources^Ghana",
                "time": "*",
                "type": "Ghana"
              },
              {
                "opacity": 1,
                "target": "nickel_mining^*",
                "title": "Guatemala",
                "color": "#1F78B4",
                "value": 0.020352069,
                "source": "sources^Guatemala",
                "time": "*",
                "type": "Guatemala"
              },
              {
                "opacity": 1,
                "target": "aluminium_mining^*",
                "title": "Guinea",
                "color": "#B2DF8A",
                "value": 0.202192232,
                "source": "sources^Guinea",
                "time": "*",
                "type": "Guinea"
              },
              {
                "opacity": 1,
                "target": "aluminium_mining^*",
                "title": "India",
                "color": "#33A02C",
                "value": 0.063600657,
                "source": "sources^India",
                "time": "*",
                "type": "India"
              },
              {
                "opacity": 1,
                "target": "manganese_mining^*",
                "title": "India ",
                "color": "#FB9A99",
                "value": 0.05223977,
                "source": "sources^India ",
                "time": "*",
                "type": "India "
              },
              {
                "opacity": 1,
                "target": "graphite_pro^*",
                "title": "India  ",
                "color": "#E31A1C",
                "value": 0.029086978,
                "source": "sources^India  ",
                "time": "*",
                "type": "India  "
              },
              {
                "opacity": 1,
                "target": "nickel_mining^*",
                "title": "Indonesia",
                "color": "#FDBF6F",
                "value": 0.383432972,
                "source": "sources^Indonesia",
                "time": "*",
                "type": "Indonesia"
              },
              {
                "opacity": 1,
                "target": "aluminium_mining^*",
                "title": "Indonesia",
                "color": "#FDBF6F",
                "value": 0.047809091,
                "source": "sources^Indonesia",
                "time": "*",
                "type": "Indonesia"
              },
              {
                "opacity": 1,
                "target": "manganese_mining^*",
                "title": "Ivory Coast",
                "color": "#FF7F00",
                "value": 0.021205688,
                "source": "sources^Ivory Coast",
                "time": "*",
                "type": "Ivory Coast"
              },
              {
                "opacity": 1,
                "target": "aluminium_mining^*",
                "title": "Jamaica",
                "color": "#CAB2D6",
                "value": 0.025996148,
                "source": "sources^Jamaica",
                "time": "*",
                "type": "Jamaica"
              },
              {
                "opacity": 1,
                "target": "copper_mining^*",
                "title": "Kazakhstan",
                "color": "#6A3D9A",
                "value": 0.02940496,
                "source": "sources^Kazakhstan",
                "time": "*",
                "type": "Kazakhstan"
              },
              {
                "opacity": 1,
                "target": "graphite_pro^*",
                "title": "Korea, Dem. P.R. of",
                "color": "#FFFF99",
                "value": 0.035325453,
                "source": "sources^Korea, Dem. P.R. of",
                "time": "*",
                "type": "Korea, Dem. P.R. of"
              },
              {
                "opacity": 1,
                "target": "cobalt_mining^*",
                "title": "Madagascar",
                "color": "#B15928",
                "value": 0.023794828,
                "source": "sources^Madagascar",
                "time": "*",
                "type": "Madagascar"
              },
              {
                "opacity": 1,
                "target": "graphite_pro^*",
                "title": "Madagascar",
                "color": "#B15928",
                "value": 0.04715948,
                "source": "sources^Madagascar",
                "time": "*",
                "type": "Madagascar"
              },
              {
                "opacity": 1,
                "target": "manganese_mining^*",
                "title": "Malaysia",
                "color": "#A6CEE3",
                "value": 0.019981925,
                "source": "sources^Malaysia",
                "time": "*",
                "type": "Malaysia"
              },
              {
                "opacity": 1,
                "target": "copper_mining^*",
                "title": "Mexico",
                "color": "#1F78B4",
                "value": 0.03716932,
                "source": "sources^Mexico",
                "time": "*",
                "type": "Mexico"
              },
              {
                "opacity": 1,
                "target": "graphite_pro^*",
                "title": "Mozambique",
                "color": "#B2DF8A",
                "value": 0.100503564,
                "source": "sources^Mozambique",
                "time": "*",
                "type": "Mozambique"
              },
              {
                "opacity": 1,
                "target": "nickel_mining^*",
                "title": "New Caledonia",
                "color": "#33A02C",
                "value": 0.077541011,
                "source": "sources^New Caledonia",
                "time": "*",
                "type": "New Caledonia"
              },
              {
                "opacity": 1,
                "target": "cobalt_mining^*",
                "title": "Papua New Guinea",
                "color": "#FB9A99",
                "value": 0.023673012,
                "source": "sources^Papua New Guinea",
                "time": "*",
                "type": "Papua New Guinea"
              },
              {
                "opacity": 1,
                "target": "copper_mining^*",
                "title": "Peru",
                "color": "#E31A1C",
                "value": 0.118753477,
                "source": "sources^Peru",
                "time": "*",
                "type": "Peru"
              },
              {
                "opacity": 1,
                "target": "nickel_mining^*",
                "title": "Philippines",
                "color": "#FDBF6F",
                "value": 0.11964241,
                "source": "sources^Philippines",
                "time": "*",
                "type": "Philippines"
              },
              {
                "opacity": 1,
                "target": "cobalt_mining^*",
                "title": "Philippines",
                "color": "#FDBF6F",
                "value": 0.054411383,
                "source": "sources^Philippines",
                "time": "*",
                "type": "Philippines"
              },
              {
                "opacity": 1,
                "target": "copper_mining^*",
                "title": "Poland",
                "color": "#FF7F00",
                "value": 0.021715176,
                "source": "sources^Poland",
                "time": "*",
                "type": "Poland"
              },
              {
                "opacity": 1,
                "target": "nickel_mining^*",
                "title": "Russia",
                "color": "#CAB2D6",
                "value": 0.0836285,
                "source": "sources^Russia",
                "time": "*",
                "type": "Russia"
              },
              {
                "opacity": 1,
                "target": "cobalt_mining^*",
                "title": "Russia",
                "color": "#CAB2D6",
                "value": 0.04466606,
                "source": "sources^Russia",
                "time": "*",
                "type": "Russia"
              },
              {
                "opacity": 1,
                "target": "copper_mining^*",
                "title": "Russia",
                "color": "#CAB2D6",
                "value": 0.039348479,
                "source": "sources^Russia",
                "time": "*",
                "type": "Russia"
              },
              {
                "opacity": 1,
                "target": "manganese_mining^*",
                "title": "South Africa",
                "color": "#6A3D9A",
                "value": 0.300572089,
                "source": "sources^South Africa",
                "time": "*",
                "type": "South Africa"
              },
              {
                "opacity": 1,
                "target": "copper_mining^*",
                "title": "USA",
                "color": "#FFFF99",
                "value": 0.06093791,
                "source": "sources^USA",
                "time": "*",
                "type": "USA"
              },
              {
                "opacity": 1,
                "target": "manganese_mining^*",
                "title": "Ukraine",
                "color": "#B15928",
                "value": 0.032767029,
                "source": "sources^Ukraine",
                "time": "*",
                "type": "Ukraine"
              },
              {
                "opacity": 1,
                "target": "copper_mining^*",
                "title": "Zambia",
                "color": "#A6CEE3",
                "value": 0.038570698,
                "source": "sources^Zambia",
                "time": "*",
                "type": "Zambia"
              },
              {
                "opacity": 1,
                "target": "__aluminium_mining_aluminium_refining_2^*",
                "title": "Australia",
                "color": "#1F78B4",
                "value": 0.304106063,
                "source": "aluminium_mining^*",
                "time": "*",
                "type": "Australia"
              },
              {
                "opacity": 1,
                "target": "__aluminium_mining_aluminium_refining_2^*",
                "title": "Brazil",
                "color": "#B2DF8A",
                "value": 0.092023503,
                "source": "aluminium_mining^*",
                "time": "*",
                "type": "Brazil"
              },
              {
                "opacity": 1,
                "target": "__aluminium_mining_aluminium_refining_2^*",
                "title": "China",
                "color": "#FDBF6F",
                "value": 0.178642215,
                "source": "aluminium_mining^*",
                "time": "*",
                "type": "China"
              },
              {
                "opacity": 1,
                "target": "__aluminium_mining_aluminium_refining_2^*",
                "title": "Guinea",
                "color": "#B2DF8A",
                "value": 0.202192232,
                "source": "aluminium_mining^*",
                "time": "*",
                "type": "Guinea"
              },
              {
                "opacity": 1,
                "target": "__aluminium_mining_aluminium_refining_2^*",
                "title": "India",
                "color": "#33A02C",
                "value": 0.063600657,
                "source": "aluminium_mining^*",
                "time": "*",
                "type": "India"
              },
              {
                "opacity": 1,
                "target": "__aluminium_mining_aluminium_refining_2^*",
                "title": "Indonesia",
                "color": "#FDBF6F",
                "value": 0.047809091,
                "source": "aluminium_mining^*",
                "time": "*",
                "type": "Indonesia"
              },
              {
                "opacity": 1,
                "target": "__aluminium_mining_aluminium_refining_2^*",
                "title": "Jamaica",
                "color": "#CAB2D6",
                "value": 0.025996148,
                "source": "aluminium_mining^*",
                "time": "*",
                "type": "Jamaica"
              },
              {
                "opacity": 1,
                "target": "__graphite_pro_graphite_2^*",
                "title": "Brazil  ",
                "color": "#33A02C",
                "value": 0.084781088,
                "source": "graphite_pro^*",
                "time": "*",
                "type": "Brazil  "
              },
              {
                "opacity": 1,
                "target": "__graphite_pro_graphite_2^*",
                "title": "China  ",
                "color": "#FF7F00",
                "value": 0.618195435,
                "source": "graphite_pro^*",
                "time": "*",
                "type": "China  "
              },
              {
                "opacity": 1,
                "target": "__graphite_pro_graphite_2^*",
                "title": "India  ",
                "color": "#E31A1C",
                "value": 0.029086978,
                "source": "graphite_pro^*",
                "time": "*",
                "type": "India  "
              },
              {
                "opacity": 1,
                "target": "__graphite_pro_graphite_2^*",
                "title": "Korea, Dem. P.R. of",
                "color": "#FFFF99",
                "value": 0.035325453,
                "source": "graphite_pro^*",
                "time": "*",
                "type": "Korea, Dem. P.R. of"
              },
              {
                "opacity": 1,
                "target": "__graphite_pro_graphite_2^*",
                "title": "Madagascar",
                "color": "#B15928",
                "value": 0.04715948,
                "source": "graphite_pro^*",
                "time": "*",
                "type": "Madagascar"
              },
              {
                "opacity": 1,
                "target": "__graphite_pro_graphite_2^*",
                "title": "Mozambique",
                "color": "#B2DF8A",
                "value": 0.100503564,
                "source": "graphite_pro^*",
                "time": "*",
                "type": "Mozambique"
              },
              {
                "opacity": 1,
                "target": "copper_smelting^*",
                "title": "Australia",
                "color": "#1F78B4",
                "value": 0.045174095,
                "source": "copper_mining^*",
                "time": "*",
                "type": "Australia"
              },
              {
                "opacity": 1,
                "target": "copper_smelting^*",
                "title": "Canada",
                "color": "#FB9A99",
                "value": 0.027121287,
                "source": "copper_mining^*",
                "time": "*",
                "type": "Canada"
              },
              {
                "opacity": 1,
                "target": "copper_smelting^*",
                "title": "Chile",
                "color": "#E31A1C",
                "value": 0.27989846,
                "source": "copper_mining^*",
                "time": "*",
                "type": "Chile"
              },
              {
                "opacity": 1,
                "target": "copper_smelting^*",
                "title": "China",
                "color": "#FDBF6F",
                "value": 0.081429491,
                "source": "copper_mining^*",
                "time": "*",
                "type": "China"
              },
              {
                "opacity": 1,
                "target": "copper_smelting^*",
                "title": "Congo, Democratic Republic",
                "color": "#6A3D9A",
                "value": 0.068694725,
                "source": "copper_mining^*",
                "time": "*",
                "type": "Congo, Democratic Republic"
              },
              {
                "opacity": 1,
                "target": "copper_smelting^*",
                "title": "Kazakhstan",
                "color": "#6A3D9A",
                "value": 0.02940496,
                "source": "copper_mining^*",
                "time": "*",
                "type": "Kazakhstan"
              },
              {
                "opacity": 1,
                "target": "copper_smelting^*",
                "title": "Mexico",
                "color": "#1F78B4",
                "value": 0.03716932,
                "source": "copper_mining^*",
                "time": "*",
                "type": "Mexico"
              },
              {
                "opacity": 1,
                "target": "copper_smelting^*",
                "title": "Peru",
                "color": "#E31A1C",
                "value": 0.118753477,
                "source": "copper_mining^*",
                "time": "*",
                "type": "Peru"
              },
              {
                "opacity": 1,
                "target": "copper_smelting^*",
                "title": "Poland",
                "color": "#FF7F00",
                "value": 0.021715176,
                "source": "copper_mining^*",
                "time": "*",
                "type": "Poland"
              },
              {
                "opacity": 1,
                "target": "copper_smelting^*",
                "title": "Russia",
                "color": "#CAB2D6",
                "value": 0.039348479,
                "source": "copper_mining^*",
                "time": "*",
                "type": "Russia"
              },
              {
                "opacity": 1,
                "target": "copper_smelting^*",
                "title": "USA",
                "color": "#FFFF99",
                "value": 0.06093791,
                "source": "copper_mining^*",
                "time": "*",
                "type": "USA"
              },
              {
                "opacity": 1,
                "target": "copper_smelting^*",
                "title": "Zambia",
                "color": "#A6CEE3",
                "value": 0.038570698,
                "source": "copper_mining^*",
                "time": "*",
                "type": "Zambia"
              },
              {
                "opacity": 1,
                "target": "__cobalt_mining_cobalt_refining_2^*",
                "title": "Australia",
                "color": "#1F78B4",
                "value": 0.046233433,
                "source": "cobalt_mining^*",
                "time": "*",
                "type": "Australia"
              },
              {
                "opacity": 1,
                "target": "__cobalt_mining_cobalt_refining_2^*",
                "title": "Canada",
                "color": "#FB9A99",
                "value": 0.041677495,
                "source": "cobalt_mining^*",
                "time": "*",
                "type": "Canada"
              },
              {
                "opacity": 1,
                "target": "__cobalt_mining_cobalt_refining_2^*",
                "title": "Congo",
                "color": "#CAB2D6",
                "value": 0.633153586,
                "source": "cobalt_mining^*",
                "time": "*",
                "type": "Congo"
              },
              {
                "opacity": 1,
                "target": "__cobalt_mining_cobalt_refining_2^*",
                "title": "Cuba",
                "color": "#FFFF99",
                "value": 0.04222973,
                "source": "cobalt_mining^*",
                "time": "*",
                "type": "Cuba"
              },
              {
                "opacity": 1,
                "target": "__cobalt_mining_cobalt_refining_2^*",
                "title": "Madagascar",
                "color": "#B15928",
                "value": 0.023794828,
                "source": "cobalt_mining^*",
                "time": "*",
                "type": "Madagascar"
              },
              {
                "opacity": 1,
                "target": "__cobalt_mining_cobalt_refining_2^*",
                "title": "Papua New Guinea",
                "color": "#FB9A99",
                "value": 0.023673012,
                "source": "cobalt_mining^*",
                "time": "*",
                "type": "Papua New Guinea"
              },
              {
                "opacity": 1,
                "target": "__cobalt_mining_cobalt_refining_2^*",
                "title": "Philippines",
                "color": "#FDBF6F",
                "value": 0.054411383,
                "source": "cobalt_mining^*",
                "time": "*",
                "type": "Philippines"
              },
              {
                "opacity": 1,
                "target": "__cobalt_mining_cobalt_refining_2^*",
                "title": "Russia",
                "color": "#CAB2D6",
                "value": 0.04466606,
                "source": "cobalt_mining^*",
                "time": "*",
                "type": "Russia"
              },
              {
                "opacity": 1,
                "target": "__lithium_mining_lithium_refining_2^*",
                "title": "Argentina",
                "color": "#A6CEE3",
                "value": 0.073170732,
                "source": "lithium_mining^*",
                "time": "*",
                "type": "Argentina"
              },
              {
                "opacity": 1,
                "target": "__lithium_mining_lithium_refining_2^*",
                "title": "Australia",
                "color": "#1F78B4",
                "value": 0.522648084,
                "source": "lithium_mining^*",
                "time": "*",
                "type": "Australia"
              },
              {
                "opacity": 1,
                "target": "__lithium_mining_lithium_refining_2^*",
                "title": "Brazil",
                "color": "#B2DF8A",
                "value": 0.027874564,
                "source": "lithium_mining^*",
                "time": "*",
                "type": "Brazil"
              },
              {
                "opacity": 1,
                "target": "__lithium_mining_lithium_refining_2^*",
                "title": "Chile",
                "color": "#E31A1C",
                "value": 0.224157956,
                "source": "lithium_mining^*",
                "time": "*",
                "type": "Chile"
              },
              {
                "opacity": 1,
                "target": "__lithium_mining_lithium_refining_2^*",
                "title": "China",
                "color": "#FDBF6F",
                "value": 0.12543554,
                "source": "lithium_mining^*",
                "time": "*",
                "type": "China"
              },
              {
                "opacity": 1,
                "target": "__manganese_mining_manganese_refining_2^*",
                "title": "Australia",
                "color": "#1F78B4",
                "value": 0.117504816,
                "source": "manganese_mining^*",
                "time": "*",
                "type": "Australia"
              },
              {
                "opacity": 1,
                "target": "__manganese_mining_manganese_refining_2^*",
                "title": "Brazil",
                "color": "#B2DF8A",
                "value": 0.056548501,
                "source": "manganese_mining^*",
                "time": "*",
                "type": "Brazil"
              },
              {
                "opacity": 1,
                "target": "__manganese_mining_manganese_refining_2^*",
                "title": "China",
                "color": "#FDBF6F",
                "value": 0.114864143,
                "source": "manganese_mining^*",
                "time": "*",
                "type": "China"
              },
              {
                "opacity": 1,
                "target": "__manganese_mining_manganese_refining_2^*",
                "title": "Gabon",
                "color": "#B15928",
                "value": 0.126986728,
                "source": "manganese_mining^*",
                "time": "*",
                "type": "Gabon"
              },
              {
                "opacity": 1,
                "target": "__manganese_mining_manganese_refining_2^*",
                "title": "Ghana",
                "color": "#A6CEE3",
                "value": 0.095125429,
                "source": "manganese_mining^*",
                "time": "*",
                "type": "Ghana"
              },
              {
                "opacity": 1,
                "target": "__manganese_mining_manganese_refining_2^*",
                "title": "India ",
                "color": "#FB9A99",
                "value": 0.05223977,
                "source": "manganese_mining^*",
                "time": "*",
                "type": "India "
              },
              {
                "opacity": 1,
                "target": "__manganese_mining_manganese_refining_2^*",
                "title": "Ivory Coast",
                "color": "#FF7F00",
                "value": 0.021205688,
                "source": "manganese_mining^*",
                "time": "*",
                "type": "Ivory Coast"
              },
              {
                "opacity": 1,
                "target": "__manganese_mining_manganese_refining_2^*",
                "title": "Malaysia",
                "color": "#A6CEE3",
                "value": 0.019981925,
                "source": "manganese_mining^*",
                "time": "*",
                "type": "Malaysia"
              },
              {
                "opacity": 1,
                "target": "__manganese_mining_manganese_refining_2^*",
                "title": "South Africa",
                "color": "#6A3D9A",
                "value": 0.300572089,
                "source": "manganese_mining^*",
                "time": "*",
                "type": "South Africa"
              },
              {
                "opacity": 1,
                "target": "__manganese_mining_manganese_refining_2^*",
                "title": "Ukraine",
                "color": "#B15928",
                "value": 0.032767029,
                "source": "manganese_mining^*",
                "time": "*",
                "type": "Ukraine"
              },
              {
                "opacity": 1,
                "target": "__nickel_mining_nickel_refining_2^*",
                "title": "Australia",
                "color": "#1F78B4",
                "value": 0.058743841,
                "source": "nickel_mining^*",
                "time": "*",
                "type": "Australia"
              },
              {
                "opacity": 1,
                "target": "__nickel_mining_nickel_refining_2^*",
                "title": "Brazil",
                "color": "#B2DF8A",
                "value": 0.020611095,
                "source": "nickel_mining^*",
                "time": "*",
                "type": "Brazil"
              },
              {
                "opacity": 1,
                "target": "__nickel_mining_nickel_refining_2^*",
                "title": "Canada",
                "color": "#FB9A99",
                "value": 0.066941284,
                "source": "nickel_mining^*",
                "time": "*",
                "type": "Canada"
              },
              {
                "opacity": 1,
                "target": "__nickel_mining_nickel_refining_2^*",
                "title": "China",
                "color": "#FDBF6F",
                "value": 0.038733317,
                "source": "nickel_mining^*",
                "time": "*",
                "type": "China"
              },
              {
                "opacity": 1,
                "target": "__nickel_mining_nickel_refining_2^*",
                "title": "Guatemala",
                "color": "#1F78B4",
                "value": 0.020352069,
                "source": "nickel_mining^*",
                "time": "*",
                "type": "Guatemala"
              },
              {
                "opacity": 1,
                "target": "__nickel_mining_nickel_refining_2^*",
                "title": "Indonesia",
                "color": "#FDBF6F",
                "value": 0.383432972,
                "source": "nickel_mining^*",
                "time": "*",
                "type": "Indonesia"
              },
              {
                "opacity": 1,
                "target": "__nickel_mining_nickel_refining_2^*",
                "title": "New Caledonia",
                "color": "#33A02C",
                "value": 0.077541011,
                "source": "nickel_mining^*",
                "time": "*",
                "type": "New Caledonia"
              },
              {
                "opacity": 1,
                "target": "__nickel_mining_nickel_refining_2^*",
                "title": "Philippines",
                "color": "#FDBF6F",
                "value": 0.11964241,
                "source": "nickel_mining^*",
                "time": "*",
                "type": "Philippines"
              },
              {
                "opacity": 1,
                "target": "__nickel_mining_nickel_refining_2^*",
                "title": "Russia",
                "color": "#CAB2D6",
                "value": 0.0836285,
                "source": "nickel_mining^*",
                "time": "*",
                "type": "Russia"
              },
              {
                "opacity": 1,
                "target": "aluminium_refining^*",
                "title": "Australia",
                "color": "#1F78B4",
                "value": 0.304106063,
                "source": "__aluminium_mining_aluminium_refining_2^*",
                "time": "*",
                "type": "Australia"
              },
              {
                "opacity": 1,
                "target": "aluminium_refining^*",
                "title": "Brazil",
                "color": "#B2DF8A",
                "value": 0.092023503,
                "source": "__aluminium_mining_aluminium_refining_2^*",
                "time": "*",
                "type": "Brazil"
              },
              {
                "opacity": 1,
                "target": "aluminium_refining^*",
                "title": "China",
                "color": "#FDBF6F",
                "value": 0.178642215,
                "source": "__aluminium_mining_aluminium_refining_2^*",
                "time": "*",
                "type": "China"
              },
              {
                "opacity": 1,
                "target": "aluminium_refining^*",
                "title": "Guinea",
                "color": "#B2DF8A",
                "value": 0.202192232,
                "source": "__aluminium_mining_aluminium_refining_2^*",
                "time": "*",
                "type": "Guinea"
              },
              {
                "opacity": 1,
                "target": "aluminium_refining^*",
                "title": "India",
                "color": "#33A02C",
                "value": 0.063600657,
                "source": "__aluminium_mining_aluminium_refining_2^*",
                "time": "*",
                "type": "India"
              },
              {
                "opacity": 1,
                "target": "aluminium_refining^*",
                "title": "Indonesia",
                "color": "#FDBF6F",
                "value": 0.047809091,
                "source": "__aluminium_mining_aluminium_refining_2^*",
                "time": "*",
                "type": "Indonesia"
              },
              {
                "opacity": 1,
                "target": "aluminium_refining^*",
                "title": "Jamaica",
                "color": "#CAB2D6",
                "value": 0.025996148,
                "source": "__aluminium_mining_aluminium_refining_2^*",
                "time": "*",
                "type": "Jamaica"
              },
              {
                "opacity": 1,
                "target": "__graphite_pro_graphite_3^*",
                "title": "Brazil  ",
                "color": "#33A02C",
                "value": 0.084781088,
                "source": "__graphite_pro_graphite_2^*",
                "time": "*",
                "type": "Brazil  "
              },
              {
                "opacity": 1,
                "target": "__graphite_pro_graphite_3^*",
                "title": "China  ",
                "color": "#FF7F00",
                "value": 0.618195435,
                "source": "__graphite_pro_graphite_2^*",
                "time": "*",
                "type": "China  "
              },
              {
                "opacity": 1,
                "target": "__graphite_pro_graphite_3^*",
                "title": "India  ",
                "color": "#E31A1C",
                "value": 0.029086978,
                "source": "__graphite_pro_graphite_2^*",
                "time": "*",
                "type": "India  "
              },
              {
                "opacity": 1,
                "target": "__graphite_pro_graphite_3^*",
                "title": "Korea, Dem. P.R. of",
                "color": "#FFFF99",
                "value": 0.035325453,
                "source": "__graphite_pro_graphite_2^*",
                "time": "*",
                "type": "Korea, Dem. P.R. of"
              },
              {
                "opacity": 1,
                "target": "__graphite_pro_graphite_3^*",
                "title": "Madagascar",
                "color": "#B15928",
                "value": 0.04715948,
                "source": "__graphite_pro_graphite_2^*",
                "time": "*",
                "type": "Madagascar"
              },
              {
                "opacity": 1,
                "target": "__graphite_pro_graphite_3^*",
                "title": "Mozambique",
                "color": "#B2DF8A",
                "value": 0.100503564,
                "source": "__graphite_pro_graphite_2^*",
                "time": "*",
                "type": "Mozambique"
              },
              {
                "opacity": 1,
                "target": "copper_refining^*",
                "title": "Australia",
                "color": "#1F78B4",
                "value": 0.024612204,
                "source": "copper_smelting^*",
                "time": "*",
                "type": "Australia"
              },
              {
                "opacity": 1,
                "target": "copper_refining^*",
                "title": "Chile",
                "color": "#E31A1C",
                "value": 0.062021647,
                "source": "copper_smelting^*",
                "time": "*",
                "type": "Chile"
              },
              {
                "opacity": 1,
                "target": "copper_refining^*",
                "title": "China",
                "color": "#FDBF6F",
                "value": 0.434415267,
                "source": "copper_smelting^*",
                "time": "*",
                "type": "China"
              },
              {
                "opacity": 1,
                "target": "copper_refining^*",
                "title": "India",
                "color": "#33A02C",
                "value": 0.020994867,
                "source": "copper_smelting^*",
                "time": "*",
                "type": "India"
              },
              {
                "opacity": 1,
                "target": "copper_refining^*",
                "title": "Japan",
                "color": "#1F78B4",
                "value": 0.071740988,
                "source": "copper_smelting^*",
                "time": "*",
                "type": "Japan"
              },
              {
                "opacity": 1,
                "target": "copper_refining^*",
                "title": "Korea (Rep. of)",
                "color": "#B2DF8A",
                "value": 0.031894043,
                "source": "copper_smelting^*",
                "time": "*",
                "type": "Korea (Rep. of)"
              },
              {
                "opacity": 1,
                "target": "copper_refining^*",
                "title": "Poland",
                "color": "#FF7F00",
                "value": 0.03000751,
                "source": "copper_smelting^*",
                "time": "*",
                "type": "Poland"
              },
              {
                "opacity": 1,
                "target": "copper_refining^*",
                "title": "Russia",
                "color": "#CAB2D6",
                "value": 0.048485079,
                "source": "copper_smelting^*",
                "time": "*",
                "type": "Russia"
              },
              {
                "opacity": 1,
                "target": "copper_refining^*",
                "title": "USA",
                "color": "#FFFF99",
                "value": 0.028581969,
                "source": "copper_smelting^*",
                "time": "*",
                "type": "USA"
              },
              {
                "opacity": 1,
                "target": "copper_refining^*",
                "title": "Zambia  (a)",
                "color": "#33A02C",
                "value": 0.039162205,
                "source": "copper_smelting^*",
                "time": "*",
                "type": "Zambia  (a)"
              },
              {
                "opacity": 1,
                "target": "cobalt_refining^*",
                "title": "Australia",
                "color": "#1F78B4",
                "value": 0.046233433,
                "source": "__cobalt_mining_cobalt_refining_2^*",
                "time": "*",
                "type": "Australia"
              },
              {
                "opacity": 1,
                "target": "cobalt_refining^*",
                "title": "Canada",
                "color": "#FB9A99",
                "value": 0.041677495,
                "source": "__cobalt_mining_cobalt_refining_2^*",
                "time": "*",
                "type": "Canada"
              },
              {
                "opacity": 1,
                "target": "cobalt_refining^*",
                "title": "Congo",
                "color": "#CAB2D6",
                "value": 0.633153586,
                "source": "__cobalt_mining_cobalt_refining_2^*",
                "time": "*",
                "type": "Congo"
              },
              {
                "opacity": 1,
                "target": "cobalt_refining^*",
                "title": "Cuba",
                "color": "#FFFF99",
                "value": 0.04222973,
                "source": "__cobalt_mining_cobalt_refining_2^*",
                "time": "*",
                "type": "Cuba"
              },
              {
                "opacity": 1,
                "target": "cobalt_refining^*",
                "title": "Madagascar",
                "color": "#B15928",
                "value": 0.023794828,
                "source": "__cobalt_mining_cobalt_refining_2^*",
                "time": "*",
                "type": "Madagascar"
              },
              {
                "opacity": 1,
                "target": "cobalt_refining^*",
                "title": "Papua New Guinea",
                "color": "#FB9A99",
                "value": 0.023673012,
                "source": "__cobalt_mining_cobalt_refining_2^*",
                "time": "*",
                "type": "Papua New Guinea"
              },
              {
                "opacity": 1,
                "target": "cobalt_refining^*",
                "title": "Philippines",
                "color": "#FDBF6F",
                "value": 0.054411383,
                "source": "__cobalt_mining_cobalt_refining_2^*",
                "time": "*",
                "type": "Philippines"
              },
              {
                "opacity": 1,
                "target": "cobalt_refining^*",
                "title": "Russia",
                "color": "#CAB2D6",
                "value": 0.04466606,
                "source": "__cobalt_mining_cobalt_refining_2^*",
                "time": "*",
                "type": "Russia"
              },
              {
                "opacity": 1,
                "target": "lithium_refining^*",
                "title": "Argentina",
                "color": "#A6CEE3",
                "value": 0.073170732,
                "source": "__lithium_mining_lithium_refining_2^*",
                "time": "*",
                "type": "Argentina"
              },
              {
                "opacity": 1,
                "target": "lithium_refining^*",
                "title": "Australia",
                "color": "#1F78B4",
                "value": 0.522648084,
                "source": "__lithium_mining_lithium_refining_2^*",
                "time": "*",
                "type": "Australia"
              },
              {
                "opacity": 1,
                "target": "lithium_refining^*",
                "title": "Brazil",
                "color": "#B2DF8A",
                "value": 0.027874564,
                "source": "__lithium_mining_lithium_refining_2^*",
                "time": "*",
                "type": "Brazil"
              },
              {
                "opacity": 1,
                "target": "lithium_refining^*",
                "title": "Chile",
                "color": "#E31A1C",
                "value": 0.224157956,
                "source": "__lithium_mining_lithium_refining_2^*",
                "time": "*",
                "type": "Chile"
              },
              {
                "opacity": 1,
                "target": "lithium_refining^*",
                "title": "China",
                "color": "#FDBF6F",
                "value": 0.12543554,
                "source": "__lithium_mining_lithium_refining_2^*",
                "time": "*",
                "type": "China"
              },
              {
                "opacity": 1,
                "target": "manganese_refining^*",
                "title": "Australia",
                "color": "#1F78B4",
                "value": 0.117504816,
                "source": "__manganese_mining_manganese_refining_2^*",
                "time": "*",
                "type": "Australia"
              },
              {
                "opacity": 1,
                "target": "manganese_refining^*",
                "title": "Brazil",
                "color": "#B2DF8A",
                "value": 0.056548501,
                "source": "__manganese_mining_manganese_refining_2^*",
                "time": "*",
                "type": "Brazil"
              },
              {
                "opacity": 1,
                "target": "manganese_refining^*",
                "title": "China",
                "color": "#FDBF6F",
                "value": 0.114864143,
                "source": "__manganese_mining_manganese_refining_2^*",
                "time": "*",
                "type": "China"
              },
              {
                "opacity": 1,
                "target": "manganese_refining^*",
                "title": "Gabon",
                "color": "#B15928",
                "value": 0.126986728,
                "source": "__manganese_mining_manganese_refining_2^*",
                "time": "*",
                "type": "Gabon"
              },
              {
                "opacity": 1,
                "target": "manganese_refining^*",
                "title": "Ghana",
                "color": "#A6CEE3",
                "value": 0.095125429,
                "source": "__manganese_mining_manganese_refining_2^*",
                "time": "*",
                "type": "Ghana"
              },
              {
                "opacity": 1,
                "target": "manganese_refining^*",
                "title": "India ",
                "color": "#FB9A99",
                "value": 0.05223977,
                "source": "__manganese_mining_manganese_refining_2^*",
                "time": "*",
                "type": "India "
              },
              {
                "opacity": 1,
                "target": "manganese_refining^*",
                "title": "Ivory Coast",
                "color": "#FF7F00",
                "value": 0.021205688,
                "source": "__manganese_mining_manganese_refining_2^*",
                "time": "*",
                "type": "Ivory Coast"
              },
              {
                "opacity": 1,
                "target": "manganese_refining^*",
                "title": "Malaysia",
                "color": "#A6CEE3",
                "value": 0.019981925,
                "source": "__manganese_mining_manganese_refining_2^*",
                "time": "*",
                "type": "Malaysia"
              },
              {
                "opacity": 1,
                "target": "manganese_refining^*",
                "title": "South Africa",
                "color": "#6A3D9A",
                "value": 0.300572089,
                "source": "__manganese_mining_manganese_refining_2^*",
                "time": "*",
                "type": "South Africa"
              },
              {
                "opacity": 1,
                "target": "manganese_refining^*",
                "title": "Ukraine",
                "color": "#B15928",
                "value": 0.032767029,
                "source": "__manganese_mining_manganese_refining_2^*",
                "time": "*",
                "type": "Ukraine"
              },
              {
                "opacity": 1,
                "target": "nickel_refining^*",
                "title": "Australia",
                "color": "#1F78B4",
                "value": 0.058743841,
                "source": "__nickel_mining_nickel_refining_2^*",
                "time": "*",
                "type": "Australia"
              },
              {
                "opacity": 1,
                "target": "nickel_refining^*",
                "title": "Brazil",
                "color": "#B2DF8A",
                "value": 0.020611095,
                "source": "__nickel_mining_nickel_refining_2^*",
                "time": "*",
                "type": "Brazil"
              },
              {
                "opacity": 1,
                "target": "nickel_refining^*",
                "title": "Canada",
                "color": "#FB9A99",
                "value": 0.066941284,
                "source": "__nickel_mining_nickel_refining_2^*",
                "time": "*",
                "type": "Canada"
              },
              {
                "opacity": 1,
                "target": "nickel_refining^*",
                "title": "China",
                "color": "#FDBF6F",
                "value": 0.038733317,
                "source": "__nickel_mining_nickel_refining_2^*",
                "time": "*",
                "type": "China"
              },
              {
                "opacity": 1,
                "target": "nickel_refining^*",
                "title": "Guatemala",
                "color": "#1F78B4",
                "value": 0.020352069,
                "source": "__nickel_mining_nickel_refining_2^*",
                "time": "*",
                "type": "Guatemala"
              },
              {
                "opacity": 1,
                "target": "nickel_refining^*",
                "title": "Indonesia",
                "color": "#FDBF6F",
                "value": 0.383432972,
                "source": "__nickel_mining_nickel_refining_2^*",
                "time": "*",
                "type": "Indonesia"
              },
              {
                "opacity": 1,
                "target": "nickel_refining^*",
                "title": "New Caledonia",
                "color": "#33A02C",
                "value": 0.077541011,
                "source": "__nickel_mining_nickel_refining_2^*",
                "time": "*",
                "type": "New Caledonia"
              },
              {
                "opacity": 1,
                "target": "nickel_refining^*",
                "title": "Philippines",
                "color": "#FDBF6F",
                "value": 0.11964241,
                "source": "__nickel_mining_nickel_refining_2^*",
                "time": "*",
                "type": "Philippines"
              },
              {
                "opacity": 1,
                "target": "nickel_refining^*",
                "title": "Russia",
                "color": "#CAB2D6",
                "value": 0.0836285,
                "source": "__nickel_mining_nickel_refining_2^*",
                "time": "*",
                "type": "Russia"
              },
              {
                "opacity": 1,
                "target": "aluminium_primary^*",
                "title": "Australia",
                "color": "#1F78B4",
                "value": 0.154306624,
                "source": "aluminium_refining^*",
                "time": "*",
                "type": "Australia"
              },
              {
                "opacity": 1,
                "target": "aluminium_primary^*",
                "title": "Brazil",
                "color": "#B2DF8A",
                "value": 0.069919529,
                "source": "aluminium_refining^*",
                "time": "*",
                "type": "Brazil"
              },
              {
                "opacity": 1,
                "target": "aluminium_primary^*",
                "title": "China",
                "color": "#FDBF6F",
                "value": 0.544929561,
                "source": "aluminium_refining^*",
                "time": "*",
                "type": "China"
              },
              {
                "opacity": 1,
                "target": "aluminium_primary^*",
                "title": "India",
                "color": "#33A02C",
                "value": 0.051131343,
                "source": "aluminium_refining^*",
                "time": "*",
                "type": "India"
              },
              {
                "opacity": 1,
                "target": "aluminium_primary^*",
                "title": "Russia",
                "color": "#CAB2D6",
                "value": 0.021004525,
                "source": "aluminium_refining^*",
                "time": "*",
                "type": "Russia"
              },
              {
                "opacity": 1,
                "target": "__graphite_pro_graphite_4^*",
                "title": "Brazil  ",
                "color": "#33A02C",
                "value": 0.084781088,
                "source": "__graphite_pro_graphite_3^*",
                "time": "*",
                "type": "Brazil  "
              },
              {
                "opacity": 1,
                "target": "__graphite_pro_graphite_4^*",
                "title": "China  ",
                "color": "#FF7F00",
                "value": 0.618195435,
                "source": "__graphite_pro_graphite_3^*",
                "time": "*",
                "type": "China  "
              },
              {
                "opacity": 1,
                "target": "__graphite_pro_graphite_4^*",
                "title": "India  ",
                "color": "#E31A1C",
                "value": 0.029086978,
                "source": "__graphite_pro_graphite_3^*",
                "time": "*",
                "type": "India  "
              },
              {
                "opacity": 1,
                "target": "__graphite_pro_graphite_4^*",
                "title": "Korea, Dem. P.R. of",
                "color": "#FFFF99",
                "value": 0.035325453,
                "source": "__graphite_pro_graphite_3^*",
                "time": "*",
                "type": "Korea, Dem. P.R. of"
              },
              {
                "opacity": 1,
                "target": "__graphite_pro_graphite_4^*",
                "title": "Madagascar",
                "color": "#B15928",
                "value": 0.04715948,
                "source": "__graphite_pro_graphite_3^*",
                "time": "*",
                "type": "Madagascar"
              },
              {
                "opacity": 1,
                "target": "__graphite_pro_graphite_4^*",
                "title": "Mozambique",
                "color": "#B2DF8A",
                "value": 0.100503564,
                "source": "__graphite_pro_graphite_3^*",
                "time": "*",
                "type": "Mozambique"
              },
              {
                "opacity": 1,
                "target": "__copper_refining_copper_4^*",
                "title": "Australia",
                "color": "#1F78B4",
                "value": 0.024612204,
                "source": "copper_refining^*",
                "time": "*",
                "type": "Australia"
              },
              {
                "opacity": 1,
                "target": "__copper_refining_copper_4^*",
                "title": "Chile",
                "color": "#E31A1C",
                "value": 0.062021647,
                "source": "copper_refining^*",
                "time": "*",
                "type": "Chile"
              },
              {
                "opacity": 1,
                "target": "__copper_refining_copper_4^*",
                "title": "China",
                "color": "#FDBF6F",
                "value": 0.434415267,
                "source": "copper_refining^*",
                "time": "*",
                "type": "China"
              },
              {
                "opacity": 1,
                "target": "__copper_refining_copper_4^*",
                "title": "India",
                "color": "#33A02C",
                "value": 0.020994867,
                "source": "copper_refining^*",
                "time": "*",
                "type": "India"
              },
              {
                "opacity": 1,
                "target": "__copper_refining_copper_4^*",
                "title": "Japan",
                "color": "#1F78B4",
                "value": 0.071740988,
                "source": "copper_refining^*",
                "time": "*",
                "type": "Japan"
              },
              {
                "opacity": 1,
                "target": "__copper_refining_copper_4^*",
                "title": "Korea (Rep. of)",
                "color": "#B2DF8A",
                "value": 0.031894043,
                "source": "copper_refining^*",
                "time": "*",
                "type": "Korea (Rep. of)"
              },
              {
                "opacity": 1,
                "target": "__copper_refining_copper_4^*",
                "title": "Poland",
                "color": "#FF7F00",
                "value": 0.03000751,
                "source": "copper_refining^*",
                "time": "*",
                "type": "Poland"
              },
              {
                "opacity": 1,
                "target": "__copper_refining_copper_4^*",
                "title": "Russia",
                "color": "#CAB2D6",
                "value": 0.048485079,
                "source": "copper_refining^*",
                "time": "*",
                "type": "Russia"
              },
              {
                "opacity": 1,
                "target": "__copper_refining_copper_4^*",
                "title": "USA",
                "color": "#FFFF99",
                "value": 0.028581969,
                "source": "copper_refining^*",
                "time": "*",
                "type": "USA"
              },
              {
                "opacity": 1,
                "target": "__copper_refining_copper_4^*",
                "title": "Zambia  (a)",
                "color": "#33A02C",
                "value": 0.039162205,
                "source": "copper_refining^*",
                "time": "*",
                "type": "Zambia  (a)"
              },
              {
                "opacity": 1,
                "target": "cobalt^*",
                "title": "Australia",
                "color": "#1F78B4",
                "value": 0.027227905,
                "source": "cobalt_refining^*",
                "time": "*",
                "type": "Australia"
              },
              {
                "opacity": 1,
                "target": "cobalt^*",
                "title": "Belgium",
                "color": "#FB9A99",
                "value": 0.047832806,
                "source": "cobalt_refining^*",
                "time": "*",
                "type": "Belgium"
              },
              {
                "opacity": 1,
                "target": "cobalt^*",
                "title": "Canada",
                "color": "#FB9A99",
                "value": 0.044705276,
                "source": "cobalt_refining^*",
                "time": "*",
                "type": "Canada"
              },
              {
                "opacity": 1,
                "target": "cobalt^*",
                "title": "China",
                "color": "#FDBF6F",
                "value": 0.632864817,
                "source": "cobalt_refining^*",
                "time": "*",
                "type": "China"
              },
              {
                "opacity": 1,
                "target": "cobalt^*",
                "title": "Finland",
                "color": "#E31A1C",
                "value": 0.092177497,
                "source": "cobalt_refining^*",
                "time": "*",
                "type": "Finland"
              },
              {
                "opacity": 1,
                "target": "cobalt^*",
                "title": "Japan",
                "color": "#1F78B4",
                "value": 0.04341747,
                "source": "cobalt_refining^*",
                "time": "*",
                "type": "Japan"
              },
              {
                "opacity": 1,
                "target": "cobalt^*",
                "title": "Madagascar",
                "color": "#B15928",
                "value": 0.02134079,
                "source": "cobalt_refining^*",
                "time": "*",
                "type": "Madagascar"
              },
              {
                "opacity": 1,
                "target": "cobalt^*",
                "title": "Norway",
                "color": "#FDBF6F",
                "value": 0.032040621,
                "source": "cobalt_refining^*",
                "time": "*",
                "type": "Norway"
              },
              {
                "opacity": 1,
                "target": "lithium^*",
                "title": "Argentina",
                "color": "#A6CEE3",
                "value": 0.113855593,
                "source": "lithium_refining^*",
                "time": "*",
                "type": "Argentina"
              },
              {
                "opacity": 1,
                "target": "lithium^*",
                "title": "Australia",
                "color": "#1F78B4",
                "value": 0.184414434,
                "source": "lithium_refining^*",
                "time": "*",
                "type": "Australia"
              },
              {
                "opacity": 1,
                "target": "lithium^*",
                "title": "Chile",
                "color": "#E31A1C",
                "value": 0.310857396,
                "source": "lithium_refining^*",
                "time": "*",
                "type": "Chile"
              },
              {
                "opacity": 1,
                "target": "lithium^*",
                "title": "China",
                "color": "#FDBF6F",
                "value": 0.342547203,
                "source": "lithium_refining^*",
                "time": "*",
                "type": "China"
              },
              {
                "opacity": 1,
                "target": "lithium^*",
                "title": "USA",
                "color": "#FFFF99",
                "value": 0.035674753,
                "source": "lithium_refining^*",
                "time": "*",
                "type": "USA"
              },
              {
                "opacity": 1,
                "target": "manganese^*",
                "title": "China",
                "color": "#FDBF6F",
                "value": 0.568617685,
                "source": "manganese_refining^*",
                "time": "*",
                "type": "China"
              },
              {
                "opacity": 1,
                "target": "manganese^*",
                "title": "Gabon",
                "color": "#B15928",
                "value": 0.02736654,
                "source": "manganese_refining^*",
                "time": "*",
                "type": "Gabon"
              },
              {
                "opacity": 1,
                "target": "manganese^*",
                "title": "India",
                "color": "#33A02C",
                "value": 0.092332405,
                "source": "manganese_refining^*",
                "time": "*",
                "type": "India"
              },
              {
                "opacity": 1,
                "target": "manganese^*",
                "title": "Japan",
                "color": "#1F78B4",
                "value": 0.036131113,
                "source": "manganese_refining^*",
                "time": "*",
                "type": "Japan"
              },
              {
                "opacity": 1,
                "target": "manganese^*",
                "title": "Korea",
                "color": "#FF7F00",
                "value": 0.031459786,
                "source": "manganese_refining^*",
                "time": "*",
                "type": "Korea"
              },
              {
                "opacity": 1,
                "target": "manganese^*",
                "title": "Russia",
                "color": "#CAB2D6",
                "value": 0.026057489,
                "source": "manganese_refining^*",
                "time": "*",
                "type": "Russia"
              },
              {
                "opacity": 1,
                "target": "manganese^*",
                "title": "South Africa",
                "color": "#6A3D9A",
                "value": 0.048102513,
                "source": "manganese_refining^*",
                "time": "*",
                "type": "South Africa"
              },
              {
                "opacity": 1,
                "target": "nickel^*",
                "title": "Australia",
                "color": "#1F78B4",
                "value": 0.042729606,
                "source": "nickel_refining^*",
                "time": "*",
                "type": "Australia"
              },
              {
                "opacity": 1,
                "target": "nickel^*",
                "title": "Brazil",
                "color": "#B2DF8A",
                "value": 0.021792219,
                "source": "nickel_refining^*",
                "time": "*",
                "type": "Brazil"
              },
              {
                "opacity": 1,
                "target": "nickel^*",
                "title": "Canada",
                "color": "#FB9A99",
                "value": 0.0500603,
                "source": "nickel_refining^*",
                "time": "*",
                "type": "Canada"
              },
              {
                "opacity": 1,
                "target": "nickel^*",
                "title": "China",
                "color": "#FDBF6F",
                "value": 0.323471986,
                "source": "nickel_refining^*",
                "time": "*",
                "type": "China"
              },
              {
                "opacity": 1,
                "target": "nickel^*",
                "title": "Finland",
                "color": "#E31A1C",
                "value": 0.036180302,
                "source": "nickel_refining^*",
                "time": "*",
                "type": "Finland"
              },
              {
                "opacity": 1,
                "target": "nickel^*",
                "title": "Indonesia",
                "color": "#FDBF6F",
                "value": 0.164143973,
                "source": "nickel_refining^*",
                "time": "*",
                "type": "Indonesia"
              },
              {
                "opacity": 1,
                "target": "nickel^*",
                "title": "Japan",
                "color": "#1F78B4",
                "value": 0.073322992,
                "source": "nickel_refining^*",
                "time": "*",
                "type": "Japan"
              },
              {
                "opacity": 1,
                "target": "nickel^*",
                "title": "New Caledonia",
                "color": "#33A02C",
                "value": 0.035285336,
                "source": "nickel_refining^*",
                "time": "*",
                "type": "New Caledonia"
              },
              {
                "opacity": 1,
                "target": "nickel^*",
                "title": "Norway",
                "color": "#FDBF6F",
                "value": 0.036975336,
                "source": "nickel_refining^*",
                "time": "*",
                "type": "Norway"
              },
              {
                "opacity": 1,
                "target": "nickel^*",
                "title": "Russia",
                "color": "#CAB2D6",
                "value": 0.090820981,
                "source": "nickel_refining^*",
                "time": "*",
                "type": "Russia"
              },
              {
                "opacity": 1,
                "target": "aluminium^*",
                "title": "Australia",
                "color": "#1F78B4",
                "value": 0.024973541,
                "source": "aluminium_primary^*",
                "time": "*",
                "type": "Australia"
              },
              {
                "opacity": 1,
                "target": "aluminium^*",
                "title": "Bahrain",
                "color": "#CAB2D6",
                "value": 0.021718402,
                "source": "aluminium_primary^*",
                "time": "*",
                "type": "Bahrain"
              },
              {
                "opacity": 1,
                "target": "aluminium^*",
                "title": "Canada",
                "color": "#FB9A99",
                "value": 0.045405948,
                "source": "aluminium_primary^*",
                "time": "*",
                "type": "Canada"
              },
              {
                "opacity": 1,
                "target": "aluminium^*",
                "title": "China",
                "color": "#FDBF6F",
                "value": 0.557573841,
                "source": "aluminium_primary^*",
                "time": "*",
                "type": "China"
              },
              {
                "opacity": 1,
                "target": "aluminium^*",
                "title": "India",
                "color": "#33A02C",
                "value": 0.057737866,
                "source": "aluminium_primary^*",
                "time": "*",
                "type": "India"
              },
              {
                "opacity": 1,
                "target": "aluminium^*",
                "title": "Norway",
                "color": "#FDBF6F",
                "value": 0.020684117,
                "source": "aluminium_primary^*",
                "time": "*",
                "type": "Norway"
              },
              {
                "opacity": 1,
                "target": "aluminium^*",
                "title": "Russia",
                "color": "#CAB2D6",
                "value": 0.057867794,
                "source": "aluminium_primary^*",
                "time": "*",
                "type": "Russia"
              },
              {
                "opacity": 1,
                "target": "aluminium^*",
                "title": "United Arab Emirates",
                "color": "#6A3D9A",
                "value": 0.041368233,
                "source": "aluminium_primary^*",
                "time": "*",
                "type": "United Arab Emirates"
              },
              {
                "opacity": 1,
                "target": "graphite^*",
                "title": "Brazil  ",
                "color": "#33A02C",
                "value": 0.084781088,
                "source": "__graphite_pro_graphite_4^*",
                "time": "*",
                "type": "Brazil  "
              },
              {
                "opacity": 1,
                "target": "graphite^*",
                "title": "China  ",
                "color": "#FF7F00",
                "value": 0.618195435,
                "source": "__graphite_pro_graphite_4^*",
                "time": "*",
                "type": "China  "
              },
              {
                "opacity": 1,
                "target": "graphite^*",
                "title": "India  ",
                "color": "#E31A1C",
                "value": 0.029086978,
                "source": "__graphite_pro_graphite_4^*",
                "time": "*",
                "type": "India  "
              },
              {
                "opacity": 1,
                "target": "graphite^*",
                "title": "Korea, Dem. P.R. of",
                "color": "#FFFF99",
                "value": 0.035325453,
                "source": "__graphite_pro_graphite_4^*",
                "time": "*",
                "type": "Korea, Dem. P.R. of"
              },
              {
                "opacity": 1,
                "target": "graphite^*",
                "title": "Madagascar",
                "color": "#B15928",
                "value": 0.04715948,
                "source": "__graphite_pro_graphite_4^*",
                "time": "*",
                "type": "Madagascar"
              },
              {
                "opacity": 1,
                "target": "graphite^*",
                "title": "Mozambique",
                "color": "#B2DF8A",
                "value": 0.100503564,
                "source": "__graphite_pro_graphite_4^*",
                "time": "*",
                "type": "Mozambique"
              },
              {
                "opacity": 1,
                "target": "copper^*",
                "title": "Australia",
                "color": "#1F78B4",
                "value": 0.024612204,
                "source": "__copper_refining_copper_4^*",
                "time": "*",
                "type": "Australia"
              },
              {
                "opacity": 1,
                "target": "copper^*",
                "title": "Chile",
                "color": "#E31A1C",
                "value": 0.062021647,
                "source": "__copper_refining_copper_4^*",
                "time": "*",
                "type": "Chile"
              },
              {
                "opacity": 1,
                "target": "copper^*",
                "title": "China",
                "color": "#FDBF6F",
                "value": 0.434415267,
                "source": "__copper_refining_copper_4^*",
                "time": "*",
                "type": "China"
              },
              {
                "opacity": 1,
                "target": "copper^*",
                "title": "India",
                "color": "#33A02C",
                "value": 0.020994867,
                "source": "__copper_refining_copper_4^*",
                "time": "*",
                "type": "India"
              },
              {
                "opacity": 1,
                "target": "copper^*",
                "title": "Japan",
                "color": "#1F78B4",
                "value": 0.071740988,
                "source": "__copper_refining_copper_4^*",
                "time": "*",
                "type": "Japan"
              },
              {
                "opacity": 1,
                "target": "copper^*",
                "title": "Korea (Rep. of)",
                "color": "#B2DF8A",
                "value": 0.031894043,
                "source": "__copper_refining_copper_4^*",
                "time": "*",
                "type": "Korea (Rep. of)"
              },
              {
                "opacity": 1,
                "target": "copper^*",
                "title": "Poland",
                "color": "#FF7F00",
                "value": 0.03000751,
                "source": "__copper_refining_copper_4^*",
                "time": "*",
                "type": "Poland"
              },
              {
                "opacity": 1,
                "target": "copper^*",
                "title": "Russia",
                "color": "#CAB2D6",
                "value": 0.048485079,
                "source": "__copper_refining_copper_4^*",
                "time": "*",
                "type": "Russia"
              },
              {
                "opacity": 1,
                "target": "copper^*",
                "title": "USA",
                "color": "#FFFF99",
                "value": 0.028581969,
                "source": "__copper_refining_copper_4^*",
                "time": "*",
                "type": "USA"
              },
              {
                "opacity": 1,
                "target": "copper^*",
                "title": "Zambia  (a)",
                "color": "#33A02C",
                "value": 0.039162205,
                "source": "__copper_refining_copper_4^*",
                "time": "*",
                "type": "Zambia  (a)"
              },
              {
                "opacity": 1,
                "target": "AM^*",
                "title": "Cobalt Sulfate",
                "color": "#FFFF99",
                "value": 0.336905486,
                "source": "cobalt^*",
                "time": "*",
                "type": "Cobalt Sulfate"
              },
              {
                "opacity": 1,
                "target": "AM^*",
                "title": "Lithium Carbonate",
                "color": "#B15928",
                "value": 0.381159211,
                "source": "lithium^*",
                "time": "*",
                "type": "Lithium Carbonate"
              },
              {
                "opacity": 1,
                "target": "AM^*",
                "title": "Manganese Sulfate",
                "color": "#A6CEE3",
                "value": 0.328232328,
                "source": "manganese^*",
                "time": "*",
                "type": "Manganese Sulfate"
              },
              {
                "opacity": 1,
                "target": "AM^*",
                "title": "Nickel Sulfate",
                "color": "#1F78B4",
                "value": 1.009151378,
                "source": "nickel^*",
                "time": "*",
                "type": "Nickel Sulfate"
              },
              {
                "opacity": 1,
                "target": "AM^*",
                "title": "Sodium Hydroxide",
                "color": "#B2DF8A",
                "value": 0.889536,
                "source": "sodium^*",
                "time": "*",
                "type": "Sodium Hydroxide"
              },
              {
                "opacity": 1,
                "target": "AM^*",
                "title": "Ammonium Hydroxide",
                "color": "#33A02C",
                "value": 0.123529412,
                "source": "ammonium^*",
                "time": "*",
                "type": "Ammonium Hydroxide"
              },
              {
                "opacity": 1,
                "target": "AM^*",
                "title": "Precursor Co-precipitation ",
                "color": "#FB9A99",
                "value": 0.949240673,
                "source": "precipitation^*",
                "time": "*",
                "type": "Precursor Co-precipitation "
              },
              {
                "opacity": 1,
                "target": "NMC622^NMC622",
                "title": "Wrought Aluminum",
                "color": "#E31A1C",
                "value": 0.178450675,
                "source": "aluminium^*",
                "time": "*",
                "type": "Wrought Aluminum"
              },
              {
                "opacity": 1,
                "target": "NMC622^NMC622",
                "title": "Graphite/Carbon",
                "color": "#FDBF6F",
                "value": 0.220687303,
                "source": "graphite^*",
                "time": "*",
                "type": "Graphite/Carbon"
              },
              {
                "opacity": 1,
                "target": "NMC622^NMC622",
                "title": "Copper",
                "color": "#FF7F00",
                "value": 0.070813626,
                "source": "copper^*",
                "time": "*",
                "type": "Copper"
              },
              {
                "opacity": 1,
                "target": "NMC622^NMC622",
                "title": "Active Material",
                "color": "#CAB2D6",
                "value": 0.360960805,
                "source": "AM^*",
                "time": "*",
                "type": "Active Material"
              },
              {
                "opacity": 1,
                "target": "NMC622^NMC622",
                "title": "Binder",
                "color": "#6A3D9A",
                "value": 0.01187037,
                "source": "binder^*",
                "time": "*",
                "type": "Binder"
              },
              {
                "opacity": 1,
                "target": "NMC622^NMC622",
                "title": "Electrolyte: Dimethyl Carbonate",
                "color": "#FFFF99",
                "value": 0.038142597,
                "source": "electrolyte^*",
                "time": "*",
                "type": "Electrolyte: Dimethyl Carbonate"
              },
              {
                "opacity": 1,
                "target": "NMC622^NMC622",
                "title": "Electrolyte: Ethylene Carbonate",
                "color": "#B15928",
                "value": 0.038142597,
                "source": "electrolyte^*",
                "time": "*",
                "type": "Electrolyte: Ethylene Carbonate"
              },
              {
                "opacity": 1,
                "target": "NMC622^NMC622",
                "title": "Electrolyte: LiPF6",
                "color": "#A6CEE3",
                "value": 0.013663154,
                "source": "electrolyte^*",
                "time": "*",
                "type": "Electrolyte: LiPF6"
              },
              {
                "opacity": 1,
                "target": "NMC622^NMC622",
                "title": "Plastic: Polyethylene",
                "color": "#1F78B4",
                "value": 0.00182318,
                "source": "plastic^*",
                "time": "*",
                "type": "Plastic: Polyethylene"
              },
              {
                "opacity": 1,
                "target": "NMC622^NMC622",
                "title": "Plastic: Polyethylene Terephthalate",
                "color": "#B2DF8A",
                "value": 0.001888902,
                "source": "plastic^*",
                "time": "*",
                "type": "Plastic: Polyethylene Terephthalate"
              },
              {
                "opacity": 1,
                "target": "NMC622^NMC622",
                "title": "Plastic: Polypropylene",
                "color": "#33A02C",
                "value": 0.006309301,
                "source": "plastic^*",
                "time": "*",
                "type": "Plastic: Polypropylene"
              },
              {
                "opacity": 1,
                "target": "NMC622^NMC622",
                "title": "Steel",
                "color": "#FB9A99",
                "value": 0.005989053,
                "source": "steel^*",
                "time": "*",
                "type": "Steel"
              },
              {
                "opacity": 1,
                "target": "NMC622^NMC622",
                "title": "Coolant: Glycol",
                "color": "#E31A1C",
                "value": 0.02946172,
                "source": "other^*",
                "time": "*",
                "type": "Coolant: Glycol"
              },
              {
                "opacity": 1,
                "target": "NMC622^NMC622",
                "title": "Electronic Parts",
                "color": "#FDBF6F",
                "value": 0.018216868,
                "source": "other^*",
                "time": "*",
                "type": "Electronic Parts"
              },
              {
                "opacity": 1,
                "target": "NMC622^NMC622",
                "title": "Thermal Insulation",
                "color": "#FF7F00",
                "value": 0.00357985,
                "source": "other^*",
                "time": "*",
                "type": "Thermal Insulation"
              }
            ],
            "_view_module": "jupyter-sankey-widget",
            "_model_module_version": "^0.4.1",
            "_view_count": null,
            "linkLabelFormat": "",
            "margins": {
              "top": 25,
              "left": 130,
              "right": 130,
              "bottom": 10
            },
            "_model_module": "jupyter-sankey-widget",
            "scale": 33.179248153238234,
            "layout": "IPY_MODEL_307e4eb225ef4263996ae4f17178e3cf",
            "linkLabelMinWidth": 5,
            "nodes": [
              {
                "direction": "r",
                "hidden": false,
                "type": "process",
                "id": "sources^Argentina",
                "title": "Argentina"
              },
              {
                "direction": "r",
                "hidden": false,
                "type": "process",
                "id": "sources^Australia",
                "title": "Australia"
              },
              {
                "direction": "r",
                "hidden": false,
                "type": "process",
                "id": "sources^Brazil",
                "title": "Brazil"
              },
              {
                "direction": "r",
                "hidden": false,
                "type": "process",
                "id": "sources^Brazil  ",
                "title": "Brazil  "
              },
              {
                "direction": "r",
                "hidden": false,
                "type": "process",
                "id": "sources^Canada",
                "title": "Canada"
              },
              {
                "direction": "r",
                "hidden": false,
                "type": "process",
                "id": "sources^Chile",
                "title": "Chile"
              },
              {
                "direction": "r",
                "hidden": false,
                "type": "process",
                "id": "sources^China",
                "title": "China"
              },
              {
                "direction": "r",
                "hidden": false,
                "type": "process",
                "id": "sources^China  ",
                "title": "China  "
              },
              {
                "direction": "r",
                "hidden": false,
                "type": "process",
                "id": "sources^Congo",
                "title": "Congo"
              },
              {
                "direction": "r",
                "hidden": false,
                "type": "process",
                "id": "sources^Congo, Democratic Republic",
                "title": "Congo, Democratic Republic"
              },
              {
                "direction": "r",
                "hidden": false,
                "type": "process",
                "id": "sources^Cuba",
                "title": "Cuba"
              },
              {
                "direction": "r",
                "hidden": false,
                "type": "process",
                "id": "sources^Gabon",
                "title": "Gabon"
              },
              {
                "direction": "r",
                "hidden": false,
                "type": "process",
                "id": "sources^Ghana",
                "title": "Ghana"
              },
              {
                "direction": "r",
                "hidden": false,
                "type": "process",
                "id": "sources^Guatemala",
                "title": "Guatemala"
              },
              {
                "direction": "r",
                "hidden": false,
                "type": "process",
                "id": "sources^Guinea",
                "title": "Guinea"
              },
              {
                "direction": "r",
                "hidden": false,
                "type": "process",
                "id": "sources^India",
                "title": "India"
              },
              {
                "direction": "r",
                "hidden": false,
                "type": "process",
                "id": "sources^India ",
                "title": "India "
              },
              {
                "direction": "r",
                "hidden": false,
                "type": "process",
                "id": "sources^India  ",
                "title": "India  "
              },
              {
                "direction": "r",
                "hidden": false,
                "type": "process",
                "id": "sources^Indonesia",
                "title": "Indonesia"
              },
              {
                "direction": "r",
                "hidden": false,
                "type": "process",
                "id": "sources^Ivory Coast",
                "title": "Ivory Coast"
              },
              {
                "direction": "r",
                "hidden": false,
                "type": "process",
                "id": "sources^Jamaica",
                "title": "Jamaica"
              },
              {
                "direction": "r",
                "hidden": false,
                "type": "process",
                "id": "sources^Kazakhstan",
                "title": "Kazakhstan"
              },
              {
                "direction": "r",
                "hidden": false,
                "type": "process",
                "id": "sources^Korea, Dem. P.R. of",
                "title": "Korea, Dem. P.R. of"
              },
              {
                "direction": "r",
                "hidden": false,
                "type": "process",
                "id": "sources^Madagascar",
                "title": "Madagascar"
              },
              {
                "direction": "r",
                "hidden": false,
                "type": "process",
                "id": "sources^Malaysia",
                "title": "Malaysia"
              },
              {
                "direction": "r",
                "hidden": false,
                "type": "process",
                "id": "sources^Mexico",
                "title": "Mexico"
              },
              {
                "direction": "r",
                "hidden": false,
                "type": "process",
                "id": "sources^Mozambique",
                "title": "Mozambique"
              },
              {
                "direction": "r",
                "hidden": false,
                "type": "process",
                "id": "sources^New Caledonia",
                "title": "New Caledonia"
              },
              {
                "direction": "r",
                "hidden": false,
                "type": "process",
                "id": "sources^Papua New Guinea",
                "title": "Papua New Guinea"
              },
              {
                "direction": "r",
                "hidden": false,
                "type": "process",
                "id": "sources^Peru",
                "title": "Peru"
              },
              {
                "direction": "r",
                "hidden": false,
                "type": "process",
                "id": "sources^Philippines",
                "title": "Philippines"
              },
              {
                "direction": "r",
                "hidden": false,
                "type": "process",
                "id": "sources^Poland",
                "title": "Poland"
              },
              {
                "direction": "r",
                "hidden": false,
                "type": "process",
                "id": "sources^Russia",
                "title": "Russia"
              },
              {
                "direction": "r",
                "hidden": false,
                "type": "process",
                "id": "sources^South Africa",
                "title": "South Africa"
              },
              {
                "direction": "r",
                "hidden": false,
                "type": "process",
                "id": "sources^USA",
                "title": "USA"
              },
              {
                "direction": "r",
                "hidden": false,
                "type": "process",
                "id": "sources^Ukraine",
                "title": "Ukraine"
              },
              {
                "direction": "r",
                "hidden": false,
                "type": "process",
                "id": "sources^Zambia",
                "title": "Zambia"
              },
              {
                "direction": "r",
                "hidden": false,
                "type": "process",
                "id": "aluminium_mining^*",
                "title": "Aluminium mining"
              },
              {
                "direction": "r",
                "hidden": false,
                "type": "process",
                "id": "graphite_pro^*",
                "title": "Graphite production"
              },
              {
                "direction": "r",
                "hidden": false,
                "type": "process",
                "id": "copper_mining^*",
                "title": "Copper mining"
              },
              {
                "direction": "r",
                "hidden": false,
                "type": "process",
                "id": "cobalt_mining^*",
                "title": "Cobalt mining"
              },
              {
                "direction": "r",
                "hidden": false,
                "type": "process",
                "id": "lithium_mining^*",
                "title": "Lithium mining"
              },
              {
                "direction": "r",
                "hidden": false,
                "type": "process",
                "id": "manganese_mining^*",
                "title": "Manganese mining"
              },
              {
                "direction": "r",
                "hidden": false,
                "type": "process",
                "id": "nickel_mining^*",
                "title": "Nickel mining"
              },
              {
                "direction": "r",
                "hidden": true,
                "type": "group",
                "id": "__aluminium_mining_aluminium_refining_2^*",
                "title": ""
              },
              {
                "direction": "r",
                "hidden": true,
                "type": "group",
                "id": "__graphite_pro_graphite_2^*",
                "title": ""
              },
              {
                "direction": "r",
                "hidden": false,
                "type": "process",
                "id": "copper_smelting^*",
                "title": "Copper_smelting"
              },
              {
                "direction": "r",
                "hidden": true,
                "type": "group",
                "id": "__cobalt_mining_cobalt_refining_2^*",
                "title": ""
              },
              {
                "direction": "r",
                "hidden": true,
                "type": "group",
                "id": "__lithium_mining_lithium_refining_2^*",
                "title": ""
              },
              {
                "direction": "r",
                "hidden": true,
                "type": "group",
                "id": "__manganese_mining_manganese_refining_2^*",
                "title": ""
              },
              {
                "direction": "r",
                "hidden": true,
                "type": "group",
                "id": "__nickel_mining_nickel_refining_2^*",
                "title": ""
              },
              {
                "direction": "r",
                "hidden": false,
                "type": "process",
                "id": "aluminium_refining^*",
                "title": "Aluminium refining"
              },
              {
                "direction": "r",
                "hidden": true,
                "type": "group",
                "id": "__graphite_pro_graphite_3^*",
                "title": ""
              },
              {
                "direction": "r",
                "hidden": false,
                "type": "process",
                "id": "copper_refining^*",
                "title": "Copper_refining"
              },
              {
                "direction": "r",
                "hidden": false,
                "type": "process",
                "id": "cobalt_refining^*",
                "title": "Cobalt refining"
              },
              {
                "direction": "r",
                "hidden": false,
                "type": "process",
                "id": "lithium_refining^*",
                "title": "Lithium refining"
              },
              {
                "direction": "r",
                "hidden": false,
                "type": "process",
                "id": "manganese_refining^*",
                "title": "Manganese refining"
              },
              {
                "direction": "r",
                "hidden": false,
                "type": "process",
                "id": "nickel_refining^*",
                "title": "Nickel refining"
              },
              {
                "direction": "r",
                "hidden": false,
                "type": "process",
                "id": "aluminium_primary^*",
                "title": "Aluminium primary"
              },
              {
                "direction": "r",
                "hidden": true,
                "type": "group",
                "id": "__graphite_pro_graphite_4^*",
                "title": ""
              },
              {
                "direction": "r",
                "hidden": true,
                "type": "group",
                "id": "__copper_refining_copper_4^*",
                "title": ""
              },
              {
                "direction": "r",
                "hidden": false,
                "type": "process",
                "id": "cobalt^*",
                "title": "Cobalt"
              },
              {
                "direction": "r",
                "hidden": false,
                "type": "process",
                "id": "lithium^*",
                "title": "Lithium"
              },
              {
                "direction": "r",
                "hidden": false,
                "type": "process",
                "id": "manganese^*",
                "title": "Manganese"
              },
              {
                "direction": "r",
                "hidden": false,
                "type": "process",
                "id": "nickel^*",
                "title": "Nickel"
              },
              {
                "direction": "r",
                "hidden": false,
                "type": "process",
                "id": "sodium^*",
                "title": "Sodium Hydroxide"
              },
              {
                "direction": "r",
                "hidden": false,
                "type": "process",
                "id": "ammonium^*",
                "title": "Ammonium Hydroxide"
              },
              {
                "direction": "r",
                "hidden": false,
                "type": "process",
                "id": "precipitation^*",
                "title": "Precursor Co-precipitation"
              },
              {
                "direction": "r",
                "hidden": false,
                "type": "process",
                "id": "aluminium^*",
                "title": "Aluminium"
              },
              {
                "direction": "r",
                "hidden": false,
                "type": "process",
                "id": "graphite^*",
                "title": "Graphite/Carbon"
              },
              {
                "direction": "r",
                "hidden": false,
                "type": "process",
                "id": "copper^*",
                "title": "Copper"
              },
              {
                "direction": "r",
                "hidden": false,
                "type": "process",
                "id": "AM^*",
                "title": "Active material"
              },
              {
                "direction": "r",
                "hidden": false,
                "type": "process",
                "id": "binder^*",
                "title": "Binder"
              },
              {
                "direction": "r",
                "hidden": false,
                "type": "process",
                "id": "electrolyte^*",
                "title": "Electrolyte"
              },
              {
                "direction": "r",
                "hidden": false,
                "type": "process",
                "id": "plastic^*",
                "title": "Plastic"
              },
              {
                "direction": "r",
                "hidden": false,
                "type": "process",
                "id": "steel^*",
                "title": "Steel"
              },
              {
                "direction": "r",
                "hidden": false,
                "type": "process",
                "id": "other^*",
                "title": "Other"
              },
              {
                "direction": "r",
                "hidden": false,
                "type": "process",
                "id": "NMC622^NMC622",
                "title": "NMC622"
              }
            ],
            "rank_sets": [],
            "_dom_classes": [],
            "_model_name": "SankeyModel",
            "groups": [
              {
                "nodes": [
                  "sources^Argentina",
                  "sources^Australia",
                  "sources^Brazil",
                  "sources^Brazil  ",
                  "sources^Canada",
                  "sources^Chile",
                  "sources^China",
                  "sources^China  ",
                  "sources^Congo",
                  "sources^Congo, Democratic Republic",
                  "sources^Cuba",
                  "sources^Gabon",
                  "sources^Ghana",
                  "sources^Guatemala",
                  "sources^Guinea",
                  "sources^India",
                  "sources^India ",
                  "sources^India  ",
                  "sources^Indonesia",
                  "sources^Ivory Coast",
                  "sources^Jamaica",
                  "sources^Kazakhstan",
                  "sources^Korea, Dem. P.R. of",
                  "sources^Madagascar",
                  "sources^Malaysia",
                  "sources^Mexico",
                  "sources^Mozambique",
                  "sources^New Caledonia",
                  "sources^Papua New Guinea",
                  "sources^Peru",
                  "sources^Philippines",
                  "sources^Poland",
                  "sources^Russia",
                  "sources^South Africa",
                  "sources^USA",
                  "sources^Ukraine",
                  "sources^Zambia"
                ],
                "type": "process",
                "id": "sources",
                "title": "Sources"
              },
              {
                "nodes": [
                  "__aluminium_mining_aluminium_refining_2^*"
                ],
                "type": "group",
                "id": "__aluminium_mining_aluminium_refining_2",
                "title": ""
              },
              {
                "nodes": [
                  "__graphite_pro_graphite_2^*"
                ],
                "type": "group",
                "id": "__graphite_pro_graphite_2",
                "title": ""
              },
              {
                "nodes": [
                  "__cobalt_mining_cobalt_refining_2^*"
                ],
                "type": "group",
                "id": "__cobalt_mining_cobalt_refining_2",
                "title": ""
              },
              {
                "nodes": [
                  "__lithium_mining_lithium_refining_2^*"
                ],
                "type": "group",
                "id": "__lithium_mining_lithium_refining_2",
                "title": ""
              },
              {
                "nodes": [
                  "__manganese_mining_manganese_refining_2^*"
                ],
                "type": "group",
                "id": "__manganese_mining_manganese_refining_2",
                "title": ""
              },
              {
                "nodes": [
                  "__nickel_mining_nickel_refining_2^*"
                ],
                "type": "group",
                "id": "__nickel_mining_nickel_refining_2",
                "title": ""
              },
              {
                "nodes": [
                  "__graphite_pro_graphite_3^*"
                ],
                "type": "group",
                "id": "__graphite_pro_graphite_3",
                "title": ""
              },
              {
                "nodes": [
                  "__graphite_pro_graphite_4^*"
                ],
                "type": "group",
                "id": "__graphite_pro_graphite_4",
                "title": ""
              },
              {
                "nodes": [
                  "__copper_refining_copper_4^*"
                ],
                "type": "group",
                "id": "__copper_refining_copper_4",
                "title": ""
              },
              {
                "nodes": [
                  "NMC622^NMC622"
                ],
                "type": "process",
                "id": "NMC622",
                "title": "Product"
              }
            ],
            "png": "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",
            "show_link_info_html": false,
            "align_link_types": false,
            "svg": "<?xml version=\"1.0\" standalone=\"no\"?><!DOCTYPE svg PUBLIC \"-//W3C//DTD SVG 1.1//EN\" \"http://www.w3.org/Graphics/SVG/1.1/DTD/svg11.dtd\"><svg xmlns=\"http://www.w3.org/2000/svg\" width=\"800\" height=\"600\" viewBox=\"0 0 800 600\" style=\"font-family: &quot;Helvetica Neue&quot;, Helvetica, Arial, sans-serif;\"><g class=\"sankey\" transform=\"translate(130,25)\"><g class=\"groups\"><g class=\"group\" transform=\"translate(0,43.478431890635115)\" style=\"display: inline;\"><rect x=\"-10\" y=\"-20\" width=\"21\" height=\"377.82745512508086\" style=\"fill: rgb(238, 238, 238); stroke: rgb(187, 187, 187); stroke-width: 0.5;\"/><text x=\"-10\" y=\"-25\" style=\"fill: rgb(153, 153, 153);\">Sources</text></g><g class=\"group\" transform=\"translate(179.66666666666666,43.478431890635115)\" style=\"display: none;\"><rect x=\"-10\" y=\"-20\" width=\"21\" height=\"60.33810611456486\" style=\"fill: rgb(238, 238, 238); stroke: rgb(187, 187, 187); stroke-width: 0.5;\"/><text x=\"-10\" y=\"-25\" style=\"fill: rgb(153, 153, 153);\"/></g><g class=\"group\" transform=\"translate(179.66666666666666,96.57249331211042)\" style=\"display: none;\"><rect x=\"-10\" y=\"-20\" width=\"21\" height=\"60.36073731475847\" style=\"fill: rgb(238, 238, 238); stroke: rgb(187, 187, 187); stroke-width: 0.5;\"/><text x=\"-10\" y=\"-25\" style=\"fill: rgb(153, 153, 153);\"/></g><g class=\"group\" transform=\"translate(179.66666666666666,200.58837933871456)\" style=\"display: none;\"><rect x=\"-10\" y=\"-20\" width=\"21\" height=\"60.187791445957885\" style=\"fill: rgb(238, 238, 238); stroke: rgb(187, 187, 187); stroke-width: 0.5;\"/><text x=\"-10\" y=\"-25\" style=\"fill: rgb(153, 153, 153);\"/></g><g class=\"group\" transform=\"translate(179.66666666666666,253.5321260915829)\" style=\"display: none;\"><rect x=\"-10\" y=\"-20\" width=\"21\" height=\"62.29292678309403\" style=\"fill: rgb(238, 238, 238); stroke: rgb(187, 187, 187); stroke-width: 0.5;\"/><text x=\"-10\" y=\"-25\" style=\"fill: rgb(153, 153, 153);\"/></g><g class=\"group\" transform=\"translate(179.66666666666666,308.5810081815874)\" style=\"display: none;\"><rect x=\"-10\" y=\"-20\" width=\"21\" height=\"61.11537011626547\" style=\"fill: rgb(238, 238, 238); stroke: rgb(187, 187, 187); stroke-width: 0.5;\"/><text x=\"-10\" y=\"-25\" style=\"fill: rgb(153, 153, 153);\"/></g><g class=\"group\" transform=\"translate(179.66666666666666,362.45233360476334)\" style=\"display: none;\"><rect x=\"-10\" y=\"-20\" width=\"21\" height=\"58.85355341095277\" style=\"fill: rgb(238, 238, 238); stroke: rgb(187, 187, 187); stroke-width: 0.5;\"/><text x=\"-10\" y=\"-25\" style=\"fill: rgb(153, 153, 153);\"/></g><g class=\"group\" transform=\"translate(269.5,96.60188796379319)\" style=\"display: none;\"><rect x=\"-10\" y=\"-20\" width=\"21\" height=\"60.36073731475847\" style=\"fill: rgb(238, 238, 238); stroke: rgb(187, 187, 187); stroke-width: 0.5;\"/><text x=\"-10\" y=\"-25\" style=\"fill: rgb(153, 153, 153);\"/></g><g class=\"group\" transform=\"translate(359.3333333333333,94.43400347403232)\" style=\"display: none;\"><rect x=\"-10\" y=\"-20\" width=\"21\" height=\"60.36073731475847\" style=\"fill: rgb(238, 238, 238); stroke: rgb(187, 187, 187); stroke-width: 0.5;\"/><text x=\"-10\" y=\"-25\" style=\"fill: rgb(153, 153, 153);\"/></g><g class=\"group\" transform=\"translate(359.3333333333333,147.8368902037796)\" style=\"display: none;\"><rect x=\"-10\" y=\"-20\" width=\"21\" height=\"56.27517014790595\" style=\"fill: rgb(238, 238, 238); stroke: rgb(187, 187, 187); stroke-width: 0.5;\"/><text x=\"-10\" y=\"-25\" style=\"fill: rgb(153, 153, 153);\"/></g><g class=\"group\" transform=\"translate(539,200.8025353599668)\" style=\"display: inline;\"><rect x=\"-10\" y=\"-20\" width=\"21\" height=\"63.17924818641748\" style=\"fill: rgb(238, 238, 238); stroke: rgb(187, 187, 187); stroke-width: 0.5;\"/><text x=\"-10\" y=\"-25\" style=\"fill: rgb(153, 153, 153);\">Product</text></g></g><g class=\"links\"><g class=\"link\" style=\"opacity: 0.8;\"><path d=\"M450.16666666666663,499.4955742478653 A43.71236783098194 43.71236783098194 1.595455644403986 0 0 493.865744820279,454.70539849543314 L489.59182609198916,281.42191744769025 A49.42319982430932 49.42319982430932 1.595455644403986 0 1 539,230.78009875377344 L539,232.78009875377344 A47.42319982430932 47.42319982430932 1.595455644403986 0 0 491.5912180408572,281.3726038106154 L495.86513676914706,454.65608485835827 A45.71236783098194 45.71236783098194 1.595455644403986 0 1 450.16666666666663,501.4955742478653 Z\" style=\"fill: rgb(31, 120, 180);\"/><title>Plastic → NMC622\nPlastic: Polyethylene\n1.82m</title><text class=\"label\" dy=\"0.35em\" x=\"454.16666666666663\" y=\"500.4955742478653\"/></g><g class=\"link\" style=\"opacity: 0.8;\"><path d=\"M450.16666666666663,499.55715629278694 A43.773949875903526 43.773949875903526 1.5954556444039858 0 0 493.9273081426846,454.7038800781264 L489.65338941439467,281.4203990303834 A49.361617779387736 49.361617779387736 1.5954556444039858 0 1 539,230.841680798695 L539,232.841680798695 A47.361617779387736 47.361617779387736 1.5954556444039858 0 0 491.6527813632627,281.37108539330853 L495.9267000915526,454.65456644105154 A45.773949875903526 45.773949875903526 1.5954556444039858 0 1 450.16666666666663,501.55715629278694 Z\" style=\"fill: rgb(178, 223, 138);\"/><title>Plastic → NMC622\nPlastic: Polyethylene Terephthalate\n1.89m</title><text class=\"label\" dy=\"0.35em\" x=\"454.16666666666663\" y=\"500.55715629278694\"/></g><g class=\"link\" style=\"opacity: 0.8;\"><path d=\"M450.16666666666663,550.9190435248843 A51.574445840662776 51.574445840662776 1.616978063680967 0 0 501.68612450890566,496.96364673697053 L491.769506882276,282.3860367519224 A47.280903397449094 47.280903397449094 1.616978063680967 0 1 539,232.92239518063366 L539,234.92239518063366 A45.280903397449094 45.280903397449094 1.616978063680967 0 0 493.7673745084801,282.29370610605923 L503.68399213510975,496.87131609110736 A53.574445840662776 53.574445840662776 1.616978063680967 0 1 450.16666666666663,552.9190435248843 Z\" style=\"fill: rgb(255, 127, 0);\"/><title>Other → NMC622\nThermal Insulation\n3.58m</title><text class=\"label\" dy=\"0.35em\" x=\"454.16666666666663\" y=\"551.9190435248843\"/></g><g class=\"link\" style=\"opacity: 0.8;\"><path d=\"M450.16666666666663,524.5377728933612 A47.038451751026884 47.038451751026884 1.6077407151991885 0 0 497.17302096345213,475.7619096024976 L490.0118630754214,282.01395919367707 A49.02158760389273 49.02158760389273 1.6077407151991885 0 1 539,231.18171097419 L539,233.18171097419 A47.02158760389273 47.02158760389273 1.6077407151991885 0 0 492.010498342823,281.94008722403686 L499.1716562308537,475.6880376328574 A49.038451751026884 49.038451751026884 1.6077407151991885 0 1 450.16666666666663,526.5377728933612 Z\" style=\"fill: rgb(251, 154, 153);\"/><title>Steel → NMC622\nSteel\n5.99m</title><text class=\"label\" dy=\"0.35em\" x=\"454.16666666666663\" y=\"525.5377728933612\"/></g><g class=\"link\" style=\"opacity: 0.8;\"><path d=\"M450.16666666666663,499.6931613986607 A43.90995498177734 43.90995498177734 1.5954556444039858 0 0 494.06327189952907,454.70052662491065 L489.7893531712392,281.41704557716776 A49.22561267351392 49.22561267351392 1.5954556444039858 0 1 539,230.97768590456883 L539,232.97768590456883 A47.22561267351392 47.22561267351392 1.5954556444039858 0 0 491.78874512010725,281.3677319400929 L496.0626638483971,454.6512129878358 A45.90995498177734 45.90995498177734 1.5954556444039858 0 1 450.16666666666663,501.6931613986607 Z\" style=\"fill: rgb(51, 160, 44);\"/><title>Plastic → NMC622\nPlastic: Polypropylene\n6.31m</title><text class=\"label\" dy=\"0.35em\" x=\"454.16666666666663\" y=\"500.6931613986607\"/></g><g class=\"link\" style=\"opacity: 0.8;\"><path d=\"M450.16666666666663,447.00281199166636 A37.30948963723231 37.30948963723231 1.5794012218237472 0 0 487.4747750364213,409.3722820744227 L486.3671594085428,280.65620982498405 A52.634789230349526 52.634789230349526 1.5794012218237472 0 1 539,227.56850934773317 L539,229.56850934773317 A50.634789230349526 50.634789230349526 1.5794012218237472 0 0 488.3670853647812,280.63900024730646 L489.4747009926597,409.3550724967451 A39.30948963723231 39.30948963723231 1.5794012218237472 0 1 450.16666666666663,449.00281199166636 Z\" style=\"fill: rgb(106, 61, 154);\"/><title>Binder → NMC622\nBinder\n11.9m</title><text class=\"label\" dy=\"0.35em\" x=\"454.16666666666663\" y=\"448.00281199166636\"/></g><g class=\"link\" style=\"opacity: 0.8;\"><path d=\"M450.16666666666663,474.598075363401 A42.58597207076146 42.58597207076146 1.5935622604234099 0 0 492.74160332058534,431.0426776242735 L489.3327614566758,281.334215021063 A49.680112283694285 49.680112283694285 1.5935622604234099 0 1 539,230.52318629438847 L539,232.52318629438847 A47.680112283694285 47.680112283694285 1.5935622604234099 0 0 491.3322431913266,281.2886870868054 L494.7410850552361,430.9971496900159 A44.58597207076146 44.58597207076146 1.5935622604234099 0 1 450.16666666666663,476.598075363401 Z\" style=\"fill: rgb(166, 206, 227);\"/><title>Electrolyte → NMC622\nElectrolyte: LiPF6\n13.7m</title><text class=\"label\" dy=\"0.35em\" x=\"454.16666666666663\" y=\"475.598075363401\"/></g><g class=\"link\" style=\"opacity: 0.8;\"><path d=\"M450.16666666666663,550.5574441671603 A51.2128464829387 51.2128464829387 1.616978063680967 0 0 501.3249106836791,496.9803400880918 L491.40829305704943,282.40273010304355 A47.64250275517317 47.64250275517317 1.616978063680967 0 1 539,232.56079582290957 L539,234.56079582290957 A45.64250275517317 45.64250275517317 1.616978063680967 0 0 493.4061606832535,282.3103994571804 L503.3227783098832,496.8880094422286 A53.2128464829387 53.2128464829387 1.616978063680967 0 1 450.16666666666663,552.5574441671603 Z\" style=\"fill: rgb(253, 191, 111);\"/><title>Other → NMC622\nElectronic Parts\n18.2m</title><text class=\"label\" dy=\"0.35em\" x=\"454.16666666666663\" y=\"551.5574441671603\"/></g><g class=\"link\" style=\"opacity: 0.8;\"><path d=\"M1,306.1769454186451 A60.19457971901553 60.19457971901553 0.28630042086040053 0 1 17.999260954660688,308.62715264523274 L73.39888273316011,324.93614669527125 A58.19457971901553 58.19457971901553 0.28630042086040053 0 0 89.83333333333333,327.30494435847214 L89.83333333333333,329.30494435847214 A60.19457971901553 60.19457971901553 0.28630042086040053 0 1 72.83407237867264,326.8547371318845 L17.434450600173218,310.545743081846 A58.19457971901553 58.19457971901553 0.28630042086040053 0 0 1,308.1769454186451 Z\" style=\"fill: rgb(166, 206, 227);\"/><title>Malaysia → Manganese mining\nMalaysia\n20.0m</title><text class=\"label\" dy=\"0.35em\" x=\"5\" y=\"307.1769454186451\"/></g><g class=\"link\" style=\"opacity: 0.8;\"><path d=\"M90.83333333333333,327.30494435847214 A0 0 0 0 0 90.83333333333333,327.30494435847214 L179.66666666666666,327.30494435847214 A0 0 0 0 0 179.66666666666666,327.30494435847214 L179.66666666666666,329.30494435847214 A0 0 0 0 0 179.66666666666666,329.30494435847214 L90.83333333333333,329.30494435847214 A0 0 0 0 0 90.83333333333333,329.30494435847214 Z\" style=\"fill: rgb(166, 206, 227);\"/><title>Manganese mining → \nMalaysia\n20.0m</title><text class=\"label\" dy=\"0.35em\" x=\"94.83333333333333\" y=\"328.30494435847214\"/></g><g class=\"link\" style=\"opacity: 0.8;\"><path d=\"M180.66666666666666,327.30494435847214 A999 999 0.0023173064848871494 0 0 182.98165377318915,327.30226208995464 L267.18037828465566,327.10714749037567 A1001 1001 0.0023173064848871494 0 1 269.5,327.1044598519512 L269.5,329.1044598519512 A999 999 0.0023173064848871494 0 0 267.18501289347756,329.1071421204687 L182.986288382011,329.3022567200477 A1001 1001 0.0023173064848871494 0 1 180.66666666666666,329.30494435847214 Z\" style=\"fill: rgb(166, 206, 227);\"/><title> → Manganese refining\nMalaysia\n20.0m</title><text class=\"label\" dy=\"0.35em\" x=\"184.66666666666666\" y=\"328.30494435847214\"/></g><g class=\"link\" style=\"opacity: 0.8;\"><path d=\"M1,231.8950737688033 A30.106634644365133 30.106634644365133 1.2685717770645444 0 1 29.74210340741303,253.04062916305224 L58.33711645035105,344.75735199036035 A32.99149964546663 32.99149964546663 1.2685717770645444 0 0 89.83333333333333,367.92910770245646 L89.83333333333333,369.92910770245646 A34.99149964546663 34.99149964546663 1.2685717770645444 0 1 56.42776299740426,345.35264132481893 L27.83274995446624,253.63591849751083 A28.106634644365133 28.106634644365133 1.2685717770645444 0 0 1,233.8950737688033 Z\" style=\"fill: rgb(31, 120, 180);\"/><title>Guatemala → Nickel mining\nGuatemala\n20.4m</title><text class=\"label\" dy=\"0.35em\" x=\"5\" y=\"232.8950737688033\"/></g><g class=\"link\" style=\"opacity: 0.8;\"><path d=\"M90.83333333333333,367.92910770245646 A0 0 0 0 0 90.83333333333333,367.92910770245646 L179.66666666666666,367.92910770245646 A0 0 0 0 0 179.66666666666666,367.92910770245646 L179.66666666666666,369.92910770245646 A0 0 0 0 0 179.66666666666666,369.92910770245646 L90.83333333333333,369.92910770245646 A0 0 0 0 0 90.83333333333333,369.92910770245646 Z\" style=\"fill: rgb(31, 120, 180);\"/><title>Nickel mining → \nGuatemala\n20.4m</title><text class=\"label\" dy=\"0.35em\" x=\"94.83333333333333\" y=\"368.92910770245646\"/></g><g class=\"link\" style=\"opacity: 0.8;\"><path d=\"M180.66666666666666,367.92910770245646 A999 999 0.0019696332846876885 0 0 182.63432904582606,367.92716991517244 L267.52839835681823,367.75995951435624 A1001 1001 0.0019696332846876885 0 1 269.5,367.75801784761825 L269.5,369.75801784761825 A999 999 0.0019696332846876885 0 0 267.5323376208406,369.75995563490227 L182.6382683098484,369.92716603571847 A1001 1001 0.0019696332846876885 0 1 180.66666666666666,369.92910770245646 Z\" style=\"fill: rgb(31, 120, 180);\"/><title> → Nickel refining\nGuatemala\n20.4m</title><text class=\"label\" dy=\"0.35em\" x=\"184.66666666666666\" y=\"368.92910770245646\"/></g><g class=\"link\" style=\"opacity: 0.8;\"><path d=\"M1,94.99950697106657 A45.71615669938342 45.71615669938342 1.4982497471016698 0 1 46.59590724408383,137.40202127099244 L61.10337012414637,337.02553282872844 A28.8057323436443 28.8057323436443 1.4982497471016698 0 0 89.83333333333333,363.74334040063417 L89.83333333333333,365.74334040063417 A30.8057323436443 30.8057323436443 1.4982497471016698 0 1 59.10863082250693,337.1704987505686 L44.60116794244439,137.54698719283257 A43.71615669938342 43.71615669938342 1.4982497471016698 0 0 1,96.99950697106657 Z\" style=\"fill: rgb(178, 223, 138);\"/><title>Brazil → Nickel mining\nBrazil\n20.6m</title><text class=\"label\" dy=\"0.35em\" x=\"5\" y=\"95.99950697106657\"/></g><g class=\"link\" style=\"opacity: 0.8;\"><path d=\"M90.83333333333333,363.74334040063417 A0 0 0 0 0 90.83333333333333,363.74334040063417 L179.66666666666666,363.74334040063417 A0 0 0 0 0 179.66666666666666,363.74334040063417 L179.66666666666666,365.74334040063417 A0 0 0 0 0 179.66666666666666,365.74334040063417 L90.83333333333333,365.74334040063417 A0 0 0 0 0 90.83333333333333,365.74334040063417 Z\" style=\"fill: rgb(178, 223, 138);\"/><title>Nickel mining → \nBrazil\n20.6m</title><text class=\"label\" dy=\"0.35em\" x=\"94.83333333333333\" y=\"364.74334040063417\"/></g><g class=\"link\" style=\"opacity: 0.8;\"><path d=\"M180.66666666666666,363.74334040063417 A999 999 0.0019696332846876885 0 0 182.63432904582606,363.74140261335015 L267.52839835681823,363.57419221253394 A1001 1001 0.0019696332846876885 0 1 269.5,363.57225054579595 L269.5,365.57225054579595 A999 999 0.0019696332846876885 0 0 267.5323376208406,365.57418833308 L182.6382683098484,365.7413987338962 A1001 1001 0.0019696332846876885 0 1 180.66666666666666,365.74334040063417 Z\" style=\"fill: rgb(178, 223, 138);\"/><title> → Nickel refining\nBrazil\n20.6m</title><text class=\"label\" dy=\"0.35em\" x=\"184.66666666666666\" y=\"364.74334040063417\"/></g><g class=\"link\" style=\"opacity: 0.8;\"><path d=\"M360.3333333333333,66.29289221404643 A0 0 0 0 0 360.3333333333333,66.29289221404643 L449.16666666666663,66.29289221404643 A0 0 0 0 0 449.16666666666663,66.29289221404643 L449.16666666666663,68.29289221404643 A0 0 0 0 0 449.16666666666663,68.29289221404643 L360.3333333333333,68.29289221404643 A0 0 0 0 0 360.3333333333333,68.29289221404643 Z\" style=\"fill: rgb(253, 191, 111);\"/><title>Aluminium primary → Aluminium\nNorway\n20.7m</title><text class=\"label\" dy=\"0.35em\" x=\"364.3333333333333\" y=\"67.29289221404643\"/></g><g class=\"link\" style=\"opacity: 0.8;\"><path d=\"M180.66666666666666,166.32550087099588 A0 0 0 0 1 180.66666666666666,166.32550087099588 L269.5,166.3842901743614 A0 0 0 0 0 269.5,166.3842901743614 L269.5,168.3842901743614 A0 0 0 0 1 269.5,168.3842901743614 L180.66666666666666,168.32550087099588 A0 0 0 0 0 180.66666666666666,168.32550087099588 Z\" style=\"fill: rgb(51, 160, 44);\"/><title>Copper_smelting → Copper_refining\nIndia\n21.0m</title><text class=\"label\" dy=\"0.35em\" x=\"184.66666666666666\" y=\"167.32550087099588\"/></g><g class=\"link\" style=\"opacity: 0.8;\"><path d=\"M270.5,166.3842901743614 A635.9032094518009 635.9032094518009 0.026510870013960686 0 0 287.3563726485183,166.16083853480612 L342.6688461197269,164.6941131066584 A628.6643706783696 628.6643706783696 0.026510870013960686 0 1 359.3333333333333,164.47320514099616 L359.3333333333333,166.47320514099616 A626.6643706783696 626.6643706783696 0.026510870013960686 0 0 342.72186164912813,166.69341032159224 L287.40938817791954,168.16013574973996 A637.9032094518009 637.9032094518009 0.026510870013960686 0 1 270.5,168.3842901743614 Z\" style=\"fill: rgb(51, 160, 44);\"/><title>Copper_refining → \nIndia\n21.0m</title><text class=\"label\" dy=\"0.35em\" x=\"274.5\" y=\"167.3842901743614\"/></g><g class=\"link\" style=\"opacity: 0.8;\"><path d=\"M360.3333333333333,164.47320514099616 A42.695738124784484 42.695738124784484 0.585870424098007 0 1 383.94086819399774,171.59352546327708 L421.5565979185434,196.55499339912382 A49.934576898216 49.934576898216 0.585870424098007 0 0 449.16666666666663,204.8825267382529 L449.16666666666663,206.8825267382529 A51.934576898216 51.934576898216 0.585870424098007 0 1 420.4507482062528,198.22145564406873 L382.83501848170715,173.25998770822198 A40.695738124784484 40.695738124784484 0.585870424098007 0 0 360.3333333333333,166.47320514099616 Z\" style=\"fill: rgb(51, 160, 44);\"/><title> → Copper\nIndia\n21.0m</title><text class=\"label\" dy=\"0.35em\" x=\"364.3333333333333\" y=\"165.47320514099616\"/></g><g class=\"link\" style=\"opacity: 0.8;\"><path d=\"M270.5,70.04339688538553 A0 0 0 0 0 270.5,70.04339688538553 L359.3333333333333,70.04339688538553 A0 0 0 0 0 359.3333333333333,70.04339688538553 L359.3333333333333,72.04339688538553 A0 0 0 0 0 359.3333333333333,72.04339688538553 L270.5,72.04339688538553 A0 0 0 0 0 270.5,72.04339688538553 Z\" style=\"fill: rgb(202, 178, 214);\"/><title>Aluminium refining → Aluminium primary\nRussia\n21.0m</title><text class=\"label\" dy=\"0.35em\" x=\"274.5\" y=\"71.04339688538553\"/></g><g class=\"link\" style=\"opacity: 0.8;\"><path d=\"M1,281.1659126390876 A33.85916632539055 33.85916632539055 0.6232468162261022 0 1 20.762735601488767,287.5318538754474 L63.214812045824544,318.0473412286692 A45.60506995508321 45.60506995508321 0.6232468162261022 0 0 89.83333333333333,326.6216573421888 L89.83333333333333,328.6216573421888 A47.60506995508321 47.60506995508321 0.6232468162261022 0 1 62.047462831637375,319.67131654009995 L19.59538638730159,289.1558291868781 A31.859166325390547 31.859166325390547 0.6232468162261022 0 0 1,283.1659126390876 Z\" style=\"fill: rgb(255, 127, 0);\"/><title>Ivory Coast → Manganese mining\nIvory Coast\n21.2m</title><text class=\"label\" dy=\"0.35em\" x=\"5\" y=\"282.1659126390876\"/></g><g class=\"link\" style=\"opacity: 0.8;\"><path d=\"M90.83333333333333,326.6216573421888 A0 0 0 0 0 90.83333333333333,326.6216573421888 L179.66666666666666,326.6216573421888 A0 0 0 0 0 179.66666666666666,326.6216573421888 L179.66666666666666,328.6216573421888 A0 0 0 0 0 179.66666666666666,328.6216573421888 L90.83333333333333,328.6216573421888 A0 0 0 0 0 90.83333333333333,328.6216573421888 Z\" style=\"fill: rgb(255, 127, 0);\"/><title>Manganese mining → \nIvory Coast\n21.2m</title><text class=\"label\" dy=\"0.35em\" x=\"94.83333333333333\" y=\"327.6216573421888\"/></g><g class=\"link\" style=\"opacity: 0.8;\"><path d=\"M180.66666666666666,326.6216573421888 A999 999 0.0023173064848871494 0 0 182.98165377318915,326.6189750736713 L267.18037828465566,326.42386047409235 A1001 1001 0.0023173064848871494 0 1 269.5,326.4211728356679 L269.5,328.4211728356679 A999 999 0.0023173064848871494 0 0 267.18501289347756,328.4238551041854 L182.986288382011,328.6189697037644 A1001 1001 0.0023173064848871494 0 1 180.66666666666666,328.6216573421888 Z\" style=\"fill: rgb(255, 127, 0);\"/><title> → Manganese refining\nIvory Coast\n21.2m</title><text class=\"label\" dy=\"0.35em\" x=\"184.66666666666666\" y=\"327.6216573421888\"/></g><g class=\"link\" style=\"opacity: 0.8;\"><path d=\"M270.5,227.63319429935248 A744.1591250606565 744.1591250606565 0.02295473756063049 0 0 287.580477319448,227.4371467536904 L342.86081441066773,226.16797819891224 A717.6717043544614 717.6717043544614 0.02295473756063049 0 1 359.3333333333333,225.97890872238284 L359.3333333333333,227.97890872238284 A715.6717043544614 715.6717043544614 0.02295473756063049 0 0 342.90671985412524,228.16745130207244 L287.6263827629055,229.4366198568506 A746.1591250606565 746.1591250606565 0.02295473756063049 0 1 270.5,229.63319429935248 Z\" style=\"fill: rgb(177, 89, 40);\"/><title>Cobalt refining → Cobalt\nMadagascar\n21.3m</title><text class=\"label\" dy=\"0.35em\" x=\"274.5\" y=\"228.63319429935248\"/></g><g class=\"link\" style=\"opacity: 0.8;\"><path d=\"M1,351.05851221436353 A32.484757572503874 32.484757572503874 1.4403002182321885 0 0 33.20855459215617,322.8008677972463 L48.226993252665494,208.36764027184972 A41.963133338768245 41.963133338768245 1.4403002182321885 0 1 89.83333333333333,171.86500367779772 L89.83333333333333,173.86500367779772 A39.963133338768245 39.963133338768245 1.4403002182321885 0 0 50.20998817083712,208.62789236983457 L35.191549510327796,323.06111989523123 A34.484757572503874 34.484757572503874 1.4403002182321885 0 1 1,353.05851221436353 Z\" style=\"fill: rgb(255, 127, 0);\"/><title>Poland → Copper mining\nPoland\n21.7m</title><text class=\"label\" dy=\"0.35em\" x=\"5\" y=\"352.05851221436353\"/></g><g class=\"link\" style=\"opacity: 0.8;\"><path d=\"M90.83333333333333,171.86500367779772 A0 0 0 0 0 90.83333333333333,171.86500367779772 L179.66666666666666,171.86500367779772 A0 0 0 0 0 179.66666666666666,171.86500367779772 L179.66666666666666,173.86500367779772 A0 0 0 0 0 179.66666666666666,173.86500367779772 L90.83333333333333,173.86500367779772 A0 0 0 0 0 90.83333333333333,173.86500367779772 Z\" style=\"fill: rgb(255, 127, 0);\"/><title>Copper mining → Copper_smelting\nPoland\n21.7m</title><text class=\"label\" dy=\"0.35em\" x=\"94.83333333333333\" y=\"172.86500367779772\"/></g><g class=\"link\" style=\"opacity: 0.8;\"><path d=\"M360.3333333333333,43.66733532946408 A0 0 0 0 0 360.3333333333333,43.66733532946408 L449.16666666666663,43.66733532946408 A0 0 0 0 0 449.16666666666663,43.66733532946408 L449.16666666666663,45.66733532946408 A0 0 0 0 0 449.16666666666663,45.66733532946408 L360.3333333333333,45.66733532946408 A0 0 0 0 0 360.3333333333333,45.66733532946408 Z\" style=\"fill: rgb(202, 178, 214);\"/><title>Aluminium primary → Aluminium\nBahrain\n21.7m</title><text class=\"label\" dy=\"0.35em\" x=\"364.3333333333333\" y=\"44.66733532946408\"/></g><g class=\"link\" style=\"opacity: 0.8;\"><path d=\"M270.5,363.0605046718946 A266.2483821554914 266.2483821554914 0.062367354674316644 0 0 287.0944445318013,362.54286106785037 L341.0767352850047,359.17175641324076 A292.9166857447657 292.9166857447657 0.062367354674316644 0 1 359.3333333333333,358.6022639428412 L359.3333333333333,360.6022639428412 A290.9166857447657 290.9166857447657 0.062367354674316644 0 0 341.2013891469171,361.1678679869536 L287.2190983937137,364.5389726415632 A268.2483821554914 268.2483821554914 0.062367354674316644 0 1 270.5,365.0605046718946 Z\" style=\"fill: rgb(178, 223, 138);\"/><title>Nickel refining → Nickel\nBrazil\n21.8m</title><text class=\"label\" dy=\"0.35em\" x=\"274.5\" y=\"364.0605046718946\"/></g><g class=\"link\" style=\"opacity: 0.8;\"><path d=\"M1,329.21243651206714 A25.94675714794685 25.94675714794685 1.0936221030386442 0 0 24.04840744617746,315.1822695093557 L61.04890367726731,243.6179627360893 A32.40408725297722 32.40408725297722 1.0936221030386442 0 1 89.83333333333333,226.09612934714585 L89.83333333333333,228.09612934714585 A30.40408725297722 30.40408725297722 1.0936221030386442 0 0 62.82549620594107,244.53650450817187 L25.82499997485122,316.10081128143827 A27.94675714794685 27.94675714794685 1.0936221030386442 0 1 1,331.21243651206714 Z\" style=\"fill: rgb(251, 154, 153);\"/><title>Papua New Guinea → Cobalt mining\nPapua New Guinea\n23.7m</title><text class=\"label\" dy=\"0.35em\" x=\"5\" y=\"330.21243651206714\"/></g><g class=\"link\" style=\"opacity: 0.8;\"><path d=\"M90.83333333333333,226.09612934714585 A0 0 0 0 0 90.83333333333333,226.09612934714585 L179.66666666666666,226.09612934714585 A0 0 0 0 0 179.66666666666666,226.09612934714585 L179.66666666666666,228.09612934714585 A0 0 0 0 0 179.66666666666666,228.09612934714585 L90.83333333333333,228.09612934714585 A0 0 0 0 0 90.83333333333333,228.09612934714585 Z\" style=\"fill: rgb(251, 154, 153);\"/><title>Cobalt mining → \nPapua New Guinea\n23.7m</title><text class=\"label\" dy=\"0.35em\" x=\"94.83333333333333\" y=\"227.09612934714585\"/></g><g class=\"link\" style=\"opacity: 0.8;\"><path d=\"M180.66666666666666,226.09612934714585 A690.0534200559066 690.0534200559066 0.02470016280886589 0 0 197.7093654126479,225.8856399285744 L252.9710545461413,224.52038955306355 A669.2517136138596 669.2517136138596 0.02470016280886589 0 1 269.5,224.31624535207533 L269.5,226.31624535207533 A667.2517136138596 667.2517136138596 0.02470016280886589 0 0 253.0204498487386,226.51977948603846 L197.75876071524522,227.8850298615493 A692.0534200559066 692.0534200559066 0.02470016280886589 0 1 180.66666666666666,228.09612934714585 Z\" style=\"fill: rgb(251, 154, 153);\"/><title> → Cobalt refining\nPapua New Guinea\n23.7m</title><text class=\"label\" dy=\"0.35em\" x=\"184.66666666666666\" y=\"227.09612934714585\"/></g><g class=\"link\" style=\"opacity: 0.8;\"><path d=\"M1,301.6580463252617 A33.60209324035372 33.60209324035372 0.9515768479288217 0 0 28.363250347931857,287.5585990728203 L62.80439251271964,239.23584348837753 A33.191560874306326 33.191560874306326 0.9515768479288217 0 1 89.83333333333333,225.30865572581675 L89.83333333333333,227.30865572581675 A31.191560874306326 31.191560874306326 0.9515768479288217 0 0 64.43305595057181,240.3966429569351 L29.991913785784032,288.71939854137787 A35.60209324035372 35.60209324035372 0.9515768479288217 0 1 1,303.6580463252617 Z\" style=\"fill: rgb(177, 89, 40);\"/><title>Madagascar → Cobalt mining\nMadagascar\n23.8m</title><text class=\"label\" dy=\"0.35em\" x=\"5\" y=\"302.6580463252617\"/></g><g class=\"link\" style=\"opacity: 0.8;\"><path d=\"M90.83333333333333,225.30865572581675 A0 0 0 0 0 90.83333333333333,225.30865572581675 L179.66666666666666,225.30865572581675 A0 0 0 0 0 179.66666666666666,225.30865572581675 L179.66666666666666,227.30865572581675 A0 0 0 0 0 179.66666666666666,227.30865572581675 L90.83333333333333,227.30865572581675 A0 0 0 0 0 90.83333333333333,227.30865572581675 Z\" style=\"fill: rgb(177, 89, 40);\"/><title>Cobalt mining → \nMadagascar\n23.8m</title><text class=\"label\" dy=\"0.35em\" x=\"94.83333333333333\" y=\"226.30865572581675\"/></g><g class=\"link\" style=\"opacity: 0.8;\"><path d=\"M180.66666666666666,225.30865572581675 A689.2659464345775 689.2659464345775 0.02470016280886589 0 0 197.68991666374146,225.09840651309005 L252.9516057972348,223.73315613757921 A670.0391872351887 670.0391872351887 0.02470016280886589 0 1 269.5,223.52877173074623 L269.5,225.52877173074623 A668.0391872351887 668.0391872351887 0.02470016280886589 0 0 253.0010010998321,225.73254607055412 L197.73931196633876,227.09779644606496 A691.2659464345775 691.2659464345775 0.02470016280886589 0 1 180.66666666666666,227.30865572581675 Z\" style=\"fill: rgb(177, 89, 40);\"/><title> → Cobalt refining\nMadagascar\n23.8m</title><text class=\"label\" dy=\"0.35em\" x=\"184.66666666666666\" y=\"226.30865572581675\"/></g><g class=\"link\" style=\"opacity: 0.8;\"><path d=\"M180.66666666666666,149.09749314583638 A0 0 0 0 1 180.66666666666666,149.09749314583638 L269.5,149.1562824492019 A0 0 0 0 0 269.5,149.1562824492019 L269.5,151.1562824492019 A0 0 0 0 1 269.5,151.1562824492019 L180.66666666666666,151.09749314583638 A0 0 0 0 0 180.66666666666666,151.09749314583638 Z\" style=\"fill: rgb(31, 120, 180);\"/><title>Copper_smelting → Copper_refining\nAustralia\n24.6m</title><text class=\"label\" dy=\"0.35em\" x=\"184.66666666666666\" y=\"150.09749314583638\"/></g><g class=\"link\" style=\"opacity: 0.8;\"><path d=\"M270.5,149.1562824492019 A618.6752017266416 618.6752017266416 0.026510870013960686 0 0 286.89969667347924,148.9388846029209 L342.2121701446879,147.47215917477314 A645.8923784035288 645.8923784035288 0.026510870013960686 0 1 359.3333333333333,147.24519741583666 L359.3333333333333,149.24519741583666 A643.8923784035288 643.8923784035288 0.026510870013960686 0 0 342.26518567408914,149.471456389707 L286.9527122028805,150.93818181785474 A620.6752017266416 620.6752017266416 0.026510870013960686 0 1 270.5,151.1562824492019 Z\" style=\"fill: rgb(31, 120, 180);\"/><title>Copper_refining → \nAustralia\n24.6m</title><text class=\"label\" dy=\"0.35em\" x=\"274.5\" y=\"150.1562824492019\"/></g><g class=\"link\" style=\"opacity: 0.8;\"><path d=\"M360.3333333333333,147.24519741583666 A59.92374584994395 59.92374584994395 0.585870424098007 0 1 393.4666618871019,157.23861324847854 L431.08239161164755,182.20008118432526 A32.706569173056536 32.706569173056536 0.585870424098007 0 0 449.16666666666663,187.6545190130934 L449.16666666666663,189.6545190130934 A34.706569173056536 34.706569173056536 0.585870424098007 0 1 429.97654189935696,183.86654342927017 L392.3608121748113,158.90507549342345 A57.92374584994395 57.92374584994395 0.585870424098007 0 0 360.3333333333333,149.24519741583666 Z\" style=\"fill: rgb(31, 120, 180);\"/><title> → Copper\nAustralia\n24.6m</title><text class=\"label\" dy=\"0.35em\" x=\"364.3333333333333\" y=\"148.24519741583666\"/></g><g class=\"link\" style=\"opacity: 0.8;\"><path d=\"M360.3333333333333,42.89273354768715 A0 0 0 0 0 360.3333333333333,42.89273354768715 L449.16666666666663,42.89273354768715 A0 0 0 0 0 449.16666666666663,42.89273354768715 L449.16666666666663,44.89273354768715 A0 0 0 0 0 449.16666666666663,44.89273354768715 L360.3333333333333,44.89273354768715 A0 0 0 0 0 360.3333333333333,44.89273354768715 Z\" style=\"fill: rgb(31, 120, 180);\"/><title>Aluminium primary → Aluminium\nAustralia\n25.0m</title><text class=\"label\" dy=\"0.35em\" x=\"364.3333333333333\" y=\"43.89273354768715\"/></g><g class=\"link\" style=\"opacity: 0.8;\"><path d=\"M1,285.7416325718723 A36.55146855272762 36.55146855272762 1.4354928105974958 0 0 37.21740403822563,254.12063033511865 L58.1978637522742,100.00583922305123 A31.927270941959673 31.927270941959673 1.4354928105974958 0 1 89.83333333333333,72.38527168243982 L89.83333333333333,74.38527168243982 A29.927270941959673 29.927270941959673 1.4354928105974958 0 0 60.17958462272185,100.27562134186604 L39.19912490867328,254.39041245393346 A38.55146855272762 38.55146855272762 1.4354928105974958 0 1 1,287.7416325718723 Z\" style=\"fill: rgb(202, 178, 214);\"/><title>Jamaica → Aluminium mining\nJamaica\n26.0m</title><text class=\"label\" dy=\"0.35em\" x=\"5\" y=\"286.7416325718723\"/></g><g class=\"link\" style=\"opacity: 0.8;\"><path d=\"M90.83333333333333,72.38527168243982 A0 0 0 0 0 90.83333333333333,72.38527168243982 L179.66666666666666,72.38527168243982 A0 0 0 0 0 179.66666666666666,72.38527168243982 L179.66666666666666,74.38527168243982 A0 0 0 0 0 179.66666666666666,74.38527168243982 L90.83333333333333,74.38527168243982 A0 0 0 0 0 90.83333333333333,74.38527168243982 Z\" style=\"fill: rgb(202, 178, 214);\"/><title>Aluminium mining → \nJamaica\n26.0m</title><text class=\"label\" dy=\"0.35em\" x=\"94.83333333333333\" y=\"73.38527168243982\"/></g><g class=\"link\" style=\"opacity: 0.8;\"><path d=\"M180.66666666666666,72.38527168243982 A0 0 0 0 0 180.66666666666666,72.38527168243982 L269.5,72.38527168243982 A0 0 0 0 0 269.5,72.38527168243982 L269.5,74.38527168243982 A0 0 0 0 0 269.5,74.38527168243982 L180.66666666666666,74.38527168243982 A0 0 0 0 0 180.66666666666666,74.38527168243982 Z\" style=\"fill: rgb(202, 178, 214);\"/><title> → Aluminium refining\nJamaica\n26.0m</title><text class=\"label\" dy=\"0.35em\" x=\"184.66666666666666\" y=\"73.38527168243982\"/></g><g class=\"link\" style=\"opacity: 0.8;\"><path d=\"M270.5,332.89325110754925 A999 999 0.015568081361116315 0 0 286.05188505614706,332.7721921565636 L343.75031337216893,331.8738657546187 A1001 1001 0.015568081361116315 0 1 359.3333333333333,331.7525644433709 L359.3333333333333,333.7525644433709 A999 999 0.015568081361116315 0 0 343.78144827718626,333.8736233943565 L286.0830199611644,334.77194979630144 A1001 1001 0.015568081361116315 0 1 270.5,334.89325110754925 Z\" style=\"fill: rgb(202, 178, 214);\"/><title>Manganese refining → Manganese\nRussia\n26.1m</title><text class=\"label\" dy=\"0.35em\" x=\"274.5\" y=\"333.89325110754925\"/></g><g class=\"link\" style=\"opacity: 0.8;\"><path d=\"M1,106.18966043781849 A46.642462430438805 46.642462430438805 0.6058537994089122 0 1 27.56120885393403,114.49126364741312 L71.44062255337523,144.8893897025905 A32.298278525868376 32.298278525868376 0.6058537994089122 0 0 89.83333333333333,150.63796039768638 L89.83333333333333,152.63796039768638 A34.298278525868376 34.298278525868376 0.6058537994089122 0 1 70.3016943120309,146.5334220809421 L26.422280612589713,116.13529602576469 A44.642462430438805 44.642462430438805 0.6058537994089122 0 0 1,108.18966043781849 Z\" style=\"fill: rgb(251, 154, 153);\"/><title>Canada → Copper mining\nCanada\n27.1m</title><text class=\"label\" dy=\"0.35em\" x=\"5\" y=\"107.18966043781849\"/></g><g class=\"link\" style=\"opacity: 0.8;\"><path d=\"M90.83333333333333,150.63796039768638 A0 0 0 0 0 90.83333333333333,150.63796039768638 L179.66666666666666,150.63796039768638 A0 0 0 0 0 179.66666666666666,150.63796039768638 L179.66666666666666,152.63796039768638 A0 0 0 0 0 179.66666666666666,152.63796039768638 L90.83333333333333,152.63796039768638 A0 0 0 0 0 90.83333333333333,152.63796039768638 Z\" style=\"fill: rgb(251, 154, 153);\"/><title>Copper mining → Copper_smelting\nCanada\n27.1m</title><text class=\"label\" dy=\"0.35em\" x=\"94.83333333333333\" y=\"151.63796039768638\"/></g><g class=\"link\" style=\"opacity: 0.8;\"><path d=\"M270.5,198.26019605198795 A714.7861268132918 714.7861268132918 0.02295473756063049 0 0 286.90628706433637,198.07188677630228 L342.1866241555561,196.80271822152412 A747.0447026018261 747.0447026018261 0.02295473756063049 0 1 359.3333333333333,196.6059104750183 L359.3333333333333,198.6059104750183 A745.0447026018261 745.0447026018261 0.02295473756063049 0 0 342.2325295990136,198.80219132468432 L286.9521925077939,200.07135987946248 A716.7861268132918 716.7861268132918 0.02295473756063049 0 1 270.5,200.26019605198795 Z\" style=\"fill: rgb(31, 120, 180);\"/><title>Cobalt refining → Cobalt\nAustralia\n27.2m</title><text class=\"label\" dy=\"0.35em\" x=\"274.5\" y=\"199.26019605198795\"/></g><g class=\"link\" style=\"opacity: 0.8;\"><path d=\"M270.5,326.70083156087907 A999 999 0.015568081361116315 0 0 286.05188505614706,326.57977260989344 L343.75031337216893,325.6814462079485 A1001 1001 0.015568081361116315 0 1 359.3333333333333,325.5601448967007 L359.3333333333333,327.5601448967007 A999 999 0.015568081361116315 0 0 343.78144827718626,327.68120384768633 L286.0830199611644,328.57953024963126 A1001 1001 0.015568081361116315 0 1 270.5,328.70083156087907 Z\" style=\"fill: rgb(177, 89, 40);\"/><title>Manganese refining → Manganese\nGabon\n27.4m</title><text class=\"label\" dy=\"0.35em\" x=\"274.5\" y=\"327.70083156087907\"/></g><g class=\"link\" style=\"opacity: 0.8;\"><path d=\"M1,92.31891136777676 A48.39675230267321 48.39675230267321 1.542568644656841 0 1 49.37747226746668,139.34971694498947 L52.10892601900688,236.08908873158092 A37.73944174806338 37.73944174806338 1.542568644656841 0 0 89.83333333333333,272.7633749800752 L89.83333333333333,274.7633749800752 A39.73944174806338 39.73944174806338 1.542568644656841 0 1 50.109722768139385,236.14553659886414 L47.378269016599184,139.4061648122727 A46.39675230267321 46.39675230267321 1.542568644656841 0 0 1,94.31891136777676 Z\" style=\"fill: rgb(178, 223, 138);\"/><title>Brazil → Lithium mining\nBrazil\n27.9m</title><text class=\"label\" dy=\"0.35em\" x=\"5\" y=\"93.31891136777676\"/></g><g class=\"link\" style=\"opacity: 0.8;\"><path d=\"M90.83333333333333,272.7633749800752 A0 0 0 0 0 90.83333333333333,272.7633749800752 L179.66666666666666,272.7633749800752 A0 0 0 0 0 179.66666666666666,272.7633749800752 L179.66666666666666,274.7633749800752 A0 0 0 0 0 179.66666666666666,274.7633749800752 L90.83333333333333,274.7633749800752 A0 0 0 0 0 90.83333333333333,274.7633749800752 Z\" style=\"fill: rgb(178, 223, 138);\"/><title>Lithium mining → \nBrazil\n27.9m</title><text class=\"label\" dy=\"0.35em\" x=\"94.83333333333333\" y=\"273.7633749800752\"/></g><g class=\"link\" style=\"opacity: 0.8;\"><path d=\"M180.66666666666666,272.7633749800752 A999 999 0.008689997368953595 0 0 189.34786477565075,272.7256549483393 L260.8014221150219,272.10470809249375 A1001 1001 0.008689997368953595 0 1 269.5,272.0669125451788 L269.5,274.0669125451788 A999 999 0.008689997368953595 0 0 260.8188018910159,274.1046325769147 L189.3652445516447,274.72557943276024 A1001 1001 0.008689997368953595 0 1 180.66666666666666,274.7633749800752 Z\" style=\"fill: rgb(178, 223, 138);\"/><title> → Lithium refining\nBrazil\n27.9m</title><text class=\"label\" dy=\"0.35em\" x=\"184.66666666666666\" y=\"273.7633749800752\"/></g><g class=\"link\" style=\"opacity: 0.8;\"><path d=\"M180.66666666666666,173.19081944268277 A0 0 0 0 1 180.66666666666666,173.19081944268277 L269.5,173.2496087460483 A0 0 0 0 0 269.5,173.2496087460483 L269.5,175.2496087460483 A0 0 0 0 1 269.5,175.2496087460483 L180.66666666666666,175.19081944268277 A0 0 0 0 0 180.66666666666666,175.19081944268277 Z\" style=\"fill: rgb(255, 255, 153);\"/><title>Copper_smelting → Copper_refining\nUSA\n28.6m</title><text class=\"label\" dy=\"0.35em\" x=\"184.66666666666666\" y=\"174.19081944268277\"/></g><g class=\"link\" style=\"opacity: 0.8;\"><path d=\"M270.5,173.2496087460483 A642.7685280234878 642.7685280234878 0.026510870013960686 0 0 287.53835689781135,173.0237446848098 L342.85083036901995,171.55701925666204 A621.7990521066827 621.7990521066827 0.026510870013960686 0 1 359.3333333333333,171.33852371268304 L359.3333333333333,173.33852371268304 A619.7990521066827 619.7990521066827 0.026510870013960686 0 0 342.9038458984212,173.5563164715959 L287.5913724272126,175.02304189974365 A644.7685280234878 644.7685280234878 0.026510870013960686 0 1 270.5,175.2496087460483 Z\" style=\"fill: rgb(255, 255, 153);\"/><title>Copper_refining → \nUSA\n28.6m</title><text class=\"label\" dy=\"0.35em\" x=\"274.5\" y=\"174.2496087460483\"/></g><g class=\"link\" style=\"opacity: 0.8;\"><path d=\"M360.3333333333333,171.33852371268304 A35.83041955309761 35.83041955309761 0.585870424098007 0 1 380.14486291035604,177.31392256289462 L417.7605926349017,202.27539049874136 A56.79989546990287 56.79989546990287 0.585870424098007 0 0 449.16666666666663,211.74784530993978 L449.16666666666663,213.74784530993978 A58.79989546990287 58.79989546990287 0.585870424098007 0 1 416.6547429226111,203.94185274368627 L379.03901319806545,178.98038480783953 A33.83041955309761 33.83041955309761 0.585870424098007 0 0 360.3333333333333,173.33852371268304 Z\" style=\"fill: rgb(255, 255, 153);\"/><title> → Copper\nUSA\n28.6m</title><text class=\"label\" dy=\"0.35em\" x=\"364.3333333333333\" y=\"172.33852371268304\"/></g><g class=\"link\" style=\"opacity: 0.8;\"><path d=\"M1,258.4379703583084 A28.37106779042736 28.37106779042736 1.308902221304956 0 0 28.403651465829288,237.41247088547073 L52.329384386688325,148.15423820962513 A38.82793062452901 38.82793062452901 1.308902221304956 0 1 89.83333333333333,119.37926784517289 L89.83333333333333,121.37926784517289 A36.82793062452901 36.82793062452901 1.308902221304956 0 0 54.26118700111622,148.67205927803542 L30.335454080257183,237.930291953881 A30.37106779042736 30.37106779042736 1.308902221304956 0 1 1,260.4379703583084 Z\" style=\"fill: rgb(227, 26, 28);\"/><title>India   → Graphite production\nIndia  \n29.1m</title><text class=\"label\" dy=\"0.35em\" x=\"5\" y=\"259.4379703583084\"/></g><g class=\"link\" style=\"opacity: 0.8;\"><path d=\"M90.83333333333333,119.37926784517289 A0 0 0 0 0 90.83333333333333,119.37926784517289 L179.66666666666666,119.37926784517289 A0 0 0 0 0 179.66666666666666,119.37926784517289 L179.66666666666666,121.37926784517289 A0 0 0 0 0 179.66666666666666,121.37926784517289 L90.83333333333333,121.37926784517289 A0 0 0 0 0 90.83333333333333,121.37926784517289 Z\" style=\"fill: rgb(227, 26, 28);\"/><title>Graphite production → \nIndia  \n29.1m</title><text class=\"label\" dy=\"0.35em\" x=\"94.83333333333333\" y=\"120.37926784517289\"/></g><g class=\"link\" style=\"opacity: 0.8;\"><path d=\"M180.66666666666666,119.37926784517289 A0 0 0 0 1 180.66666666666666,119.37926784517289 L269.5,119.40866249685565 A0 0 0 0 0 269.5,119.40866249685565 L269.5,121.40866249685565 A0 0 0 0 1 269.5,121.40866249685565 L180.66666666666666,121.37926784517289 A0 0 0 0 0 180.66666666666666,121.37926784517289 Z\" style=\"fill: rgb(227, 26, 28);\"/><title> → \nIndia  \n29.1m</title><text class=\"label\" dy=\"0.35em\" x=\"184.66666666666666\" y=\"120.37926784517289\"/></g><g class=\"link\" style=\"opacity: 0.8;\"><path d=\"M270.5,119.40866249685565 A567.7435692354497 567.7435692354497 0.030113386592854674 0 0 287.5940977789323,119.15126245791787 L342.7063332421614,117.49114456789457 A552.2299275176895 552.2299275176895 0.030113386592854674 0 1 359.3333333333333,117.24077800709479 L359.3333333333333,119.24077800709479 A550.2299275176895 550.2299275176895 0.030113386592854674 0 0 342.7665509133257,119.49023782036667 L287.6543154500966,121.15035571038997 A569.7435692354497 569.7435692354497 0.030113386592854674 0 1 270.5,121.40866249685565 Z\" style=\"fill: rgb(227, 26, 28);\"/><title> → \nIndia  \n29.1m</title><text class=\"label\" dy=\"0.35em\" x=\"274.5\" y=\"120.40866249685565\"/></g><g class=\"link\" style=\"opacity: 0.8;\"><path d=\"M360.3333333333333,117.24077800709479 A68.14770259623548 68.14770259623548 0.29160475772111827 0 1 379.9250894687283,120.11771792450007 L425.11489979390257,133.68194955531447 A83.66134431399567 83.66134431399567 0.29160475772111827 0 0 449.16666666666663,137.21381712870524 L449.16666666666663,139.21381712870524 A85.66134431399567 85.66134431399567 0.29160475772111827 0 1 424.5399205828946,135.5975170709371 L379.3501102577203,122.0332854401227 A66.14770259623548 66.14770259623548 0.29160475772111827 0 0 360.3333333333333,119.24077800709479 Z\" style=\"fill: rgb(227, 26, 28);\"/><title> → Graphite/Carbon\nIndia  \n29.1m</title><text class=\"label\" dy=\"0.35em\" x=\"364.3333333333333\" y=\"118.24077800709479\"/></g><g class=\"link\" style=\"opacity: 0.8;\"><path d=\"M1,290.45337534483883 A27.190759011298326 27.190759011298326 1.3400841087598407 0 0 27.47030663416326,269.4803524411502 L43.12014553408277,202.8554543614247 A47.98459835216388 47.98459835216388 1.3400841087598407 0 1 89.83333333333333,165.84353866440208 L89.83333333333333,167.84353866440208 A45.98459835216388 45.98459835216388 1.3400841087598407 0 0 45.06715309081661,203.31279621826852 L29.4173141908971,269.93769429799397 A29.190759011298326 29.190759011298326 1.3400841087598407 0 1 1,292.45337534483883 Z\" style=\"fill: rgb(106, 61, 154);\"/><title>Kazakhstan → Copper mining\nKazakhstan\n29.4m</title><text class=\"label\" dy=\"0.35em\" x=\"5\" y=\"291.45337534483883\"/></g><g class=\"link\" style=\"opacity: 0.8;\"><path d=\"M90.83333333333333,165.84353866440208 A0 0 0 0 0 90.83333333333333,165.84353866440208 L179.66666666666666,165.84353866440208 A0 0 0 0 0 179.66666666666666,165.84353866440208 L179.66666666666666,167.84353866440208 A0 0 0 0 0 179.66666666666666,167.84353866440208 L90.83333333333333,167.84353866440208 A0 0 0 0 0 90.83333333333333,167.84353866440208 Z\" style=\"fill: rgb(106, 61, 154);\"/><title>Copper mining → Copper_smelting\nKazakhstan\n29.4m</title><text class=\"label\" dy=\"0.35em\" x=\"94.83333333333333\" y=\"166.84353866440208\"/></g><g class=\"link\" style=\"opacity: 0.8;\"><path d=\"M450.16666666666663,549.7664743157362 A50.4218766315147 50.4218766315147 1.616978063680967 0 0 500.5347841539473,497.0168554667119 L490.61816652731767,282.43924548166365 A48.43347260659717 48.43347260659717 1.616978063680967 0 1 539,231.76982597148555 L539,233.76982597148555 A46.43347260659717 46.43347260659717 1.616978063680967 0 0 492.61603415352175,282.3469148358005 L502.5326517801514,496.9245248208487 A52.4218766315147 52.4218766315147 1.616978063680967 0 1 450.16666666666663,551.7664743157362 Z\" style=\"fill: rgb(227, 26, 28);\"/><title>Other → NMC622\nCoolant: Glycol\n29.5m</title><text class=\"label\" dy=\"0.35em\" x=\"454.16666666666663\" y=\"550.7664743157362\"/></g><g class=\"link\" style=\"opacity: 0.8;\"><path d=\"M180.66666666666666,170.61014354335742 A0 0 0 0 1 180.66666666666666,170.61014354335742 L269.5,170.66893284672295 A0 0 0 0 0 269.5,170.66893284672295 L269.5,172.66893284672295 A0 0 0 0 1 269.5,172.66893284672295 L180.66666666666666,172.61014354335742 A0 0 0 0 0 180.66666666666666,172.61014354335742 Z\" style=\"fill: rgb(255, 127, 0);\"/><title>Copper_smelting → Copper_refining\nPoland\n30.0m</title><text class=\"label\" dy=\"0.35em\" x=\"184.66666666666666\" y=\"171.61014354335742\"/></g><g class=\"link\" style=\"opacity: 0.8;\"><path d=\"M270.5,170.66893284672295 A640.1878521241624 640.1878521241624 0.026510870013960686 0 0 287.46994894830345,170.44397561572575 L342.7824224195121,168.977250187578 A624.379728006008 624.379728006008 0.026510870013960686 0 1 359.3333333333333,168.7578478133577 L359.3333333333333,170.7578478133577 A622.379728006008 622.379728006008 0.026510870013960686 0 0 342.83543794891335,170.97654740251184 L287.5229644777047,172.4432728306596 A642.1878521241624 642.1878521241624 0.026510870013960686 0 1 270.5,172.66893284672295 Z\" style=\"fill: rgb(255, 127, 0);\"/><title>Copper_refining → \nPoland\n30.0m</title><text class=\"label\" dy=\"0.35em\" x=\"274.5\" y=\"171.66893284672295\"/></g><g class=\"link\" style=\"opacity: 0.8;\"><path d=\"M360.3333333333333,168.7578478133577 A38.41109545242294 38.41109545242294 0.585870424098007 0 1 381.5717827607482,175.16362308656218 L419.18751248529384,200.12509102240892 A54.21921957057754 54.21921957057754 0.585870424098007 0 0 449.16666666666663,209.16716941061443 L449.16666666666663,211.16716941061443 A56.21921957057754 56.21921957057754 0.585870424098007 0 1 418.08166277300325,201.79155326735383 L380.4659330484576,176.8300853315071 A36.41109545242294 36.41109545242294 0.585870424098007 0 0 360.3333333333333,170.7578478133577 Z\" style=\"fill: rgb(255, 127, 0);\"/><title> → Copper\nPoland\n30.0m</title><text class=\"label\" dy=\"0.35em\" x=\"364.3333333333333\" y=\"169.7578478133577\"/></g><g class=\"link\" style=\"opacity: 0.8;\"><path d=\"M270.5,331.93906113738774 A999 999 0.015568081361116315 0 0 286.05188505614706,331.8180021864021 L343.75031337216893,330.9196757844572 A1001 1001 0.015568081361116315 0 1 359.3333333333333,330.7983744732094 L359.3333333333333,332.7983744732094 A999 999 0.015568081361116315 0 0 343.78144827718626,332.919433424195 L286.0830199611644,333.81775982613993 A1001 1001 0.015568081361116315 0 1 270.5,333.93906113738774 Z\" style=\"fill: rgb(255, 127, 0);\"/><title>Manganese refining → Manganese\nKorea\n31.5m</title><text class=\"label\" dy=\"0.35em\" x=\"274.5\" y=\"332.93906113738774\"/></g><g class=\"link\" style=\"opacity: 0.8;\"><path d=\"M180.66666666666666,169.5832200493285 A0 0 0 0 1 180.66666666666666,169.5832200493285 L269.5,169.64200935269403 A0 0 0 0 0 269.5,169.64200935269403 L269.5,171.64200935269403 A0 0 0 0 1 269.5,171.64200935269403 L180.66666666666666,171.5832200493285 A0 0 0 0 0 180.66666666666666,171.5832200493285 Z\" style=\"fill: rgb(178, 223, 138);\"/><title>Copper_smelting → Copper_refining\nKorea (Rep. of)\n31.9m</title><text class=\"label\" dy=\"0.35em\" x=\"184.66666666666666\" y=\"170.5832200493285\"/></g><g class=\"link\" style=\"opacity: 0.8;\"><path d=\"M270.5,169.64200935269403 A639.1609286301335 639.1609286301335 0.026510870013960686 0 0 287.44272750195825,169.41741297494465 L342.75520097316684,167.95068754679693 A625.4066515000369 625.4066515000369 0.026510870013960686 0 1 359.3333333333333,167.73092431932878 L359.3333333333333,169.73092431932878 A623.4066515000369 623.4066515000369 0.026510870013960686 0 0 342.8082165025681,169.94998476173078 L287.4957430313595,171.4167101898785 A641.1609286301335 641.1609286301335 0.026510870013960686 0 1 270.5,171.64200935269403 Z\" style=\"fill: rgb(178, 223, 138);\"/><title>Copper_refining → \nKorea (Rep. of)\n31.9m</title><text class=\"label\" dy=\"0.35em\" x=\"274.5\" y=\"170.64200935269403\"/></g><g class=\"link\" style=\"opacity: 0.8;\"><path d=\"M360.3333333333333,167.73092431932878 A39.438018946451855 39.438018946451855 0.585870424098007 0 1 382.1395942859564,174.30795847093916 L419.755324010502,199.2694264067859 A53.19229607654863 53.19229607654863 0.585870424098007 0 0 449.16666666666663,208.1402459165855 L449.16666666666663,210.1402459165855 A55.19229607654863 55.19229607654863 0.585870424098007 0 1 418.64947429821143,200.9358886517308 L381.0337445736658,175.97442071588407 A37.438018946451855 37.438018946451855 0.585870424098007 0 0 360.3333333333333,169.73092431932878 Z\" style=\"fill: rgb(178, 223, 138);\"/><title> → Copper\nKorea (Rep. of)\n31.9m</title><text class=\"label\" dy=\"0.35em\" x=\"364.3333333333333\" y=\"168.73092431932878\"/></g><g class=\"link\" style=\"opacity: 0.8;\"><path d=\"M270.5,228.51877184052196 A745.0447026018261 745.0447026018261 0.02295473756063049 0 0 287.6008037343197,228.32249099085595 L342.88114082553943,227.0533224360778 A716.7861268132918 716.7861268132918 0.02295473756063049 0 1 359.3333333333333,226.86448626355232 L359.3333333333333,228.86448626355232 A714.7861268132918 714.7861268132918 0.02295473756063049 0 0 342.92704626899695,229.052795539238 L287.6467091777772,230.32196409401615 A747.0447026018261 747.0447026018261 0.02295473756063049 0 1 270.5,230.51877184052196 Z\" style=\"fill: rgb(253, 191, 111);\"/><title>Cobalt refining → Cobalt\nNorway\n32.0m</title><text class=\"label\" dy=\"0.35em\" x=\"274.5\" y=\"229.51877184052196\"/></g><g class=\"link\" style=\"opacity: 0.8;\"><path d=\"M1,384.68988834429433 A31.41627363044463 31.41627363044463 0.5932537440409188 0 0 18.563636643267614,379.32166486518037 L71.15157320732095,343.86275702892317 A33.41627363044463 33.41627363044463 0.5932537440409188 0 1 89.83333333333333,338.1527856046352 L89.83333333333333,340.1527856046352 A31.41627363044463 31.41627363044463 0.5932537440409188 0 0 72.2696966900657,345.52100908374916 L19.681760126012378,380.97991692000636 A33.41627363044463 33.41627363044463 0.5932537440409188 0 1 1,386.68988834429433 Z\" style=\"fill: rgb(177, 89, 40);\"/><title>Ukraine → Manganese mining\nUkraine\n32.8m</title><text class=\"label\" dy=\"0.35em\" x=\"5\" y=\"385.68988834429433\"/></g><g class=\"link\" style=\"opacity: 0.8;\"><path d=\"M90.83333333333333,338.1527856046352 A0 0 0 0 0 90.83333333333333,338.1527856046352 L179.66666666666666,338.1527856046352 A0 0 0 0 0 179.66666666666666,338.1527856046352 L179.66666666666666,340.1527856046352 A0 0 0 0 0 179.66666666666666,340.1527856046352 L90.83333333333333,340.1527856046352 A0 0 0 0 0 90.83333333333333,340.1527856046352 Z\" style=\"fill: rgb(177, 89, 40);\"/><title>Manganese mining → \nUkraine\n32.8m</title><text class=\"label\" dy=\"0.35em\" x=\"94.83333333333333\" y=\"339.1527856046352\"/></g><g class=\"link\" style=\"opacity: 0.8;\"><path d=\"M180.66666666666666,338.1527856046352 A999 999 0.0023173064848871494 0 0 182.98165377318915,338.1501033361177 L267.18037828465566,337.9549887365387 A1001 1001 0.0023173064848871494 0 1 269.5,337.9523010981143 L269.5,339.9523010981143 A999 999 0.0023173064848871494 0 0 267.18501289347756,339.9549833666318 L182.986288382011,340.15009796621075 A1001 1001 0.0023173064848871494 0 1 180.66666666666666,340.1527856046352 Z\" style=\"fill: rgb(177, 89, 40);\"/><title> → Manganese refining\nUkraine\n32.8m</title><text class=\"label\" dy=\"0.35em\" x=\"184.66666666666666\" y=\"339.1527856046352\"/></g><g class=\"link\" style=\"opacity: 0.8;\"><path d=\"M270.5,385.48033084124603 A288.66820832484274 288.66820832484274 0.062367354674316644 0 0 288.49180348950813,384.9190983164865 L342.47409424271154,381.54799366187694 A270.49685957541436 270.49685957541436 0.062367354674316644 0 1 359.3333333333333,381.02209011219264 L359.3333333333333,383.02209011219264 A268.49685957541436 268.49685957541436 0.062367354674316644 0 0 342.59874810462395,383.54410523558977 L288.61645735142054,386.9152098901993 A290.66820832484274 290.66820832484274 0.062367354674316644 0 1 270.5,387.48033084124603 Z\" style=\"fill: rgb(51, 160, 44);\"/><title>Nickel refining → Nickel\nNew Caledonia\n35.3m</title><text class=\"label\" dy=\"0.35em\" x=\"274.5\" y=\"386.48033084124603\"/></g><g class=\"link\" style=\"opacity: 0.8;\"><path d=\"M1,295.3198877806515 A31.999779496393685 31.999779496393685 1.4007086673276044 0 0 32.538020524300485,268.7366707759696 L52.6188507247414,151.81572026989403 A37.75935260837784 37.75935260837784 1.4007086673276044 0 1 89.83333333333333,120.44784586132405 L89.83333333333333,122.44784586132405 A35.75935260837784 35.75935260837784 1.4007086673276044 0 0 54.58999059011796,152.15425775839907 L34.50916038967704,269.07520826447467 A33.999779496393685 33.999779496393685 1.4007086673276044 0 1 1,297.3198877806515 Z\" style=\"fill: rgb(255, 255, 153);\"/><title>Korea, Dem. P.R. of → Graphite production\nKorea, Dem. P.R. of\n35.3m</title><text class=\"label\" dy=\"0.35em\" x=\"5\" y=\"296.3198877806515\"/></g><g class=\"link\" style=\"opacity: 0.8;\"><path d=\"M90.83333333333333,120.44784586132405 A0 0 0 0 0 90.83333333333333,120.44784586132405 L179.66666666666666,120.44784586132405 A0 0 0 0 0 179.66666666666666,120.44784586132405 L179.66666666666666,122.44784586132405 A0 0 0 0 0 179.66666666666666,122.44784586132405 L90.83333333333333,122.44784586132405 A0 0 0 0 0 90.83333333333333,122.44784586132405 Z\" style=\"fill: rgb(255, 255, 153);\"/><title>Graphite production → \nKorea, Dem. P.R. of\n35.3m</title><text class=\"label\" dy=\"0.35em\" x=\"94.83333333333333\" y=\"121.44784586132405\"/></g><g class=\"link\" style=\"opacity: 0.8;\"><path d=\"M180.66666666666666,120.44784586132405 A0 0 0 0 1 180.66666666666666,120.44784586132405 L269.5,120.47724051300682 A0 0 0 0 0 269.5,120.47724051300682 L269.5,122.47724051300682 A0 0 0 0 1 269.5,122.47724051300682 L180.66666666666666,122.44784586132405 A0 0 0 0 0 180.66666666666666,122.44784586132405 Z\" style=\"fill: rgb(255, 255, 153);\"/><title> → \nKorea, Dem. P.R. of\n35.3m</title><text class=\"label\" dy=\"0.35em\" x=\"184.66666666666666\" y=\"121.44784586132405\"/></g><g class=\"link\" style=\"opacity: 0.8;\"><path d=\"M270.5,120.47724051300682 A568.8121472516009 568.8121472516009 0.030113386592854674 0 0 287.6262714187273,120.21935600883178 L342.73850688195637,118.55923811880848 A551.1613495015383 551.1613495015383 0.030113386592854674 0 1 359.3333333333333,118.30935602324595 L359.3333333333333,120.30935602324595 A549.1613495015383 549.1613495015383 0.030113386592854674 0 0 342.7987245531207,120.55833137128059 L287.6864890898916,122.21844926130389 A570.8121472516009 570.8121472516009 0.030113386592854674 0 1 270.5,122.47724051300682 Z\" style=\"fill: rgb(255, 255, 153);\"/><title> → \nKorea, Dem. P.R. of\n35.3m</title><text class=\"label\" dy=\"0.35em\" x=\"274.5\" y=\"121.47724051300682\"/></g><g class=\"link\" style=\"opacity: 0.8;\"><path d=\"M360.3333333333333,118.30935602324595 A67.07912458008431 67.07912458008431 0.29160475772111916 0 1 379.6178843964148,121.1411845923239 L424.807694721589,134.70541622313831 A84.72992233014683 84.72992233014683 0.29160475772111916 0 0 449.16666666666663,138.28239514485642 L449.16666666666663,140.28239514485642 A86.72992233014683 86.72992233014683 0.29160475772111916 0 1 424.232715510581,136.62098373876094 L379.0429051854068,123.05675210794652 A65.07912458008431 65.07912458008431 0.29160475772111916 0 0 360.3333333333333,120.30935602324595 Z\" style=\"fill: rgb(255, 255, 153);\"/><title> → Graphite/Carbon\nKorea, Dem. P.R. of\n35.3m</title><text class=\"label\" dy=\"0.35em\" x=\"364.3333333333333\" y=\"119.30935602324595\"/></g><g class=\"link\" style=\"opacity: 0.8;\"><path d=\"M270.5,284.003342975177 A876.5123969374711 876.5123969374711 0.01937323699747817 0 0 287.4798201996913,283.83886079020704 L342.90133187883066,282.76503236240467 A848.233539105906 848.233539105906 0.01937323699747817 0 1 359.3333333333333,282.6058568546031 L359.3333333333333,284.6058568546031 A846.233539105906 846.233539105906 0.01937323699747817 0 0 342.9400759291351,284.7646570518317 L287.51856424999573,285.8384854796341 A878.5123969374711 878.5123969374711 0.01937323699747817 0 1 270.5,286.003342975177 Z\" style=\"fill: rgb(255, 255, 153);\"/><title>Lithium refining → Lithium\nUSA\n35.7m</title><text class=\"label\" dy=\"0.35em\" x=\"274.5\" y=\"285.003342975177\"/></g><g class=\"link\" style=\"opacity: 0.8;\"><path d=\"M270.5,330.81775353197696 A999 999 0.015568081361116315 0 0 286.05188505614706,330.69669458099133 L343.75031337216893,329.7983681790464 A1001 1001 0.015568081361116315 0 1 359.3333333333333,329.6770668677986 L359.3333333333333,331.6770668677986 A999 999 0.015568081361116315 0 0 343.78144827718626,331.79812581878423 L286.0830199611644,332.69645222072916 A1001 1001 0.015568081361116315 0 1 270.5,332.81775353197696 Z\" style=\"fill: rgb(31, 120, 180);\"/><title>Manganese refining → Manganese\nJapan\n36.1m</title><text class=\"label\" dy=\"0.35em\" x=\"274.5\" y=\"331.81775353197696\"/></g><g class=\"link\" style=\"opacity: 0.8;\"><path d=\"M270.5,376.4157674124989 A279.6036448960957 279.6036448960957 0.062367354674316644 0 0 287.92683707053664,375.8721583310984 L341.90912782374005,372.5010536764888 A279.5614230041614 279.5614230041614 0.062367354674316644 0 1 359.3333333333333,371.9575266834455 L359.3333333333333,373.9575266834455 A277.5614230041614 277.5614230041614 0.062367354674316644 0 0 342.03378168565246,374.49716525020165 L288.05149093244904,377.8682699048112 A281.6036448960957 281.6036448960957 0.062367354674316644 0 1 270.5,378.4157674124989 Z\" style=\"fill: rgb(227, 26, 28);\"/><title>Nickel refining → Nickel\nFinland\n36.2m</title><text class=\"label\" dy=\"0.35em\" x=\"274.5\" y=\"377.4157674124989\"/></g><g class=\"link\" style=\"opacity: 0.8;\"><path d=\"M270.5,386.6791082252499 A289.86698570884664 289.86698570884664 0.062367354674316644 0 0 288.5665196047527,386.11554502174414 L342.5488103579562,382.7444403671346 A269.29808219141046 269.29808219141046 0.062367354674316644 0 1 359.3333333333333,382.2208674961965 L359.3333333333333,384.2208674961965 A267.29808219141046 267.29808219141046 0.062367354674316644 0 0 342.6734642198686,384.7405519408474 L288.69117346666513,388.11165659545696 A291.86698570884664 291.86698570884664 0.062367354674316644 0 1 270.5,388.6791082252499 Z\" style=\"fill: rgb(253, 191, 111);\"/><title>Nickel refining → Nickel\nNorway\n37.0m</title><text class=\"label\" dy=\"0.35em\" x=\"274.5\" y=\"387.6791082252499\"/></g><g class=\"link\" style=\"opacity: 0.8;\"><path d=\"M1,310.91772230652424 A28.817356690753307 28.817356690753307 1.3970997344013205 0 0 29.383731442308434,287.08071058906506 L43.65860002064929,205.72609795188407 A46.88015607379229 46.88015607379229 1.3970997344013205 0 1 89.83333333333333,166.94798094277368 L89.83333333333333,168.94798094277368 A44.88015607379229 44.88015607379229 1.3970997344013205 0 0 45.628505293148905,206.0717469318887 L31.353636714808044,287.4263595690697 A30.817356690753307 30.817356690753307 1.3970997344013205 0 1 1,312.91772230652424 Z\" style=\"fill: rgb(31, 120, 180);\"/><title>Mexico → Copper mining\nMexico\n37.2m</title><text class=\"label\" dy=\"0.35em\" x=\"5\" y=\"311.91772230652424\"/></g><g class=\"link\" style=\"opacity: 0.8;\"><path d=\"M90.83333333333333,166.94798094277368 A0 0 0 0 0 90.83333333333333,166.94798094277368 L179.66666666666666,166.94798094277368 A0 0 0 0 0 179.66666666666666,166.94798094277368 L179.66666666666666,168.94798094277368 A0 0 0 0 0 179.66666666666666,168.94798094277368 L90.83333333333333,168.94798094277368 A0 0 0 0 0 90.83333333333333,168.94798094277368 Z\" style=\"fill: rgb(31, 120, 180);\"/><title>Copper mining → Copper_smelting\nMexico\n37.2m</title><text class=\"label\" dy=\"0.35em\" x=\"94.83333333333333\" y=\"167.94798094277368\"/></g><g class=\"link\" style=\"opacity: 0.8;\"><path d=\"M450.16666666666663,472.4730947382321 A40.46099144559257 40.46099144559257 1.5935622604234099 0 0 490.6171733473293,431.09105061337414 L487.2083314834198,281.38258801016366 A51.80509290886317 51.80509290886317 1.5935622604234099 0 1 539,228.39820566921955 L539,230.39820566921955 A49.80509290886317 49.80509290886317 1.5935622604234099 0 0 489.20781321807056,281.33706007590604 L492.61665508198007,431.0455226791165 A42.46099144559257 42.46099144559257 1.5935622604234099 0 1 450.16666666666663,474.4730947382321 Z\" style=\"fill: rgb(255, 255, 153);\"/><title>Electrolyte → NMC622\nElectrolyte: Dimethyl Carbonate\n38.1m</title><text class=\"label\" dy=\"0.35em\" x=\"454.16666666666663\" y=\"473.4730947382321\"/></g><g class=\"link\" style=\"opacity: 0.8;\"><path d=\"M450.16666666666663,473.73863742930405 A41.726534136664526 41.726534136664526 1.5935622604234099 0 0 491.8823880949389,431.0622418411545 L488.4735462310294,281.353779237944 A50.539550217791216 50.539550217791216 1.5935622604234099 0 1 539,229.66374836029152 L539,231.66374836029152 A48.539550217791216 48.539550217791216 1.5935622604234099 0 0 490.47302796568016,281.3082513036864 L493.8818698295897,431.0167139068969 A43.726534136664526 43.726534136664526 1.5935622604234099 0 1 450.16666666666663,475.73863742930405 Z\" style=\"fill: rgb(177, 89, 40);\"/><title>Electrolyte → NMC622\nElectrolyte: Ethylene Carbonate\n38.1m</title><text class=\"label\" dy=\"0.35em\" x=\"454.16666666666663\" y=\"474.73863742930405\"/></g><g class=\"link\" style=\"opacity: 0.8;\"><path d=\"M1,389.6660136355232 A36.56599047171766 36.56599047171766 1.4688713075498823 0 0 37.37621812073631,356.82056269596507 L52.39307037170789,209.99876756477656 A37.635586364954634 37.635586364954634 1.4688713075498823 0 1 89.83333333333333,176.1925506516113 L89.83333333333333,178.1925506516113 A35.635586364954634 35.635586364954634 1.4688713075498823 0 0 54.38269065281976,210.2022648300858 L39.36583840184818,357.0240599612743 A38.56599047171766 38.56599047171766 1.4688713075498823 0 1 1,391.6660136355232 Z\" style=\"fill: rgb(166, 206, 227);\"/><title>Zambia → Copper mining\nZambia\n38.6m</title><text class=\"label\" dy=\"0.35em\" x=\"5\" y=\"390.6660136355232\"/></g><g class=\"link\" style=\"opacity: 0.8;\"><path d=\"M90.83333333333333,176.1925506516113 A0 0 0 0 0 90.83333333333333,176.1925506516113 L179.66666666666666,176.1925506516113 A0 0 0 0 0 179.66666666666666,176.1925506516113 L179.66666666666666,178.1925506516113 A0 0 0 0 0 179.66666666666666,178.1925506516113 L90.83333333333333,178.1925506516113 A0 0 0 0 0 90.83333333333333,178.1925506516113 Z\" style=\"fill: rgb(166, 206, 227);\"/><title>Copper mining → Copper_smelting\nZambia\n38.6m</title><text class=\"label\" dy=\"0.35em\" x=\"94.83333333333333\" y=\"177.1925506516113\"/></g><g class=\"link\" style=\"opacity: 0.8;\"><path d=\"M1,151.79753081418002 A38.7744331200874 38.7744331200874 1.4499752258436718 0 1 39.49176771119023,185.89858376014246 L58.055400200616994,338.79584506474185 A32.0112953033047 32.0112953033047 1.4499752258436718 0 0 89.83333333333333,366.9489033602946 L89.83333333333333,368.9489033602946 A34.0112953033047 34.0112953033047 1.4499752258436718 0 1 56.06998018986,339.03689979065626 L37.50634770043323,186.13963848605687 A36.7744331200874 36.7744331200874 1.4499752258436718 0 0 1,153.79753081418002 Z\" style=\"fill: rgb(253, 191, 111);\"/><title>China → Nickel mining\nChina\n38.7m</title><text class=\"label\" dy=\"0.35em\" x=\"5\" y=\"152.79753081418002\"/></g><g class=\"link\" style=\"opacity: 0.8;\"><path d=\"M90.83333333333333,366.9489033602946 A0 0 0 0 0 90.83333333333333,366.9489033602946 L179.66666666666666,366.9489033602946 A0 0 0 0 0 179.66666666666666,366.9489033602946 L179.66666666666666,368.9489033602946 A0 0 0 0 0 179.66666666666666,368.9489033602946 L90.83333333333333,368.9489033602946 A0 0 0 0 0 90.83333333333333,368.9489033602946 Z\" style=\"fill: rgb(253, 191, 111);\"/><title>Nickel mining → \nChina\n38.7m</title><text class=\"label\" dy=\"0.35em\" x=\"94.83333333333333\" y=\"367.9489033602946\"/></g><g class=\"link\" style=\"opacity: 0.8;\"><path d=\"M180.66666666666666,366.9489033602946 A999 999 0.0019696332846876885 0 0 182.63432904582606,366.9469655730106 L267.52839835681823,366.77975517219437 A1001 1001 0.0019696332846876885 0 1 269.5,366.7778135054564 L269.5,368.7778135054564 A999 999 0.0019696332846876885 0 0 267.5323376208406,368.7797512927404 L182.6382683098484,368.9469616935566 A1001 1001 0.0019696332846876885 0 1 180.66666666666666,368.9489033602946 Z\" style=\"fill: rgb(253, 191, 111);\"/><title> → Nickel refining\nChina\n38.7m</title><text class=\"label\" dy=\"0.35em\" x=\"184.66666666666666\" y=\"367.9489033602946\"/></g><g class=\"link\" style=\"opacity: 0.8;\"><path d=\"M180.66666666666666,174.31466982272383 A0 0 0 0 1 180.66666666666666,174.31466982272383 L269.5,174.37345912608936 A0 0 0 0 0 269.5,174.37345912608936 L269.5,176.37345912608936 A0 0 0 0 1 269.5,176.37345912608936 L180.66666666666666,176.31466982272383 A0 0 0 0 0 180.66666666666666,176.31466982272383 Z\" style=\"fill: rgb(51, 160, 44);\"/><title>Copper_smelting → Copper_refining\nZambia  (a)\n39.2m</title><text class=\"label\" dy=\"0.35em\" x=\"184.66666666666666\" y=\"175.31466982272383\"/></g><g class=\"link\" style=\"opacity: 0.8;\"><path d=\"M270.5,174.37345912608936 A643.8923784035288 643.8923784035288 0.026510870013960686 0 0 287.5681476592442,174.14720015221903 L342.8806211304528,172.68047472407127 A620.6752017266416 620.6752017266416 0.026510870013960686 0 1 359.3333333333333,172.4623740927241 L359.3333333333333,174.4623740927241 A618.6752017266416 618.6752017266416 0.026510870013960686 0 0 342.9336366598541,174.67977193900512 L287.6211631886454,176.14649736715288 A645.8923784035288 645.8923784035288 0.026510870013960686 0 1 270.5,176.37345912608936 Z\" style=\"fill: rgb(51, 160, 44);\"/><title>Copper_refining → \nZambia  (a)\n39.2m</title><text class=\"label\" dy=\"0.35em\" x=\"274.5\" y=\"175.37345912608936\"/></g><g class=\"link\" style=\"opacity: 0.8;\"><path d=\"M360.3333333333333,172.4623740927241 A34.706569173056536 34.706569173056536 0.585870424098007 0 1 379.523458100643,178.25034967654733 L417.1391878251886,203.21181761239404 A57.92374584994395 57.92374584994395 0.585870424098007 0 0 449.16666666666663,212.87169568998084 L449.16666666666663,214.87169568998084 A59.92374584994395 59.92374584994395 0.585870424098007 0 1 416.03333811289804,204.87827985733895 L378.4176083883524,179.91681192149224 A32.706569173056536 32.706569173056536 0.585870424098007 0 0 360.3333333333333,174.4623740927241 Z\" style=\"fill: rgb(51, 160, 44);\"/><title> → Copper\nZambia  (a)\n39.2m</title><text class=\"label\" dy=\"0.35em\" x=\"364.3333333333333\" y=\"173.4623740927241\"/></g><g class=\"link\" style=\"opacity: 0.8;\"><path d=\"M1,355.8641945133763 A32.91674289508319 32.91674289508319 1.4402007995957153 0 0 33.63644093816364,327.23402200856617 L49.231933034027634,208.49542440073927 A40.95011025757388 40.95011025757388 1.4402007995957153 0 1 89.83333333333333,172.8780267589921 L89.83333333333333,174.8780267589921 A38.95011025757388 38.95011025757388 1.4402007995957153 0 0 51.21490206849056,208.7558736440885 L35.61940997262656,327.49447125191546 A34.91674289508319 34.91674289508319 1.4402007995957153 0 1 1,357.8641945133763 Z\" style=\"fill: rgb(202, 178, 214);\"/><title>Russia → Copper mining\nRussia\n39.3m</title><text class=\"label\" dy=\"0.35em\" x=\"5\" y=\"356.8641945133763\"/></g><g class=\"link\" style=\"opacity: 0.8;\"><path d=\"M90.83333333333333,172.8780267589921 A0 0 0 0 0 90.83333333333333,172.8780267589921 L179.66666666666666,172.8780267589921 A0 0 0 0 0 179.66666666666666,172.8780267589921 L179.66666666666666,174.8780267589921 A0 0 0 0 0 179.66666666666666,174.8780267589921 L90.83333333333333,174.8780267589921 A0 0 0 0 0 90.83333333333333,174.8780267589921 Z\" style=\"fill: rgb(202, 178, 214);\"/><title>Copper mining → Copper_smelting\nRussia\n39.3m</title><text class=\"label\" dy=\"0.35em\" x=\"94.83333333333333\" y=\"173.8780267589921\"/></g><g class=\"link\" style=\"opacity: 0.8;\"><path d=\"M360.3333333333333,69.24232727082371 A0 0 0 0 0 360.3333333333333,69.24232727082371 L449.16666666666663,69.24232727082371 A0 0 0 0 0 449.16666666666663,69.24232727082371 L449.16666666666663,71.24232727082371 A0 0 0 0 0 449.16666666666663,71.24232727082371 L360.3333333333333,71.24232727082371 A0 0 0 0 0 360.3333333333333,71.24232727082371 Z\" style=\"fill: rgb(106, 61, 154);\"/><title>Aluminium primary → Aluminium\nUnited Arab Emirates\n41.4m</title><text class=\"label\" dy=\"0.35em\" x=\"364.3333333333333\" y=\"70.24232727082371\"/></g><g class=\"link\" style=\"opacity: 0.8;\"><path d=\"M1,107.33100636812775 A45.501116500129534 45.501116500129534 1.189844389621057 0 1 43.23919250483684,135.9146106605568 L62.12232955561039,183.06152275912103 A29.850987588868232 29.850987588868232 1.189844389621057 0 0 89.83333333333333,201.81378385970285 L89.83333333333333,203.81378385970285 A31.850987588868232 31.850987588868232 1.189844389621057 0 1 60.26570731185879,183.8051314223349 L41.38257026108524,136.65821932377068 A43.501116500129534 43.501116500129534 1.189844389621057 0 0 1,109.33100636812775 Z\" style=\"fill: rgb(251, 154, 153);\"/><title>Canada → Cobalt mining\nCanada\n41.7m</title><text class=\"label\" dy=\"0.35em\" x=\"5\" y=\"108.33100636812775\"/></g><g class=\"link\" style=\"opacity: 0.8;\"><path d=\"M90.83333333333333,201.81378385970285 A0 0 0 0 0 90.83333333333333,201.81378385970285 L179.66666666666666,201.81378385970285 A0 0 0 0 0 179.66666666666666,201.81378385970285 L179.66666666666666,203.81378385970285 A0 0 0 0 0 179.66666666666666,203.81378385970285 L90.83333333333333,203.81378385970285 A0 0 0 0 0 90.83333333333333,203.81378385970285 Z\" style=\"fill: rgb(251, 154, 153);\"/><title>Cobalt mining → \nCanada\n41.7m</title><text class=\"label\" dy=\"0.35em\" x=\"94.83333333333333\" y=\"202.81378385970285\"/></g><g class=\"link\" style=\"opacity: 0.8;\"><path d=\"M180.66666666666666,201.81378385970285 A665.7710745684635 665.7710745684635 0.02470016280886589 0 0 197.1096485110857,201.61070137026854 L252.37133764457909,200.24545099475773 A693.5340591013027 693.5340591013027 0.02470016280886589 0 1 269.5,200.03389986463233 L269.5,202.03389986463233 A691.5340591013027 691.5340591013027 0.02470016280886589 0 0 252.4207329471764,202.24484092773264 L197.159043813683,203.61009130324345 A667.7710745684635 667.7710745684635 0.02470016280886589 0 1 180.66666666666666,203.81378385970285 Z\" style=\"fill: rgb(251, 154, 153);\"/><title> → Cobalt refining\nCanada\n41.7m</title><text class=\"label\" dy=\"0.35em\" x=\"184.66666666666666\" y=\"202.81378385970285\"/></g><g class=\"link\" style=\"opacity: 0.8;\"><path d=\"M1,212.1093732209455 A100.61037979848449 100.61037979848449 0.16595482807751405 0 1 17.62024274269116,213.49165188689136 L73.54347882247234,222.85853231687472 A98.61037979848449 98.61037979848449 0.16595482807751405 0 0 89.83333333333333,224.2133331287718 L89.83333333333333,226.2133331287718 A100.61037979848449 100.61037979848449 0.16595482807751405 0 1 73.21309059064217,224.83105446282596 L17.289854510860998,215.4641740328426 A98.61037979848449 98.61037979848449 0.16595482807751405 0 0 1,214.1093732209455 Z\" style=\"fill: rgb(255, 255, 153);\"/><title>Cuba → Cobalt mining\nCuba\n42.2m</title><text class=\"label\" dy=\"0.35em\" x=\"5\" y=\"213.1093732209455\"/></g><g class=\"link\" style=\"opacity: 0.8;\"><path d=\"M90.83333333333333,224.2133331287718 A0 0 0 0 0 90.83333333333333,224.2133331287718 L179.66666666666666,224.2133331287718 A0 0 0 0 0 179.66666666666666,224.2133331287718 L179.66666666666666,226.2133331287718 A0 0 0 0 0 179.66666666666666,226.2133331287718 L90.83333333333333,226.2133331287718 A0 0 0 0 0 90.83333333333333,226.2133331287718 Z\" style=\"fill: rgb(255, 255, 153);\"/><title>Cobalt mining → \nCuba\n42.2m</title><text class=\"label\" dy=\"0.35em\" x=\"94.83333333333333\" y=\"225.2133331287718\"/></g><g class=\"link\" style=\"opacity: 0.8;\"><path d=\"M180.66666666666666,224.2133331287718 A688.1706238375325 688.1706238375325 0.02470016280886589 0 0 197.6628647681801,224.0034180261443 L252.92455390167345,222.63816765063345 A671.1345098322337 671.1345098322337 0.02470016280886589 0 1 269.5,222.4334491337013 L269.5,224.4334491337013 A669.1345098322337 669.1345098322337 0.02470016280886589 0 0 252.97394920427075,224.63755758360836 L197.7122600707774,226.0028079591192 A690.1706238375325 690.1706238375325 0.02470016280886589 0 1 180.66666666666666,226.2133331287718 Z\" style=\"fill: rgb(255, 255, 153);\"/><title> → Cobalt refining\nCuba\n42.2m</title><text class=\"label\" dy=\"0.35em\" x=\"184.66666666666666\" y=\"225.2133331287718\"/></g><g class=\"link\" style=\"opacity: 0.8;\"><path d=\"M270.5,361.9901118504072 A265.177989334004 265.177989334004 0.062367354674316644 0 0 287.02773023232044,361.47454931815525 L341.0100209855239,358.1034446635457 A293.9870785662531 293.9870785662531 0.062367354674316644 0 1 359.3333333333333,357.5318711213538 L359.3333333333333,359.5318711213538 A291.9870785662531 291.9870785662531 0.062367354674316644 0 0 341.1346748474363,360.0995562372585 L287.15238409423284,363.4706608918681 A267.177989334004 267.177989334004 0.062367354674316644 0 1 270.5,363.9901118504072 Z\" style=\"fill: rgb(31, 120, 180);\"/><title>Nickel refining → Nickel\nAustralia\n42.7m</title><text class=\"label\" dy=\"0.35em\" x=\"274.5\" y=\"362.9901118504072\"/></g><g class=\"link\" style=\"opacity: 0.8;\"><path d=\"M270.5,226.5588791100965 A743.0848098714005 743.0848098714005 0.02295473756063049 0 0 287.55581886186,226.36311459107355 L342.83615595307975,225.09394603629536 A718.7460195437175 718.7460195437175 0.02295473756063049 0 1 359.3333333333333,224.90459353312687 L359.3333333333333,226.90459353312687 A716.7460195437175 716.7460195437175 0.02295473756063049 0 0 342.88206139653727,227.09341913945556 L287.60172430531753,228.36258769423375 A745.0848098714005 745.0848098714005 0.02295473756063049 0 1 270.5,228.5588791100965 Z\" style=\"fill: rgb(31, 120, 180);\"/><title>Cobalt refining → Cobalt\nJapan\n43.4m</title><text class=\"label\" dy=\"0.35em\" x=\"274.5\" y=\"227.5588791100965\"/></g><g class=\"link\" style=\"opacity: 0.8;\"><path d=\"M1,357.25796413235673 A34.310512514063646 34.310512514063646 1.247711198411412 0 0 33.53530114360461,333.840818796199 L61.8928029966528,249.14525612935736 A29.465038959834324 29.465038959834324 1.247711198411412 0 1 89.83333333333333,229.03517764028877 L89.83333333333333,231.03517764028877 A27.465038959834324 27.465038959834324 1.247711198411412 0 0 63.78932384461557,249.7802432735127 L35.43182199156739,334.4758059403544 A36.310512514063646 36.310512514063646 1.247711198411412 0 1 1,359.25796413235673 Z\" style=\"fill: rgb(202, 178, 214);\"/><title>Russia → Cobalt mining\nRussia\n44.7m</title><text class=\"label\" dy=\"0.35em\" x=\"5\" y=\"358.25796413235673\"/></g><g class=\"link\" style=\"opacity: 0.8;\"><path d=\"M90.83333333333333,229.03517764028877 A0 0 0 0 0 90.83333333333333,229.03517764028877 L179.66666666666666,229.03517764028877 A0 0 0 0 0 179.66666666666666,229.03517764028877 L179.66666666666666,231.03517764028877 A0 0 0 0 0 179.66666666666666,231.03517764028877 L90.83333333333333,231.03517764028877 A0 0 0 0 0 90.83333333333333,231.03517764028877 Z\" style=\"fill: rgb(202, 178, 214);\"/><title>Cobalt mining → \nRussia\n44.7m</title><text class=\"label\" dy=\"0.35em\" x=\"94.83333333333333\" y=\"230.03517764028877\"/></g><g class=\"link\" style=\"opacity: 0.8;\"><path d=\"M180.66666666666666,229.03517764028877 A692.9924683490494 692.9924683490494 0.02470016280886589 0 0 197.78195300254185,228.82379171349288 L253.0436421360352,227.45854133798204 A666.3126653207167 666.3126653207167 0.02470016280886589 0 1 269.5,227.25529364521825 L269.5,229.25529364521825 A664.3126653207167 664.3126653207167 0.02470016280886589 0 0 253.0930374386325,229.45793127095695 L197.83134830513916,230.8231816464678 A694.9924683490494 694.9924683490494 0.02470016280886589 0 1 180.66666666666666,231.03517764028877 Z\" style=\"fill: rgb(202, 178, 214);\"/><title> → Cobalt refining\nRussia\n44.7m</title><text class=\"label\" dy=\"0.35em\" x=\"184.66666666666666\" y=\"230.03517764028877\"/></g><g class=\"link\" style=\"opacity: 0.8;\"><path d=\"M270.5,201.04059702355303 A717.5665277848569 717.5665277848569 0.02295473756063049 0 0 286.9701048341311,200.8515552556247 L342.25044192535086,199.5823867008465 A744.264301630261 744.264301630261 0.02295473756063049 0 1 359.3333333333333,199.3863114465834 L359.3333333333333,201.3863114465834 A742.264301630261 742.264301630261 0.02295473756063049 0 0 342.29634736880837,201.5818598040067 L287.01601027758863,202.8510283587849 A719.5665277848569 719.5665277848569 0.02295473756063049 0 1 270.5,203.04059702355303 Z\" style=\"fill: rgb(251, 154, 153);\"/><title>Cobalt refining → Cobalt\nCanada\n44.7m</title><text class=\"label\" dy=\"0.35em\" x=\"274.5\" y=\"202.04059702355303\"/></g><g class=\"link\" style=\"opacity: 0.8;\"><path d=\"M1,59.538272766268385 A45.419832648555406 45.419832648555406 1.107806430555999 0 1 41.63808424650442,84.67246254611517 L66.88203660240572,135.24349296370661 A25.651899589133244 25.651899589133244 1.107806430555999 0 0 89.83333333333333,149.4386071878308 L89.83333333333333,151.4386071878308 A27.651899589133244 27.651899589133244 1.107806430555999 0 1 65.09259433118692,136.13674340897677 L39.84864197528562,85.5657129913853 A43.419832648555406 43.419832648555406 1.107806430555999 0 0 1,61.538272766268385 Z\" style=\"fill: rgb(31, 120, 180);\"/><title>Australia → Copper mining\nAustralia\n45.2m</title><text class=\"label\" dy=\"0.35em\" x=\"5\" y=\"60.538272766268385\"/></g><g class=\"link\" style=\"opacity: 0.8;\"><path d=\"M90.83333333333333,149.4386071878308 A0 0 0 0 0 90.83333333333333,149.4386071878308 L179.66666666666666,149.4386071878308 A0 0 0 0 0 179.66666666666666,149.4386071878308 L179.66666666666666,151.4386071878308 A0 0 0 0 0 179.66666666666666,151.4386071878308 L90.83333333333333,151.4386071878308 A0 0 0 0 0 90.83333333333333,151.4386071878308 Z\" style=\"fill: rgb(31, 120, 180);\"/><title>Copper mining → Copper_smelting\nAustralia\n45.2m</title><text class=\"label\" dy=\"0.35em\" x=\"94.83333333333333\" y=\"150.4386071878308\"/></g><g class=\"link\" style=\"opacity: 0.8;\"><path d=\"M360.3333333333333,44.78090306235149 A0 0 0 0 0 360.3333333333333,44.78090306235149 L449.16666666666663,44.78090306235149 A0 0 0 0 0 449.16666666666663,44.78090306235149 L449.16666666666663,46.78090306235149 A0 0 0 0 0 449.16666666666663,46.78090306235149 L360.3333333333333,46.78090306235149 A0 0 0 0 0 360.3333333333333,46.78090306235149 Z\" style=\"fill: rgb(251, 154, 153);\"/><title>Aluminium primary → Aluminium\nCanada\n45.4m</title><text class=\"label\" dy=\"0.35em\" x=\"364.3333333333333\" y=\"45.78090306235149\"/></g><g class=\"link\" style=\"opacity: 0.8;\"><path d=\"M1,61.054689293561424 A43.903416121262374 43.903416121262374 1.353467335561022 0 1 43.87066994850072,95.49155349327188 L62.10863756735449,178.08486696142919 A28.392578341121503 28.392578341121503 1.353467335561022 0 0 89.83333333333333,200.3553746119561 L89.83333333333333,202.3553746119561 A30.392578341121503 30.392578341121503 1.353467335561022 0 1 60.15568384593605,178.5161113955937 L41.91771622708228,95.92279792743642 A41.903416121262374 41.903416121262374 1.353467335561022 0 0 1,63.054689293561424 Z\" style=\"fill: rgb(31, 120, 180);\"/><title>Australia → Cobalt mining\nAustralia\n46.2m</title><text class=\"label\" dy=\"0.35em\" x=\"5\" y=\"62.054689293561424\"/></g><g class=\"link\" style=\"opacity: 0.8;\"><path d=\"M90.83333333333333,200.3553746119561 A0 0 0 0 0 90.83333333333333,200.3553746119561 L179.66666666666666,200.3553746119561 A0 0 0 0 0 179.66666666666666,200.3553746119561 L179.66666666666666,202.3553746119561 A0 0 0 0 0 179.66666666666666,202.3553746119561 L90.83333333333333,202.3553746119561 A0 0 0 0 0 90.83333333333333,202.3553746119561 Z\" style=\"fill: rgb(31, 120, 180);\"/><title>Cobalt mining → \nAustralia\n46.2m</title><text class=\"label\" dy=\"0.35em\" x=\"94.83333333333333\" y=\"201.3553746119561\"/></g><g class=\"link\" style=\"opacity: 0.8;\"><path d=\"M180.66666666666666,200.3553746119561 A664.3126653207167 664.3126653207167 0.02470016280886589 0 0 197.07362922803415,200.1527369862174 L252.3353183615275,198.78748661070657 A694.9924683490494 694.9924683490494 0.02470016280886589 0 1 269.5,198.5754906168856 L269.5,200.5754906168856 A692.9924683490494 692.9924683490494 0.02470016280886589 0 0 252.3847136641248,200.78687654368147 L197.12302453063145,202.1521269191923 A666.3126653207167 666.3126653207167 0.02470016280886589 0 1 180.66666666666666,202.3553746119561 Z\" style=\"fill: rgb(31, 120, 180);\"/><title> → Cobalt refining\nAustralia\n46.2m</title><text class=\"label\" dy=\"0.35em\" x=\"184.66666666666666\" y=\"201.3553746119561\"/></g><g class=\"link\" style=\"opacity: 0.8;\"><path d=\"M1,300.48094102892503 A32.424987944017076 32.424987944017076 1.3995609843530166 0 0 32.950773039766105,273.5811630656243 L53.974591913591986,152.0061880671776 A36.390958577922724 36.390958577922724 1.3995609843530166 0 1 89.83333333333333,121.81623989177918 L89.83333333333333,123.81623989177918 A34.390958577922724 34.390958577922724 1.3995609843530166 0 0 55.9453419471729,152.34698757589328 L34.92152307334702,273.92196257434 A34.424987944017076 34.424987944017076 1.3995609843530166 0 1 1,302.48094102892503 Z\" style=\"fill: rgb(177, 89, 40);\"/><title>Madagascar → Graphite production\nMadagascar\n47.2m</title><text class=\"label\" dy=\"0.35em\" x=\"5\" y=\"301.48094102892503\"/></g><g class=\"link\" style=\"opacity: 0.8;\"><path d=\"M90.83333333333333,121.81623989177918 A0 0 0 0 0 90.83333333333333,121.81623989177918 L179.66666666666666,121.81623989177918 A0 0 0 0 0 179.66666666666666,121.81623989177918 L179.66666666666666,123.81623989177918 A0 0 0 0 0 179.66666666666666,123.81623989177918 L90.83333333333333,123.81623989177918 A0 0 0 0 0 90.83333333333333,123.81623989177918 Z\" style=\"fill: rgb(177, 89, 40);\"/><title>Graphite production → \nMadagascar\n47.2m</title><text class=\"label\" dy=\"0.35em\" x=\"94.83333333333333\" y=\"122.81623989177918\"/></g><g class=\"link\" style=\"opacity: 0.8;\"><path d=\"M180.66666666666666,121.81623989177918 A0 0 0 0 1 180.66666666666666,121.81623989177918 L269.5,121.84563454346194 A0 0 0 0 0 269.5,121.84563454346194 L269.5,123.84563454346194 A0 0 0 0 1 269.5,123.84563454346194 L180.66666666666666,123.81623989177918 A0 0 0 0 0 180.66666666666666,123.81623989177918 Z\" style=\"fill: rgb(177, 89, 40);\"/><title> → \nMadagascar\n47.2m</title><text class=\"label\" dy=\"0.35em\" x=\"184.66666666666666\" y=\"122.81623989177918\"/></g><g class=\"link\" style=\"opacity: 0.8;\"><path d=\"M270.5,121.84563454346194 A570.180541282056 570.180541282056 0.030113386592854674 0 0 287.66747216960187,121.58712964533476 L342.779707632831,119.92701175531147 A549.7929554710832 549.7929554710832 0.030113386592854674 0 1 359.3333333333333,119.67775005370108 L359.3333333333333,121.67775005370108 A547.7929554710832 547.7929554710832 0.030113386592854674 0 0 342.8399253039953,121.92610500778358 L287.7276898407662,123.58622289780686 A572.180541282056 572.180541282056 0.030113386592854674 0 1 270.5,123.84563454346194 Z\" style=\"fill: rgb(177, 89, 40);\"/><title> → \nMadagascar\n47.2m</title><text class=\"label\" dy=\"0.35em\" x=\"274.5\" y=\"122.84563454346194\"/></g><g class=\"link\" style=\"opacity: 0.8;\"><path d=\"M360.3333333333333,119.67775005370108 A65.7107305496292 65.7107305496292 0.29160475772111827 0 1 379.2244853364252,122.45181016897976 L424.41429566159945,136.01604179979418 A86.09831636060194 86.09831636060194 0.29160475772111827 0 0 449.16666666666663,139.65078917531153 L449.16666666666663,141.65078917531153 A88.09831636060194 88.09831636060194 0.29160475772111827 0 1 423.83931645059147,137.9316093154168 L378.6495061254172,124.36737768460239 A63.710730549629204 63.710730549629204 0.29160475772111827 0 0 360.3333333333333,121.67775005370108 Z\" style=\"fill: rgb(177, 89, 40);\"/><title> → Graphite/Carbon\nMadagascar\n47.2m</title><text class=\"label\" dy=\"0.35em\" x=\"364.3333333333333\" y=\"120.67775005370108\"/></g><g class=\"link\" style=\"opacity: 0.8;\"><path d=\"M1,263.5063064538066 A34.00586922082183 34.00586922082183 1.4064707937144447 0 0 34.54777322313518,235.0633549236154 L57.128250256225655,98.88936046524142 A33.1516721118547 33.1516721118547 1.4064707937144447 0 1 89.83333333333333,71.1608705125448 L89.83333333333333,73.1608705125448 A31.1516721118547 31.1516721118547 1.4064707937144447 0 0 59.10130808370174,99.21653443950493 L36.520831050611264,235.39052889787894 A36.00586922082183 36.00586922082183 1.4064707937144447 0 1 1,265.5063064538066 Z\" style=\"fill: rgb(253, 191, 111);\"/><title>Indonesia → Aluminium mining\nIndonesia\n47.8m</title><text class=\"label\" dy=\"0.35em\" x=\"5\" y=\"264.5063064538066\"/></g><g class=\"link\" style=\"opacity: 0.8;\"><path d=\"M90.83333333333333,71.1608705125448 A0 0 0 0 0 90.83333333333333,71.1608705125448 L179.66666666666666,71.1608705125448 A0 0 0 0 0 179.66666666666666,71.1608705125448 L179.66666666666666,73.1608705125448 A0 0 0 0 0 179.66666666666666,73.1608705125448 L90.83333333333333,73.1608705125448 A0 0 0 0 0 90.83333333333333,73.1608705125448 Z\" style=\"fill: rgb(253, 191, 111);\"/><title>Aluminium mining → \nIndonesia\n47.8m</title><text class=\"label\" dy=\"0.35em\" x=\"94.83333333333333\" y=\"72.1608705125448\"/></g><g class=\"link\" style=\"opacity: 0.8;\"><path d=\"M180.66666666666666,71.1608705125448 A0 0 0 0 0 180.66666666666666,71.1608705125448 L269.5,71.1608705125448 A0 0 0 0 0 269.5,71.1608705125448 L269.5,73.1608705125448 A0 0 0 0 0 269.5,73.1608705125448 L180.66666666666666,73.1608705125448 A0 0 0 0 0 180.66666666666666,73.1608705125448 Z\" style=\"fill: rgb(253, 191, 111);\"/><title> → Aluminium refining\nIndonesia\n47.8m</title><text class=\"label\" dy=\"0.35em\" x=\"184.66666666666666\" y=\"72.1608705125448\"/></g><g class=\"link\" style=\"opacity: 0.8;\"><path d=\"M270.5,199.50542503040168 A716.0313557917056 716.0313557917056 0.02295473756063049 0 0 286.9348684585665,199.31678770110923 L342.2152055497862,198.04761914633104 A745.7994736234124 745.7994736234124 0.02295473756063049 0 1 359.3333333333333,197.85113945343204 L359.3333333333333,199.85113945343204 A743.7994736234124 743.7994736234124 0.02295473756063049 0 0 342.26111099324373,200.04709224949124 L286.980773902024,201.31626080426943 A718.0313557917056 718.0313557917056 0.02295473756063049 0 1 270.5,201.50542503040168 Z\" style=\"fill: rgb(251, 154, 153);\"/><title>Cobalt refining → Cobalt\nBelgium\n47.8m</title><text class=\"label\" dy=\"0.35em\" x=\"274.5\" y=\"200.50542503040168\"/></g><g class=\"link\" style=\"opacity: 0.8;\"><path d=\"M270.5,334.12353766225056 A999 999 0.015568081361116315 0 0 286.05188505614706,334.0024787112649 L343.75031337216893,333.10415230932 A1001 1001 0.015568081361116315 0 1 359.3333333333333,332.9828509980722 L359.3333333333333,334.9828509980722 A999 999 0.015568081361116315 0 0 343.78144827718626,335.1039099490578 L286.0830199611644,336.00223635100275 A1001 1001 0.015568081361116315 0 1 270.5,336.12353766225056 Z\" style=\"fill: rgb(106, 61, 154);\"/><title>Manganese refining → Manganese\nSouth Africa\n48.1m</title><text class=\"label\" dy=\"0.35em\" x=\"274.5\" y=\"335.12353766225056\"/></g><g class=\"link\" style=\"opacity: 0.8;\"><path d=\"M180.66666666666666,171.912306087668 A0 0 0 0 1 180.66666666666666,171.912306087668 L269.5,171.97109539103351 A0 0 0 0 0 269.5,171.97109539103351 L269.5,173.97109539103351 A0 0 0 0 1 269.5,173.97109539103351 L180.66666666666666,173.912306087668 A0 0 0 0 0 180.66666666666666,173.912306087668 Z\" style=\"fill: rgb(202, 178, 214);\"/><title>Copper_smelting → Copper_refining\nRussia\n48.5m</title><text class=\"label\" dy=\"0.35em\" x=\"184.66666666666666\" y=\"172.912306087668\"/></g><g class=\"link\" style=\"opacity: 0.8;\"><path d=\"M270.5,171.97109539103351 A641.490014668473 641.490014668473 0.026510870013960686 0 0 287.50446636663,171.74568058984138 L342.8169398378386,170.27895516169366 A623.0775654616974 623.0775654616974 0.026510870013960686 0 1 359.3333333333333,170.06001035766826 L359.3333333333333,172.06001035766826 A621.0775654616974 621.0775654616974 0.026510870013960686 0 0 342.86995536723987,172.2782523766275 L287.5574818960313,173.74497780477523 A643.490014668473 643.490014668473 0.026510870013960686 0 1 270.5,173.97109539103351 Z\" style=\"fill: rgb(202, 178, 214);\"/><title>Copper_refining → \nRussia\n48.5m</title><text class=\"label\" dy=\"0.35em\" x=\"274.5\" y=\"172.97109539103351\"/></g><g class=\"link\" style=\"opacity: 0.8;\"><path d=\"M360.3333333333333,170.06001035766826 A37.10893290811237 37.10893290811237 0.585870424098007 0 1 380.8517847232574,176.24862544499965 L418.46751444780307,201.2100933808464 A55.52138211488811 55.52138211488811 0.585870424098007 0 0 449.16666666666663,210.469331954925 L449.16666666666663,212.469331954925 A57.52138211488811 57.52138211488811 0.585870424098007 0 1 417.3616647355125,202.8765556257913 L379.74593501096683,177.91508768994456 A35.10893290811237 35.10893290811237 0.585870424098007 0 0 360.3333333333333,172.06001035766826 Z\" style=\"fill: rgb(202, 178, 214);\"/><title> → Copper\nRussia\n48.5m</title><text class=\"label\" dy=\"0.35em\" x=\"364.3333333333333\" y=\"171.06001035766826\"/></g><g class=\"link\" style=\"opacity: 0.8;\"><path d=\"M270.5,364.25251095106273 A267.44038843465955 267.44038843465955 0.062367354674316644 0 0 287.1687386248623,363.7325498327433 L341.15102937806574,360.36144517813375 A291.72467946559755 291.72467946559755 0.062367354674316644 0 1 359.3333333333333,359.79427022200935 L359.3333333333333,361.79427022200935 A289.72467946559755 289.72467946559755 0.062367354674316644 0 0 341.27568323997815,362.3575567518466 L287.29339248677474,365.7286614064561 A269.44038843465955 269.44038843465955 0.062367354674316644 0 1 270.5,366.25251095106273 Z\" style=\"fill: rgb(251, 154, 153);\"/><title>Nickel refining → Nickel\nCanada\n50.1m</title><text class=\"label\" dy=\"0.35em\" x=\"274.5\" y=\"365.25251095106273\"/></g><g class=\"link\" style=\"opacity: 0.8;\"><path d=\"M270.5,68.84668995282492 A0 0 0 0 0 270.5,68.84668995282492 L359.3333333333333,68.84668995282492 A0 0 0 0 0 359.3333333333333,68.84668995282492 L359.3333333333333,70.84668995282492 A0 0 0 0 0 359.3333333333333,70.84668995282492 L270.5,70.84668995282492 A0 0 0 0 0 270.5,70.84668995282492 Z\" style=\"fill: rgb(51, 160, 44);\"/><title>Aluminium refining → Aluminium primary\nIndia\n51.1m</title><text class=\"label\" dy=\"0.35em\" x=\"274.5\" y=\"69.84668995282492\"/></g><g class=\"link\" style=\"opacity: 0.8;\"><path d=\"M1,253.2961309637961 A28.231982450036856 28.231982450036856 0.9512235942449094 0 1 23.984409006280295,265.13415795179725 L53.69698936227043,306.7913468538613 A44.38663741672809 44.38663741672809 0.9512235942449094 0 0 89.83333333333333,325.4032248038337 L89.83333333333333,327.4032248038337 A46.38663741672809 46.38663741672809 0.9512235942449094 0 1 52.06873608271724,307.9527215813392 L22.356155726727103,266.29553267927514 A26.231982450036856 26.231982450036856 0.9512235942449094 0 0 1,255.2961309637961 Z\" style=\"fill: rgb(251, 154, 153);\"/><title>India  → Manganese mining\nIndia \n52.2m</title><text class=\"label\" dy=\"0.35em\" x=\"5\" y=\"254.2961309637961\"/></g><g class=\"link\" style=\"opacity: 0.8;\"><path d=\"M90.83333333333333,325.4032248038337 A0 0 0 0 0 90.83333333333333,325.4032248038337 L179.66666666666666,325.4032248038337 A0 0 0 0 0 179.66666666666666,325.4032248038337 L179.66666666666666,327.4032248038337 A0 0 0 0 0 179.66666666666666,327.4032248038337 L90.83333333333333,327.4032248038337 A0 0 0 0 0 90.83333333333333,327.4032248038337 Z\" style=\"fill: rgb(251, 154, 153);\"/><title>Manganese mining → \nIndia \n52.2m</title><text class=\"label\" dy=\"0.35em\" x=\"94.83333333333333\" y=\"326.4032248038337\"/></g><g class=\"link\" style=\"opacity: 0.8;\"><path d=\"M180.66666666666666,325.4032248038337 A999 999 0.0023173064848871494 0 0 182.98165377318915,325.4005425353162 L267.18037828465566,325.20542793573725 A1001 1001 0.0023173064848871494 0 1 269.5,325.2027402973128 L269.5,327.2027402973128 A999 999 0.0023173064848871494 0 0 267.18501289347756,327.2054225658303 L182.986288382011,327.4005371654093 A1001 1001 0.0023173064848871494 0 1 180.66666666666666,327.4032248038337 Z\" style=\"fill: rgb(251, 154, 153);\"/><title> → Manganese refining\nIndia \n52.2m</title><text class=\"label\" dy=\"0.35em\" x=\"184.66666666666666\" y=\"326.4032248038337\"/></g><g class=\"link\" style=\"opacity: 0.8;\"><path d=\"M1,342.0332967894471 A26.521509192466702 26.521509192466702 1.1481313855760429 0 0 25.18759096592946,326.3907072635182 L61.462231944954155,245.73966788362895 A31.108696493676984 31.108696493676984 1.1481313855760429 0 1 89.83333333333333,227.3915201064461 L89.83333333333333,229.3915201064461 A29.108696493676984 29.108696493676984 1.1481313855760429 0 0 63.28623002820048,246.56005254481767 L27.011589049175782,327.211091924707 A28.521509192466702 28.521509192466702 1.1481313855760429 0 1 1,344.0332967894471 Z\" style=\"fill: rgb(253, 191, 111);\"/><title>Philippines → Cobalt mining\nPhilippines\n54.4m</title><text class=\"label\" dy=\"0.35em\" x=\"5\" y=\"343.0332967894471\"/></g><g class=\"link\" style=\"opacity: 0.8;\"><path d=\"M90.83333333333333,227.3915201064461 A0 0 0 0 0 90.83333333333333,227.3915201064461 L179.66666666666666,227.3915201064461 A0 0 0 0 0 179.66666666666666,227.3915201064461 L179.66666666666666,229.3915201064461 A0 0 0 0 0 179.66666666666666,229.3915201064461 L90.83333333333333,229.3915201064461 A0 0 0 0 0 90.83333333333333,229.3915201064461 Z\" style=\"fill: rgb(253, 191, 111);\"/><title>Cobalt mining → \nPhilippines\n54.4m</title><text class=\"label\" dy=\"0.35em\" x=\"94.83333333333333\" y=\"228.3915201064461\"/></g><g class=\"link\" style=\"opacity: 0.8;\"><path d=\"M180.66666666666666,227.3915201064461 A691.3488108152068 691.3488108152068 0.02470016280886589 0 0 197.7413585219166,227.1806355502812 L253.00304765540997,225.81538517477037 A667.9563228545594 667.9563228545594 0.02470016280886589 0 1 269.5,225.6116361113756 L269.5,227.6116361113756 A665.9563228545594 665.9563228545594 0.02470016280886589 0 0 253.05244295800728,227.81477510774528 L197.7907538245139,229.18002548325612 A693.3488108152068 693.3488108152068 0.02470016280886589 0 1 180.66666666666666,229.3915201064461 Z\" style=\"fill: rgb(253, 191, 111);\"/><title> → Cobalt refining\nPhilippines\n54.4m</title><text class=\"label\" dy=\"0.35em\" x=\"184.66666666666666\" y=\"228.3915201064461\"/></g><g class=\"link\" style=\"opacity: 0.8;\"><path d=\"M1,93.71945827952275 A46.99620539092722 46.99620539092722 1.4980258205697226 0 1 47.87182499669999,137.29874362091016 L58.51517945063254,283.2996567560476 A31.40126061743267 31.40126061743267 1.4980258205697226 0 0 89.83333333333333,312.4178480045383 L89.83333333333333,314.4178480045383 A33.40126061743267 33.40126061743267 1.4980258205697226 0 1 56.52047266072014,283.4450693493035 L45.87711820678759,137.44415621416601 A44.99620539092722 44.99620539092722 1.4980258205697226 0 0 1,95.71945827952275 Z\" style=\"fill: rgb(178, 223, 138);\"/><title>Brazil → Manganese mining\nBrazil\n56.5m</title><text class=\"label\" dy=\"0.35em\" x=\"5\" y=\"94.71945827952275\"/></g><g class=\"link\" style=\"opacity: 0.8;\"><path d=\"M90.83333333333333,312.4178480045383 A0 0 0 0 0 90.83333333333333,312.4178480045383 L179.66666666666666,312.4178480045383 A0 0 0 0 0 179.66666666666666,312.4178480045383 L179.66666666666666,314.4178480045383 A0 0 0 0 0 179.66666666666666,314.4178480045383 L90.83333333333333,314.4178480045383 A0 0 0 0 0 90.83333333333333,314.4178480045383 Z\" style=\"fill: rgb(178, 223, 138);\"/><title>Manganese mining → \nBrazil\n56.5m</title><text class=\"label\" dy=\"0.35em\" x=\"94.83333333333333\" y=\"313.4178480045383\"/></g><g class=\"link\" style=\"opacity: 0.8;\"><path d=\"M180.66666666666666,312.4178480045383 A999 999 0.0023173064848871494 0 0 182.98165377318915,312.4151657360208 L267.18037828465566,312.22005113644184 A1001 1001 0.0023173064848871494 0 1 269.5,312.2173634980174 L269.5,314.2173634980174 A999 999 0.0023173064848871494 0 0 267.18501289347756,314.2200457665349 L182.986288382011,314.41516036611387 A1001 1001 0.0023173064848871494 0 1 180.66666666666666,314.4178480045383 Z\" style=\"fill: rgb(178, 223, 138);\"/><title> → Manganese refining\nBrazil\n56.5m</title><text class=\"label\" dy=\"0.35em\" x=\"184.66666666666666\" y=\"313.4178480045383\"/></g><g class=\"link\" style=\"opacity: 0.8;\"><path d=\"M360.3333333333333,64.99190099673342 A0 0 0 0 0 360.3333333333333,64.99190099673342 L449.16666666666663,64.99190099673342 A0 0 0 0 0 449.16666666666663,64.99190099673342 L449.16666666666663,66.99190099673342 A0 0 0 0 0 449.16666666666663,66.99190099673342 L360.3333333333333,66.99190099673342 A0 0 0 0 0 360.3333333333333,66.99190099673342 Z\" style=\"fill: rgb(51, 160, 44);\"/><title>Aluminium primary → Aluminium\nIndia\n57.7m</title><text class=\"label\" dy=\"0.35em\" x=\"364.3333333333333\" y=\"65.99190099673342\"/></g><g class=\"link\" style=\"opacity: 0.8;\"><path d=\"M360.3333333333333,67.59603888803649 A0 0 0 0 0 360.3333333333333,67.59603888803649 L449.16666666666663,67.59603888803649 A0 0 0 0 0 449.16666666666663,67.59603888803649 L449.16666666666663,69.59603888803649 A0 0 0 0 0 449.16666666666663,69.59603888803649 L360.3333333333333,69.59603888803649 A0 0 0 0 0 360.3333333333333,69.59603888803649 Z\" style=\"fill: rgb(202, 178, 214);\"/><title>Aluminium primary → Aluminium\nRussia\n57.9m</title><text class=\"label\" dy=\"0.35em\" x=\"364.3333333333333\" y=\"68.59603888803649\"/></g><g class=\"link\" style=\"opacity: 0.8;\"><path d=\"M1,84.03601473092478 A20.922090683899036 20.922090683899036 1.3998325823212208 0 1 21.61707297765586,101.3985857254124 L62.744828357574406,339.61441484340577 A27.489263786780135 27.489263786780135 1.3998325823212208 0 0 89.83333333333333,362.42687184377 L89.83333333333333,364.42687184377 A29.489263786780135 29.489263786780135 1.3998325823212208 0 1 60.77398583622714,339.95467908785344 L19.646230456308594,101.7388499698601 A18.922090683899036 18.922090683899036 1.3998325823212208 0 0 1,86.03601473092478 Z\" style=\"fill: rgb(31, 120, 180);\"/><title>Australia → Nickel mining\nAustralia\n58.7m</title><text class=\"label\" dy=\"0.35em\" x=\"5\" y=\"85.03601473092478\"/></g><g class=\"link\" style=\"opacity: 0.8;\"><path d=\"M90.83333333333333,362.42687184377 A0 0 0 0 0 90.83333333333333,362.42687184377 L179.66666666666666,362.42687184377 A0 0 0 0 0 179.66666666666666,362.42687184377 L179.66666666666666,364.42687184377 A0 0 0 0 0 179.66666666666666,364.42687184377 L90.83333333333333,364.42687184377 A0 0 0 0 0 90.83333333333333,364.42687184377 Z\" style=\"fill: rgb(31, 120, 180);\"/><title>Nickel mining → \nAustralia\n58.7m</title><text class=\"label\" dy=\"0.35em\" x=\"94.83333333333333\" y=\"363.42687184377\"/></g><g class=\"link\" style=\"opacity: 0.8;\"><path d=\"M180.66666666666666,362.42687184377 A999 999 0.0019696332846876885 0 0 182.63432904582606,362.424934056486 L267.52839835681823,362.2577236556698 A1001 1001 0.0019696332846876885 0 1 269.5,362.2557819889318 L269.5,364.2557819889318 A999 999 0.0019696332846876885 0 0 267.5323376208406,364.2577197762158 L182.6382683098484,364.424930177032 A1001 1001 0.0019696332846876885 0 1 180.66666666666666,364.42687184377 Z\" style=\"fill: rgb(31, 120, 180);\"/><title> → Nickel refining\nAustralia\n58.7m</title><text class=\"label\" dy=\"0.35em\" x=\"184.66666666666666\" y=\"363.42687184377\"/></g><g class=\"link\" style=\"opacity: 0.8;\"><path d=\"M1,379.33176239542854 A35.488985287605985 35.488985287605985 1.4662920037051395 0 0 36.29537126251049,347.54478253535274 L50.75039043551629,209.7288667282477 A39.29733378297714 39.29733378297714 1.4662920037051395 0 1 89.83333333333333,174.5308032335888 L89.83333333333333,176.55267727141853 A37.27545974514744 37.27545974514744 1.4662920037051395 0 0 52.76123391928737,209.9397769191469 L38.306214746281576,347.75569272625194 A37.51085932543569 37.51085932543569 1.4662920037051395 0 1 1,381.3536364332582 Z\" style=\"fill: rgb(255, 255, 153);\"/><title>USA → Copper mining\nUSA\n60.9m</title><text class=\"label\" dy=\"0.35em\" x=\"5\" y=\"380.3426994143434\"/></g><g class=\"link\" style=\"opacity: 0.8;\"><path d=\"M90.83333333333333,174.5308032335888 A0 0 0 0 0 90.83333333333333,174.5308032335888 L179.66666666666666,174.5308032335888 A0 0 0 0 0 179.66666666666666,174.5308032335888 L179.66666666666666,176.55267727141853 A0 0 0 0 0 179.66666666666666,176.55267727141853 L90.83333333333333,176.55267727141853 A0 0 0 0 0 90.83333333333333,176.55267727141853 Z\" style=\"fill: rgb(255, 255, 153);\"/><title>Copper mining → Copper_smelting\nUSA\n60.9m</title><text class=\"label\" dy=\"0.35em\" x=\"94.83333333333333\" y=\"175.54174025250367\"/></g><g class=\"link\" style=\"opacity: 0.8;\"><path d=\"M180.66666666666666,150.50580035789346 A0 0 0 0 1 180.66666666666666,150.50580035789346 L269.5,150.564589661259 A0 0 0 0 0 269.5,150.564589661259 L269.5,152.6224212779445 A0 0 0 0 1 269.5,152.6224212779445 L180.66666666666666,152.56363197457898 A0 0 0 0 0 180.66666666666666,152.56363197457898 Z\" style=\"fill: rgb(227, 26, 28);\"/><title>Copper_smelting → Copper_refining\nChile\n62.0m</title><text class=\"label\" dy=\"0.35em\" x=\"184.66666666666666\" y=\"151.53471616623622\"/></g><g class=\"link\" style=\"opacity: 0.8;\"><path d=\"M270.5,150.564589661259 A620.0835089386986 620.0835089386986 0.026510870013960686 0 0 286.93702774968267,150.34669694633936 L342.24950122089126,148.87997151819164 A644.4840711914718 644.4840711914718 0.026510870013960686 0 1 359.3333333333333,148.65350462789374 L359.3333333333333,150.71133624457926 A642.4262395747863 642.4262395747863 0.026510870013960686 0 0 342.30404973717987,150.93708002821276 L286.9915762659713,152.4038054563605 A622.1413405553841 622.1413405553841 0.026510870013960686 0 1 270.5,152.6224212779445 Z\" style=\"fill: rgb(227, 26, 28);\"/><title>Copper_refining → \nChile\n62.0m</title><text class=\"label\" dy=\"0.35em\" x=\"274.5\" y=\"151.59350546960175\"/></g><g class=\"link\" style=\"opacity: 0.8;\"><path d=\"M360.3333333333333,148.65350462789374 A58.51543863788689 58.51543863788689 0.585870424098007 0 1 392.68797382446684,158.41205864756688 L430.3037035490125,183.37352658341362 A34.1148763851136 34.1148763851136 0.585870424098007 0 0 449.16666666666663,189.06282622515047 L449.16666666666663,191.120657841836 A36.172708001799144 36.172708001799144 0.585870424098007 0 1 429.1658772983854,185.0881759312438 L391.55014757383975,160.12670799539706 A56.45760702120134 56.45760702120134 0.585870424098007 0 0 360.3333333333333,150.71133624457926 Z\" style=\"fill: rgb(227, 26, 28);\"/><title> → Copper\nChile\n62.0m</title><text class=\"label\" dy=\"0.35em\" x=\"364.3333333333333\" y=\"149.6824204362365\"/></g><g class=\"link\" style=\"opacity: 0.8;\"><path d=\"M1,247.52661161851663 A32.325238870139835 32.325238870139835 1.3894730752704476 0 0 32.7952966526153,221.03062474016699 L55.35299897909934,97.9910240706332 A35.05502894030157 35.05502894030157 1.3894730752704476 0 1 89.83333333333333,69.25751368409793 L89.83333333333333,71.36773566540991 A32.944806958989574 32.944806958989574 1.3894730752704476 0 0 57.42862583427048,98.3715631205409 L34.870923507786436,221.4111637900747 A34.43546085145183 34.43546085145183 1.3894730752704476 0 1 1,249.63683359982863 Z\" style=\"fill: rgb(51, 160, 44);\"/><title>India → Aluminium mining\nIndia\n63.6m</title><text class=\"label\" dy=\"0.35em\" x=\"5\" y=\"248.58172260917263\"/></g><g class=\"link\" style=\"opacity: 0.8;\"><path d=\"M90.83333333333333,69.25751368409793 A0 0 0 0 0 90.83333333333333,69.25751368409793 L179.66666666666666,69.25751368409793 A0 0 0 0 0 179.66666666666666,69.25751368409793 L179.66666666666666,71.36773566540991 A0 0 0 0 0 179.66666666666666,71.36773566540991 L90.83333333333333,71.36773566540991 A0 0 0 0 0 90.83333333333333,71.36773566540991 Z\" style=\"fill: rgb(51, 160, 44);\"/><title>Aluminium mining → \nIndia\n63.6m</title><text class=\"label\" dy=\"0.35em\" x=\"94.83333333333333\" y=\"70.31262467475392\"/></g><g class=\"link\" style=\"opacity: 0.8;\"><path d=\"M180.66666666666666,69.25751368409793 A0 0 0 0 0 180.66666666666666,69.25751368409793 L269.5,69.25751368409793 A0 0 0 0 0 269.5,69.25751368409793 L269.5,71.36773566540991 A0 0 0 0 0 269.5,71.36773566540991 L180.66666666666666,71.36773566540991 A0 0 0 0 0 180.66666666666666,71.36773566540991 Z\" style=\"fill: rgb(51, 160, 44);\"/><title> → Aluminium refining\nIndia\n63.6m</title><text class=\"label\" dy=\"0.35em\" x=\"184.66666666666666\" y=\"70.31262467475392\"/></g><g class=\"link\" style=\"opacity: 0.8;\"><path d=\"M1,109.02242034263293 A43.80970252562436 43.80970252562436 1.4905898433008524 0 1 44.66886239246245,149.32206692399149 L59.782589860481195,337.35305432642826 A30.147662661501784 30.147662661501784 1.4905898433008524 0 0 89.83333333333333,365.08527071849164 L89.83333333333333,367.306332192024 A32.36872413503418 32.36872413503418 1.4905898433008524 0 1 57.56866869093763,337.5310069163412 L42.45494122291888,149.50001951390448 A41.58864105209196 41.58864105209196 1.4905898433008524 0 0 1,111.24348181616531 Z\" style=\"fill: rgb(251, 154, 153);\"/><title>Canada → Nickel mining\nCanada\n66.9m</title><text class=\"label\" dy=\"0.35em\" x=\"5\" y=\"110.13295107939912\"/></g><g class=\"link\" style=\"opacity: 0.8;\"><path d=\"M90.83333333333333,365.08527071849164 A0 0 0 0 0 90.83333333333333,365.08527071849164 L179.66666666666666,365.08527071849164 A0 0 0 0 0 179.66666666666666,365.08527071849164 L179.66666666666666,367.306332192024 A0 0 0 0 0 179.66666666666666,367.306332192024 L90.83333333333333,367.306332192024 A0 0 0 0 0 90.83333333333333,367.306332192024 Z\" style=\"fill: rgb(251, 154, 153);\"/><title>Nickel mining → \nCanada\n66.9m</title><text class=\"label\" dy=\"0.35em\" x=\"94.83333333333333\" y=\"366.1958014552578\"/></g><g class=\"link\" style=\"opacity: 0.8;\"><path d=\"M180.66666666666666,365.08527071849164 A998.8894692632338 998.8894692632338 0.0019696332846876885 0 0 182.63411134094872,365.08333314560707 L267.5281806519409,364.91612274479087 A1001.1105307367662 1001.1105307367662 0.0019696332846876885 0 1 269.5,364.9141808636534 L269.5,367.1352423371858 A998.8894692632338 998.8894692632338 0.0019696332846876885 0 0 267.53255532571796,367.13717991007036 L182.63848601472574,367.30439031088656 A1001.1105307367662 1001.1105307367662 0.0019696332846876885 0 1 180.66666666666666,367.306332192024 Z\" style=\"fill: rgb(251, 154, 153);\"/><title> → Nickel refining\nCanada\n66.9m</title><text class=\"label\" dy=\"0.35em\" x=\"184.66666666666666\" y=\"366.1958014552578\"/></g><g class=\"link\" style=\"opacity: 0.8;\"><path d=\"M1,206.33689932997652 A33.20920345668493 33.20920345668493 0.5845096962298476 0 0 19.32452443432711,200.82359806988455 L62.380840614713186,172.33611597599355 A49.75165491214536 49.75165491214536 0.5845096962298476 0 1 89.83333333333333,164.07648210442062 L89.83333333333333,166.3557214320141 A47.472415584551904 47.472415584551904 0.5845096962298476 0 0 63.638503322722464,174.2369622152595 L20.582187142336394,202.7244443091505 A35.48844278427839 35.48844278427839 0.5845096962298476 0 1 1,208.61613865757 Z\" style=\"fill: rgb(106, 61, 154);\"/><title>Congo, Democratic Republic → Copper mining\nCongo, Democratic Republic\n68.7m</title><text class=\"label\" dy=\"0.35em\" x=\"5\" y=\"207.47651899377325\"/></g><g class=\"link\" style=\"opacity: 0.8;\"><path d=\"M90.83333333333333,164.07648210442062 A0 0 0 0 0 90.83333333333333,164.07648210442062 L179.66666666666666,164.07648210442062 A0 0 0 0 0 179.66666666666666,164.07648210442062 L179.66666666666666,166.3557214320141 A0 0 0 0 0 179.66666666666666,166.3557214320141 L90.83333333333333,166.3557214320141 A0 0 0 0 0 90.83333333333333,166.3557214320141 Z\" style=\"fill: rgb(106, 61, 154);\"/><title>Copper mining → Copper_smelting\nCongo, Democratic Republic\n68.7m</title><text class=\"label\" dy=\"0.35em\" x=\"94.83333333333333\" y=\"165.21610176821736\"/></g><g class=\"link\" style=\"opacity: 0.8;\"><path d=\"M270.5,48.598209660019535 A0 0 0 0 0 270.5,48.598209660019535 L359.3333333333333,48.598209660019535 A0 0 0 0 0 359.3333333333333,48.598209660019535 L359.3333333333333,50.91808706346808 A0 0 0 0 0 359.3333333333333,50.91808706346808 L270.5,50.91808706346808 A0 0 0 0 0 270.5,50.91808706346808 Z\" style=\"fill: rgb(178, 223, 138);\"/><title>Aluminium refining → Aluminium primary\nBrazil\n69.9m</title><text class=\"label\" dy=\"0.35em\" x=\"274.5\" y=\"49.75814836174381\"/></g><g class=\"link\" style=\"opacity: 0.8;\"><path d=\"M450.16666666666663,188.24621180103634 A50.92571975879127 50.92571975879127 0.3466926175115259 0 1 467.4706697661516,191.27620722368297 L522.4943458937539,211.15543184036883 A48.57617688910667 48.57617688910667 0.3466926175115259 0 0 539,214.04563337941056 L539,216.3951762490952 A50.92571975879127 50.92571975879127 0.3466926175115259 0 1 521.695996900515,213.36518082644855 L466.67232077291277,193.4859562097627 A48.57617688910667 48.57617688910667 0.3466926175115259 0 0 450.16666666666663,190.59575467072096 Z\" style=\"fill: rgb(255, 127, 0);\"/><title>Copper → NMC622\nCopper\n70.8m</title><text class=\"label\" dy=\"0.35em\" x=\"454.16666666666663\" y=\"189.42098323587865\"/></g><g class=\"link\" style=\"opacity: 0.8;\"><path d=\"M180.66666666666666,167.6737978220645 A0 0 0 0 1 180.66666666666666,167.6737978220645 L269.5,167.73258712543003 A0 0 0 0 0 269.5,167.73258712543003 L269.5,170.11289916904053 A0 0 0 0 1 269.5,170.11289916904053 L180.66666666666666,170.054109865675 A0 0 0 0 0 180.66666666666666,170.054109865675 Z\" style=\"fill: rgb(31, 120, 180);\"/><title>Copper_smelting → Copper_refining\nJapan\n71.7m</title><text class=\"label\" dy=\"0.35em\" x=\"184.66666666666666\" y=\"168.86395384386975\"/></g><g class=\"link\" style=\"opacity: 0.8;\"><path d=\"M270.5,167.73258712543003 A637.2515064028695 637.2515064028695 0.026510870013960686 0 0 287.3921129868438,167.50866170439377 L342.7045864580524,166.04193627624605 A627.3160737273009 627.3160737273009 0.026510870013960686 0 1 359.3333333333333,165.82150209206478 L359.3333333333333,168.20181413567528 A624.9357616836904 624.9357616836904 0.026510870013960686 0 0 342.76768320961844,168.42141189597803 L287.45520973840985,169.88813732412575 A639.63181844648 639.63181844648 0.026510870013960686 0 1 270.5,170.11289916904053 Z\" style=\"fill: rgb(31, 120, 180);\"/><title>Copper_refining → \nJapan\n71.7m</title><text class=\"label\" dy=\"0.35em\" x=\"274.5\" y=\"168.92274314723528\"/></g><g class=\"link\" style=\"opacity: 0.8;\"><path d=\"M360.3333333333333,165.82150209206478 A41.347441173715865 41.347441173715865 0.585870424098007 0 1 383.195361296287,172.71696844524217 L420.81109102083263,197.67843638108891 A51.28287384928462 51.28287384928462 0.585870424098007 0 0 449.16666666666663,206.2308236893215 L449.16666666666663,208.611135732932 A53.66318589289511 53.66318589289511 0.585870424098007 0 1 419.4949573265383,199.66178645702112 L381.8792276019927,174.70031852117438 A38.96712913010538 38.96712913010538 0.585870424098007 0 0 360.3333333333333,168.20181413567528 Z\" style=\"fill: rgb(31, 120, 180);\"/><title> → Copper\nJapan\n71.7m</title><text class=\"label\" dy=\"0.35em\" x=\"364.3333333333333\" y=\"167.01165811387003\"/></g><g class=\"link\" style=\"opacity: 0.8;\"><path d=\"M1,43.478431890635115 A38.357174718168004 38.357174718168004 1.3722068691118379 0 1 38.60329644901155,74.26824587154327 L71.68890356373709,238.67535367661543 A18.508192859571125 18.508192859571125 1.3722068691118379 0 0 89.83333333333333,253.5321260915829 L89.83333333333333,255.95987596616501 A20.935942734153215 20.935942734153215 1.3722068691118379 0 1 69.30886908756071,239.15431645778443 L36.223261972835175,74.7472086527123 A35.92942484358591 35.92942484358591 1.3722068691118379 0 0 1,45.906181765217205 Z\" style=\"fill: rgb(166, 206, 227);\"/><title>Argentina → Lithium mining\nArgentina\n73.2m</title><text class=\"label\" dy=\"0.35em\" x=\"5\" y=\"44.69230682792616\"/></g><g class=\"link\" style=\"opacity: 0.8;\"><path d=\"M90.83333333333333,253.5321260915829 A0 0 0 0 0 90.83333333333333,253.5321260915829 L179.66666666666666,253.5321260915829 A0 0 0 0 0 179.66666666666666,253.5321260915829 L179.66666666666666,255.95987596616501 A0 0 0 0 0 179.66666666666666,255.95987596616501 L90.83333333333333,255.95987596616501 A0 0 0 0 0 90.83333333333333,255.95987596616501 Z\" style=\"fill: rgb(166, 206, 227);\"/><title>Lithium mining → \nArgentina\n73.2m</title><text class=\"label\" dy=\"0.35em\" x=\"94.83333333333333\" y=\"254.74600102887396\"/></g><g class=\"link\" style=\"opacity: 0.8;\"><path d=\"M180.66666666666666,253.5321260915829 A998.786125062709 998.786125062709 0.008689997368953595 0 0 189.34600622640033,253.4944141352919 L260.7995635657715,252.8734672794464 A1001.213874937291 1001.213874937291 0.008689997368953595 0 1 269.5,252.8356636566866 L269.5,255.2634135312687 A998.786125062709 998.786125062709 0.008689997368953595 0 0 260.8206604402663,255.30112548755972 L189.36710310089512,255.9220723434052 A1001.213874937291 1001.213874937291 0.008689997368953595 0 1 180.66666666666666,255.95987596616501 Z\" style=\"fill: rgb(166, 206, 227);\"/><title> → Lithium refining\nArgentina\n73.2m</title><text class=\"label\" dy=\"0.35em\" x=\"184.66666666666666\" y=\"254.74600102887396\"/></g><g class=\"link\" style=\"opacity: 0.8;\"><path d=\"M270.5,383.4621586346829 A286.6500361182797 286.6500361182797 0.062367354674316644 0 0 288.366017009732,382.9048498668534 L342.3483077629354,379.53374521224384 A272.5150317819774 272.5150317819774 0.062367354674316644 0 1 359.3333333333333,379.0039179056295 L359.3333333333333,381.4367196525354 A270.0822300350716 270.0822300350716 0.062367354674316644 0 0 342.4999368294449,381.96181707401763 L288.5176460762415,385.3329217286272 A289.0828378651855 289.0828378651855 0.062367354674316644 0 1 270.5,385.89496038158876 Z\" style=\"fill: rgb(31, 120, 180);\"/><title>Nickel refining → Nickel\nJapan\n73.3m</title><text class=\"label\" dy=\"0.35em\" x=\"274.5\" y=\"384.67855950813583\"/></g><g class=\"link\" style=\"opacity: 0.8;\"><path d=\"M1,323.45429847838545 A30.28889228530539 30.28889228530539 0.8106885891832323 0 1 22.95223160151514,332.874158117584 L55.73245753349006,367.3558288213264 A47.051150547479686 47.051150547479686 0.8106885891832323 0 0 89.83333333333333,381.9887586044696 L89.83333333333333,384.5615110504915 A49.623902993501666 49.623902993501666 0.8106885891832323 0 1 53.86782488147858,369.12845405570755 L21.08759894950366,334.64678335196515 A27.716139839283418 27.716139839283418 0.8106885891832323 0 0 1,326.0270509244074 Z\" style=\"fill: rgb(51, 160, 44);\"/><title>New Caledonia → Nickel mining\nNew Caledonia\n77.5m</title><text class=\"label\" dy=\"0.35em\" x=\"5\" y=\"324.7406747013964\"/></g><g class=\"link\" style=\"opacity: 0.8;\"><path d=\"M90.83333333333333,381.9887586044696 A0 0 0 0 0 90.83333333333333,381.9887586044696 L179.66666666666666,381.9887586044696 A0 0 0 0 0 179.66666666666666,381.9887586044696 L179.66666666666666,384.5615110504915 A0 0 0 0 0 179.66666666666666,384.5615110504915 L90.83333333333333,384.5615110504915 A0 0 0 0 0 90.83333333333333,384.5615110504915 Z\" style=\"fill: rgb(51, 160, 44);\"/><title>Nickel mining → \nNew Caledonia\n77.5m</title><text class=\"label\" dy=\"0.35em\" x=\"94.83333333333333\" y=\"383.27513482748054\"/></g><g class=\"link\" style=\"opacity: 0.8;\"><path d=\"M180.66666666666666,381.9887586044696 A998.713623776989 998.713623776989 0.0019696332846876885 0 0 182.63376499004997,381.98682137267724 L267.52783430104216,381.81961097186104 A1001.286376223011 1001.286376223011 0.0019696332846876885 0 1 269.5,381.81766874963137 L269.5,384.3904211956533 A998.713623776989 998.713623776989 0.0019696332846876885 0 0 267.5329016766167,384.39235842744563 L182.6388323656245,384.55956882826183 A1001.286376223011 1001.286376223011 0.0019696332846876885 0 1 180.66666666666666,384.5615110504915 Z\" style=\"fill: rgb(51, 160, 44);\"/><title> → Nickel refining\nNew Caledonia\n77.5m</title><text class=\"label\" dy=\"0.35em\" x=\"184.66666666666666\" y=\"383.27513482748054\"/></g><g class=\"link\" style=\"opacity: 0.8;\"><path d=\"M1,141.48022754362717 A63.834167388971316 63.834167388971316 0.27011305515030615 0 1 18.033534392536488,143.7948075449909 L73.52074012300771,159.15809698321166 A61.132398100090434 61.132398100090434 0.27011305515030615 0 0 89.83333333333333,161.37471281553974 L89.83333333333333,164.07648210442062 A63.834167388971316 63.834167388971316 0.27011305515030615 0 1 72.79979894079683,161.76190210305688 L17.312593210325623,146.39861266483612 A61.132398100090434 61.132398100090434 0.27011305515030615 0 0 1,144.18199683250805 Z\" style=\"fill: rgb(253, 191, 111);\"/><title>China → Copper mining\nChina\n81.4m</title><text class=\"label\" dy=\"0.35em\" x=\"5\" y=\"142.8311121880676\"/></g><g class=\"link\" style=\"opacity: 0.8;\"><path d=\"M90.83333333333333,161.37471281553974 A0 0 0 0 0 90.83333333333333,161.37471281553974 L179.66666666666666,161.37471281553974 A0 0 0 0 0 179.66666666666666,161.37471281553974 L179.66666666666666,164.07648210442062 A0 0 0 0 0 179.66666666666666,164.07648210442062 L90.83333333333333,164.07648210442062 A0 0 0 0 0 90.83333333333333,164.07648210442062 Z\" style=\"fill: rgb(253, 191, 111);\"/><title>Copper mining → Copper_smelting\nChina\n81.4m</title><text class=\"label\" dy=\"0.35em\" x=\"94.83333333333333\" y=\"162.72559745998018\"/></g><g class=\"link\" style=\"opacity: 0.8;\"><path d=\"M1,358.99895727674044 A45.89901125470398 45.89901125470398 0.4085213810613719 0 1 19.233511679938704,362.77602311130767 L68.54314514748768,384.12090091303986 A53.59354820454313 53.59354820454313 0.4085213810613719 0 0 89.83333333333333,388.53115626153306 L89.83333333333333,391.30588701571617 A56.368278958726215 56.368278958726215 0.4085213810613719 0 1 67.4408755292092,386.66729688515994 L18.13124206166022,365.32241908342775 A43.1242805005209 43.1242805005209 0.4085213810613719 0 0 1,361.77368803092355 Z\" style=\"fill: rgb(202, 178, 214);\"/><title>Russia → Nickel mining\nRussia\n83.6m</title><text class=\"label\" dy=\"0.35em\" x=\"5\" y=\"360.386322653832\"/></g><g class=\"link\" style=\"opacity: 0.8;\"><path d=\"M90.83333333333333,388.53115626153306 A0 0 0 0 0 90.83333333333333,388.53115626153306 L179.66666666666666,388.53115626153306 A0 0 0 0 0 179.66666666666666,388.53115626153306 L179.66666666666666,391.30588701571617 A0 0 0 0 0 179.66666666666666,391.30588701571617 L90.83333333333333,391.30588701571617 A0 0 0 0 0 90.83333333333333,391.30588701571617 Z\" style=\"fill: rgb(202, 178, 214);\"/><title>Nickel mining → \nRussia\n83.6m</title><text class=\"label\" dy=\"0.35em\" x=\"94.83333333333333\" y=\"389.9185216386246\"/></g><g class=\"link\" style=\"opacity: 0.8;\"><path d=\"M180.66666666666666,388.53115626153306 A998.6126346229084 998.6126346229084 0.0019696332846876885 0 0 182.63356607857932,388.5292192256322 L267.5276353895715,388.362008824816 A1001.3873653770916 1001.3873653770916 0.0019696332846876885 0 1 269.5,388.36006640669484 L269.5,391.13479716087795 A998.6126346229084 998.6126346229084 0.0019696332846876885 0 0 267.53310058808734,391.13673419677883 L182.63903127709514,391.30394459759503 A1001.3873653770916 1001.3873653770916 0.0019696332846876885 0 1 180.66666666666666,391.30588701571617 Z\" style=\"fill: rgb(202, 178, 214);\"/><title> → Nickel refining\nRussia\n83.6m</title><text class=\"label\" dy=\"0.35em\" x=\"184.66666666666666\" y=\"389.9185216386246\"/></g><g class=\"link\" style=\"opacity: 0.8;\"><path d=\"M1,100.13409650674245 A331.4792548096768 331.4792548096768 0.04909483533613024 0 0 17.26738270763212,99.73469404242066 L73.42790366279877,96.97528515370122 A334.2922275671303 334.2922275671303 0.04909483533613024 0 1 89.83333333333333,96.57249331211042 L89.83333333333333,99.38546606956396 A331.4792548096768 331.4792548096768 0.04909483533613024 0 0 73.56595062570122,99.78486853388576 L17.405429670534556,102.54427742260519 A334.2922275671303 334.2922275671303 0.04909483533613024 0 1 1,102.94706926419599 Z\" style=\"fill: rgb(51, 160, 44);\"/><title>Brazil   → Graphite production\nBrazil  \n84.8m</title><text class=\"label\" dy=\"0.35em\" x=\"5\" y=\"101.54058288546922\"/></g><g class=\"link\" style=\"opacity: 0.8;\"><path d=\"M90.83333333333333,96.57249331211042 A0 0 0 0 0 90.83333333333333,96.57249331211042 L179.66666666666666,96.57249331211042 A0 0 0 0 0 179.66666666666666,96.57249331211042 L179.66666666666666,99.38546606956396 A0 0 0 0 0 179.66666666666666,99.38546606956396 L90.83333333333333,99.38546606956396 A0 0 0 0 0 90.83333333333333,99.38546606956396 Z\" style=\"fill: rgb(51, 160, 44);\"/><title>Graphite production → \nBrazil  \n84.8m</title><text class=\"label\" dy=\"0.35em\" x=\"94.83333333333333\" y=\"97.97897969083719\"/></g><g class=\"link\" style=\"opacity: 0.8;\"><path d=\"M180.66666666666666,96.57249331211042 A0 0 0 0 1 180.66666666666666,96.57249331211042 L269.5,96.60188796379319 A0 0 0 0 0 269.5,96.60188796379319 L269.5,99.41486072124673 A0 0 0 0 1 269.5,99.41486072124673 L180.66666666666666,99.38546606956396 A0 0 0 0 0 180.66666666666666,99.38546606956396 Z\" style=\"fill: rgb(51, 160, 44);\"/><title> → \nBrazil  \n84.8m</title><text class=\"label\" dy=\"0.35em\" x=\"184.66666666666666\" y=\"97.97897969083719\"/></g><g class=\"link\" style=\"opacity: 0.8;\"><path d=\"M270.5,96.60188796379319 A544.9367947023873 544.9367947023873 0.030113386592854674 0 0 286.9074123543572,96.3548279180688 L342.0196478175863,94.69471002804552 A575.036702050752 575.036702050752 0.030113386592854674 0 1 359.3333333333333,94.43400347403232 L359.3333333333333,97.24697623148586 A572.2237292932984 572.2237292932984 0.030113386592854674 0 0 342.10434315183755,97.50640745745214 L286.9921076886084,99.16652534747543 A547.7497674598408 547.7497674598408 0.030113386592854674 0 1 270.5,99.41486072124673 Z\" style=\"fill: rgb(51, 160, 44);\"/><title> → \nBrazil  \n84.8m</title><text class=\"label\" dy=\"0.35em\" x=\"274.5\" y=\"98.00837434251996\"/></g><g class=\"link\" style=\"opacity: 0.8;\"><path d=\"M360.3333333333333,94.43400347403232 A90.95447712929796 90.95447712929796 0.29160475772111893 0 1 386.48180008205685,98.27375970866815 L431.67161040723107,111.83799133948254 A60.854569780933204 60.854569780933204 0.29160475772111893 0 0 449.16666666666663,114.40704259564276 L449.16666666666663,117.2200153530963 A63.667542538386726 63.667542538386726 0.29160475772111893 0 1 430.86290997889733,114.53221095773723 L385.6730996537231,100.96797932692284 A88.14150437184442 88.14150437184442 0.29160475772111893 0 0 360.3333333333333,97.24697623148586 Z\" style=\"fill: rgb(51, 160, 44);\"/><title> → Graphite/Carbon\nBrazil  \n84.8m</title><text class=\"label\" dy=\"0.35em\" x=\"364.3333333333333\" y=\"95.84048985275909\"/></g><g class=\"link\" style=\"opacity: 0.8;\"><path d=\"M270.5,388.29251514959657 A291.48039263319333 291.48039263319333 0.062367354674316644 0 0 288.6670783067308,387.7258151391425 L342.6493690599342,384.354710484533 A267.68467526706377 267.68467526706377 0.062367354674316644 0 1 359.3333333333333,383.8342744205432 L359.3333333333333,386.8476462866627 A264.6713034009442 264.6713034009442 0.062367354674316644 0 0 342.83718328017915,387.36222371346395 L288.85489252697573,390.7333283680735 A294.4937644993129 294.4937644993129 0.062367354674316644 0 1 270.5,391.3058870157161 Z\" style=\"fill: rgb(202, 178, 214);\"/><title>Nickel refining → Nickel\nRussia\n90.8m</title><text class=\"label\" dy=\"0.35em\" x=\"274.5\" y=\"389.79920108265634\"/></g><g class=\"link\" style=\"opacity: 0.8;\"><path d=\"M1,89.80321218774985 A36.57621331112677 36.57621331112677 0.4981243748030679 0 0 18.47533492622669,85.35847953651873 L65.58888410448614,59.734853281381504 A50.74410020458308 50.74410020458308 0.4981243748030679 0 1 89.83333333333333,53.568442419816414 L89.83333333333333,56.62171306178367 A47.69082956261582 47.69082956261582 0.4981243748030679 0 0 67.04767172240943,62.41709120872741 L19.93412254414999,88.04071746386464 A39.62948395309403 39.62948395309403 0.4981243748030679 0 1 1,92.85648282971711 Z\" style=\"fill: rgb(178, 223, 138);\"/><title>Brazil → Aluminium mining\nBrazil\n92.0m</title><text class=\"label\" dy=\"0.35em\" x=\"5\" y=\"91.32984750873348\"/></g><g class=\"link\" style=\"opacity: 0.8;\"><path d=\"M90.83333333333333,53.568442419816414 A0 0 0 0 0 90.83333333333333,53.568442419816414 L179.66666666666666,53.568442419816414 A0 0 0 0 0 179.66666666666666,53.568442419816414 L179.66666666666666,56.62171306178367 A0 0 0 0 0 179.66666666666666,56.62171306178367 L90.83333333333333,56.62171306178367 A0 0 0 0 0 90.83333333333333,56.62171306178367 Z\" style=\"fill: rgb(178, 223, 138);\"/><title>Aluminium mining → \nBrazil\n92.0m</title><text class=\"label\" dy=\"0.35em\" x=\"94.83333333333333\" y=\"55.09507774080004\"/></g><g class=\"link\" style=\"opacity: 0.8;\"><path d=\"M180.66666666666666,53.568442419816414 A0 0 0 0 0 180.66666666666666,53.568442419816414 L269.5,53.568442419816414 A0 0 0 0 0 269.5,53.568442419816414 L269.5,56.62171306178367 A0 0 0 0 0 269.5,56.62171306178367 L180.66666666666666,56.62171306178367 A0 0 0 0 0 180.66666666666666,56.62171306178367 Z\" style=\"fill: rgb(178, 223, 138);\"/><title> → Aluminium refining\nBrazil\n92.0m</title><text class=\"label\" dy=\"0.35em\" x=\"184.66666666666666\" y=\"55.09507774080004\"/></g><g class=\"link\" style=\"opacity: 0.8;\"><path d=\"M270.5,223.78021955733126 A740.3061503186351 740.3061503186351 0.02295473756063049 0 0 287.49204106236635,223.58518707177697 L342.7723781535861,222.31601851699878 A721.5246790964828 721.5246790964828 0.02295473756063049 0 1 359.3333333333333,222.12593398036162 L359.3333333333333,225.18431402746901 A718.4662990493754 718.4662990493754 0.02295473756063049 0 0 342.84257629974815,225.37359283871524 L287.5622392085284,226.64276139349343 A743.3645303657426 743.3645303657426 0.02295473756063049 0 1 270.5,226.83859960443866 Z\" style=\"fill: rgb(227, 26, 28);\"/><title>Cobalt refining → Cobalt\nFinland\n92.2m</title><text class=\"label\" dy=\"0.35em\" x=\"274.5\" y=\"225.30940958088496\"/></g><g class=\"link\" style=\"opacity: 0.8;\"><path d=\"M270.5,328.1548321717568 A998.4682401109599 998.4682401109599 0.015568081361116315 0 0 286.04360690932845,328.0338376595043 L343.7420352253503,327.13551125755936 A1001.5317598890401 1001.5317598890401 0.015568081361116315 0 1 359.3333333333333,327.01414550757846 L359.3333333333333,330.0776652856587 A998.4682401109599 998.4682401109599 0.015568081361116315 0 0 343.78972642400487,330.19865979791126 L286.091298107983,331.0969861998562 A1001.5317598890401 1001.5317598890401 0.015568081361116315 0 1 270.5,331.2183519498371 Z\" style=\"fill: rgb(51, 160, 44);\"/><title>Manganese refining → Manganese\nIndia\n92.3m</title><text class=\"label\" dy=\"0.35em\" x=\"274.5\" y=\"329.68659206079695\"/></g><g class=\"link\" style=\"opacity: 0.8;\"><path d=\"M1,225.6085911626192 A28.325777490046878 28.325777490046878 1.1445825098878444 0 1 26.791684887430403,242.22374693205958 L52.170030735769586,298.11747441305386 A41.3638090561048 41.3638090561048 1.1445825098878444 0 0 89.83333333333333,322.38039644321043 L89.83333333333333,325.53658665768467 A44.51999927057905 44.51999927057905 1.1445825098878444 0 1 49.29620093585979,299.42232649321215 L23.917855087520596,243.52859901221782 A25.169587275572635 25.169587275572635 1.1445825098878444 0 0 1,228.76478137709344 Z\" style=\"fill: rgb(166, 206, 227);\"/><title>Ghana → Manganese mining\nGhana\n95.1m</title><text class=\"label\" dy=\"0.35em\" x=\"5\" y=\"227.18668626985632\"/></g><g class=\"link\" style=\"opacity: 0.8;\"><path d=\"M90.83333333333333,322.38039644321043 A0 0 0 0 0 90.83333333333333,322.38039644321043 L179.66666666666666,322.38039644321043 A0 0 0 0 0 179.66666666666666,322.38039644321043 L179.66666666666666,325.53658665768467 A0 0 0 0 0 179.66666666666666,325.53658665768467 L90.83333333333333,325.53658665768467 A0 0 0 0 0 90.83333333333333,325.53658665768467 Z\" style=\"fill: rgb(166, 206, 227);\"/><title>Manganese mining → \nGhana\n95.1m</title><text class=\"label\" dy=\"0.35em\" x=\"94.83333333333333\" y=\"323.95849155044755\"/></g><g class=\"link\" style=\"opacity: 0.8;\"><path d=\"M180.66666666666666,322.38039644321043 A998.4219048927629 998.4219048927629 0.0023173064848871494 0 0 182.9803141508472,322.37771572685136 L267.17903866231376,322.1826011272724 A1001.5780951072371 1001.5780951072371 0.0023173064848871494 0 1 269.5,322.1799119366895 L269.5,325.33610215116374 A998.4219048927629 998.4219048927629 0.0023173064848871494 0 0 267.18635251581946,325.3387828675228 L182.98762800435296,325.5338974671018 A1001.5780951072371 1001.5780951072371 0.0023173064848871494 0 1 180.66666666666666,325.53658665768467 Z\" style=\"fill: rgb(166, 206, 227);\"/><title> → Manganese refining\nGhana\n95.1m</title><text class=\"label\" dy=\"0.35em\" x=\"184.66666666666666\" y=\"323.95849155044755\"/></g><g class=\"link\" style=\"opacity: 0.8;\"><path d=\"M1,316.3270065703262 A33.38376999305198 33.38376999305198 1.4120086888794727 0 0 33.963792457116185,288.22191877960154 L55.66011906062163,152.73484457679476 A34.60860053307389 34.60860053307389 1.4120086888794727 0 1 89.83333333333333,123.59859793662801 L89.83333333333333,126.93323062686886 A31.273967842833027 31.273967842833027 1.4120086888794727 0 0 58.95280110176595,153.2621207423368 L37.2564744982605,288.7491949451436 A36.718402683292844 36.718402683292844 1.4120086888794727 0 1 1,319.66163926056703 Z\" style=\"fill: rgb(178, 223, 138);\"/><title>Mozambique → Graphite production\nMozambique\n101m</title><text class=\"label\" dy=\"0.35em\" x=\"5\" y=\"317.9943229154466\"/></g><g class=\"link\" style=\"opacity: 0.8;\"><path d=\"M90.83333333333333,123.59859793662801 A0 0 0 0 0 90.83333333333333,123.59859793662801 L179.66666666666666,123.59859793662801 A0 0 0 0 0 179.66666666666666,123.59859793662801 L179.66666666666666,126.93323062686886 A0 0 0 0 0 179.66666666666666,126.93323062686886 L90.83333333333333,126.93323062686886 A0 0 0 0 0 90.83333333333333,126.93323062686886 Z\" style=\"fill: rgb(178, 223, 138);\"/><title>Graphite production → \nMozambique\n101m</title><text class=\"label\" dy=\"0.35em\" x=\"94.83333333333333\" y=\"125.26591428174844\"/></g><g class=\"link\" style=\"opacity: 0.8;\"><path d=\"M180.66666666666666,123.59859793662801 A0 0 0 0 1 180.66666666666666,123.59859793662801 L269.5,123.62799258831078 A0 0 0 0 0 269.5,123.62799258831078 L269.5,126.96262527855163 A0 0 0 0 1 269.5,126.96262527855163 L180.66666666666666,126.93323062686886 A0 0 0 0 0 180.66666666666666,126.93323062686886 Z\" style=\"fill: rgb(178, 223, 138);\"/><title> → \nMozambique\n101m</title><text class=\"label\" dy=\"0.35em\" x=\"184.66666666666666\" y=\"125.26591428174844\"/></g><g class=\"link\" style=\"opacity: 0.8;\"><path d=\"M270.5,123.62799258831078 A571.9628993269048 571.9628993269048 0.030113386592854674 0 0 287.7211368949227,123.3686796158081 L342.83337235815185,121.70856172578482 A548.0105974262344 548.0105974262344 0.030113386592854674 0 1 359.3333333333333,121.46010809854991 L359.3333333333333,124.79474078879076 A544.6759647359936 544.6759647359936 0.030113386592854674 0 0 342.9337742655492,125.04168258105153 L287.82153880232005,126.70180047107482 A575.2975320171456 575.2975320171456 0.030113386592854674 0 1 270.5,126.96262527855163 Z\" style=\"fill: rgb(178, 223, 138);\"/><title> → \nMozambique\n101m</title><text class=\"label\" dy=\"0.35em\" x=\"274.5\" y=\"125.2953089334312\"/></g><g class=\"link\" style=\"opacity: 0.8;\"><path d=\"M360.3333333333333,121.46010809854991 A63.92837250478036 63.92837250478036 0.29160475772111827 0 1 378.71207592524473,124.15892375494029 L423.90188625041907,137.72315538575472 A87.88067440545078 87.88067440545078 0.29160475772111827 0 0 449.16666666666663,141.43314722016035 L449.16666666666663,144.76777991040123 A91.21530709569163 91.21530709569163 0.29160475772111827 0 1 422.94321401380097,140.91701241473405 L377.75340368862663,127.35278078391964 A60.5937398145395 60.5937398145395 0.29160475772111827 0 0 360.3333333333333,124.79474078879076 Z\" style=\"fill: rgb(178, 223, 138);\"/><title> → Graphite/Carbon\nMozambique\n101m</title><text class=\"label\" dy=\"0.35em\" x=\"364.3333333333333\" y=\"123.12742444367034\"/></g><g class=\"link\" style=\"opacity: 0.8;\"><path d=\"M270.5,252.8356636566866 A845.3447176189809 845.3447176189809 0.01937323699747817 0 0 286.8760391319977,252.67703025150877 L342.29755081113706,251.60320182370634 A879.4012184243961 879.4012184243961 0.01937323699747817 0 1 359.3333333333333,251.4381775361126 L359.3333333333333,255.2158205098937 A875.6235754506151 875.6235754506151 0.01937323699747817 0 0 342.3707314058412,255.38013590281287 L286.9492197267018,256.4539643306153 A849.1223605927619 849.1223605927619 0.01937323699747817 0 1 270.5,256.61330663046766 Z\" style=\"fill: rgb(166, 206, 227);\"/><title>Lithium refining → Lithium\nArgentina\n114m</title><text class=\"label\" dy=\"0.35em\" x=\"274.5\" y=\"254.72448514357714\"/></g><g class=\"link\" style=\"opacity: 0.8;\"><path d=\"M1,148.34385374140348 A42.22811019286396 42.22811019286396 1.4329973656713038 0 1 42.827818838775954,184.77137244277276 L56.80998707727772,285.5961936546928 A33.33937899111899 33.33937899111899 1.4329973656713038 0 0 89.83333333333333,314.3559663782246 L89.83333333333333,318.1670722827306 A37.15048489562503 37.15048489562503 1.4329973656713038 0 1 53.03500764720115,286.1196996411529 L39.052839408699384,185.29487842923288 A38.41700428835792 38.41700428835792 1.4329973656713038 0 0 1,152.15495964590954 Z\" style=\"fill: rgb(253, 191, 111);\"/><title>China → Manganese mining\nChina\n115m</title><text class=\"label\" dy=\"0.35em\" x=\"5\" y=\"150.2494066936565\"/></g><g class=\"link\" style=\"opacity: 0.8;\"><path d=\"M90.83333333333333,314.3559663782246 A0 0 0 0 0 90.83333333333333,314.3559663782246 L179.66666666666666,314.3559663782246 A0 0 0 0 0 179.66666666666666,314.3559663782246 L179.66666666666666,318.1670722827306 A0 0 0 0 0 179.66666666666666,318.1670722827306 L90.83333333333333,318.1670722827306 A0 0 0 0 0 90.83333333333333,318.1670722827306 Z\" style=\"fill: rgb(253, 191, 111);\"/><title>Manganese mining → \nChina\n115m</title><text class=\"label\" dy=\"0.35em\" x=\"94.83333333333333\" y=\"316.2615193304776\"/></g><g class=\"link\" style=\"opacity: 0.8;\"><path d=\"M180.66666666666666,314.3559663782246 A998.0944470477469 998.0944470477469 0.0023173064848871494 0 0 182.97955533133856,314.3532865410746 L267.17827984280507,314.15817194149565 A1001.9055529522531 1001.9055529522531 0.0023173064848871494 0 1 269.5,314.15548187170367 L269.5,317.9665877762097 A998.0944470477469 998.0944470477469 0.0023173064848871494 0 0 267.18711133532815,317.96926761335965 L182.9883868238616,318.1643822129386 A1001.9055529522531 1001.9055529522531 0.0023173064848871494 0 1 180.66666666666666,318.1670722827306 Z\" style=\"fill: rgb(253, 191, 111);\"/><title> → Manganese refining\nChina\n115m</title><text class=\"label\" dy=\"0.35em\" x=\"184.66666666666666\" y=\"316.2615193304776\"/></g><g class=\"link\" style=\"opacity: 0.8;\"><path d=\"M1,80.16275504265349 A24.79535037217032 24.79535037217032 1.372240432941357 0 1 25.308182620037442,100.06712823336034 L62.8104857255876,286.4537742428067 A27.56442079448175 27.56442079448175 1.372240432941357 0 0 89.83333333333333,308.5810081815874 L89.83333333333333,312.479729630852 A31.46314224374635 31.46314224374635 1.372240432941357 0 1 58.98836457985257,287.2228118792596 L21.486061474302424,100.83616586981324 A20.89662892290572 20.89662892290572 1.372240432941357 0 0 1,84.06147649191809 Z\" style=\"fill: rgb(31, 120, 180);\"/><title>Australia → Manganese mining\nAustralia\n118m</title><text class=\"label\" dy=\"0.35em\" x=\"5\" y=\"82.11211576728579\"/></g><g class=\"link\" style=\"opacity: 0.8;\"><path d=\"M90.83333333333333,308.5810081815874 A0 0 0 0 0 90.83333333333333,308.5810081815874 L179.66666666666666,308.5810081815874 A0 0 0 0 0 179.66666666666666,308.5810081815874 L179.66666666666666,312.479729630852 A0 0 0 0 0 179.66666666666666,312.479729630852 L90.83333333333333,312.479729630852 A0 0 0 0 0 90.83333333333333,312.479729630852 Z\" style=\"fill: rgb(31, 120, 180);\"/><title>Manganese mining → \nAustralia\n118m</title><text class=\"label\" dy=\"0.35em\" x=\"94.83333333333333\" y=\"310.5303689062197\"/></g><g class=\"link\" style=\"opacity: 0.8;\"><path d=\"M180.66666666666666,308.5810081815874 A998.0506392753678 998.0506392753678 0.0023173064848871494 0 0 182.97945381539438,308.57832846205923 L267.1781783268609,308.38321386248026 A1001.9493607246322 1001.9493607246322 0.0023173064848871494 0 1 269.5,308.38052367506646 L269.5,312.27924512433106 A998.0506392753678 998.0506392753678 0.0023173064848871494 0 0 267.1872128512723,312.2819248438592 L182.98848833980577,312.4770394434382 A1001.9493607246322 1001.9493607246322 0.0023173064848871494 0 1 180.66666666666666,312.479729630852 Z\" style=\"fill: rgb(31, 120, 180);\"/><title> → Manganese refining\nAustralia\n118m</title><text class=\"label\" dy=\"0.35em\" x=\"184.66666666666666\" y=\"310.5303689062197\"/></g><g class=\"link\" style=\"opacity: 0.8;\"><path d=\"M1,334.39782209972685 A30.04282649385904 30.04282649385904 1.4305471236547125 0 0 30.74784171519085,308.55467857343444 L45.01423627663274,207.5007536610661 A45.26353102780873 45.26353102780873 1.4305471236547125 0 1 89.83333333333333,168.56460598875722 L89.83333333333333,172.5047570712001 A41.323379945365865 41.323379945365865 1.4305471236547125 0 0 48.91569976770629,208.051546889325 L34.64930520626441,309.1054718016934 A33.982977576301906 33.982977576301906 1.4305471236547125 0 1 1,338.3379731821697 Z\" style=\"fill: rgb(227, 26, 28);\"/><title>Peru → Copper mining\nPeru\n119m</title><text class=\"label\" dy=\"0.35em\" x=\"5\" y=\"336.3678976409483\"/></g><g class=\"link\" style=\"opacity: 0.8;\"><path d=\"M90.83333333333333,168.56460598875722 A0 0 0 0 0 90.83333333333333,168.56460598875722 L179.66666666666666,168.56460598875722 A0 0 0 0 0 179.66666666666666,168.56460598875722 L179.66666666666666,172.5047570712001 A0 0 0 0 0 179.66666666666666,172.5047570712001 L90.83333333333333,172.5047570712001 A0 0 0 0 0 90.83333333333333,172.5047570712001 Z\" style=\"fill: rgb(227, 26, 28);\"/><title>Copper mining → Copper_smelting\nPeru\n119m</title><text class=\"label\" dy=\"0.35em\" x=\"94.83333333333333\" y=\"170.53468152997866\"/></g><g class=\"link\" style=\"opacity: 0.8;\"><path d=\"M1,343.93596117890604 A37.21559404236553 37.21559404236553 0.5698920106927288 0 1 21.07934363661276,349.81754176865155 L63.05919667271316,376.7189119426622 A49.623902993501666 49.623902993501666 0.5698920106927288 0 0 89.83333333333333,384.56151105049156 L89.83333333333333,388.531156261533 A53.59354820454313 53.59354820454313 0.5698920106927288 0 1 60.917409812688895,380.06119142645343 L18.93755677658849,353.1598212524428 A33.245948831324064 33.245948831324064 0.5698920106927288 0 0 1,347.9056063899475 Z\" style=\"fill: rgb(253, 191, 111);\"/><title>Philippines → Nickel mining\nPhilippines\n120m</title><text class=\"label\" dy=\"0.35em\" x=\"5\" y=\"345.92078378442676\"/></g><g class=\"link\" style=\"opacity: 0.8;\"><path d=\"M90.83333333333333,384.56151105049156 A0 0 0 0 0 90.83333333333333,384.56151105049156 L179.66666666666666,384.56151105049156 A0 0 0 0 0 179.66666666666666,384.56151105049156 L179.66666666666666,388.531156261533 A0 0 0 0 0 179.66666666666666,388.531156261533 L90.83333333333333,388.531156261533 A0 0 0 0 0 90.83333333333333,388.531156261533 Z\" style=\"fill: rgb(253, 191, 111);\"/><title>Nickel mining → \nPhilippines\n120m</title><text class=\"label\" dy=\"0.35em\" x=\"94.83333333333333\" y=\"386.5463336560123\"/></g><g class=\"link\" style=\"opacity: 0.8;\"><path d=\"M180.66666666666666,384.56151105049156 A998.0151773944792 998.0151773944792 0.0019696332846876885 0 0 182.6323893076969,384.5595751734946 L267.5264586186891,384.3923647726784 A1001.9848226055208 1001.9848226055208 0.0019696332846876885 0 1 269.5,384.39042119565335 L269.5,388.3600664066948 A998.0151773944792 998.0151773944792 0.0019696332846876885 0 0 267.53427735896975,388.36200228369177 L182.64020804797755,388.52921268450797 A1001.9848226055208 1001.9848226055208 0.0019696332846876885 0 1 180.66666666666666,388.531156261533 Z\" style=\"fill: rgb(253, 191, 111);\"/><title> → Nickel refining\nPhilippines\n120m</title><text class=\"label\" dy=\"0.35em\" x=\"184.66666666666666\" y=\"386.5463336560123\"/></g><g class=\"link\" style=\"opacity: 0.8;\"><path d=\"M360.3333333333333,496.8523748650022 A27.508448702484394 27.508448702484394 1.1154123147512887 0 0 385.03845663324586,481.4423406352219 L445.4857342742721,358.00819555490193 A4.098613014971605 4.098613014971605 1.1154123147512887 0 1 449.16666666666663,355.7121821541306 L449.16666666666663,359.8107951691022 A0 0 1.1154123147512887 0 0 449.16666666666663,359.8107951691022 L388.7193890256404,483.2449402494222 A31.607061717456 31.607061717456 1.1154123147512887 0 1 360.3333333333333,500.95098787997387 Z\" style=\"fill: rgb(51, 160, 44);\"/><title>Ammonium Hydroxide → Active material\nAmmonium Hydroxide\n124m</title><text class=\"label\" dy=\"0.35em\" x=\"364.3333333333333\" y=\"498.90168137248804\"/></g><g class=\"link\" style=\"opacity: 0.8;\"><path d=\"M1,144.18199683250805 A46.3899671017594 46.3899671017594 1.6765494575069808 0 1 47.130802462959686,195.46870895782263 L43.45462796649964,230.10087352832838 A46.6392627337697 46.6392627337697 1.6765494575069808 0 0 89.83333333333333,281.6631959657815 L89.83333333333333,285.8250528746769 A50.80111964266514 50.80111964266514 1.6765494575069808 0 1 39.3160219070856,229.66156405301277 L42.99219640354564,195.02939948250702 A42.22811019286396 42.22811019286396 1.6765494575069808 0 0 1,148.3438537414035 Z\" style=\"fill: rgb(253, 191, 111);\"/><title>China → Lithium mining\nChina\n125m</title><text class=\"label\" dy=\"0.35em\" x=\"5\" y=\"146.26292528695578\"/></g><g class=\"link\" style=\"opacity: 0.8;\"><path d=\"M90.83333333333333,281.6631959657815 A0 0 0 0 0 90.83333333333333,281.6631959657815 L179.66666666666666,281.6631959657815 A0 0 0 0 0 179.66666666666666,281.6631959657815 L179.66666666666666,285.8250528746769 A0 0 0 0 0 179.66666666666666,285.8250528746769 L90.83333333333333,285.8250528746769 A0 0 0 0 0 90.83333333333333,285.8250528746769 Z\" style=\"fill: rgb(253, 191, 111);\"/><title>Lithium mining → \nChina\n125m</title><text class=\"label\" dy=\"0.35em\" x=\"94.83333333333333\" y=\"283.7441244202292\"/></g><g class=\"link\" style=\"opacity: 0.8;\"><path d=\"M180.66666666666666,281.6631959657815 A997.9190715455522 997.9190715455522 0.008689997368953595 0 0 189.33847162844884,281.62551674751467 L260.79202896782004,281.0045698916691 A1002.0809284544478 1002.0809284544478 0.008689997368953595 0 1 269.5,280.9667335308851 L269.5,285.1285904397805 A997.9190715455522 997.9190715455522 0.008689997368953595 0 0 260.82819503821776,285.1662696580473 L189.3746376988466,285.7872165138929 A1002.0809284544478 1002.0809284544478 0.008689997368953595 0 1 180.66666666666666,285.8250528746769 Z\" style=\"fill: rgb(253, 191, 111);\"/><title> → Lithium refining\nChina\n125m</title><text class=\"label\" dy=\"0.35em\" x=\"184.66666666666666\" y=\"283.7441244202292\"/></g><g class=\"link\" style=\"opacity: 0.8;\"><path d=\"M1,217.60260778432104 A28.961932558880573 28.961932558880573 1.1368245126403953 0 1 27.27724398336401,234.38669216776822 L56.126592468650145,296.63753960715803 A37.15048489562503 37.15048489562503 1.1368245126403953 0 0 89.83333333333333,318.16707228273066 L89.83333333333333,322.3803964432104 A41.3638090561048 41.3638090561048 1.1368245126403953 0 1 52.30383144533643,298.4091486610737 L23.454482960050292,236.15830122168387 A24.74860839840081 24.74860839840081 1.1368245126403953 0 0 1,221.8159319448008 Z\" style=\"fill: rgb(177, 89, 40);\"/><title>Gabon → Manganese mining\nGabon\n127m</title><text class=\"label\" dy=\"0.35em\" x=\"5\" y=\"219.70926986456092\"/></g><g class=\"link\" style=\"opacity: 0.8;\"><path d=\"M90.83333333333333,318.16707228273066 A0 0 0 0 0 90.83333333333333,318.16707228273066 L179.66666666666666,318.16707228273066 A0 0 0 0 0 179.66666666666666,318.16707228273066 L179.66666666666666,322.3803964432104 A0 0 0 0 0 179.66666666666666,322.3803964432104 L90.83333333333333,322.3803964432104 A0 0 0 0 0 90.83333333333333,322.3803964432104 Z\" style=\"fill: rgb(177, 89, 40);\"/><title>Manganese mining → \nGabon\n127m</title><text class=\"label\" dy=\"0.35em\" x=\"94.83333333333333\" y=\"320.2737343629705\"/></g><g class=\"link\" style=\"opacity: 0.8;\"><path d=\"M180.66666666666666,318.16707228273066 A997.8933379197601 997.8933379197601 0.0023173064848871494 0 0 182.97908930026918,318.16439298554934 L267.17781381173575,317.96927838597037 A1002.1066620802399 1002.1066620802399 0.0023173064848871494 0 1 269.5,317.96658777620974 L269.5,322.17991193668945 A997.8933379197601 997.8933379197601 0.0023173064848871494 0 0 267.1875773663975,322.18259123387077 L182.98885285493097,322.37770583344974 A1002.1066620802399 1002.1066620802399 0.0023173064848871494 0 1 180.66666666666666,322.3803964432104 Z\" style=\"fill: rgb(177, 89, 40);\"/><title> → Manganese refining\nGabon\n127m</title><text class=\"label\" dy=\"0.35em\" x=\"184.66666666666666\" y=\"320.2737343629705\"/></g><g class=\"link\" style=\"opacity: 0.8;\"><path d=\"M270.5,43.478431890635115 A0 0 0 0 0 270.5,43.478431890635115 L359.3333333333333,43.478431890635115 A0 0 0 0 0 359.3333333333333,43.478431890635115 L359.3333333333333,48.59820966001954 A0 0 0 0 0 359.3333333333333,48.59820966001954 L270.5,48.59820966001954 A0 0 0 0 0 270.5,48.59820966001954 Z\" style=\"fill: rgb(31, 120, 180);\"/><title>Aluminium refining → Aluminium primary\nAustralia\n154m</title><text class=\"label\" dy=\"0.35em\" x=\"274.5\" y=\"46.03832077532733\"/></g><g class=\"link\" style=\"opacity: 0.8;\"><path d=\"M270.5,378.01598502165746 A281.2038625052543 281.2038625052543 0.062367354674316644 0 0 288.02657372297756,377.4692647761486 L342.008864476181,374.098160121539 A277.9612053950028 277.9612053950028 0.062367354674316644 0 1 359.3333333333333,373.55774429260407 L359.3333333333333,379.00391790562946 A272.5150317819774 272.5150317819774 0.062367354674316644 0 0 342.3483077629354,379.5337452122438 L288.366017009732,382.90484986685334 A286.6500361182797 286.6500361182797 0.062367354674316644 0 1 270.5,383.46215863468285 Z\" style=\"fill: rgb(253, 191, 111);\"/><title>Nickel refining → Nickel\nIndonesia\n164m</title><text class=\"label\" dy=\"0.35em\" x=\"274.5\" y=\"380.73907182817015\"/></g><g class=\"link\" style=\"opacity: 0.8;\"><path d=\"M450.16666666666663,43.478431890635115 A34.08302995705085 34.08302995705085 1.318137260842728 0 1 483.1675990601935,69.04140361953422 L511.73194626696755,179.68032952749348 A28.16217072811298 28.16217072811298 1.318137260842728 0 0 539,200.8025353599668 L539,206.72339458890465 A34.08302995705085 34.08302995705085 1.318137260842728 0 1 505.99906760647315,181.16042286000555 L477.4347203996991,70.52149695204629 A28.16217072811298 28.16217072811298 1.318137260842728 0 0 450.16666666666663,49.399291119572986 Z\" style=\"fill: rgb(227, 26, 28);\"/><title>Aluminium → NMC622\nWrought Aluminum\n178m</title><text class=\"label\" dy=\"0.35em\" x=\"454.16666666666663\" y=\"46.43886150510405\"/></g><g class=\"link\" style=\"opacity: 0.8;\"><path d=\"M1,135.55301316149803 A23.87272623186618 23.87272623186618 1.0147880090292316 0 0 21.276746015782443,124.28031188012629 L49.3262362832979,79.1413226907236 A47.69082956261582 47.69082956261582 1.0147880090292316 0 1 89.83333333333333,56.62171306178368 L89.83333333333333,62.54892744391282 A41.76361518048668 41.76361518048668 1.0147880090292316 0 0 54.360626551096416,82.26970645286247 L26.311136283580957,127.40869564226516 A29.799940613995318 29.799940613995318 1.0147880090292316 0 1 1,141.48022754362717 Z\" style=\"fill: rgb(253, 191, 111);\"/><title>China → Aluminium mining\nChina\n179m</title><text class=\"label\" dy=\"0.35em\" x=\"5\" y=\"138.5166203525626\"/></g><g class=\"link\" style=\"opacity: 0.8;\"><path d=\"M90.83333333333333,56.62171306178368 A0 0 0 0 0 90.83333333333333,56.62171306178368 L179.66666666666666,56.62171306178368 A0 0 0 0 0 179.66666666666666,56.62171306178368 L179.66666666666666,62.54892744391282 A0 0 0 0 0 179.66666666666666,62.54892744391282 L90.83333333333333,62.54892744391282 A0 0 0 0 0 90.83333333333333,62.54892744391282 Z\" style=\"fill: rgb(253, 191, 111);\"/><title>Aluminium mining → \nChina\n179m</title><text class=\"label\" dy=\"0.35em\" x=\"94.83333333333333\" y=\"59.58532025284825\"/></g><g class=\"link\" style=\"opacity: 0.8;\"><path d=\"M180.66666666666666,56.62171306178368 A0 0 0 0 0 180.66666666666666,56.62171306178368 L269.5,56.62171306178368 A0 0 0 0 0 269.5,56.62171306178368 L269.5,62.54892744391282 A0 0 0 0 0 269.5,62.54892744391282 L180.66666666666666,62.54892744391282 A0 0 0 0 0 180.66666666666666,62.54892744391282 Z\" style=\"fill: rgb(253, 191, 111);\"/><title> → Aluminium refining\nChina\n179m</title><text class=\"label\" dy=\"0.35em\" x=\"184.66666666666666\" y=\"59.58532025284825\"/></g><g class=\"link\" style=\"opacity: 0.8;\"><path d=\"M270.5,256.61330663046766 A849.1223605927619 849.1223605927619 0.01937323699747817 0 0 286.9492197267018,256.4539643306153 L342.3707314058412,255.38013590281284 A875.6235754506151 875.6235754506151 0.01937323699747817 0 1 359.3333333333333,255.2158205098937 L359.3333333333333,261.3345527786187 A869.5048431818902 869.5048431818902 0.01937323699747817 0 0 342.48926364125055,261.4977199590809 L287.0677519621112,262.5715483868833 A855.2410928614868 855.2410928614868 0.01937323699747817 0 1 270.5,262.7320388991927 Z\" style=\"fill: rgb(31, 120, 180);\"/><title>Lithium refining → Lithium\nAustralia\n184m</title><text class=\"label\" dy=\"0.35em\" x=\"274.5\" y=\"259.67267276483017\"/></g><g class=\"link\" style=\"opacity: 0.8;\"><path d=\"M1,237.0253661605131 A29.601493684396637 29.601493684396637 1.4116066454627623 0 0 30.22721410814241,212.11624754895274 L48.59777489076851,97.69225011775005 A41.76361518048668 41.76361518048668 1.4116066454627623 0 1 89.83333333333333,62.548927443912824 L89.83333333333333,69.25751368409794 A35.05502894030157 35.05502894030157 1.4116066454627623 0 0 55.22153815404537,98.75568303715066 L36.85097737141927,213.17968046835335 A36.31007992458175 36.31007992458175 1.4116066454627623 0 1 1,243.73395240069823 Z\" style=\"fill: rgb(178, 223, 138);\"/><title>Guinea → Aluminium mining\nGuinea\n202m</title><text class=\"label\" dy=\"0.35em\" x=\"5\" y=\"240.37965928060567\"/></g><g class=\"link\" style=\"opacity: 0.8;\"><path d=\"M90.83333333333333,62.548927443912824 A0 0 0 0 0 90.83333333333333,62.548927443912824 L179.66666666666666,62.548927443912824 A0 0 0 0 0 179.66666666666666,62.548927443912824 L179.66666666666666,69.25751368409794 A0 0 0 0 0 179.66666666666666,69.25751368409794 L90.83333333333333,69.25751368409794 A0 0 0 0 0 90.83333333333333,69.25751368409794 Z\" style=\"fill: rgb(178, 223, 138);\"/><title>Aluminium mining → \nGuinea\n202m</title><text class=\"label\" dy=\"0.35em\" x=\"94.83333333333333\" y=\"65.90322056400538\"/></g><g class=\"link\" style=\"opacity: 0.8;\"><path d=\"M180.66666666666666,62.548927443912824 A0 0 0 0 0 180.66666666666666,62.548927443912824 L269.5,62.548927443912824 A0 0 0 0 0 269.5,62.548927443912824 L269.5,69.25751368409794 A0 0 0 0 0 269.5,69.25751368409794 L180.66666666666666,69.25751368409794 A0 0 0 0 0 180.66666666666666,69.25751368409794 Z\" style=\"fill: rgb(178, 223, 138);\"/><title> → Aluminium refining\nGuinea\n202m</title><text class=\"label\" dy=\"0.35em\" x=\"184.66666666666666\" y=\"65.90322056400538\"/></g><g class=\"link\" style=\"opacity: 0.8;\"><path d=\"M450.16666666666663,114.40704259564276 A30.33083110188478 30.33083110188478 1.0683013012757887 0 1 476.748111215251,130.13013187883445 L509.13018971330496,189.05521658032032 A34.08302995705085 34.08302995705085 1.0683013012757887 0 0 539,206.72339458890468 L539,214.04563337941056 A41.405268747556725 41.405268747556725 1.0683013012757887 0 1 502.71309933660143,192.58170662034703 L470.3310208385475,133.65662191886116 A23.0085923113789 23.0085923113789 1.0683013012757887 0 0 450.16666666666663,121.72928138614864 Z\" style=\"fill: rgb(253, 191, 111);\"/><title>Graphite/Carbon → NMC622\nGraphite/Carbon\n221m</title><text class=\"label\" dy=\"0.35em\" x=\"454.16666666666663\" y=\"118.0681619908957\"/></g><g class=\"link\" style=\"opacity: 0.8;\"><path d=\"M1,124.32296149603293 A34.10059834240127 34.10059834240127 1.3866187624239235 0 1 34.52386182347155,152.1784420852956 L51.29447634619515,242.203288081504 A39.20187028612304 39.20187028612304 1.3866187624239235 0 0 89.83333333333333,274.22580351813485 L89.83333333333333,281.6631959657815 A46.6392627337697 46.6392627337697 1.3866187624239235 0 1 43.98287101193285,243.56535777733404 L27.212256489209246,153.54051178112562 A26.66320589475461 26.66320589475461 1.3866187624239235 0 0 1,131.76035394367958 Z\" style=\"fill: rgb(227, 26, 28);\"/><title>Chile → Lithium mining\nChile\n224m</title><text class=\"label\" dy=\"0.35em\" x=\"5\" y=\"128.04165771985626\"/></g><g class=\"link\" style=\"opacity: 0.8;\"><path d=\"M90.83333333333333,274.22580351813485 A0 0 0 0 0 90.83333333333333,274.22580351813485 L179.66666666666666,274.22580351813485 A0 0 0 0 0 179.66666666666666,274.22580351813485 L179.66666666666666,281.6631959657815 A0 0 0 0 0 179.66666666666666,281.6631959657815 L90.83333333333333,281.6631959657815 A0 0 0 0 0 90.83333333333333,281.6631959657815 Z\" style=\"fill: rgb(227, 26, 28);\"/><title>Lithium mining → \nChile\n224m</title><text class=\"label\" dy=\"0.35em\" x=\"94.83333333333333\" y=\"277.94449974195817\"/></g><g class=\"link\" style=\"opacity: 0.8;\"><path d=\"M180.66666666666666,274.22580351813485 A996.2813037761766 996.2813037761766 0.008689997368953595 0 0 189.32423960996792,274.18818613835873 L260.77779694933906,273.5672392825132 A1003.7186962238234 1003.7186962238234 0.008689997368953595 0 1 269.5,273.5293410832385 L269.5,280.9667335308851 A996.2813037761766 996.2813037761766 0.008689997368953595 0 0 260.84242705669874,281.00435091066123 L189.38886971732754,281.6252977665068 A1003.7186962238234 1003.7186962238234 0.008689997368953595 0 1 180.66666666666666,281.6631959657815 Z\" style=\"fill: rgb(227, 26, 28);\"/><title> → Lithium refining\nChile\n224m</title><text class=\"label\" dy=\"0.35em\" x=\"184.66666666666666\" y=\"277.94449974195817\"/></g><g class=\"link\" style=\"opacity: 0.8;\"><path d=\"M1,115.03614103398372 A43.38741880445049 43.38741880445049 0.4893456686090616 0 1 21.394188931484173,120.12806182183033 L73.97003932718879,148.12722312634062 A33.74821048167247 33.74821048167247 0.4893456686090616 0 0 89.83333333333333,152.0878923534905 L89.83333333333333,161.3747128155397 A43.035030943721694 43.035030943721694 0.4893456686090616 0 1 69.60478376936386,156.3241480503115 L17.02893337365925,128.3249867458012 A34.10059834240127 34.10059834240127 0.4893456686090616 0 0 1,124.32296149603296 Z\" style=\"fill: rgb(227, 26, 28);\"/><title>Chile → Copper mining\nChile\n280m</title><text class=\"label\" dy=\"0.35em\" x=\"5\" y=\"119.67955126500834\"/></g><g class=\"link\" style=\"opacity: 0.8;\"><path d=\"M90.83333333333333,152.0878923534905 A0 0 0 0 0 90.83333333333333,152.0878923534905 L179.66666666666666,152.0878923534905 A0 0 0 0 0 179.66666666666666,152.0878923534905 L179.66666666666666,161.3747128155397 A0 0 0 0 0 179.66666666666666,161.3747128155397 L90.83333333333333,161.3747128155397 A0 0 0 0 0 90.83333333333333,161.3747128155397 Z\" style=\"fill: rgb(227, 26, 28);\"/><title>Copper mining → Copper_smelting\nChile\n280m</title><text class=\"label\" dy=\"0.35em\" x=\"94.83333333333333\" y=\"156.7313025845151\"/></g><g class=\"link\" style=\"opacity: 0.8;\"><path d=\"M1,365.5663472487419 A32.60583110134087 32.60583110134087 0.48446542542140447 0 0 16.18568875080594,361.8142001231573 L69.83809270424099,333.5769494534005 A42.932622252530514 42.932622252530514 0.48446542542140447 0 1 89.83333333333333,328.6364369825493 L89.83333333333333,338.6091929114175 A32.959866323662304 32.959866323662304 0.48446542542140447 0 0 74.48275785793244,342.40208097802156 L20.830353904497404,370.63933164777836 A42.57858703020908 42.57858703020908 0.48446542542140447 0 1 1,375.5391031776101 Z\" style=\"fill: rgb(106, 61, 154);\"/><title>South Africa → Manganese mining\nSouth Africa\n301m</title><text class=\"label\" dy=\"0.35em\" x=\"5\" y=\"370.552725213176\"/></g><g class=\"link\" style=\"opacity: 0.8;\"><path d=\"M90.83333333333333,328.6364369825493 A0 0 0 0 0 90.83333333333333,328.6364369825493 L179.66666666666666,328.6364369825493 A0 0 0 0 0 179.66666666666666,328.6364369825493 L179.66666666666666,338.6091929114175 A0 0 0 0 0 179.66666666666666,338.6091929114175 L90.83333333333333,338.6091929114175 A0 0 0 0 0 90.83333333333333,338.6091929114175 Z\" style=\"fill: rgb(106, 61, 154);\"/><title>Manganese mining → \nSouth Africa\n301m</title><text class=\"label\" dy=\"0.35em\" x=\"94.83333333333333\" y=\"333.6228149469834\"/></g><g class=\"link\" style=\"opacity: 0.8;\"><path d=\"M180.66666666666666,328.6364369825493 A995.0136220355658 995.0136220355658 0.0023173064848871494 0 0 182.9724161219485,328.63376541727115 L267.17114063341506,328.4386508176922 A1004.9863779644342 1004.9863779644342 0.0023173064848871494 0 1 269.5,328.4359524760284 L269.5,338.4087084048966 A995.0136220355658 995.0136220355658 0.0023173064848871494 0 0 267.19425054471816,338.4113799701747 L182.99552603325165,338.6064945697537 A1004.9863779644342 1004.9863779644342 0.0023173064848871494 0 1 180.66666666666666,338.6091929114175 Z\" style=\"fill: rgb(106, 61, 154);\"/><title> → Manganese refining\nSouth Africa\n301m</title><text class=\"label\" dy=\"0.35em\" x=\"184.66666666666666\" y=\"333.6228149469834\"/></g><g class=\"link\" style=\"opacity: 0.8;\"><path d=\"M1,49.69884098303561 A186.18167651610082 186.18167651610082 0.08565528751451379 0 0 16.92795157335448,49.016266968868415 L73.04217544402574,44.197997616977034 A196.27168704528214 196.27168704528214 0.08565528751451379 0 1 89.83333333333333,43.478431890635115 L89.83333333333333,53.568442419816414 A186.18167651610082 186.18167651610082 0.08565528751451379 0 0 73.90538175997885,54.25101643398361 L17.791157889307588,59.06928578587499 A196.27168704528214 196.27168704528214 0.08565528751451379 0 1 1,59.78885151221691 Z\" style=\"fill: rgb(31, 120, 180);\"/><title>Australia → Aluminium mining\nAustralia\n304m</title><text class=\"label\" dy=\"0.35em\" x=\"5\" y=\"54.74384624762626\"/></g><g class=\"link\" style=\"opacity: 0.8;\"><path d=\"M90.83333333333333,43.478431890635115 A0 0 0 0 0 90.83333333333333,43.478431890635115 L179.66666666666666,43.478431890635115 A0 0 0 0 0 179.66666666666666,43.478431890635115 L179.66666666666666,53.568442419816414 A0 0 0 0 0 179.66666666666666,53.568442419816414 L90.83333333333333,53.568442419816414 A0 0 0 0 0 90.83333333333333,53.568442419816414 Z\" style=\"fill: rgb(31, 120, 180);\"/><title>Aluminium mining → \nAustralia\n304m</title><text class=\"label\" dy=\"0.35em\" x=\"94.83333333333333\" y=\"48.523437155225764\"/></g><g class=\"link\" style=\"opacity: 0.8;\"><path d=\"M180.66666666666666,43.478431890635115 A0 0 0 0 0 180.66666666666666,43.478431890635115 L269.5,43.478431890635115 A0 0 0 0 0 269.5,43.478431890635115 L269.5,53.568442419816414 A0 0 0 0 0 269.5,53.568442419816414 L180.66666666666666,53.568442419816414 A0 0 0 0 0 180.66666666666666,53.568442419816414 Z\" style=\"fill: rgb(31, 120, 180);\"/><title> → Aluminium refining\nAustralia\n304m</title><text class=\"label\" dy=\"0.35em\" x=\"184.66666666666666\" y=\"48.523437155225764\"/></g><g class=\"link\" style=\"opacity: 0.8;\"><path d=\"M270.5,262.7320388991926 A855.2410928614868 855.2410928614868 0.01937323699747817 0 0 287.0677519621111,262.57154838688336 L342.48926364125055,261.497719959081 A869.5048431818902 869.5048431818902 0.01937323699747817 0 1 359.3333333333333,261.3345527786187 L359.3333333333333,271.64856746077214 A859.1908284997369 859.1908284997369 0.01937323699747817 0 0 342.68906699309343,271.80979916185424 L287.267555313954,272.8836275896566 A865.5551075436401 865.5551075436401 0.01937323699747817 0 1 270.5,273.0460535813461 Z\" style=\"fill: rgb(227, 26, 28);\"/><title>Lithium refining → Lithium\nChile\n311m</title><text class=\"label\" dy=\"0.35em\" x=\"274.5\" y=\"267.88904624026935\"/></g><g class=\"link\" style=\"opacity: 0.8;\"><path d=\"M270.5,366.0829925092255 A269.2708699928223 269.2708699928223 0.062367354674316644 0 0 287.2828269225545,365.5594725446016 L341.26511767575795,362.18836788999204 A289.8941979074348 289.8941979074348 0.062367354674316644 0 1 359.3333333333333,361.6247517801721 L359.3333333333333,372.35730907428695 A279.16164061331995 279.16164061331995 0.062367354674316644 0 0 341.9340450332116,372.9000588051514 L287.9517542800081,376.27116345976094 A280.00342728693715 280.00342728693715 0.062367354674316644 0 1 270.5,376.81554980334033 Z\" style=\"fill: rgb(253, 191, 111);\"/><title>Nickel refining → Nickel\nChina\n323m</title><text class=\"label\" dy=\"0.35em\" x=\"274.5\" y=\"371.4492711562829\"/></g><g class=\"link\" style=\"opacity: 0.8;\"><path d=\"M360.3333333333333,307.2398370108881 A44.94172357758225 44.94172357758225 0.36260782534328606 0 0 376.27477785310134,304.31750020592506 L422.8433565134659,286.6501692404384 A74.21002074718642 74.21002074718642 0.36260782534328606 0 1 449.16666666666663,281.82466061142026 L449.16666666666663,292.7151624740473 A63.319518884559336 63.319518884559336 0.36260782534328606 0 0 426.70636659441664,296.8325159215506 L380.1377879340521,314.4998468870373 A55.83222544020934 55.83222544020934 0.36260782534328606 0 1 360.3333333333333,318.13033887351514 Z\" style=\"fill: rgb(166, 206, 227);\"/><title>Manganese → Active material\nManganese Sulfate\n328m</title><text class=\"label\" dy=\"0.35em\" x=\"364.3333333333333\" y=\"312.6850879422016\"/></g><g class=\"link\" style=\"opacity: 0.8;\"><path d=\"M360.3333333333333,197.1542097666744 A34.17020253059952 34.17020253059952 0.7397506017751801 0 1 383.36759390102486,206.08504659443025 L433.66771995397534,251.99056671456748 A22.99193180641819 22.99193180641819 0.7397506017751801 0 0 449.16666666666663,257.9998138395774 L449.16666666666663,269.1780845637587 A34.17020253059952 34.17020253059952 0.7397506017751801 0 1 426.1324060989751,260.24724773600286 L375.8322800460246,214.34172761586564 A22.99193180641819 22.99193180641819 0.7397506017751801 0 0 360.3333333333333,208.33248049085574 Z\" style=\"fill: rgb(255, 255, 153);\"/><title>Cobalt → Active material\nCobalt Sulfate\n337m</title><text class=\"label\" dy=\"0.35em\" x=\"364.3333333333333\" y=\"202.74334512876507\"/></g><g class=\"link\" style=\"opacity: 0.8;\"><path d=\"M270.5,273.0460535813461 A865.5551075436401 865.5551075436401 0.01937323699747817 0 0 287.267555313954,272.8836275896566 L342.68906699309343,271.80979916185424 A859.1908284997369 859.1908284997369 0.01937323699747817 0 1 359.3333333333333,271.64856746077214 L359.3333333333333,283.01402611330684 A847.8253698472022 847.8253698472022 0.01937323699747817 0 0 342.9092389439767,283.1731250259893 L287.48772726483725,284.24695345379166 A876.9205661961748 876.9205661961748 0.01937323699747817 0 1 270.5,284.4115122338808 Z\" style=\"fill: rgb(253, 191, 111);\"/><title>Lithium refining → Lithium\nChina\n343m</title><text class=\"label\" dy=\"0.35em\" x=\"274.5\" y=\"278.72878290761344\"/></g><g class=\"link\" style=\"opacity: 0.8;\"><path d=\"M450.16666666666663,257.9998138395774 A28.703746899242407 28.703746899242407 0.607626347035755 0 0 466.5542181173077,252.86200090248386 L502.57064841375535,227.81647945192452 A63.80812232898753 63.80812232898753 0.607626347035755 0 1 539,216.39517624909516 L539,228.3715843717828 A51.8317142062999 51.8317142062999 0.607626347035755 0 0 509.4082227901375,237.6491763438571 L473.3917924936898,262.6946977944164 A40.68015502193004 40.68015502193004 0.607626347035755 0 1 450.16666666666663,269.9762219622651 Z\" style=\"fill: rgb(202, 178, 214);\"/><title>Active material → NMC622\nActive Material\n361m</title><text class=\"label\" dy=\"0.35em\" x=\"454.16666666666663\" y=\"263.98801790092125\"/></g><g class=\"link\" style=\"opacity: 0.8;\"><path d=\"M360.3333333333333,251.43817753611262 A75.70977409452017 75.70977409452017 0.24162082220347747 0 1 378.44891669682085,253.63743855363262 L434.0771140289884,267.346188553457 A63.06319804685868 63.06319804685868 0.24162082220347747 0 0 449.16666666666663,269.1780845637588 L449.16666666666663,281.82466061142026 A75.70977409452017 75.70977409452017 0.24162082220347747 0 1 431.0510833031791,279.6253995939002 L375.42288597101157,265.91664959407586 A63.06319804685868 63.06319804685868 0.24162082220347747 0 0 360.3333333333333,264.0847535837741 Z\" style=\"fill: rgb(177, 89, 40);\"/><title>Lithium → Active material\nLithium Carbonate\n381m</title><text class=\"label\" dy=\"0.35em\" x=\"364.3333333333333\" y=\"257.76146555994336\"/></g><g class=\"link\" style=\"opacity: 0.8;\"><path d=\"M1,265.29944130094145 A33.34145449718524 33.34145449718524 1.1705651808985884 0 1 31.706511254260732,285.6500238266294 L58.2171990295458,348.31331034935545 A34.329132819358044 34.329132819358044 1.1705651808985884 0 0 89.83333333333333,369.2667408763479 L89.83333333333333,381.9887586044695 A47.051150547479686 47.051150547479686 1.1705651808985884 0 1 46.500590188187324,353.27020578230963 L19.989902412902254,290.6069192595836 A20.61943676906359 20.61943676906359 1.1705651808985884 0 0 1,278.02145902906307 Z\" style=\"fill: rgb(253, 191, 111);\"/><title>Indonesia → Nickel mining\nIndonesia\n383m</title><text class=\"label\" dy=\"0.35em\" x=\"5\" y=\"271.66045016500226\"/></g><g class=\"link\" style=\"opacity: 0.8;\"><path d=\"M90.83333333333333,369.2667408763479 A0 0 0 0 0 90.83333333333333,369.2667408763479 L179.66666666666666,369.2667408763479 A0 0 0 0 0 179.66666666666666,369.2667408763479 L179.66666666666666,381.9887586044695 A0 0 0 0 0 179.66666666666666,381.9887586044695 L90.83333333333333,381.9887586044695 A0 0 0 0 0 90.83333333333333,381.9887586044695 Z\" style=\"fill: rgb(253, 191, 111);\"/><title>Nickel mining → \nIndonesia\n383m</title><text class=\"label\" dy=\"0.35em\" x=\"94.83333333333333\" y=\"375.6277497404087\"/></g><g class=\"link\" style=\"opacity: 0.8;\"><path d=\"M180.66666666666666,369.2667408763479 A993.6389911359391 993.6389911359391 0.0019696332846876885 0 0 182.62376983115524,369.2648134879576 L267.5178391421474,369.0976030871414 A1006.3610088640609 1006.3610088640609 0.0019696332846876885 0 1 269.5,369.0956510215097 L269.5,381.8176687496313 A993.6389911359391 993.6389911359391 0.0019696332846876885 0 0 267.54289683551144,381.8195961380216 L182.64882752451922,381.9868065388378 A1006.3610088640609 1006.3610088640609 0.0019696332846876885 0 1 180.66666666666666,381.9887586044695 Z\" style=\"fill: rgb(253, 191, 111);\"/><title> → Nickel refining\nIndonesia\n383m</title><text class=\"label\" dy=\"0.35em\" x=\"184.66666666666666\" y=\"375.6277497404087\"/></g><g class=\"link\" style=\"opacity: 0.8;\"><path d=\"M180.66666666666666,152.563631974579 A0 0 0 0 1 180.66666666666666,152.563631974579 L269.5,152.62242127794454 A0 0 0 0 0 269.5,152.62242127794454 L269.5,167.03599322329276 A0 0 0 0 1 269.5,167.03599322329276 L180.66666666666666,166.97720391992723 A0 0 0 0 0 180.66666666666666,166.97720391992723 Z\" style=\"fill: rgb(253, 191, 111);\"/><title>Copper_smelting → Copper_refining\nChina\n434m</title><text class=\"label\" dy=\"0.35em\" x=\"184.66666666666666\" y=\"159.77041794725312\"/></g><g class=\"link\" style=\"opacity: 0.8;\"><path d=\"M270.5,152.62242127794454 A622.1413405553841 622.1413405553841 0.026510870013960686 0 0 286.9915762659713,152.4038054563605 L342.30404973717987,150.93708002821276 A642.4262395747863 642.4262395747863 0.026510870013960686 0 1 359.3333333333333,150.7113362445793 L359.3333333333333,165.1249081899275 A628.0126676294382 628.0126676294382 0.026510870013960686 0 0 342.6861213108026,165.34558715200458 L287.373647839594,166.8123125801523 A636.5549125007323 636.5549125007323 0.026510870013960686 0 1 270.5,167.03599322329276 Z\" style=\"fill: rgb(253, 191, 111);\"/><title>Copper_refining → \nChina\n434m</title><text class=\"label\" dy=\"0.35em\" x=\"274.5\" y=\"159.82920725061865\"/></g><g class=\"link\" style=\"opacity: 0.8;\"><path d=\"M360.3333333333333,150.7113362445793 A56.45760702120134 56.45760702120134 0.585870424098007 0 1 391.55014757383975,160.12670799539708 L429.1658772983854,185.08817593124382 A36.172708001799144 36.172708001799144 0.585870424098007 0 0 449.16666666666663,191.12065784183602 L449.16666666666663,205.53422978718424 A50.58627994714738 50.58627994714738 0.585870424098007 0 1 421.19625510396355,197.0980126621036 L383.5805253794179,172.13654472625686 A42.0440350758531 42.0440350758531 0.585870424098007 0 0 360.3333333333333,165.1249081899275 Z\" style=\"fill: rgb(253, 191, 111);\"/><title> → Copper\nChina\n434m</title><text class=\"label\" dy=\"0.35em\" x=\"364.3333333333333\" y=\"157.9181222172534\"/></g><g class=\"link\" style=\"opacity: 0.8;\"><path d=\"M1,62.82168456680297 A42.13642084802082 42.13642084802082 1.383578192223324 0 1 42.400121222995146,97.11540660619738 L69.26322914157353,238.920664132124 A20.935942734153215 20.935942734153215 1.383578192223324 0 0 89.83333333333333,255.959875966165 L89.83333333333333,273.3009464420155 A38.277013210003716 38.277013210003716 1.383578192223324 0 1 52.22517974420916,242.1482945293946 L25.36207182563077,100.343037003468 A24.79535037217032 24.79535037217032 1.383578192223324 0 0 1,80.16275504265347 Z\" style=\"fill: rgb(31, 120, 180);\"/><title>Australia → Lithium mining\nAustralia\n523m</title><text class=\"label\" dy=\"0.35em\" x=\"5\" y=\"71.49221980472822\"/></g><g class=\"link\" style=\"opacity: 0.8;\"><path d=\"M90.83333333333333,255.959875966165 A0 0 0 0 0 90.83333333333333,255.959875966165 L179.66666666666666,255.959875966165 A0 0 0 0 0 179.66666666666666,255.959875966165 L179.66666666666666,273.3009464420155 A0 0 0 0 0 179.66666666666666,273.3009464420155 L90.83333333333333,273.3009464420155 A0 0 0 0 0 90.83333333333333,273.3009464420155 Z\" style=\"fill: rgb(31, 120, 180);\"/><title>Lithium mining → \nAustralia\n523m</title><text class=\"label\" dy=\"0.35em\" x=\"94.83333333333333\" y=\"264.63041120409025\"/></g><g class=\"link\" style=\"opacity: 0.8;\"><path d=\"M180.66666666666666,255.959875966165 A991.3294647620747 991.3294647620747 0.008689997368953595 0 0 189.2812086835563,255.92244555688418 L260.73476602292743,255.3014987010387 A1008.6705352379253 1008.6705352379253 0.008689997368953595 0 1 269.5,255.26341353126867 L269.5,272.6044840071192 A991.3294647620747 991.3294647620747 0.008689997368953595 0 0 260.88545798311037,272.6419144164 L189.43190064373917,273.2628612722455 A1008.6705352379253 1008.6705352379253 0.008689997368953595 0 1 180.66666666666666,273.3009464420155 Z\" style=\"fill: rgb(31, 120, 180);\"/><title> → Lithium refining\nAustralia\n523m</title><text class=\"label\" dy=\"0.35em\" x=\"184.66666666666666\" y=\"264.63041120409025\"/></g><g class=\"link\" style=\"opacity: 0.8;\"><path d=\"M270.5,50.91808706346808 A0 0 0 0 0 270.5,50.91808706346808 L359.3333333333333,50.91808706346808 A0 0 0 0 0 359.3333333333333,50.91808706346808 L359.3333333333333,68.99844019392225 A0 0 0 0 0 359.3333333333333,68.99844019392225 L270.5,68.99844019392225 A0 0 0 0 0 270.5,68.99844019392225 Z\" style=\"fill: rgb(253, 191, 111);\"/><title>Aluminium refining → Aluminium primary\nChina\n545m</title><text class=\"label\" dy=\"0.35em\" x=\"274.5\" y=\"59.958263628695164\"/></g><g class=\"link\" style=\"opacity: 0.8;\"><path d=\"M360.3333333333333,46.53417067051401 A0 0 0 0 0 360.3333333333333,46.53417067051401 L449.16666666666663,46.53417067051401 A0 0 0 0 0 449.16666666666663,46.53417067051401 L449.16666666666663,65.03405150480721 A0 0 0 0 0 449.16666666666663,65.03405150480721 L360.3333333333333,65.03405150480721 A0 0 0 0 0 360.3333333333333,65.03405150480721 Z\" style=\"fill: rgb(253, 191, 111);\"/><title>Aluminium primary → Aluminium\nChina\n558m</title><text class=\"label\" dy=\"0.35em\" x=\"364.3333333333333\" y=\"55.784111087660605\"/></g><g class=\"link\" style=\"opacity: 0.8;\"><path d=\"M270.5,308.38052367506646 A990.5668463625326 990.5668463625326 0.015568081361116315 0 0 285.9206023373976,308.26048665474434 L343.6190306534195,307.3621602527994 A1009.4331536374674 1009.4331536374674 0.015568081361116315 0 1 359.3333333333333,307.2398370108881 L359.3333333333333,326.1061442858229 A990.5668463625326 990.5668463625326 0.015568081361116315 0 0 343.9127309959357,326.226181306145 L286.2143026799138,327.12450770808994 A1009.4331536374674 1009.4331536374674 0.015568081361116315 0 1 270.5,327.24683095000125 Z\" style=\"fill: rgb(253, 191, 111);\"/><title>Manganese refining → Manganese\nChina\n569m</title><text class=\"label\" dy=\"0.35em\" x=\"274.5\" y=\"317.81367731253386\"/></g><g class=\"link\" style=\"opacity: 0.8;\"><path d=\"M1,157.23276120026898 A18.88403164403153 18.88403164403153 0.8030530782771035 0 0 14.58668014844681,151.46394109385992 L47.51228246013186,117.35472173277282 A58.821732400137954 58.821732400137954 0.8030530782771035 0 1 89.83333333333333,99.38546606956395 L89.83333333333333,119.896725814628 A38.3104726550739 38.3104726550739 0.8030530782771035 0 0 62.26972042947445,131.60006486344153 L29.344118117789407,165.70928422452866 A39.39529138909558 39.39529138909558 0.8030530782771035 0 1 1,177.74402094533306 Z\" style=\"fill: rgb(255, 127, 0);\"/><title>China   → Graphite production\nChina  \n618m</title><text class=\"label\" dy=\"0.35em\" x=\"5\" y=\"167.48839107280102\"/></g><g class=\"link\" style=\"opacity: 0.8;\"><path d=\"M90.83333333333333,99.38546606956395 A0 0 0 0 0 90.83333333333333,99.38546606956395 L179.66666666666666,99.38546606956395 A0 0 0 0 0 179.66666666666666,99.38546606956395 L179.66666666666666,119.896725814628 A0 0 0 0 0 179.66666666666666,119.896725814628 L90.83333333333333,119.896725814628 A0 0 0 0 0 90.83333333333333,119.896725814628 Z\" style=\"fill: rgb(255, 127, 0);\"/><title>Graphite production → \nChina  \n618m</title><text class=\"label\" dy=\"0.35em\" x=\"94.83333333333333\" y=\"109.64109594209597\"/></g><g class=\"link\" style=\"opacity: 0.8;\"><path d=\"M180.66666666666666,99.38546606956395 A0 0 0 0 1 180.66666666666666,99.38546606956395 L269.5,99.41486072124671 A0 0 0 0 0 269.5,99.41486072124671 L269.5,119.92612046631076 A0 0 0 0 1 269.5,119.92612046631076 L180.66666666666666,119.896725814628 A0 0 0 0 0 180.66666666666666,119.896725814628 Z\" style=\"fill: rgb(255, 127, 0);\"/><title> → \nChina  \n618m</title><text class=\"label\" dy=\"0.35em\" x=\"184.66666666666666\" y=\"109.64109594209597\"/></g><g class=\"link\" style=\"opacity: 0.8;\"><path d=\"M270.5,99.41486072124671 A547.7497674598408 547.7497674598408 0.030113386592854674 0 0 286.9921076886084,99.16652534747541 L342.10434315183755,97.50640745745213 A572.2237292932984 572.2237292932984 0.030113386592854674 0 1 359.3333333333333,97.24697623148585 L359.3333333333333,117.7582359765499 A551.7124695482344 551.7124695482344 0.030113386592854674 0 0 342.7219132990844,118.00836793548237 L287.6096778358553,119.66848582550568 A568.2610272049048 568.2610272049048 0.030113386592854674 0 1 270.5,119.92612046631076 Z\" style=\"fill: rgb(255, 127, 0);\"/><title> → \nChina  \n618m</title><text class=\"label\" dy=\"0.35em\" x=\"274.5\" y=\"109.67049059377874\"/></g><g class=\"link\" style=\"opacity: 0.8;\"><path d=\"M360.3333333333333,97.24697623148585 A88.14150437184442 88.14150437184442 0.29160475772111827 0 1 385.67309965372306,100.96797932692283 L430.86290997889733,114.53221095773723 A63.667542538386726 63.667542538386726 0.29160475772111827 0 0 449.16666666666663,117.22001535309629 L449.16666666666663,137.73127509816035 A84.17880228345078 84.17880228345078 0.29160475772111827 0 1 424.96613600639904,134.1775623938086 L379.77632568122476,120.6133307629942 A67.63024462678037 67.63024462678037 0.29160475772111827 0 0 360.3333333333333,117.7582359765499 Z\" style=\"fill: rgb(255, 127, 0);\"/><title> → Graphite/Carbon\nChina  \n618m</title><text class=\"label\" dy=\"0.35em\" x=\"364.3333333333333\" y=\"107.50260610401787\"/></g><g class=\"link\" style=\"opacity: 0.8;\"><path d=\"M270.5,202.78224074663456 A719.3081715079385 719.3081715079385 0.02295473756063049 0 0 287.01008029785766,202.59274014541933 L342.2904173890774,201.32357159064114 A742.5226579071795 742.5226579071795 0.02295473756063049 0 1 359.3333333333333,201.12795516966492 L359.3333333333333,222.1259339803616 A721.5246790964828 721.5246790964828 0.02295473756063049 0 0 342.7723781535861,222.31601851699875 L287.49204106236635,223.58518707177694 A740.3061503186351 740.3061503186351 0.02295473756063049 0 1 270.5,223.78021955733124 Z\" style=\"fill: rgb(253, 191, 111);\"/><title>Cobalt refining → Cobalt\nChina\n633m</title><text class=\"label\" dy=\"0.35em\" x=\"274.5\" y=\"213.2812301519829\"/></g><g class=\"link\" style=\"opacity: 0.8;\"><path d=\"M1,181.53668016315146 A67.68089819313934 67.68089819313934 0.2972755137530827 0 1 20.82483908879366,184.50529408712342 L76.16195122805618,201.45801575641713 A46.67333824413267 46.67333824413267 0.2972755137530827 0 0 89.83333333333333,203.50519783420802 L89.83333333333333,224.5127577832147 A67.68089819313934 67.68089819313934 0.2972755137530827 0 1 70.00849424453966,221.54414385924275 L14.671382105277146,204.59142218994904 A46.67333824413267 46.67333824413267 0.2972755137530827 0 0 1,202.54424011215815 Z\" style=\"fill: rgb(202, 178, 214);\"/><title>Congo → Cobalt mining\nCongo\n633m</title><text class=\"label\" dy=\"0.35em\" x=\"5\" y=\"192.0404601376548\"/></g><g class=\"link\" style=\"opacity: 0.8;\"><path d=\"M90.83333333333333,203.50519783420802 A0 0 0 0 0 90.83333333333333,203.50519783420802 L179.66666666666666,203.50519783420802 A0 0 0 0 0 179.66666666666666,203.50519783420802 L179.66666666666666,224.5127577832147 A0 0 0 0 0 179.66666666666666,224.5127577832147 L90.83333333333333,224.5127577832147 A0 0 0 0 0 90.83333333333333,224.5127577832147 Z\" style=\"fill: rgb(202, 178, 214);\"/><title>Cobalt mining → \nCongo\n633m</title><text class=\"label\" dy=\"0.35em\" x=\"94.83333333333333\" y=\"214.00897780871136\"/></g><g class=\"link\" style=\"opacity: 0.8;\"><path d=\"M180.66666666666666,203.50519783420802 A667.4624885429687 667.4624885429687 0.02470016280886589 0 0 197.1514224636297,203.30159940682793 L252.41311159712305,201.9363490313171 A691.8426451267975 691.8426451267975 0.02470016280886589 0 1 269.5,201.7253138391375 L269.5,222.7328737881442 A670.8350851777908 670.8350851777908 0.02470016280886589 0 0 252.93194898737912,222.93750097052225 L197.67025985388577,224.3027513460331 A688.4700484919754 688.4700484919754 0.02470016280886589 0 1 180.66666666666666,224.5127577832147 Z\" style=\"fill: rgb(202, 178, 214);\"/><title> → Cobalt refining\nCongo\n633m</title><text class=\"label\" dy=\"0.35em\" x=\"184.66666666666666\" y=\"214.00897780871136\"/></g><g class=\"link\" style=\"opacity: 0.8;\"><path d=\"M360.3333333333333,447.805887015716 A13.217889888218913 13.217889888218913 1.095625623827287 0 0 372.08687452704265,440.6350528164136 L422.6354941252388,342.3847119403573 A29.83663488971501 29.83663488971501 1.095625623827287 0 1 449.16666666666663,326.1980464688917 L449.16666666666663,355.7121821541306 A0.3224992044760846 0.3224992044760846 1.095625623827287 0 0 448.8798956527753,355.8871411184026 L398.3312760545792,454.1374819944589 A42.73202557345784 42.73202557345784 1.095625623827287 0 1 360.3333333333333,477.3200227009549 Z\" style=\"fill: rgb(178, 223, 138);\"/><title>Sodium Hydroxide → Active material\nSodium Hydroxide\n890m</title><text class=\"label\" dy=\"0.35em\" x=\"364.3333333333333\" y=\"462.56295485833544\"/></g><g class=\"link\" style=\"opacity: 0.8;\"><path d=\"M360.3333333333333,520.4833400440211 A15.720519589006644 15.720519589006644 1.2403588436853523 0 0 375.20338051011146,509.863451112956 L419.3754438674142,381.08708793989763 A31.49509184661387 31.49509184661387 1.2403588436853523 0 1 449.16666666666663,359.81079516910216 L449.16666666666663,391.305887015716 A0 0 1.2403588436853523 0 0 449.16666666666663,391.30588701571605 L404.99460330936387,520.0822501887744 A47.21561143562052 47.21561143562052 1.2403588436853523 0 1 360.3333333333333,551.978431890635 Z\" style=\"fill: rgb(251, 154, 153);\"/><title>Precursor Co-precipitation → Active material\nPrecursor Co-precipitation \n949m</title><text class=\"label\" dy=\"0.35em\" x=\"364.3333333333333\" y=\"536.230885967328\"/></g><g class=\"link\" style=\"opacity: 0.8;\"><path d=\"M360.3333333333333,357.82300302087174 A11.20540413486015 11.20540413486015 0.8811666515875826 0 0 368.9780974256165,353.7470543781451 L400.31681737912777,315.74754077557697 A63.31951888455933 63.31951888455933 0.8811666515875826 0 1 449.16666666666663,292.71516247404736 L449.16666666666663,326.1980464688917 A29.83663488971501 29.83663488971501 0.8811666515875826 0 0 426.14824922942796,337.0510768476824 L394.8095292759167,375.0505904502505 A44.688288129704475 44.688288129704475 0.8811666515875826 0 1 360.3333333333333,391.30588701571605 Z\" style=\"fill: rgb(31, 120, 180);\"/><title>Nickel → Active material\nNickel Sulfate\n1.01</title><text class=\"label\" dy=\"0.35em\" x=\"364.3333333333333\" y=\"374.5644450182939\"/></g></g><g class=\"nodes\"><g class=\"node\" transform=\"translate(0,43.478431890635115)\"><title>Argentina</title><line x1=\"0\" x2=\"0\" y1=\"0\" y2=\"2.4277498745820907\" style=\"display: inline; stroke: rgb(0, 0, 0);\"/><rect class=\"node-body\" width=\"1\" height=\"2.4277498745820907\" style=\"fill: none;\"/><text class=\"node-value\" dy=\".35em\" text-anchor=\"middle\" transform=\"translate(0.5,1.2138749372910453) rotate(-90)\" style=\"display: none;\"/><text class=\"node-title\" dy=\".35em\" text-anchor=\"end\" transform=\"translate(-4,1.2138749372910453)\" style=\"display: inline;\">Argentina</text><rect class=\"node-click-target\" x=\"-5\" y=\"-5\" width=\"10\" height=\"7.427749874582091\" style=\"fill: none; visibility: hidden; pointer-events: all;\"/></g><g class=\"node\" transform=\"translate(0,49.69884098303561)\"><title>Australia</title><line x1=\"0\" x2=\"0\" y1=\"0\" y2=\"36.31171198689583\" style=\"display: inline; stroke: rgb(0, 0, 0);\"/><rect class=\"node-body\" width=\"1\" height=\"36.31171198689583\" style=\"fill: none;\"/><text class=\"node-value\" dy=\".35em\" text-anchor=\"middle\" transform=\"translate(0.5,18.155855993447915) rotate(-90)\" style=\"display: none;\"/><text class=\"node-title\" dy=\".35em\" text-anchor=\"end\" transform=\"translate(-4,18.155855993447915)\" style=\"display: inline;\">Australia</text><rect class=\"node-click-target\" x=\"-5\" y=\"-5\" width=\"10\" height=\"41.31171198689583\" style=\"fill: none; visibility: hidden; pointer-events: all;\"/></g><g class=\"node\" transform=\"translate(0,89.80321218774985)\"><title>Brazil</title><line x1=\"0\" x2=\"0\" y1=\"0\" y2=\"6.538225101174191\" style=\"display: inline; stroke: rgb(0, 0, 0);\"/><rect class=\"node-body\" width=\"1\" height=\"6.538225101174191\" style=\"fill: none;\"/><text class=\"node-value\" dy=\".35em\" text-anchor=\"middle\" transform=\"translate(0.5,3.2691125505870957) rotate(-90)\" style=\"display: none;\"/><text class=\"node-title\" dy=\".35em\" text-anchor=\"end\" transform=\"translate(-4,3.2691125505870957)\" style=\"display: inline;\">Brazil</text><rect class=\"node-click-target\" x=\"-5\" y=\"-5\" width=\"10\" height=\"11.538225101174191\" style=\"fill: none; visibility: hidden; pointer-events: all;\"/></g><g class=\"node\" transform=\"translate(0,100.13409650674245)\"><title>Brazil  </title><line x1=\"0\" x2=\"0\" y1=\"0\" y2=\"2.8129727574535224\" style=\"display: inline; stroke: rgb(0, 0, 0);\"/><rect class=\"node-body\" width=\"1\" height=\"2.8129727574535224\" style=\"fill: none;\"/><text class=\"node-value\" dy=\".35em\" text-anchor=\"middle\" transform=\"translate(0.5,1.4064863787267612) rotate(-90)\" style=\"display: none;\"/><text class=\"node-title\" dy=\".35em\" text-anchor=\"end\" transform=\"translate(-4,1.4064863787267612)\" style=\"display: inline;\">Brazil  </text><rect class=\"node-click-target\" x=\"-5\" y=\"-5\" width=\"10\" height=\"7.812972757453522\" style=\"fill: none; visibility: hidden; pointer-events: all;\"/></g><g class=\"node\" transform=\"translate(0,106.73972848201439)\"><title>Canada</title><line x1=\"0\" x2=\"0\" y1=\"0\" y2=\"4.503753334150929\" style=\"display: inline; stroke: rgb(0, 0, 0);\"/><rect class=\"node-body\" width=\"1\" height=\"4.503753334150929\" style=\"fill: none;\"/><text class=\"node-value\" dy=\".35em\" text-anchor=\"middle\" transform=\"translate(0.5,2.2518766670754644) rotate(-90)\" style=\"display: none;\"/><text class=\"node-title\" dy=\".35em\" text-anchor=\"end\" transform=\"translate(-4,2.2518766670754644)\" style=\"display: inline;\">Canada</text><rect class=\"node-click-target\" x=\"-5\" y=\"-5\" width=\"10\" height=\"9.503753334150929\" style=\"fill: none; visibility: hidden; pointer-events: all;\"/></g><g class=\"node\" transform=\"translate(0,115.03614103398372)\"><title>Chile</title><line x1=\"0\" x2=\"0\" y1=\"0\" y2=\"16.72421290969588\" style=\"display: inline; stroke: rgb(0, 0, 0);\"/><rect class=\"node-body\" width=\"1\" height=\"16.72421290969588\" style=\"fill: none;\"/><text class=\"node-value\" dy=\".35em\" text-anchor=\"middle\" transform=\"translate(0.5,8.36210645484794) rotate(-90)\" style=\"display: none;\"/><text class=\"node-title\" dy=\".35em\" text-anchor=\"end\" transform=\"translate(-4,8.36210645484794)\" style=\"display: inline;\">Chile</text><rect class=\"node-click-target\" x=\"-5\" y=\"-5\" width=\"10\" height=\"21.72421290969588\" style=\"fill: none; visibility: hidden; pointer-events: all;\"/></g><g class=\"node\" transform=\"translate(0,135.55301316149803)\"><title>China</title><line x1=\"0\" x2=\"0\" y1=\"0\" y2=\"17.887088820952556\" style=\"display: inline; stroke: rgb(0, 0, 0);\"/><rect class=\"node-body\" width=\"1\" height=\"17.887088820952556\" style=\"fill: none;\"/><text class=\"node-value\" dy=\".35em\" text-anchor=\"middle\" transform=\"translate(0.5,8.943544410476278) rotate(-90)\" style=\"display: none;\"/><text class=\"node-title\" dy=\".35em\" text-anchor=\"end\" transform=\"translate(-4,8.943544410476278)\" style=\"display: inline;\">China</text><rect class=\"node-click-target\" x=\"-5\" y=\"-5\" width=\"10\" height=\"22.887088820952556\" style=\"fill: none; visibility: hidden; pointer-events: all;\"/></g><g class=\"node\" transform=\"translate(0,157.23276120026898)\"><title>China  </title><line x1=\"0\" x2=\"0\" y1=\"0\" y2=\"20.511259745064052\" style=\"display: inline; stroke: rgb(0, 0, 0);\"/><rect class=\"node-body\" width=\"1\" height=\"20.511259745064052\" style=\"fill: none;\"/><text class=\"node-value\" dy=\".35em\" text-anchor=\"middle\" transform=\"translate(0.5,10.255629872532026) rotate(-90)\" style=\"display: none;\"/><text class=\"node-title\" dy=\".35em\" text-anchor=\"end\" transform=\"translate(-4,10.255629872532026)\" style=\"display: inline;\">China  </text><rect class=\"node-click-target\" x=\"-5\" y=\"-5\" width=\"10\" height=\"25.511259745064052\" style=\"fill: none; visibility: hidden; pointer-events: all;\"/></g><g class=\"node\" transform=\"translate(0,181.53668016315146)\"><title>Congo</title><line x1=\"0\" x2=\"0\" y1=\"0\" y2=\"21.007559949006662\" style=\"display: inline; stroke: rgb(0, 0, 0);\"/><rect class=\"node-body\" width=\"1\" height=\"21.007559949006662\" style=\"fill: none;\"/><text class=\"node-value\" dy=\".35em\" text-anchor=\"middle\" transform=\"translate(0.5,10.503779974503331) rotate(-90)\" style=\"display: none;\"/><text class=\"node-title\" dy=\".35em\" text-anchor=\"end\" transform=\"translate(-4,10.503779974503331)\" style=\"display: inline;\">Congo</text><rect class=\"node-click-target\" x=\"-5\" y=\"-5\" width=\"10\" height=\"26.007559949006662\" style=\"fill: none; visibility: hidden; pointer-events: all;\"/></g><g class=\"node\" transform=\"translate(0,206.33689932997652)\"><title>Congo, Democratic Republic</title><line x1=\"0\" x2=\"0\" y1=\"0\" y2=\"2.2792393275934444\" style=\"display: inline; stroke: rgb(0, 0, 0);\"/><rect class=\"node-body\" width=\"1\" height=\"2.2792393275934444\" style=\"fill: none;\"/><text class=\"node-value\" dy=\".35em\" text-anchor=\"middle\" transform=\"translate(0.5,1.1396196637967222) rotate(-90)\" style=\"display: none;\"/><text class=\"node-title\" dy=\".35em\" text-anchor=\"end\" transform=\"translate(-4,1.1396196637967222)\" style=\"display: inline;\">Congo, Democratic Republic</text><rect class=\"node-click-target\" x=\"-5\" y=\"-5\" width=\"10\" height=\"7.279239327593444\" style=\"fill: none; visibility: hidden; pointer-events: all;\"/></g><g class=\"node\" transform=\"translate(0,212.4087978753884)\"><title>Cuba</title><line x1=\"0\" x2=\"0\" y1=\"0\" y2=\"1.4011506911142533\" style=\"display: inline; stroke: rgb(0, 0, 0);\"/><rect class=\"node-body\" width=\"1\" height=\"1.4011506911142533\" style=\"fill: none;\"/><text class=\"node-value\" dy=\".35em\" text-anchor=\"middle\" transform=\"translate(0.5,0.7005753455571266) rotate(-90)\" style=\"display: none;\"/><text class=\"node-title\" dy=\".35em\" text-anchor=\"end\" transform=\"translate(-4,0.7005753455571266)\" style=\"display: inline;\">Cuba</text><rect class=\"node-click-target\" x=\"-5\" y=\"-5\" width=\"10\" height=\"6.401150691114253\" style=\"fill: none; visibility: hidden; pointer-events: all;\"/></g><g class=\"node\" transform=\"translate(0,217.60260778432104)\"><title>Gabon</title><line x1=\"0\" x2=\"0\" y1=\"0\" y2=\"4.213324160479772\" style=\"display: inline; stroke: rgb(0, 0, 0);\"/><rect class=\"node-body\" width=\"1\" height=\"4.213324160479772\" style=\"fill: none;\"/><text class=\"node-value\" dy=\".35em\" text-anchor=\"middle\" transform=\"translate(0.5,2.106662080239886) rotate(-90)\" style=\"display: none;\"/><text class=\"node-title\" dy=\".35em\" text-anchor=\"end\" transform=\"translate(-4,2.106662080239886)\" style=\"display: inline;\">Gabon</text><rect class=\"node-click-target\" x=\"-5\" y=\"-5\" width=\"10\" height=\"9.213324160479772\" style=\"fill: none; visibility: hidden; pointer-events: all;\"/></g><g class=\"node\" transform=\"translate(0,225.6085911626192)\"><title>Ghana</title><line x1=\"0\" x2=\"0\" y1=\"0\" y2=\"3.156190214474236\" style=\"display: inline; stroke: rgb(0, 0, 0);\"/><rect class=\"node-body\" width=\"1\" height=\"3.156190214474236\" style=\"fill: none;\"/><text class=\"node-value\" dy=\".35em\" text-anchor=\"middle\" transform=\"translate(0.5,1.578095107237118) rotate(-90)\" style=\"display: none;\"/><text class=\"node-title\" dy=\".35em\" text-anchor=\"end\" transform=\"translate(-4,1.578095107237118)\" style=\"display: inline;\">Ghana</text><rect class=\"node-click-target\" x=\"-5\" y=\"-5\" width=\"10\" height=\"8.156190214474236\" style=\"fill: none; visibility: hidden; pointer-events: all;\"/></g><g class=\"node\" transform=\"translate(0,232.55744059491187)\"><title>Guatemala</title><line x1=\"0\" x2=\"0\" y1=\"0\" y2=\"1\" style=\"display: inline; stroke: rgb(0, 0, 0);\"/><rect class=\"node-body\" width=\"1\" height=\"1\" style=\"fill: none;\"/><text class=\"node-value\" dy=\".35em\" text-anchor=\"middle\" transform=\"translate(0.5,0.3376331738914189) rotate(0)\" style=\"display: none;\"/><text class=\"node-title\" dy=\".35em\" text-anchor=\"end\" transform=\"translate(-4,0.3376331738914189)\" style=\"display: inline;\">Guatemala</text><rect class=\"node-click-target\" x=\"-5\" y=\"-5\" width=\"10\" height=\"6\" style=\"fill: none; visibility: hidden; pointer-events: all;\"/></g><g class=\"node\" transform=\"translate(0,237.0253661605131)\"><title>Guinea</title><line x1=\"0\" x2=\"0\" y1=\"0\" y2=\"6.708586240185127\" style=\"display: inline; stroke: rgb(0, 0, 0);\"/><rect class=\"node-body\" width=\"1\" height=\"6.708586240185127\" style=\"fill: none;\"/><text class=\"node-value\" dy=\".35em\" text-anchor=\"middle\" transform=\"translate(0.5,3.3542931200925636) rotate(-90)\" style=\"display: none;\"/><text class=\"node-title\" dy=\".35em\" text-anchor=\"end\" transform=\"translate(-4,3.3542931200925636)\" style=\"display: inline;\">Guinea</text><rect class=\"node-click-target\" x=\"-5\" y=\"-5\" width=\"10\" height=\"11.708586240185127\" style=\"fill: none; visibility: hidden; pointer-events: all;\"/></g><g class=\"node\" transform=\"translate(0,247.52661161851663)\"><title>India</title><line x1=\"0\" x2=\"0\" y1=\"0\" y2=\"2.1102219813119802\" style=\"display: inline; stroke: rgb(0, 0, 0);\"/><rect class=\"node-body\" width=\"1\" height=\"2.1102219813119802\" style=\"fill: none;\"/><text class=\"node-value\" dy=\".35em\" text-anchor=\"middle\" transform=\"translate(0.5,1.0551109906559901) rotate(-90)\" style=\"display: none;\"/><text class=\"node-title\" dy=\".35em\" text-anchor=\"end\" transform=\"translate(-4,1.0551109906559901)\" style=\"display: inline;\">India</text><rect class=\"node-click-target\" x=\"-5\" y=\"-5\" width=\"10\" height=\"7.11022198131198\" style=\"fill: none; visibility: hidden; pointer-events: all;\"/></g><g class=\"node\" transform=\"translate(0,253.42949281764703)\"><title>India </title><line x1=\"0\" x2=\"0\" y1=\"0\" y2=\"1.7332762922980862\" style=\"display: inline; stroke: rgb(0, 0, 0);\"/><rect class=\"node-body\" width=\"1\" height=\"1.7332762922980862\" style=\"fill: none;\"/><text class=\"node-value\" dy=\".35em\" text-anchor=\"middle\" transform=\"translate(0.5,0.8666381461490431) rotate(-90)\" style=\"display: none;\"/><text class=\"node-title\" dy=\".35em\" text-anchor=\"end\" transform=\"translate(-4,0.8666381461490431)\" style=\"display: inline;\">India </text><rect class=\"node-click-target\" x=\"-5\" y=\"-5\" width=\"10\" height=\"6.733276292298086\" style=\"fill: none; visibility: hidden; pointer-events: all;\"/></g><g class=\"node\" transform=\"translate(0,258.9554283277635)\"><title>India  </title><line x1=\"0\" x2=\"0\" y1=\"0\" y2=\"1\" style=\"display: inline; stroke: rgb(0, 0, 0);\"/><rect class=\"node-body\" width=\"1\" height=\"1\" style=\"fill: none;\"/><text class=\"node-value\" dy=\".35em\" text-anchor=\"middle\" transform=\"translate(0.5,0.48254203054489153) rotate(0)\" style=\"display: none;\"/><text class=\"node-title\" dy=\".35em\" text-anchor=\"end\" transform=\"translate(-4,0.48254203054489153)\" style=\"display: inline;\">India  </text><rect class=\"node-click-target\" x=\"-5\" y=\"-5\" width=\"10\" height=\"6\" style=\"fill: none; visibility: hidden; pointer-events: all;\"/></g><g class=\"node\" transform=\"translate(0,263.7131716066717)\"><title>Indonesia</title><line x1=\"0\" x2=\"0\" y1=\"0\" y2=\"14.308287422391402\" style=\"display: inline; stroke: rgb(0, 0, 0);\"/><rect class=\"node-body\" width=\"1\" height=\"14.308287422391402\" style=\"fill: none;\"/><text class=\"node-value\" dy=\".35em\" text-anchor=\"middle\" transform=\"translate(0.5,7.154143711195701) rotate(-90)\" style=\"display: none;\"/><text class=\"node-title\" dy=\".35em\" text-anchor=\"end\" transform=\"translate(-4,7.154143711195701)\" style=\"display: inline;\">Indonesia</text><rect class=\"node-click-target\" x=\"-5\" y=\"-5\" width=\"10\" height=\"19.308287422391402\" style=\"fill: none; visibility: hidden; pointer-events: all;\"/></g><g class=\"node\" transform=\"translate(0,281.81411824688155)\"><title>Ivory Coast</title><line x1=\"0\" x2=\"0\" y1=\"0\" y2=\"1\" style=\"display: inline; stroke: rgb(0, 0, 0);\"/><rect class=\"node-body\" width=\"1\" height=\"1\" style=\"fill: none;\"/><text class=\"node-value\" dy=\".35em\" text-anchor=\"middle\" transform=\"translate(0.5,0.3517943922060738) rotate(0)\" style=\"display: none;\"/><text class=\"node-title\" dy=\".35em\" text-anchor=\"end\" transform=\"translate(-4,0.3517943922060738)\" style=\"display: inline;\">Ivory Coast</text><rect class=\"node-click-target\" x=\"-5\" y=\"-5\" width=\"10\" height=\"6\" style=\"fill: none; visibility: hidden; pointer-events: all;\"/></g><g class=\"node\" transform=\"translate(0,286.3103662491121)\"><title>Jamaica</title><line x1=\"0\" x2=\"0\" y1=\"0\" y2=\"1\" style=\"display: inline; stroke: rgb(0, 0, 0);\"/><rect class=\"node-body\" width=\"1\" height=\"1\" style=\"fill: none;\"/><text class=\"node-value\" dy=\".35em\" text-anchor=\"middle\" transform=\"translate(0.5,0.4312663227601661) rotate(0)\" style=\"display: none;\"/><text class=\"node-title\" dy=\".35em\" text-anchor=\"end\" transform=\"translate(-4,0.4312663227601661)\" style=\"display: inline;\">Jamaica</text><rect class=\"node-click-target\" x=\"-5\" y=\"-5\" width=\"10\" height=\"6\" style=\"fill: none; visibility: hidden; pointer-events: all;\"/></g><g class=\"node\" transform=\"translate(0,290.9655581124508)\"><title>Kazakhstan</title><line x1=\"0\" x2=\"0\" y1=\"0\" y2=\"1\" style=\"display: inline; stroke: rgb(0, 0, 0);\"/><rect class=\"node-body\" width=\"1\" height=\"1\" style=\"fill: none;\"/><text class=\"node-value\" dy=\".35em\" text-anchor=\"middle\" transform=\"translate(0.5,0.4878172323880108) rotate(0)\" style=\"display: none;\"/><text class=\"node-title\" dy=\".35em\" text-anchor=\"end\" transform=\"translate(-4,0.4878172323880108)\" style=\"display: inline;\">Kazakhstan</text><rect class=\"node-click-target\" x=\"-5\" y=\"-5\" width=\"10\" height=\"6\" style=\"fill: none; visibility: hidden; pointer-events: all;\"/></g><g class=\"node\" transform=\"translate(0,295.73385179504527)\"><title>Korea, Dem. P.R. of</title><line x1=\"0\" x2=\"0\" y1=\"0\" y2=\"1.1720719712125742\" style=\"display: inline; stroke: rgb(0, 0, 0);\"/><rect class=\"node-body\" width=\"1\" height=\"1.1720719712125742\" style=\"fill: none;\"/><text class=\"node-value\" dy=\".35em\" text-anchor=\"middle\" transform=\"translate(0.5,0.5860359856062871) rotate(-90)\" style=\"display: none;\"/><text class=\"node-title\" dy=\".35em\" text-anchor=\"end\" transform=\"translate(-4,0.5860359856062871)\" style=\"display: inline;\">Korea, Dem. P.R. of</text><rect class=\"node-click-target\" x=\"-5\" y=\"-5\" width=\"10\" height=\"6.172071971212574\" style=\"fill: none; visibility: hidden; pointer-events: all;\"/></g><g class=\"node\" transform=\"translate(0,300.6985829840762)\"><title>Madagascar</title><line x1=\"0\" x2=\"0\" y1=\"0\" y2=\"2.354210592673269\" style=\"display: inline; stroke: rgb(0, 0, 0);\"/><rect class=\"node-body\" width=\"1\" height=\"2.354210592673269\" style=\"fill: none;\"/><text class=\"node-value\" dy=\".35em\" text-anchor=\"middle\" transform=\"translate(0.5,1.1771052963366344) rotate(-90)\" style=\"display: none;\"/><text class=\"node-title\" dy=\".35em\" text-anchor=\"end\" transform=\"translate(-4,1.1771052963366344)\" style=\"display: inline;\">Madagascar</text><rect class=\"node-click-target\" x=\"-5\" y=\"-5\" width=\"10\" height=\"7.354210592673269\" style=\"fill: none; visibility: hidden; pointer-events: all;\"/></g><g class=\"node\" transform=\"translate(0,306.8454527945679)\"><title>Malaysia</title><line x1=\"0\" x2=\"0\" y1=\"0\" y2=\"1\" style=\"display: inline; stroke: rgb(0, 0, 0);\"/><rect class=\"node-body\" width=\"1\" height=\"1\" style=\"fill: none;\"/><text class=\"node-value\" dy=\".35em\" text-anchor=\"middle\" transform=\"translate(0.5,0.3314926240771854) rotate(0)\" style=\"display: none;\"/><text class=\"node-title\" dy=\".35em\" text-anchor=\"end\" transform=\"translate(-4,0.3314926240771854)\" style=\"display: inline;\">Malaysia</text><rect class=\"node-click-target\" x=\"-5\" y=\"-5\" width=\"10\" height=\"6\" style=\"fill: none; visibility: hidden; pointer-events: all;\"/></g><g class=\"node\" transform=\"translate(0,311.3010972605407)\"><title>Mexico</title><line x1=\"0\" x2=\"0\" y1=\"0\" y2=\"1.233250091967136\" style=\"display: inline; stroke: rgb(0, 0, 0);\"/><rect class=\"node-body\" width=\"1\" height=\"1.233250091967136\" style=\"fill: none;\"/><text class=\"node-value\" dy=\".35em\" text-anchor=\"middle\" transform=\"translate(0.5,0.616625045983568) rotate(-90)\" style=\"display: none;\"/><text class=\"node-title\" dy=\".35em\" text-anchor=\"end\" transform=\"translate(-4,0.616625045983568)\" style=\"display: inline;\">Mexico</text><rect class=\"node-click-target\" x=\"-5\" y=\"-5\" width=\"10\" height=\"6.233250091967136\" style=\"fill: none; visibility: hidden; pointer-events: all;\"/></g><g class=\"node\" transform=\"translate(0,316.3270065703262)\"><title>Mozambique</title><line x1=\"0\" x2=\"0\" y1=\"0\" y2=\"3.3346326902408805\" style=\"display: inline; stroke: rgb(0, 0, 0);\"/><rect class=\"node-body\" width=\"1\" height=\"3.3346326902408805\" style=\"fill: none;\"/><text class=\"node-value\" dy=\".35em\" text-anchor=\"middle\" transform=\"translate(0.5,1.6673163451204402) rotate(-90)\" style=\"display: none;\"/><text class=\"node-title\" dy=\".35em\" text-anchor=\"end\" transform=\"translate(-4,1.6673163451204402)\" style=\"display: inline;\">Mozambique</text><rect class=\"node-click-target\" x=\"-5\" y=\"-5\" width=\"10\" height=\"8.33463269024088\" style=\"fill: none; visibility: hidden; pointer-events: all;\"/></g><g class=\"node\" transform=\"translate(0,323.45429847838545)\"><title>New Caledonia</title><line x1=\"0\" x2=\"0\" y1=\"0\" y2=\"2.5727524460219797\" style=\"display: inline; stroke: rgb(0, 0, 0);\"/><rect class=\"node-body\" width=\"1\" height=\"2.5727524460219797\" style=\"fill: none;\"/><text class=\"node-value\" dy=\".35em\" text-anchor=\"middle\" transform=\"translate(0.5,1.2863762230109899) rotate(-90)\" style=\"display: none;\"/><text class=\"node-title\" dy=\".35em\" text-anchor=\"end\" transform=\"translate(-4,1.2863762230109899)\" style=\"display: inline;\">New Caledonia</text><rect class=\"node-click-target\" x=\"-5\" y=\"-5\" width=\"10\" height=\"7.57275244602198\" style=\"fill: none; visibility: hidden; pointer-events: all;\"/></g><g class=\"node\" transform=\"translate(0,329.81971014222586)\"><title>Papua New Guinea</title><line x1=\"0\" x2=\"0\" y1=\"0\" y2=\"1\" style=\"display: inline; stroke: rgb(0, 0, 0);\"/><rect class=\"node-body\" width=\"1\" height=\"1\" style=\"fill: none;\"/><text class=\"node-value\" dy=\".35em\" text-anchor=\"middle\" transform=\"translate(0.5,0.3927263698412844) rotate(0)\" style=\"display: none;\"/><text class=\"node-title\" dy=\".35em\" text-anchor=\"end\" transform=\"translate(-4,0.3927263698412844)\" style=\"display: inline;\">Papua New Guinea</text><rect class=\"node-click-target\" x=\"-5\" y=\"-5\" width=\"10\" height=\"6\" style=\"fill: none; visibility: hidden; pointer-events: all;\"/></g><g class=\"node\" transform=\"translate(0,334.39782209972685)\"><title>Peru</title><line x1=\"0\" x2=\"0\" y1=\"0\" y2=\"3.940151082442867\" style=\"display: inline; stroke: rgb(0, 0, 0);\"/><rect class=\"node-body\" width=\"1\" height=\"3.940151082442867\" style=\"fill: none;\"/><text class=\"node-value\" dy=\".35em\" text-anchor=\"middle\" transform=\"translate(0.5,1.9700755412214335) rotate(-90)\" style=\"display: none;\"/><text class=\"node-title\" dy=\".35em\" text-anchor=\"end\" transform=\"translate(-4,1.9700755412214335)\" style=\"display: inline;\">Peru</text><rect class=\"node-click-target\" x=\"-5\" y=\"-5\" width=\"10\" height=\"8.940151082442867\" style=\"fill: none; visibility: hidden; pointer-events: all;\"/></g><g class=\"node\" transform=\"translate(0,342.13063239998814)\"><title>Philippines</title><line x1=\"0\" x2=\"0\" y1=\"0\" y2=\"5.774973989959335\" style=\"display: inline; stroke: rgb(0, 0, 0);\"/><rect class=\"node-body\" width=\"1\" height=\"5.774973989959335\" style=\"fill: none;\"/><text class=\"node-value\" dy=\".35em\" text-anchor=\"middle\" transform=\"translate(0.5,2.8874869949796675) rotate(-90)\" style=\"display: none;\"/><text class=\"node-title\" dy=\".35em\" text-anchor=\"end\" transform=\"translate(-4,2.8874869949796675)\" style=\"display: inline;\">Philippines</text><rect class=\"node-click-target\" x=\"-5\" y=\"-5\" width=\"10\" height=\"10.774973989959335\" style=\"fill: none; visibility: hidden; pointer-events: all;\"/></g><g class=\"node\" transform=\"translate(0,351.6982656077659)\"><title>Poland</title><line x1=\"0\" x2=\"0\" y1=\"0\" y2=\"1\" style=\"display: inline; stroke: rgb(0, 0, 0);\"/><rect class=\"node-body\" width=\"1\" height=\"1\" style=\"fill: none;\"/><text class=\"node-value\" dy=\".35em\" text-anchor=\"middle\" transform=\"translate(0.5,0.3602466065976273) rotate(0)\" style=\"display: none;\"/><text class=\"node-title\" dy=\".35em\" text-anchor=\"end\" transform=\"translate(-4,0.3602466065976273)\" style=\"display: inline;\">Poland</text><rect class=\"node-click-target\" x=\"-5\" y=\"-5\" width=\"10\" height=\"6\" style=\"fill: none; visibility: hidden; pointer-events: all;\"/></g><g class=\"node\" transform=\"translate(0,356.2114180387795)\"><title>Russia</title><line x1=\"0\" x2=\"0\" y1=\"0\" y2=\"5.562269992143968\" style=\"display: inline; stroke: rgb(0, 0, 0);\"/><rect class=\"node-body\" width=\"1\" height=\"5.562269992143968\" style=\"fill: none;\"/><text class=\"node-value\" dy=\".35em\" text-anchor=\"middle\" transform=\"translate(0.5,2.781134996071984) rotate(-90)\" style=\"display: none;\"/><text class=\"node-title\" dy=\".35em\" text-anchor=\"end\" transform=\"translate(-4,2.781134996071984)\" style=\"display: inline;\">Russia</text><rect class=\"node-click-target\" x=\"-5\" y=\"-5\" width=\"10\" height=\"10.562269992143968\" style=\"fill: none; visibility: hidden; pointer-events: all;\"/></g><g class=\"node\" transform=\"translate(0,365.5663472487419)\"><title>South Africa</title><line x1=\"0\" x2=\"0\" y1=\"0\" y2=\"9.972755928868196\" style=\"display: inline; stroke: rgb(0, 0, 0);\"/><rect class=\"node-body\" width=\"1\" height=\"9.972755928868196\" style=\"fill: none;\"/><text class=\"node-value\" dy=\".35em\" text-anchor=\"middle\" transform=\"translate(0.5,4.986377964434098) rotate(-90)\" style=\"display: none;\"/><text class=\"node-title\" dy=\".35em\" text-anchor=\"end\" transform=\"translate(-4,4.986377964434098)\" style=\"display: inline;\">South Africa</text><rect class=\"node-click-target\" x=\"-5\" y=\"-5\" width=\"10\" height=\"14.972755928868196\" style=\"fill: none; visibility: hidden; pointer-events: all;\"/></g><g class=\"node\" transform=\"translate(0,379.33176239542854)\"><title>USA</title><line x1=\"0\" x2=\"0\" y1=\"0\" y2=\"2.0218740378297184\" style=\"display: inline; stroke: rgb(0, 0, 0);\"/><rect class=\"node-body\" width=\"1\" height=\"2.0218740378297184\" style=\"fill: none;\"/><text class=\"node-value\" dy=\".35em\" text-anchor=\"middle\" transform=\"translate(0.5,1.0109370189148592) rotate(-90)\" style=\"display: none;\"/><text class=\"node-title\" dy=\".35em\" text-anchor=\"end\" transform=\"translate(-4,1.0109370189148592)\" style=\"display: inline;\">USA</text><rect class=\"node-click-target\" x=\"-5\" y=\"-5\" width=\"10\" height=\"7.021874037829718\" style=\"fill: none; visibility: hidden; pointer-events: all;\"/></g><g class=\"node\" transform=\"translate(0,385.1462956510766)\"><title>Ukraine</title><line x1=\"0\" x2=\"0\" y1=\"0\" y2=\"1.0871853864353511\" style=\"display: inline; stroke: rgb(0, 0, 0);\"/><rect class=\"node-body\" width=\"1\" height=\"1.0871853864353511\" style=\"fill: none;\"/><text class=\"node-value\" dy=\".35em\" text-anchor=\"middle\" transform=\"translate(0.5,0.5435926932176756) rotate(-90)\" style=\"display: none;\"/><text class=\"node-title\" dy=\".35em\" text-anchor=\"end\" transform=\"translate(-4,0.5435926932176756)\" style=\"display: inline;\">Ukraine</text><rect class=\"node-click-target\" x=\"-5\" y=\"-5\" width=\"10\" height=\"6.087185386435351\" style=\"fill: none; visibility: hidden; pointer-events: all;\"/></g><g class=\"node\" transform=\"translate(0,390.0261402553304)\"><title>Zambia</title><line x1=\"0\" x2=\"0\" y1=\"0\" y2=\"1.279746760385592\" style=\"display: inline; stroke: rgb(0, 0, 0);\"/><rect class=\"node-body\" width=\"1\" height=\"1.279746760385592\" style=\"fill: none;\"/><text class=\"node-value\" dy=\".35em\" text-anchor=\"middle\" transform=\"translate(0.5,0.639873380192796) rotate(-90)\" style=\"display: none;\"/><text class=\"node-title\" dy=\".35em\" text-anchor=\"end\" transform=\"translate(-4,0.639873380192796)\" style=\"display: inline;\">Zambia</text><rect class=\"node-click-target\" x=\"-5\" y=\"-5\" width=\"10\" height=\"6.279746760385592\" style=\"fill: none; visibility: hidden; pointer-events: all;\"/></g><g class=\"node\" transform=\"translate(89.83333333333333,43.478431890635115)\"><title>Aluminium mining</title><line x1=\"0\" x2=\"0\" y1=\"-5\" y2=\"30.33810611456486\" style=\"display: inline; stroke: rgb(0, 0, 0);\"/><rect class=\"node-body\" width=\"1\" height=\"30.33810611456486\" style=\"fill: none;\"/><text class=\"node-value\" dy=\".35em\" text-anchor=\"middle\" transform=\"translate(0.5,15.16905305728243) rotate(-90)\" style=\"display: none;\"/><text class=\"node-title\" dy=\".35em\" text-anchor=\"start\" transform=\"translate(-4,-10)\" style=\"display: inline;\">Aluminium mining</text><rect class=\"node-click-target\" x=\"-5\" y=\"-5\" width=\"10\" height=\"35.33810611456486\" style=\"fill: none; visibility: hidden; pointer-events: all;\"/></g><g class=\"node\" transform=\"translate(89.83333333333333,96.57249331211042)\"><title>Graphite production</title><line x1=\"0\" x2=\"0\" y1=\"-5\" y2=\"30.360737314758467\" style=\"display: inline; stroke: rgb(0, 0, 0);\"/><rect class=\"node-body\" width=\"1\" height=\"30.360737314758467\" style=\"fill: none;\"/><text class=\"node-value\" dy=\".35em\" text-anchor=\"middle\" transform=\"translate(0.5,15.180368657379233) rotate(-90)\" style=\"display: none;\"/><text class=\"node-title\" dy=\".35em\" text-anchor=\"start\" transform=\"translate(-4,-10)\" style=\"display: inline;\">Graphite production</text><rect class=\"node-click-target\" x=\"-5\" y=\"-5\" width=\"10\" height=\"35.36073731475847\" style=\"fill: none; visibility: hidden; pointer-events: all;\"/></g><g class=\"node\" transform=\"translate(89.83333333333333,149.68918593377933)\"><title>Copper mining</title><line x1=\"0\" x2=\"0\" y1=\"-5\" y2=\"28.143238098024796\" style=\"display: inline; stroke: rgb(0, 0, 0);\"/><rect class=\"node-body\" width=\"1\" height=\"28.143238098024796\" style=\"fill: none;\"/><text class=\"node-value\" dy=\".35em\" text-anchor=\"middle\" transform=\"translate(0.5,14.071619049012398) rotate(-90)\" style=\"display: none;\"/><text class=\"node-title\" dy=\".35em\" text-anchor=\"start\" transform=\"translate(-4,-10)\" style=\"display: inline;\">Copper mining</text><rect class=\"node-click-target\" x=\"-5\" y=\"-5\" width=\"10\" height=\"33.143238098024796\" style=\"fill: none; visibility: hidden; pointer-events: all;\"/></g><g class=\"node\" transform=\"translate(89.83333333333333,200.58837933871456)\"><title>Cobalt mining</title><line x1=\"0\" x2=\"0\" y1=\"-5\" y2=\"30.187791445957885\" style=\"display: inline; stroke: rgb(0, 0, 0);\"/><rect class=\"node-body\" width=\"1\" height=\"30.187791445957885\" style=\"fill: none;\"/><text class=\"node-value\" dy=\".35em\" text-anchor=\"middle\" transform=\"translate(0.5,15.093895722978942) rotate(-90)\" style=\"display: none;\"/><text class=\"node-title\" dy=\".35em\" text-anchor=\"start\" transform=\"translate(-4,-10)\" style=\"display: inline;\">Cobalt mining</text><rect class=\"node-click-target\" x=\"-5\" y=\"-5\" width=\"10\" height=\"35.187791445957885\" style=\"fill: none; visibility: hidden; pointer-events: all;\"/></g><g class=\"node\" transform=\"translate(89.83333333333333,253.5321260915829)\"><title>Lithium mining</title><line x1=\"0\" x2=\"0\" y1=\"-5\" y2=\"32.29292678309403\" style=\"display: inline; stroke: rgb(0, 0, 0);\"/><rect class=\"node-body\" width=\"1\" height=\"32.29292678309403\" style=\"fill: none;\"/><text class=\"node-value\" dy=\".35em\" text-anchor=\"middle\" transform=\"translate(0.5,16.146463391547016) rotate(-90)\" style=\"display: none;\"/><text class=\"node-title\" dy=\".35em\" text-anchor=\"start\" transform=\"translate(-4,-10)\" style=\"display: inline;\">Lithium mining</text><rect class=\"node-click-target\" x=\"-5\" y=\"-5\" width=\"10\" height=\"37.29292678309403\" style=\"fill: none; visibility: hidden; pointer-events: all;\"/></g><g class=\"node\" transform=\"translate(89.83333333333333,308.5810081815874)\"><title>Manganese mining</title><line x1=\"0\" x2=\"0\" y1=\"-5\" y2=\"31.115370116265467\" style=\"display: inline; stroke: rgb(0, 0, 0);\"/><rect class=\"node-body\" width=\"1\" height=\"31.115370116265467\" style=\"fill: none;\"/><text class=\"node-value\" dy=\".35em\" text-anchor=\"middle\" transform=\"translate(0.5,15.557685058132734) rotate(-90)\" style=\"display: none;\"/><text class=\"node-title\" dy=\".35em\" text-anchor=\"start\" transform=\"translate(-4,-10)\" style=\"display: inline;\">Manganese mining</text><rect class=\"node-click-target\" x=\"-5\" y=\"-5\" width=\"10\" height=\"36.11537011626547\" style=\"fill: none; visibility: hidden; pointer-events: all;\"/></g><g class=\"node\" transform=\"translate(89.83333333333333,362.45233360476334)\"><title>Nickel mining</title><line x1=\"0\" x2=\"0\" y1=\"-5\" y2=\"28.85355341095277\" style=\"display: inline; stroke: rgb(0, 0, 0);\"/><rect class=\"node-body\" width=\"1\" height=\"28.85355341095277\" style=\"fill: none;\"/><text class=\"node-value\" dy=\".35em\" text-anchor=\"middle\" transform=\"translate(0.5,14.426776705476385) rotate(-90)\" style=\"display: none;\"/><text class=\"node-title\" dy=\".35em\" text-anchor=\"start\" transform=\"translate(-4,-10)\" style=\"display: inline;\">Nickel mining</text><rect class=\"node-click-target\" x=\"-5\" y=\"-5\" width=\"10\" height=\"33.85355341095277\" style=\"fill: none; visibility: hidden; pointer-events: all;\"/></g><g class=\"node\" transform=\"translate(179.66666666666666,43.478431890635115)\"><title/><line x1=\"0\" x2=\"0\" y1=\"-5\" y2=\"30.33810611456486\" style=\"display: none; stroke: rgb(0, 0, 0);\"/><rect class=\"node-body\" width=\"1\" height=\"30.33810611456486\" style=\"fill: none;\"/><text class=\"node-value\" dy=\".35em\" text-anchor=\"middle\" transform=\"translate(0.5,15.16905305728243) rotate(-90)\" style=\"display: none;\"/><text class=\"node-title\" dy=\".35em\" text-anchor=\"start\" transform=\"translate(-4,-10)\" style=\"display: none;\"/><rect class=\"node-click-target\" x=\"-5\" y=\"-5\" width=\"10\" height=\"35.33810611456486\" style=\"fill: none; visibility: hidden; pointer-events: all;\"/></g><g class=\"node\" transform=\"translate(179.66666666666666,96.57249331211042)\"><title/><line x1=\"0\" x2=\"0\" y1=\"-5\" y2=\"30.360737314758467\" style=\"display: none; stroke: rgb(0, 0, 0);\"/><rect class=\"node-body\" width=\"1\" height=\"30.360737314758467\" style=\"fill: none;\"/><text class=\"node-value\" dy=\".35em\" text-anchor=\"middle\" transform=\"translate(0.5,15.180368657379233) rotate(-90)\" style=\"display: none;\"/><text class=\"node-title\" dy=\".35em\" text-anchor=\"start\" transform=\"translate(-4,-10)\" style=\"display: none;\"/><rect class=\"node-click-target\" x=\"-5\" y=\"-5\" width=\"10\" height=\"35.36073731475847\" style=\"fill: none; visibility: hidden; pointer-events: all;\"/></g><g class=\"node\" transform=\"translate(179.66666666666666,149.68918593377933)\"><title>Copper_smelting</title><line x1=\"0\" x2=\"0\" y1=\"-5\" y2=\"28.143238098024796\" style=\"display: inline; stroke: rgb(0, 0, 0);\"/><rect class=\"node-body\" width=\"1\" height=\"28.143238098024796\" style=\"fill: none;\"/><text class=\"node-value\" dy=\".35em\" text-anchor=\"middle\" transform=\"translate(0.5,14.071619049012398) rotate(-90)\" style=\"display: none;\"/><text class=\"node-title\" dy=\".35em\" text-anchor=\"start\" transform=\"translate(-4,-10)\" style=\"display: inline;\">Copper_smelting</text><rect class=\"node-click-target\" x=\"-5\" y=\"-5\" width=\"10\" height=\"33.143238098024796\" style=\"fill: none; visibility: hidden; pointer-events: all;\"/></g><g class=\"node\" transform=\"translate(179.66666666666666,200.58837933871456)\"><title/><line x1=\"0\" x2=\"0\" y1=\"-5\" y2=\"30.187791445957885\" style=\"display: none; stroke: rgb(0, 0, 0);\"/><rect class=\"node-body\" width=\"1\" height=\"30.187791445957885\" style=\"fill: none;\"/><text class=\"node-value\" dy=\".35em\" text-anchor=\"middle\" transform=\"translate(0.5,15.093895722978942) rotate(-90)\" style=\"display: none;\"/><text class=\"node-title\" dy=\".35em\" text-anchor=\"start\" transform=\"translate(-4,-10)\" style=\"display: none;\"/><rect class=\"node-click-target\" x=\"-5\" y=\"-5\" width=\"10\" height=\"35.187791445957885\" style=\"fill: none; visibility: hidden; pointer-events: all;\"/></g><g class=\"node\" transform=\"translate(179.66666666666666,253.5321260915829)\"><title/><line x1=\"0\" x2=\"0\" y1=\"-5\" y2=\"32.29292678309403\" style=\"display: none; stroke: rgb(0, 0, 0);\"/><rect class=\"node-body\" width=\"1\" height=\"32.29292678309403\" style=\"fill: none;\"/><text class=\"node-value\" dy=\".35em\" text-anchor=\"middle\" transform=\"translate(0.5,16.146463391547016) rotate(-90)\" style=\"display: none;\"/><text class=\"node-title\" dy=\".35em\" text-anchor=\"start\" transform=\"translate(-4,-10)\" style=\"display: none;\"/><rect class=\"node-click-target\" x=\"-5\" y=\"-5\" width=\"10\" height=\"37.29292678309403\" style=\"fill: none; visibility: hidden; pointer-events: all;\"/></g><g class=\"node\" transform=\"translate(179.66666666666666,308.5810081815874)\"><title/><line x1=\"0\" x2=\"0\" y1=\"-5\" y2=\"31.115370116265467\" style=\"display: none; stroke: rgb(0, 0, 0);\"/><rect class=\"node-body\" width=\"1\" height=\"31.115370116265467\" style=\"fill: none;\"/><text class=\"node-value\" dy=\".35em\" text-anchor=\"middle\" transform=\"translate(0.5,15.557685058132734) rotate(-90)\" style=\"display: none;\"/><text class=\"node-title\" dy=\".35em\" text-anchor=\"start\" transform=\"translate(-4,-10)\" style=\"display: none;\"/><rect class=\"node-click-target\" x=\"-5\" y=\"-5\" width=\"10\" height=\"36.11537011626547\" style=\"fill: none; visibility: hidden; pointer-events: all;\"/></g><g class=\"node\" transform=\"translate(179.66666666666666,362.45233360476334)\"><title/><line x1=\"0\" x2=\"0\" y1=\"-5\" y2=\"28.85355341095277\" style=\"display: none; stroke: rgb(0, 0, 0);\"/><rect class=\"node-body\" width=\"1\" height=\"28.85355341095277\" style=\"fill: none;\"/><text class=\"node-value\" dy=\".35em\" text-anchor=\"middle\" transform=\"translate(0.5,14.426776705476385) rotate(-90)\" style=\"display: none;\"/><text class=\"node-title\" dy=\".35em\" text-anchor=\"start\" transform=\"translate(-4,-10)\" style=\"display: none;\"/><rect class=\"node-click-target\" x=\"-5\" y=\"-5\" width=\"10\" height=\"33.85355341095277\" style=\"fill: none; visibility: hidden; pointer-events: all;\"/></g><g class=\"node\" transform=\"translate(269.5,43.478431890635115)\"><title>Aluminium refining</title><line x1=\"0\" x2=\"0\" y1=\"-5\" y2=\"30.33810611456486\" style=\"display: inline; stroke: rgb(0, 0, 0);\"/><rect class=\"node-body\" width=\"1\" height=\"30.33810611456486\" style=\"fill: none;\"/><text class=\"node-value\" dy=\".35em\" text-anchor=\"middle\" transform=\"translate(0.5,15.16905305728243) rotate(-90)\" style=\"display: none;\"/><text class=\"node-title\" dy=\".35em\" text-anchor=\"start\" transform=\"translate(-4,-10)\" style=\"display: inline;\">Aluminium refining</text><rect class=\"node-click-target\" x=\"-5\" y=\"-5\" width=\"10\" height=\"35.33810611456486\" style=\"fill: none; visibility: hidden; pointer-events: all;\"/></g><g class=\"node\" transform=\"translate(269.5,96.60188796379319)\"><title/><line x1=\"0\" x2=\"0\" y1=\"-5\" y2=\"30.360737314758467\" style=\"display: none; stroke: rgb(0, 0, 0);\"/><rect class=\"node-body\" width=\"1\" height=\"30.360737314758467\" style=\"fill: none;\"/><text class=\"node-value\" dy=\".35em\" text-anchor=\"middle\" transform=\"translate(0.5,15.180368657379233) rotate(-90)\" style=\"display: none;\"/><text class=\"node-title\" dy=\".35em\" text-anchor=\"start\" transform=\"translate(-4,-10)\" style=\"display: none;\"/><rect class=\"node-click-target\" x=\"-5\" y=\"-5\" width=\"10\" height=\"35.36073731475847\" style=\"fill: none; visibility: hidden; pointer-events: all;\"/></g><g class=\"node\" transform=\"translate(269.5,149.74797523714486)\"><title>Copper_refining</title><line x1=\"0\" x2=\"0\" y1=\"-5\" y2=\"26.275170147905982\" style=\"display: inline; stroke: rgb(0, 0, 0);\"/><rect class=\"node-body\" width=\"1\" height=\"26.275170147905982\" style=\"fill: none;\"/><text class=\"node-value\" dy=\".35em\" text-anchor=\"middle\" transform=\"translate(0.5,13.137585073952991) rotate(-90)\" style=\"display: none;\"/><text class=\"node-title\" dy=\".35em\" text-anchor=\"start\" transform=\"translate(-4,-10)\" style=\"display: inline;\">Copper_refining</text><rect class=\"node-click-target\" x=\"-5\" y=\"-5\" width=\"10\" height=\"31.275170147905982\" style=\"fill: none; visibility: hidden; pointer-events: all;\"/></g><g class=\"node\" transform=\"translate(269.5,198.80849534364404)\"><title>Cobalt refining</title><line x1=\"0\" x2=\"0\" y1=\"-5\" y2=\"31.24181835444935\" style=\"display: inline; stroke: rgb(0, 0, 0);\"/><rect class=\"node-body\" width=\"1\" height=\"31.24181835444935\" style=\"fill: none;\"/><text class=\"node-value\" dy=\".35em\" text-anchor=\"middle\" transform=\"translate(0.5,15.620909177224675) rotate(-90)\" style=\"display: none;\"/><text class=\"node-title\" dy=\".35em\" text-anchor=\"start\" transform=\"translate(-4,-10)\" style=\"display: inline;\">Cobalt refining</text><rect class=\"node-click-target\" x=\"-5\" y=\"-5\" width=\"10\" height=\"36.24181835444935\" style=\"fill: none; visibility: hidden; pointer-events: all;\"/></g><g class=\"node\" transform=\"translate(269.5,252.8356636566866)\"><title>Lithium refining</title><line x1=\"0\" x2=\"0\" y1=\"-5\" y2=\"32.75951005978666\" style=\"display: inline; stroke: rgb(0, 0, 0);\"/><rect class=\"node-body\" width=\"1\" height=\"32.75951005978666\" style=\"fill: none;\"/><text class=\"node-value\" dy=\".35em\" text-anchor=\"middle\" transform=\"translate(0.5,16.37975502989333) rotate(-90)\" style=\"display: none;\"/><text class=\"node-title\" dy=\".35em\" text-anchor=\"start\" transform=\"translate(-4,-10)\" style=\"display: inline;\">Lithium refining</text><rect class=\"node-click-target\" x=\"-5\" y=\"-5\" width=\"10\" height=\"37.75951005978666\" style=\"fill: none; visibility: hidden; pointer-events: all;\"/></g><g class=\"node\" transform=\"translate(269.5,308.38052367506646)\"><title>Manganese refining</title><line x1=\"0\" x2=\"0\" y1=\"-5\" y2=\"31.115370116265467\" style=\"display: inline; stroke: rgb(0, 0, 0);\"/><rect class=\"node-body\" width=\"1\" height=\"31.115370116265467\" style=\"fill: none;\"/><text class=\"node-value\" dy=\".35em\" text-anchor=\"middle\" transform=\"translate(0.5,15.557685058132734) rotate(-90)\" style=\"display: none;\"/><text class=\"node-title\" dy=\".35em\" text-anchor=\"start\" transform=\"translate(-4,-10)\" style=\"display: inline;\">Manganese refining</text><rect class=\"node-click-target\" x=\"-5\" y=\"-5\" width=\"10\" height=\"36.11537011626547\" style=\"fill: none; visibility: hidden; pointer-events: all;\"/></g><g class=\"node\" transform=\"translate(269.5,362.2812437499251)\"><title>Nickel refining</title><line x1=\"0\" x2=\"0\" y1=\"-5\" y2=\"29.024643265790928\" style=\"display: inline; stroke: rgb(0, 0, 0);\"/><rect class=\"node-body\" width=\"1\" height=\"29.024643265790928\" style=\"fill: none;\"/><text class=\"node-value\" dy=\".35em\" text-anchor=\"middle\" transform=\"translate(0.5,14.512321632895464) rotate(-90)\" style=\"display: none;\"/><text class=\"node-title\" dy=\".35em\" text-anchor=\"start\" transform=\"translate(-4,-10)\" style=\"display: inline;\">Nickel refining</text><rect class=\"node-click-target\" x=\"-5\" y=\"-5\" width=\"10\" height=\"34.02464326579093\" style=\"fill: none; visibility: hidden; pointer-events: all;\"/></g><g class=\"node\" transform=\"translate(359.3333333333333,43.478431890635115)\"><title>Aluminium primary</title><line x1=\"0\" x2=\"0\" y1=\"-5\" y2=\"27.913422168408367\" style=\"display: inline; stroke: rgb(0, 0, 0);\"/><rect class=\"node-body\" width=\"1\" height=\"27.913422168408367\" style=\"fill: none;\"/><text class=\"node-value\" dy=\".35em\" text-anchor=\"middle\" transform=\"translate(0.5,13.956711084204183) rotate(-90)\" style=\"display: none;\"/><text class=\"node-title\" dy=\".35em\" text-anchor=\"start\" transform=\"translate(-4,-10)\" style=\"display: inline;\">Aluminium primary</text><rect class=\"node-click-target\" x=\"-5\" y=\"-5\" width=\"10\" height=\"32.91342216840837\" style=\"fill: none; visibility: hidden; pointer-events: all;\"/></g><g class=\"node\" transform=\"translate(359.3333333333333,94.43400347403232)\"><title/><line x1=\"0\" x2=\"0\" y1=\"-5\" y2=\"30.360737314758467\" style=\"display: none; stroke: rgb(0, 0, 0);\"/><rect class=\"node-body\" width=\"1\" height=\"30.360737314758467\" style=\"fill: none;\"/><text class=\"node-value\" dy=\".35em\" text-anchor=\"middle\" transform=\"translate(0.5,15.180368657379233) rotate(-90)\" style=\"display: none;\"/><text class=\"node-title\" dy=\".35em\" text-anchor=\"start\" transform=\"translate(-4,-10)\" style=\"display: none;\"/><rect class=\"node-click-target\" x=\"-5\" y=\"-5\" width=\"10\" height=\"35.36073731475847\" style=\"fill: none; visibility: hidden; pointer-events: all;\"/></g><g class=\"node\" transform=\"translate(359.3333333333333,147.8368902037796)\"><title/><line x1=\"0\" x2=\"0\" y1=\"-5\" y2=\"26.275170147905953\" style=\"display: none; stroke: rgb(0, 0, 0);\"/><rect class=\"node-body\" width=\"1\" height=\"26.275170147905953\" style=\"fill: none;\"/><text class=\"node-value\" dy=\".35em\" text-anchor=\"middle\" transform=\"translate(0.5,13.137585073952977) rotate(-90)\" style=\"display: none;\"/><text class=\"node-title\" dy=\".35em\" text-anchor=\"start\" transform=\"translate(-4,-10)\" style=\"display: none;\"/><rect class=\"node-click-target\" x=\"-5\" y=\"-5\" width=\"10\" height=\"31.275170147905953\" style=\"fill: none; visibility: hidden; pointer-events: all;\"/></g><g class=\"node\" transform=\"translate(359.3333333333333,197.1542097666744)\"><title>Cobalt</title><line x1=\"0\" x2=\"0\" y1=\"-5\" y2=\"31.24181835444935\" style=\"display: inline; stroke: rgb(0, 0, 0);\"/><rect class=\"node-body\" width=\"1\" height=\"31.24181835444935\" style=\"fill: none;\"/><text class=\"node-value\" dy=\".35em\" text-anchor=\"middle\" transform=\"translate(0.5,15.620909177224675) rotate(-90)\" style=\"display: none;\"/><text class=\"node-title\" dy=\".35em\" text-anchor=\"start\" transform=\"translate(-4,-10)\" style=\"display: inline;\">Cobalt</text><rect class=\"node-click-target\" x=\"-5\" y=\"-5\" width=\"10\" height=\"36.24181835444935\" style=\"fill: none; visibility: hidden; pointer-events: all;\"/></g><g class=\"node\" transform=\"translate(359.3333333333333,251.4381775361126)\"><title>Lithium</title><line x1=\"0\" x2=\"0\" y1=\"-5\" y2=\"32.75951005978666\" style=\"display: inline; stroke: rgb(0, 0, 0);\"/><rect class=\"node-body\" width=\"1\" height=\"32.75951005978666\" style=\"fill: none;\"/><text class=\"node-value\" dy=\".35em\" text-anchor=\"middle\" transform=\"translate(0.5,16.37975502989333) rotate(-90)\" style=\"display: none;\"/><text class=\"node-title\" dy=\".35em\" text-anchor=\"start\" transform=\"translate(-4,-10)\" style=\"display: inline;\">Lithium</text><rect class=\"node-click-target\" x=\"-5\" y=\"-5\" width=\"10\" height=\"37.75951005978666\" style=\"fill: none; visibility: hidden; pointer-events: all;\"/></g><g class=\"node\" transform=\"translate(359.3333333333333,307.2398370108881)\"><title>Manganese</title><line x1=\"0\" x2=\"0\" y1=\"-5\" y2=\"27.5410165949948\" style=\"display: inline; stroke: rgb(0, 0, 0);\"/><rect class=\"node-body\" width=\"1\" height=\"27.5410165949948\" style=\"fill: none;\"/><text class=\"node-value\" dy=\".35em\" text-anchor=\"middle\" transform=\"translate(0.5,13.7705082974974) rotate(-90)\" style=\"display: none;\"/><text class=\"node-title\" dy=\".35em\" text-anchor=\"start\" transform=\"translate(-4,-10)\" style=\"display: inline;\">Manganese</text><rect class=\"node-click-target\" x=\"-5\" y=\"-5\" width=\"10\" height=\"32.5410165949948\" style=\"fill: none; visibility: hidden; pointer-events: all;\"/></g><g class=\"node\" transform=\"translate(359.3333333333333,357.82300302087174)\"><title>Nickel</title><line x1=\"0\" x2=\"0\" y1=\"-5\" y2=\"33.482883994844315\" style=\"display: inline; stroke: rgb(0, 0, 0);\"/><rect class=\"node-body\" width=\"1\" height=\"33.482883994844315\" style=\"fill: none;\"/><text class=\"node-value\" dy=\".35em\" text-anchor=\"middle\" transform=\"translate(0.5,16.741441997422157) rotate(-90)\" style=\"display: none;\"/><text class=\"node-title\" dy=\".35em\" text-anchor=\"start\" transform=\"translate(-4,-10)\" style=\"display: inline;\">Nickel</text><rect class=\"node-click-target\" x=\"-5\" y=\"-5\" width=\"10\" height=\"38.482883994844315\" style=\"fill: none; visibility: hidden; pointer-events: all;\"/></g><g class=\"node\" transform=\"translate(359.3333333333333,447.805887015716)\"><title>Sodium Hydroxide</title><line x1=\"0\" x2=\"0\" y1=\"0\" y2=\"29.514135685238955\" style=\"display: inline; stroke: rgb(0, 0, 0);\"/><rect class=\"node-body\" width=\"1\" height=\"29.514135685238955\" style=\"fill: none;\"/><text class=\"node-value\" dy=\".35em\" text-anchor=\"middle\" transform=\"translate(0.5,14.757067842619477) rotate(-90)\" style=\"display: none;\"/><text class=\"node-title\" dy=\".35em\" text-anchor=\"end\" transform=\"translate(-4,14.757067842619477)\" style=\"display: inline;\">Sodium Hydroxide</text><rect class=\"node-click-target\" x=\"-5\" y=\"-5\" width=\"10\" height=\"34.514135685238955\" style=\"fill: none; visibility: hidden; pointer-events: all;\"/></g><g class=\"node\" transform=\"translate(359.3333333333333,496.8523748650022)\"><title>Ammonium Hydroxide</title><line x1=\"0\" x2=\"0\" y1=\"0\" y2=\"4.0986130149715905\" style=\"display: inline; stroke: rgb(0, 0, 0);\"/><rect class=\"node-body\" width=\"1\" height=\"4.0986130149715905\" style=\"fill: none;\"/><text class=\"node-value\" dy=\".35em\" text-anchor=\"middle\" transform=\"translate(0.5,2.0493065074857952) rotate(-90)\" style=\"display: none;\"/><text class=\"node-title\" dy=\".35em\" text-anchor=\"end\" transform=\"translate(-4,2.0493065074857952)\" style=\"display: inline;\">Ammonium Hydroxide</text><rect class=\"node-click-target\" x=\"-5\" y=\"-5\" width=\"10\" height=\"9.09861301497159\" style=\"fill: none; visibility: hidden; pointer-events: all;\"/></g><g class=\"node\" transform=\"translate(359.3333333333333,520.4833400440211)\"><title>Precursor Co-precipitation</title><line x1=\"0\" x2=\"0\" y1=\"0\" y2=\"31.495091846613832\" style=\"display: inline; stroke: rgb(0, 0, 0);\"/><rect class=\"node-body\" width=\"1\" height=\"31.495091846613832\" style=\"fill: none;\"/><text class=\"node-value\" dy=\".35em\" text-anchor=\"middle\" transform=\"translate(0.5,15.747545923306916) rotate(-90)\" style=\"display: none;\"/><text class=\"node-title\" dy=\".35em\" text-anchor=\"end\" transform=\"translate(-4,15.747545923306916)\" style=\"display: inline;\">Precursor Co-precipitation</text><rect class=\"node-click-target\" x=\"-5\" y=\"-5\" width=\"10\" height=\"36.49509184661383\" style=\"fill: none; visibility: hidden; pointer-events: all;\"/></g><g class=\"node\" transform=\"translate(449.16666666666663,43.478431890635115)\"><title>Aluminium</title><line x1=\"0\" x2=\"0\" y1=\"-5\" y2=\"27.450178814372556\" style=\"display: inline; stroke: rgb(0, 0, 0);\"/><rect class=\"node-body\" width=\"1\" height=\"27.450178814372556\" style=\"fill: none;\"/><text class=\"node-value\" dy=\".35em\" text-anchor=\"middle\" transform=\"translate(0.5,13.725089407186278) rotate(-90)\" style=\"display: none;\"/><text class=\"node-title\" dy=\".35em\" text-anchor=\"start\" transform=\"translate(-4,-10)\" style=\"display: inline;\">Aluminium</text><rect class=\"node-click-target\" x=\"-5\" y=\"-5\" width=\"10\" height=\"32.450178814372556\" style=\"fill: none; visibility: hidden; pointer-events: all;\"/></g><g class=\"node\" transform=\"translate(449.16666666666663,114.40704259564276)\"><title>Graphite/Carbon</title><line x1=\"0\" x2=\"0\" y1=\"-5\" y2=\"30.360737314758467\" style=\"display: inline; stroke: rgb(0, 0, 0);\"/><rect class=\"node-body\" width=\"1\" height=\"30.360737314758467\" style=\"fill: none;\"/><text class=\"node-value\" dy=\".35em\" text-anchor=\"middle\" transform=\"translate(0.5,15.180368657379233) rotate(-90)\" style=\"display: none;\"/><text class=\"node-title\" dy=\".35em\" text-anchor=\"start\" transform=\"translate(-4,-10)\" style=\"display: inline;\">Graphite/Carbon</text><rect class=\"node-click-target\" x=\"-5\" y=\"-5\" width=\"10\" height=\"35.36073731475847\" style=\"fill: none; visibility: hidden; pointer-events: all;\"/></g><g class=\"node\" transform=\"translate(449.16666666666663,188.24621180103634)\"><title>Copper</title><line x1=\"0\" x2=\"0\" y1=\"-5\" y2=\"26.275170147905953\" style=\"display: inline; stroke: rgb(0, 0, 0);\"/><rect class=\"node-body\" width=\"1\" height=\"26.275170147905953\" style=\"fill: none;\"/><text class=\"node-value\" dy=\".35em\" text-anchor=\"middle\" transform=\"translate(0.5,13.137585073952977) rotate(-90)\" style=\"display: none;\"/><text class=\"node-title\" dy=\".35em\" text-anchor=\"start\" transform=\"translate(-4,-10)\" style=\"display: inline;\">Copper</text><rect class=\"node-click-target\" x=\"-5\" y=\"-5\" width=\"10\" height=\"31.275170147905953\" style=\"fill: none; visibility: hidden; pointer-events: all;\"/></g><g class=\"node\" transform=\"translate(449.16666666666663,257.9998138395774)\"><title>Active material</title><line x1=\"0\" x2=\"0\" y1=\"-5\" y2=\"133.30607317613863\" style=\"display: inline; stroke: rgb(0, 0, 0);\"/><rect class=\"node-body\" width=\"1\" height=\"133.30607317613863\" style=\"fill: none;\"/><text class=\"node-value\" dy=\".35em\" text-anchor=\"middle\" transform=\"translate(0.5,66.65303658806931) rotate(-90)\" style=\"display: none;\"/><text class=\"node-title\" dy=\".35em\" text-anchor=\"start\" transform=\"translate(-4,-10)\" style=\"display: inline;\">Active material</text><rect class=\"node-click-target\" x=\"-5\" y=\"-5\" width=\"10\" height=\"138.30607317613863\" style=\"fill: none; visibility: hidden; pointer-events: all;\"/></g><g class=\"node\" transform=\"translate(449.16666666666663,447.805887015716)\"><title>Binder</title><line x1=\"0\" x2=\"0\" y1=\"0\" y2=\"1\" style=\"display: inline; stroke: rgb(0, 0, 0);\"/><rect class=\"node-body\" width=\"1\" height=\"1\" style=\"fill: none;\"/><text class=\"node-value\" dy=\".35em\" text-anchor=\"middle\" transform=\"translate(0.5,0.19692497595036684) rotate(0)\" style=\"display: none;\"/><text class=\"node-title\" dy=\".35em\" text-anchor=\"end\" transform=\"translate(-4,0.19692497595036684)\" style=\"display: inline;\">Binder</text><rect class=\"node-click-target\" x=\"-5\" y=\"-5\" width=\"10\" height=\"6\" style=\"fill: none; visibility: hidden; pointer-events: all;\"/></g><g class=\"node\" transform=\"translate(449.16666666666663,472.8403233926961)\"><title>Electrolyte</title><line x1=\"0\" x2=\"0\" y1=\"0\" y2=\"2.984418559265805\" style=\"display: inline; stroke: rgb(0, 0, 0);\"/><rect class=\"node-body\" width=\"1\" height=\"2.984418559265805\" style=\"fill: none;\"/><text class=\"node-value\" dy=\".35em\" text-anchor=\"middle\" transform=\"translate(0.5,1.4922092796329025) rotate(-90)\" style=\"display: none;\"/><text class=\"node-title\" dy=\".35em\" text-anchor=\"end\" transform=\"translate(-4,1.4922092796329025)\" style=\"display: inline;\">Electrolyte</text><rect class=\"node-click-target\" x=\"-5\" y=\"-5\" width=\"10\" height=\"7.984418559265805\" style=\"fill: none; visibility: hidden; pointer-events: all;\"/></g><g class=\"node\" transform=\"translate(449.16666666666663,500.4653283770413)\"><title>Plastic</title><line x1=\"0\" x2=\"0\" y1=\"0\" y2=\"1\" style=\"display: inline; stroke: rgb(0, 0, 0);\"/><rect class=\"node-body\" width=\"1\" height=\"1\" style=\"fill: none;\"/><text class=\"node-value\" dy=\".35em\" text-anchor=\"middle\" transform=\"translate(0.5,0.16625097669782463) rotate(0)\" style=\"display: none;\"/><text class=\"node-title\" dy=\".35em\" text-anchor=\"end\" transform=\"translate(-4,0.16625097669782463)\" style=\"display: inline;\">Plastic</text><rect class=\"node-click-target\" x=\"-5\" y=\"-5\" width=\"10\" height=\"6\" style=\"fill: none; visibility: hidden; pointer-events: all;\"/></g><g class=\"node\" transform=\"translate(449.16666666666663,525.4384167555163)\"><title>Steel</title><line x1=\"0\" x2=\"0\" y1=\"0\" y2=\"1\" style=\"display: inline; stroke: rgb(0, 0, 0);\"/><rect class=\"node-body\" width=\"1\" height=\"1\" style=\"fill: none;\"/><text class=\"node-value\" dy=\".35em\" text-anchor=\"middle\" transform=\"translate(0.5,0.0993561378449499) rotate(0)\" style=\"display: none;\"/><text class=\"node-title\" dy=\".35em\" text-anchor=\"end\" transform=\"translate(-4,0.0993561378449499)\" style=\"display: inline;\">Steel</text><rect class=\"node-click-target\" x=\"-5\" y=\"-5\" width=\"10\" height=\"6\" style=\"fill: none; visibility: hidden; pointer-events: all;\"/></g><g class=\"node\" transform=\"translate(449.16666666666663,550.2777154562856)\"><title>Other</title><line x1=\"0\" x2=\"0\" y1=\"0\" y2=\"1.7007164343493741\" style=\"display: inline; stroke: rgb(0, 0, 0);\"/><rect class=\"node-body\" width=\"1\" height=\"1.7007164343493741\" style=\"fill: none;\"/><text class=\"node-value\" dy=\".35em\" text-anchor=\"middle\" transform=\"translate(0.5,0.8503582171746871) rotate(-90)\" style=\"display: none;\"/><text class=\"node-title\" dy=\".35em\" text-anchor=\"end\" transform=\"translate(-4,0.8503582171746871)\" style=\"display: inline;\">Other</text><rect class=\"node-click-target\" x=\"-5\" y=\"-5\" width=\"10\" height=\"6.700716434349374\" style=\"fill: none; visibility: hidden; pointer-events: all;\"/></g><g class=\"node\" transform=\"translate(539,200.8025353599668)\"><title>NMC622</title><line x1=\"0\" x2=\"0\" y1=\"0\" y2=\"33.17924818641748\" style=\"display: inline; stroke: rgb(0, 0, 0);\"/><rect class=\"node-body\" width=\"1\" height=\"33.17924818641748\" style=\"fill: none;\"/><text class=\"node-value\" dy=\".35em\" text-anchor=\"middle\" transform=\"translate(0.5,16.58962409320874) rotate(-90)\" style=\"display: none;\"/><text class=\"node-title\" dy=\".35em\" text-anchor=\"start\" transform=\"translate(5,16.58962409320874)\" style=\"display: inline;\">NMC622</text><rect class=\"node-click-target\" x=\"-5\" y=\"-5\" width=\"10\" height=\"38.17924818641748\" style=\"fill: none; visibility: hidden; pointer-events: all;\"/></g></g><g class=\"slice-titles\"/></g></svg>",
            "_view_module_version": "^0.4.1",
            "order": [
              [
                [
                  "sources^Argentina",
                  "sources^Australia",
                  "sources^Brazil",
                  "sources^Brazil  ",
                  "sources^Canada",
                  "sources^Chile",
                  "sources^China",
                  "sources^China  ",
                  "sources^Congo",
                  "sources^Congo, Democratic Republic",
                  "sources^Cuba",
                  "sources^Gabon",
                  "sources^Ghana",
                  "sources^Guatemala",
                  "sources^Guinea",
                  "sources^India",
                  "sources^India ",
                  "sources^India  ",
                  "sources^Indonesia",
                  "sources^Ivory Coast",
                  "sources^Jamaica",
                  "sources^Kazakhstan",
                  "sources^Korea, Dem. P.R. of",
                  "sources^Madagascar",
                  "sources^Malaysia",
                  "sources^Mexico",
                  "sources^Mozambique",
                  "sources^New Caledonia",
                  "sources^Papua New Guinea",
                  "sources^Peru",
                  "sources^Philippines",
                  "sources^Poland",
                  "sources^Russia",
                  "sources^South Africa",
                  "sources^USA",
                  "sources^Ukraine",
                  "sources^Zambia"
                ],
                []
              ],
              [
                [
                  "aluminium_mining^*",
                  "graphite_pro^*",
                  "copper_mining^*",
                  "cobalt_mining^*",
                  "lithium_mining^*",
                  "manganese_mining^*",
                  "nickel_mining^*"
                ],
                []
              ],
              [
                [
                  "__aluminium_mining_aluminium_refining_2^*",
                  "__graphite_pro_graphite_2^*",
                  "copper_smelting^*",
                  "__cobalt_mining_cobalt_refining_2^*",
                  "__lithium_mining_lithium_refining_2^*",
                  "__manganese_mining_manganese_refining_2^*",
                  "__nickel_mining_nickel_refining_2^*"
                ],
                []
              ],
              [
                [
                  "aluminium_refining^*",
                  "__graphite_pro_graphite_3^*",
                  "copper_refining^*",
                  "cobalt_refining^*",
                  "lithium_refining^*",
                  "manganese_refining^*",
                  "nickel_refining^*"
                ],
                []
              ],
              [
                [
                  "aluminium_primary^*",
                  "__graphite_pro_graphite_4^*",
                  "__copper_refining_copper_4^*",
                  "cobalt^*",
                  "lithium^*",
                  "manganese^*",
                  "nickel^*"
                ],
                [
                  "sodium^*",
                  "ammonium^*",
                  "precipitation^*"
                ]
              ],
              [
                [
                  "aluminium^*",
                  "graphite^*",
                  "copper^*",
                  "AM^*"
                ],
                [
                  "binder^*",
                  "electrolyte^*",
                  "plastic^*",
                  "steel^*",
                  "other^*"
                ]
              ],
              [
                [
                  "NMC622^NMC622"
                ],
                []
              ]
            ]
          }
        },
        "307e4eb225ef4263996ae4f17178e3cf": {
          "model_module": "@jupyter-widgets/base",
          "model_name": "LayoutModel",
          "model_module_version": "1.2.0",
          "state": {
            "_view_name": "LayoutView",
            "grid_template_rows": null,
            "right": null,
            "justify_content": null,
            "_view_module": "@jupyter-widgets/base",
            "overflow": null,
            "_model_module_version": "1.2.0",
            "_view_count": null,
            "flex_flow": null,
            "width": "800",
            "min_width": null,
            "border": null,
            "align_items": null,
            "bottom": null,
            "_model_module": "@jupyter-widgets/base",
            "top": null,
            "grid_column": null,
            "overflow_y": null,
            "overflow_x": null,
            "grid_auto_flow": null,
            "grid_area": null,
            "grid_template_columns": null,
            "flex": null,
            "_model_name": "LayoutModel",
            "justify_items": null,
            "grid_row": null,
            "max_height": null,
            "align_content": null,
            "visibility": null,
            "align_self": null,
            "height": "600",
            "min_height": null,
            "padding": null,
            "grid_auto_rows": null,
            "grid_gap": null,
            "max_width": null,
            "order": null,
            "_view_module_version": "1.2.0",
            "grid_template_areas": null,
            "object_position": null,
            "object_fit": null,
            "grid_auto_columns": null,
            "margin": null,
            "display": null,
            "left": null
          }
        }
      }
    }
  },
  "nbformat": 4,
  "nbformat_minor": 5
}