{
 "cells": [
  {
   "cell_type": "code",
   "execution_count": 1,
   "outputs": [],
   "source": [
    "# Import packages\n",
    "import matplotlib.pyplot as plt\n",
    "import numpy as np\n",
    "import pandas as pd\n",
    "import os\n",
    "import xml.etree.ElementTree as ET\n",
    "from tqdm import tqdm\n",
    "import seaborn as sns\n",
    "import itertools\n",
    "import ipywidgets as ipw\n",
    "\n",
    "# Variable definition\n",
    "lcaDataPath = \"C:/Users\\lukec\\OneDrive - University of Cambridge\\Projects\\PhD\\Data\\EcoInvent_B0729/xml\"\n",
    "impactMethods = \"C:/Users\\lukec\\OneDrive - University of Cambridge\\Projects\\PhD\\Data\\Impact-Methods\\IPCC2013.xml\""
   ],
   "metadata": {
    "collapsed": false,
    "pycharm": {
     "name": "#%%\n"
    }
   }
  },
  {
   "cell_type": "code",
   "execution_count": 2,
   "outputs": [],
   "source": [
    "# Ensure element is a list of lists even if single inner list\n",
    "def to_listlist(inlist:list): return [inlist] if type(inlist[0]) is str else inlist\n",
    "\n",
    "# Read in impact factors\n",
    "def read_xml_attributes(filepath:str,branches:list,attributes:list,df=False):\n",
    "    \"\"\"This function creates a dataframe of attributes within an xml file.\\n\n",
    "    Inputs:\\n\n",
    "    filepath - path to xml file\\n\n",
    "    branches - list of successive branch choices\\n\n",
    "    attributes - attributes to be read from chosen branch\\n\n",
    "    Outputs:\\n\n",
    "    df - pandas dataframe of attributes for each end branch\\n\n",
    "    Requirements: pandas as pd, xml.etree.ElementTree as ET\"\"\"\n",
    "    if df is False: df = pd.DataFrame([],columns=attributes)\n",
    "    tree_loc = ET.parse(filepath).getroot()\n",
    "    branches, attributes = to_listlist(branches), to_listlist(attributes)\n",
    "    attr_values = dict()\n",
    "    for pathnum, path in enumerate(branches):\n",
    "        for branch in path:\n",
    "            for num,val in enumerate([branch in i.tag for i in tree_loc]):\n",
    "                if val:\n",
    "                    if branch is path[-1]:\n",
    "                        attr_values.update(dict(zip(attributes[pathnum],[tree_loc[num].attrib[i] for i in attributes[pathnum]])))\n",
    "                        if path is branches[-1]: df = df.append(attr_values,ignore_index=True)\n",
    "                    else:\n",
    "                        tree_loc=tree_loc[num]\n",
    "                        break\n",
    "    return df"
   ],
   "metadata": {
    "collapsed": false,
    "pycharm": {
     "name": "#%%\n"
    }
   }
  },
  {
   "cell_type": "code",
   "execution_count": 3,
   "outputs": [
    {
     "data": {
      "text/plain": "                                                  name         category  \\\n56                              Carbon dioxide, fossil  Emission to air   \n45                              Carbon dioxide, fossil  Emission to air   \n164                             Carbon dioxide, fossil  Emission to air   \n69                              Carbon dioxide, fossil  Emission to air   \n19                              Carbon dioxide, fossil  Emission to air   \n..                                                 ...              ...   \n189                                Sulfur hexafluoride  Emission to air   \n79                                 Sulfur hexafluoride  Emission to air   \n44                                 Sulfur hexafluoride  Emission to air   \n3                                  Sulfur hexafluoride  Emission to air   \n199  VOC, volatile organic compounds, unspecified o...  Emission to air   \n\n                                subCategory       meanValue  \n56                              unspecified             1.0  \n45                   low population density             1.0  \n164       low population density, long-term             1.0  \n69   lower stratosphere + upper troposphere             1.0  \n19                  high population density             1.0  \n..                                      ...             ...  \n189  lower stratosphere + upper troposphere  23506.81999316  \n79        low population density, long-term  23506.81999316  \n44                   low population density  23506.81999316  \n3                               unspecified  23506.81999316  \n199                             unspecified             4.5  \n\n[211 rows x 4 columns]",
      "text/html": "<div>\n<style scoped>\n    .dataframe tbody tr th:only-of-type {\n        vertical-align: middle;\n    }\n\n    .dataframe tbody tr th {\n        vertical-align: top;\n    }\n\n    .dataframe thead th {\n        text-align: right;\n    }\n</style>\n<table border=\"1\" class=\"dataframe\">\n  <thead>\n    <tr style=\"text-align: right;\">\n      <th></th>\n      <th>name</th>\n      <th>category</th>\n      <th>subCategory</th>\n      <th>meanValue</th>\n    </tr>\n  </thead>\n  <tbody>\n    <tr>\n      <th>56</th>\n      <td>Carbon dioxide, fossil</td>\n      <td>Emission to air</td>\n      <td>unspecified</td>\n      <td>1.0</td>\n    </tr>\n    <tr>\n      <th>45</th>\n      <td>Carbon dioxide, fossil</td>\n      <td>Emission to air</td>\n      <td>low population density</td>\n      <td>1.0</td>\n    </tr>\n    <tr>\n      <th>164</th>\n      <td>Carbon dioxide, fossil</td>\n      <td>Emission to air</td>\n      <td>low population density, long-term</td>\n      <td>1.0</td>\n    </tr>\n    <tr>\n      <th>69</th>\n      <td>Carbon dioxide, fossil</td>\n      <td>Emission to air</td>\n      <td>lower stratosphere + upper troposphere</td>\n      <td>1.0</td>\n    </tr>\n    <tr>\n      <th>19</th>\n      <td>Carbon dioxide, fossil</td>\n      <td>Emission to air</td>\n      <td>high population density</td>\n      <td>1.0</td>\n    </tr>\n    <tr>\n      <th>...</th>\n      <td>...</td>\n      <td>...</td>\n      <td>...</td>\n      <td>...</td>\n    </tr>\n    <tr>\n      <th>189</th>\n      <td>Sulfur hexafluoride</td>\n      <td>Emission to air</td>\n      <td>lower stratosphere + upper troposphere</td>\n      <td>23506.81999316</td>\n    </tr>\n    <tr>\n      <th>79</th>\n      <td>Sulfur hexafluoride</td>\n      <td>Emission to air</td>\n      <td>low population density, long-term</td>\n      <td>23506.81999316</td>\n    </tr>\n    <tr>\n      <th>44</th>\n      <td>Sulfur hexafluoride</td>\n      <td>Emission to air</td>\n      <td>low population density</td>\n      <td>23506.81999316</td>\n    </tr>\n    <tr>\n      <th>3</th>\n      <td>Sulfur hexafluoride</td>\n      <td>Emission to air</td>\n      <td>unspecified</td>\n      <td>23506.81999316</td>\n    </tr>\n    <tr>\n      <th>199</th>\n      <td>VOC, volatile organic compounds, unspecified o...</td>\n      <td>Emission to air</td>\n      <td>unspecified</td>\n      <td>4.5</td>\n    </tr>\n  </tbody>\n</table>\n<p>211 rows × 4 columns</p>\n</div>"
     },
     "execution_count": 3,
     "metadata": {},
     "output_type": "execute_result"
    }
   ],
   "source": [
    "# Fetch and display impact factors\n",
    "impacts = read_xml_attributes(impactMethods,['dataset','flowData','exchange'],['name','category','subCategory','meanValue'])\n",
    "impacts.sort_values('name')"
   ],
   "metadata": {
    "collapsed": false,
    "pycharm": {
     "name": "#%%\n"
    }
   }
  },
  {
   "cell_type": "code",
   "execution_count": null,
   "outputs": [],
   "source": [
    "# Load in xml data to dataframe\n",
    "def calculate_co2e(filepath:str, lookup:pd.DataFrame, branches:list=None, attributes:list=None):\n",
    "    \"\"\"This function calculates total CO2e impacts for processes given the outputs and impact factors\\n\n",
    "    Inputs:\\n\n",
    "    filepath - path to process xml file\\n\n",
    "    lookup - dataframe with CO2e values for a unit of output materials\\n\n",
    "    branches - branches for outputs in xml file\\n\n",
    "    attributes - attributes at destination branch in xml file\\n\n",
    "    Output: Float of total CO2e due to process.\\n\n",
    "    Requirements: pandas as pd, read_xml_attributes function\"\"\"\n",
    "    # Defaults\n",
    "    if attributes is None: attributes = ['name', 'category', 'subCategory', 'meanValue']\n",
    "    if branches is None: branches = ['dataset', 'flowData', 'exchange']\n",
    "    # Calculation\n",
    "    product = read_xml_attributes(filepath,branches,attributes)\n",
    "    product = product.rename(columns={attributes[-1]: \"kg\"})\n",
    "    emissions = product.merge(lookup)\n",
    "    return sum(pd.to_numeric(emissions['kg'])*pd.to_numeric(emissions[attributes[-1]]))\n",
    "\n",
    "def import_xml_batch(directory:str,path:list,attributes:list,co2e=False,impacts=False):\n",
    "    \"\"\"This function imports xml data into a pandas dataframe inputs:\\n\n",
    "    directory - directory of xml files\\n\n",
    "    path - location of attributes within xml\\n\n",
    "    attributes - names of attributes/column names\\n\n",
    "    outputs:\\n\n",
    "    df - dataframe of requested attributes\\n\n",
    "    Requirements: os, pandas as pd, xml.etree.ElementTree as ET\"\"\"\n",
    "    file_list = os.listdir(directory)\n",
    "    attributes = to_listlist(attributes)\n",
    "    df = pd.DataFrame([],columns=[j for i in attributes for j in i])\n",
    "    if co2e is not False: df[co2e] = None\n",
    "    for file in tqdm(file_list):\n",
    "        df = read_xml_attributes(os.path.join(directory, file),path,attributes,df)\n",
    "        if co2e is not False: df[co2e].iloc[-1] = calculate_co2e(os.path.join(directory, file), impacts)\n",
    "    return df, file_list\n",
    "\n",
    "processes, _ = import_xml_batch(lcaDataPath,[['dataset','meta','process','reference'],['dataset','meta','process','geo']],[['name','generalComment'],['location']],'CO2e',impacts)"
   ],
   "metadata": {
    "collapsed": false,
    "pycharm": {
     "name": "#%%\n",
     "is_executing": true
    }
   }
  },
  {
   "cell_type": "code",
   "execution_count": 4,
   "outputs": [],
   "source": [
    "# Save or load processes file\n",
    "processes_file = \"C:/Users\\lukec\\OneDrive - University of Cambridge\\Projects\\PhD\\Data\\EcoInvent_B0729\\process_co2e/GWP100a_IPCC2013.csv\"\n",
    "if 'processes' in locals(): processes.sort_values('name').to_csv(processes_file)\n",
    "else: processes = pd.read_csv(processes_file,index_col=0)"
   ],
   "metadata": {
    "collapsed": false,
    "pycharm": {
     "name": "#%%\n"
    }
   }
  },
  {
   "cell_type": "code",
   "execution_count": 5,
   "outputs": [],
   "source": [
    "# Filter dataframe for non market activities\n",
    "production = processes[~ processes['generalComment'].str.contains('market')].sort_values('name')"
   ],
   "metadata": {
    "collapsed": false,
    "pycharm": {
     "name": "#%%\n"
    }
   }
  },
  {
   "cell_type": "code",
   "execution_count": 261,
   "outputs": [],
   "source": [
    "# Default product components\n",
    "product_name=\"Luke's machine\"\n",
    "components = ['gold','barite','copper concentrate, sulfide ore','iron ore concentrate']\n",
    "quantity = [0.01,100,100,90]\n",
    "plot_props = {'style':'white','font_scale':1.5,'cmap':plt.cm.get_cmap('tab10').colors}"
   ],
   "metadata": {
    "collapsed": false,
    "pycharm": {
     "name": "#%%\n"
    }
   }
  },
  {
   "cell_type": "code",
   "execution_count": 270,
   "outputs": [],
   "source": [
    "# Define function to plot footprint distribution according to components\n",
    "sns.set_theme(style=plot_props['style'], font_scale=plot_props['font_scale'])\n",
    "\n",
    "def get_footprint_dist(components:list,quantity:list,data:pd.DataFrame,provenance:list=False,name_col:str='name',plot:bool=True,\n",
    "                       plot_props:dict=None,product_name:str='Product'):\n",
    "    \"\"\"This function outputs the distribution of possible emissions due to a product according to its composition\\n\n",
    "    Inputs:\\n\n",
    "    components - list of product components\\n\n",
    "    quantity - quantity in kg of eah product\\n\n",
    "    data - dataframe containing emissions due to components\\n\n",
    "    name_col - column name for components in dataframe\\n\n",
    "    plot - True outputs distribution plot\\n\n",
    "    Outputs:\\n\n",
    "    emission_dist - dataframe of rows with emissions for each possible pathway\\n\n",
    "    plot - distribution plot with emissions according to each component\"\"\"\n",
    "    # Get database of process emissions according to components\n",
    "    proc_emissions = data.copy()[[i in components for i in data[name_col]]]\n",
    "    if provenance:\n",
    "        proc_emissions = proc_emissions.iloc[np.where(sum([np.logical_and(proc_emissions[name_col]==components[i], [k in prov for k in proc_emissions.location]) if 'Unknown' not in prov else proc_emissions[name_col]==components[i] for i, prov in enumerate(provenance)]))[0]]\n",
    "    proc_emissions.CO2e = proc_emissions.CO2e*[quantity[i] for i in [components.index(i) for i in proc_emissions[name_col]]]\n",
    "\n",
    "    # Find all possible supply chains\n",
    "    num_comps = len(components)\n",
    "    combinations = [proc_emissions[name_col][i] for i in [list(i) for i in list(itertools.combinations(proc_emissions.index, num_comps))]]\n",
    "    chains = [combinations[i] for i in np.where([len(set(i)) == num_comps for i in combinations])[0]]\n",
    "\n",
    "    # Get emissions for all possible supply chains\n",
    "    emission_dist = pd.DataFrame(np.asarray([proc_emissions.loc[i.index].CO2e for i in chains]),columns=np.sort(components))\n",
    "    emission_dist['Total']=emission_dist.sum(axis=1)\n",
    "    if plot:\n",
    "        # Default + update variables\n",
    "        rcps = {'cmap': plt.cm.get_cmap('tab10').colors, 'kind':'kde', 'fill':True, 'cut':0, 'log_scale':[False,True], 'height':7, 'aspect':1.5, 'alpha':0.65, 'title':product_name+' CO2e footprint\\n'+'Mean: '+str(round(emission_dist['Total'].mean(),2))+'t Stdev: '+str(round(emission_dist['Total'].std(),2))+'t','xlabel':'Emissions (t CO2e)', 'ylabel':'Probability'}\n",
    "        if plot_props: rcps.update(plot_props)\n",
    "        # Plot distributions\n",
    "        sns.displot(emission_dist, kind=rcps['kind'], fill=rcps['fill'], hue_order=np.flip(emission_dist.columns), cut=rcps['cut'], log_scale=rcps['log_scale'], height=rcps['height'], aspect=rcps['aspect'], alpha=rcps['alpha'], warn_singular=False).set(title=rcps['title'],xlabel=rcps['xlabel'], ylabel=rcps['ylabel'])\n",
    "        # Plot single lines for collapsed distributions\n",
    "        lines = np.flip([emission_dist[i].unique()[0] if len(emission_dist[i].unique())==1 else 0 for i in emission_dist.columns])\n",
    "        plt.vlines(lines,color=rcps['cmap'][:len(emission_dist.columns)], ymin=0, ymax=1, alpha=[i>0 for i in lines])\n",
    "        plt.show()\n",
    "    return emission_dist"
   ],
   "metadata": {
    "collapsed": false,
    "pycharm": {
     "name": "#%%\n"
    }
   }
  },
  {
   "cell_type": "code",
   "source": [
    "# Define components\n",
    "components_wg = ipw.SelectMultiple(options=production.name.unique(),value=components,rows=10,description='Components', disabled=False)\n",
    "display(components_wg)"
   ],
   "metadata": {
    "collapsed": false,
    "pycharm": {
     "name": "#%%\n"
    }
   },
   "execution_count": 271,
   "outputs": [
    {
     "data": {
      "text/plain": "SelectMultiple(description='Components', index=(13, 0, 7, 19), options=('barite', 'bauxite', 'bulk lead-zinc c…",
      "application/vnd.jupyter.widget-view+json": {
       "version_major": 2,
       "version_minor": 0,
       "model_id": "8be500a64ab14126beabedde1ae6994f"
      }
     },
     "metadata": {},
     "output_type": "display_data"
    }
   ]
  },
  {
   "cell_type": "code",
   "execution_count": 272,
   "outputs": [
    {
     "data": {
      "text/plain": "VBox(children=(HBox(children=(FloatLogSlider(value=0.01, description='gold', min=-3.0, step=0.01), FloatLogSli…",
      "application/vnd.jupyter.widget-view+json": {
       "version_major": 2,
       "version_minor": 0,
       "model_id": "044f6530ce3d46ceaefc7f45008e2908"
      }
     },
     "metadata": {},
     "output_type": "display_data"
    }
   ],
   "source": [
    "# Set quantities and provenance of components\n",
    "quantity_wg = ipw.HBox([ipw.FloatLogSlider(value=quantity[num], description=i, base=10, min=-3, max=4, step=0.01, disabled=False) for num,i in enumerate(list(components_wg.value))])\n",
    "provenance_wg = ipw.HBox([ipw.SelectMultiple(options=['Unknown']+list(production[production.name==j].location.values), description=j, value=['Unknown']) for j in list(components_wg.value)])\n",
    "display(ipw.VBox([quantity_wg,provenance_wg]))"
   ],
   "metadata": {
    "collapsed": false,
    "pycharm": {
     "name": "#%%\n"
    }
   }
  },
  {
   "cell_type": "code",
   "execution_count": 279,
   "outputs": [
    {
     "data": {
      "text/plain": "<Figure size 1043.03x504 with 1 Axes>",
      "image/png": "[encoded data removed]"
     },
     "metadata": {},
     "output_type": "display_data"
    }
   ],
   "source": [
    "# Output footprint distributions for chosen product composition\n",
    "emission_dist = get_footprint_dist(list(components_wg.value),list(map(lambda i: i.value, quantity_wg.children)),production,\n",
    "                       provenance=list(map(lambda i: list(i.value), provenance_wg.children)), product_name=product_name)"
   ],
   "metadata": {
    "collapsed": false,
    "pycharm": {
     "name": "#%%\n"
    }
   }
  },
  {
   "cell_type": "code",
   "execution_count": 224,
   "outputs": [
    {
     "data": {
      "text/plain": "VBox(children=(Button(description='Calculate', style=ButtonStyle()), Output()))",
      "application/vnd.jupyter.widget-view+json": {
       "version_major": 2,
       "version_minor": 0,
       "model_id": "88ed38c6cb2c4b9089ee7992775c6970"
      }
     },
     "metadata": {},
     "output_type": "display_data"
    }
   ],
   "source": [
    "# button = ipw.Button(description='Calculate')#, disabled=False, button_style='success', tooltip='Confirm', icon='check')\n",
    "# out = ipw.Output()\n",
    "# def on_button_clicked(b):\n",
    "#     button.description = 'clicked'\n",
    "#     with out:\n",
    "#         print(1+1)\n",
    "#         # _ = get_footprint_dist(list(components_wg.value),[i.value for i in quantity_wg.children],production,provenance = [j.value for j in provenance_wg.children])\n",
    "# button.on_click(on_button_clicked)\n",
    "# ipw.VBox([button, out])"
   ],
   "metadata": {
    "collapsed": false,
    "pycharm": {
     "name": "#%%\n"
    }
   }
  },
  {
   "cell_type": "code",
   "execution_count": null,
   "outputs": [],
   "source": [
    "# Get data from all files into database"
   ],
   "metadata": {
    "collapsed": false,
    "pycharm": {
     "name": "#%%\n"
    }
   }
  },
  {
   "cell_type": "code",
   "execution_count": null,
   "outputs": [],
   "source": [
    "# Graph it up baby"
   ],
   "metadata": {
    "collapsed": false,
    "pycharm": {
     "name": "#%%\n"
    }
   }
  }
 ],
 "metadata": {
  "kernelspec": {
   "display_name": "Python 3",
   "language": "python",
   "name": "python3"
  },
  "language_info": {
   "codemirror_mode": {
    "name": "ipython",
    "version": 2
   },
   "file_extension": ".py",
   "mimetype": "text/x-python",
   "name": "python",
   "nbconvert_exporter": "python",
   "pygments_lexer": "ipython2",
   "version": "2.7.6"
  }
 },
 "nbformat": 4,
 "nbformat_minor": 0
}