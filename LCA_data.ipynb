{
 "cells": [
  {
   "cell_type": "code",
   "execution_count": 220,
   "outputs": [],
   "source": [
    "# Import packages\n",
    "import pandas as pd\n",
    "import os\n",
    "import xml.etree.ElementTree as ET\n",
    "from tqdm import tqdm\n",
    "\n",
    "# Variable definition\n",
    "lcaDataPath = \"C:/Users\\lukec\\OneDrive - University of Cambridge\\Projects\\PhD\\Data\\EcoInvent_B0729/xml\"\n",
    "impactMethods = \"C:/Users\\lukec\\OneDrive - University of Cambridge\\Projects\\PhD\\Data\\Impact-Methods\\IPCC2013.xml\""
   ],
   "metadata": {
    "collapsed": false,
    "pycharm": {
     "name": "#%%\n"
    }
   }
  },
  {
   "cell_type": "code",
   "execution_count": 211,
   "outputs": [],
   "source": [
    "def to_listlist(inlist:list): return [inlist] if type(inlist[0]) is str else inlist\n",
    "\n",
    "# Read in impact factors\n",
    "def read_xml_attributes(filepath:str,branches:list,attributes:list,df=False):\n",
    "    \"\"\"This function creates a dataframe of attributes within an xml file.\\n\n",
    "    Inputs:\\n\n",
    "    filepath - path to xml file\\n\n",
    "    branches - list of successive branch choices\\n\n",
    "    attributes - attributes to be read from chosen branch\\n\n",
    "    Outputs:\\n\n",
    "    df - pandas dataframe of attributes for each end branch\\n\n",
    "    Requirements: pandas as pd, xml.etree.ElementTree as ET\"\"\"\n",
    "    if df is False: df = pd.DataFrame([],columns=attributes)\n",
    "    tree_loc = ET.parse(filepath).getroot()\n",
    "    branches, attributes = to_listlist(branches), to_listlist(attributes)\n",
    "    attr_values = dict()\n",
    "    for pathnum, path in enumerate(branches):\n",
    "        for branch in path:\n",
    "            for num,val in enumerate([branch in i.tag for i in tree_loc]):\n",
    "                if val:\n",
    "                    if branch is path[-1]:\n",
    "                        attr_values.update(dict(zip(attributes[pathnum],[tree_loc[num].attrib[i] for i in attributes[pathnum]])))\n",
    "                        if path is branches[-1]: df = df.append(attr_values,ignore_index=True)\n",
    "                    else:\n",
    "                        tree_loc=tree_loc[num]\n",
    "                        break\n",
    "    return df"
   ],
   "metadata": {
    "collapsed": false,
    "pycharm": {
     "name": "#%%\n"
    }
   }
  },
  {
   "cell_type": "code",
   "execution_count": 212,
   "outputs": [
    {
     "data": {
      "text/plain": "                                                  name         category  \\\n56                              Carbon dioxide, fossil  Emission to air   \n45                              Carbon dioxide, fossil  Emission to air   \n164                             Carbon dioxide, fossil  Emission to air   \n69                              Carbon dioxide, fossil  Emission to air   \n19                              Carbon dioxide, fossil  Emission to air   \n..                                                 ...              ...   \n189                                Sulfur hexafluoride  Emission to air   \n79                                 Sulfur hexafluoride  Emission to air   \n44                                 Sulfur hexafluoride  Emission to air   \n3                                  Sulfur hexafluoride  Emission to air   \n199  VOC, volatile organic compounds, unspecified o...  Emission to air   \n\n                                subCategory       meanValue  \n56                              unspecified             1.0  \n45                   low population density             1.0  \n164       low population density, long-term             1.0  \n69   lower stratosphere + upper troposphere             1.0  \n19                  high population density             1.0  \n..                                      ...             ...  \n189  lower stratosphere + upper troposphere  23506.81999316  \n79        low population density, long-term  23506.81999316  \n44                   low population density  23506.81999316  \n3                               unspecified  23506.81999316  \n199                             unspecified             4.5  \n\n[211 rows x 4 columns]",
      "text/html": "<div>\n<style scoped>\n    .dataframe tbody tr th:only-of-type {\n        vertical-align: middle;\n    }\n\n    .dataframe tbody tr th {\n        vertical-align: top;\n    }\n\n    .dataframe thead th {\n        text-align: right;\n    }\n</style>\n<table border=\"1\" class=\"dataframe\">\n  <thead>\n    <tr style=\"text-align: right;\">\n      <th></th>\n      <th>name</th>\n      <th>category</th>\n      <th>subCategory</th>\n      <th>meanValue</th>\n    </tr>\n  </thead>\n  <tbody>\n    <tr>\n      <th>56</th>\n      <td>Carbon dioxide, fossil</td>\n      <td>Emission to air</td>\n      <td>unspecified</td>\n      <td>1.0</td>\n    </tr>\n    <tr>\n      <th>45</th>\n      <td>Carbon dioxide, fossil</td>\n      <td>Emission to air</td>\n      <td>low population density</td>\n      <td>1.0</td>\n    </tr>\n    <tr>\n      <th>164</th>\n      <td>Carbon dioxide, fossil</td>\n      <td>Emission to air</td>\n      <td>low population density, long-term</td>\n      <td>1.0</td>\n    </tr>\n    <tr>\n      <th>69</th>\n      <td>Carbon dioxide, fossil</td>\n      <td>Emission to air</td>\n      <td>lower stratosphere + upper troposphere</td>\n      <td>1.0</td>\n    </tr>\n    <tr>\n      <th>19</th>\n      <td>Carbon dioxide, fossil</td>\n      <td>Emission to air</td>\n      <td>high population density</td>\n      <td>1.0</td>\n    </tr>\n    <tr>\n      <th>...</th>\n      <td>...</td>\n      <td>...</td>\n      <td>...</td>\n      <td>...</td>\n    </tr>\n    <tr>\n      <th>189</th>\n      <td>Sulfur hexafluoride</td>\n      <td>Emission to air</td>\n      <td>lower stratosphere + upper troposphere</td>\n      <td>23506.81999316</td>\n    </tr>\n    <tr>\n      <th>79</th>\n      <td>Sulfur hexafluoride</td>\n      <td>Emission to air</td>\n      <td>low population density, long-term</td>\n      <td>23506.81999316</td>\n    </tr>\n    <tr>\n      <th>44</th>\n      <td>Sulfur hexafluoride</td>\n      <td>Emission to air</td>\n      <td>low population density</td>\n      <td>23506.81999316</td>\n    </tr>\n    <tr>\n      <th>3</th>\n      <td>Sulfur hexafluoride</td>\n      <td>Emission to air</td>\n      <td>unspecified</td>\n      <td>23506.81999316</td>\n    </tr>\n    <tr>\n      <th>199</th>\n      <td>VOC, volatile organic compounds, unspecified o...</td>\n      <td>Emission to air</td>\n      <td>unspecified</td>\n      <td>4.5</td>\n    </tr>\n  </tbody>\n</table>\n<p>211 rows × 4 columns</p>\n</div>"
     },
     "execution_count": 212,
     "metadata": {},
     "output_type": "execute_result"
    }
   ],
   "source": [
    "impacts = read_xml_attributes(impactMethods,['dataset','flowData','exchange'],['name','category','subCategory','meanValue'])\n",
    "impacts.sort_values('name')"
   ],
   "metadata": {
    "collapsed": false,
    "pycharm": {
     "name": "#%%\n"
    }
   }
  },
  {
   "cell_type": "code",
   "execution_count": 233,
   "outputs": [
    {
     "name": "stderr",
     "output_type": "stream",
     "text": [
      "100%|██████████| 254/254 [12:06<00:00,  2.86s/it]\n"
     ]
    }
   ],
   "source": [
    "# Load in xml data to dataframe\n",
    "def calculate_co2e(filepath:str,lookup:pd.DataFrame,branches=['dataset','flowData','exchange'],attributes=['name','category','subCategory','meanValue']):\n",
    "    product = read_xml_attributes(filepath,branches,attributes)\n",
    "    product = product.rename(columns={attributes[-1]: \"kg\"})\n",
    "    emissions = product.merge(lookup)\n",
    "    return sum(pd.to_numeric(emissions['kg'])*pd.to_numeric(emissions[attributes[-1]]))\n",
    "\n",
    "def import_xml_batch(directory:str,path:list,attributes:list,co2e=False,impacts=False):\n",
    "    \"\"\"This function imports xml data into a pandas dataframe\n",
    "    inputs:\n",
    "    directory - directory of xml files\n",
    "    path - location of attributes within xml\n",
    "    attributes - names of attributes/column names\n",
    "    outputs:\n",
    "    df - dataframe of requested attributes\n",
    "    Requirements: os, pandas as pd, xml.etree.ElementTree as ET\"\"\"\n",
    "    file_list = os.listdir(directory)\n",
    "    attributes = to_listlist(attributes)\n",
    "    df = pd.DataFrame([],columns=[j for i in attributes for j in i])\n",
    "    if co2e is not False: df[co2e] = None\n",
    "    for file in tqdm(file_list):\n",
    "        df = read_xml_attributes(os.path.join(directory, file),path,attributes,df)\n",
    "        if co2e is not False: df[co2e].iloc[-1] = calculate_co2e(os.path.join(directory, file), impacts)\n",
    "    return df, file_list\n",
    "\n",
    "processes, _ = import_xml_batch(lcaDataPath,[['dataset','meta','process','reference'],['dataset','meta','process','geo']],[['name','generalComment'],['location']],'CO2e',impacts)"
   ],
   "metadata": {
    "collapsed": false,
    "pycharm": {
     "name": "#%%\n"
    }
   }
  },
  {
   "cell_type": "code",
   "execution_count": 234,
   "outputs": [
    {
     "data": {
      "text/plain": "                                name  \\\n241                           barite   \n249                           barite   \n142                          bauxite   \n114       bulk lead-zinc concentrate   \n224  calcium carbonate, precipitated   \n..                               ...   \n51                  zinc concentrate   \n134                 zinc concentrate   \n226            zircon, 50% zirconium   \n108            zircon, 50% zirconium   \n192            zircon, 50% zirconium   \n\n                                        generalComment location      CO2e  \n241  This dataset has been copied from an original ...      RoW  0.031836  \n249  This dataset refers to the production of 1 kg ...       BR  0.020889  \n142  Average moisture content of bauxite is approxi...      GLO  0.012219  \n114  The multi-output \"zinc mine operation\" process...      GLO  0.418987  \n224  For the separation and refining of rare earth ...    CN-SC  3.496398  \n..                                                 ...      ...       ...  \n51   From metal containing ore extraction from the ...    CA-QC  0.463061  \n134  This dataset describes the exploitation, conce...       PE  1.714277  \n226  Heavy mineral sands are a class of ore deposit...       ZA  1.319584  \n108  This dataset refers to the production of 1 kg ...      RoW  0.337368  \n192  This dataset refers to the production of 1 kg ...       AU   0.41054  \n\n[166 rows x 4 columns]",
      "text/html": "<div>\n<style scoped>\n    .dataframe tbody tr th:only-of-type {\n        vertical-align: middle;\n    }\n\n    .dataframe tbody tr th {\n        vertical-align: top;\n    }\n\n    .dataframe thead th {\n        text-align: right;\n    }\n</style>\n<table border=\"1\" class=\"dataframe\">\n  <thead>\n    <tr style=\"text-align: right;\">\n      <th></th>\n      <th>name</th>\n      <th>generalComment</th>\n      <th>location</th>\n      <th>CO2e</th>\n    </tr>\n  </thead>\n  <tbody>\n    <tr>\n      <th>241</th>\n      <td>barite</td>\n      <td>This dataset has been copied from an original ...</td>\n      <td>RoW</td>\n      <td>0.031836</td>\n    </tr>\n    <tr>\n      <th>249</th>\n      <td>barite</td>\n      <td>This dataset refers to the production of 1 kg ...</td>\n      <td>BR</td>\n      <td>0.020889</td>\n    </tr>\n    <tr>\n      <th>142</th>\n      <td>bauxite</td>\n      <td>Average moisture content of bauxite is approxi...</td>\n      <td>GLO</td>\n      <td>0.012219</td>\n    </tr>\n    <tr>\n      <th>114</th>\n      <td>bulk lead-zinc concentrate</td>\n      <td>The multi-output \"zinc mine operation\" process...</td>\n      <td>GLO</td>\n      <td>0.418987</td>\n    </tr>\n    <tr>\n      <th>224</th>\n      <td>calcium carbonate, precipitated</td>\n      <td>For the separation and refining of rare earth ...</td>\n      <td>CN-SC</td>\n      <td>3.496398</td>\n    </tr>\n    <tr>\n      <th>...</th>\n      <td>...</td>\n      <td>...</td>\n      <td>...</td>\n      <td>...</td>\n    </tr>\n    <tr>\n      <th>51</th>\n      <td>zinc concentrate</td>\n      <td>From metal containing ore extraction from the ...</td>\n      <td>CA-QC</td>\n      <td>0.463061</td>\n    </tr>\n    <tr>\n      <th>134</th>\n      <td>zinc concentrate</td>\n      <td>This dataset describes the exploitation, conce...</td>\n      <td>PE</td>\n      <td>1.714277</td>\n    </tr>\n    <tr>\n      <th>226</th>\n      <td>zircon, 50% zirconium</td>\n      <td>Heavy mineral sands are a class of ore deposit...</td>\n      <td>ZA</td>\n      <td>1.319584</td>\n    </tr>\n    <tr>\n      <th>108</th>\n      <td>zircon, 50% zirconium</td>\n      <td>This dataset refers to the production of 1 kg ...</td>\n      <td>RoW</td>\n      <td>0.337368</td>\n    </tr>\n    <tr>\n      <th>192</th>\n      <td>zircon, 50% zirconium</td>\n      <td>This dataset refers to the production of 1 kg ...</td>\n      <td>AU</td>\n      <td>0.41054</td>\n    </tr>\n  </tbody>\n</table>\n<p>166 rows × 4 columns</p>\n</div>"
     },
     "execution_count": 234,
     "metadata": {},
     "output_type": "execute_result"
    }
   ],
   "source": [
    "# Filter dataframe for non market activities\n",
    "processes[~ processes['generalComment'].str.contains('market')].sort_values('name')"
   ],
   "metadata": {
    "collapsed": false,
    "pycharm": {
     "name": "#%%\n"
    }
   }
  },
  {
   "cell_type": "code",
   "execution_count": 236,
   "outputs": [],
   "source": [
    "processes.sort_values('name').to_csv(\"C:/Users\\lukec\\OneDrive - University of Cambridge\\Projects\\PhD\\Data\\EcoInvent_B0729\\process_co2e/GWP100a_IPCC2013.csv\")"
   ],
   "metadata": {
    "collapsed": false,
    "pycharm": {
     "name": "#%%\n"
    }
   }
  },
  {
   "cell_type": "code",
   "execution_count": null,
   "outputs": [],
   "source": [
    "# Display data"
   ],
   "metadata": {
    "collapsed": false,
    "pycharm": {
     "name": "#%%\n"
    }
   }
  },
  {
   "cell_type": "code",
   "execution_count": null,
   "outputs": [],
   "source": [
    "# Get data from all files into database"
   ],
   "metadata": {
    "collapsed": false,
    "pycharm": {
     "name": "#%%\n"
    }
   }
  },
  {
   "cell_type": "code",
   "execution_count": null,
   "outputs": [],
   "source": [
    "# Graph it up baby"
   ],
   "metadata": {
    "collapsed": false,
    "pycharm": {
     "name": "#%%\n"
    }
   }
  }
 ],
 "metadata": {
  "kernelspec": {
   "display_name": "Python 3",
   "language": "python",
   "name": "python3"
  },
  "language_info": {
   "codemirror_mode": {
    "name": "ipython",
    "version": 2
   },
   "file_extension": ".py",
   "mimetype": "text/x-python",
   "name": "python",
   "nbconvert_exporter": "python",
   "pygments_lexer": "ipython2",
   "version": "2.7.6"
  }
 },
 "nbformat": 4,
 "nbformat_minor": 0
}