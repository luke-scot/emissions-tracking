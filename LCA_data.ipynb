{
 "cells": [
  {
   "cell_type": "code",
   "execution_count": 168,
   "outputs": [],
   "source": [
    "# Import packages\n",
    "import pandas as pd\n",
    "import os\n",
    "import xml.etree.ElementTree as ET\n",
    "\n",
    "# Variable definition\n",
    "lcaDataPath = \"C:/Users\\lukec\\OneDrive - University of Cambridge\\Projects\\PhD\\Data\\EcoInvent_B0729/xml\""
   ],
   "metadata": {
    "collapsed": false,
    "pycharm": {
     "name": "#%%\n"
    }
   }
  },
  {
   "cell_type": "code",
   "execution_count": 175,
   "outputs": [],
   "source": [
    "# Load in xml data to dataframe\n",
    "def import_xml_batch(directory,columns,path,attributes):\n",
    "    \"\"\"This function imports xml data into a pandas dataframe\n",
    "    inputs:\n",
    "    filepath - directory of xml files\n",
    "    columns - names of columns for dataframe\n",
    "    attributes - location of column attributes within xml files\n",
    "    outputs:\n",
    "    processes - dataframe of requested attributes\n",
    "    Requirements: os, pandas as pd, xml.etree.ElementTree as ET\"\"\"\n",
    "    file_list = os.listdir(directory)\n",
    "    processes = pd.DataFrame([],columns=[columns])\n",
    "    for file in file_list:\n",
    "        filepath = os.path.join(directory, file)\n",
    "        root = ET.parse(filepath).getroot()\n",
    "        processes = processes.append(dict(zip([j for j in columns],[root[0][0][0][path[i]].attrib[attributes[i]] for i in range(len(columns))])),ignore_index=True)\n",
    "    return processes\n",
    "\n",
    "processes = import_xml_batch(lcaDataPath,['Product','Location','Type'],[0,1,0],['name','location','generalComment'])"
   ],
   "metadata": {
    "collapsed": false,
    "pycharm": {
     "name": "#%%\n"
    }
   }
  },
  {
   "cell_type": "code",
   "execution_count": 77,
   "outputs": [
    {
     "data": {
      "text/plain": "   Product Location                       Type\n0  mercury      GLO  This is a market activity",
      "text/html": "<div>\n<style scoped>\n    .dataframe tbody tr th:only-of-type {\n        vertical-align: middle;\n    }\n\n    .dataframe tbody tr th {\n        vertical-align: top;\n    }\n\n    .dataframe thead th {\n        text-align: right;\n    }\n</style>\n<table border=\"1\" class=\"dataframe\">\n  <thead>\n    <tr style=\"text-align: right;\">\n      <th></th>\n      <th>Product</th>\n      <th>Location</th>\n      <th>Type</th>\n    </tr>\n  </thead>\n  <tbody>\n    <tr>\n      <th>0</th>\n      <td>mercury</td>\n      <td>GLO</td>\n      <td>This is a market activity</td>\n    </tr>\n  </tbody>\n</table>\n</div>"
     },
     "execution_count": 77,
     "metadata": {},
     "output_type": "execute_result"
    }
   ],
   "source": [
    "#result = len(root[0][1].getchildren())\\\n",
    "# count = sum(1 for _ in root[0][1].iter())\n",
    "# count"
   ],
   "metadata": {
    "collapsed": false,
    "pycharm": {
     "name": "#%%\n"
    }
   }
  },
  {
   "cell_type": "code",
   "execution_count": 176,
   "outputs": [
    {
     "data": {
      "text/plain": "    (Product,) (Location,) (Type,) Location  \\\n1          NaN         NaN     NaN      GLO   \n3          NaN         NaN     NaN    CA-QC   \n4          NaN         NaN     NaN       AU   \n7          NaN         NaN     NaN      RoW   \n10         NaN         NaN     NaN       CL   \n..         ...         ...     ...      ...   \n248        NaN         NaN     NaN      RoW   \n249        NaN         NaN     NaN       BR   \n250        NaN         NaN     NaN    CN-FJ   \n252        NaN         NaN     NaN    CN-NM   \n253        NaN         NaN     NaN      GLO   \n\n                                Product  \\\n1       copper concentrate, sulfide ore   \n3                  iron scrap, unsorted   \n4       copper concentrate, sulfide ore   \n7                         holmium oxide   \n10                               silver   \n..                                  ...   \n248     tantalum concentrate, 30% Ta2O5   \n249                              barite   \n250                    gadolinium oxide   \n252  samarium-europium-gadolinium oxide   \n253                             mercury   \n\n                                                  Type  \n1    This dataset represents the joint production o...  \n3    This dataset describes the production of gold ...  \n4    \"For the mining and beneficiation of copper su...  \n7    For the processing of rare earth carbonates (e...  \n10   This dataset describes the joint production of...  \n..                                                 ...  \n248  This dataset refers to the global average mini...  \n249  This dataset refers to the production of 1 kg ...  \n250  For the processing of rare earth carbonates (e...  \n252  This dataset refers to the extraction and refi...  \n253  The functional unit represent 1 kg of liquid m...  \n\n[166 rows x 6 columns]",
      "text/html": "<div>\n<style scoped>\n    .dataframe tbody tr th:only-of-type {\n        vertical-align: middle;\n    }\n\n    .dataframe tbody tr th {\n        vertical-align: top;\n    }\n\n    .dataframe thead th {\n        text-align: right;\n    }\n</style>\n<table border=\"1\" class=\"dataframe\">\n  <thead>\n    <tr style=\"text-align: right;\">\n      <th></th>\n      <th>(Product,)</th>\n      <th>(Location,)</th>\n      <th>(Type,)</th>\n      <th>Location</th>\n      <th>Product</th>\n      <th>Type</th>\n    </tr>\n  </thead>\n  <tbody>\n    <tr>\n      <th>1</th>\n      <td>NaN</td>\n      <td>NaN</td>\n      <td>NaN</td>\n      <td>GLO</td>\n      <td>copper concentrate, sulfide ore</td>\n      <td>This dataset represents the joint production o...</td>\n    </tr>\n    <tr>\n      <th>3</th>\n      <td>NaN</td>\n      <td>NaN</td>\n      <td>NaN</td>\n      <td>CA-QC</td>\n      <td>iron scrap, unsorted</td>\n      <td>This dataset describes the production of gold ...</td>\n    </tr>\n    <tr>\n      <th>4</th>\n      <td>NaN</td>\n      <td>NaN</td>\n      <td>NaN</td>\n      <td>AU</td>\n      <td>copper concentrate, sulfide ore</td>\n      <td>\"For the mining and beneficiation of copper su...</td>\n    </tr>\n    <tr>\n      <th>7</th>\n      <td>NaN</td>\n      <td>NaN</td>\n      <td>NaN</td>\n      <td>RoW</td>\n      <td>holmium oxide</td>\n      <td>For the processing of rare earth carbonates (e...</td>\n    </tr>\n    <tr>\n      <th>10</th>\n      <td>NaN</td>\n      <td>NaN</td>\n      <td>NaN</td>\n      <td>CL</td>\n      <td>silver</td>\n      <td>This dataset describes the joint production of...</td>\n    </tr>\n    <tr>\n      <th>...</th>\n      <td>...</td>\n      <td>...</td>\n      <td>...</td>\n      <td>...</td>\n      <td>...</td>\n      <td>...</td>\n    </tr>\n    <tr>\n      <th>248</th>\n      <td>NaN</td>\n      <td>NaN</td>\n      <td>NaN</td>\n      <td>RoW</td>\n      <td>tantalum concentrate, 30% Ta2O5</td>\n      <td>This dataset refers to the global average mini...</td>\n    </tr>\n    <tr>\n      <th>249</th>\n      <td>NaN</td>\n      <td>NaN</td>\n      <td>NaN</td>\n      <td>BR</td>\n      <td>barite</td>\n      <td>This dataset refers to the production of 1 kg ...</td>\n    </tr>\n    <tr>\n      <th>250</th>\n      <td>NaN</td>\n      <td>NaN</td>\n      <td>NaN</td>\n      <td>CN-FJ</td>\n      <td>gadolinium oxide</td>\n      <td>For the processing of rare earth carbonates (e...</td>\n    </tr>\n    <tr>\n      <th>252</th>\n      <td>NaN</td>\n      <td>NaN</td>\n      <td>NaN</td>\n      <td>CN-NM</td>\n      <td>samarium-europium-gadolinium oxide</td>\n      <td>This dataset refers to the extraction and refi...</td>\n    </tr>\n    <tr>\n      <th>253</th>\n      <td>NaN</td>\n      <td>NaN</td>\n      <td>NaN</td>\n      <td>GLO</td>\n      <td>mercury</td>\n      <td>The functional unit represent 1 kg of liquid m...</td>\n    </tr>\n  </tbody>\n</table>\n<p>166 rows × 6 columns</p>\n</div>"
     },
     "execution_count": 176,
     "metadata": {},
     "output_type": "execute_result"
    }
   ],
   "source": [
    "# Filter dataframe for non market activities\n",
    "processes[~ processes['Type'].str.contains('market')]"
   ],
   "metadata": {
    "collapsed": false,
    "pycharm": {
     "name": "#%%\n"
    }
   }
  },
  {
   "cell_type": "code",
   "execution_count": null,
   "outputs": [],
   "source": [
    "# Display data"
   ],
   "metadata": {
    "collapsed": false,
    "pycharm": {
     "name": "#%%\n"
    }
   }
  },
  {
   "cell_type": "code",
   "execution_count": null,
   "outputs": [],
   "source": [
    "# Get data form all files into database"
   ],
   "metadata": {
    "collapsed": false,
    "pycharm": {
     "name": "#%%\n"
    }
   }
  },
  {
   "cell_type": "code",
   "execution_count": null,
   "outputs": [],
   "source": [
    "# Graph it up baby"
   ],
   "metadata": {
    "collapsed": false,
    "pycharm": {
     "name": "#%%\n"
    }
   }
  }
 ],
 "metadata": {
  "kernelspec": {
   "display_name": "Python 3",
   "language": "python",
   "name": "python3"
  },
  "language_info": {
   "codemirror_mode": {
    "name": "ipython",
    "version": 2
   },
   "file_extension": ".py",
   "mimetype": "text/x-python",
   "name": "python",
   "nbconvert_exporter": "python",
   "pygments_lexer": "ipython2",
   "version": "2.7.6"
  }
 },
 "nbformat": 4,
 "nbformat_minor": 0
}