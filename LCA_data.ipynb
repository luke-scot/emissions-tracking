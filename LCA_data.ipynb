{
 "cells": [
  {
   "cell_type": "code",
   "execution_count": 11,
   "outputs": [],
   "source": [
    "# Import packages\n",
    "import pandas as pd\n",
    "import os\n",
    "import xml.etree.ElementTree as ET\n",
    "\n",
    "# Variable definition\n",
    "lcaDataPath = \"C:/Users\\lukec\\OneDrive - University of Cambridge\\Projects\\PhD\\Data\\EcoInvent_B0729/xml\"\n",
    "impactMethods = \"C:/Users\\lukec\\OneDrive - University of Cambridge\\Projects\\PhD\\Data\\Impact-Methods\\IPCC2013.xml\""
   ],
   "metadata": {
    "collapsed": false,
    "pycharm": {
     "name": "#%%\n"
    }
   }
  },
  {
   "cell_type": "code",
   "execution_count": 9,
   "outputs": [],
   "source": [
    "# Load in xml data to dataframe\n",
    "def import_xml_batch(directory,columns,path,attributes):\n",
    "    \"\"\"This function imports xml data into a pandas dataframe\n",
    "    inputs:\n",
    "    filepath - directory of xml files\n",
    "    columns - names of columns for dataframe\n",
    "    attributes - location of column attributes within xml files\n",
    "    outputs:\n",
    "    df - dataframe of requested attributes\n",
    "    Requirements: os, pandas as pd, xml.etree.ElementTree as ET\"\"\"\n",
    "    file_list = os.listdir(directory)\n",
    "    df = pd.DataFrame([],columns=columns)\n",
    "    for file in file_list:\n",
    "        filepath = os.path.join(directory, file)\n",
    "        root = ET.parse(filepath).getroot()\n",
    "        df = df.append(dict(zip(columns,[root[0][0][0][path[i]].attrib[attributes[i]] for i in range(len(columns))])),ignore_index=True)\n",
    "    return df\n",
    "\n",
    "processes = import_xml_batch(lcaDataPath,['Product','Location','Type'],[0,1,0],['name','location','generalComment'])"
   ],
   "metadata": {
    "collapsed": false,
    "pycharm": {
     "name": "#%%\n"
    }
   }
  },
  {
   "cell_type": "code",
   "execution_count": 77,
   "outputs": [
    {
     "data": {
      "text/plain": "   Product Location                       Type\n0  mercury      GLO  This is a market activity",
      "text/html": "<div>\n<style scoped>\n    .dataframe tbody tr th:only-of-type {\n        vertical-align: middle;\n    }\n\n    .dataframe tbody tr th {\n        vertical-align: top;\n    }\n\n    .dataframe thead th {\n        text-align: right;\n    }\n</style>\n<table border=\"1\" class=\"dataframe\">\n  <thead>\n    <tr style=\"text-align: right;\">\n      <th></th>\n      <th>Product</th>\n      <th>Location</th>\n      <th>Type</th>\n    </tr>\n  </thead>\n  <tbody>\n    <tr>\n      <th>0</th>\n      <td>mercury</td>\n      <td>GLO</td>\n      <td>This is a market activity</td>\n    </tr>\n  </tbody>\n</table>\n</div>"
     },
     "execution_count": 77,
     "metadata": {},
     "output_type": "execute_result"
    }
   ],
   "source": [
    "#result = len(root[0][1].getchildren())\\\n",
    "# count = sum(1 for _ in root[0][1].iter())\n",
    "# count"
   ],
   "metadata": {
    "collapsed": false,
    "pycharm": {
     "name": "#%%\n"
    }
   }
  },
  {
   "cell_type": "code",
   "execution_count": 10,
   "outputs": [
    {
     "data": {
      "text/plain": "                             Product Location  \\\n241                           barite      RoW   \n249                           barite       BR   \n142                          bauxite      GLO   \n114       bulk lead-zinc concentrate      GLO   \n224  calcium carbonate, precipitated    CN-SC   \n..                               ...      ...   \n51                  zinc concentrate    CA-QC   \n134                 zinc concentrate       PE   \n226            zircon, 50% zirconium       ZA   \n108            zircon, 50% zirconium      RoW   \n192            zircon, 50% zirconium       AU   \n\n                                                  Type  \n241  This dataset has been copied from an original ...  \n249  This dataset refers to the production of 1 kg ...  \n142  Average moisture content of bauxite is approxi...  \n114  The multi-output \"zinc mine operation\" process...  \n224  For the separation and refining of rare earth ...  \n..                                                 ...  \n51   From metal containing ore extraction from the ...  \n134  This dataset describes the exploitation, conce...  \n226  Heavy mineral sands are a class of ore deposit...  \n108  This dataset refers to the production of 1 kg ...  \n192  This dataset refers to the production of 1 kg ...  \n\n[166 rows x 3 columns]",
      "text/html": "<div>\n<style scoped>\n    .dataframe tbody tr th:only-of-type {\n        vertical-align: middle;\n    }\n\n    .dataframe tbody tr th {\n        vertical-align: top;\n    }\n\n    .dataframe thead th {\n        text-align: right;\n    }\n</style>\n<table border=\"1\" class=\"dataframe\">\n  <thead>\n    <tr style=\"text-align: right;\">\n      <th></th>\n      <th>Product</th>\n      <th>Location</th>\n      <th>Type</th>\n    </tr>\n  </thead>\n  <tbody>\n    <tr>\n      <th>241</th>\n      <td>barite</td>\n      <td>RoW</td>\n      <td>This dataset has been copied from an original ...</td>\n    </tr>\n    <tr>\n      <th>249</th>\n      <td>barite</td>\n      <td>BR</td>\n      <td>This dataset refers to the production of 1 kg ...</td>\n    </tr>\n    <tr>\n      <th>142</th>\n      <td>bauxite</td>\n      <td>GLO</td>\n      <td>Average moisture content of bauxite is approxi...</td>\n    </tr>\n    <tr>\n      <th>114</th>\n      <td>bulk lead-zinc concentrate</td>\n      <td>GLO</td>\n      <td>The multi-output \"zinc mine operation\" process...</td>\n    </tr>\n    <tr>\n      <th>224</th>\n      <td>calcium carbonate, precipitated</td>\n      <td>CN-SC</td>\n      <td>For the separation and refining of rare earth ...</td>\n    </tr>\n    <tr>\n      <th>...</th>\n      <td>...</td>\n      <td>...</td>\n      <td>...</td>\n    </tr>\n    <tr>\n      <th>51</th>\n      <td>zinc concentrate</td>\n      <td>CA-QC</td>\n      <td>From metal containing ore extraction from the ...</td>\n    </tr>\n    <tr>\n      <th>134</th>\n      <td>zinc concentrate</td>\n      <td>PE</td>\n      <td>This dataset describes the exploitation, conce...</td>\n    </tr>\n    <tr>\n      <th>226</th>\n      <td>zircon, 50% zirconium</td>\n      <td>ZA</td>\n      <td>Heavy mineral sands are a class of ore deposit...</td>\n    </tr>\n    <tr>\n      <th>108</th>\n      <td>zircon, 50% zirconium</td>\n      <td>RoW</td>\n      <td>This dataset refers to the production of 1 kg ...</td>\n    </tr>\n    <tr>\n      <th>192</th>\n      <td>zircon, 50% zirconium</td>\n      <td>AU</td>\n      <td>This dataset refers to the production of 1 kg ...</td>\n    </tr>\n  </tbody>\n</table>\n<p>166 rows × 3 columns</p>\n</div>"
     },
     "execution_count": 10,
     "metadata": {},
     "output_type": "execute_result"
    }
   ],
   "source": [
    "# Filter dataframe for non market activities\n",
    "processes[~ processes['Type'].str.contains('market')].sort_values('Product')"
   ],
   "metadata": {
    "collapsed": false,
    "pycharm": {
     "name": "#%%\n"
    }
   }
  },
  {
   "cell_type": "code",
   "execution_count": 61,
   "outputs": [],
   "source": [
    "# Read in impact factors\n",
    "def read_xml_attributes(filepath,branches,attributes):\n",
    "    df = pd.DataFrame([],columns=attributes)\n",
    "    tree_loc = ET.parse(filepath).getroot()\n",
    "    for branch in branches:\n",
    "        for num,val in enumerate([branch in i.tag for i in tree_loc]):\n",
    "            if val:\n",
    "                if branch is branches[-1]:\n",
    "                    df = df.append(dict(zip(attributes,[tree_loc[num].attrib[i] for i in attributes])),ignore_index=True)\n",
    "                else:\n",
    "                    tree_loc=tree_loc[num]\n",
    "                    break\n",
    "    return df\n",
    "\n",
    "impacts = read_xml_attributes(impactMethods,['dataset','flowData','exchange'],['name','category','subCategory','meanValue'])"
   ],
   "metadata": {
    "collapsed": false,
    "pycharm": {
     "name": "#%%\n"
    }
   }
  },
  {
   "cell_type": "code",
   "execution_count": 62,
   "outputs": [
    {
     "data": {
      "text/plain": "                                                  name         category  \\\n56                              Carbon dioxide, fossil  Emission to air   \n45                              Carbon dioxide, fossil  Emission to air   \n164                             Carbon dioxide, fossil  Emission to air   \n69                              Carbon dioxide, fossil  Emission to air   \n19                              Carbon dioxide, fossil  Emission to air   \n..                                                 ...              ...   \n189                                Sulfur hexafluoride  Emission to air   \n79                                 Sulfur hexafluoride  Emission to air   \n44                                 Sulfur hexafluoride  Emission to air   \n3                                  Sulfur hexafluoride  Emission to air   \n199  VOC, volatile organic compounds, unspecified o...  Emission to air   \n\n                                subCategory       meanValue  \n56                              unspecified             1.0  \n45                   low population density             1.0  \n164       low population density, long-term             1.0  \n69   lower stratosphere + upper troposphere             1.0  \n19                  high population density             1.0  \n..                                      ...             ...  \n189  lower stratosphere + upper troposphere  23506.81999316  \n79        low population density, long-term  23506.81999316  \n44                   low population density  23506.81999316  \n3                               unspecified  23506.81999316  \n199                             unspecified             4.5  \n\n[211 rows x 4 columns]",
      "text/html": "<div>\n<style scoped>\n    .dataframe tbody tr th:only-of-type {\n        vertical-align: middle;\n    }\n\n    .dataframe tbody tr th {\n        vertical-align: top;\n    }\n\n    .dataframe thead th {\n        text-align: right;\n    }\n</style>\n<table border=\"1\" class=\"dataframe\">\n  <thead>\n    <tr style=\"text-align: right;\">\n      <th></th>\n      <th>name</th>\n      <th>category</th>\n      <th>subCategory</th>\n      <th>meanValue</th>\n    </tr>\n  </thead>\n  <tbody>\n    <tr>\n      <th>56</th>\n      <td>Carbon dioxide, fossil</td>\n      <td>Emission to air</td>\n      <td>unspecified</td>\n      <td>1.0</td>\n    </tr>\n    <tr>\n      <th>45</th>\n      <td>Carbon dioxide, fossil</td>\n      <td>Emission to air</td>\n      <td>low population density</td>\n      <td>1.0</td>\n    </tr>\n    <tr>\n      <th>164</th>\n      <td>Carbon dioxide, fossil</td>\n      <td>Emission to air</td>\n      <td>low population density, long-term</td>\n      <td>1.0</td>\n    </tr>\n    <tr>\n      <th>69</th>\n      <td>Carbon dioxide, fossil</td>\n      <td>Emission to air</td>\n      <td>lower stratosphere + upper troposphere</td>\n      <td>1.0</td>\n    </tr>\n    <tr>\n      <th>19</th>\n      <td>Carbon dioxide, fossil</td>\n      <td>Emission to air</td>\n      <td>high population density</td>\n      <td>1.0</td>\n    </tr>\n    <tr>\n      <th>...</th>\n      <td>...</td>\n      <td>...</td>\n      <td>...</td>\n      <td>...</td>\n    </tr>\n    <tr>\n      <th>189</th>\n      <td>Sulfur hexafluoride</td>\n      <td>Emission to air</td>\n      <td>lower stratosphere + upper troposphere</td>\n      <td>23506.81999316</td>\n    </tr>\n    <tr>\n      <th>79</th>\n      <td>Sulfur hexafluoride</td>\n      <td>Emission to air</td>\n      <td>low population density, long-term</td>\n      <td>23506.81999316</td>\n    </tr>\n    <tr>\n      <th>44</th>\n      <td>Sulfur hexafluoride</td>\n      <td>Emission to air</td>\n      <td>low population density</td>\n      <td>23506.81999316</td>\n    </tr>\n    <tr>\n      <th>3</th>\n      <td>Sulfur hexafluoride</td>\n      <td>Emission to air</td>\n      <td>unspecified</td>\n      <td>23506.81999316</td>\n    </tr>\n    <tr>\n      <th>199</th>\n      <td>VOC, volatile organic compounds, unspecified o...</td>\n      <td>Emission to air</td>\n      <td>unspecified</td>\n      <td>4.5</td>\n    </tr>\n  </tbody>\n</table>\n<p>211 rows × 4 columns</p>\n</div>"
     },
     "execution_count": 62,
     "metadata": {},
     "output_type": "execute_result"
    }
   ],
   "source": [
    "impacts.sort_values('name')"
   ],
   "metadata": {
    "collapsed": false,
    "pycharm": {
     "name": "#%%\n"
    }
   }
  },
  {
   "cell_type": "code",
   "execution_count": 60,
   "outputs": [
    {
     "data": {
      "text/plain": "                                                  name         category  \\\n56                              Carbon dioxide, fossil  Emission to air   \n45                              Carbon dioxide, fossil  Emission to air   \n164                             Carbon dioxide, fossil  Emission to air   \n69                              Carbon dioxide, fossil  Emission to air   \n19                              Carbon dioxide, fossil  Emission to air   \n..                                                 ...              ...   \n189                                Sulfur hexafluoride  Emission to air   \n79                                 Sulfur hexafluoride  Emission to air   \n44                                 Sulfur hexafluoride  Emission to air   \n3                                  Sulfur hexafluoride  Emission to air   \n199  VOC, volatile organic compounds, unspecified o...  Emission to air   \n\n                                subCategory       meanValue  \n56                              unspecified             1.0  \n45                   low population density             1.0  \n164       low population density, long-term             1.0  \n69   lower stratosphere + upper troposphere             1.0  \n19                  high population density             1.0  \n..                                      ...             ...  \n189  lower stratosphere + upper troposphere  23506.81999316  \n79        low population density, long-term  23506.81999316  \n44                   low population density  23506.81999316  \n3                               unspecified  23506.81999316  \n199                             unspecified             4.5  \n\n[211 rows x 4 columns]",
      "text/html": "<div>\n<style scoped>\n    .dataframe tbody tr th:only-of-type {\n        vertical-align: middle;\n    }\n\n    .dataframe tbody tr th {\n        vertical-align: top;\n    }\n\n    .dataframe thead th {\n        text-align: right;\n    }\n</style>\n<table border=\"1\" class=\"dataframe\">\n  <thead>\n    <tr style=\"text-align: right;\">\n      <th></th>\n      <th>name</th>\n      <th>category</th>\n      <th>subCategory</th>\n      <th>meanValue</th>\n    </tr>\n  </thead>\n  <tbody>\n    <tr>\n      <th>56</th>\n      <td>Carbon dioxide, fossil</td>\n      <td>Emission to air</td>\n      <td>unspecified</td>\n      <td>1.0</td>\n    </tr>\n    <tr>\n      <th>45</th>\n      <td>Carbon dioxide, fossil</td>\n      <td>Emission to air</td>\n      <td>low population density</td>\n      <td>1.0</td>\n    </tr>\n    <tr>\n      <th>164</th>\n      <td>Carbon dioxide, fossil</td>\n      <td>Emission to air</td>\n      <td>low population density, long-term</td>\n      <td>1.0</td>\n    </tr>\n    <tr>\n      <th>69</th>\n      <td>Carbon dioxide, fossil</td>\n      <td>Emission to air</td>\n      <td>lower stratosphere + upper troposphere</td>\n      <td>1.0</td>\n    </tr>\n    <tr>\n      <th>19</th>\n      <td>Carbon dioxide, fossil</td>\n      <td>Emission to air</td>\n      <td>high population density</td>\n      <td>1.0</td>\n    </tr>\n    <tr>\n      <th>...</th>\n      <td>...</td>\n      <td>...</td>\n      <td>...</td>\n      <td>...</td>\n    </tr>\n    <tr>\n      <th>189</th>\n      <td>Sulfur hexafluoride</td>\n      <td>Emission to air</td>\n      <td>lower stratosphere + upper troposphere</td>\n      <td>23506.81999316</td>\n    </tr>\n    <tr>\n      <th>79</th>\n      <td>Sulfur hexafluoride</td>\n      <td>Emission to air</td>\n      <td>low population density, long-term</td>\n      <td>23506.81999316</td>\n    </tr>\n    <tr>\n      <th>44</th>\n      <td>Sulfur hexafluoride</td>\n      <td>Emission to air</td>\n      <td>low population density</td>\n      <td>23506.81999316</td>\n    </tr>\n    <tr>\n      <th>3</th>\n      <td>Sulfur hexafluoride</td>\n      <td>Emission to air</td>\n      <td>unspecified</td>\n      <td>23506.81999316</td>\n    </tr>\n    <tr>\n      <th>199</th>\n      <td>VOC, volatile organic compounds, unspecified o...</td>\n      <td>Emission to air</td>\n      <td>unspecified</td>\n      <td>4.5</td>\n    </tr>\n  </tbody>\n</table>\n<p>211 rows × 4 columns</p>\n</div>"
     },
     "execution_count": 60,
     "metadata": {},
     "output_type": "execute_result"
    }
   ],
   "source": [],
   "metadata": {
    "collapsed": false,
    "pycharm": {
     "name": "#%%\n"
    }
   }
  },
  {
   "cell_type": "code",
   "execution_count": null,
   "outputs": [],
   "source": [
    "# Display data"
   ],
   "metadata": {
    "collapsed": false,
    "pycharm": {
     "name": "#%%\n"
    }
   }
  },
  {
   "cell_type": "code",
   "execution_count": null,
   "outputs": [],
   "source": [
    "# Get data form all files into database"
   ],
   "metadata": {
    "collapsed": false,
    "pycharm": {
     "name": "#%%\n"
    }
   }
  },
  {
   "cell_type": "code",
   "execution_count": null,
   "outputs": [],
   "source": [
    "# Graph it up baby"
   ],
   "metadata": {
    "collapsed": false,
    "pycharm": {
     "name": "#%%\n"
    }
   }
  }
 ],
 "metadata": {
  "kernelspec": {
   "display_name": "Python 3",
   "language": "python",
   "name": "python3"
  },
  "language_info": {
   "codemirror_mode": {
    "name": "ipython",
    "version": 2
   },
   "file_extension": ".py",
   "mimetype": "text/x-python",
   "name": "python",
   "nbconvert_exporter": "python",
   "pygments_lexer": "ipython2",
   "version": "2.7.6"
  }
 },
 "nbformat": 4,
 "nbformat_minor": 0
}